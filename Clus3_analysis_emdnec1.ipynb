{
 "cells": [
  {
   "cell_type": "code",
   "execution_count": 1,
   "metadata": {},
   "outputs": [],
   "source": [
    "import os\n",
    "# os.environ[\"OMP_NUM_THREADS\"] = \"1\"\n",
    "# os.environ[\"OPENBLAS_NUM_THREADS\"] = \"1\"\n",
    "from pylab import *\n",
    "from pysb.core import *\n",
    "from pysb.bng import *\n",
    "from pysb.integrate import *\n",
    "import matplotlib.pyplot as plt\n",
    "import numpy as np\n",
    "from pysb.util import alias_model_components\n",
    "# from pysb.simulator import CupSodaSimulator\n",
    "from pysb.simulator import ScipyOdeSimulator\n",
    "# from pysb.simulator.bng import B/ngSimulator\n",
    "from necro_uncal_new_updated import model as model100\n",
    "from necro_uncal_new_updated_nec1mod import model as model100n\n",
    "# from necro_uncal_new_10tnf import model as model10\n",
    "# from necro_uncal_new_1tnf import model as model1\n",
    "# from necro_uncal_new_01tnf import model as model01\n",
    "import pandas as pd\n",
    "# alias_model_components(model100, model10, model1, model01)\n",
    "from scipy import stats\n",
    "from pysb.simulator import SimulationResult\n",
    "import seaborn as sns"
   ]
  },
  {
   "cell_type": "code",
   "execution_count": null,
   "metadata": {},
   "outputs": [],
   "source": [
    "for i,p in enumerate(model100.parameters):\n",
    "    print(i,\":\",p)"
   ]
  },
  {
   "cell_type": "code",
   "execution_count": null,
   "metadata": {},
   "outputs": [],
   "source": [
    "for i,n in enumerate(model100n.parameters):\n",
    "    print(i,\":\",n)"
   ]
  },
  {
   "cell_type": "code",
   "execution_count": null,
   "metadata": {},
   "outputs": [],
   "source": [
    "for i,r in enumerate(model100.rules):\n",
    "    print(i,\":\",r)"
   ]
  },
  {
   "cell_type": "code",
   "execution_count": null,
   "metadata": {},
   "outputs": [],
   "source": [
    "model100.observables"
   ]
  },
  {
   "cell_type": "code",
   "execution_count": null,
   "metadata": {},
   "outputs": [],
   "source": [
    "for i,l in enumerate(np.linspace(0,1800,500)):\n",
    "    print(i,\":\",l)"
   ]
  },
  {
   "cell_type": "code",
   "execution_count": null,
   "metadata": {},
   "outputs": [],
   "source": [
    "sim_idx_to_keep01ee"
   ]
  },
  {
   "cell_type": "code",
   "execution_count": null,
   "metadata": {},
   "outputs": [],
   "source": [
    "clus0_100.shape"
   ]
  },
  {
   "cell_type": "code",
   "execution_count": null,
   "metadata": {},
   "outputs": [],
   "source": [
    "clus0_nec1 = clus0_100[:, :14]"
   ]
  },
  {
   "cell_type": "code",
   "execution_count": null,
   "metadata": {},
   "outputs": [],
   "source": [
    "clus0_nec1[0,13]"
   ]
  },
  {
   "cell_type": "code",
   "execution_count": null,
   "metadata": {},
   "outputs": [],
   "source": [
    "nec1_vals1 = np.full((1, 1), 5000)\n",
    "# print(nec1_vals)\n",
    "clus0_nec1 = np.concatenate((clus0_nec1, nec1_vals), axis=0)"
   ]
  },
  {
   "cell_type": "code",
   "execution_count": 27,
   "metadata": {},
   "outputs": [],
   "source": [
    "clus0_100 = np.load('necro_pars10k_cluster0_5720_mod.npy')\n",
    "clus1_100 = np.load('necro_pars10k_cluster1_5720_mod.npy')\n",
    "clus2_100 = np.load('necro_pars10k_cluster2_5720_mod.npy')\n",
    "clus3_100 = np.load('necro_pars10k_cluster3_5720_mod.npy')"
   ]
  },
  {
   "cell_type": "code",
   "execution_count": 3,
   "metadata": {},
   "outputs": [],
   "source": [
    "clus3_100e = np.load('necro_pars10k_cluster31_5720_modsplit.npy')\n",
    "clus3_100m = np.load('necro_pars10k_cluster32_5720_modsplit.npy')\n",
    "clus3_100d = np.load('necro_pars10k_cluster33_5720_modsplit.npy')"
   ]
  },
  {
   "cell_type": "code",
   "execution_count": null,
   "metadata": {},
   "outputs": [],
   "source": [
    "clus0_100enec = array([2.32600000e+03, 4.80000000e+03, 4.69600000e+03, 4.00000000e+04,\n",
    "       1.17760000e+04, 9.00000000e+03, 9.00000000e+03, 9.00000000e+03,\n",
    "       3.10900000e+03, 3.90000000e+03, 7.22600000e+03, 3.79900000e+03,\n",
    "       1.06540000e+04, 5.54400000e+03, 5000, 7.11428740e-07, 2.58449795e-04,\n",
    "       2.10947471e-05, 1.63743749e-01, 2.55179807e-01, 8.63377376e-01,\n",
    "       7.96767102e-03, 2.46741032e-01, 3.60247659e-03, 4.21121113e-04,\n",
    "       2.74856284e-02, 3.79545764e-02, 5.18587916e-02, 4.11328207e-03,\n",
    "       3.04337496e-05, 6.63619776e-03, 4.33274483e+03, 3.04337496e-05,\n",
    "       2.95535273e-01, 1.01594925e-03, 3.65691851e+01, 2.71216152e+02,\n",
    "       6.07284470e-05, 1.06898756e-02, 7.40154000e-01, 1.34588984e-07,\n",
    "       4.02366119e-03, 6.42334962e+02, 1.62777662e-01, 7.79487992e-04,\n",
    "       3.51505821e-05, 2.81842509e-06, 5.58175234e+00, 3.64026350e-03,\n",
    "       7.68148988e-03, 2.73300229e-03, 4.379e-04, 4.46971206e-05, 2.07514397e-02,\n",
    "       1.18969879e-01, 2.29646915e+01])"
   ]
  },
  {
   "cell_type": "code",
   "execution_count": null,
   "metadata": {},
   "outputs": [],
   "source": [
    "clus0_100mnec = array([2.32600000e+03, 4.80000000e+03, 4.69600000e+03, 4.00000000e+04,\n",
    "       1.17760000e+04, 9.00000000e+03, 9.00000000e+03, 9.00000000e+03,\n",
    "       3.10900000e+03, 3.90000000e+03, 7.22600000e+03, 3.79900000e+03,\n",
    "       1.06540000e+04, 5.54400000e+03, 5000, 2.38450667e-07, 7.18285980e-06,\n",
    "       5.19155997e-04, 3.55166868e-03, 7.02172989e+00, 7.37329664e+00,\n",
    "       3.40951916e-07, 6.68177794e+02, 2.48975113e-03, 5.94405653e+00,\n",
    "       3.90968536e-01, 6.51286827e-04, 3.05815348e-01, 1.12540903e-04,\n",
    "       9.90514661e-02, 7.91575875e-05, 1.16817752e+06, 9.90514661e-02,\n",
    "       1.73738850e-01, 6.94176201e-01, 8.86566096e+03, 7.30509572e+01,\n",
    "       9.75427760e+00, 2.21480318e-03, 1.10018761e+00, 5.23113930e-07,\n",
    "       4.36850497e-03, 5.92276146e+02, 5.33846690e-06, 3.82556182e+01,\n",
    "       5.62999244e-03, 1.33974392e-02, 2.75458652e+02, 2.52296979e-01,\n",
    "       1.05223817e-03, 2.39576232e-04, 1.38927e-02, 1.01432667e-03, 3.98102609e-01,\n",
    "       1.46361109e-01, 1.62869281e+02])"
   ]
  },
  {
   "cell_type": "code",
   "execution_count": null,
   "metadata": {},
   "outputs": [],
   "source": [
    "clus0_100dnec = array([2.32600000e+03, 4.80000000e+03, 4.69600000e+03, 4.00000000e+04,\n",
    "       1.17760000e+04, 9.00000000e+03, 9.00000000e+03, 9.00000000e+03,\n",
    "       3.10900000e+03, 3.90000000e+03, 7.22600000e+03, 3.79900000e+03,\n",
    "       1.06540000e+04, 5.54400000e+03, 5000, 2.76648488e-06, 1.02349753e-04,\n",
    "       1.34976206e-03, 2.41578608e-04, 1.57625597e+00, 4.14058422e+02,\n",
    "       6.96020599e-02, 2.09239655e+01, 1.40832877e-04, 1.03684189e+01,\n",
    "       4.36418261e+01, 3.36151152e-01, 1.71650941e-05, 7.91124716e-05,\n",
    "       2.41190209e+01, 2.54528528e-04, 6.93808434e+00, 2.41190209e+01,\n",
    "       6.60143476e-04, 2.25296587e-04, 3.75053366e+03, 1.78920299e-02,\n",
    "       9.48398736e-05, 1.01001982e-03, 7.05427329e-02, 5.65796279e-06,\n",
    "       1.26118225e-05, 2.29695728e+00, 5.81872772e+00, 1.83548787e-02,\n",
    "       4.58079764e-06, 7.70179357e-03, 9.12516744e+01, 2.69870821e+01,\n",
    "       3.52153163e-04, 2.57747712e-04, 3e-05, 9.18261892e-06, 1.20258217e+00,\n",
    "       4.53375519e-01, 3.26500525e+02])"
   ]
  },
  {
   "cell_type": "code",
   "execution_count": null,
   "metadata": {},
   "outputs": [],
   "source": [
    "clus0_100[0]"
   ]
  },
  {
   "cell_type": "code",
   "execution_count": null,
   "metadata": {},
   "outputs": [],
   "source": [
    "clus1_100[0]"
   ]
  },
  {
   "cell_type": "code",
   "execution_count": null,
   "metadata": {},
   "outputs": [],
   "source": [
    "clus2_100[0]"
   ]
  },
  {
   "cell_type": "code",
   "execution_count": null,
   "metadata": {},
   "outputs": [],
   "source": [
    "clus3_100[0]"
   ]
  },
  {
   "cell_type": "code",
   "execution_count": null,
   "metadata": {},
   "outputs": [],
   "source": [
    "Observable('R1dbR3_obs', RIP1(bscf = None, bub1 = None, bub2 = None, bub3 = None, bDD=None, btraf=None, bMLKL = None, bRHIM = 5, state = 'deub')% RIP3(bRHIM=5, bDD = None, state='unmod'))\n",
    "Observable('R1dbR3p_obs', RIP1(bscf = None, bub1 = None, bub2 = None, bub3 = None, bDD=None, btraf=None, bMLKL = None, bRHIM = 5, state = 'deub')% RIP3(bRHIM=5, bDD = None, state='po4'))\n",
    "Observable('R1pR3p_obs', RIP1(bscf = None, bub1 = None, bub2 = None, bub3 = None, bDD=None, btraf=None, bMLKL = None, bRHIM = 5, state = 'po4')% RIP3(bRHIM=5, bDD = None, state='po4'))\n",
    "Observable('R1pR3pM_obs',RIP1(bscf = None, bub1 = None, bub2 = None, bub3 = None, bDD=None, btraf=None, bMLKL = None, bRHIM = 5, state = 'po4')% RIP3(bRHIM=5, bDD = 1, state='po4') % MLKL(bRHIM=1, state='unmod'))"
   ]
  },
  {
   "cell_type": "code",
   "execution_count": 2,
   "metadata": {},
   "outputs": [],
   "source": [
    "m = model100.components\n",
    "mn = model100n.components\n",
    "t = np.linspace(0,1800,500)"
   ]
  },
  {
   "cell_type": "code",
   "execution_count": 8,
   "metadata": {},
   "outputs": [
    {
     "name": "stderr",
     "output_type": "stream",
     "text": [
      "2021-05-18 12:03:34.235 - pysb.simulator.scipyode - DEBUG - [necro_uncal_new_updated] Simulator created\n",
      "2021-05-18 12:03:34.248 - pysb.simulator.scipyode - DEBUG - [necro_uncal_new_updated] Equation mode set to \"cython\"\n",
      "2021-05-18 12:03:34.319 - pysb.simulator.scipyode - INFO - [necro_uncal_new_updated] Simulation(s) started\n",
      "2021-05-18 12:03:34.378 - pysb.simulator.scipyode - DEBUG - [necro_uncal_new_updated] Multi-processor (parallel) mode using 20 processes\n",
      "2021-05-18 12:03:34.610 - pysb.simulator.scipyode - INFO - [necro_uncal_new_updated] All simulation(s) complete\n",
      "2021-05-18 12:03:34.612 - pysb.simulator.scipyode - DEBUG - [necro_uncal_new_updated] SimulationResult constructor started\n",
      "2021-05-18 12:03:34.665 - pysb.simulator.scipyode - DEBUG - [necro_uncal_new_updated] SimulationResult constructor finished\n"
     ]
    }
   ],
   "source": [
    "solverwt0n = ScipyOdeSimulator(model100, tspan=t, verbose = True)\n",
    "wtclus0n = solverwt0n.run(param_values=clus3_100e[40], num_processors = 20)\n",
    "# wtclus0n = solverwt0n.run(initials = {m.RIP3(bRHIM=None, bDD = None, state='unmod'):106540},\n",
    "#                                       param_values=clus0_100e[13], num_processors = 20)\n",
    "c3e = wtclus0n.dataframe"
   ]
  },
  {
   "cell_type": "code",
   "execution_count": 9,
   "metadata": {},
   "outputs": [
    {
     "name": "stderr",
     "output_type": "stream",
     "text": [
      "2021-05-18 12:03:34.678 - pysb.simulator.scipyode - DEBUG - [necro_uncal_new_updated] Simulator created\n",
      "2021-05-18 12:03:34.689 - pysb.simulator.scipyode - DEBUG - [necro_uncal_new_updated] Equation mode set to \"cython\"\n",
      "2021-05-18 12:03:34.758 - pysb.simulator.scipyode - INFO - [necro_uncal_new_updated] Simulation(s) started\n",
      "2021-05-18 12:03:34.819 - pysb.simulator.scipyode - DEBUG - [necro_uncal_new_updated] Multi-processor (parallel) mode using 20 processes\n",
      "2021-05-18 12:03:35.099 - pysb.simulator.scipyode - INFO - [necro_uncal_new_updated] All simulation(s) complete\n",
      "2021-05-18 12:03:35.100 - pysb.simulator.scipyode - DEBUG - [necro_uncal_new_updated] SimulationResult constructor started\n",
      "2021-05-18 12:03:35.173 - pysb.simulator.scipyode - DEBUG - [necro_uncal_new_updated] SimulationResult constructor finished\n"
     ]
    }
   ],
   "source": [
    "solverwt0n = ScipyOdeSimulator(model100, tspan=t, verbose = True)\n",
    "wtclus0n = solverwt0n.run(param_values=clus3_100m[27], num_processors = 20)\n",
    "# wtclus0n = solverwt0n.run(initials = {m.RIP3(bRHIM=None, bDD = None, state='unmod'):106540},\n",
    "#                           param_values=clus0_100m[21], num_processors = 20)\n",
    "c3m= wtclus0n.dataframe"
   ]
  },
  {
   "cell_type": "code",
   "execution_count": 10,
   "metadata": {},
   "outputs": [
    {
     "name": "stderr",
     "output_type": "stream",
     "text": [
      "2021-05-18 12:03:35.188 - pysb.simulator.scipyode - DEBUG - [necro_uncal_new_updated] Simulator created\n",
      "2021-05-18 12:03:35.196 - pysb.simulator.scipyode - DEBUG - [necro_uncal_new_updated] Equation mode set to \"cython\"\n",
      "2021-05-18 12:03:35.244 - pysb.simulator.scipyode - INFO - [necro_uncal_new_updated] Simulation(s) started\n",
      "2021-05-18 12:03:35.292 - pysb.simulator.scipyode - DEBUG - [necro_uncal_new_updated] Multi-processor (parallel) mode using 20 processes\n",
      "2021-05-18 12:03:35.526 - pysb.simulator.scipyode - INFO - [necro_uncal_new_updated] All simulation(s) complete\n",
      "2021-05-18 12:03:35.528 - pysb.simulator.scipyode - DEBUG - [necro_uncal_new_updated] SimulationResult constructor started\n",
      "2021-05-18 12:03:35.585 - pysb.simulator.scipyode - DEBUG - [necro_uncal_new_updated] SimulationResult constructor finished\n"
     ]
    }
   ],
   "source": [
    "solverwt0n = ScipyOdeSimulator(model100, tspan=t, verbose = True)\n",
    "wtclus0n = solverwt0n.run(param_values=clus3_100d[30], num_processors = 20)\n",
    "# wtclus0n = solverwt0n.run(initials = {m.RIP3(bRHIM=None, bDD = None, state='unmod'):106540},\n",
    "#                           param_values=clus0_100d[116], num_processors = 20)\n",
    "c3d = wtclus0n.dataframe"
   ]
  },
  {
   "cell_type": "code",
   "execution_count": 11,
   "metadata": {},
   "outputs": [
    {
     "data": {
      "image/png": "[encoded data removed]",
      "text/plain": [
       "<Figure size 432x288 with 1 Axes>"
      ]
     },
     "metadata": {
      "needs_background": "light"
     },
     "output_type": "display_data"
    }
   ],
   "source": [
    "plt.figure()\n",
    "plt.plot(t/60, c3e['MLKLa_obs']/5544, color = 'green', alpha = 0.5)\n",
    "plt.plot(t/60, c3m['MLKLa_obs']/5544, color = 'blue', alpha = 0.5)\n",
    "plt.plot(t/60, c3d['MLKLa_obs']/5544, color = 'red', alpha = 0.5)\n",
    "\n",
    "# plt.plot(t/60, c0nece['MLKLa_obs']/5544, color = 'blue', alpha = 0.5)\n",
    "plt.xlim(xmin = 0, xmax = 30)\n",
    "plt.ylim(ymax = 1.01)\n",
    "# plt.legend(['WT', 'WT_delay'], prop={'size': 10}, loc = 'upper left')\n",
    "plt.xticks(fontsize=14)\n",
    "plt.yticks(fontsize=14)\n",
    "plt.xlabel('Time (hours)', fontsize=14)\n",
    "plt.ylabel('Amount pMLKL Cluster 0', fontsize=14)\n",
    "# plt.grid(True)\n",
    "# plt.savefig('figs/Cluster0/pmlkl_100tnf_clus0_5720_WTfast_w48dwnratemod.pdf')\n",
    "plt.grid(False)\n",
    "# plt.savefig('figs/Cluster0/pmlkl_100tnf_clus0_5720_WTdelay_w33upratemodnogridnew.pdf')\n",
    "plt.show() "
   ]
  },
  {
   "cell_type": "code",
   "execution_count": null,
   "metadata": {},
   "outputs": [],
   "source": [
    "plt.figure()\n",
    "plt.plot(t/60, c0e['MLKLa_obs']/5544, color = 'green', alpha = 0.5)\n",
    "plt.plot(t/60, c0m['MLKLa_obs']/5544, color = 'blue', alpha = 0.5)\n",
    "plt.plot(t/60, c0d['MLKLa_obs']/5544, color = 'red', alpha = 0.5)\n",
    "\n",
    "# plt.plot(t/60, c0nece['MLKLa_obs']/5544, color = 'blue', alpha = 0.5)\n",
    "plt.xlim(xmin = 0, xmax = 30)\n",
    "plt.ylim(ymax = 1.01)\n",
    "# plt.legend(['WT', 'WT_delay'], prop={'size': 10}, loc = 'upper left')\n",
    "plt.xticks(fontsize=14)\n",
    "plt.yticks(fontsize=14)\n",
    "plt.xlabel('Time (hours)', fontsize=14)\n",
    "plt.ylabel('Amount pMLKL Cluster 0', fontsize=14)\n",
    "# plt.grid(True)\n",
    "# plt.savefig('figs/Cluster0/pmlkl_100tnf_clus0_5720_WTfast_w48dwnratemod.pdf')\n",
    "plt.grid(False)\n",
    "# plt.savefig('figs/Cluster0/pmlkl_100tnf_clus0_5720_WTdelay_w33upratemodnogridnew.pdf')\n",
    "plt.show() "
   ]
  },
  {
   "cell_type": "code",
   "execution_count": null,
   "metadata": {},
   "outputs": [],
   "source": []
  },
  {
   "cell_type": "code",
   "execution_count": null,
   "metadata": {},
   "outputs": [],
   "source": [
    "solverwt0n = ScipyOdeSimulator(model100n, tspan=t, verbose = True)\n",
    "wtclus0n = solverwt0n.run(param_values=clus0_100enec, num_processors = 20)\n",
    "c0nece = wtclus0n.dataframe"
   ]
  },
  {
   "cell_type": "code",
   "execution_count": null,
   "metadata": {},
   "outputs": [],
   "source": [
    "solverwt0n = ScipyOdeSimulator(model100n, tspan=t, verbose = True)\n",
    "wtclus0n = solverwt0n.run(param_values=clus0_100enec, num_processors = 20)\n",
    "c0necm = wtclus0n.dataframe"
   ]
  },
  {
   "cell_type": "code",
   "execution_count": null,
   "metadata": {},
   "outputs": [],
   "source": [
    "solverwt0n = ScipyOdeSimulator(model100n, tspan=t, verbose = True)\n",
    "wtclus0n = solverwt0n.run(param_values=clus0_100enec, num_processors = 20)\n",
    "c0necd = wtclus0n.dataframe"
   ]
  },
  {
   "cell_type": "code",
   "execution_count": null,
   "metadata": {},
   "outputs": [],
   "source": [
    "plt.figure()\n",
    "plt.plot(t/60, c0e['R1pR3pM_obs']/c0nece['R1pR3pM_obs'].max(), color = 'green', alpha = 0.5)\n",
    "plt.plot(t/60, c0e['MLKLa_obs']/5544, color = 'green', alpha = 0.5)\n",
    "plt.plot(t/60, c0nece['R1pR3pM_obs']/c0nece['R1pR3pM_obs'].max(), color = 'red', alpha = 0.5)\n",
    "plt.plot(t/60, c0nece['MLKLa_obs']/5544, color = 'red', alpha = 0.5)\n",
    "plt.xlim(xmin = 0, xmax = 30)\n",
    "# plt.ylim(ymax = 1.01)\n",
    "# plt.legend(['WT', 'WT_delay'], prop={'size': 10}, loc = 'upper left')\n",
    "plt.xticks(fontsize=14)\n",
    "plt.yticks(fontsize=14)\n",
    "plt.xlabel('Time (hours)', fontsize=14)\n",
    "plt.ylabel('Amount pMLKL Cluster 0', fontsize=14)\n",
    "# plt.grid(True)\n",
    "# plt.savefig('figs/Cluster0/pmlkl_100tnf_clus0_5720_WTfast_w48dwnratemod.pdf')\n",
    "plt.grid(False)\n",
    "# plt.savefig('figs/Cluster0/pmlkl_100tnf_clus0_5720_WTdelay_w33upratemodnogridnew.pdf')\n",
    "plt.show() "
   ]
  },
  {
   "cell_type": "code",
   "execution_count": null,
   "metadata": {},
   "outputs": [],
   "source": [
    "plt.figure()\n",
    "plt.plot(t/60, c0m['R1pR3pM_obs']/c0nece['R1pR3pM_obs'].max(), color = 'green', alpha = 0.5)\n",
    "plt.plot(t/60, c0m['MLKLa_obs']/5544, color = 'green', alpha = 0.5)\n",
    "plt.plot(t/60, c0necm['R1pR3pM_obs']/c0nece['R1pR3pM_obs'].max(), color = 'red', alpha = 0.5)\n",
    "plt.plot(t/60, c0necm['MLKLa_obs']/5544, color = 'red', alpha = 0.5)\n",
    "plt.xlim(xmin = 0, xmax = 30)\n",
    "# plt.ylim(ymax = 1.01)\n",
    "plt.legend(['WT', 'WT_delay'], prop={'size': 10}, loc = 'upper left')\n",
    "plt.xticks(fontsize=14)\n",
    "plt.yticks(fontsize=14)\n",
    "plt.xlabel('Time (hours)', fontsize=14)\n",
    "plt.ylabel('Amount pMLKL Cluster 0', fontsize=14)\n",
    "# plt.grid(True)\n",
    "# plt.savefig('figs/Cluster0/pmlkl_100tnf_clus0_5720_WTfast_w48dwnratemod.pdf')\n",
    "plt.grid(False)\n",
    "# plt.savefig('figs/Cluster0/pmlkl_100tnf_clus0_5720_WTdelay_w33upratemodnogridnew.pdf')\n",
    "plt.show() "
   ]
  },
  {
   "cell_type": "code",
   "execution_count": null,
   "metadata": {},
   "outputs": [],
   "source": [
    "plt.figure()\n",
    "plt.plot(t/60, c0m['MLKLa_obs']/5544, color = 'blue', alpha = 0.5)\n",
    "plt.plot(t/60, c0necm['MLKLa_obs']/5544, color = 'red', alpha = 0.5)\n",
    "plt.xlim(xmin = 0, xmax = 30)\n",
    "plt.ylim(ymax = 1.01)\n",
    "plt.legend(['WT', 'WT_delay'], prop={'size': 10}, loc = 'upper left')\n",
    "plt.xticks(fontsize=14)\n",
    "plt.yticks(fontsize=14)\n",
    "plt.xlabel('Time (hours)', fontsize=14)\n",
    "plt.ylabel('Amount pMLKL Cluster 0', fontsize=14)\n",
    "# plt.grid(True)\n",
    "# plt.savefig('figs/Cluster0/pmlkl_100tnf_clus0_5720_WTfast_w48dwnratemod.pdf')\n",
    "plt.grid(False)\n",
    "# plt.savefig('figs/Cluster0/pmlkl_100tnf_clus0_5720_WTdelay_w33upratemodnogridnew.pdf')\n",
    "plt.show() \n",
    "plt.show() "
   ]
  },
  {
   "cell_type": "code",
   "execution_count": null,
   "metadata": {},
   "outputs": [],
   "source": [
    "plt.figure()\n",
    "plt.plot(t/60, c0d['R1pR3pM_obs']/c0nece['R1pR3pM_obs'].max(), color = 'green', alpha = 0.5)\n",
    "plt.plot(t/60, c0d['MLKLa_obs']/5544, color = 'green', alpha = 0.5)\n",
    "plt.plot(t/60, c0necd['R1pR3pM_obs']/c0nece['R1pR3pM_obs'].max(), color = 'red', alpha = 0.5)\n",
    "plt.plot(t/60, c0necd['MLKLa_obs']/5544, color = 'red', alpha = 0.5)\n",
    "plt.xlim(xmin = 0, xmax = 30)\n",
    "plt.ylim(ymax = 1.01)\n",
    "plt.legend(['WT', 'WT_delay'], prop={'size': 10}, loc = 'upper left')\n",
    "plt.xticks(fontsize=14)\n",
    "plt.yticks(fontsize=14)\n",
    "plt.xlabel('Time (hours)', fontsize=14)\n",
    "plt.ylabel('Amount pMLKL Cluster 0', fontsize=14)\n",
    "# plt.grid(True)\n",
    "# plt.savefig('figs/Cluster0/pmlkl_100tnf_clus0_5720_WTfast_w48dwnratemod.pdf')\n",
    "plt.grid(False)\n",
    "# plt.savefig('figs/Cluster0/pmlkl_100tnf_clus0_5720_WTdelay_w33upratemodnogridnew.pdf')\n",
    "plt.show() \n",
    "plt.show() "
   ]
  },
  {
   "cell_type": "code",
   "execution_count": null,
   "metadata": {},
   "outputs": [],
   "source": []
  },
  {
   "cell_type": "code",
   "execution_count": null,
   "metadata": {},
   "outputs": [],
   "source": []
  },
  {
   "cell_type": "code",
   "execution_count": null,
   "metadata": {},
   "outputs": [],
   "source": []
  },
  {
   "cell_type": "code",
   "execution_count": 12,
   "metadata": {
    "scrolled": true
   },
   "outputs": [
    {
     "name": "stderr",
     "output_type": "stream",
     "text": [
      "2021-05-18 12:04:24.654 - pysb.simulator.scipyode - DEBUG - [necro_uncal_new_updated] Simulator created\n",
      "2021-05-18 12:04:24.666 - pysb.simulator.scipyode - DEBUG - [necro_uncal_new_updated] Equation mode set to \"cython\"\n",
      "2021-05-18 12:04:24.738 - pysb.simulator.scipyode - INFO - [necro_uncal_new_updated] Simulation(s) started\n",
      "2021-05-18 12:04:24.802 - pysb.simulator.scipyode - DEBUG - [necro_uncal_new_updated] Multi-processor (parallel) mode using 20 processes\n",
      "2021-05-18 12:04:25.038 - pysb.simulator.scipyode - INFO - [necro_uncal_new_updated] All simulation(s) complete\n",
      "2021-05-18 12:04:25.039 - pysb.simulator.scipyode - DEBUG - [necro_uncal_new_updated] SimulationResult constructor started\n",
      "2021-05-18 12:04:25.093 - pysb.simulator.scipyode - DEBUG - [necro_uncal_new_updated] SimulationResult constructor finished\n"
     ]
    }
   ],
   "source": [
    "solverwt0n = ScipyOdeSimulator(model100, tspan=t, verbose = True)\n",
    "# wtclus0n = solverwt0n.run(param_values=clus0_100e[13], num_processors = 20)\n",
    "wtclus0n = solverwt0n.run(initials = {m.TRADD(brec=None, brip=None, state='unmod', bDD1 = None, bDD2 = None):1408},\n",
    "                                      param_values=clus3_100e[40], num_processors = 20)\n",
    "c3etd = wtclus0n.dataframe"
   ]
  },
  {
   "cell_type": "code",
   "execution_count": 13,
   "metadata": {},
   "outputs": [
    {
     "name": "stderr",
     "output_type": "stream",
     "text": [
      "2021-05-18 12:04:25.129 - pysb.simulator.scipyode - DEBUG - [necro_uncal_new_updated] Simulator created\n",
      "2021-05-18 12:04:25.136 - pysb.simulator.scipyode - DEBUG - [necro_uncal_new_updated] Equation mode set to \"cython\"\n",
      "2021-05-18 12:04:25.177 - pysb.simulator.scipyode - INFO - [necro_uncal_new_updated] Simulation(s) started\n",
      "2021-05-18 12:04:25.221 - pysb.simulator.scipyode - DEBUG - [necro_uncal_new_updated] Multi-processor (parallel) mode using 20 processes\n",
      "2021-05-18 12:04:25.481 - pysb.simulator.scipyode - INFO - [necro_uncal_new_updated] All simulation(s) complete\n",
      "2021-05-18 12:04:25.483 - pysb.simulator.scipyode - DEBUG - [necro_uncal_new_updated] SimulationResult constructor started\n",
      "2021-05-18 12:04:25.550 - pysb.simulator.scipyode - DEBUG - [necro_uncal_new_updated] SimulationResult constructor finished\n"
     ]
    }
   ],
   "source": [
    "solverwt0n = ScipyOdeSimulator(model100, tspan=t, verbose = True)\n",
    "# wtclus0n = solverwt0n.run(param_values=clus0_100m[21], num_processors = 20)\n",
    "wtclus0n = solverwt0n.run(initials = {m.TRADD(brec=None, brip=None, state='unmod', bDD1 = None, bDD2 = None):1408},\n",
    "                          param_values=clus3_100m[27], num_processors = 20)\n",
    "c3mtd = wtclus0n.dataframe"
   ]
  },
  {
   "cell_type": "code",
   "execution_count": 14,
   "metadata": {},
   "outputs": [
    {
     "name": "stderr",
     "output_type": "stream",
     "text": [
      "2021-05-18 12:04:25.566 - pysb.simulator.scipyode - DEBUG - [necro_uncal_new_updated] Simulator created\n",
      "2021-05-18 12:04:25.574 - pysb.simulator.scipyode - DEBUG - [necro_uncal_new_updated] Equation mode set to \"cython\"\n",
      "2021-05-18 12:04:25.615 - pysb.simulator.scipyode - INFO - [necro_uncal_new_updated] Simulation(s) started\n",
      "2021-05-18 12:04:25.657 - pysb.simulator.scipyode - DEBUG - [necro_uncal_new_updated] Multi-processor (parallel) mode using 20 processes\n",
      "2021-05-18 12:04:25.912 - pysb.simulator.scipyode - INFO - [necro_uncal_new_updated] All simulation(s) complete\n",
      "2021-05-18 12:04:25.913 - pysb.simulator.scipyode - DEBUG - [necro_uncal_new_updated] SimulationResult constructor started\n",
      "2021-05-18 12:04:25.973 - pysb.simulator.scipyode - DEBUG - [necro_uncal_new_updated] SimulationResult constructor finished\n"
     ]
    }
   ],
   "source": [
    "solverwt0n = ScipyOdeSimulator(model100, tspan=t, verbose = True)\n",
    "# wtclus0n = solverwt0n.run(param_values=clus0_100d[116], num_processors = 20)\n",
    "wtclus0n = solverwt0n.run(initials = {m.TRADD(brec=None, brip=None, state='unmod', bDD1 = None, bDD2 = None):1408},\n",
    "                          param_values=clus3_100d[30], num_processors = 20)\n",
    "c3dtd = wtclus0n.dataframe"
   ]
  },
  {
   "cell_type": "code",
   "execution_count": 43,
   "metadata": {},
   "outputs": [
    {
     "data": {
      "image/png": "[encoded data removed]",
      "text/plain": [
       "<Figure size 576x432 with 1 Axes>"
      ]
     },
     "metadata": {
      "needs_background": "light"
     },
     "output_type": "display_data"
    }
   ],
   "source": [
    "plt.figure(figsize = (8, 6))\n",
    "plt.plot(t/60, c3e['MLKLa_obs']/5544,lw=4, color = 'lightskyblue', label = 'WT', zorder = 2, alpha = 5, linestyle = ':')\n",
    "plt.plot(t/60, c3etd['MLKLa_obs']/5544, lw=4,color = 'lightskyblue', label = 'WT', zorder = 1, alpha = 5, linestyle = '-.')\n",
    "\n",
    "plt.plot(t/60, c3m['MLKLa_obs']/5544,lw=6, color = 'royalblue', label = 'WT', zorder = 2, alpha = 5, linestyle = ':')\n",
    "plt.plot(t/60, c3mtd['MLKLa_obs']/5544, lw=4,color = 'royalblue', label = 'WT', zorder = 1, alpha = 5, linestyle = '-.')\n",
    "\n",
    "plt.plot(t/60, c3d['MLKLa_obs']/5544,lw=4, color = 'navy', label = 'WT', zorder = 2, alpha = 5, linestyle = ':')\n",
    "plt.plot(t/60, c3dtd['MLKLa_obs']/5544, lw=4,color = 'navy', label = 'WT', zorder = 1, alpha = 5, linestyle = '-.')\n",
    "\n",
    "# plt.plot(t/60, c0nece['MLKLa_obs']/5544, color = 'blue', alpha = 0.5)\n",
    "plt.xlim(xmin = 0, xmax = 30)\n",
    "plt.ylim(ymax = 1.01)\n",
    "plt.legend(['WT_early','TDKD_early', 'WT_int','TDKD_int', 'WT_delay',  'TDKD_delay'], prop={'size': 8}, loc = 'upper left')\n",
    "plt.xticks(fontsize=14)\n",
    "plt.yticks(fontsize=14)\n",
    "plt.xlabel('Time (hours)', fontsize=18)\n",
    "plt.ylabel('Amount pMLKL Cluster 3', fontsize=17)\n",
    "plt.grid(False)\n",
    "# plt.savefig('figs/Cluster0/pmlkl_100tnf_clus0_5720_WTdelay_w33upratemodnogridnew.pdf')\n",
    "plt.show() "
   ]
  },
  {
   "cell_type": "code",
   "execution_count": null,
   "metadata": {},
   "outputs": [],
   "source": []
  },
  {
   "cell_type": "code",
   "execution_count": 29,
   "metadata": {},
   "outputs": [
    {
     "name": "stderr",
     "output_type": "stream",
     "text": [
      "2021-05-18 12:44:49.428 - pysb.simulator.scipyode - DEBUG - [necro_uncal_new_updated] Simulator created\n",
      "2021-05-18 12:44:49.439 - pysb.simulator.scipyode - DEBUG - [necro_uncal_new_updated] Equation mode set to \"cython\"\n",
      "2021-05-18 12:44:49.509 - pysb.simulator.scipyode - INFO - [necro_uncal_new_updated] Simulation(s) started\n",
      "2021-05-18 12:44:49.570 - pysb.simulator.scipyode - DEBUG - [necro_uncal_new_updated] Multi-processor (parallel) mode using 20 processes\n",
      "2021-05-18 12:44:49.798 - pysb.simulator.scipyode - INFO - [necro_uncal_new_updated] All simulation(s) complete\n",
      "2021-05-18 12:44:49.800 - pysb.simulator.scipyode - DEBUG - [necro_uncal_new_updated] SimulationResult constructor started\n",
      "2021-05-18 12:44:49.871 - pysb.simulator.scipyode - DEBUG - [necro_uncal_new_updated] SimulationResult constructor finished\n"
     ]
    }
   ],
   "source": [
    "solverwt0n = ScipyOdeSimulator(model100, tspan=t, verbose = True)\n",
    "# wtclus0n = solverwt0n.run(param_values=clus0_100e[13], num_processors = 20)\n",
    "wtclus0n = solverwt0n.run(param_values=clus1_100[17], num_processors = 20)\n",
    "c1 = wtclus0n.dataframe"
   ]
  },
  {
   "cell_type": "code",
   "execution_count": 30,
   "metadata": {
    "scrolled": true
   },
   "outputs": [
    {
     "name": "stderr",
     "output_type": "stream",
     "text": [
      "2021-05-18 12:44:50.366 - pysb.simulator.scipyode - DEBUG - [necro_uncal_new_updated] Simulator created\n",
      "2021-05-18 12:44:50.377 - pysb.simulator.scipyode - DEBUG - [necro_uncal_new_updated] Equation mode set to \"cython\"\n",
      "2021-05-18 12:44:50.446 - pysb.simulator.scipyode - INFO - [necro_uncal_new_updated] Simulation(s) started\n",
      "2021-05-18 12:44:50.509 - pysb.simulator.scipyode - DEBUG - [necro_uncal_new_updated] Multi-processor (parallel) mode using 20 processes\n",
      "2021-05-18 12:44:50.767 - pysb.simulator.scipyode - INFO - [necro_uncal_new_updated] All simulation(s) complete\n",
      "2021-05-18 12:44:50.768 - pysb.simulator.scipyode - DEBUG - [necro_uncal_new_updated] SimulationResult constructor started\n",
      "2021-05-18 12:44:50.830 - pysb.simulator.scipyode - DEBUG - [necro_uncal_new_updated] SimulationResult constructor finished\n"
     ]
    }
   ],
   "source": [
    "solverwt0n = ScipyOdeSimulator(model100, tspan=t, verbose = True)\n",
    "# wtclus0n = solverwt0n.run(param_values=clus0_100e[13], num_processors = 20)\n",
    "wtclus0n = solverwt0n.run(initials = {m.TRADD(brec=None, brip=None, state='unmod', bDD1 = None, bDD2 = None):1408},\n",
    "                                      param_values=clus1_100[17], num_processors = 20)\n",
    "c1td = wtclus0n.dataframe"
   ]
  },
  {
   "cell_type": "code",
   "execution_count": 31,
   "metadata": {},
   "outputs": [
    {
     "name": "stderr",
     "output_type": "stream",
     "text": [
      "2021-05-18 12:44:51.225 - pysb.simulator.scipyode - DEBUG - [necro_uncal_new_updated] Simulator created\n",
      "2021-05-18 12:44:51.236 - pysb.simulator.scipyode - DEBUG - [necro_uncal_new_updated] Equation mode set to \"cython\"\n",
      "2021-05-18 12:44:51.305 - pysb.simulator.scipyode - INFO - [necro_uncal_new_updated] Simulation(s) started\n",
      "2021-05-18 12:44:51.366 - pysb.simulator.scipyode - DEBUG - [necro_uncal_new_updated] Multi-processor (parallel) mode using 20 processes\n",
      "2021-05-18 12:44:51.605 - pysb.simulator.scipyode - INFO - [necro_uncal_new_updated] All simulation(s) complete\n",
      "2021-05-18 12:44:51.607 - pysb.simulator.scipyode - DEBUG - [necro_uncal_new_updated] SimulationResult constructor started\n",
      "2021-05-18 12:44:51.678 - pysb.simulator.scipyode - DEBUG - [necro_uncal_new_updated] SimulationResult constructor finished\n"
     ]
    }
   ],
   "source": [
    "solverwt0n = ScipyOdeSimulator(model100, tspan=t, verbose = True)\n",
    "# wtclus0n = solverwt0n.run(param_values=clus0_100m[21], num_processors = 20)\n",
    "wtclus0n = solverwt0n.run(param_values=clus2_100[27], num_processors = 20)\n",
    "c2 = wtclus0n.dataframe"
   ]
  },
  {
   "cell_type": "code",
   "execution_count": 32,
   "metadata": {},
   "outputs": [
    {
     "name": "stderr",
     "output_type": "stream",
     "text": [
      "2021-05-18 12:44:52.038 - pysb.simulator.scipyode - DEBUG - [necro_uncal_new_updated] Simulator created\n",
      "2021-05-18 12:44:52.050 - pysb.simulator.scipyode - DEBUG - [necro_uncal_new_updated] Equation mode set to \"cython\"\n",
      "2021-05-18 12:44:52.119 - pysb.simulator.scipyode - INFO - [necro_uncal_new_updated] Simulation(s) started\n",
      "2021-05-18 12:44:52.182 - pysb.simulator.scipyode - DEBUG - [necro_uncal_new_updated] Multi-processor (parallel) mode using 20 processes\n",
      "2021-05-18 12:44:52.411 - pysb.simulator.scipyode - INFO - [necro_uncal_new_updated] All simulation(s) complete\n",
      "2021-05-18 12:44:52.413 - pysb.simulator.scipyode - DEBUG - [necro_uncal_new_updated] SimulationResult constructor started\n",
      "2021-05-18 12:44:52.484 - pysb.simulator.scipyode - DEBUG - [necro_uncal_new_updated] SimulationResult constructor finished\n"
     ]
    }
   ],
   "source": [
    "solverwt0n = ScipyOdeSimulator(model100, tspan=t, verbose = True)\n",
    "# wtclus0n = solverwt0n.run(param_values=clus0_100m[21], num_processors = 20)\n",
    "wtclus0n = solverwt0n.run(initials = {m.TRADD(brec=None, brip=None, state='unmod', bDD1 = None, bDD2 = None):1408},\n",
    "                          param_values=clus2_100[27], num_processors = 20)\n",
    "c2td = wtclus0n.dataframe"
   ]
  },
  {
   "cell_type": "code",
   "execution_count": 61,
   "metadata": {},
   "outputs": [
    {
     "data": {
      "image/png": "[encoded data removed]",
      "text/plain": [
       "<Figure size 576x432 with 1 Axes>"
      ]
     },
     "metadata": {
      "needs_background": "light"
     },
     "output_type": "display_data"
    }
   ],
   "source": [
    "plt.figure(figsize = (8, 6))\n",
    "plt.plot(t/60, c1['MLKLa_obs']/5544,lw=4, color = 'mediumpurple', label = 'WT', zorder = 2, alpha = 5, linestyle = ':')\n",
    "plt.plot(t/60, c1td['MLKLa_obs']/5544,lw=4, color = 'mediumpurple', label = 'WT', zorder = 1, alpha = 5, linestyle = '-.')\n",
    "plt.plot(t/60, c2['MLKLa_obs']/5544,lw=5, color = 'mediumaquamarine', label = 'WT', zorder = 2, alpha = 5, linestyle = ':')\n",
    "plt.plot(t/60, c2td['MLKLa_obs']/5544, lw=4,color = 'mediumaquamarine', label = 'WT', zorder = 1, alpha = 5, linestyle = '-.')\n",
    "\n",
    "# plt.plot(t/60, c0nece['MLKLa_obs']/5544, color = 'blue', alpha = 0.5)\n",
    "plt.xlim(xmin = 0, xmax = 30)\n",
    "plt.ylim(ymax = 1.01)\n",
    "plt.legend(['WT_1','TDKD_1', 'WT_2', 'TDKD_2'], prop={'size': 8}, loc = 'upper left')\n",
    "plt.xticks(fontsize=14)\n",
    "plt.yticks(fontsize=14)\n",
    "plt.xlabel('Time (hours)', fontsize=18)\n",
    "plt.ylabel('Amount pMLKL Cluster 1 & 2', fontsize=17)\n",
    "plt.grid(False)\n",
    "# plt.savefig('figs/Cluster0/pmlkl_100tnf_clus0_5720_WTdelay_w33upratemodnogridnew.pdf')\n",
    "plt.show() "
   ]
  },
  {
   "cell_type": "code",
   "execution_count": null,
   "metadata": {},
   "outputs": [],
   "source": []
  },
  {
   "cell_type": "code",
   "execution_count": null,
   "metadata": {},
   "outputs": [],
   "source": []
  },
  {
   "cell_type": "code",
   "execution_count": null,
   "metadata": {},
   "outputs": [],
   "source": []
  },
  {
   "cell_type": "code",
   "execution_count": null,
   "metadata": {},
   "outputs": [],
   "source": []
  },
  {
   "cell_type": "code",
   "execution_count": null,
   "metadata": {},
   "outputs": [],
   "source": []
  },
  {
   "cell_type": "code",
   "execution_count": null,
   "metadata": {},
   "outputs": [],
   "source": [
    "solverwt0n = ScipyOdeSimulator(model100, tspan=t, verbose = True)\n",
    "wtclus0n = solverwt0n.run(param_values=clus1_100, num_processors = 20)\n",
    "c1 = wtclus0n.dataframe"
   ]
  },
  {
   "cell_type": "code",
   "execution_count": null,
   "metadata": {},
   "outputs": [],
   "source": [
    "plt.figure()\n",
    "for i in range(len(clus1_100)):\n",
    "    plt.plot(t/60, c1.loc[i]['MLKLa_obs'].iloc[:], color = 'green', alpha = 0.5)\n",
    "#     plt.plot(t/60, c0.loc[i]['C8Flip_obs'].iloc[:], alpha =0.5)\n",
    "# plt.errorbar(x, flipwtko824_10, yerr= 200,fmt='.k',ecolor ='black', alpha = 1, label ='100 ng/ml', zorder = 2)\n",
    "plt.show()  "
   ]
  },
  {
   "cell_type": "code",
   "execution_count": null,
   "metadata": {},
   "outputs": [],
   "source": [
    "solverwt0n = ScipyOdeSimulator(model100, tspan=t, verbose = True)\n",
    "wtclus0n = solverwt0n.run(param_values=clus2_100, num_processors = 20)\n",
    "c2 = wtclus0n.dataframe"
   ]
  },
  {
   "cell_type": "code",
   "execution_count": null,
   "metadata": {},
   "outputs": [],
   "source": [
    "plt.figure()\n",
    "for i in range(len(clus2_100)):\n",
    "    plt.plot(t/60, c2.loc[i]['MLKLa_obs'].iloc[:], color = 'green', alpha = 0.5)\n",
    "#     plt.plot(t/60, c0.loc[i]['C8Flip_obs'].iloc[:], alpha =0.5)\n",
    "# plt.errorbar(x, flipwtko824_10, yerr= 200,fmt='.k',ecolor ='black', alpha = 1, label ='100 ng/ml', zorder = 2)\n",
    "plt.show()  "
   ]
  },
  {
   "cell_type": "code",
   "execution_count": null,
   "metadata": {},
   "outputs": [],
   "source": [
    "solverwt3n = ScipyOdeSimulator(model100, tspan=t, verbose = True)\n",
    "wtclus3n = solverwt3n.run(param_values=clus3_100, num_processors = 20)\n",
    "c3 = wtclus3n.dataframe"
   ]
  },
  {
   "cell_type": "code",
   "execution_count": null,
   "metadata": {},
   "outputs": [],
   "source": [
    "plt.figure()\n",
    "for i in range(len(clus3_100)):\n",
    "    plt.plot(t/60, c3.loc[i]['MLKLa_obs'].iloc[:], color = 'green', alpha = 0.5)\n",
    "#     plt.plot(t/60, c0.loc[i]['C8Flip_obs'].iloc[:], alpha =0.5)\n",
    "# plt.errorbar(x, flipwtko824_10, yerr= 200,fmt='.k',ecolor ='black', alpha = 1, label ='100 ng/ml', zorder = 2)\n",
    "plt.show()  "
   ]
  },
  {
   "cell_type": "code",
   "execution_count": null,
   "metadata": {},
   "outputs": [],
   "source": []
  },
  {
   "cell_type": "code",
   "execution_count": null,
   "metadata": {},
   "outputs": [],
   "source": [
    "m = model100.components"
   ]
  },
  {
   "cell_type": "code",
   "execution_count": null,
   "metadata": {},
   "outputs": [],
   "source": [
    "t = np.linspace(0,3600,500)"
   ]
  },
  {
   "cell_type": "code",
   "execution_count": null,
   "metadata": {},
   "outputs": [],
   "source": [
    "# flipwtko824_0 = [3900, 3900, 3900, 3900] \n",
    "# flipwtko824_01 = [3661, 1094, 3237, 627]\n",
    "# flipwtko824_1 = [3293, 831, 1950, 611]\n",
    "# flipwtko824_10 = [2922, 812, 1092, 576]        \n",
    "# flipwtko824_100 = [2733, 820, 819, 584]   \n",
    "\n",
    "flipwtko824_0 = [3900, 3900, 3900, 3900] \n",
    "flipwtko824_01 = [3661, 1094, 3237, 627]\n",
    "flipwtko824_1 = [3293, 831, 1950, 611]\n",
    "# flipwtko824_10 = [2922, 812, 1092, 576]     \n",
    "flipwtko824_10 = [3293, 1950]\n",
    "flipwtko824_100 = [2733/3900, 820/3900, 819/3900, 584/3900] \n",
    "\n",
    "fliper824_0 = [0, 0, 0, 0] \n",
    "fliker824_01 = [137, 195, 506, 168]\n",
    "fliper824_1 = [123, 80, 509, 109]\n",
    "fliper824_10 = [211, 342]        \n",
    "fliper824_100 = [136/3900, 23/3900, 128/3900, 145/3900]\n",
    "\n",
    "x = [8,24]\n",
    "y = [2733, 820, 819, 584]\n",
    "err = [136, 23, 128, 145]\n",
    "\n",
    "\n",
    "# x1001/60, y1001*5544,\n",
    "#              yerr=[(0, 0.00885691708746097*5544,0.0161886154261265*5544,0.0373005242261882*5544),\n",
    "#              (400,400,400,400)],"
   ]
  },
  {
   "cell_type": "code",
   "execution_count": null,
   "metadata": {},
   "outputs": [],
   "source": [
    "solverwt0n = ScipyOdeSimulator(model100, tspan=t, verbose = True)\n",
    "wtclus0n = solverwt0n.run(initials = {m.FADD(bDD=None, bDED1=None, bDED2=None): 233}, param_values=clus0_100, num_processors = 20)\n",
    "c0 = wtclus0n.dataframe"
   ]
  },
  {
   "cell_type": "code",
   "execution_count": null,
   "metadata": {},
   "outputs": [],
   "source": [
    "plt.figure()\n",
    "for i in range(len(clus0_100)):\n",
    "    plt.plot(t/60, c0.loc[i]['Flip_obs'].iloc[:]-c0.loc[i]['C8Flip_obs'].iloc[:], color = 'green', alpha = 0.5)\n",
    "#     plt.plot(t/60, c0.loc[i]['C8Flip_obs'].iloc[:], alpha =0.5)\n",
    "plt.errorbar(x, flipwtko824_10, yerr= 200,fmt='.k',ecolor ='black', alpha = 1, label ='100 ng/ml', zorder = 2)\n",
    "plt.show()  "
   ]
  },
  {
   "cell_type": "code",
   "execution_count": null,
   "metadata": {},
   "outputs": [],
   "source": [
    "\n",
    "plt.figure()\n",
    "for i in range(len(clus0_100)):\n",
    "    plt.plot(t/60, c0.loc[i]['Flip_obs'].iloc[:]-c0.loc[i]['C8Flip_obs'].iloc[:], color = 'green', alpha = 0.5)\n",
    "#     plt.plot(t/60, c0.loc[i]['C8Flip_obs'].iloc[:], alpha =0.5)\n",
    "plt.errorbar(x, flipwtko824_10, yerr= 200,fmt='.k',ecolor ='black', alpha = 1, label ='100 ng/ml', zorder = 2)\n",
    "plt.show()  "
   ]
  },
  {
   "cell_type": "code",
   "execution_count": null,
   "metadata": {},
   "outputs": [],
   "source": [
    "solverwt0n = ScipyOdeSimulator(model100, tspan=t, verbose = True)\n",
    "wtclus0n = solverwt0n.run(initials = {m.TNF(brec=None): 233},param_values=clus1_100, num_processors = 20)\n",
    "c1 = wtclus0n.dataframe"
   ]
  },
  {
   "cell_type": "code",
   "execution_count": null,
   "metadata": {},
   "outputs": [],
   "source": [
    "plt.figure()\n",
    "for i in range(len(clus1_100)):\n",
    "    plt.plot(c1.loc[i]['Flip_obs'].iloc[:]/3900, color = 'blue')\n",
    "plt.show()  "
   ]
  },
  {
   "cell_type": "code",
   "execution_count": null,
   "metadata": {},
   "outputs": [],
   "source": [
    "solverwt0n = ScipyOdeSimulator(model100, tspan=t, verbose = True)\n",
    "wtclus0n = solverwt0n.run(initials = {m.TNF(brec=None): 233},param_values=clus2_100, num_processors = 20)\n",
    "c2 = wtclus0n.dataframe"
   ]
  },
  {
   "cell_type": "code",
   "execution_count": null,
   "metadata": {},
   "outputs": [],
   "source": [
    "plt.figure()\n",
    "for i in range(len(clus2_100)):\n",
    "    plt.plot(c2.loc[i]['Flip_obs'].iloc[:]/3900, color = 'blue')\n",
    "plt.show()  "
   ]
  },
  {
   "cell_type": "code",
   "execution_count": null,
   "metadata": {},
   "outputs": [],
   "source": [
    "solverwt0n = ScipyOdeSimulator(model100, tspan=t, verbose = True)\n",
    "wtclus0n = solverwt0n.run(initials = {m.TNF(brec=None): 233},param_values=clus3_100, num_processors = 20)\n",
    "c3 = wtclus0n.dataframe"
   ]
  },
  {
   "cell_type": "code",
   "execution_count": null,
   "metadata": {},
   "outputs": [],
   "source": [
    "plt.figure()\n",
    "for i in range(len(clus3_100)):\n",
    "    plt.plot(c3.loc[i]['Flip_obs'].iloc[:]/3900, color = 'blue')\n",
    "plt.show()  "
   ]
  },
  {
   "cell_type": "code",
   "execution_count": null,
   "metadata": {},
   "outputs": [],
   "source": []
  },
  {
   "cell_type": "code",
   "execution_count": null,
   "metadata": {},
   "outputs": [],
   "source": []
  },
  {
   "cell_type": "code",
   "execution_count": null,
   "metadata": {},
   "outputs": [],
   "source": [
    "print(len(clus1_100))"
   ]
  },
  {
   "cell_type": "code",
   "execution_count": null,
   "metadata": {},
   "outputs": [],
   "source": [
    "clus0_100e = np.save('necro_pars10k_cluster01_5720_modsplit.npy',clus0_100[sim_idx_to_keep01][:][:, :])\n",
    "clus0_100m = np.save('necro_pars10k_cluster02_5720_modsplit.npy',clus0_100[sim_idx_to_keep02][:][:, :])\n",
    "clus0_100d = np.save('necro_pars10k_cluster03_5720_modsplit.npy',clus0_100[sim_idx_to_keep03][:][:, :])"
   ]
  },
  {
   "cell_type": "code",
   "execution_count": null,
   "metadata": {},
   "outputs": [],
   "source": [
    "clus3_100e = np.save('necro_pars10k_cluster31_5720_modsplit.npy',clus3_100[sim_idx_to_keep31][:][:, :])\n",
    "clus3_100m = np.save('necro_pars10k_cluster32_5720_modsplit.npy',clus3_100[sim_idx_to_keep32][:][:, :])\n",
    "clus3_100d = np.save('necro_pars10k_cluster33_5720_modsplit.npy',clus3_100[sim_idx_to_keep33][:][:, :])"
   ]
  },
  {
   "cell_type": "code",
   "execution_count": null,
   "metadata": {},
   "outputs": [],
   "source": [
    "clus0_100e = np.load('necro_pars10k_cluster01_5720_modsplit.npy')\n",
    "clus0_100m = np.load('necro_pars10k_cluster02_5720_modsplit.npy')\n",
    "clus0_100d = np.load('necro_pars10k_cluster03_5720_modsplit.npy')"
   ]
  },
  {
   "cell_type": "code",
   "execution_count": null,
   "metadata": {},
   "outputs": [],
   "source": [
    "print(len)"
   ]
  },
  {
   "cell_type": "code",
   "execution_count": null,
   "metadata": {},
   "outputs": [],
   "source": [
    "print(len(clus0_100e))\n",
    "print(len(clus0_100m))\n",
    "print(len(clus0_100d))"
   ]
  },
  {
   "cell_type": "code",
   "execution_count": null,
   "metadata": {},
   "outputs": [],
   "source": [
    "# Initial(TNF(brec=None), TNF_0)\n",
    "# Initial(TNFR(blig=None, brip=None, bDD = None), TNFR_0)\n",
    "# Initial(TRADD(brec=None, brip=None, state='unmod', bDD1 = None, bDD2 = None), TRADD_0)\n",
    "# Initial(RIP1(bscf=None, btraf=None, bub1=None, bub2=None, bub3=None, bDD = None, bRHIM = None, bMLKL = None, state='unmod'), RIP1_0)\n",
    "# Initial(TRAF(brip=None, bciap=None, bcyld = None, state='unmod'), TRAF_0)\n",
    "# Initial(cIAP(btraf=None), cIAP_0)\n",
    "# Initial(MLKL(bRHIM=None, state='unmod'), MLKLa_0)\n",
    "# Initial(A20(brip = None), A20_0)\n",
    "# Initial(CYLD(brip=None, btraf = None), CYLD_0)\n",
    "# Initial(FADD(bDD=None, bDED1=None, bDED2=None), FADD_0)\n",
    "# Initial(RIP3(bRHIM=None, bDD = None, state='unmod'), RIP3_0)\n",
    "# Initial(flip_L(bDED=None, state = 'A'), flip_L_0)\n",
    "# Initial(LUBAC(brip=None), Lubac_0)\n",
    "# Initial(C8(bf=None, flip = None, state='I'), C8_0)"
   ]
  },
  {
   "cell_type": "code",
   "execution_count": null,
   "metadata": {},
   "outputs": [],
   "source": [
    "clus0_100en = np.load('necro_pars10k_cluster0_5720_mod.npy')\n",
    "clus0_100enn = np.load('necro_pars10k_cluster0_5720_mod.npy') \n",
    "clus0_100ennn = np.load('necro_pars10k_cluster0_5720_mod.npy') \n",
    "clus0_100ennnn = np.load('necro_pars10k_cluster0_5720_mod.npy')"
   ]
  },
  {
   "cell_type": "code",
   "execution_count": null,
   "metadata": {},
   "outputs": [],
   "source": [
    "clus0_100dn = np.load('necro_pars10k_cluster03_5720_modsplit.npy')\n",
    "clus0_100dnn = np.load('necro_pars10k_cluster03_5720_modsplit.npy') \n",
    "clus0_100dnnn = np.load('necro_pars10k_cluster03_5720_modsplit.npy')\n",
    "clus0_100dnnnn = np.load('necro_pars10k_cluster03_5720_modsplit.npy')"
   ]
  },
  {
   "cell_type": "code",
   "execution_count": null,
   "metadata": {},
   "outputs": [],
   "source": [
    "g = 23"
   ]
  },
  {
   "cell_type": "code",
   "execution_count": null,
   "metadata": {},
   "outputs": [],
   "source": [
    "p = 32"
   ]
  },
  {
   "cell_type": "code",
   "execution_count": null,
   "metadata": {},
   "outputs": [],
   "source": [
    "a = 46"
   ]
  },
  {
   "cell_type": "code",
   "execution_count": null,
   "metadata": {},
   "outputs": [],
   "source": [
    "clus0_100en[:][:,g] = clus0_100en[:][:,g]*10\n",
    "clus0_100enn[:][:,g] = clus0_100enn[:][:,g]*10\n",
    "clus0_100ennn[:][:,g] = clus0_100ennn[:][:,g]*100\n",
    "clus0_100ennnn[:][:,g] = clus0_100ennnn[:][:,g]*1000"
   ]
  },
  {
   "cell_type": "code",
   "execution_count": null,
   "metadata": {},
   "outputs": [],
   "source": [
    "clus0_100en[:][:,p] = clus0_100en[:][:,p]/10\n",
    "clus0_100enn[:][:,p] = clus0_100enn[:][:,p]/100\n",
    "clus0_100ennn[:][:,p] = clus0_100ennn[:][:,p]/1000\n",
    "clus0_100ennnn[:][:,p] = clus0_100ennnn[:][:,p]/10000"
   ]
  },
  {
   "cell_type": "code",
   "execution_count": null,
   "metadata": {},
   "outputs": [],
   "source": [
    "k =0"
   ]
  },
  {
   "cell_type": "code",
   "execution_count": null,
   "metadata": {},
   "outputs": [],
   "source": [
    "solverwt0n = ScipyOdeSimulator(model100, tspan=t, verbose = True)\n",
    "wtclus0n = solverwt0n.run(param_values=clus0_100[k], num_processors = 20)\n",
    "c0m = wtclus0n.dataframe"
   ]
  },
  {
   "cell_type": "code",
   "execution_count": null,
   "metadata": {},
   "outputs": [],
   "source": [
    "solverwt01n = ScipyOdeSimulator(model100, tspan=t, verbose = True)\n",
    "wtclus01n = solverwt01n.run(param_values=clus0_100[0], num_processors = 10)\n",
    "c0e = wtclus01n.dataframe"
   ]
  },
  {
   "cell_type": "code",
   "execution_count": null,
   "metadata": {},
   "outputs": [],
   "source": [
    "solverwt0 = ScipyOdeSimulator(model100, tspan=tspan, verbose = True)\n",
    "wtclus0 = solverwt0.run(initials = {m.A20(brip = None):0},param_values=clus0_100en[k], num_processors = 10)\n",
    "c0en = wtclus0.dataframe"
   ]
  },
  {
   "cell_type": "code",
   "execution_count": null,
   "metadata": {},
   "outputs": [],
   "source": [
    "solverwt0 = ScipyOdeSimulator(model100, tspan=tspan, verbose = True)\n",
    "wtclus0 = solverwt0.run(initials = {m.A20(brip = None):0},param_values=clus0_100enn[k], num_processors = 10)\n",
    "c0enn = wtclus0.dataframe"
   ]
  },
  {
   "cell_type": "code",
   "execution_count": null,
   "metadata": {},
   "outputs": [],
   "source": [
    "solverwt0 = ScipyOdeSimulator(model100, tspan=tspan, verbose = True)\n",
    "wtclus0 = solverwt0.run(initials = {m.A20(brip = None):0},param_values=clus0_100ennn[k], num_processors = 10)\n",
    "c0ennn = wtclus0.dataframe"
   ]
  },
  {
   "cell_type": "code",
   "execution_count": null,
   "metadata": {},
   "outputs": [],
   "source": [
    "solverwt0 = ScipyOdeSimulator(model100, tspan=tspan, verbose = True)\n",
    "wtclus0 = solverwt0.run(initials = {m.A20(brip = None):0},param_values=clus0_100ennnn[k], num_processors = 10)\n",
    "c0ennnn = wtclus0.dataframe"
   ]
  },
  {
   "cell_type": "code",
   "execution_count": null,
   "metadata": {},
   "outputs": [],
   "source": [
    "plt.figure(figsize = (8, 6))\n",
    "plt.plot(tspan/60, c0m['MLKLa_obs'].iloc[:]/5544,lw=10, color ='indianred', label = 'WT', zorder = 2, alpha = 5, linestyle = ':')\n",
    "plt.plot(tspan/60, c0e['MLKLa_obs'].iloc[:]/5544, lw=7, color ='steelblue', label = 'A20KO', zorder = 1, alpha = 5, linestyle = '--')\n",
    "plt.plot(tspan/60, c0en['MLKLa_obs'].iloc[:]/5544, lw=4, color ='steelblue', zorder = 1, alpha = 5, linestyle = '--')\n",
    "plt.plot(tspan/60, c0enn['MLKLa_obs'].iloc[:]/5544, lw=4, color ='steelblue', zorder = 1, alpha = 5,linestyle = '--')\n",
    "plt.plot(tspan/60, c0ennn['MLKLa_obs'].iloc[:]/5544, lw=4, color ='steelblue',zorder = 1, alpha = 5, linestyle = '--')\n",
    "plt.plot(tspan/60, c0ennnn['MLKLa_obs'].iloc[:]/5544, lw=4, color ='steelblue',zorder = 1, alpha = 5, linestyle = '--')\n",
    "# plt.errorbar(x1001/60, y1001,\n",
    "#              yerr=[(0, 0.00885691708746097,0.0161886154261265,0.0373005242261882),\n",
    "#              (.07,.07,.07,.07)],\n",
    "#                    fmt='.k', ecolor ='black', alpha = 0.75, zorder = 2)\n",
    "# plt.errorbar(x1002/60, y1002,\n",
    "#              yerr= .07, fmt='.k', ecolor ='black', alpha = 0.75, zorder = 2)\n",
    "plt.xlim(xmin = 0, xmax = 30)\n",
    "plt.ylim(ymax = 1.01)\n",
    "# custom_lines = [Line2D([0], [0], color='blue', lw=4),\n",
    "#                Line2D([0], [0], color='blue', lw=4),\n",
    "#                Line2D([0], [0], color='blue', lw=4),\n",
    "#                Line2D([0], [0], color='purple', lw=4),\n",
    "#                 Line2D([0], [0], color='blue', lw=4)]\n",
    "plt.legend(['WT', 'WT_delay'], prop={'size': 12}, loc = 'upper left')\n",
    "plt.xticks(fontsize=14)\n",
    "plt.yticks(fontsize=14)\n",
    "plt.xlabel('Time (hours)', fontsize=18)\n",
    "plt.ylabel('Amount pMLKL Cluster 0', fontsize=17)\n",
    "# plt.grid(True)\n",
    "# plt.savefig('figs/Cluster0/pmlkl_100tnf_clus0_5720_WTfast_w48dwnratemod.pdf')\n",
    "plt.grid(False)\n",
    "# plt.savefig('figs/Cluster0/pmlkl_100tnf_clus0_5720_WTdelay_w33upratemodnogridnew.pdf')\n",
    "plt.show() "
   ]
  },
  {
   "cell_type": "code",
   "execution_count": null,
   "metadata": {},
   "outputs": [],
   "source": [
    "clus0_100dn[:][:,p] = clus0_100dn[:][:,p]/10\n",
    "clus0_100dnn[:][:,p] = clus0_100dnn[:][:,p]/100\n",
    "clus0_100dnnn[:][:,p] = clus0_100dnnn[:][:,p]/1000\n",
    "clus0_100dnnnn[:][:,p] = clus0_100dnnnn[:][:,p]/10000"
   ]
  },
  {
   "cell_type": "code",
   "execution_count": null,
   "metadata": {},
   "outputs": [],
   "source": [
    "clus0_100dn[:][:,g] = clus0_100dn[:][:,g]*10\n",
    "clus0_100dnn[:][:,g] = clus0_100dnn[:][:,g]*100\n",
    "clus0_100dnnn[:][:,g] = clus0_100dnnn[:][:,g]*1000\n",
    "clus0_100dnnnn[:][:,g] = clus0_100dnnnn[:][:,g]*10000"
   ]
  },
  {
   "cell_type": "code",
   "execution_count": null,
   "metadata": {},
   "outputs": [],
   "source": [
    "clus0_100dn[:][:,a] = clus0_100dn[:][:,a]*10\n",
    "clus0_100dnn[:][:,a] = clus0_100dnn[:][:,a]*100\n",
    "clus0_100dnnn[:][:,a] = clus0_100dnnn[:][:,a]*1000\n",
    "clus0_100dnnnn[:][:,a] = clus0_100dnnnn[:][:,a]*10000"
   ]
  },
  {
   "cell_type": "code",
   "execution_count": null,
   "metadata": {},
   "outputs": [],
   "source": [
    "# k = [39, 119, 120, 121, 170]\n",
    "k = 21\n",
    "k1 = 116\n",
    "# t = np.array([0, 30, 90, 270, 480,600, 720, 840, 960])\n",
    "t = np.linspace(0,1800,500)\n",
    "tspan = np.linspace(0,1800,500)\n",
    "m = model100.components"
   ]
  },
  {
   "cell_type": "code",
   "execution_count": null,
   "metadata": {},
   "outputs": [],
   "source": [
    "print(len(clus0_100))"
   ]
  },
  {
   "cell_type": "code",
   "execution_count": null,
   "metadata": {},
   "outputs": [],
   "source": [
    "plt.figure(figsize = (8, 6))\n",
    "plt.plot(tspan/60, c0m['MLKLa_obs'].iloc[:]/5544,lw=10, color ='red', label = 'WT', zorder = 2, alpha = 5, linestyle = ':')\n",
    "plt.plot(tspan/60, c0e['MLKLa_obs'].iloc[:]/5544, lw=7, color ='lightcoral', label = 'A20KO', zorder = 1, alpha = 5, linestyle = '--')\n",
    "plt.plot(tspan/60, c0en['MLKLa_obs'].iloc[:]/5544, lw=4, color ='lightcoral', zorder = 1, alpha = 5, linestyle = '--')\n",
    "plt.plot(tspan/60, c0enn['MLKLa_obs'].iloc[:]/5544, lw=4, color ='lightcoral', zorder = 1, alpha = 5,linestyle = '--')\n",
    "plt.plot(tspan/60, c0ennn['MLKLa_obs'].iloc[:]/5544, lw=4, color ='lightcoral',zorder = 1, alpha = 5, linestyle = '--')\n",
    "# plt.plot(tspan/60, c0ennnn['MLKLa_obs'].iloc[:]/5544, lw=4, color ='lightcoral',zorder = 1, alpha = 5, linestyle = '--')\n",
    "# plt.errorbar(x1001/60, y1001,\n",
    "#              yerr=[(0, 0.00885691708746097,0.0161886154261265,0.0373005242261882),\n",
    "#              (.07,.07,.07,.07)],\n",
    "#                    fmt='.k', ecolor ='black', alpha = 0.75, zorder = 2)\n",
    "# plt.errorbar(x1002/60, y1002,\n",
    "#              yerr= .07, fmt='.k', ecolor ='black', alpha = 0.75, zorder = 2)\n",
    "plt.xlim(xmin = 0, xmax = 30)\n",
    "plt.ylim(ymax = 1.01)\n",
    "# custom_lines = [Line2D([0], [0], color='blue', lw=4),\n",
    "#                Line2D([0], [0], color='blue', lw=4),\n",
    "#                Line2D([0], [0], color='blue', lw=4),\n",
    "#                Line2D([0], [0], color='purple', lw=4),\n",
    "#                 Line2D([0], [0], color='blue', lw=4)]\n",
    "plt.legend(['WT', 'WT_fast'], prop={'size': 12}, loc = 'upper left')\n",
    "plt.xticks(fontsize=14)\n",
    "plt.yticks(fontsize=14)\n",
    "plt.xlabel('Time (hours)', fontsize=18)\n",
    "plt.ylabel('Amount pMLKL Cluster 0', fontsize=17)\n",
    "# plt.grid(True)\n",
    "# plt.savefig('figs/Cluster0/pmlkl_100tnf_clus0_5720_WTfast_w48dwnratemod.pdf')\n",
    "plt.grid(False)\n",
    "# plt.savefig('figs/Cluster0/pmlkl_100tnf_clus0_5720_WTfast_w48dwnratemodnogridnew.pdf')\n",
    "plt.show() "
   ]
  },
  {
   "cell_type": "code",
   "execution_count": null,
   "metadata": {},
   "outputs": [],
   "source": []
  },
  {
   "cell_type": "code",
   "execution_count": null,
   "metadata": {},
   "outputs": [],
   "source": [
    "plt.figure(figsize = (11,7))\n",
    "for n in range(len(clus0_100)):\n",
    "    plt.plot(tspan, c0m.loc[n]['MLKLa_obs'].iloc[:],zorder = 2, alpha = 0.7, color = 'steelblue')\n",
    "plt.show()    "
   ]
  },
  {
   "cell_type": "code",
   "execution_count": null,
   "metadata": {},
   "outputs": [],
   "source": [
    "for i,t in enumerate(tspan):\n",
    "    print(i,t)"
   ]
  },
  {
   "cell_type": "code",
   "execution_count": null,
   "metadata": {},
   "outputs": [],
   "source": [
    "sim_idx_to_keep01newe = [idx for idx in range(len(clus0_100)) if c0m['MLKLa_obs'][idx].iloc[333] < 2772 \n",
    "                        and c0m['MLKLa_obs'][idx].iloc[361] > 2772]\n",
    "sim_idx_to_keep01newe"
   ]
  },
  {
   "cell_type": "code",
   "execution_count": null,
   "metadata": {},
   "outputs": [],
   "source": []
  },
  {
   "cell_type": "code",
   "execution_count": null,
   "metadata": {},
   "outputs": [],
   "source": [
    "solverwt0n = ScipyOdeSimulator(model100, tspan=t, verbose = True)\n",
    "wtclus0n = solverwt0n.run(param_values=clus0_100m, num_processors = 10)\n",
    "c0m = wtclus0n.dataframe"
   ]
  },
  {
   "cell_type": "code",
   "execution_count": null,
   "metadata": {},
   "outputs": [],
   "source": [
    "print(c0m['MLKLa_obs'].iloc[267])"
   ]
  },
  {
   "cell_type": "code",
   "execution_count": null,
   "metadata": {},
   "outputs": [],
   "source": [
    "with open('necro_5720clus0m_paramsk39.txt', 'w') as f:\n",
    "   for p, v in zip(model100.parameters, wtclus0n.param_values[0]):\n",
    "       f.write('{},{:e}\\n'.format(p.name, v))"
   ]
  },
  {
   "cell_type": "code",
   "execution_count": null,
   "metadata": {},
   "outputs": [],
   "source": [
    "solverwt01n = ScipyOdeSimulator(model100, tspan=t, verbose = True)\n",
    "wtclus01n = solverwt01n.run(param_values=clus0_100e, num_processors = 10)\n",
    "c0e = wtclus01n.dataframe"
   ]
  },
  {
   "cell_type": "code",
   "execution_count": null,
   "metadata": {},
   "outputs": [],
   "source": [
    "with open('necro_5720clus0e_paramsk39.txt', 'w') as f:\n",
    "   for p, v in zip(model100.parameters, wtclus01n.param_values[0]):\n",
    "       f.write('{},{:e}\\n'.format(p.name, v))"
   ]
  },
  {
   "cell_type": "code",
   "execution_count": null,
   "metadata": {},
   "outputs": [],
   "source": [
    "solverwt02n = ScipyOdeSimulator(model100, tspan=t, verbose = True)\n",
    "wtclus02n = solverwt02n.run(param_values=clus0_100d, num_processors = 10)\n",
    "c0d = wtclus02n.dataframe"
   ]
  },
  {
   "cell_type": "code",
   "execution_count": null,
   "metadata": {},
   "outputs": [],
   "source": [
    "with open('necro_5720clus0d_paramsk39.txt', 'w') as f:\n",
    "   for p, v in zip(model100.parameters, wtclus02n.param_values[0]):\n",
    "       f.write('{},{:e}\\n'.format(p.name, v))"
   ]
  },
  {
   "cell_type": "code",
   "execution_count": null,
   "metadata": {},
   "outputs": [],
   "source": [
    "plt.figure(figsize = (8, 6))\n",
    "plt.plot(t/60, c0m['MLKLa_obs'].iloc[:]/5544,lw=10, color ='firebrick', label = 'WT', zorder = 2, alpha = 5, linestyle = ':')\n",
    "plt.plot(t/60, c0e['MLKLa_obs'].iloc[:]/5544, lw=7, color ='lightcoral', label = 'A20KO', zorder = 1, alpha = 5, linestyle = '--')\n",
    "plt.plot(t/60, c0d['MLKLa_obs'].iloc[:]/5544, lw=4, color ='darkred', zorder = 1, alpha = 5, linestyle = '--')\n",
    "\n",
    "plt.xlim(xmin = 0, xmax = 30)\n",
    "plt.ylim(ymax = 1.01)\n",
    "plt.legend(['WT', 'WT_fast'], prop={'size': 12}, loc = 'upper left')\n",
    "plt.xticks(fontsize=14)\n",
    "plt.yticks(fontsize=14)\n",
    "plt.xlabel('Time (hours)', fontsize=18)\n",
    "plt.ylabel('Amount pMLKL Cluster 0', fontsize=17)\n",
    "# plt.grid(True)\n",
    "# plt.savefig('figs/Cluster0/pmlkl_100tnf_clus0_5720_WTfast_w48dwnratemod.pdf')\n",
    "plt.grid(False)\n",
    "# plt.savefig('figs/Cluster0/pmlkl_100tnf_clus0_5720_WTfast_w48dwnratemodnogrid.pdf')\n",
    "plt.show() "
   ]
  },
  {
   "cell_type": "code",
   "execution_count": null,
   "metadata": {},
   "outputs": [],
   "source": [
    "plt.figure(figsize = (8, 6))\n",
    "plt.plot(tspan/60, c0m['MLKLa_obs'].iloc[:]/5544,lw=10, color ='firebrick', label = 'WT', zorder = 2, alpha = 5, linestyle = ':')\n",
    "plt.plot(tspan/60, c0e['MLKLa_obs'].iloc[:]/5544, lw=7, color ='lightcoral', label = 'A20KO', zorder = 1, alpha = 5, linestyle = '--')\n",
    "plt.plot(tspan/60, c0d['MLKLa_obs'].iloc[:]/5544, lw=4, color ='darkred', zorder = 1, alpha = 5, linestyle = '--')\n",
    "\n",
    "plt.xlim(xmin = 0, xmax = 30)\n",
    "plt.ylim(ymax = 1.01)\n",
    "plt.legend(['WT', 'WT_fast'], prop={'size': 12}, loc = 'upper left')\n",
    "plt.xticks(fontsize=14)\n",
    "plt.yticks(fontsize=14)\n",
    "plt.xlabel('Time (hours)', fontsize=18)\n",
    "plt.ylabel('Amount pMLKL Cluster 0', fontsize=17)\n",
    "# plt.grid(True)\n",
    "# plt.savefig('figs/Cluster0/pmlkl_100tnf_clus0_5720_WTfast_w48dwnratemod.pdf')\n",
    "plt.grid(False)\n",
    "# plt.savefig('figs/Cluster0/pmlkl_100tnf_clus0_5720_WTfast_w48dwnratemodnogrid.pdf')\n",
    "plt.show() "
   ]
  },
  {
   "cell_type": "code",
   "execution_count": null,
   "metadata": {},
   "outputs": [],
   "source": [
    "tspan = np.linspace(0,1800,500)"
   ]
  },
  {
   "cell_type": "code",
   "execution_count": null,
   "metadata": {},
   "outputs": [],
   "source": [
    "sim_idx_to_keep01newe = [idx for idx in range(len(clus0_100e)) if c0e['MLKLa_obs'][idx].iloc[99] > 2772]\n",
    "sim_idx_to_keep01newe"
   ]
  },
  {
   "cell_type": "code",
   "execution_count": null,
   "metadata": {},
   "outputs": [],
   "source": [
    "plt.figure(figsize = (11,7))\n",
    "for n in range(len(clus0_100m)):\n",
    "#     plt.plot(tspan, c0e.loc[n]['MLKLa_obs'].iloc[:], zorder = 1, alpha = 1,color = 'firebrick')\n",
    "    plt.plot(tspan, c0m.loc[n]['MLKLa_obs'].iloc[:],zorder = 2, alpha = 0.7, color = 'steelblue')\n",
    "for i in clus0_100ennn[sim_idx_to_keep01newe]:\n",
    "    plt.plot(tspan, c0e.loc[i]['MLKLa_obs'].iloc[:], zorder = 1, alpha = 1,color = 'firebrick')\n",
    "#     plt.plot(tspan, c0en.loc[i]['MLKLa_obs'].iloc[:],zorder = 2, alpha = 0.7, color = 'mediumseagreen')\n",
    "#     plt.plot(tspan, c0enn.loc[i]['MLKLa_obs'].iloc[:],zorder = 2, alpha = 0.7, color = 'orchid')\n",
    "    plt.plot(tspan, c0ennn.loc[i]['MLKLa_obs'].iloc[:],zorder = 2, alpha = 0.7, color = 'cyan')\n",
    "# plt.axvline(x=400, color = 'black')\n",
    "plt.axvline(x=281, color = 'black', linestyle = '--')\n",
    "plt.axhline(y=2772, color = 'black')\n",
    "plt.xlim(xmax = 900, xmin = 200)    \n",
    "plt.show()  "
   ]
  },
  {
   "cell_type": "code",
   "execution_count": null,
   "metadata": {},
   "outputs": [],
   "source": [
    "plt.figure(figsize = (8, 6))\n",
    "for n in range(len(clus0_100m)):\n",
    "#     plt.plot(tspan, c0e.loc[n]['MLKLa_obs'].iloc[:], zorder = 1, alpha = 1,color = 'firebrick')\n",
    "    plt.plot(tspan/60, c0m.loc[n]['MLKLa_obs'].iloc[:]/5544,zorder = 1, alpha = 0.7, color = 'steelblue')\n",
    "# plt.plot(tspan/60, c0m['MLKLa_obs'].iloc[:]/5544,lw=10, color ='firebrick', label = 'WT', zorder = 2, alpha = 5, linestyle = ':')\n",
    "plt.plot(tspan/60, c0e['MLKLa_obs'].iloc[:]/5544, lw=7, color ='darkred', label = 'A20KO', zorder = 2, alpha = 5, linestyle = '--')\n",
    "plt.plot(tspan/60, c0en['MLKLa_obs'].iloc[:]/5544, lw=4, color ='darkred', zorder = 2, alpha = 5, linestyle = '--')\n",
    "plt.plot(tspan/60, c0enn['MLKLa_obs'].iloc[:]/5544, lw=4, color ='darkred', zorder = 2, alpha = 5,linestyle = '--')\n",
    "plt.plot(tspan/60, c0ennn['MLKLa_obs'].iloc[:]/5544, lw=4, color ='darkred',zorder = 2, alpha = 5, linestyle = '--')\n",
    "# plt.plot(tspan/60, df6['MLKLa_obs'].iloc[:]/5544, lw=4, color ='steelblue',zorder = 1, alpha = 5, linestyle = '--')\n",
    "# plt.errorbar(x1001/60, y1001, \n",
    "#              yerr=[(0, 0.00885691708746097,0.0161886154261265,0.0373005242261882),\n",
    "#              (.07,.07,.07,.07)],\n",
    "#                    fmt='.k', ecolor ='black', alpha = 0.75, zorder = 2)\n",
    "# plt.errorbar(x1002/60, y1002,\n",
    "#              yerr= .07, fmt='.k', ecolor ='black', alpha = 0.75, zorder = 2)\n",
    "plt.xlim(xmin = 0, xmax = 30)\n",
    "plt.ylim(ymax = 1.01)\n",
    "# custom_lines = [Line2D([0], [0], color='blue', lw=4),\n",
    "#                Line2D([0], [0], color='blue', lw=4),\n",
    "#                Line2D([0], [0], color='blue', lw=4),\n",
    "#                Line2D([0], [0], color='purple', lw=4),\n",
    "#                 Line2D([0], [0], color='blue', lw=4)]\n",
    "plt.legend(['WT', 'WT_fast'], prop={'size': 12}, loc = 'upper left')\n",
    "plt.xticks(fontsize=14)\n",
    "plt.yticks(fontsize=14)\n",
    "plt.xlabel('Time (hours)', fontsize=18)\n",
    "plt.ylabel('Amount pMLKL Cluster 0', fontsize=17)\n",
    "plt.grid(False)\n",
    "# plt.savefig('figs/Cluster0/pmlkl_100tnf_clus0_5720_WTfast_w48dwnratemodnogrid.pdf')\n",
    "plt.show() "
   ]
  },
  {
   "cell_type": "code",
   "execution_count": null,
   "metadata": {},
   "outputs": [],
   "source": []
  },
  {
   "cell_type": "code",
   "execution_count": null,
   "metadata": {},
   "outputs": [],
   "source": [
    "plt.figure(figsize = (11,7))\n",
    "for n in range(len(clus0_100e)):\n",
    "#     plt.plot(tspan, c0e.loc[n]['MLKLa_obs'].iloc[:], zorder = 1, alpha = 1,color = 'firebrick')\n",
    "    plt.plot(tspan, c0m.loc[n]['MLKLa_obs'].iloc[:],zorder = 2, alpha = 0.7, color = 'steelblue')\n",
    "#     plt.plot(tspan, c0en.loc[n]['MLKLa_obs'].iloc[:],zorder = 2, alpha = 0.7, color = 'mediumseagreen')\n",
    "#     plt.plot(tspan, c0enn.loc[n]['MLKLa_obs'].iloc[:],zorder = 2, alpha = 0.7, color = 'orchid')\n",
    "    plt.plot(tspan, c0ennn.loc[n]['MLKLa_obs'].iloc[:],zorder = 2, alpha = 0.7, color = 'cyan')\n",
    "# plt.axvline(x=400, color = 'black')\n",
    "plt.axvline(x=281, color = 'black', linestyle = '--')\n",
    "plt.axhline(y=2772, color = 'black')\n",
    "plt.xlim(xmax = 900, xmin = 200)    \n",
    "plt.show()  "
   ]
  },
  {
   "cell_type": "code",
   "execution_count": null,
   "metadata": {},
   "outputs": [],
   "source": []
  },
  {
   "cell_type": "code",
   "execution_count": null,
   "metadata": {},
   "outputs": [],
   "source": []
  },
  {
   "cell_type": "code",
   "execution_count": null,
   "metadata": {},
   "outputs": [],
   "source": []
  },
  {
   "cell_type": "code",
   "execution_count": null,
   "metadata": {},
   "outputs": [],
   "source": [
    "clus0_100dn = np.load('necro_pars10k_cluster03_5720_modsplit.npy')\n",
    "clus0_100dnn = np.load('necro_pars10k_cluster03_5720_modsplit.npy') \n",
    "clus0_100dnnn = np.load('necro_pars10k_cluster03_5720_modsplit.npy')\n",
    "clus0_100dnnnn = np.load('necro_pars10k_cluster03_5720_modsplit.npy')"
   ]
  },
  {
   "cell_type": "code",
   "execution_count": null,
   "metadata": {},
   "outputs": [],
   "source": [
    "g = 34"
   ]
  },
  {
   "cell_type": "code",
   "execution_count": null,
   "metadata": {},
   "outputs": [],
   "source": [
    "p = 48"
   ]
  },
  {
   "cell_type": "code",
   "execution_count": null,
   "metadata": {},
   "outputs": [],
   "source": [
    "a = 46"
   ]
  },
  {
   "cell_type": "code",
   "execution_count": null,
   "metadata": {},
   "outputs": [],
   "source": [
    "clus0_100dn[:][:,p] = clus0_100dn[:][:,p]/10\n",
    "clus0_100dnn[:][:,p] = clus0_100dnn[:][:,p]/100\n",
    "clus0_100dnnn[:][:,p] = clus0_100dnnn[:][:,p]/1000\n",
    "clus0_100dnnnn[:][:,p] = clus0_100dnnnn[:][:,p]/10000"
   ]
  },
  {
   "cell_type": "code",
   "execution_count": null,
   "metadata": {},
   "outputs": [],
   "source": [
    "clus0_100dn[:][:,g] = clus0_100dn[:][:,g]*10\n",
    "clus0_100dnn[:][:,g] = clus0_100dnn[:][:,g]*100\n",
    "clus0_100dnnn[:][:,g] = clus0_100dnnn[:][:,g]*1000\n",
    "clus0_100dnnnn[:][:,g] = clus0_100dnnnn[:][:,g]*10000"
   ]
  },
  {
   "cell_type": "code",
   "execution_count": null,
   "metadata": {},
   "outputs": [],
   "source": [
    "clus0_100dn[:][:,a] = clus0_100dn[:][:,a]*10\n",
    "clus0_100dnn[:][:,a] = clus0_100dnn[:][:,a]*100\n",
    "clus0_100dnnn[:][:,a] = clus0_100dnnn[:][:,a]*1000\n",
    "clus0_100dnnnn[:][:,a] = clus0_100dnnnn[:][:,a]*10000"
   ]
  },
  {
   "cell_type": "code",
   "execution_count": null,
   "metadata": {},
   "outputs": [],
   "source": [
    "sim_idx_to_keep0d = [idx for idx in range(len(clus0_100d)) if c0d['MLKLa_obs'][idx].iloc[305] < 2772]"
   ]
  },
  {
   "cell_type": "code",
   "execution_count": null,
   "metadata": {},
   "outputs": [],
   "source": [
    "print(sim_idx_to_keep0d)"
   ]
  },
  {
   "cell_type": "code",
   "execution_count": null,
   "metadata": {},
   "outputs": [],
   "source": [
    "sim_idx_to_keep01d = [idx for idx in range(len(clus0_100d)) if c0df100wt['MLKLa_obs'][idx].iloc[111] > 2772]"
   ]
  },
  {
   "cell_type": "code",
   "execution_count": null,
   "metadata": {},
   "outputs": [],
   "source": [
    "# k1 = [82, 116, 129, 231, 233, 234, 242]\n",
    "k1 = 116"
   ]
  },
  {
   "cell_type": "code",
   "execution_count": null,
   "metadata": {},
   "outputs": [],
   "source": [
    "m = model100.components"
   ]
  },
  {
   "cell_type": "code",
   "execution_count": null,
   "metadata": {},
   "outputs": [],
   "source": [
    "solverwt0 = ScipyOdeSimulator(model100, tspan=tspan, verbose = True)\n",
    "wtclus0 = solverwt0.run(initials = {m.A20(brip = None):900000}, param_values=clus0_100d[k1], num_processors = 10)\n",
    "c0dm = wtclus0.dataframe"
   ]
  },
  {
   "cell_type": "code",
   "execution_count": null,
   "metadata": {},
   "outputs": [],
   "source": [
    "solverwt0 = ScipyOdeSimulator(model100, tspan=tspan, verbose = True)\n",
    "wtclus0 = solverwt0.run(param_values=clus0_100d[k1], num_processors = 10)\n",
    "c0d = wtclus0.dataframe"
   ]
  },
  {
   "cell_type": "code",
   "execution_count": null,
   "metadata": {},
   "outputs": [],
   "source": [
    "plt.figure(figsize = (8, 6))\n",
    "plt.plot(tspan, c0m['MLKLa_obs'].iloc[:]/5544,lw=10, color ='firebrick', label = 'WT', zorder = 2, alpha = 0.9, linestyle = ':')\n",
    "plt.plot(tspan, c0d['MLKLa_obs'].iloc[:]/5544, lw=7, color ='darkred', label = 'A20KO', zorder = 1, alpha = 5, linestyle = '--')\n",
    "plt.plot(tspan, c0dm['MLKLa_obs'].iloc[:]/5544, lw=7, color ='blue', label = 'A20KO', zorder = 1, alpha = 5, linestyle = '--')\n",
    "plt.legend(['WT', 'WT_fast'], prop={'size': 12}, loc = 'upper left')\n",
    "plt.xticks(fontsize=14)\n",
    "plt.yticks(fontsize=14)\n",
    "plt.xlabel('Time (hours)', fontsize=18)\n",
    "plt.ylabel('Amount pMLKL Cluster 0', fontsize=17)\n",
    "plt.grid(True)\n",
    "# plt.savefig('figs/Cluster0/pmlkl_100tnf_clus0_5720_WTdelay_w33upratemod.pdf')\n",
    "# plt.grid(False)\n",
    "# plt.savefig('figs/Cluster0/pmlkl_100tnf_clus0_5720_WTdelay_w33upratemodnogrid.pdf')\n",
    "plt.show()  "
   ]
  },
  {
   "cell_type": "code",
   "execution_count": null,
   "metadata": {},
   "outputs": [],
   "source": [
    "solverwt0 = ScipyOdeSimulator(model100, tspan=tspan, verbose = True)\n",
    "wtclus0 = solverwt0.run(param_values=clus0_100dn[k1], num_processors = 10)\n",
    "c0dn = wtclus0.dataframe"
   ]
  },
  {
   "cell_type": "code",
   "execution_count": null,
   "metadata": {},
   "outputs": [],
   "source": [
    "solverwt0 = ScipyOdeSimulator(model100, tspan=tspan, verbose = True)\n",
    "wtclus0 = solverwt0.run(param_values=clus0_100dnn[k1], num_processors = 10)\n",
    "c0dnn = wtclus0.dataframe"
   ]
  },
  {
   "cell_type": "code",
   "execution_count": null,
   "metadata": {},
   "outputs": [],
   "source": [
    "solverwt0 = ScipyOdeSimulator(model100, tspan=tspan, verbose = True)\n",
    "wtclus0 = solverwt0.run(param_values=clus0_100dnnn[k1], num_processors = 10)\n",
    "c0dnnn = wtclus0.dataframe"
   ]
  },
  {
   "cell_type": "code",
   "execution_count": null,
   "metadata": {},
   "outputs": [],
   "source": [
    "solverwt0 = ScipyOdeSimulator(model100, tspan=tspan, verbose = True)\n",
    "wtclus0 = solverwt0.run(param_values=clus0_100dnnnn[k1], num_processors = 10)\n",
    "c0dnnnn = wtclus0.dataframe"
   ]
  },
  {
   "cell_type": "code",
   "execution_count": null,
   "metadata": {},
   "outputs": [],
   "source": [
    "plt.figure(figsize = (8, 6))\n",
    "plt.plot(tspan, c0m['MLKLa_obs'].iloc[:]/5544,lw=10, color ='firebrick', label = 'WT', zorder = 2, alpha = 0.9, linestyle = ':')\n",
    "plt.plot(tspan, c0d['MLKLa_obs'].iloc[:]/5544, lw=7, color ='darkred', label = 'A20KO', zorder = 1, alpha = 5, linestyle = '--')\n",
    "plt.plot(tspan, c0dn['MLKLa_obs'].iloc[:]/5544, lw=4, color ='darkred', zorder = 1, alpha = 1, linestyle = '--')\n",
    "plt.plot(tspan, c0dnn['MLKLa_obs'].iloc[:]/5544, lw=4, color ='darkred', zorder = 1, alpha = 1,linestyle = '--')\n",
    "plt.plot(tspan, c0dnnn['MLKLa_obs'].iloc[:]/5544, lw=4, color ='darkred',zorder = 1, alpha = 1, linestyle = '--')\n",
    "plt.plot(tspan, c0dnnnn['MLKLa_obs'].iloc[:]/5544, lw=4, color ='darkred',zorder = 1, alpha = 1, linestyle = '--')\n",
    "# plt.errorbar(x1001/60, y1001,\n",
    "#              yerr=[(0, 0.00885691708746097,0.0161886154261265,0.0373005242261882),\n",
    "#              (.07,.07,.07,.07)],\n",
    "#                    fmt='.k', ecolor ='black', alpha = 0.75, zorder = 2)\n",
    "# plt.errorbar(x1002/60, y1002,\n",
    "#              yerr= .07, fmt='.k', ecolor ='black', alpha = 0.75, zorder = 2)\n",
    "# plt.xlim(xmin = 0, xmax = 30)\n",
    "# plt.ylim(ymax = 1.01)\n",
    "# custom_lines = [Line2D([0], [0], color='blue', lw=4),\n",
    "#                Line2D([0], [0], color='blue', lw=4),\n",
    "#                Line2D([0], [0], color='blue', lw=4),\n",
    "#                Line2D([0], [0], color='purple', lw=4),\n",
    "#                 Line2D([0], [0], color='blue', lw=4)]\n",
    "plt.legend(['WT', 'WT_fast'], prop={'size': 12}, loc = 'upper left')\n",
    "plt.xticks(fontsize=14)\n",
    "plt.yticks(fontsize=14)\n",
    "plt.xlabel('Time (hours)', fontsize=18)\n",
    "plt.ylabel('Amount pMLKL Cluster 0', fontsize=17)\n",
    "plt.grid(True)\n",
    "# plt.savefig('figs/Cluster0/pmlkl_100tnf_clus0_5720_WTdelay_w33upratemod.pdf')\n",
    "# plt.grid(False)\n",
    "# plt.savefig('figs/Cluster0/pmlkl_100tnf_clus0_5720_WTdelay_w33upratemodnogrid.pdf')\n",
    "plt.show()  "
   ]
  },
  {
   "cell_type": "code",
   "execution_count": null,
   "metadata": {},
   "outputs": [],
   "source": [
    "plt.figure(figsize = (11,7))\n",
    "for n in range(len(clus0_100d)):\n",
    "#     plt.plot(tspan, c0d.loc[n]['MLKLa_obs'].iloc[:], zorder = 1, alpha = 1,color = 'firebrick')\n",
    "    plt.plot(tspan, c0m.loc[n]['MLKLa_obs'].iloc[:],zorder = 1, alpha = 0.7, color = 'steelblue')\n",
    "#     plt.plot(tspan, c0dn.loc[n]['MLKLa_obs'].iloc[:],zorder = 2, alpha = 0.7, color = 'mediumseagreen')\n",
    "#     plt.plot(tspan, c0dnn.loc[n]['MLKLa_obs'].iloc[:],zorder = 2, alpha = 0.7, color = 'indianred')\n",
    "    plt.plot(tspan, c0dnnn.loc[n]['MLKLa_obs'].iloc[:],zorder = 2, alpha = 0.7, color = 'cyan')\n",
    "\n",
    "\n",
    "# plt.plot(tspan, c0en['MLKLa_obs'].iloc[:],zorder = 2, alpha = 0.7, color = 'mediumseagreen')\n",
    "# plt.plot(tspan, c0enn['MLKLa_obs'].iloc[:],zorder = 2, alpha = 0.7, color = 'indianred')\n",
    "# plt.plot(tspan, c0ennn['MLKLa_obs'].iloc[:],zorder = 2, alpha = 0.7, color = 'cyan')\n",
    "# plt.axvline(x=400, color = 'black')\n",
    "# plt.axvline(x=281, color = 'black', linestyle = '--')\n",
    "plt.axhline(y=2772, color = 'black')\n",
    "plt.xlim(xmin =  200)    \n",
    "plt.show()  "
   ]
  },
  {
   "cell_type": "code",
   "execution_count": null,
   "metadata": {},
   "outputs": [],
   "source": [
    "sim_idx_to_keep01dnnn = [idx for idx in range(len(clus0_100d)) if c0d['MLKLa_obs'][idx].iloc[278] < 2772]\n",
    "sim_idx_to_keep01dnnn"
   ]
  },
  {
   "cell_type": "code",
   "execution_count": null,
   "metadata": {},
   "outputs": [],
   "source": [
    "plt.figure(figsize = (11,7))\n",
    "for n in sim_idx_to_keep:\n",
    "    plt.plot(tspan, dfcyldn.loc[n]['MLKLa_obs'].iloc[:], zorder = 1, alpha = 1,color = 'mediumseagreen')\n",
    "    plt.plot(tspan, dfcyldnn.loc[n]['MLKLa_obs'].iloc[:],zorder = 2, alpha = 0.7, color = 'indianred')\n",
    "plt.xlim(xmax = 1800)    \n",
    "plt.show()  "
   ]
  },
  {
   "cell_type": "code",
   "execution_count": null,
   "metadata": {},
   "outputs": [],
   "source": [
    "solverwt0 = ScipyOdeSimulator(model100, tspan=tspan, verbose = True)\n",
    "wtclus0 = solverwt0.run(param_values=clus0_100[sim_idx_to_keep01], num_processors = 10)\n",
    "c0df100wt1 = wtclus0.dataframe"
   ]
  },
  {
   "cell_type": "code",
   "execution_count": null,
   "metadata": {},
   "outputs": [],
   "source": [
    "plt.figure(figsize = (11,7))\n",
    "for n in sim_idx_to_keep:\n",
    "    plt.plot(tspan, dfcyldn.loc[n]['MLKLa_obs'].iloc[:], zorder = 1, alpha = 1,color = 'mediumseagreen')\n",
    "    plt.plot(tspan, dfcyldnn.loc[n]['MLKLa_obs'].iloc[:],zorder = 2, alpha = 0.7, color = 'indianred')\n",
    "plt.xlim(xmax = 1800)    \n",
    "plt.show()  "
   ]
  },
  {
   "cell_type": "code",
   "execution_count": null,
   "metadata": {},
   "outputs": [],
   "source": []
  },
  {
   "cell_type": "code",
   "execution_count": null,
   "metadata": {},
   "outputs": [],
   "source": [
    "clus0mod = clus0_100[:, 14:]\n",
    "clus1mod = clus1_100[:, 14:]\n",
    "clus2mod = clus2_100[:, 14:]\n",
    "clus3mod = clus3_100[:, 14:]"
   ]
  },
  {
   "cell_type": "code",
   "execution_count": null,
   "metadata": {},
   "outputs": [],
   "source": []
  },
  {
   "cell_type": "code",
   "execution_count": null,
   "metadata": {},
   "outputs": [],
   "source": [
    "par_idxs = list(range(14, 26,1))"
   ]
  },
  {
   "cell_type": "code",
   "execution_count": null,
   "metadata": {},
   "outputs": [],
   "source": []
  },
  {
   "cell_type": "code",
   "execution_count": null,
   "metadata": {},
   "outputs": [],
   "source": [
    "for sp_ic in par_idxs:\n",
    "    data_violin = [0] * 12\n",
    "    clus_labels = [0] * 12\n",
    "    count = 0\n",
    "    for idx, clus in self.clusters.items():\n",
    "        cluster_pars = self.all_parameters[clus]\n",
    "        sp_ic_values = cluster_pars[:, sp_ic]\n",
    "        data_violin[count] = sorted(np.log10(sp_ic_values))\n",
    "        clus_labels[count] = idx\n",
    "        count += 1\n",
    "\n",
    "    fig, ax1 = plt.subplots(nrows=1, ncols=1)\n",
    "    ax1.set_title('Parameter {0}'.format(self.model.parameters[sp_ic].name))\n",
    "    ax1.set_ylabel('Parameter values (log10)')\n",
    "    parts = ax1.violinplot(data_violin, showmeans=False, showmedians=False, showextrema=False)\n",
    "\n",
    "    for pc in parts['bodies']:\n",
    "        pc.set_facecolor('#D43F3A')\n",
    "        pc.set_edgecolor('black')\n",
    "        pc.set_alpha(1)\n",
    "\n",
    "    percentile_data = np.array([np.percentile(data, [25, 50, 75]) for data in data_violin])\n",
    "    quartile1 = percentile_data[:, 0]\n",
    "    medians = percentile_data[:, 1]\n",
    "    quartile3 = percentile_data[:, 2]\n",
    "\n",
    "    whiskers = np.array([_adjacent_values(sorted_array, q1, q3)\n",
    "                         for sorted_array, q1, q3 in zip(data_violin, quartile1, quartile3)])\n",
    "    whiskersMin, whiskersMax = whiskers[:, 0], whiskers[:, 1]\n",
    "\n",
    "    inds = np.arange(1, len(medians) + 1)\n",
    "    ax1.scatter(inds, medians, marker='o', color='white', s=30, zorder=3)\n",
    "    ax1.vlines(inds, quartile1, quartile3, color='k', linestyle='-', lw=5)\n",
    "    ax1.vlines(inds, whiskersMin, whiskersMax, color='k', linestyle='-', lw=1)"
   ]
  },
  {
   "cell_type": "code",
   "execution_count": null,
   "metadata": {},
   "outputs": [],
   "source": [
    "newlist = [np.log10(clus0mod[sim_idx_to_keep01][:][:,0]),\n",
    "          np.log10(clus0mod[sim_idx_to_keep02][:][:,0]),\n",
    "          np.log10(clus0mod[sim_idx_to_keep03][:][:,0])]"
   ]
  },
  {
   "cell_type": "code",
   "execution_count": null,
   "metadata": {},
   "outputs": [],
   "source": [
    "mods = [np.log10(clus0mod[sim_idx_to_keep01][:][:, counter]), \n",
    "        np.log10(clus0mod[sim_idx_to_keep02][:][:, counter]),\n",
    "        np.log10(clus0mod[sim_idx_to_keep03][:][:, counter])]"
   ]
  },
  {
   "cell_type": "code",
   "execution_count": null,
   "metadata": {},
   "outputs": [],
   "source": [
    "from scipy.stats import norm,uniform\n",
    "from matplotlib.lines import Line2D\n",
    "idx = list(range(14, 26,1)) #index for parameter values after initial conditions 14-50\n",
    "counter = 0\n",
    "\n",
    "scaling = [2] * 12\n",
    "# idx = list(range(14, 51,1))\n",
    "row = 4\n",
    "col = 3\n",
    "# counter = 0\n",
    "n = 50000\n",
    "\n",
    "ndims = len(idx)\n",
    "# my_pal1 = {\"Cluster0\": \"indianred\",\"Cluster1\":\"indianred\",\"indianred\":\"darkred\",\"Cluster2\":\"darkred\"}\n",
    "fig = plt.figure(figsize=(20, 15))\n",
    "for i in range(1,13):\n",
    "    ax = fig.add_subplot(4, 3, i)\n",
    "    sns.distplot(np.log10(clus0_100e[:, 14:][:, counter]), hist=True, rug=False, label = 'fast')\n",
    "    sns.distplot(np.log10(clus0mod[:][:, counter])\n",
    "    sns.distplot(np.log10(clus1mod[:][:, counter])\n",
    "    sns.distplot(np.log10(clus2mod[:][:, counter])\n",
    "    sns.distplot(np.log10(clus3mod[:][:, counter])\n",
    "#     sns.violinplot(data = [np.log10(clus0mod[sim_idx_to_keep01][:][:, counter]),\n",
    "#                           np.log10(clus0mod[sim_idx_to_keep02][:][:, counter]),\n",
    "#                           np.log10(clus0mod[sim_idx_to_keep03][:][:, counter])],\n",
    "#                           palette=['yellow','yellow','yellow'])\n",
    "#     sns.swarmplot(data = [np.log10(clus0mod[sim_idx_to_keep01][:][:, counter]),\n",
    "#                           np.log10(clus0mod[sim_idx_to_keep02][:][:, counter]),\n",
    "#                           np.log10(clus0mod[sim_idx_to_keep03][:][:, counter])],\n",
    "#                           palette=['lightcoral','firebrick','darkred'])\n",
    "#     ax.violinplot(np.log10(clus0mod[sim_idx_to_keep02][:][:, counter]))\n",
    "#     ax.violinplot(np.log10(clus0mod[sim_idx_to_keep03][:][:, counter]))\n",
    "    xticklabels = ['Cluster0', 'Cluster1', 'Cluster2','Cluster3']\n",
    "    ax.set_xticks([0,1,2,3])\n",
    "    ax.set_yticks([-8, -6, -4, -2, 0, 2, 4, 6 , 8])\n",
    "    ax.set_xticklabels(xticklabels)\n",
    "# add horizontal grid lines\n",
    "# plt.ylim(ymax = 25000)\n",
    "    plt.setp(ax.get_xticklabels(), Fontsize=16) \n",
    "    # plt.plot(samples[:, counter])\n",
    "#     sns.distplot(norm.rvs(size=n, loc=ppriors[counter], scale=scaling[counter]), color = 'red')\n",
    "#     sns.violin(clus0_100[:, 14:][:, counter], color = 'cyan')\n",
    "#     sns.distplot(clus1_100[:, 14:][:, counter], color = 'red')\n",
    "#     sns.distplot(clus0mod[sim_idx_to_keep01][:][:, counter], color = 'indianred')\n",
    "#     sns.distplot(clus0mod[sim_idx_to_keep02][:][:, counter], color = 'mediumseagreen')\n",
    "#     sns.distplot(clus0mod[sim_idx_to_keep03][:][:, counter], color = 'steelblue')\n",
    "    plt.title(model100.parameters[idx[counter]].name, fontdict={'fontsize': 14})\n",
    "    counter += 1\n",
    "    plt.ylim(ymin = -8, ymax=8)\n",
    "#     plt.xlim(xmin = -5,xmax=10)\n",
    "    plt.xticks(fontsize=14)\n",
    "    plt.yticks(fontsize=14)   \n",
    "plt.subplots_adjust(wspace=0.3)\n",
    "plt.subplots_adjust(hspace=0.6)\n",
    "# plt.savefig('pydream_priorpost_traceplot_forpapermay2020_all_chains5.pdf', format='pdf')\n",
    "plt.show()"
   ]
  },
  {
   "cell_type": "code",
   "execution_count": null,
   "metadata": {},
   "outputs": [],
   "source": [
    "from scipy.stats import norm,uniform\n",
    "from matplotlib.lines import Line2D\n",
    "idx = list(range(14, 26,1)) #index for parameter values after initial conditions 14-50\n",
    "counter = 0\n",
    "\n",
    "scaling = [2] * 12\n",
    "# idx = list(range(14, 51,1))\n",
    "row = 4\n",
    "col = 3\n",
    "# counter = 0\n",
    "n = 50000\n",
    "\n",
    "ndims = len(idx)\n",
    "# my_pal1 = {\"Cluster0\": \"indianred\",\"Cluster1\":\"indianred\",\"indianred\":\"darkred\",\"Cluster2\":\"darkred\"}\n",
    "fig = plt.figure(figsize=(20, 15))\n",
    "for i in range(1,13):\n",
    "    ax = fig.add_subplot(4, 3, i)\n",
    "    sns.distplot(np.log10(clus0_100e[:, 14:][:, counter]), hist=True, rug=False, label = 'fast')\n",
    "    sns.distplot(np.log10(clus0_100m[:, 14:][:][:, counter]), hist=True, rug=False, label = 'middle')\n",
    "#     sns.distplot(np.log10(clus0mod[sim_idx_to_keep0d][:][:, counter]), hist=True, rug=False, label = 'delay'\n",
    "#                  , color = 'indianred')\n",
    "#     sns.distplot(data = [np.log10(clus0mod[:][:, counter]),\n",
    "#                           np.log10(clus1mod[:][:, counter]),\n",
    "#                           np.log10(clus2mod[:][:, counter]),\n",
    "#                           np.log10(clus3mod[:][:, counter])], color = 'indianred')\n",
    "#     sns.distplot(np.log10(clus0mod[:][:, counter]))\n",
    "#     sns.distplot(np.log10(clus1mod[:][:, counter]), color = 'indianred')\n",
    "#     sns.distplot(np.log10(clus2mod[:][:, counter]), color = 'mediumseagreen')\n",
    "#     sns.distplot(np.log10(clus3mod[:][:, counter]), color = 'gold')\n",
    "#     sns.distplot(np.log10(clus0mod[sim_idx_to_keep01][:][:, counter]), color = 'indianred', hist=False, rug=True)\n",
    "#     sns.distplot(np.log10(clus0mod[sim_idx_to_keep01][:][:, counter]), hist=False, rug=True)\n",
    "    \n",
    "#     sns.distplot(np.log10(clus0mod[sim_idx_to_keep01][:][:, counter]), color = 'mediumseagreen')\n",
    "#     sns.violinplot(data = [np.log10(clus0mod[sim_idx_to_keep01][:][:, counter]),\n",
    "#                           np.log10(clus0mod[sim_idx_to_keep02][:][:, counter]),\n",
    "#                           np.log10(clus0mod[sim_idx_to_keep03][:][:, counter])],\n",
    "#                           palette=['yellow','yellow','yellow'])\n",
    "#     sns.swarmplot(data = [np.log10(clus0mod[sim_idx_to_keep01][:][:, counter]),\n",
    "#                           np.log10(clus0mod[sim_idx_to_keep02][:][:, counter]),\n",
    "#                           np.log10(clus0mod[sim_idx_to_keep03][:][:, counter])],\n",
    "#                           palette=['lightcoral','firebrick','darkred'])\n",
    "#     ax.violinplot(np.log10(clus0mod[sim_idx_to_keep02][:][:, counter]))\n",
    "#     ax.violinplot(np.log10(clus0mod[sim_idx_to_keep03][:][:, counter]))\n",
    "#     xticklabels = ['Cluster0', 'Cluster1', 'Cluster2','Cluster3']\n",
    "#     ax.set_xticks([0,1,2,3])\n",
    "#     ax.set_yticks([-8, -6, -4, -2, 0, 2, 4, 6 , 8])\n",
    "#     ax.set_xticklabels(xticklabels)\n",
    "# add horizontal grid lines\n",
    "# plt.ylim(ymax = 25000)\n",
    "    plt.setp(ax.get_xticklabels(), Fontsize=16) \n",
    "    # plt.plot(samples[:, counter])\n",
    "#     sns.distplot(norm.rvs(size=n, loc=ppriors[counter], scale=scaling[counter]), color = 'red')\n",
    "#     sns.violin(clus0_100[:, 14:][:, counter], color = 'cyan')\n",
    "#     sns.distplot(clus1_100[:, 14:][:, counter], color = 'red')\n",
    "#     sns.distplot(clus0mod[sim_idx_to_keep01][:][:, counter], color = 'indianred')\n",
    "#     sns.distplot(clus0mod[sim_idx_to_keep02][:][:, counter], color = 'mediumseagreen')\n",
    "#     sns.distplot(clus0mod[sim_idx_to_keep03][:][:, counter], color = 'steelblue')\n",
    "    plt.title(model100.parameters[idx[counter]].name, fontdict={'fontsize': 14})\n",
    "    counter += 1\n",
    "#     plt.ylim(ymin = -10, ymax=8)\n",
    "    plt.xlim(xmin = -10,xmax=6)\n",
    "    plt.xticks(fontsize=14)\n",
    "    plt.yticks(fontsize=14)   \n",
    "    plt.legend(loc = 'best', prop={'size': 13})\n",
    "plt.subplots_adjust(wspace=0.3)\n",
    "plt.subplots_adjust(hspace=0.6)\n",
    "# plt.savefig('pydream_priorpost_traceplot_forpapermay2020_all_chains5.pdf', format='pdf')\n",
    "plt.show()"
   ]
  },
  {
   "cell_type": "code",
   "execution_count": null,
   "metadata": {},
   "outputs": [],
   "source": [
    "from scipy.stats import norm,uniform\n",
    "from matplotlib.lines import Line2D\n",
    "idx = list(range(26, 38,1)) #index for parameter values after initial conditions 14-50\n",
    "counter = 0\n",
    "\n",
    "scaling = [2] * 12\n",
    "# idx = list(range(14, 51,1))\n",
    "row = 10\n",
    "col = 4\n",
    "# counter = 0\n",
    "n = 50000\n",
    "\n",
    "ndims = len(idx)\n",
    "# my_pal1 = {\"Cluster0\": \"indianred\",\"Cluster1\":\"indianred\",\"indianred\":\"darkred\",\"Cluster2\":\"darkred\"}\n",
    "fig = plt.figure(figsize=(20, 15))\n",
    "for i in range(1,13):\n",
    "    ax = fig.add_subplot(4, 3, i)\n",
    "    sns.distplot(np.log10(clus0_100e[:, 14:][:, counter]), hist=True, rug=False, label = 'fast')\n",
    "    sns.distplot(np.log10(clus0_100m[:, 14:][:, counter]), hist=True, rug=False, label = 'middle')\n",
    "#     sns.distplot(np.log10(clus0mod[sim_idx_to_keep0d][:][:, counter]), hist=True, rug=False, label = 'delay'\n",
    "#                 , color = 'indianred')\n",
    "#     sns.distplot(data = [np.log10(clus0mod[:][:, counter]),\n",
    "#                           np.log10(clus1mod[:][:, counter]),\n",
    "#                           np.log10(clus2mod[:][:, counter]),\n",
    "#                           np.log10(clus3mod[:][:, counter])], color = 'indianred')\n",
    "#     sns.distplot(np.log10(clus0mod[:][:, counter]))\n",
    "#     sns.distplot(np.log10(clus1mod[:][:, counter]), color = 'indianred')\n",
    "#     sns.distplot(np.log10(clus2mod[:][:, counter]), color = 'mediumseagreen')\n",
    "#     sns.distplot(np.log10(clus3mod[:][:, counter]), color = 'gold')\n",
    "#     sns.distplot(np.log10(clus0mod[sim_idx_to_keep01][:][:, counter]), color = 'indianred', hist=False, rug=True)\n",
    "#     sns.distplot(np.log10(clus0mod[sim_idx_to_keep01][:][:, counter]), hist=False, rug=True)\n",
    "    \n",
    "#     sns.distplot(np.log10(clus0mod[sim_idx_to_keep01][:][:, counter]), color = 'mediumseagreen')\n",
    "#     sns.violinplot(data = [np.log10(clus0mod[sim_idx_to_keep01][:][:, counter]),\n",
    "#                           np.log10(clus0mod[sim_idx_to_keep02][:][:, counter]),\n",
    "#                           np.log10(clus0mod[sim_idx_to_keep03][:][:, counter])],\n",
    "#                           palette=['yellow','yellow','yellow'])\n",
    "#     sns.swarmplot(data = [np.log10(clus0mod[sim_idx_to_keep01][:][:, counter]),\n",
    "#                           np.log10(clus0mod[sim_idx_to_keep02][:][:, counter]),\n",
    "#                           np.log10(clus0mod[sim_idx_to_keep03][:][:, counter])],\n",
    "#                           palette=['lightcoral','firebrick','darkred'])\n",
    "#     ax.violinplot(np.log10(clus0mod[sim_idx_to_keep02][:][:, counter]))\n",
    "#     ax.violinplot(np.log10(clus0mod[sim_idx_to_keep03][:][:, counter]))\n",
    "#     xticklabels = ['Cluster0', 'Cluster1', 'Cluster2','Cluster3']\n",
    "#     ax.set_xticks([0,1,2,3])\n",
    "#     ax.set_yticks([-8, -6, -4, -2, 0, 2, 4, 6 , 8])\n",
    "#     ax.set_xticklabels(xticklabels)\n",
    "# add horizontal grid lines\n",
    "# plt.ylim(ymax = 25000)\n",
    "    plt.setp(ax.get_xticklabels(), Fontsize=16) \n",
    "    # plt.plot(samples[:, counter])\n",
    "#     sns.distplot(norm.rvs(size=n, loc=ppriors[counter], scale=scaling[counter]), color = 'red')\n",
    "#     sns.violin(clus0_100[:, 14:][:, counter], color = 'cyan')\n",
    "#     sns.distplot(clus1_100[:, 14:][:, counter], color = 'red')\n",
    "#     sns.distplot(clus0mod[sim_idx_to_keep01][:][:, counter], color = 'indianred')\n",
    "#     sns.distplot(clus0mod[sim_idx_to_keep02][:][:, counter], color = 'mediumseagreen')\n",
    "#     sns.distplot(clus0mod[sim_idx_to_keep03][:][:, counter], color = 'steelblue')\n",
    "    plt.title(model100.parameters[idx[counter]].name, fontdict={'fontsize': 14})\n",
    "    counter += 1\n",
    "#     plt.ylim(ymin = -10, ymax=8)\n",
    "    plt.xlim(xmin = -10,xmax=6)\n",
    "    plt.xticks(fontsize=14)\n",
    "    plt.yticks(fontsize=14)   \n",
    "    plt.legend(loc = 'best', prop={'size': 13})\n",
    "plt.subplots_adjust(wspace=0.3)\n",
    "plt.subplots_adjust(hspace=0.6)\n",
    "# plt.savefig('pydream_priorpost_traceplot_forpapermay2020_all_chains5.pdf', format='pdf')\n",
    "plt.show()"
   ]
  },
  {
   "cell_type": "code",
   "execution_count": null,
   "metadata": {},
   "outputs": [],
   "source": [
    "clusall = np.concatenate([clus0mod, clus1mod, clus2mod, clus3mod])"
   ]
  },
  {
   "cell_type": "code",
   "execution_count": null,
   "metadata": {},
   "outputs": [],
   "source": [
    "from scipy.stats import norm,uniform\n",
    "from matplotlib.lines import Line2D\n",
    "idx = list(range(14, 54,1)) #index for parameter values after initial conditions 14-50\n",
    "counter = 0\n",
    "\n",
    "ppriors = np.array([3.304257e-05, 0.009791216, 0.006110069,4.319219e-05, 0.004212645,1.164332e-05,\n",
    "         0.02404257,3.311086e-05,0.04280399,2.645815e-05,0.01437707,\n",
    "         0.2303744, 2.980688e-05, 0.04879773, 1.121503e-05, 0.001866713, 0.7572178, 1.591283e-05,\n",
    "         0.03897146, 3.076363, 3.73486, 3.2162e-06, 8.78243e-05, 0.02906341,5.663104e-05, 0.02110469, 0.1294086,\n",
    "         0.3127598, 0.429849, 2.33291e-06, 0.007077505, 0.6294062, 0.06419313,\n",
    "         0.0008584654, 8.160445e-05, 4.354384e-03,0.008584654,8.160445e-02, 4.354384e-02,1.278903])\n",
    "\n",
    "scaling = [2] * 40\n",
    "# idx = list(range(14, 51,1))\n",
    "row = 10\n",
    "col = 4\n",
    "# counter = 0\n",
    "n = 50000\n",
    "\n",
    "ndims = len(idx)\n",
    "# my_pal1 = {\"Cluster0\": \"indianred\",\"Cluster1\":\"indianred\",\"indianred\":\"darkred\",\"Cluster2\":\"darkred\"}\n",
    "fig = plt.figure(figsize=(15, 25))\n",
    "for i in range(1,41):\n",
    "    ax = fig.add_subplot(10, 4, i)\n",
    "    sns.distplot(np.log10(clusall[:][:, counter]), hist=True, rug=False, label = 'posterior')\n",
    "    sns.distplot(norm.rvs(size=n, loc=ppriors[counter], scale=scaling[counter]), color = 'red', label = 'prior')\n",
    "#     sns.distplot(np.log10(clus1mod[:][:, counter]), hist=True, rug=False, label = 'middle')\n",
    "#     sns.distplot(np.log10(clus2mod[:][:, counter]), hist=True, rug=False, label = 'fast')\n",
    "#     sns.distplot(np.log10(clus3mod[:][:, counter]), hist=True, rug=False, label = 'middle')\n",
    "#     sns.distplot(np.log10(clus0mod[sim_idx_to_keep0d][:][:, counter]), hist=True, rug=False, label = 'delay'\n",
    "#                 , color = 'indianred')\n",
    "#     sns.distplot(data = [np.log10(clus0mod[:][:, counter]),\n",
    "#                           np.log10(clus1mod[:][:, counter]),\n",
    "#                           np.log10(clus2mod[:][:, counter]),\n",
    "#                           np.log10(clus3mod[:][:, counter])], color = 'indianred')\n",
    "#     sns.distplot(np.log10(clus0mod[:][:, counter]))\n",
    "#     sns.distplot(np.log10(clus1mod[:][:, counter]), color = 'indianred')\n",
    "#     sns.distplot(np.log10(clus2mod[:][:, counter]), color = 'mediumseagreen')\n",
    "#     sns.distplot(np.log10(clus3mod[:][:, counter]), color = 'gold')\n",
    "#     sns.distplot(np.log10(clus0mod[sim_idx_to_keep01][:][:, counter]), color = 'indianred', hist=False, rug=True)\n",
    "#     sns.distplot(np.log10(clus0mod[sim_idx_to_keep01][:][:, counter]), hist=False, rug=True)\n",
    "    \n",
    "#     sns.distplot(np.log10(clus0mod[sim_idx_to_keep01][:][:, counter]), color = 'mediumseagreen')\n",
    "#     sns.violinplot(data = [np.log10(clus0mod[sim_idx_to_keep01][:][:, counter]),\n",
    "#                           np.log10(clus0mod[sim_idx_to_keep02][:][:, counter]),\n",
    "#                           np.log10(clus0mod[sim_idx_to_keep03][:][:, counter])],\n",
    "#                           palette=['yellow','yellow','yellow'])\n",
    "#     sns.swarmplot(data = [np.log10(clus0mod[sim_idx_to_keep01][:][:, counter]),\n",
    "#                           np.log10(clus0mod[sim_idx_to_keep02][:][:, counter]),\n",
    "#                           np.log10(clus0mod[sim_idx_to_keep03][:][:, counter])],\n",
    "#                           palette=['lightcoral','firebrick','darkred'])\n",
    "#     ax.violinplot(np.log10(clus0mod[sim_idx_to_keep02][:][:, counter]))\n",
    "#     ax.violinplot(np.log10(clus0mod[sim_idx_to_keep03][:][:, counter]))\n",
    "#     xticklabels = ['Cluster0', 'Cluster1', 'Cluster2','Cluster3']\n",
    "#     ax.set_xticks([0,1,2,3])\n",
    "#     ax.set_yticks([-8, -6, -4, -2, 0, 2, 4, 6 , 8])\n",
    "#     ax.set_xticklabels(xticklabels)\n",
    "# add horizontal grid lines\n",
    "# plt.ylim(ymax = 25000)\n",
    "    plt.setp(ax.get_xticklabels(), Fontsize=16) \n",
    "    # plt.plot(samples[:, counter])\n",
    "#     sns.distplot(norm.rvs(size=n, loc=ppriors[counter], scale=scaling[counter]), color = 'red')\n",
    "#     sns.violin(clus0_100[:, 14:][:, counter], color = 'cyan')\n",
    "#     sns.distplot(clus1_100[:, 14:][:, counter], color = 'red')\n",
    "#     sns.distplot(clus0mod[sim_idx_to_keep01][:][:, counter], color = 'indianred')\n",
    "#     sns.distplot(clus0mod[sim_idx_to_keep02][:][:, counter], color = 'mediumseagreen')\n",
    "#     sns.distplot(clus0mod[sim_idx_to_keep03][:][:, counter], color = 'steelblue')\n",
    "    plt.title(model100.parameters[idx[counter]].name, fontdict={'fontsize': 14})\n",
    "    counter += 1\n",
    "    plt.ylim(ymin = 0, ymax=0.6)\n",
    "    plt.xlim(xmin = -10,xmax=10)\n",
    "    plt.xticks(fontsize=14)\n",
    "    plt.yticks(fontsize=14)   \n",
    "#     plt.legend(loc = 'upper left', prop={'size': 8})\n",
    "plt.subplots_adjust(wspace=0.3)\n",
    "plt.subplots_adjust(hspace=0.6)\n",
    "# plt.savefig('pydream_priorpost_traceplot_forpapermay2020_all_chains5_33021.pdf', format='pdf')\n",
    "plt.show()"
   ]
  },
  {
   "cell_type": "code",
   "execution_count": null,
   "metadata": {},
   "outputs": [],
   "source": [
    "from scipy.stats import norm,uniform\n",
    "from matplotlib.lines import Line2D\n",
    "idx = list(range(14, 54,1)) #index for parameter values after initial conditions 14-50\n",
    "counter = 0\n",
    "\n",
    "ppriors = np.array([3.304257e-05, 0.009791216, 0.006110069,4.319219e-05, 0.004212645,1.164332e-05,\n",
    "         0.02404257,3.311086e-05,0.04280399,2.645815e-05,0.01437707,\n",
    "         0.2303744, 2.980688e-05, 0.04879773, 1.121503e-05, 0.001866713, 0.7572178, 1.591283e-05,\n",
    "         0.03897146, 3.076363, 3.73486, 3.2162e-06, 8.78243e-05, 0.02906341,5.663104e-05, 0.02110469, 0.1294086,\n",
    "         0.3127598, 0.429849, 2.33291e-06, 0.007077505, 0.6294062, 0.06419313,\n",
    "         0.0008584654, 8.160445e-05, 4.354384e-03,0.008584654,8.160445e-02, 4.354384e-02,1.278903])\n",
    "\n",
    "scaling = [2] * 40\n",
    "# idx = list(range(14, 51,1))\n",
    "row = 8\n",
    "col = 5\n",
    "# counter = 0\n",
    "n = 50000\n",
    "\n",
    "ndims = len(idx)\n",
    "# my_pal1 = {\"Cluster0\": \"indianred\",\"Cluster1\":\"indianred\",\"indianred\":\"darkred\",\"Cluster2\":\"darkred\"}\n",
    "fig = plt.figure(figsize=(20, 17))\n",
    "for i in range(1,41):\n",
    "    ax = fig.add_subplot(8, 5, i)\n",
    "    sns.distplot(np.log10(clusall[:][:, counter]), hist=True, rug=False,bins = 10,\n",
    "                 label = 'posterior',hist_kws=dict(edgecolor=\"blue\", linewidth=2, alpha = 0.5))\n",
    "    sns.distplot(norm.rvs(size=n, loc=ppriors[counter], scale=scaling[counter]),bins = 10, \n",
    "                 color = 'red', label = 'prior',hist_kws=dict(edgecolor=\"red\", linewidth=2, alpha = 0.5))\n",
    "    plt.setp(ax.get_xticklabels(), Fontsize=16) \n",
    "    plt.title(model100.parameters[idx[counter]].name, fontdict={'fontsize': 14})\n",
    "    counter += 1\n",
    "#     plt.ylim(ymin = 0, ymax=0.6)\n",
    "    plt.xlim(xmin = -10,xmax=10)\n",
    "    plt.xticks(fontsize=14)\n",
    "    plt.yticks(fontsize=14)   \n",
    "#     plt.legend(loc = 'upper left', prop={'size': 8})\n",
    "plt.subplots_adjust(wspace=0.3)\n",
    "plt.subplots_adjust(hspace=0.6)\n",
    "# plt.tick_params(labelcolor='none', top='off', bottom='off', left='off', right='off')\n",
    "# plt.grid(False)\n",
    "# plt.text(0.5, 0.04, 'Probability', ha='center')\n",
    "# plt.text(0.04, 0.5, 'Log(10) Values', va='center', rotation='vertical')\n",
    "plt.savefig('pydream_priorpost_traceplot_forpapermay2020_all_chains5_4121.pdf', format='pdf')\n",
    "plt.show()"
   ]
  },
  {
   "cell_type": "code",
   "execution_count": null,
   "metadata": {},
   "outputs": [],
   "source": [
    "from scipy.stats import norm,uniform\n",
    "from matplotlib.lines import Line2D\n",
    "idx = list(range(14, 54,1)) #index for parameter values after initial conditions 14-50\n",
    "counter = 0\n",
    "\n",
    "ppriors = np.array([3.304257e-05, 0.009791216, 0.006110069,4.319219e-05, 0.004212645,1.164332e-05,\n",
    "         0.02404257,3.311086e-05,0.04280399,2.645815e-05,0.01437707,\n",
    "         0.2303744, 2.980688e-05, 0.04879773, 1.121503e-05, 0.001866713, 0.7572178, 1.591283e-05,\n",
    "         0.03897146, 3.076363, 3.73486, 3.2162e-06, 8.78243e-05, 0.02906341,5.663104e-05, 0.02110469, 0.1294086,\n",
    "         0.3127598, 0.429849, 2.33291e-06, 0.007077505, 0.6294062, 0.06419313,\n",
    "         0.0008584654, 8.160445e-05, 4.354384e-03,0.008584654,8.160445e-02, 4.354384e-02,1.278903])\n",
    "\n",
    "scaling = [2] * 40\n",
    "# idx = list(range(14, 51,1))\n",
    "row = 10\n",
    "col = 4\n",
    "# counter = 0\n",
    "n = 50000\n",
    "\n",
    "ndims = len(idx)\n",
    "# my_pal1 = {\"Cluster0\": \"indianred\",\"Cluster1\":\"indianred\",\"indianred\":\"darkred\",\"Cluster2\":\"darkred\"}\n",
    "fig = plt.figure(figsize=(15, 25))\n",
    "for i in range(1,41):\n",
    "    ax = fig.add_subplot(10, 4, i)\n",
    "    sns.violinplot(data = [np.log10(clusall[:][:, counter]),\n",
    "                         norm.rvs(size=n, loc=ppriors[counter], scale=scaling[counter])]) #, hist=True, rug=False, label = 'posterior')\n",
    "#     sns.distplot(norm.rvs(size=n, loc=ppriors[counter], scale=scaling[counter]), color = 'red', label = 'prior')\n",
    "#     sns.distplot(np.log10(clus1mod[:][:, counter]), hist=True, rug=False, label = 'middle')\n",
    "#     sns.distplot(np.log10(clus2mod[:][:, counter]), hist=True, rug=False, label = 'fast')\n",
    "#     sns.distplot(np.log10(clus3mod[:][:, counter]), hist=True, rug=False, label = 'middle')\n",
    "#     sns.distplot(np.log10(clus0mod[sim_idx_to_keep0d][:][:, counter]), hist=True, rug=False, label = 'delay'\n",
    "#                 , color = 'indianred')\n",
    "#     sns.distplot(data = [np.log10(clus0mod[:][:, counter]),\n",
    "#                           np.log10(clus1mod[:][:, counter]),\n",
    "#                           np.log10(clus2mod[:][:, counter]),\n",
    "#                           np.log10(clus3mod[:][:, counter])], color = 'indianred')\n",
    "#     sns.distplot(np.log10(clus0mod[:][:, counter]))\n",
    "#     sns.distplot(np.log10(clus1mod[:][:, counter]), color = 'indianred')\n",
    "#     sns.distplot(np.log10(clus2mod[:][:, counter]), color = 'mediumseagreen')\n",
    "#     sns.distplot(np.log10(clus3mod[:][:, counter]), color = 'gold')\n",
    "#     sns.distplot(np.log10(clus0mod[sim_idx_to_keep01][:][:, counter]), color = 'indianred', hist=False, rug=True)\n",
    "#     sns.distplot(np.log10(clus0mod[sim_idx_to_keep01][:][:, counter]), hist=False, rug=True)\n",
    "    \n",
    "#     sns.distplot(np.log10(clus0mod[sim_idx_to_keep01][:][:, counter]), color = 'mediumseagreen')\n",
    "#     sns.violinplot(data = [np.log10(clus0mod[sim_idx_to_keep01][:][:, counter]),\n",
    "#                           np.log10(clus0mod[sim_idx_to_keep02][:][:, counter]),\n",
    "#                           np.log10(clus0mod[sim_idx_to_keep03][:][:, counter])],\n",
    "#                           palette=['yellow','yellow','yellow'])\n",
    "#     sns.swarmplot(data = [np.log10(clus0mod[sim_idx_to_keep01][:][:, counter]),\n",
    "#                           np.log10(clus0mod[sim_idx_to_keep02][:][:, counter]),\n",
    "#                           np.log10(clus0mod[sim_idx_to_keep03][:][:, counter])],\n",
    "#                           palette=['lightcoral','firebrick','darkred'])\n",
    "#     ax.violinplot(np.log10(clus0mod[sim_idx_to_keep02][:][:, counter]))\n",
    "#     ax.violinplot(np.log10(clus0mod[sim_idx_to_keep03][:][:, counter]))\n",
    "#     xticklabels = ['Cluster0', 'Cluster1', 'Cluster2','Cluster3']\n",
    "#     ax.set_xticks([0,1,2,3])\n",
    "#     ax.set_yticks([-8, -6, -4, -2, 0, 2, 4, 6 , 8])\n",
    "#     ax.set_xticklabels(xticklabels)\n",
    "# add horizontal grid lines\n",
    "# plt.ylim(ymax = 25000)\n",
    "    plt.setp(ax.get_xticklabels(), Fontsize=16) \n",
    "    # plt.plot(samples[:, counter])\n",
    "#     sns.distplot(norm.rvs(size=n, loc=ppriors[counter], scale=scaling[counter]), color = 'red')\n",
    "#     sns.violin(clus0_100[:, 14:][:, counter], color = 'cyan')\n",
    "#     sns.distplot(clus1_100[:, 14:][:, counter], color = 'red')\n",
    "#     sns.distplot(clus0mod[sim_idx_to_keep01][:][:, counter], color = 'indianred')\n",
    "#     sns.distplot(clus0mod[sim_idx_to_keep02][:][:, counter], color = 'mediumseagreen')\n",
    "#     sns.distplot(clus0mod[sim_idx_to_keep03][:][:, counter], color = 'steelblue')\n",
    "    plt.title(model100.parameters[idx[counter]].name, fontdict={'fontsize': 14})\n",
    "    counter += 1\n",
    "#     plt.ylim(ymin = 0, ymax=0.6)\n",
    "#     plt.xlim(xmin = -10,xmax=10)\n",
    "    plt.xticks(fontsize=14)\n",
    "    plt.yticks(fontsize=14)   \n",
    "#     plt.legend(loc = 'upper left', prop={'size': 8})\n",
    "plt.subplots_adjust(wspace=0.3)\n",
    "plt.subplots_adjust(hspace=0.6)\n",
    "# plt.savefig('pydream_priorpost_traceplot_forpapermay2020_all_chains5_33021.pdf', format='pdf')\n",
    "plt.show()"
   ]
  },
  {
   "cell_type": "code",
   "execution_count": null,
   "metadata": {},
   "outputs": [],
   "source": []
  },
  {
   "cell_type": "code",
   "execution_count": null,
   "metadata": {},
   "outputs": [],
   "source": [
    "from scipy.stats import norm,uniform\n",
    "from matplotlib.lines import Line2D\n",
    "idx = list(range(14, 26,1)) #index for parameter values after initial conditions 14-50\n",
    "counter = 0\n",
    "\n",
    "scaling = [2] * 12\n",
    "# idx = list(range(14, 51,1))\n",
    "row = 4\n",
    "col = 3\n",
    "# counter = 0\n",
    "n = 50000\n",
    "\n",
    "ndims = len(idx)\n",
    "my_pal1 = {\"Early\": \"lightcoral\",\"Constrained\":\"firebrick\",\"Delay\":\"darkred\"}\n",
    "fig = plt.figure(figsize=(20, 15))\n",
    "for i in range(1,13):\n",
    "    ax = fig.add_subplot(4, 3, i)\n",
    "    sns.violinplot(data = [np.log10(clus0mod[sim_idx_to_keep01][:][:, counter]),\n",
    "                          np.log10(clus0mod[sim_idx_to_keep02][:][:, counter]),\n",
    "                          np.log10(clus0mod[sim_idx_to_keep03][:][:, counter])],\n",
    "                          palette=['lightcoral','firebrick','darkred'])\n",
    "#     sns.violinplot(data = [np.log10(clus0mod[sim_idx_to_keep01][:][:, counter]),\n",
    "#                           np.log10(clus0mod[sim_idx_to_keep02][:][:, counter]),\n",
    "#                           np.log10(clus0mod[sim_idx_to_keep03][:][:, counter])],\n",
    "#                           palette=['yellow','yellow','yellow'])\n",
    "#     sns.swarmplot(data = [np.log10(clus0mod[sim_idx_to_keep01][:][:, counter]),\n",
    "#                           np.log10(clus0mod[sim_idx_to_keep02][:][:, counter]),\n",
    "#                           np.log10(clus0mod[sim_idx_to_keep03][:][:, counter])],\n",
    "#                           palette=['lightcoral','firebrick','darkred'])\n",
    "#     ax.violinplot(np.log10(clus0mod[sim_idx_to_keep02][:][:, counter]))\n",
    "#     ax.violinplot(np.log10(clus0mod[sim_idx_to_keep03][:][:, counter]))\n",
    "    xticklabels = ['Early', 'Constrained', 'Delayed']\n",
    "    ax.set_xticks([0,1, 2])\n",
    "    ax.set_yticks([-8, -6, -4, -2, 0, 2, 4, 6 , 8])\n",
    "    ax.set_xticklabels(xticklabels)\n",
    "# add horizontal grid lines\n",
    "# plt.ylim(ymax = 25000)\n",
    "    plt.setp(ax.get_xticklabels(), Fontsize=16) \n",
    "    # plt.plot(samples[:, counter])\n",
    "#     sns.distplot(norm.rvs(size=n, loc=ppriors[counter], scale=scaling[counter]), color = 'red')\n",
    "#     sns.violin(clus0_100[:, 14:][:, counter], color = 'cyan')\n",
    "#     sns.distplot(clus1_100[:, 14:][:, counter], color = 'red')\n",
    "#     sns.distplot(clus0mod[sim_idx_to_keep01][:][:, counter], color = 'indianred')\n",
    "#     sns.distplot(clus0mod[sim_idx_to_keep02][:][:, counter], color = 'mediumseagreen')\n",
    "#     sns.distplot(clus0mod[sim_idx_to_keep03][:][:, counter], color = 'steelblue')\n",
    "    plt.title(model100.parameters[idx[counter]].name, fontdict={'fontsize': 14})\n",
    "    counter += 1\n",
    "#     plt.ylim(ymin = -8, ymax=8)\n",
    "#     plt.xlim(xmin = -5,xmax=10)\n",
    "    plt.xticks(fontsize=14)\n",
    "    plt.yticks(fontsize=14)   \n",
    "plt.subplots_adjust(wspace=0.3)\n",
    "plt.subplots_adjust(hspace=0.6)\n",
    "# plt.savefig('pydream_priorpost_traceplot_forpapermay2020_all_chains5.pdf', format='pdf')\n",
    "plt.show()"
   ]
  },
  {
   "cell_type": "code",
   "execution_count": null,
   "metadata": {},
   "outputs": [],
   "source": [
    "from scipy.stats import norm,uniform\n",
    "from matplotlib.lines import Line2D\n",
    "idx = list(range(39, 54,1)) #index for parameter values after initial conditions 14-50\n",
    "counter = 0\n",
    "\n",
    "scaling = [2] * 15\n",
    "# idx = list(range(14, 51,1))\n",
    "row = 5\n",
    "col = 3\n",
    "# counter = 0\n",
    "n = 50000\n",
    "\n",
    "ndims = len(idx)\n",
    "# my_pal1 = {\"Cluster0\": \"indianred\",\"Cluster1\":\"indianred\",\"indianred\":\"darkred\",\"Cluster2\":\"darkred\"}\n",
    "fig = plt.figure(figsize=(20, 15))\n",
    "for i in range(1,16):\n",
    "    ax = fig.add_subplot(5, 3, i)\n",
    "    sns.swarmplot(data = [np.log10(clus0mod[:][:, counter]),\n",
    "                          np.log10(clus1mod[:][:, counter]),\n",
    "                          np.log10(clus2mod[:][:, counter]),\n",
    "                          np.log10(clus3mod[:][:, counter])], color = 'indianred')\n",
    "#     sns.violinplot(data = [np.log10(clus0mod[sim_idx_to_keep01][:][:, counter]),\n",
    "#                           np.log10(clus0mod[sim_idx_to_keep02][:][:, counter]),\n",
    "#                           np.log10(clus0mod[sim_idx_to_keep03][:][:, counter])],\n",
    "#                           palette=['yellow','yellow','yellow'])\n",
    "#     sns.swarmplot(data = [np.log10(clus0mod[sim_idx_to_keep01][:][:, counter]),\n",
    "#                           np.log10(clus0mod[sim_idx_to_keep02][:][:, counter]),\n",
    "#                           np.log10(clus0mod[sim_idx_to_keep03][:][:, counter])],\n",
    "#                           palette=['lightcoral','firebrick','darkred'])\n",
    "#     ax.violinplot(np.log10(clus0mod[sim_idx_to_keep02][:][:, counter]))\n",
    "#     ax.violinplot(np.log10(clus0mod[sim_idx_to_keep03][:][:, counter]))\n",
    "    xticklabels = ['Cluster0', 'Cluster1', 'Cluster2','Cluster3']\n",
    "    ax.set_xticks([0,1,2,3])\n",
    "    ax.set_yticks([-8, -6, -4, -2, 0, 2, 4, 6 , 8])\n",
    "    ax.set_xticklabels(xticklabels)\n",
    "# add horizontal grid lines\n",
    "# plt.ylim(ymax = 25000)\n",
    "    plt.setp(ax.get_xticklabels(), Fontsize=16) \n",
    "    # plt.plot(samples[:, counter])\n",
    "#     sns.distplot(norm.rvs(size=n, loc=ppriors[counter], scale=scaling[counter]), color = 'red')\n",
    "#     sns.violin(clus0_100[:, 14:][:, counter], color = 'cyan')\n",
    "#     sns.distplot(clus1_100[:, 14:][:, counter], color = 'red')\n",
    "#     sns.distplot(clus0mod[sim_idx_to_keep01][:][:, counter], color = 'indianred')\n",
    "#     sns.distplot(clus0mod[sim_idx_to_keep02][:][:, counter], color = 'mediumseagreen')\n",
    "#     sns.distplot(clus0mod[sim_idx_to_keep03][:][:, counter], color = 'steelblue')\n",
    "    plt.title(model100.parameters[idx[counter]].name, fontdict={'fontsize': 14})\n",
    "    counter += 1\n",
    "    plt.ylim(ymin = -10, ymax=8)\n",
    "#     plt.xlim(xmin = -5,xmax=10)\n",
    "    plt.xticks(fontsize=14)\n",
    "    plt.yticks(fontsize=14)   \n",
    "plt.subplots_adjust(wspace=0.3)\n",
    "plt.subplots_adjust(hspace=0.6)\n",
    "# plt.savefig('pydream_priorpost_traceplot_forpapermay2020_all_chains5.pdf', format='pdf')\n",
    "plt.show()"
   ]
  },
  {
   "cell_type": "code",
   "execution_count": null,
   "metadata": {},
   "outputs": [],
   "source": [
    "from scipy.stats import norm,uniform\n",
    "from matplotlib.lines import Line2D\n",
    "idx = list(range(14, 54,1)) #index for parameter values after initial conditions 14-50\n",
    "counter = 0\n",
    "\n",
    "scaling = [2] * 40\n",
    "# idx = list(range(14, 51,1))\n",
    "row = 8\n",
    "col = 5\n",
    "# counter = 0\n",
    "n = 50000\n",
    "\n",
    "ndims = len(idx)\n",
    "\n",
    "fig = plt.figure(figsize=(20, 15))\n",
    "for i in range(1,41):\n",
    "    ax = fig.add_subplot(8, 5, i)\n",
    "    ax.violinplot(np.log10(clus0mod[sim_idx_to_keep03][:][:, counter]))\n",
    "    xticklabels = ['Early', 'Constrained', 'Delayed']\n",
    "    ax.set_xticks([1,2,3])\n",
    "    ax.set_xticklabels(xticklabels)\n",
    "# add horizontal grid lines\n",
    "# plt.ylim(ymax = 25000)\n",
    "    plt.setp(ax.get_xticklabels(), Fontsize=16) \n",
    "    # plt.plot(samples[:, counter])\n",
    "#     sns.distplot(norm.rvs(size=n, loc=ppriors[counter], scale=scaling[counter]), color = 'red')\n",
    "#     sns.violin(clus0_100[:, 14:][:, counter], color = 'cyan')\n",
    "#     sns.distplot(clus1_100[:, 14:][:, counter], color = 'red')\n",
    "#     sns.distplot(clus0mod[sim_idx_to_keep01][:][:, counter], color = 'indianred')\n",
    "#     sns.distplot(clus0mod[sim_idx_to_keep02][:][:, counter], color = 'mediumseagreen')\n",
    "#     sns.distplot(clus0mod[sim_idx_to_keep03][:][:, counter], color = 'steelblue')\n",
    "    plt.title(model100.parameters[idx[counter]].name, fontdict={'fontsize': 14})\n",
    "    counter += 1\n",
    "#     plt.ylim(ymax=0.65)\n",
    "#     plt.xlim(xmin = -5,xmax=10)\n",
    "    plt.xticks(fontsize=14)\n",
    "    plt.yticks(fontsize=14)   \n",
    "plt.subplots_adjust(wspace=0.3)\n",
    "plt.subplots_adjust(hspace=0.6)\n",
    "# plt.savefig('pydream_priorpost_traceplot_forpapermay2020_all_chains5.pdf', format='pdf')\n",
    "plt.show()"
   ]
  },
  {
   "cell_type": "code",
   "execution_count": null,
   "metadata": {},
   "outputs": [],
   "source": [
    "plt.figure()\n",
    "sns.distplot(np.log10(clus0mod[:][:, counter]))\n",
    "plt.show()"
   ]
  },
  {
   "cell_type": "code",
   "execution_count": null,
   "metadata": {},
   "outputs": [],
   "source": [
    "print(clus0mod[sim_idx_to_keep02][:][:,0])\n",
    "print(clus0mod[sim_idx_to_keep01][:][:,0])\n",
    "print(clus0mod[sim_idx_to_keep03][:][:,0])"
   ]
  },
  {
   "cell_type": "code",
   "execution_count": null,
   "metadata": {},
   "outputs": [],
   "source": [
    "allsim0 = [clus0mod[sim_idx_to_keep01][:][:,14], \n",
    "           clus0mod[sim_idx_to_keep02][:][:,14],\n",
    "           clus0mod[sim_idx_to_keep03][:][:,14]]"
   ]
  },
  {
   "cell_type": "code",
   "execution_count": null,
   "metadata": {},
   "outputs": [],
   "source": [
    "df_0 = c3df100wt.groupby('simulation')"
   ]
  },
  {
   "cell_type": "code",
   "execution_count": null,
   "metadata": {},
   "outputs": [],
   "source": [
    "df = pd.DataFrame({'A' : clus0mod[sim_idx_to_keep01][:][:,14],\n",
    "                   'B' : clus0mod[sim_idx_to_keep02][:][:,14],\n",
    "                   'C' : clus0mod[sim_idx_to_keep03][:][:,14]})"
   ]
  },
  {
   "cell_type": "code",
   "execution_count": null,
   "metadata": {},
   "outputs": [],
   "source": [
    "newlist = [np.log10(clus0mod[sim_idx_to_keep01][:][:,0]),\n",
    "          np.log10(clus0mod[sim_idx_to_keep02][:][:,0]),\n",
    "          np.log10(clus0mod[sim_idx_to_keep03][:][:,0])]\n",
    "newlist2 = [np.log10(clus0mod[sim_idx_to_keep01][:][:,1]),\n",
    "          np.log10(clus0mod[sim_idx_to_keep02][:][:,1]),\n",
    "          np.log10(clus0mod[sim_idx_to_keep03][:][:,1])]"
   ]
  },
  {
   "cell_type": "code",
   "execution_count": null,
   "metadata": {},
   "outputs": [],
   "source": [
    "g = 14"
   ]
  },
  {
   "cell_type": "code",
   "execution_count": null,
   "metadata": {},
   "outputs": [],
   "source": [
    "# fig = plt.figure(figsize=(20, 15))\n",
    "# for i in range(1,41):\n",
    "#     ax = fig.add_subplot(8, 5, i)\n",
    "    # plt.plot(samples[:, counter])\n",
    "# fig = plt.figure(figsize=(20, 5))\n",
    "fig, axes = plt.subplots(1, 3, figsize=(28, 7), sharex=True)\n",
    "plt.subplot(131)\n",
    "# sns.distplot(clus3_100[:, 42])\n",
    "sns.distplot(clus0mod[sim_idx_to_keep01][:][:,1g])\n",
    "# sns.distplot(clus2_100[:, 48])\n",
    "# sns.distplot(clus2_100n[:, 45])\n",
    "# sns.distplot(clus2_100nn[:, 45])\n",
    "plt.ylim(ymax=115)\n",
    "plt.xlim(xmin = -1,xmax=2)\n",
    "plt.xticks(fontsize=14)\n",
    "plt.yticks(fontsize=14)\n",
    "# plt.xticks(np.arange(-10, 11, 5))\n",
    "plt.xticks(fontsize=16)\n",
    "plt.yticks(fontsize=16)\n",
    "# plt.title('RIP1ub + A20/CYLD -> RIP1ub:A20/CYLD',fontsize=15)\n",
    "# plt.xlabel(\"Log(10) Value\", fontsize=20)\n",
    "plt.ylabel(\"Probability\", fontsize=20, labelpad=15)\n",
    "custom_lines = [Line2D([0], [0], color='blue', lw=4),\n",
    "                Line2D([0], [0], color='orange', lw=4),\n",
    "               Line2D([0], [0], color='red', lw=4)]\n",
    "# plt.legend(custom_lines, [r'$RIP1trunc$',r'$Necro$', 'c8rip3trunc'], prop={'size': 15}, loc = 'best')\n",
    "plt.subplots_adjust(wspace=0.3)\n",
    "plt.subplots_adjust(hspace=0.6)\n",
    "\n",
    "plt.subplot(132)\n",
    "# sns.distplot(clus3_100[:, 47])\n",
    "sns.distplot(clus0mod[sim_idx_to_keep02][:][:,g])\n",
    "# plt.ylim(ymax=0.0005)\n",
    "plt.xlim(xmin = -0.5,xmax=10)\n",
    "plt.xticks(fontsize=14)\n",
    "plt.yticks(fontsize=14)\n",
    "# plt.xticks(np.arange(-10, 11, 5))\n",
    "plt.xticks(fontsize=16)\n",
    "plt.yticks(fontsize=16)\n",
    "# plt.title('RIP1ub:A20 -> RIP1ub + A20/CYLD', fontsize=15)\n",
    "plt.xlabel(\"Log(10) Value\", fontsize=20)\n",
    "# plt.ylabel(\"Probability\", fontsize=20, labelpad=15)\n",
    "custom_lines = [Line2D([0], [0], color='blue', lw=4),\n",
    "                Line2D([0], [0], color='orange', lw=4)]\n",
    "# plt.legend(custom_lines, [r'$c8af$',r'$rip3f$'], prop={'size': 15}, loc = 'best')\n",
    "plt.subplots_adjust(wspace=0.3)\n",
    "plt.subplots_adjust(hspace=0.6)\n",
    "plt.subplot(133)\n",
    "# sns.distplot(clus2_100[:, 41])\n",
    "sns.distplot(clus0mod[sim_idx_to_keep03][:][:,g])\n",
    "# sns.distplot(clus2_100[:, 52])\n",
    "# plt.ylim(ymax=2)\n",
    "plt.xlim(xmin = -1,xmax=10)\n",
    "plt.xticks(fontsize=14)\n",
    "plt.yticks(fontsize=14)\n",
    "# plt.xticks(np.arange(-10, 11, 5))\n",
    "plt.xticks(fontsize=16)\n",
    "plt.yticks(fontsize=16)\n",
    "# plt.title('RIP1ub:A20/CYLD -> RIP1deub + A20/CYLD',fontsize=15)\n",
    "# plt.xlabel(\"Log(10) Value\", fontsize=17)\n",
    "# plt.ylabel(\"Probability\", fontsize=20, labelpad=15)\n",
    "custom_lines = [Line2D([0], [0], color='blue', lw=4),\n",
    "                Line2D([0], [0], color='orange', lw=4)]\n",
    "# plt.legend(custom_lines, [r'$c8ar$',r'$rip3r$'], prop={'size': 15}, loc = 'best')\n",
    "plt.subplots_adjust(wspace=0.3)\n",
    "plt.subplots_adjust(hspace=0.6)\n",
    "# fig.savefig(\"updatedkos/necro_5720_pydream_posta20cyldpardists_allchains5.pdf\")\n",
    "plt.show()"
   ]
  },
  {
   "cell_type": "code",
   "execution_count": null,
   "metadata": {},
   "outputs": [],
   "source": [
    "tspan = np.linspace(0, 1800, 500)\n",
    "tspan1 = np.linspace(0, 580, 155)\n",
    "tspan2 = np.linspace(580, 761, 181)\n",
    "tspan3 = np.linspace(761, 1800, 297)"
   ]
  },
  {
   "cell_type": "code",
   "execution_count": null,
   "metadata": {},
   "outputs": [],
   "source": [
    "solverwt0 = ScipyOdeSimulator(model100, tspan=tspan, verbose = True)\n",
    "wtclus0 = solverwt0.run(param_values=clus0_100, num_processors = 20)\n",
    "c0df100wt = wtclus0.dataframe"
   ]
  },
  {
   "cell_type": "code",
   "execution_count": null,
   "metadata": {},
   "outputs": [],
   "source": [
    "solverwt0 = ScipyOdeSimulator(model100, tspan=tspan2, verbose = True)\n",
    "wtclus0 = solverwt0.run(param_values=clus0_100, num_processors = 20)\n",
    "c0df100wt22 = wtclus0.dataframe"
   ]
  },
  {
   "cell_type": "code",
   "execution_count": null,
   "metadata": {},
   "outputs": [],
   "source": [
    "solverwt0 = ScipyOdeSimulator(model100, tspan=tspan3, verbose = True)\n",
    "wtclus0 = solverwt0.run(param_values=clus0_100, num_processors = 20)\n",
    "c0df100wt33 = wtclus0.dataframe"
   ]
  },
  {
   "cell_type": "code",
   "execution_count": null,
   "metadata": {},
   "outputs": [],
   "source": [
    "print(c0df100wt.shape)"
   ]
  },
  {
   "cell_type": "code",
   "execution_count": null,
   "metadata": {},
   "outputs": [],
   "source": [
    "solverwt0 = ScipyOdeSimulator(model100, tspan=tspan, verbose = True)\n",
    "wtclus0 = solverwt0.run(param_values=clus0_100[sim_idx_to_keep01], num_processors = 10)\n",
    "c0df100wt1 = wtclus0.dataframe"
   ]
  },
  {
   "cell_type": "code",
   "execution_count": null,
   "metadata": {},
   "outputs": [],
   "source": [
    "solverwt0 = ScipyOdeSimulator(model100, tspan=tspan, verbose = True)\n",
    "wtclus0 = solverwt0.run(param_values=clus0_100[sim_idx_to_keep02], num_processors = 10)\n",
    "c0df100wt2 = wtclus0.dataframe"
   ]
  },
  {
   "cell_type": "code",
   "execution_count": null,
   "metadata": {},
   "outputs": [],
   "source": [
    "solverwt0 = ScipyOdeSimulator(model100, tspan=tspan, verbose = True)\n",
    "wtclus0 = solverwt0.run(param_values=clus0_100[sim_idx_to_keep03], num_processors = 10)\n",
    "c0df100wt3 = wtclus0.dataframe"
   ]
  },
  {
   "cell_type": "code",
   "execution_count": null,
   "metadata": {},
   "outputs": [],
   "source": [
    "solverwt1 = ScipyOdeSimulator(model100, tspan=tspan, verbose = True)\n",
    "wtclus1 = solverwt1.run(param_values=clus1_100)\n",
    "c1df100wt = wtclus1.dataframe"
   ]
  },
  {
   "cell_type": "code",
   "execution_count": null,
   "metadata": {},
   "outputs": [],
   "source": [
    "solverwt2 = ScipyOdeSimulator(model100, tspan=tspan, verbose = True)\n",
    "wtclus2 = solverwt2.run(param_values=clus2_100)\n",
    "c2df100wt = wtclus2.dataframe"
   ]
  },
  {
   "cell_type": "code",
   "execution_count": null,
   "metadata": {},
   "outputs": [],
   "source": [
    "solverwt3 = ScipyOdeSimulator(model100, tspan=tspan, verbose = True)\n",
    "wtclus3 = solverwt3.run(param_values=clus3_100[sim_idx_to_keepall])\n",
    "c3df100wt = wtclus3.dataframe"
   ]
  },
  {
   "cell_type": "code",
   "execution_count": null,
   "metadata": {},
   "outputs": [],
   "source": [
    "solverwt3 = ScipyOdeSimulator(model100, tspan=tspan, verbose = True)\n",
    "wtclus3 = solverwt3.run(param_values=clus3_100[sim_idx_to_keep31])\n",
    "c3df100wt1 = wtclus3.dataframe"
   ]
  },
  {
   "cell_type": "code",
   "execution_count": null,
   "metadata": {},
   "outputs": [],
   "source": [
    "solverwt3 = ScipyOdeSimulator(model100, tspan=tspan, verbose = True)\n",
    "wtclus3 = solverwt3.run(param_values=clus3_100[sim_idx_to_keep32])\n",
    "c3df100wt2 = wtclus3.dataframe"
   ]
  },
  {
   "cell_type": "code",
   "execution_count": null,
   "metadata": {},
   "outputs": [],
   "source": [
    "solverwt3 = ScipyOdeSimulator(model100, tspan=tspan, verbose = True)\n",
    "wtclus3 = solverwt3.run(param_values=clus3_100[sim_idx_to_keep33])\n",
    "c3df100wt3 = wtclus3.dataframe"
   ]
  },
  {
   "cell_type": "code",
   "execution_count": null,
   "metadata": {},
   "outputs": [],
   "source": []
  },
  {
   "cell_type": "code",
   "execution_count": null,
   "metadata": {},
   "outputs": [],
   "source": [
    "solverwt3 = ScipyOdeSimulator(model100, tspan=tspan, verbose = True)\n",
    "wtclus3 = solverwt3.run(param_values=clus3_100[sim_idx_to_keep3], num_processors = 10)\n",
    "c3df100wtn = wtclus3.dataframe"
   ]
  },
  {
   "cell_type": "code",
   "execution_count": null,
   "metadata": {
    "scrolled": true
   },
   "outputs": [],
   "source": [
    "for i,l in enumerate(np.linspace(0,1800,500)):\n",
    "    print(i,\":\",l)"
   ]
  },
  {
   "cell_type": "code",
   "execution_count": null,
   "metadata": {},
   "outputs": [],
   "source": [
    "plt.figure(figsize = (11,7))\n",
    "for n in sim_idx_to_keep:\n",
    "    plt.plot(tspan, dfcyldn.loc[n]['MLKLa_obs'].iloc[:], zorder = 1, alpha = 1,color = 'mediumseagreen')\n",
    "    plt.plot(tspan, dfcyldnn.loc[n]['MLKLa_obs'].iloc[:],zorder = 2, alpha = 0.7, color = 'indianred')\n",
    "plt.xlim(xmax = 1800)    \n",
    "plt.show()  "
   ]
  },
  {
   "cell_type": "code",
   "execution_count": null,
   "metadata": {},
   "outputs": [],
   "source": [
    "sim_idx_to_keep01 = [idx for idx in range(len(clus0_100)) if c0df100wt['MLKLa_obs'][idx].iloc[165] >= 2772]\n",
    "sim_idx_to_keep02 = [idx for idx in range(len(clus0_100)) if c0df100wt['MLKLa_obs'][idx].iloc[165] < 2772 \n",
    "                     and c0df100wt['MLKLa_obs'][idx].iloc[201] >= 2772]\n",
    "sim_idx_to_keep03 = [idx for idx in range(len(clus0_100)) if c0df100wt['MLKLa_obs'][idx].iloc[201] < 2772 \n",
    "                     and c0df100wt['MLKLa_obs'][idx].iloc[499] >= 2772]\n",
    "print(len(sim_idx_to_keep01))\n",
    "print(len(sim_idx_to_keep02))\n",
    "print(len(sim_idx_to_keep03))"
   ]
  },
  {
   "cell_type": "code",
   "execution_count": null,
   "metadata": {},
   "outputs": [],
   "source": [
    "sim_idx_to_keep01ee = [idx for idx in range(len(clus0_100)) if c0df100wt['MLKLa_obs'][idx].iloc[139] >= 2772]"
   ]
  },
  {
   "cell_type": "code",
   "execution_count": null,
   "metadata": {},
   "outputs": [],
   "source": [
    "sim_idx_to_keep31 = [idx for idx in range(len(clus3_100)) if c3df100wt['MLKLa_obs'][idx].iloc[165] >= 2772]\n",
    "sim_idx_to_keep32 = [idx for idx in range(len(clus3_100)) if c3df100wt['MLKLa_obs'][idx].iloc[165] < 2772 \n",
    "                 and c3df100wt['MLKLa_obs'][idx].iloc[203] >= 2772]\n",
    "sim_idx_to_keep33 = [idx for idx in range(len(clus3_100)) if c3df100wt['MLKLa_obs'][idx].iloc[203] < 2772 \n",
    "                     and c3df100wt['MLKLa_obs'][idx].iloc[499] >= 2772]\n",
    "sim_idx_to_keepall = [idx for idx in range(len(clus3_100)) if c3df100wt['MLKLa_obs'][idx].iloc[499] >= 2772]\n",
    "\n",
    "# sim_idx_to_keep1 = [idx for idx in range(len(clus1_100)) if c1df100wt['MLKLa_obs'][idx].iloc[-87] > 5544]\n",
    "# sim_idx_to_keep2 = [idx for idx in range(len(clus2_100)) if c2df100wt['MLKLa_obs'][idx].iloc[-87] > 5544]\n",
    "# sim_idx_to_keep3 = [idx for idx in range(len(clus3_100)) if c3df100wt['MLKLa_obs'][idx].iloc[-132] < 5000]\n",
    "print(len(sim_idx_to_keep31))\n",
    "print(len(sim_idx_to_keep32))\n",
    "print(len(sim_idx_to_keep33))\n",
    "print(len(sim_idx_to_keepall))\n",
    "# print(len(sim_idx_to_keep2))\n",
    "# print(len(sim_idx_to_keepn))"
   ]
  },
  {
   "cell_type": "code",
   "execution_count": null,
   "metadata": {},
   "outputs": [],
   "source": [
    "clus3_100new = np.array([sim_idx_to_keep31,sim_idx_to_keep32,sim_idx_to_keep33])"
   ]
  },
  {
   "cell_type": "code",
   "execution_count": null,
   "metadata": {},
   "outputs": [],
   "source": [
    "print(clus3_100new)"
   ]
  },
  {
   "cell_type": "code",
   "execution_count": null,
   "metadata": {},
   "outputs": [],
   "source": [
    "clus3_100[2807]"
   ]
  },
  {
   "cell_type": "code",
   "execution_count": null,
   "metadata": {},
   "outputs": [],
   "source": [
    "clus3 = [idx for idx in range(len(clus3_100))]"
   ]
  },
  {
   "cell_type": "code",
   "execution_count": null,
   "metadata": {},
   "outputs": [],
   "source": [
    "index = [262, 619, 770, 1139, 1269, 1461, 1528, 1585, 1726, 1733, \n",
    "         1759, 2076, 2248, 2319, 2521, 2531, 2729, 2753, 2802, 2807]\n",
    "\n",
    "clus3_100new = np.delete(clus3_100, index)"
   ]
  },
  {
   "cell_type": "code",
   "execution_count": null,
   "metadata": {},
   "outputs": [],
   "source": [
    "print(len(clus3_100new))\n",
    "print(len(clus3_100))"
   ]
  },
  {
   "cell_type": "code",
   "execution_count": null,
   "metadata": {},
   "outputs": [],
   "source": [
    "for element in sim_idx_to_keep33:\n",
    "    if element in sim_idx_to_keeptest:\n",
    "        sim_idx_to_keeptest.remove(element)\n",
    "\n",
    "print(len(sim_idx_to_keeptest))"
   ]
  },
  {
   "cell_type": "code",
   "execution_count": null,
   "metadata": {},
   "outputs": [],
   "source": [
    "print(sim_idx_to_keeptest)"
   ]
  },
  {
   "cell_type": "code",
   "execution_count": null,
   "metadata": {},
   "outputs": [],
   "source": [
    "c3df100wt['MLKLa_obs'][:].iloc[:]"
   ]
  },
  {
   "cell_type": "code",
   "execution_count": null,
   "metadata": {},
   "outputs": [],
   "source": []
  },
  {
   "cell_type": "code",
   "execution_count": null,
   "metadata": {},
   "outputs": [],
   "source": []
  },
  {
   "cell_type": "code",
   "execution_count": null,
   "metadata": {},
   "outputs": [],
   "source": []
  },
  {
   "cell_type": "code",
   "execution_count": null,
   "metadata": {},
   "outputs": [],
   "source": [
    "for element in sim_idx_to_keep31:\n",
    "    if element in sim_idx_to_keep32:\n",
    "        sim_idx_to_keep32.remove(element)\n",
    "\n",
    "print(len(sim_idx_to_keep32))"
   ]
  },
  {
   "cell_type": "code",
   "execution_count": null,
   "metadata": {},
   "outputs": [],
   "source": [
    "for element in sim_idx_to_keep32:\n",
    "    if element in sim_idx_to_keep33:\n",
    "        sim_idx_to_keep33.remove(element)\n",
    "\n",
    "print(len(sim_idx_to_keep33))"
   ]
  },
  {
   "cell_type": "code",
   "execution_count": null,
   "metadata": {},
   "outputs": [],
   "source": []
  },
  {
   "cell_type": "code",
   "execution_count": null,
   "metadata": {},
   "outputs": [],
   "source": [
    "for element in sim_idx_to_keep02:\n",
    "    if element in sim_idx_to_keep03:\n",
    "        sim_idx_to_keep03.remove(element)\n",
    "\n",
    "print(len(sim_idx_to_keep03))"
   ]
  },
  {
   "cell_type": "code",
   "execution_count": null,
   "metadata": {},
   "outputs": [],
   "source": [
    "print(len(clus0_100))\n",
    "print(len(clus1_100))\n",
    "print(len(clus2_100))\n",
    "print(len(clus3_100))"
   ]
  },
  {
   "cell_type": "code",
   "execution_count": null,
   "metadata": {},
   "outputs": [],
   "source": [
    "plt.figure(figsize = (11,7))\n",
    "for n in sim_idx_to_keep01:\n",
    "    plt.plot(tspan, c0df100wt.loc[n]['MLKLa_obs'].iloc[:], zorder = 1, alpha = 1,color = 'lightcoral')\n",
    "for n in sim_idx_to_keep02:\n",
    "    plt.plot(tspan, c0df100wt.loc[n]['MLKLa_obs'].iloc[:], zorder = 1, alpha = 1,color = 'firebrick')    \n",
    "for n in sim_idx_to_keep03:\n",
    "    plt.plot(tspan, c0df100wt.loc[n]['MLKLa_obs'].iloc[:], zorder = 1, alpha = 1,color = 'darkred') \n",
    "# plt.xlim(xmin =200, xmax = 500)    \n",
    "plt.axvline(x=550, color = 'black')\n",
    "plt.axvline(x=761, color = 'black')\n",
    "plt.axvline(x=1100, color = 'black')\n",
    "plt.axhline(y=2772, color = 'black')\n",
    "# plt.savefig('figs/Cluster0/pmlkl_100tnf_clus0traj_5720newhalfmax_splits.pdf')\n",
    "plt.show()  "
   ]
  },
  {
   "cell_type": "code",
   "execution_count": null,
   "metadata": {},
   "outputs": [],
   "source": [
    "#[262, 619, 770, 1139, 1269, 1461, 1528, 1585, 1726, 1733, 1759, 2076, 2248, 2319, 2521, 2531, 2729, 2753, 2802, 2807]\n",
    "plt.figure(figsize = (11,7))\n",
    "# for n in sim_idx_to_keeptest[0]:\n",
    "plt.plot(tspan, c3df100wt.loc[2807]['MLKLa_obs'].iloc[:], zorder = 1, alpha = 1,color = 'lightcoral')\n",
    "# plt.xlim(xmin =200, xmax = 500)    \n",
    "plt.axvline(x=545, color = 'black')\n",
    "plt.axvline(x=735, color = 'black')\n",
    "plt.axhline(y=2772, color = 'black')\n",
    "# plt.savefig('figs/Cluster0/pmlkl_100tnf_clus0traj_5720newhalfmax_splits.pdf')\n",
    "plt.show()  "
   ]
  },
  {
   "cell_type": "code",
   "execution_count": null,
   "metadata": {},
   "outputs": [],
   "source": [
    "c3df100wt.loc[2802]['MLKLa_obs'].iloc[:]"
   ]
  },
  {
   "cell_type": "code",
   "execution_count": null,
   "metadata": {},
   "outputs": [],
   "source": [
    "plt.figure(figsize = (11,7))\n",
    "for n in sim_idx_to_keep31:\n",
    "    plt.plot(tspan, c3df100wt.loc[n]['MLKLa_obs'].iloc[:], zorder = 1, alpha = 1,color = 'lightcoral')\n",
    "for n in sim_idx_to_keep32:\n",
    "    plt.plot(tspan, c3df100wt.loc[n]['MLKLa_obs'].iloc[:], zorder = 1, alpha = 1,color = 'firebrick')    \n",
    "for n in sim_idx_to_keep33:\n",
    "    plt.plot(tspan, c3df100wt.loc[n]['MLKLa_obs'].iloc[:], zorder = 1, alpha = 1,color = 'darkred') \n",
    "# plt.xlim(xmin =200, xmax = 500)    \n",
    "plt.axvline(x=545, color = 'black')\n",
    "plt.axvline(x=735, color = 'black')\n",
    "plt.axhline(y=2772, color = 'black')\n",
    "# plt.savefig('figs/Cluster0/pmlkl_100tnf_clus0traj_5720newhalfmax_splits.pdf')\n",
    "plt.show()  "
   ]
  },
  {
   "cell_type": "code",
   "execution_count": null,
   "metadata": {},
   "outputs": [],
   "source": []
  },
  {
   "cell_type": "code",
   "execution_count": null,
   "metadata": {},
   "outputs": [],
   "source": []
  },
  {
   "cell_type": "code",
   "execution_count": null,
   "metadata": {},
   "outputs": [],
   "source": [
    "threshold2 = 2772"
   ]
  },
  {
   "cell_type": "code",
   "execution_count": null,
   "metadata": {},
   "outputs": [],
   "source": [
    "c0df100wt1[:197]"
   ]
  },
  {
   "cell_type": "code",
   "execution_count": null,
   "metadata": {},
   "outputs": [],
   "source": [
    "df_threshtimesc0100wt0 = c0.groupby('simulation').apply(lambda x: (x > threshold2).idxmax()).apply(lambda x: [y[1] for y in x])\n"
   ]
  },
  {
   "cell_type": "code",
   "execution_count": null,
   "metadata": {},
   "outputs": [],
   "source": [
    "# df_threshtimesc0100wt0 = c0df100wt.groupby('simulation').apply(lambda x: (x > threshold2).idxmax()).apply(lambda x: [y[1] for y in x])\n",
    "df_threshtimesc0100wt1 = c0e.groupby('simulation').apply(lambda x: (x > threshold2).idxmax()).apply(lambda x: [y[1] for y in x])\n",
    "df_threshtimesc0100wt2 = c0m.groupby('simulation').apply(lambda x: (x > threshold2).idxmax()).apply(lambda x: [y[1] for y in x])\n",
    "df_threshtimesc0100wt3 = c0d.groupby('simulation').apply(lambda x: (x > threshold2).idxmax()).apply(lambda x: [y[1] for y in x])"
   ]
  },
  {
   "cell_type": "code",
   "execution_count": null,
   "metadata": {},
   "outputs": [],
   "source": [
    "df_threshtimesc3100wt0 = c0.groupby('simulation').apply(lambda x: (x > threshold2).idxmax()).apply(lambda x: [y[1] for y in x])"
   ]
  },
  {
   "cell_type": "code",
   "execution_count": null,
   "metadata": {},
   "outputs": [],
   "source": [
    "# df_threshtimesc3100wt0 = c3df100wt.groupby('simulation').apply(lambda x: (x > threshold2).idxmax()).apply(lambda x: [y[1] for y in x])\n",
    "df_threshtimesc3100wt1 = c3df100wt1.groupby('simulation').apply(lambda x: (x > threshold2).idxmax()).apply(lambda x: [y[1] for y in x])\n",
    "df_threshtimesc3100wt2 = c3df100wt2.groupby('simulation').apply(lambda x: (x > threshold2).idxmax()).apply(lambda x: [y[1] for y in x])\n",
    "df_threshtimesc3100wt3 = c3df100wt3.groupby('simulation').apply(lambda x: (x > threshold2).idxmax()).apply(lambda x: [y[1] for y in x])"
   ]
  },
  {
   "cell_type": "code",
   "execution_count": null,
   "metadata": {},
   "outputs": [],
   "source": [
    "cluswtall10 = pd.DataFrame({'WT_early': df_threshtimesc0100wt0['MLKLa_obs']})"
   ]
  },
  {
   "cell_type": "code",
   "execution_count": null,
   "metadata": {},
   "outputs": [],
   "source": [
    "cluswtall1 = pd.DataFrame({'WT_early': df_threshtimesc0100wt1['MLKLa_obs']})\n",
    "cluswtall2 = pd.DataFrame({'WT_constrained': df_threshtimesc0100wt2['MLKLa_obs']})\n",
    "cluswtall3 = pd.DataFrame({'Cluster0': df_threshtimesc0100wt3['MLKLa_obs']})"
   ]
  },
  {
   "cell_type": "code",
   "execution_count": null,
   "metadata": {},
   "outputs": [],
   "source": [
    "# cluswtall3 = pd.DataFrame({'WT_early': df_threshtimesc3100wt0['MLKLa_obs']})\n",
    "cluswtall31 = pd.DataFrame({'WT_early': df_threshtimesc3100wt1['MLKLa_obs']})\n",
    "cluswtall32 = pd.DataFrame({'WT_constrained': df_threshtimesc3100wt2['MLKLa_obs']})\n",
    "cluswtall33 = pd.DataFrame({'Cluster3': df_threshtimesc3100wt3['MLKLa_obs']})"
   ]
  },
  {
   "cell_type": "code",
   "execution_count": null,
   "metadata": {},
   "outputs": [],
   "source": [
    "cluswtall3 = pd.DataFrame({'WT': df_threshtimesc3100wt0['MLKLa_obs']})"
   ]
  },
  {
   "cell_type": "code",
   "execution_count": null,
   "metadata": {},
   "outputs": [],
   "source": [
    "dfwt = pd.DataFrame(data = cluswtall, columns = ['WT_early','WT_constrained','WT_delay'])"
   ]
  },
  {
   "cell_type": "code",
   "execution_count": null,
   "metadata": {},
   "outputs": [],
   "source": [
    "dfwt = pd.DataFrame(data = cluswtall)"
   ]
  },
  {
   "cell_type": "code",
   "execution_count": null,
   "metadata": {},
   "outputs": [],
   "source": [
    "plt.figure(figsize = (20,6))\n",
    "my_pal1 = {\"WT_early\": \"lightcoral\"}\n",
    "my_pal2 = {\"WT_constrained\":\"red\"}\n",
    "my_pal3 = { \"Cluster0\":\"darkred\"}\n",
    "# sns.swarmplot(x=\"value\", y=\"variable\", data=pd.melt(cluswtall3), zorder=2, color = 'indianred', alpha = 0.8)\n",
    "sns.swarmplot(x=\"value\", y=\"variable\", data=pd.melt(cluswtall1), zorder=1, palette=my_pal1)\n",
    "sns.swarmplot(x=\"value\", y=\"variable\", data=pd.melt(cluswtall2), zorder=1, palette=my_pal2)\n",
    "sns.swarmplot(x=\"value\", y=\"variable\", data=pd.melt(cluswtall3), zorder=1, palette=my_pal3)\n",
    "plt.axvline(x=577, color = 'black', linestyle = '--', lw = 3)\n",
    "plt.axvline(x=707, color = 'black', linestyle = '--', lw = 3)\n",
    "# plt.axvline(x=500, color = 'black', linestyle = '--', lw = 3)\n",
    "plt.xlabel(\"Time (minutes)\",fontsize=17)\n",
    "plt.ylabel(\"Cluster 0\",fontsize=17)\n",
    "plt.tick_params(labelsize=17)\n",
    "plt.xlim(xmax = 1800, xmin = 0)\n",
    "# plt.savefig('figs/pmlkl_100tnf_allcluswkos_swarm_5720modnew.pdf')\n",
    "plt.savefig('figs/Cluster0/pmlkl_100tnf_clus0box_wswarm_5720newhalfmax_splitscolorswlinesreds.pdf')\n",
    "plt.show()"
   ]
  },
  {
   "cell_type": "code",
   "execution_count": null,
   "metadata": {},
   "outputs": [],
   "source": [
    "plt.figure(figsize = (20,6))\n",
    "my_pal1 = {\"WT_early\": \"lightcoral\"}\n",
    "my_pal2 = {\"WT_constrained\":\"firebrick\"}\n",
    "my_pal3 = { \"Cluster3\":\"darkred\"}\n",
    "sns.swarmplot(x=\"value\", y=\"variable\", data=pd.melt(cluswtall10), zorder=2, color = 'lightcoral', alpha = 0.8)\n",
    "# plt.axvline(x=595, color = 'black', linestyle = '--', lw = 3)\n",
    "# plt.axvline(x=725, color = 'black', linestyle = '--', lw = 3)\n",
    "plt.axvline(x=577, color = 'black', linestyle = '--', lw = 3)\n",
    "plt.axvline(x=707, color = 'black', linestyle = '--', lw = 3)\n",
    "plt.xlabel(\"Time (minutes)\",fontsize=17)\n",
    "plt.ylabel(\"Cluster 0\",fontsize=17)\n",
    "plt.tick_params(labelsize=17)\n",
    "plt.xlim(xmax = 1800, xmin = 0)\n",
    "# plt.savefig('figs/pmlkl_100tnf_allcluswkos_swarm_5720modnew.pdf')\n",
    "plt.savefig('figs/Cluster0/pmlkl_100tnf_clus0box_wswarm_5720newhalfmax_WTsplits577707wlines.pdf')\n",
    "plt.show()"
   ]
  },
  {
   "cell_type": "code",
   "execution_count": null,
   "metadata": {},
   "outputs": [],
   "source": [
    "plt.figure(figsize = (20,6))\n",
    "my_pal1 = {\"WT_early\": \"lightcoral\"}\n",
    "my_pal2 = {\"WT_constrained\":\"firebrick\"}\n",
    "my_pal3 = { \"Cluster0\":\"darkred\"}\n",
    "# sns.swarmplot(x=\"value\", y=\"variable\", data=pd.melt(cluswtall3), zorder=2, color = 'indianred', alpha = 0.8)\n",
    "sns.swarmplot(x=\"value\", y=\"variable\", data=pd.melt(cluswtall1), zorder=1, palette=my_pal1)\n",
    "sns.swarmplot(x=\"value\", y=\"variable\", data=pd.melt(cluswtall2), zorder=1, palette=my_pal2)\n",
    "sns.swarmplot(x=\"value\", y=\"variable\", data=pd.melt(cluswtall3), zorder=1, palette=my_pal3)\n",
    "plt.axvline(x=577, color = 'black', linestyle = '--', lw = 3)\n",
    "plt.axvline(x=707, color = 'black', linestyle = '--', lw = 3)\n",
    "# plt.axvline(x=500, color = 'black', linestyle = '--', lw = 3)\n",
    "plt.xlabel(\"Time (minutes)\",fontsize=17)\n",
    "plt.ylabel(\"Cluster 0\",fontsize=17)\n",
    "plt.tick_params(labelsize=17)\n",
    "plt.xlim(xmax = 1800, xmin = 0)\n",
    "# plt.savefig('figs/pmlkl_100tnf_allcluswkos_swarm_5720modnew.pdf')\n",
    "# plt.savefig('figs/Cluster0/pmlkl_100tnf_clus0box_wswarm_5720newhalfmax_splitscolors.pdf')\n",
    "plt.show()"
   ]
  },
  {
   "cell_type": "code",
   "execution_count": null,
   "metadata": {},
   "outputs": [],
   "source": [
    "plt.figure(figsize = (20,6))\n",
    "my_pal1 = {\"WT_early\": \"lightcoral\"}\n",
    "my_pal2 = {\"WT_constrained\":\"firebrick\"}\n",
    "my_pal3 = { \"Cluster3\":\"darkred\"}\n",
    "sns.swarmplot(x=\"value\", y=\"variable\", data=pd.melt(cluswtall3), zorder=2, color = 'indianred', alpha = 0.8)\n",
    "plt.axvline(x=587, color = 'black', linestyle = '--', lw = 3)\n",
    "plt.axvline(x=746, color = 'black', linestyle = '--', lw = 3)\n",
    "plt.xlabel(\"Time (minutes)\",fontsize=17)\n",
    "plt.ylabel(\"Cluster 3\",fontsize=17)\n",
    "plt.tick_params(labelsize=17)\n",
    "plt.xlim(xmax = 800, xmin = 500)\n",
    "# plt.savefig('figs/pmlkl_100tnf_allcluswkos_swarm_5720modnew.pdf')\n",
    "# plt.savefig('figs/Cluster3/pmlkl_100tnf_clus3box_wswarm_5720newhalfmax_WTsplits.pdf')\n",
    "plt.show()"
   ]
  },
  {
   "cell_type": "code",
   "execution_count": null,
   "metadata": {},
   "outputs": [],
   "source": [
    "plt.figure(figsize = (20,6))\n",
    "my_pal1 = {\"WT_early\": \"lightcoral\"}\n",
    "my_pal2 = {\"WT_constrained\":\"cyan\"}\n",
    "my_pal3 = { \"Cluster3\":\"darkred\"}\n",
    "sns.swarmplot(x=\"value\", y=\"variable\", data=pd.melt(cluswtall3), zorder=1, color = 'purple', alpha = 0.8)\n",
    "# sns.swarmplot(x=\"value\", y=\"variable\", data=pd.melt(cluswtall3), zorder=2, color = 'indianred', alpha = 0.8)\n",
    "sns.swarmplot(x=\"value\", y=\"variable\", data=pd.melt(cluswtall31), zorder=2, palette=my_pal1)\n",
    "sns.swarmplot(x=\"value\", y=\"variable\", data=pd.melt(cluswtall32), zorder=2, palette=my_pal2)\n",
    "sns.swarmplot(x=\"value\", y=\"variable\", data=pd.melt(cluswtall33), zorder=2, palette=my_pal3)\n",
    "plt.axvline(x=587, color = 'black', linestyle = '--', lw = 3)\n",
    "plt.axvline(x=746, color = 'black', linestyle = '--', lw = 3)\n",
    "plt.xlabel(\"Time (minutes)\",fontsize=17)\n",
    "plt.ylabel(\"Cluster 3\",fontsize=17)\n",
    "plt.tick_params(labelsize=17)\n",
    "plt.xlim(xmax = 800, xmin = 500)\n",
    "# plt.savefig('figs/pmlkl_100tnf_allcluswkos_swarm_5720modnew.pdf')\n",
    "# plt.savefig('figs/Cluster3/pmlkl_100tnf_clus3box_wswarm_5720newhalfmax_splitscolors.pdf')\n",
    "plt.show()"
   ]
  },
  {
   "cell_type": "code",
   "execution_count": null,
   "metadata": {},
   "outputs": [],
   "source": [
    "plt.figure(figsize = (20,6))\n",
    "my_pal1 = {\"WT_early\": \"lightcoral\"}\n",
    "my_pal2 = {\"WT_constrained\":\"cyan\"}\n",
    "my_pal3 = { \"Cluster3\":\"darkred\"}\n",
    "sns.boxplot(x=\"value\", y=\"variable\", data=pd.melt(cluswtall3), zorder=1, color = 'purple')\n",
    "# sns.swarmplot(x=\"value\", y=\"variable\", data=pd.melt(cluswtall3), zorder=2, color = 'indianred', alpha = 0.8)\n",
    "sns.boxplot(x=\"value\", y=\"variable\", data=pd.melt(cluswtall31), zorder=2, palette=my_pal1)\n",
    "sns.boxplot(x=\"value\", y=\"variable\", data=pd.melt(cluswtall32), zorder=2, palette=my_pal2)\n",
    "sns.boxplot(x=\"value\", y=\"variable\", data=pd.melt(cluswtall33), zorder=2, palette=my_pal3)\n",
    "plt.axvline(x=600, color = 'black', linestyle = '--', lw = 3)\n",
    "plt.axvline(x=730, color = 'black', linestyle = '--', lw = 3)\n",
    "plt.xlabel(\"Time (minutes)\",fontsize=17)\n",
    "plt.ylabel(\"Cluster 3\",fontsize=17)\n",
    "plt.tick_params(labelsize=17)\n",
    "# plt.xlim(xmax = 800, xmin = 500)\n",
    "# plt.savefig('figs/pmlkl_100tnf_allcluswkos_swarm_5720modnew.pdf')\n",
    "# plt.savefig('figs/Cluster3/pmlkl_100tnf_clus3box_wswarm_5720newhalfmax_splitscolors.pdf')\n",
    "plt.show()"
   ]
  },
  {
   "cell_type": "code",
   "execution_count": null,
   "metadata": {},
   "outputs": [],
   "source": [
    "plt.figure(figsize = (15,5))\n",
    "my_pal1 = {\"WT_early\": \"lightcoral\"}\n",
    "my_pal2 = {\"WT_constrained\":\"firebrick\"}\n",
    "my_pal3 = { \"WT_delay\":\"darkred\"}\n",
    "# b=sns.swarmplot(x=\"value\", y=\"variable\", data=pd.melt(cluswtall1), zorder=3, palette=my_pal1, alpha = 0.6)\n",
    "# b=sns.swarmplot(x=\"value\", y=\"variable\", data=pd.melt(cluswtall2), zorder=3, palette=my_pal2, alpha = 0.6)\n",
    "# b=sns.swarmplot(x=\"value\", y=\"variable\", data=pd.melt(cluswtall3), zorder=3, palette=my_pal3, alpha = 0.6)\n",
    "# b2=sns.boxenplot(x=\"value\", y=\"variable\", data=pd.melt(cluswtall1), zorder=3, palette=my_pal1)\n",
    "# b2=sns.boxenplot(x=\"value\", y=\"variable\", data=pd.melt(cluswtall2), zorder=3, palette=my_pal2)\n",
    "# b2=sns.boxenplot(x=\"value\", y=\"variable\", data=pd.melt(cluswtall3), zorder=3, palette=my_pal3)\n",
    "sns.stripplot(x=\"value\", y=\"variable\", data=pd.melt(cluswtall1), zorder=3, palette=my_pal1)\n",
    "sns.stripplot(x=\"value\", y=\"variable\", data=pd.melt(cluswtall2), zorder=3, palette=my_pal2)\n",
    "sns.stripplot(x=\"value\", y=\"variable\", data=pd.melt(cluswtall3), zorder=3, palette=my_pal3)\n",
    "# sns.stripplot(x=\"value\", y=\"variable\", data=pd.melt(cluswtall1), zorder=3, color = 'dimgrey')\n",
    "# sns.stripplot(x=\"value\", y=\"variable\", data=pd.melt(cluswtall2), zorder=3, color = 'dimgrey')\n",
    "# sns.stripplot(x=\"value\", y=\"variable\", data=pd.melt(cluswtall3), zorder=3, color = 'dimgrey')\n",
    "# b2=sns.violinplot(x=\"value\", y=\"variable\", data=pd.melt(cluswtall1), zorder=2, palette=my_pal1)\n",
    "# b2=sns.violinplot(x=\"value\", y=\"variable\", data=pd.melt(cluswtall2), zorder=2, palette=my_pal2)\n",
    "# b2=sns.violinplot(x=\"value\", y=\"variable\", data=pd.melt(cluswtall3), zorder=2, palette=my_pal3)\n",
    "# plt.set_xlabel(\"Time (minutes)\",fontsize=15)\n",
    "# plt.set_ylabel(\"All Clusters\",fontsize=15)\n",
    "plt.tick_params(labelsize=15)\n",
    "plt.xlim(xmax = 1500, xmin = 200)\n",
    "# plt.savefig('figs/pmlkl_100tnf_allcluswkos_swarm_5720modnew.pdf')\n",
    "# plt.savefig('figs/Cluster0/pmlkl_100tnf_clus0box_wswarm_5720newhalfmax_splits.pdf')\n",
    "plt.show()"
   ]
  },
  {
   "cell_type": "code",
   "execution_count": null,
   "metadata": {},
   "outputs": [],
   "source": [
    "plt.figure(figsize = (15,10))\n",
    "my_pal3 = {\"WT0\": \"indianred\", \"WT_early\": \"lightcoral\", \"WT_constrained\":\"firebrick\", \"WT_delay\":\"darkred\"}\n",
    "sns.violinplot(x=\"value\", y=\"variable\", data=pd.melt(dfwt), zorder=3, palette=my_pal3, alpha = 0.2)\n",
    "sns.stripplot(x=\"value\", y=\"variable\", data=pd.melt(dfwt), color = 'black')\n",
    "# plt.set_xlabel(\"Time (minutes)\",fontsize=15)\n",
    "# plt.set_ylabel(\"All Clusters\",fontsize=15)\n",
    "plt.tick_params(labelsize=15)\n",
    "plt.xlim(xmax = 1800, xmin = 0)\n",
    "# plt.savefig('figs/pmlkl_100tnf_allcluswkos_swarm_5720modnew.pdf')\n",
    "# plt.savefig('figs/Cluster0/pmlkl_100tnf_clus0box_wswarm_5720newhalfmax_splits.pdf')\n",
    "plt.show()"
   ]
  },
  {
   "cell_type": "code",
   "execution_count": null,
   "metadata": {},
   "outputs": [],
   "source": [
    "plt.figure()\n",
    "dfwt.boxplot(patch_artist=True, fontsize = 14)"
   ]
  },
  {
   "cell_type": "code",
   "execution_count": null,
   "metadata": {},
   "outputs": [],
   "source": []
  },
  {
   "cell_type": "code",
   "execution_count": null,
   "metadata": {},
   "outputs": [],
   "source": []
  },
  {
   "cell_type": "code",
   "execution_count": null,
   "metadata": {},
   "outputs": [],
   "source": [
    "df_threshtimesc3100wt0 = c3df100wt.groupby('simulation').apply(lambda x: (x > threshold2).idxmax()).apply(lambda x: [y[1] for y in x])\n",
    "df_threshtimesc3100wt1 = c3df100wt1.groupby('simulation').apply(lambda x: (x > threshold2).idxmax()).apply(lambda x: [y[1] for y in x])\n",
    "df_threshtimesc3100wt2 = c3df100wt2.groupby('simulation').apply(lambda x: (x > threshold2).idxmax()).apply(lambda x: [y[1] for y in x])\n",
    "df_threshtimesc3100wt3 = c3df100wt3.groupby('simulation').apply(lambda x: (x > threshold2).idxmax()).apply(lambda x: [y[1] for y in x])"
   ]
  },
  {
   "cell_type": "code",
   "execution_count": null,
   "metadata": {},
   "outputs": [],
   "source": [
    "cluswtall31 = pd.DataFrame({'WT_early': df_threshtimesc3100wt1['MLKLa_obs']})"
   ]
  },
  {
   "cell_type": "code",
   "execution_count": null,
   "metadata": {},
   "outputs": [],
   "source": [
    "cluswtall32 = pd.DataFrame({'WT_constrained': df_threshtimesc3100wt2['MLKLa_obs']})"
   ]
  },
  {
   "cell_type": "code",
   "execution_count": null,
   "metadata": {},
   "outputs": [],
   "source": [
    "cluswtall33 = pd.DataFrame({'WT_delay': df_threshtimesc3100wt3['MLKLa_obs']})"
   ]
  },
  {
   "cell_type": "code",
   "execution_count": null,
   "metadata": {},
   "outputs": [],
   "source": [
    "clusall = pd.DataFrame({'wt3': df_threshtimesc3100wt['MLKLa_obs']})"
   ]
  },
  {
   "cell_type": "code",
   "execution_count": null,
   "metadata": {},
   "outputs": [],
   "source": [
    "dfwt = pd.DataFrame(data = cluswtall, columns = ['WT_early','WT_constrained','WT_delay'])"
   ]
  },
  {
   "cell_type": "code",
   "execution_count": null,
   "metadata": {},
   "outputs": [],
   "source": [
    "dfwt0 = pd.DataFrame(data = clusall, columns = ['wt3'])"
   ]
  },
  {
   "cell_type": "code",
   "execution_count": null,
   "metadata": {},
   "outputs": [],
   "source": [
    "plt.figure(figsize = (15,10))\n",
    "my_pal0 = {\"wt3\": \"indianred\"}\n",
    "my_pal1 = {\"WT_early\": \"lightcoral\"}\n",
    "my_pal2 = {\"WT_constrained\":\"firebrick\"}\n",
    "my_pal3 = { \"WT_delay\":\"darkred\"}\n",
    "b=sns.boxenplot(x=\"value\", y=\"variable\", data=pd.melt(cluswtall31), zorder=3, palette=my_pal1)\n",
    "b=sns.boxenplot(x=\"value\", y=\"variable\", data=pd.melt(cluswtall32), zorder=3, palette=my_pal2)\n",
    "b=sns.boxenplot(x=\"value\", y=\"variable\", data=pd.melt(cluswtall33), zorder=3, palette=my_pal3)\n",
    "# plt.set_xlabel(\"Time (minutes)\",fontsize=15)\n",
    "# plt.set_ylabel(\"All Clusters\",fontsize=15)\n",
    "plt.tick_params(labelsize=15)\n",
    "plt.xlim(xmax = 1800, xmin = 0)\n",
    "# plt.savefig('figs/pmlkl_100tnf_allcluswkos_swarm_5720modnew.pdf')\n",
    "# plt.savefig('figs/Cluster0/pmlkl_100tnf_clus0box_wswarm_5720newhalfmax_splits.pdf')\n",
    "plt.show()"
   ]
  },
  {
   "cell_type": "code",
   "execution_count": null,
   "metadata": {},
   "outputs": [],
   "source": [
    "plt.figure(figsize = (15,10))\n",
    "my_pal0 = {\"wt3\": \"indianred\"}\n",
    "my_pal1 = {\"WT_early\": \"lightcoral\"}\n",
    "my_pal2 = {\"WT_constrained\":\"firebrick\"}\n",
    "my_pal3 = { \"WT_delay\":\"darkred\"}\n",
    "b= sns.boxenplot(x=\"value\", y=\"variable\", data=pd.melt(clusall), zorder=3, palette=my_pal0)\n",
    "# plt.set_xlabel(\"Time (minutes)\",fontsize=15)\n",
    "# plt.set_ylabel(\"All Clusters\",fontsize=15)\n",
    "plt.tick_params(labelsize=15)\n",
    "plt.xlim(xmax = 1800, xmin = 0)\n",
    "# plt.savefig('figs/pmlkl_100tnf_allcluswkos_swarm_5720modnew.pdf')\n",
    "# plt.savefig('figs/Cluster0/pmlkl_100tnf_clus0box_wswarm_5720newhalfmax_splits.pdf')\n",
    "plt.show()"
   ]
  },
  {
   "cell_type": "code",
   "execution_count": null,
   "metadata": {},
   "outputs": [],
   "source": [
    "plt.figure(figsize = (15,5))\n",
    "my_pal1 = {\"WT_early\": \"lightcoral\"}\n",
    "my_pal2 = {\"WT_constrained\":\"firebrick\"}\n",
    "my_pal3 = { \"WT_delay\":\"darkred\"}\n",
    "b=sns.swarmplot(x=\"value\", y=\"variable\", data=pd.melt(cluswtall1), zorder=3, palette=my_pal1, alpha = 0.6)\n",
    "b=sns.swarmplot(x=\"value\", y=\"variable\", data=pd.melt(cluswtall2), zorder=3, palette=my_pal2, alpha = 0.6)\n",
    "b=sns.swarmplot(x=\"value\", y=\"variable\", data=pd.melt(cluswtall3), zorder=3, palette=my_pal3, alpha = 0.6)\n",
    "b2=sns.boxenplot(x=\"value\", y=\"variable\", data=pd.melt(cluswtall1), zorder=3, palette=my_pal1)\n",
    "b2=sns.boxenplot(x=\"value\", y=\"variable\", data=pd.melt(cluswtall2), zorder=3, palette=my_pal2)\n",
    "b2=sns.boxenplot(x=\"value\", y=\"variable\", data=pd.melt(cluswtall3), zorder=3, palette=my_pal3)\n",
    "# b2=sns.violinplot(x=\"value\", y=\"variable\", data=pd.melt(cluswtall1), zorder=2, palette=my_pal1)\n",
    "# b2=sns.violinplot(x=\"value\", y=\"variable\", data=pd.melt(cluswtall2), zorder=2, palette=my_pal2)\n",
    "# b2=sns.violinplot(x=\"value\", y=\"variable\", data=pd.melt(cluswtall3), zorder=2, palette=my_pal3)\n",
    "# plt.set_xlabel(\"Time (minutes)\",fontsize=15)\n",
    "# plt.set_ylabel(\"All Clusters\",fontsize=15)\n",
    "plt.tick_params(labelsize=15)\n",
    "plt.xlim(xmax = 1500, xmin = 200)\n",
    "# plt.savefig('figs/pmlkl_100tnf_allcluswkos_swarm_5720modnew.pdf')\n",
    "# plt.savefig('figs/Cluster0/pmlkl_100tnf_clus0box_wswarm_5720newhalfmax_splits.pdf')\n",
    "plt.show()"
   ]
  },
  {
   "cell_type": "code",
   "execution_count": null,
   "metadata": {},
   "outputs": [],
   "source": [
    "plt.figure(figsize = (15,10))\n",
    "my_pal3 = {\"WT0\": \"indianred\", \"WT_early\": \"lightcoral\", \"WT_constrained\":\"firebrick\", \"WT_delay\":\"darkred\"}\n",
    "sns.violinplot(x=\"value\", y=\"variable\", data=pd.melt(dfwt), zorder=3, palette=my_pal3)\n",
    "# plt.set_xlabel(\"Time (minutes)\",fontsize=15)\n",
    "# plt.set_ylabel(\"All Clusters\",fontsize=15)\n",
    "plt.tick_params(labelsize=15)\n",
    "plt.xlim(xmax = 1800, xmin = 0)\n",
    "# plt.savefig('figs/pmlkl_100tnf_allcluswkos_swarm_5720modnew.pdf')\n",
    "# plt.savefig('figs/Cluster0/pmlkl_100tnf_clus0box_wswarm_5720newhalfmax_splits.pdf')\n",
    "plt.show()"
   ]
  },
  {
   "cell_type": "code",
   "execution_count": null,
   "metadata": {},
   "outputs": [],
   "source": []
  },
  {
   "cell_type": "code",
   "execution_count": null,
   "metadata": {},
   "outputs": [],
   "source": []
  }
 ],
 "metadata": {
  "kernelspec": {
   "display_name": "Python 3",
   "language": "python",
   "name": "python3"
  },
  "language_info": {
   "codemirror_mode": {
    "name": "ipython",
    "version": 3
   },
   "file_extension": ".py",
   "mimetype": "text/x-python",
   "name": "python",
   "nbconvert_exporter": "python",
   "pygments_lexer": "ipython3",
   "version": "3.7.5"
  }
 },
 "nbformat": 4,
 "nbformat_minor": 2
}
