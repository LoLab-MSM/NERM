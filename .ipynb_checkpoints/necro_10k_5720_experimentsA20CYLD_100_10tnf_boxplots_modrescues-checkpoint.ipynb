{
 "cells": [
  {
   "cell_type": "code",
   "execution_count": null,
   "metadata": {},
   "outputs": [],
   "source": [
    "from necro_uncal_new_updated import model as model100\n",
    "import seaborn as sns\n",
    "import numpy as np\n",
    "from matplotlib import pyplot as plt\n",
    "# from necro_pydream_model_file_8920 import model\n",
    "from pysb.simulator import ScipyOdeSimulator\n",
    "import numpy as np\n",
    "from scipy.stats import norm,uniform\n",
    "import seaborn as sns\n",
    "from matplotlib import pyplot as plt\n",
    "import random\n",
    "import os\n",
    "from pylab import *\n",
    "from pysb.core import *\n",
    "from pysb.bng import *\n",
    "from pysb.integrate import *\n",
    "import matplotlib.pyplot as plt\n",
    "import numpy as np\n",
    "from pysb.util import alias_model_components\n",
    "from scipy import stats\n",
    "from pysb.simulator import SimulationResult\n",
    "import pandas as pd\n",
    "import seaborn as sns"
   ]
  },
  {
   "cell_type": "code",
   "execution_count": null,
   "metadata": {},
   "outputs": [],
   "source": [
    "clus0_100 = np.load('necro_pars10k_cluster0_5720_mod.npy')\n",
    "clus1_100 = np.load('necro_pars10k_cluster1_5720_mod.npy')\n",
    "clus2_100 = np.load('necro_pars10k_cluster2_5720_mod.npy')\n",
    "clus3_100 = np.load('necro_pars10k_cluster3_5720_mod.npy')"
   ]
  },
  {
   "cell_type": "code",
   "execution_count": null,
   "metadata": {},
   "outputs": [],
   "source": []
  },
  {
   "cell_type": "code",
   "execution_count": null,
   "metadata": {},
   "outputs": [],
   "source": [
    "clus0_100.shape"
   ]
  },
  {
   "cell_type": "code",
   "execution_count": null,
   "metadata": {},
   "outputs": [],
   "source": [
    "plt.figure()\n",
    "# sns.distplot(clus0_100[:, 30])\n",
    "sns.distplot(clus0_100[:, 33])\n",
    "plt.show()"
   ]
  },
  {
   "cell_type": "code",
   "execution_count": null,
   "metadata": {},
   "outputs": [],
   "source": [
    "# fig = plt.figure(figsize=(20, 15))\n",
    "# for i in range(1,41):\n",
    "#     ax = fig.add_subplot(8, 5, i)\n",
    "    # plt.plot(samples[:, counter])\n",
    "# fig = plt.figure(figsize=(20, 5))\n",
    "fig, axes = plt.subplots(1, 3, figsize=(20, 5), sharex=True)\n",
    "plt.subplot(131)\n",
    "sns.distplot(clus0_100[:, 28])\n",
    "sns.distplot(clus0_100[:, 31])\n",
    "# plt.ylim(ymax=0.3)\n",
    "# plt.xlim(xmin = -10,xmax=10)\n",
    "plt.xticks(fontsize=14)\n",
    "plt.yticks(fontsize=14)\n",
    "# plt.xticks(np.arange(-10, 11, 5))\n",
    "plt.xticks(fontsize=16)\n",
    "plt.yticks(fontsize=16)\n",
    "plt.title('RIP1ub + A20/CYLD -> RIP1ub:A20/CYLD',fontsize=15)\n",
    "# plt.xlabel(\"Log(10) Value\", fontsize=20)\n",
    "plt.ylabel(\"Probability\", fontsize=20, labelpad=15)\n",
    "custom_lines = [Line2D([0], [0], color='blue', lw=4),\n",
    "                Line2D([0], [0], color='orange', lw=4)]\n",
    "plt.legend(custom_lines, [r'$A20_{F}$',r'$CYLD_{F}$'], prop={'size': 15}, loc = 'best')\n",
    "plt.subplots_adjust(wspace=0.3)\n",
    "plt.subplots_adjust(hspace=0.6)\n",
    "plt.subplot(132)\n",
    "sns.distplot(clus0_100[:, 29])\n",
    "sns.distplot(clus0_100[:, 32])\n",
    "# plt.ylim(ymax=0.3)\n",
    "# plt.xlim(xmin = -10,xmax=10)\n",
    "plt.xticks(fontsize=14)\n",
    "plt.yticks(fontsize=14)\n",
    "# plt.xticks(np.arange(-10, 11, 5))\n",
    "plt.xticks(fontsize=16)\n",
    "plt.yticks(fontsize=16)\n",
    "plt.title('RIP1ub:A20 -> RIP1ub + A20/CYLD', fontsize=15)\n",
    "plt.xlabel(\"Log(10) Value\", fontsize=20)\n",
    "# plt.ylabel(\"Probability\", fontsize=20, labelpad=15)\n",
    "custom_lines = [Line2D([0], [0], color='blue', lw=4),\n",
    "                Line2D([0], [0], color='orange', lw=4)]\n",
    "plt.legend(custom_lines, [r'$A20_{R}$',r'$CYLD_{R}$'], prop={'size': 15}, loc = 'best')\n",
    "plt.subplots_adjust(wspace=0.3)\n",
    "plt.subplots_adjust(hspace=0.6)\n",
    "plt.subplot(133)\n",
    "sns.distplot(clus0_100[:, 30])\n",
    "sns.distplot(clus0_100[:, 33])\n",
    "# plt.ylim(ymax=0.3)\n",
    "# plt.xlim(xmin = -10,xmax=10)\n",
    "plt.xticks(fontsize=14)\n",
    "plt.yticks(fontsize=14)\n",
    "# plt.xticks(np.arange(-10, 11, 5))\n",
    "plt.xticks(fontsize=16)\n",
    "plt.yticks(fontsize=16)\n",
    "plt.title('RIP1ub:A20/CYLD -> RIP1deub + A20/CYLD',fontsize=15)\n",
    "# plt.xlabel(\"Log(10) Value\", fontsize=17)\n",
    "# plt.ylabel(\"Probability\", fontsize=20, labelpad=15)\n",
    "custom_lines = [Line2D([0], [0], color='blue', lw=4),\n",
    "                Line2D([0], [0], color='orange', lw=4)]\n",
    "plt.legend(custom_lines, [r'$A20_{CAT}$',r'$CYLD_{CAT}$'], prop={'size': 15}, loc = 'best')\n",
    "plt.subplots_adjust(wspace=0.3)\n",
    "plt.subplots_adjust(hspace=0.6)\n",
    "# plt.text(0.5, 0.04, 'common X', ha='center')\n",
    "# plt.text(0.04, 0.5, 'common Y', va='center', rotation='vertical')\n",
    "# plt.xlabel(\"Log(10) Value\", fontsize=14)\n",
    "# plt.ylabel(\"Probability\", fontsize=14, labelpad=15)\n",
    "# plt.savefig('updatedkos/necro_5720_pydream_posta20cyldpardists_allchains5.pdf', format='pdf')\n",
    "# plt.savefig(\"updatedkos/necro_5720_pydream_posta20cyldpardists_allchains5.pdf\")\n",
    "# fig.savefig(\"updatedkos/necro_5720_pydream_posta20cyldpardists_allchains5.pdf\")\n",
    "plt.show()"
   ]
  },
  {
   "cell_type": "code",
   "execution_count": null,
   "metadata": {},
   "outputs": [],
   "source": [
    "from scipy.stats import norm,uniform\n",
    "from matplotlib.lines import Line2D\n",
    "idx = list(range(14, 54,1)) #index for parameter values after initial conditions 14-50\n",
    "counter = 0\n",
    "\n",
    "scaling = [2] * 40\n",
    "# idx = list(range(14, 51,1))\n",
    "row = 8\n",
    "col = 5\n",
    "# counter = 0\n",
    "n = 50000\n",
    "\n",
    "ndims = len(idx)\n",
    "\n",
    "fig = plt.figure(figsize=(20, 15))\n",
    "for i in range(1,41):\n",
    "    ax = fig.add_subplot(8, 5, i)\n",
    "    # plt.plot(samples[:, counter])\n",
    "#     sns.distplot(norm.rvs(size=n, loc=ppriors[counter], scale=scaling[counter]), color = 'red')\n",
    "    sns.distplot(clus0_100[:, 14:][:, counter], color = 'cyan')\n",
    "    plt.title(model100.parameters[idx[counter]].name, fontdict={'fontsize': 14})\n",
    "    counter += 1\n",
    "    plt.ylim(ymax=0.65)\n",
    "    plt.xlim(xmin = -10,xmax=10)\n",
    "    plt.xticks(fontsize=14)\n",
    "    plt.yticks(fontsize=14)   \n",
    "plt.subplots_adjust(wspace=0.3)\n",
    "plt.subplots_adjust(hspace=0.6)\n",
    "# plt.savefig('pydream_priorpost_traceplot_forpapermay2020_all_chains5.pdf', format='pdf')\n",
    "plt.show()"
   ]
  },
  {
   "cell_type": "code",
   "execution_count": null,
   "metadata": {},
   "outputs": [],
   "source": [
    "tspan = np.linspace(0, 1800, 500)"
   ]
  },
  {
   "cell_type": "code",
   "execution_count": null,
   "metadata": {},
   "outputs": [],
   "source": [
    "solverwt0 = ScipyOdeSimulator(model100, tspan=tspan, verbose = True)\n",
    "wtclus0 = solverwt0.run(param_values=clus0_100)\n",
    "# wtclus0.save('h5mod/pydyno_s36prod_10k_5720_100tnf_c0parsmod_30hrwt.h5',include_obs_exprs = True)\n",
    "c0df100wt = wtclus0.dataframe"
   ]
  },
  {
   "cell_type": "code",
   "execution_count": null,
   "metadata": {},
   "outputs": [],
   "source": [
    "plt.figure()\n",
    "for n in range(len(clus0_100)):\n",
    "    plt.plot(tspan/60, c0df100wt.loc[n]['MLKLa_obs'].iloc[:], lw=1.5, color ='blue', zorder = 1, alpha = 0.5)\n",
    "plt.xlabel(\"Time (in hr)\", fontsize=15)\n",
    "plt.ylabel(\"Amount (normalized)\", fontsize=15)\n",
    "# plt.xlim(xmin = 0, xmax = 24)\n",
    "plt.xticks(fontsize=14)\n",
    "plt.yticks(fontsize=14)\n",
    "plt.show()      "
   ]
  },
  {
   "cell_type": "code",
   "execution_count": null,
   "metadata": {},
   "outputs": [],
   "source": [
    "solverwt1 = ScipyOdeSimulator(model100, tspan=tspan, verbose = True)\n",
    "wtclus1 = solverwt1.run(param_values=clus1_100)\n",
    "# wtclus1.save('h5mod/pydyno_s36prod_10k_5720_100tnf_c1parsmod_30hrwt.h5',include_obs_exprs = True)\n",
    "c1df100wt = wtclus1.dataframe"
   ]
  },
  {
   "cell_type": "code",
   "execution_count": null,
   "metadata": {},
   "outputs": [],
   "source": [
    "plt.figure()\n",
    "for n in range(len(clus1_100)):\n",
    "    plt.plot(tspan/60, c1df100wt.loc[n]['MLKLa_obs'].iloc[:], lw=1.5, color ='blue', zorder = 1, alpha = 0.5)\n",
    "plt.show()    "
   ]
  },
  {
   "cell_type": "code",
   "execution_count": null,
   "metadata": {},
   "outputs": [],
   "source": [
    "solverwt2 = ScipyOdeSimulator(model100, tspan=tspan, verbose = True)\n",
    "wtclus2 = solverwt2.run(param_values=clus2_100)\n",
    "# wtclus2.save('h5mod/pydyno_s36prod_10k_5720_100tnf_c2parsmod_30hrwt.h5',include_obs_exprs = True)\n",
    "c2df100wt = wtclus2.dataframe"
   ]
  },
  {
   "cell_type": "code",
   "execution_count": null,
   "metadata": {},
   "outputs": [],
   "source": [
    "plt.figure()\n",
    "for n in range(len(clus2_100)):\n",
    "    plt.plot(tspan/60, c2df100wt.loc[n]['MLKLa_obs'].iloc[:], lw=1.5, color ='blue', zorder = 1, alpha = 0.5)\n",
    "plt.show()   "
   ]
  },
  {
   "cell_type": "code",
   "execution_count": null,
   "metadata": {},
   "outputs": [],
   "source": [
    "solverwt3 = ScipyOdeSimulator(model100, tspan=tspan, verbose = True)\n",
    "wtclus3 = solverwt3.run(param_values=clus3_100)\n",
    "# wtclus3.save('h5mod/pydyno_s36prod_10k_5720_100tnf_c3parsmod_30hrwt.h5',include_obs_exprs = True)\n",
    "c3df100wt = wtclus3.dataframe"
   ]
  },
  {
   "cell_type": "code",
   "execution_count": null,
   "metadata": {},
   "outputs": [],
   "source": [
    "plt.figure()\n",
    "for n in range(len(clus3_100)):\n",
    "    plt.plot(tspan/60, c3df100wt.loc[n]['MLKLa_obs'].iloc[:], lw=1.5, color ='blue', zorder = 1, alpha = 0.5)\n",
    "plt.show()   "
   ]
  },
  {
   "cell_type": "code",
   "execution_count": null,
   "metadata": {},
   "outputs": [],
   "source": [
    "m = model100.components"
   ]
  },
  {
   "cell_type": "code",
   "execution_count": null,
   "metadata": {},
   "outputs": [],
   "source": [
    "solvera200 = ScipyOdeSimulator(model100, tspan=tspan, verbose = True)\n",
    "a20clus0 = solvera200.run(initials = {m.A20(brip = None):90000},\n",
    "                         param_values=clus0_100, num_processors = 20)\n",
    "# a20clus0.save('h5mod/pydyno_s36prod_10k_5720_100tnf_c0parsmod_30hra20kocyldres.h5',include_obs_exprs = True)\n",
    "c0df100a20 = a20clus0.dataframe"
   ]
  },
  {
   "cell_type": "code",
   "execution_count": null,
   "metadata": {},
   "outputs": [],
   "source": [
    "solvera201 = ScipyOdeSimulator(model100, tspan=tspan, verbose = True)\n",
    "a20clus1 = solvera201.run(initials = {m.A20(brip = None):90000},\n",
    "                         param_values=clus1_100, num_processors = 20)\n",
    "# a20clus1.save('h5mod/pydyno_s36prod_10k_5720_100tnf_c1parsmod_30hra20kocyldres.h5',include_obs_exprs = True)\n",
    "c1df100a20 = a20clus1.dataframe"
   ]
  },
  {
   "cell_type": "code",
   "execution_count": null,
   "metadata": {},
   "outputs": [],
   "source": [
    "solvera202 = ScipyOdeSimulator(model100, tspan=tspan, verbose = True)\n",
    "a20clus2 = solvera202.run(initials = {m.A20(brip = None):90000},\n",
    "                         param_values=clus2_100, num_processors = 20)\n",
    "# a20clus2.save('h5mod/pydyno_s36prod_10k_5720_100tnf_c2parsmod_30hras20kocyldres.h5',include_obs_exprs = True)\n",
    "c2df100a20 = a20clus2.dataframe"
   ]
  },
  {
   "cell_type": "code",
   "execution_count": null,
   "metadata": {},
   "outputs": [],
   "source": [
    "solvera203 = ScipyOdeSimulator(model100, tspan=tspan, verbose = True)\n",
    "a20clus3 = solvera203.run(initials = {m.A20(brip = None):90000},\n",
    "                         param_values=clus3_100, num_processors = 20)\n",
    "# a20clus3.save('h5mod/pydyno_s36prod_10k_5720_100tnf_c3parsmod_30hra20kocyldres.h5',include_obs_exprs = True)\n",
    "c3df100a20 = a20clus3.dataframe"
   ]
  },
  {
   "cell_type": "code",
   "execution_count": null,
   "metadata": {},
   "outputs": [],
   "source": []
  },
  {
   "cell_type": "code",
   "execution_count": null,
   "metadata": {},
   "outputs": [],
   "source": [
    "solvercyld0 = ScipyOdeSimulator(model100, tspan=tspan, verbose = True)\n",
    "cyldclus0 = solvercyld0.run(initials = { m.CYLD(brip=None, btraf = None):90000},\n",
    "                         param_values=clus0_100, num_processors = 20)\n",
    "# cyldclus0.save('h5mod/pydyno_s36prod_10k_5720_100tnf_c0parsmod_30hcyldkoa20res.h5',include_obs_exprs = True)\n",
    "c0df100cyld = cyldclus0.dataframe"
   ]
  },
  {
   "cell_type": "code",
   "execution_count": null,
   "metadata": {},
   "outputs": [],
   "source": [
    "solvercyld1 = ScipyOdeSimulator(model100, tspan=tspan, verbose = True)\n",
    "cyldclus1 = solvercyld1.run(initials = { m.CYLD(brip=None, btraf = None):90000},\n",
    "                         param_values=clus1_100, num_processors = 20)\n",
    "# cyldclus1.save('h5mod/pydyno_s36prod_10k_5720_100tnf_c1parsmod_30hrcyldkoa20res.h5',include_obs_exprs = True)\n",
    "c1f100cyld = cyldclus1.dataframe"
   ]
  },
  {
   "cell_type": "code",
   "execution_count": null,
   "metadata": {},
   "outputs": [],
   "source": [
    "solvercyld2 = ScipyOdeSimulator(model100, tspan=tspan, verbose = True)\n",
    "cyldclus2 = solvercyld2.run(initials = { m.CYLD(brip=None, btraf = None):90000},\n",
    "                         param_values=clus2_100, num_processors = 20)\n",
    "# cyldclus2.save('h5mod/pydyno_s36prod_10k_5720_100tnf_c2parsmod_30hcyldkoa20res.h5',include_obs_exprs = True)\n",
    "c2df100cyld = cyldclus2.dataframe"
   ]
  },
  {
   "cell_type": "code",
   "execution_count": null,
   "metadata": {},
   "outputs": [],
   "source": [
    "solvercyld3 = ScipyOdeSimulator(model100, tspan=tspan, verbose = True)\n",
    "cyldclus3 = solvercyld3.run(initials = {m.CYLD(brip=None, btraf = None):90000},\n",
    "                         param_values=clus3_100, num_processors = 20)\n",
    "# cyldclus3.save('h5mod/pydyno_s36prod_10k_5720_100tnf_c3parsmod_30hrcyldkoa20res.h5',include_obs_exprs = True)\n",
    "c3df100cyld = cyldclus3.dataframe"
   ]
  },
  {
   "cell_type": "code",
   "execution_count": null,
   "metadata": {},
   "outputs": [],
   "source": [
    "x1001 = np.array([0, 30, 90, 270])\n",
    "x1002 = np.array([480, 720, 960])\n",
    "y1001 = np.array([0, 0.00885691708746097,0.0161886154261265,0.0373005242261882])\n",
    "y1002 = np.array([0.2798939020159581, .7797294067, .98])"
   ]
  },
  {
   "cell_type": "code",
   "execution_count": null,
   "metadata": {},
   "outputs": [],
   "source": [
    "import matplotlib\n",
    "matplotlib.rc('xtick', labelsize=14) \n",
    "matplotlib.rc('ytick', labelsize=14) \n",
    "fig, ((ax1, ax2), (ax3, ax4)) = plt.subplots(2,2, figsize = (15,10))\n",
    "# tspan = np.linspace(0, 1440, 300)\n",
    "for n in range(len(clus0_100)):\n",
    "#     ax1.vlines(x = 600, ymin = 0, ymax = 5544, linestyle = 'dashed', colors= 'r', zorder = 2, label ='50% pMLKL')\n",
    "    ax1.plot(tspan/60, c0df100a20.loc[n]['MLKLa_obs'].iloc[:]/5544, lw=1.5, color ='blue', zorder = 1, alpha = 0.3)\n",
    "    ax1.errorbar(x1001/60, y1001,\n",
    "                 yerr=[(0, 0.00885691708746097,0.0161886154261265,0.0373005242261882),\n",
    "                 (.07,.07,.07,.07)],\n",
    "                       fmt='.k', ecolor ='red', alpha = 0.75, zorder = 2)\n",
    "    ax1.errorbar(x1002/60, y1002,\n",
    "                 yerr= .07, fmt='.k', ecolor ='red', alpha = 0.75, zorder = 2)\n",
    "    plt.legend(['clus0'], loc = 'best', fontsize = 14)\n",
    "#     plt.ylim(ymax = 5544, ymin =0)\n",
    "#     plt.xlim(xmax = 1440, xmin = 0)\n",
    "    plt.xticks(fontsize=14)\n",
    "    plt.yticks(fontsize=14)\n",
    "    ax1.set_xlim(xmin = 0, xmax = 24)\n",
    "    ax1.set_ylim(ymin = 0)\n",
    "    plt.xticks(fontsize=14)\n",
    "    plt.yticks(fontsize=14)\n",
    "    ax1.grid(False)   \n",
    "    custom_lines = [Line2D([0], [0], color='blue', lw=4),\n",
    "                   Line2D([0], [0], color='red', lw=4)]\n",
    "    ax1.legend(custom_lines, ['Clus0', 'pMLKL Data'], prop={'size': 12}, loc = 'best')\n",
    "    \n",
    "# tspan2 = np.linspace(0, 2160, 300)    \n",
    "for n in range(len(clus1_100)):\n",
    "#     ax2.vlines(x = 600, ymin = 0, ymax = 5544, linestyle = 'dashed', colors= 'r', zorder = 2, label= '50% pMLKL')\n",
    "    ax2.plot(tspan/60, c1df100a20.loc[n]['MLKLa_obs'].iloc[:]/5544,lw=1.5, color ='blue', zorder = 1, alpha = 0.3)\n",
    "    ax2.errorbar(x1001/60, y1001,\n",
    "                 yerr=[(0, 0.00885691708746097,0.0161886154261265,0.0373005242261882),\n",
    "                 (.07,.07,.07,.07)],\n",
    "                       fmt='.k', ecolor ='red', alpha = 0.75, zorder = 2)\n",
    "    ax2.errorbar(x1002/60, y1002,\n",
    "                 yerr= .07, fmt='.k', ecolor ='red', alpha = 0.75, zorder = 2)\n",
    "    plt.xticks(fontsize=14)\n",
    "    plt.yticks(fontsize=14)\n",
    "    ax2.set_xlim(xmin = 0, xmax = 24)\n",
    "    ax2.set_ylim(ymin = 0)\n",
    "    ax2.grid(False)  \n",
    "    custom_lines = [Line2D([0], [0], color='blue', lw=4),\n",
    "                   Line2D([0], [0], color='red', lw=4)]\n",
    "    ax2.legend(custom_lines, ['Clus1', 'pMLKL Data'], prop={'size': 12}, loc = 'best')\n",
    "    \n",
    "for n in range(len(clus2_100)):\n",
    "#     ax3.vlines(x = 600, ymin = 0, ymax = 5544, linestyle = 'dashed', colors= 'r', zorder = 2, label ='50% pMLKL')\n",
    "    ax3.plot(tspan/60, c2df100a20.loc[n]['MLKLa_obs'].iloc[:]/5544,lw=1.5, color ='blue', zorder = 1, alpha = 0.3)  \n",
    "    ax3.errorbar(x1001/60, y1001,\n",
    "                 yerr=[(0, 0.00885691708746097,0.0161886154261265,0.0373005242261882),\n",
    "                 (.07,.07,.07,.07)],\n",
    "                       fmt='.k', ecolor ='red', alpha = 0.75, zorder = 2)\n",
    "    ax3.errorbar(x1002/60, y1002,\n",
    "                 yerr= .07, fmt='.k', ecolor ='red', alpha = 0.75, zorder = 2)\n",
    "    plt.xticks(fontsize=14)\n",
    "    plt.yticks(fontsize=14)\n",
    "    ax3.set_xlim(xmin = 0, xmax = 24)\n",
    "    ax3.set_ylim(ymin = 0)\n",
    "    ax3.grid(False)  \n",
    "    custom_lines = [Line2D([0], [0], color='blue', lw=4),\n",
    "                   Line2D([0], [0], color='red', lw=4)]\n",
    "    ax3.legend(custom_lines, ['Clus2', 'pMLKL Data'], prop={'size': 12}, loc = 'best')\n",
    "    \n",
    "for n in range(len(clus3_100)):\n",
    "    plt.plot(tspan/60, c3df100a20.loc[n]['MLKLa_obs'].iloc[:]/5544, lw=1.5, color ='blue', zorder = 1, alpha = 0.3)\n",
    "    ax4.errorbar(x1001/60, y1001,\n",
    "                 yerr=[(0, 0.00885691708746097,0.0161886154261265,0.0373005242261882),\n",
    "                 (.07,.07,.07,.07)],\n",
    "                       fmt='.k', ecolor ='red', alpha = 0.75, zorder = 2)\n",
    "    ax4.errorbar(x1002/60, y1002,\n",
    "                 yerr= .07, fmt='.k', ecolor ='red', alpha = 0.75, zorder = 2)\n",
    "    plt.xticks(fontsize=14)\n",
    "    plt.yticks(fontsize=14)\n",
    "#     plt.xlabel(\"Time (in hr)\", fontsize=15)\n",
    "#     plt.ylabel(\"Amount (normalized)\", fontsize=15)\n",
    "    ax4.set_xlim(xmin = 0, xmax = 24)\n",
    "    ax4.set_ylim(ymin = 0)\n",
    "    plt.xticks(fontsize=14)\n",
    "    plt.yticks(fontsize=14)\n",
    "    ax4.grid(False)  \n",
    "    custom_lines = [Line2D([0], [0], color='blue', lw=4),\n",
    "                   Line2D([0], [0], color='red', lw=4)]\n",
    "    ax4.legend(custom_lines, ['Clus3', 'pMLKL Data'], prop={'size': 12}, loc = 'best')\n",
    " \n",
    "fig.text(0.5, 0.04, 'Time (Hours)', ha='center', va='center',fontsize = 16)\n",
    "fig.text(0.06, 0.5, 'Amount of A20 pMLKL under 100 ng/ml TNF(Normalized)',\n",
    "         ha='center', va='center', rotation='vertical', fontsize = 16)\n",
    "# plt.savefig('pmlkl_100tnf_4clus_5720_A20KO.pdf')\n",
    "plt.show()"
   ]
  },
  {
   "cell_type": "code",
   "execution_count": null,
   "metadata": {},
   "outputs": [],
   "source": [
    "import matplotlib\n",
    "matplotlib.rc('xtick', labelsize=14) \n",
    "matplotlib.rc('ytick', labelsize=14) \n",
    "fig, ((ax1, ax2), (ax3, ax4)) = plt.subplots(2,2, figsize = (15,10))\n",
    "# tspan = np.linspace(0, 1440, 300)\n",
    "for n in range(len(clus0_100)):\n",
    "#     ax1.vlines(x = 600, ymin = 0, ymax = 5544, linestyle = 'dashed', colors= 'r', zorder = 2, label ='50% pMLKL')\n",
    "    ax1.plot(tspan/60, c0df100cyld.loc[n]['MLKLa_obs'].iloc[:]/5544, lw=1.5, color ='blue', zorder = 1, alpha = 0.3)\n",
    "    ax1.errorbar(x1001/60, y1001,\n",
    "                 yerr=[(0, 0.00885691708746097,0.0161886154261265,0.0373005242261882),\n",
    "                 (.07,.07,.07,.07)],\n",
    "                       fmt='.k', ecolor ='black', alpha = 0.75, zorder = 2)\n",
    "    ax1.errorbar(x1002/60, y1002,\n",
    "                 yerr= .07, fmt='.k', ecolor ='black', alpha = 0.75, zorder = 2)\n",
    "    plt.legend(['clus0'], loc = 'best', fontsize = 14)\n",
    "#     plt.ylim(ymax = 5544, ymin =0)\n",
    "#     plt.xlim(xmax = 1440, xmin = 0)\n",
    "    plt.xticks(fontsize=14)\n",
    "    plt.yticks(fontsize=14)\n",
    "    ax1.set_xlim(xmin = 0, xmax = 24)\n",
    "    ax1.set_ylim(ymin = 0)\n",
    "    plt.xticks(fontsize=14)\n",
    "    plt.yticks(fontsize=14)\n",
    "    ax1.grid(False)  \n",
    "    custom_lines = [Line2D([0], [0], color='blue', lw=4),\n",
    "                   Line2D([0], [0], color='black', lw=4)]\n",
    "    ax1.legend(custom_lines, ['Clus0', 'pMLKL Data'], prop={'size': 12}, loc = 'best')\n",
    "    \n",
    "# tspan2 = np.linspace(0, 2160, 300)    \n",
    "for n in range(len(clus1_100)):\n",
    "#     ax2.vlines(x = 600, ymin = 0, ymax = 5544, linestyle = 'dashed', colors= 'r', zorder = 2, label= '50% pMLKL')\n",
    "    ax2.plot(tspan/60, c1f100cyld.loc[n]['MLKLa_obs'].iloc[:]/5544,lw=1.5, color ='blue', zorder = 1, alpha = 0.3)\n",
    "    ax2.errorbar(x1001/60, y1001,\n",
    "                 yerr=[(0, 0.00885691708746097,0.0161886154261265,0.0373005242261882),\n",
    "                 (.07,.07,.07,.07)],\n",
    "                       fmt='.k', ecolor ='black', alpha = 0.75, zorder = 2)\n",
    "    ax2.errorbar(x1002/60, y1002,\n",
    "                 yerr= .07, fmt='.k', ecolor ='black', alpha = 0.75, zorder = 2)\n",
    "    plt.xticks(fontsize=14)\n",
    "    plt.yticks(fontsize=14)\n",
    "    ax2.set_xlim(xmin = 0, xmax = 24)\n",
    "    ax2.set_ylim(ymin = 0)\n",
    "    ax2.grid(False)  \n",
    "    custom_lines = [Line2D([0], [0], color='blue', lw=4),\n",
    "                   Line2D([0], [0], color='black', lw=4)]\n",
    "    ax2.legend(custom_lines, ['Clus1', 'pMLKL Data'], prop={'size': 12}, loc = 'best')\n",
    "    \n",
    "for n in range(len(clus2_100)):\n",
    "#     ax3.vlines(x = 600, ymin = 0, ymax = 5544, linestyle = 'dashed', colors= 'r', zorder = 2, label ='50% pMLKL')\n",
    "    ax3.plot(tspan/60, c2df100cyld.loc[n]['MLKLa_obs'].iloc[:]/5544,lw=1.5, color ='blue', zorder = 1, alpha = 0.3)  \n",
    "    ax3.errorbar(x1001/60, y1001,\n",
    "                 yerr=[(0, 0.00885691708746097,0.0161886154261265,0.0373005242261882),\n",
    "                 (.07,.07,.07,.07)],\n",
    "                       fmt='.k', ecolor ='black', alpha = 0.75, zorder = 2)\n",
    "    ax3.errorbar(x1002/60, y1002,\n",
    "                 yerr= .07, fmt='.k', ecolor ='black', alpha = 0.75, zorder = 2)\n",
    "    plt.xticks(fontsize=14)\n",
    "    plt.yticks(fontsize=14)\n",
    "    ax3.set_xlim(xmin = 0, xmax = 24)\n",
    "    ax3.set_ylim(ymin = 0)\n",
    "    ax3.grid(False)  \n",
    "    custom_lines = [Line2D([0], [0], color='blue', lw=4),\n",
    "                   Line2D([0], [0], color='black', lw=4)]\n",
    "    ax3.legend(custom_lines, ['Clus2', 'pMLKL Data'], prop={'size': 12}, loc = 'best')\n",
    "    \n",
    "for n in range(len(clus3_100)):\n",
    "    plt.plot(tspan/60, c3df100cyld.loc[n]['MLKLa_obs'].iloc[:]/5544, lw=1.5, color ='blue', zorder = 1, alpha = 0.3)\n",
    "    ax4.errorbar(x1001/60, y1001,\n",
    "                 yerr=[(0, 0.00885691708746097,0.0161886154261265,0.0373005242261882),\n",
    "                 (.07,.07,.07,.07)],\n",
    "                       fmt='.k', ecolor ='black', alpha = 0.75, zorder = 2)\n",
    "    ax4.errorbar(x1002/60, y1002,\n",
    "                 yerr= .07, fmt='.k', ecolor ='black', alpha = 0.75, zorder = 2)\n",
    "    plt.xticks(fontsize=14)\n",
    "    plt.yticks(fontsize=14)\n",
    "#     plt.xlabel(\"Time (in hr)\", fontsize=15)\n",
    "#     plt.ylabel(\"Amount (normalized)\", fontsize=15)\n",
    "    ax4.set_xlim(xmin = 0, xmax = 24)\n",
    "    ax4.set_ylim(ymin = 0)\n",
    "    plt.xticks(fontsize=14)\n",
    "    plt.yticks(fontsize=14)\n",
    "    ax4.grid(False)  \n",
    "    custom_lines = [Line2D([0], [0], color='blue', lw=4),\n",
    "                   Line2D([0], [0], color='black', lw=4)]\n",
    "    ax4.legend(custom_lines, ['Clus3', 'pMLKL Data'], prop={'size': 12}, loc = 'best')\n",
    "    \n",
    "fig.text(0.5, 0.04, 'Time (Hours)', ha='center', va='center',fontsize = 16)\n",
    "fig.text(0.06, 0.5, 'Amount of CYLD KO of pMLKL under 100 ng/ml TNF(Normalized)',\n",
    "         ha='center', va='center', rotation='vertical', fontsize = 16)\n",
    "# plt.savefig('pmlkl_100tnf_4clus_5720_CYLDKO.pdf')\n",
    "plt.show()"
   ]
  },
  {
   "cell_type": "code",
   "execution_count": null,
   "metadata": {},
   "outputs": [],
   "source": []
  },
  {
   "cell_type": "code",
   "execution_count": null,
   "metadata": {},
   "outputs": [],
   "source": []
  },
  {
   "cell_type": "code",
   "execution_count": null,
   "metadata": {},
   "outputs": [],
   "source": [
    "threshold = 4000\n",
    "threshold2 = 500"
   ]
  },
  {
   "cell_type": "code",
   "execution_count": null,
   "metadata": {},
   "outputs": [],
   "source": [
    "df_threshtimesc0100wt = c0df100wt.groupby('simulation').apply(lambda x: (x > threshold).idxmax()).apply(lambda x: [y[1] for y in x])\n",
    "df_threshtimesc0100a20   = c0df100a20.groupby('simulation').apply(lambda x: (x > threshold).idxmax()).apply(lambda x: [y[1] for y in x])\n",
    "df_threshtimesc0100cyld = c0df100cyld.groupby('simulation').apply(lambda x: (x > threshold).idxmax()).apply(lambda x: [y[1] for y in x])"
   ]
  },
  {
   "cell_type": "code",
   "execution_count": null,
   "metadata": {},
   "outputs": [],
   "source": [
    "df_threshtimesc1100wt = c1df100wt.groupby('simulation').apply(lambda x: (x > threshold).idxmax()).apply(lambda x: [y[1] for y in x])\n",
    "df_threshtimesc1100a20   = c1df100a20.groupby('simulation').apply(lambda x: (x > threshold).idxmax()).apply(lambda x: [y[1] for y in x])\n",
    "df_threshtimesc1100cyld = c1f100cyld.groupby('simulation').apply(lambda x: (x > threshold).idxmax()).apply(lambda x: [y[1] for y in x])"
   ]
  },
  {
   "cell_type": "code",
   "execution_count": null,
   "metadata": {},
   "outputs": [],
   "source": [
    "df_threshtimesc2100wt = c2df100wt.groupby('simulation').apply(lambda x: (x > threshold).idxmax()).apply(lambda x: [y[1] for y in x])\n",
    "df_threshtimesc2100a20   = c2df100a20.groupby('simulation').apply(lambda x: (x > threshold).idxmax()).apply(lambda x: [y[1] for y in x])\n",
    "df_threshtimesc2100cyld = c2df100cyld.groupby('simulation').apply(lambda x: (x > threshold).idxmax()).apply(lambda x: [y[1] for y in x])"
   ]
  },
  {
   "cell_type": "code",
   "execution_count": null,
   "metadata": {},
   "outputs": [],
   "source": [
    "df_threshtimesc3100wt = c3df100wt.groupby('simulation').apply(lambda x: (x > threshold).idxmax()).apply(lambda x: [y[1] for y in x])\n",
    "df_threshtimesc3100a20   = c3df100a20.groupby('simulation').apply(lambda x: (x > threshold).idxmax()).apply(lambda x: [y[1] for y in x])\n",
    "df_threshtimesc3100cyld = c3df100cyld.groupby('simulation').apply(lambda x: (x > threshold).idxmax()).apply(lambda x: [y[1] for y in x])"
   ]
  },
  {
   "cell_type": "code",
   "execution_count": null,
   "metadata": {},
   "outputs": [],
   "source": []
  },
  {
   "cell_type": "code",
   "execution_count": null,
   "metadata": {},
   "outputs": [],
   "source": [
    "clus0 = pd.DataFrame({'wt0': df_threshtimesc0100wt['MLKLa_obs'], \n",
    "                          'cyld0': df_threshtimesc0100cyld['MLKLa_obs'],\n",
    "                          'a200': df_threshtimesc0100a20['MLKLa_obs']})"
   ]
  },
  {
   "cell_type": "code",
   "execution_count": null,
   "metadata": {},
   "outputs": [],
   "source": [
    "dfclus0 = pd.DataFrame(data = clus0, columns = ['wt0', 'cyld0','a200'])\n",
    "dfclus0 = pd.melt(dfclus0)"
   ]
  },
  {
   "cell_type": "code",
   "execution_count": null,
   "metadata": {},
   "outputs": [],
   "source": [
    "sns.set(style=\"whitegrid\")\n",
    "plt.figure(figsize = (15,10))\n",
    "my_pal = {\"wt0\": \"red\", \"cyld0\": \"green\", \"a200\":\"blue\"}\n",
    "# b = sns.boxplot(x = \"value\", y =\"variable\", data = dfclus0, notch = True, width = 0.5, palette = my_pal)\n",
    "b = sns.swarmplot(x=\"value\", y=\"variable\", data=dfclus0, zorder=2, palette=my_pal)\n",
    "b.set_xlabel(\"Time (minutes)\",fontsize=15)\n",
    "b.set_ylabel(\"Cluster 0\",fontsize=15)\n",
    "b.tick_params(labelsize=15)\n",
    "plt.xlim(xmax = 1800, xmin = 0)\n",
    "plt.savefig('figs/pmlkl_100tnf_clus0box_wswarm_5720_mod.pdf')\n",
    "plt.show()"
   ]
  },
  {
   "cell_type": "code",
   "execution_count": null,
   "metadata": {},
   "outputs": [],
   "source": [
    "clus1 = pd.DataFrame({'wt1': df_threshtimesc1100wt['MLKLa_obs'],\n",
    "                        'cyld1': df_threshtimesc1100cyld['MLKLa_obs'],\n",
    "                        'a201': df_threshtimesc1100a20['MLKLa_obs']})"
   ]
  },
  {
   "cell_type": "code",
   "execution_count": null,
   "metadata": {},
   "outputs": [],
   "source": [
    "dfclus1 = pd.DataFrame(data = clus1, columns = ['wt1','cyld1','a201'])\n",
    "dfclus1 = pd.melt(dfclus1)"
   ]
  },
  {
   "cell_type": "code",
   "execution_count": null,
   "metadata": {},
   "outputs": [],
   "source": [
    "sns.set(style=\"whitegrid\")\n",
    "plt.figure(figsize = (15,10))\n",
    "my_pal = {\"wt1\": \"red\", \"cyld1\": \"green\", \"a201\":\"blue\"}\n",
    "# b = sns.boxplot(x = \"value\", y =\"variable\", data = dfclus1, notch = True, width = 0.5, palette = my_pal)\n",
    "b = sns.swarmplot(x=\"value\", y=\"variable\", data=dfclus1, zorder=2, palette=my_pal)\n",
    "b.set_xlabel(\"Time (minutes)\",fontsize=15)\n",
    "b.set_ylabel(\"Cluster 1\",fontsize=15)\n",
    "b.tick_params(labelsize=15)\n",
    "plt.xlim(xmax = 1800, xmin = 0)\n",
    "plt.savefig('figs/pmlkl_100tnf_clus1box_wswarm_5720_mod.pdf')\n",
    "plt.show()"
   ]
  },
  {
   "cell_type": "code",
   "execution_count": null,
   "metadata": {},
   "outputs": [],
   "source": [
    "clus2 = pd.DataFrame({'wt2': df_threshtimesc2100wt['MLKLa_obs'], \n",
    "                        'cyld2': df_threshtimesc2100cyld['MLKLa_obs'],\n",
    "                        'a202': df_threshtimesc2100a20['MLKLa_obs']})"
   ]
  },
  {
   "cell_type": "code",
   "execution_count": null,
   "metadata": {},
   "outputs": [],
   "source": [
    "dfclus2 = pd.DataFrame(data = clus2, columns = ['wt2','cyld2','a202'])\n",
    "dfclus2 = pd.melt(dfclus2)"
   ]
  },
  {
   "cell_type": "code",
   "execution_count": null,
   "metadata": {},
   "outputs": [],
   "source": [
    "sns.set(style=\"whitegrid\")\n",
    "plt.figure(figsize = (15,10))\n",
    "my_pal = {\"wt2\": \"red\", \"cyld2\": \"green\", \"a202\":\"blue\"}\n",
    "# b = sns.boxplot(x = \"value\", y =\"variable\", data = dfclus2, notch = True, width = 0.5, palette = my_pal)\n",
    "b = sns.swarmplot(x=\"value\", y=\"variable\", data=dfclus2, zorder=2, palette=my_pal)\n",
    "b.set_xlabel(\"Time (minutes)\",fontsize=15)\n",
    "b.set_ylabel(\"Cluster 2\",fontsize=15)\n",
    "b.tick_params(labelsize=15)\n",
    "plt.xlim(xmax = 1800, xmin = 0)\n",
    "# plt.savefig('pmlkl_100tnf_clus0box_5720.pdf')\n",
    "plt.savefig('figs/pmlkl_100tnf_clus2box_wswarm_5720_mod.pdf')\n",
    "plt.show()"
   ]
  },
  {
   "cell_type": "code",
   "execution_count": null,
   "metadata": {},
   "outputs": [],
   "source": [
    "clus3 = pd.DataFrame({'wt3': df_threshtimesc3100wt['MLKLa_obs'],\n",
    "                        'cyld3': df_threshtimesc3100cyld['MLKLa_obs'],\n",
    "                        'a203': df_threshtimesc3100a20['MLKLa_obs']})\n"
   ]
  },
  {
   "cell_type": "code",
   "execution_count": null,
   "metadata": {},
   "outputs": [],
   "source": [
    "dfclus3 = pd.DataFrame(data = clus3, columns = ['wt3','cyld3','a203'])\n",
    "dfclus3 = pd.melt(dfclus3)"
   ]
  },
  {
   "cell_type": "code",
   "execution_count": null,
   "metadata": {},
   "outputs": [],
   "source": [
    "sns.set(style=\"whitegrid\")\n",
    "plt.figure(figsize = (15,10))\n",
    "my_pal = {\"wt3\": \"red\", \"cyld3\": \"green\", \"a203\":\"blue\"}\n",
    "# b = sns.boxplot(x = \"value\", y =\"variable\", data = dfclus3, notch = True, width = 0.5, palette=my_pal)\n",
    "b = sns.swarmplot(x=\"value\", y=\"variable\", data=dfclus3, zorder=2, palette=my_pal)\n",
    "b.set_xlabel(\"Time (minutes)\",fontsize=15)\n",
    "b.set_ylabel(\"Cluster 3\",fontsize=15)\n",
    "b.tick_params(labelsize=15)\n",
    "plt.xlim(xmax = 1800, xmin = 0)\n",
    "# plt.savefig('pmlkl_100tnf_clus3box_5720.pdf')\n",
    "plt.savefig('figs/pmlkl_100tnf_clus3box_wswarm_5720_mod.pdf')\n",
    "plt.show()"
   ]
  },
  {
   "cell_type": "code",
   "execution_count": null,
   "metadata": {},
   "outputs": [],
   "source": []
  },
  {
   "cell_type": "code",
   "execution_count": null,
   "metadata": {},
   "outputs": [],
   "source": [
    "cluswtall = pd.DataFrame({'WTc0': df_threshtimesc1100wt['MLKLa_obs'], \n",
    "                        'WTc1': df_threshtimesc1100wt['MLKLa_obs'],\n",
    "                        'WTc2': df_threshtimesc2100wt['MLKLa_obs'],\n",
    "                     'WTc3': df_threshtimesc3100wt['MLKLa_obs']})"
   ]
  },
  {
   "cell_type": "code",
   "execution_count": null,
   "metadata": {},
   "outputs": [],
   "source": [
    "dfwt = pd.DataFrame(data = cluswtall, columns = ['WTc0', 'WTc1','WTc2','WTc3'])"
   ]
  },
  {
   "cell_type": "code",
   "execution_count": null,
   "metadata": {},
   "outputs": [],
   "source": [
    "dfa20 = pd.DataFrame(data = clusa20, columns = ['A20c0', 'A20c1','A20c2','A20c3'])"
   ]
  },
  {
   "cell_type": "code",
   "execution_count": null,
   "metadata": {},
   "outputs": [],
   "source": [
    "clusa20 = pd.DataFrame({'A20c0': df_threshtimesc0100a20['MLKLa_obs'], \n",
    "                        'A20c1': df_threshtimesc1100a20['MLKLa_obs'],\n",
    "                        'A20c2': df_threshtimesc2100a20['MLKLa_obs'],\n",
    "                     'A20c3': df_threshtimesc3100a20['MLKLa_obs']})"
   ]
  },
  {
   "cell_type": "code",
   "execution_count": null,
   "metadata": {},
   "outputs": [],
   "source": [
    "dfa20 = pd.DataFrame(data = clusa20, columns = ['A20c0', 'A20c1','A20c2','A20c3'])"
   ]
  },
  {
   "cell_type": "code",
   "execution_count": null,
   "metadata": {},
   "outputs": [],
   "source": [
    "plt.figure(figsize = (15,10))\n",
    "my_pal = { \"A20c0\":\"blue\", \"A20c1\":\"blue\", \"A20c2\":\"blue\", \"A20c3\":\"blue\"}\n",
    "my_pal2 = { \"CYLDc0\":\"green\", \"CYLDc1\":\"green\", \"CYLDc2\":\"green\", \"CYLDc3\":\"green\"}\n",
    "# b = sns.boxplot(x = \"value\", y =\"variable\", data = pd.melt(df), notch = True, width = 0.8, palette = my_pal)\n",
    "b = sns.swarmplot(x=\"value\", y=\"variable\", data=pd.melt(dfa20), zorder=2, palette=my_pal)\n",
    "# b = sns.boxplot(x = \"value\", y =\"variable\", data = pd.melt(dfcyld), notch = True, width = 0.8, palette = my_pal)\n",
    "b2 = sns.swarmplot(x=\"value\", y=\"variable\", data=pd.melt(dfcyld), zorder=2, palette=my_pal2)\n",
    "b.set_xlabel(\"Time (minutes)\",fontsize=15)\n",
    "b.set_ylabel(\"All Clusters\",fontsize=15)\n",
    "b.tick_params(labelsize=15)\n",
    "plt.xlim(xmax = 1800, xmin = 0)\n",
    "# plt.savefig('figs/pmlkl_100tnf_allcluskoa20_swarm_5720mod.pdf')\n",
    "# plt.savefig('pmlkl_100tnf_allclusbox_wswarm_5720.pdf')\n",
    "plt.show()"
   ]
  },
  {
   "cell_type": "code",
   "execution_count": null,
   "metadata": {},
   "outputs": [],
   "source": [
    "plt.figure(figsize = (15,10))\n",
    "my_pal = { \"A20c0\":\"blue\", \"A20c1\":\"blue\", \"A20c2\":\"blue\", \"A20c3\":\"blue\"}\n",
    "# b = sns.boxplot(x = \"value\", y =\"variable\", data = pd.melt(df), notch = True, width = 0.8, palette = my_pal)\n",
    "b = sns.swarmplot(x=\"value\", y=\"variable\", data=pd.melt(dfa20), zorder=2, palette=my_pal)\n",
    "# b = sns.boxplot(x = \"value\", y =\"variable\", data = pd.melt(dfcyld), notch = True, width = 0.8, palette = my_pal)\n",
    "b.set_xlabel(\"Time (minutes)\",fontsize=15)\n",
    "b.set_ylabel(\"All Clusters\",fontsize=15)\n",
    "b.tick_params(labelsize=15)\n",
    "plt.xlim(xmax = 1800, xmin = 0)\n",
    "# plt.savefig('figs/pmlkl_100tnf_allcluskoa20_swarm_5720mod.pdf')\n",
    "# plt.savefig('pmlkl_100tnf_allclusbox_wswarm_5720.pdf')\n",
    "plt.show()"
   ]
  },
  {
   "cell_type": "code",
   "execution_count": null,
   "metadata": {},
   "outputs": [],
   "source": []
  },
  {
   "cell_type": "code",
   "execution_count": null,
   "metadata": {},
   "outputs": [],
   "source": [
    "cluscyld = pd.DataFrame({'CYLDc0': df_threshtimesc0100cyld['MLKLa_obs'], \n",
    "                        'CYLDc1': df_threshtimesc1100cyld['MLKLa_obs'],\n",
    "                        'CYLDc2': df_threshtimesc2100cyld['MLKLa_obs'],\n",
    "                     'CYLDc3': df_threshtimesc3100cyld['MLKLa_obs']})"
   ]
  },
  {
   "cell_type": "code",
   "execution_count": null,
   "metadata": {},
   "outputs": [],
   "source": [
    "dfcyld = pd.DataFrame(data = cluscyld, columns = ['CYLDc0', 'CYLDc1','CYLDc2','CYLDc3'])"
   ]
  },
  {
   "cell_type": "code",
   "execution_count": null,
   "metadata": {},
   "outputs": [],
   "source": [
    "plt.figure(figsize = (15,10))\n",
    "my_pal = { \"CYLDc0\":\"green\", \"CYLDc1\":\"green\", \"CYLDc2\":\"green\", \"CYLDc3\":\"green\"}\n",
    "# b = sns.boxplot(x = \"value\", y =\"variable\", data = pd.melt(dfcyld), notch = True, width = 0.8, palette = my_pal)\n",
    "b = sns.swarmplot(x=\"value\", y=\"variable\", data=pd.melt(dfcyld), zorder=2, palette=my_pal)\n",
    "b.set_xlabel(\"Time (minutes)\",fontsize=15)\n",
    "b.set_ylabel(\"All Clusters\",fontsize=15)\n",
    "b.tick_params(labelsize=15)\n",
    "plt.xlim(xmax = 1800, xmin = 0)\n",
    "# plt.savefig('figs/pmlkl_100tnf_allcluskocyld_swarm_5720mod.pdf')\n",
    "# plt.savefig('pmlkl_100tnf_allclusbox_wswarm_5720.pdf')\n",
    "plt.show()"
   ]
  },
  {
   "cell_type": "code",
   "execution_count": null,
   "metadata": {},
   "outputs": [],
   "source": []
  },
  {
   "cell_type": "code",
   "execution_count": null,
   "metadata": {},
   "outputs": [],
   "source": []
  },
  {
   "cell_type": "code",
   "execution_count": null,
   "metadata": {},
   "outputs": [],
   "source": []
  },
  {
   "cell_type": "code",
   "execution_count": null,
   "metadata": {},
   "outputs": [],
   "source": []
  },
  {
   "cell_type": "code",
   "execution_count": null,
   "metadata": {},
   "outputs": [],
   "source": []
  },
  {
   "cell_type": "code",
   "execution_count": null,
   "metadata": {},
   "outputs": [],
   "source": [
    "solvercp0 = ScipyOdeSimulator(model100, tspan=tspan, verbose = True)\n",
    "cpclus0 = solvercp0.run(initials = {m.cIAP(btraf=None):2700},\n",
    "                         param_values=clus0_100, num_processors = 20)\n",
    "# a20clus0.save('h5files5720/pydyno_s36prod_5k_5620_100tnf_cluster0pars_72hra20ko.h5',include_obs_exprs = True)\n",
    "c0df100cp = cpclus0.dataframe"
   ]
  },
  {
   "cell_type": "code",
   "execution_count": null,
   "metadata": {},
   "outputs": [],
   "source": [
    "solvercp1 = ScipyOdeSimulator(model100, tspan=tspan, verbose = True)\n",
    "cpclus1 = solvercp1.run(initials = {m.cIAP(btraf=None):2700},\n",
    "                         param_values=clus1_100, num_processors = 20)\n",
    "# a20clus1.save('h5files5720/pydyno_s36prod_5k_5620_100tnf_cluster1pars_72hra20ko.h5',include_obs_exprs = True)\n",
    "c1df100cp = cpclus1.dataframe"
   ]
  },
  {
   "cell_type": "code",
   "execution_count": null,
   "metadata": {},
   "outputs": [],
   "source": [
    "solvercp2 = ScipyOdeSimulator(model100, tspan=tspan, verbose = True)\n",
    "cpclus2 = solvercp2.run(initials = {m.cIAP(btraf=None):2700},\n",
    "                         param_values=clus2_100, num_processors = 20)\n",
    "# a20clus2.save('h5files5720/pydyno_s36prod_5k_5620_100tnf_cluster2pars_72hra20ko.h5',include_obs_exprs = True)\n",
    "c2df100cp = cpclus2.dataframe"
   ]
  },
  {
   "cell_type": "code",
   "execution_count": null,
   "metadata": {},
   "outputs": [],
   "source": [
    "solvercp3 = ScipyOdeSimulator(model100, tspan=tspan, verbose = True)\n",
    "cpclus3 = solvercp3.run(initials = {m.cIAP(btraf=None):2700},\n",
    "                         param_values=clus3_100, num_processors = 20)\n",
    "# a20clus3.save('h5files5720/pydyno_s36prod_5k_5620_100tnf_cluster3pars_72hra20ko.h5',include_obs_exprs = True)\n",
    "c3df100cp = cpclus3.dataframe"
   ]
  },
  {
   "cell_type": "code",
   "execution_count": null,
   "metadata": {},
   "outputs": [],
   "source": [
    "import matplotlib\n",
    "matplotlib.rc('xtick', labelsize=14) \n",
    "matplotlib.rc('ytick', labelsize=14) \n",
    "fig, ((ax1, ax2), (ax3, ax4)) = plt.subplots(2,2, figsize = (15,10))\n",
    "# tspan = np.linspace(0, 1440, 300)\n",
    "for n in range(len(clus0_100)):\n",
    "#     ax1.vlines(x = 600, ymin = 0, ymax = 5544, linestyle = 'dashed', colors= 'r', zorder = 2, label ='50% pMLKL')\n",
    "    ax1.plot(tspan/60, c0df100cp.loc[n]['MLKLa_obs'].iloc[:]/5544, lw=1.5, color ='blue', zorder = 1, alpha = 0.3)\n",
    "    ax1.errorbar(x1001/60, y1001,\n",
    "                 yerr=[(0, 0.00885691708746097,0.0161886154261265,0.0373005242261882),\n",
    "                 (.07,.07,.07,.07)],\n",
    "                       fmt='.k', ecolor ='black', alpha = 0.75, zorder = 2)\n",
    "    ax1.errorbar(x1002/60, y1002,\n",
    "                 yerr= .07, fmt='.k', ecolor ='black', alpha = 0.75, zorder = 2)\n",
    "    plt.legend(['clus0'], loc = 'best', fontsize = 14)\n",
    "#     plt.ylim(ymax = 5544, ymin =0)\n",
    "#     plt.xlim(xmax = 1440, xmin = 0)\n",
    "    plt.xticks(fontsize=14)\n",
    "    plt.yticks(fontsize=14)\n",
    "    ax1.set_xlim(xmin = 0, xmax = 24)\n",
    "    ax1.set_ylim(ymin = 0)\n",
    "    plt.xticks(fontsize=14)\n",
    "    plt.yticks(fontsize=14)\n",
    "    ax1.grid(False)  \n",
    "    custom_lines = [Line2D([0], [0], color='blue', lw=4),\n",
    "                   Line2D([0], [0], color='black', lw=4)]\n",
    "    ax1.legend(custom_lines, ['Clus0', 'pMLKL Data'], prop={'size': 12}, loc = 'best')\n",
    "    \n",
    "# tspan2 = np.linspace(0, 2160, 300)    \n",
    "for n in range(len(clus1_100)):\n",
    "#     ax2.vlines(x = 600, ymin = 0, ymax = 5544, linestyle = 'dashed', colors= 'r', zorder = 2, label= '50% pMLKL')\n",
    "    ax2.plot(tspan/60, c1df100cp.loc[n]['MLKLa_obs'].iloc[:]/5544,lw=1.5, color ='blue', zorder = 1, alpha = 0.3)\n",
    "    ax2.errorbar(x1001/60, y1001,\n",
    "                 yerr=[(0, 0.00885691708746097,0.0161886154261265,0.0373005242261882),\n",
    "                 (.07,.07,.07,.07)],\n",
    "                       fmt='.k', ecolor ='black', alpha = 0.75, zorder = 2)\n",
    "    ax2.errorbar(x1002/60, y1002,\n",
    "                 yerr= .07, fmt='.k', ecolor ='black', alpha = 0.75, zorder = 2)\n",
    "    plt.xticks(fontsize=14)\n",
    "    plt.yticks(fontsize=14)\n",
    "    ax2.set_xlim(xmin = 0, xmax = 24)\n",
    "    ax2.set_ylim(ymin = 0)\n",
    "    ax2.grid(False)  \n",
    "    custom_lines = [Line2D([0], [0], color='blue', lw=4),\n",
    "                   Line2D([0], [0], color='black', lw=4)]\n",
    "    ax2.legend(custom_lines, ['Clus1', 'pMLKL Data'], prop={'size': 12}, loc = 'best')\n",
    "    \n",
    "for n in range(len(clus2_100)):\n",
    "#     ax3.vlines(x = 600, ymin = 0, ymax = 5544, linestyle = 'dashed', colors= 'r', zorder = 2, label ='50% pMLKL')\n",
    "    ax3.plot(tspan/60, c2df100cp.loc[n]['MLKLa_obs'].iloc[:]/5544,lw=1.5, color ='blue', zorder = 1, alpha = 0.3)  \n",
    "    ax3.errorbar(x1001/60, y1001,\n",
    "                 yerr=[(0, 0.00885691708746097,0.0161886154261265,0.0373005242261882),\n",
    "                 (.07,.07,.07,.07)],\n",
    "                       fmt='.k', ecolor ='black', alpha = 0.75, zorder = 2)\n",
    "    ax3.errorbar(x1002/60, y1002,\n",
    "                 yerr= .07, fmt='.k', ecolor ='black', alpha = 0.75, zorder = 2)\n",
    "    plt.xticks(fontsize=14)\n",
    "    plt.yticks(fontsize=14)\n",
    "    ax3.set_xlim(xmin = 0, xmax = 24)\n",
    "    ax3.set_ylim(ymin = 0)\n",
    "    ax3.grid(False)  \n",
    "    custom_lines = [Line2D([0], [0], color='blue', lw=4),\n",
    "                   Line2D([0], [0], color='black', lw=4)]\n",
    "    ax3.legend(custom_lines, ['Clus2', 'pMLKL Data'], prop={'size': 12}, loc = 'best')\n",
    "    \n",
    "for n in range(len(clus3_100)):\n",
    "    plt.plot(tspan/60, c3df100cp.loc[n]['MLKLa_obs'].iloc[:]/5544, lw=1.5, color ='blue', zorder = 1, alpha = 0.3)\n",
    "    ax4.errorbar(x1001/60, y1001,\n",
    "                 yerr=[(0, 0.00885691708746097,0.0161886154261265,0.0373005242261882),\n",
    "                 (.07,.07,.07,.07)],\n",
    "                       fmt='.k', ecolor ='black', alpha = 0.75, zorder = 2)\n",
    "    ax4.errorbar(x1002/60, y1002,\n",
    "                 yerr= .07, fmt='.k', ecolor ='black', alpha = 0.75, zorder = 2)\n",
    "    plt.xticks(fontsize=14)\n",
    "    plt.yticks(fontsize=14)\n",
    "#     plt.xlabel(\"Time (in hr)\", fontsize=15)\n",
    "#     plt.ylabel(\"Amount (normalized)\", fontsize=15)\n",
    "    ax4.set_xlim(xmin = 0, xmax = 24)\n",
    "    ax4.set_ylim(ymin = 0)\n",
    "    plt.xticks(fontsize=14)\n",
    "    plt.yticks(fontsize=14)\n",
    "    ax4.grid(False)  \n",
    "    custom_lines = [Line2D([0], [0], color='blue', lw=4),\n",
    "                   Line2D([0], [0], color='black', lw=4)]\n",
    "    ax4.legend(custom_lines, ['Clus3', 'pMLKL Data'], prop={'size': 12}, loc = 'best')\n",
    "    \n",
    "fig.text(0.5, 0.04, 'Time (Hours)', ha='center', va='center',fontsize = 16)\n",
    "fig.text(0.06, 0.5, 'Amount of cIAP OE of pMLKL under 100 ng/ml TNF(Normalized)',\n",
    "         ha='center', va='center', rotation='vertical', fontsize = 16)\n",
    "# plt.savefig('pmlkl_100tnf_4clus_5720_CYLDKO.pdf')\n",
    "plt.show()"
   ]
  },
  {
   "cell_type": "code",
   "execution_count": null,
   "metadata": {},
   "outputs": [],
   "source": [
    "import matplotlib\n",
    "matplotlib.rc('xtick', labelsize=14) \n",
    "matplotlib.rc('ytick', labelsize=14) \n",
    "fig, ((ax1, ax2), (ax3, ax4)) = plt.subplots(2,2, figsize = (15,10))\n",
    "# tspan = np.linspace(0, 1440, 300)\n",
    "for n in range(len(clus0_100)):\n",
    "#     ax1.vlines(x = 600, ymin = 0, ymax = 5544, linestyle = 'dashed', colors= 'r', zorder = 2, label ='50% pMLKL')\n",
    "    ax1.plot(tspan/60, c0df100cp.loc[n]['MLKLa_obs'].iloc[:]/5544, lw=1.5, color ='blue', zorder = 1, alpha = 0.3)\n",
    "    ax1.errorbar(x1001/60, y1001,\n",
    "                 yerr=[(0, 0.00885691708746097,0.0161886154261265,0.0373005242261882),\n",
    "                 (.07,.07,.07,.07)],\n",
    "                       fmt='.k', ecolor ='black', alpha = 0.75, zorder = 2)\n",
    "    ax1.errorbar(x1002/60, y1002,\n",
    "                 yerr= .07, fmt='.k', ecolor ='black', alpha = 0.75, zorder = 2)\n",
    "    plt.legend(['clus0'], loc = 'best', fontsize = 14)\n",
    "#     plt.ylim(ymax = 5544, ymin =0)\n",
    "#     plt.xlim(xmax = 1440, xmin = 0)\n",
    "    plt.xticks(fontsize=14)\n",
    "    plt.yticks(fontsize=14)\n",
    "    ax1.set_xlim(xmin = 0, xmax = 24)\n",
    "    ax1.set_ylim(ymin = 0)\n",
    "    plt.xticks(fontsize=14)\n",
    "    plt.yticks(fontsize=14)\n",
    "    ax1.grid(False)  \n",
    "    custom_lines = [Line2D([0], [0], color='blue', lw=4),\n",
    "                   Line2D([0], [0], color='black', lw=4)]\n",
    "    ax1.legend(custom_lines, ['Clus0', 'pMLKL Data'], prop={'size': 12}, loc = 'best')\n",
    "    \n",
    "# tspan2 = np.linspace(0, 2160, 300)    \n",
    "for n in range(len(clus1_100)):\n",
    "#     ax2.vlines(x = 600, ymin = 0, ymax = 5544, linestyle = 'dashed', colors= 'r', zorder = 2, label= '50% pMLKL')\n",
    "    ax2.plot(tspan/60, c1df100cp.loc[n]['MLKLa_obs'].iloc[:]/5544,lw=1.5, color ='blue', zorder = 1, alpha = 0.3)\n",
    "    ax2.errorbar(x1001/60, y1001,\n",
    "                 yerr=[(0, 0.00885691708746097,0.0161886154261265,0.0373005242261882),\n",
    "                 (.07,.07,.07,.07)],\n",
    "                       fmt='.k', ecolor ='black', alpha = 0.75, zorder = 2)\n",
    "    ax2.errorbar(x1002/60, y1002,\n",
    "                 yerr= .07, fmt='.k', ecolor ='black', alpha = 0.75, zorder = 2)\n",
    "    plt.xticks(fontsize=14)\n",
    "    plt.yticks(fontsize=14)\n",
    "    ax2.set_xlim(xmin = 0, xmax = 24)\n",
    "    ax2.set_ylim(ymin = 0)\n",
    "    ax2.grid(False)  \n",
    "    custom_lines = [Line2D([0], [0], color='blue', lw=4),\n",
    "                   Line2D([0], [0], color='black', lw=4)]\n",
    "    ax2.legend(custom_lines, ['Clus1', 'pMLKL Data'], prop={'size': 12}, loc = 'best')\n",
    "    \n",
    "for n in range(len(clus2_100)):\n",
    "#     ax3.vlines(x = 600, ymin = 0, ymax = 5544, linestyle = 'dashed', colors= 'r', zorder = 2, label ='50% pMLKL')\n",
    "    ax3.plot(tspan/60, c2df100cp.loc[n]['MLKLa_obs'].iloc[:]/5544,lw=1.5, color ='blue', zorder = 1, alpha = 0.3)  \n",
    "    ax3.errorbar(x1001/60, y1001,\n",
    "                 yerr=[(0, 0.00885691708746097,0.0161886154261265,0.0373005242261882),\n",
    "                 (.07,.07,.07,.07)],\n",
    "                       fmt='.k', ecolor ='black', alpha = 0.75, zorder = 2)\n",
    "    ax3.errorbar(x1002/60, y1002,\n",
    "                 yerr= .07, fmt='.k', ecolor ='black', alpha = 0.75, zorder = 2)\n",
    "    plt.xticks(fontsize=14)\n",
    "    plt.yticks(fontsize=14)\n",
    "    ax3.set_xlim(xmin = 0, xmax = 24)\n",
    "    ax3.set_ylim(ymin = 0)\n",
    "    ax3.grid(False)  \n",
    "    custom_lines = [Line2D([0], [0], color='blue', lw=4),\n",
    "                   Line2D([0], [0], color='black', lw=4)]\n",
    "    ax3.legend(custom_lines, ['Clus2', 'pMLKL Data'], prop={'size': 12}, loc = 'best')\n",
    "    \n",
    "for n in range(len(clus3_100)):\n",
    "    plt.plot(tspan/60, c3df100cp.loc[n]['MLKLa_obs'].iloc[:]/5544, lw=1.5, color ='blue', zorder = 1, alpha = 0.3)\n",
    "    ax4.errorbar(x1001/60, y1001,\n",
    "                 yerr=[(0, 0.00885691708746097,0.0161886154261265,0.0373005242261882),\n",
    "                 (.07,.07,.07,.07)],\n",
    "                       fmt='.k', ecolor ='black', alpha = 0.75, zorder = 2)\n",
    "    ax4.errorbar(x1002/60, y1002,\n",
    "                 yerr= .07, fmt='.k', ecolor ='black', alpha = 0.75, zorder = 2)\n",
    "    plt.xticks(fontsize=14)\n",
    "    plt.yticks(fontsize=14)\n",
    "#     plt.xlabel(\"Time (in hr)\", fontsize=15)\n",
    "#     plt.ylabel(\"Amount (normalized)\", fontsize=15)\n",
    "    ax4.set_xlim(xmin = 0, xmax = 24)\n",
    "    ax4.set_ylim(ymin = 0)\n",
    "    plt.xticks(fontsize=14)\n",
    "    plt.yticks(fontsize=14)\n",
    "    ax4.grid(False)  \n",
    "    custom_lines = [Line2D([0], [0], color='blue', lw=4),\n",
    "                   Line2D([0], [0], color='black', lw=4)]\n",
    "    ax4.legend(custom_lines, ['Clus3', 'pMLKL Data'], prop={'size': 12}, loc = 'best')\n",
    "    \n",
    "fig.text(0.5, 0.04, 'Time (Hours)', ha='center', va='center',fontsize = 16)\n",
    "fig.text(0.06, 0.5, 'Amount of cIAP OE of pMLKL under 100 ng/ml TNF(Normalized)',\n",
    "         ha='center', va='center', rotation='vertical', fontsize = 16)\n",
    "# plt.savefig('pmlkl_100tnf_4clus_5720_CYLDKO.pdf')\n",
    "plt.show()"
   ]
  },
  {
   "cell_type": "code",
   "execution_count": null,
   "metadata": {},
   "outputs": [],
   "source": []
  },
  {
   "cell_type": "code",
   "execution_count": null,
   "metadata": {},
   "outputs": [],
   "source": []
  },
  {
   "cell_type": "code",
   "execution_count": null,
   "metadata": {},
   "outputs": [],
   "source": []
  }
 ],
 "metadata": {
  "kernelspec": {
   "display_name": "Python 3",
   "language": "python",
   "name": "python3"
  },
  "language_info": {
   "codemirror_mode": {
    "name": "ipython",
    "version": 3
   },
   "file_extension": ".py",
   "mimetype": "text/x-python",
   "name": "python",
   "nbconvert_exporter": "python",
   "pygments_lexer": "ipython3",
   "version": "3.7.5"
  }
 },
 "nbformat": 4,
 "nbformat_minor": 2
}
