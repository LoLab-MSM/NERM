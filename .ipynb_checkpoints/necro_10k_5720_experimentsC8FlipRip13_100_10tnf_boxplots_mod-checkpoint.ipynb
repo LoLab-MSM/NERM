{
 "cells": [
  {
   "cell_type": "code",
   "execution_count": null,
   "metadata": {},
   "outputs": [],
   "source": [
    "from necro_uncal_new_updated import model as model100\n",
    "import seaborn as sns\n",
    "import numpy as np\n",
    "from matplotlib import pyplot as plt\n",
    "# from necro_pydream_model_file_8920 import model\n",
    "from pysb.simulator import ScipyOdeSimulator\n",
    "import numpy as np\n",
    "from scipy.stats import norm,uniform\n",
    "import seaborn as sns\n",
    "from matplotlib import pyplot as plt\n",
    "import random\n",
    "import os\n",
    "from pylab import *\n",
    "from pysb.core import *\n",
    "from pysb.bng import *\n",
    "from pysb.integrate import *\n",
    "import matplotlib.pyplot as plt\n",
    "import numpy as np\n",
    "from pysb.util import alias_model_components\n",
    "from scipy import stats\n",
    "from pysb.simulator import SimulationResult\n",
    "import pandas as pd\n",
    "import seaborn as sns"
   ]
  },
  {
   "cell_type": "code",
   "execution_count": null,
   "metadata": {},
   "outputs": [],
   "source": [
    "clus0_100 = np.load('necro_pars10k_cluster0_5720_mod.npy')\n",
    "clus1_100 = np.load('necro_pars10k_cluster1_5720_mod.npy')\n",
    "clus2_100 = np.load('necro_pars10k_cluster2_5720_mod.npy')\n",
    "clus3_100 = np.load('necro_pars10k_cluster3_5720_mod.npy')"
   ]
  },
  {
   "cell_type": "code",
   "execution_count": null,
   "metadata": {},
   "outputs": [],
   "source": [
    "tspan = np.linspace(0, 1800, 500)"
   ]
  },
  {
   "cell_type": "code",
   "execution_count": null,
   "metadata": {},
   "outputs": [],
   "source": [
    "solverwt0 = ScipyOdeSimulator(model100, tspan=tspan, verbose = True)\n",
    "wtclus0 = solverwt0.run(param_values=clus0_100, num_processors = 20)\n",
    "# wtclus0.save('h5files5720/pydyno_s36prod_5k_5620_100tnf_cluster0pars_72hrwt.h5',include_obs_exprs = True)\n",
    "c0df100wt = wtclus0.dataframe"
   ]
  },
  {
   "cell_type": "code",
   "execution_count": null,
   "metadata": {},
   "outputs": [],
   "source": [
    "plt.figure()\n",
    "for n in range(len(clus0_100)):\n",
    "    plt.plot(tspan/60, c0df100wt.loc[n]['MLKLa_obs'].iloc[:], lw=1.5, color ='blue', zorder = 1, alpha = 0.5)\n",
    "plt.xlabel(\"Time (in hr)\", fontsize=15)\n",
    "plt.ylabel(\"Amount (normalized)\", fontsize=15)\n",
    "# plt.xlim(xmin = 0, xmax = 24)\n",
    "plt.xticks(fontsize=14)\n",
    "plt.yticks(fontsize=14)\n",
    "plt.show()      "
   ]
  },
  {
   "cell_type": "code",
   "execution_count": null,
   "metadata": {},
   "outputs": [],
   "source": [
    "solverwt1 = ScipyOdeSimulator(model100, tspan=tspan, verbose = True)\n",
    "wtclus1 = solverwt1.run(param_values=clus1_100, num_processors = 20)\n",
    "# wtclus1.save('h5files5720/pydyno_s36prod_5k_5620_100tnf_cluster1pars_72hrwt.h5',include_obs_exprs = True)\n",
    "c1df100wt = wtclus1.dataframe"
   ]
  },
  {
   "cell_type": "code",
   "execution_count": null,
   "metadata": {},
   "outputs": [],
   "source": [
    "plt.figure()\n",
    "for n in range(len(clus1_100)):\n",
    "    plt.plot(tspan/60, c1df100wt.loc[n]['MLKLa_obs'].iloc[:], lw=1.5, color ='blue', zorder = 1, alpha = 0.5)\n",
    "plt.show()    "
   ]
  },
  {
   "cell_type": "code",
   "execution_count": null,
   "metadata": {},
   "outputs": [],
   "source": [
    "solverwt2 = ScipyOdeSimulator(model100, tspan=tspan, verbose = True)\n",
    "wtclus2 = solverwt2.run(param_values=clus2_100, num_processors = 20)\n",
    "# wtclus2.save('h5files5720/pydyno_s36prod_5k_5620_100tnf_cluster2pars_72hrwt.h5',include_obs_exprs = True)\n",
    "c2df100wt = wtclus2.dataframe"
   ]
  },
  {
   "cell_type": "code",
   "execution_count": null,
   "metadata": {},
   "outputs": [],
   "source": [
    "plt.figure()\n",
    "for n in range(len(clus2_100)):\n",
    "    plt.plot(tspan/60, c2df100wt.loc[n]['MLKLa_obs'].iloc[:], lw=1.5, color ='blue', zorder = 1, alpha = 0.5)\n",
    "plt.show()   "
   ]
  },
  {
   "cell_type": "code",
   "execution_count": null,
   "metadata": {},
   "outputs": [],
   "source": [
    "solverwt3 = ScipyOdeSimulator(model100, tspan=tspan, verbose = True)\n",
    "wtclus3 = solverwt3.run(param_values=clus3_100, num_processors = 20)\n",
    "# wtclus3.save('h5files5720/pydyno_s36prod_5k_5620_100tnf_cluster3pars_72hrwt.h5',include_obs_exprs = True)\n",
    "c3df100wt = wtclus3.dataframe"
   ]
  },
  {
   "cell_type": "code",
   "execution_count": null,
   "metadata": {},
   "outputs": [],
   "source": [
    "plt.figure()\n",
    "for n in range(len(clus3_100)):\n",
    "    plt.plot(tspan/60, c3df100wt.loc[n]['MLKLa_obs'].iloc[:], lw=1.5, color ='blue', zorder = 1, alpha = 0.5)\n",
    "plt.show()   "
   ]
  },
  {
   "cell_type": "code",
   "execution_count": null,
   "metadata": {},
   "outputs": [],
   "source": [
    "m = model100.components"
   ]
  },
  {
   "cell_type": "code",
   "execution_count": null,
   "metadata": {},
   "outputs": [],
   "source": [
    "solverflip0 = ScipyOdeSimulator(model100, tspan=tspan, verbose = True)\n",
    "flipclus0 = solverflip0.run(initials = {m.flip_L(bDED=None, state = 'A'):0},\n",
    "                         param_values=clus0_100, num_processors = 20)\n",
    "flipclus0.save('h5mod/pydyno_s36prod_5k_5620_100tnf_cluster0pars30hrflipko.h5',include_obs_exprs = True)\n",
    "c0df100fl = flipclus0.dataframe"
   ]
  },
  {
   "cell_type": "code",
   "execution_count": null,
   "metadata": {},
   "outputs": [],
   "source": [
    "solverflip1 = ScipyOdeSimulator(model100, tspan=tspan, verbose = True)\n",
    "flipclus1 = solverflip1.run(initials = {m.flip_L(bDED=None, state = 'A'):0},\n",
    "                         param_values=clus1_100, num_processors = 20)\n",
    "flipclus1.save('h5mod/pydyno_s36prod_5k_5620_100tnf_cluster1pars30hrflipko.h5',include_obs_exprs = True)\n",
    "c1df100fl = flipclus1.dataframe"
   ]
  },
  {
   "cell_type": "code",
   "execution_count": null,
   "metadata": {},
   "outputs": [],
   "source": [
    "solverflip2 = ScipyOdeSimulator(model100, tspan=tspan, verbose = True)\n",
    "flipclus2 = solverflip2.run(initials = {m.flip_L(bDED=None, state = 'A'):0},\n",
    "                         param_values=clus2_100, num_processors = 20)\n",
    "flipclus2.save('h5mod/pydyno_s36prod_5k_5620_100tnf_cluster2pars30hrflipko.h5',include_obs_exprs = True)\n",
    "c2df100fl = flipclus2.dataframe"
   ]
  },
  {
   "cell_type": "code",
   "execution_count": null,
   "metadata": {},
   "outputs": [],
   "source": [
    "solverflip3 = ScipyOdeSimulator(model100, tspan=tspan, verbose = True)\n",
    "flipclus3 = solverflip3.run(initials = {m.flip_L(bDED=None, state = 'A'):0},\n",
    "                         param_values=clus3_100, num_processors = 20)\n",
    "# flipclus3.save('h5mod/pydyno_s36prod_5k_5620_100tnf_cluster2pars30hrflipko.h5',include_obs_exprs = True)\n",
    "c3df100fl = flipclus3.dataframe"
   ]
  },
  {
   "cell_type": "code",
   "execution_count": null,
   "metadata": {},
   "outputs": [],
   "source": []
  },
  {
   "cell_type": "code",
   "execution_count": null,
   "metadata": {},
   "outputs": [],
   "source": [
    "solverflip0oe = ScipyOdeSimulator(model100, tspan=tspan, verbose = True)\n",
    "flipclus0oe = solverflip0oe.run(initials = {m.flip_L(bDED=None, state = 'A'):39000},\n",
    "                         param_values=clus0_100, num_processors = 20)\n",
    "flipclus0oe.save('h5mod/pydyno_s36prod_5k_5620_100tnf_cluster0pars30hrflipoe.h5',include_obs_exprs = True)\n",
    "c0df100floe = flipclus0oe.dataframe"
   ]
  },
  {
   "cell_type": "code",
   "execution_count": null,
   "metadata": {},
   "outputs": [],
   "source": [
    "solverflip1oe = ScipyOdeSimulator(model100, tspan=tspan, verbose = True)\n",
    "flipclus1oe = solverflip1oe.run(initials = {m.flip_L(bDED=None, state = 'A'):39000},\n",
    "                         param_values=clus1_100, num_processors = 20)\n",
    "flipclus1oe.save('h5mod/pydyno_s36prod_5k_5620_100tnf_cluster1pars30hrflipoe.h5',include_obs_exprs = True)\n",
    "c1df100floe = flipclus1oe.dataframe"
   ]
  },
  {
   "cell_type": "code",
   "execution_count": null,
   "metadata": {},
   "outputs": [],
   "source": [
    "solverflip2oe = ScipyOdeSimulator(model100, tspan=tspan, verbose = True)\n",
    "flipclus2oe = solverflip2oe.run(initials = {m.flip_L(bDED=None, state = 'A'):39000},\n",
    "                         param_values=clus2_100, num_processors = 20)\n",
    "flipclus2oe.save('h5mod/pydyno_s36prod_5k_5620_100tnf_cluster2pars30hrflipoe.h5',include_obs_exprs = True)\n",
    "c2df100floe = flipclus2oe.dataframe"
   ]
  },
  {
   "cell_type": "code",
   "execution_count": null,
   "metadata": {},
   "outputs": [],
   "source": [
    "solverflip3oe = ScipyOdeSimulator(model100, tspan=tspan, verbose = True)\n",
    "flipclus3oe = solverflip3oe.run(initials = {m.flip_L(bDED=None, state = 'A'):39000},\n",
    "                         param_values=clus3_100, num_processors = 20)\n",
    "# flipclus3oe.save('h5mod/pydyno_s36prod_5k_5620_100tnf_cluster2pars30hrflipoe.h5',include_obs_exprs = True)\n",
    "c3df100floe = flipclus3oe.dataframe"
   ]
  },
  {
   "cell_type": "code",
   "execution_count": null,
   "metadata": {},
   "outputs": [],
   "source": [
    "c3df100floe = flipclus3oe.dataframe"
   ]
  },
  {
   "cell_type": "code",
   "execution_count": null,
   "metadata": {},
   "outputs": [],
   "source": []
  },
  {
   "cell_type": "code",
   "execution_count": null,
   "metadata": {},
   "outputs": [],
   "source": []
  },
  {
   "cell_type": "code",
   "execution_count": null,
   "metadata": {},
   "outputs": [],
   "source": [
    "solverc80 = ScipyOdeSimulator(model100, tspan=tspan, verbose = True)\n",
    "c8clus0 = solverc80.run(initials = {m.C8(bf=None, flip = None, state='I'):0},\n",
    "                         param_values=clus0_100, num_processors = 20)\n",
    "c0df100c8 = c8clus0.dataframe"
   ]
  },
  {
   "cell_type": "code",
   "execution_count": null,
   "metadata": {},
   "outputs": [],
   "source": [
    "solverc81 = ScipyOdeSimulator(model100, tspan=tspan, verbose = True)\n",
    "c8clus1 = solverc81.run(initials = {m.C8(bf=None, flip = None, state='I'):0},\n",
    "                         param_values=clus1_100, num_processors = 20)\n",
    "c1df100c8 = c8clus1.dataframe"
   ]
  },
  {
   "cell_type": "code",
   "execution_count": null,
   "metadata": {},
   "outputs": [],
   "source": [
    "solverc82 = ScipyOdeSimulator(model100, tspan=tspan, verbose = True)\n",
    "c8clus2 = solverc82.run(initials = {m.C8(bf=None, flip = None, state='I'):0},\n",
    "                         param_values=clus2_100, num_processors = 20)\n",
    "c2df100c8 = c8clus2.dataframe"
   ]
  },
  {
   "cell_type": "code",
   "execution_count": null,
   "metadata": {},
   "outputs": [],
   "source": [
    "solverc83 = ScipyOdeSimulator(model100, tspan=tspan, verbose = True)\n",
    "c8clus3 = solverc83.run(initials = {m.C8(bf=None, flip = None, state='I'):0},\n",
    "                         param_values=clus3_100, num_processors = 20)\n",
    "c3df100c8 = c8clus3.dataframe"
   ]
  },
  {
   "cell_type": "code",
   "execution_count": null,
   "metadata": {},
   "outputs": [],
   "source": []
  },
  {
   "cell_type": "code",
   "execution_count": null,
   "metadata": {},
   "outputs": [],
   "source": [
    "solverc80oe = ScipyOdeSimulator(model100, tspan=tspan, verbose = True)\n",
    "c8clus0oe = solverc80oe.run(initials = {m.C8(bf=None, flip = None, state='I'):37990},\n",
    "                         param_values=clus0_100, num_processors = 20)\n",
    "c0df100c8oe = c8clus0oe.dataframe"
   ]
  },
  {
   "cell_type": "code",
   "execution_count": null,
   "metadata": {},
   "outputs": [],
   "source": [
    "solverc81oe = ScipyOdeSimulator(model100, tspan=tspan, verbose = True)\n",
    "c8clus1oe = solverc81oe.run(initials = {m.C8(bf=None, flip = None, state='I'):37990},\n",
    "                         param_values=clus1_100, num_processors = 20)\n",
    "c1df100c8oe = c8clus1oe.dataframe"
   ]
  },
  {
   "cell_type": "code",
   "execution_count": null,
   "metadata": {},
   "outputs": [],
   "source": [
    "solverc82oe = ScipyOdeSimulator(model100, tspan=tspan, verbose = True)\n",
    "c8clus2oe = solverc82oe.run(initials = {m.C8(bf=None, flip = None, state='I'):37990},\n",
    "                         param_values=clus2_100, num_processors = 20)\n",
    "c2df100c8oe = c8clus2oe.dataframe"
   ]
  },
  {
   "cell_type": "code",
   "execution_count": null,
   "metadata": {},
   "outputs": [],
   "source": [
    "solverc83oe = ScipyOdeSimulator(model100, tspan=tspan, verbose = True)\n",
    "c8clus3oe = solverc83oe.run(initials = {m.C8(bf=None, flip = None, state='I'):37990},\n",
    "                         param_values=clus3_100, num_processors = 20)\n",
    "c3df100c8oe = c8clus3oe.dataframe"
   ]
  },
  {
   "cell_type": "code",
   "execution_count": null,
   "metadata": {},
   "outputs": [],
   "source": []
  },
  {
   "cell_type": "code",
   "execution_count": null,
   "metadata": {},
   "outputs": [],
   "source": []
  },
  {
   "cell_type": "code",
   "execution_count": null,
   "metadata": {},
   "outputs": [],
   "source": []
  },
  {
   "cell_type": "code",
   "execution_count": null,
   "metadata": {},
   "outputs": [],
   "source": [
    "x1001 = np.array([0, 30, 90, 270])\n",
    "x1002 = np.array([480, 720, 960])\n",
    "y1001 = np.array([0, 0.00885691708746097,0.0161886154261265,0.0373005242261882])\n",
    "y1002 = np.array([0.2798939020159581, .7797294067, .98])"
   ]
  },
  {
   "cell_type": "code",
   "execution_count": null,
   "metadata": {},
   "outputs": [],
   "source": [
    "import matplotlib\n",
    "matplotlib.rc('xtick', labelsize=14) \n",
    "matplotlib.rc('ytick', labelsize=14) \n",
    "fig, ((ax1, ax2), (ax3, ax4)) = plt.subplots(2,2, figsize = (15,10))\n",
    "# tspan = np.linspace(0, 1440, 300)\n",
    "for n in range(len(clus0_100)):\n",
    "#     ax1.vlines(x = 600, ymin = 0, ymax = 5544, linestyle = 'dashed', colors= 'r', zorder = 2, label ='50% pMLKL')\n",
    "    ax1.plot(tspan/60, c0df100fl.loc[n]['MLKLa_obs'].iloc[:]/5544, lw=1.5, color ='blue', zorder = 1, alpha = 0.3)\n",
    "    ax1.errorbar(x1001/60, y1001,\n",
    "                 yerr=[(0, 0.00885691708746097,0.0161886154261265,0.0373005242261882),\n",
    "                 (.07,.07,.07,.07)],\n",
    "                       fmt='.k', ecolor ='red', alpha = 0.75, zorder = 2)\n",
    "    ax1.errorbar(x1002/60, y1002,\n",
    "                 yerr= .07, fmt='.k', ecolor ='red', alpha = 0.75, zorder = 2)\n",
    "    plt.legend(['clus0'], loc = 'best', fontsize = 14)\n",
    "#     plt.ylim(ymax = 5544, ymin =0)\n",
    "#     plt.xlim(xmax = 1440, xmin = 0)\n",
    "    plt.xticks(fontsize=14)\n",
    "    plt.yticks(fontsize=14)\n",
    "    ax1.set_xlim(xmin = 0, xmax = 24)\n",
    "    ax1.set_ylim(ymin = 0)\n",
    "    plt.xticks(fontsize=14)\n",
    "    plt.yticks(fontsize=14)\n",
    "    ax1.grid(False)   \n",
    "    custom_lines = [Line2D([0], [0], color='blue', lw=4),\n",
    "                   Line2D([0], [0], color='red', lw=4)]\n",
    "    ax1.legend(custom_lines, ['Clus0', 'pMLKL Data'], prop={'size': 12}, loc = 'best')\n",
    "    \n",
    "# tspan2 = np.linspace(0, 2160, 300)    \n",
    "for n in range(len(clus1_100)):\n",
    "#     ax2.vlines(x = 600, ymin = 0, ymax = 5544, linestyle = 'dashed', colors= 'r', zorder = 2, label= '50% pMLKL')\n",
    "    ax2.plot(tspan/60,c1df100fl.loc[n]['MLKLa_obs'].iloc[:]/5544,lw=1.5, color ='blue', zorder = 1, alpha = 0.3)\n",
    "    ax2.errorbar(x1001/60, y1001,\n",
    "                 yerr=[(0, 0.00885691708746097,0.0161886154261265,0.0373005242261882),\n",
    "                 (.07,.07,.07,.07)],\n",
    "                       fmt='.k', ecolor ='red', alpha = 0.75, zorder = 2)\n",
    "    ax2.errorbar(x1002/60, y1002,\n",
    "                 yerr= .07, fmt='.k', ecolor ='red', alpha = 0.75, zorder = 2)\n",
    "    plt.xticks(fontsize=14)\n",
    "    plt.yticks(fontsize=14)\n",
    "    ax2.set_xlim(xmin = 0, xmax = 24)\n",
    "    ax2.set_ylim(ymin = 0)\n",
    "    ax2.grid(False)  \n",
    "    custom_lines = [Line2D([0], [0], color='blue', lw=4),\n",
    "                   Line2D([0], [0], color='red', lw=4)]\n",
    "    ax2.legend(custom_lines, ['Clus1', 'pMLKL Data'], prop={'size': 12}, loc = 'best')\n",
    "    \n",
    "for n in range(len(clus2_100)):\n",
    "#     ax3.vlines(x = 600, ymin = 0, ymax = 5544, linestyle = 'dashed', colors= 'r', zorder = 2, label ='50% pMLKL')\n",
    "    ax3.plot(tspan/60, c2df100fl.loc[n]['MLKLa_obs'].iloc[:]/5544,lw=1.5, color ='blue', zorder = 1, alpha = 0.3)  \n",
    "    ax3.errorbar(x1001/60, y1001,\n",
    "                 yerr=[(0, 0.00885691708746097,0.0161886154261265,0.0373005242261882),\n",
    "                 (.07,.07,.07,.07)],\n",
    "                       fmt='.k', ecolor ='red', alpha = 0.75, zorder = 2)\n",
    "    ax3.errorbar(x1002/60, y1002,\n",
    "                 yerr= .07, fmt='.k', ecolor ='red', alpha = 0.75, zorder = 2)\n",
    "    plt.xticks(fontsize=14)\n",
    "    plt.yticks(fontsize=14)\n",
    "    ax3.set_xlim(xmin = 0, xmax = 24)\n",
    "    ax3.set_ylim(ymin = 0)\n",
    "    ax3.grid(False)  \n",
    "    custom_lines = [Line2D([0], [0], color='blue', lw=4),\n",
    "                   Line2D([0], [0], color='red', lw=4)]\n",
    "    ax3.legend(custom_lines, ['Clus2', 'pMLKL Data'], prop={'size': 12}, loc = 'best')\n",
    "    \n",
    "for n in range(len(clus3_100)):\n",
    "    plt.plot(tspan/60, c3df100fl.loc[n]['MLKLa_obs'].iloc[:]/5544, lw=1.5, color ='blue', zorder = 1, alpha = 0.3)\n",
    "    ax4.errorbar(x1001/60, y1001,\n",
    "                 yerr=[(0, 0.00885691708746097,0.0161886154261265,0.0373005242261882),\n",
    "                 (.07,.07,.07,.07)],\n",
    "                       fmt='.k', ecolor ='red', alpha = 0.75, zorder = 2)\n",
    "    ax4.errorbar(x1002/60, y1002,\n",
    "                 yerr= .07, fmt='.k', ecolor ='red', alpha = 0.75, zorder = 2)\n",
    "    plt.xticks(fontsize=14)\n",
    "    plt.yticks(fontsize=14)\n",
    "#     plt.xlabel(\"Time (in hr)\", fontsize=15)\n",
    "#     plt.ylabel(\"Amount (normalized)\", fontsize=15)\n",
    "    ax4.set_xlim(xmin = 0, xmax = 24)\n",
    "    ax4.set_ylim(ymin = 0)\n",
    "    plt.xticks(fontsize=14)\n",
    "    plt.yticks(fontsize=14)\n",
    "    ax4.grid(False)  \n",
    "    custom_lines = [Line2D([0], [0], color='blue', lw=4),\n",
    "                   Line2D([0], [0], color='red', lw=4)]\n",
    "    ax4.legend(custom_lines, ['Clus3', 'pMLKL Data'], prop={'size': 12}, loc = 'best')\n",
    " \n",
    "fig.text(0.5, 0.04, 'Time (Hours)', ha='center', va='center',fontsize = 16)\n",
    "fig.text(0.06, 0.5, 'Amount of Flip pMLKL under 100 ng/ml TNF(Normalized)',\n",
    "         ha='center', va='center', rotation='vertical', fontsize = 16)\n",
    "# plt.savefig('pmlkl_100tnf_4clus_5720_A20KO.pdf')\n",
    "plt.show()"
   ]
  },
  {
   "cell_type": "code",
   "execution_count": null,
   "metadata": {},
   "outputs": [],
   "source": [
    "import matplotlib\n",
    "matplotlib.rc('xtick', labelsize=14) \n",
    "matplotlib.rc('ytick', labelsize=14) \n",
    "fig, ((ax1, ax2), (ax3, ax4)) = plt.subplots(2,2, figsize = (15,10))\n",
    "# tspan = np.linspace(0, 1440, 300)\n",
    "for n in range(len(clus0_100)):\n",
    "#     ax1.vlines(x = 600, ymin = 0, ymax = 5544, linestyle = 'dashed', colors= 'r', zorder = 2, label ='50% pMLKL')\n",
    "    ax1.plot(tspan/60, c0df100c8.loc[n]['MLKLa_obs'].iloc[:]/5544, lw=1.5, color ='blue', zorder = 1, alpha = 0.3)\n",
    "    ax1.errorbar(x1001/60, y1001,\n",
    "                 yerr=[(0, 0.00885691708746097,0.0161886154261265,0.0373005242261882),\n",
    "                 (.07,.07,.07,.07)],\n",
    "                       fmt='.k', ecolor ='black', alpha = 0.75, zorder = 2)\n",
    "    ax1.errorbar(x1002/60, y1002,\n",
    "                 yerr= .07, fmt='.k', ecolor ='black', alpha = 0.75, zorder = 2)\n",
    "    plt.legend(['clus0'], loc = 'best', fontsize = 14)\n",
    "#     plt.ylim(ymax = 5544, ymin =0)\n",
    "#     plt.xlim(xmax = 1440, xmin = 0)\n",
    "    plt.xticks(fontsize=14)\n",
    "    plt.yticks(fontsize=14)\n",
    "    ax1.set_xlim(xmin = 0, xmax = 24)\n",
    "    ax1.set_ylim(ymin = 0)\n",
    "    plt.xticks(fontsize=14)\n",
    "    plt.yticks(fontsize=14)\n",
    "    ax1.grid(False)  \n",
    "    custom_lines = [Line2D([0], [0], color='blue', lw=4),\n",
    "                   Line2D([0], [0], color='black', lw=4)]\n",
    "    ax1.legend(custom_lines, ['Clus0', 'pMLKL Data'], prop={'size': 12}, loc = 'best')\n",
    "    \n",
    "# tspan2 = np.linspace(0, 2160, 300)    \n",
    "for n in range(len(clus1_100)):\n",
    "#     ax2.vlines(x = 600, ymin = 0, ymax = 5544, linestyle = 'dashed', colors= 'r', zorder = 2, label= '50% pMLKL')\n",
    "    ax2.plot(tspan/60, c1df100c8.loc[n]['MLKLa_obs'].iloc[:]/5544,lw=1.5, color ='blue', zorder = 1, alpha = 0.3)\n",
    "    ax2.errorbar(x1001/60, y1001,\n",
    "                 yerr=[(0, 0.00885691708746097,0.0161886154261265,0.0373005242261882),\n",
    "                 (.07,.07,.07,.07)],\n",
    "                       fmt='.k', ecolor ='black', alpha = 0.75, zorder = 2)\n",
    "    ax2.errorbar(x1002/60, y1002,\n",
    "                 yerr= .07, fmt='.k', ecolor ='black', alpha = 0.75, zorder = 2)\n",
    "    plt.xticks(fontsize=14)\n",
    "    plt.yticks(fontsize=14)\n",
    "    ax2.set_xlim(xmin = 0, xmax = 24)\n",
    "    ax2.set_ylim(ymin = 0)\n",
    "    ax2.grid(False)  \n",
    "    custom_lines = [Line2D([0], [0], color='blue', lw=4),\n",
    "                   Line2D([0], [0], color='black', lw=4)]\n",
    "    ax2.legend(custom_lines, ['Clus1', 'pMLKL Data'], prop={'size': 12}, loc = 'best')\n",
    "    \n",
    "for n in range(len(clus2_100)):\n",
    "#     ax3.vlines(x = 600, ymin = 0, ymax = 5544, linestyle = 'dashed', colors= 'r', zorder = 2, label ='50% pMLKL')\n",
    "    ax3.plot(tspan/60, c2df100c8.loc[n]['MLKLa_obs'].iloc[:]/5544,lw=1.5, color ='blue', zorder = 1, alpha = 0.3)  \n",
    "    ax3.errorbar(x1001/60, y1001,\n",
    "                 yerr=[(0, 0.00885691708746097,0.0161886154261265,0.0373005242261882),\n",
    "                 (.07,.07,.07,.07)],\n",
    "                       fmt='.k', ecolor ='black', alpha = 0.75, zorder = 2)\n",
    "    ax3.errorbar(x1002/60, y1002,\n",
    "                 yerr= .07, fmt='.k', ecolor ='black', alpha = 0.75, zorder = 2)\n",
    "    plt.xticks(fontsize=14)\n",
    "    plt.yticks(fontsize=14)\n",
    "    ax3.set_xlim(xmin = 0, xmax = 24)\n",
    "    ax3.set_ylim(ymin = 0)\n",
    "    ax3.grid(False)  \n",
    "    custom_lines = [Line2D([0], [0], color='blue', lw=4),\n",
    "                   Line2D([0], [0], color='black', lw=4)]\n",
    "    ax3.legend(custom_lines, ['Clus2', 'pMLKL Data'], prop={'size': 12}, loc = 'best')\n",
    "    \n",
    "for n in range(len(clus3_100)):\n",
    "    plt.plot(tspan/60, c3df100c8.loc[n]['MLKLa_obs'].iloc[:]/5544, lw=1.5, color ='blue', zorder = 1, alpha = 0.3)\n",
    "    ax4.errorbar(x1001/60, y1001,\n",
    "                 yerr=[(0, 0.00885691708746097,0.0161886154261265,0.0373005242261882),\n",
    "                 (.07,.07,.07,.07)],\n",
    "                       fmt='.k', ecolor ='black', alpha = 0.75, zorder = 2)\n",
    "    ax4.errorbar(x1002/60, y1002,\n",
    "                 yerr= .07, fmt='.k', ecolor ='black', alpha = 0.75, zorder = 2)\n",
    "    plt.xticks(fontsize=14)\n",
    "    plt.yticks(fontsize=14)\n",
    "#     plt.xlabel(\"Time (in hr)\", fontsize=15)\n",
    "#     plt.ylabel(\"Amount (normalized)\", fontsize=15)\n",
    "    ax4.set_xlim(xmin = 0, xmax = 24)\n",
    "    ax4.set_ylim(ymin = 0)\n",
    "    plt.xticks(fontsize=14)\n",
    "    plt.yticks(fontsize=14)\n",
    "    ax4.grid(False)  \n",
    "    custom_lines = [Line2D([0], [0], color='blue', lw=4),\n",
    "                   Line2D([0], [0], color='black', lw=4)]\n",
    "    ax4.legend(custom_lines, ['Clus3', 'pMLKL Data'], prop={'size': 12}, loc = 'best')\n",
    "    \n",
    "fig.text(0.5, 0.04, 'Time (Hours)', ha='center', va='center',fontsize = 16)\n",
    "fig.text(0.06, 0.5, 'Amount of CYLD KO of pMLKL under 100 ng/ml TNF(Normalized)',\n",
    "         ha='center', va='center', rotation='vertical', fontsize = 16)\n",
    "# plt.savefig('pmlkl_100tnf_4clus_5720_CYLDKO.pdf')\n",
    "plt.show()"
   ]
  },
  {
   "cell_type": "code",
   "execution_count": null,
   "metadata": {},
   "outputs": [],
   "source": []
  },
  {
   "cell_type": "code",
   "execution_count": null,
   "metadata": {},
   "outputs": [],
   "source": []
  },
  {
   "cell_type": "code",
   "execution_count": null,
   "metadata": {},
   "outputs": [],
   "source": [
    "threshold = 4000\n",
    "threshold2 = 500"
   ]
  },
  {
   "cell_type": "code",
   "execution_count": null,
   "metadata": {},
   "outputs": [],
   "source": [
    "df_threshtimesc0100wt = c0df100wt.groupby('simulation').apply(lambda x: (x > threshold).idxmax()).apply(lambda x: [y[1] for y in x])\n",
    "df_threshtimesc0df100fl   = c0df100fl.groupby('simulation').apply(lambda x: (x > threshold).idxmax()).apply(lambda x: [y[1] for y in x])\n",
    "df_threshtimesc0df100c8 = c0df100c8.groupby('simulation').apply(lambda x: (x > threshold).idxmax()).apply(lambda x: [y[1] for y in x])"
   ]
  },
  {
   "cell_type": "code",
   "execution_count": null,
   "metadata": {},
   "outputs": [],
   "source": [
    "df_threshtimesc1100wt = c1df100wt.groupby('simulation').apply(lambda x: (x > threshold).idxmax()).apply(lambda x: [y[1] for y in x])\n",
    "df_threshtimesc1df100fl   = c1df100fl.groupby('simulation').apply(lambda x: (x > threshold).idxmax()).apply(lambda x: [y[1] for y in x])\n",
    "df_threshtimesc1df100c8 = c1df100c8.groupby('simulation').apply(lambda x: (x > threshold).idxmax()).apply(lambda x: [y[1] for y in x])"
   ]
  },
  {
   "cell_type": "code",
   "execution_count": null,
   "metadata": {},
   "outputs": [],
   "source": [
    "df_threshtimesc2100wt = c2df100wt.groupby('simulation').apply(lambda x: (x > threshold).idxmax()).apply(lambda x: [y[1] for y in x])\n",
    "df_threshtimesc2df100fl   = c2df100fl.groupby('simulation').apply(lambda x: (x > threshold).idxmax()).apply(lambda x: [y[1] for y in x])\n",
    "df_threshtimesc2df100c8 = c2df100c8.groupby('simulation').apply(lambda x: (x > threshold).idxmax()).apply(lambda x: [y[1] for y in x])"
   ]
  },
  {
   "cell_type": "code",
   "execution_count": null,
   "metadata": {},
   "outputs": [],
   "source": [
    "df_threshtimesc3100wt = c3df100wt.groupby('simulation').apply(lambda x: (x > threshold).idxmax()).apply(lambda x: [y[1] for y in x])\n",
    "df_threshtimesc3df100fl   = c3df100fl.groupby('simulation').apply(lambda x: (x > threshold).idxmax()).apply(lambda x: [y[1] for y in x])\n",
    "df_threshtimesc3df100c8 = c3df100c8.groupby('simulation').apply(lambda x: (x > threshold).idxmax()).apply(lambda x: [y[1] for y in x])"
   ]
  },
  {
   "cell_type": "code",
   "execution_count": null,
   "metadata": {},
   "outputs": [],
   "source": [
    "# df_threshtimesc0100wt = c0df100wt.groupby('simulation').apply(lambda x: (x > threshold).idxmax()).apply(lambda x: [y[1] for y in x])\n",
    "df_threshtimesc0df100floe   = c0df100floe.groupby('simulation').apply(lambda x: (x > threshold).idxmax()).apply(lambda x: [y[1] for y in x])\n",
    "df_threshtimesc0df100c8oe = c0df100c8oe.groupby('simulation').apply(lambda x: (x > threshold).idxmax()).apply(lambda x: [y[1] for y in x])"
   ]
  },
  {
   "cell_type": "code",
   "execution_count": null,
   "metadata": {},
   "outputs": [],
   "source": [
    "# df_threshtimesc1100wt = c1df100wt.groupby('simulation').apply(lambda x: (x > threshold).idxmax()).apply(lambda x: [y[1] for y in x])\n",
    "df_threshtimesc1df100floe   = c1df100floe.groupby('simulation').apply(lambda x: (x > threshold).idxmax()).apply(lambda x: [y[1] for y in x])\n",
    "df_threshtimesc1df100c8oe = c1df100c8oe.groupby('simulation').apply(lambda x: (x > threshold).idxmax()).apply(lambda x: [y[1] for y in x])"
   ]
  },
  {
   "cell_type": "code",
   "execution_count": null,
   "metadata": {},
   "outputs": [],
   "source": [
    "# df_threshtimesc2100wt = c2df100wt.groupby('simulation').apply(lambda x: (x > threshold).idxmax()).apply(lambda x: [y[1] for y in x])\n",
    "df_threshtimesc2df100floe   = c2df100floe.groupby('simulation').apply(lambda x: (x > threshold).idxmax()).apply(lambda x: [y[1] for y in x])\n",
    "df_threshtimesc2df100c8oe = c2df100c8oe.groupby('simulation').apply(lambda x: (x > threshold).idxmax()).apply(lambda x: [y[1] for y in x])"
   ]
  },
  {
   "cell_type": "code",
   "execution_count": null,
   "metadata": {},
   "outputs": [],
   "source": [
    "# df_threshtimesc3100wt = c3df100wt.groupby('simulation').apply(lambda x: (x > threshold).idxmax()).apply(lambda x: [y[1] for y in x])\n",
    "df_threshtimesc3df100floe   = c3df100floe.groupby('simulation').apply(lambda x: (x > threshold).idxmax()).apply(lambda x: [y[1] for y in x])\n",
    "df_threshtimesc3df100c8oe = c3df100c8oe.groupby('simulation').apply(lambda x: (x > threshold).idxmax()).apply(lambda x: [y[1] for y in x])"
   ]
  },
  {
   "cell_type": "code",
   "execution_count": null,
   "metadata": {},
   "outputs": [],
   "source": []
  },
  {
   "cell_type": "code",
   "execution_count": null,
   "metadata": {},
   "outputs": [],
   "source": []
  },
  {
   "cell_type": "code",
   "execution_count": null,
   "metadata": {},
   "outputs": [],
   "source": [
    "clusallwt = pd.DataFrame({'WTc0': df_threshtimesc1100wt['MLKLa_obs'], \n",
    "                        'WTc1': df_threshtimesc1100wt['MLKLa_obs'],\n",
    "                        'WTc2': df_threshtimesc2100wt['MLKLa_obs'],\n",
    "                     'WTc3': df_threshtimesc3100wt['MLKLa_obs']})"
   ]
  },
  {
   "cell_type": "code",
   "execution_count": null,
   "metadata": {},
   "outputs": [],
   "source": [
    "dfwt = pd.DataFrame(data = clusallwt, columns = ['WTc0', 'WTc1','WTc2','WTc3'])"
   ]
  },
  {
   "cell_type": "code",
   "execution_count": null,
   "metadata": {},
   "outputs": [],
   "source": [
    "clusallflko = pd.DataFrame({'fl0': df_threshtimesc0df100fl['MLKLa_obs'], \n",
    "                        'fl1': df_threshtimesc1df100fl['MLKLa_obs'],\n",
    "                        'fl2': df_threshtimesc2df100fl['MLKLa_obs'],\n",
    "                     'fl3': df_threshtimesc2df100fl['MLKLa_obs']})"
   ]
  },
  {
   "cell_type": "code",
   "execution_count": null,
   "metadata": {},
   "outputs": [],
   "source": [
    "dffl = pd.DataFrame(data = clusallflko, columns = ['fl0', 'fl1','fl2','fl3'])"
   ]
  },
  {
   "cell_type": "code",
   "execution_count": null,
   "metadata": {},
   "outputs": [],
   "source": [
    "clusallc8ko = pd.DataFrame({'c80': df_threshtimesc0df100c8['MLKLa_obs'], \n",
    "                        'c81': df_threshtimesc0df100c8['MLKLa_obs'],\n",
    "                        'c82': df_threshtimesc0df100c8['MLKLa_obs'],\n",
    "                     'c83': df_threshtimesc0df100c8['MLKLa_obs']})"
   ]
  },
  {
   "cell_type": "code",
   "execution_count": null,
   "metadata": {},
   "outputs": [],
   "source": [
    "dfc8 = pd.DataFrame(data = clusallc8ko, columns = ['c80', 'c81','c82','c83'])"
   ]
  },
  {
   "cell_type": "code",
   "execution_count": null,
   "metadata": {},
   "outputs": [],
   "source": [
    "clusallfloe = pd.DataFrame({'fl0oe': df_threshtimesc0df100floe['MLKLa_obs'], \n",
    "                        'fl1oe': df_threshtimesc1df100floe['MLKLa_obs'],\n",
    "                        'fl2oe': df_threshtimesc2df100floe['MLKLa_obs'],\n",
    "                     'fl3oe': df_threshtimesc2df100floe['MLKLa_obs']})"
   ]
  },
  {
   "cell_type": "code",
   "execution_count": null,
   "metadata": {},
   "outputs": [],
   "source": [
    "dffloe = pd.DataFrame(data = clusallfloe, columns = ['fl0oe', 'fl1oe','fl2oe','fl3oe'])"
   ]
  },
  {
   "cell_type": "code",
   "execution_count": null,
   "metadata": {},
   "outputs": [],
   "source": [
    "clusallc8oe = pd.DataFrame({'c80oe': df_threshtimesc0df100c8oe['MLKLa_obs'], \n",
    "                        'c81oe': df_threshtimesc0df100c8oe['MLKLa_obs'],\n",
    "                        'c82oe': df_threshtimesc0df100c8oe['MLKLa_obs'],\n",
    "                     'c83oe': df_threshtimesc0df100c8oe['MLKLa_obs']})"
   ]
  },
  {
   "cell_type": "code",
   "execution_count": null,
   "metadata": {},
   "outputs": [],
   "source": [
    "dfc8oe = pd.DataFrame(data = clusallc8oe, columns = ['c80oe', 'c81oe','c82oe','c83oe'])"
   ]
  },
  {
   "cell_type": "code",
   "execution_count": null,
   "metadata": {},
   "outputs": [],
   "source": [
    "plt.figure(figsize = (15,10))\n",
    "my_pal = { \"fl0\":\"purple\", \"fl1\":\"purple\", \"fl2\":\"purple\", \"fl3\":\"purple\"}\n",
    "my_pal2 = { \"c80\":\"cyan\", \"c81\":\"cyan\", \"c82\":\"cyan\", \"c83\":\"cyan\"}\n",
    "my_pal3 = {\"WTc0\": \"red\", \"WTc1\": \"red\", \"WTc2\":\"red\", \"WTc3\":\"red\"}\n",
    "b = sns.swarmplot(x=\"value\", y=\"variable\", data=pd.melt(dfwt), zorder=2, palette=my_pal3, alpha=0.5)\n",
    "b2 = sns.swarmplot(x=\"value\", y=\"variable\", data=pd.melt(dffl), zorder=2, palette=my_pal, alpha=0.5)\n",
    "b3 = sns.swarmplot(x=\"value\", y=\"variable\", data=pd.melt(dfc8), zorder=2, palette=my_pal2, alpha=0.5)\n",
    "b.set_xlabel(\"Time (minutes)\",fontsize=15)\n",
    "b.set_ylabel(\"All Clusters\",fontsize=15)\n",
    "b.tick_params(labelsize=15)\n",
    "plt.xlim(xmax = 1800, xmin = 0)\n",
    "# plt.savefig('figs/pmlkl_100tnf_allcluswkos_swarm_5720mod.pdf')\n",
    "# plt.savefig('pmlkl_100tnf_allclusbox_wswarm_5720.pdf')\n",
    "plt.show()"
   ]
  },
  {
   "cell_type": "code",
   "execution_count": null,
   "metadata": {},
   "outputs": [],
   "source": [
    "plt.figure(figsize = (15,10))\n",
    "my_pal = { \"fl0oe\":\"purple\", \"fl1oe\":\"purple\", \"fl2oe\":\"purple\", \"fl3oe\":\"purple\"}\n",
    "my_pal2 = { \"c80oe\":\"cyan\", \"c81oe\":\"cyan\", \"c82oe\":\"cyan\", \"c83oe\":\"cyan\"}\n",
    "my_pal3 = {\"WTc0\": \"red\", \"WTc1\": \"red\", \"WTc2\":\"red\", \"WTc3\":\"red\"}\n",
    "b = sns.swarmplot(x=\"value\", y=\"variable\", data=pd.melt(dfwt), zorder=2, palette=my_pal3, alpha=0.5)\n",
    "b2 = sns.swarmplot(x=\"value\", y=\"variable\", data=pd.melt(dffloe), zorder=2, palette=my_pal, alpha=0.5)\n",
    "b3 = sns.swarmplot(x=\"value\", y=\"variable\", data=pd.melt(dfc8oe), zorder=2, palette=my_pal2, alpha=0.5)\n",
    "b.set_xlabel(\"Time (minutes)\",fontsize=15)\n",
    "b.set_ylabel(\"All Clusters\",fontsize=15)\n",
    "b.tick_params(labelsize=15)\n",
    "plt.xlim(xmax = 1800, xmin = 0)\n",
    "# plt.savefig('figs/pmlkl_100tnf_allcluswkos_swarm_5720mod.pdf')\n",
    "# plt.savefig('pmlkl_100tnf_allclusbox_wswarm_5720.pdf')\n",
    "plt.show()"
   ]
  },
  {
   "cell_type": "code",
   "execution_count": null,
   "metadata": {},
   "outputs": [],
   "source": [
    "clus0 = pd.DataFrame({'wt0': df_threshtimesc0100wt['MLKLa_obs'], \n",
    "                          'cyld0': df_threshtimesc0df100fl['MLKLa_obs'],\n",
    "                          'a200': df_threshtimesc0100a20['MLKLa_obs']})"
   ]
  },
  {
   "cell_type": "code",
   "execution_count": null,
   "metadata": {},
   "outputs": [],
   "source": [
    "dfclus0 = pd.DataFrame(data = clus0, columns = ['wt0', 'cyld0','a200'])\n",
    "dfclus0 = pd.melt(dfclus0)"
   ]
  },
  {
   "cell_type": "code",
   "execution_count": null,
   "metadata": {},
   "outputs": [],
   "source": [
    "plt.figure(figsize = (15,10))\n",
    "my_pal = {\"wt0\": \"red\", \"cyld0\": \"green\", \"a200\":\"blue\"}\n",
    "# b = sns.boxplot(x = \"value\", y =\"variable\", data = dfclus0, notch = True, width = 0.5, palette = my_pal)\n",
    "b = sns.swarmplot(x=\"value\", y=\"variable\", data=dfclus0, zorder=2, palette=my_pal)\n",
    "b.set_xlabel(\"Time (minutes)\",fontsize=15)\n",
    "b.set_ylabel(\"Cluster 0\",fontsize=15)\n",
    "b.tick_params(labelsize=15)\n",
    "plt.xlim(xmax = 1800, xmin = 0)\n",
    "# plt.savefig('pmlkl_100tnf_clus0box_wswarm_5720.pdf')\n",
    "plt.show()"
   ]
  },
  {
   "cell_type": "code",
   "execution_count": null,
   "metadata": {},
   "outputs": [],
   "source": [
    "clus1 = pd.DataFrame({'wt1': df_threshtimesc1100wt['MLKLa_obs'],\n",
    "                        'cyld1': df_threshtimesc1100cyld['MLKLa_obs'],\n",
    "                        'a201': df_threshtimesc1100a20['MLKLa_obs']})"
   ]
  },
  {
   "cell_type": "code",
   "execution_count": null,
   "metadata": {},
   "outputs": [],
   "source": [
    "dfclus1 = pd.DataFrame(data = clus1, columns = ['wt1','cyld1','a201'])\n",
    "dfclus1 = pd.melt(dfclus1)"
   ]
  },
  {
   "cell_type": "code",
   "execution_count": null,
   "metadata": {},
   "outputs": [],
   "source": [
    "plt.figure(figsize = (15,10))\n",
    "my_pal = {\"wt1\": \"red\", \"cyld1\": \"green\", \"a201\":\"blue\"}\n",
    "# b = sns.boxplot(x = \"value\", y =\"variable\", data = dfclus1, notch = True, width = 0.5, palette = my_pal)\n",
    "b = sns.swarmplot(x=\"value\", y=\"variable\", data=dfclus1, zorder=2, palette=my_pal)\n",
    "b.set_xlabel(\"Time (minutes)\",fontsize=15)\n",
    "b.set_ylabel(\"Cluster 1\",fontsize=15)\n",
    "b.tick_params(labelsize=15)\n",
    "plt.xlim(xmax = 1800, xmin = 0)\n",
    "# plt.savefig('pmlkl_100tnf_clus0box_wswarm_5720.pdf')\n",
    "plt.show()"
   ]
  },
  {
   "cell_type": "code",
   "execution_count": null,
   "metadata": {},
   "outputs": [],
   "source": [
    "clus2 = pd.DataFrame({'wt2': df_threshtimesc2100wt['MLKLa_obs'], \n",
    "                        'cyld2': df_threshtimesc2100cyld['MLKLa_obs'],\n",
    "                        'a202': df_threshtimesc2100a20['MLKLa_obs']})"
   ]
  },
  {
   "cell_type": "code",
   "execution_count": null,
   "metadata": {},
   "outputs": [],
   "source": [
    "dfclus2 = pd.DataFrame(data = clus2, columns = ['wt2','cyld2','a202'])\n",
    "dfclus2 = pd.melt(dfclus2)"
   ]
  },
  {
   "cell_type": "code",
   "execution_count": null,
   "metadata": {},
   "outputs": [],
   "source": [
    "plt.figure(figsize = (15,10))\n",
    "my_pal = {\"wt2\": \"red\", \"cyld2\": \"green\", \"a202\":\"blue\"}\n",
    "# b = sns.boxplot(x = \"value\", y =\"variable\", data = dfclus2, notch = True, width = 0.5, palette = my_pal)\n",
    "b = sns.swarmplot(x=\"value\", y=\"variable\", data=dfclus2, zorder=2, palette=my_pal)\n",
    "b.set_xlabel(\"Time (minutes)\",fontsize=15)\n",
    "b.set_ylabel(\"Cluster 2\",fontsize=15)\n",
    "b.tick_params(labelsize=15)\n",
    "plt.xlim(xmax = 1800, xmin = 0)\n",
    "# plt.savefig('pmlkl_100tnf_clus0box_5720.pdf')\n",
    "# plt.savefig('pmlkl_100tnf_clus0box_wswarm_5720.pdf')\n",
    "plt.show()"
   ]
  },
  {
   "cell_type": "code",
   "execution_count": null,
   "metadata": {},
   "outputs": [],
   "source": [
    "clus3 = pd.DataFrame({'wt3': df_threshtimesc3100wt['MLKLa_obs'],\n",
    "                        'cyld3': df_threshtimesc3100cyld['MLKLa_obs'],\n",
    "                        'a203': df_threshtimesc3100a20['MLKLa_obs']})\n"
   ]
  },
  {
   "cell_type": "code",
   "execution_count": null,
   "metadata": {},
   "outputs": [],
   "source": [
    "dfclus3 = pd.DataFrame(data = clus3, columns = ['wt3','cyld3','a203'])\n",
    "dfclus3 = pd.melt(dfclus3)"
   ]
  },
  {
   "cell_type": "code",
   "execution_count": null,
   "metadata": {},
   "outputs": [],
   "source": [
    "sns.set(style=\"whitegrid\")\n",
    "plt.figure(figsize = (15,10))\n",
    "my_pal = {\"wt3\": \"red\", \"cyld3\": \"green\", \"a203\":\"blue\"}\n",
    "# b = sns.boxplot(x = \"value\", y =\"variable\", data = dfclus3, notch = True, width = 0.5, palette=my_pal)\n",
    "b = sns.swarmplot(x=\"value\", y=\"variable\", data=dfclus3, zorder=2, palette=my_pal)\n",
    "b.set_xlabel(\"Time (minutes)\",fontsize=15)\n",
    "b.set_ylabel(\"Cluster 3\",fontsize=15)\n",
    "b.tick_params(labelsize=15)\n",
    "plt.xlim(xmax = 1800, xmin = 0)\n",
    "# plt.savefig('pmlkl_100tnf_clus3box_5720.pdf')\n",
    "# plt.savefig('pmlkl_100tnf_clus3box_wswarm_5720.pdf')\n",
    "plt.show()"
   ]
  },
  {
   "cell_type": "code",
   "execution_count": null,
   "metadata": {},
   "outputs": [],
   "source": []
  },
  {
   "cell_type": "code",
   "execution_count": null,
   "metadata": {},
   "outputs": [],
   "source": []
  }
 ],
 "metadata": {
  "kernelspec": {
   "display_name": "Python 3",
   "language": "python",
   "name": "python3"
  },
  "language_info": {
   "codemirror_mode": {
    "name": "ipython",
    "version": 3
   },
   "file_extension": ".py",
   "mimetype": "text/x-python",
   "name": "python",
   "nbconvert_exporter": "python",
   "pygments_lexer": "ipython3",
   "version": "3.7.5"
  }
 },
 "nbformat": 4,
 "nbformat_minor": 2
}
