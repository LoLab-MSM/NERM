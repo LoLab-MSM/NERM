{
 "cells": [
  {
   "cell_type": "code",
   "execution_count": 1,
   "metadata": {},
   "outputs": [],
   "source": [
    "import os\n",
    "# os.environ[\"OMP_NUM_THREADS\"] = \"1\"\n",
    "# os.environ[\"OPENBLAS_NUM_THREADS\"] = \"1\"\n",
    "from pylab import *\n",
    "from pysb.core import *\n",
    "from pysb.bng import *\n",
    "from pysb.integrate import *\n",
    "import matplotlib.pyplot as plt\n",
    "import numpy as np\n",
    "from pysb.util import alias_model_components\n",
    "# from pysb.simulator import CupSodaSimulator\n",
    "from pysb.simulator import ScipyOdeSimulator\n",
    "# from pysb.simulator.bng import B/ngSimulator\n",
    "from necro_uncal_new_updated import model as model100\n",
    "# from necro_uncal_new_10tnf import model as model10\n",
    "# from necro_uncal_new_1tnf import model as model1\n",
    "# from necro_uncal_new_01tnf import model as model01\n",
    "import pandas as pd\n",
    "# alias_model_components(model100, model10, model1, model01)\n",
    "from scipy import stats\n",
    "from pysb.simulator import SimulationResult\n",
    "import seaborn as sns"
   ]
  },
  {
   "cell_type": "code",
   "execution_count": null,
   "metadata": {},
   "outputs": [],
   "source": [
    "for i,l in enumerate(np.linspace(0,1800,500)):\n",
    "    print(i,\":\",l)"
   ]
  },
  {
   "cell_type": "code",
   "execution_count": 2,
   "metadata": {},
   "outputs": [],
   "source": [
    "# clus0_100 = np.load('necro_pars10k_cluster0_5720_mod.npy')\n",
    "clus1_100 = np.load('necro_pars10k_cluster1_5720_mod.npy')\n",
    "# clus2_100 = np.load('necro_pars10k_cluster2_5720_mod.npy')\n",
    "\n",
    "clus31_100 = np.load('/home/ildefog/main/Projects/NecroptosisSens/cluster3/necro_pars10k_cluster31_5720_modsplit20.npy')\n",
    "clus32_100 = np.load('/home/ildefog/main/Projects/NecroptosisSens/cluster3/necro_pars10k_cluster32_5720_modsplit20.npy')\n",
    "clus33_100 = np.load('/home/ildefog/main/Projects/NecroptosisSens/cluster3/necro_pars10k_cluster33_5720_modsplit20.npy')"
   ]
  },
  {
   "cell_type": "code",
   "execution_count": 3,
   "metadata": {},
   "outputs": [],
   "source": [
    "tspan = np.linspace(0,1440,500)\n",
    "m = model100.components\n",
    "c1 = 15\n",
    "c31 = 14\n",
    "c32 = 15\n",
    "c33 = 16"
   ]
  },
  {
   "cell_type": "code",
   "execution_count": 4,
   "metadata": {},
   "outputs": [],
   "source": [
    "lub = 2167\n",
    "lubm = 72260"
   ]
  },
  {
   "cell_type": "code",
   "execution_count": 5,
   "metadata": {},
   "outputs": [
    {
     "name": "stderr",
     "output_type": "stream",
     "text": [
      "2021-01-10 23:09:42.486 - pysb.simulator.scipyode - DEBUG - [necro_uncal_new_updated] Simulator created\n",
      "2021-01-10 23:09:43.269 - pysb.simulator.scipyode - DEBUG - [necro_uncal_new_updated] Equation mode set to \"cython\"\n",
      "2021-01-10 23:09:43.332 - pysb.simulator.scipyode - INFO - [necro_uncal_new_updated] Simulation(s) started\n",
      "2021-01-10 23:09:43.371 - pysb.simulator.scipyode - DEBUG - [necro_uncal_new_updated] Multi-processor (parallel) mode using 10 processes\n",
      "2021-01-10 23:09:43.565 - pysb.simulator.scipyode - INFO - [necro_uncal_new_updated] All simulation(s) complete\n",
      "2021-01-10 23:09:43.566 - pysb.simulator.scipyode - DEBUG - [necro_uncal_new_updated] SimulationResult constructor started\n",
      "2021-01-10 23:09:43.613 - pysb.simulator.scipyode - DEBUG - [necro_uncal_new_updated] SimulationResult constructor finished\n"
     ]
    }
   ],
   "source": [
    "solverwt0 = ScipyOdeSimulator(model100, tspan=tspan, verbose = True)\n",
    "wtclus0 = solverwt0.run(param_values=clus1_100[c1], num_processors = 10)\n",
    "c1 = wtclus0.dataframe"
   ]
  },
  {
   "cell_type": "code",
   "execution_count": 12,
   "metadata": {},
   "outputs": [
    {
     "name": "stderr",
     "output_type": "stream",
     "text": [
      "2021-01-10 23:12:05.871 - pysb.simulator.scipyode - DEBUG - [necro_uncal_new_updated] Simulator created\n",
      "2021-01-10 23:12:05.882 - pysb.simulator.scipyode - DEBUG - [necro_uncal_new_updated] Equation mode set to \"cython\"\n",
      "2021-01-10 23:12:05.951 - pysb.simulator.scipyode - INFO - [necro_uncal_new_updated] Simulation(s) started\n",
      "2021-01-10 23:12:06.013 - pysb.simulator.scipyode - DEBUG - [necro_uncal_new_updated] Multi-processor (parallel) mode using 20 processes\n",
      "2021-01-10 23:12:06.246 - pysb.simulator.scipyode - INFO - [necro_uncal_new_updated] All simulation(s) complete\n",
      "2021-01-10 23:12:06.247 - pysb.simulator.scipyode - DEBUG - [necro_uncal_new_updated] SimulationResult constructor started\n",
      "2021-01-10 23:12:06.301 - pysb.simulator.scipyode - DEBUG - [necro_uncal_new_updated] SimulationResult constructor finished\n"
     ]
    }
   ],
   "source": [
    "solverwt0 = ScipyOdeSimulator(model100, tspan=tspan, verbose = True)\n",
    "wtclus0 = solverwt0.run(initials = {m.LUBAC(brip=None):2167},\n",
    "                         param_values=clus1_100[15], num_processors = 20)\n",
    "c1kd = wtclus0.dataframe"
   ]
  },
  {
   "cell_type": "code",
   "execution_count": 13,
   "metadata": {},
   "outputs": [
    {
     "name": "stderr",
     "output_type": "stream",
     "text": [
      "2021-01-10 23:12:17.465 - pysb.simulator.scipyode - DEBUG - [necro_uncal_new_updated] Simulator created\n",
      "2021-01-10 23:12:17.476 - pysb.simulator.scipyode - DEBUG - [necro_uncal_new_updated] Equation mode set to \"cython\"\n",
      "2021-01-10 23:12:17.546 - pysb.simulator.scipyode - INFO - [necro_uncal_new_updated] Simulation(s) started\n",
      "2021-01-10 23:12:17.602 - pysb.simulator.scipyode - DEBUG - [necro_uncal_new_updated] Multi-processor (parallel) mode using 10 processes\n",
      "2021-01-10 23:12:17.784 - pysb.simulator.scipyode - INFO - [necro_uncal_new_updated] All simulation(s) complete\n",
      "2021-01-10 23:12:17.786 - pysb.simulator.scipyode - DEBUG - [necro_uncal_new_updated] SimulationResult constructor started\n",
      "2021-01-10 23:12:17.853 - pysb.simulator.scipyode - DEBUG - [necro_uncal_new_updated] SimulationResult constructor finished\n"
     ]
    }
   ],
   "source": [
    "solverwt0 = ScipyOdeSimulator(model100, tspan=tspan, verbose = True)\n",
    "wtclus0 = solverwt0.run(initials = {m.LUBAC(brip=None): lubm}, param_values=clus1_100[15], num_processors = 10)\n",
    "c1oe = wtclus0.dataframe"
   ]
  },
  {
   "cell_type": "code",
   "execution_count": 43,
   "metadata": {},
   "outputs": [
    {
     "name": "stderr",
     "output_type": "stream",
     "text": [
      "2021-01-11 11:56:52.736 - pysb.simulator.scipyode - DEBUG - [necro_uncal_new_updated] Simulator created\n",
      "2021-01-11 11:56:52.747 - pysb.simulator.scipyode - DEBUG - [necro_uncal_new_updated] Equation mode set to \"cython\"\n",
      "2021-01-11 11:56:52.816 - pysb.simulator.scipyode - INFO - [necro_uncal_new_updated] Simulation(s) started\n",
      "2021-01-11 11:56:52.878 - pysb.simulator.scipyode - DEBUG - [necro_uncal_new_updated] Multi-processor (parallel) mode using 10 processes\n",
      "2021-01-11 11:56:53.068 - pysb.simulator.scipyode - INFO - [necro_uncal_new_updated] All simulation(s) complete\n",
      "2021-01-11 11:56:53.070 - pysb.simulator.scipyode - DEBUG - [necro_uncal_new_updated] SimulationResult constructor started\n",
      "2021-01-11 11:56:53.142 - pysb.simulator.scipyode - DEBUG - [necro_uncal_new_updated] SimulationResult constructor finished\n"
     ]
    }
   ],
   "source": [
    "solverwt0 = ScipyOdeSimulator(model100, tspan=tspan, verbose = True)\n",
    "wtclus0 = solverwt0.run(initials = {m.TRADD(brec=None, brip=None, state='unmod', bDD1 = None, bDD2 = None): lub}, param_values=clus31_100[14], num_processors = 10)\n",
    "c3mkd = wtclus0.dataframe"
   ]
  },
  {
   "cell_type": "code",
   "execution_count": 44,
   "metadata": {},
   "outputs": [
    {
     "name": "stderr",
     "output_type": "stream",
     "text": [
      "2021-01-11 11:56:53.173 - pysb.simulator.scipyode - DEBUG - [necro_uncal_new_updated] Simulator created\n",
      "2021-01-11 11:56:53.181 - pysb.simulator.scipyode - DEBUG - [necro_uncal_new_updated] Equation mode set to \"cython\"\n",
      "2021-01-11 11:56:53.229 - pysb.simulator.scipyode - INFO - [necro_uncal_new_updated] Simulation(s) started\n",
      "2021-01-11 11:56:53.279 - pysb.simulator.scipyode - DEBUG - [necro_uncal_new_updated] Multi-processor (parallel) mode using 10 processes\n",
      "2021-01-11 11:56:53.473 - pysb.simulator.scipyode - INFO - [necro_uncal_new_updated] All simulation(s) complete\n",
      "2021-01-11 11:56:53.474 - pysb.simulator.scipyode - DEBUG - [necro_uncal_new_updated] SimulationResult constructor started\n",
      "2021-01-11 11:56:53.537 - pysb.simulator.scipyode - DEBUG - [necro_uncal_new_updated] SimulationResult constructor finished\n"
     ]
    }
   ],
   "source": [
    "#LUBAC(brip=None)\n",
    "solverwt0 = ScipyOdeSimulator(model100, tspan=tspan, verbose = True)\n",
    "wtclus0 = solverwt0.run(initials = {m.LUBAC(brip=None): lubm}, param_values=clus31_100[14], num_processors = 10)\n",
    "c3moe = wtclus0.dataframe"
   ]
  },
  {
   "cell_type": "code",
   "execution_count": 45,
   "metadata": {},
   "outputs": [
    {
     "name": "stderr",
     "output_type": "stream",
     "text": [
      "2021-01-11 11:56:53.634 - pysb.simulator.scipyode - DEBUG - [necro_uncal_new_updated] Simulator created\n",
      "2021-01-11 11:56:53.644 - pysb.simulator.scipyode - DEBUG - [necro_uncal_new_updated] Equation mode set to \"cython\"\n",
      "2021-01-11 11:56:53.715 - pysb.simulator.scipyode - INFO - [necro_uncal_new_updated] Simulation(s) started\n",
      "2021-01-11 11:56:53.782 - pysb.simulator.scipyode - DEBUG - [necro_uncal_new_updated] Multi-processor (parallel) mode using 10 processes\n",
      "2021-01-11 11:56:53.977 - pysb.simulator.scipyode - INFO - [necro_uncal_new_updated] All simulation(s) complete\n",
      "2021-01-11 11:56:53.978 - pysb.simulator.scipyode - DEBUG - [necro_uncal_new_updated] SimulationResult constructor started\n",
      "2021-01-11 11:56:54.047 - pysb.simulator.scipyode - DEBUG - [necro_uncal_new_updated] SimulationResult constructor finished\n"
     ]
    }
   ],
   "source": [
    "solverwt0 = ScipyOdeSimulator(model100, tspan=tspan, verbose = True)\n",
    "wtclus0 = solverwt0.run(param_values=clus31_100[14], num_processors = 10)\n",
    "c3m = wtclus0.dataframe"
   ]
  },
  {
   "cell_type": "code",
   "execution_count": 46,
   "metadata": {},
   "outputs": [
    {
     "data": {
      "image/png": "[encoded data removed]",
      "text/plain": [
       "<Figure size 576x432 with 1 Axes>"
      ]
     },
     "metadata": {
      "needs_background": "light"
     },
     "output_type": "display_data"
    }
   ],
   "source": [
    "plt.figure(figsize = (8, 6))\n",
    "plt.plot(tspan/60, c3m['MLKLa_obs'].iloc[:]/5544,lw=7, color ='purple', label = 'WT', linestyle = '--', zorder = 2, alpha = 0.7)\n",
    "plt.plot(tspan/60, c3moe['MLKLa_obs'].iloc[:]/5544, lw=7, color ='violet', label = 'LUBAC_OE', linestyle = ':', zorder = 3, alpha = 0.7)\n",
    "plt.plot(tspan/60, c3mkd['MLKLa_obs'].iloc[:]/5544, lw=7, color ='indigo', label = 'LUBAC_KD', zorder = 1, alpha = 0.8)\n",
    "\n",
    "# plt.errorbar(x1001/60, y1001,\n",
    "#              yerr=[(0, 0.00885691708746097,0.0161886154261265,0.0373005242261882),\n",
    "#              (.07,.07,.07,.07)],\n",
    "#                    fmt='.k', ecolor ='black', alpha = 0.75, zorder = 2)\n",
    "# plt.errorbar(x1002/60, y1002,\n",
    "#              yerr= .07, fmt='.k', ecolor ='black', alpha = 0.75, zorder = 2)\n",
    "plt.xlim(xmin = 0, xmax = 24)\n",
    "plt.ylim(ymax = 1.01)\n",
    "custom_lines = [Line2D([0], [0], color='purple', lw=4),\n",
    "               Line2D([0], [0], color='violet', lw=4),\n",
    "               Line2D([0], [0], color='indigo', lw=4)]\n",
    "plt.legend(custom_lines, ['WT', 'LUBAC_OE', 'LUBAC_KD'], prop={'size': 12}, loc = 'upper left')\n",
    "# plt.legend(['WT', 'LUBAC_KD', 'LUBAC_OE'], prop={'size': 12}, loc = 'upper left')\n",
    "plt.xticks(fontsize=15)\n",
    "plt.yticks(fontsize=15)\n",
    "plt.xlabel('Time (hours)', fontsize=18)\n",
    "plt.ylabel('Amount pMLKL Cluster 3', fontsize=17)\n",
    "# plt.grid(True)\n",
    "# plt.savefig('figs/Cluster0/pmlkl_100tnf_clus0_5720_WTfast_w48dwnratemod.pdf')\n",
    "plt.grid(False)\n",
    "# plt.savefig('figs/Cluster3/pmlkl_100tnf_clus3m_5720_LUBACoekd_wk15nogrid.pdf')\n",
    "plt.show() "
   ]
  },
  {
   "cell_type": "code",
   "execution_count": 42,
   "metadata": {},
   "outputs": [
    {
     "data": {
      "image/png": "[encoded data removed]",
      "text/plain": [
       "<Figure size 576x432 with 1 Axes>"
      ]
     },
     "metadata": {
      "needs_background": "light"
     },
     "output_type": "display_data"
    }
   ],
   "source": [
    "plt.figure(figsize = (8, 6))\n",
    "plt.plot(tspan/60, c1['MLKLa_obs'].iloc[:]/5544,lw=7, color ='purple', label = 'WT', linestyle = '--')\n",
    "plt.plot(tspan/60, c1oe['MLKLa_obs'].iloc[:]/5544, lw=7, color ='violet', label = 'LUBAC_OE')\n",
    "plt.plot(tspan/60, c1kd['MLKLa_obs'].iloc[:]/5544, lw=7, color ='indigo', label = 'LUBAC_KD')\n",
    "\n",
    "\n",
    "# plt.errorbar(x1001/60, y1001,\n",
    "#              yerr=[(0, 0.00885691708746097,0.0161886154261265,0.0373005242261882),\n",
    "#              (.07,.07,.07,.07)],\n",
    "#                    fmt='.k', ecolor ='black', alpha = 0.75, zorder = 2)\n",
    "# plt.errorbar(x1002/60, y1002,\n",
    "#              yerr= .07, fmt='.k', ecolor ='black', alpha = 0.75, zorder = 2)\n",
    "plt.xlim(xmin = 0, xmax = 24)\n",
    "plt.ylim(ymax = 1.01)\n",
    "custom_lines = [Line2D([0], [0], color='purple', lw=4),\n",
    "               Line2D([0], [0], color='violet', lw=4),\n",
    "               Line2D([0], [0], color='indigo', lw=4)]\n",
    "plt.legend(custom_lines, ['WT', 'LUBAC_OE', 'LUBAC_KD'], prop={'size': 12}, loc = 'upper left')\n",
    "plt.xticks(fontsize=15)\n",
    "plt.yticks(fontsize=15)\n",
    "plt.xlabel('Time (hours)', fontsize=18)\n",
    "plt.ylabel('Amount pMLKL Cluster 1', fontsize=17)\n",
    "# plt.grid(True)\n",
    "# plt.savefig('figs/Cluster0/pmlkl_100tnf_clus0_5720_WTfast_w48dwnratemod.pdf')\n",
    "plt.grid(False)\n",
    "plt.savefig('figs/Cluster1/pmlkl_100tnf_clus1_5720_LUBACoekd_wk15nogrid.pdf')\n",
    "plt.show() "
   ]
  },
  {
   "cell_type": "code",
   "execution_count": null,
   "metadata": {},
   "outputs": [],
   "source": [
    "plt.figure(figsize = (8, 6))\n",
    "plt.plot(tspan/60, c3m['MLKLa_obs'].iloc[:]/5544,lw=10, color ='royalblue', label = 'WT', zorder = 2, alpha = 5, linestyle = ':')\n",
    "plt.plot(tspan/60, c3d['MLKLa_obs'].iloc[:]/5544, lw=7, color ='navy', label = 'A20KO', zorder = 1, alpha = 5, linestyle = '--')\n",
    "plt.plot(tspan/60, c3dn['MLKLa_obs'].iloc[:]/5544, lw=4, color ='navy', zorder = 1, alpha = 5, linestyle = '--')\n",
    "plt.plot(tspan/60, c3dnn['MLKLa_obs'].iloc[:]/5544, lw=4, color ='navy', zorder = 1, alpha = 5,linestyle = '--')\n",
    "plt.plot(tspan/60, c3dnnn['MLKLa_obs'].iloc[:]/5544, lw=4, color ='navy',zorder = 1, alpha = 5, linestyle = '--')\n",
    "plt.plot(tspan/60, c3dnnnn['MLKLa_obs'].iloc[:]/5544, lw=4, color ='navy',zorder = 1, alpha = 5, linestyle = '--')\n",
    "# plt.errorbar(x1001/60, y1001,\n",
    "#              yerr=[(0, 0.00885691708746097,0.0161886154261265,0.0373005242261882),\n",
    "#              (.07,.07,.07,.07)],\n",
    "#                    fmt='.k', ecolor ='black', alpha = 0.75, zorder = 2)\n",
    "# plt.errorbar(x1002/60, y1002,\n",
    "#              yerr= .07, fmt='.k', ecolor ='black', alpha = 0.75, zorder = 2)\n",
    "plt.xlim(xmin = 0, xmax = 30)\n",
    "plt.ylim(ymax = 1.01)\n",
    "# custom_lines = [Line2D([0], [0], color='blue', lw=4),\n",
    "#                Line2D([0], [0], color='blue', lw=4),\n",
    "#                Line2D([0], [0], color='blue', lw=4),\n",
    "#                Line2D([0], [0], color='purple', lw=4),\n",
    "#                 Line2D([0], [0], color='blue', lw=4)]\n",
    "plt.legend(['WT', 'WT_delay'], prop={'size': 12}, loc = 'upper left')\n",
    "plt.xticks(fontsize=15)\n",
    "plt.yticks(fontsize=15)\n",
    "plt.xlabel('Time (hours)', fontsize=18)\n",
    "plt.ylabel('Amount pMLKL Cluster 3', fontsize=17)\n",
    "# plt.grid(True)\n",
    "# plt.savefig('figs/Cluster0/pmlkl_100tnf_clus0_5720_WTfast_w48dwnratemod.pdf')\n",
    "plt.grid(False)\n",
    "# plt.savefig('figs/Cluster3/pmlkl_100tnf_clus3_5720_WTdelay_w29upratemodnogrid.pdf')\n",
    "plt.show() "
   ]
  },
  {
   "cell_type": "code",
   "execution_count": null,
   "metadata": {},
   "outputs": [],
   "source": [
    "plt.figure(figsize = (8, 6))\n",
    "plt.plot(tspan/60, c3m['MLKLa_obs'].iloc[:]/5544,lw=10, color ='royalblue', label = 'WT', zorder = 2, alpha = 5, linestyle = ':')\n",
    "plt.plot(tspan/60, c3e['MLKLa_obs'].iloc[:]/5544, lw=7, color ='lightskyblue', label = 'A20KO', zorder = 1, alpha = 5, linestyle = '--')\n",
    "plt.plot(tspan/60, c3en['MLKLa_obs'].iloc[:]/5544, lw=4, color ='lightskyblue', zorder = 1, alpha = 5, linestyle = '--')\n",
    "plt.plot(tspan/60, c3enn['MLKLa_obs'].iloc[:]/5544, lw=4, color ='lightskyblue', zorder = 1, alpha = 5,linestyle = '--')\n",
    "plt.plot(tspan/60, c3ennn['MLKLa_obs'].iloc[:]/5544, lw=4, color ='lightskyblue',zorder = 1, alpha = 5, linestyle = '--')\n",
    "plt.plot(tspan/60, c3ennnn['MLKLa_obs'].iloc[:]/5544, lw=4, color ='lightskyblue',zorder = 1, alpha = 5, linestyle = '--')\n",
    "# plt.errorbar(x1001/60, y1001,\n",
    "#              yerr=[(0, 0.00885691708746097,0.0161886154261265,0.0373005242261882),\n",
    "#              (.07,.07,.07,.07)],\n",
    "#                    fmt='.k', ecolor ='black', alpha = 0.75, zorder = 2)\n",
    "# plt.errorbar(x1002/60, y1002,\n",
    "#              yerr= .07, fmt='.k', ecolor ='black', alpha = 0.75, zorder = 2)\n",
    "plt.xlim(xmin = 0, xmax = 30)\n",
    "plt.ylim(ymax = 1.01)\n",
    "# custom_lines = [Line2D([0], [0], color='blue', lw=4),\n",
    "#                Line2D([0], [0], color='blue', lw=4),\n",
    "#                Line2D([0], [0], color='blue', lw=4),\n",
    "#                Line2D([0], [0], color='purple', lw=4),\n",
    "#                 Line2D([0], [0], color='blue', lw=4)]\n",
    "plt.legend(['WT', 'WT_fast'], prop={'size': 12}, loc = 'upper left')\n",
    "plt.xticks(fontsize=15)\n",
    "plt.yticks(fontsize=15)\n",
    "plt.xlabel('Time (hours)', fontsize=18)\n",
    "plt.ylabel('Amount pMLKL Cluster 3', fontsize=17)\n",
    "# plt.grid(True)\n",
    "# plt.savefig('figs/Cluster0/pmlkl_100tnf_clus0_5720_WTfast_w48dwnratemod.pdf')\n",
    "plt.grid(False)\n",
    "# plt.savefig('figs/Cluster3/pmlkl_100tnf_clus3_5720_WTfast_w23dwnratemodnogrid.pdf')\n",
    "plt.show() "
   ]
  },
  {
   "cell_type": "code",
   "execution_count": null,
   "metadata": {},
   "outputs": [],
   "source": [
    "print(len(clus1_100))"
   ]
  },
  {
   "cell_type": "code",
   "execution_count": null,
   "metadata": {},
   "outputs": [],
   "source": [
    "print(len(clus2_100))"
   ]
  },
  {
   "cell_type": "code",
   "execution_count": null,
   "metadata": {},
   "outputs": [],
   "source": [
    "clus0_100e = np.save('necro_pars10k_cluster01_5720_modsplit.npy',clus0_100[sim_idx_to_keep01][:][:, :])\n",
    "clus0_100m = np.save('necro_pars10k_cluster02_5720_modsplit.npy',clus0_100[sim_idx_to_keep02][:][:, :])\n",
    "clus0_100d = np.save('necro_pars10k_cluster03_5720_modsplit.npy',clus0_100[sim_idx_to_keep03][:][:, :])"
   ]
  },
  {
   "cell_type": "code",
   "execution_count": null,
   "metadata": {},
   "outputs": [],
   "source": [
    "clus3_100e = np.save('necro_pars10k_cluster31_5720_modsplit.npy',clus3_100[sim_idx_to_keep31][:][:, :])\n",
    "clus3_100m = np.save('necro_pars10k_cluster32_5720_modsplit.npy',clus3_100[sim_idx_to_keep32][:][:, :])\n",
    "clus3_100d = np.save('necro_pars10k_cluster33_5720_modsplit.npy',clus3_100[sim_idx_to_keep33][:][:, :])"
   ]
  },
  {
   "cell_type": "code",
   "execution_count": null,
   "metadata": {},
   "outputs": [],
   "source": [
    "clus3_100e = np.load('necro_pars10k_cluster31_5720_modsplit.npy')\n",
    "clus3_100m = np.load('necro_pars10k_cluster32_5720_modsplit.npy')\n",
    "clus3_100d = np.load('necro_pars10k_cluster33_5720_modsplit.npy')"
   ]
  },
  {
   "cell_type": "code",
   "execution_count": null,
   "metadata": {},
   "outputs": [],
   "source": [
    "clus3mode = clus3_100e[:, 14:]\n",
    "clus3modm = clus3_100m[:, 14:]\n",
    "clus3modd = clus3_100d[:, 14:]"
   ]
  },
  {
   "cell_type": "code",
   "execution_count": null,
   "metadata": {},
   "outputs": [],
   "source": [
    "print(len(clus0_100d))"
   ]
  },
  {
   "cell_type": "code",
   "execution_count": null,
   "metadata": {},
   "outputs": [],
   "source": [
    "clus3_100en = np.load('necro_pars10k_cluster31_5720_modsplit.npy')\n",
    "clus3_100enn = np.load('necro_pars10k_cluster31_5720_modsplit.npy') \n",
    "clus3_100ennn = np.load('necro_pars10k_cluster31_5720_modsplit.npy')\n",
    "clus3_100ennnn = np.load('necro_pars10k_cluster31_5720_modsplit.npy')"
   ]
  },
  {
   "cell_type": "code",
   "execution_count": null,
   "metadata": {},
   "outputs": [],
   "source": [
    "clus3_100dn = np.load('necro_pars10k_cluster33_5720_modsplit.npy')\n",
    "clus3_100dnn = np.load('necro_pars10k_cluster33_5720_modsplit.npy') \n",
    "clus3_100dnnn = np.load('necro_pars10k_cluster33_5720_modsplit.npy')\n",
    "clus3_100dnnnn = np.load('necro_pars10k_cluster33_5720_modsplit.npy')"
   ]
  },
  {
   "cell_type": "code",
   "execution_count": null,
   "metadata": {},
   "outputs": [],
   "source": [
    "sim_idx_to_keep01ee"
   ]
  },
  {
   "cell_type": "code",
   "execution_count": null,
   "metadata": {},
   "outputs": [],
   "source": [
    "g = 29"
   ]
  },
  {
   "cell_type": "code",
   "execution_count": null,
   "metadata": {},
   "outputs": [],
   "source": [
    "p = 26"
   ]
  },
  {
   "cell_type": "code",
   "execution_count": null,
   "metadata": {},
   "outputs": [],
   "source": [
    "a = 46"
   ]
  },
  {
   "cell_type": "code",
   "execution_count": null,
   "metadata": {},
   "outputs": [],
   "source": [
    "clus3_100dn[:][:,p] = clus3_100dn[:][:,p]/10\n",
    "clus3_100dnn[:][:,p] = clus3_100dnn[:][:,p]/100\n",
    "clus3_100dnnn[:][:,p] = clus3_100dnnn[:][:,p]/1000\n",
    "clus3_100dnnnn[:][:,p] = clus3_100dnnnn[:][:,p]/10000"
   ]
  },
  {
   "cell_type": "code",
   "execution_count": null,
   "metadata": {},
   "outputs": [],
   "source": [
    "clus3_100dn[:][:,g] = clus3_100dn[:][:,g]*10\n",
    "clus3_100dnn[:][:,g] = clus3_100dnn[:][:,g]*100\n",
    "clus3_100dnnn[:][:,g] = clus3_100dnnn[:][:,g]*1000\n",
    "clus3_100dnnnn[:][:,g] = clus3_100dnnnn[:][:,g]*10000"
   ]
  },
  {
   "cell_type": "code",
   "execution_count": null,
   "metadata": {},
   "outputs": [],
   "source": [
    "clus3_100en[:][:,g] = clus3_100en[:][:,g]*10\n",
    "clus3_100enn[:][:,g] = clus3_100enn[:][:,g]*10\n",
    "clus3_100ennn[:][:,g] = clus3_100ennn[:][:,g]*100\n",
    "clus3_100ennnn[:][:,g] = clus3_100ennnn[:][:,g]*1000"
   ]
  },
  {
   "cell_type": "code",
   "execution_count": null,
   "metadata": {},
   "outputs": [],
   "source": [
    "clus3_100en[:][:,p] = clus3_100en[:][:,p]/10\n",
    "clus3_100enn[:][:,p] = clus3_100enn[:][:,p]/10\n",
    "clus3_100ennn[:][:,p] = clus3_100ennn[:][:,p]/100\n",
    "clus3_100ennnn[:][:,p] = clus3_100ennnn[:][:,p]/1000"
   ]
  },
  {
   "cell_type": "code",
   "execution_count": null,
   "metadata": {},
   "outputs": [],
   "source": [
    "clus3_100dn[:][:,a] = clus3_100dn[:][:,a]*10\n",
    "clus3_100dnn[:][:,a] = clus3_100dnn[:][:,a]*100\n",
    "clus3_100dnnn[:][:,a] = clus3_100dnnn[:][:,a]*1000\n",
    "clus3_100dnnnn[:][:,a] = clus3_100dnnnn[:][:,a]*10000"
   ]
  },
  {
   "cell_type": "code",
   "execution_count": null,
   "metadata": {},
   "outputs": [],
   "source": [
    "# k = [39, 119, 120, 121, 170]\n",
    "k = 30\n",
    "# t = np.array([0, 30, 90, 270, 480,600, 720, 840, 960])"
   ]
  },
  {
   "cell_type": "code",
   "execution_count": null,
   "metadata": {},
   "outputs": [],
   "source": [
    "tspan = np.linspace(0, 1800, 500)"
   ]
  },
  {
   "cell_type": "code",
   "execution_count": null,
   "metadata": {},
   "outputs": [],
   "source": [
    "print(c0m['MLKLa_obs'].iloc[267])"
   ]
  },
  {
   "cell_type": "code",
   "execution_count": null,
   "metadata": {},
   "outputs": [],
   "source": [
    "with open('necro_5720clus0m_paramsk39.txt', 'w') as f:\n",
    "   for p, v in zip(model100.parameters, wtclus0n.param_values[0]):\n",
    "       f.write('{},{:e}\\n'.format(p.name, v))"
   ]
  },
  {
   "cell_type": "code",
   "execution_count": null,
   "metadata": {},
   "outputs": [],
   "source": [
    "with open('necro_5720clus0e_paramsk39.txt', 'w') as f:\n",
    "   for p, v in zip(model100.parameters, wtclus01n.param_values[0]):\n",
    "       f.write('{},{:e}\\n'.format(p.name, v))"
   ]
  },
  {
   "cell_type": "code",
   "execution_count": null,
   "metadata": {},
   "outputs": [],
   "source": [
    "k = 27"
   ]
  },
  {
   "cell_type": "code",
   "execution_count": null,
   "metadata": {},
   "outputs": [],
   "source": [
    "solverwt3n = ScipyOdeSimulator(model100, tspan=tspan, verbose = True)\n",
    "wtclus3n = solverwt3n.run(param_values=clus3_100, num_processors = 10)\n",
    "c3 = wtclus3n.dataframe"
   ]
  },
  {
   "cell_type": "code",
   "execution_count": null,
   "metadata": {},
   "outputs": [],
   "source": [
    "solverwt3n = ScipyOdeSimulator(model100, tspan=tspan, verbose = True)\n",
    "wtclus3n = solverwt3n.run(param_values=clus3_100m, num_processors = 10)\n",
    "c3m = wtclus3n.dataframe"
   ]
  },
  {
   "cell_type": "code",
   "execution_count": null,
   "metadata": {},
   "outputs": [],
   "source": [
    "solverwt31n = ScipyOdeSimulator(model100, tspan=tspan, verbose = True)\n",
    "wtclus31n = solverwt31n.run(param_values=clus3_100e, num_processors = 10)\n",
    "c3e = wtclus31n.dataframe"
   ]
  },
  {
   "cell_type": "code",
   "execution_count": null,
   "metadata": {},
   "outputs": [],
   "source": [
    "solverwt32n = ScipyOdeSimulator(model100, tspan=tspan, verbose = True)\n",
    "wtclus32n = solverwt32n.run(param_values=clus3_100d, num_processors = 10)\n",
    "c3d = wtclus32n.dataframe"
   ]
  },
  {
   "cell_type": "code",
   "execution_count": null,
   "metadata": {},
   "outputs": [],
   "source": [
    "plt.figure(figsize = (8, 6))\n",
    "for n in range(len(clus3_100m)):\n",
    "    plt.plot(tspan/60, c3m.loc[n]['MLKLa_obs'].iloc[:]/5544,lw=10, color ='firebrick', label = 'WT', zorder = 2, alpha = 5, linestyle = ':')\n",
    "for n in range(len(clus3_100e)):\n",
    "    plt.plot(tspan/60, c3e.loc[n]['MLKLa_obs'].iloc[:]/5544, lw=7, color ='lightcoral', label = 'A20KO', zorder = 1, alpha = 5, linestyle = '--')\n",
    "for n in range(len(clus3_100d)):\n",
    "    plt.plot(tspan/60, c3d.loc[n]['MLKLa_obs'].iloc[:]/5544, lw=4, color ='darkred', zorder = 1, alpha = 5, linestyle = '--')\n",
    "\n",
    "plt.xlim(xmin = 0, xmax = 30)\n",
    "plt.ylim(ymax = 1.01)\n",
    "# plt.legend(['WT', 'WT_fast'], prop={'size': 12}, loc = 'upper left')\n",
    "plt.xticks(fontsize=14)\n",
    "plt.yticks(fontsize=14)\n",
    "plt.xlabel('Time (hours)', fontsize=18)\n",
    "plt.ylabel('Amount pMLKL Cluster 3', fontsize=17)\n",
    "# plt.grid(True)\n",
    "# plt.savefig('figs/Cluster0/pmlkl_100tnf_clus0_5720_WTfast_w48dwnratemod.pdf')\n",
    "plt.grid(False)\n",
    "plt.savefig('figs/Cluster3/pmlkl_100tnf_clus3_5720_allemdcolors_nogrid.pdf')\n",
    "plt.show() "
   ]
  },
  {
   "cell_type": "code",
   "execution_count": null,
   "metadata": {},
   "outputs": [],
   "source": []
  },
  {
   "cell_type": "code",
   "execution_count": null,
   "metadata": {},
   "outputs": [],
   "source": [
    "solverwt3n = ScipyOdeSimulator(model100, tspan=tspan, verbose = True)\n",
    "wtclus3n = solverwt3n.run(param_values=clus3_100e, num_processors = 10)\n",
    "c31 = wtclus3n.dataframe"
   ]
  },
  {
   "cell_type": "code",
   "execution_count": null,
   "metadata": {},
   "outputs": [],
   "source": [
    "solverwt31n = ScipyOdeSimulator(model100, tspan=tspan, verbose = True)\n",
    "wtclus31n = solverwt31n.run(param_values=clus3_100m, num_processors = 20)\n",
    "c32 = wtclus31n.dataframe"
   ]
  },
  {
   "cell_type": "code",
   "execution_count": null,
   "metadata": {
    "scrolled": true
   },
   "outputs": [],
   "source": [
    "solverwt32n = ScipyOdeSimulator(model100, tspan=tspan, verbose = True)\n",
    "wtclus32n = solverwt32n.run(param_values=clus3_100d, num_processors = 20)\n",
    "c33 = wtclus32n.dataframe"
   ]
  },
  {
   "cell_type": "code",
   "execution_count": null,
   "metadata": {},
   "outputs": [],
   "source": [
    "plt.figure(figsize = (11,7))\n",
    "for i in range(len(clus3_100e)):\n",
    "    plt.plot(tspan, c31.loc[i]['MLKLa_obs'].iloc[:], zorder = 1, alpha = 1,color = 'teal')\n",
    "# for i in range(len(clus3_100d)):\n",
    "#     plt.plot(tspan, c33.loc[i]['MLKLa_obs'].iloc[:], zorder = 1, alpha = 1,color = 'firebrick')\n",
    "# for i in range(len(clus3_100m)):\n",
    "#     plt.plot(tspan, c32.loc[i]['MLKLa_obs'].iloc[:], zorder = 1, alpha = 1,color = 'lightcoral')    \n",
    "plt.axvline(x=350, color = 'black')\n",
    "# plt.axvline(x=720, color = 'black', linestyle = '--')\n",
    "plt.axhline(y=2772, color = 'black')\n",
    "# plt.xlim(xmax = 900, xmin = 200)    \n",
    "plt.show()  "
   ]
  },
  {
   "cell_type": "code",
   "execution_count": null,
   "metadata": {},
   "outputs": [],
   "source": [
    "for i,p in enumerate(tspan):\n",
    "    print(i,p)"
   ]
  },
  {
   "cell_type": "code",
   "execution_count": null,
   "metadata": {},
   "outputs": [],
   "source": [
    "sim_idx_to_keep01newe = [idx for idx in range(len(clus3_100e)) if c31['MLKLa_obs'][idx].iloc[98] > 2772]\n",
    "sim_idx_to_keep01newe"
   ]
  },
  {
   "cell_type": "code",
   "execution_count": null,
   "metadata": {},
   "outputs": [],
   "source": []
  },
  {
   "cell_type": "code",
   "execution_count": null,
   "metadata": {},
   "outputs": [],
   "source": [
    "with open('necro_5720clus0d_paramsk39.txt', 'w') as f:\n",
    "   for p, v in zip(model100.parameters, wtclus02n.param_values[0]):\n",
    "       f.write('{},{:e}\\n'.format(p.name, v))"
   ]
  },
  {
   "cell_type": "code",
   "execution_count": null,
   "metadata": {},
   "outputs": [],
   "source": []
  },
  {
   "cell_type": "code",
   "execution_count": null,
   "metadata": {},
   "outputs": [],
   "source": [
    "sim_idx_to_keep01newe = [idx for idx in range(len(clus0_100e)) if c0e['MLKLa_obs'][idx].iloc[99] > 2772]\n",
    "sim_idx_to_keep01newe"
   ]
  },
  {
   "cell_type": "code",
   "execution_count": null,
   "metadata": {},
   "outputs": [],
   "source": [
    "k = 27\n",
    "k1 = 145\n",
    "#[22, 30, 144, 145]"
   ]
  },
  {
   "cell_type": "code",
   "execution_count": null,
   "metadata": {},
   "outputs": [],
   "source": [
    "#[39, 40, 41, 46]\n",
    "solverwt0 = ScipyOdeSimulator(model100, tspan=tspan, verbose = True)\n",
    "wtclus0 = solverwt0.run(param_values=clus3_100e[40], num_processors = 10)\n",
    "c0e = wtclus0.dataframe"
   ]
  },
  {
   "cell_type": "code",
   "execution_count": null,
   "metadata": {},
   "outputs": [],
   "source": [
    "solverwt0 = ScipyOdeSimulator(model100, tspan=tspan, verbose = True)\n",
    "wtclus0 = solverwt0.run(param_values=clus3_100m[k], num_processors = 10)\n",
    "c0m = wtclus0.dataframe"
   ]
  },
  {
   "cell_type": "code",
   "execution_count": null,
   "metadata": {},
   "outputs": [],
   "source": [
    "solverwt0 = ScipyOdeSimulator(model100, tspan=tspan, verbose = True)\n",
    "wtclus0 = solverwt0.run(param_values=clus3_100d[30], num_processors = 10)\n",
    "c0d = wtclus0.dataframe"
   ]
  },
  {
   "cell_type": "code",
   "execution_count": null,
   "metadata": {},
   "outputs": [],
   "source": [
    "plt.figure(figsize = (8, 6))\n",
    "plt.plot(tspan/60, c0e['MLKLa_obs'].iloc[:]/5544,lw=10, color ='lightskyblue', label = 'WT', zorder = 2, alpha = 5, linestyle = ':')\n",
    "plt.plot(tspan/60, c0m['MLKLa_obs'].iloc[:]/5544, lw=7, color ='royalblue', label = 'A20KO', zorder = 1, alpha = 5, linestyle = '--')\n",
    "plt.plot(tspan/60, c0d['MLKLa_obs'].iloc[:]/5544, lw=7, color ='navy', label = 'A20KO', zorder = 1, alpha = 5, linestyle = '--')\n",
    "# plt.plot(tspan/60, c0en['MLKLa_obs'].iloc[:]/5544, lw=4, color ='lightcoral', zorder = 1, alpha = 5, linestyle = '--')\n",
    "# plt.plot(tspan/60, c0enn['MLKLa_obs'].iloc[:]/5544, lw=4, color ='lightcoral', zorder = 1, alpha = 5,linestyle = '--')\n",
    "# plt.plot(tspan/60, c0ennn['MLKLa_obs'].iloc[:]/5544, lw=4, color ='lightcoral',zorder = 1, alpha = 5, linestyle = '--')\n",
    "# plt.plot(tspan/60, c0ennnn['MLKLa_obs'].iloc[:]/5544, lw=4, color ='lightcoral',zorder = 1, alpha = 5, linestyle = '--')\n",
    "# # plt.errorbar(x1001/60, y1001,\n",
    "# #              yerr=[(0, 0.00885691708746097,0.0161886154261265,0.0373005242261882),\n",
    "# #              (.07,.07,.07,.07)],\n",
    "# #                    fmt='.k', ecolor ='black', alpha = 0.75, zorder = 2)\n",
    "# # plt.errorbar(x1002/60, y1002,\n",
    "# #              yerr= .07, fmt='.k', ecolor ='black', alpha = 0.75, zorder = 2)\n",
    "# plt.xlim(xmin = 0, xmax = 30)\n",
    "# plt.ylim(ymax = 1.01)\n",
    "# # custom_lines = [Line2D([0], [0], color='blue', lw=4),\n",
    "# #                Line2D([0], [0], color='blue', lw=4),\n",
    "# #                Line2D([0], [0], color='blue', lw=4),\n",
    "# #                Line2D([0], [0], color='purple', lw=4),\n",
    "# #                 Line2D([0], [0], color='blue', lw=4)]\n",
    "# plt.legend(['WT', 'WT_fast'], prop={'size': 12}, loc = 'upper left')\n",
    "plt.xticks(fontsize=14)\n",
    "plt.yticks(fontsize=14)\n",
    "plt.xlabel('Time (hours)', fontsize=18)\n",
    "plt.ylabel('Amount pMLKL Cluster 0', fontsize=17)\n",
    "# # plt.grid(True)\n",
    "# # plt.savefig('figs/Cluster0/pmlkl_100tnf_clus0_5720_WTfast_w48dwnratemod.pdf')\n",
    "# plt.grid(False)\n",
    "# plt.savefig('figs/Cluster0/pmlkl_100tnf_clus0_5720_WTfast_w48dwnratemodnogrid.pdf')\n",
    "plt.show() "
   ]
  },
  {
   "cell_type": "code",
   "execution_count": null,
   "metadata": {},
   "outputs": [],
   "source": [
    "plt.figure(figsize = (8, 6))\n",
    "plt.plot(tspan/60, c0e['MLKLa_obs'].iloc[:]/5544,lw=10, color ='lightcoral', label = 'WT', zorder = 2, alpha = 5, linestyle = ':')\n",
    "plt.plot(tspan/60, c0m['MLKLa_obs'].iloc[:]/5544, lw=7, color ='red', label = 'A20KO', zorder = 1, alpha = 5, linestyle = '--')\n",
    "plt.plot(tspan/60, c0d['MLKLa_obs'].iloc[:]/5544, lw=7, color ='darkred', label = 'A20KO', zorder = 1, alpha = 5, linestyle = '--')\n",
    "# plt.plot(tspan/60, c0en['MLKLa_obs'].iloc[:]/5544, lw=4, color ='lightcoral', zorder = 1, alpha = 5, linestyle = '--')\n",
    "# plt.plot(tspan/60, c0enn['MLKLa_obs'].iloc[:]/5544, lw=4, color ='lightcoral', zorder = 1, alpha = 5,linestyle = '--')\n",
    "# plt.plot(tspan/60, c0ennn['MLKLa_obs'].iloc[:]/5544, lw=4, color ='lightcoral',zorder = 1, alpha = 5, linestyle = '--')\n",
    "# plt.plot(tspan/60, c0ennnn['MLKLa_obs'].iloc[:]/5544, lw=4, color ='lightcoral',zorder = 1, alpha = 5, linestyle = '--')\n",
    "# # plt.errorbar(x1001/60, y1001,\n",
    "# #              yerr=[(0, 0.00885691708746097,0.0161886154261265,0.0373005242261882),\n",
    "# #              (.07,.07,.07,.07)],\n",
    "# #                    fmt='.k', ecolor ='black', alpha = 0.75, zorder = 2)\n",
    "# # plt.errorbar(x1002/60, y1002,\n",
    "# #              yerr= .07, fmt='.k', ecolor ='black', alpha = 0.75, zorder = 2)\n",
    "# plt.xlim(xmin = 0, xmax = 30)\n",
    "# plt.ylim(ymax = 1.01)\n",
    "# # custom_lines = [Line2D([0], [0], color='blue', lw=4),\n",
    "# #                Line2D([0], [0], color='blue', lw=4),\n",
    "# #                Line2D([0], [0], color='blue', lw=4),\n",
    "# #                Line2D([0], [0], color='purple', lw=4),\n",
    "# #                 Line2D([0], [0], color='blue', lw=4)]\n",
    "# plt.legend(['WT', 'WT_fast'], prop={'size': 12}, loc = 'upper left')\n",
    "plt.xticks(fontsize=14)\n",
    "plt.yticks(fontsize=14)\n",
    "plt.xlabel('Time (hours)', fontsize=18)\n",
    "plt.ylabel('Amount pMLKL Cluster 0', fontsize=17)\n",
    "# # plt.grid(True)\n",
    "# # plt.savefig('figs/Cluster0/pmlkl_100tnf_clus0_5720_WTfast_w48dwnratemod.pdf')\n",
    "# plt.grid(False)\n",
    "# plt.savefig('figs/Cluster0/pmlkl_100tnf_clus0_5720_WTfast_w48dwnratemodnogrid.pdf')\n",
    "plt.show() "
   ]
  },
  {
   "cell_type": "code",
   "execution_count": null,
   "metadata": {},
   "outputs": [],
   "source": [
    "ke = 40"
   ]
  },
  {
   "cell_type": "code",
   "execution_count": null,
   "metadata": {},
   "outputs": [],
   "source": [
    "plt.figure(figsize = (11,7))\n",
    "for n in range(len(clus0_100m)):\n",
    "#     plt.plot(tspan, c0e.loc[n]['MLKLa_obs'].iloc[:], zorder = 1, alpha = 1,color = 'firebrick')\n",
    "    plt.plot(tspan, c0m.loc[n]['MLKLa_obs'].iloc[:],zorder = 2, alpha = 0.7, color = 'steelblue')\n",
    "for i in clus0_100ennn[sim_idx_to_keep01newe]:\n",
    "    plt.plot(tspan, c0e.loc[i]['MLKLa_obs'].iloc[:], zorder = 1, alpha = 1,color = 'firebrick')\n",
    "#     plt.plot(tspan, c0en.loc[i]['MLKLa_obs'].iloc[:],zorder = 2, alpha = 0.7, color = 'mediumseagreen')\n",
    "#     plt.plot(tspan, c0enn.loc[i]['MLKLa_obs'].iloc[:],zorder = 2, alpha = 0.7, color = 'orchid')\n",
    "    plt.plot(tspan, c0ennn.loc[i]['MLKLa_obs'].iloc[:],zorder = 2, alpha = 0.7, color = 'cyan')\n",
    "# plt.axvline(x=400, color = 'black')\n",
    "plt.axvline(x=281, color = 'black', linestyle = '--')\n",
    "plt.axhline(y=2772, color = 'black')\n",
    "plt.xlim(xmax = 900, xmin = 200)    \n",
    "plt.show()  "
   ]
  },
  {
   "cell_type": "code",
   "execution_count": null,
   "metadata": {},
   "outputs": [],
   "source": [
    "plt.figure(figsize = (8, 6))\n",
    "for n in range(len(clus0_100m)):\n",
    "#     plt.plot(tspan, c0e.loc[n]['MLKLa_obs'].iloc[:], zorder = 1, alpha = 1,color = 'firebrick')\n",
    "    plt.plot(tspan/60, c0m.loc[n]['MLKLa_obs'].iloc[:]/5544,zorder = 1, alpha = 0.7, color = 'steelblue')\n",
    "# plt.plot(tspan/60, c0m['MLKLa_obs'].iloc[:]/5544,lw=10, color ='firebrick', label = 'WT', zorder = 2, alpha = 5, linestyle = ':')\n",
    "plt.plot(tspan/60, c0e['MLKLa_obs'].iloc[:]/5544, lw=7, color ='darkred', label = 'A20KO', zorder = 2, alpha = 5, linestyle = '--')\n",
    "plt.plot(tspan/60, c0en['MLKLa_obs'].iloc[:]/5544, lw=4, color ='darkred', zorder = 2, alpha = 5, linestyle = '--')\n",
    "plt.plot(tspan/60, c0enn['MLKLa_obs'].iloc[:]/5544, lw=4, color ='darkred', zorder = 2, alpha = 5,linestyle = '--')\n",
    "plt.plot(tspan/60, c0ennn['MLKLa_obs'].iloc[:]/5544, lw=4, color ='darkred',zorder = 2, alpha = 5, linestyle = '--')\n",
    "# plt.plot(tspan/60, df6['MLKLa_obs'].iloc[:]/5544, lw=4, color ='steelblue',zorder = 1, alpha = 5, linestyle = '--')\n",
    "# plt.errorbar(x1001/60, y1001, \n",
    "#              yerr=[(0, 0.00885691708746097,0.0161886154261265,0.0373005242261882),\n",
    "#              (.07,.07,.07,.07)],\n",
    "#                    fmt='.k', ecolor ='black', alpha = 0.75, zorder = 2)\n",
    "# plt.errorbar(x1002/60, y1002,\n",
    "#              yerr= .07, fmt='.k', ecolor ='black', alpha = 0.75, zorder = 2)\n",
    "plt.xlim(xmin = 0, xmax = 30)\n",
    "plt.ylim(ymax = 1.01)\n",
    "# custom_lines = [Line2D([0], [0], color='blue', lw=4),\n",
    "#                Line2D([0], [0], color='blue', lw=4),\n",
    "#                Line2D([0], [0], color='blue', lw=4),\n",
    "#                Line2D([0], [0], color='purple', lw=4),\n",
    "#                 Line2D([0], [0], color='blue', lw=4)]\n",
    "plt.legend(['WT', 'WT_fast'], prop={'size': 12}, loc = 'upper left')\n",
    "plt.xticks(fontsize=14)\n",
    "plt.yticks(fontsize=14)\n",
    "plt.xlabel('Time (hours)', fontsize=18)\n",
    "plt.ylabel('Amount pMLKL Cluster 0', fontsize=17)\n",
    "plt.grid(False)\n",
    "# plt.savefig('figs/Cluster0/pmlkl_100tnf_clus0_5720_WTfast_w48dwnratemodnogrid.pdf')\n",
    "plt.show() "
   ]
  },
  {
   "cell_type": "code",
   "execution_count": null,
   "metadata": {},
   "outputs": [],
   "source": []
  },
  {
   "cell_type": "code",
   "execution_count": null,
   "metadata": {},
   "outputs": [],
   "source": [
    "plt.figure(figsize = (11,7))\n",
    "for n in range(len(clus0_100e)):\n",
    "#     plt.plot(tspan, c0e.loc[n]['MLKLa_obs'].iloc[:], zorder = 1, alpha = 1,color = 'firebrick')\n",
    "    plt.plot(tspan, c0m.loc[n]['MLKLa_obs'].iloc[:],zorder = 2, alpha = 0.7, color = 'steelblue')\n",
    "#     plt.plot(tspan, c0en.loc[n]['MLKLa_obs'].iloc[:],zorder = 2, alpha = 0.7, color = 'mediumseagreen')\n",
    "#     plt.plot(tspan, c0enn.loc[n]['MLKLa_obs'].iloc[:],zorder = 2, alpha = 0.7, color = 'orchid')\n",
    "    plt.plot(tspan, c0ennn.loc[n]['MLKLa_obs'].iloc[:],zorder = 2, alpha = 0.7, color = 'cyan')\n",
    "# plt.axvline(x=400, color = 'black')\n",
    "plt.axvline(x=281, color = 'black', linestyle = '--')\n",
    "plt.axhline(y=2772, color = 'black')\n",
    "plt.xlim(xmax = 900, xmin = 200)    \n",
    "plt.show()  "
   ]
  },
  {
   "cell_type": "code",
   "execution_count": null,
   "metadata": {},
   "outputs": [],
   "source": []
  },
  {
   "cell_type": "code",
   "execution_count": null,
   "metadata": {},
   "outputs": [],
   "source": []
  },
  {
   "cell_type": "code",
   "execution_count": null,
   "metadata": {},
   "outputs": [],
   "source": []
  },
  {
   "cell_type": "code",
   "execution_count": null,
   "metadata": {},
   "outputs": [],
   "source": [
    "clus0_100dn = np.load('necro_pars10k_cluster03_5720_modsplit.npy')\n",
    "clus0_100dnn = np.load('necro_pars10k_cluster03_5720_modsplit.npy') \n",
    "clus0_100dnnn = np.load('necro_pars10k_cluster03_5720_modsplit.npy')\n",
    "clus0_100dnnnn = np.load('necro_pars10k_cluster03_5720_modsplit.npy')"
   ]
  },
  {
   "cell_type": "code",
   "execution_count": null,
   "metadata": {},
   "outputs": [],
   "source": [
    "g = 34"
   ]
  },
  {
   "cell_type": "code",
   "execution_count": null,
   "metadata": {},
   "outputs": [],
   "source": [
    "p = 48"
   ]
  },
  {
   "cell_type": "code",
   "execution_count": null,
   "metadata": {},
   "outputs": [],
   "source": [
    "a = 46"
   ]
  },
  {
   "cell_type": "code",
   "execution_count": null,
   "metadata": {},
   "outputs": [],
   "source": [
    "clus0_100dn[:][:,p] = clus0_100dn[:][:,p]/10\n",
    "clus0_100dnn[:][:,p] = clus0_100dnn[:][:,p]/100\n",
    "clus0_100dnnn[:][:,p] = clus0_100dnnn[:][:,p]/1000\n",
    "clus0_100dnnnn[:][:,p] = clus0_100dnnnn[:][:,p]/10000"
   ]
  },
  {
   "cell_type": "code",
   "execution_count": null,
   "metadata": {},
   "outputs": [],
   "source": [
    "clus0_100dn[:][:,g] = clus0_100dn[:][:,g]*10\n",
    "clus0_100dnn[:][:,g] = clus0_100dnn[:][:,g]*100\n",
    "clus0_100dnnn[:][:,g] = clus0_100dnnn[:][:,g]*1000\n",
    "clus0_100dnnnn[:][:,g] = clus0_100dnnnn[:][:,g]*10000"
   ]
  },
  {
   "cell_type": "code",
   "execution_count": null,
   "metadata": {},
   "outputs": [],
   "source": [
    "clus0_100dn[:][:,a] = clus0_100dn[:][:,a]*10\n",
    "clus0_100dnn[:][:,a] = clus0_100dnn[:][:,a]*100\n",
    "clus0_100dnnn[:][:,a] = clus0_100dnnn[:][:,a]*1000\n",
    "clus0_100dnnnn[:][:,a] = clus0_100dnnnn[:][:,a]*10000"
   ]
  },
  {
   "cell_type": "code",
   "execution_count": null,
   "metadata": {},
   "outputs": [],
   "source": [
    "sim_idx_to_keep0d = [idx for idx in range(len(clus0_100d)) if c0d['MLKLa_obs'][idx].iloc[305] < 2772]"
   ]
  },
  {
   "cell_type": "code",
   "execution_count": null,
   "metadata": {},
   "outputs": [],
   "source": [
    "print(sim_idx_to_keep0d)"
   ]
  },
  {
   "cell_type": "code",
   "execution_count": null,
   "metadata": {},
   "outputs": [],
   "source": [
    "sim_idx_to_keep01d = [idx for idx in range(len(clus0_100d)) if c0df100wt['MLKLa_obs'][idx].iloc[111] > 2772]"
   ]
  },
  {
   "cell_type": "code",
   "execution_count": null,
   "metadata": {},
   "outputs": [],
   "source": [
    "# k1 = [82, 116, 129, 231, 233, 234, 242]\n",
    "k1 = 116"
   ]
  },
  {
   "cell_type": "code",
   "execution_count": null,
   "metadata": {},
   "outputs": [],
   "source": [
    "m = model100.components"
   ]
  },
  {
   "cell_type": "code",
   "execution_count": null,
   "metadata": {},
   "outputs": [],
   "source": [
    "solverwt0 = ScipyOdeSimulator(model100, tspan=tspan, verbose = True)\n",
    "wtclus0 = solverwt0.run(initials = {m.A20(brip = None):900000}, param_values=clus0_100d[k1], num_processors = 10)\n",
    "c0dm = wtclus0.dataframe"
   ]
  },
  {
   "cell_type": "code",
   "execution_count": null,
   "metadata": {},
   "outputs": [],
   "source": [
    "solverwt0 = ScipyOdeSimulator(model100, tspan=tspan, verbose = True)\n",
    "wtclus0 = solverwt0.run(param_values=clus0_100d[k1], num_processors = 10)\n",
    "c0d = wtclus0.dataframe"
   ]
  },
  {
   "cell_type": "code",
   "execution_count": null,
   "metadata": {},
   "outputs": [],
   "source": [
    "plt.figure(figsize = (8, 6))\n",
    "plt.plot(tspan, c0m['MLKLa_obs'].iloc[:]/5544,lw=10, color ='firebrick', label = 'WT', zorder = 2, alpha = 0.9, linestyle = ':')\n",
    "plt.plot(tspan, c0d['MLKLa_obs'].iloc[:]/5544, lw=7, color ='darkred', label = 'A20KO', zorder = 1, alpha = 5, linestyle = '--')\n",
    "plt.plot(tspan, c0dm['MLKLa_obs'].iloc[:]/5544, lw=7, color ='blue', label = 'A20KO', zorder = 1, alpha = 5, linestyle = '--')\n",
    "plt.legend(['WT', 'WT_fast'], prop={'size': 12}, loc = 'upper left')\n",
    "plt.xticks(fontsize=14)\n",
    "plt.yticks(fontsize=14)\n",
    "plt.xlabel('Time (hours)', fontsize=18)\n",
    "plt.ylabel('Amount pMLKL Cluster 0', fontsize=17)\n",
    "plt.grid(True)\n",
    "# plt.savefig('figs/Cluster0/pmlkl_100tnf_clus0_5720_WTdelay_w33upratemod.pdf')\n",
    "# plt.grid(False)\n",
    "# plt.savefig('figs/Cluster0/pmlkl_100tnf_clus0_5720_WTdelay_w33upratemodnogrid.pdf')\n",
    "plt.show()  "
   ]
  },
  {
   "cell_type": "code",
   "execution_count": null,
   "metadata": {},
   "outputs": [],
   "source": [
    "solverwt0 = ScipyOdeSimulator(model100, tspan=tspan, verbose = True)\n",
    "wtclus0 = solverwt0.run(param_values=clus0_100dn[k1], num_processors = 10)\n",
    "c0dn = wtclus0.dataframe"
   ]
  },
  {
   "cell_type": "code",
   "execution_count": null,
   "metadata": {},
   "outputs": [],
   "source": [
    "solverwt0 = ScipyOdeSimulator(model100, tspan=tspan, verbose = True)\n",
    "wtclus0 = solverwt0.run(param_values=clus0_100dnn[k1], num_processors = 10)\n",
    "c0dnn = wtclus0.dataframe"
   ]
  },
  {
   "cell_type": "code",
   "execution_count": null,
   "metadata": {},
   "outputs": [],
   "source": [
    "solverwt0 = ScipyOdeSimulator(model100, tspan=tspan, verbose = True)\n",
    "wtclus0 = solverwt0.run(param_values=clus0_100dnnn[k1], num_processors = 10)\n",
    "c0dnnn = wtclus0.dataframe"
   ]
  },
  {
   "cell_type": "code",
   "execution_count": null,
   "metadata": {},
   "outputs": [],
   "source": [
    "solverwt0 = ScipyOdeSimulator(model100, tspan=tspan, verbose = True)\n",
    "wtclus0 = solverwt0.run(param_values=clus0_100dnnnn[k1], num_processors = 10)\n",
    "c0dnnnn = wtclus0.dataframe"
   ]
  },
  {
   "cell_type": "code",
   "execution_count": null,
   "metadata": {},
   "outputs": [],
   "source": [
    "plt.figure(figsize = (8, 6))\n",
    "plt.plot(tspan, c0m['MLKLa_obs'].iloc[:]/5544,lw=10, color ='firebrick', label = 'WT', zorder = 2, alpha = 0.9, linestyle = ':')\n",
    "plt.plot(tspan, c0d['MLKLa_obs'].iloc[:]/5544, lw=7, color ='darkred', label = 'A20KO', zorder = 1, alpha = 5, linestyle = '--')\n",
    "plt.plot(tspan, c0dn['MLKLa_obs'].iloc[:]/5544, lw=4, color ='darkred', zorder = 1, alpha = 1, linestyle = '--')\n",
    "plt.plot(tspan, c0dnn['MLKLa_obs'].iloc[:]/5544, lw=4, color ='darkred', zorder = 1, alpha = 1,linestyle = '--')\n",
    "plt.plot(tspan, c0dnnn['MLKLa_obs'].iloc[:]/5544, lw=4, color ='darkred',zorder = 1, alpha = 1, linestyle = '--')\n",
    "plt.plot(tspan, c0dnnnn['MLKLa_obs'].iloc[:]/5544, lw=4, color ='darkred',zorder = 1, alpha = 1, linestyle = '--')\n",
    "# plt.errorbar(x1001/60, y1001,\n",
    "#              yerr=[(0, 0.00885691708746097,0.0161886154261265,0.0373005242261882),\n",
    "#              (.07,.07,.07,.07)],\n",
    "#                    fmt='.k', ecolor ='black', alpha = 0.75, zorder = 2)\n",
    "# plt.errorbar(x1002/60, y1002,\n",
    "#              yerr= .07, fmt='.k', ecolor ='black', alpha = 0.75, zorder = 2)\n",
    "# plt.xlim(xmin = 0, xmax = 30)\n",
    "# plt.ylim(ymax = 1.01)\n",
    "# custom_lines = [Line2D([0], [0], color='blue', lw=4),\n",
    "#                Line2D([0], [0], color='blue', lw=4),\n",
    "#                Line2D([0], [0], color='blue', lw=4),\n",
    "#                Line2D([0], [0], color='purple', lw=4),\n",
    "#                 Line2D([0], [0], color='blue', lw=4)]\n",
    "plt.legend(['WT', 'WT_fast'], prop={'size': 12}, loc = 'upper left')\n",
    "plt.xticks(fontsize=14)\n",
    "plt.yticks(fontsize=14)\n",
    "plt.xlabel('Time (hours)', fontsize=18)\n",
    "plt.ylabel('Amount pMLKL Cluster 0', fontsize=17)\n",
    "plt.grid(True)\n",
    "# plt.savefig('figs/Cluster0/pmlkl_100tnf_clus0_5720_WTdelay_w33upratemod.pdf')\n",
    "# plt.grid(False)\n",
    "# plt.savefig('figs/Cluster0/pmlkl_100tnf_clus0_5720_WTdelay_w33upratemodnogrid.pdf')\n",
    "plt.show()  "
   ]
  },
  {
   "cell_type": "code",
   "execution_count": null,
   "metadata": {},
   "outputs": [],
   "source": [
    "plt.figure(figsize = (11,7))\n",
    "for n in range(len(clus0_100d)):\n",
    "#     plt.plot(tspan, c0d.loc[n]['MLKLa_obs'].iloc[:], zorder = 1, alpha = 1,color = 'firebrick')\n",
    "    plt.plot(tspan, c0m.loc[n]['MLKLa_obs'].iloc[:],zorder = 1, alpha = 0.7, color = 'steelblue')\n",
    "#     plt.plot(tspan, c0dn.loc[n]['MLKLa_obs'].iloc[:],zorder = 2, alpha = 0.7, color = 'mediumseagreen')\n",
    "#     plt.plot(tspan, c0dnn.loc[n]['MLKLa_obs'].iloc[:],zorder = 2, alpha = 0.7, color = 'indianred')\n",
    "    plt.plot(tspan, c0dnnn.loc[n]['MLKLa_obs'].iloc[:],zorder = 2, alpha = 0.7, color = 'cyan')\n",
    "\n",
    "\n",
    "# plt.plot(tspan, c0en['MLKLa_obs'].iloc[:],zorder = 2, alpha = 0.7, color = 'mediumseagreen')\n",
    "# plt.plot(tspan, c0enn['MLKLa_obs'].iloc[:],zorder = 2, alpha = 0.7, color = 'indianred')\n",
    "# plt.plot(tspan, c0ennn['MLKLa_obs'].iloc[:],zorder = 2, alpha = 0.7, color = 'cyan')\n",
    "# plt.axvline(x=400, color = 'black')\n",
    "# plt.axvline(x=281, color = 'black', linestyle = '--')\n",
    "plt.axhline(y=2772, color = 'black')\n",
    "plt.xlim(xmin =  200)    \n",
    "plt.show()  "
   ]
  },
  {
   "cell_type": "code",
   "execution_count": null,
   "metadata": {},
   "outputs": [],
   "source": [
    "sim_idx_to_keep01dnnn = [idx for idx in range(len(clus0_100d)) if c0d['MLKLa_obs'][idx].iloc[278] < 2772]\n",
    "sim_idx_to_keep01dnnn"
   ]
  },
  {
   "cell_type": "code",
   "execution_count": null,
   "metadata": {},
   "outputs": [],
   "source": [
    "plt.figure(figsize = (11,7))\n",
    "for n in sim_idx_to_keep:\n",
    "    plt.plot(tspan, dfcyldn.loc[n]['MLKLa_obs'].iloc[:], zorder = 1, alpha = 1,color = 'mediumseagreen')\n",
    "    plt.plot(tspan, dfcyldnn.loc[n]['MLKLa_obs'].iloc[:],zorder = 2, alpha = 0.7, color = 'indianred')\n",
    "plt.xlim(xmax = 1800)    \n",
    "plt.show()  "
   ]
  },
  {
   "cell_type": "code",
   "execution_count": null,
   "metadata": {},
   "outputs": [],
   "source": [
    "solverwt0 = ScipyOdeSimulator(model100, tspan=tspan, verbose = True)\n",
    "wtclus0 = solverwt0.run(param_values=clus0_100[sim_idx_to_keep01], num_processors = 10)\n",
    "c0df100wt1 = wtclus0.dataframe"
   ]
  },
  {
   "cell_type": "code",
   "execution_count": null,
   "metadata": {},
   "outputs": [],
   "source": [
    "plt.figure(figsize = (11,7))\n",
    "for n in sim_idx_to_keep:\n",
    "    plt.plot(tspan, dfcyldn.loc[n]['MLKLa_obs'].iloc[:], zorder = 1, alpha = 1,color = 'mediumseagreen')\n",
    "    plt.plot(tspan, dfcyldnn.loc[n]['MLKLa_obs'].iloc[:],zorder = 2, alpha = 0.7, color = 'indianred')\n",
    "plt.xlim(xmax = 1800)    \n",
    "plt.show()  "
   ]
  },
  {
   "cell_type": "code",
   "execution_count": null,
   "metadata": {},
   "outputs": [],
   "source": []
  },
  {
   "cell_type": "code",
   "execution_count": null,
   "metadata": {},
   "outputs": [],
   "source": []
  },
  {
   "cell_type": "code",
   "execution_count": null,
   "metadata": {},
   "outputs": [],
   "source": [
    "par_idxs = list(range(14, 26,1))"
   ]
  },
  {
   "cell_type": "code",
   "execution_count": null,
   "metadata": {},
   "outputs": [],
   "source": []
  },
  {
   "cell_type": "code",
   "execution_count": null,
   "metadata": {},
   "outputs": [],
   "source": [
    "for sp_ic in par_idxs:\n",
    "    data_violin = [0] * 12\n",
    "    clus_labels = [0] * 12\n",
    "    count = 0\n",
    "    for idx, clus in self.clusters.items():\n",
    "        cluster_pars = self.all_parameters[clus]\n",
    "        sp_ic_values = cluster_pars[:, sp_ic]\n",
    "        data_violin[count] = sorted(np.log10(sp_ic_values))\n",
    "        clus_labels[count] = idx\n",
    "        count += 1\n",
    "\n",
    "    fig, ax1 = plt.subplots(nrows=1, ncols=1)\n",
    "    ax1.set_title('Parameter {0}'.format(self.model.parameters[sp_ic].name))\n",
    "    ax1.set_ylabel('Parameter values (log10)')\n",
    "    parts = ax1.violinplot(data_violin, showmeans=False, showmedians=False, showextrema=False)\n",
    "\n",
    "    for pc in parts['bodies']:\n",
    "        pc.set_facecolor('#D43F3A')\n",
    "        pc.set_edgecolor('black')\n",
    "        pc.set_alpha(1)\n",
    "\n",
    "    percentile_data = np.array([np.percentile(data, [25, 50, 75]) for data in data_violin])\n",
    "    quartile1 = percentile_data[:, 0]\n",
    "    medians = percentile_data[:, 1]\n",
    "    quartile3 = percentile_data[:, 2]\n",
    "\n",
    "    whiskers = np.array([_adjacent_values(sorted_array, q1, q3)\n",
    "                         for sorted_array, q1, q3 in zip(data_violin, quartile1, quartile3)])\n",
    "    whiskersMin, whiskersMax = whiskers[:, 0], whiskers[:, 1]\n",
    "\n",
    "    inds = np.arange(1, len(medians) + 1)\n",
    "    ax1.scatter(inds, medians, marker='o', color='white', s=30, zorder=3)\n",
    "    ax1.vlines(inds, quartile1, quartile3, color='k', linestyle='-', lw=5)\n",
    "    ax1.vlines(inds, whiskersMin, whiskersMax, color='k', linestyle='-', lw=1)"
   ]
  },
  {
   "cell_type": "code",
   "execution_count": null,
   "metadata": {},
   "outputs": [],
   "source": [
    "newlist = [np.log10(clus0mod[sim_idx_to_keep01][:][:,0]),\n",
    "          np.log10(clus0mod[sim_idx_to_keep02][:][:,0]),\n",
    "          np.log10(clus0mod[sim_idx_to_keep03][:][:,0])]"
   ]
  },
  {
   "cell_type": "code",
   "execution_count": null,
   "metadata": {},
   "outputs": [],
   "source": [
    "mods = [np.log10(clus0mod[sim_idx_to_keep01][:][:, counter]), \n",
    "        np.log10(clus0mod[sim_idx_to_keep02][:][:, counter]),\n",
    "        np.log10(clus0mod[sim_idx_to_keep03][:][:, counter])]"
   ]
  },
  {
   "cell_type": "code",
   "execution_count": null,
   "metadata": {},
   "outputs": [],
   "source": [
    "from scipy.stats import norm,uniform\n",
    "from matplotlib.lines import Line2D\n",
    "idx = list(range(14, 26,1)) #index for parameter values after initial conditions 14-50\n",
    "counter = 0\n",
    "\n",
    "scaling = [2] * 12\n",
    "# idx = list(range(14, 51,1))\n",
    "row = 4\n",
    "col = 3\n",
    "# counter = 0\n",
    "n = 50000\n",
    "\n",
    "ndims = len(idx)\n",
    "# my_pal1 = {\"Cluster0\": \"indianred\",\"Cluster1\":\"indianred\",\"indianred\":\"darkred\",\"Cluster2\":\"darkred\"}\n",
    "fig = plt.figure(figsize=(20, 15))\n",
    "for i in range(1,13):\n",
    "    ax = fig.add_subplot(4, 3, i)\n",
    "    sns.distplot(np.log10(clus3mode[:][:][:, counter]), hist=True, rug=False, label = 'fast')\n",
    "    sns.distplot(np.log10(clus3modm[:][:][:, counter]), hist=True, rug=False, label = 'middle')\n",
    "    sns.distplot(np.log10(clus3modd[:][:][:, counter]), hist=True, rug=False, label = 'delay'\n",
    "                 , color = 'indianred')\n",
    "#     sns.distplot(data = [np.log10(clus0mod[:][:, counter]),\n",
    "#                           np.log10(clus1mod[:][:, counter]),\n",
    "#                           np.log10(clus2mod[:][:, counter]),\n",
    "#                           np.log10(clus3mod[:][:, counter])], color = 'indianred')\n",
    "#     sns.distplot(np.log10(clus0mod[:][:, counter]))\n",
    "#     sns.distplot(np.log10(clus1mod[:][:, counter]), color = 'indianred')\n",
    "#     sns.distplot(np.log10(clus2mod[:][:, counter]), color = 'mediumseagreen')\n",
    "#     sns.distplot(np.log10(clus3mod[:][:, counter]), color = 'gold')\n",
    "#     sns.distplot(np.log10(clus0mod[sim_idx_to_keep01][:][:, counter]), color = 'indianred', hist=False, rug=True)\n",
    "#     sns.distplot(np.log10(clus0mod[sim_idx_to_keep01][:][:, counter]), hist=False, rug=True)\n",
    "    \n",
    "#     sns.distplot(np.log10(clus0mod[sim_idx_to_keep01][:][:, counter]), color = 'mediumseagreen')\n",
    "#     sns.violinplot(data = [np.log10(clus0mod[sim_idx_to_keep01][:][:, counter]),\n",
    "#                           np.log10(clus0mod[sim_idx_to_keep02][:][:, counter]),\n",
    "#                           np.log10(clus0mod[sim_idx_to_keep03][:][:, counter])],\n",
    "#                           palette=['yellow','yellow','yellow'])\n",
    "#     sns.swarmplot(data = [np.log10(clus0mod[sim_idx_to_keep01][:][:, counter]),\n",
    "#                           np.log10(clus0mod[sim_idx_to_keep02][:][:, counter]),\n",
    "#                           np.log10(clus0mod[sim_idx_to_keep03][:][:, counter])],\n",
    "#                           palette=['lightcoral','firebrick','darkred'])\n",
    "#     ax.violinplot(np.log10(clus0mod[sim_idx_to_keep02][:][:, counter]))\n",
    "#     ax.violinplot(np.log10(clus0mod[sim_idx_to_keep03][:][:, counter]))\n",
    "#     xticklabels = ['Cluster0', 'Cluster1', 'Cluster2','Cluster3']\n",
    "#     ax.set_xticks([0,1,2,3])\n",
    "#     ax.set_yticks([-8, -6, -4, -2, 0, 2, 4, 6 , 8])\n",
    "#     ax.set_xticklabels(xticklabels)\n",
    "# add horizontal grid lines\n",
    "# plt.ylim(ymax = 25000)\n",
    "    plt.setp(ax.get_xticklabels(), Fontsize=16) \n",
    "    # plt.plot(samples[:, counter])\n",
    "#     sns.distplot(norm.rvs(size=n, loc=ppriors[counter], scale=scaling[counter]), color = 'red')\n",
    "#     sns.violin(clus0_100[:, 14:][:, counter], color = 'cyan')\n",
    "#     sns.distplot(clus1_100[:, 14:][:, counter], color = 'red')\n",
    "#     sns.distplot(clus0mod[sim_idx_to_keep01][:][:, counter], color = 'indianred')\n",
    "#     sns.distplot(clus0mod[sim_idx_to_keep02][:][:, counter], color = 'mediumseagreen')\n",
    "#     sns.distplot(clus0mod[sim_idx_to_keep03][:][:, counter], color = 'steelblue')\n",
    "    plt.title(model100.parameters[idx[counter]].name, fontdict={'fontsize': 14})\n",
    "    counter += 1\n",
    "#     plt.ylim(ymin = -10, ymax=8)\n",
    "    plt.xlim(xmin = -10,xmax=6)\n",
    "    plt.xticks(fontsize=14)\n",
    "    plt.yticks(fontsize=14)   \n",
    "    plt.legend(loc = 'best', prop={'size': 13})\n",
    "plt.subplots_adjust(wspace=0.3)\n",
    "plt.subplots_adjust(hspace=0.6)\n",
    "# plt.savefig('pydream_priorpost_traceplot_forpapermay2020_all_chains5.pdf', format='pdf')\n",
    "plt.show()"
   ]
  },
  {
   "cell_type": "code",
   "execution_count": null,
   "metadata": {},
   "outputs": [],
   "source": [
    "from scipy.stats import norm,uniform\n",
    "from matplotlib.lines import Line2D\n",
    "idx = list(range(26, 38,1)) #index for parameter values after initial conditions 14-50\n",
    "counter = 0\n",
    "\n",
    "scaling = [2] * 12\n",
    "# idx = list(range(14, 51,1))\n",
    "row = 10\n",
    "col = 4\n",
    "# counter = 0\n",
    "n = 50000\n",
    "\n",
    "ndims = len(idx)\n",
    "# my_pal1 = {\"Cluster0\": \"indianred\",\"Cluster1\":\"indianred\",\"indianred\":\"darkred\",\"Cluster2\":\"darkred\"}\n",
    "fig = plt.figure(figsize=(20, 15))\n",
    "for i in range(1,13):\n",
    "    ax = fig.add_subplot(4, 3, i)\n",
    "    sns.distplot(np.log10(clus3mode[:][:][:, counter]), hist=True, rug=False, label = 'fast')\n",
    "    sns.distplot(np.log10(clus3modm[:][:][:, counter]), hist=True, rug=False, label = 'middle')\n",
    "    sns.distplot(np.log10(clus3modd[:][:][:, counter]), hist=True, rug=False, label = 'delay'\n",
    "                , color = 'indianred')\n",
    "#     sns.distplot(data = [np.log10(clus0mod[:][:, counter]),\n",
    "#                           np.log10(clus1mod[:][:, counter]),\n",
    "#                           np.log10(clus2mod[:][:, counter]),\n",
    "#                           np.log10(clus3mod[:][:, counter])], color = 'indianred')\n",
    "#     sns.distplot(np.log10(clus0mod[:][:, counter]))\n",
    "#     sns.distplot(np.log10(clus1mod[:][:, counter]), color = 'indianred')\n",
    "#     sns.distplot(np.log10(clus2mod[:][:, counter]), color = 'mediumseagreen')\n",
    "#     sns.distplot(np.log10(clus3mod[:][:, counter]), color = 'gold')\n",
    "#     sns.distplot(np.log10(clus0mod[sim_idx_to_keep01][:][:, counter]), color = 'indianred', hist=False, rug=True)\n",
    "#     sns.distplot(np.log10(clus0mod[sim_idx_to_keep01][:][:, counter]), hist=False, rug=True)\n",
    "    \n",
    "#     sns.distplot(np.log10(clus0mod[sim_idx_to_keep01][:][:, counter]), color = 'mediumseagreen')\n",
    "#     sns.violinplot(data = [np.log10(clus0mod[sim_idx_to_keep01][:][:, counter]),\n",
    "#                           np.log10(clus0mod[sim_idx_to_keep02][:][:, counter]),\n",
    "#                           np.log10(clus0mod[sim_idx_to_keep03][:][:, counter])],\n",
    "#                           palette=['yellow','yellow','yellow'])\n",
    "#     sns.swarmplot(data = [np.log10(clus0mod[sim_idx_to_keep01][:][:, counter]),\n",
    "#                           np.log10(clus0mod[sim_idx_to_keep02][:][:, counter]),\n",
    "#                           np.log10(clus0mod[sim_idx_to_keep03][:][:, counter])],\n",
    "#                           palette=['lightcoral','firebrick','darkred'])\n",
    "#     ax.violinplot(np.log10(clus0mod[sim_idx_to_keep02][:][:, counter]))\n",
    "#     ax.violinplot(np.log10(clus0mod[sim_idx_to_keep03][:][:, counter]))\n",
    "#     xticklabels = ['Cluster0', 'Cluster1', 'Cluster2','Cluster3']\n",
    "#     ax.set_xticks([0,1,2,3])\n",
    "#     ax.set_yticks([-8, -6, -4, -2, 0, 2, 4, 6 , 8])\n",
    "#     ax.set_xticklabels(xticklabels)\n",
    "# add horizontal grid lines\n",
    "# plt.ylim(ymax = 25000)\n",
    "    plt.setp(ax.get_xticklabels(), Fontsize=16) \n",
    "    # plt.plot(samples[:, counter])\n",
    "#     sns.distplot(norm.rvs(size=n, loc=ppriors[counter], scale=scaling[counter]), color = 'red')\n",
    "#     sns.violin(clus0_100[:, 14:][:, counter], color = 'cyan')\n",
    "#     sns.distplot(clus1_100[:, 14:][:, counter], color = 'red')\n",
    "#     sns.distplot(clus0mod[sim_idx_to_keep01][:][:, counter], color = 'indianred')\n",
    "#     sns.distplot(clus0mod[sim_idx_to_keep02][:][:, counter], color = 'mediumseagreen')\n",
    "#     sns.distplot(clus0mod[sim_idx_to_keep03][:][:, counter], color = 'steelblue')\n",
    "    plt.title(model100.parameters[idx[counter]].name, fontdict={'fontsize': 14})\n",
    "    counter += 1\n",
    "#     plt.ylim(ymin = -10, ymax=8)\n",
    "    plt.xlim(xmin = -10,xmax=6)\n",
    "    plt.xticks(fontsize=14)\n",
    "    plt.yticks(fontsize=14)   \n",
    "    plt.legend(loc = 'best', prop={'size': 13})\n",
    "plt.subplots_adjust(wspace=0.3)\n",
    "plt.subplots_adjust(hspace=0.6)\n",
    "# plt.savefig('pydream_priorpost_traceplot_forpapermay2020_all_chains5.pdf', format='pdf')\n",
    "plt.show()"
   ]
  },
  {
   "cell_type": "code",
   "execution_count": null,
   "metadata": {},
   "outputs": [],
   "source": [
    "from scipy.stats import norm,uniform\n",
    "from matplotlib.lines import Line2D\n",
    "idx = list(range(38, 54,1)) #index for parameter values after initial conditions 14-50\n",
    "counter = 0\n",
    "\n",
    "scaling = [2] * 16\n",
    "# idx = list(range(14, 51,1))\n",
    "row = 8\n",
    "col = 2\n",
    "# counter = 0\n",
    "n = 50000\n",
    "\n",
    "ndims = len(idx)\n",
    "# my_pal1 = {\"Cluster0\": \"indianred\",\"Cluster1\":\"indianred\",\"indianred\":\"darkred\",\"Cluster2\":\"darkred\"}\n",
    "fig = plt.figure(figsize=(15, 25))\n",
    "for i in range(1,17):\n",
    "    ax = fig.add_subplot(8, 2, i)\n",
    "    sns.distplot(np.log10(clus3mode[:][:][:, counter]), hist=True, rug=False, label = 'fast')\n",
    "    sns.distplot(np.log10(clus3modm[:][:][:, counter]), hist=True, rug=False, label = 'middle')\n",
    "    sns.distplot(np.log10(clus3modd[:][:][:, counter]), hist=True, rug=False, label = 'delay'\n",
    "                , color = 'indianred')\n",
    "#     sns.distplot(data = [np.log10(clus0mod[:][:, counter]),\n",
    "#                           np.log10(clus1mod[:][:, counter]),\n",
    "#                           np.log10(clus2mod[:][:, counter]),\n",
    "#                           np.log10(clus3mod[:][:, counter])], color = 'indianred')\n",
    "#     sns.distplot(np.log10(clus0mod[:][:, counter]))\n",
    "#     sns.distplot(np.log10(clus1mod[:][:, counter]), color = 'indianred')\n",
    "#     sns.distplot(np.log10(clus2mod[:][:, counter]), color = 'mediumseagreen')\n",
    "#     sns.distplot(np.log10(clus3mod[:][:, counter]), color = 'gold')\n",
    "#     sns.distplot(np.log10(clus0mod[sim_idx_to_keep01][:][:, counter]), color = 'indianred', hist=False, rug=True)\n",
    "#     sns.distplot(np.log10(clus0mod[sim_idx_to_keep01][:][:, counter]), hist=False, rug=True)\n",
    "    \n",
    "#     sns.distplot(np.log10(clus0mod[sim_idx_to_keep01][:][:, counter]), color = 'mediumseagreen')\n",
    "#     sns.violinplot(data = [np.log10(clus0mod[sim_idx_to_keep01][:][:, counter]),\n",
    "#                           np.log10(clus0mod[sim_idx_to_keep02][:][:, counter]),\n",
    "#                           np.log10(clus0mod[sim_idx_to_keep03][:][:, counter])],\n",
    "#                           palette=['yellow','yellow','yellow'])\n",
    "#     sns.swarmplot(data = [np.log10(clus0mod[sim_idx_to_keep01][:][:, counter]),\n",
    "#                           np.log10(clus0mod[sim_idx_to_keep02][:][:, counter]),\n",
    "#                           np.log10(clus0mod[sim_idx_to_keep03][:][:, counter])],\n",
    "#                           palette=['lightcoral','firebrick','darkred'])\n",
    "#     ax.violinplot(np.log10(clus0mod[sim_idx_to_keep02][:][:, counter]))\n",
    "#     ax.violinplot(np.log10(clus0mod[sim_idx_to_keep03][:][:, counter]))\n",
    "#     xticklabels = ['Cluster0', 'Cluster1', 'Cluster2','Cluster3']\n",
    "#     ax.set_xticks([0,1,2,3])\n",
    "#     ax.set_yticks([-8, -6, -4, -2, 0, 2, 4, 6 , 8])\n",
    "#     ax.set_xticklabels(xticklabels)\n",
    "# add horizontal grid lines\n",
    "# plt.ylim(ymax = 25000)\n",
    "    plt.setp(ax.get_xticklabels(), Fontsize=16) \n",
    "    # plt.plot(samples[:, counter])\n",
    "#     sns.distplot(norm.rvs(size=n, loc=ppriors[counter], scale=scaling[counter]), color = 'red')\n",
    "#     sns.violin(clus0_100[:, 14:][:, counter], color = 'cyan')\n",
    "#     sns.distplot(clus1_100[:, 14:][:, counter], color = 'red')\n",
    "#     sns.distplot(clus0mod[sim_idx_to_keep01][:][:, counter], color = 'indianred')\n",
    "#     sns.distplot(clus0mod[sim_idx_to_keep02][:][:, counter], color = 'mediumseagreen')\n",
    "#     sns.distplot(clus0mod[sim_idx_to_keep03][:][:, counter], color = 'steelblue')\n",
    "    plt.title(model100.parameters[idx[counter]].name, fontdict={'fontsize': 14})\n",
    "    counter += 1\n",
    "#     plt.ylim(ymin = -10, ymax=8)\n",
    "    plt.xlim(xmin = -10,xmax=6)\n",
    "    plt.xticks(fontsize=14)\n",
    "    plt.yticks(fontsize=14)   \n",
    "    plt.legend(loc = 'best', prop={'size': 13})\n",
    "plt.subplots_adjust(wspace=0.3)\n",
    "plt.subplots_adjust(hspace=0.6)\n",
    "# plt.savefig('pydream_priorpost_traceplot_forpapermay2020_all_chains5.pdf', format='pdf')\n",
    "plt.show()"
   ]
  },
  {
   "cell_type": "code",
   "execution_count": null,
   "metadata": {},
   "outputs": [],
   "source": []
  },
  {
   "cell_type": "code",
   "execution_count": null,
   "metadata": {},
   "outputs": [],
   "source": [
    "from scipy.stats import norm,uniform\n",
    "from matplotlib.lines import Line2D\n",
    "idx = list(range(14, 26,1)) #index for parameter values after initial conditions 14-50\n",
    "counter = 0\n",
    "\n",
    "scaling = [2] * 12\n",
    "# idx = list(range(14, 51,1))\n",
    "row = 4\n",
    "col = 3\n",
    "# counter = 0\n",
    "n = 50000\n",
    "\n",
    "ndims = len(idx)\n",
    "my_pal1 = {\"Early\": \"lightcoral\",\"Constrained\":\"firebrick\",\"Delay\":\"darkred\"}\n",
    "fig = plt.figure(figsize=(20, 15))\n",
    "for i in range(1,13):\n",
    "    ax = fig.add_subplot(4, 3, i)\n",
    "    sns.violinplot(data = [np.log10(clus0mod[sim_idx_to_keep01][:][:, counter]),\n",
    "                          np.log10(clus0mod[sim_idx_to_keep02][:][:, counter]),\n",
    "                          np.log10(clus0mod[sim_idx_to_keep03][:][:, counter])],\n",
    "                          palette=['lightcoral','firebrick','darkred'])\n",
    "#     sns.violinplot(data = [np.log10(clus0mod[sim_idx_to_keep01][:][:, counter]),\n",
    "#                           np.log10(clus0mod[sim_idx_to_keep02][:][:, counter]),\n",
    "#                           np.log10(clus0mod[sim_idx_to_keep03][:][:, counter])],\n",
    "#                           palette=['yellow','yellow','yellow'])\n",
    "#     sns.swarmplot(data = [np.log10(clus0mod[sim_idx_to_keep01][:][:, counter]),\n",
    "#                           np.log10(clus0mod[sim_idx_to_keep02][:][:, counter]),\n",
    "#                           np.log10(clus0mod[sim_idx_to_keep03][:][:, counter])],\n",
    "#                           palette=['lightcoral','firebrick','darkred'])\n",
    "#     ax.violinplot(np.log10(clus0mod[sim_idx_to_keep02][:][:, counter]))\n",
    "#     ax.violinplot(np.log10(clus0mod[sim_idx_to_keep03][:][:, counter]))\n",
    "    xticklabels = ['Early', 'Constrained', 'Delayed']\n",
    "    ax.set_xticks([0,1, 2])\n",
    "    ax.set_yticks([-8, -6, -4, -2, 0, 2, 4, 6 , 8])\n",
    "    ax.set_xticklabels(xticklabels)\n",
    "# add horizontal grid lines\n",
    "# plt.ylim(ymax = 25000)\n",
    "    plt.setp(ax.get_xticklabels(), Fontsize=16) \n",
    "    # plt.plot(samples[:, counter])\n",
    "#     sns.distplot(norm.rvs(size=n, loc=ppriors[counter], scale=scaling[counter]), color = 'red')\n",
    "#     sns.violin(clus0_100[:, 14:][:, counter], color = 'cyan')\n",
    "#     sns.distplot(clus1_100[:, 14:][:, counter], color = 'red')\n",
    "#     sns.distplot(clus0mod[sim_idx_to_keep01][:][:, counter], color = 'indianred')\n",
    "#     sns.distplot(clus0mod[sim_idx_to_keep02][:][:, counter], color = 'mediumseagreen')\n",
    "#     sns.distplot(clus0mod[sim_idx_to_keep03][:][:, counter], color = 'steelblue')\n",
    "    plt.title(model100.parameters[idx[counter]].name, fontdict={'fontsize': 14})\n",
    "    counter += 1\n",
    "#     plt.ylim(ymin = -8, ymax=8)\n",
    "#     plt.xlim(xmin = -5,xmax=10)\n",
    "    plt.xticks(fontsize=14)\n",
    "    plt.yticks(fontsize=14)   \n",
    "plt.subplots_adjust(wspace=0.3)\n",
    "plt.subplots_adjust(hspace=0.6)\n",
    "# plt.savefig('pydream_priorpost_traceplot_forpapermay2020_all_chains5.pdf', format='pdf')\n",
    "plt.show()"
   ]
  },
  {
   "cell_type": "code",
   "execution_count": null,
   "metadata": {},
   "outputs": [],
   "source": [
    "from scipy.stats import norm,uniform\n",
    "from matplotlib.lines import Line2D\n",
    "idx = list(range(39, 54,1)) #index for parameter values after initial conditions 14-50\n",
    "counter = 0\n",
    "\n",
    "scaling = [2] * 15\n",
    "# idx = list(range(14, 51,1))\n",
    "row = 5\n",
    "col = 3\n",
    "# counter = 0\n",
    "n = 50000\n",
    "\n",
    "ndims = len(idx)\n",
    "# my_pal1 = {\"Cluster0\": \"indianred\",\"Cluster1\":\"indianred\",\"indianred\":\"darkred\",\"Cluster2\":\"darkred\"}\n",
    "fig = plt.figure(figsize=(20, 15))\n",
    "for i in range(1,16):\n",
    "    ax = fig.add_subplot(5, 3, i)\n",
    "    sns.swarmplot(data = [np.log10(clus0mod[:][:, counter]),\n",
    "                          np.log10(clus1mod[:][:, counter]),\n",
    "                          np.log10(clus2mod[:][:, counter]),\n",
    "                          np.log10(clus3mod[:][:, counter])], color = 'indianred')\n",
    "#     sns.violinplot(data = [np.log10(clus0mod[sim_idx_to_keep01][:][:, counter]),\n",
    "#                           np.log10(clus0mod[sim_idx_to_keep02][:][:, counter]),\n",
    "#                           np.log10(clus0mod[sim_idx_to_keep03][:][:, counter])],\n",
    "#                           palette=['yellow','yellow','yellow'])\n",
    "#     sns.swarmplot(data = [np.log10(clus0mod[sim_idx_to_keep01][:][:, counter]),\n",
    "#                           np.log10(clus0mod[sim_idx_to_keep02][:][:, counter]),\n",
    "#                           np.log10(clus0mod[sim_idx_to_keep03][:][:, counter])],\n",
    "#                           palette=['lightcoral','firebrick','darkred'])\n",
    "#     ax.violinplot(np.log10(clus0mod[sim_idx_to_keep02][:][:, counter]))\n",
    "#     ax.violinplot(np.log10(clus0mod[sim_idx_to_keep03][:][:, counter]))\n",
    "    xticklabels = ['Cluster0', 'Cluster1', 'Cluster2','Cluster3']\n",
    "    ax.set_xticks([0,1,2,3])\n",
    "    ax.set_yticks([-8, -6, -4, -2, 0, 2, 4, 6 , 8])\n",
    "    ax.set_xticklabels(xticklabels)\n",
    "# add horizontal grid lines\n",
    "# plt.ylim(ymax = 25000)\n",
    "    plt.setp(ax.get_xticklabels(), Fontsize=16) \n",
    "    # plt.plot(samples[:, counter])\n",
    "#     sns.distplot(norm.rvs(size=n, loc=ppriors[counter], scale=scaling[counter]), color = 'red')\n",
    "#     sns.violin(clus0_100[:, 14:][:, counter], color = 'cyan')\n",
    "#     sns.distplot(clus1_100[:, 14:][:, counter], color = 'red')\n",
    "#     sns.distplot(clus0mod[sim_idx_to_keep01][:][:, counter], color = 'indianred')\n",
    "#     sns.distplot(clus0mod[sim_idx_to_keep02][:][:, counter], color = 'mediumseagreen')\n",
    "#     sns.distplot(clus0mod[sim_idx_to_keep03][:][:, counter], color = 'steelblue')\n",
    "    plt.title(model100.parameters[idx[counter]].name, fontdict={'fontsize': 14})\n",
    "    counter += 1\n",
    "    plt.ylim(ymin = -10, ymax=8)\n",
    "#     plt.xlim(xmin = -5,xmax=10)\n",
    "    plt.xticks(fontsize=14)\n",
    "    plt.yticks(fontsize=14)   \n",
    "plt.subplots_adjust(wspace=0.3)\n",
    "plt.subplots_adjust(hspace=0.6)\n",
    "# plt.savefig('pydream_priorpost_traceplot_forpapermay2020_all_chains5.pdf', format='pdf')\n",
    "plt.show()"
   ]
  },
  {
   "cell_type": "code",
   "execution_count": null,
   "metadata": {},
   "outputs": [],
   "source": [
    "from scipy.stats import norm,uniform\n",
    "from matplotlib.lines import Line2D\n",
    "idx = list(range(14, 54,1)) #index for parameter values after initial conditions 14-50\n",
    "counter = 0\n",
    "\n",
    "scaling = [2] * 40\n",
    "# idx = list(range(14, 51,1))\n",
    "row = 8\n",
    "col = 5\n",
    "# counter = 0\n",
    "n = 50000\n",
    "\n",
    "ndims = len(idx)\n",
    "\n",
    "fig = plt.figure(figsize=(20, 15))\n",
    "for i in range(1,41):\n",
    "    ax = fig.add_subplot(8, 5, i)\n",
    "    ax.violinplot(np.log10(clus0mod[sim_idx_to_keep03][:][:, counter]))\n",
    "    xticklabels = ['Early', 'Constrained', 'Delayed']\n",
    "    ax.set_xticks([1,2,3])\n",
    "    ax.set_xticklabels(xticklabels)\n",
    "# add horizontal grid lines\n",
    "# plt.ylim(ymax = 25000)\n",
    "    plt.setp(ax.get_xticklabels(), Fontsize=16) \n",
    "    # plt.plot(samples[:, counter])\n",
    "#     sns.distplot(norm.rvs(size=n, loc=ppriors[counter], scale=scaling[counter]), color = 'red')\n",
    "#     sns.violin(clus0_100[:, 14:][:, counter], color = 'cyan')\n",
    "#     sns.distplot(clus1_100[:, 14:][:, counter], color = 'red')\n",
    "#     sns.distplot(clus0mod[sim_idx_to_keep01][:][:, counter], color = 'indianred')\n",
    "#     sns.distplot(clus0mod[sim_idx_to_keep02][:][:, counter], color = 'mediumseagreen')\n",
    "#     sns.distplot(clus0mod[sim_idx_to_keep03][:][:, counter], color = 'steelblue')\n",
    "    plt.title(model100.parameters[idx[counter]].name, fontdict={'fontsize': 14})\n",
    "    counter += 1\n",
    "#     plt.ylim(ymax=0.65)\n",
    "#     plt.xlim(xmin = -5,xmax=10)\n",
    "    plt.xticks(fontsize=14)\n",
    "    plt.yticks(fontsize=14)   \n",
    "plt.subplots_adjust(wspace=0.3)\n",
    "plt.subplots_adjust(hspace=0.6)\n",
    "# plt.savefig('pydream_priorpost_traceplot_forpapermay2020_all_chains5.pdf', format='pdf')\n",
    "plt.show()"
   ]
  },
  {
   "cell_type": "code",
   "execution_count": null,
   "metadata": {},
   "outputs": [],
   "source": [
    "plt.figure()\n",
    "sns.distplot(np.log10(clus0mod[:][:, counter]))\n",
    "plt.show()"
   ]
  },
  {
   "cell_type": "code",
   "execution_count": null,
   "metadata": {},
   "outputs": [],
   "source": [
    "print(clus0mod[sim_idx_to_keep02][:][:,0])\n",
    "print(clus0mod[sim_idx_to_keep01][:][:,0])\n",
    "print(clus0mod[sim_idx_to_keep03][:][:,0])"
   ]
  },
  {
   "cell_type": "code",
   "execution_count": null,
   "metadata": {},
   "outputs": [],
   "source": [
    "allsim0 = [clus0mod[sim_idx_to_keep01][:][:,14], \n",
    "           clus0mod[sim_idx_to_keep02][:][:,14],\n",
    "           clus0mod[sim_idx_to_keep03][:][:,14]]"
   ]
  },
  {
   "cell_type": "code",
   "execution_count": null,
   "metadata": {},
   "outputs": [],
   "source": [
    "df_0 = c3df100wt.groupby('simulation')"
   ]
  },
  {
   "cell_type": "code",
   "execution_count": null,
   "metadata": {},
   "outputs": [],
   "source": [
    "df = pd.DataFrame({'A' : clus0mod[sim_idx_to_keep01][:][:,14],\n",
    "                   'B' : clus0mod[sim_idx_to_keep02][:][:,14],\n",
    "                   'C' : clus0mod[sim_idx_to_keep03][:][:,14]})"
   ]
  },
  {
   "cell_type": "code",
   "execution_count": null,
   "metadata": {},
   "outputs": [],
   "source": [
    "newlist = [np.log10(clus0mod[sim_idx_to_keep01][:][:,0]),\n",
    "          np.log10(clus0mod[sim_idx_to_keep02][:][:,0]),\n",
    "          np.log10(clus0mod[sim_idx_to_keep03][:][:,0])]\n",
    "newlist2 = [np.log10(clus0mod[sim_idx_to_keep01][:][:,1]),\n",
    "          np.log10(clus0mod[sim_idx_to_keep02][:][:,1]),\n",
    "          np.log10(clus0mod[sim_idx_to_keep03][:][:,1])]"
   ]
  },
  {
   "cell_type": "code",
   "execution_count": null,
   "metadata": {},
   "outputs": [],
   "source": [
    "g = 14"
   ]
  },
  {
   "cell_type": "code",
   "execution_count": null,
   "metadata": {},
   "outputs": [],
   "source": [
    "# fig = plt.figure(figsize=(20, 15))\n",
    "# for i in range(1,41):\n",
    "#     ax = fig.add_subplot(8, 5, i)\n",
    "    # plt.plot(samples[:, counter])\n",
    "# fig = plt.figure(figsize=(20, 5))\n",
    "fig, axes = plt.subplots(1, 3, figsize=(28, 7), sharex=True)\n",
    "plt.subplot(131)\n",
    "# sns.distplot(clus3_100[:, 42])\n",
    "sns.distplot(clus0mod[sim_idx_to_keep01][:][:,1g])\n",
    "# sns.distplot(clus2_100[:, 48])\n",
    "# sns.distplot(clus2_100n[:, 45])\n",
    "# sns.distplot(clus2_100nn[:, 45])\n",
    "plt.ylim(ymax=115)\n",
    "plt.xlim(xmin = -1,xmax=2)\n",
    "plt.xticks(fontsize=14)\n",
    "plt.yticks(fontsize=14)\n",
    "# plt.xticks(np.arange(-10, 11, 5))\n",
    "plt.xticks(fontsize=16)\n",
    "plt.yticks(fontsize=16)\n",
    "# plt.title('RIP1ub + A20/CYLD -> RIP1ub:A20/CYLD',fontsize=15)\n",
    "# plt.xlabel(\"Log(10) Value\", fontsize=20)\n",
    "plt.ylabel(\"Probability\", fontsize=20, labelpad=15)\n",
    "custom_lines = [Line2D([0], [0], color='blue', lw=4),\n",
    "                Line2D([0], [0], color='orange', lw=4),\n",
    "               Line2D([0], [0], color='red', lw=4)]\n",
    "# plt.legend(custom_lines, [r'$RIP1trunc$',r'$Necro$', 'c8rip3trunc'], prop={'size': 15}, loc = 'best')\n",
    "plt.subplots_adjust(wspace=0.3)\n",
    "plt.subplots_adjust(hspace=0.6)\n",
    "\n",
    "plt.subplot(132)\n",
    "# sns.distplot(clus3_100[:, 47])\n",
    "sns.distplot(clus0mod[sim_idx_to_keep02][:][:,g])\n",
    "# plt.ylim(ymax=0.0005)\n",
    "plt.xlim(xmin = -0.5,xmax=10)\n",
    "plt.xticks(fontsize=14)\n",
    "plt.yticks(fontsize=14)\n",
    "# plt.xticks(np.arange(-10, 11, 5))\n",
    "plt.xticks(fontsize=16)\n",
    "plt.yticks(fontsize=16)\n",
    "# plt.title('RIP1ub:A20 -> RIP1ub + A20/CYLD', fontsize=15)\n",
    "plt.xlabel(\"Log(10) Value\", fontsize=20)\n",
    "# plt.ylabel(\"Probability\", fontsize=20, labelpad=15)\n",
    "custom_lines = [Line2D([0], [0], color='blue', lw=4),\n",
    "                Line2D([0], [0], color='orange', lw=4)]\n",
    "# plt.legend(custom_lines, [r'$c8af$',r'$rip3f$'], prop={'size': 15}, loc = 'best')\n",
    "plt.subplots_adjust(wspace=0.3)\n",
    "plt.subplots_adjust(hspace=0.6)\n",
    "plt.subplot(133)\n",
    "# sns.distplot(clus2_100[:, 41])\n",
    "sns.distplot(clus0mod[sim_idx_to_keep03][:][:,g])\n",
    "# sns.distplot(clus2_100[:, 52])\n",
    "# plt.ylim(ymax=2)\n",
    "plt.xlim(xmin = -1,xmax=10)\n",
    "plt.xticks(fontsize=14)\n",
    "plt.yticks(fontsize=14)\n",
    "# plt.xticks(np.arange(-10, 11, 5))\n",
    "plt.xticks(fontsize=16)\n",
    "plt.yticks(fontsize=16)\n",
    "# plt.title('RIP1ub:A20/CYLD -> RIP1deub + A20/CYLD',fontsize=15)\n",
    "# plt.xlabel(\"Log(10) Value\", fontsize=17)\n",
    "# plt.ylabel(\"Probability\", fontsize=20, labelpad=15)\n",
    "custom_lines = [Line2D([0], [0], color='blue', lw=4),\n",
    "                Line2D([0], [0], color='orange', lw=4)]\n",
    "# plt.legend(custom_lines, [r'$c8ar$',r'$rip3r$'], prop={'size': 15}, loc = 'best')\n",
    "plt.subplots_adjust(wspace=0.3)\n",
    "plt.subplots_adjust(hspace=0.6)\n",
    "# fig.savefig(\"updatedkos/necro_5720_pydream_posta20cyldpardists_allchains5.pdf\")\n",
    "plt.show()"
   ]
  },
  {
   "cell_type": "code",
   "execution_count": null,
   "metadata": {},
   "outputs": [],
   "source": [
    "tspan = np.linspace(0, 1800, 500)\n",
    "tspan1 = np.linspace(0, 580, 155)\n",
    "tspan2 = np.linspace(580, 761, 181)\n",
    "tspan3 = np.linspace(761, 1800, 297)"
   ]
  },
  {
   "cell_type": "code",
   "execution_count": null,
   "metadata": {},
   "outputs": [],
   "source": [
    "solverwt0 = ScipyOdeSimulator(model100, tspan=tspan, verbose = True)\n",
    "wtclus0 = solverwt0.run(param_values=clus0_100, num_processors = 20)\n",
    "c0df100wt = wtclus0.dataframe"
   ]
  },
  {
   "cell_type": "code",
   "execution_count": null,
   "metadata": {},
   "outputs": [],
   "source": [
    "solverwt0 = ScipyOdeSimulator(model100, tspan=tspan2, verbose = True)\n",
    "wtclus0 = solverwt0.run(param_values=clus0_100, num_processors = 20)\n",
    "c0df100wt22 = wtclus0.dataframe"
   ]
  },
  {
   "cell_type": "code",
   "execution_count": null,
   "metadata": {},
   "outputs": [],
   "source": [
    "solverwt0 = ScipyOdeSimulator(model100, tspan=tspan3, verbose = True)\n",
    "wtclus0 = solverwt0.run(param_values=clus0_100, num_processors = 20)\n",
    "c0df100wt33 = wtclus0.dataframe"
   ]
  },
  {
   "cell_type": "code",
   "execution_count": null,
   "metadata": {},
   "outputs": [],
   "source": [
    "print(c0df100wt.shape)"
   ]
  },
  {
   "cell_type": "code",
   "execution_count": null,
   "metadata": {},
   "outputs": [],
   "source": [
    "solverwt0 = ScipyOdeSimulator(model100, tspan=tspan, verbose = True)\n",
    "wtclus0 = solverwt0.run(param_values=clus0_100[sim_idx_to_keep01], num_processors = 10)\n",
    "c0df100wt1 = wtclus0.dataframe"
   ]
  },
  {
   "cell_type": "code",
   "execution_count": null,
   "metadata": {},
   "outputs": [],
   "source": [
    "solverwt0 = ScipyOdeSimulator(model100, tspan=tspan, verbose = True)\n",
    "wtclus0 = solverwt0.run(param_values=clus0_100[sim_idx_to_keep02], num_processors = 10)\n",
    "c0df100wt2 = wtclus0.dataframe"
   ]
  },
  {
   "cell_type": "code",
   "execution_count": null,
   "metadata": {},
   "outputs": [],
   "source": [
    "solverwt0 = ScipyOdeSimulator(model100, tspan=tspan, verbose = True)\n",
    "wtclus0 = solverwt0.run(param_values=clus0_100[sim_idx_to_keep03], num_processors = 10)\n",
    "c0df100wt3 = wtclus0.dataframe"
   ]
  },
  {
   "cell_type": "code",
   "execution_count": null,
   "metadata": {},
   "outputs": [],
   "source": [
    "solverwt1 = ScipyOdeSimulator(model100, tspan=tspan, verbose = True)\n",
    "wtclus1 = solverwt1.run(param_values=clus1_100)\n",
    "c1df100wt = wtclus1.dataframe"
   ]
  },
  {
   "cell_type": "code",
   "execution_count": null,
   "metadata": {},
   "outputs": [],
   "source": [
    "solverwt2 = ScipyOdeSimulator(model100, tspan=tspan, verbose = True)\n",
    "wtclus2 = solverwt2.run(param_values=clus2_100)\n",
    "c2df100wt = wtclus2.dataframe"
   ]
  },
  {
   "cell_type": "code",
   "execution_count": null,
   "metadata": {},
   "outputs": [],
   "source": [
    "solverwt3 = ScipyOdeSimulator(model100, tspan=tspan, verbose = True)\n",
    "wtclus3 = solverwt3.run(param_values=clus3_100[sim_idx_to_keepall])\n",
    "c3df100wt = wtclus3.dataframe"
   ]
  },
  {
   "cell_type": "code",
   "execution_count": null,
   "metadata": {},
   "outputs": [],
   "source": [
    "solverwt3 = ScipyOdeSimulator(model100, tspan=tspan, verbose = True)\n",
    "wtclus3 = solverwt3.run(param_values=clus3_100[sim_idx_to_keep31])\n",
    "c3df100wt1 = wtclus3.dataframe"
   ]
  },
  {
   "cell_type": "code",
   "execution_count": null,
   "metadata": {},
   "outputs": [],
   "source": [
    "solverwt3 = ScipyOdeSimulator(model100, tspan=tspan, verbose = True)\n",
    "wtclus3 = solverwt3.run(param_values=clus3_100[sim_idx_to_keep32])\n",
    "c3df100wt2 = wtclus3.dataframe"
   ]
  },
  {
   "cell_type": "code",
   "execution_count": null,
   "metadata": {},
   "outputs": [],
   "source": [
    "solverwt3 = ScipyOdeSimulator(model100, tspan=tspan, verbose = True)\n",
    "wtclus3 = solverwt3.run(param_values=clus3_100[sim_idx_to_keep33])\n",
    "c3df100wt3 = wtclus3.dataframe"
   ]
  },
  {
   "cell_type": "code",
   "execution_count": null,
   "metadata": {},
   "outputs": [],
   "source": []
  },
  {
   "cell_type": "code",
   "execution_count": null,
   "metadata": {},
   "outputs": [],
   "source": [
    "solverwt3 = ScipyOdeSimulator(model100, tspan=tspan, verbose = True)\n",
    "wtclus3 = solverwt3.run(param_values=clus3_100[sim_idx_to_keep3], num_processors = 10)\n",
    "c3df100wtn = wtclus3.dataframe"
   ]
  },
  {
   "cell_type": "code",
   "execution_count": null,
   "metadata": {
    "scrolled": true
   },
   "outputs": [],
   "source": [
    "for i,l in enumerate(np.linspace(0,1800,500)):\n",
    "    print(i,\":\",l)"
   ]
  },
  {
   "cell_type": "code",
   "execution_count": null,
   "metadata": {},
   "outputs": [],
   "source": [
    "plt.figure(figsize = (11,7))\n",
    "for n in sim_idx_to_keep:\n",
    "    plt.plot(tspan, dfcyldn.loc[n]['MLKLa_obs'].iloc[:], zorder = 1, alpha = 1,color = 'mediumseagreen')\n",
    "    plt.plot(tspan, dfcyldnn.loc[n]['MLKLa_obs'].iloc[:],zorder = 2, alpha = 0.7, color = 'indianred')\n",
    "plt.xlim(xmax = 1800)    \n",
    "plt.show()  "
   ]
  },
  {
   "cell_type": "code",
   "execution_count": null,
   "metadata": {},
   "outputs": [],
   "source": [
    "sim_idx_to_keep01 = [idx for idx in range(len(clus0_100)) if c0df100wt['MLKLa_obs'][idx].iloc[160] >= 2772]\n",
    "sim_idx_to_keep02 = [idx for idx in range(len(clus0_100)) if c0df100wt['MLKLa_obs'][idx].iloc[160] < 2772 \n",
    "                     and c0df100wt['MLKLa_obs'][idx].iloc[196] >= 2772]\n",
    "sim_idx_to_keep03 = [idx for idx in range(len(clus0_100)) if c0df100wt['MLKLa_obs'][idx].iloc[196] < 2772 \n",
    "                     and c0df100wt['MLKLa_obs'][idx].iloc[499] >= 2772]\n",
    "print(len(sim_idx_to_keep01))\n",
    "print(len(sim_idx_to_keep02))\n",
    "print(len(sim_idx_to_keep03))"
   ]
  },
  {
   "cell_type": "code",
   "execution_count": null,
   "metadata": {},
   "outputs": [],
   "source": [
    "sim_idx_to_keep01ee = [idx for idx in range(len(clus0_100)) if c0df100wt['MLKLa_obs'][idx].iloc[139] >= 2772]"
   ]
  },
  {
   "cell_type": "code",
   "execution_count": null,
   "metadata": {},
   "outputs": [],
   "source": [
    "sim_idx_to_keep31 = [idx for idx in range(len(clus3_100)) if c3['MLKLa_obs'][idx].iloc[167] >= 2772]\n",
    "sim_idx_to_keep32 = [idx for idx in range(len(clus3_100)) if c3['MLKLa_obs'][idx].iloc[167] < 2772 \n",
    "                 and c3['MLKLa_obs'][idx].iloc[203] >= 2772]\n",
    "sim_idx_to_keep33 = [idx for idx in range(len(clus3_100)) if c3['MLKLa_obs'][idx].iloc[203] < 2772 \n",
    "                     and c3['MLKLa_obs'][idx].iloc[499] >= 2772]\n",
    "sim_idx_to_keepall = [idx for idx in range(len(clus3_100)) if c3['MLKLa_obs'][idx].iloc[-1] >= 2772]\n",
    "\n",
    "# sim_idx_to_keep1 = [idx for idx in range(len(clus1_100)) if c1df100wt['MLKLa_obs'][idx].iloc[-87] > 5544]\n",
    "# sim_idx_to_keep2 = [idx for idx in range(len(clus2_100)) if c2df100wt['MLKLa_obs'][idx].iloc[-87] > 5544]\n",
    "# sim_idx_to_keep3 = [idx for idx in range(len(clus3_100)) if c3df100wt['MLKLa_obs'][idx].iloc[-132] < 5000]\n",
    "print(len(sim_idx_to_keep31))\n",
    "print(len(sim_idx_to_keep32))\n",
    "print(len(sim_idx_to_keep33))\n",
    "print(len(sim_idx_to_keepall))\n",
    "print(len(clus3_100))\n",
    "# print(len(sim_idx_to_keepn))"
   ]
  },
  {
   "cell_type": "code",
   "execution_count": null,
   "metadata": {},
   "outputs": [],
   "source": [
    "clus3_100new = np.array([sim_idx_to_keep31,sim_idx_to_keep32,sim_idx_to_keep33])"
   ]
  },
  {
   "cell_type": "code",
   "execution_count": null,
   "metadata": {},
   "outputs": [],
   "source": [
    "print(clus3_100new)"
   ]
  },
  {
   "cell_type": "code",
   "execution_count": null,
   "metadata": {},
   "outputs": [],
   "source": [
    "clus3_100[2807]"
   ]
  },
  {
   "cell_type": "code",
   "execution_count": null,
   "metadata": {},
   "outputs": [],
   "source": [
    "clus3 = [idx for idx in range(len(clus3_100))]"
   ]
  },
  {
   "cell_type": "code",
   "execution_count": null,
   "metadata": {},
   "outputs": [],
   "source": [
    "index = [262, 619, 770, 1139, 1269, 1461, 1528, 1585, 1726, 1733, \n",
    "         1759, 2076, 2248, 2319, 2521, 2531, 2729, 2753, 2802, 2807]\n",
    "\n",
    "clus3_100new = np.delete(clus3_100, index)"
   ]
  },
  {
   "cell_type": "code",
   "execution_count": null,
   "metadata": {},
   "outputs": [],
   "source": [
    "print(len(clus3_100new))\n",
    "print(len(clus3_100))"
   ]
  },
  {
   "cell_type": "code",
   "execution_count": null,
   "metadata": {},
   "outputs": [],
   "source": [
    "for element in sim_idx_to_keep33:\n",
    "    if element in sim_idx_to_keeptest:\n",
    "        sim_idx_to_keeptest.remove(element)\n",
    "\n",
    "print(len(sim_idx_to_keeptest))"
   ]
  },
  {
   "cell_type": "code",
   "execution_count": null,
   "metadata": {},
   "outputs": [],
   "source": [
    "print(sim_idx_to_keeptest)"
   ]
  },
  {
   "cell_type": "code",
   "execution_count": null,
   "metadata": {},
   "outputs": [],
   "source": [
    "c3df100wt['MLKLa_obs'][:].iloc[:]"
   ]
  },
  {
   "cell_type": "code",
   "execution_count": null,
   "metadata": {},
   "outputs": [],
   "source": []
  },
  {
   "cell_type": "code",
   "execution_count": null,
   "metadata": {},
   "outputs": [],
   "source": []
  },
  {
   "cell_type": "code",
   "execution_count": null,
   "metadata": {},
   "outputs": [],
   "source": []
  },
  {
   "cell_type": "code",
   "execution_count": null,
   "metadata": {},
   "outputs": [],
   "source": [
    "for element in sim_idx_to_keep31:\n",
    "    if element in sim_idx_to_keep32:\n",
    "        sim_idx_to_keep32.remove(element)\n",
    "\n",
    "print(len(sim_idx_to_keep32))"
   ]
  },
  {
   "cell_type": "code",
   "execution_count": null,
   "metadata": {},
   "outputs": [],
   "source": [
    "for element in sim_idx_to_keep32:\n",
    "    if element in sim_idx_to_keep33:\n",
    "        sim_idx_to_keep33.remove(element)\n",
    "\n",
    "print(len(sim_idx_to_keep33))"
   ]
  },
  {
   "cell_type": "code",
   "execution_count": null,
   "metadata": {},
   "outputs": [],
   "source": []
  },
  {
   "cell_type": "code",
   "execution_count": null,
   "metadata": {},
   "outputs": [],
   "source": [
    "for element in sim_idx_to_keep02:\n",
    "    if element in sim_idx_to_keep03:\n",
    "        sim_idx_to_keep03.remove(element)\n",
    "\n",
    "print(len(sim_idx_to_keep03))"
   ]
  },
  {
   "cell_type": "code",
   "execution_count": null,
   "metadata": {},
   "outputs": [],
   "source": [
    "print(len(clus0_100))\n",
    "print(len(clus1_100))\n",
    "print(len(clus2_100))\n",
    "print(len(clus3_100))"
   ]
  },
  {
   "cell_type": "code",
   "execution_count": null,
   "metadata": {},
   "outputs": [],
   "source": [
    "plt.figure(figsize = (11,7))\n",
    "for n in sim_idx_to_keep01:\n",
    "    plt.plot(tspan, c0df100wt.loc[n]['MLKLa_obs'].iloc[:], zorder = 1, alpha = 1,color = 'lightcoral')\n",
    "for n in sim_idx_to_keep02:\n",
    "    plt.plot(tspan, c0df100wt.loc[n]['MLKLa_obs'].iloc[:], zorder = 1, alpha = 1,color = 'firebrick')    \n",
    "for n in sim_idx_to_keep03:\n",
    "    plt.plot(tspan, c0df100wt.loc[n]['MLKLa_obs'].iloc[:], zorder = 1, alpha = 1,color = 'darkred') \n",
    "# plt.xlim(xmin =200, xmax = 500)    \n",
    "plt.axvline(x=550, color = 'black')\n",
    "plt.axvline(x=761, color = 'black')\n",
    "plt.axvline(x=1100, color = 'black')\n",
    "plt.axhline(y=2772, color = 'black')\n",
    "# plt.savefig('figs/Cluster0/pmlkl_100tnf_clus0traj_5720newhalfmax_splits.pdf')\n",
    "plt.show()  "
   ]
  },
  {
   "cell_type": "code",
   "execution_count": null,
   "metadata": {},
   "outputs": [],
   "source": [
    "#[262, 619, 770, 1139, 1269, 1461, 1528, 1585, 1726, 1733, 1759, 2076, 2248, 2319, 2521, 2531, 2729, 2753, 2802, 2807]\n",
    "plt.figure(figsize = (11,7))\n",
    "# for n in sim_idx_to_keeptest[0]:\n",
    "plt.plot(tspan, c3df100wt.loc[2807]['MLKLa_obs'].iloc[:], zorder = 1, alpha = 1,color = 'lightcoral')\n",
    "# plt.xlim(xmin =200, xmax = 500)    \n",
    "plt.axvline(x=545, color = 'black')\n",
    "plt.axvline(x=735, color = 'black')\n",
    "plt.axhline(y=2772, color = 'black')\n",
    "# plt.savefig('figs/Cluster0/pmlkl_100tnf_clus0traj_5720newhalfmax_splits.pdf')\n",
    "plt.show()  "
   ]
  },
  {
   "cell_type": "code",
   "execution_count": null,
   "metadata": {},
   "outputs": [],
   "source": [
    "c3df100wt.loc[2802]['MLKLa_obs'].iloc[:]"
   ]
  },
  {
   "cell_type": "code",
   "execution_count": null,
   "metadata": {},
   "outputs": [],
   "source": [
    "plt.figure(figsize = (11,7))\n",
    "for n in sim_idx_to_keep31:\n",
    "    plt.plot(tspan, c3df100wt.loc[n]['MLKLa_obs'].iloc[:], zorder = 1, alpha = 1,color = 'lightcoral')\n",
    "for n in sim_idx_to_keep32:\n",
    "    plt.plot(tspan, c3df100wt.loc[n]['MLKLa_obs'].iloc[:], zorder = 1, alpha = 1,color = 'firebrick')    \n",
    "for n in sim_idx_to_keep33:\n",
    "    plt.plot(tspan, c3df100wt.loc[n]['MLKLa_obs'].iloc[:], zorder = 1, alpha = 1,color = 'darkred') \n",
    "# plt.xlim(xmin =200, xmax = 500)    \n",
    "plt.axvline(x=545, color = 'black')\n",
    "plt.axvline(x=735, color = 'black')\n",
    "plt.axhline(y=2772, color = 'black')\n",
    "# plt.savefig('figs/Cluster0/pmlkl_100tnf_clus0traj_5720newhalfmax_splits.pdf')\n",
    "plt.show()  "
   ]
  },
  {
   "cell_type": "code",
   "execution_count": null,
   "metadata": {},
   "outputs": [],
   "source": []
  },
  {
   "cell_type": "code",
   "execution_count": null,
   "metadata": {},
   "outputs": [],
   "source": []
  },
  {
   "cell_type": "code",
   "execution_count": null,
   "metadata": {},
   "outputs": [],
   "source": [
    "threshold2 = 2772"
   ]
  },
  {
   "cell_type": "code",
   "execution_count": null,
   "metadata": {},
   "outputs": [],
   "source": [
    "c0df100wt1[:197]"
   ]
  },
  {
   "cell_type": "code",
   "execution_count": null,
   "metadata": {},
   "outputs": [],
   "source": [
    "# df_threshtimesc0100wt0 = c0df100wt.groupby('simulation').apply(lambda x: (x > threshold2).idxmax()).apply(lambda x: [y[1] for y in x])\n",
    "df_threshtimesc0100wt1 = c0df100wt1.groupby('simulation').apply(lambda x: (x > threshold2).idxmax()).apply(lambda x: [y[1] for y in x])\n",
    "df_threshtimesc0100wt2 = c0df100wt2.groupby('simulation').apply(lambda x: (x > threshold2).idxmax()).apply(lambda x: [y[1] for y in x])\n",
    "df_threshtimesc0100wt3 = c0df100wt3.groupby('simulation').apply(lambda x: (x > threshold2).idxmax()).apply(lambda x: [y[1] for y in x])"
   ]
  },
  {
   "cell_type": "code",
   "execution_count": null,
   "metadata": {},
   "outputs": [],
   "source": [
    "df_threshtimesc3100wt0 = c3.groupby('simulation').apply(lambda x: (x > threshold2).idxmax()).apply(lambda x: [y[1] for y in x])"
   ]
  },
  {
   "cell_type": "code",
   "execution_count": null,
   "metadata": {},
   "outputs": [],
   "source": [
    "# df_threshtimesc3100wt0 = c3df100wt.groupby('simulation').apply(lambda x: (x > threshold2).idxmax()).apply(lambda x: [y[1] for y in x])\n",
    "df_threshtimesc3100wt1 = c3e.groupby('simulation').apply(lambda x: (x > threshold2).idxmax()).apply(lambda x: [y[1] for y in x])\n",
    "df_threshtimesc3100wt2 = c3m.groupby('simulation').apply(lambda x: (x > threshold2).idxmax()).apply(lambda x: [y[1] for y in x])\n",
    "df_threshtimesc3100wt3 = c3d.groupby('simulation').apply(lambda x: (x > threshold2).idxmax()).apply(lambda x: [y[1] for y in x])"
   ]
  },
  {
   "cell_type": "code",
   "execution_count": null,
   "metadata": {},
   "outputs": [],
   "source": [
    "# df_threshtimesc3100wt0 = c3df100wt.groupby('simulation').apply(lambda x: (x > threshold2).idxmax()).apply(lambda x: [y[1] for y in x])\n",
    "df_threshtimesc3100wt31 = c31.groupby('simulation').apply(lambda x: (x > threshold2).idxmax()).apply(lambda x: [y[1] for y in x])\n",
    "df_threshtimesc3100wt32 = c32.groupby('simulation').apply(lambda x: (x > threshold2).idxmax()).apply(lambda x: [y[1] for y in x])\n",
    "df_threshtimesc3100wt33 = c33.groupby('simulation').apply(lambda x: (x > threshold2).idxmax()).apply(lambda x: [y[1] for y in x])"
   ]
  },
  {
   "cell_type": "code",
   "execution_count": null,
   "metadata": {},
   "outputs": [],
   "source": [
    "cluswtall10 = pd.DataFrame({'WT_early': df_threshtimesc0100wt0['MLKLa_obs']})"
   ]
  },
  {
   "cell_type": "code",
   "execution_count": null,
   "metadata": {},
   "outputs": [],
   "source": [
    "cluswtall1 = pd.DataFrame({'WT_early': df_threshtimesc0100wt1['MLKLa_obs']})\n",
    "cluswtall2 = pd.DataFrame({'WT_constrained': df_threshtimesc0100wt2['MLKLa_obs']})\n",
    "cluswtall3 = pd.DataFrame({'Cluster0': df_threshtimesc0100wt3['MLKLa_obs']})"
   ]
  },
  {
   "cell_type": "code",
   "execution_count": null,
   "metadata": {},
   "outputs": [],
   "source": [
    "# cluswtall3 = pd.DataFrame({'WT_early': df_threshtimesc3100wt0['MLKLa_obs']})\n",
    "cluswtall31 = pd.DataFrame({'WT_early': df_threshtimesc3100wt1['MLKLa_obs']})\n",
    "cluswtall32 = pd.DataFrame({'WT_constrained': df_threshtimesc3100wt2['MLKLa_obs']})\n",
    "cluswtall33 = pd.DataFrame({'Cluster3': df_threshtimesc3100wt3['MLKLa_obs']})"
   ]
  },
  {
   "cell_type": "code",
   "execution_count": null,
   "metadata": {},
   "outputs": [],
   "source": [
    "cluswtall31s = pd.DataFrame({'WT_early': df_threshtimesc3100wt31['MLKLa_obs']})\n",
    "cluswtall32s = pd.DataFrame({'WT_constrained': df_threshtimesc3100wt32['MLKLa_obs']})\n",
    "cluswtall33s = pd.DataFrame({'Cluster3': df_threshtimesc3100wt33['MLKLa_obs']})"
   ]
  },
  {
   "cell_type": "code",
   "execution_count": null,
   "metadata": {},
   "outputs": [],
   "source": [
    "cluswtall3 = pd.DataFrame({'WT': df_threshtimesc3100wt0['MLKLa_obs']})"
   ]
  },
  {
   "cell_type": "code",
   "execution_count": null,
   "metadata": {},
   "outputs": [],
   "source": [
    "dfwt = pd.DataFrame(data = cluswtall, columns = ['WT_early','WT_constrained','WT_delay'])"
   ]
  },
  {
   "cell_type": "code",
   "execution_count": null,
   "metadata": {},
   "outputs": [],
   "source": [
    "dfwt = pd.DataFrame(data = cluswtall)"
   ]
  },
  {
   "cell_type": "code",
   "execution_count": null,
   "metadata": {},
   "outputs": [],
   "source": [
    "plt.figure(figsize = (20,6))\n",
    "my_pal1 = {\"WT_early\": \"lightcoral\"}\n",
    "my_pal2 = {\"WT_constrained\":\"firebrick\"}\n",
    "my_pal3 = { \"Cluster0\":\"darkred\"}\n",
    "# sns.swarmplot(x=\"value\", y=\"variable\", data=pd.melt(cluswtall3), zorder=2, color = 'indianred', alpha = 0.8)\n",
    "sns.swarmplot(x=\"value\", y=\"variable\", data=pd.melt(cluswtall1), zorder=1, palette=my_pal1)\n",
    "sns.swarmplot(x=\"value\", y=\"variable\", data=pd.melt(cluswtall2), zorder=1, palette=my_pal2)\n",
    "sns.swarmplot(x=\"value\", y=\"variable\", data=pd.melt(cluswtall3), zorder=1, palette=my_pal3)\n",
    "plt.axvline(x=577, color = 'black', linestyle = '--', lw = 3)\n",
    "plt.axvline(x=707, color = 'black', linestyle = '--', lw = 3)\n",
    "plt.axvline(x=500, color = 'black', linestyle = '--', lw = 3)\n",
    "plt.xlabel(\"Time (minutes)\",fontsize=17)\n",
    "plt.ylabel(\"Cluster 0\",fontsize=17)\n",
    "plt.tick_params(labelsize=17)\n",
    "plt.xlim(xmax = 1800, xmin = 0)\n",
    "# plt.savefig('figs/pmlkl_100tnf_allcluswkos_swarm_5720modnew.pdf')\n",
    "# plt.savefig('figs/Cluster0/pmlkl_100tnf_clus0box_wswarm_5720newhalfmax_splitscolors.pdf')\n",
    "plt.show()"
   ]
  },
  {
   "cell_type": "code",
   "execution_count": null,
   "metadata": {},
   "outputs": [],
   "source": [
    "plt.figure(figsize = (20,6))\n",
    "my_pal1 = {\"WT_early\": \"lightcoral\"}\n",
    "my_pal2 = {\"WT_constrained\":\"firebrick\"}\n",
    "my_pal3 = { \"Cluster3\":\"darkred\"}\n",
    "sns.swarmplot(x=\"value\", y=\"variable\", data=pd.melt(cluswtall3), zorder=2, color = 'indianred', alpha = 0.8)\n",
    "plt.axvline(x=587, color = 'black', linestyle = '--', lw = 3)\n",
    "plt.axvline(x=746, color = 'black', linestyle = '--', lw = 3)\n",
    "plt.xlabel(\"Time (minutes)\",fontsize=17)\n",
    "plt.ylabel(\"Cluster 3\",fontsize=17)\n",
    "plt.tick_params(labelsize=17)\n",
    "plt.xlim(xmax = 800, xmin = 500)\n",
    "# plt.savefig('figs/pmlkl_100tnf_allcluswkos_swarm_5720modnew.pdf')\n",
    "# plt.savefig('figs/Cluster3/pmlkl_100tnf_clus3box_wswarm_5720newhalfmax_WTsplits.pdf')\n",
    "plt.show()"
   ]
  },
  {
   "cell_type": "code",
   "execution_count": null,
   "metadata": {},
   "outputs": [],
   "source": [
    "plt.figure(figsize = (20,6))\n",
    "my_pal1 = {\"WT_early\": \"lightcoral\"}\n",
    "my_pal2 = {\"WT_constrained\":\"firebrick\"}\n",
    "my_pal3 = { \"Cluster3\":\"darkred\"}\n",
    "sns.swarmplot(x=\"value\", y=\"variable\", data=pd.melt(cluswtall3), zorder=2, color = 'indianred', alpha = 0.8)\n",
    "plt.axvline(x=587, color = 'black', linestyle = '--', lw = 3)\n",
    "plt.axvline(x=746, color = 'black', linestyle = '--', lw = 3)\n",
    "plt.xlabel(\"Time (minutes)\",fontsize=17)\n",
    "plt.ylabel(\"Cluster 3\",fontsize=17)\n",
    "plt.tick_params(labelsize=17)\n",
    "plt.xlim(xmax = 800, xmin = 500)\n",
    "# plt.savefig('figs/pmlkl_100tnf_allcluswkos_swarm_5720modnew.pdf')\n",
    "# plt.savefig('figs/Cluster3/pmlkl_100tnf_clus3box_wswarm_5720newhalfmax_WTsplits.pdf')\n",
    "plt.show()"
   ]
  },
  {
   "cell_type": "code",
   "execution_count": null,
   "metadata": {},
   "outputs": [],
   "source": [
    "plt.figure(figsize = (20,6))\n",
    "my_pal1 = {\"WT_early\": \"lightskyblue\"}\n",
    "my_pal2 = {\"WT_constrained\":\"royalblue\"}\n",
    "my_pal3 = { \"Cluster3\":\"navy\"}\n",
    "# sns.swarmplot(x=\"value\", y=\"variable\", data=pd.melt(cluswtall3), zorder=1, color = 'purple', alpha = 0.8)\n",
    "# sns.swarmplot(x=\"value\", y=\"variable\", data=pd.melt(cluswtall3), zorder=2, color = 'indianred', alpha = 0.8)\n",
    "sns.swarmplot(x=\"value\", y=\"variable\", data=pd.melt(cluswtall31), zorder=2, palette=my_pal1)\n",
    "sns.swarmplot(x=\"value\", y=\"variable\", data=pd.melt(cluswtall32), zorder=2, palette=my_pal2)\n",
    "sns.swarmplot(x=\"value\", y=\"variable\", data=pd.melt(cluswtall33), zorder=2, palette=my_pal3)\n",
    "plt.axvline(x=602, color = 'black', linestyle = '--', lw = 3)\n",
    "plt.axvline(x=732, color = 'black', linestyle = '--', lw = 3)\n",
    "plt.xlabel(\"Time (minutes)\",fontsize=17)\n",
    "plt.ylabel(\"Cluster 3\",fontsize=17)\n",
    "plt.tick_params(labelsize=17)\n",
    "plt.xlim(xmax = 1800, xmin = 0)\n",
    "# plt.savefig('figs/pmlkl_100tnf_allcluswkos_swarm_5720modnew.pdf')\n",
    "# plt.savefig('figs/Cluster3/pmlkl_100tnf_clus3box_wswarm_5720newhalfmax_splitscolors.pdf')\n",
    "plt.show()"
   ]
  },
  {
   "cell_type": "code",
   "execution_count": null,
   "metadata": {},
   "outputs": [],
   "source": [
    "plt.figure(figsize = (20,6))\n",
    "my_pal1 = {\"WT_early\": \"lightcoral\"}\n",
    "my_pal2 = {\"WT_constrained\":\"cyan\"}\n",
    "my_pal3 = { \"Cluster3\":\"darkred\"}\n",
    "sns.swarmplot(x=\"value\", y=\"variable\", data=pd.melt(cluswtall3), zorder=1, color = 'lightskyblue')\n",
    "# sns.swarmplot(x=\"value\", y=\"variable\", data=pd.melt(cluswtall3), zorder=2, color = 'indianred', alpha = 0.8)\n",
    "# sns.boxplot(x=\"value\", y=\"variable\", data=pd.melt(cluswtall31), zorder=2, palette=my_pal1)\n",
    "# sns.boxplot(x=\"value\", y=\"variable\", data=pd.melt(cluswtall32), zorder=2, palette=my_pal2)\n",
    "# sns.boxplot(x=\"value\", y=\"variable\", data=pd.melt(cluswtall33), zorder=2, palette=my_pal3)\n",
    "plt.axvline(x=602, color = 'black', linestyle = '--', lw = 3)\n",
    "plt.axvline(x=732, color = 'black', linestyle = '--', lw = 3)\n",
    "plt.xlabel(\"Time (minutes)\",fontsize=17)\n",
    "plt.ylabel(\"Cluster 3\",fontsize=17)\n",
    "plt.tick_params(labelsize=17)\n",
    "plt.xlim(xmax = 1800, xmin = 0)\n",
    "# plt.savefig('figs/pmlkl_100tnf_allcluswkos_swarm_5720modnew.pdf')\n",
    "plt.savefig('figs/Cluster3/pmlkl_100tnf_clus3box_wswarm_5720newhalfmax_WTsplitscolors602732_updatedblues.pdf')\n",
    "plt.show()"
   ]
  },
  {
   "cell_type": "code",
   "execution_count": null,
   "metadata": {},
   "outputs": [],
   "source": [
    "plt.figure(figsize = (20,6))\n",
    "my_pal1 = {\"WT_early\": \"lightskyblue\"}\n",
    "my_pal2 = {\"WT_constrained\":\"royalblue\"}\n",
    "my_pal3 = { \"Cluster3\":\"navy\"}\n",
    "# sns.swarmplot(x=\"value\", y=\"variable\", data=pd.melt(cluswtall3), zorder=1, color = 'purple', alpha = 0.8)\n",
    "# sns.swarmplot(x=\"value\", y=\"variable\", data=pd.melt(cluswtall3), zorder=2, color = 'indianred', alpha = 0.8)\n",
    "sns.swarmplot(x=\"value\", y=\"variable\", data=pd.melt(cluswtall31s), zorder=2, palette=my_pal1)\n",
    "sns.swarmplot(x=\"value\", y=\"variable\", data=pd.melt(cluswtall32s), zorder=2, palette=my_pal2)\n",
    "sns.swarmplot(x=\"value\", y=\"variable\", data=pd.melt(cluswtall33s), zorder=2, palette=my_pal3)\n",
    "plt.axvline(x=602, color = 'black', linestyle = '--', lw = 3)\n",
    "plt.axvline(x=732, color = 'black', linestyle = '--', lw = 3)\n",
    "plt.xlabel(\"Time (minutes)\",fontsize=17)\n",
    "plt.xticks(fontsize = 17)\n",
    "# plt.ylabel(\"Cluster 3\",fontsize=17)\n",
    "plt.tick_params(labelsize=17)\n",
    "plt.xlim(xmax = 1800, xmin = 0)\n",
    "# plt.savefig('figs/pmlkl_100tnf_allcluswkos_swarm_5720modnew.pdf')\n",
    "plt.savefig('figs/Cluster3/pmlkl_100tnf_clus3box_wswarm_5720newhalfmax_splitscolors602732_updatedblues.pdf')\n",
    "plt.show()"
   ]
  },
  {
   "cell_type": "code",
   "execution_count": null,
   "metadata": {},
   "outputs": [],
   "source": [
    "plt.figure(figsize = (15,5))\n",
    "my_pal1 = {\"WT_early\": \"lightcoral\"}\n",
    "my_pal2 = {\"WT_constrained\":\"firebrick\"}\n",
    "my_pal3 = { \"WT_delay\":\"darkred\"}\n",
    "# b=sns.swarmplot(x=\"value\", y=\"variable\", data=pd.melt(cluswtall1), zorder=3, palette=my_pal1, alpha = 0.6)\n",
    "# b=sns.swarmplot(x=\"value\", y=\"variable\", data=pd.melt(cluswtall2), zorder=3, palette=my_pal2, alpha = 0.6)\n",
    "# b=sns.swarmplot(x=\"value\", y=\"variable\", data=pd.melt(cluswtall3), zorder=3, palette=my_pal3, alpha = 0.6)\n",
    "# b2=sns.boxenplot(x=\"value\", y=\"variable\", data=pd.melt(cluswtall1), zorder=3, palette=my_pal1)\n",
    "# b2=sns.boxenplot(x=\"value\", y=\"variable\", data=pd.melt(cluswtall2), zorder=3, palette=my_pal2)\n",
    "# b2=sns.boxenplot(x=\"value\", y=\"variable\", data=pd.melt(cluswtall3), zorder=3, palette=my_pal3)\n",
    "sns.stripplot(x=\"value\", y=\"variable\", data=pd.melt(cluswtall1), zorder=3, palette=my_pal1)\n",
    "sns.stripplot(x=\"value\", y=\"variable\", data=pd.melt(cluswtall2), zorder=3, palette=my_pal2)\n",
    "sns.stripplot(x=\"value\", y=\"variable\", data=pd.melt(cluswtall3), zorder=3, palette=my_pal3)\n",
    "# sns.stripplot(x=\"value\", y=\"variable\", data=pd.melt(cluswtall1), zorder=3, color = 'dimgrey')\n",
    "# sns.stripplot(x=\"value\", y=\"variable\", data=pd.melt(cluswtall2), zorder=3, color = 'dimgrey')\n",
    "# sns.stripplot(x=\"value\", y=\"variable\", data=pd.melt(cluswtall3), zorder=3, color = 'dimgrey')\n",
    "# b2=sns.violinplot(x=\"value\", y=\"variable\", data=pd.melt(cluswtall1), zorder=2, palette=my_pal1)\n",
    "# b2=sns.violinplot(x=\"value\", y=\"variable\", data=pd.melt(cluswtall2), zorder=2, palette=my_pal2)\n",
    "# b2=sns.violinplot(x=\"value\", y=\"variable\", data=pd.melt(cluswtall3), zorder=2, palette=my_pal3)\n",
    "# plt.set_xlabel(\"Time (minutes)\",fontsize=15)\n",
    "# plt.set_ylabel(\"All Clusters\",fontsize=15)\n",
    "plt.tick_params(labelsize=15)\n",
    "plt.xlim(xmax = 1500, xmin = 200)\n",
    "# plt.savefig('figs/pmlkl_100tnf_allcluswkos_swarm_5720modnew.pdf')\n",
    "# plt.savefig('figs/Cluster0/pmlkl_100tnf_clus0box_wswarm_5720newhalfmax_splits.pdf')\n",
    "plt.show()"
   ]
  },
  {
   "cell_type": "code",
   "execution_count": null,
   "metadata": {},
   "outputs": [],
   "source": [
    "plt.figure(figsize = (15,10))\n",
    "my_pal3 = {\"WT0\": \"indianred\", \"WT_early\": \"lightcoral\", \"WT_constrained\":\"firebrick\", \"WT_delay\":\"darkred\"}\n",
    "sns.violinplot(x=\"value\", y=\"variable\", data=pd.melt(dfwt), zorder=3, palette=my_pal3, alpha = 0.2)\n",
    "sns.stripplot(x=\"value\", y=\"variable\", data=pd.melt(dfwt), color = 'black')\n",
    "# plt.set_xlabel(\"Time (minutes)\",fontsize=15)\n",
    "# plt.set_ylabel(\"All Clusters\",fontsize=15)\n",
    "plt.tick_params(labelsize=15)\n",
    "plt.xlim(xmax = 1800, xmin = 0)\n",
    "# plt.savefig('figs/pmlkl_100tnf_allcluswkos_swarm_5720modnew.pdf')\n",
    "# plt.savefig('figs/Cluster0/pmlkl_100tnf_clus0box_wswarm_5720newhalfmax_splits.pdf')\n",
    "plt.show()"
   ]
  },
  {
   "cell_type": "code",
   "execution_count": null,
   "metadata": {},
   "outputs": [],
   "source": [
    "plt.figure()\n",
    "dfwt.boxplot(patch_artist=True, fontsize = 14)"
   ]
  },
  {
   "cell_type": "code",
   "execution_count": null,
   "metadata": {},
   "outputs": [],
   "source": []
  },
  {
   "cell_type": "code",
   "execution_count": null,
   "metadata": {},
   "outputs": [],
   "source": []
  },
  {
   "cell_type": "code",
   "execution_count": null,
   "metadata": {},
   "outputs": [],
   "source": [
    "df_threshtimesc3100wt0 = c3df100wt.groupby('simulation').apply(lambda x: (x > threshold2).idxmax()).apply(lambda x: [y[1] for y in x])\n",
    "df_threshtimesc3100wt1 = c3df100wt1.groupby('simulation').apply(lambda x: (x > threshold2).idxmax()).apply(lambda x: [y[1] for y in x])\n",
    "df_threshtimesc3100wt2 = c3df100wt2.groupby('simulation').apply(lambda x: (x > threshold2).idxmax()).apply(lambda x: [y[1] for y in x])\n",
    "df_threshtimesc3100wt3 = c3df100wt3.groupby('simulation').apply(lambda x: (x > threshold2).idxmax()).apply(lambda x: [y[1] for y in x])"
   ]
  },
  {
   "cell_type": "code",
   "execution_count": null,
   "metadata": {},
   "outputs": [],
   "source": [
    "cluswtall31 = pd.DataFrame({'WT_early': df_threshtimesc3100wt1['MLKLa_obs']})"
   ]
  },
  {
   "cell_type": "code",
   "execution_count": null,
   "metadata": {},
   "outputs": [],
   "source": [
    "cluswtall32 = pd.DataFrame({'WT_constrained': df_threshtimesc3100wt2['MLKLa_obs']})"
   ]
  },
  {
   "cell_type": "code",
   "execution_count": null,
   "metadata": {},
   "outputs": [],
   "source": [
    "cluswtall33 = pd.DataFrame({'WT_delay': df_threshtimesc3100wt3['MLKLa_obs']})"
   ]
  },
  {
   "cell_type": "code",
   "execution_count": null,
   "metadata": {},
   "outputs": [],
   "source": [
    "clusall = pd.DataFrame({'wt3': df_threshtimesc3100wt['MLKLa_obs']})"
   ]
  },
  {
   "cell_type": "code",
   "execution_count": null,
   "metadata": {},
   "outputs": [],
   "source": [
    "dfwt = pd.DataFrame(data = cluswtall, columns = ['WT_early','WT_constrained','WT_delay'])"
   ]
  },
  {
   "cell_type": "code",
   "execution_count": null,
   "metadata": {},
   "outputs": [],
   "source": [
    "dfwt0 = pd.DataFrame(data = clusall, columns = ['wt3'])"
   ]
  },
  {
   "cell_type": "code",
   "execution_count": null,
   "metadata": {},
   "outputs": [],
   "source": [
    "plt.figure(figsize = (15,10))\n",
    "my_pal0 = {\"wt3\": \"indianred\"}\n",
    "my_pal1 = {\"WT_early\": \"lightcoral\"}\n",
    "my_pal2 = {\"WT_constrained\":\"firebrick\"}\n",
    "my_pal3 = { \"WT_delay\":\"darkred\"}\n",
    "b=sns.boxenplot(x=\"value\", y=\"variable\", data=pd.melt(cluswtall31), zorder=3, palette=my_pal1)\n",
    "b=sns.boxenplot(x=\"value\", y=\"variable\", data=pd.melt(cluswtall32), zorder=3, palette=my_pal2)\n",
    "b=sns.boxenplot(x=\"value\", y=\"variable\", data=pd.melt(cluswtall33), zorder=3, palette=my_pal3)\n",
    "# plt.set_xlabel(\"Time (minutes)\",fontsize=15)\n",
    "# plt.set_ylabel(\"All Clusters\",fontsize=15)\n",
    "plt.tick_params(labelsize=15)\n",
    "plt.xlim(xmax = 1800, xmin = 0)\n",
    "# plt.savefig('figs/pmlkl_100tnf_allcluswkos_swarm_5720modnew.pdf')\n",
    "# plt.savefig('figs/Cluster0/pmlkl_100tnf_clus0box_wswarm_5720newhalfmax_splits.pdf')\n",
    "plt.show()"
   ]
  },
  {
   "cell_type": "code",
   "execution_count": null,
   "metadata": {},
   "outputs": [],
   "source": [
    "plt.figure(figsize = (15,10))\n",
    "my_pal0 = {\"wt3\": \"indianred\"}\n",
    "my_pal1 = {\"WT_early\": \"lightcoral\"}\n",
    "my_pal2 = {\"WT_constrained\":\"firebrick\"}\n",
    "my_pal3 = { \"WT_delay\":\"darkred\"}\n",
    "b= sns.boxenplot(x=\"value\", y=\"variable\", data=pd.melt(clusall), zorder=3, palette=my_pal0)\n",
    "# plt.set_xlabel(\"Time (minutes)\",fontsize=15)\n",
    "# plt.set_ylabel(\"All Clusters\",fontsize=15)\n",
    "plt.tick_params(labelsize=15)\n",
    "plt.xlim(xmax = 1800, xmin = 0)\n",
    "# plt.savefig('figs/pmlkl_100tnf_allcluswkos_swarm_5720modnew.pdf')\n",
    "# plt.savefig('figs/Cluster0/pmlkl_100tnf_clus0box_wswarm_5720newhalfmax_splits.pdf')\n",
    "plt.show()"
   ]
  },
  {
   "cell_type": "code",
   "execution_count": null,
   "metadata": {},
   "outputs": [],
   "source": [
    "plt.figure(figsize = (15,5))\n",
    "my_pal1 = {\"WT_early\": \"lightcoral\"}\n",
    "my_pal2 = {\"WT_constrained\":\"firebrick\"}\n",
    "my_pal3 = { \"WT_delay\":\"darkred\"}\n",
    "b=sns.swarmplot(x=\"value\", y=\"variable\", data=pd.melt(cluswtall1), zorder=3, palette=my_pal1, alpha = 0.6)\n",
    "b=sns.swarmplot(x=\"value\", y=\"variable\", data=pd.melt(cluswtall2), zorder=3, palette=my_pal2, alpha = 0.6)\n",
    "b=sns.swarmplot(x=\"value\", y=\"variable\", data=pd.melt(cluswtall3), zorder=3, palette=my_pal3, alpha = 0.6)\n",
    "b2=sns.boxenplot(x=\"value\", y=\"variable\", data=pd.melt(cluswtall1), zorder=3, palette=my_pal1)\n",
    "b2=sns.boxenplot(x=\"value\", y=\"variable\", data=pd.melt(cluswtall2), zorder=3, palette=my_pal2)\n",
    "b2=sns.boxenplot(x=\"value\", y=\"variable\", data=pd.melt(cluswtall3), zorder=3, palette=my_pal3)\n",
    "# b2=sns.violinplot(x=\"value\", y=\"variable\", data=pd.melt(cluswtall1), zorder=2, palette=my_pal1)\n",
    "# b2=sns.violinplot(x=\"value\", y=\"variable\", data=pd.melt(cluswtall2), zorder=2, palette=my_pal2)\n",
    "# b2=sns.violinplot(x=\"value\", y=\"variable\", data=pd.melt(cluswtall3), zorder=2, palette=my_pal3)\n",
    "# plt.set_xlabel(\"Time (minutes)\",fontsize=15)\n",
    "# plt.set_ylabel(\"All Clusters\",fontsize=15)\n",
    "plt.tick_params(labelsize=15)\n",
    "plt.xlim(xmax = 1500, xmin = 200)\n",
    "# plt.savefig('figs/pmlkl_100tnf_allcluswkos_swarm_5720modnew.pdf')\n",
    "# plt.savefig('figs/Cluster0/pmlkl_100tnf_clus0box_wswarm_5720newhalfmax_splits.pdf')\n",
    "plt.show()"
   ]
  },
  {
   "cell_type": "code",
   "execution_count": null,
   "metadata": {},
   "outputs": [],
   "source": [
    "plt.figure(figsize = (15,10))\n",
    "my_pal3 = {\"WT0\": \"indianred\", \"WT_early\": \"lightcoral\", \"WT_constrained\":\"firebrick\", \"WT_delay\":\"darkred\"}\n",
    "sns.violinplot(x=\"value\", y=\"variable\", data=pd.melt(dfwt), zorder=3, palette=my_pal3)\n",
    "# plt.set_xlabel(\"Time (minutes)\",fontsize=15)\n",
    "# plt.set_ylabel(\"All Clusters\",fontsize=15)\n",
    "plt.tick_params(labelsize=15)\n",
    "plt.xlim(xmax = 1800, xmin = 0)\n",
    "# plt.savefig('figs/pmlkl_100tnf_allcluswkos_swarm_5720modnew.pdf')\n",
    "# plt.savefig('figs/Cluster0/pmlkl_100tnf_clus0box_wswarm_5720newhalfmax_splits.pdf')\n",
    "plt.show()"
   ]
  },
  {
   "cell_type": "code",
   "execution_count": null,
   "metadata": {},
   "outputs": [],
   "source": []
  },
  {
   "cell_type": "code",
   "execution_count": null,
   "metadata": {},
   "outputs": [],
   "source": []
  }
 ],
 "metadata": {
  "kernelspec": {
   "display_name": "Python 3",
   "language": "python",
   "name": "python3"
  },
  "language_info": {
   "codemirror_mode": {
    "name": "ipython",
    "version": 3
   },
   "file_extension": ".py",
   "mimetype": "text/x-python",
   "name": "python",
   "nbconvert_exporter": "python",
   "pygments_lexer": "ipython3",
   "version": "3.7.5"
  }
 },
 "nbformat": 4,
 "nbformat_minor": 2
}
