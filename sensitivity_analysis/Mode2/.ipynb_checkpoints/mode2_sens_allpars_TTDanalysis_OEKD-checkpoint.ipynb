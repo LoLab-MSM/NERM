{
 "cells": [
  {
   "cell_type": "code",
   "execution_count": null,
   "metadata": {},
   "outputs": [],
   "source": [
    "import os\n",
    "from pylab import *\n",
    "from pysb.core import *\n",
    "from pysb.bng import *\n",
    "from pysb.integrate import *\n",
    "import matplotlib.pyplot as plt\n",
    "import numpy as np\n",
    "from pysb.util import alias_model_components\n",
    "from pysb.simulator import CupSodaSimulator\n",
    "from pysb.simulator import ScipyOdeSimulator\n",
    "from pysb.simulator.bng import BngSimulator\n",
    "import sys\n",
    "sys.path.append('../')\n",
    "sys.path.append('../../../')\n",
    "sys.path.append('/home/ildefog/main/Projects/NERM/')\n",
    "sys.path.append('/home/ildefog/main/Projects/NERM/params_testing/')\n",
    "from model_files.nerm_pvals import model \n",
    "import pandas as pd\n",
    "from scipy import stats\n",
    "from pysb.simulator import SimulationResult\n",
    "import logging\n",
    "import os\n",
    "from pysb.logging import setup_logger\n",
    "from pysb.simulator.cupsoda import CupSodaSimulator\n",
    "from pysb.simulator.scipyode import ScipyOdeSimulator\n",
    "from sensitivity_analysis4 import InitialsSensitivity\n",
    "from pysb.util import update_param_vals\n",
    "from scipy.stats import norm,uniform, halfnorm\n",
    "from pysb.tools.sensitivity_analysis import PairwiseSensitivity\n",
    "os.environ['OMP_NUM_THREADS'] = '1'\n",
    "from scipy.optimize import curve_fit"
   ]
  },
  {
   "cell_type": "code",
   "execution_count": null,
   "metadata": {},
   "outputs": [],
   "source": [
    "m2 = np.load('../../params_testing/necro_pars10k_mode2_5720_mod.npy')"
   ]
  },
  {
   "cell_type": "code",
   "execution_count": null,
   "metadata": {},
   "outputs": [],
   "source": [
    "m1 = np.load('../../params_testing/necro_pars10k_mode1_5720_modcylda20.npy')\n",
    "m2 = np.load('../../params_testing/necro_pars10k_mode2_5720_modcylda20.npy')\n",
    "m3 = np.load('../../params_testing/necro_pars10k_mode3_5720_modcylda20.npy')\n",
    "m4 = np.load('../../params_testing/necro_pars10k_mode4_5720_modcylda20.npy')"
   ]
  },
  {
   "cell_type": "code",
   "execution_count": null,
   "metadata": {},
   "outputs": [],
   "source": [
    "t = np.linspace(0,1800,500)\n",
    "m = model.components\n",
    "print(list(model.initial_conditions))"
   ]
  },
  {
   "cell_type": "code",
   "execution_count": null,
   "metadata": {},
   "outputs": [],
   "source": [
    "solverwtm2 = ScipyOdeSimulator(model, tspan=t, verbose = True)\n",
    "mode1wtm2  = solverwtm2.run(param_values=m2, num_processors = 20)\n",
    "mode1df_wtm2 = mode1wtm2.dataframe"
   ]
  },
  {
   "cell_type": "code",
   "execution_count": null,
   "metadata": {},
   "outputs": [],
   "source": [
    "plt.figure()\n",
    "for n in range(len(m2)):\n",
    "    plt.plot(t/60, mode1df_wtm2.loc[n]['MLKLa_obs'].iloc[:]/5544)\n",
    "plt.show()"
   ]
  },
  {
   "cell_type": "code",
   "execution_count": null,
   "metadata": {},
   "outputs": [],
   "source": [
    "thresh = 2772\n",
    "ttdm2wt = []\n",
    "for j in range(len(m2)):\n",
    "    i_range = range(len(mode1df_wtm2.loc[j]['MLKLa_obs']))\n",
    "    for i in i_range:\n",
    "        if mode1df_wtm2.loc[j]['MLKLa_obs'].iloc[i] > thresh:\n",
    "            ttdm2wt.append(mode1df_wtm2.loc[j].index[i])\n",
    "            break\n",
    "        if i == i_range[-1]:\n",
    "            ttdm2wt.append(np.inf)\n",
    "for i in range(len(ttdm2wt)):\n",
    "    if ttdm2wt[i] == np.inf:\n",
    "        ttdm2wt[i] = 2100               "
   ]
  },
  {
   "cell_type": "code",
   "execution_count": null,
   "metadata": {},
   "outputs": [],
   "source": [
    "mode1wtm2.save('mode2_allparsinit_sens_wtpmlkl.h5', include_obs_exprs=True)\n",
    "np.array(ttdm2wt).dump(open('mode32allpars_wtpmlkl_ttds.npy', 'wb'))"
   ]
  },
  {
   "cell_type": "code",
   "execution_count": null,
   "metadata": {},
   "outputs": [],
   "source": [
    "solverkdm2lubac = ScipyOdeSimulator(model, tspan=t, verbose = True)\n",
    "mode1kdm2lubac   = solverkdm2lubac.run(initials = {m.LUBAC(brip=None):1445},\n",
    "                                        param_values=m2, num_processors = 20)\n",
    "mode1df_kdm2lubac  = mode1kdm2lubac.dataframe"
   ]
  },
  {
   "cell_type": "code",
   "execution_count": null,
   "metadata": {},
   "outputs": [],
   "source": [
    "thresh = 2772\n",
    "ttdm2lubkd = []\n",
    "for j in range(len(m2)):\n",
    "    i_range = range(len(mode1df_kdm2lubac.loc[j]['MLKLa_obs']))\n",
    "    for i in i_range:\n",
    "        if mode1df_kdm2lubac.loc[j]['MLKLa_obs'].iloc[i] > thresh:\n",
    "            ttdm2lubkd.append(mode1df_kdm2lubac.loc[j].index[i])\n",
    "            break\n",
    "        if i == i_range[-1]:\n",
    "            ttdm2lubkd.append(np.inf)\n",
    "for i in range(len(ttdm2lubkd)):\n",
    "    if ttdm2lubkd[i] == np.inf:\n",
    "        ttdm2lubkd[i] = 2100              "
   ]
  },
  {
   "cell_type": "code",
   "execution_count": null,
   "metadata": {},
   "outputs": [],
   "source": [
    "mode1kdm2lubac.save('mode2_allparsinit_sens_lubackd.h5', include_obs_exprs=True)\n",
    "np.array(ttdm2lubkd).dump(open('mode2_allpars_lubackd_ttds.npy', 'wb'))"
   ]
  },
  {
   "cell_type": "code",
   "execution_count": null,
   "metadata": {},
   "outputs": [],
   "source": [
    "solveroem2lubac = ScipyOdeSimulator(model, tspan=t, verbose = True)\n",
    "mode1oem2lubac  = solveroem2lubac.run(initials = {m.LUBAC(brip=None):72260},\n",
    "                                        param_values=m2, num_processors = 20)\n",
    "mode1df_oem2lubac = mode1oem2lubac.dataframe"
   ]
  },
  {
   "cell_type": "code",
   "execution_count": null,
   "metadata": {},
   "outputs": [],
   "source": [
    "thresh = 2772\n",
    "ttdm2luboe2 = []\n",
    "for j in range(len(m2)):\n",
    "    i_range = range(len(mode1df_oem2lubac.loc[j]['MLKLa_obs']))\n",
    "    for i in i_range:\n",
    "        if mode1df_oem2lubac.loc[j]['MLKLa_obs'].iloc[i] > thresh:\n",
    "            ttdm2luboe2.append(mode1df_oem2lubac.loc[j].index[i])\n",
    "            break\n",
    "        if i == i_range[-1]:\n",
    "            ttdm2luboe2.append(np.inf)\n",
    "for i in range(len(ttdm2luboe2)):\n",
    "    if ttdm2luboe2[i] == np.inf:\n",
    "        ttdm2luboe2[i] = 2100               "
   ]
  },
  {
   "cell_type": "code",
   "execution_count": null,
   "metadata": {},
   "outputs": [],
   "source": [
    "mode1oem2lubac.save('mode2_allparsinit_sens_lubacoe.h5', include_obs_exprs=True)\n",
    "np.array(ttdm2luboe2).dump(open('mode2_allpars_lubacoe_ttds.npy', 'wb'))"
   ]
  },
  {
   "cell_type": "code",
   "execution_count": null,
   "metadata": {},
   "outputs": [],
   "source": [
    "solverkdm2a20 = ScipyOdeSimulator(model, tspan=t, verbose = True)\n",
    "mode1kdm2a20   = solverkdm2a20.run(initials = {m.A20(brip=None):2772},\n",
    "                                        param_values=m2, num_processors = 20)\n",
    "mode1df_kdm2a20  = mode1kdm2a20.dataframe"
   ]
  },
  {
   "cell_type": "code",
   "execution_count": null,
   "metadata": {},
   "outputs": [],
   "source": [
    "thresh = 2772\n",
    "ttdm2a20kd = []\n",
    "for j in range(len(m2)):\n",
    "    i_range = range(len(mode1df_kdm2a20.loc[j]['MLKLa_obs']))\n",
    "    for i in i_range:\n",
    "        if mode1df_kdm2a20.loc[j]['MLKLa_obs'].iloc[i] > thresh:\n",
    "            ttdm2a20kd.append(mode1df_kdm2a20.loc[j].index[i])\n",
    "            break\n",
    "        if i == i_range[-1]:\n",
    "            ttdm2a20kd.append(np.inf)\n",
    "for i in range(len(ttdm2a20kd)):\n",
    "    if ttdm2a20kd[i] == np.inf:\n",
    "        ttdm2a20kd[i] = 2100               "
   ]
  },
  {
   "cell_type": "code",
   "execution_count": null,
   "metadata": {},
   "outputs": [],
   "source": [
    "mode1kdm2a20.save('mode2_allparsinit_sens_a20kd.h5', include_obs_exprs=True)\n",
    "np.array(ttdm2a20kd).dump(open('mode2_allpars_a20kd_ttds.npy', 'wb'))"
   ]
  },
  {
   "cell_type": "code",
   "execution_count": null,
   "metadata": {},
   "outputs": [],
   "source": [
    "solveroem2a20 = ScipyOdeSimulator(model, tspan=t, verbose = True)\n",
    "mode1oem2a20  = solveroem2a20.run(initials = {m.A20(brip=None):90750},\n",
    "                                        param_values=m2, num_processors = 20)\n",
    "mode1df_oem2a20 = mode1oem2a20.dataframe"
   ]
  },
  {
   "cell_type": "code",
   "execution_count": null,
   "metadata": {},
   "outputs": [],
   "source": [
    "thresh = 2772\n",
    "ttdm2a20oe = []\n",
    "for j in range(len(m2)):\n",
    "    i_range = range(len(mode1df_oem2a20.loc[j]['MLKLa_obs']))\n",
    "    for i in i_range:\n",
    "        if mode1df_oem2a20.loc[j]['MLKLa_obs'].iloc[i] > thresh:\n",
    "            ttdm2a20oe.append(mode1df_oem2a20.loc[j].index[i])\n",
    "            break\n",
    "        if i == i_range[-1]:\n",
    "            ttdm2a20oe.append(np.inf)\n",
    "for i in range(len(ttdm2a20oe)):\n",
    "    if ttdm2a20oe[i] == np.inf:\n",
    "        ttdm2a20oe[i] = 2100               "
   ]
  },
  {
   "cell_type": "code",
   "execution_count": null,
   "metadata": {},
   "outputs": [],
   "source": [
    "mode1oem2a20.save('mode2_allparsinit_sens_a20oe.h5', include_obs_exprs=True)\n",
    "np.array(ttdm2a20oe).dump(open('mode2_allpars_a20oe_ttds.npy', 'wb'))"
   ]
  },
  {
   "cell_type": "code",
   "execution_count": null,
   "metadata": {},
   "outputs": [],
   "source": [
    "solverkdm2cyld = ScipyOdeSimulator(model, tspan=t, verbose = True)\n",
    "mode1kdm2cyld   = solverkdm2cyld.run(initials = {m.CYLD(brip=None, btraf=None):2772},\n",
    "                                        param_values=m2, num_processors = 20)\n",
    "mode1df_kdm2cyld  = mode1kdm2cyld.dataframe"
   ]
  },
  {
   "cell_type": "code",
   "execution_count": null,
   "metadata": {},
   "outputs": [],
   "source": [
    "thresh = 2772\n",
    "ttdm2cyldkd = []\n",
    "for j in range(len(m2)):\n",
    "    i_range = range(len(mode1df_kdm2cyld.loc[j]['MLKLa_obs']))\n",
    "    for i in i_range:\n",
    "        if mode1df_kdm2cyld.loc[j]['MLKLa_obs'].iloc[i] > thresh:\n",
    "            ttdm2cyldkd.append(mode1df_kdm2cyld.loc[j].index[i])\n",
    "            break\n",
    "        if i == i_range[-1]:\n",
    "            ttdm2cyldkd.append(np.inf)\n",
    "for i in range(len(ttdm2cyldkd)):\n",
    "    if ttdm2cyldkd[i] == np.inf:\n",
    "        ttdm2cyldkd[i] = 2100               "
   ]
  },
  {
   "cell_type": "code",
   "execution_count": null,
   "metadata": {},
   "outputs": [],
   "source": [
    "mode1kdm2cyld.save('mode2_allparsinit_sens_cyldkd.h5', include_obs_exprs=True)\n",
    "np.array(ttdm2cyldkd).dump(open('mode2_allpars_cyldkd_ttds.npy', 'wb'))"
   ]
  },
  {
   "cell_type": "code",
   "execution_count": null,
   "metadata": {},
   "outputs": [],
   "source": [
    "solveroem2cyld = ScipyOdeSimulator(model, tspan=t, verbose = True)\n",
    "mode1oem2cyld  = solveroem2cyld.run(initials = {m.CYLD(brip=None, btraf=None):90750},\n",
    "                                        param_values=m2, num_processors = 20)\n",
    "mode1df_oem2cyld = mode1oem2cyld.dataframe"
   ]
  },
  {
   "cell_type": "code",
   "execution_count": null,
   "metadata": {},
   "outputs": [],
   "source": [
    "thresh = 2772\n",
    "ttdm2cyldoe = []\n",
    "for j in range(len(m2)):\n",
    "    i_range = range(len(mode1df_oem2cyld.loc[j]['MLKLa_obs']))\n",
    "    for i in i_range:\n",
    "        if mode1df_oem2cyld.loc[j]['MLKLa_obs'].iloc[i] > thresh:\n",
    "            ttdm2cyldoe.append(mode1df_oem2cyld.loc[j].index[i])\n",
    "            break\n",
    "        if i == i_range[-1]:\n",
    "            ttdm2cyldoe.append(np.inf)\n",
    "for i in range(len(ttdm2cyldoe)):\n",
    "    if ttdm2cyldoe[i] == np.inf:\n",
    "        ttdm2cyldoe[i] = 2100               "
   ]
  },
  {
   "cell_type": "code",
   "execution_count": null,
   "metadata": {},
   "outputs": [],
   "source": [
    "mode1oem2cyld.save('mode2_allparsinit_sens_cyldoe.h5', include_obs_exprs=True)\n",
    "np.array(ttdm2cyldoe).dump(open('mode2_allpars_cyldoe_ttds.npy', 'wb'))"
   ]
  },
  {
   "cell_type": "code",
   "execution_count": null,
   "metadata": {},
   "outputs": [],
   "source": [
    "fig, ax = plt.subplots(figsize = (6, 4))\n",
    "for n in range(len(c2)):\n",
    "    plt.plot(tspan, m3alldf100wt.loc[n]['MLKLa_obs'].iloc[:]/5544, lw=1.5, \n",
    "             zorder = 1, color = 'blue', alpha= 0.4)\n",
    "#     plt.plot(tspan, m1alldf100lubackd.loc[n]['MLKLa_obs'].iloc[:]/5544, lw=1.5, \n",
    "#              zorder = 1, color = 'orange', alpha = 0.25)\n",
    "#     plt.plot(tspan, m1alldf100lubacoe.loc[n]['MLKLa_obs'].iloc[:]/5544, lw=1.5, \n",
    "#              zorder = 1, color = 'green', alpha = 0.25)\n",
    "# colormap = plt.cm.Reds #nipy_spectral, Set1,Paired   \n",
    "# colors = [colormap(i) for i in np.linspace(0, 1,len(ax.lines))]\n",
    "# for i,j in enumerate(ax.lines):\n",
    "#     j.set_color(colors[i])\n",
    "# ax1.legend(loc=2)    \n",
    "plt.xlabel(\"Time (m)\", fontsize=15)\n",
    "plt.ylabel(\"[pMLKL] Normalized\", fontsize=15)\n",
    "plt.xlim(xmin = 0, xmax = 1800)\n",
    "plt.ylim(ymin = 0)\n",
    "plt.xticks(fontsize=10)\n",
    "plt.yticks(fontsize=10)\n",
    "right_side = ax.spines[\"right\"]\n",
    "right_side.set_visible(False)\n",
    "top = ax.spines[\"top\"]\n",
    "top.set_visible(False)\n",
    "ax.grid(False)\n",
    "# ax.set_xticks([0, 5, 10, 15, 20, 24])\n",
    "custom_lines = [Line2D([0], [0], color='blue', lw=4),\n",
    "                Line2D([0], [0], color='orange', lw=4),\n",
    "               Line2D([0], [0], color='green', lw=4)]\n",
    "plt.legend(custom_lines, ['WT', 'LUBACKD', 'LUBACOE'], prop={'size': 10}, loc = 'best')\n",
    "plt.tight_layout()\n",
    "# plt.savefig('mode2_lubackdoe_testingplots_linesmin.pdf')\n",
    "plt.show() "
   ]
  },
  {
   "cell_type": "code",
   "execution_count": null,
   "metadata": {},
   "outputs": [],
   "source": [
    "ttdm2a20kd"
   ]
  },
  {
   "cell_type": "code",
   "execution_count": null,
   "metadata": {},
   "outputs": [],
   "source": [
    "print(len(ttdm2wt))\n",
    "print(len(ttdm2lubkd))\n",
    "print(len(ttdm2luboe2))\n",
    "print(len(ttdm2a20kd))\n",
    "print(len(ttdm2a20oe))\n",
    "print(len(ttdm2cyldoe))\n",
    "print(len(ttdm2cyldkd))"
   ]
  },
  {
   "cell_type": "code",
   "execution_count": null,
   "metadata": {},
   "outputs": [],
   "source": [
    "#['lightcoral', 'lightseagreen', 'mediumpurple', 'peru']\n",
    "mode2wt = pd.DataFrame({'WT': ttdm2wt,\n",
    "                       'species':'wt'})\n",
    "mode2lub = pd.DataFrame({'KD': ttdm2lubkd,\n",
    "                         'OE': ttdm2luboe2,\n",
    "                        'species': 'lubac'})\n",
    "mode2a20 = pd.DataFrame({'KD': ttdm2a20kd,\n",
    "                          'OE': ttdm2a20oe,\n",
    "                        'species': 'a20'})\n",
    "mode2cyld = pd.DataFrame({'KD': ttdm2cyldkd,\n",
    "                          'OE': ttdm2cyldoe,\n",
    "                        'species': 'cyld'})\n",
    "framesm2 = [mode2wt,mode2lub, mode2a20, mode2cyld]\n",
    "# # framesm2 = [mode2wt,mode2dfn, mode2dfn2,mode2dfn3,mode2dfn4,mode2dfn5]\n",
    "# # framesm3 = [mode2wt,mode2dfn, mode2dfn2]\n",
    "# # framesm4 = [mode2wt,mode2dfn]\n",
    "dfmode2 = pd.DataFrame(data = pd.concat(framesm2), columns = ['species','WT','KD','OE'])\n",
    "dfm2 = pd.melt(dfmode2, id_vars=[\"species\"])\n",
    "# dfclus2 = pd.DataFrame(data = pd.concat(framesm2), columns = ['species','KD','WT','OE'])\n",
    "# dfclus3 = pd.DataFrame(data = pd.concat(framesm3), columns = ['species','KD','WT','OE'])\n",
    "# dfclus4 = pd.DataFrame(data = pd.concat(framesm4), columns = ['species','KD','WT','OE'])\n",
    "# dfclus2nn = pd.melt(dfclus2nn)"
   ]
  },
  {
   "cell_type": "code",
   "execution_count": null,
   "metadata": {},
   "outputs": [],
   "source": [
    "import seaborn as sns\n",
    "plt.figure(figsize = (10,7))\n",
    "# sns.stripplot(data=mode2wt, orient = 'h',linewidth=0.5,size=10)\n",
    "sns.stripplot(data=dfm2, orient = 'h',linewidth=0.5,size=10)\n",
    "plt.xlim(xmin = 1)\n",
    "plt.legend(loc = 'lower right')"
   ]
  },
  {
   "cell_type": "code",
   "execution_count": null,
   "metadata": {},
   "outputs": [],
   "source": [
    "plt.figure(figsize = (12,7))\n",
    "b = sns.boxplot(data=dfm2, palette=\"Set3\", orient = 'h') #,showfliers = False, whis = 0)\n",
    "b.set_xlabel(\"Time (m)\",fontsize=15)\n",
    "# b.set_ylabel(\"Mode 1 Degeneracy\",fontsize=15)\n",
    "plt.legend(loc='upper center', bbox_to_anchor=(0.5, 1.05),\n",
    "          ncol=3, fancybox=True, shadow=True)\n",
    "b.tick_params(labelsize=15)\n",
    "plt.xlim(xmax = 2150, xmin = 0)"
   ]
  },
  {
   "cell_type": "code",
   "execution_count": null,
   "metadata": {},
   "outputs": [],
   "source": [
    "# ax = sns.boxplot(x=\"day\", y=\"total_bill\", data=tips)\n",
    "# ax = sns.swarmplot(x=\"day\", y=\"total_bill\", data=tips, color=\".25\")\n",
    "plt.figure(figsize = (12,7))\n",
    "ax = sns.boxplot(data=dfm2, y=\"species\", x=\"value\", hue=\"variable\", palette=\"Set3\") #,showfliers = False, whis = 0)\n",
    "# ax = sns.swarmplot(x=\"value\", y=\"variable\", data=dfm22) #, palette=my_pal)\n",
    "# plt.set_xlabel(\"Time (m)\",fontsize=15)\n",
    "# b.set_ylabel(\"Mode 1 Degeneracy\",fontsize=15)\n",
    "plt.legend(loc='upper center', bbox_to_anchor=(0.5, 1.05),\n",
    "          ncol=3, fancybox=True, shadow=True)\n",
    "# plt.tick_params(labelsize=15)\n",
    "plt.xlim(xmax = 2150, xmin = 0)"
   ]
  },
  {
   "cell_type": "code",
   "execution_count": null,
   "metadata": {},
   "outputs": [],
   "source": [
    "sns.barplot(data=dfm2, y=\"species\", x=\"value\", hue=\"variable\", palette = \"Blues\")"
   ]
  },
  {
   "cell_type": "code",
   "execution_count": null,
   "metadata": {},
   "outputs": [],
   "source": [
    "plt.figure(figsize = (12,7))\n",
    "b = sns.stripplot(data=dfm2, y=\"species\", x=\"value\", hue=\"variable\", marker=\"o\", alpha=0.5,dodge=True,linewidth=0.5,size=5)\n",
    "plt.xlim(xmin = 1)\n",
    "plt.legend(loc='upper center', bbox_to_anchor=(0.5, 1.05),\n",
    "          ncol=3, fancybox=True, shadow=True)\n",
    "b.tick_params(labelsize=20)\n",
    "# plt.xlim(xmin = 250, xmax = 1000)"
   ]
  },
  {
   "cell_type": "code",
   "execution_count": null,
   "metadata": {},
   "outputs": [],
   "source": [
    "#['lightcoral', 'lightseagreen', 'mediumpurple', 'peru']\n",
    "mode2wt2 = pd.DataFrame({'WT': ttdm2wt,\n",
    "                        'LUBAC KD': ttdm2lubkd,\n",
    "                         'LUBAC OE': ttdm2luboe,\n",
    "                        'A20 KD': ttdm2a20kd,\n",
    "                          'A20 OE': ttdm2a20oe,\n",
    "                        'CYLD KD': ttdm2cyldkd,\n",
    "                          'CYLD OE': ttdm2cyldoe})\n",
    "# framesm2 = [mode2wt,mode2lub, mode2a20, mode2cyld]\n",
    "# # framesm2 = [mode2wt,mode2dfn, mode2dfn2,mode2dfn3,mode2dfn4,mode2dfn5]\n",
    "# # framesm3 = [mode2wt,mode2dfn, mode2dfn2]\n",
    "# # framesm4 = [mode2wt,mode2dfn]\n",
    "dfmode22 = pd.DataFrame(data = mode2wt2,\n",
    "                       columns = ['WT','LUBAC KD','LUBAC OE','A20 KD','A20 OE','CYLD KD','CYLD OE'])\n",
    "dfm22 = pd.melt(dfmode22)\n",
    "# dfclus2 = pd.DataFrame(data = pd.concat(framesm2), columns = ['species','KD','WT','OE'])\n",
    "# dfclus3 = pd.DataFrame(data = pd.concat(framesm3), columns = ['species','KD','WT','OE'])\n",
    "# dfclus4 = pd.DataFrame(data = pd.concat(framesm4), columns = ['species','KD','WT','OE'])\n",
    "# dfclus2nn = pd.melt(dfclus2nn)"
   ]
  },
  {
   "cell_type": "code",
   "execution_count": null,
   "metadata": {},
   "outputs": [],
   "source": [
    "import seaborn as sns\n",
    "sns.set(style=\"whitegrid\")\n",
    "plt.figure(figsize = (15,10))\n",
    "my_pal = {\"WT\": \"indianred\", \"LUBAC KD\": \"lightsalmon\", \"LUBAC OE\": \"mediumseagreen\", \n",
    "          \"A20 KD\": \"lightsalmon\", \"A20 OE\": \"mediumseagreen\", \n",
    "          \"CYLD KD\": \"lightsalmon\", \"CYLD OE\": \"mediumseagreen\"}\n",
    "# my_pal1 = {\"wt0\": \"red\", \"a200\":\"blue\"}\n",
    "# b = sns.boxplot(x = \"value\", y =\"variable\", data = dfclus0, notch = True, width = 0.5, palette = my_pal)\n",
    "b = sns.swarmplot(x=\"value\", y=\"variable\", data=dfm22, zorder=2, palette=my_pal)\n",
    "# b = sns.boxplot(x = \"value\", y =\"variable\", data = dfclus0, notch = True, width = 0.5, palette = my_pal)\n",
    "# b = sns.swarmplot(x=\"value\", y=\"variable\", data=dfclus0, zorder=2, palette=my_pal1)\n",
    "b.set_xlabel(\"Time (m)\",fontsize=15)\n",
    "# b.set_ylabel(\"Mode 1 Degeneracy\",fontsize=15)\n",
    "b.tick_params(labelsize=15)\n",
    "plt.xlim(xmax = 2150, xmin = 0)\n",
    "# plt.savefig('figs/Cluster0/pmlkl_100tnf_clus0box_wswarm_5720_modnew.pdf')\n",
    "plt.show()"
   ]
  },
  {
   "cell_type": "code",
   "execution_count": null,
   "metadata": {},
   "outputs": [],
   "source": [
    "sns.set_style(\"white\")\n",
    "kwargs = dict(hist_kws={'alpha':.5}, kde_kws={'linewidth':0.5})\n",
    "# print('clus', np.mean(CI_k63))\n",
    "# print('clus', np.std(CI_k63))\n",
    "fig, ax = plt.subplots()\n",
    "# sns.boxplot(x = 'variable', y = 'value', label ='WT',color=[\"red\",'green'], bins=10, **kwargs, kde = True)\n",
    "# g = sns.boxplot(y='variable',x='value',data=dfclus2n, showfliers=True, boxprops=dict(alpha=1))\n",
    "g = sns.stripplot(y='variable',x='value',data=dfm22, \n",
    "                        marker=\"o\", alpha=0.3, order=['WT', 'LUBACKD','LUBACOE','A20KD', 'A20OE','CYLDKD', 'CYLDOE'])\n",
    "# g = sns.stripplot(y='variable',x='value',data=dfclus2n, \n",
    "#                         marker=\"o\", alpha=0.3, order=[\"WT\", \"LUBACKD\", \"LUBACOE\"], color =['red', 'orange', 'blue'])\n",
    "# g = sns.stripplot(y='variable',x='value',data=dfclus2n, \n",
    "#                         marker=\"o\", alpha=0.3, order=[\"WT\", \"LUBACKD\", \"LUBACOE\"], color =['red', 'orange', 'blue'])\n",
    "# sns.distplot(mode2_lubacoe, label = 'LUBAC KD',color=\"blue\", bins=10, **kwargs, kde = True)\n",
    "# sns.distplot(mode2_lubackd, label = 'LUBAC OE',color=\"green\", bins=10, **kwargs, kde = True)\n",
    "# sns.distplot(CI_a20, label='uncluster',color=\"orange\", bins=25, **kwargs)\n",
    "# sns.distplot(CI_cyld, label='uncluster',color=\"deeppink\", bins=25, **kwargs)\n",
    "plt.xlabel('Time (m)')\n",
    "plt.ylabel('Species')\n",
    "plt.legend(loc = 'best')\n",
    "# plt.xlim(xmin = 1, xmax = 1000)\n",
    "# ax.set_yticks([1, 1.5, 2])\n",
    "# plt.ylim(ymax = 0.04)\n",
    "# plt.xticks([0, 5, 10, 15, 20, 24])\n",
    "right_side = ax.spines[\"right\"]\n",
    "right_side.set_visible(False)\n",
    "top = ax.spines[\"top\"]\n",
    "top.set_visible(False)\n",
    "plt.tight_layout()\n",
    "# plt.savefig('mode2_lubackdoe_testingplots_strip.pdf')\n",
    "plt.show()"
   ]
  },
  {
   "cell_type": "code",
   "execution_count": null,
   "metadata": {},
   "outputs": [],
   "source": []
  },
  {
   "cell_type": "code",
   "execution_count": null,
   "metadata": {},
   "outputs": [],
   "source": []
  },
  {
   "cell_type": "code",
   "execution_count": null,
   "metadata": {},
   "outputs": [],
   "source": [
    "list(model.initial_conditions)"
   ]
  },
  {
   "cell_type": "code",
   "execution_count": null,
   "metadata": {},
   "outputs": [],
   "source": [
    "solverkdm2fadd = ScipyOdeSimulator(model, tspan=t, verbose = True)\n",
    "mode1kdm2fadd   = solverkdm2fadd.run(initials = {m.FADD(bDD=None, bDED1=None, bDED2=None):2695},\n",
    "                                        param_values=m2, num_processors = 20)\n",
    "mode1df_kdm2fadd  = mode1kdm2fadd.dataframe"
   ]
  },
  {
   "cell_type": "code",
   "execution_count": null,
   "metadata": {},
   "outputs": [],
   "source": [
    "thresh = 2772\n",
    "ttdm2kdfadd = []\n",
    "for j in range(len(m2)):\n",
    "    i_range = range(len(mode1df_kdm2fadd.loc[j]['MLKLa_obs']))\n",
    "    for i in i_range:\n",
    "        if mode1df_kdm2fadd.loc[j]['MLKLa_obs'].iloc[i] > thresh:\n",
    "            ttdm2kdfadd.append(mode1df_kdm2fadd.loc[j].index[i])\n",
    "            break\n",
    "        if i == i_range[-1]:\n",
    "            ttdm2kdfadd.append(np.inf)\n",
    "for i in range(len(ttdm2kdfadd)):\n",
    "    if ttdm2kdfadd[i] == np.inf:\n",
    "        ttdm2kdfadd[i] = 2100               "
   ]
  },
  {
   "cell_type": "code",
   "execution_count": null,
   "metadata": {},
   "outputs": [],
   "source": [
    "solveroem2fadd = ScipyOdeSimulator(model, tspan=t, verbose = True)\n",
    "mode1oem2fadd  = solveroem2fadd.run(initials = {m.FADD(bDD=None, bDED1=None, bDED2=None):89860},\n",
    "                                        param_values=m2, num_processors = 20)\n",
    "mode1df_oem2fadd = mode1oem2fadd.dataframe"
   ]
  },
  {
   "cell_type": "code",
   "execution_count": null,
   "metadata": {},
   "outputs": [],
   "source": [
    "thresh = 2772\n",
    "ttdm2oefadd = []\n",
    "for j in range(len(m2)):\n",
    "    i_range = range(len(mode1df_oem2fadd.loc[j]['MLKLa_obs']))\n",
    "    for i in i_range:\n",
    "        if mode1df_oem2fadd.loc[j]['MLKLa_obs'].iloc[i] > thresh:\n",
    "            ttdm2oefadd.append(mode1df_oem2fadd.loc[j].index[i])\n",
    "            break\n",
    "        if i == i_range[-1]:\n",
    "            ttdm2oefadd.append(np.inf)\n",
    "for i in range(len(ttdm2oefadd)):\n",
    "    if ttdm2oefadd[i] == np.inf:\n",
    "        ttdm2oefadd[i] = 2100               "
   ]
  },
  {
   "cell_type": "code",
   "execution_count": null,
   "metadata": {},
   "outputs": [],
   "source": [
    "solverkdm2r3 = ScipyOdeSimulator(model, tspan=t, verbose = True)\n",
    "mode1kdm2r3   = solverkdm2r3.run(initials = {m.RIP3(bRHIM=None, bDD=None, state='unmod'):3196},\n",
    "                                        param_values=m2, num_processors = 20)\n",
    "mode1df_kdm2r3  = mode1kdm2r3.dataframe"
   ]
  },
  {
   "cell_type": "code",
   "execution_count": null,
   "metadata": {},
   "outputs": [],
   "source": [
    "thresh = 2772\n",
    "ttdm2kdr3 = []\n",
    "for j in range(len(m2)):\n",
    "    i_range = range(len(mode1df_kdm2r3.loc[j]['MLKLa_obs']))\n",
    "    for i in i_range:\n",
    "        if mode1df_kdm2r3.loc[j]['MLKLa_obs'].iloc[i] > thresh:\n",
    "            ttdm2kdr3.append(mode1df_kdm2r3.loc[j].index[i])\n",
    "            break\n",
    "        if i == i_range[-1]:\n",
    "            ttdm2kdr3.append(np.inf)\n",
    "for i in range(len(ttdm2kdr3)):\n",
    "    if ttdm2kdr3[i] == np.inf:\n",
    "        ttdm2kdr3[i] = 2100               "
   ]
  },
  {
   "cell_type": "code",
   "execution_count": null,
   "metadata": {},
   "outputs": [],
   "source": [
    "solveroem2r3 = ScipyOdeSimulator(model, tspan=t, verbose = True)\n",
    "mode1oem2r3  = solveroem2r3.run(initials = {m.RIP3(bRHIM=None, bDD=None, state='unmod'):106540},\n",
    "                                        param_values=m2, num_processors = 20)\n",
    "mode1df_oem2r3 = mode1oem2r3.dataframe"
   ]
  },
  {
   "cell_type": "code",
   "execution_count": null,
   "metadata": {},
   "outputs": [],
   "source": [
    "thresh = 2772\n",
    "ttdm2oer3 = []\n",
    "for j in range(len(m2)):\n",
    "    i_range = range(len(mode1df_oem2r3.loc[j]['MLKLa_obs']))\n",
    "    for i in i_range:\n",
    "        if mode1df_oem2r3.loc[j]['MLKLa_obs'].iloc[i] > thresh:\n",
    "            ttdm2oer3.append(mode1df_oem2r3.loc[j].index[i])\n",
    "            break\n",
    "        if i == i_range[-1]:\n",
    "            ttdm2oer3.append(np.inf)\n",
    "for i in range(len(ttdm2oer3)):\n",
    "    if ttdm2oer3[i] == np.inf:\n",
    "        ttdm2oer3[i] = 2100               "
   ]
  },
  {
   "cell_type": "code",
   "execution_count": null,
   "metadata": {},
   "outputs": [],
   "source": [
    "#['lightcoral', 'lightseagreen', 'mediumpurple', 'peru']\n",
    "mode2wt = pd.DataFrame({'WT': ttdm2wt,\n",
    "                       'species':'wt'})\n",
    "mode2lub = pd.DataFrame({'KD': ttdm2lubkd,\n",
    "                         'OE': ttdm2luboe2,\n",
    "                        'species': 'lubac'})\n",
    "mode2a20 = pd.DataFrame({'KD': ttdm2a20kd,\n",
    "                          'OE': ttdm2a20oe,\n",
    "                        'species': 'a20'})\n",
    "mode2cyld = pd.DataFrame({'KD': ttdm2cyldkd,\n",
    "                          'OE': ttdm2cyldoe,\n",
    "                        'species': 'cyld'})\n",
    "mode2fadd = pd.DataFrame({'KD': ttdm2kdfadd,\n",
    "                          'OE': ttdm2oefadd,\n",
    "                        'species': 'fadd'})\n",
    "mode2r3 = pd.DataFrame({'KD': ttdm2kdr3,\n",
    "                          'OE': ttdm2oer3,\n",
    "                        'species': 'rip3'})\n",
    "framesm3 = [mode2wt,mode2lub, mode2a20, mode2cyld]\n",
    "# # framesm2 = [mode2wt,mode2dfn, mode2dfn2,mode2dfn3,mode2dfn4,mode2dfn5]\n",
    "# # framesm3 = [mode2wt,mode2dfn, mode2dfn2]\n",
    "# # framesm4 = [mode2wt,mode2dfn]\n",
    "dfmode3 = pd.DataFrame(data = pd.concat(framesm3), columns = ['species','WT','KD','OE'])\n",
    "dfm23 = pd.melt(dfmode3, id_vars=[\"species\"])\n",
    "# dfclus2 = pd.DataFrame(data = pd.concat(framesm2), columns = ['species','KD','WT','OE'])\n",
    "# dfclus3 = pd.DataFrame(data = pd.concat(framesm3), columns = ['species','KD','WT','OE'])\n",
    "# dfclus4 = pd.DataFrame(data = pd.concat(framesm4), columns = ['species','KD','WT','OE'])\n",
    "# dfclus2nn = pd.melt(dfclus2nn)"
   ]
  },
  {
   "cell_type": "code",
   "execution_count": null,
   "metadata": {},
   "outputs": [],
   "source": [
    "print(len(ttdm2wt))"
   ]
  },
  {
   "cell_type": "code",
   "execution_count": null,
   "metadata": {},
   "outputs": [],
   "source": [
    "m4occurrenceswt = ttdm2wt.count(2100)\n",
    "m4occurrenceslub = ttdm2lubkd.count(2100)\n",
    "m4occurrencesfadd = ttdm2kdfadd.count(2100)\n",
    "m4occurrencesr3 = ttdm2kdr3.count(2100)\n",
    "print(m4occurrenceswt)\n",
    "print(m4occurrenceslub)\n",
    "print(m4occurrencesfadd)\n",
    "print(m4occurrencesr3)"
   ]
  },
  {
   "cell_type": "code",
   "execution_count": null,
   "metadata": {},
   "outputs": [],
   "source": [
    "# ax = sns.boxplot(x=\"day\", y=\"total_bill\", data=tips)\n",
    "# ax = sns.swarmplot(x=\"day\", y=\"total_bill\", data=tips, color=\".25\")\n",
    "plt.figure(figsize = (12,7))\n",
    "ax = sns.boxplot(data=dfm23, y=\"species\", x=\"value\", hue=\"variable\", palette=\"Set3\") #,showfliers = False, whis = 0)\n",
    "# ax = sns.swarmplot(x=\"value\", y=\"variable\", data=dfm22) #, palette=my_pal)\n",
    "# plt.set_xlabel(\"Time (m)\",fontsize=15)\n",
    "# b.set_ylabel(\"Mode 1 Degeneracy\",fontsize=15)\n",
    "plt.legend(loc='upper center', bbox_to_anchor=(0.5, 1.05),\n",
    "          ncol=3, fancybox=True, shadow=True)\n",
    "# plt.tick_params(labelsize=15)\n",
    "plt.xlim(xmax = 2150, xmin = 0)"
   ]
  },
  {
   "cell_type": "code",
   "execution_count": null,
   "metadata": {},
   "outputs": [],
   "source": [
    "sns.barplot(data=dfm23, y=\"species\", x=\"value\", hue=\"variable\", palette = \"Blues\")"
   ]
  },
  {
   "cell_type": "code",
   "execution_count": null,
   "metadata": {},
   "outputs": [],
   "source": [
    "plt.figure(figsize = (12,7))\n",
    "b = sns.stripplot(data=dfm23, y=\"species\", x=\"value\", hue=\"variable\", marker=\"o\", alpha=0.5,dodge=True,linewidth=0.5,size=5)\n",
    "plt.xlim(xmin = 1)\n",
    "plt.legend(loc='upper center', bbox_to_anchor=(0.5, 1.05),\n",
    "          ncol=3, fancybox=True, shadow=True)\n",
    "b.tick_params(labelsize=20)\n",
    "# plt.xlim(xmin = 250, xmax = 1000)"
   ]
  },
  {
   "cell_type": "code",
   "execution_count": null,
   "metadata": {},
   "outputs": [],
   "source": [
    "ttdm2wt2 = [ttdm2wt / 60 for ttdm2wt in ttdm2wt]\n",
    "ttdm2a20kd2 = [ttdm2a20kd / 60 for ttdm2a20kd in ttdm2a20kd]\n",
    "ttdm2a20oe2 = [ttdm2a20oe / 60 for ttdm2a20oe in ttdm2a20oe]\n",
    "ttdm2cyldkd2 = [ttdm2cyldkd / 60 for ttdm2cyldkd in ttdm2cyldkd]\n",
    "ttdm2cyldoe2 = [ttdm2cyldoe / 60 for ttdm2cyldoe in ttdm2cyldoe]\n",
    "ttdm2lubkd2 = [ttdm2lubkd / 60 for ttdm2lubkd in ttdm2lubkd]\n",
    "ttdm2luboe22 = [ttdm2luboe2/60 for ttdm2luboe2 in ttdm2luboe2]"
   ]
  },
  {
   "cell_type": "code",
   "execution_count": null,
   "metadata": {},
   "outputs": [],
   "source": [
    "type(ttdm2wt2)"
   ]
  },
  {
   "cell_type": "code",
   "execution_count": null,
   "metadata": {},
   "outputs": [],
   "source": [
    "# dfm232 = pd.melt(dfmode3)\n",
    "#['lightcoral', 'lightseagreen', 'mediumpurple', 'peru']\n",
    "mode1df2 = pd.DataFrame({'WT': ttdm2wt2, \n",
    "                         'A20 KD': ttdm2a20kd2,\n",
    "                          'A20 OE': ttdm2a20oe2,\n",
    "                        'CYLD KD': ttdm2cyldkd2,\n",
    "                          'CYLD OE': ttdm2cyldoe2,\n",
    "                        'LUBAC KD': ttdm2lubkd2,\n",
    "                         'LUBAC OE': ttdm2luboe22})\n",
    "dfclus0n2 = pd.DataFrame(data = mode1df2,\n",
    "                        columns = ['WT', 'A20 KD', 'A20 OE','CYLD KD', 'CYLD OE', 'LUBAC KD', 'LUBAC OE'])\n",
    "dfclus1n2 = pd.melt(dfclus0n2)"
   ]
  },
  {
   "cell_type": "code",
   "execution_count": null,
   "metadata": {},
   "outputs": [],
   "source": [
    "sns.set_style(\"whitegrid\", {'axes.grid' : False})\n",
    "fig, ax = plt.subplots(figsize = (9,7))\n",
    "my_pal = {\"WT\": \"darkorange\",\"A20 KD\":\"indigo\", \"A20 OE\":\"teal\",\n",
    "          \"CYLD KD\": \"indigo\", \"CYLD OE\":\"teal\",\n",
    "          \"LUBAC KD\": \"indigo\", \"LUBAC OE\":\"teal\"}\n",
    "# b = sns.boxplot(x = \"value\", y =\"variable\", data = dfclus0, notch = True, width = 0.5, palette = my_pal)\n",
    "b = sns.stripplot(x=\"value\", y=\"variable\", data=pd.melt(dfclus0n2), marker = 'o',linewidth=0.5,size=5, palette=my_pal)\n",
    "# b = sns.swarmplot(data=dfm23, y=\"species\", x=\"value\", hue=\"variable\", marker=\"o\", alpha=0.5,dodge=True,linewidth=0.5,size=5)\n",
    "# print(plt.yticks())\n",
    "plt.annotate('A20', xy = (0.01,.7), xycoords ='axes fraction', fontsize = 20)#(-0.2,.7)\n",
    "plt.annotate('CYLD', xy = (0.01,.42), xycoords ='axes fraction', fontsize = 20) #(-0.2,.42)\n",
    "plt.annotate('LUBAC', xy = (0.01,.12), xycoords ='axes fraction', fontsize = 20) #(-0.2,.12)\n",
    "plt.annotate(r'$\\infty$', xy = (0.95,-0.05), xycoords ='axes fraction', fontsize = 30)\n",
    "plt.axhline(y=0.5, color = 'k')\n",
    "plt.axhline(y=2.5, color = 'k')\n",
    "plt.axhline(y=4.5, color = 'k')\n",
    "plt.yticks(ticks = plt.yticks()[0], labels = ['WT', 'KD', 'OE','KD', 'OE','KD', 'OE'])\n",
    "b.set_xlabel(\"\")\n",
    "plt.xticks(fontsize = 25)\n",
    "b.set_ylabel(\"\")\n",
    "b.tick_params(labelsize=25)\n",
    "plt.xlim(xmax = 36, xmin = 0)\n",
    "ax.set_xticks([0,5, 10, 15, 20, 25,30])\n",
    "# ax.set_xticks([0,300, 600, 900, 1200, 1500,1800])\n",
    "b.tick_params(labelsize=20)\n",
    "plt.tight_layout()\n",
    "# plt.xlim(xmin = 1)\n",
    "plt.legend(loc='upper center', bbox_to_anchor=(0.5, 1.05),\n",
    "          ncol=3, fancybox=True, shadow=True)\n",
    "plt.savefig('pmlkl_mode2_initsens_lubcylda20_100tnf_stripdots_hrs_nameinside.pdf')"
   ]
  },
  {
   "cell_type": "code",
   "execution_count": null,
   "metadata": {},
   "outputs": [],
   "source": [
    "# dfm232 = pd.melt(dfmode3)\n",
    "#['lightcoral', 'lightseagreen', 'mediumpurple', 'peru']\n",
    "mode1df = pd.DataFrame({'WT': ttdm2wt/60, \n",
    "                         'A20 KD': ttdm2a20kd,\n",
    "                          'A20 OE': ttdm2a20oe,\n",
    "                        'CYLD KD': ttdm2cyldkd,\n",
    "                          'CYLD OE': ttdm2cyldoe,\n",
    "                        'LUBAC KD': ttdm2lubkd,\n",
    "                         'LUBAC OE': ttdm2luboe2})\n",
    "dfclus0n = pd.DataFrame(data = mode1df,\n",
    "                        columns = ['WT', 'A20 KD', 'A20 OE','CYLD KD', 'CYLD OE', 'LUBAC KD', 'LUBAC OE'])\n",
    "dfclus1n = pd.melt(dfclus0n)"
   ]
  },
  {
   "cell_type": "code",
   "execution_count": null,
   "metadata": {},
   "outputs": [],
   "source": [
    "sns.set_style(\"whitegrid\", {'axes.grid' : False})\n",
    "fig, ax = plt.subplots(figsize = (9,7))\n",
    "my_pal = {\"WT\": \"darkorange\",\"A20 KD\":\"indigo\", \"A20 OE\":\"teal\",\n",
    "          \"CYLD KD\": \"indigo\", \"CYLD OE\":\"teal\",\n",
    "          \"LUBAC KD\": \"indigo\", \"LUBAC OE\":\"teal\"}\n",
    "# b = sns.boxplot(x = \"value\", y =\"variable\", data = dfclus0, notch = True, width = 0.5, palette = my_pal)\n",
    "b = sns.stripplot(x=\"value\", y=\"variable\", data=pd.melt(dfclus0n), marker = 'o',linewidth=0.5,size=5, palette=my_pal)\n",
    "# b = sns.swarmplot(data=dfm23, y=\"species\", x=\"value\", hue=\"variable\", marker=\"o\", alpha=0.5,dodge=True,linewidth=0.5,size=5)\n",
    "# print(plt.yticks())\n",
    "plt.annotate('A20', xy = (-0.2,.7), xycoords ='axes fraction', fontsize = 20)\n",
    "plt.annotate('CYLD', xy = (-0.2,.42), xycoords ='axes fraction', fontsize = 20)\n",
    "plt.annotate('LUBAC', xy = (-0.2,.12), xycoords ='axes fraction', fontsize = 20)\n",
    "plt.annotate(r'$\\infty$', xy = (0.95,-0.05), xycoords ='axes fraction', fontsize = 30)\n",
    "plt.axhline(y=0.5, color = 'k')\n",
    "plt.axhline(y=2.5, color = 'k')\n",
    "plt.axhline(y=4.5, color = 'k')\n",
    "plt.yticks(ticks = plt.yticks()[0], labels = ['WT', 'KD', 'OE','KD', 'OE','KD', 'OE'])\n",
    "b.set_xlabel(\"\")\n",
    "plt.xticks(fontsize = 25)\n",
    "b.set_ylabel(\"\")\n",
    "b.tick_params(labelsize=25)\n",
    "plt.xlim(xmax = 2150, xmin = 0)\n",
    "ax.set_xticks([0,300, 600, 900, 1200, 1500,1800])\n",
    "b.tick_params(labelsize=20)\n",
    "plt.tight_layout()\n",
    "# plt.xlim(xmin = 1)\n",
    "plt.legend(loc='upper center', bbox_to_anchor=(0.5, 1.05),\n",
    "          ncol=3, fancybox=True, shadow=True)\n",
    "plt.savefig('pmlkl_mode2_initsens_lubcylda20_100tnf_stripdots.pdf')"
   ]
  },
  {
   "cell_type": "code",
   "execution_count": null,
   "metadata": {},
   "outputs": [],
   "source": [
    "sns.set_style(\"whitegrid\", {'axes.grid' : False})\n",
    "fig, ax = plt.subplots(figsize = (9,7))\n",
    "my_pal = {\"WT\": \"darkorange\", \"LUBAC KD\": \"indigo\", \"LUBAC OE\":\"teal\",\n",
    "          \"A20 KD\":\"indigo\", \"A20 OE\":\"teal\",\"CYLD KD\": \"indigo\", \"CYLD OE\":\"teal\"}\n",
    "# b = sns.boxplot(x = \"value\", y =\"variable\", data = dfclus0, notch = True, width = 0.5, palette = my_pal)\n",
    "b = sns.stripplot(x=\"value\", y=\"variable\", data=pd.melt(dfclus0n), marker = 'o',palette=my_pal)\n",
    "# b = sns.swarmplot(data=dfm23, y=\"species\", x=\"value\", hue=\"variable\", marker=\"o\", alpha=0.5,dodge=True,linewidth=0.5,size=5)\n",
    "# print(plt.yticks())\n",
    "plt.annotate('LUBAC', xy = (-0.2,.7), xycoords ='axes fraction', fontsize = 20)\n",
    "plt.annotate('A20', xy = (-0.2,.42), xycoords ='axes fraction', fontsize = 20)\n",
    "plt.annotate('CYLD', xy = (-0.2,.12), xycoords ='axes fraction', fontsize = 20)\n",
    "plt.annotate(r'$\\infty$', xy = (0.95,-0.05), xycoords ='axes fraction', fontsize = 30)\n",
    "plt.axhline(y=0.5, color = 'k')\n",
    "plt.axhline(y=2.5, color = 'k')\n",
    "plt.axhline(y=4.5, color = 'k')\n",
    "plt.yticks(ticks = plt.yticks()[0], labels = ['WT', 'KD', 'OE','KD', 'OE','KD', 'OE'])\n",
    "b.set_xlabel(\"\")\n",
    "plt.xticks(fontsize = 25)\n",
    "b.set_ylabel(\"\")\n",
    "b.tick_params(labelsize=25)\n",
    "plt.xlim(xmax = 2150, xmin = 0)\n",
    "ax.set_xticks([0,300, 600, 900, 1200, 1500,1800])\n",
    "b.tick_params(labelsize=20)\n",
    "plt.tight_layout()\n",
    "# plt.xlim(xmin = 1)\n",
    "plt.legend(loc='upper center', bbox_to_anchor=(0.5, 1.05),\n",
    "          ncol=3, fancybox=True, shadow=True)\n",
    "# plt.savefig('pmlkl_mode2_initsens_lubcylda20_100tnf_strip.pdf')"
   ]
  },
  {
   "cell_type": "code",
   "execution_count": null,
   "metadata": {},
   "outputs": [],
   "source": [
    "sns.set_style(\"whitegrid\", {'axes.grid' : False})\n",
    "fig, ax = plt.subplots(figsize = (9,7))\n",
    "my_pal = {\"WT\": \"darkorange\", \"LUBAC KD\": \"indigo\", \"LUBAC OE\":\"teal\",\n",
    "          \"A20 KD\":\"indigo\", \"A20 OE\":\"teal\",\"CYLD KD\": \"indigo\", \"CYLD OE\":\"teal\"}\n",
    "# b = sns.boxplot(x = \"value\", y =\"variable\", data = dfclus0, notch = True, width = 0.5, palette = my_pal)\n",
    "b = sns.swarmplot(x=\"value\", y=\"variable\", data=pd.melt(dfclus0n), marker = 'o',zorder=2, palette=my_pal)\n",
    "# b = sns.swarmplot(data=dfm23, y=\"species\", x=\"value\", hue=\"variable\", marker=\"o\", alpha=0.5,dodge=True,linewidth=0.5,size=5)\n",
    "b.set_xlabel(\"\")\n",
    "plt.xticks(fontsize = 25)\n",
    "b.set_ylabel(\"\")\n",
    "b.tick_params(labelsize=25)\n",
    "plt.xlim(xmax = 2150, xmin = 0)\n",
    "ax.set_xticks([0,300, 600, 900, 1200, 1500,1800])\n",
    "b.tick_params(labelsize=20)\n",
    "plt.tight_layout()\n",
    "# plt.xlim(xmin = 1)\n",
    "plt.legend(loc='upper center', bbox_to_anchor=(0.5, 1.05),\n",
    "          ncol=3, fancybox=True, shadow=True)\n",
    "plt.savefig('pmlkl_mode2_initsens_lubcylda20_100tnf.pdf')"
   ]
  },
  {
   "cell_type": "code",
   "execution_count": null,
   "metadata": {},
   "outputs": [],
   "source": []
  },
  {
   "cell_type": "code",
   "execution_count": null,
   "metadata": {},
   "outputs": [],
   "source": [
    "solverkdm2cyld = ScipyOdeSimulator(model, tspan=t, verbose = True)\n",
    "mode1kdm2cyld   = solverkdm2cyld.run(initials = {m.CYLD(brip=None, btraf=None):2772},\n",
    "                                        param_values=m2, num_processors = 20)\n",
    "mode1df_kdm2cyld  = mode1kdm2cyld.dataframe"
   ]
  },
  {
   "cell_type": "code",
   "execution_count": null,
   "metadata": {},
   "outputs": [],
   "source": [
    "thresh = 2772\n",
    "ttdm2cyldkd = []\n",
    "for j in range(len(m2)):\n",
    "    i_range = range(len(mode1df_kdm2cyld.loc[j]['MLKLa_obs']))\n",
    "    for i in i_range:\n",
    "        if mode1df_kdm2cyld.loc[j]['MLKLa_obs'].iloc[i] > thresh:\n",
    "            ttdm2cyldkd.append(mode1df_kdm2cyld.loc[j].index[i])\n",
    "            break\n",
    "        if i == i_range[-1]:\n",
    "            ttdm2cyldkd.append(np.inf)\n",
    "for i in range(len(ttdm2cyldkd)):\n",
    "    if ttdm2cyldkd[i] == np.inf:\n",
    "        ttdm2cyldkd[i] = 2100               "
   ]
  },
  {
   "cell_type": "code",
   "execution_count": null,
   "metadata": {},
   "outputs": [],
   "source": [
    "solveroem2cyld = ScipyOdeSimulator(model, tspan=t, verbose = True)\n",
    "mode1oem2cyld  = solveroem2cyld.run(initials = {m.CYLD(brip=None, btraf=None):90750},\n",
    "                                        param_values=m2, num_processors = 20)\n",
    "mode1df_oem2cyld = mode1oem2cyld.dataframe"
   ]
  },
  {
   "cell_type": "code",
   "execution_count": null,
   "metadata": {},
   "outputs": [],
   "source": [
    "thresh = 2772\n",
    "ttdm2cyldoe = []\n",
    "for j in range(len(m2)):\n",
    "    i_range = range(len(mode1df_oem2cyld.loc[j]['MLKLa_obs']))\n",
    "    for i in i_range:\n",
    "        if mode1df_oem2cyld.loc[j]['MLKLa_obs'].iloc[i] > thresh:\n",
    "            ttdm2cyldoe.append(mode1df_oem2cyld.loc[j].index[i])\n",
    "            break\n",
    "        if i == i_range[-1]:\n",
    "            ttdm2cyldoe.append(np.inf)\n",
    "for i in range(len(ttdm2cyldoe)):\n",
    "    if ttdm2cyldoe[i] == np.inf:\n",
    "        ttdm2cyldoe[i] = 2100               "
   ]
  },
  {
   "cell_type": "code",
   "execution_count": null,
   "metadata": {},
   "outputs": [],
   "source": []
  },
  {
   "cell_type": "code",
   "execution_count": null,
   "metadata": {},
   "outputs": [],
   "source": []
  },
  {
   "cell_type": "code",
   "execution_count": null,
   "metadata": {},
   "outputs": [],
   "source": []
  },
  {
   "cell_type": "code",
   "execution_count": null,
   "metadata": {},
   "outputs": [],
   "source": []
  },
  {
   "cell_type": "code",
   "execution_count": null,
   "metadata": {},
   "outputs": [],
   "source": []
  },
  {
   "cell_type": "code",
   "execution_count": null,
   "metadata": {},
   "outputs": [],
   "source": []
  },
  {
   "cell_type": "code",
   "execution_count": null,
   "metadata": {},
   "outputs": [],
   "source": []
  },
  {
   "cell_type": "code",
   "execution_count": null,
   "metadata": {},
   "outputs": [],
   "source": []
  },
  {
   "cell_type": "code",
   "execution_count": null,
   "metadata": {},
   "outputs": [],
   "source": []
  },
  {
   "cell_type": "code",
   "execution_count": null,
   "metadata": {},
   "outputs": [],
   "source": []
  },
  {
   "cell_type": "code",
   "execution_count": null,
   "metadata": {},
   "outputs": [],
   "source": []
  },
  {
   "cell_type": "code",
   "execution_count": null,
   "metadata": {},
   "outputs": [],
   "source": []
  }
 ],
 "metadata": {
  "kernelspec": {
   "display_name": "Python 3",
   "language": "python",
   "name": "python3"
  },
  "language_info": {
   "codemirror_mode": {
    "name": "ipython",
    "version": 3
   },
   "file_extension": ".py",
   "mimetype": "text/x-python",
   "name": "python",
   "nbconvert_exporter": "python",
   "pygments_lexer": "ipython3",
   "version": "3.7.5"
  }
 },
 "nbformat": 4,
 "nbformat_minor": 2
}
