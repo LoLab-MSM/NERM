{
 "cells": [
  {
   "cell_type": "code",
   "execution_count": 1,
   "metadata": {},
   "outputs": [],
   "source": [
    "import os\n",
    "from pylab import *\n",
    "from pysb.core import *\n",
    "from pysb.bng import *\n",
    "from pysb.integrate import *\n",
    "import matplotlib.pyplot as plt\n",
    "import numpy as np\n",
    "from pysb.util import alias_model_components\n",
    "from pysb.simulator import CupSodaSimulator\n",
    "from pysb.simulator import ScipyOdeSimulator\n",
    "from pysb.simulator.bng import BngSimulator\n",
    "import sys\n",
    "sys.path.append('../')\n",
    "sys.path.append('../../../')\n",
    "sys.path.append('/home/ildefog/main/Projects/NERM/')\n",
    "sys.path.append('/home/ildefog/main/Projects/NERM/params_testing/')\n",
    "from model_files.nerm_pvals_inits import model \n",
    "import pandas as pd\n",
    "from scipy import stats\n",
    "from pysb.simulator import SimulationResult\n",
    "import logging\n",
    "import os\n",
    "from pysb.logging import setup_logger\n",
    "from pysb.simulator.cupsoda import CupSodaSimulator\n",
    "from pysb.simulator.scipyode import ScipyOdeSimulator\n",
    "from sensitivity_analysis4 import InitialsSensitivity\n",
    "from pysb.util import update_param_vals\n",
    "from scipy.stats import norm,uniform, halfnorm\n",
    "from pysb.tools.sensitivity_analysis import PairwiseSensitivity\n",
    "os.environ['OMP_NUM_THREADS'] = '1'\n",
    "from scipy.optimize import curve_fit"
   ]
  },
  {
   "cell_type": "code",
   "execution_count": 2,
   "metadata": {},
   "outputs": [],
   "source": [
    "m1 = np.load('../../params_testing/necro_pars10k_mode1_5720_modcylda20.npy')\n",
    "m2 = np.load('../../params_testing/necro_pars10k_mode2_5720_modcylda20.npy')\n",
    "m3 = np.load('../../params_testing/necro_pars10k_mode3_5720_modcylda20.npy')\n",
    "m4 = np.load('../../params_testing/necro_pars10k_mode4_5720_modcylda20.npy')"
   ]
  },
  {
   "cell_type": "code",
   "execution_count": 4,
   "metadata": {},
   "outputs": [
    {
     "name": "stdout",
     "output_type": "stream",
     "text": [
      "[(A20(brip=None), Parameter('A20_0', 9075.0)), (C8(bf=None, flip=None, state='I'), Parameter('C8_0', 3799.0)), (cIAP(btraf=None), Parameter('cIAP_0', 8986.0)), (CYLD(brip=None, btraf=None), Parameter('CYLD_0', 9075.0)), (FADD(bDD=None, bDED1=None, bDED2=None), Parameter('FADD_0', 3109.0)), (FLIP(bDED=None, state='A'), Parameter('FLIP_0', 3910.0)), (LUBAC(brip=None), Parameter('LUBAC_0', 7226.0)), (MLKL(bRHIM=None, state='unmod'), Parameter('MLKLa_0', 5544.0)), (RIP1(bscf=None, bub1=None, bub2=None, bub3=None, bDD=None, btraf=None, bRHIM=None, bMLKL=None, state='unmod'), Parameter('RIP1_0', 22044.0)), (RIP3(bRHIM=None, bDD=None, state='unmod'), Parameter('RIP3_0', 10654.0)), (TNF(brec=None), Parameter('TNF_0', 2326.0)), (TNFR(blig=None, brip=None, bDD=None), Parameter('TNFR_0', 4809.0)), (TRADD(brec=None, brip=None, state='unmod', bDD1=None, bDD2=None), Parameter('TRADD_0', 4696.0)), (TRAF(brip=None, bciap=None, bcyld=None, state='unmod'), Parameter('TRAF_0', 11776.0))]\n"
     ]
    }
   ],
   "source": [
    "t = np.linspace(0,1800,500)\n",
    "m = model.components\n",
    "print(list(model.initial_conditions))"
   ]
  },
  {
   "cell_type": "code",
   "execution_count": 5,
   "metadata": {},
   "outputs": [
    {
     "name": "stderr",
     "output_type": "stream",
     "text": [
      "2022-01-13 16:31:00.677 - pysb.simulator.scipyode - DEBUG - [model_files.nerm_pvals_inits] Simulator created\n",
      "2022-01-13 16:31:01.429 - pysb.simulator.scipyode - DEBUG - [model_files.nerm_pvals_inits] Equation mode set to \"cython\"\n",
      "2022-01-13 16:31:01.551 - pysb.simulator.scipyode - INFO - [model_files.nerm_pvals_inits] Simulation(s) started\n",
      "2022-01-13 16:31:01.781 - pysb.simulator.scipyode - DEBUG - [model_files.nerm_pvals_inits] Multi-processor (parallel) mode using 20 processes\n",
      "2022-01-13 16:35:26.469 - pysb.simulator.scipyode - INFO - [model_files.nerm_pvals_inits] All simulation(s) complete\n",
      "2022-01-13 16:35:26.471 - pysb.simulator.scipyode - DEBUG - [model_files.nerm_pvals_inits] SimulationResult constructor started\n",
      "2022-01-13 16:35:28.942 - pysb.simulator.scipyode - DEBUG - [model_files.nerm_pvals_inits] SimulationResult constructor finished\n"
     ]
    }
   ],
   "source": [
    "solverwtm2 = ScipyOdeSimulator(model, tspan=t, verbose = True)\n",
    "mode1wtm2  = solverwtm2.run(param_values=m2, num_processors = 20)\n",
    "mode1df_wtm2 = mode1wtm2.dataframe"
   ]
  },
  {
   "cell_type": "code",
   "execution_count": 12,
   "metadata": {},
   "outputs": [],
   "source": [
    "thresh = 2772\n",
    "ttdm2wt = []\n",
    "for j in range(len(m2)):\n",
    "    i_range = range(len(mode1df_wtm2.loc[j]['MLKLa_obs']))\n",
    "    for i in i_range:\n",
    "        if mode1df_wtm2.loc[j]['MLKLa_obs'].iloc[i] > thresh:\n",
    "            ttdm2wt.append(mode1df_wtm2.loc[j].index[i])\n",
    "            break\n",
    "        if i == i_range[-1]:\n",
    "            ttdm2wt.append(np.inf)\n",
    "for i in range(len(ttdm2wt)):\n",
    "    if ttdm2wt[i] == np.inf:\n",
    "        ttdm2wt[i] = 2100               "
   ]
  },
  {
   "cell_type": "code",
   "execution_count": 6,
   "metadata": {},
   "outputs": [
    {
     "name": "stderr",
     "output_type": "stream",
     "text": [
      "2022-01-13 16:35:32.019 - pysb.simulator.scipyode - DEBUG - [model_files.nerm_pvals_inits] Simulator created\n",
      "2022-01-13 16:35:32.024 - pysb.simulator.scipyode - DEBUG - [model_files.nerm_pvals_inits] Equation mode set to \"cython\"\n",
      "2022-01-13 16:35:32.057 - pysb.simulator.scipyode - INFO - [model_files.nerm_pvals_inits] Simulation(s) started\n",
      "2022-01-13 16:35:32.256 - pysb.simulator.scipyode - DEBUG - [model_files.nerm_pvals_inits] Multi-processor (parallel) mode using 20 processes\n",
      "2022-01-13 16:39:42.651 - pysb.simulator.scipyode - INFO - [model_files.nerm_pvals_inits] All simulation(s) complete\n",
      "2022-01-13 16:39:42.653 - pysb.simulator.scipyode - DEBUG - [model_files.nerm_pvals_inits] SimulationResult constructor started\n",
      "2022-01-13 16:39:45.424 - pysb.simulator.scipyode - DEBUG - [model_files.nerm_pvals_inits] SimulationResult constructor finished\n"
     ]
    }
   ],
   "source": [
    "solverkdm2lubac = ScipyOdeSimulator(model, tspan=t, verbose = True)\n",
    "mode1kdm2lubac   = solverkdm2lubac.run(initials = {m.LUBAC(brip=None):2167},\n",
    "                                        param_values=m2, num_processors = 20)\n",
    "mode1df_kdm2lubac  = mode1kdm2lubac.dataframe"
   ]
  },
  {
   "cell_type": "code",
   "execution_count": 52,
   "metadata": {},
   "outputs": [],
   "source": [
    "thresh = 2772\n",
    "ttdm2lubkd = []\n",
    "for j in range(len(m2)):\n",
    "    i_range = range(len(mode1df_kdm2lubac.loc[j]['MLKLa_obs']))\n",
    "    for i in i_range:\n",
    "        if mode1df_kdm2lubac.loc[j]['MLKLa_obs'].iloc[i] > thresh:\n",
    "            ttdm2lubkd.append(mode1df_kdm2lubac.loc[j].index[i])\n",
    "            break\n",
    "        if i == i_range[-1]:\n",
    "            ttdm2lubkd.append(np.inf)\n",
    "for i in range(len(ttdm2lubkd)):\n",
    "    if ttdm2lubkd[i] == np.inf:\n",
    "        ttdm2lubkd[i] = 2100               "
   ]
  },
  {
   "cell_type": "code",
   "execution_count": 7,
   "metadata": {},
   "outputs": [
    {
     "name": "stderr",
     "output_type": "stream",
     "text": [
      "2022-01-13 16:39:48.550 - pysb.simulator.scipyode - DEBUG - [model_files.nerm_pvals_inits] Simulator created\n",
      "2022-01-13 16:39:48.555 - pysb.simulator.scipyode - DEBUG - [model_files.nerm_pvals_inits] Equation mode set to \"cython\"\n",
      "2022-01-13 16:39:48.591 - pysb.simulator.scipyode - INFO - [model_files.nerm_pvals_inits] Simulation(s) started\n",
      "2022-01-13 16:39:48.787 - pysb.simulator.scipyode - DEBUG - [model_files.nerm_pvals_inits] Multi-processor (parallel) mode using 20 processes\n",
      "2022-01-13 16:44:00.194 - pysb.simulator.scipyode - INFO - [model_files.nerm_pvals_inits] All simulation(s) complete\n",
      "2022-01-13 16:44:00.196 - pysb.simulator.scipyode - DEBUG - [model_files.nerm_pvals_inits] SimulationResult constructor started\n",
      "2022-01-13 16:44:02.775 - pysb.simulator.scipyode - DEBUG - [model_files.nerm_pvals_inits] SimulationResult constructor finished\n"
     ]
    }
   ],
   "source": [
    "solveroem2lubac = ScipyOdeSimulator(model, tspan=t, verbose = True)\n",
    "mode1oem2lubac  = solveroem2lubac.run(initials = {m.LUBAC(brip=None):72260},\n",
    "                                        param_values=m2, num_processors = 20)\n",
    "mode1df_oem2lubac = mode1oem2lubac.dataframe"
   ]
  },
  {
   "cell_type": "code",
   "execution_count": 50,
   "metadata": {},
   "outputs": [],
   "source": [
    "thresh = 2772\n",
    "ttdm2luboe2 = []\n",
    "for j in range(len(m2)):\n",
    "    i_range = range(len(mode1df_oem2lubac.loc[j]['MLKLa_obs']))\n",
    "    for i in i_range:\n",
    "        if mode1df_kdm2lubac.loc[j]['MLKLa_obs'].iloc[i] > thresh:\n",
    "            ttdm2luboe2.append(mode1df_oem2lubac.loc[j].index[i])\n",
    "            break\n",
    "        if i == i_range[-1]:\n",
    "            ttdm2luboe2.append(np.inf)\n",
    "for i in range(len(ttdm2luboe2)):\n",
    "    if ttdm2luboe2[i] == np.inf:\n",
    "        ttdm2luboe2[i] = 2100               "
   ]
  },
  {
   "cell_type": "code",
   "execution_count": 35,
   "metadata": {},
   "outputs": [
    {
     "name": "stderr",
     "output_type": "stream",
     "text": [
      "2022-01-13 17:50:51.614 - pysb.simulator.scipyode - DEBUG - [model_files.nerm_pvals_inits] Simulator created\n",
      "2022-01-13 17:50:51.625 - pysb.simulator.scipyode - DEBUG - [model_files.nerm_pvals_inits] Equation mode set to \"cython\"\n",
      "2022-01-13 17:50:51.697 - pysb.simulator.scipyode - INFO - [model_files.nerm_pvals_inits] Simulation(s) started\n",
      "2022-01-13 17:50:51.929 - pysb.simulator.scipyode - DEBUG - [model_files.nerm_pvals_inits] Multi-processor (parallel) mode using 20 processes\n",
      "2022-01-13 17:55:05.843 - pysb.simulator.scipyode - INFO - [model_files.nerm_pvals_inits] All simulation(s) complete\n",
      "2022-01-13 17:55:05.845 - pysb.simulator.scipyode - DEBUG - [model_files.nerm_pvals_inits] SimulationResult constructor started\n",
      "2022-01-13 17:55:08.409 - pysb.simulator.scipyode - DEBUG - [model_files.nerm_pvals_inits] SimulationResult constructor finished\n"
     ]
    }
   ],
   "source": [
    "solverkdm2a20 = ScipyOdeSimulator(model, tspan=t, verbose = True)\n",
    "mode1kdm2a20   = solverkdm2a20.run(initials = {m.A20(brip=None):2772},\n",
    "                                        param_values=m2, num_processors = 20)\n",
    "mode1df_kdm2a20  = mode1kdm2a20.dataframe"
   ]
  },
  {
   "cell_type": "code",
   "execution_count": 36,
   "metadata": {},
   "outputs": [],
   "source": [
    "thresh = 2772\n",
    "ttdm2a20kd = []\n",
    "for j in range(len(m2)):\n",
    "    i_range = range(len(mode1df_kdm2a20.loc[j]['MLKLa_obs']))\n",
    "    for i in i_range:\n",
    "        if mode1df_kdm2a20.loc[j]['MLKLa_obs'].iloc[i] > thresh:\n",
    "            ttdm2a20kd.append(mode1df_kdm2a20.loc[j].index[i])\n",
    "            break\n",
    "        if i == i_range[-1]:\n",
    "            ttdm2a20kd.append(np.inf)\n",
    "for i in range(len(ttdm2a20kd)):\n",
    "    if ttdm2a20kd[i] == np.inf:\n",
    "        ttdm2a20kd[i] = 2100               "
   ]
  },
  {
   "cell_type": "code",
   "execution_count": 37,
   "metadata": {},
   "outputs": [
    {
     "name": "stderr",
     "output_type": "stream",
     "text": [
      "2022-01-13 17:59:05.052 - pysb.simulator.scipyode - DEBUG - [model_files.nerm_pvals_inits] Simulator created\n",
      "2022-01-13 17:59:05.057 - pysb.simulator.scipyode - DEBUG - [model_files.nerm_pvals_inits] Equation mode set to \"cython\"\n",
      "2022-01-13 17:59:05.093 - pysb.simulator.scipyode - INFO - [model_files.nerm_pvals_inits] Simulation(s) started\n",
      "2022-01-13 17:59:05.291 - pysb.simulator.scipyode - DEBUG - [model_files.nerm_pvals_inits] Multi-processor (parallel) mode using 20 processes\n",
      "2022-01-13 18:03:14.358 - pysb.simulator.scipyode - INFO - [model_files.nerm_pvals_inits] All simulation(s) complete\n",
      "2022-01-13 18:03:14.360 - pysb.simulator.scipyode - DEBUG - [model_files.nerm_pvals_inits] SimulationResult constructor started\n",
      "2022-01-13 18:03:17.160 - pysb.simulator.scipyode - DEBUG - [model_files.nerm_pvals_inits] SimulationResult constructor finished\n"
     ]
    }
   ],
   "source": [
    "solveroem2a20 = ScipyOdeSimulator(model, tspan=t, verbose = True)\n",
    "mode1oem2a20  = solveroem2a20.run(initials = {m.A20(brip=None):90750},\n",
    "                                        param_values=m2, num_processors = 20)\n",
    "mode1df_oem2a20 = mode1oem2a20.dataframe"
   ]
  },
  {
   "cell_type": "code",
   "execution_count": 38,
   "metadata": {},
   "outputs": [],
   "source": [
    "thresh = 2772\n",
    "ttdm2a20oe = []\n",
    "for j in range(len(m2)):\n",
    "    i_range = range(len(mode1df_oem2a20.loc[j]['MLKLa_obs']))\n",
    "    for i in i_range:\n",
    "        if mode1df_oem2a20.loc[j]['MLKLa_obs'].iloc[i] > thresh:\n",
    "            ttdm2a20oe.append(mode1df_oem2a20.loc[j].index[i])\n",
    "            break\n",
    "        if i == i_range[-1]:\n",
    "            ttdm2a20oe.append(np.inf)\n",
    "for i in range(len(ttdm2a20oe)):\n",
    "    if ttdm2a20oe[i] == np.inf:\n",
    "        ttdm2a20oe[i] = 2100               "
   ]
  },
  {
   "cell_type": "code",
   "execution_count": 39,
   "metadata": {},
   "outputs": [
    {
     "name": "stderr",
     "output_type": "stream",
     "text": [
      "2022-01-13 18:08:05.247 - pysb.simulator.scipyode - DEBUG - [model_files.nerm_pvals_inits] Simulator created\n",
      "2022-01-13 18:08:05.252 - pysb.simulator.scipyode - DEBUG - [model_files.nerm_pvals_inits] Equation mode set to \"cython\"\n",
      "2022-01-13 18:08:05.288 - pysb.simulator.scipyode - INFO - [model_files.nerm_pvals_inits] Simulation(s) started\n",
      "2022-01-13 18:08:05.487 - pysb.simulator.scipyode - DEBUG - [model_files.nerm_pvals_inits] Multi-processor (parallel) mode using 20 processes\n",
      "2022-01-13 18:12:20.836 - pysb.simulator.scipyode - INFO - [model_files.nerm_pvals_inits] All simulation(s) complete\n",
      "2022-01-13 18:12:20.838 - pysb.simulator.scipyode - DEBUG - [model_files.nerm_pvals_inits] SimulationResult constructor started\n",
      "2022-01-13 18:12:23.342 - pysb.simulator.scipyode - DEBUG - [model_files.nerm_pvals_inits] SimulationResult constructor finished\n"
     ]
    }
   ],
   "source": [
    "solverkdm2cyld = ScipyOdeSimulator(model, tspan=t, verbose = True)\n",
    "mode1kdm2cyld   = solverkdm2cyld.run(initials = {m.CYLD(brip=None, btraf=None):2772},\n",
    "                                        param_values=m2, num_processors = 20)\n",
    "mode1df_kdm2cyld  = mode1kdm2cyld.dataframe"
   ]
  },
  {
   "cell_type": "code",
   "execution_count": 40,
   "metadata": {},
   "outputs": [],
   "source": [
    "thresh = 2772\n",
    "ttdm2cyldkd = []\n",
    "for j in range(len(m2)):\n",
    "    i_range = range(len(mode1df_kdm2cyld.loc[j]['MLKLa_obs']))\n",
    "    for i in i_range:\n",
    "        if mode1df_kdm2cyld.loc[j]['MLKLa_obs'].iloc[i] > thresh:\n",
    "            ttdm2cyldkd.append(mode1df_kdm2cyld.loc[j].index[i])\n",
    "            break\n",
    "        if i == i_range[-1]:\n",
    "            ttdm2cyldkd.append(np.inf)\n",
    "for i in range(len(ttdm2cyldkd)):\n",
    "    if ttdm2cyldkd[i] == np.inf:\n",
    "        ttdm2cyldkd[i] = 2100               "
   ]
  },
  {
   "cell_type": "code",
   "execution_count": 41,
   "metadata": {},
   "outputs": [
    {
     "name": "stderr",
     "output_type": "stream",
     "text": [
      "2022-01-13 18:16:44.813 - pysb.simulator.scipyode - DEBUG - [model_files.nerm_pvals_inits] Simulator created\n",
      "2022-01-13 18:16:44.819 - pysb.simulator.scipyode - DEBUG - [model_files.nerm_pvals_inits] Equation mode set to \"cython\"\n",
      "2022-01-13 18:16:44.853 - pysb.simulator.scipyode - INFO - [model_files.nerm_pvals_inits] Simulation(s) started\n",
      "2022-01-13 18:16:45.053 - pysb.simulator.scipyode - DEBUG - [model_files.nerm_pvals_inits] Multi-processor (parallel) mode using 20 processes\n",
      "2022-01-13 18:20:57.392 - pysb.simulator.scipyode - INFO - [model_files.nerm_pvals_inits] All simulation(s) complete\n",
      "2022-01-13 18:20:57.393 - pysb.simulator.scipyode - DEBUG - [model_files.nerm_pvals_inits] SimulationResult constructor started\n",
      "2022-01-13 18:20:59.839 - pysb.simulator.scipyode - DEBUG - [model_files.nerm_pvals_inits] SimulationResult constructor finished\n"
     ]
    }
   ],
   "source": [
    "solveroem2cyld = ScipyOdeSimulator(model, tspan=t, verbose = True)\n",
    "mode1oem2cyld  = solveroem2cyld.run(initials = {m.CYLD(brip=None, btraf=None):90750},\n",
    "                                        param_values=m2, num_processors = 20)\n",
    "mode1df_oem2cyld = mode1oem2cyld.dataframe"
   ]
  },
  {
   "cell_type": "code",
   "execution_count": 42,
   "metadata": {},
   "outputs": [],
   "source": [
    "thresh = 2772\n",
    "ttdm2cyldoe = []\n",
    "for j in range(len(m2)):\n",
    "    i_range = range(len(mode1df_oem2cyld.loc[j]['MLKLa_obs']))\n",
    "    for i in i_range:\n",
    "        if mode1df_oem2cyld.loc[j]['MLKLa_obs'].iloc[i] > thresh:\n",
    "            ttdm2cyldoe.append(mode1df_oem2cyld.loc[j].index[i])\n",
    "            break\n",
    "        if i == i_range[-1]:\n",
    "            ttdm2cyldoe.append(np.inf)\n",
    "for i in range(len(ttdm2cyldoe)):\n",
    "    if ttdm2cyldoe[i] == np.inf:\n",
    "        ttdm2cyldoe[i] = 2100               "
   ]
  },
  {
   "cell_type": "code",
   "execution_count": null,
   "metadata": {},
   "outputs": [],
   "source": [
    "fig, ax = plt.subplots(figsize = (6, 4))\n",
    "for n in range(len(c2)):\n",
    "    plt.plot(tspan, m3alldf100wt.loc[n]['MLKLa_obs'].iloc[:]/5544, lw=1.5, \n",
    "             zorder = 1, color = 'blue', alpha= 0.4)\n",
    "#     plt.plot(tspan, m1alldf100lubackd.loc[n]['MLKLa_obs'].iloc[:]/5544, lw=1.5, \n",
    "#              zorder = 1, color = 'orange', alpha = 0.25)\n",
    "#     plt.plot(tspan, m1alldf100lubacoe.loc[n]['MLKLa_obs'].iloc[:]/5544, lw=1.5, \n",
    "#              zorder = 1, color = 'green', alpha = 0.25)\n",
    "# colormap = plt.cm.Reds #nipy_spectral, Set1,Paired   \n",
    "# colors = [colormap(i) for i in np.linspace(0, 1,len(ax.lines))]\n",
    "# for i,j in enumerate(ax.lines):\n",
    "#     j.set_color(colors[i])\n",
    "# ax1.legend(loc=2)    \n",
    "plt.xlabel(\"Time (m)\", fontsize=15)\n",
    "plt.ylabel(\"[pMLKL] Normalized\", fontsize=15)\n",
    "plt.xlim(xmin = 0, xmax = 1800)\n",
    "plt.ylim(ymin = 0)\n",
    "plt.xticks(fontsize=10)\n",
    "plt.yticks(fontsize=10)\n",
    "right_side = ax.spines[\"right\"]\n",
    "right_side.set_visible(False)\n",
    "top = ax.spines[\"top\"]\n",
    "top.set_visible(False)\n",
    "ax.grid(False)\n",
    "# ax.set_xticks([0, 5, 10, 15, 20, 24])\n",
    "custom_lines = [Line2D([0], [0], color='blue', lw=4),\n",
    "                Line2D([0], [0], color='orange', lw=4),\n",
    "               Line2D([0], [0], color='green', lw=4)]\n",
    "plt.legend(custom_lines, ['WT', 'LUBACKD', 'LUBACOE'], prop={'size': 10}, loc = 'best')\n",
    "plt.tight_layout()\n",
    "# plt.savefig('mode2_lubackdoe_testingplots_linesmin.pdf')\n",
    "plt.show() "
   ]
  },
  {
   "cell_type": "code",
   "execution_count": 23,
   "metadata": {},
   "outputs": [
    {
     "data": {
      "text/plain": [
       "[2100, 2100, 2100, 2100, 2100, 2100, 2100, 2100, 2100]"
      ]
     },
     "execution_count": 23,
     "metadata": {},
     "output_type": "execute_result"
    }
   ],
   "source": [
    "ttdm2a20kd"
   ]
  },
  {
   "cell_type": "code",
   "execution_count": 53,
   "metadata": {},
   "outputs": [
    {
     "name": "stdout",
     "output_type": "stream",
     "text": [
      "3489\n",
      "3489\n",
      "3489\n",
      "3489\n",
      "3489\n",
      "3489\n",
      "3489\n"
     ]
    }
   ],
   "source": [
    "print(len(ttdm2wt))\n",
    "print(len(ttdm2lubkd))\n",
    "print(len(ttdm2luboe2))\n",
    "print(len(ttdm2a20kd))\n",
    "print(len(ttdm2a20oe))\n",
    "print(len(ttdm2cyldoe))\n",
    "print(len(ttdm2cyldkd))"
   ]
  },
  {
   "cell_type": "code",
   "execution_count": 59,
   "metadata": {},
   "outputs": [],
   "source": [
    "#['lightcoral', 'lightseagreen', 'mediumpurple', 'peru']\n",
    "mode2wt = pd.DataFrame({'WT': ttdm2wt,\n",
    "                       'species':'wt'})\n",
    "mode2lub = pd.DataFrame({'KD': ttdm2lubkd,\n",
    "                         'OE': ttdm2luboe,\n",
    "                        'species': 'lubac'})\n",
    "mode2a20 = pd.DataFrame({'KD': ttdm2a20kd,\n",
    "                          'OE': ttdm2a20oe,\n",
    "                        'species': 'a20'})\n",
    "mode2cyld = pd.DataFrame({'KD': ttdm2cyldkd,\n",
    "                          'OE': ttdm2cyldoe,\n",
    "                        'species': 'cyld'})\n",
    "framesm2 = [mode2wt,mode2lub, mode2a20, mode2cyld]\n",
    "# # framesm2 = [mode2wt,mode2dfn, mode2dfn2,mode2dfn3,mode2dfn4,mode2dfn5]\n",
    "# # framesm3 = [mode2wt,mode2dfn, mode2dfn2]\n",
    "# # framesm4 = [mode2wt,mode2dfn]\n",
    "dfmode2 = pd.DataFrame(data = pd.concat(framesm2), columns = ['species','WT','KD','OE'])\n",
    "dfm2 = pd.melt(dfmode2, id_vars=[\"species\"])\n",
    "# dfclus2 = pd.DataFrame(data = pd.concat(framesm2), columns = ['species','KD','WT','OE'])\n",
    "# dfclus3 = pd.DataFrame(data = pd.concat(framesm3), columns = ['species','KD','WT','OE'])\n",
    "# dfclus4 = pd.DataFrame(data = pd.concat(framesm4), columns = ['species','KD','WT','OE'])\n",
    "# dfclus2nn = pd.melt(dfclus2nn)"
   ]
  },
  {
   "cell_type": "code",
   "execution_count": 60,
   "metadata": {},
   "outputs": [
    {
     "name": "stderr",
     "output_type": "stream",
     "text": [
      "No handles with labels found to put in legend.\n"
     ]
    },
    {
     "data": {
      "text/plain": [
       "<matplotlib.legend.Legend at 0x7feb086bbdd0>"
      ]
     },
     "execution_count": 60,
     "metadata": {},
     "output_type": "execute_result"
    },
    {
     "data": {
      "image/png": "[encoded data removed]",
      "text/plain": [
       "<Figure size 720x504 with 1 Axes>"
      ]
     },
     "metadata": {},
     "output_type": "display_data"
    }
   ],
   "source": [
    "import seaborn as sns\n",
    "plt.figure(figsize = (10,7))\n",
    "# sns.stripplot(data=mode2wt, orient = 'h',linewidth=0.5,size=10)\n",
    "sns.stripplot(data=dfm2, orient = 'h',linewidth=0.5,size=10)\n",
    "plt.xlim(xmin = 1)\n",
    "plt.legend(loc = 'lower right')"
   ]
  },
  {
   "cell_type": "code",
   "execution_count": 80,
   "metadata": {},
   "outputs": [
    {
     "data": {
      "image/png": "[encoded data removed]",
      "text/plain": [
       "<Figure size 864x504 with 1 Axes>"
      ]
     },
     "metadata": {},
     "output_type": "display_data"
    }
   ],
   "source": [
    "plt.figure(figsize = (12,7))\n",
    "b = sns.stripplot(data=dfm2, y=\"species\", x=\"value\", hue=\"variable\", marker=\"o\", alpha=0.5,dodge=True)#, orient = 'h',linewidth=0.5,size=5)\n",
    "plt.xlim(xmin = 1)\n",
    "plt.legend(loc='upper center', bbox_to_anchor=(0.5, 1.05),\n",
    "          ncol=3, fancybox=True, shadow=True)\n",
    "b.tick_params(labelsize=20)\n",
    "# plt.xlim(xmin = 250, xmax = 1000)"
   ]
  },
  {
   "cell_type": "code",
   "execution_count": 3,
   "metadata": {},
   "outputs": [
    {
     "ename": "NameError",
     "evalue": "name 'sns' is not defined",
     "output_type": "error",
     "traceback": [
      "\u001b[0;31m---------------------------------------------------------------------------\u001b[0m",
      "\u001b[0;31mNameError\u001b[0m                                 Traceback (most recent call last)",
      "\u001b[0;32m<ipython-input-3-330fa6b39cb1>\u001b[0m in \u001b[0;36m<module>\u001b[0;34m\u001b[0m\n\u001b[0;32m----> 1\u001b[0;31m \u001b[0msns\u001b[0m\u001b[0;34m.\u001b[0m\u001b[0mset_style\u001b[0m\u001b[0;34m(\u001b[0m\u001b[0;34m\"white\"\u001b[0m\u001b[0;34m)\u001b[0m\u001b[0;34m\u001b[0m\u001b[0;34m\u001b[0m\u001b[0m\n\u001b[0m\u001b[1;32m      2\u001b[0m \u001b[0mkwargs\u001b[0m \u001b[0;34m=\u001b[0m \u001b[0mdict\u001b[0m\u001b[0;34m(\u001b[0m\u001b[0mhist_kws\u001b[0m\u001b[0;34m=\u001b[0m\u001b[0;34m{\u001b[0m\u001b[0;34m'alpha'\u001b[0m\u001b[0;34m:\u001b[0m\u001b[0;36m.5\u001b[0m\u001b[0;34m}\u001b[0m\u001b[0;34m,\u001b[0m \u001b[0mkde_kws\u001b[0m\u001b[0;34m=\u001b[0m\u001b[0;34m{\u001b[0m\u001b[0;34m'linewidth'\u001b[0m\u001b[0;34m:\u001b[0m\u001b[0;36m0.5\u001b[0m\u001b[0;34m}\u001b[0m\u001b[0;34m)\u001b[0m\u001b[0;34m\u001b[0m\u001b[0;34m\u001b[0m\u001b[0m\n\u001b[1;32m      3\u001b[0m \u001b[0;31m# print('clus', np.mean(CI_k63))\u001b[0m\u001b[0;34m\u001b[0m\u001b[0;34m\u001b[0m\u001b[0;34m\u001b[0m\u001b[0m\n\u001b[1;32m      4\u001b[0m \u001b[0;31m# print('clus', np.std(CI_k63))\u001b[0m\u001b[0;34m\u001b[0m\u001b[0;34m\u001b[0m\u001b[0;34m\u001b[0m\u001b[0m\n\u001b[1;32m      5\u001b[0m \u001b[0mfig\u001b[0m\u001b[0;34m,\u001b[0m \u001b[0max\u001b[0m \u001b[0;34m=\u001b[0m \u001b[0mplt\u001b[0m\u001b[0;34m.\u001b[0m\u001b[0msubplots\u001b[0m\u001b[0;34m(\u001b[0m\u001b[0;34m)\u001b[0m\u001b[0;34m\u001b[0m\u001b[0;34m\u001b[0m\u001b[0m\n",
      "\u001b[0;31mNameError\u001b[0m: name 'sns' is not defined"
     ]
    }
   ],
   "source": [
    "sns.set_style(\"white\")\n",
    "kwargs = dict(hist_kws={'alpha':.5}, kde_kws={'linewidth':0.5})\n",
    "# print('clus', np.mean(CI_k63))\n",
    "# print('clus', np.std(CI_k63))\n",
    "fig, ax = plt.subplots()\n",
    "# sns.boxplot(x = 'variable', y = 'value', label ='WT',color=[\"red\",'green'], bins=10, **kwargs, kde = True)\n",
    "# g = sns.boxplot(y='variable',x='value',data=dfclus2n, showfliers=True, boxprops=dict(alpha=1))\n",
    "g = sns.stripplot(y='variable',x='value',data=dfm2, \n",
    "                        marker=\"o\", alpha=0.3, order=['WT', 'LUBACKD','LUBACOE','A20KD', 'A20OE','CYLDKD', 'CYLDOE'])\n",
    "# g = sns.stripplot(y='variable',x='value',data=dfclus2n, \n",
    "#                         marker=\"o\", alpha=0.3, order=[\"WT\", \"LUBACKD\", \"LUBACOE\"], color =['red', 'orange', 'blue'])\n",
    "# g = sns.stripplot(y='variable',x='value',data=dfclus2n, \n",
    "#                         marker=\"o\", alpha=0.3, order=[\"WT\", \"LUBACKD\", \"LUBACOE\"], color =['red', 'orange', 'blue'])\n",
    "# sns.distplot(mode2_lubacoe, label = 'LUBAC KD',color=\"blue\", bins=10, **kwargs, kde = True)\n",
    "# sns.distplot(mode2_lubackd, label = 'LUBAC OE',color=\"green\", bins=10, **kwargs, kde = True)\n",
    "# sns.distplot(CI_a20, label='uncluster',color=\"orange\", bins=25, **kwargs)\n",
    "# sns.distplot(CI_cyld, label='uncluster',color=\"deeppink\", bins=25, **kwargs)\n",
    "plt.xlabel('Time (m)')\n",
    "plt.ylabel('Species')\n",
    "plt.legend(loc = 'best')\n",
    "# plt.xlim(xmin = 1, xmax = 1000)\n",
    "# ax.set_yticks([1, 1.5, 2])\n",
    "# plt.ylim(ymax = 0.04)\n",
    "# plt.xticks([0, 5, 10, 15, 20, 24])\n",
    "right_side = ax.spines[\"right\"]\n",
    "right_side.set_visible(False)\n",
    "top = ax.spines[\"top\"]\n",
    "top.set_visible(False)\n",
    "plt.tight_layout()\n",
    "# plt.savefig('mode2_lubackdoe_testingplots_strip.pdf')\n",
    "plt.show()"
   ]
  },
  {
   "cell_type": "code",
   "execution_count": null,
   "metadata": {},
   "outputs": [],
   "source": []
  },
  {
   "cell_type": "code",
   "execution_count": 2,
   "metadata": {},
   "outputs": [
    {
     "ename": "NameError",
     "evalue": "name 'model' is not defined",
     "output_type": "error",
     "traceback": [
      "\u001b[0;31m---------------------------------------------------------------------------\u001b[0m",
      "\u001b[0;31mNameError\u001b[0m                                 Traceback (most recent call last)",
      "\u001b[0;32m<ipython-input-2-06dc2b071025>\u001b[0m in \u001b[0;36m<module>\u001b[0;34m\u001b[0m\n\u001b[0;32m----> 1\u001b[0;31m \u001b[0mlist\u001b[0m\u001b[0;34m(\u001b[0m\u001b[0mmodel\u001b[0m\u001b[0;34m.\u001b[0m\u001b[0minitial_conditions\u001b[0m\u001b[0;34m)\u001b[0m\u001b[0;34m\u001b[0m\u001b[0;34m\u001b[0m\u001b[0m\n\u001b[0m",
      "\u001b[0;31mNameError\u001b[0m: name 'model' is not defined"
     ]
    }
   ],
   "source": [
    "list(model.initial_conditions)"
   ]
  },
  {
   "cell_type": "code",
   "execution_count": null,
   "metadata": {},
   "outputs": [],
   "source": [
    "solverkdm2lubac = ScipyOdeSimulator(model, tspan=t, verbose = True)\n",
    "mode1kdm2lubac   = solverkdm2lubac.run(initials = {m.LUBAC(brip=None):2167},\n",
    "                                        param_values=m2, num_processors = 20)\n",
    "mode1df_kdm2lubac  = mode1kdm2lubac.dataframe"
   ]
  },
  {
   "cell_type": "code",
   "execution_count": null,
   "metadata": {},
   "outputs": [],
   "source": [
    "thresh = 2772\n",
    "ttdm2lubkd = []\n",
    "for j in range(len(m2)):\n",
    "    i_range = range(len(mode1df_kdm2lubac.loc[j]['MLKLa_obs']))\n",
    "    for i in i_range:\n",
    "        if mode1df_kdm2lubac.loc[j]['MLKLa_obs'].iloc[i] > thresh:\n",
    "            ttdm2lubkd.append(mode1df_kdm2lubac.loc[j].index[i])\n",
    "            break\n",
    "        if i == i_range[-1]:\n",
    "            ttdm2lubkd.append(np.inf)\n",
    "for i in range(len(ttdm2lubkd)):\n",
    "    if ttdm2lubkd[i] == np.inf:\n",
    "        ttdm2lubkd[i] = 2100               "
   ]
  },
  {
   "cell_type": "code",
   "execution_count": null,
   "metadata": {},
   "outputs": [],
   "source": [
    "solveroem2lubac = ScipyOdeSimulator(model, tspan=t, verbose = True)\n",
    "mode1oem2lubac  = solveroem2lubac.run(initials = {m.LUBAC(brip=None):72260},\n",
    "                                        param_values=m2, num_processors = 20)\n",
    "mode1df_oem2lubac = mode1oem2lubac.dataframe"
   ]
  },
  {
   "cell_type": "code",
   "execution_count": null,
   "metadata": {},
   "outputs": [],
   "source": [
    "thresh = 2772\n",
    "ttdm2luboe2 = []\n",
    "for j in range(len(m2)):\n",
    "    i_range = range(len(mode1df_oem2lubac.loc[j]['MLKLa_obs']))\n",
    "    for i in i_range:\n",
    "        if mode1df_kdm2lubac.loc[j]['MLKLa_obs'].iloc[i] > thresh:\n",
    "            ttdm2luboe2.append(mode1df_oem2lubac.loc[j].index[i])\n",
    "            break\n",
    "        if i == i_range[-1]:\n",
    "            ttdm2luboe2.append(np.inf)\n",
    "for i in range(len(ttdm2luboe2)):\n",
    "    if ttdm2luboe2[i] == np.inf:\n",
    "        ttdm2luboe2[i] = 2100               "
   ]
  },
  {
   "cell_type": "code",
   "execution_count": null,
   "metadata": {},
   "outputs": [],
   "source": [
    "solverkdm2a20 = ScipyOdeSimulator(model, tspan=t, verbose = True)\n",
    "mode1kdm2a20   = solverkdm2a20.run(initials = {m.A20(brip=None):2772},\n",
    "                                        param_values=m2, num_processors = 20)\n",
    "mode1df_kdm2a20  = mode1kdm2a20.dataframe"
   ]
  },
  {
   "cell_type": "code",
   "execution_count": null,
   "metadata": {},
   "outputs": [],
   "source": [
    "thresh = 2772\n",
    "ttdm2a20kd = []\n",
    "for j in range(len(m2)):\n",
    "    i_range = range(len(mode1df_kdm2a20.loc[j]['MLKLa_obs']))\n",
    "    for i in i_range:\n",
    "        if mode1df_kdm2a20.loc[j]['MLKLa_obs'].iloc[i] > thresh:\n",
    "            ttdm2a20kd.append(mode1df_kdm2a20.loc[j].index[i])\n",
    "            break\n",
    "        if i == i_range[-1]:\n",
    "            ttdm2a20kd.append(np.inf)\n",
    "for i in range(len(ttdm2a20kd)):\n",
    "    if ttdm2a20kd[i] == np.inf:\n",
    "        ttdm2a20kd[i] = 2100               "
   ]
  },
  {
   "cell_type": "code",
   "execution_count": null,
   "metadata": {},
   "outputs": [],
   "source": [
    "solveroem2a20 = ScipyOdeSimulator(model, tspan=t, verbose = True)\n",
    "mode1oem2a20  = solveroem2a20.run(initials = {m.A20(brip=None):90750},\n",
    "                                        param_values=m2, num_processors = 20)\n",
    "mode1df_oem2a20 = mode1oem2a20.dataframe"
   ]
  },
  {
   "cell_type": "code",
   "execution_count": null,
   "metadata": {},
   "outputs": [],
   "source": [
    "thresh = 2772\n",
    "ttdm2a20oe = []\n",
    "for j in range(len(m2)):\n",
    "    i_range = range(len(mode1df_oem2a20.loc[j]['MLKLa_obs']))\n",
    "    for i in i_range:\n",
    "        if mode1df_oem2a20.loc[j]['MLKLa_obs'].iloc[i] > thresh:\n",
    "            ttdm2a20oe.append(mode1df_oem2a20.loc[j].index[i])\n",
    "            break\n",
    "        if i == i_range[-1]:\n",
    "            ttdm2a20oe.append(np.inf)\n",
    "for i in range(len(ttdm2a20oe)):\n",
    "    if ttdm2a20oe[i] == np.inf:\n",
    "        ttdm2a20oe[i] = 2100               "
   ]
  },
  {
   "cell_type": "code",
   "execution_count": null,
   "metadata": {},
   "outputs": [],
   "source": [
    "solverkdm2cyld = ScipyOdeSimulator(model, tspan=t, verbose = True)\n",
    "mode1kdm2cyld   = solverkdm2cyld.run(initials = {m.CYLD(brip=None, btraf=None):2772},\n",
    "                                        param_values=m2, num_processors = 20)\n",
    "mode1df_kdm2cyld  = mode1kdm2cyld.dataframe"
   ]
  },
  {
   "cell_type": "code",
   "execution_count": null,
   "metadata": {},
   "outputs": [],
   "source": [
    "thresh = 2772\n",
    "ttdm2cyldkd = []\n",
    "for j in range(len(m2)):\n",
    "    i_range = range(len(mode1df_kdm2cyld.loc[j]['MLKLa_obs']))\n",
    "    for i in i_range:\n",
    "        if mode1df_kdm2cyld.loc[j]['MLKLa_obs'].iloc[i] > thresh:\n",
    "            ttdm2cyldkd.append(mode1df_kdm2cyld.loc[j].index[i])\n",
    "            break\n",
    "        if i == i_range[-1]:\n",
    "            ttdm2cyldkd.append(np.inf)\n",
    "for i in range(len(ttdm2cyldkd)):\n",
    "    if ttdm2cyldkd[i] == np.inf:\n",
    "        ttdm2cyldkd[i] = 2100               "
   ]
  },
  {
   "cell_type": "code",
   "execution_count": null,
   "metadata": {},
   "outputs": [],
   "source": [
    "solveroem2cyld = ScipyOdeSimulator(model, tspan=t, verbose = True)\n",
    "mode1oem2cyld  = solveroem2cyld.run(initials = {m.CYLD(brip=None, btraf=None):90750},\n",
    "                                        param_values=m2, num_processors = 20)\n",
    "mode1df_oem2cyld = mode1oem2cyld.dataframe"
   ]
  },
  {
   "cell_type": "code",
   "execution_count": null,
   "metadata": {},
   "outputs": [],
   "source": [
    "thresh = 2772\n",
    "ttdm2cyldoe = []\n",
    "for j in range(len(m2)):\n",
    "    i_range = range(len(mode1df_oem2cyld.loc[j]['MLKLa_obs']))\n",
    "    for i in i_range:\n",
    "        if mode1df_oem2cyld.loc[j]['MLKLa_obs'].iloc[i] > thresh:\n",
    "            ttdm2cyldoe.append(mode1df_oem2cyld.loc[j].index[i])\n",
    "            break\n",
    "        if i == i_range[-1]:\n",
    "            ttdm2cyldoe.append(np.inf)\n",
    "for i in range(len(ttdm2cyldoe)):\n",
    "    if ttdm2cyldoe[i] == np.inf:\n",
    "        ttdm2cyldoe[i] = 2100               "
   ]
  },
  {
   "cell_type": "code",
   "execution_count": null,
   "metadata": {},
   "outputs": [],
   "source": []
  },
  {
   "cell_type": "code",
   "execution_count": null,
   "metadata": {},
   "outputs": [],
   "source": []
  },
  {
   "cell_type": "code",
   "execution_count": null,
   "metadata": {},
   "outputs": [],
   "source": []
  }
 ],
 "metadata": {
  "kernelspec": {
   "display_name": "Python 3",
   "language": "python",
   "name": "python3"
  },
  "language_info": {
   "codemirror_mode": {
    "name": "ipython",
    "version": 3
   },
   "file_extension": ".py",
   "mimetype": "text/x-python",
   "name": "python",
   "nbconvert_exporter": "python",
   "pygments_lexer": "ipython3",
   "version": "3.7.5"
  }
 },
 "nbformat": 4,
 "nbformat_minor": 2
}
