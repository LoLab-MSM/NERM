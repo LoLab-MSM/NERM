{
 "cells": [
  {
   "cell_type": "code",
   "execution_count": 2,
   "metadata": {},
   "outputs": [],
   "source": [
    "import os\n",
    "from pylab import *\n",
    "from pysb.core import *\n",
    "from pysb.bng import *\n",
    "from pysb.integrate import *\n",
    "import matplotlib.pyplot as plt\n",
    "import numpy as np\n",
    "from pysb.util import alias_model_components\n",
    "from pysb.simulator import CupSodaSimulator\n",
    "from pysb.simulator import ScipyOdeSimulator\n",
    "from pysb.simulator.bng import BngSimulator\n",
    "import sys\n",
    "sys.path.append('../')\n",
    "sys.path.append('../../../')\n",
    "sys.path.append('/home/ildefog/main/Projects/NERM/')\n",
    "sys.path.append('/home/ildefog/main/Projects/NERM/params_testing/')\n",
    "from model_files.nerm_pvals import model \n",
    "import pandas as pd\n",
    "from scipy import stats\n",
    "from pysb.simulator import SimulationResult\n",
    "import logging\n",
    "import os\n",
    "from pysb.logging import setup_logger\n",
    "from pysb.simulator.cupsoda import CupSodaSimulator\n",
    "from pysb.simulator.scipyode import ScipyOdeSimulator\n",
    "from sensitivity_analysis4 import InitialsSensitivity\n",
    "from pysb.util import update_param_vals\n",
    "from scipy.stats import norm,uniform, halfnorm\n",
    "from pysb.tools.sensitivity_analysis import PairwiseSensitivity\n",
    "os.environ['OMP_NUM_THREADS'] = '1'\n",
    "from scipy.optimize import curve_fit\n",
    "import seaborn as sns"
   ]
  },
  {
   "cell_type": "code",
   "execution_count": null,
   "metadata": {},
   "outputs": [],
   "source": [
    "# m1 = np.load('../../params_testing/necro_pars10k_mode1_5720_modcylda20.npy')\n",
    "# m2 = np.load('../../params_testing/necro_pars10k_mode2_5720_modcylda20.npy')\n",
    "# m3 = np.load('../../params_testing/necro_pars10k_mode3_5720_modcylda20.npy')\n",
    "# m4 = np.load('../../params_testing/necro_pars10k_mode4_5720_modcylda20.npy')"
   ]
  },
  {
   "cell_type": "code",
   "execution_count": 3,
   "metadata": {},
   "outputs": [],
   "source": [
    "m4 = np.load('../../params_testing/necro_pars10k_mode4_5720_modcylda20.npy')\n",
    "m1p4kd = np.load('../../params_testing/necro_pars10k_mode4_5720_modcylda20.npy')\n",
    "m1p4oe = np.load('../../params_testing/necro_pars10k_mode4_5720_modcylda20.npy')\n",
    "m1p12kd = np.load('../../params_testing/necro_pars10k_mode4_5720_modcylda20.npy')\n",
    "m1p12oe = np.load('../../params_testing/necro_pars10k_mode4_5720_modcylda20.npy')\n",
    "m1p13kd = np.load('../../params_testing/necro_pars10k_mode4_5720_modcylda20.npy')\n",
    "m1p13oe = np.load('../../params_testing/necro_pars10k_mode4_5720_modcylda20.npy')\n",
    "m1p14kd = np.load('../../params_testing/necro_pars10k_mode4_5720_modcylda20.npy')\n",
    "m1p14oe = np.load('../../params_testing/necro_pars10k_mode4_5720_modcylda20.npy')"
   ]
  },
  {
   "cell_type": "code",
   "execution_count": 4,
   "metadata": {},
   "outputs": [],
   "source": [
    "m1p4kd[:][:,17] = m1p4kd[:][:,17]/10\n",
    "m1p4oe[:][:,17] = m1p4oe[:][:,17]*10\n",
    "\n",
    "m1p12kd[:][:,25] = m1p12kd[:][:,25]/10\n",
    "m1p12oe[:][:,25] = m1p12oe[:][:,25]*10\n",
    "\n",
    "m1p13kd[:][:,26] = m1p13kd[:][:,26]/10\n",
    "m1p13oe[:][:,26] = m1p13oe[:][:,26]*10\n",
    "\n",
    "m1p14kd[:][:,27] = m1p14kd[:][:,27]/10\n",
    "m1p14oe[:][:,27] = m1p14oe[:][:,27]*10"
   ]
  },
  {
   "cell_type": "code",
   "execution_count": 5,
   "metadata": {},
   "outputs": [
    {
     "name": "stdout",
     "output_type": "stream",
     "text": [
      "[(A20(brip=None), Parameter('A20_0', 9075.0)), (C8(bf=None, flip=None, state='I'), Parameter('C8_0', 3799.0)), (cIAP(btraf=None), Parameter('cIAP_0', 8986.0)), (CYLD(brip=None, btraf=None), Parameter('CYLD_0', 9075.0)), (FADD(bDD=None, bDED1=None, bDED2=None), Parameter('FADD_0', 3109.0)), (FLIP(bDED=None, state='A'), Parameter('FLIP_0', 3910.0)), (LUBAC(brip=None), Parameter('LUBAC_0', 7226.0)), (MLKL(bRHIM=None, state='unmod'), Parameter('MLKLa_0', 5544.0)), (RIP1(bscf=None, bub1=None, bub2=None, bub3=None, bDD=None, btraf=None, bRHIM=None, bMLKL=None, state='unmod'), Parameter('RIP1_0', 22044.0)), (RIP3(bRHIM=None, bDD=None, state='unmod'), Parameter('RIP3_0', 10654.0)), (TNF(brec=None), Parameter('TNF_0', 2326.0)), (TNFR(blig=None, brip=None, bDD=None), Parameter('TNFR_0', 4809.0)), (TRADD(brec=None, brip=None, state='unmod', bDD1=None, bDD2=None), Parameter('TRADD_0', 4696.0)), (TRAF(brip=None, bciap=None, bcyld=None, state='unmod'), Parameter('TRAF_0', 11776.0))]\n"
     ]
    }
   ],
   "source": [
    "t = np.linspace(0,1800,500)\n",
    "m = model.components\n",
    "print(list(model.initial_conditions))"
   ]
  },
  {
   "cell_type": "code",
   "execution_count": 6,
   "metadata": {},
   "outputs": [
    {
     "name": "stderr",
     "output_type": "stream",
     "text": [
      "2022-01-17 16:02:43.063 - pysb.simulator.scipyode - DEBUG - [model_files.nerm_pvals] Simulator created\n",
      "2022-01-17 16:02:43.875 - pysb.simulator.scipyode - DEBUG - [model_files.nerm_pvals] Equation mode set to \"cython\"\n",
      "2022-01-17 16:02:43.942 - pysb.simulator.scipyode - INFO - [model_files.nerm_pvals] Simulation(s) started\n",
      "2022-01-17 16:02:44.044 - pysb.simulator.scipyode - DEBUG - [model_files.nerm_pvals] Multi-processor (parallel) mode using 20 processes\n",
      "2022-01-17 16:03:39.049 - pysb.simulator.scipyode - INFO - [model_files.nerm_pvals] All simulation(s) complete\n",
      "2022-01-17 16:03:39.051 - pysb.simulator.scipyode - DEBUG - [model_files.nerm_pvals] SimulationResult constructor started\n",
      "2022-01-17 16:03:40.195 - pysb.simulator.scipyode - DEBUG - [model_files.nerm_pvals] SimulationResult constructor finished\n"
     ]
    }
   ],
   "source": [
    "solverwtm1 = ScipyOdeSimulator(model, tspan=t, verbose = True)\n",
    "mode1wtm1  = solverwtm1.run(param_values=m4, num_processors = 20)\n",
    "mode1df_wtm1 = mode1wtm1.dataframe"
   ]
  },
  {
   "cell_type": "code",
   "execution_count": 7,
   "metadata": {},
   "outputs": [
    {
     "data": {
      "image/png": "[encoded data removed]",
      "text/plain": [
       "<Figure size 432x288 with 1 Axes>"
      ]
     },
     "metadata": {
      "needs_background": "light"
     },
     "output_type": "display_data"
    }
   ],
   "source": [
    "plt.figure()\n",
    "for n in range(len(m4)):\n",
    "    plt.plot(t/60, mode1df_wtm1.loc[n]['MLKLa_obs'].iloc[:]/5544)\n",
    "plt.show()"
   ]
  },
  {
   "cell_type": "code",
   "execution_count": 8,
   "metadata": {},
   "outputs": [],
   "source": [
    "thresh = 2772\n",
    "ttdwt = []\n",
    "for j in range(len(m4)):\n",
    "    i_range = range(len(mode1df_wtm1.loc[j]['MLKLa_obs']))\n",
    "    for i in i_range:\n",
    "        if mode1df_wtm1.loc[j]['MLKLa_obs'].iloc[i] > thresh:\n",
    "            ttdwt.append(mode1df_wtm1.loc[j].index[i])\n",
    "            break\n",
    "        if i == i_range[-1]:\n",
    "            ttdwt.append(np.inf)\n",
    "for i in range(len(ttdwt)):\n",
    "    if ttdwt[i] == np.inf:\n",
    "        ttdwt[i] = 2100               "
   ]
  },
  {
   "cell_type": "code",
   "execution_count": null,
   "metadata": {},
   "outputs": [],
   "source": [
    "mode1wtm1.save('mode4_senspars_wtpmlkl.h5', include_obs_exprs=True)\n",
    "np.array(ttdwt).dump(open('mode4_senspars_wtpmlkl_ttds.npy', 'wb'))"
   ]
  },
  {
   "cell_type": "code",
   "execution_count": 9,
   "metadata": {},
   "outputs": [
    {
     "name": "stderr",
     "output_type": "stream",
     "text": [
      "2022-01-17 16:05:24.842 - pysb.simulator.scipyode - DEBUG - [model_files.nerm_pvals] Simulator created\n",
      "2022-01-17 16:05:24.848 - pysb.simulator.scipyode - DEBUG - [model_files.nerm_pvals] Equation mode set to \"cython\"\n",
      "2022-01-17 16:05:24.882 - pysb.simulator.scipyode - INFO - [model_files.nerm_pvals] Simulation(s) started\n",
      "2022-01-17 16:05:24.985 - pysb.simulator.scipyode - DEBUG - [model_files.nerm_pvals] Multi-processor (parallel) mode using 20 processes\n",
      "2022-01-17 16:06:19.414 - pysb.simulator.scipyode - INFO - [model_files.nerm_pvals] All simulation(s) complete\n",
      "2022-01-17 16:06:19.416 - pysb.simulator.scipyode - DEBUG - [model_files.nerm_pvals] SimulationResult constructor started\n",
      "2022-01-17 16:06:20.479 - pysb.simulator.scipyode - DEBUG - [model_files.nerm_pvals] SimulationResult constructor finished\n"
     ]
    }
   ],
   "source": [
    "solverp4kd = ScipyOdeSimulator(model, tspan=t, verbose = True)\n",
    "mode1p4kd  = solverp4kd.run(param_values=m1p4kd, num_processors = 20)\n",
    "mode1df_p4kd = mode1p4kd.dataframe"
   ]
  },
  {
   "cell_type": "code",
   "execution_count": 10,
   "metadata": {},
   "outputs": [],
   "source": [
    "thresh = 2772\n",
    "ttdp4kd = []\n",
    "for j in range(len(m4)):\n",
    "    i_range = range(len(mode1df_p4kd.loc[j]['MLKLa_obs']))\n",
    "    for i in i_range:\n",
    "        if mode1df_p4kd.loc[j]['MLKLa_obs'].iloc[i] > thresh:\n",
    "            ttdp4kd.append(mode1df_p4kd.loc[j].index[i])\n",
    "            break\n",
    "        if i == i_range[-1]:\n",
    "            ttdp4kd.append(np.inf)\n",
    "for i in range(len(ttdp4kd)):\n",
    "    if ttdp4kd[i] == np.inf:\n",
    "        ttdp4kd[i] = 2100              "
   ]
  },
  {
   "cell_type": "code",
   "execution_count": null,
   "metadata": {},
   "outputs": [],
   "source": [
    "# mode1p4kd.save('mode4_senspars_p4kd.h5', include_obs_exprs=True)\n",
    "# np.array(ttdp4kd).dump(open('mode4_senspars_wp4kd_ttds.npy', 'wb'))"
   ]
  },
  {
   "cell_type": "code",
   "execution_count": 11,
   "metadata": {},
   "outputs": [
    {
     "name": "stderr",
     "output_type": "stream",
     "text": [
      "2022-01-17 16:08:11.386 - pysb.simulator.scipyode - DEBUG - [model_files.nerm_pvals] Simulator created\n",
      "2022-01-17 16:08:11.391 - pysb.simulator.scipyode - DEBUG - [model_files.nerm_pvals] Equation mode set to \"cython\"\n",
      "2022-01-17 16:08:11.426 - pysb.simulator.scipyode - INFO - [model_files.nerm_pvals] Simulation(s) started\n",
      "2022-01-17 16:08:11.528 - pysb.simulator.scipyode - DEBUG - [model_files.nerm_pvals] Multi-processor (parallel) mode using 20 processes\n",
      "2022-01-17 16:09:09.447 - pysb.simulator.scipyode - INFO - [model_files.nerm_pvals] All simulation(s) complete\n",
      "2022-01-17 16:09:09.449 - pysb.simulator.scipyode - DEBUG - [model_files.nerm_pvals] SimulationResult constructor started\n",
      "2022-01-17 16:09:10.512 - pysb.simulator.scipyode - DEBUG - [model_files.nerm_pvals] SimulationResult constructor finished\n"
     ]
    }
   ],
   "source": [
    "solverp4oe = ScipyOdeSimulator(model, tspan=t, verbose = True)\n",
    "mode1p4oe   = solverp4oe.run(param_values=m1p4oe, num_processors = 20)\n",
    "mode1df_p4oe  = mode1p4oe.dataframe"
   ]
  },
  {
   "cell_type": "code",
   "execution_count": 12,
   "metadata": {},
   "outputs": [],
   "source": [
    "thresh = 2772\n",
    "ttdp4oe = []\n",
    "for j in range(len(m4)):\n",
    "    i_range = range(len(mode1df_p4oe.loc[j]['MLKLa_obs']))\n",
    "    for i in i_range:\n",
    "        if mode1df_p4oe.loc[j]['MLKLa_obs'].iloc[i] > thresh:\n",
    "            ttdp4oe.append(mode1df_p4oe.loc[j].index[i])\n",
    "            break\n",
    "        if i == i_range[-1]:\n",
    "            ttdp4oe.append(np.inf)\n",
    "for i in range(len(ttdp4oe)):\n",
    "    if ttdp4oe[i] == np.inf:\n",
    "        ttdp4oe[i] = 2100               "
   ]
  },
  {
   "cell_type": "code",
   "execution_count": 13,
   "metadata": {},
   "outputs": [],
   "source": [
    "mode1p4oe.save('mode4_senspars_ap4oe.h5', include_obs_exprs=True)\n",
    "np.array(ttdp4oe).dump(open('mode4_senspars_p4oe_ttds.npy', 'wb'))"
   ]
  },
  {
   "cell_type": "code",
   "execution_count": 15,
   "metadata": {},
   "outputs": [
    {
     "name": "stderr",
     "output_type": "stream",
     "text": [
      "2022-01-17 16:11:17.786 - pysb.simulator.scipyode - DEBUG - [model_files.nerm_pvals] Simulator created\n",
      "2022-01-17 16:11:17.798 - pysb.simulator.scipyode - DEBUG - [model_files.nerm_pvals] Equation mode set to \"cython\"\n",
      "2022-01-17 16:11:17.869 - pysb.simulator.scipyode - INFO - [model_files.nerm_pvals] Simulation(s) started\n",
      "2022-01-17 16:11:18.003 - pysb.simulator.scipyode - DEBUG - [model_files.nerm_pvals] Multi-processor (parallel) mode using 20 processes\n",
      "2022-01-17 16:12:16.751 - pysb.simulator.scipyode - INFO - [model_files.nerm_pvals] All simulation(s) complete\n",
      "2022-01-17 16:12:16.753 - pysb.simulator.scipyode - DEBUG - [model_files.nerm_pvals] SimulationResult constructor started\n",
      "2022-01-17 16:12:17.850 - pysb.simulator.scipyode - DEBUG - [model_files.nerm_pvals] SimulationResult constructor finished\n"
     ]
    }
   ],
   "source": [
    "solverm1p12kd = ScipyOdeSimulator(model, tspan=t, verbose = True)\n",
    "mode1m1p12kd  = solverm1p12kd.run(param_values=m1p12kd, num_processors = 20)\n",
    "mode1df_m1p12kd = mode1m1p12kd.dataframe"
   ]
  },
  {
   "cell_type": "code",
   "execution_count": 16,
   "metadata": {},
   "outputs": [],
   "source": [
    "thresh = 2772\n",
    "ttdm1p12kd = []\n",
    "for j in range(len(m4)):\n",
    "    i_range = range(len(mode1df_m1p12kd.loc[j]['MLKLa_obs']))\n",
    "    for i in i_range:\n",
    "        if mode1df_m1p12kd.loc[j]['MLKLa_obs'].iloc[i] > thresh:\n",
    "            ttdm1p12kd.append(mode1df_m1p12kd.loc[j].index[i])\n",
    "            break\n",
    "        if i == i_range[-1]:\n",
    "            ttdm1p12kd.append(np.inf)\n",
    "for i in range(len(ttdm1p12kd)):\n",
    "    if ttdm1p12kd[i] == np.inf:\n",
    "        ttdm1p12kd[i] = 2100               "
   ]
  },
  {
   "cell_type": "code",
   "execution_count": 17,
   "metadata": {},
   "outputs": [],
   "source": [
    "mode1m1p12kd.save('mode4_senspars_p12kd.h5', include_obs_exprs=True)\n",
    "np.array(ttdm1p12kd).dump(open('mode4_senspars_p12kd_ttds.npy', 'wb'))"
   ]
  },
  {
   "cell_type": "code",
   "execution_count": 18,
   "metadata": {},
   "outputs": [
    {
     "name": "stderr",
     "output_type": "stream",
     "text": [
      "2022-01-17 16:14:55.522 - pysb.simulator.scipyode - DEBUG - [model_files.nerm_pvals] Simulator created\n",
      "2022-01-17 16:14:55.527 - pysb.simulator.scipyode - DEBUG - [model_files.nerm_pvals] Equation mode set to \"cython\"\n",
      "2022-01-17 16:14:55.562 - pysb.simulator.scipyode - INFO - [model_files.nerm_pvals] Simulation(s) started\n",
      "2022-01-17 16:14:55.668 - pysb.simulator.scipyode - DEBUG - [model_files.nerm_pvals] Multi-processor (parallel) mode using 20 processes\n",
      "2022-01-17 16:15:54.151 - pysb.simulator.scipyode - INFO - [model_files.nerm_pvals] All simulation(s) complete\n",
      "2022-01-17 16:15:54.153 - pysb.simulator.scipyode - DEBUG - [model_files.nerm_pvals] SimulationResult constructor started\n",
      "2022-01-17 16:15:55.318 - pysb.simulator.scipyode - DEBUG - [model_files.nerm_pvals] SimulationResult constructor finished\n"
     ]
    }
   ],
   "source": [
    "solverm1p12oe = ScipyOdeSimulator(model, tspan=t, verbose = True)\n",
    "mode1m1p12oe  = solverm1p12oe.run(param_values=m1p12oe, num_processors = 20)\n",
    "mode1df_m1p12oe = mode1m1p12oe.dataframe"
   ]
  },
  {
   "cell_type": "code",
   "execution_count": 19,
   "metadata": {},
   "outputs": [],
   "source": [
    "thresh = 2772\n",
    "ttdm1p12oe = []\n",
    "for j in range(len(m4)):\n",
    "    i_range = range(len(mode1df_m1p12oe.loc[j]['MLKLa_obs']))\n",
    "    for i in i_range:\n",
    "        if mode1df_m1p12oe.loc[j]['MLKLa_obs'].iloc[i] > thresh:\n",
    "            ttdm1p12oe.append(mode1df_m1p12oe.loc[j].index[i])\n",
    "            break\n",
    "        if i == i_range[-1]:\n",
    "            ttdm1p12oe.append(np.inf)\n",
    "for i in range(len(ttdm1p12oe)):\n",
    "    if ttdm1p12oe[i] == np.inf:\n",
    "        ttdm1p12oe[i] = 2100               "
   ]
  },
  {
   "cell_type": "code",
   "execution_count": 20,
   "metadata": {},
   "outputs": [],
   "source": [
    "mode1m1p12oe.save('mode4_senspars_p12oe.h5', include_obs_exprs=True)\n",
    "np.array(ttdm1p12oe).dump(open('mode4_senspars_p12oe_ttds.npy', 'wb'))"
   ]
  },
  {
   "cell_type": "code",
   "execution_count": 21,
   "metadata": {},
   "outputs": [
    {
     "name": "stderr",
     "output_type": "stream",
     "text": [
      "2022-01-17 16:17:21.814 - pysb.simulator.scipyode - DEBUG - [model_files.nerm_pvals] Simulator created\n",
      "2022-01-17 16:17:21.819 - pysb.simulator.scipyode - DEBUG - [model_files.nerm_pvals] Equation mode set to \"cython\"\n",
      "2022-01-17 16:17:21.854 - pysb.simulator.scipyode - INFO - [model_files.nerm_pvals] Simulation(s) started\n",
      "2022-01-17 16:17:21.961 - pysb.simulator.scipyode - DEBUG - [model_files.nerm_pvals] Multi-processor (parallel) mode using 20 processes\n",
      "2022-01-17 16:18:20.083 - pysb.simulator.scipyode - INFO - [model_files.nerm_pvals] All simulation(s) complete\n",
      "2022-01-17 16:18:20.085 - pysb.simulator.scipyode - DEBUG - [model_files.nerm_pvals] SimulationResult constructor started\n",
      "2022-01-17 16:18:21.163 - pysb.simulator.scipyode - DEBUG - [model_files.nerm_pvals] SimulationResult constructor finished\n"
     ]
    }
   ],
   "source": [
    "solverm1p13kd = ScipyOdeSimulator(model, tspan=t, verbose = True)\n",
    "mode1m1p13kd  = solverm1p13kd.run(param_values=m1p13kd, num_processors = 20)\n",
    "mode1df_m1p13kd = mode1m1p13kd.dataframe"
   ]
  },
  {
   "cell_type": "code",
   "execution_count": 22,
   "metadata": {},
   "outputs": [],
   "source": [
    "thresh = 2772\n",
    "ttdm1p13kd = []\n",
    "for j in range(len(m4)):\n",
    "    i_range = range(len(mode1df_m1p13kd.loc[j]['MLKLa_obs']))\n",
    "    for i in i_range:\n",
    "        if mode1df_m1p13kd.loc[j]['MLKLa_obs'].iloc[i] > thresh:\n",
    "            ttdm1p13kd.append(mode1df_m1p13kd.loc[j].index[i])\n",
    "            break\n",
    "        if i == i_range[-1]:\n",
    "            ttdm1p13kd.append(np.inf)\n",
    "for i in range(len(ttdm1p13kd)):\n",
    "    if ttdm1p13kd[i] == np.inf:\n",
    "        ttdm1p13kd[i] = 2100    "
   ]
  },
  {
   "cell_type": "code",
   "execution_count": 23,
   "metadata": {},
   "outputs": [],
   "source": [
    "mode1m1p13kd.save('mode4_senspars_p13kd.h5', include_obs_exprs=True)\n",
    "np.array(ttdm1p13kd).dump(open('mode4_senspars_p13kd_ttds.npy', 'wb'))"
   ]
  },
  {
   "cell_type": "code",
   "execution_count": 24,
   "metadata": {},
   "outputs": [
    {
     "name": "stderr",
     "output_type": "stream",
     "text": [
      "2022-01-17 16:20:13.478 - pysb.simulator.scipyode - DEBUG - [model_files.nerm_pvals] Simulator created\n",
      "2022-01-17 16:20:13.484 - pysb.simulator.scipyode - DEBUG - [model_files.nerm_pvals] Equation mode set to \"cython\"\n",
      "2022-01-17 16:20:13.519 - pysb.simulator.scipyode - INFO - [model_files.nerm_pvals] Simulation(s) started\n",
      "2022-01-17 16:20:13.627 - pysb.simulator.scipyode - DEBUG - [model_files.nerm_pvals] Multi-processor (parallel) mode using 20 processes\n",
      "2022-01-17 16:21:11.132 - pysb.simulator.scipyode - INFO - [model_files.nerm_pvals] All simulation(s) complete\n",
      "2022-01-17 16:21:11.134 - pysb.simulator.scipyode - DEBUG - [model_files.nerm_pvals] SimulationResult constructor started\n",
      "2022-01-17 16:21:12.198 - pysb.simulator.scipyode - DEBUG - [model_files.nerm_pvals] SimulationResult constructor finished\n"
     ]
    }
   ],
   "source": [
    "solverm1p13oe = ScipyOdeSimulator(model, tspan=t, verbose = True)\n",
    "mode1m1p13oe  = solverm1p13oe.run(param_values=m1p13oe, num_processors = 20)\n",
    "mode1df_m1p13oe = mode1m1p13oe.dataframe"
   ]
  },
  {
   "cell_type": "code",
   "execution_count": 25,
   "metadata": {},
   "outputs": [],
   "source": [
    "thresh = 2772\n",
    "ttdm1p13oe = []\n",
    "for j in range(len(m4)):\n",
    "    i_range = range(len(mode1df_m1p13oe.loc[j]['MLKLa_obs']))\n",
    "    for i in i_range:\n",
    "        if mode1df_m1p13oe.loc[j]['MLKLa_obs'].iloc[i] > thresh:\n",
    "            ttdm1p13oe.append(mode1df_m1p13oe.loc[j].index[i])\n",
    "            break\n",
    "        if i == i_range[-1]:\n",
    "            ttdm1p13oe.append(np.inf)\n",
    "for i in range(len(ttdm1p13oe)):\n",
    "    if ttdm1p13oe[i] == np.inf:\n",
    "        ttdm1p13oe[i] = 2100    "
   ]
  },
  {
   "cell_type": "code",
   "execution_count": 26,
   "metadata": {},
   "outputs": [],
   "source": [
    "mode1m1p13oe.save('mode4_senspars_p13oe.h5', include_obs_exprs=True)\n",
    "np.array(ttdm1p13oe).dump(open('mode4_senspars_p13oe_ttds.npy', 'wb'))"
   ]
  },
  {
   "cell_type": "code",
   "execution_count": 27,
   "metadata": {},
   "outputs": [
    {
     "name": "stderr",
     "output_type": "stream",
     "text": [
      "2022-01-17 16:23:01.484 - pysb.simulator.scipyode - DEBUG - [model_files.nerm_pvals] Simulator created\n",
      "2022-01-17 16:23:01.489 - pysb.simulator.scipyode - DEBUG - [model_files.nerm_pvals] Equation mode set to \"cython\"\n",
      "2022-01-17 16:23:01.523 - pysb.simulator.scipyode - INFO - [model_files.nerm_pvals] Simulation(s) started\n",
      "2022-01-17 16:23:01.629 - pysb.simulator.scipyode - DEBUG - [model_files.nerm_pvals] Multi-processor (parallel) mode using 20 processes\n",
      "2022-01-17 16:24:01.040 - pysb.simulator.scipyode - INFO - [model_files.nerm_pvals] All simulation(s) complete\n",
      "2022-01-17 16:24:01.041 - pysb.simulator.scipyode - DEBUG - [model_files.nerm_pvals] SimulationResult constructor started\n",
      "2022-01-17 16:24:02.068 - pysb.simulator.scipyode - DEBUG - [model_files.nerm_pvals] SimulationResult constructor finished\n"
     ]
    }
   ],
   "source": [
    "solverm1p14kd = ScipyOdeSimulator(model, tspan=t, verbose = True)\n",
    "mode1m1p14kd  = solverm1p14kd.run(param_values=m1p14kd, num_processors = 20)\n",
    "mode1df_m1p14kd = mode1m1p14kd.dataframe"
   ]
  },
  {
   "cell_type": "code",
   "execution_count": 28,
   "metadata": {},
   "outputs": [],
   "source": [
    "thresh = 2772\n",
    "ttdm1p14kd = []\n",
    "for j in range(len(m4)):\n",
    "    i_range = range(len(mode1df_m1p14kd.loc[j]['MLKLa_obs']))\n",
    "    for i in i_range:\n",
    "        if mode1df_m1p14kd.loc[j]['MLKLa_obs'].iloc[i] > thresh:\n",
    "            ttdm1p14kd.append(mode1df_m1p14kd.loc[j].index[i])\n",
    "            break\n",
    "        if i == i_range[-1]:\n",
    "            ttdm1p14kd.append(np.inf)\n",
    "for i in range(len(ttdm1p14kd)):\n",
    "    if ttdm1p14kd[i] == np.inf:\n",
    "        ttdm1p14kd[i] = 2100    "
   ]
  },
  {
   "cell_type": "code",
   "execution_count": 29,
   "metadata": {},
   "outputs": [],
   "source": [
    "mode1m1p14kd.save('mode4_senspars_p14kd.h5', include_obs_exprs=True)\n",
    "np.array(ttdm1p14kd).dump(open('mode4_senspars_p14kd_ttds.npy', 'wb'))"
   ]
  },
  {
   "cell_type": "code",
   "execution_count": 30,
   "metadata": {},
   "outputs": [
    {
     "name": "stderr",
     "output_type": "stream",
     "text": [
      "2022-01-17 16:25:51.072 - pysb.simulator.scipyode - DEBUG - [model_files.nerm_pvals] Simulator created\n",
      "2022-01-17 16:25:51.077 - pysb.simulator.scipyode - DEBUG - [model_files.nerm_pvals] Equation mode set to \"cython\"\n",
      "2022-01-17 16:25:51.111 - pysb.simulator.scipyode - INFO - [model_files.nerm_pvals] Simulation(s) started\n",
      "2022-01-17 16:25:51.216 - pysb.simulator.scipyode - DEBUG - [model_files.nerm_pvals] Multi-processor (parallel) mode using 20 processes\n",
      "2022-01-17 16:26:51.787 - pysb.simulator.scipyode - INFO - [model_files.nerm_pvals] All simulation(s) complete\n",
      "2022-01-17 16:26:51.788 - pysb.simulator.scipyode - DEBUG - [model_files.nerm_pvals] SimulationResult constructor started\n",
      "2022-01-17 16:26:52.802 - pysb.simulator.scipyode - DEBUG - [model_files.nerm_pvals] SimulationResult constructor finished\n"
     ]
    }
   ],
   "source": [
    "solverm1p14oe = ScipyOdeSimulator(model, tspan=t, verbose = True)\n",
    "mode1m1p14oe  = solverm1p14oe.run(param_values=m1p14oe, num_processors = 20)\n",
    "mode1df_m1p14oe = mode1m1p14oe.dataframe"
   ]
  },
  {
   "cell_type": "code",
   "execution_count": 31,
   "metadata": {},
   "outputs": [],
   "source": [
    "thresh = 2772\n",
    "ttdm1p14oe = []\n",
    "for j in range(len(m4)):\n",
    "    i_range = range(len(mode1df_m1p14oe.loc[j]['MLKLa_obs']))\n",
    "    for i in i_range:\n",
    "        if mode1df_m1p14oe.loc[j]['MLKLa_obs'].iloc[i] > thresh:\n",
    "            ttdm1p14oe.append(mode1df_m1p14oe.loc[j].index[i])\n",
    "            break\n",
    "        if i == i_range[-1]:\n",
    "            ttdm1p14oe.append(np.inf)\n",
    "for i in range(len(ttdm1p14oe)):\n",
    "    if ttdm1p14oe[i] == np.inf:\n",
    "        ttdm1p14oe[i] = 2100    "
   ]
  },
  {
   "cell_type": "code",
   "execution_count": 32,
   "metadata": {},
   "outputs": [],
   "source": [
    "mode1m1p14oe.save('mode4_senspars_p14oe.h5', include_obs_exprs=True)\n",
    "np.array(ttdm1p14oe).dump(open('mode4_senspars_p14oe_ttds.npy', 'wb'))"
   ]
  },
  {
   "cell_type": "code",
   "execution_count": 34,
   "metadata": {},
   "outputs": [],
   "source": [
    "ttdwt2 = [ttdwt / 60 for ttdwt in ttdwt]\n",
    "ttdm1p4kd2 = [ttdp4kd / 60 for ttdp4kd in ttdp4kd]\n",
    "ttdm1p12kd2 = [ttdm1p12kd / 60 for ttdm1p12kd in ttdm1p12kd]\n",
    "ttdm1p13kd2 = [ttdm1p13kd / 60 for ttdm1p13kd in ttdm1p13kd]\n",
    "ttdm1p14kd2 = [ttdm1p14kd / 60 for ttdm1p14kd in ttdm1p14kd]"
   ]
  },
  {
   "cell_type": "code",
   "execution_count": 97,
   "metadata": {},
   "outputs": [
    {
     "name": "stdout",
     "output_type": "stream",
     "text": [
      "12\n",
      "11\n",
      "1\n",
      "9\n",
      "15\n"
     ]
    }
   ],
   "source": [
    "print(ttdwt2.count(35))\n",
    "print(ttdm1p4kd2.count(35))\n",
    "print(ttdm1p12kd2.count(35))\n",
    "print(ttdm1p13kd2.count(35))\n",
    "print(ttdm1p14kd2.count(35))"
   ]
  },
  {
   "cell_type": "code",
   "execution_count": 36,
   "metadata": {},
   "outputs": [],
   "source": [
    "ttdm1p4oe2 = [ttdp4oe / 60 for ttdp4oe in ttdp4oe]\n",
    "ttdm1p12oe2 = [ttdm1p12oe / 60 for ttdm1p12oe in ttdm1p12oe]\n",
    "ttdm1p13oe2 = [ttdm1p13oe / 60 for ttdm1p13oe in ttdm1p13oe]\n",
    "ttdm1p14oe2 = [ttdm1p14oe / 60 for ttdm1p14oe in ttdm1p14oe]"
   ]
  },
  {
   "cell_type": "code",
   "execution_count": 95,
   "metadata": {},
   "outputs": [
    {
     "name": "stdout",
     "output_type": "stream",
     "text": [
      "22\n",
      "10\n",
      "22\n",
      "21\n"
     ]
    }
   ],
   "source": [
    "print(ttdwt2.count(35))\n",
    "print(ttdm1p4kd2.count(35))\n",
    "print(ttdm1p12kd2.count(35))\n",
    "print(ttdm1p13kd2.count(35))\n",
    "print(ttdm1p14kd2.count(35))\n",
    "print(ttdm1p4oe2.count(35))\n",
    "print(ttdm1p12oe2.count(35))\n",
    "print(ttdm1p13oe2.count(35))\n",
    "print(ttdm1p14oe2.count(35))"
   ]
  },
  {
   "cell_type": "code",
   "execution_count": 37,
   "metadata": {},
   "outputs": [],
   "source": [
    "#['lightcoral', 'lightseagreen', 'mediumpurple', 'peru']\n",
    "mode3 = pd.DataFrame({'WT': ttdwt2,'P4 KD': ttdm1p4kd2,'P4 OE': ttdm1p4oe2,\n",
    "                      'P12 KD': ttdm1p12kd2, 'P12 OE': ttdm1p12oe2,\n",
    "                     'P13 KD': ttdm1p13kd2, 'P13 OE': ttdm1p13oe2,\n",
    "                     'P14 KD': ttdm1p14kd2,'P14 OE': ttdm1p14oe2})\n",
    "dfclus3hr = pd.DataFrame(data = mode3,\n",
    "                        columns = ['WT','P4 KD','P4 OE','P12 KD', 'P12 OE', 'P13 KD', 'P13 OE','P14 KD','P14 OE'])"
   ]
  },
  {
   "cell_type": "code",
   "execution_count": 91,
   "metadata": {},
   "outputs": [],
   "source": [
    "dfclus3hr.to_csv(\"mode4_allparamsensdf_ttds.csv\")"
   ]
  },
  {
   "cell_type": "code",
   "execution_count": 94,
   "metadata": {},
   "outputs": [
    {
     "name": "stderr",
     "output_type": "stream",
     "text": [
      "No handles with labels found to put in legend.\n"
     ]
    },
    {
     "data": {
      "image/png": "[encoded data removed]",
      "text/plain": [
       "<Figure size 648x720 with 1 Axes>"
      ]
     },
     "metadata": {},
     "output_type": "display_data"
    }
   ],
   "source": [
    "import seaborn as sns\n",
    "sns.set_style(\"whitegrid\", {'axes.grid' : False})\n",
    "fig, ax = plt.subplots(figsize = (9,10))\n",
    "my_pal = {\"WT\": \"darkgreen\",\n",
    "          'P4 KD': \"limegreen\",'P4 OE':\"teal\", \n",
    "          'P12 KD': \"limegreen\", 'P12 OE':\"teal\",\n",
    "          'P13 KD': \"limegreen\",'P13 OE':\"teal\",\n",
    "         'P14 KD': \"limegreen\",'P14 OE':\"teal\"}\n",
    "# b = sns.boxplot(x = \"value\", y =\"variable\", data = dfclus0, notch = True, width = 0.5, palette = my_pal)\n",
    "b = sns.stripplot(x=\"value\", y=\"variable\", data=pd.melt(dfclus3hr), marker = 'o',\n",
    "                  linewidth=0.5,size=5, palette=my_pal, edgecolor=\"white\")\n",
    "# b = sns.swarmplot(data=dfm23, y=\"species\", x=\"value\", hue=\"variable\", marker=\"o\", alpha=0.5,dodge=True,linewidth=0.5,size=5)\n",
    "# print(plt.yticks())\n",
    "plt.annotate('WT', xy = (0.01,.932), xycoords ='axes fraction', fontsize = 20)#(-0.2,.7)\n",
    "plt.annotate('KD', xy = (0.01,.821), xycoords ='axes fraction', fontsize = 20) #(-0.2,.12)\n",
    "plt.annotate('OE', xy = (0.01,.712), xycoords ='axes fraction', fontsize = 20) #(-0.2,.42)\n",
    "plt.annotate('KD', xy = (0.01,.6), xycoords ='axes fraction', fontsize = 20) #(-0.2,.12)\n",
    "plt.annotate('OE', xy = (0.01,.488), xycoords ='axes fraction', fontsize = 20) #(-0.2,.42)\n",
    "\n",
    "plt.annotate('KD', xy = (0.01,.377), xycoords ='axes fraction', fontsize = 20) #(-0.2,.12)\n",
    "plt.annotate('OE', xy = (0.01,.267), xycoords ='axes fraction', fontsize = 20) #(-0.2,.12)\n",
    "\n",
    "plt.annotate('KD', xy = (0.01,.156), xycoords ='axes fraction', fontsize = 20) #(-0.2,.42)\n",
    "plt.annotate('OE', xy = (0.01,.0435), xycoords ='axes fraction', fontsize = 20) #(-0.2,.12)\n",
    "# plt.annotate('P4', xy = (-0.05,.86), xycoords ='axes fraction', fontsize = 20)#(-0.2,.7)\n",
    "plt.annotate('P4', xy = (-0.05,.7665), xycoords ='axes fraction', fontsize = 20) #(-0.2,.42)\n",
    "plt.annotate('P12', xy = (-0.07,.544), xycoords ='axes fraction', fontsize = 20) #(-0.2,.12)\n",
    "# plt.annotate('P5', xy = (-0.05,.57), xycoords ='axes fraction', fontsize = 20) #(-0.2,.42)\n",
    "# plt.annotate('P14', xy = (-0.05,.458), xycoords ='axes fraction', fontsize = 20) #(-0.2,.12)\n",
    "plt.annotate('P13', xy = (-0.07,.325), xycoords ='axes fraction', fontsize = 20) #(-0.2,.42)\n",
    "# plt.annotate('P13', xy = (-0.07,.253), xycoords ='axes fraction', fontsize = 20) #(-0.2,.12)\n",
    "# plt.annotate('P12', xy = (-0.07,.19), xycoords ='axes fraction', fontsize = 20) #(-0.2,.42)\n",
    "plt.annotate('P14', xy = (-0.07,.09975), xycoords ='axes fraction', fontsize = 20) #(-0.2,.12)\n",
    "\n",
    "plt.annotate(r'$\\infty$', xy = (0.95,-0.035), xycoords ='axes fraction', fontsize = 30)\n",
    "plt.axhline(y=0.5, color = 'k')\n",
    "plt.axhline(y=2.5, color = 'k')\n",
    "plt.axhline(y=4.5, color = 'k')\n",
    "plt.axhline(y=6.5, color = 'k')\n",
    "# plt.yticks(ticks = plt.yticks()[0], labels = ['WT', 'KD', 'OE','KD', 'OE','KD', 'OE'])\n",
    "plt.yticks(ticks = plt.yticks()[0], labels = ['', '', '','', '','', '','', ''])\n",
    "b.set_xlabel(\"\")\n",
    "plt.xticks(fontsize = 25)\n",
    "b.set_ylabel(\"\")\n",
    "b.tick_params(labelsize=25)\n",
    "plt.xlim(xmax = 36, xmin = 0)\n",
    "ax.set_xticks([0,5, 10, 15, 20, 25,30])\n",
    "# ax.set_xticks([0,300, 600, 900, 1200, 1500,1800])\n",
    "b.tick_params(labelsize=20)\n",
    "b.set_xlabel(\"TTD (h)\",fontsize = 20)\n",
    "plt.tight_layout()\n",
    "\n",
    "# plt.xlim(xmin = 1)\n",
    "plt.legend(loc='upper center', bbox_to_anchor=(0.5, 1.05),\n",
    "          ncol=3, fancybox=True, shadow=True)\n",
    "plt.savefig('pmlkl_mode4_paramsens_100tnf_stripdots_hrs_kdoeinside_edgewhite.pdf')"
   ]
  },
  {
   "cell_type": "code",
   "execution_count": null,
   "metadata": {},
   "outputs": [],
   "source": [
    "# dfm232 = pd.melt(dfmode3)\n",
    "#['lightcoral', 'lightseagreen', 'mediumpurple', 'peru']\n",
    "mode1df2 = pd.DataFrame({'WT': ttdm2wt2,\n",
    "                         'A20 KD': ttdm2a20kd2,\n",
    "                          'A20 OE': ttdm2a20oe2,\n",
    "                        'cIAP KD': ttdm2ciapkd2,a\n",
    "                         'cIAP OE': ttdm2ciapoe2,\n",
    "                        'CYLD KD': ttdm2cyldkd2,\n",
    "                          'CYLD OE': ttdm2cyldoe2})\n",
    "dfclus2hr = pd.DataFrame(data = mode1df2,\n",
    "                        columns = ['WT','A20 KD','A20 OE','cIAP KD','cIAP OE','CYLD KD','CYLD OE'])"
   ]
  },
  {
   "cell_type": "code",
   "execution_count": null,
   "metadata": {},
   "outputs": [],
   "source": [
    "import seaborn as sns\n",
    "sns.set(style=\"whitegrid\")\n",
    "plt.figure(figsize = (15,10))\n",
    "my_pal = {\"WT\": \"indianred\", \"cIAP KD\": \"lightsalmon\", \"cIAP OE\": \"mediumseagreen\", \n",
    "          \"A20 KD\": \"lightsalmon\", \"A20 OE\": \"mediumseagreen\", \n",
    "          \"CYLD KD\": \"lightsalmon\", \"CYLD OE\": \"mediumseagreen\"}\n",
    "# my_pal1 = {\"wt0\": \"red\", \"a200\":\"blue\"}\n",
    "# b = sns.boxplot(x = \"value\", y =\"variable\", data = dfclus0, notch = True, width = 0.5, palette = my_pal)\n",
    "b = sns.swarmplot(x=\"value\", y=\"variable\", data=pd.melt(dfmode22), zorder=2, palette=my_pal)\n",
    "# b = sns.boxplot(x = \"value\", y =\"variable\", data = dfclus0, notch = True, width = 0.5, palette = my_pal)\n",
    "# b = sns.swarmplot(x=\"value\", y=\"variable\", data=dfclus0, zorder=2, palette=my_pal1)\n",
    "b.set_xlabel(\"Time (m)\",fontsize=15)\n",
    "# b.set_ylabel(\"Mode 1 Degeneracy\",fontsize=15)\n",
    "b.tick_params(labelsize=15)\n",
    "plt.xlim(xmax = 2150, xmin = 0)\n",
    "# plt.savefig('figs/Cluster0/pmlkl_100tnf_clus0box_wswarm_5720_modnew.pdf')\n",
    "plt.show()"
   ]
  },
  {
   "cell_type": "code",
   "execution_count": null,
   "metadata": {},
   "outputs": [],
   "source": [
    "fig, ax = plt.subplots(figsize = (6, 4))\n",
    "for n in range(len(c2)):\n",
    "    plt.plot(tspan, m3alldf100wt.loc[n]['MLKLa_obs'].iloc[:]/5544, lw=1.5, \n",
    "             zorder = 1, color = 'blue', alpha= 0.4)\n",
    "#     plt.plot(tspan, m1alldf100lubackd.loc[n]['MLKLa_obs'].iloc[:]/5544, lw=1.5, \n",
    "#              zorder = 1, color = 'orange', alpha = 0.25)\n",
    "#     plt.plot(tspan, m1alldf100lubacoe.loc[n]['MLKLa_obs'].iloc[:]/5544, lw=1.5, \n",
    "#              zorder = 1, color = 'green', alpha = 0.25)\n",
    "# colormap = plt.cm.Reds #nipy_spectral, Set1,Paired   \n",
    "# colors = [colormap(i) for i in np.linspace(0, 1,len(ax.lines))]\n",
    "# for i,j in enumerate(ax.lines):\n",
    "#     j.set_color(colors[i])\n",
    "# ax1.legend(loc=2)    \n",
    "plt.xlabel(\"Time (m)\", fontsize=15)\n",
    "plt.ylabel(\"[pMLKL] Normalized\", fontsize=15)\n",
    "plt.xlim(xmin = 0, xmax = 1800)\n",
    "plt.ylim(ymin = 0)\n",
    "plt.xticks(fontsize=10)\n",
    "plt.yticks(fontsize=10)\n",
    "right_side = ax.spines[\"right\"]\n",
    "right_side.set_visible(False)\n",
    "top = ax.spines[\"top\"]\n",
    "top.set_visible(False)\n",
    "ax.grid(False)\n",
    "# ax.set_xticks([0, 5, 10, 15, 20, 24])\n",
    "custom_lines = [Line2D([0], [0], color='blue', lw=4),\n",
    "                Line2D([0], [0], color='orange', lw=4),\n",
    "               Line2D([0], [0], color='green', lw=4)]\n",
    "plt.legend(custom_lines, ['WT', 'LUBACKD', 'LUBACOE'], prop={'size': 10}, loc = 'best')\n",
    "plt.tight_layout()\n",
    "# plt.savefig('mode2_lubackdoe_testingplots_linesmin.pdf')\n",
    "plt.show() "
   ]
  },
  {
   "cell_type": "code",
   "execution_count": null,
   "metadata": {},
   "outputs": [],
   "source": [
    "ttdm2a20kd"
   ]
  },
  {
   "cell_type": "code",
   "execution_count": null,
   "metadata": {},
   "outputs": [],
   "source": [
    "print(len(ttdm2wt))\n",
    "print(len(ttdm2lubkd))\n",
    "print(len(ttdm2luboe2))\n",
    "print(len(ttdm2a20kd))\n",
    "print(len(ttdm2a20oe))\n",
    "print(len(ttdm2cyldoe))\n",
    "print(len(ttdm2cyldkd))"
   ]
  },
  {
   "cell_type": "code",
   "execution_count": null,
   "metadata": {},
   "outputs": [],
   "source": [
    "#['lightcoral', 'lightseagreen', 'mediumpurple', 'peru']\n",
    "mode2wt = pd.DataFrame({'WT': ttdm2wt,\n",
    "                       'species':'wt'})\n",
    "mode2ciap = pd.DataFrame({'KD': ttdm2ciapkd,\n",
    "                         'OE': ttdm2ciapoe2,\n",
    "                        'species': 'lubac'})\n",
    "mode2a20 = pd.DataFrame({'KD': ttdm2a20kd,\n",
    "                          'OE': ttdm2a20oe,\n",
    "                        'species': 'a20'})\n",
    "mode2cyld = pd.DataFrame({'KD': ttdm2cyldkd,\n",
    "                          'OE': ttdm2cyldoe,\n",
    "                        'species': 'cyld'})\n",
    "framesm2 = [mode2wt,mode2lub, mode2a20, mode2cyld]\n",
    "dfmode2 = pd.DataFrame(data = pd.concat(framesm2), columns = ['species','WT','KD','OE'])\n",
    "dfm2 = pd.melt(dfmode2, id_vars=[\"species\"])"
   ]
  },
  {
   "cell_type": "code",
   "execution_count": null,
   "metadata": {},
   "outputs": [],
   "source": [
    "import seaborn as sns\n",
    "plt.figure(figsize = (10,7))\n",
    "# sns.stripplot(data=mode2wt, orient = 'h',linewidth=0.5,size=10)\n",
    "sns.stripplot(data=dfm2, orient = 'h',linewidth=0.5,size=10)\n",
    "plt.xlim(xmin = 1)\n",
    "plt.legend(loc = 'lower right')"
   ]
  },
  {
   "cell_type": "code",
   "execution_count": null,
   "metadata": {},
   "outputs": [],
   "source": [
    "plt.figure(figsize = (12,7))\n",
    "b = sns.boxplot(data=dfm2, palette=\"Set3\", orient = 'h') #,showfliers = False, whis = 0)\n",
    "b.set_xlabel(\"Time (m)\",fontsize=15)\n",
    "# b.set_ylabel(\"Mode 1 Degeneracy\",fontsize=15)\n",
    "plt.legend(loc='upper center', bbox_to_anchor=(0.5, 1.05),\n",
    "          ncol=3, fancybox=True, shadow=True)\n",
    "b.tick_params(labelsize=15)\n",
    "plt.xlim(xmax = 2150, xmin = 0)"
   ]
  },
  {
   "cell_type": "code",
   "execution_count": null,
   "metadata": {},
   "outputs": [],
   "source": [
    "# ax = sns.boxplot(x=\"day\", y=\"total_bill\", data=tips)\n",
    "# ax = sns.swarmplot(x=\"day\", y=\"total_bill\", data=tips, color=\".25\")\n",
    "plt.figure(figsize = (12,7))\n",
    "ax = sns.boxplot(data=dfm2, y=\"species\", x=\"value\", hue=\"variable\", palette=\"Set3\") #,showfliers = False, whis = 0)\n",
    "# ax = sns.swarmplot(x=\"value\", y=\"variable\", data=dfm22) #, palette=my_pal)\n",
    "# plt.set_xlabel(\"Time (m)\",fontsize=15)\n",
    "# b.set_ylabel(\"Mode 1 Degeneracy\",fontsize=15)\n",
    "plt.legend(loc='upper center', bbox_to_anchor=(0.5, 1.05),\n",
    "          ncol=3, fancybox=True, shadow=True)\n",
    "# plt.tick_params(labelsize=15)\n",
    "plt.xlim(xmax = 2150, xmin = 0)"
   ]
  },
  {
   "cell_type": "code",
   "execution_count": null,
   "metadata": {},
   "outputs": [],
   "source": [
    "sns.barplot(data=dfm2, y=\"species\", x=\"value\", hue=\"variable\", palette = \"Blues\")"
   ]
  },
  {
   "cell_type": "code",
   "execution_count": null,
   "metadata": {},
   "outputs": [],
   "source": [
    "plt.figure(figsize = (12,7))\n",
    "b = sns.stripplot(data=dfm2, y=\"species\", x=\"value\", hue=\"variable\", marker=\"o\", alpha=0.5,dodge=True,linewidth=0.5,size=5)\n",
    "plt.xlim(xmin = 1)\n",
    "plt.legend(loc='upper center', bbox_to_anchor=(0.5, 1.05),\n",
    "          ncol=3, fancybox=True, shadow=True)\n",
    "b.tick_params(labelsize=20)\n",
    "# plt.xlim(xmin = 250, xmax = 1000)"
   ]
  },
  {
   "cell_type": "code",
   "execution_count": null,
   "metadata": {},
   "outputs": [],
   "source": [
    "sns.set_style(\"white\")\n",
    "kwargs = dict(hist_kws={'alpha':.5}, kde_kws={'linewidth':0.5})\n",
    "# print('clus', np.mean(CI_k63))\n",
    "# print('clus', np.std(CI_k63))\n",
    "fig, ax = plt.subplots()\n",
    "# sns.boxplot(x = 'variable', y = 'value', label ='WT',color=[\"red\",'green'], bins=10, **kwargs, kde = True)\n",
    "# g = sns.boxplot(y='variable',x='value',data=dfclus2n, showfliers=True, boxprops=dict(alpha=1))\n",
    "g = sns.stripplot(y='variable',x='value',data=dfm22, \n",
    "                        marker=\"o\", alpha=0.3, order=['WT', 'LUBACKD','LUBACOE','A20KD', 'A20OE','CYLDKD', 'CYLDOE'])\n",
    "# g = sns.stripplot(y='variable',x='value',data=dfclus2n, \n",
    "#                         marker=\"o\", alpha=0.3, order=[\"WT\", \"LUBACKD\", \"LUBACOE\"], color =['red', 'orange', 'blue'])\n",
    "# g = sns.stripplot(y='variable',x='value',data=dfclus2n, \n",
    "#                         marker=\"o\", alpha=0.3, order=[\"WT\", \"LUBACKD\", \"LUBACOE\"], color =['red', 'orange', 'blue'])\n",
    "# sns.distplot(mode2_lubacoe, label = 'LUBAC KD',color=\"blue\", bins=10, **kwargs, kde = True)\n",
    "# sns.distplot(mode2_lubackd, label = 'LUBAC OE',color=\"green\", bins=10, **kwargs, kde = True)\n",
    "# sns.distplot(CI_a20, label='uncluster',color=\"orange\", bins=25, **kwargs)\n",
    "# sns.distplot(CI_cyld, label='uncluster',color=\"deeppink\", bins=25, **kwargs)\n",
    "plt.xlabel('Time (m)')\n",
    "plt.ylabel('Species')\n",
    "plt.legend(loc = 'best')\n",
    "# plt.xlim(xmin = 1, xmax = 1000)\n",
    "# ax.set_yticks([1, 1.5, 2])\n",
    "# plt.ylim(ymax = 0.04)\n",
    "# plt.xticks([0, 5, 10, 15, 20, 24])\n",
    "right_side = ax.spines[\"right\"]\n",
    "right_side.set_visible(False)\n",
    "top = ax.spines[\"top\"]\n",
    "top.set_visible(False)\n",
    "plt.tight_layout()\n",
    "# plt.savefig('mode2_lubackdoe_testingplots_strip.pdf')\n",
    "plt.show()"
   ]
  },
  {
   "cell_type": "code",
   "execution_count": null,
   "metadata": {},
   "outputs": [],
   "source": []
  },
  {
   "cell_type": "code",
   "execution_count": null,
   "metadata": {},
   "outputs": [],
   "source": []
  },
  {
   "cell_type": "code",
   "execution_count": null,
   "metadata": {},
   "outputs": [],
   "source": [
    "list(model.initial_conditions)"
   ]
  },
  {
   "cell_type": "code",
   "execution_count": null,
   "metadata": {},
   "outputs": [],
   "source": [
    "solverkdm2fadd = ScipyOdeSimulator(model, tspan=t, verbose = True)\n",
    "mode1kdm2fadd   = solverkdm2fadd.run(initials = {m.FADD(bDD=None, bDED1=None, bDED2=None):2695},\n",
    "                                        param_values=m2, num_processors = 20)\n",
    "mode1df_kdm2fadd  = mode1kdm2fadd.dataframe"
   ]
  },
  {
   "cell_type": "code",
   "execution_count": null,
   "metadata": {},
   "outputs": [],
   "source": [
    "thresh = 2772\n",
    "ttdm2kdfadd = []\n",
    "for j in range(len(m2)):\n",
    "    i_range = range(len(mode1df_kdm2fadd.loc[j]['MLKLa_obs']))\n",
    "    for i in i_range:\n",
    "        if mode1df_kdm2fadd.loc[j]['MLKLa_obs'].iloc[i] > thresh:\n",
    "            ttdm2kdfadd.append(mode1df_kdm2fadd.loc[j].index[i])\n",
    "            break\n",
    "        if i == i_range[-1]:\n",
    "            ttdm2kdfadd.append(np.inf)\n",
    "for i in range(len(ttdm2kdfadd)):\n",
    "    if ttdm2kdfadd[i] == np.inf:\n",
    "        ttdm2kdfadd[i] = 2100               "
   ]
  },
  {
   "cell_type": "code",
   "execution_count": null,
   "metadata": {},
   "outputs": [],
   "source": [
    "solveroem2fadd = ScipyOdeSimulator(model, tspan=t, verbose = True)\n",
    "mode1oem2fadd  = solveroem2fadd.run(initials = {m.FADD(bDD=None, bDED1=None, bDED2=None):89860},\n",
    "                                        param_values=m2, num_processors = 20)\n",
    "mode1df_oem2fadd = mode1oem2fadd.dataframe"
   ]
  },
  {
   "cell_type": "code",
   "execution_count": null,
   "metadata": {},
   "outputs": [],
   "source": [
    "thresh = 2772\n",
    "ttdm2oefadd = []\n",
    "for j in range(len(m2)):\n",
    "    i_range = range(len(mode1df_oem2fadd.loc[j]['MLKLa_obs']))\n",
    "    for i in i_range:\n",
    "        if mode1df_oem2fadd.loc[j]['MLKLa_obs'].iloc[i] > thresh:\n",
    "            ttdm2oefadd.append(mode1df_oem2fadd.loc[j].index[i])\n",
    "            break\n",
    "        if i == i_range[-1]:\n",
    "            ttdm2oefadd.append(np.inf)\n",
    "for i in range(len(ttdm2oefadd)):\n",
    "    if ttdm2oefadd[i] == np.inf:\n",
    "        ttdm2oefadd[i] = 2100               "
   ]
  },
  {
   "cell_type": "code",
   "execution_count": null,
   "metadata": {},
   "outputs": [],
   "source": [
    "solverkdm2r3 = ScipyOdeSimulator(model, tspan=t, verbose = True)\n",
    "mode1kdm2r3   = solverkdm2r3.run(initials = {m.RIP3(bRHIM=None, bDD=None, state='unmod'):3196},\n",
    "                                        param_values=m2, num_processors = 20)\n",
    "mode1df_kdm2r3  = mode1kdm2r3.dataframe"
   ]
  },
  {
   "cell_type": "code",
   "execution_count": null,
   "metadata": {},
   "outputs": [],
   "source": [
    "thresh = 2772\n",
    "ttdm2kdr3 = []\n",
    "for j in range(len(m2)):\n",
    "    i_range = range(len(mode1df_kdm2r3.loc[j]['MLKLa_obs']))\n",
    "    for i in i_range:\n",
    "        if mode1df_kdm2r3.loc[j]['MLKLa_obs'].iloc[i] > thresh:\n",
    "            ttdm2kdr3.append(mode1df_kdm2r3.loc[j].index[i])\n",
    "            break\n",
    "        if i == i_range[-1]:\n",
    "            ttdm2kdr3.append(np.inf)\n",
    "for i in range(len(ttdm2kdr3)):\n",
    "    if ttdm2kdr3[i] == np.inf:\n",
    "        ttdm2kdr3[i] = 2100               "
   ]
  },
  {
   "cell_type": "code",
   "execution_count": null,
   "metadata": {},
   "outputs": [],
   "source": [
    "solveroem2r3 = ScipyOdeSimulator(model, tspan=t, verbose = True)\n",
    "mode1oem2r3  = solveroem2r3.run(initials = {m.RIP3(bRHIM=None, bDD=None, state='unmod'):106540},\n",
    "                                        param_values=m2, num_processors = 20)\n",
    "mode1df_oem2r3 = mode1oem2r3.dataframe"
   ]
  },
  {
   "cell_type": "code",
   "execution_count": null,
   "metadata": {},
   "outputs": [],
   "source": [
    "thresh = 2772\n",
    "ttdm2oer3 = []\n",
    "for j in range(len(m2)):\n",
    "    i_range = range(len(mode1df_oem2r3.loc[j]['MLKLa_obs']))\n",
    "    for i in i_range:\n",
    "        if mode1df_oem2r3.loc[j]['MLKLa_obs'].iloc[i] > thresh:\n",
    "            ttdm2oer3.append(mode1df_oem2r3.loc[j].index[i])\n",
    "            break\n",
    "        if i == i_range[-1]:\n",
    "            ttdm2oer3.append(np.inf)\n",
    "for i in range(len(ttdm2oer3)):\n",
    "    if ttdm2oer3[i] == np.inf:\n",
    "        ttdm2oer3[i] = 2100               "
   ]
  },
  {
   "cell_type": "code",
   "execution_count": null,
   "metadata": {},
   "outputs": [],
   "source": [
    "#['lightcoral', 'lightseagreen', 'mediumpurple', 'peru']\n",
    "mode2wt = pd.DataFrame({'WT': ttdm2wt,\n",
    "                       'species':'wt'})\n",
    "mode2lub = pd.DataFrame({'KD': ttdm2lubkd,\n",
    "                         'OE': ttdm2luboe2,\n",
    "                        'species': 'lubac'})\n",
    "mode2a20 = pd.DataFrame({'KD': ttdm2a20kd,\n",
    "                          'OE': ttdm2a20oe,\n",
    "                        'species': 'a20'})\n",
    "mode2cyld = pd.DataFrame({'KD': ttdm2cyldkd,\n",
    "                          'OE': ttdm2cyldoe,\n",
    "                        'species': 'cyld'})\n",
    "mode2fadd = pd.DataFrame({'KD': ttdm2kdfadd,\n",
    "                          'OE': ttdm2oefadd,\n",
    "                        'species': 'fadd'})\n",
    "mode2r3 = pd.DataFrame({'KD': ttdm2kdr3,\n",
    "                          'OE': ttdm2oer3,\n",
    "                        'species': 'rip3'})\n",
    "framesm3 = [mode2wt,mode2lub, mode2a20, mode2cyld]\n",
    "# # framesm2 = [mode2wt,mode2dfn, mode2dfn2,mode2dfn3,mode2dfn4,mode2dfn5]\n",
    "# # framesm3 = [mode2wt,mode2dfn, mode2dfn2]\n",
    "# # framesm4 = [mode2wt,mode2dfn]\n",
    "dfmode3 = pd.DataFrame(data = pd.concat(framesm3), columns = ['species','WT','KD','OE'])\n",
    "dfm23 = pd.melt(dfmode3, id_vars=[\"species\"])\n",
    "# dfclus2 = pd.DataFrame(data = pd.concat(framesm2), columns = ['species','KD','WT','OE'])\n",
    "# dfclus3 = pd.DataFrame(data = pd.concat(framesm3), columns = ['species','KD','WT','OE'])\n",
    "# dfclus4 = pd.DataFrame(data = pd.concat(framesm4), columns = ['species','KD','WT','OE'])\n",
    "# dfclus2nn = pd.melt(dfclus2nn)"
   ]
  },
  {
   "cell_type": "code",
   "execution_count": null,
   "metadata": {},
   "outputs": [],
   "source": [
    "print(len(ttdm2wt))"
   ]
  },
  {
   "cell_type": "code",
   "execution_count": null,
   "metadata": {},
   "outputs": [],
   "source": [
    "m4occurrenceswt = ttdm2wt.count(2100)\n",
    "m4occurrenceslub = ttdm2lubkd.count(2100)\n",
    "m4occurrencesfadd = ttdm2kdfadd.count(2100)\n",
    "m4occurrencesr3 = ttdm2kdr3.count(2100)\n",
    "print(m4occurrenceswt)\n",
    "print(m4occurrenceslub)\n",
    "print(m4occurrencesfadd)\n",
    "print(m4occurrencesr3)"
   ]
  },
  {
   "cell_type": "code",
   "execution_count": null,
   "metadata": {},
   "outputs": [],
   "source": [
    "# ax = sns.boxplot(x=\"day\", y=\"total_bill\", data=tips)\n",
    "# ax = sns.swarmplot(x=\"day\", y=\"total_bill\", data=tips, color=\".25\")\n",
    "plt.figure(figsize = (12,7))\n",
    "ax = sns.boxplot(data=dfm23, y=\"species\", x=\"value\", hue=\"variable\", palette=\"Set3\") #,showfliers = False, whis = 0)\n",
    "# ax = sns.swarmplot(x=\"value\", y=\"variable\", data=dfm22) #, palette=my_pal)\n",
    "# plt.set_xlabel(\"Time (m)\",fontsize=15)\n",
    "# b.set_ylabel(\"Mode 1 Degeneracy\",fontsize=15)\n",
    "plt.legend(loc='upper center', bbox_to_anchor=(0.5, 1.05),\n",
    "          ncol=3, fancybox=True, shadow=True)\n",
    "# plt.tick_params(labelsize=15)\n",
    "plt.xlim(xmax = 2150, xmin = 0)"
   ]
  },
  {
   "cell_type": "code",
   "execution_count": null,
   "metadata": {},
   "outputs": [],
   "source": [
    "sns.barplot(data=dfm23, y=\"species\", x=\"value\", hue=\"variable\", palette = \"Blues\")"
   ]
  },
  {
   "cell_type": "code",
   "execution_count": null,
   "metadata": {},
   "outputs": [],
   "source": [
    "plt.figure(figsize = (12,7))\n",
    "b = sns.stripplot(data=dfm23, y=\"species\", x=\"value\", hue=\"variable\", marker=\"o\", alpha=0.5,dodge=True,linewidth=0.5,size=5)\n",
    "plt.xlim(xmin = 1)\n",
    "plt.legend(loc='upper center', bbox_to_anchor=(0.5, 1.05),\n",
    "          ncol=3, fancybox=True, shadow=True)\n",
    "b.tick_params(labelsize=20)\n",
    "# plt.xlim(xmin = 250, xmax = 1000)"
   ]
  },
  {
   "cell_type": "code",
   "execution_count": null,
   "metadata": {},
   "outputs": [],
   "source": [
    "# dfm232 = pd.melt(dfmode3)\n",
    "#['lightcoral', 'lightseagreen', 'mediumpurple', 'peru']\n",
    "mode1df = pd.DataFrame({'WT': ttdm2wt, \n",
    "                        'LUBAC KD': ttdm2lubkd,\n",
    "                         'LUBAC OE': ttdm2luboe2,\n",
    "                        'A20 KD': ttdm2a20kd,\n",
    "                          'A20 OE': ttdm2a20oe,\n",
    "                        'CYLD KD': ttdm2cyldkd,\n",
    "                          'CYLD OE': ttdm2cyldoe})\n",
    "dfclus0n = pd.DataFrame(data = mode1df,\n",
    "                        columns = ['WT', 'LUBAC KD', 'LUBAC OE','A20 KD', 'A20 OE','CYLD KD', 'CYLD OE'])\n",
    "dfclus1n = pd.melt(dfclus0n)"
   ]
  },
  {
   "cell_type": "code",
   "execution_count": null,
   "metadata": {},
   "outputs": [],
   "source": [
    "sns.set_style(\"whitegrid\", {'axes.grid' : False})\n",
    "fig, ax = plt.subplots(figsize = (9,7))\n",
    "my_pal = {\"WT\": \"darkorange\", \"LUBAC KD\": \"indigo\", \"LUBAC OE\":\"teal\",\n",
    "          \"A20 KD\":\"indigo\", \"A20 OE\":\"teal\",\"CYLD KD\": \"indigo\", \"CYLD OE\":\"teal\"}\n",
    "# b = sns.boxplot(x = \"value\", y =\"variable\", data = dfclus0, notch = True, width = 0.5, palette = my_pal)\n",
    "b = sns.stripplot(x=\"value\", y=\"variable\", data=pd.melt(dfclus0n), marker = 'o',linewidth=0.5,size=5, palette=my_pal)\n",
    "# b = sns.swarmplot(data=dfm23, y=\"species\", x=\"value\", hue=\"variable\", marker=\"o\", alpha=0.5,dodge=True,linewidth=0.5,size=5)\n",
    "# print(plt.yticks())\n",
    "plt.annotate('LUBAC', xy = (-0.2,.7), xycoords ='axes fraction', fontsize = 20)\n",
    "plt.annotate('A20', xy = (-0.2,.42), xycoords ='axes fraction', fontsize = 20)\n",
    "plt.annotate('CYLD', xy = (-0.2,.12), xycoords ='axes fraction', fontsize = 20)\n",
    "plt.annotate(r'$\\infty$', xy = (0.95,-0.05), xycoords ='axes fraction', fontsize = 30)\n",
    "plt.axhline(y=0.5, color = 'k')\n",
    "plt.axhline(y=2.5, color = 'k')\n",
    "plt.axhline(y=4.5, color = 'k')\n",
    "plt.yticks(ticks = plt.yticks()[0], labels = ['WT', 'KD', 'OE','KD', 'OE','KD', 'OE'])\n",
    "b.set_xlabel(\"\")\n",
    "plt.xticks(fontsize = 25)\n",
    "b.set_ylabel(\"\")\n",
    "b.tick_params(labelsize=25)\n",
    "plt.xlim(xmax = 2150, xmin = 0)\n",
    "ax.set_xticks([0,300, 600, 900, 1200, 1500,1800])\n",
    "b.tick_params(labelsize=20)\n",
    "plt.tight_layout()\n",
    "# plt.xlim(xmin = 1)\n",
    "plt.legend(loc='upper center', bbox_to_anchor=(0.5, 1.05),\n",
    "          ncol=3, fancybox=True, shadow=True)\n",
    "plt.savefig('pmlkl_mode2_initsens_lubcylda20_100tnf_stripdots.pdf')"
   ]
  },
  {
   "cell_type": "code",
   "execution_count": null,
   "metadata": {},
   "outputs": [],
   "source": [
    "sns.set_style(\"whitegrid\", {'axes.grid' : False})\n",
    "fig, ax = plt.subplots(figsize = (9,7))\n",
    "my_pal = {\"WT\": \"darkorange\", \"LUBAC KD\": \"indigo\", \"LUBAC OE\":\"teal\",\n",
    "          \"A20 KD\":\"indigo\", \"A20 OE\":\"teal\",\"CYLD KD\": \"indigo\", \"CYLD OE\":\"teal\"}\n",
    "# b = sns.boxplot(x = \"value\", y =\"variable\", data = dfclus0, notch = True, width = 0.5, palette = my_pal)\n",
    "b = sns.stripplot(x=\"value\", y=\"variable\", data=pd.melt(dfclus0n), marker = 'o',palette=my_pal)\n",
    "# b = sns.swarmplot(data=dfm23, y=\"species\", x=\"value\", hue=\"variable\", marker=\"o\", alpha=0.5,dodge=True,linewidth=0.5,size=5)\n",
    "# print(plt.yticks())\n",
    "plt.annotate('LUBAC', xy = (-0.2,.7), xycoords ='axes fraction', fontsize = 20)\n",
    "plt.annotate('A20', xy = (-0.2,.42), xycoords ='axes fraction', fontsize = 20)\n",
    "plt.annotate('CYLD', xy = (-0.2,.12), xycoords ='axes fraction', fontsize = 20)\n",
    "plt.annotate(r'$\\infty$', xy = (0.95,-0.05), xycoords ='axes fraction', fontsize = 30)\n",
    "plt.axhline(y=0.5, color = 'k')\n",
    "plt.axhline(y=2.5, color = 'k')\n",
    "plt.axhline(y=4.5, color = 'k')\n",
    "plt.yticks(ticks = plt.yticks()[0], labels = ['WT', 'KD', 'OE','KD', 'OE','KD', 'OE'])\n",
    "b.set_xlabel(\"\")\n",
    "plt.xticks(fontsize = 25)\n",
    "b.set_ylabel(\"\")\n",
    "b.tick_params(labelsize=25)\n",
    "plt.xlim(xmax = 2150, xmin = 0)\n",
    "ax.set_xticks([0,300, 600, 900, 1200, 1500,1800])\n",
    "b.tick_params(labelsize=20)\n",
    "plt.tight_layout()\n",
    "# plt.xlim(xmin = 1)\n",
    "plt.legend(loc='upper center', bbox_to_anchor=(0.5, 1.05),\n",
    "          ncol=3, fancybox=True, shadow=True)\n",
    "# plt.savefig('pmlkl_mode2_initsens_lubcylda20_100tnf_strip.pdf')"
   ]
  },
  {
   "cell_type": "code",
   "execution_count": null,
   "metadata": {},
   "outputs": [],
   "source": [
    "sns.set_style(\"whitegrid\", {'axes.grid' : False})\n",
    "fig, ax = plt.subplots(figsize = (9,7))\n",
    "my_pal = {\"WT\": \"darkorange\", \"LUBAC KD\": \"indigo\", \"LUBAC OE\":\"teal\",\n",
    "          \"A20 KD\":\"indigo\", \"A20 OE\":\"teal\",\"CYLD KD\": \"indigo\", \"CYLD OE\":\"teal\"}\n",
    "# b = sns.boxplot(x = \"value\", y =\"variable\", data = dfclus0, notch = True, width = 0.5, palette = my_pal)\n",
    "b = sns.swarmplot(x=\"value\", y=\"variable\", data=pd.melt(dfclus0n), marker = 'o',zorder=2, palette=my_pal)\n",
    "# b = sns.swarmplot(data=dfm23, y=\"species\", x=\"value\", hue=\"variable\", marker=\"o\", alpha=0.5,dodge=True,linewidth=0.5,size=5)\n",
    "b.set_xlabel(\"\")\n",
    "plt.xticks(fontsize = 25)\n",
    "b.set_ylabel(\"\")\n",
    "b.tick_params(labelsize=25)\n",
    "plt.xlim(xmax = 2150, xmin = 0)\n",
    "ax.set_xticks([0,300, 600, 900, 1200, 1500,1800])\n",
    "b.tick_params(labelsize=20)\n",
    "plt.tight_layout()\n",
    "# plt.xlim(xmin = 1)\n",
    "plt.legend(loc='upper center', bbox_to_anchor=(0.5, 1.05),\n",
    "          ncol=3, fancybox=True, shadow=True)\n",
    "plt.savefig('pmlkl_mode2_initsens_lubcylda20_100tnf.pdf')"
   ]
  },
  {
   "cell_type": "code",
   "execution_count": null,
   "metadata": {},
   "outputs": [],
   "source": []
  },
  {
   "cell_type": "code",
   "execution_count": null,
   "metadata": {},
   "outputs": [],
   "source": [
    "solverkdm2cyld = ScipyOdeSimulator(model, tspan=t, verbose = True)\n",
    "mode1kdm2cyld   = solverkdm2cyld.run(initials = {m.CYLD(brip=None, btraf=None):2772},\n",
    "                                        param_values=m2, num_processors = 20)\n",
    "mode1df_kdm2cyld  = mode1kdm2cyld.dataframe"
   ]
  },
  {
   "cell_type": "code",
   "execution_count": null,
   "metadata": {},
   "outputs": [],
   "source": [
    "thresh = 2772\n",
    "ttdm2cyldkd = []\n",
    "for j in range(len(m2)):\n",
    "    i_range = range(len(mode1df_kdm2cyld.loc[j]['MLKLa_obs']))\n",
    "    for i in i_range:\n",
    "        if mode1df_kdm2cyld.loc[j]['MLKLa_obs'].iloc[i] > thresh:\n",
    "            ttdm2cyldkd.append(mode1df_kdm2cyld.loc[j].index[i])\n",
    "            break\n",
    "        if i == i_range[-1]:\n",
    "            ttdm2cyldkd.append(np.inf)\n",
    "for i in range(len(ttdm2cyldkd)):\n",
    "    if ttdm2cyldkd[i] == np.inf:\n",
    "        ttdm2cyldkd[i] = 2100               "
   ]
  },
  {
   "cell_type": "code",
   "execution_count": null,
   "metadata": {},
   "outputs": [],
   "source": [
    "solveroem2cyld = ScipyOdeSimulator(model, tspan=t, verbose = True)\n",
    "mode1oem2cyld  = solveroem2cyld.run(initials = {m.CYLD(brip=None, btraf=None):90750},\n",
    "                                        param_values=m2, num_processors = 20)\n",
    "mode1df_oem2cyld = mode1oem2cyld.dataframe"
   ]
  },
  {
   "cell_type": "code",
   "execution_count": null,
   "metadata": {},
   "outputs": [],
   "source": [
    "thresh = 2772\n",
    "ttdm2cyldoe = []\n",
    "for j in range(len(m2)):\n",
    "    i_range = range(len(mode1df_oem2cyld.loc[j]['MLKLa_obs']))\n",
    "    for i in i_range:\n",
    "        if mode1df_oem2cyld.loc[j]['MLKLa_obs'].iloc[i] > thresh:\n",
    "            ttdm2cyldoe.append(mode1df_oem2cyld.loc[j].index[i])\n",
    "            break\n",
    "        if i == i_range[-1]:\n",
    "            ttdm2cyldoe.append(np.inf)\n",
    "for i in range(len(ttdm2cyldoe)):\n",
    "    if ttdm2cyldoe[i] == np.inf:\n",
    "        ttdm2cyldoe[i] = 2100               "
   ]
  },
  {
   "cell_type": "code",
   "execution_count": null,
   "metadata": {},
   "outputs": [],
   "source": []
  },
  {
   "cell_type": "code",
   "execution_count": null,
   "metadata": {},
   "outputs": [],
   "source": []
  },
  {
   "cell_type": "code",
   "execution_count": null,
   "metadata": {},
   "outputs": [],
   "source": []
  },
  {
   "cell_type": "code",
   "execution_count": null,
   "metadata": {},
   "outputs": [],
   "source": []
  },
  {
   "cell_type": "code",
   "execution_count": null,
   "metadata": {},
   "outputs": [],
   "source": []
  },
  {
   "cell_type": "code",
   "execution_count": null,
   "metadata": {},
   "outputs": [],
   "source": []
  },
  {
   "cell_type": "code",
   "execution_count": null,
   "metadata": {},
   "outputs": [],
   "source": []
  },
  {
   "cell_type": "code",
   "execution_count": null,
   "metadata": {},
   "outputs": [],
   "source": []
  },
  {
   "cell_type": "code",
   "execution_count": null,
   "metadata": {},
   "outputs": [],
   "source": []
  },
  {
   "cell_type": "code",
   "execution_count": null,
   "metadata": {},
   "outputs": [],
   "source": []
  },
  {
   "cell_type": "code",
   "execution_count": null,
   "metadata": {},
   "outputs": [],
   "source": []
  },
  {
   "cell_type": "code",
   "execution_count": null,
   "metadata": {},
   "outputs": [],
   "source": []
  }
 ],
 "metadata": {
  "kernelspec": {
   "display_name": "Python 3",
   "language": "python",
   "name": "python3"
  },
  "language_info": {
   "codemirror_mode": {
    "name": "ipython",
    "version": 3
   },
   "file_extension": ".py",
   "mimetype": "text/x-python",
   "name": "python",
   "nbconvert_exporter": "python",
   "pygments_lexer": "ipython3",
   "version": "3.7.5"
  }
 },
 "nbformat": 4,
 "nbformat_minor": 2
}
