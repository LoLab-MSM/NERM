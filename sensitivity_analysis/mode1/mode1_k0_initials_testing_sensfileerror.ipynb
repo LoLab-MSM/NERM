{
 "cells": [
  {
   "cell_type": "code",
   "execution_count": 1,
   "metadata": {},
   "outputs": [],
   "source": [
    "import os\n",
    "from pylab import *\n",
    "from pysb.core import *\n",
    "from pysb.bng import *\n",
    "from pysb.integrate import *\n",
    "import matplotlib.pyplot as plt\n",
    "import numpy as np\n",
    "from pysb.util import alias_model_components\n",
    "from pysb.simulator import CupSodaSimulator\n",
    "from pysb.simulator import ScipyOdeSimulator\n",
    "from pysb.simulator.bng import BngSimulator\n",
    "import sys\n",
    "sys.path.append('../')\n",
    "sys.path.append('/home/ildefog/main/Projects/NERM/')\n",
    "sys.path.append('/home/ildefog/main/Projects/NERM/param_files/')\n",
    "from model_files.nerm_pvals import model \n",
    "import pandas as pd\n",
    "from scipy import stats\n",
    "from pysb.simulator import SimulationResult\n",
    "import logging\n",
    "import os\n",
    "from pysb.logging import setup_logger\n",
    "from pysb.simulator.cupsoda import CupSodaSimulator\n",
    "from pysb.simulator.scipyode import ScipyOdeSimulator\n",
    "from sensitivity_analysis4 import InitialsSensitivity\n",
    "from pysb.util import update_param_vals\n",
    "from scipy.stats import norm,uniform, halfnorm\n",
    "from pysb.tools.sensitivity_analysis import PairwiseSensitivity\n",
    "os.environ['OMP_NUM_THREADS'] = '1'\n",
    "from scipy.optimize import curve_fit"
   ]
  },
  {
   "cell_type": "code",
   "execution_count": null,
   "metadata": {},
   "outputs": [],
   "source": [
    "c0 = np.load('../NecroptosisSens/cluster0/necro_pars10k_cluster0_5720_mod.npy')[:,14:]\n",
    "c1 = np.load('../NecroptosisSens/cluster1/necro_pars10k_cluster1_5720_mod.npy')[:,14:]\n",
    "c2 = np.load('../NecroptosisSens/cluster2/necro_pars10k_cluster2_5720_mod.npy')[:,14:]\n",
    "c3 = np.load('../NecroptosisSens/cluster3/necro_pars10k_cluster3_5720_mod.npy')[:,14:]"
   ]
  },
  {
   "cell_type": "code",
   "execution_count": null,
   "metadata": {},
   "outputs": [],
   "source": [
    "n_pars = len(c1)\n",
    "all_pars = np.zeros((n_pars, len(model.parameters)))\n",
    "\n",
    "rate_params = model.parameters_rules()\n",
    "param_values = np.array([p.value for p in model.parameters])\n",
    "rate_mask = np.array([p in rate_params for p in model.parameters])\n",
    "\n",
    "for i in range(n_pars):\n",
    "    par = c1[i]\n",
    "    param_values[rate_mask] = par\n",
    "    all_pars[i] = param_values"
   ]
  },
  {
   "cell_type": "code",
   "execution_count": null,
   "metadata": {},
   "outputs": [],
   "source": [
    "tspan = np.linspace(0,1440,1441)"
   ]
  },
  {
   "cell_type": "code",
   "execution_count": null,
   "metadata": {},
   "outputs": [],
   "source": [
    "solverwtm1 = ScipyOdeSimulator(model, tspan=tspan, verbose = True)\n",
    "mode1wtm1  = solverwtm1.run(param_values=all_pars[17], num_processors = 20)\n",
    "mode1df_wtm1 = mode1wtm1.dataframe"
   ]
  },
  {
   "cell_type": "code",
   "execution_count": null,
   "metadata": {},
   "outputs": [],
   "source": [
    "fig, ax = plt.subplots()\n",
    "# for n in range(len(mode1_100)):\n",
    "plt.plot(tspan/60, mode1df_wtm1.loc[:]['MLKLa_obs'].iloc[:]/5544, lw=1.5, \n",
    "             zorder = 1)\n",
    "# colormap = plt.cm.Reds #nipy_spectral, Set1,Paired   \n",
    "# colors = [colormap(i) for i in np.linspace(0, 1,len(ax.lines))]\n",
    "# for i,j in enumerate(ax.lines):\n",
    "#     j.set_color(colors[i])\n",
    "# ax1.legend(loc=2)    \n",
    "plt.xlabel(\"Time (hours)\", fontsize=15)\n",
    "plt.ylabel(\"pMLKL (normalized)\", fontsize=15)\n",
    "plt.xlim(xmin = 0, xmax = 16)\n",
    "plt.ylim(ymin = 0)\n",
    "plt.xticks(fontsize=14)\n",
    "plt.yticks(fontsize=14)\n",
    "right_side = ax.spines[\"right\"]\n",
    "right_side.set_visible(False)\n",
    "top = ax.spines[\"top\"]\n",
    "top.set_visible(False)\n",
    "ax.set_xticks([0, 5, 10, 15, 20, 24])\n",
    "ax.grid(False)\n",
    "plt.tight_layout()\n",
    "# plt.savefig('pmlkl_allpars_clus0_tnf100_noframe.pdf')\n",
    "plt.show() "
   ]
  },
  {
   "cell_type": "code",
   "execution_count": null,
   "metadata": {},
   "outputs": [],
   "source": [
    "with open('necro_5720mode3_paramkk17tnf100_testnew.txt', 'w') as f:\n",
    "   for p, v in zip(model.parameters, mode1wtm1.param_values[0]):\n",
    "       f.write('{},{:e}\\n'.format(p.name, v))"
   ]
  },
  {
   "cell_type": "code",
   "execution_count": 2,
   "metadata": {},
   "outputs": [],
   "source": [
    "def update_param_vals(model, newvals):\n",
    "    \"\"\"update the values of model parameters with the values from a dict.\n",
    "    the keys in the dict must match the parameter names\n",
    "    \"\"\"\n",
    "    update = []\n",
    "    noupdate = []\n",
    "    for i in model.parameters:\n",
    "        if i.name in newvals:\n",
    "            i.value = newvals[i.name]\n",
    "            update.append(i.name)\n",
    "        else:\n",
    "            noupdate.append(i.name)\n",
    "    return update, noupdate"
   ]
  },
  {
   "cell_type": "code",
   "execution_count": 3,
   "metadata": {},
   "outputs": [
    {
     "name": "stderr",
     "output_type": "stream",
     "text": [
      "2022-01-10 20:01:12.228 - pysb - INFO - Logging started on PySB version 1.11.0\n",
      "2022-01-10 20:01:12.230 - pysb - INFO - Log entry time offset from UTC: -6.00 hours\n"
     ]
    }
   ],
   "source": [
    "setup_logger(logging.INFO, file_output='necroclusters2large_5720.log', console_output=True)\n",
    "observable = 'MLKLa_obs'\n",
    "\n",
    "tspan = np.array([30, 90, 270, 480, 600, 720, 840, 960, 1080, 1200, 1320, 1440])\n",
    "\n",
    "def likelihood(mlkl_traj):\n",
    "    #Here we fit a spline to find where we get 50% release of MOMP reporter\n",
    "#     ysim_mlkl_norm = mlkl_traj/np.nanmax(mlkl_traj)\n",
    "#     threshold = 2772\n",
    "    threshold = np.nanmax(mlkl_traj)/2\n",
    "    st, sc, sk = scipy.interpolate.splrep(tspan, mlkl_traj)\n",
    "    \n",
    "    tspan2 = np.linspace(tspan[0], tspan[-1], 1000)\n",
    "    mlkl_traj2 = scipy.interpolate.splev(tspan2, (st, sc, sk))\n",
    "    for i in range(len(mlkl_traj2)):\n",
    "        if mlkl_traj2[i] > threshold:\n",
    "            td = tspan2[i]\n",
    "            break \n",
    "        if i == len(mlkl_traj2)-1:   \n",
    "            td = np.nan\n",
    "\n",
    "    return td\n",
    "# def likelihood(mlkl_traj):\n",
    "#     #Here we fit a spline to find where we get 50% release of MOMP reporter\n",
    "#     ysim_mlkl_norm = mlkl_traj / 2772 #np.nanmax(mlkl_traj)\n",
    "#     st, sc, sk = scipy.interpolate.splrep(tspan, ysim_mlkl_norm)\n",
    "#     try:\n",
    "#         t10 = scipy.interpolate.sproot((st, sc - 0.10, sk))[0]\n",
    "#         t90 = scipy.interpolate.sproot((st, sc - 0.90, sk))[0]\n",
    "#     except IndexError:\n",
    "#         t10 = 0\n",
    "#         t90 = 0\n",
    "\n",
    "#     # time of death  = halfway point between 10 and 90%\n",
    "#     td = (t10 + t90) / 2\n",
    "\n",
    "#     return td\n",
    "\n",
    "def run():\n",
    "    vals = np.linspace(0.6, 1.4, 5)\n",
    "    new_params2 = pd.read_csv('necro_5720mode1mid_paramk12tnf100_test.txt',\n",
    "        index_col=0, names=['name', 'value']).to_dict('dict')['value']\n",
    "\n",
    "    update_param_vals(model, new_params2)\n",
    "\n",
    "    use_cupsoda = False\n",
    "    if use_cupsoda:\n",
    "        integrator_opt = {'rtol': 1e-6, 'atol': 1e-6, 'max_steps': 20000,\n",
    "                          'memory_usage': 'global', 'vol': 1e-19}\n",
    "        solver = CupSodaSimulator(model, t, verbose=True, gpu=0,\n",
    "                                  integrator_options=integrator_opt,\n",
    "                                  )\n",
    "    else:\n",
    "        integrator_opt_scipy = {'rtol': 1e-6, 'atol': 1e-6, 'mxstep': 20000}\n",
    "        solver = ScipyOdeSimulator(model, tspan=tspan, integrator='lsoda',\n",
    "                                   integrator_options=integrator_opt_scipy)\n",
    "    sens = InitialsSensitivity(\n",
    "        solver,\n",
    "        values_to_sample=vals,\n",
    "        observable=observable,\n",
    "        objective_function=likelihood, sens_type='initials')  #\n",
    "\n",
    "    sens.run('output_{}', out_dir=out_dir)\n",
    "    sens.create_heatplot(save_name='mode1k12heatinew', out_dir=out_dir)\n",
    "    InitialsSensitivity.create_boxplot(sens, save_name='mode1k12boxinew', out_dir=out_dir, show = True)\n",
    "#     sens.create_boxplot(save_name='mode1k12boxpnew', out_dir=out_dir)\n",
    "#     sens.create_individual_pairwise_plots(save_name='mode1k12inew', out_dir=out_dir)\n",
    "\n",
    "\n",
    "# if __name__ == '__main__':\n",
    "#     out_dir = 'clus0mnec1_5421'\n",
    "#     run()\n",
    "#     process()\n",
    "#     load()\n"
   ]
  },
  {
   "cell_type": "code",
   "execution_count": 4,
   "metadata": {},
   "outputs": [
    {
     "name": "stderr",
     "output_type": "stream",
     "text": [
      "2022-01-10 20:01:18.328 - pysb.simulator.scipyode - DEBUG - [model_files.nerm_pvals] Simulator created\n",
      "2022-01-10 20:01:19.573 - pysb.simulator.scipyode - DEBUG - [model_files.nerm_pvals] Simulator created\n"
     ]
    },
    {
     "name": "stdout",
     "output_type": "stream",
     "text": [
      "\n"
     ]
    },
    {
     "name": "stderr",
     "output_type": "stream",
     "text": [
      "2022-01-10 20:01:19.901 - pysb.simulator.scipyode - DEBUG - [model_files.nerm_pvals] Equation mode set to \"cython\"\n",
      "2022-01-10 20:01:20.485 - pysb.simulator.scipyode - INFO - [model_files.nerm_pvals] Simulation(s) started\n",
      "2022-01-10 20:01:20.530 - pysb.simulator.scipyode - DEBUG - [model_files.nerm_pvals] Single processor (serial) mode\n"
     ]
    },
    {
     "name": "stdout",
     "output_type": "stream",
     "text": [
      "\n"
     ]
    },
    {
     "name": "stderr",
     "output_type": "stream",
     "text": [
      "2022-01-10 20:01:20.718 - pysb.simulator.scipyode - INFO - [model_files.nerm_pvals] All simulation(s) complete\n",
      "2022-01-10 20:01:20.720 - pysb.simulator.scipyode - DEBUG - [model_files.nerm_pvals] SimulationResult constructor started\n",
      "2022-01-10 20:01:20.768 - pysb.simulator.scipyode - DEBUG - [model_files.nerm_pvals] SimulationResult constructor finished\n",
      "2022-01-10 20:01:20.770 - pysb.simulator.scipyode - INFO - [model_files.nerm_pvals] Simulation(s) started\n",
      "2022-01-10 20:01:20.913 - pysb.simulator.scipyode - DEBUG - [model_files.nerm_pvals] Multi-processor (parallel) mode using 20 processes\n",
      "2022-01-10 20:03:18.492 - pysb.simulator.scipyode - INFO - [model_files.nerm_pvals] All simulation(s) complete\n",
      "2022-01-10 20:03:18.493 - pysb.simulator.scipyode - DEBUG - [model_files.nerm_pvals] SimulationResult constructor started\n",
      "2022-01-10 20:03:19.421 - pysb.simulator.scipyode - DEBUG - [model_files.nerm_pvals] SimulationResult constructor finished\n"
     ]
    },
    {
     "name": "stdout",
     "output_type": "stream",
     "text": [
      "(14, 325)\n"
     ]
    },
    {
     "data": {
      "image/png": "[encoded data removed]",
      "text/plain": [
       "<Figure size 576x576 with 1 Axes>"
      ]
     },
     "metadata": {
      "needs_background": "light"
     },
     "output_type": "display_data"
    }
   ],
   "source": [
    "if __name__ == '__main__':\n",
    "    model_v = 'necro'\n",
    "    # all parameter fits from pso\n",
    "#     p_set = 'all_params_24_part_200_iter_2_bound_0.1_speed.csv'\n",
    "    params = pd.read_csv('necro_5720mode1mid_paramk12tnf100_test.txt',\n",
    "        index_col=0, names=['name', 'value']).to_dict('dict')['value']\n",
    "#     print(len(params))\n",
    "    # how many sens analysis to run\n",
    "    n_sets = 1\n",
    "\n",
    "    # spacing for sens analysis\n",
    "    vals = np.linspace(.6, 1.4, 5)\n",
    "\n",
    "    solver = ScipyOdeSimulator(model, tspan, integrator='lsoda',\n",
    "                               verbose=True,\n",
    "                               use_analytic_jacobian=True,\n",
    "                               compiler='cython',\n",
    "                               integrator_options={\"rtol\": 1e-6,\n",
    "                                                   \"atol\": 1e-6})\n",
    "    # The observable of the model\n",
    "    observable = 'MLKLa_obs'\n",
    "    sens = InitialsSensitivity(\n",
    "        values_to_sample=vals,\n",
    "        observable=observable,\n",
    "        objective_function=likelihood,\n",
    "        solver=solver,sens_type = 'initials'\n",
    "    )\n",
    "    out_dir = 'mode1_initials_k12_testsensfileerror2'\n",
    "#     out_dir = p_set.split(',')[0]\n",
    "#     if not os.path.exists(out_dir):\n",
    "#         os.mkdir(out_dir)\n",
    "    run()\n",
    "#     process()\n",
    "#     load()"
   ]
  },
  {
   "cell_type": "code",
   "execution_count": null,
   "metadata": {},
   "outputs": [],
   "source": []
  },
  {
   "cell_type": "code",
   "execution_count": null,
   "metadata": {},
   "outputs": [],
   "source": []
  },
  {
   "cell_type": "code",
   "execution_count": null,
   "metadata": {},
   "outputs": [],
   "source": []
  }
 ],
 "metadata": {
  "kernelspec": {
   "display_name": "Python 3",
   "language": "python",
   "name": "python3"
  },
  "language_info": {
   "codemirror_mode": {
    "name": "ipython",
    "version": 3
   },
   "file_extension": ".py",
   "mimetype": "text/x-python",
   "name": "python",
   "nbconvert_exporter": "python",
   "pygments_lexer": "ipython3",
   "version": "3.7.5"
  }
 },
 "nbformat": 4,
 "nbformat_minor": 2
}
