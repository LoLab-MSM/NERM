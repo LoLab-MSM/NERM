{
 "cells": [
  {
   "cell_type": "code",
   "execution_count": 44,
   "metadata": {},
   "outputs": [],
   "source": [
    "from necro_uncal_new_updated import model as model100\n",
    "import seaborn as sns\n",
    "import numpy as np\n",
    "from matplotlib import pyplot as plt\n",
    "# from necro_pydream_model_file_8920 import model\n",
    "from pysb.simulator import ScipyOdeSimulator\n",
    "import numpy as np\n",
    "from scipy.stats import norm,uniform\n",
    "import seaborn as sns\n",
    "from matplotlib import pyplot as plt\n",
    "import random\n",
    "import os\n",
    "from pylab import *\n",
    "from pysb.core import *\n",
    "from pysb.bng import *\n",
    "from pysb.integrate import *\n",
    "import matplotlib.pyplot as plt\n",
    "import numpy as np\n",
    "from pysb.util import alias_model_components\n",
    "from scipy import stats\n",
    "from pysb.simulator import SimulationResult\n",
    "import pandas as pd\n",
    "import seaborn as sns"
   ]
  },
  {
   "cell_type": "code",
   "execution_count": null,
   "metadata": {},
   "outputs": [],
   "source": [
    "clus1mod = clus1_100[:][:,14:]"
   ]
  },
  {
   "cell_type": "code",
   "execution_count": null,
   "metadata": {},
   "outputs": [],
   "source": [
    "idx = list(range(14, 54,1)) #index for parameter values after initial conditions 14-50\n",
    "print(len(idx))\n",
    "counter = 0\n",
    "# samples_nonlog = 10 ** samples\n",
    "ndims = len(idx)\n",
    "plt.figure(figsize=(20, 20))\n",
    "for i in range(1,41):\n",
    "    plt.subplot(8, 5, i)\n",
    "    # plt.plot(samples[:, counter])\n",
    "#     sns.distplot(norm.rvs(size=n, loc=logps_vals[counter], scale=scaling[counter]), color='cyan')\n",
    "    sns.distplot(clus1mod[:][:, counter])\n",
    "    plt.title(model100.parameters[idx[counter]].name, fontdict={'fontsize': 10})\n",
    "    counter += 1\n",
    "    plt.xlabel(\"Log(10) Value\", fontsize=10)\n",
    "    plt.ylabel(\"Probability\", fontsize=9, labelpad=15)\n",
    "    plt.xlim(xmin = -1,xmax=10)\n",
    "plt.subplots_adjust(wspace=0.4)\n",
    "plt.subplots_adjust(hspace=0.6)\n",
    "# plt.savefig('pydream_priorpost_traceplot_earm_gi.pdf', format='pdf', bbox_inches=\"tight\")\n",
    "plt.show()"
   ]
  },
  {
   "cell_type": "code",
   "execution_count": null,
   "metadata": {
    "scrolled": false
   },
   "outputs": [],
   "source": [
    "for i,pr in enumerate(model100.parameters):\n",
    "    print(i,\":\",pr)"
   ]
  },
  {
   "cell_type": "code",
   "execution_count": null,
   "metadata": {},
   "outputs": [],
   "source": [
    "par_files = np.load('necro_pars10k_allclusmod.npy')"
   ]
  },
  {
   "cell_type": "code",
   "execution_count": null,
   "metadata": {},
   "outputs": [],
   "source": []
  },
  {
   "cell_type": "code",
   "execution_count": 45,
   "metadata": {},
   "outputs": [
    {
     "ename": "FileNotFoundError",
     "evalue": "[Errno 2] No such file or directory: 'necro_pars10k_cluster0_5720_mod.npy'",
     "output_type": "error",
     "traceback": [
      "\u001b[0;31m---------------------------------------------------------------------------\u001b[0m",
      "\u001b[0;31mFileNotFoundError\u001b[0m                         Traceback (most recent call last)",
      "\u001b[0;32m<ipython-input-45-89985bea7474>\u001b[0m in \u001b[0;36m<module>\u001b[0;34m\u001b[0m\n\u001b[0;32m----> 1\u001b[0;31m \u001b[0mclus0_100\u001b[0m \u001b[0;34m=\u001b[0m \u001b[0mnp\u001b[0m\u001b[0;34m.\u001b[0m\u001b[0mload\u001b[0m\u001b[0;34m(\u001b[0m\u001b[0;34m'necro_pars10k_cluster0_5720_mod.npy'\u001b[0m\u001b[0;34m)\u001b[0m\u001b[0;34m\u001b[0m\u001b[0;34m\u001b[0m\u001b[0m\n\u001b[0m\u001b[1;32m      2\u001b[0m \u001b[0mclus0_100n\u001b[0m \u001b[0;34m=\u001b[0m \u001b[0mnp\u001b[0m\u001b[0;34m.\u001b[0m\u001b[0mload\u001b[0m\u001b[0;34m(\u001b[0m\u001b[0;34m'necro_pars10k_cluster0_5720_mod.npy'\u001b[0m\u001b[0;34m)\u001b[0m\u001b[0;34m\u001b[0m\u001b[0;34m\u001b[0m\u001b[0m\n\u001b[1;32m      3\u001b[0m \u001b[0mclus0_100nn\u001b[0m \u001b[0;34m=\u001b[0m \u001b[0mnp\u001b[0m\u001b[0;34m.\u001b[0m\u001b[0mload\u001b[0m\u001b[0;34m(\u001b[0m\u001b[0;34m'necro_pars10k_cluster0_5720_mod.npy'\u001b[0m\u001b[0;34m)\u001b[0m\u001b[0;34m\u001b[0m\u001b[0;34m\u001b[0m\u001b[0m\n\u001b[1;32m      4\u001b[0m \u001b[0mclus0_100nnn\u001b[0m \u001b[0;34m=\u001b[0m \u001b[0mnp\u001b[0m\u001b[0;34m.\u001b[0m\u001b[0mload\u001b[0m\u001b[0;34m(\u001b[0m\u001b[0;34m'necro_pars10k_cluster0_5720_mod.npy'\u001b[0m\u001b[0;34m)\u001b[0m\u001b[0;34m\u001b[0m\u001b[0;34m\u001b[0m\u001b[0m\n\u001b[1;32m      5\u001b[0m \u001b[0mclus0_100nnnn\u001b[0m \u001b[0;34m=\u001b[0m \u001b[0mnp\u001b[0m\u001b[0;34m.\u001b[0m\u001b[0mload\u001b[0m\u001b[0;34m(\u001b[0m\u001b[0;34m'necro_pars10k_cluster0_5720_mod.npy'\u001b[0m\u001b[0;34m)\u001b[0m\u001b[0;34m\u001b[0m\u001b[0;34m\u001b[0m\u001b[0m\n",
      "\u001b[0;32m/home/jupyterhub/miniconda3/lib/python3.7/site-packages/numpy/lib/npyio.py\u001b[0m in \u001b[0;36mload\u001b[0;34m(file, mmap_mode, allow_pickle, fix_imports, encoding)\u001b[0m\n\u001b[1;32m    413\u001b[0m         \u001b[0mown_fid\u001b[0m \u001b[0;34m=\u001b[0m \u001b[0;32mFalse\u001b[0m\u001b[0;34m\u001b[0m\u001b[0;34m\u001b[0m\u001b[0m\n\u001b[1;32m    414\u001b[0m     \u001b[0;32melse\u001b[0m\u001b[0;34m:\u001b[0m\u001b[0;34m\u001b[0m\u001b[0;34m\u001b[0m\u001b[0m\n\u001b[0;32m--> 415\u001b[0;31m         \u001b[0mfid\u001b[0m \u001b[0;34m=\u001b[0m \u001b[0mopen\u001b[0m\u001b[0;34m(\u001b[0m\u001b[0mos_fspath\u001b[0m\u001b[0;34m(\u001b[0m\u001b[0mfile\u001b[0m\u001b[0;34m)\u001b[0m\u001b[0;34m,\u001b[0m \u001b[0;34m\"rb\"\u001b[0m\u001b[0;34m)\u001b[0m\u001b[0;34m\u001b[0m\u001b[0;34m\u001b[0m\u001b[0m\n\u001b[0m\u001b[1;32m    416\u001b[0m         \u001b[0mown_fid\u001b[0m \u001b[0;34m=\u001b[0m \u001b[0;32mTrue\u001b[0m\u001b[0;34m\u001b[0m\u001b[0;34m\u001b[0m\u001b[0m\n\u001b[1;32m    417\u001b[0m \u001b[0;34m\u001b[0m\u001b[0m\n",
      "\u001b[0;31mFileNotFoundError\u001b[0m: [Errno 2] No such file or directory: 'necro_pars10k_cluster0_5720_mod.npy'"
     ]
    }
   ],
   "source": [
    "clus0_100 = np.load('necro_pars10k_cluster0_5720_mod.npy')\n",
    "clus0_100n = np.load('necro_pars10k_cluster0_5720_mod.npy')\n",
    "clus0_100nn = np.load('necro_pars10k_cluster0_5720_mod.npy') \n",
    "clus0_100nnn = np.load('necro_pars10k_cluster0_5720_mod.npy')\n",
    "clus0_100nnnn = np.load('necro_pars10k_cluster0_5720_mod.npy')"
   ]
  },
  {
   "cell_type": "code",
   "execution_count": null,
   "metadata": {},
   "outputs": [],
   "source": [
    "clus0mod = clus0_100[:][:,14:]"
   ]
  },
  {
   "cell_type": "code",
   "execution_count": null,
   "metadata": {},
   "outputs": [],
   "source": [
    "idx = list(range(14, 54,1)) #index for parameter values after initial conditions 14-50\n",
    "print(len(idx))\n",
    "counter = 0\n",
    "# samples_nonlog = 10 ** samples\n",
    "ndims = len(idx)\n",
    "plt.figure(figsize=(20, 20))\n",
    "for i in range(1,41):\n",
    "    plt.subplot(8, 5, i)\n",
    "    # plt.plot(samples[:, counter])\n",
    "#     sns.distplot(norm.rvs(size=n, loc=logps_vals[counter], scale=scaling[counter]), color='cyan')\n",
    "    sns.distplot(clus3mod[:][:, counter])\n",
    "    plt.title(model100.parameters[idx[counter]].name, fontdict={'fontsize': 10})\n",
    "    counter += 1\n",
    "    plt.xlabel(\"Log(10) Value\", fontsize=10)\n",
    "    plt.ylabel(\"Probability\", fontsize=9, labelpad=15)\n",
    "    plt.xlim(xmin = -1,xmax=10)\n",
    "plt.subplots_adjust(wspace=0.4)\n",
    "plt.subplots_adjust(hspace=0.6)\n",
    "# plt.savefig('pydream_priorpost_traceplot_earm_gi.pdf', format='pdf', bbox_inches=\"tight\")\n",
    "plt.show()"
   ]
  },
  {
   "cell_type": "code",
   "execution_count": null,
   "metadata": {},
   "outputs": [],
   "source": [
    "g = 31"
   ]
  },
  {
   "cell_type": "code",
   "execution_count": 3,
   "metadata": {},
   "outputs": [],
   "source": [
    "a = 33"
   ]
  },
  {
   "cell_type": "code",
   "execution_count": 19,
   "metadata": {},
   "outputs": [],
   "source": [
    "p = 14"
   ]
  },
  {
   "cell_type": "code",
   "execution_count": null,
   "metadata": {},
   "outputs": [],
   "source": [
    "z = 45"
   ]
  },
  {
   "cell_type": "code",
   "execution_count": null,
   "metadata": {},
   "outputs": [],
   "source": [
    "clus0_100n[:][:,g] = clus0_100n[:][:,g]*10"
   ]
  },
  {
   "cell_type": "code",
   "execution_count": null,
   "metadata": {},
   "outputs": [],
   "source": [
    "clus0_100nn[:][:,g] = clus0_100nn[:][:,g]*100"
   ]
  },
  {
   "cell_type": "code",
   "execution_count": null,
   "metadata": {},
   "outputs": [],
   "source": [
    "clus0_100nnn[:][:,g] = clus0_100nnn[:][:,g]*1000"
   ]
  },
  {
   "cell_type": "code",
   "execution_count": null,
   "metadata": {},
   "outputs": [],
   "source": [
    "clus0_100nnnn[:][:,g] = clus0_100nnnn[:][:,g]*10000"
   ]
  },
  {
   "cell_type": "code",
   "execution_count": 4,
   "metadata": {},
   "outputs": [],
   "source": [
    "clus0_100n[:][:,a] = clus0_100n[:][:,a]*10"
   ]
  },
  {
   "cell_type": "code",
   "execution_count": 5,
   "metadata": {},
   "outputs": [],
   "source": [
    "clus0_100nn[:][:,a] = clus0_100nn[:][:,a]*100"
   ]
  },
  {
   "cell_type": "code",
   "execution_count": 6,
   "metadata": {},
   "outputs": [],
   "source": [
    "clus0_100nnn[:][:,a] = clus0_100nnn[:][:,a]*1000"
   ]
  },
  {
   "cell_type": "code",
   "execution_count": 7,
   "metadata": {},
   "outputs": [],
   "source": [
    "clus0_100nnnn[:][:,a] = clus0_100nnnn[:][:,a]*10000"
   ]
  },
  {
   "cell_type": "code",
   "execution_count": null,
   "metadata": {},
   "outputs": [],
   "source": []
  },
  {
   "cell_type": "code",
   "execution_count": null,
   "metadata": {},
   "outputs": [],
   "source": [
    "print(clus2_100n[:][:,p])\n",
    "print(clus2_100n[:][:,p]/10)\n",
    "print(clus2_100n[:][:,p]/100)\n",
    "print(clus2_100n[:][:,p]/1000)"
   ]
  },
  {
   "cell_type": "code",
   "execution_count": null,
   "metadata": {},
   "outputs": [],
   "source": [
    "clus0_100[:][:,p]"
   ]
  },
  {
   "cell_type": "code",
   "execution_count": 20,
   "metadata": {},
   "outputs": [],
   "source": [
    "clus0_100n[:][:,p] = clus0_100n[:][:,p]/10"
   ]
  },
  {
   "cell_type": "code",
   "execution_count": null,
   "metadata": {},
   "outputs": [],
   "source": [
    "clus0_100n[:][:,p]"
   ]
  },
  {
   "cell_type": "code",
   "execution_count": 21,
   "metadata": {},
   "outputs": [],
   "source": [
    "clus0_100nn[:][:,p] = clus0_100nn[:][:,p]/100"
   ]
  },
  {
   "cell_type": "code",
   "execution_count": 22,
   "metadata": {},
   "outputs": [],
   "source": [
    "clus0_100nnn[:][:,p] = clus0_100nnn[:][:,p]/1000"
   ]
  },
  {
   "cell_type": "code",
   "execution_count": null,
   "metadata": {},
   "outputs": [],
   "source": [
    "clus0_100nnnn[:][:,p] = clus0_100nnnn[:][:,p]/10000"
   ]
  },
  {
   "cell_type": "code",
   "execution_count": null,
   "metadata": {},
   "outputs": [],
   "source": [
    "clus2_100n[:][:,z] = clus2_100n[:][:,z]*10"
   ]
  },
  {
   "cell_type": "code",
   "execution_count": null,
   "metadata": {},
   "outputs": [],
   "source": [
    "clus2_100nn[:][:,z] = clus2_100nn[:][:,z]*100"
   ]
  },
  {
   "cell_type": "code",
   "execution_count": null,
   "metadata": {},
   "outputs": [],
   "source": [
    "clus2_100nnn[:][:,z] = clus2_100nnn[:][:,z]*1000"
   ]
  },
  {
   "cell_type": "code",
   "execution_count": null,
   "metadata": {},
   "outputs": [],
   "source": [
    "clus2_100nnnn[:][:,z] = clus2_100nnnn[:][:,z]*10000"
   ]
  },
  {
   "cell_type": "code",
   "execution_count": null,
   "metadata": {},
   "outputs": [],
   "source": []
  },
  {
   "cell_type": "code",
   "execution_count": null,
   "metadata": {},
   "outputs": [],
   "source": [
    "# fig = plt.figure(figsize=(20, 15))\n",
    "# for i in range(1,41):\n",
    "#     ax = fig.add_subplot(8, 5, i)\n",
    "    # plt.plot(samples[:, counter])\n",
    "# fig = plt.figure(figsize=(20, 5))\n",
    "fig, axes = plt.subplots(1, 4, figsize=(28, 7), sharex=True)\n",
    "plt.subplot(141)\n",
    "# sns.distplot(clus3_100[:, 42])\n",
    "sns.distplot(clus0_100[:, 28])\n",
    "# sns.distplot(clus2_100[:, 48])\n",
    "# sns.distplot(clus2_100n[:, 45])\n",
    "# sns.distplot(clus2_100nn[:, 45])\n",
    "# plt.ylim(ymax=2)\n",
    "plt.xlim(xmin = -1,xmax=10)\n",
    "plt.xticks(fontsize=14)\n",
    "plt.yticks(fontsize=14)\n",
    "# plt.xticks(np.arange(-10, 11, 5))\n",
    "plt.xticks(fontsize=16)\n",
    "plt.yticks(fontsize=16)\n",
    "# plt.title('RIP1ub + A20/CYLD -> RIP1ub:A20/CYLD',fontsize=15)\n",
    "# plt.xlabel(\"Log(10) Value\", fontsize=20)\n",
    "plt.ylabel(\"Probability\", fontsize=20, labelpad=15)\n",
    "custom_lines = [Line2D([0], [0], color='blue', lw=4),\n",
    "                Line2D([0], [0], color='orange', lw=4),\n",
    "               Line2D([0], [0], color='red', lw=4)]\n",
    "# plt.legend(custom_lines, [r'$RIP1trunc$',r'$Necro$', 'c8rip3trunc'], prop={'size': 15}, loc = 'best')\n",
    "plt.subplots_adjust(wspace=0.3)\n",
    "plt.subplots_adjust(hspace=0.6)\n",
    "\n",
    "plt.subplot(142)\n",
    "# sns.distplot(clus3_100[:, 47])\n",
    "sns.distplot(clus0_100[:, 29])\n",
    "# plt.ylim(ymax=0.0005)\n",
    "plt.xlim(xmin = -0.5,xmax=10)\n",
    "plt.xticks(fontsize=14)\n",
    "plt.yticks(fontsize=14)\n",
    "# plt.xticks(np.arange(-10, 11, 5))\n",
    "plt.xticks(fontsize=16)\n",
    "plt.yticks(fontsize=16)\n",
    "# plt.title('RIP1ub:A20 -> RIP1ub + A20/CYLD', fontsize=15)\n",
    "plt.xlabel(\"Log(10) Value\", fontsize=20)\n",
    "# plt.ylabel(\"Probability\", fontsize=20, labelpad=15)\n",
    "custom_lines = [Line2D([0], [0], color='blue', lw=4),\n",
    "                Line2D([0], [0], color='orange', lw=4)]\n",
    "# plt.legend(custom_lines, [r'$c8af$',r'$rip3f$'], prop={'size': 15}, loc = 'best')\n",
    "plt.subplots_adjust(wspace=0.3)\n",
    "plt.subplots_adjust(hspace=0.6)\n",
    "plt.subplot(143)\n",
    "# sns.distplot(clus2_100[:, 41])\n",
    "sns.distplot(clus0_100[:, 30])\n",
    "# sns.distplot(clus2_100[:, 52])\n",
    "# plt.ylim(ymax=2)\n",
    "plt.xlim(xmin = -1,xmax=10)\n",
    "plt.xticks(fontsize=14)\n",
    "plt.yticks(fontsize=14)\n",
    "# plt.xticks(np.arange(-10, 11, 5))\n",
    "plt.xticks(fontsize=16)\n",
    "plt.yticks(fontsize=16)\n",
    "# plt.title('RIP1ub:A20/CYLD -> RIP1deub + A20/CYLD',fontsize=15)\n",
    "# plt.xlabel(\"Log(10) Value\", fontsize=17)\n",
    "# plt.ylabel(\"Probability\", fontsize=20, labelpad=15)\n",
    "custom_lines = [Line2D([0], [0], color='blue', lw=4),\n",
    "                Line2D([0], [0], color='orange', lw=4)]\n",
    "# plt.legend(custom_lines, [r'$c8ar$',r'$rip3r$'], prop={'size': 15}, loc = 'best')\n",
    "plt.subplots_adjust(wspace=0.3)\n",
    "plt.subplots_adjust(hspace=0.6)\n",
    "plt.subplot(144)\n",
    "# sns.distplot(clus2_100[:, 41])\n",
    "sns.distplot(clus0_100[:, 44])\n",
    "# sns.distplot(clus2_100[:, 52])\n",
    "# plt.ylim(ymax=.02)\n",
    "plt.xlim(xmin = -1,xmax=15)\n",
    "plt.xticks(fontsize=14)\n",
    "plt.yticks(fontsize=14)\n",
    "# plt.xticks(np.arange(-10, 11, 5))\n",
    "plt.xticks(fontsize=16)\n",
    "plt.yticks(fontsize=16)\n",
    "# plt.title('RIP1ub:A20/CYLD -> RIP1deub + A20/CYLD',fontsize=15)\n",
    "# plt.xlabel(\"Log(10) Value\", fontsize=17)\n",
    "# plt.ylabel(\"Probability\", fontsize=20, labelpad=15)\n",
    "custom_lines = [Line2D([0], [0], color='blue', lw=4),\n",
    "                Line2D([0], [0], color='orange', lw=4)]\n",
    "# plt.legend(custom_lines, [r'$c8ar$',r'$rip3r$'], prop={'size': 15}, loc = 'best')\n",
    "plt.subplots_adjust(wspace=0.3)\n",
    "plt.subplots_adjust(hspace=0.6)\n",
    "# plt.text(0.5, 0.04, 'common X', ha='center')\n",
    "# plt.text(0.04, 0.5, 'common Y', va='center', rotation='vertical')\n",
    "# plt.xlabel(\"Log(10) Value\", fontsize=14)\n",
    "# plt.ylabel(\"Probability\", fontsize=14, labelpad=15)\n",
    "# plt.savefig('updatedkos/necro_5720_pydream_posta20cyldpardists_allchains5.pdf', format='pdf')\n",
    "# plt.savefig(\"updatedkos/necro_5720_pydream_posta20cyldpardists_allchains5.pdf\")\n",
    "# fig.savefig(\"updatedkos/necro_5720_pydream_posta20cyldpardists_allchains5.pdf\")\n",
    "plt.show()"
   ]
  },
  {
   "cell_type": "code",
   "execution_count": null,
   "metadata": {},
   "outputs": [],
   "source": [
    "clus2_100[:, 53]"
   ]
  },
  {
   "cell_type": "code",
   "execution_count": null,
   "metadata": {},
   "outputs": [],
   "source": [
    "# fig = plt.figure(figsize=(20, 15))\n",
    "# for i in range(1,41):\n",
    "#     ax = fig.add_subplot(8, 5, i)\n",
    "    # plt.plot(samples[:, counter])\n",
    "# fig = plt.figure(figsize=(20, 5))\n",
    "fig, axes = plt.subplots(1, 3, figsize=(20, 5), sharex=True)\n",
    "plt.subplot(131)\n",
    "sns.distplot(clus2_100[:, 28])\n",
    "# sns.distplot(clus2_100[:, 31])\n",
    "# sns.distplot(clus2_100[:, 45])\n",
    "# sns.distplot(clus2_100n[:, 45])\n",
    "# sns.distplot(clus1_100nn[:, 45])\n",
    "plt.ylim(ymax=0.04)\n",
    "plt.xlim(xmin = -10,xmax=10)\n",
    "plt.xticks(fontsize=14)\n",
    "plt.yticks(fontsize=14)\n",
    "# plt.xticks(np.arange(-10, 11, 5))\n",
    "plt.xticks(fontsize=16)\n",
    "plt.yticks(fontsize=16)\n",
    "# plt.title('RIP1ub + A20/CYLD -> RIP1ub:A20/CYLD',fontsize=15)\n",
    "# plt.xlabel(\"Log(10) Value\", fontsize=20)\n",
    "plt.ylabel(\"Probability\", fontsize=20, labelpad=15)\n",
    "custom_lines = [Line2D([0], [0], color='blue', lw=4),\n",
    "                Line2D([0], [0], color='orange', lw=4)]\n",
    "# plt.legend(custom_lines, [r'$RIP1trunc$',r'$Necro$', 'c8rip3trunc'], prop={'size': 15}, loc = 'best')\n",
    "plt.subplots_adjust(wspace=0.3)\n",
    "plt.subplots_adjust(hspace=0.6)\n",
    "# \n",
    "plt.subplot(132)\n",
    "sns.distplot(clus2_100[:, 29])\n",
    "# sns.distplot(clus2_100[:, 32])\n",
    "# plt.ylim(ymax=0.3)\n",
    "plt.xlim(xmin = -10,xmax=10)\n",
    "plt.xticks(fontsize=14)\n",
    "plt.yticks(fontsize=14)\n",
    "plt.xticks(np.arange(-10, 11, 5))\n",
    "plt.xticks(fontsize=16)\n",
    "plt.yticks(fontsize=16)\n",
    "# plt.title('RIP1ub:A20 -> RIP1ub + A20/CYLD', fontsize=15)\n",
    "plt.xlabel(\"Log(10) Value\", fontsize=20)\n",
    "# plt.ylabel(\"Probability\", fontsize=20, labelpad=15)\n",
    "custom_lines = [Line2D([0], [0], color='blue', lw=4),\n",
    "                Line2D([0], [0], color='orange', lw=4)]\n",
    "# plt.legend(custom_lines, [r'$c8af$',r'$rip3f$'], prop={'size': 15}, loc = 'best')\n",
    "plt.subplots_adjust(wspace=0.3)\n",
    "plt.subplots_adjust(hspace=0.6)\n",
    "plt.subplot(133)\n",
    "sns.distplot(clus2_100[:, 30])\n",
    "# sns.distplot(clus2_100[:, 33])\n",
    "# plt.ylim(ymax=0.3)\n",
    "plt.xlim(xmin = -10,xmax=10)\n",
    "plt.xticks(fontsize=14)\n",
    "plt.yticks(fontsize=14)\n",
    "plt.xticks(np.arange(-10, 11, 5))\n",
    "plt.xticks(fontsize=16)\n",
    "plt.yticks(fontsize=16)\n",
    "# plt.title('RIP1ub:A20/CYLD -> RIP1deub + A20/CYLD',fontsize=15)\n",
    "# plt.xlabel(\"Log(10) Value\", fontsize=17)\n",
    "# plt.ylabel(\"Probability\", fontsize=20, labelpad=15)\n",
    "custom_lines = [Line2D([0], [0], color='blue', lw=4),\n",
    "                Line2D([0], [0], color='orange', lw=4)]\n",
    "# plt.legend(custom_lines, [r'$c8ar$',r'$rip3r$'], prop={'size': 15}, loc = 'best')\n",
    "plt.subplots_adjust(wspace=0.3)\n",
    "plt.subplots_adjust(hspace=0.6)\n",
    "# plt.text(0.5, 0.04, 'common X', ha='center')\n",
    "# plt.text(0.04, 0.5, 'common Y', va='center', rotation='vertical')\n",
    "# plt.xlabel(\"Log(10) Value\", fontsize=14)\n",
    "# plt.ylabel(\"Probability\", fontsize=14, labelpad=15)\n",
    "# plt.savefig('updatedkos/necro_5720_pydream_posta20cyldpardists_allchains5.pdf', format='pdf')\n",
    "# plt.savefig(\"updatedkos/necro_5720_pydream_posta20cyldpardists_allchains5.pdf\")\n",
    "# fig.savefig(\"updatedkos/necro_5720_pydream_posta20cyldpardists_allchains5.pdf\")\n",
    "plt.show()"
   ]
  },
  {
   "cell_type": "code",
   "execution_count": null,
   "metadata": {},
   "outputs": [],
   "source": [
    "x1001 = np.array([0, 30, 90, 270])\n",
    "x1002 = np.array([480, 720, 960])\n",
    "y1001 = np.array([0, 0.00885691708746097,0.0161886154261265,0.0373005242261882])\n",
    "y1002 = np.array([0.2798939020159581, .7797294067, .98])"
   ]
  },
  {
   "cell_type": "code",
   "execution_count": 8,
   "metadata": {},
   "outputs": [],
   "source": [
    "m = model100.components"
   ]
  },
  {
   "cell_type": "code",
   "execution_count": 39,
   "metadata": {},
   "outputs": [],
   "source": [
    "k = 0"
   ]
  },
  {
   "cell_type": "code",
   "execution_count": 10,
   "metadata": {},
   "outputs": [
    {
     "name": "stderr",
     "output_type": "stream",
     "text": [
      "2020-11-15 22:56:44.797 - pysb.simulator.scipyode - DEBUG - [necro_uncal_new_updated] Simulator created\n",
      "2020-11-15 22:56:45.598 - pysb.simulator.scipyode - DEBUG - [necro_uncal_new_updated] Equation mode set to \"cython\"\n",
      "2020-11-15 22:56:45.673 - pysb.simulator.scipyode - INFO - [necro_uncal_new_updated] Simulation(s) started\n",
      "2020-11-15 22:56:45.713 - pysb.simulator.scipyode - DEBUG - [necro_uncal_new_updated] Multi-processor (parallel) mode using 10 processes\n",
      "2020-11-15 22:56:46.023 - pysb.simulator.scipyode - INFO - [necro_uncal_new_updated] All simulation(s) complete\n",
      "2020-11-15 22:56:46.025 - pysb.simulator.scipyode - DEBUG - [necro_uncal_new_updated] SimulationResult constructor started\n",
      "2020-11-15 22:56:46.092 - pysb.simulator.scipyode - DEBUG - [necro_uncal_new_updated] SimulationResult constructor finished\n"
     ]
    }
   ],
   "source": [
    "tspan = np.linspace(0, 2880, 500)\n",
    "solver6785nnn = ScipyOdeSimulator(model100, tspan=tspan, verbose = True)\n",
    "result6785nnn = solver6785nnn.run(param_values=clus0_100[k], num_processors = 10)\n",
    "df1 = result6785nnn.dataframe"
   ]
  },
  {
   "cell_type": "code",
   "execution_count": null,
   "metadata": {},
   "outputs": [],
   "source": [
    "# tspan = np.linspace(0, 1800, 500)\n",
    "solver6785nnn = ScipyOdeSimulator(model100, tspan=tspan, verbose = True)\n",
    "result6785nnn = solver6785nnn.run(param_values=clus0_100, num_processors = 10)\n",
    "df11 = result6785nnn.dataframe"
   ]
  },
  {
   "cell_type": "code",
   "execution_count": null,
   "metadata": {},
   "outputs": [],
   "source": []
  },
  {
   "cell_type": "code",
   "execution_count": 11,
   "metadata": {},
   "outputs": [
    {
     "name": "stderr",
     "output_type": "stream",
     "text": [
      "2020-11-15 22:56:46.285 - pysb.simulator.scipyode - DEBUG - [necro_uncal_new_updated] Simulator created\n",
      "2020-11-15 22:56:46.297 - pysb.simulator.scipyode - DEBUG - [necro_uncal_new_updated] Equation mode set to \"cython\"\n",
      "2020-11-15 22:56:46.366 - pysb.simulator.scipyode - INFO - [necro_uncal_new_updated] Simulation(s) started\n",
      "2020-11-15 22:56:46.427 - pysb.simulator.scipyode - DEBUG - [necro_uncal_new_updated] Multi-processor (parallel) mode using 10 processes\n",
      "2020-11-15 22:56:46.613 - pysb.simulator.scipyode - INFO - [necro_uncal_new_updated] All simulation(s) complete\n",
      "2020-11-15 22:56:46.615 - pysb.simulator.scipyode - DEBUG - [necro_uncal_new_updated] SimulationResult constructor started\n",
      "2020-11-15 22:56:46.688 - pysb.simulator.scipyode - DEBUG - [necro_uncal_new_updated] SimulationResult constructor finished\n"
     ]
    }
   ],
   "source": [
    "solver3528 = ScipyOdeSimulator(model100, tspan=tspan, verbose = True)\n",
    "result3528 = solver3528.run(initials = {m.A20(brip = None):0},\n",
    "                            param_values=clus0_100[k], num_processors = 10)\n",
    "df2 = result3528.dataframe"
   ]
  },
  {
   "cell_type": "code",
   "execution_count": null,
   "metadata": {},
   "outputs": [],
   "source": [
    "plt.figure(figsize = (8, 6))\n",
    "plt.plot(tspan/60, df1['MLKLa_obs'].iloc[:]/5544,lw=8, color ='indianred', label = 'WT', zorder = 2, alpha = 5, linestyle = ':')\n",
    "plt.plot(tspan/60, df2['MLKLa_obs'].iloc[:]/5544, lw=7, color ='mediumseagreen', label = 'CYLDKO', zorder = 1, alpha = 5, linestyle = ':')\n",
    "# plt.plot(tspan/60, df33['MLKLa_obs'].iloc[:]/5544, lw=4,  color ='mediumseagreen', label = 'CYLDx10', zorder = 1, alpha =  5,linestyle = '--')\n",
    "# plt.plot(tspan/60, df44['MLKLa_obs'].iloc[:]/5544, lw=4, color ='mediumseagreen',  label = 'CYLDx100',zorder = 1, alpha =  5, linestyle = '--')\n",
    "# plt.plot(tspan/60, df55['MLKLa_obs'].iloc[:]/5544, lw=4, color ='mediumseagreen',  label = 'CYLDx1000',zorder = 1, alpha =  5, linestyle = '--')\n",
    "\n",
    "plt.xlim(xmin = 0, xmax = 30)\n",
    "plt.ylim(ymax = 1.01)\n",
    "plt.legend(['WT', 'CYLDKO'], prop={'size': 14}, loc = 'upper left')\n",
    "plt.xticks(fontsize=14)\n",
    "plt.yticks(fontsize=14)\n",
    "plt.xlabel('Time (hours)', fontsize=18)\n",
    "plt.ylabel('Amount pMLKL Cluster 1', fontsize=17)\n",
    "plt.grid(False)\n",
    "# plt.savefig('figs/Cluster1/pmlkl_100tnf_clus1_5720_CYLDKO_w30upratemodnogrid.pdf')\n",
    "plt.show()   "
   ]
  },
  {
   "cell_type": "code",
   "execution_count": null,
   "metadata": {},
   "outputs": [],
   "source": [
    "solver3528 = ScipyOdeSimulator(model100, tspan=tspan, verbose = True)\n",
    "result3528 = solver3528.run(initials = {m.CYLD(brip=None, btraf = None):0},\n",
    "                            param_values=clus0_100, num_processors = 20)\n",
    "df21 = result3528.dataframe"
   ]
  },
  {
   "cell_type": "code",
   "execution_count": null,
   "metadata": {},
   "outputs": [],
   "source": [
    "plt.figure(figsize = (11,7))\n",
    "for n in range(len(clus1_100)):\n",
    "    plt.plot(tspan/60, df2.loc[n]['MLKLa_obs'].iloc[:]/5544, color = 'steelblue')\n",
    "    plt.plot(tspan/60, df11.loc[n]['MLKLa_obs'].iloc[:]/5544, color = 'indianred')\n",
    "    plt.plot(tspan/60, df21.loc[n]['MLKLa_obs'].iloc[:]/5544, color = 'mediumseagreen')\n",
    "#     plt.plot(tspan/60, dfcyld1.loc[n]['MLKLa_obs'].iloc[:]/5544, color = 'blue')\n",
    "# plt.plot(tspan/60, df1['MLKLa_obs'].iloc[:]/5544, lw=1, color ='red', label = 'WT', zorder = 2, alpha = 0.7,marker = 's')\n",
    "plt.show()    "
   ]
  },
  {
   "cell_type": "code",
   "execution_count": null,
   "metadata": {},
   "outputs": [],
   "source": [
    "df_threshtimesc0100wt = df11.groupby('simulation').apply(lambda x: (x > threshold).idxmax()).apply(lambda x: [y[1] for y in x])\n",
    "df_threshtimesc0100a20   = df2.groupby('simulation').apply(lambda x: (x > threshold).idxmax()).apply(lambda x: [y[1] for y in x])\n",
    "df_threshtimesc0100cyld = df21.groupby('simulation').apply(lambda x: (x > threshold).idxmax()).apply(lambda x: [y[1] for y in x])"
   ]
  },
  {
   "cell_type": "code",
   "execution_count": null,
   "metadata": {},
   "outputs": [],
   "source": [
    "clus0 = pd.DataFrame({'wt0': df_threshtimesc0100wt['MLKLa_obs'], \n",
    "                          'cyld0': df_threshtimesc0100cyld['MLKLa_obs'],\n",
    "                          'a200': df_threshtimesc0100a20['MLKLa_obs']})"
   ]
  },
  {
   "cell_type": "code",
   "execution_count": null,
   "metadata": {},
   "outputs": [],
   "source": [
    "dfclus0 = pd.DataFrame(data = clus0, columns = ['wt0', 'cyld0','a200'])\n",
    "dfclus0 = pd.melt(dfclus0)"
   ]
  },
  {
   "cell_type": "code",
   "execution_count": null,
   "metadata": {},
   "outputs": [],
   "source": [
    "sns.set(style=\"whitegrid\")\n",
    "plt.figure(figsize = (15,10))\n",
    "my_pal = {\"wt0\": \"indianred\", \"cyld0\": \"mediumseagreen\", \"a200\":\"steelblue\"}\n",
    "# b = sns.boxplot(x = \"value\", y =\"variable\", data = dfclus0, notch = True, width = 0.5, palette = my_pal)\n",
    "b = sns.swarmplot(x=\"value\", y=\"variable\", data=dfclus0, zorder=2, palette=my_pal, alpha = 1)\n",
    "b.set_xlabel(\"Time (minutes)\",fontsize=15)\n",
    "b.set_ylabel(\"Cluster 0\",fontsize=15)\n",
    "b.tick_params(labelsize=15)\n",
    "plt.xlim(xmax = 1800, xmin = 0)\n",
    "# plt.savefig('figs/pmlkl_100tnf_clus0box_wswarm_5720_mod.pdf')\n",
    "plt.show()"
   ]
  },
  {
   "cell_type": "code",
   "execution_count": null,
   "metadata": {},
   "outputs": [],
   "source": []
  },
  {
   "cell_type": "code",
   "execution_count": 23,
   "metadata": {},
   "outputs": [
    {
     "name": "stderr",
     "output_type": "stream",
     "text": [
      "2020-11-16 11:30:34.331 - pysb.simulator.scipyode - DEBUG - [necro_uncal_new_updated] Simulator created\n",
      "2020-11-16 11:30:34.341 - pysb.simulator.scipyode - DEBUG - [necro_uncal_new_updated] Equation mode set to \"cython\"\n",
      "2020-11-16 11:30:34.408 - pysb.simulator.scipyode - INFO - [necro_uncal_new_updated] Simulation(s) started\n",
      "2020-11-16 11:30:34.469 - pysb.simulator.scipyode - DEBUG - [necro_uncal_new_updated] Multi-processor (parallel) mode using 10 processes\n",
      "2020-11-16 11:30:34.694 - pysb.simulator.scipyode - INFO - [necro_uncal_new_updated] All simulation(s) complete\n",
      "2020-11-16 11:30:34.696 - pysb.simulator.scipyode - DEBUG - [necro_uncal_new_updated] SimulationResult constructor started\n",
      "2020-11-16 11:30:34.754 - pysb.simulator.scipyode - DEBUG - [necro_uncal_new_updated] SimulationResult constructor finished\n"
     ]
    }
   ],
   "source": [
    "solver3528 = ScipyOdeSimulator(model100, tspan=tspan, verbose = True)\n",
    "result3528 = solver3528.run(initials = {m.A20(brip = None):0}\n",
    "                            , param_values=clus0_100n[k], num_processors = 10)\n",
    "df3 = result3528.dataframe"
   ]
  },
  {
   "cell_type": "code",
   "execution_count": 13,
   "metadata": {},
   "outputs": [
    {
     "name": "stderr",
     "output_type": "stream",
     "text": [
      "2020-11-15 22:56:50.830 - pysb.simulator.scipyode - DEBUG - [necro_uncal_new_updated] Simulator created\n",
      "2020-11-15 22:56:50.838 - pysb.simulator.scipyode - DEBUG - [necro_uncal_new_updated] Equation mode set to \"cython\"\n",
      "2020-11-15 22:56:50.891 - pysb.simulator.scipyode - INFO - [necro_uncal_new_updated] Simulation(s) started\n",
      "2020-11-15 22:56:50.944 - pysb.simulator.scipyode - DEBUG - [necro_uncal_new_updated] Multi-processor (parallel) mode using 10 processes\n",
      "2020-11-15 22:56:51.239 - pysb.simulator.scipyode - INFO - [necro_uncal_new_updated] All simulation(s) complete\n",
      "2020-11-15 22:56:51.243 - pysb.simulator.scipyode - DEBUG - [necro_uncal_new_updated] SimulationResult constructor started\n",
      "2020-11-15 22:56:51.308 - pysb.simulator.scipyode - DEBUG - [necro_uncal_new_updated] SimulationResult constructor finished\n"
     ]
    }
   ],
   "source": [
    "solver6785n = ScipyOdeSimulator(model100, tspan=tspan, verbose = True)\n",
    "result6785n = solver6785n.run(initials = {m.A20(brip = None):0},param_values=clus0_100nn[k], num_processors = 10)\n",
    "df4 = result6785n.dataframe"
   ]
  },
  {
   "cell_type": "code",
   "execution_count": 14,
   "metadata": {},
   "outputs": [
    {
     "name": "stderr",
     "output_type": "stream",
     "text": [
      "2020-11-15 22:56:51.324 - pysb.simulator.scipyode - DEBUG - [necro_uncal_new_updated] Simulator created\n",
      "2020-11-15 22:56:51.332 - pysb.simulator.scipyode - DEBUG - [necro_uncal_new_updated] Equation mode set to \"cython\"\n",
      "2020-11-15 22:56:51.381 - pysb.simulator.scipyode - INFO - [necro_uncal_new_updated] Simulation(s) started\n",
      "2020-11-15 22:56:51.431 - pysb.simulator.scipyode - DEBUG - [necro_uncal_new_updated] Multi-processor (parallel) mode using 10 processes\n",
      "2020-11-15 22:56:51.741 - pysb.simulator.scipyode - INFO - [necro_uncal_new_updated] All simulation(s) complete\n",
      "2020-11-15 22:56:51.743 - pysb.simulator.scipyode - DEBUG - [necro_uncal_new_updated] SimulationResult constructor started\n",
      "2020-11-15 22:56:51.805 - pysb.simulator.scipyode - DEBUG - [necro_uncal_new_updated] SimulationResult constructor finished\n"
     ]
    }
   ],
   "source": [
    "solver6785nn = ScipyOdeSimulator(model100, tspan=tspan, verbose = True)\n",
    "result6785nn = solver6785nn.run(initials = {m.A20(brip = None):0},param_values=clus0_100nnn[k], num_processors = 10)\n",
    "df5 = result6785nn.dataframe"
   ]
  },
  {
   "cell_type": "code",
   "execution_count": 15,
   "metadata": {},
   "outputs": [
    {
     "name": "stderr",
     "output_type": "stream",
     "text": [
      "2020-11-15 22:56:51.819 - pysb.simulator.scipyode - DEBUG - [necro_uncal_new_updated] Simulator created\n",
      "2020-11-15 22:56:51.827 - pysb.simulator.scipyode - DEBUG - [necro_uncal_new_updated] Equation mode set to \"cython\"\n",
      "2020-11-15 22:56:51.875 - pysb.simulator.scipyode - INFO - [necro_uncal_new_updated] Simulation(s) started\n",
      "2020-11-15 22:56:51.924 - pysb.simulator.scipyode - DEBUG - [necro_uncal_new_updated] Multi-processor (parallel) mode using 10 processes\n",
      "2020-11-15 22:56:52.215 - pysb.simulator.scipyode - INFO - [necro_uncal_new_updated] All simulation(s) complete\n",
      "2020-11-15 22:56:52.217 - pysb.simulator.scipyode - DEBUG - [necro_uncal_new_updated] SimulationResult constructor started\n",
      "2020-11-15 22:56:52.265 - pysb.simulator.scipyode - DEBUG - [necro_uncal_new_updated] SimulationResult constructor finished\n"
     ]
    }
   ],
   "source": [
    "solver6785nn = ScipyOdeSimulator(model100, tspan=tspan, verbose = True)\n",
    "result6785nn = solver6785nn.run(initials = {m.A20(brip = None):0},param_values=clus0_100nnnn[k], num_processors = 10)\n",
    "df6 = result6785nn.dataframe"
   ]
  },
  {
   "cell_type": "code",
   "execution_count": 24,
   "metadata": {},
   "outputs": [
    {
     "name": "stderr",
     "output_type": "stream",
     "text": [
      "2020-11-16 11:30:45.371 - pysb.simulator.scipyode - DEBUG - [necro_uncal_new_updated] Simulator created\n",
      "2020-11-16 11:30:45.383 - pysb.simulator.scipyode - DEBUG - [necro_uncal_new_updated] Equation mode set to \"cython\"\n",
      "2020-11-16 11:30:45.448 - pysb.simulator.scipyode - INFO - [necro_uncal_new_updated] Simulation(s) started\n",
      "2020-11-16 11:30:45.509 - pysb.simulator.scipyode - DEBUG - [necro_uncal_new_updated] Multi-processor (parallel) mode using 20 processes\n",
      "2020-11-16 11:30:45.928 - pysb.simulator.scipyode - INFO - [necro_uncal_new_updated] All simulation(s) complete\n",
      "2020-11-16 11:30:45.930 - pysb.simulator.scipyode - DEBUG - [necro_uncal_new_updated] SimulationResult constructor started\n",
      "2020-11-16 11:30:45.977 - pysb.simulator.scipyode - DEBUG - [necro_uncal_new_updated] SimulationResult constructor finished\n"
     ]
    }
   ],
   "source": [
    "solver3528 = ScipyOdeSimulator(model100, tspan=tspan, verbose = True)\n",
    "result3528 = solver3528.run(initials = {m.CYLD(brip=None, btraf = None):0},\n",
    "                            param_values=clus0_100[k], num_processors = 20)\n",
    "df22 = result3528.dataframe"
   ]
  },
  {
   "cell_type": "code",
   "execution_count": null,
   "metadata": {},
   "outputs": [],
   "source": [
    "plt.figure(figsize = (8, 6))\n",
    "plt.plot(tspan/60, df1['MLKLa_obs'].iloc[:]/5544,lw=8, color ='indianred', label = 'WT', zorder = 2, alpha = 5, linestyle = ':')\n",
    "plt.plot(tspan/60, df22['MLKLa_obs'].iloc[:]/5544, lw=7, color ='mediumseagreen', label = 'CYLDKO', zorder = 1, alpha = 5, linestyle = ':')\n",
    "# plt.plot(tspan/60, df33['MLKLa_obs'].iloc[:]/5544, lw=4,  color ='mediumseagreen', label = 'CYLDx10', zorder = 1, alpha =  5,linestyle = '--')\n",
    "# plt.plot(tspan/60, df44['MLKLa_obs'].iloc[:]/5544, lw=4, color ='mediumseagreen',  label = 'CYLDx100',zorder = 1, alpha =  5, linestyle = '--')\n",
    "# plt.plot(tspan/60, df55['MLKLa_obs'].iloc[:]/5544, lw=4, color ='mediumseagreen',  label = 'CYLDx1000',zorder = 1, alpha =  5, linestyle = '--')\n",
    "\n",
    "plt.xlim(xmin = 0, xmax = 30)\n",
    "plt.ylim(ymax = 1.01)\n",
    "plt.legend(['WT', 'CYLDKO'], prop={'size': 14}, loc = 'upper left')\n",
    "plt.xticks(fontsize=14)\n",
    "plt.yticks(fontsize=14)\n",
    "plt.xlabel('Time (hours)', fontsize=18)\n",
    "plt.ylabel('Amount pMLKL Cluster 0', fontsize=17)\n",
    "plt.grid(False)\n",
    "# plt.savefig('figs/Cluster1/pmlkl_100tnf_clus1_5720_CYLDKO_w30upratemodnogrid.pdf')\n",
    "plt.show()   "
   ]
  },
  {
   "cell_type": "code",
   "execution_count": 40,
   "metadata": {},
   "outputs": [
    {
     "name": "stderr",
     "output_type": "stream",
     "text": [
      "2020-11-16 11:32:22.987 - pysb.simulator.scipyode - DEBUG - [necro_uncal_new_updated] Simulator created\n",
      "2020-11-16 11:32:22.999 - pysb.simulator.scipyode - DEBUG - [necro_uncal_new_updated] Equation mode set to \"cython\"\n",
      "2020-11-16 11:32:23.068 - pysb.simulator.scipyode - INFO - [necro_uncal_new_updated] Simulation(s) started\n",
      "2020-11-16 11:32:23.129 - pysb.simulator.scipyode - DEBUG - [necro_uncal_new_updated] Multi-processor (parallel) mode using 20 processes\n",
      "2020-11-16 11:32:23.413 - pysb.simulator.scipyode - INFO - [necro_uncal_new_updated] All simulation(s) complete\n",
      "2020-11-16 11:32:23.415 - pysb.simulator.scipyode - DEBUG - [necro_uncal_new_updated] SimulationResult constructor started\n",
      "2020-11-16 11:32:23.475 - pysb.simulator.scipyode - DEBUG - [necro_uncal_new_updated] SimulationResult constructor finished\n"
     ]
    }
   ],
   "source": [
    "solver3528 = ScipyOdeSimulator(model100, tspan=tspan, verbose = True)\n",
    "result3528 = solver3528.run(initials = {m.CYLD(brip=None, btraf = None):0}\n",
    "                            , param_values=clus0_100n[k], num_processors = 20)\n",
    "df33 = result3528.dataframe"
   ]
  },
  {
   "cell_type": "code",
   "execution_count": 41,
   "metadata": {},
   "outputs": [
    {
     "name": "stderr",
     "output_type": "stream",
     "text": [
      "2020-11-16 11:32:23.489 - pysb.simulator.scipyode - DEBUG - [necro_uncal_new_updated] Simulator created\n",
      "2020-11-16 11:32:23.496 - pysb.simulator.scipyode - DEBUG - [necro_uncal_new_updated] Equation mode set to \"cython\"\n",
      "2020-11-16 11:32:23.542 - pysb.simulator.scipyode - INFO - [necro_uncal_new_updated] Simulation(s) started\n",
      "2020-11-16 11:32:23.593 - pysb.simulator.scipyode - DEBUG - [necro_uncal_new_updated] Multi-processor (parallel) mode using 20 processes\n",
      "2020-11-16 11:32:23.860 - pysb.simulator.scipyode - INFO - [necro_uncal_new_updated] All simulation(s) complete\n",
      "2020-11-16 11:32:23.861 - pysb.simulator.scipyode - DEBUG - [necro_uncal_new_updated] SimulationResult constructor started\n",
      "2020-11-16 11:32:23.918 - pysb.simulator.scipyode - DEBUG - [necro_uncal_new_updated] SimulationResult constructor finished\n"
     ]
    }
   ],
   "source": [
    "solver6785n = ScipyOdeSimulator(model100, tspan=tspan, verbose = True)\n",
    "result6785n = solver6785n.run(initials = {m.CYLD(brip=None, btraf = None):0},\n",
    "                              param_values=clus0_100nn[k], num_processors = 20)\n",
    "df44 = result6785n.dataframe"
   ]
  },
  {
   "cell_type": "code",
   "execution_count": 42,
   "metadata": {},
   "outputs": [
    {
     "name": "stderr",
     "output_type": "stream",
     "text": [
      "2020-11-16 11:32:23.931 - pysb.simulator.scipyode - DEBUG - [necro_uncal_new_updated] Simulator created\n",
      "2020-11-16 11:32:23.937 - pysb.simulator.scipyode - DEBUG - [necro_uncal_new_updated] Equation mode set to \"cython\"\n",
      "2020-11-16 11:32:23.981 - pysb.simulator.scipyode - INFO - [necro_uncal_new_updated] Simulation(s) started\n",
      "2020-11-16 11:32:24.027 - pysb.simulator.scipyode - DEBUG - [necro_uncal_new_updated] Multi-processor (parallel) mode using 20 processes\n",
      "2020-11-16 11:32:24.272 - pysb.simulator.scipyode - INFO - [necro_uncal_new_updated] All simulation(s) complete\n",
      "2020-11-16 11:32:24.274 - pysb.simulator.scipyode - DEBUG - [necro_uncal_new_updated] SimulationResult constructor started\n",
      "2020-11-16 11:32:24.335 - pysb.simulator.scipyode - DEBUG - [necro_uncal_new_updated] SimulationResult constructor finished\n"
     ]
    }
   ],
   "source": [
    "solver6785nn = ScipyOdeSimulator(model100, tspan=tspan, verbose = True)\n",
    "result6785nn = solver6785nn.run(initials = {m.CYLD(brip=None, btraf = None):0},\n",
    "                                param_values=clus0_100nnn[k], num_processors = 20)\n",
    "df55 = result6785nn.dataframe"
   ]
  },
  {
   "cell_type": "code",
   "execution_count": null,
   "metadata": {},
   "outputs": [],
   "source": [
    "solver6785nn = ScipyOdeSimulator(model100, tspan=tspan, verbose = True)\n",
    "result6785nn = solver6785nn.run(initials = {m.CYLD(brip=None, btraf = None):0},\n",
    "                                param_values=clus1_100nnnn[k], num_processors = 20)\n",
    "df665 = result6785nn.dataframe"
   ]
  },
  {
   "cell_type": "code",
   "execution_count": 17,
   "metadata": {},
   "outputs": [
    {
     "data": {
      "image/png": "[encoded data removed]",
      "text/plain": [
       "<Figure size 576x432 with 1 Axes>"
      ]
     },
     "metadata": {
      "needs_background": "light"
     },
     "output_type": "display_data"
    }
   ],
   "source": [
    "plt.figure(figsize = (8, 6))\n",
    "plt.plot(tspan/60, df1['MLKLa_obs'].iloc[:]/5544,lw=8, color ='indianred', label = 'WT', zorder = 2, alpha = 5, linestyle = ':')\n",
    "plt.plot(tspan/60, df2['MLKLa_obs'].iloc[:]/5544, lw=7, color ='steelblue', label = 'A20KO', zorder = 1, alpha = 5, linestyle = '--')\n",
    "plt.plot(tspan/60, df3['MLKLa_obs'].iloc[:]/5544, lw=4, color ='steelblue', zorder = 1, alpha = 5, linestyle = '--')\n",
    "plt.plot(tspan/60, df4['MLKLa_obs'].iloc[:]/5544, lw=4, color ='steelblue', zorder = 1, alpha = 5,linestyle = '--')\n",
    "plt.plot(tspan/60, df5['MLKLa_obs'].iloc[:]/5544, lw=4, color ='steelblue',zorder = 1, alpha = 5, linestyle = '--')\n",
    "# plt.plot(tspan/60, df6['MLKLa_obs'].iloc[:]/5544, lw=4, color ='steelblue',zorder = 1, alpha = 5, linestyle = '--')\n",
    "# plt.errorbar(x1001/60, y1001,\n",
    "#              yerr=[(0, 0.00885691708746097,0.0161886154261265,0.0373005242261882),\n",
    "#              (.07,.07,.07,.07)],\n",
    "#                    fmt='.k', ecolor ='black', alpha = 0.75, zorder = 2)\n",
    "# plt.errorbar(x1002/60, y1002,\n",
    "#              yerr= .07, fmt='.k', ecolor ='black', alpha = 0.75, zorder = 2)\n",
    "plt.xlim(xmin = 0, xmax = 30)\n",
    "plt.ylim(ymax = 1.01)\n",
    "# custom_lines = [Line2D([0], [0], color='blue', lw=4),\n",
    "#                Line2D([0], [0], color='blue', lw=4),\n",
    "#                Line2D([0], [0], color='blue', lw=4),\n",
    "#                Line2D([0], [0], color='purple', lw=4),\n",
    "#                 Line2D([0], [0], color='blue', lw=4)]\n",
    "plt.legend(['WT', 'A20KO'], prop={'size': 14}, loc = 'upper left')\n",
    "plt.xticks(fontsize=14)\n",
    "plt.yticks(fontsize=14)\n",
    "plt.xlabel('Time (hours)', fontsize=18)\n",
    "plt.ylabel('Amount pMLKL Cluster 0', fontsize=17)\n",
    "plt.grid(False)\n",
    "plt.savefig('figs/Cluster0/pmlkl_100tnf_clus0_5720_A20KO_w33upratemodnogrid.pdf')\n",
    "plt.show() "
   ]
  },
  {
   "cell_type": "code",
   "execution_count": null,
   "metadata": {},
   "outputs": [],
   "source": [
    "plt.figure(figsize = (8, 6))\n",
    "plt.plot(tspan/60, df1['MLKLa_obs'].iloc[:]/5544,lw=8, color ='indianred', label = 'WT', zorder = 2, alpha = 5, linestyle = ':')\n",
    "plt.plot(tspan/60, df2['MLKLa_obs'].iloc[:]/5544, lw=7, color ='steelblue', label = 'A20KO', zorder = 1, alpha = 5, linestyle = '--')\n",
    "plt.plot(tspan/60, df3['MLKLa_obs'].iloc[:]/5544, lw=4, color ='steelblue', zorder = 1, alpha = 5, linestyle = '--')\n",
    "plt.plot(tspan/60, df4['MLKLa_obs'].iloc[:]/5544, lw=4, color ='steelblue', zorder = 1, alpha = 5,linestyle = '--')\n",
    "plt.plot(tspan/60, df5['MLKLa_obs'].iloc[:]/5544, lw=4, color ='steelblue',zorder = 1, alpha = 5, linestyle = '--')\n",
    "# plt.plot(tspan/60, df6['MLKLa_obs'].iloc[:]/5544, lw=4, color ='steelblue',zorder = 1, alpha = 5, linestyle = '--')\n",
    "# plt.errorbar(x1001/60, y1001,\n",
    "#              yerr=[(0, 0.00885691708746097,0.0161886154261265,0.0373005242261882),\n",
    "#              (.07,.07,.07,.07)],\n",
    "#                    fmt='.k', ecolor ='black', alpha = 0.75, zorder = 2)\n",
    "# plt.errorbar(x1002/60, y1002,\n",
    "#              yerr= .07, fmt='.k', ecolor ='black', alpha = 0.75, zorder = 2)\n",
    "plt.xlim(xmin = 0, xmax = 30)\n",
    "plt.ylim(ymax = 1.01)\n",
    "# custom_lines = [Line2D([0], [0], color='blue', lw=4),\n",
    "#                Line2D([0], [0], color='blue', lw=4),\n",
    "#                Line2D([0], [0], color='blue', lw=4),\n",
    "#                Line2D([0], [0], color='purple', lw=4),\n",
    "#                 Line2D([0], [0], color='blue', lw=4)]\n",
    "plt.legend(['WT', 'A20KO'], prop={'size': 14}, loc = 'upper left')\n",
    "plt.xticks(fontsize=14)\n",
    "plt.yticks(fontsize=14)\n",
    "plt.xlabel('Time (hours)', fontsize=18)\n",
    "plt.ylabel('Amount pMLKL Cluster 0', fontsize=17)\n",
    "# plt.savefig('figs/Cluster0/pmlkl_100tnf_clus0_5720_A20KO_w33upratemodnogrid.pdf')\n",
    "plt.show() "
   ]
  },
  {
   "cell_type": "code",
   "execution_count": null,
   "metadata": {},
   "outputs": [],
   "source": [
    "plt.figure(figsize = (8, 6))\n",
    "plt.plot(tspan/60, df1['MLKLa_obs'].iloc[:]/5544,lw=8, color ='indianred', label = 'WT', zorder = 2, alpha = 5, linestyle = ':')\n",
    "plt.plot(tspan/60, df2['MLKLa_obs'].iloc[:]/5544, lw=7, color ='steelblue', label = 'A20KO', zorder = 1, alpha = 5, linestyle = '--')\n",
    "plt.plot(tspan/60, df3['MLKLa_obs'].iloc[:]/5544, lw=4, color ='steelblue', zorder = 1, alpha = 5, linestyle = '--')\n",
    "plt.plot(tspan/60, df4['MLKLa_obs'].iloc[:]/5544, lw=4, color ='steelblue', zorder = 1, alpha = 5,linestyle = '--')\n",
    "plt.plot(tspan/60, df5['MLKLa_obs'].iloc[:]/5544, lw=4, color ='steelblue',zorder = 1, alpha = 5, linestyle = '--')\n",
    "# plt.plot(tspan/60, df6['MLKLa_obs'].iloc[:]/5544, lw=4, color ='steelblue',zorder = 1, alpha = 5, linestyle = '--')\n",
    "# plt.errorbar(x1001/60, y1001,\n",
    "#              yerr=[(0, 0.00885691708746097,0.0161886154261265,0.0373005242261882),\n",
    "#              (.07,.07,.07,.07)],\n",
    "#                    fmt='.k', ecolor ='black', alpha = 0.75, zorder = 2)\n",
    "# plt.errorbar(x1002/60, y1002,\n",
    "#              yerr= .07, fmt='.k', ecolor ='black', alpha = 0.75, zorder = 2)\n",
    "plt.xlim(xmin = 0, xmax = 30)\n",
    "plt.ylim(ymax = 1.01)\n",
    "# custom_lines = [Line2D([0], [0], color='blue', lw=4),\n",
    "#                Line2D([0], [0], color='blue', lw=4),\n",
    "#                Line2D([0], [0], color='blue', lw=4),\n",
    "#                Line2D([0], [0], color='purple', lw=4),\n",
    "#                 Line2D([0], [0], color='blue', lw=4)]\n",
    "plt.legend(['WT', 'A20KO'], prop={'size': 14}, loc = 'upper left')\n",
    "plt.xticks(fontsize=14)\n",
    "plt.yticks(fontsize=14)\n",
    "plt.xlabel('Time (hours)', fontsize=18)\n",
    "plt.ylabel('Amount pMLKL Cluster 0', fontsize=17)\n",
    "# plt.savefig('figs/Cluster0/pmlkl_100tnf_clus0_5720_A20KO_w33upratemodnogrid.pdf')\n",
    "plt.show() "
   ]
  },
  {
   "cell_type": "code",
   "execution_count": null,
   "metadata": {},
   "outputs": [],
   "source": [
    "plt.figure(figsize = (8, 6))\n",
    "plt.plot(tspan/60, df1['MLKLa_obs'].iloc[:]/5544,lw=8, color ='indianred', label = 'WT', zorder = 2, alpha = 5, linestyle = ':')\n",
    "plt.plot(tspan/60, df2['MLKLa_obs'].iloc[:]/5544, lw=7, color ='steelblue', label = 'A20KO', zorder = 1, alpha = 5, linestyle = '--')\n",
    "plt.plot(tspan/60, df3['MLKLa_obs'].iloc[:]/5544, lw=4, color ='steelblue', zorder = 1, alpha = 5, linestyle = '--')\n",
    "plt.plot(tspan/60, df4['MLKLa_obs'].iloc[:]/5544, lw=4, color ='steelblue', zorder = 1, alpha = 5,linestyle = '--')\n",
    "plt.plot(tspan/60, df5['MLKLa_obs'].iloc[:]/5544, lw=4, color ='steelblue',zorder = 1, alpha = 5, linestyle = '--')\n",
    "# plt.plot(tspan/60, df6['MLKLa_obs'].iloc[:]/5544, lw=4, color ='steelblue',zorder = 1, alpha = 5, linestyle = '--')\n",
    "# plt.errorbar(x1001/60, y1001,\n",
    "#              yerr=[(0, 0.00885691708746097,0.0161886154261265,0.0373005242261882),\n",
    "#              (.07,.07,.07,.07)],\n",
    "#                    fmt='.k', ecolor ='black', alpha = 0.75, zorder = 2)\n",
    "# plt.errorbar(x1002/60, y1002,\n",
    "#              yerr= .07, fmt='.k', ecolor ='black', alpha = 0.75, zorder = 2)\n",
    "plt.xlim(xmin = 0, xmax = 30)\n",
    "plt.ylim(ymax = 1.01)\n",
    "# custom_lines = [Line2D([0], [0], color='blue', lw=4),\n",
    "#                Line2D([0], [0], color='blue', lw=4),\n",
    "#                Line2D([0], [0], color='blue', lw=4),\n",
    "#                Line2D([0], [0], color='purple', lw=4),\n",
    "#                 Line2D([0], [0], color='blue', lw=4)]\n",
    "plt.legend(['WT', 'A20KO'], prop={'size': 14}, loc = 'upper left')\n",
    "plt.xticks(fontsize=14)\n",
    "plt.yticks(fontsize=14)\n",
    "plt.xlabel('Time (hours)', fontsize=18)\n",
    "plt.ylabel('Amount pMLKL Cluster 0', fontsize=17)\n",
    "# plt.savefig('figs/Cluster0/pmlkl_100tnf_clus0_5720_A20KO_w33upratemodnogrid.pdf')\n",
    "plt.show() "
   ]
  },
  {
   "cell_type": "code",
   "execution_count": null,
   "metadata": {},
   "outputs": [],
   "source": [
    "plt.figure(figsize = (8, 6))\n",
    "plt.plot(tspan/60, df1['MLKLa_obs'].iloc[:]/5544,lw=8, color ='indianred', label = 'WT', zorder = 2, alpha = 5, linestyle = ':')\n",
    "plt.plot(tspan/60, df2['MLKLa_obs'].iloc[:]/5544, lw=7, color ='steelblue', label = 'A20KO', zorder = 1, alpha = 5, linestyle = '--')\n",
    "plt.plot(tspan/60, df3['MLKLa_obs'].iloc[:]/5544, lw=4, color ='steelblue', zorder = 1, alpha = 5, linestyle = '--')\n",
    "plt.plot(tspan/60, df4['MLKLa_obs'].iloc[:]/5544, lw=4, color ='steelblue', zorder = 1, alpha = 5,linestyle = '--')\n",
    "plt.plot(tspan/60, df5['MLKLa_obs'].iloc[:]/5544, lw=4, color ='steelblue',zorder = 1, alpha = 5, linestyle = '--')\n",
    "# plt.plot(tspan/60, df6['MLKLa_obs'].iloc[:]/5544, lw=4, color ='steelblue',zorder = 1, alpha = 5, linestyle = '--')\n",
    "# plt.errorbar(x1001/60, y1001,\n",
    "#              yerr=[(0, 0.00885691708746097,0.0161886154261265,0.0373005242261882),\n",
    "#              (.07,.07,.07,.07)],\n",
    "#                    fmt='.k', ecolor ='black', alpha = 0.75, zorder = 2)\n",
    "# plt.errorbar(x1002/60, y1002,\n",
    "#              yerr= .07, fmt='.k', ecolor ='black', alpha = 0.75, zorder = 2)\n",
    "plt.xlim(xmin = 0, xmax = 30)\n",
    "plt.ylim(ymax = 1.01)\n",
    "# custom_lines = [Line2D([0], [0], color='blue', lw=4),\n",
    "#                Line2D([0], [0], color='blue', lw=4),\n",
    "#                Line2D([0], [0], color='blue', lw=4),\n",
    "#                Line2D([0], [0], color='purple', lw=4),\n",
    "#                 Line2D([0], [0], color='blue', lw=4)]\n",
    "plt.legend(['WT', 'A20KO'], prop={'size': 14}, loc = 'upper left')\n",
    "plt.xticks(fontsize=14)\n",
    "plt.yticks(fontsize=14)\n",
    "plt.xlabel('Time (hours)', fontsize=18)\n",
    "plt.ylabel('Amount pMLKL Cluster 2', fontsize=17)\n",
    "plt.grid(False)\n",
    "plt.savefig('figs/Cluster0/pmlkl_100tnf_clus0_5720_A20KO_w33upratemodnogrid.pdf')\n",
    "plt.show() "
   ]
  },
  {
   "cell_type": "code",
   "execution_count": null,
   "metadata": {},
   "outputs": [],
   "source": [
    "plt.figure(figsize = (8, 6))\n",
    "plt.plot(tspan/60, df1['MLKLa_obs'].iloc[:]/5544,lw=6, color ='black', label = 'WT', zorder = 2, alpha = .8, linestyle = ':')\n",
    "plt.plot(tspan/60, df2['MLKLa_obs'].iloc[:]/5544, lw=6, color ='blue', label = 'A20KO', zorder = 1, alpha = 1, linestyle = '--')\n",
    "plt.plot(tspan/60, df3['MLKLa_obs'].iloc[:]/5544, lw=4, color ='blue', zorder = 1, alpha = 0.7, linestyle = '--')\n",
    "plt.plot(tspan/60, df4['MLKLa_obs'].iloc[:]/5544, lw=4, color ='blue', zorder = 1, alpha = 0.7,linestyle = '--')\n",
    "plt.plot(tspan/60, df5['MLKLa_obs'].iloc[:]/5544, lw=4, color ='blue',zorder = 1, alpha = 0.7, linestyle = '--')\n",
    "plt.plot(tspan/60, df6['MLKLa_obs'].iloc[:]/5544, lw=4, color ='blue',zorder = 1, alpha = 0.7, linestyle = '--')\n",
    "# plt.errorbar(x1001/60, y1001,\n",
    "#              yerr=[(0, 0.00885691708746097,0.0161886154261265,0.0373005242261882),\n",
    "#              (.07,.07,.07,.07)],\n",
    "#                    fmt='.k', ecolor ='black', alpha = 0.75, zorder = 2)\n",
    "# plt.errorbar(x1002/60, y1002,\n",
    "#              yerr= .07, fmt='.k', ecolor ='black', alpha = 0.75, zorder = 2)\n",
    "plt.xlim(xmin = 0, xmax = 30)\n",
    "plt.ylim(ymax = 1.01)\n",
    "# custom_lines = [Line2D([0], [0], color='blue', lw=4),\n",
    "#                Line2D([0], [0], color='blue', lw=4),\n",
    "#                Line2D([0], [0], color='blue', lw=4),\n",
    "#                Line2D([0], [0], color='purple', lw=4),\n",
    "#                 Line2D([0], [0], color='blue', lw=4)]\n",
    "plt.legend(['WT', 'A20KO'], prop={'size': 14}, loc = 'upper left')\n",
    "plt.xticks(fontsize=14)\n",
    "plt.yticks(fontsize=14)\n",
    "plt.xlabel('Time (hours)', fontsize=18)\n",
    "plt.ylabel('Amount pMLKL Cluster 2', fontsize=17)\n",
    "# plt.savefig('figs/pmlkl_100tnf_clus2_5720_CYLDKO_w48ratemod.pdf')\n",
    "plt.show()   "
   ]
  },
  {
   "cell_type": "code",
   "execution_count": 43,
   "metadata": {},
   "outputs": [
    {
     "data": {
      "image/png": "[encoded data removed]",
      "text/plain": [
       "<Figure size 576x432 with 1 Axes>"
      ]
     },
     "metadata": {
      "needs_background": "light"
     },
     "output_type": "display_data"
    }
   ],
   "source": [
    "plt.figure(figsize = (8, 6))\n",
    "plt.plot(tspan/60, df1['MLKLa_obs'].iloc[:]/5544,lw=8, color ='indianred', label = 'WT', zorder = 2, alpha = 5, linestyle = ':')\n",
    "plt.plot(tspan/60, df22['MLKLa_obs'].iloc[:]/5544, lw=7, color ='mediumseagreen', label = 'CYLDKO', zorder = 1, alpha = 5, linestyle = ':')\n",
    "plt.plot(tspan/60, df33['MLKLa_obs'].iloc[:]/5544, lw=4,  color ='mediumseagreen', label = 'CYLDx10', zorder = 1, alpha =  5,linestyle = '--')\n",
    "plt.plot(tspan/60, df44['MLKLa_obs'].iloc[:]/5544, lw=4, color ='mediumseagreen',  label = 'CYLDx100',zorder = 1, alpha =  5, linestyle = '--')\n",
    "plt.plot(tspan/60, df55['MLKLa_obs'].iloc[:]/5544, lw=4, color ='mediumseagreen',  label = 'CYLDx1000',zorder = 1, alpha =  5, linestyle = '--')\n",
    "# plt.plot(tspan/60, df665['MLKLa_obs'].iloc[:]/5544, lw=4, color ='mediumseagreen',  label = 'CYLDx10000',zorder = 1, alpha =  5,linestyle = '--')\n",
    "# plt.errorbar(x1001/60, y1001,\n",
    "#              yerr=[(0, 0.00885691708746097,0.0161886154261265,0.0373005242261882),\n",
    "#              (.07,.07,.07,.07)],\n",
    "#                    fmt='.k', ecolor ='black', alpha = 0.75, zorder = 2)\n",
    "# plt.errorbar(x1002/60, y1002,\n",
    "#              yerr= .07, fmt='.k', ecolor ='black', alpha = 0.75, zorder = 2)\n",
    "plt.xlim(xmin = 0, xmax = 30)\n",
    "plt.ylim(ymax = 1.01)\n",
    "# custom_lines = [Line2D([0], [0], color='blue', lw=4),\n",
    "#                Line2D([0], [0], color='blue', lw=4),\n",
    "#                Line2D([0], [0], color='blue', lw=4),\n",
    "#                Line2D([0], [0], color='purple', lw=4),\n",
    "#                 Line2D([0], [0], color='blue', lw=4)]\n",
    "# plt.legend( prop={'size': 12}, loc = 'best')\n",
    "plt.legend(['WT', 'CYLDKO'], prop={'size': 14}, loc = 'upper left')\n",
    "plt.xticks(fontsize=14)\n",
    "plt.yticks(fontsize=14)\n",
    "plt.xlabel('Time (hours)', fontsize=18)\n",
    "plt.ylabel('Amount pMLKL Cluster 1', fontsize=17)\n",
    "plt.grid(False)\n",
    "# plt.savefig('figs/Cluster1/pmlkl_100tnf_clus1_5720_CYLDKO_w30upratemodnogrid.pdf')\n",
    "plt.show()   "
   ]
  },
  {
   "cell_type": "code",
   "execution_count": null,
   "metadata": {},
   "outputs": [],
   "source": [
    "plt.figure(figsize = (8, 6))\n",
    "plt.plot(tspan/60, df1['MLKLa_obs'].iloc[:]/5544,lw=8, color ='indianred', label = 'WT', zorder = 2, alpha = 5, linestyle = ':')\n",
    "plt.plot(tspan/60, df22['MLKLa_obs'].iloc[:]/5544, lw=7, color ='mediumseagreen', label = 'CYLDKO', zorder = 1, alpha = 5, linestyle = ':')\n",
    "plt.plot(tspan/60, df33['MLKLa_obs'].iloc[:]/5544, lw=4,  color ='mediumseagreen', label = 'CYLDx10', zorder = 1, alpha =  5,linestyle = '--')\n",
    "plt.plot(tspan/60, df44['MLKLa_obs'].iloc[:]/5544, lw=4, color ='mediumseagreen',  label = 'CYLDx100',zorder = 1, alpha =  5, linestyle = '--')\n",
    "plt.plot(tspan/60, df55['MLKLa_obs'].iloc[:]/5544, lw=4, color ='mediumseagreen',  label = 'CYLDx1000',zorder = 1, alpha =  5, linestyle = '--')\n",
    "# plt.plot(tspan/60, df665['MLKLa_obs'].iloc[:]/5544, lw=4, color ='mediumseagreen',  label = 'CYLDx10000',zorder = 1, alpha =  5,linestyle = '--')\n",
    "# plt.errorbar(x1001/60, y1001,\n",
    "#              yerr=[(0, 0.00885691708746097,0.0161886154261265,0.0373005242261882),\n",
    "#              (.07,.07,.07,.07)],\n",
    "#                    fmt='.k', ecolor ='black', alpha = 0.75, zorder = 2)\n",
    "# plt.errorbar(x1002/60, y1002,\n",
    "#              yerr= .07, fmt='.k', ecolor ='black', alpha = 0.75, zorder = 2)\n",
    "plt.xlim(xmin = 0, xmax = 30)\n",
    "plt.ylim(ymax = 1.01)\n",
    "# custom_lines = [Line2D([0], [0], color='blue', lw=4),\n",
    "#                Line2D([0], [0], color='blue', lw=4),\n",
    "#                Line2D([0], [0], color='blue', lw=4),\n",
    "#                Line2D([0], [0], color='purple', lw=4),\n",
    "#                 Line2D([0], [0], color='blue', lw=4)]\n",
    "# plt.legend( prop={'size': 12}, loc = 'best')\n",
    "plt.legend(['WT', 'CYLDKO'], prop={'size': 14}, loc = 'upper left')\n",
    "plt.xticks(fontsize=14)\n",
    "plt.yticks(fontsize=14)\n",
    "plt.xlabel('Time (hours)', fontsize=18)\n",
    "plt.ylabel('Amount pMLKL Cluster 1', fontsize=17)\n",
    "plt.grid(True)\n",
    "plt.savefig('figs/Cluster1/pmlkl_100tnf_clus1_5720_CYLDKO_w30upratemod.pdf')\n",
    "plt.show()   "
   ]
  },
  {
   "cell_type": "code",
   "execution_count": null,
   "metadata": {},
   "outputs": [],
   "source": [
    "plt.figure(figsize = (8, 6))\n",
    "plt.plot(tspan/60, df1['MLKLa_obs'].iloc[:]/5544,lw=8, color ='indianred', label = 'WT', zorder = 2, alpha = 5, linestyle = ':')\n",
    "plt.plot(tspan/60, df22['MLKLa_obs'].iloc[:]/5544, lw=7, color ='mediumseagreen', label = 'CYLDKO', zorder = 1, alpha = 5, linestyle = '--')\n",
    "plt.plot(tspan/60, df33['MLKLa_obs'].iloc[:]/5544, lw=4,  color ='mediumseagreen', label = 'CYLDx10', zorder = 1, alpha =  5,linestyle = '--')\n",
    "plt.plot(tspan/60, df44['MLKLa_obs'].iloc[:]/5544, lw=4, color ='mediumseagreen',  label = 'CYLDx100',zorder = 1, alpha =  5, linestyle = '--')\n",
    "plt.plot(tspan/60, df55['MLKLa_obs'].iloc[:]/5544, lw=4, color ='mediumseagreen',  label = 'CYLDx1000',zorder = 1, alpha =  5, linestyle = '--')\n",
    "plt.plot(tspan/60, df665['MLKLa_obs'].iloc[:]/5544, lw=4, color ='mediumseagreen',  label = 'CYLDx10000',zorder = 1, alpha =  5,linestyle = '--')\n",
    "# plt.errorbar(x1001/60, y1001,\n",
    "#              yerr=[(0, 0.00885691708746097,0.0161886154261265,0.0373005242261882),\n",
    "#              (.07,.07,.07,.07)],\n",
    "#                    fmt='.k', ecolor ='black', alpha = 0.75, zorder = 2)\n",
    "# plt.errorbar(x1002/60, y1002,\n",
    "#              yerr= .07, fmt='.k', ecolor ='black', alpha = 0.75, zorder = 2)\n",
    "plt.xlim(xmin = 0, xmax = 30)\n",
    "plt.ylim(ymax = 1.01)\n",
    "# custom_lines = [Line2D([0], [0], color='blue', lw=4),\n",
    "#                Line2D([0], [0], color='blue', lw=4),\n",
    "#                Line2D([0], [0], color='blue', lw=4),\n",
    "#                Line2D([0], [0], color='purple', lw=4),\n",
    "#                 Line2D([0], [0], color='blue', lw=4)]\n",
    "# plt.legend( prop={'size': 12}, loc = 'best')\n",
    "plt.legend(['WT', 'CYLDKO'], prop={'size': 14}, loc = 'upper left')\n",
    "plt.xticks(fontsize=14)\n",
    "plt.yticks(fontsize=14)\n",
    "plt.xlabel('Time (hours)', fontsize=18)\n",
    "plt.ylabel('Amount pMLKL Cluster 2', fontsize=17)\n",
    "plt.savefig('figs/pmlkl_100tnf_clus2_5720_CYLDKO_w50dwnratemod.pdf')\n",
    "plt.show()   "
   ]
  },
  {
   "cell_type": "code",
   "execution_count": null,
   "metadata": {},
   "outputs": [],
   "source": []
  },
  {
   "cell_type": "code",
   "execution_count": null,
   "metadata": {},
   "outputs": [],
   "source": [
    "plt.figure(figsize = (8, 6))\n",
    "plt.plot(tspan/60, df1['MLKLa_obs'].iloc[:]/5544, lw=6, color ='black', label = 'WT', zorder = 2, alpha = .8, linestyle = ':') #:\n",
    "plt.plot(tspan/60, df22['MLKLa_obs'].iloc[:]/5544, lw=6, color ='green', label = 'CYLDKO', zorder = 1, alpha = 1, linestyle = '--')\n",
    "plt.plot(tspan/60, df33['MLKLa_obs'].iloc[:]/5544, lw=4,  color ='green', label = 'CYLDx10', zorder = 1, alpha = 0.7,linestyle = '--')\n",
    "plt.plot(tspan/60, df44['MLKLa_obs'].iloc[:]/5544, lw=4, color ='green',  label = 'CYLDx100',zorder = 1, alpha = 0.7, linestyle = '--')\n",
    "plt.plot(tspan/60, df55['MLKLa_obs'].iloc[:]/5544, lw=4, color ='green',  label = 'CYLDx1000',zorder = 1, alpha = 0.7, linestyle = '--')\n",
    "plt.plot(tspan/60, df665['MLKLa_obs'].iloc[:]/5544, lw=4, color ='green',  label = 'CYLDx10000',zorder = 1, alpha = 0.7,linestyle = '--')\n",
    "# plt.errorbar(x1001/60, y1001,\n",
    "#              yerr=[(0, 0.00885691708746097,0.0161886154261265,0.0373005242261882),\n",
    "#              (.07,.07,.07,.07)],\n",
    "#                    fmt='.k', ecolor ='black', alpha = 0.75, zorder = 2)\n",
    "# plt.errorbar(x1002/60, y1002,\n",
    "#              yerr= .07, fmt='.k', ecolor ='black', alpha = 0.75, zorder = 2)\n",
    "plt.xlim(xmin = 0, xmax = 30)\n",
    "plt.ylim(ymax = 1.01)\n",
    "# custom_lines = [Line2D([0], [0], color='blue', lw=4),\n",
    "#                Line2D([0], [0], color='blue', lw=4),\n",
    "#                Line2D([0], [0], color='blue', lw=4),\n",
    "#                Line2D([0], [0], color='purple', lw=4),\n",
    "#                 Line2D([0], [0], color='blue', lw=4)]\n",
    "# plt.legend( prop={'size': 12}, loc = 'best')\n",
    "plt.legend(['WT', 'CYLDKO'], prop={'size': 14}, loc = 'upper left')\n",
    "plt.xticks(fontsize=14)\n",
    "plt.yticks(fontsize=14)\n",
    "plt.xlabel('Time (hours)', fontsize=18)\n",
    "plt.ylabel('Amount pMLKL Cluster 2', fontsize=17)\n",
    "plt.savefig('figs/pmlkl_100tnf_clus2_5720_CYLDKO_w50dwnratemod.pdf')\n",
    "plt.show()   "
   ]
  },
  {
   "cell_type": "code",
   "execution_count": null,
   "metadata": {},
   "outputs": [],
   "source": [
    "plt.figure(figsize = (8, 6))\n",
    "plt.plot(tspan/60, df1['MLKLa_obs'].iloc[:]/5544,lw=6, color ='black', label = 'WT', zorder = 2, alpha = .8, linestyle = ':')\n",
    "plt.plot(tspan/60, df2['MLKLa_obs'].iloc[:]/5544, lw=6, color ='blue', label = 'A20KO', zorder = 1, alpha = 1, linestyle = '--')\n",
    "plt.plot(tspan/60, df3['MLKLa_obs'].iloc[:]/5544, lw=4, color ='blue', zorder = 1, alpha = 0.7, linestyle = '--')\n",
    "plt.plot(tspan/60, df4['MLKLa_obs'].iloc[:]/5544, lw=4, color ='blue', zorder = 1, alpha = 0.7,linestyle = '--')\n",
    "plt.plot(tspan/60, df5['MLKLa_obs'].iloc[:]/5544, lw=4, color ='blue',zorder = 1, alpha = 0.7, linestyle = '--')\n",
    "# plt.errorbar(x1001/60, y1001,\n",
    "#              yerr=[(0, 0.00885691708746097,0.0161886154261265,0.0373005242261882),\n",
    "#              (.07,.07,.07,.07)],\n",
    "#                    fmt='.k', ecolor ='black', alpha = 0.75, zorder = 2)\n",
    "# plt.errorbar(x1002/60, y1002,\n",
    "#              yerr= .07, fmt='.k', ecolor ='black', alpha = 0.75, zorder = 2)\n",
    "plt.xlim(xmin = 0, xmax = 30)\n",
    "plt.ylim(ymax = 1.01)\n",
    "# custom_lines = [Line2D([0], [0], color='blue', lw=4),\n",
    "#                Line2D([0], [0], color='blue', lw=4),\n",
    "#                Line2D([0], [0], color='blue', lw=4),\n",
    "#                Line2D([0], [0], color='purple', lw=4),\n",
    "#                 Line2D([0], [0], color='blue', lw=4)]\n",
    "plt.legend(['WT', 'A20KO'], prop={'size': 14}, loc = 'upper left')\n",
    "plt.xticks(fontsize=14)\n",
    "plt.yticks(fontsize=14)\n",
    "plt.xlabel('Time (hours)', fontsize=18)\n",
    "plt.ylabel('Amount pMLKL Cluster 2', fontsize=17)\n",
    "plt.savefig('figs/pmlkl_100tnf_clus2_5720_CYLDKO_w47upratemod.pdf')\n",
    "plt.show()   "
   ]
  },
  {
   "cell_type": "code",
   "execution_count": null,
   "metadata": {},
   "outputs": [],
   "source": [
    "plt.figure(figsize = (8, 6))\n",
    "plt.plot(tspan/60, df1['MLKLa_obs'].iloc[:]/5544, lw=6, color ='black', label = 'WT', zorder = 2, alpha = .8, linestyle = ':') #:\n",
    "plt.plot(tspan/60, df22['MLKLa_obs'].iloc[:]/5544, lw=6, color ='green', label = 'CYLDKO', zorder = 1, alpha = 1, linestyle = '--')\n",
    "plt.plot(tspan/60, df33['MLKLa_obs'].iloc[:]/5544, lw=4, color ='green', label = 'CYLDx10', zorder = 1, alpha = 0.7,linestyle = '--')\n",
    "plt.plot(tspan/60, df44['MLKLa_obs'].iloc[:]/5544, lw=4, color ='green',  label = 'CYLDx100',zorder = 1, alpha = 0.7, linestyle = '--')\n",
    "plt.plot(tspan/60, df55['MLKLa_obs'].iloc[:]/5544, lw=4, color ='green',  label = 'CYLDx1000',zorder = 1, alpha = 0.7, linestyle = '--')\n",
    "# plt.plot(tspan/60, df6['MLKLa_obs'].iloc[:]/5544, lw=1.5, color ='cyan',  label = 'CYLDx10000',zorder = 1, alpha = 0.7, marker = 'x')\n",
    "# plt.errorbar(x1001/60, y1001,\n",
    "#              yerr=[(0, 0.00885691708746097,0.0161886154261265,0.0373005242261882),\n",
    "#              (.07,.07,.07,.07)],\n",
    "#                    fmt='.k', ecolor ='black', alpha = 0.75, zorder = 2)\n",
    "# plt.errorbar(x1002/60, y1002,\n",
    "#              yerr= .07, fmt='.k', ecolor ='black', alpha = 0.75, zorder = 2)\n",
    "plt.xlim(xmin = 0, xmax = 30)\n",
    "plt.ylim(ymax = 1.01)\n",
    "# custom_lines = [Line2D([0], [0], color='blue', lw=4),\n",
    "#                Line2D([0], [0], color='blue', lw=4),\n",
    "#                Line2D([0], [0], color='blue', lw=4),\n",
    "#                Line2D([0], [0], color='purple', lw=4),\n",
    "#                 Line2D([0], [0], color='blue', lw=4)]\n",
    "# plt.legend( prop={'size': 12}, loc = 'best')\n",
    "plt.legend(['WT', 'CYLDKO'], prop={'size': 14}, loc = 'upper left')\n",
    "plt.xticks(fontsize=14)\n",
    "plt.yticks(fontsize=14)\n",
    "plt.xlabel('Time (hours)', fontsize=18)\n",
    "plt.ylabel('Amount pMLKL (normalized) Cluster 2', fontsize=17)\n",
    "plt.savefig('figs/pmlkl_100tnf_clus2_5720_A20KO_w47upratemod.pdf')\n",
    "plt.show()   \n"
   ]
  },
  {
   "cell_type": "code",
   "execution_count": null,
   "metadata": {},
   "outputs": [],
   "source": []
  },
  {
   "cell_type": "code",
   "execution_count": null,
   "metadata": {},
   "outputs": [],
   "source": [
    "solver6785nn = ScipyOdeSimulator(model100, tspan=tspan, verbose = True)\n",
    "result6785nn = solver6785nn.run(initials = {m.A20(brip = None):0},param_values=clus0_100, num_processors = 10)\n",
    "dfa201 = result6785nn.dataframe"
   ]
  },
  {
   "cell_type": "code",
   "execution_count": null,
   "metadata": {},
   "outputs": [],
   "source": [
    "solver6785nn = ScipyOdeSimulator(model100, tspan=tspan, verbose = True)\n",
    "result6785nn = solver6785nn.run(initials = {m.A20(brip = None):0},param_values=clus0_100n, num_processors = 10)\n",
    "df6677 = result6785nn.dataframe"
   ]
  },
  {
   "cell_type": "code",
   "execution_count": null,
   "metadata": {},
   "outputs": [],
   "source": [
    "solver6785nn = ScipyOdeSimulator(model100, tspan=tspan, verbose = True)\n",
    "result6785nn = solver6785nn.run(initials = {m.A20(brip = None):0},param_values=clus0_100nn, num_processors = 10)\n",
    "df7777 = result6785nn.dataframe"
   ]
  },
  {
   "cell_type": "code",
   "execution_count": null,
   "metadata": {},
   "outputs": [],
   "source": [
    "plt.figure(figsize = (11,7))\n",
    "for n in range(len(clus2_100)):\n",
    "    plt.plot(tspan/60, df777.loc[n]['MLKLa_obs'].iloc[:]/5544, color = 'blue')\n",
    "#     plt.plot(tspan/60, dfcyld1.loc[n]['MLKLa_obs'].iloc[:]/5544, color = 'blue')\n",
    "plt.plot(tspan/60, df1['MLKLa_obs'].iloc[:]/5544, lw=1, color ='red', label = 'WT', zorder = 2, alpha = 0.7,marker = 's')\n",
    "plt.show()    "
   ]
  },
  {
   "cell_type": "code",
   "execution_count": null,
   "metadata": {},
   "outputs": [],
   "source": [
    "solver6785nn = ScipyOdeSimulator(model100, tspan=tspan, verbose = True)\n",
    "result6785nn = solver6785nn.run(initials = {m.A20(brip = None):0},param_values=clus0_100nnn, num_processors = 10)\n",
    "df8888 = result6785nn.dataframe"
   ]
  },
  {
   "cell_type": "code",
   "execution_count": null,
   "metadata": {},
   "outputs": [],
   "source": [
    "solver6785nn = ScipyOdeSimulator(model100, tspan=tspan2, verbose = True)\n",
    "result6785nn = solver6785nn.run(initials = {m.A20(brip = None):0},param_values=clus1_100nnnn, num_processors = 10)\n",
    "df9999 = result6785nn.dataframe"
   ]
  },
  {
   "cell_type": "code",
   "execution_count": null,
   "metadata": {},
   "outputs": [],
   "source": [
    "import matplotlib\n",
    "matplotlib.rc('xtick', labelsize=14) \n",
    "matplotlib.rc('ytick', labelsize=14) \n",
    "fig, ((ax1, ax2), (ax3, ax4)) = plt.subplots(2,2, figsize = (15,10))\n",
    "# tspan = np.linspace(0, 1440, 300)\n",
    "for n in range(len(clus2_100)):\n",
    "#     ax1.vlines(x = 600, ymin = 0, ymax = 5544, linestyle = 'dashed', colors= 'r', zorder = 2, label ='50% pMLKL')\n",
    "    ax1.plot(tspan/60, df667.loc[n]['MLKLa_obs'].iloc[:]/5544, lw=1.5, color ='blue', zorder = 1, alpha = 0.3)\n",
    "    plt.legend(['clus2x1'], loc = 'best', fontsize = 14)\n",
    "#     plt.ylim(ymax = 5544, ymin =0)\n",
    "#     plt.xlim(xmax = 1440, xmin = 0)\n",
    "    plt.xticks(fontsize=14)\n",
    "    plt.yticks(fontsize=14)\n",
    "    ax1.set_xlim(xmin = 0, xmax = 30)\n",
    "    ax1.set_ylim(ymin = 0, ymax = 1)\n",
    "    plt.xticks(fontsize=14)\n",
    "    plt.yticks(fontsize=14)\n",
    "    ax1.grid(False)   \n",
    "#     custom_lines = [Line2D([0], [0], color='blue', lw=4),\n",
    "#                    Line2D([0], [0], color='red', lw=4)]\n",
    "#     ax1.legend(custom_lines, ['Clus0', 'pMLKL Data'], prop={'size': 12}, loc = 'best')\n",
    "# ax1.plot(tspan/60, dfa20['MLKLa_obs'].iloc[:]/5544, lw=1, color ='red')\n",
    "    \n",
    "    \n",
    "# tspan2 = np.linspace(0, 2160, 300)    \n",
    "for n in range(len(clus2_100)):\n",
    "    ax2.plot(tspan/60, df777.loc[n]['MLKLa_obs'].iloc[:]/5544, color = 'blue')\n",
    "    plt.xticks(fontsize=14)\n",
    "    plt.yticks(fontsize=14)\n",
    "    ax2.set_xlim(xmin = 0, xmax = 30)\n",
    "    ax2.set_ylim(ymin = 0, ymax = 1)\n",
    "    ax2.grid(False)  \n",
    "#     custom_lines = [Line2D([0], [0], color='blue', lw=4),\n",
    "#                    Line2D([0], [0], color='red', lw=4)]\n",
    "#     ax2.legend(custom_lines, ['Clus2x2x3', 'pMLKL Data'], prop={'size': 12}, loc = 'best')\n",
    "# plt.plot(tspan/60, dfa20['MLKLa_obs'].iloc[:]/5544, lw=1, color ='red')\n",
    "    \n",
    "for n in range(len(clus2_100)):\n",
    "#     ax3.vlines(x = 600, ymin = 0, ymax = 5544, linestyle = 'dashed', colors= 'r', zorder = 2, label ='50% pMLKL')\n",
    "    ax3.plot(tspan/60, df888.loc[n]['MLKLa_obs'].iloc[:]/5544, color = 'blue')  \n",
    "    plt.xticks(fontsize=14)\n",
    "    plt.yticks(fontsize=14)\n",
    "    ax3.set_xlim(xmin = 0, xmax = 30)\n",
    "    ax3.set_ylim(ymin = 0, ymax = 1)\n",
    "    ax3.grid(False)  \n",
    "#     custom_lines = [Line2D([0], [0], color='blue', lw=4),\n",
    "#                    Line2D([0], [0], color='red', lw=4)]\n",
    "#     ax3.legend(custom_lines, ['Clus2', 'pMLKL Data'], prop={'size': 12}, loc = 'best')\n",
    "# plt.plot(tspan/60, dfa20['MLKLa_obs'].iloc[:]/5544, lw=1, color ='red')\n",
    "    \n",
    "for n in range(len(clus2_100)):\n",
    "    ax4.plot(tspan/60, df999.loc[n]['MLKLa_obs'].iloc[:]/5544, lw=1.5, color ='blue', zorder = 1, alpha = 0.3)\n",
    "    plt.xticks(fontsize=14)\n",
    "    plt.yticks(fontsize=14)\n",
    "#     plt.xlabel(\"Time (in hr)\", fontsize=15)\n",
    "#     plt.ylabel(\"Amount (normalized)\", fontsize=15)\n",
    "    ax4.set_xlim(xmin = 0, xmax = 30)\n",
    "    ax4.set_ylim(ymin = 0, ymax = 1)\n",
    "    plt.xticks(fontsize=14)\n",
    "    plt.yticks(fontsize=14)\n",
    "    ax4.grid(False)  \n",
    "#     custom_lines = [Line2D([0], [0], color='blue', lw=4),\n",
    "#                    Line2D([0], [0], color='red', lw=4)]\n",
    "#     ax4.legend(custom_lines, ['Clus2x4', 'pMLKL Data'], prop={'size': 12}, loc = 'best')\n",
    "# plt.plot(tspan/60, dfa20['MLKLa_obs'].iloc[:]/5544, lw=1, color ='red')\n",
    " \n",
    "fig.text(0.5, 0.04, 'Time (Hours)', ha='center', va='center',fontsize = 16)\n",
    "fig.text(0.06, 0.5, 'Amount of A20 pMLKL under 100 ng/ml TNF(Normalized)',\n",
    "         ha='center', va='center', rotation='vertical', fontsize = 16)\n",
    "# plt.savefig('pmlkl_100tnf_4clus_5720_A20KO.pdf')\n",
    "plt.show()"
   ]
  },
  {
   "cell_type": "code",
   "execution_count": null,
   "metadata": {},
   "outputs": [],
   "source": [
    "plt.figure(figsize = (11,7))\n",
    "for n in range(len(clus2_100)):\n",
    "    plt.plot(tspan/60, df777.loc[n]['MLKLa_obs'].iloc[:]/5544, color = 'blue')\n",
    "#     plt.plot(tspan/60, dfcyld1.loc[n]['MLKLa_obs'].iloc[:]/5544, color = 'blue')\n",
    "plt.plot(tspan/60, df1['MLKLa_obs'].iloc[:]/5544, lw=1, color ='red', label = 'WT', zorder = 2, alpha = 0.7,marker = 's')\n",
    "plt.show()    "
   ]
  },
  {
   "cell_type": "code",
   "execution_count": null,
   "metadata": {},
   "outputs": [],
   "source": [
    "plt.figure(figsize = (11,7))\n",
    "for n in range(len(clus2_100)):\n",
    "    plt.plot(tspan/60, df888.loc[n]['MLKLa_obs'].iloc[:]/5544, color = 'blue')\n",
    "#     plt.plot(tspan/60, dfcyld1.loc[n]['MLKLa_obs'].iloc[:]/5544, color = 'blue')\n",
    "plt.plot(tspan/60, df1['MLKLa_obs'].iloc[:]/5544, lw=1, color ='red', label = 'WT', zorder = 2, alpha = 0.7,marker = 's')\n",
    "plt.show()    "
   ]
  },
  {
   "cell_type": "code",
   "execution_count": null,
   "metadata": {},
   "outputs": [],
   "source": []
  },
  {
   "cell_type": "code",
   "execution_count": null,
   "metadata": {},
   "outputs": [],
   "source": [
    "solver6785nn = ScipyOdeSimulator(model100, tspan=tspan, verbose = True)\n",
    "result6785nn = solver6785nn.run(initials = {m.CYLD(brip=None, btraf = None):0},\n",
    "                                param_values=clus0_100, num_processors = 10)\n",
    "dfcyld1 = result6785nn.dataframe"
   ]
  },
  {
   "cell_type": "code",
   "execution_count": null,
   "metadata": {},
   "outputs": [],
   "source": [
    "plt.figure(figsize = (11,7))\n",
    "for n in range(len(clus2_100)):\n",
    "    plt.plot(tspan/60, dfcyld.loc[n]['MLKLa_obs'].iloc[:]/5544, color = 'green')\n",
    "#     plt.plot(tspan/60, dfcyld1.loc[n]['MLKLa_obs'].iloc[:]/5544, color = 'blue')\n",
    "plt.plot(tspan/60, df1['MLKLa_obs'].iloc[:]/5544, lw=1, color ='red', label = 'WT', zorder = 2, alpha = 0.7,marker = 's')\n",
    "plt.show()    "
   ]
  },
  {
   "cell_type": "code",
   "execution_count": null,
   "metadata": {},
   "outputs": [],
   "source": [
    "tspan2 = np.linspace(0, 2880, 500)"
   ]
  },
  {
   "cell_type": "code",
   "execution_count": null,
   "metadata": {},
   "outputs": [],
   "source": [
    "solver6785nn = ScipyOdeSimulator(model100, tspan=tspan, verbose = True)\n",
    "result6785nn = solver6785nn.run(initials = {m.CYLD(brip=None, btraf = None):0},\n",
    "                                param_values=clus0_100n, num_processors = 10)\n",
    "df3333 = result6785nn.dataframe"
   ]
  },
  {
   "cell_type": "code",
   "execution_count": null,
   "metadata": {},
   "outputs": [],
   "source": [
    "plt.figure(figsize = (11,7))\n",
    "for n in range(len(clus0_100)):\n",
    "    plt.plot(tspan, df3333.loc[n]['MLKLa_obs'].iloc[:], zorder = 1, alpha = 1,color = 'mediumseagreen')\n",
    "    plt.plot(tspan, df11.loc[n]['MLKLa_obs'].iloc[:],zorder = 2, alpha = 0.7, color = 'indianred')\n",
    "plt.xlim(xmax = 1800)    \n",
    "plt.show()  "
   ]
  },
  {
   "cell_type": "code",
   "execution_count": null,
   "metadata": {},
   "outputs": [],
   "source": [
    "solver6785nnnn = ScipyOdeSimulator(model100, tspan=tspan, verbose = True)\n",
    "result6785nnnn = solver6785nnnn.run(initials = {m.CYLD(brip=None, btraf = None):0},\n",
    "                                param_values=clus0_100nn, num_processors = 20)\n",
    "df4444nn = result6785nnnn.dataframe"
   ]
  },
  {
   "cell_type": "code",
   "execution_count": null,
   "metadata": {},
   "outputs": [],
   "source": [
    "solver6785nn = ScipyOdeSimulator(model100, tspan=tspan, verbose = True)\n",
    "result6785nn = solver6785nn.run(initials = {m.CYLD(brip=None, btraf = None):0},\n",
    "                                param_values=clus0_100nnn, num_processors = 20)\n",
    "df5555 = result6785nn.dataframe"
   ]
  },
  {
   "cell_type": "code",
   "execution_count": null,
   "metadata": {},
   "outputs": [],
   "source": [
    "plt.figure(figsize = (11,7))\n",
    "for n in range(len(clus2_100)):\n",
    "    plt.plot(tspan, df4444nn.loc[n]['MLKLa_obs'].iloc[:]/5544, color = 'green')\n",
    "#     plt.plot(tspan/60, dfcyld1.loc[n]['MLKLa_obs'].iloc[:]/5544, color = 'blue')\n",
    "# plt.plot(tspan/60, df1['MLKLa_obs'].iloc[:]/5544, lw=1, color ='red', label = 'WT', zorder = 2, alpha = 0.7,marker = 's')\n",
    "plt.show()    "
   ]
  },
  {
   "cell_type": "code",
   "execution_count": null,
   "metadata": {},
   "outputs": [],
   "source": [
    "plt.figure(figsize = (11,7))\n",
    "for n in range(len(clus2_100)):\n",
    "    plt.plot(tspan, df4444n.loc[n]['MLKLa_obs'].iloc[:]/5544, color = 'green')\n",
    "#     plt.plot(tspan/60, dfcyld1.loc[n]['MLKLa_obs'].iloc[:]/5544, color = 'blue')\n",
    "# plt.plot(tspan/60, df1['MLKLa_obs'].iloc[:]/5544, lw=1, color ='red', label = 'WT', zorder = 2, alpha = 0.7,marker = 's')\n",
    "plt.show()    "
   ]
  },
  {
   "cell_type": "code",
   "execution_count": null,
   "metadata": {},
   "outputs": [],
   "source": [
    "solver6785nn = ScipyOdeSimulator(model100, tspan=tspan, verbose = True)\n",
    "result6785nn = solver6785nn.run(initials = {m.CYLD(brip=None, btraf = None):0},\n",
    "                                param_values=clus3_100nnnn, num_processors = 20)\n",
    "df5566 = result6785nn.dataframe"
   ]
  },
  {
   "cell_type": "code",
   "execution_count": null,
   "metadata": {},
   "outputs": [],
   "source": [
    "import matplotlib\n",
    "matplotlib.rc('xtick', labelsize=14) \n",
    "matplotlib.rc('ytick', labelsize=14) \n",
    "fig, ((ax1, ax2), (ax3, ax4)) = plt.subplots(2,2, figsize = (15,10))\n",
    "# tspan = np.linspace(0, 1440, 300)\n",
    "for n in range(len(clus2_100)):\n",
    "#     ax1.vlines(x = 600, ymin = 0, ymax = 5544, linestyle = 'dashed', colors= 'r', zorder = 2, label ='50% pMLKL')\n",
    "    ax1.plot(tspan/60, df333.loc[n]['MLKLa_obs'].iloc[:]/5544, lw=1.5, color ='blue', zorder = 1, alpha = 0.3)\n",
    "    plt.legend(['clus2x1'], loc = 'best', fontsize = 14)\n",
    "#     plt.ylim(ymax = 5544, ymin =0)\n",
    "#     plt.xlim(xmax = 1440, xmin = 0)\n",
    "    plt.xticks(fontsize=14)\n",
    "    plt.yticks(fontsize=14)\n",
    "    ax1.set_xlim(xmin = 0, xmax = 30)\n",
    "    ax1.set_ylim(ymin = 0, ymax = 1)\n",
    "    plt.xticks(fontsize=14)\n",
    "    plt.yticks(fontsize=14)\n",
    "    ax1.grid(False)   \n",
    "#     custom_lines = [Line2D([0], [0], color='blue', lw=4),\n",
    "#                    Line2D([0], [0], color='red', lw=4)]\n",
    "#     ax1.legend(custom_lines, ['Clus0', 'pMLKL Data'], prop={'size': 12}, loc = 'best')\n",
    "# ax1.plot(tspan/60, dfa20['MLKLa_obs'].iloc[:]/5544, lw=1, color ='red')\n",
    "    \n",
    "    \n",
    "# tspan2 = np.linspace(0, 2160, 300)    \n",
    "for n in range(len(clus2_100)):\n",
    "    ax2.plot(tspan/60, df444.loc[n]['MLKLa_obs'].iloc[:]/5544, color = 'blue')\n",
    "    plt.xticks(fontsize=14)\n",
    "    plt.yticks(fontsize=14)\n",
    "    ax2.set_xlim(xmin = 0, xmax = 30)\n",
    "    ax2.set_ylim(ymin = 0, ymax = 1)\n",
    "    ax2.grid(False)  \n",
    "#     custom_lines = [Line2D([0], [0], color='blue', lw=4),\n",
    "#                    Line2D([0], [0], color='red', lw=4)]\n",
    "#     ax2.legend(custom_lines, ['Clus2x2x3', 'pMLKL Data'], prop={'size': 12}, loc = 'best')\n",
    "# plt.plot(tspan/60, dfa20['MLKLa_obs'].iloc[:]/5544, lw=1, color ='red')\n",
    "    \n",
    "for n in range(len(clus2_100)):\n",
    "#     ax3.vlines(x = 600, ymin = 0, ymax = 5544, linestyle = 'dashed', colors= 'r', zorder = 2, label ='50% pMLKL')\n",
    "    ax3.plot(tspan/60, df555.loc[n]['MLKLa_obs'].iloc[:]/5544, color = 'blue')  \n",
    "    plt.xticks(fontsize=14)\n",
    "    plt.yticks(fontsize=14)\n",
    "    ax3.set_xlim(xmin = 0, xmax = 30)\n",
    "    ax3.set_ylim(ymin = 0, ymax = 1)\n",
    "    ax3.grid(False)  \n",
    "#     custom_lines = [Line2D([0], [0], color='blue', lw=4),\n",
    "#                    Line2D([0], [0], color='red', lw=4)]\n",
    "#     ax3.legend(custom_lines, ['Clus2', 'pMLKL Data'], prop={'size': 12}, loc = 'best')\n",
    "# plt.plot(tspan/60, dfa20['MLKLa_obs'].iloc[:]/5544, lw=1, color ='red')\n",
    "    \n",
    "for n in range(len(clus2_100)):\n",
    "    ax4.plot(tspan/60, df5566.loc[n]['MLKLa_obs'].iloc[:]/5544, lw=1.5, color ='blue', zorder = 1, alpha = 0.3)\n",
    "    plt.xticks(fontsize=14)\n",
    "    plt.yticks(fontsize=14)\n",
    "#     plt.xlabel(\"Time (in hr)\", fontsize=15)\n",
    "#     plt.ylabel(\"Amount (normalized)\", fontsize=15)\n",
    "    ax4.set_xlim(xmin = 0, xmax = 30)\n",
    "    ax4.set_ylim(ymin = 0, ymax = 1)\n",
    "    plt.xticks(fontsize=14)\n",
    "    plt.yticks(fontsize=14)\n",
    "    ax4.grid(False)  \n",
    "#     custom_lines = [Line2D([0], [0], color='blue', lw=4),\n",
    "#                    Line2D([0], [0], color='red', lw=4)]\n",
    "#     ax4.legend(custom_lines, ['Clus2x4', 'pMLKL Data'], prop={'size': 12}, loc = 'best')\n",
    "# plt.plot(tspan/60, dfa20['MLKLa_obs'].iloc[:]/5544, lw=1, color ='red')\n",
    " \n",
    "fig.text(0.5, 0.04, 'Time (Hours)', ha='center', va='center',fontsize = 16)\n",
    "fig.text(0.06, 0.5, 'Amount of A20 pMLKL under 100 ng/ml TNF(Normalized)',\n",
    "         ha='center', va='center', rotation='vertical', fontsize = 16)\n",
    "# plt.savefig('pmlkl_100tnf_4clus_5720_A20KO.pdf')\n",
    "plt.show()"
   ]
  },
  {
   "cell_type": "code",
   "execution_count": null,
   "metadata": {},
   "outputs": [],
   "source": [
    "plt.figure(figsize = (11,7))\n",
    "for n in range(len(clus2_100)):\n",
    "    plt.plot(tspan/60, df444.loc[n]['MLKLa_obs'].iloc[:]/5544, color = 'green')\n",
    "#     plt.plot(tspan/60, dfcyld1.loc[n]['MLKLa_obs'].iloc[:]/5544, color = 'blue')\n",
    "plt.plot(tspan/60, df1['MLKLa_obs'].iloc[:]/5544, lw=1, color ='red', label = 'WT', zorder = 2, alpha = 0.7,marker = 's')\n",
    "plt.show()    "
   ]
  },
  {
   "cell_type": "code",
   "execution_count": null,
   "metadata": {},
   "outputs": [],
   "source": [
    "plt.figure(figsize = (11,7))\n",
    "for n in range(len(clus2_100)):\n",
    "    plt.plot(tspan/60, df555.loc[n]['MLKLa_obs'].iloc[:]/5544, color = 'green')\n",
    "#     plt.plot(tspan/60, dfcyld1.loc[n]['MLKLa_obs'].iloc[:]/5544, color = 'blue')\n",
    "plt.plot(tspan/60, df1['MLKLa_obs'].iloc[:]/5544, lw=1, color ='red', label = 'WT', zorder = 2, alpha = 0.7,marker = 's')\n",
    "plt.show()    "
   ]
  },
  {
   "cell_type": "code",
   "execution_count": null,
   "metadata": {},
   "outputs": [],
   "source": [
    "dfa20ko = a20ko.dataframe"
   ]
  },
  {
   "cell_type": "code",
   "execution_count": null,
   "metadata": {},
   "outputs": [],
   "source": [
    "dfcyldko = cyldko.dataframe"
   ]
  },
  {
   "cell_type": "code",
   "execution_count": null,
   "metadata": {},
   "outputs": [],
   "source": []
  },
  {
   "cell_type": "code",
   "execution_count": null,
   "metadata": {},
   "outputs": [],
   "source": [
    "plt.figure(figsize = (8, 6))\n",
    "plt.plot(tspan/60, df1['MLKLa_obs'].iloc[:]/5544, lw=1, color ='red', label = 'WT', zorder = 2, alpha = 0.7,marker = 's')\n",
    "plt.plot(tspan/60, df2['MLKLa_obs'].iloc[:]/5544, lw=1.5, color ='blue', label = 'A20KO', zorder = 1, alpha = 1, marker = 's')\n",
    "plt.plot(tspan/60, df3['MLKLa_obs'].iloc[:]/5544, lw=4, color ='blue', zorder = 1, alpha = 0.7, linestyle = '--')\n",
    "plt.plot(tspan/60, df4['MLKLa_obs'].iloc[:]/5544, lw=4, color ='blue', zorder = 1, alpha = 0.7,linestyle = '--')\n",
    "plt.plot(tspan/60, df5['MLKLa_obs'].iloc[:]/5544, lw=4, color ='blue',zorder = 1, alpha = 0.7, linestyle = '--')\n",
    "# plt.errorbar(x1001/60, y1001,\n",
    "#              yerr=[(0, 0.00885691708746097,0.0161886154261265,0.0373005242261882),\n",
    "#              (.07,.07,.07,.07)],\n",
    "#                    fmt='.k', ecolor ='black', alpha = 0.75, zorder = 2)\n",
    "# plt.errorbar(x1002/60, y1002,\n",
    "#              yerr= .07, fmt='.k', ecolor ='black', alpha = 0.75, zorder = 2)\n",
    "plt.xlim(xmin = 0, xmax = 30)\n",
    "plt.ylim(ymax = 1.01)\n",
    "# custom_lines = [Line2D([0], [0], color='blue', lw=4),\n",
    "#                Line2D([0], [0], color='blue', lw=4),\n",
    "#                Line2D([0], [0], color='blue', lw=4),\n",
    "#                Line2D([0], [0], color='purple', lw=4),\n",
    "#                 Line2D([0], [0], color='blue', lw=4)]\n",
    "plt.legend(['WT', 'A20KO'], prop={'size': 14}, loc = 'upper left')\n",
    "plt.xticks(fontsize=14)\n",
    "plt.yticks(fontsize=14)\n",
    "plt.xlabel('Time (hours)', fontsize=18)\n",
    "plt.ylabel('Amount pMLKL Cluster 0', fontsize=17)\n",
    "# plt.savefig('figs/pmlkl_100tnf_clus0_5720_A20KO_wbindstr.pdf')\n",
    "plt.show()   "
   ]
  },
  {
   "cell_type": "code",
   "execution_count": null,
   "metadata": {},
   "outputs": [],
   "source": []
  },
  {
   "cell_type": "code",
   "execution_count": null,
   "metadata": {},
   "outputs": [],
   "source": [
    "tspan = np.linspace(0, 1800, 500)\n",
    "solver3528 = ScipyOdeSimulator(model100, tspan=tspan, verbose = True)\n",
    "result3528 = solver3528.run(initials = {m.CYLD(brip=None, btraf = None):0}\n",
    "                            ,param_values=clus1_100n[k], num_processors = 10)\n",
    "df7 = result3528.dataframe"
   ]
  },
  {
   "cell_type": "code",
   "execution_count": null,
   "metadata": {},
   "outputs": [],
   "source": [
    "solver6785n = ScipyOdeSimulator(model100, tspan=tspan, verbose = True)\n",
    "result6785n = solver6785n.run(initials = {m.CYLD(brip=None, btraf = None):0},param_values=clus1_100nn[k], num_processors = 10)\n",
    "df8 = result6785n.dataframe"
   ]
  },
  {
   "cell_type": "code",
   "execution_count": null,
   "metadata": {},
   "outputs": [],
   "source": [
    "plt.figure(figsize = (8, 6))\n",
    "plt.plot(tspan/60, df1['MLKLa_obs'].iloc[:]/5544, lw=1, color ='red', label = 'WT', zorder = 1, alpha = 0.7,marker = 's')\n",
    "plt.plot(tspan/60, df2['MLKLa_obs'].iloc[:]/5544, lw=1.5, color ='green', label = 'CYLDKO', zorder = 1, alpha = 1, marker = 's')\n",
    "plt.plot(tspan/60, df7['MLKLa_obs'].iloc[:]/5544, lw=1.5, color ='green', label = 'CYLDx10m', zorder = 1, alpha = 0.7,linestyle = '--')\n",
    "plt.plot(tspan/60, df8['MLKLa_obs'].iloc[:]/5544, lw=1.5, color ='green',  label = 'CYLDx100m',zorder = 1, alpha = 0.7, linestyle = '--')\n",
    "# plt.plot(tspan/60, df5['MLKLa_obs'].iloc[:]/5544, lw=1.5, color ='green',  label = 'CYLDx1000',zorder = 1, alpha = 0.7, linestyle = '--')\n",
    "plt.xlim(xmin = 0, xmax = 30)\n",
    "plt.ylim(ymax = 1.01)\n",
    "\n",
    "plt.legend(['WT', 'CYLDKO'], prop={'size': 14}, loc = 'upper left')\n",
    "plt.xticks(fontsize=14)\n",
    "plt.yticks(fontsize=14)\n",
    "plt.xlabel('Time (hours)', fontsize=18)\n",
    "plt.ylabel('Amount pMLKL (normalized) Cluster 1', fontsize=17)\n",
    "plt.show()   \n"
   ]
  },
  {
   "cell_type": "code",
   "execution_count": null,
   "metadata": {},
   "outputs": [],
   "source": []
  },
  {
   "cell_type": "code",
   "execution_count": null,
   "metadata": {},
   "outputs": [],
   "source": [
    "solvercyld = ScipyOdeSimulator(model100, tspan=tspan, verbose = True)\n",
    "resultcyld = solvercyld.run(initials = {m.CYLD(brip=None, btraf = None):0},param_values=clus1_100nn, num_processors = 10)\n",
    "dfcyld = resultcyld.dataframe"
   ]
  },
  {
   "cell_type": "code",
   "execution_count": null,
   "metadata": {},
   "outputs": [],
   "source": [
    "solvercyld1 = ScipyOdeSimulator(model100, tspan=tspan, verbose = True)\n",
    "resultcyld1 = solvercyld1.run(initials = {m.CYLD(brip=None, btraf = None):0},param_values=clus1_100nnn, num_processors = 10)\n",
    "dfcyld1 = resultcyld1.dataframe"
   ]
  },
  {
   "cell_type": "code",
   "execution_count": null,
   "metadata": {},
   "outputs": [],
   "source": [
    "plt.figure(figsize = (11,7))\n",
    "for n in range(len(clus1_100)):\n",
    "    plt.plot(tspan/60, dfcyld.loc[n]['MLKLa_obs'].iloc[:]/5544, color = 'green')\n",
    "#     plt.plot(tspan/60, dfcyld1.loc[n]['MLKLa_obs'].iloc[:]/5544, color = 'blue')\n",
    "plt.show()    "
   ]
  },
  {
   "cell_type": "code",
   "execution_count": null,
   "metadata": {},
   "outputs": [],
   "source": [
    "plt.figure(figsize = (11,7))\n",
    "for n in range(len(clus1_100)):\n",
    "    plt.plot(tspan/60, dfcyld.loc[n]['MLKLa_obs'].iloc[:]/5544, color = 'green')\n",
    "#     plt.plot(tspan/60, dfcyld1.loc[n]['MLKLa_obs'].iloc[:]/5544, color = 'blue')\n",
    "plt.show()   "
   ]
  },
  {
   "cell_type": "code",
   "execution_count": null,
   "metadata": {},
   "outputs": [],
   "source": [
    "plt.figure(figsize = (11,7))\n",
    "for n in range(len(clus1_100)):\n",
    "#     plt.plot(tspan/60, dfcyld.loc[n]['MLKLa_obs'].iloc[:]/5544, color = 'green')\n",
    "    plt.plot(tspan/60, dfcyld1.loc[n]['MLKLa_obs'].iloc[:]/5544, color = 'blue')\n",
    "plt.show() "
   ]
  },
  {
   "cell_type": "code",
   "execution_count": null,
   "metadata": {},
   "outputs": [],
   "source": [
    "plt.figure(figsize = (11,7))\n",
    "for n in range(len(clus1_100)):\n",
    "#     plt.plot(tspan/60, dfcyld.loc[n]['MLKLa_obs'].iloc[:]/5544, color = 'green')\n",
    "    plt.plot(tspan/60, dfcyld1.loc[n]['MLKLa_obs'].iloc[:]/5544, color = 'blue')\n",
    "plt.show() "
   ]
  },
  {
   "cell_type": "code",
   "execution_count": null,
   "metadata": {},
   "outputs": [],
   "source": [
    "threshold = 4000\n",
    "threshold2 = 2500"
   ]
  },
  {
   "cell_type": "code",
   "execution_count": null,
   "metadata": {},
   "outputs": [],
   "source": [
    "df_threshtimesc2cyld = dfcyld.groupby('simulation').apply(lambda x: (x > threshold).idxmax()).apply(lambda x: [y[1] for y in x])"
   ]
  },
  {
   "cell_type": "code",
   "execution_count": null,
   "metadata": {},
   "outputs": [],
   "source": [
    "cluscyld1 = pd.DataFrame({'cyldko': df_threshtimesc2cylx2['MLKLa_obs']})"
   ]
  },
  {
   "cell_type": "code",
   "execution_count": null,
   "metadata": {},
   "outputs": [],
   "source": [
    "dfclus2c2 = pd.DataFrame(data = cluscyld1, columns = ['cyldko'])\n",
    "dfclus2c2 = pd.melt(dfclus2c2)"
   ]
  },
  {
   "cell_type": "code",
   "execution_count": null,
   "metadata": {},
   "outputs": [],
   "source": [
    "sns.set(style=\"whitegrid\")\n",
    "plt.figure(figsize = (15,10))\n",
    "my_pal = {\"cyldko\": \"green\"}\n",
    "# b = sns.boxplot(x = \"value\", y =\"variable\", data = dfclus0, notch = True, width = 0.5, palette = my_pal)\n",
    "b = sns.swarmplot(x=\"value\", y=\"variable\", data=dfclus2c2, zorder=2, palette=my_pal)\n",
    "b.set_xlabel(\"Time (minutes)\",fontsize=15)\n",
    "b.set_ylabel(\"Cluster 2 CYLD KO\",fontsize=15)\n",
    "b.tick_params(labelsize=15)\n",
    "plt.xlim(xmin = 0)\n",
    "# plt.savefig('figs/pmlkl_100tnf_clus0box_wswarm_5720_mod.pdf')\n",
    "plt.show()"
   ]
  },
  {
   "cell_type": "code",
   "execution_count": null,
   "metadata": {},
   "outputs": [],
   "source": [
    "solvercyld = ScipyOdeSimulator(model100, tspan=tspan, verbose = True)\n",
    "resultcyld = solvercyld.run(param_values=clus0_100n[sim_idx_to_keep], num_processors = 10)\n",
    "dfcyldnn = resultcyld.dataframe"
   ]
  },
  {
   "cell_type": "code",
   "execution_count": null,
   "metadata": {},
   "outputs": [],
   "source": [
    "solvercyld = ScipyOdeSimulator(model100, tspan=tspan, verbose = True)\n",
    "resultcyld = solvercyld.run(initials = {m.CYLD(brip=None, btraf = None):0},\n",
    "                            param_values=clus0_100[sim_idx_to_keep], num_processors = 10)\n",
    "dfcyldn = resultcyld.dataframe"
   ]
  },
  {
   "cell_type": "code",
   "execution_count": null,
   "metadata": {},
   "outputs": [],
   "source": [
    "plt.figure(figsize = (11,7))\n",
    "for n in sim_idx_to_keep:\n",
    "    plt.plot(tspan, dfcyldn.loc[n]['MLKLa_obs'].iloc[:], zorder = 1, alpha = 1,color = 'mediumseagreen')\n",
    "    plt.plot(tspan, dfcyldnn.loc[n]['MLKLa_obs'].iloc[:],zorder = 2, alpha = 0.7, color = 'indianred')\n",
    "plt.xlim(xmax = 1800)    \n",
    "plt.show()  "
   ]
  },
  {
   "cell_type": "code",
   "execution_count": null,
   "metadata": {},
   "outputs": [],
   "source": [
    "idx = list(range(14, 54,1)) #index for parameter values after initial conditions 14-50\n",
    "print(len(idx))\n",
    "counter = 0\n",
    "# samples_nonlog = 10 ** samples\n",
    "ndims = len(idx)\n",
    "plt.figure(figsize=(20, 20))\n",
    "for i in range(1,41):\n",
    "    plt.subplot(8, 5, i)\n",
    "    # plt.plot(samples[:, counter])\n",
    "#     sns.distplot(norm.rvs(size=n, loc=logps_vals[counter], scale=scaling[counter]), color='cyan')\n",
    "#     sns.distplot(clus0mod[sim_idx_to_keep][:][:, counter])\n",
    "    sns.distplot(clus0mod[:][:, counter], color = 'red')\n",
    "    plt.title(model100.parameters[idx[counter]].name, fontdict={'fontsize': 10})\n",
    "    counter += 1\n",
    "    plt.xlabel(\"Log(10) Value\", fontsize=10)\n",
    "    plt.ylabel(\"Probability\", fontsize=9, labelpad=15)\n",
    "    plt.xlim(xmin = -1,xmax=10)\n",
    "plt.subplots_adjust(wspace=0.4)\n",
    "plt.subplots_adjust(hspace=0.6)\n",
    "# plt.savefig('pydream_priorpost_traceplot_earm_gi.pdf', format='pdf', bbox_inches=\"tight\")\n",
    "plt.show()"
   ]
  },
  {
   "cell_type": "code",
   "execution_count": null,
   "metadata": {},
   "outputs": [],
   "source": [
    "threshold = 2772"
   ]
  },
  {
   "cell_type": "code",
   "execution_count": null,
   "metadata": {},
   "outputs": [],
   "source": [
    "df_threshtimesc2cyldx1n = dfcyldn.groupby('simulation').apply(lambda x: (x > threshold).idxmax()).apply(lambda x: [y[1] for y in x])"
   ]
  },
  {
   "cell_type": "code",
   "execution_count": null,
   "metadata": {},
   "outputs": [],
   "source": [
    "df_threshtimesc2cyldx1= df3333.groupby('simulation').apply(lambda x: (x > threshold).idxmax()).apply(lambda x: [y[1] for y in x])"
   ]
  },
  {
   "cell_type": "code",
   "execution_count": null,
   "metadata": {},
   "outputs": [],
   "source": [
    "df_threshtimesc2cylx3 = df5555.groupby('simulation').apply(lambda x: (x > threshold).idxmax()).apply(lambda x: [y[1] for y in x])"
   ]
  },
  {
   "cell_type": "code",
   "execution_count": null,
   "metadata": {},
   "outputs": [],
   "source": [
    "df_threshtimesc2cylx2nn = df4444nn.groupby('simulation').apply(lambda x: (x > threshold).idxmax()).apply(lambda x: [y[1] for y in x])"
   ]
  },
  {
   "cell_type": "code",
   "execution_count": null,
   "metadata": {},
   "outputs": [],
   "source": [
    "df_threshtimesc2a20   = dfa201.groupby('simulation').apply(lambda x: (x > threshold).idxmax()).apply(lambda x: [y[1] for y in x])\n",
    "df_threshtimesc2a20x1 = df6677.groupby('simulation').apply(lambda x: (x > threshold).idxmax()).apply(lambda x: [y[1] for y in x])\n",
    "df_threshtimesc2a20x2 = df7777.groupby('simulation').apply(lambda x: (x > threshold).idxmax()).apply(lambda x: [y[1] for y in x])\n",
    "df_threshtimesc2a20x3 = df8888.groupby('simulation').apply(lambda x: (x > threshold).idxmax()).apply(lambda x: [y[1] for y in x])\n",
    "# df_threshtimesc2a20x4 = df9999.groupby('simulation').apply(lambda x: (x > threshold).idxmax()).apply(lambda x: [y[1] for y in x])"
   ]
  },
  {
   "cell_type": "code",
   "execution_count": null,
   "metadata": {},
   "outputs": [],
   "source": [
    "df_threshtimesc2wtn = df11.groupby('simulation').apply(lambda x: (x > threshold).idxmax()).apply(lambda x: [y[1] for y in x])"
   ]
  },
  {
   "cell_type": "code",
   "execution_count": null,
   "metadata": {},
   "outputs": [],
   "source": [
    "df_threshtimesc2wt = dfcyldnn.groupby('simulation').apply(lambda x: (x > threshold).idxmax()).apply(lambda x: [y[1] for y in x])"
   ]
  },
  {
   "cell_type": "code",
   "execution_count": null,
   "metadata": {},
   "outputs": [],
   "source": [
    "df_threshtimesc2cyld = dfcyld1.groupby('simulation').apply(lambda x: (x > threshold).idxmax()).apply(lambda x: [y[1] for y in x])\n",
    "# df_threshtimesc2cyldx1= df3333.groupby('simulation').apply(lambda x: (x > threshold).idxmax()).apply(lambda x: [y[1] for y in x])\n",
    "# df_threshtimesc2cylx2 = df4444.groupby('simulation').apply(lambda x: (x > threshold).idxmax()).apply(lambda x: [y[1] for y in x])\n",
    "# df_threshtimesc2cylx3 = df5555.groupby('simulation').apply(lambda x: (x > threshold).idxmax()).apply(lambda x: [y[1] for y in x])\n",
    "# df_threshtimesc2cylx4 = df5566.groupby('simulation').apply(lambda x: (x > threshold).idxmax()).apply(lambda x: [y[1] for y in x])"
   ]
  },
  {
   "cell_type": "code",
   "execution_count": null,
   "metadata": {},
   "outputs": [],
   "source": [
    "clus = pd.DataFrame({'wt': df_threshtimesc2wtn['MLKLa_obs'],\n",
    "                            'cyldko': df_threshtimesc2cyld['MLKLa_obs'], \n",
    "                    'wt2':df_threshtimesc2wt['MLKLa_obs']})\n",
    "dfclus = pd.DataFrame(data = clus, columns = ['wt', 'cyldko', 'cyldkox1n', 'wt2'])\n",
    "dfclus = pd.melt(dfclus)"
   ]
  },
  {
   "cell_type": "code",
   "execution_count": null,
   "metadata": {},
   "outputs": [],
   "source": [
    "sns.set(style=\"whitegrid\")\n",
    "plt.figure(figsize = (15,10))\n",
    "my_pal2 = {\"wt\": 'indianred',\"cyldko\": \"mediumseagreen\",\"cyldkox1n\": \"mediumseagreen\", 'wt2': 'indianred'}\n",
    "b2 = sns.swarmplot(x=\"value\", y=\"variable\", data=dfclus, zorder=1, palette=my_pal2, alpha = 1)\n",
    "b.set_xlabel(\"Time (minutes)\",fontsize=15)\n",
    "b.set_ylabel(\"Cluster 0 CYLD KO\",fontsize=15)\n",
    "b.tick_params(labelsize=15)\n",
    "plt.xlim(xmax = 1800, xmin = 0)\n",
    "# plt.savefig('figs/pmlkl_100tnf_clus0box_wswarm_5720_mod.pdf')\n",
    "# plt.savefig('figs/pmlkl_100tnf_clus2_5720_A20KO_w50dwnratemod48hr_swarm.pdf')\n",
    "plt.show()"
   ]
  },
  {
   "cell_type": "code",
   "execution_count": null,
   "metadata": {},
   "outputs": [],
   "source": [
    "for i,l in enumerate(np.linspace(0,2880,500)):\n",
    "    print(i,\":\",l)"
   ]
  },
  {
   "cell_type": "code",
   "execution_count": null,
   "metadata": {},
   "outputs": [],
   "source": [
    "sim_idx_to_keep = [idx for idx in range(len(clus0_100)) if dfcyld1['MLKLa_obs'][idx].iloc[-87] > 5544]\n",
    "print(len(sim_idx_to_keep))"
   ]
  },
  {
   "cell_type": "code",
   "execution_count": null,
   "metadata": {},
   "outputs": [],
   "source": [
    "print(len(clus0_100))"
   ]
  },
  {
   "cell_type": "code",
   "execution_count": null,
   "metadata": {},
   "outputs": [],
   "source": [
    "sim_idx_to_keep = [idx for idx in range(len(all_pars2)) if df10['Flip_obs'][idx].iloc[-1] < 3000]\n",
    "print(len(sim_idx_to_keep))"
   ]
  },
  {
   "cell_type": "code",
   "execution_count": null,
   "metadata": {},
   "outputs": [],
   "source": [
    "clusa20 = pd.DataFrame({'wt': df_threshtimesc2wt['MLKLa_obs'],\n",
    "                            'a20ko': df_threshtimesc2a20['MLKLa_obs'], \n",
    "                          'a20kox1': df_threshtimesc2a20x1['MLKLa_obs'],\n",
    "                       'a20kox2': df_threshtimesc2a20x2['MLKLa_obs'],\n",
    "                       'a20kox3': df_threshtimesc2a20x3['MLKLa_obs']})"
   ]
  },
  {
   "cell_type": "code",
   "execution_count": null,
   "metadata": {},
   "outputs": [],
   "source": [
    "dfclus2a = pd.DataFrame(data = clusa20, columns = ['wt', 'a20ko', 'a20kox1', 'a20kox2','a20kox3'])\n",
    "dfclus2a = pd.melt(dfclus2a)"
   ]
  },
  {
   "cell_type": "code",
   "execution_count": null,
   "metadata": {},
   "outputs": [],
   "source": [
    "sns.set(style=\"whitegrid\")\n",
    "plt.figure(figsize = (15,10))\n",
    "my_pal = {\"wt\": \"indianred\", \"a20ko\": \"steelblue\", \"a20kox1\": \"steelblue\", \n",
    "          \"a20kox2\": \"steelblue\", \"a20kox3\": \"steelblue\"}\n",
    "b = sns.swarmplot(x=\"value\", y=\"variable\", data=dfclus2a, zorder=2, palette=my_pal, alpha = 1)\n",
    "b.set_xlabel(\"Time (minutes)\",fontsize=15)\n",
    "b.set_ylabel(\"Cluster 2 A20KO\",fontsize=15)\n",
    "b.tick_params(labelsize=15)\n",
    "plt.xlim(xmax = 2880, xmin = 0)\n",
    "# plt.savefig('figs/pmlkl_100tnf_clus0box_wswarm_5720_mod.pdf')\n",
    "plt.savefig('figs/Cluster0/pmlkl_100tnf_clus2_5720_A20KO_w33upratemod48hr_swarmhalfmax.pdf')\n",
    "plt.show()"
   ]
  },
  {
   "cell_type": "code",
   "execution_count": null,
   "metadata": {},
   "outputs": [],
   "source": [
    "sns.set(style=\"whitegrid\")\n",
    "plt.figure(figsize = (15,10))\n",
    "my_pal = {\"wt\": \"indianred\", \"a20ko\": \"steelblue\", \"a20kox1\": \"steelblue\", \n",
    "          \"a20kox2\": \"steelblue\", \"a20kox3\": \"steelblue\"}\n",
    "my_pal2 = {\"wt\": 'indianred',\"CYLDko\": \"mediumseagreen\", \"CYLDkox1\":\"mediumseagreen\", \"CYLDkox2nn\":\"mediumseagreen\",\n",
    "          \"CYLDkox3\":\"mediumseagreen\"}\n",
    "b = sns.swarmplot(x=\"value\", y=\"variable\", data=dfclus2a, zorder=2, palette=my_pal, alpha = 0.6)\n",
    "b2 = sns.swarmplot(x=\"value\", y=\"variable\", data=dfclus2c2nn, zorder=1, palette=my_pal2, alpha = 1)\n",
    "b.set_xlabel(\"Time (minutes)\",fontsize=15)\n",
    "b.set_ylabel(\"Cluster 2 A20 & CYLD KO\",fontsize=15)\n",
    "b.tick_params(labelsize=15)\n",
    "plt.xlim(xmax = 2880, xmin = 0)\n",
    "# plt.savefig('figs/pmlkl_100tnf_clus0box_wswarm_5720_mod.pdf')\n",
    "# plt.savefig('figs/pmlkl_100tnf_clus2_5720_A20KO_w50dwnratemod48hr_swarm.pdf')\n",
    "plt.show()"
   ]
  },
  {
   "cell_type": "code",
   "execution_count": null,
   "metadata": {},
   "outputs": [],
   "source": [
    "cluscyld2nn = pd.DataFrame({'wt': df_threshtimesc2wt['MLKLa_obs'],\n",
    "                         'CYLDko': df_threshtimesc2cyld['MLKLa_obs'],\n",
    "                         'CYLDkox1': df_threshtimesc2cyldx1['MLKLa_obs'], \n",
    "                          'CYLDkox2nn': df_threshtimesc2cylx2nn['MLKLa_obs'],\n",
    "                        'CYLDkox3': df_threshtimesc2cylx3['MLKLa_obs']})"
   ]
  },
  {
   "cell_type": "code",
   "execution_count": null,
   "metadata": {},
   "outputs": [],
   "source": [
    "dfclus2c2nn = pd.DataFrame(data = cluscyld2nn, columns = ['wt', 'CYLDko','CYLDkox1', 'CYLDkox2nn','CYLDkox3'])\n",
    "dfclus2c2nn = pd.melt(dfclus2c2nn)"
   ]
  },
  {
   "cell_type": "code",
   "execution_count": null,
   "metadata": {},
   "outputs": [],
   "source": [
    "sns.set(style=\"whitegrid\")\n",
    "plt.figure(figsize = (15,10))\n",
    "my_pal = {\"wt\": 'indianred',\"CYLDko\": \"mediumseagreen\", \"CYLDkox1\":\"mediumseagreen\", \"CYLDkox2nn\":\"mediumseagreen\",\n",
    "          \"CYLDkox3\":\"mediumseagreen\"}\n",
    "# b = sns.boxplot(x = \"value\", y =\"variable\", data = dfclus0, notch = True, width = 0.5, palette = my_pal)\n",
    "b = sns.swarmplot(x=\"value\", y=\"variable\", data=dfclus2c2nn, zorder=2, palette=my_pal, alpha = 1)\n",
    "b.set_xlabel(\"Time (minutes)\",fontsize=15)\n",
    "b.set_ylabel(\"Cluster 1 CYLD KO\",fontsize=15)\n",
    "b.tick_params(labelsize=15)\n",
    "plt.xlim(xmax = 1880, xmin = 0)\n",
    "# plt.savefig('figs/pmlkl_100tnf_clus0box_wswarm_5720_mod.pdf')\n",
    "# plt.savefig('figs/Cluster1/pmlkl_100tnf_clus1_5720_CYLDKO_w48upratemod48hr_swarm.pdf')\n",
    "plt.show()"
   ]
  },
  {
   "cell_type": "code",
   "execution_count": null,
   "metadata": {},
   "outputs": [],
   "source": [
    "sns.set(style=\"whitegrid\")\n",
    "plt.figure(figsize = (15,10))\n",
    "my_pal = {\"wt\": 'indianred',\"CYLDko\": \"mediumseagreen\", \"CYLDkox1\":\"mediumseagreen\", \"CYLDkox2nn\":\"mediumseagreen\",\n",
    "          \"CYLDkox3\":\"mediumseagreen\"}\n",
    "# b = sns.boxplot(x = \"value\", y =\"variable\", data = dfclus0, notch = True, width = 0.5, palette = my_pal)\n",
    "b = sns.swarmplot(x=\"value\", y=\"variable\", data=dfclus2c2nn, zorder=2, palette=my_pal, alpha = 1)\n",
    "b.set_xlabel(\"Time (minutes)\",fontsize=15)\n",
    "b.set_ylabel(\"Cluster 1 CYLD KO\",fontsize=15)\n",
    "b.tick_params(labelsize=15)\n",
    "plt.xlim(xmax = 1880, xmin = 0)\n",
    "# plt.savefig('figs/pmlkl_100tnf_clus0box_wswarm_5720_mod.pdf')\n",
    "plt.savefig('figs/Cluster1/pmlkl_100tnf_clus1_5720_CYLDKO_w48upratemod48hr_swarm.pdf')\n",
    "plt.show()"
   ]
  },
  {
   "cell_type": "code",
   "execution_count": null,
   "metadata": {},
   "outputs": [],
   "source": [
    "sns.set(style=\"whitegrid\")\n",
    "plt.figure(figsize = (15,10))\n",
    "my_pal = {\"wt\": 'indianred',\"CYLDko\": \"mediumseagreen\", \"CYLDkox1\":\"mediumseagreen\", \"CYLDkox2nn\":\"mediumseagreen\",\n",
    "          \"CYLDkox3\":\"mediumseagreen\"}\n",
    "# b = sns.boxplot(x = \"value\", y =\"variable\", data = dfclus0, notch = True, width = 0.5, palette = my_pal)\n",
    "b = sns.swarmplot(x=\"value\", y=\"variable\", data=dfclus2c2nn, zorder=2, palette=my_pal, alpha = 1)\n",
    "b.set_xlabel(\"Time (minutes)\",fontsize=15)\n",
    "b.set_ylabel(\"Cluster 1 CYLD KO\",fontsize=15)\n",
    "b.tick_params(labelsize=15)\n",
    "plt.xlim(xmax = 1880, xmin = 0)\n",
    "# plt.savefig('figs/pmlkl_100tnf_clus0box_wswarm_5720_mod.pdf')\n",
    "# plt.savefig('figs/Cluster1/pmlkl_100tnf_clus1_5720_CYLDKO_w48upratemod48hr_swarm.pdf')\n",
    "plt.show()"
   ]
  },
  {
   "cell_type": "code",
   "execution_count": null,
   "metadata": {},
   "outputs": [],
   "source": [
    "sns.set(style=\"whitegrid\")\n",
    "plt.figure(figsize = (15,10))\n",
    "my_pal = {\"wt\": 'indianred',\"CYLDko\": \"mediumseagreen\", \"CYLDkox1\":\"mediumseagreen\", \"CYLDkox2nn\":\"mediumseagreen\",\n",
    "          \"CYLDkox3\":\"darkgrey\"}\n",
    "# b = sns.boxplot(x = \"value\", y =\"variable\", data = dfclus0, notch = True, width = 0.5, palette = my_pal)\n",
    "b = sns.swarmplot(x=\"value\", y=\"variable\", data=dfclus2c2nn, zorder=2, palette=my_pal, alpha = 1)\n",
    "b.set_xlabel(\"Time (minutes)\",fontsize=15)\n",
    "b.set_ylabel(\"Cluster 3 CYLD KO\",fontsize=15)\n",
    "b.tick_params(labelsize=15)\n",
    "plt.xlim(xmax = 1880, xmin = 0)\n",
    "# plt.savefig('figs/pmlkl_100tnf_clus0box_wswarm_5720_mod.pdf')\n",
    "plt.savefig('figs/pmlkl_100tnf_clus3_5720_CYLDKO_w30upratemod30hrgrey_swarm.pdf')\n",
    "plt.show()"
   ]
  },
  {
   "cell_type": "code",
   "execution_count": null,
   "metadata": {},
   "outputs": [],
   "source": [
    "sns.set(style=\"whitegrid\")\n",
    "plt.figure(figsize = (15,10))\n",
    "my_pal = {\"wt\": 'indianred',\"CYLDko\": \"mediumseagreen\", \"CYLDkox1\":\"mediumseagreen\", \"CYLDkox2\":\"mediumseagreen\",\n",
    "          \"CYLDkox3\":\"mediumseagreen\"}\n",
    "# b = sns.boxplot(x = \"value\", y =\"variable\", data = dfclus0, notch = True, width = 0.5, palette = my_pal)\n",
    "b = sns.swarmplot(x=\"value\", y=\"variable\", data=dfclus2c2, zorder=2, palette=my_pal, alpha = 1)\n",
    "b.set_xlabel(\"Time (minutes)\",fontsize=15)\n",
    "b.set_ylabel(\"Cluster 2 CYLD KO\",fontsize=15)\n",
    "b.tick_params(labelsize=15)\n",
    "plt.xlim(xmax = 2880, xmin = 0)\n",
    "# plt.savefig('figs/pmlkl_100tnf_clus0box_wswarm_5720_mod.pdf')\n",
    "# plt.savefig('figs/pmlkl_100tnf_clus2_5720_CYLDKO_wrip3ratemod_swarm.pdf')\n",
    "plt.show()"
   ]
  },
  {
   "cell_type": "code",
   "execution_count": null,
   "metadata": {},
   "outputs": [],
   "source": [
    "sns.set(style=\"whitegrid\")\n",
    "plt.figure(figsize = (15,10))\n",
    "my_pal = {\"wt\": 'indianred',\"CYLDko\": \"mediumseagreen\", \"CYLDkox1\":\"mediumseagreen\", \"CYLDkox2\":\"mediumseagreen\",\n",
    "          \"CYLDkox3\":\"mediumseagreen\", \"CYLDkox4\":\"mediumseagreen\"}\n",
    "# b = sns.boxplot(x = \"value\", y =\"variable\", data = dfclus0, notch = True, width = 0.5, palette = my_pal)\n",
    "b = sns.swarmplot(x=\"value\", y=\"variable\", data=dfclus2c, zorder=2, palette=my_pal, alpha = 1)\n",
    "b.set_xlabel(\"Time (minutes)\",fontsize=15)\n",
    "b.set_ylabel(\"Cluster 2 CYLD KO\",fontsize=15)\n",
    "b.tick_params(labelsize=15)\n",
    "plt.xlim(xmax = 2800, xmin = 0)\n",
    "# plt.savefig('figs/pmlkl_100tnf_clus0box_wswarm_5720_mod.pdf')\n",
    "# plt.savefig('figs/pmlkl_100tnf_clus2_5720_CYLDKO_wrip3ratemod_swarm.pdf')\n",
    "plt.show()"
   ]
  },
  {
   "cell_type": "code",
   "execution_count": null,
   "metadata": {},
   "outputs": [],
   "source": []
  },
  {
   "cell_type": "code",
   "execution_count": null,
   "metadata": {},
   "outputs": [],
   "source": [
    "plt.figure(figsize = (8, 6))\n",
    "plt.plot(tspan/60, df4['MLKLa_obs'].iloc[:]/5544, lw=1, color ='red', label = 'WT', zorder = 1, alpha = 0.7,marker = 's')\n",
    "# plt.plot(tspan/60, df5['MLKLa_obs'].iloc[:]/5544, lw=1.5, color ='blue', label = 'A20KO', zorder = 1, alpha = 1, marker = 'x')\n",
    "# plt.plot(tspan/60, df6['MLKLa_obs'].iloc[:]/5544, lw=1.5, color ='blue', label = 'A20KOx10', zorder = 1, alpha = 1, marker = 'x')\n",
    "# plt.plot(tspan/60, df7['MLKLa_obs'].iloc[:]/5544, lw=1.5, color ='blue',  label = 'A20KOx100',zorder = 1, alpha = 1, marker = 'x')\n",
    "plt.plot(tspan/60, df8['MLKLa_obs'].iloc[:]/5544, lw=1.5, color ='green',  label = 'A20KOx1000',zorder = 1, alpha = 0.7, marker = 'x')\n",
    "# plt.errorbar(x1001/60, y1001,\n",
    "#              yerr=[(0, 0.00885691708746097,0.0161886154261265,0.0373005242261882),\n",
    "#              (.07,.07,.07,.07)],\n",
    "#                    fmt='.k', ecolor ='black', alpha = 0.75, zorder = 2)\n",
    "# plt.errorbar(x1002/60, y1002,\n",
    "#              yerr= .07, fmt='.k', ecolor ='black', alpha = 0.75, zorder = 2)\n",
    "plt.xlim(xmin = 0, xmax = 30)\n",
    "plt.ylim(ymax = 1.01)\n",
    "# custom_lines = [Line2D([0], [0], color='blue', lw=4),\n",
    "#                Line2D([0], [0], color='blue', lw=4),\n",
    "#                Line2D([0], [0], color='blue', lw=4),\n",
    "#                Line2D([0], [0], color='purple', lw=4),\n",
    "#                 Line2D([0], [0], color='blue', lw=4)]\n",
    "# plt.legend( prop={'size': 12}, loc = 'best')\n",
    "plt.xticks(fontsize=14)\n",
    "plt.yticks(fontsize=14)\n",
    "plt.xlabel('Time (hours)', fontsize=18)\n",
    "plt.ylabel('Amount pMLKL (normalized) Cluster 0', fontsize=17)\n",
    "plt.show()   "
   ]
  },
  {
   "cell_type": "code",
   "execution_count": null,
   "metadata": {},
   "outputs": [],
   "source": []
  },
  {
   "cell_type": "code",
   "execution_count": null,
   "metadata": {},
   "outputs": [],
   "source": [
    "solver6785n = ScipyOdeSimulator(model100, tspan=tspan, verbose = True)\n",
    "result6785n = solver6785n.run(initials = {m.A20(brip = None):0},param_values=clus0_100[21], num_processors = 10)\n",
    "df2n = result6785n.dataframe"
   ]
  },
  {
   "cell_type": "code",
   "execution_count": null,
   "metadata": {},
   "outputs": [],
   "source": [
    "plt.figure()\n",
    "plt.plot(tspan/60, df2n['MLKLa_obs'].iloc[:], lw=1.5, color ='blue', zorder = 1, alpha = 0.5)\n",
    "plt.show()   "
   ]
  },
  {
   "cell_type": "code",
   "execution_count": null,
   "metadata": {},
   "outputs": [],
   "source": []
  },
  {
   "cell_type": "code",
   "execution_count": null,
   "metadata": {},
   "outputs": [],
   "source": [
    "solvercyld2 = ScipyOdeSimulator(model100, tspan=tspan, verbose = True)\n",
    "cyldclus2 = solvercyld2.run(initials = { m.CYLD(brip=None, btraf = None):0},\n",
    "                         param_values=clus2_100, num_processors = 20)"
   ]
  },
  {
   "cell_type": "code",
   "execution_count": null,
   "metadata": {},
   "outputs": [],
   "source": [
    "import matplotlib\n",
    "matplotlib.rc('xtick', labelsize=14) \n",
    "matplotlib.rc('ytick', labelsize=14) \n",
    "fig, (ax1, ax2, ax3) = plt.subplots(1,3, figsize = (20,5))\n",
    "# tspan = np.linspace(0, 1440, 300)\n",
    "ax1.plot(tspan/60, df1['MLKLa_obs'].iloc[:]/5544, lw=1.5, color ='blue', zorder = 1, alpha = 0.3)\n",
    "ax1.errorbar(x1001/60, y1001,\n",
    "             yerr=[(0, 0.00885691708746097,0.0161886154261265,0.0373005242261882),\n",
    "             (.07,.07,.07,.07)],\n",
    "                   fmt='.k', ecolor ='red', alpha = 0.75, zorder = 2)\n",
    "ax1.errorbar(x1002/60, y1002,\n",
    "             yerr= .07, fmt='.k', ecolor ='red', alpha = 0.75, zorder = 2)\n",
    "plt.legend(['clus0'], loc = 'best', fontsize = 14)\n",
    "#     plt.ylim(ymax = 5544, ymin =0)\n",
    "#     plt.xlim(xmax = 1440, xmin = 0)\n",
    "plt.xticks(fontsize=14)\n",
    "plt.yticks(fontsize=14)\n",
    "ax1.set_xlim(xmin = 0, xmax = 24)\n",
    "ax1.set_ylim(ymin = 0)\n",
    "plt.xticks(fontsize=14)\n",
    "plt.yticks(fontsize=14)\n",
    "ax1.grid(False)   \n",
    "custom_lines = [Line2D([0], [0], color='blue', lw=4),\n",
    "               Line2D([0], [0], color='red', lw=4)]\n",
    "ax1.legend(custom_lines, ['Clus0', 'pMLKL Data'], prop={'size': 12}, loc = 'best')\n",
    "    \n",
    "\n",
    "ax2.plot(tspan/60,df1n['MLKLa_obs'].iloc[:]/5544,lw=1.5, color ='blue', zorder = 1, alpha = 0.3)\n",
    "ax2.errorbar(x1001/60, y1001,\n",
    "             yerr=[(0, 0.00885691708746097,0.0161886154261265,0.0373005242261882),\n",
    "             (.07,.07,.07,.07)],\n",
    "                   fmt='.k', ecolor ='red', alpha = 0.75, zorder = 2)\n",
    "ax2.errorbar(x1002/60, y1002,\n",
    "             yerr= .07, fmt='.k', ecolor ='red', alpha = 0.75, zorder = 2)\n",
    "plt.xticks(fontsize=14)\n",
    "plt.yticks(fontsize=14)\n",
    "ax2.set_xlim(xmin = 0, xmax = 24)\n",
    "ax2.set_ylim(ymin = 0)\n",
    "ax2.grid(False)  \n",
    "custom_lines = [Line2D([0], [0], color='blue', lw=4),\n",
    "               Line2D([0], [0], color='red', lw=4)]\n",
    "ax2.legend(custom_lines, ['Clus1', 'pMLKL Data'], prop={'size': 12}, loc = 'best')\n",
    "    \n",
    "\n",
    "ax3.plot(tspan/60, df1nn['MLKLa_obs'].iloc[:]/5544,lw=1.5, color ='blue', zorder = 1, alpha = 0.3)  \n",
    "ax3.errorbar(x1001/60, y1001,\n",
    "             yerr=[(0, 0.00885691708746097,0.0161886154261265,0.0373005242261882),\n",
    "             (.07,.07,.07,.07)],\n",
    "                   fmt='.k', ecolor ='red', alpha = 0.75, zorder = 2)\n",
    "ax3.errorbar(x1002/60, y1002,\n",
    "             yerr= .07, fmt='.k', ecolor ='red', alpha = 0.75, zorder = 2)\n",
    "plt.xticks(fontsize=14)\n",
    "plt.yticks(fontsize=14)\n",
    "ax3.set_xlim(xmin = 0, xmax = 24)\n",
    "ax3.set_ylim(ymin = 0)\n",
    "ax3.grid(False)  \n",
    "custom_lines = [Line2D([0], [0], color='blue', lw=4),\n",
    "               Line2D([0], [0], color='red', lw=4)]\n",
    "ax3.legend(custom_lines, ['Clus2', 'pMLKL Data'], prop={'size': 12}, loc = 'best')\n",
    "\n",
    " \n",
    "fig.text(0.5, 0.04, 'Time (Hours)', ha='center', va='center',fontsize = 16)\n",
    "fig.text(0.06, 0.5, 'Amount of Flip pMLKL under 100 ng/ml TNF(Normalized)',\n",
    "         ha='center', va='center', rotation='vertical', fontsize = 13)\n",
    "# plt.savefig('pmlkl_100tnf_4clus_5720_A20KO.pdf')\n",
    "plt.show()"
   ]
  },
  {
   "cell_type": "code",
   "execution_count": null,
   "metadata": {},
   "outputs": [],
   "source": [
    "k = 2211"
   ]
  },
  {
   "cell_type": "code",
   "execution_count": null,
   "metadata": {},
   "outputs": [],
   "source": [
    "tspan = np.linspace(0, 1800, 500)\n",
    "solver3528 = ScipyOdeSimulator(model100, tspan=tspan, verbose = True)\n",
    "result3528 = solver3528.run(param_values=clus0_100[k], num_processors = 10)\n",
    "df11 = result3528.dataframe"
   ]
  },
  {
   "cell_type": "code",
   "execution_count": null,
   "metadata": {},
   "outputs": [],
   "source": [
    "print('running simulations 10')\n",
    "tspan = np.linspace(0, 1800, 500)\n",
    "solver3528n = ScipyOdeSimulator(model100, tspan=tspan, verbose = True)\n",
    "result3528n = solver3528n.run(initials = {m.A20(brip = None):0},param_values=clus0_100[k], num_processors = 10)\n",
    "df1n = result3528n.dataframe"
   ]
  },
  {
   "cell_type": "code",
   "execution_count": null,
   "metadata": {},
   "outputs": [],
   "source": [
    "print('running simulations 10')\n",
    "tspan = np.linspace(0, 1800, 500)\n",
    "solver3528n = ScipyOdeSimulator(model100, tspan=tspan, verbose = True)\n",
    "result3528n = solver3528n.run(initials = {m.CYLD(brip=None, btraf = None):0},param_values=clus0_100[k],\n",
    "                              num_processors = 10)\n",
    "df1nn = result3528n.dataframe"
   ]
  },
  {
   "cell_type": "code",
   "execution_count": null,
   "metadata": {},
   "outputs": [],
   "source": [
    "import matplotlib\n",
    "matplotlib.rc('xtick', labelsize=14) \n",
    "matplotlib.rc('ytick', labelsize=14) \n",
    "fig, (ax1, ax2, ax3) = plt.subplots(1,3, figsize = (20,5))\n",
    "# tspan = np.linspace(0, 1440, 300)\n",
    "ax1.plot(tspan/60, df11['MLKLa_obs'].iloc[:]/5544, lw=1.5, color ='blue', zorder = 1, alpha = 0.3)\n",
    "ax1.errorbar(x1001/60, y1001,\n",
    "             yerr=[(0, 0.00885691708746097,0.0161886154261265,0.0373005242261882),\n",
    "             (.07,.07,.07,.07)],\n",
    "                   fmt='.k', ecolor ='red', alpha = 0.75, zorder = 2)\n",
    "ax1.errorbar(x1002/60, y1002,\n",
    "             yerr= .07, fmt='.k', ecolor ='red', alpha = 0.75, zorder = 2)\n",
    "plt.legend(['clus0'], loc = 'best', fontsize = 14)\n",
    "#     plt.ylim(ymax = 5544, ymin =0)\n",
    "#     plt.xlim(xmax = 1440, xmin = 0)\n",
    "plt.xticks(fontsize=14)\n",
    "plt.yticks(fontsize=14)\n",
    "ax1.set_xlim(xmin = 0, xmax = 24)\n",
    "ax1.set_ylim(ymin = 0)\n",
    "plt.xticks(fontsize=14)\n",
    "plt.yticks(fontsize=14)\n",
    "ax1.grid(False)   \n",
    "custom_lines = [Line2D([0], [0], color='blue', lw=4),\n",
    "               Line2D([0], [0], color='red', lw=4)]\n",
    "ax1.legend(custom_lines, ['Clus0', 'pMLKL Data'], prop={'size': 12}, loc = 'best')\n",
    "    \n",
    "\n",
    "ax2.plot(tspan/60,df1n['MLKLa_obs'].iloc[:]/5544,lw=1.5, color ='blue', zorder = 1, alpha = 0.3)\n",
    "ax2.errorbar(x1001/60, y1001,\n",
    "             yerr=[(0, 0.00885691708746097,0.0161886154261265,0.0373005242261882),\n",
    "             (.07,.07,.07,.07)],\n",
    "                   fmt='.k', ecolor ='red', alpha = 0.75, zorder = 2)\n",
    "ax2.errorbar(x1002/60, y1002,\n",
    "             yerr= .07, fmt='.k', ecolor ='red', alpha = 0.75, zorder = 2)\n",
    "plt.xticks(fontsize=14)\n",
    "plt.yticks(fontsize=14)\n",
    "ax2.set_xlim(xmin = 0, xmax = 24)\n",
    "ax2.set_ylim(ymin = 0)\n",
    "ax2.grid(False)  \n",
    "custom_lines = [Line2D([0], [0], color='blue', lw=4),\n",
    "               Line2D([0], [0], color='red', lw=4)]\n",
    "ax2.legend(custom_lines, ['Clus1', 'pMLKL Data'], prop={'size': 12}, loc = 'best')\n",
    "    \n",
    "\n",
    "ax3.plot(tspan/60, df1nn['MLKLa_obs'].iloc[:]/5544,lw=1.5, color ='blue', zorder = 1, alpha = 0.3)  \n",
    "ax3.errorbar(x1001/60, y1001,\n",
    "             yerr=[(0, 0.00885691708746097,0.0161886154261265,0.0373005242261882),\n",
    "             (.07,.07,.07,.07)],\n",
    "                   fmt='.k', ecolor ='red', alpha = 0.75, zorder = 2)\n",
    "ax3.errorbar(x1002/60, y1002,\n",
    "             yerr= .07, fmt='.k', ecolor ='red', alpha = 0.75, zorder = 2)\n",
    "plt.xticks(fontsize=14)\n",
    "plt.yticks(fontsize=14)\n",
    "ax3.set_xlim(xmin = 0, xmax = 24)\n",
    "ax3.set_ylim(ymin = 0)\n",
    "ax3.grid(False)  \n",
    "custom_lines = [Line2D([0], [0], color='blue', lw=4),\n",
    "               Line2D([0], [0], color='red', lw=4)]\n",
    "ax3.legend(custom_lines, ['Clus2', 'pMLKL Data'], prop={'size': 12}, loc = 'best')\n",
    "\n",
    " \n",
    "fig.text(0.5, 0.04, 'Time (Hours)', ha='center', va='center',fontsize = 16)\n",
    "fig.text(0.06, 0.5, 'Amount of Flip pMLKL under 100 ng/ml TNF(Normalized)',\n",
    "         ha='center', va='center', rotation='vertical', fontsize = 13)\n",
    "# plt.savefig('pmlkl_100tnf_4clus_5720_A20KO.pdf')\n",
    "plt.show()"
   ]
  },
  {
   "cell_type": "code",
   "execution_count": null,
   "metadata": {},
   "outputs": [],
   "source": []
  },
  {
   "cell_type": "code",
   "execution_count": null,
   "metadata": {},
   "outputs": [],
   "source": []
  },
  {
   "cell_type": "code",
   "execution_count": null,
   "metadata": {},
   "outputs": [],
   "source": []
  },
  {
   "cell_type": "code",
   "execution_count": null,
   "metadata": {},
   "outputs": [],
   "source": [
    "solver6785 = ScipyOdeSimulator(model100, tspan=tspan, verbose = True)\n",
    "result6785 = solver6785.run(param_values=par_files[6785], num_processors = 10)\n",
    "df2 = result6785.dataframe"
   ]
  },
  {
   "cell_type": "code",
   "execution_count": null,
   "metadata": {},
   "outputs": [],
   "source": [
    "solver5420 = ScipyOdeSimulator(model100, tspan=tspan, verbose = True)\n",
    "result5420 = solver5420.run(param_values=par_files[5420], num_processors = 10)\n",
    "df3 = result5420.dataframe"
   ]
  },
  {
   "cell_type": "code",
   "execution_count": null,
   "metadata": {},
   "outputs": [],
   "source": [
    "solver4230 = ScipyOdeSimulator(model100, tspan=tspan, verbose = True)\n",
    "result4230 = solver4230.run(param_values=par_files[4230], num_processors = 10)\n",
    "df4 = result4230.dataframe"
   ]
  },
  {
   "cell_type": "code",
   "execution_count": null,
   "metadata": {},
   "outputs": [],
   "source": [
    "import matplotlib\n",
    "matplotlib.rc('xtick', labelsize=14) \n",
    "matplotlib.rc('ytick', labelsize=14) \n",
    "fig, ((ax1, ax2), (ax3, ax4)) = plt.subplots(2,2, figsize = (15,10))\n",
    "# tspan = np.linspace(0, 1440, 300)\n",
    "ax1.plot(tspan/60, df1['MLKLa_obs'].iloc[:]/5544, lw=1.5, color ='blue', zorder = 1, alpha = 0.3)\n",
    "ax1.errorbar(x1001/60, y1001,\n",
    "             yerr=[(0, 0.00885691708746097,0.0161886154261265,0.0373005242261882),\n",
    "             (.07,.07,.07,.07)],\n",
    "                   fmt='.k', ecolor ='red', alpha = 0.75, zorder = 2)\n",
    "ax1.errorbar(x1002/60, y1002,\n",
    "             yerr= .07, fmt='.k', ecolor ='red', alpha = 0.75, zorder = 2)\n",
    "plt.legend(['clus0'], loc = 'best', fontsize = 14)\n",
    "#     plt.ylim(ymax = 5544, ymin =0)\n",
    "#     plt.xlim(xmax = 1440, xmin = 0)\n",
    "plt.xticks(fontsize=14)\n",
    "plt.yticks(fontsize=14)\n",
    "ax1.set_xlim(xmin = 0, xmax = 24)\n",
    "ax1.set_ylim(ymin = 0)\n",
    "plt.xticks(fontsize=14)\n",
    "plt.yticks(fontsize=14)\n",
    "ax1.grid(False)   \n",
    "custom_lines = [Line2D([0], [0], color='blue', lw=4),\n",
    "               Line2D([0], [0], color='red', lw=4)]\n",
    "ax1.legend(custom_lines, ['Clus0', 'pMLKL Data'], prop={'size': 12}, loc = 'best')\n",
    "    \n",
    "\n",
    "ax2.plot(tspan/60,df2['MLKLa_obs'].iloc[:]/5544,lw=1.5, color ='blue', zorder = 1, alpha = 0.3)\n",
    "ax2.errorbar(x1001/60, y1001,\n",
    "             yerr=[(0, 0.00885691708746097,0.0161886154261265,0.0373005242261882),\n",
    "             (.07,.07,.07,.07)],\n",
    "                   fmt='.k', ecolor ='red', alpha = 0.75, zorder = 2)\n",
    "ax2.errorbar(x1002/60, y1002,\n",
    "             yerr= .07, fmt='.k', ecolor ='red', alpha = 0.75, zorder = 2)\n",
    "plt.xticks(fontsize=14)\n",
    "plt.yticks(fontsize=14)\n",
    "ax2.set_xlim(xmin = 0, xmax = 24)\n",
    "ax2.set_ylim(ymin = 0)\n",
    "ax2.grid(False)  \n",
    "custom_lines = [Line2D([0], [0], color='blue', lw=4),\n",
    "               Line2D([0], [0], color='red', lw=4)]\n",
    "ax2.legend(custom_lines, ['Clus1', 'pMLKL Data'], prop={'size': 12}, loc = 'best')\n",
    "    \n",
    "\n",
    "ax3.plot(tspan/60, df3['MLKLa_obs'].iloc[:]/5544,lw=1.5, color ='blue', zorder = 1, alpha = 0.3)  \n",
    "ax3.errorbar(x1001/60, y1001,\n",
    "             yerr=[(0, 0.00885691708746097,0.0161886154261265,0.0373005242261882),\n",
    "             (.07,.07,.07,.07)],\n",
    "                   fmt='.k', ecolor ='red', alpha = 0.75, zorder = 2)\n",
    "ax3.errorbar(x1002/60, y1002,\n",
    "             yerr= .07, fmt='.k', ecolor ='red', alpha = 0.75, zorder = 2)\n",
    "plt.xticks(fontsize=14)\n",
    "plt.yticks(fontsize=14)\n",
    "ax3.set_xlim(xmin = 0, xmax = 24)\n",
    "ax3.set_ylim(ymin = 0)\n",
    "ax3.grid(False)  \n",
    "custom_lines = [Line2D([0], [0], color='blue', lw=4),\n",
    "               Line2D([0], [0], color='red', lw=4)]\n",
    "ax3.legend(custom_lines, ['Clus2', 'pMLKL Data'], prop={'size': 12}, loc = 'best')\n",
    "    \n",
    "ax4.plot(tspan/60, df4['MLKLa_obs'].iloc[:]/5544, lw=1.5, color ='blue', zorder = 1, alpha = 0.3)\n",
    "ax4.errorbar(x1001/60, y1001,\n",
    "             yerr=[(0, 0.00885691708746097,0.0161886154261265,0.0373005242261882),\n",
    "             (.07,.07,.07,.07)],\n",
    "                   fmt='.k', ecolor ='red', alpha = 0.75, zorder = 2)\n",
    "ax4.errorbar(x1002/60, y1002,\n",
    "             yerr= .07, fmt='.k', ecolor ='red', alpha = 0.75, zorder = 2)\n",
    "plt.xticks(fontsize=14)\n",
    "plt.yticks(fontsize=14)\n",
    "#     plt.xlabel(\"Time (in hr)\", fontsize=15)\n",
    "#     plt.ylabel(\"Amount (normalized)\", fontsize=15)\n",
    "ax4.set_xlim(xmin = 0, xmax = 24)\n",
    "ax4.set_ylim(ymin = 0)\n",
    "plt.xticks(fontsize=14)\n",
    "plt.yticks(fontsize=14)\n",
    "ax4.grid(False)  \n",
    "custom_lines = [Line2D([0], [0], color='blue', lw=4),\n",
    "               Line2D([0], [0], color='red', lw=4)]\n",
    "ax4.legend(custom_lines, ['Clus3', 'pMLKL Data'], prop={'size': 12}, loc = 'best')\n",
    " \n",
    "fig.text(0.5, 0.04, 'Time (Hours)', ha='center', va='center',fontsize = 16)\n",
    "fig.text(0.06, 0.5, 'Amount of Flip pMLKL under 100 ng/ml TNF(Normalized)',\n",
    "         ha='center', va='center', rotation='vertical', fontsize = 16)\n",
    "# plt.savefig('pmlkl_100tnf_4clus_5720_A20KO.pdf')\n",
    "plt.show()"
   ]
  },
  {
   "cell_type": "code",
   "execution_count": null,
   "metadata": {},
   "outputs": [],
   "source": []
  },
  {
   "cell_type": "code",
   "execution_count": null,
   "metadata": {},
   "outputs": [],
   "source": [
    "m = model100.components"
   ]
  },
  {
   "cell_type": "code",
   "execution_count": null,
   "metadata": {},
   "outputs": [],
   "source": [
    "solver6785n = ScipyOdeSimulator(model100, tspan=tspan, verbose = True)\n",
    "result6785n = solver6785n.run(initials = {m.A20(brip = None):0},param_values=par_files[6785], num_processors = 10)\n",
    "df2n = result6785n.dataframe"
   ]
  },
  {
   "cell_type": "code",
   "execution_count": null,
   "metadata": {},
   "outputs": [],
   "source": [
    "solver5420n = ScipyOdeSimulator(model100, tspan=tspan, verbose = True)\n",
    "result5420n = solver5420n.run(initials = {m.A20(brip = None):0},param_values=par_files[5420], num_processors = 10)\n",
    "df3n = result5420n.dataframe"
   ]
  },
  {
   "cell_type": "code",
   "execution_count": null,
   "metadata": {
    "scrolled": true
   },
   "outputs": [],
   "source": [
    "solver4230n = ScipyOdeSimulator(model100, tspan=tspan, verbose = True)\n",
    "result4230n = solver4230n.run(initials = {m.A20(brip = None):0},param_values=par_files[4230], num_processors = 10)\n",
    "df4n = result4230n.dataframe"
   ]
  },
  {
   "cell_type": "code",
   "execution_count": null,
   "metadata": {
    "scrolled": false
   },
   "outputs": [],
   "source": [
    "import matplotlib\n",
    "matplotlib.rc('xtick', labelsize=14) \n",
    "matplotlib.rc('ytick', labelsize=14) \n",
    "fig, ((ax1, ax2), (ax3, ax4)) = plt.subplots(2,2, figsize = (15,10))\n",
    "# tspan = np.linspace(0, 1440, 300)\n",
    "ax1.plot(tspan/60, df1n['MLKLa_obs'].iloc[:]/5544, lw=1.5, color ='blue', zorder = 1, alpha = 0.3)\n",
    "ax1.errorbar(x1001/60, y1001,\n",
    "             yerr=[(0, 0.00885691708746097,0.0161886154261265,0.0373005242261882),\n",
    "             (.07,.07,.07,.07)],\n",
    "                   fmt='.k', ecolor ='red', alpha = 0.75, zorder = 2)\n",
    "ax1.errorbar(x1002/60, y1002,\n",
    "             yerr= .07, fmt='.k', ecolor ='red', alpha = 0.75, zorder = 2)\n",
    "plt.legend(['clus0'], loc = 'best', fontsize = 14)\n",
    "#     plt.ylim(ymax = 5544, ymin =0)\n",
    "#     plt.xlim(xmax = 1440, xmin = 0)\n",
    "plt.xticks(fontsize=14)\n",
    "plt.yticks(fontsize=14)\n",
    "ax1.set_xlim(xmin = 0, xmax = 24)\n",
    "ax1.set_ylim(ymin = 0)\n",
    "plt.xticks(fontsize=14)\n",
    "plt.yticks(fontsize=14)\n",
    "ax1.grid(False)   \n",
    "custom_lines = [Line2D([0], [0], color='blue', lw=4),\n",
    "               Line2D([0], [0], color='red', lw=4)]\n",
    "ax1.legend(custom_lines, ['Clus0', 'pMLKL Data'], prop={'size': 12}, loc = 'best')\n",
    "    \n",
    "\n",
    "ax2.plot(tspan/60,df2n['MLKLa_obs'].iloc[:]/5544,lw=1.5, color ='blue', zorder = 1, alpha = 0.3)\n",
    "ax2.errorbar(x1001/60, y1001,\n",
    "             yerr=[(0, 0.00885691708746097,0.0161886154261265,0.0373005242261882),\n",
    "             (.07,.07,.07,.07)],\n",
    "                   fmt='.k', ecolor ='red', alpha = 0.75, zorder = 2)\n",
    "ax2.errorbar(x1002/60, y1002,\n",
    "             yerr= .07, fmt='.k', ecolor ='red', alpha = 0.75, zorder = 2)\n",
    "plt.xticks(fontsize=14)\n",
    "plt.yticks(fontsize=14)\n",
    "ax2.set_xlim(xmin = 0, xmax = 24)\n",
    "ax2.set_ylim(ymin = 0)\n",
    "ax2.grid(False)  \n",
    "custom_lines = [Line2D([0], [0], color='blue', lw=4),\n",
    "               Line2D([0], [0], color='red', lw=4)]\n",
    "ax2.legend(custom_lines, ['Clus1', 'pMLKL Data'], prop={'size': 12}, loc = 'best')\n",
    "    \n",
    "\n",
    "ax3.plot(tspan/60, df3n['MLKLa_obs'].iloc[:]/5544,lw=1.5, color ='blue', zorder = 1, alpha = 0.3)  \n",
    "ax3.errorbar(x1001/60, y1001,\n",
    "             yerr=[(0, 0.00885691708746097,0.0161886154261265,0.0373005242261882),\n",
    "             (.07,.07,.07,.07)],\n",
    "                   fmt='.k', ecolor ='red', alpha = 0.75, zorder = 2)\n",
    "ax3.errorbar(x1002/60, y1002,\n",
    "             yerr= .07, fmt='.k', ecolor ='red', alpha = 0.75, zorder = 2)\n",
    "plt.xticks(fontsize=14)\n",
    "plt.yticks(fontsize=14)\n",
    "ax3.set_xlim(xmin = 0, xmax = 24)\n",
    "ax3.set_ylim(ymin = 0)\n",
    "ax3.grid(False)  \n",
    "custom_lines = [Line2D([0], [0], color='blue', lw=4),\n",
    "               Line2D([0], [0], color='red', lw=4)]\n",
    "ax3.legend(custom_lines, ['Clus2', 'pMLKL Data'], prop={'size': 12}, loc = 'best')\n",
    "    \n",
    "ax4.plot(tspan/60, df4n['MLKLa_obs'].iloc[:]/5544, lw=1.5, color ='blue', zorder = 1, alpha = 0.3)\n",
    "ax4.errorbar(x1001/60, y1001,\n",
    "             yerr=[(0, 0.00885691708746097,0.0161886154261265,0.0373005242261882),\n",
    "             (.07,.07,.07,.07)],\n",
    "                   fmt='.k', ecolor ='red', alpha = 0.75, zorder = 2)\n",
    "ax4.errorbar(x1002/60, y1002,\n",
    "             yerr= .07, fmt='.k', ecolor ='red', alpha = 0.75, zorder = 2)\n",
    "plt.xticks(fontsize=14)\n",
    "plt.yticks(fontsize=14)\n",
    "#     plt.xlabel(\"Time (in hr)\", fontsize=15)\n",
    "#     plt.ylabel(\"Amount (normalized)\", fontsize=15)\n",
    "ax4.set_xlim(xmin = 0, xmax = 24)\n",
    "ax4.set_ylim(ymin = 0)\n",
    "plt.xticks(fontsize=14)\n",
    "plt.yticks(fontsize=14)\n",
    "ax4.grid(False)  \n",
    "custom_lines = [Line2D([0], [0], color='blue', lw=4),\n",
    "               Line2D([0], [0], color='red', lw=4)]\n",
    "ax4.legend(custom_lines, ['Clus3', 'pMLKL Data'], prop={'size': 12}, loc = 'best')\n",
    " \n",
    "fig.text(0.5, 0.04, 'Time (Hours)', ha='center', va='center',fontsize = 16)\n",
    "fig.text(0.06, 0.5, 'Amount of Flip pMLKL under 100 ng/ml TNF(Normalized)',\n",
    "         ha='center', va='center', rotation='vertical', fontsize = 16)\n",
    "# plt.savefig('pmlkl_100tnf_4clus_5720_A20KO.pdf')\n",
    "plt.show()"
   ]
  },
  {
   "cell_type": "code",
   "execution_count": null,
   "metadata": {},
   "outputs": [],
   "source": []
  }
 ],
 "metadata": {
  "kernelspec": {
   "display_name": "Python 3",
   "language": "python",
   "name": "python3"
  },
  "language_info": {
   "codemirror_mode": {
    "name": "ipython",
    "version": 3
   },
   "file_extension": ".py",
   "mimetype": "text/x-python",
   "name": "python",
   "nbconvert_exporter": "python",
   "pygments_lexer": "ipython3",
   "version": "3.7.5"
  }
 },
 "nbformat": 4,
 "nbformat_minor": 2
}
