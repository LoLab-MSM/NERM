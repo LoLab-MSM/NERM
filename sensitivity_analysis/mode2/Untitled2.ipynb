{
 "cells": [
  {
   "cell_type": "code",
   "execution_count": 1,
   "metadata": {},
   "outputs": [],
   "source": [
    "import os\n",
    "from pylab import *\n",
    "from pysb.core import *\n",
    "from pysb.bng import *\n",
    "from pysb.integrate import *\n",
    "import matplotlib.pyplot as plt\n",
    "import numpy as np\n",
    "from pysb.util import alias_model_components\n",
    "from pysb.simulator import CupSodaSimulator\n",
    "from pysb.simulator import ScipyOdeSimulator\n",
    "from pysb.simulator.bng import BngSimulator\n",
    "import sys\n",
    "sys.path.append('../')\n",
    "sys.path.append('/home/ildefog/main/Projects/NERM/')\n",
    "sys.path.append('/home/ildefog/main/Projects/NERM/param_files/')\n",
    "from model_files.nerm_pvals import model \n",
    "import pandas as pd\n",
    "from scipy import stats\n",
    "from pysb.simulator import SimulationResult\n",
    "import logging\n",
    "import os\n",
    "from pysb.logging import setup_logger\n",
    "from pysb.simulator.cupsoda import CupSodaSimulator\n",
    "from pysb.simulator.scipyode import ScipyOdeSimulator\n",
    "from sensitivity_analysis4 import InitialsSensitivity\n",
    "from pysb.util import update_param_vals\n",
    "from scipy.stats import norm,uniform, halfnorm\n",
    "from pysb.tools.sensitivity_analysis import PairwiseSensitivity\n",
    "os.environ['OMP_NUM_THREADS'] = '1'\n",
    "from scipy.optimize import curve_fit"
   ]
  },
  {
   "cell_type": "code",
   "execution_count": 3,
   "metadata": {},
   "outputs": [],
   "source": [
    "c0 = np.load('../NecroptosisSens/cluster0/necro_pars10k_cluster0_5720_mod.npy')\n",
    "c1 = np.load('../NecroptosisSens/cluster1/necro_pars10k_cluster1_5720_mod.npy')\n",
    "c2 = np.load('../NecroptosisSens/cluster2/necro_pars10k_cluster2_5720_mod.npy')\n",
    "c3 = np.load('../NecroptosisSens/cluster3/necro_pars10k_cluster3_5720_mod.npy')"
   ]
  },
  {
   "cell_type": "code",
   "execution_count": 4,
   "metadata": {},
   "outputs": [
    {
     "name": "stdout",
     "output_type": "stream",
     "text": [
      "[2.32600000e+03 4.80000000e+03 4.69600000e+03 4.00000000e+04\n",
      " 1.17760000e+04 9.00000000e+03 9.00000000e+03 9.00000000e+03\n",
      " 3.10900000e+03 3.90000000e+03 7.22600000e+03 3.79900000e+03\n",
      " 1.06540000e+04 5.54400000e+03 1.98794695e-07 5.49030660e-05\n",
      " 2.79985027e-04 6.93725898e-02 4.02442372e+00 3.34497415e+02\n",
      " 1.16178260e-03 1.37493377e-02 1.83963104e-07 1.09571830e-01\n",
      " 2.06022182e-03 7.27252952e-03 1.56339761e-02 1.22496256e-04\n",
      " 2.40319546e-01 1.98512681e-03 1.75780767e-01 2.40319546e-01\n",
      " 6.43362879e-07 1.75780767e-01 2.00635884e+03 6.62228312e-04\n",
      " 1.07201489e-04 6.72046457e-04 7.87039186e-03 1.30055693e+00\n",
      " 6.08007774e-02 3.81244753e+01 5.45753992e-03 1.65739974e+00\n",
      " 1.19342779e-03 3.03563288e-04 1.33209971e+01 1.88650892e+00\n",
      " 1.55022611e-04 2.36576569e-03 5.26505520e-06 2.41568281e+00\n",
      " 9.17830983e-01 4.92855732e+03]\n"
     ]
    }
   ],
   "source": [
    "print(c2[0])"
   ]
  },
  {
   "cell_type": "code",
   "execution_count": 2,
   "metadata": {},
   "outputs": [
    {
     "name": "stdout",
     "output_type": "stream",
     "text": [
      "ComponentSet([\n",
      " Observable('MLKLa_obs', MLKL(bRHIM=None, state='active')),\n",
      " Observable('CII_C8a_obs', TRADD(brec=None, brip=3, bDD1=None, bDD2=None) % RIP1(bscf=3, bub1=None, bub2=None, bub3=None, bDD=1, btraf=None, bRHIM=None, bMLKL=None, state='deub') % FADD(bDD=1, bDED1=2, bDED2=None) % C8(bf=2, flip=4, state='A') % FLIP(bDED=4, state='A')),\n",
      " Observable('CII_RIP3_obs', TRADD(brec=None, brip=3, bDD1=None, bDD2=None) % RIP1(bscf=3, bub1=None, bub2=None, bub3=None, bDD=1, btraf=None, bRHIM=5, bMLKL=None, state='deub') % FADD(bDD=1, bDED1=None, bDED2=None) % RIP3(bRHIM=5, bDD=None, state='unmod')),\n",
      " Observable('RIP1RIP3unmod_obs', RIP1(bscf=None, bub1=None, bub2=None, bub3=None, bDD=None, btraf=None, bRHIM=5, bMLKL=None, state='po4') % RIP3(bRHIM=5, bDD=1, state='po4') % MLKL(bRHIM=1, state='unmod')),\n",
      " Observable('CI_k63_obs', TNF(brec=1) % TNFR(blig=1, brip=2) % TRADD(brec=2, brip=3, bDD1=None, bDD2=None) % RIP1(bscf=3, bub1=None, bub2=None, bub3=None, bDD=None, btraf=4, bRHIM=None, bMLKL=None, state='K63ub') % TRAF(brip=4, bciap=5, bcyld=None, state='unmod') % cIAP(btraf=5)),\n",
      " Observable('CII_RIP1dbTRADDobs', TRADD(brec=None, brip=3, bDD1=None, bDD2=None) % RIP1(bscf=3, bub1=None, bub2=None, bub3=None, bDD=None, btraf=None, bRHIM=None, bMLKL=None, state='deub')),\n",
      " Observable('CII_RIP1dbTRADDFADD_obs', TRADD(brec=None, brip=3, bDD1=None, bDD2=None) % RIP1(bscf=3, bub1=None, bub2=None, bub3=None, bDD=1, btraf=None, bRHIM=None, bMLKL=None, state='deub') % FADD(bDD=1, bDED1=None, bDED2=None)),\n",
      " Observable('A20_CI_obs', TNF(brec=1) % TNFR(blig=1, brip=2) % TRADD(brec=2, brip=3, bDD1=None, bDD2=None) % RIP1(bscf=3, bub1=6, bub2=7, bub3=None, bDD=None, btraf=4, bRHIM=None, bMLKL=None, state='K63ub') % TRAF(brip=4, bciap=5, bcyld=None, state='unmod') % cIAP(btraf=5) % LUBAC(brip=6) % A20(brip=7)),\n",
      " Observable('CYLD_CI_obs', TNF(brec=1) % TNFR(blig=1, brip=2) % TRADD(brec=2, brip=3, bDD1=None, bDD2=None) % RIP1(bscf=3, bub1=6, bub2=7, bub3=None, bDD=None, btraf=4, bRHIM=None, bMLKL=None, state='K63ub') % TRAF(brip=4, bciap=5, bcyld=None, state='unmod') % cIAP(btraf=5) % LUBAC(brip=6) % CYLD(brip=7)),\n",
      " Observable('C8Flip_obs', C8(bf=None, flip=4, state='A') % FLIP(bDED=4, state='A')),\n",
      " Observable('RIP1TRADD_obs', TRADD(brec=None, brip=3, bDD1=None, bDD2=None) % RIP1(bscf=3, bub1=None, bub2=None, bub3=None, bDD=None, btraf=None, bRHIM=None, bMLKL=None, state='deub')),\n",
      " Observable('RIP1k63_obs', RIP1(state='K63ub')),\n",
      " Observable('RIP1deub_obs', RIP1(state='deub')),\n",
      " Observable('RIP1trunc_obs', RIP1(state='trunc')),\n",
      " Observable('Flip_obs', FLIP(bDED=None, state='A')),\n",
      " Observable('FADDa_obs', FADD()),\n",
      " Observable('FADDu_obs', FADD(bDD=None, bDED1=None, bDED2=None)),\n",
      " Observable('R1dbR3_obs', RIP1(bscf=None, bub1=None, bub2=None, bub3=None, bDD=None, btraf=None, bRHIM=5, bMLKL=None, state='deub') % RIP3(bRHIM=5, bDD=None, state='unmod')),\n",
      " Observable('R1dbR3p_obs', RIP1(bscf=None, bub1=None, bub2=None, bub3=None, bDD=None, btraf=None, bRHIM=5, bMLKL=None, state='deub') % RIP3(bRHIM=5, bDD=None, state='po4')),\n",
      " Observable('R1pR3p_obs', RIP1(bscf=None, bub1=None, bub2=None, bub3=None, bDD=None, btraf=None, bRHIM=5, bMLKL=None, state='po4') % RIP3(bRHIM=5, bDD=None, state='po4')),\n",
      " Observable('R1pR3pM_obs', RIP1(bscf=None, bub1=None, bub2=None, bub3=None, bDD=None, btraf=None, bRHIM=5, bMLKL=None, state='po4') % RIP3(bRHIM=5, bDD=1, state='po4') % MLKL(bRHIM=1, state='unmod')),\n",
      " Observable('RIP1unphos_obs', RIP1(state='unmod') + RIP1(state='K63ub') + RIP1(state='deub')),\n",
      " Observable('RIP1phos_obs', RIP1(state='po4')),\n",
      " Observable('RIP1_obs', RIP1()),\n",
      " Observable('MLKLtot_obs', MLKL()),\n",
      " ])\n"
     ]
    }
   ],
   "source": [
    "print(model.observables)"
   ]
  },
  {
   "cell_type": "code",
   "execution_count": 5,
   "metadata": {},
   "outputs": [
    {
     "name": "stderr",
     "output_type": "stream",
     "text": [
      "2022-01-07 21:36:34.625 - pysb.simulator.scipyode - DEBUG - [model_files.nerm_pvals] Simulator created\n",
      "2022-01-07 21:36:35.399 - pysb.simulator.scipyode - DEBUG - [model_files.nerm_pvals] Equation mode set to \"cython\"\n",
      "2022-01-07 21:36:35.519 - pysb.simulator.scipyode - INFO - [model_files.nerm_pvals] Simulation(s) started\n",
      "2022-01-07 21:36:35.668 - pysb.simulator.scipyode - DEBUG - [model_files.nerm_pvals] Multi-processor (parallel) mode using 20 processes\n",
      "2022-01-07 21:38:10.560 - pysb.simulator.scipyode - INFO - [model_files.nerm_pvals] All simulation(s) complete\n",
      "2022-01-07 21:38:10.561 - pysb.simulator.scipyode - DEBUG - [model_files.nerm_pvals] SimulationResult constructor started\n",
      "2022-01-07 21:38:12.085 - pysb.simulator.scipyode - DEBUG - [model_files.nerm_pvals] SimulationResult constructor finished\n"
     ]
    }
   ],
   "source": [
    "tspan2 = np.linspace(0,1800,500)\n",
    "m = model.components\n",
    "solverwtm1 = ScipyOdeSimulator(model, tspan=tspan2, verbose = True)\n",
    "mode1wtm1  = solverwtm1.run(param_values=c2, num_processors = 20)\n",
    "mode1df_wtm1 = mode1wtm1.dataframe"
   ]
  },
  {
   "cell_type": "code",
   "execution_count": 7,
   "metadata": {},
   "outputs": [
    {
     "data": {
      "image/png": "[encoded data removed]",
      "text/plain": [
       "<Figure size 432x288 with 1 Axes>"
      ]
     },
     "metadata": {
      "needs_background": "light"
     },
     "output_type": "display_data"
    }
   ],
   "source": [
    "fig, ax = plt.subplots()\n",
    "for n in range(len(c2)):\n",
    "    plt.plot(tspan2/60, mode1df_wtm1.loc[n]['MLKLtot_obs'].iloc[:]/mode1df_wtm1.loc[n]['MLKLa_obs'].iloc[:].max(), lw=1.5, \n",
    "             zorder = 1, color = 'red', alpha = 0.5) \n",
    "#     plt.plot(tspan2/60, mode1df_wtm1kd.loc[n]['MLKLa_obs'].iloc[:], lw=1.5, \n",
    "#              zorder = 1, color =  'blue', alpha = 0.3)\n",
    "#     plt.plot(tspan2/60, mode1df_wtm1oe.loc[n]['MLKLa_obs'], lw=1.5, \n",
    "#              zorder = 1, color = 'green', alpha = 0.5) \n",
    "plt.xlabel(\"Time (hours)\", fontsize=15)\n",
    "plt.ylabel('[pMLKL]', fontsize=15)\n",
    "plt.xlim(xmin = 0, xmax = 16)\n",
    "plt.ylim(ymin = 0)\n",
    "plt.xticks(fontsize=14)\n",
    "plt.yticks(fontsize=14)\n",
    "right_side = ax.spines[\"right\"]\n",
    "right_side.set_visible(False)\n",
    "top = ax.spines[\"top\"]\n",
    "top.set_visible(False)\n",
    "ax.set_xticks([0, 5, 10, 15, 20, 24])\n",
    "ax.grid(False)\n",
    "plt.tight_layout()\n",
    "# plt.savefig('pmlkl_allpars_clus0_tnf100_noframe.pdf')\n",
    "plt.show() "
   ]
  },
  {
   "cell_type": "code",
   "execution_count": null,
   "metadata": {},
   "outputs": [],
   "source": []
  }
 ],
 "metadata": {
  "kernelspec": {
   "display_name": "Python 3",
   "language": "python",
   "name": "python3"
  },
  "language_info": {
   "codemirror_mode": {
    "name": "ipython",
    "version": 3
   },
   "file_extension": ".py",
   "mimetype": "text/x-python",
   "name": "python",
   "nbconvert_exporter": "python",
   "pygments_lexer": "ipython3",
   "version": "3.7.5"
  }
 },
 "nbformat": 4,
 "nbformat_minor": 2
}
