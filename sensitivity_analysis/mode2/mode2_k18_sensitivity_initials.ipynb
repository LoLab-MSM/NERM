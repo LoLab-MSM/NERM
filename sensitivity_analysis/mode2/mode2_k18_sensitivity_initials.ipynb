{
 "cells": [
  {
   "cell_type": "code",
   "execution_count": 1,
   "metadata": {},
   "outputs": [],
   "source": [
    "import os\n",
    "from pylab import *\n",
    "from pysb.core import *\n",
    "from pysb.bng import *\n",
    "from pysb.integrate import *\n",
    "import matplotlib.pyplot as plt\n",
    "import numpy as np\n",
    "from pysb.util import alias_model_components\n",
    "from pysb.simulator import CupSodaSimulator\n",
    "from pysb.simulator import ScipyOdeSimulator\n",
    "from pysb.simulator.bng import BngSimulator\n",
    "import sys\n",
    "sys.path.append('../')\n",
    "sys.path.append('/home/ildefog/main/Projects/NERM/')\n",
    "sys.path.append('/home/ildefog/main/Projects/NERM/param_files/')\n",
    "from model_files.nerm_pvals import model \n",
    "import pandas as pd\n",
    "from scipy import stats\n",
    "from pysb.simulator import SimulationResult\n",
    "import logging\n",
    "import os\n",
    "from pysb.logging import setup_logger\n",
    "from pysb.simulator.cupsoda import CupSodaSimulator\n",
    "from pysb.simulator.scipyode import ScipyOdeSimulator\n",
    "from sensitivity_analysis4 import InitialsSensitivity\n",
    "from pysb.util import update_param_vals\n",
    "from scipy.stats import norm,uniform, halfnorm\n",
    "from pysb.tools.sensitivity_analysis import PairwiseSensitivity\n",
    "os.environ['OMP_NUM_THREADS'] = '1'\n",
    "from scipy.optimize import curve_fit"
   ]
  },
  {
   "cell_type": "code",
   "execution_count": 5,
   "metadata": {},
   "outputs": [],
   "source": [
    "c0 = np.load('../NecroptosisSens/cluster0/necro_pars10k_cluster0_5720_mod.npy')[:,14:]\n",
    "c1 = np.load('../NecroptosisSens/cluster1/necro_pars10k_cluster1_5720_mod.npy')[:,14:]\n",
    "c2 = np.load('../NecroptosisSens/cluster2/necro_pars10k_cluster2_5720_mod.npy')[:,14:]\n",
    "c3 = np.load('../NecroptosisSens/cluster3/necro_pars10k_cluster3_5720_mod.npy')[:,14:]"
   ]
  },
  {
   "cell_type": "code",
   "execution_count": 6,
   "metadata": {},
   "outputs": [
    {
     "data": {
      "text/plain": [
       "array([1.98794695e-07, 5.49030660e-05, 2.79985027e-04, 6.93725898e-02,\n",
       "       4.02442372e+00, 3.34497415e+02, 1.16178260e-03, 1.37493377e-02,\n",
       "       1.83963104e-07, 1.09571830e-01, 2.06022182e-03, 7.27252952e-03,\n",
       "       1.56339761e-02, 1.22496256e-04, 2.40319546e-01, 1.98512681e-03,\n",
       "       1.75780767e-01, 2.40319546e-01, 6.43362879e-07, 1.75780767e-01,\n",
       "       2.00635884e+03, 6.62228312e-04, 1.07201489e-04, 6.72046457e-04,\n",
       "       7.87039186e-03, 1.30055693e+00, 6.08007774e-02, 3.81244753e+01,\n",
       "       5.45753992e-03, 1.65739974e+00, 1.19342779e-03, 3.03563288e-04,\n",
       "       1.33209971e+01, 1.88650892e+00, 1.55022611e-04, 2.36576569e-03,\n",
       "       5.26505520e-06, 2.41568281e+00, 9.17830983e-01, 4.92855732e+03])"
      ]
     },
     "execution_count": 6,
     "metadata": {},
     "output_type": "execute_result"
    }
   ],
   "source": [
    "c2[0]"
   ]
  },
  {
   "cell_type": "code",
   "execution_count": null,
   "metadata": {},
   "outputs": [],
   "source": [
    "mode2_100 = np.load('../../param_files/necro_pars10k_cluster2_5720_mod.npy')[:,14:]\n",
    "mode2_100 = np.log10(mode2_100)\n",
    "tspan = np.linspace(0, 1440, 500)"
   ]
  },
  {
   "cell_type": "code",
   "execution_count": null,
   "metadata": {},
   "outputs": [],
   "source": [
    "mode2_100[0]"
   ]
  },
  {
   "cell_type": "code",
   "execution_count": null,
   "metadata": {},
   "outputs": [],
   "source": [
    "print(mode2_100[0])"
   ]
  },
  {
   "cell_type": "code",
   "execution_count": null,
   "metadata": {},
   "outputs": [],
   "source": [
    "clus1 = np.load('../NecroptosisSens/cluster2/necro_pars10k_cluster2_5720_mod.npy')[:,14:]"
   ]
  },
  {
   "cell_type": "code",
   "execution_count": 7,
   "metadata": {},
   "outputs": [],
   "source": [
    "n_pars = len(c2)\n",
    "all_pars = np.zeros((n_pars, len(model.parameters)))\n",
    "\n",
    "rate_params = model.parameters_rules()\n",
    "param_values = np.array([p.value for p in model.parameters])\n",
    "rate_mask = np.array([p in rate_params for p in model.parameters])\n",
    "\n",
    "for i in range(n_pars):\n",
    "    par = c2[i]\n",
    "    param_values[rate_mask] = par\n",
    "    all_pars[i] = param_values"
   ]
  },
  {
   "cell_type": "code",
   "execution_count": 32,
   "metadata": {},
   "outputs": [
    {
     "data": {
      "text/plain": [
       "[(A20(brip=None), Parameter('A20_0', 9000.0)),\n",
       " (C8(bf=None, flip=None, state='I'), Parameter('C8_0', 3799.0)),\n",
       " (cIAP(btraf=None), Parameter('cIAP_0', 9000.0)),\n",
       " (CYLD(brip=None, btraf=None), Parameter('CYLD_0', 9000.0)),\n",
       " (FADD(bDD=None, bDED1=None, bDED2=None), Parameter('FADD_0', 3109.0)),\n",
       " (FLIP(bDED=None, state='A'), Parameter('FLIP_0', 3900.0)),\n",
       " (LUBAC(brip=None), Parameter('LUBAC_0', 7226.0)),\n",
       " (MLKL(bRHIM=None, state='unmod'), Parameter('MLKLa_0', 5544.0)),\n",
       " (RIP1(bscf=None, bub1=None, bub2=None, bub3=None, bDD=None, btraf=None, bRHIM=None, bMLKL=None, state='unmod'),\n",
       "  Parameter('RIP1_0', 40000.0)),\n",
       " (RIP3(bRHIM=None, bDD=None, state='unmod'), Parameter('RIP3_0', 10654.0)),\n",
       " (TNF(brec=None), Parameter('TNF_0', 2326.0)),\n",
       " (TNFR(blig=None, brip=None, bDD=None), Parameter('TNFR_0', 4800.0)),\n",
       " (TRADD(brec=None, brip=None, state='unmod', bDD1=None, bDD2=None),\n",
       "  Parameter('TRADD_0', 4696.0)),\n",
       " (TRAF(brip=None, bciap=None, bcyld=None, state='unmod'),\n",
       "  Parameter('TRAF_0', 11776.0))]"
      ]
     },
     "execution_count": 32,
     "metadata": {},
     "output_type": "execute_result"
    }
   ],
   "source": [
    "list(model.initial_conditions)"
   ]
  },
  {
   "cell_type": "code",
   "execution_count": 8,
   "metadata": {},
   "outputs": [
    {
     "data": {
      "text/plain": [
       "array([9.00000000e+03, 3.79900000e+03, 9.00000000e+03, 9.00000000e+03,\n",
       "       3.10900000e+03, 3.90000000e+03, 7.22600000e+03, 5.54400000e+03,\n",
       "       4.00000000e+04, 1.06540000e+04, 2.32600000e+03, 4.80000000e+03,\n",
       "       4.69600000e+03, 1.17760000e+04, 1.98794695e-07, 5.49030660e-05,\n",
       "       2.79985027e-04, 6.93725898e-02, 4.02442372e+00, 3.34497415e+02,\n",
       "       1.16178260e-03, 1.37493377e-02, 1.83963104e-07, 1.09571830e-01,\n",
       "       2.06022182e-03, 7.27252952e-03, 1.56339761e-02, 1.22496256e-04,\n",
       "       2.40319546e-01, 1.98512681e-03, 1.75780767e-01, 2.40319546e-01,\n",
       "       6.43362879e-07, 1.75780767e-01, 2.00635884e+03, 6.62228312e-04,\n",
       "       1.07201489e-04, 6.72046457e-04, 7.87039186e-03, 1.30055693e+00,\n",
       "       6.08007774e-02, 3.81244753e+01, 5.45753992e-03, 1.65739974e+00,\n",
       "       1.19342779e-03, 3.03563288e-04, 1.33209971e+01, 1.88650892e+00,\n",
       "       1.55022611e-04, 2.36576569e-03, 5.26505520e-06, 2.41568281e+00,\n",
       "       9.17830983e-01, 4.92855732e+03])"
      ]
     },
     "execution_count": 8,
     "metadata": {},
     "output_type": "execute_result"
    }
   ],
   "source": [
    "all_pars[0]"
   ]
  },
  {
   "cell_type": "code",
   "execution_count": null,
   "metadata": {},
   "outputs": [],
   "source": [
    "all_pars[0]"
   ]
  },
  {
   "cell_type": "code",
   "execution_count": 33,
   "metadata": {},
   "outputs": [],
   "source": [
    "tspan = np.linspace(0, 1440, 1440)"
   ]
  },
  {
   "cell_type": "code",
   "execution_count": null,
   "metadata": {},
   "outputs": [],
   "source": [
    "# l = [175, 210, 212, 215, 229, 239, 242, 246, 247]"
   ]
  },
  {
   "cell_type": "code",
   "execution_count": 54,
   "metadata": {},
   "outputs": [
    {
     "name": "stderr",
     "output_type": "stream",
     "text": [
      "2022-01-10 11:40:01.930 - pysb.simulator.scipyode - DEBUG - [model_files.nerm_pvals] Simulator created\n",
      "2022-01-10 11:40:01.941 - pysb.simulator.scipyode - DEBUG - [model_files.nerm_pvals] Equation mode set to \"cython\"\n",
      "2022-01-10 11:40:02.010 - pysb.simulator.scipyode - INFO - [model_files.nerm_pvals] Simulation(s) started\n",
      "2022-01-10 11:40:02.071 - pysb.simulator.scipyode - DEBUG - [model_files.nerm_pvals] Multi-processor (parallel) mode using 20 processes\n",
      "2022-01-10 11:40:02.402 - pysb.simulator.scipyode - INFO - [model_files.nerm_pvals] All simulation(s) complete\n",
      "2022-01-10 11:40:02.404 - pysb.simulator.scipyode - DEBUG - [model_files.nerm_pvals] SimulationResult constructor started\n",
      "2022-01-10 11:40:02.477 - pysb.simulator.scipyode - DEBUG - [model_files.nerm_pvals] SimulationResult constructor finished\n"
     ]
    }
   ],
   "source": [
    "m = model.components\n",
    "solverwtm1 = ScipyOdeSimulator(model, tspan=tspan, verbose = True)\n",
    "mode1wtm1  = solverwtm1.run(initials = {m.FADD(bDD=None, bDED1=None, bDED2=None):932},\n",
    "                            param_values=all_pars[247], num_processors = 20)\n",
    "mode1df_wtm1 = mode1wtm1.dataframe"
   ]
  },
  {
   "cell_type": "code",
   "execution_count": 55,
   "metadata": {},
   "outputs": [
    {
     "data": {
      "image/png": "[encoded data removed]",
      "text/plain": [
       "<Figure size 432x288 with 1 Axes>"
      ]
     },
     "metadata": {
      "needs_background": "light"
     },
     "output_type": "display_data"
    }
   ],
   "source": [
    "fig, ax = plt.subplots()\n",
    "# for n in range(len(mode1_100)):\n",
    "plt.plot(tspan/60, mode1df_wtm1.loc[:]['MLKLa_obs'].iloc[:]/5544, lw=1.5, \n",
    "             zorder = 1)\n",
    "# colormap = plt.cm.Reds #nipy_spectral, Set1,Paired   \n",
    "# colors = [colormap(i) for i in np.linspace(0, 1,len(ax.lines))]\n",
    "# for i,j in enumerate(ax.lines):\n",
    "#     j.set_color(colors[i])\n",
    "# ax1.legend(loc=2)    \n",
    "plt.xlabel(\"Time (hours)\", fontsize=15)\n",
    "plt.ylabel(\"pMLKL (normalized)\", fontsize=15)\n",
    "plt.xlim(xmin = 0, xmax = 16)\n",
    "plt.ylim(ymin = 0)\n",
    "plt.xticks(fontsize=14)\n",
    "plt.yticks(fontsize=14)\n",
    "right_side = ax.spines[\"right\"]\n",
    "right_side.set_visible(False)\n",
    "top = ax.spines[\"top\"]\n",
    "top.set_visible(False)\n",
    "ax.set_xticks([0, 5, 10, 15, 20, 24])\n",
    "ax.grid(False)\n",
    "plt.tight_layout()\n",
    "# plt.savefig('pmlkl_allpars_clus0_tnf100_noframe.pdf')\n",
    "plt.show() "
   ]
  },
  {
   "cell_type": "code",
   "execution_count": null,
   "metadata": {},
   "outputs": [],
   "source": [
    "m = model.components\n",
    "solverwtm1 = ScipyOdeSimulator(model, tspan=tspan2, verbose = True)\n",
    "mode1wtm1  = solverwtm1.run(initials = {m.MLKL(bRHIM=None, state='unmod'):55440},\n",
    "                                        param_values=all_pars, num_processors = 20)\n",
    "mode1df_wtm1oe = mode1wtm1.dataframe"
   ]
  },
  {
   "cell_type": "code",
   "execution_count": null,
   "metadata": {},
   "outputs": [],
   "source": [
    "m = model.components\n",
    "solverwtm1 = ScipyOdeSimulator(model, tspan=tspan2, verbose = True)\n",
    "mode1wtm1  = solverwtm1.run(initials = {m.MLKL(bRHIM=None, state='unmod'):1663},\n",
    "                                        param_values=all_pars, num_processors = 20)\n",
    "mode1df_wtm1kd = mode1wtm1.dataframe"
   ]
  },
  {
   "cell_type": "code",
   "execution_count": null,
   "metadata": {},
   "outputs": [],
   "source": [
    "solverwtm1kdn = ScipyOdeSimulator(model, tspan=tspan2, verbose = True)\n",
    "mode1wtm1kdn  = solverwtm1kdn.run(initials = {m.MLKL(bRHIM=None, state='unmod'):1663},\n",
    "                                        param_values=all_pars, num_processors = 20)\n",
    "mode1df_wtm1kdn = mode1wtm1kdn.dataframe"
   ]
  },
  {
   "cell_type": "code",
   "execution_count": null,
   "metadata": {},
   "outputs": [],
   "source": [
    "fig, ax = plt.subplots(figsize = (7,5))\n",
    "for n in range(len(all_pars[17:18])):\n",
    "    plt.plot(tspan2/60, mode1df_wtm1.loc[n]['MLKLa_obs'].iloc[:]/5544, lw=3, \n",
    "             zorder = 1, linestyle = '-', color = 'black') \n",
    "plt.ylabel(r\"[pMLKL] / [pMLKL]$_\\mathrm{max}$\", fontsize = 20) # Y label\n",
    "plt.xlabel('Time (hours)', fontsize = 20) # X label\n",
    "plt.xlim(xmin = 0, xmax = 16)\n",
    "plt.ylim(ymin = 0)\n",
    "plt.xticks(fontsize=14)\n",
    "plt.yticks(fontsize=14)\n",
    "right_side = ax.spines[\"right\"]\n",
    "right_side.set_visible(False)\n",
    "top = ax.spines[\"top\"]\n",
    "top.set_visible(False)\n",
    "ax.set_xticks([0, 5, 10, 15, 20, 24])\n",
    "ax.set_yticks([0,0.25, 0.5, 0.75, 1.0])\n",
    "ax.tick_params(axis='both', which='major', labelsize=18)\n",
    "ax.grid(False)\n",
    "plt.tight_layout()\n",
    "plt.savefig('../../pmlkl_methodsfig_ttd.pdf')\n",
    "plt.show() "
   ]
  },
  {
   "cell_type": "code",
   "execution_count": null,
   "metadata": {},
   "outputs": [],
   "source": [
    "fig, ax = plt.subplots()\n",
    "for n in range(len(all_pars)):\n",
    "    plt.plot(tspan2/60, mode1df_wtm1.loc[n]['MLKLa_obs'].iloc[:], lw=1.5, \n",
    "             zorder = 1) \n",
    "plt.xlabel(\"Time (hours)\", fontsize=15)\n",
    "plt.ylabel(\"pMLKL (normalized)\", fontsize=15)\n",
    "plt.xlim(xmin = 0, xmax = 16)\n",
    "plt.ylim(ymin = 0)\n",
    "plt.xticks(fontsize=14)\n",
    "plt.yticks(fontsize=14)\n",
    "right_side = ax.spines[\"right\"]\n",
    "right_side.set_visible(False)\n",
    "top = ax.spines[\"top\"]\n",
    "top.set_visible(False)\n",
    "ax.set_xticks([0, 5, 10, 15, 20, 24])\n",
    "ax.grid(False)\n",
    "plt.tight_layout()\n",
    "# plt.savefig('pmlkl_allpars_clus0_tnf100_noframe.pdf')\n",
    "plt.show() "
   ]
  },
  {
   "cell_type": "code",
   "execution_count": null,
   "metadata": {},
   "outputs": [],
   "source": [
    "fig, ax = plt.subplots()\n",
    "for n in range(len(all_pars)):\n",
    "    plt.plot(tspan2/60, mode1df_wtm1kdn.loc[n]['MLKLa_obs'].iloc[:], lw=1.5, \n",
    "             zorder = 1)\n",
    "plt.xlabel(\"Time (hours)\", fontsize=15)\n",
    "plt.ylabel(\"pMLKL (normalized)\", fontsize=15)\n",
    "plt.xlim(xmin = 0, xmax = 16)\n",
    "plt.ylim(ymin = 0)\n",
    "plt.xticks(fontsize=14)\n",
    "plt.yticks(fontsize=14)\n",
    "right_side = ax.spines[\"right\"]\n",
    "right_side.set_visible(False)\n",
    "top = ax.spines[\"top\"]\n",
    "top.set_visible(False)\n",
    "ax.set_xticks([0, 5, 10, 15, 20, 24])\n",
    "ax.grid(False)\n",
    "plt.tight_layout()\n",
    "# plt.savefig('pmlkl_allpars_clus0_tnf100_noframe.pdf')\n",
    "plt.show() "
   ]
  },
  {
   "cell_type": "code",
   "execution_count": null,
   "metadata": {},
   "outputs": [],
   "source": [
    "fig, ax = plt.subplots()\n",
    "for n in range(len(all_pars)):\n",
    "    plt.plot(tspan2/60, mode1df_wtm1oe.loc[n]['MLKLa_obs'], lw=1.5, \n",
    "             zorder = 1) \n",
    "plt.xlabel(\"Time (hours)\", fontsize=15)\n",
    "plt.ylabel(\"pMLKL (normalized)\", fontsize=15)\n",
    "plt.xlim(xmin = 0, xmax = 16)\n",
    "plt.ylim(ymin = 0)\n",
    "plt.xticks(fontsize=14)\n",
    "plt.yticks(fontsize=14)\n",
    "right_side = ax.spines[\"right\"]\n",
    "right_side.set_visible(False)\n",
    "top = ax.spines[\"top\"]\n",
    "top.set_visible(False)\n",
    "ax.set_xticks([0, 5, 10, 15, 20, 24])\n",
    "ax.grid(False)\n",
    "plt.tight_layout()\n",
    "# plt.savefig('pmlkl_allpars_clus0_tnf100_noframe.pdf')\n",
    "plt.show() "
   ]
  },
  {
   "cell_type": "code",
   "execution_count": null,
   "metadata": {},
   "outputs": [],
   "source": [
    "mode1df_wtm1oe['MLKLa_obs'].max()"
   ]
  },
  {
   "cell_type": "code",
   "execution_count": null,
   "metadata": {},
   "outputs": [],
   "source": [
    "threshold1 = 2772\n",
    "threshold2 = 831\n",
    "threshold3 = 55440"
   ]
  },
  {
   "cell_type": "code",
   "execution_count": null,
   "metadata": {},
   "outputs": [],
   "source": [
    "df_threshtimeswt = mode1df_wtm1.groupby('simulation').apply(lambda x: (x > threshold1).idxmax()).apply(lambda x: [y[1] for y in x])\n",
    "df_threshtimeskd   = mode1df_wtm1kd.groupby('simulation').apply(lambda x: (x > threshold2).idxmax()).apply(lambda x: [y[1] for y in x])\n",
    "df_threshtimesoe = mode1df_wtm1oe.groupby('simulation').apply(lambda x: (x > threshold3).idxmax()).apply(lambda x: [y[1] for y in x])"
   ]
  },
  {
   "cell_type": "code",
   "execution_count": null,
   "metadata": {},
   "outputs": [],
   "source": [
    "mode2wt = pd.DataFrame({'KD': df_threshtimeskdnew['MLKLa_obs'],\n",
    "                       'species':'wt'})\n",
    "dfclus4 = pd.DataFrame(data = pd.DataFrame(mode2wt), columns = ['species','WT'])\n",
    "dfm4wt = pd.melt(dfclus4, id_vars=[\"species\"])"
   ]
  },
  {
   "cell_type": "code",
   "execution_count": null,
   "metadata": {},
   "outputs": [],
   "source": [
    "plt.figure()\n",
    "sns.stripplot(data=dfm4wt, y=\"species\", x=\"value\", hue=\"variable\", dodge=True, orient = 'h')\n",
    "plt.xlim(xmin = 1)\n",
    "plt.legend(loc = 'lower right')"
   ]
  },
  {
   "cell_type": "code",
   "execution_count": null,
   "metadata": {},
   "outputs": [],
   "source": [
    "mode2dfn = pd.DataFrame({'WT': df_threshtimeswt['MLKLa_obs'],\n",
    "                            'KD': df_threshtimeskd['MLKLa_obs'],\n",
    "                          'OE': df_threshtimesoe['MLKLa_obs'],\n",
    "                        'species': 'MLKL'})\n",
    "framesm4 = [mode2dfn]\n",
    "dfclus4 = pd.DataFrame(data = pd.concat(framesm4), columns = ['species','WT','KD','OE'])\n",
    "dfm4 = pd.melt(dfclus4, id_vars=[\"species\"])"
   ]
  },
  {
   "cell_type": "code",
   "execution_count": null,
   "metadata": {},
   "outputs": [],
   "source": [
    "import seaborn as sns\n",
    "plt.figure()\n",
    "sns.stripplot(data=dfm4, y=\"species\", x=\"value\", hue=\"variable\", dodge=True, \n",
    "              orient = 'h',linewidth=0.5,size=7)\n",
    "plt.xlim(xmin = 1)\n",
    "plt.legend(loc = 'lower right')"
   ]
  },
  {
   "cell_type": "code",
   "execution_count": null,
   "metadata": {},
   "outputs": [],
   "source": []
  },
  {
   "cell_type": "code",
   "execution_count": null,
   "metadata": {},
   "outputs": [],
   "source": [
    "for i,t in enumerate(np.linspace(0,1440,500)):\n",
    "    print(i,\":\",t)"
   ]
  },
  {
   "cell_type": "code",
   "execution_count": null,
   "metadata": {},
   "outputs": [],
   "source": [
    "sim_idx_a20ko = [idx for idx in range(len(all_pars)) if mode1df_wtm1['MLKLa_obs'][idx].iloc[193] < 2772]\n",
    "print(len(sim_idx_a20ko))"
   ]
  },
  {
   "cell_type": "code",
   "execution_count": null,
   "metadata": {},
   "outputs": [],
   "source": []
  },
  {
   "cell_type": "code",
   "execution_count": 36,
   "metadata": {},
   "outputs": [],
   "source": [
    "with open('necro_5720mode2mid_paramk229tnf100.txt', 'w') as f:\n",
    "   for p, v in zip(model.parameters, mode1wtm1.param_values[0]):\n",
    "       f.write('{},{:e}\\n'.format(p.name, v))"
   ]
  },
  {
   "cell_type": "code",
   "execution_count": 37,
   "metadata": {},
   "outputs": [],
   "source": [
    "def update_param_vals(model, newvals):\n",
    "    \"\"\"update the values of model parameters with the values from a dict.\n",
    "    the keys in the dict must match the parameter names\n",
    "    \"\"\"\n",
    "    update = []\n",
    "    noupdate = []\n",
    "    for i in model.parameters:\n",
    "        if i.name in newvals:\n",
    "            i.value = newvals[i.name]\n",
    "            update.append(i.name)\n",
    "        else:\n",
    "            noupdate.append(i.name)\n",
    "    return update, noupdate"
   ]
  },
  {
   "cell_type": "code",
   "execution_count": 40,
   "metadata": {},
   "outputs": [
    {
     "name": "stderr",
     "output_type": "stream",
     "text": [
      "2022-01-09 21:24:09.191 - pysb - INFO - Logging started on PySB version 1.11.0\n",
      "2022-01-09 21:24:09.193 - pysb - INFO - Log entry time offset from UTC: -6.00 hours\n"
     ]
    }
   ],
   "source": [
    "setup_logger(logging.INFO, file_output='necroclusters2large_5720.log', console_output=True)\n",
    "observable = 'MLKLa_obs'\n",
    "\n",
    "tspan = np.array([30, 90, 270, 480, 600, 720, 840, 960, 1080, 1200, 1320, 1440])\n",
    "\n",
    "def likelihood(mlkl_traj):\n",
    "    #Here we fit a spline to find where we get 50% release of MOMP reporter\n",
    "#     ysim_mlkl_norm = mlkl_traj/np.nanmax(mlkl_traj)\n",
    "    threshold = 2772\n",
    "    \n",
    "    st, sc, sk = scipy.interpolate.splrep(tspan, mlkl_traj)\n",
    "    \n",
    "    tspan2 = np.linspace(tspan[0], tspan[-1], 1000)\n",
    "    mlkl_traj2 = scipy.interpolate.splev(tspan2, (st, sc, sk))\n",
    "    for i in range(len(mlkl_traj2)):\n",
    "        if mlkl_traj2[i] > threshold:\n",
    "            td = tspan2[i]\n",
    "            break \n",
    "        if i == len(mlkl_traj2)-1:   \n",
    "            td = np.nan\n",
    "\n",
    "    return td\n",
    "\n",
    "# def likelihood(mlkl_traj):\n",
    "#     #Here we fit a spline to find where we get 50% release of MOMP reporter\n",
    "#     ysim_mlkl_norm = mlkl_traj / np.nanmax(mlkl_traj)\n",
    "#     st, sc, sk = scipy.interpolate.splrep(tspan, ysim_mlkl_norm)\n",
    "#     try:\n",
    "#         t10 = scipy.interpolate.sproot((st, sc - 0.10, sk))[0]\n",
    "#         t90 = scipy.interpolate.sproot((st, sc - 0.90, sk))[0]\n",
    "#     except IndexError:\n",
    "#         t10 = 0\n",
    "#         t90 = 0\n",
    "\n",
    "#     # time of death  = halfway point between 10 and 90%\n",
    "#     td = (t10 + t90) / 2\n",
    "\n",
    "#     return td\n",
    "\n",
    "def run():\n",
    "    vals = np.linspace(0.5, 1.5, 5)\n",
    "    new_params2 = pd.read_csv('necro_5720mode2mid_paramk229tnf100.txt',\n",
    "        index_col=0, names=['name', 'value']).to_dict('dict')['value']\n",
    "\n",
    "    update_param_vals(model, new_params2)\n",
    "\n",
    "    use_cupsoda = False\n",
    "    if use_cupsoda:\n",
    "        integrator_opt = {'rtol': 1e-6, 'atol': 1e-6, 'max_steps': 20000,\n",
    "                          'memory_usage': 'global', 'vol': 1e-19}\n",
    "        solver = CupSodaSimulator(model, t, verbose=True, gpu=0,\n",
    "                                  integrator_options=integrator_opt,\n",
    "                                  )\n",
    "    else:\n",
    "        integrator_opt_scipy = {'rtol': 1e-6, 'atol': 1e-6, 'mxstep': 20000}\n",
    "        solver = ScipyOdeSimulator(model, tspan=tspan, integrator='lsoda',\n",
    "                                   integrator_options=integrator_opt_scipy)\n",
    "    sens = InitialsSensitivity(\n",
    "        solver,\n",
    "        values_to_sample=vals,\n",
    "        observable=observable,\n",
    "        objective_function=likelihood, sens_type='initials')  #\n",
    "\n",
    "    sens.run('output_{}', out_dir=out_dir)\n",
    "    sens.create_heatplot(save_name='mode2k229heatinew', out_dir=out_dir)\n",
    "    InitialsSensitivity.create_boxplot(sens, save_name='mode2k229boxinew', out_dir=out_dir, show = True)\n",
    "#     sens.create_histogram(save_name='mode2k0boxinew', out_dir=out_dir)\n",
    "#     sens.create_individual_pairwise_plots(save_name='mode1k12inew', out_dir=out_dir)\n",
    "\n",
    "\n",
    "# if __name__ == '__main__':\n",
    "#     out_dir = 'clus0mnec1_5421'\n",
    "#     run()\n",
    "#     process()\n",
    "#     load()\n"
   ]
  },
  {
   "cell_type": "code",
   "execution_count": 41,
   "metadata": {},
   "outputs": [
    {
     "name": "stderr",
     "output_type": "stream",
     "text": [
      "2022-01-09 21:24:14.684 - pysb.simulator.scipyode - DEBUG - [model_files.nerm_pvals] Simulator created\n",
      "2022-01-09 21:24:15.372 - pysb.simulator.scipyode - DEBUG - [model_files.nerm_pvals] Simulator created\n",
      "2022-01-09 21:24:15.377 - pysb.simulator.scipyode - DEBUG - [model_files.nerm_pvals] Equation mode set to \"cython\"\n"
     ]
    },
    {
     "name": "stdout",
     "output_type": "stream",
     "text": [
      "\n"
     ]
    },
    {
     "name": "stderr",
     "output_type": "stream",
     "text": [
      "2022-01-09 21:24:15.887 - pysb.simulator.scipyode - INFO - [model_files.nerm_pvals] Simulation(s) started\n",
      "2022-01-09 21:24:15.930 - pysb.simulator.scipyode - DEBUG - [model_files.nerm_pvals] Single processor (serial) mode\n"
     ]
    },
    {
     "name": "stdout",
     "output_type": "stream",
     "text": [
      "\n"
     ]
    },
    {
     "name": "stderr",
     "output_type": "stream",
     "text": [
      "2022-01-09 21:24:16.096 - pysb.simulator.scipyode - INFO - [model_files.nerm_pvals] All simulation(s) complete\n",
      "2022-01-09 21:24:16.097 - pysb.simulator.scipyode - DEBUG - [model_files.nerm_pvals] SimulationResult constructor started\n",
      "2022-01-09 21:24:16.133 - pysb.simulator.scipyode - DEBUG - [model_files.nerm_pvals] SimulationResult constructor finished\n",
      "2022-01-09 21:24:16.135 - pysb.simulator.scipyode - INFO - [model_files.nerm_pvals] Simulation(s) started\n",
      "2022-01-09 21:24:16.283 - pysb.simulator.scipyode - DEBUG - [model_files.nerm_pvals] Multi-processor (parallel) mode using 20 processes\n",
      "2022-01-09 21:26:08.584 - pysb.simulator.scipyode - INFO - [model_files.nerm_pvals] All simulation(s) complete\n",
      "2022-01-09 21:26:08.586 - pysb.simulator.scipyode - DEBUG - [model_files.nerm_pvals] SimulationResult constructor started\n",
      "2022-01-09 21:26:09.461 - pysb.simulator.scipyode - DEBUG - [model_files.nerm_pvals] SimulationResult constructor finished\n"
     ]
    },
    {
     "name": "stdout",
     "output_type": "stream",
     "text": [
      "(14, 325)\n"
     ]
    },
    {
     "data": {
      "image/png": "[encoded data removed]",
      "text/plain": [
       "<Figure size 576x576 with 1 Axes>"
      ]
     },
     "metadata": {
      "needs_background": "light"
     },
     "output_type": "display_data"
    }
   ],
   "source": [
    "if __name__ == '__main__':\n",
    "    model_v = 'necro'\n",
    "    # all parameter fits from pso\n",
    "#     p_set = 'all_params_24_part_200_iter_2_bound_0.1_speed.csv'\n",
    "    params = pd.read_csv('necro_5720mode2mid_paramk229tnf100.txt',\n",
    "        index_col=0, names=['name', 'value']).to_dict('dict')['value']\n",
    "#     print(len(params))\n",
    "    # how many sens analysis to run\n",
    "    n_sets = 1\n",
    "\n",
    "    # spacing for sens analysis\n",
    "    vals = np.linspace(.5, 1.5, 5)\n",
    "\n",
    "    solver = ScipyOdeSimulator(model, tspan, integrator='lsoda',\n",
    "                               verbose=True,\n",
    "                               use_analytic_jacobian=True,\n",
    "                               compiler='cython',\n",
    "                               integrator_options={\"rtol\": 1e-6,\n",
    "                                                   \"atol\": 1e-6})\n",
    "    # The observable of the model\n",
    "    observable = 'MLKLa_obs'\n",
    "    sens = InitialsSensitivity(\n",
    "        values_to_sample=vals,\n",
    "        observable=observable,\n",
    "        objective_function=likelihood,\n",
    "        solver=solver,sens_type = 'initials'\n",
    "    )\n",
    "    out_dir = 'mode2_initials_k229_20per'\n",
    "#     out_dir = p_set.split(',')[0]\n",
    "#     if not os.path.exists(out_dir):\n",
    "#         os.mkdir(out_dir)\n",
    "    run()\n",
    "#     process()\n",
    "#     load()"
   ]
  },
  {
   "cell_type": "code",
   "execution_count": null,
   "metadata": {},
   "outputs": [],
   "source": []
  },
  {
   "cell_type": "code",
   "execution_count": null,
   "metadata": {},
   "outputs": [],
   "source": [
    "def process():\n",
    "    all_df = []\n",
    "    n = 1\n",
    "    sens.p_matrix = np.loadtxt(\n",
    "        os.path.join(out_dir, 'output_{}_p_matrix.csv'))\n",
    "    sens.p_prime_matrix = np.loadtxt(\n",
    "        os.path.join(out_dir, 'output_{}_p_prime_matrix.csv'))\n",
    "    x = [np.array(mat).flatten() for mat in\n",
    "         sens.sensitivity_multiset]\n",
    "    df = pd.DataFrame(\n",
    "        [{'name': i, 'values': v} for i, j in\n",
    "         zip(sens.index, x) for v in j])\n",
    "    # df = pd.DataFrame(df, columns=sens.index)\n",
    "    df['parameter_set'] = n\n",
    "    all_df.append(df)\n",
    "\n",
    "    all_df = pd.concat(all_df)\n",
    "    all_df.to_csv(\"mode2_initials_k18_test/sens_summary.csv\")"
   ]
  },
  {
   "cell_type": "code",
   "execution_count": null,
   "metadata": {},
   "outputs": [],
   "source": [
    "from IPython.core.interactiveshell import InteractiveShell\n",
    "InteractiveShell.ast_node_interactivity = \"last_expr_or_assign\""
   ]
  },
  {
   "cell_type": "code",
   "execution_count": null,
   "metadata": {
    "scrolled": true
   },
   "outputs": [],
   "source": [
    "plt.close('all')\n",
    "InitialsSensitivity.create_boxplot(x_axis_label=None, save_name=None,\n",
    "                                    out_dir=None, \n",
    "                                   show=False, infile = 'mode2_initials_k18_test2/mode2k18boxinew.csv',\n",
    "                                  names = [i[1].name for i in model.initial_conditions])"
   ]
  },
  {
   "cell_type": "code",
   "execution_count": null,
   "metadata": {},
   "outputs": [],
   "source": [
    "np.arange(5) "
   ]
  },
  {
   "cell_type": "code",
   "execution_count": null,
   "metadata": {},
   "outputs": [],
   "source": [
    "names= [i[1].name for i in model.initial_conditions]\n",
    "print(names)\n",
    "print(list(names))\n",
    "print(list(reversed(names)))\n",
    "print(list(range(len(names))))"
   ]
  },
  {
   "cell_type": "code",
   "execution_count": null,
   "metadata": {},
   "outputs": [],
   "source": [
    "names= [i[1].name for i in model.initial_conditions]\n",
    "print(names)\n",
    "print(list(reversed(names)))\n",
    "print(reversed(names))"
   ]
  },
  {
   "cell_type": "code",
   "execution_count": null,
   "metadata": {},
   "outputs": [],
   "source": [
    "N = 5\n",
    "menMeans = (20, 35, 30, 35, -27)\n",
    "womenMeans = (25, 32, 34, 20, -25)\n",
    "menStd = (2, 3, 4, 1, 2)\n",
    "womenStd = (3, 5, 2, 3, 3)\n",
    "ind = np.arange(N)    # the x locations for the groups\n",
    "width = 0.35       # the width of the bars: can also be len(x) sequence"
   ]
  },
  {
   "cell_type": "code",
   "execution_count": null,
   "metadata": {},
   "outputs": [],
   "source": [
    "matplotlib.__version__"
   ]
  },
  {
   "cell_type": "code",
   "execution_count": null,
   "metadata": {},
   "outputs": [],
   "source": [
    "!pip install matplotlib"
   ]
  },
  {
   "cell_type": "code",
   "execution_count": null,
   "metadata": {},
   "outputs": [],
   "source": [
    "fig, ax = plt.subplots()\n",
    "\n",
    "p1 = ax.bar(ind, menMeans, width, yerr=menStd, label='Men')\n",
    "p2 = ax.bar(ind, womenMeans, width,\n",
    "            bottom=menMeans, yerr=womenStd, label='Women')\n",
    "\n",
    "ax.axhline(0, color='grey', linewidth=0.8)\n",
    "ax.set_ylabel('Scores')\n",
    "ax.set_title('Scores by group and gender')\n",
    "ax.set_xticks(ind, labels=['G1', 'G2', 'G3', 'G4', 'G5'])\n",
    "ax.legend()\n",
    "\n",
    "# Label with label_type 'center' instead of the default 'edge'\n",
    "ax.bar_label(p1, label_type='center')\n",
    "ax.bar_label(p2, label_type='center')\n",
    "ax.bar_label(p2)\n",
    "\n",
    "plt.show()"
   ]
  },
  {
   "cell_type": "code",
   "execution_count": null,
   "metadata": {},
   "outputs": [],
   "source": [
    "import seaborn as sns\n",
    "def load():\n",
    "    all_df = pd.read_csv(\"mode2_initials_k18_test/sens_summary.csv\", index_col=0)\n",
    "    subset = False\n",
    "    if subset:\n",
    "        all_df = all_df.loc[all_df.name.isin(sample_list)]\n",
    "        savename_prefix = 'subset'\n",
    "    # sort by std\n",
    "    order = all_df.groupby('name')['values'].std().sort_values().index.values\n",
    "    order = list(reversed(order))\n",
    "    # print(list(order))\n",
    "    plot_all = True\n",
    "    sns.set(font_scale=2)\n",
    "    if plot_all:\n",
    "        plt.figure(figsize=(16, 6))\n",
    "        plt.boxplot(x='name', y='values', data=all_df,\n",
    "            scale=\"count\", cut=0, order=order)\n",
    "        plt.xticks(b.get_xticks(), order, rotation=45)\n",
    "        plt.xlabel(\"Model\")\n",
    "        plt.tight_layout()\n",
    "        savename = 'boxplot_all_{}'.format(model_v)\n",
    "        if subset:\n",
    "            savename = savename_prefix + savename\n",
    "        plt.savefig(\"{}.png\".format(savename), bbox_inches='tight')\n",
    "        plt.savefig(\"{}.pdf\".format(savename), bbox_inches='tight')\n",
    "        plt.show()\n",
    "    plot_each = True\n",
    "    if plot_each:\n",
    "        sns.catplot(\n",
    "            x='parameter_set', y='values',\n",
    "            col=\"name\", col_wrap=4,\n",
    "            col_order=order,\n",
    "            data=all_df, kind=\"violin\",\n",
    "            scale=\"count\", cut=0,\n",
    "            height=2., aspect=2,  split=True,\n",
    "\n",
    "        )\n",
    "        plt.xticks([])\n",
    "        plt.tight_layout()\n",
    "        savename = 'violin_each_{}'.format(model_v)\n",
    "        if subset:\n",
    "            savename = savename_prefix + savename\n",
    "        plt.savefig(\"{}.png\".format(savename), bbox_inches='tight')\n",
    "        plt.savefig(\"{}.pdf\".format(savename), bbox_inches='tight')\n",
    "        plt.show()"
   ]
  },
  {
   "cell_type": "code",
   "execution_count": null,
   "metadata": {},
   "outputs": [],
   "source": []
  },
  {
   "cell_type": "code",
   "execution_count": null,
   "metadata": {},
   "outputs": [],
   "source": []
  }
 ],
 "metadata": {
  "kernelspec": {
   "display_name": "Python 3",
   "language": "python",
   "name": "python3"
  },
  "language_info": {
   "codemirror_mode": {
    "name": "ipython",
    "version": 3
   },
   "file_extension": ".py",
   "mimetype": "text/x-python",
   "name": "python",
   "nbconvert_exporter": "python",
   "pygments_lexer": "ipython3",
   "version": "3.7.5"
  }
 },
 "nbformat": 4,
 "nbformat_minor": 2
}
