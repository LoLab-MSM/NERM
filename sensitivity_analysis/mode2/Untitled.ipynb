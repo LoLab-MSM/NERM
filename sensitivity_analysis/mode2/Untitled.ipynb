{
 "cells": [
  {
   "cell_type": "code",
   "execution_count": 1,
   "metadata": {},
   "outputs": [],
   "source": [
    "import os\n",
    "from pylab import *\n",
    "from pysb.core import *\n",
    "from pysb.bng import *\n",
    "from pysb.integrate import *\n",
    "import matplotlib.pyplot as plt\n",
    "import numpy as np\n",
    "from pysb.util import alias_model_components\n",
    "from pysb.simulator import CupSodaSimulator\n",
    "from pysb.simulator import ScipyOdeSimulator\n",
    "from pysb.simulator.bng import BngSimulator\n",
    "import sys\n",
    "sys.path.append('../')\n",
    "sys.path.append('/home/ildefog/main/Projects/NERM/')\n",
    "sys.path.append('/home/ildefog/main/Projects/NERM/param_files/')\n",
    "from model_files.nerm_pvals import model \n",
    "import pandas as pd\n",
    "from scipy import stats\n",
    "from pysb.simulator import SimulationResult\n",
    "import logging\n",
    "import os\n",
    "from pysb.logging import setup_logger\n",
    "from pysb.simulator.cupsoda import CupSodaSimulator\n",
    "from pysb.simulator.scipyode import ScipyOdeSimulator\n",
    "from sensitivity_analysis4 import InitialsSensitivity\n",
    "from pysb.util import update_param_vals\n",
    "from scipy.stats import norm,uniform, halfnorm\n",
    "from pysb.tools.sensitivity_analysis import PairwiseSensitivity\n",
    "os.environ['OMP_NUM_THREADS'] = '1'\n",
    "from scipy.optimize import curve_fit"
   ]
  },
  {
   "cell_type": "code",
   "execution_count": 2,
   "metadata": {},
   "outputs": [
    {
     "name": "stdout",
     "output_type": "stream",
     "text": [
      "(14, 325)\n"
     ]
    },
    {
     "data": {
      "image/png": "[encoded data removed]",
      "text/plain": [
       "<Figure size 576x576 with 1 Axes>"
      ]
     },
     "execution_count": 2,
     "metadata": {},
     "output_type": "execute_result"
    }
   ],
   "source": [
    "InitialsSensitivity.create_boxplot(x_axis_label=None, save_name='mode2_k229_boxplot',\n",
    "                                    out_dir='../figures/boxplots/initials', \n",
    "                                   show=False, infile = '../mode2/mode2_initials_k229_20per/mode2k229boxinew.csv',\n",
    "                                  names = [i[1].name for i in model.initial_conditions])"
   ]
  },
  {
   "cell_type": "code",
   "execution_count": null,
   "metadata": {},
   "outputs": [],
   "source": [
    "InitialsSensitivity.create_boxplotp(x_axis_label=None, save_name='mode3_k17_boxplot',\n",
    "                                    out_dir='../figures/boxplots/rate_constants', \n",
    "                                   show=False, infile = '../mode3/mode3_params_k17/mode3k17boxpneww.csv',\n",
    "                                  names = [i.name for i in model.parameters_rules()])"
   ]
  },
  {
   "cell_type": "code",
   "execution_count": null,
   "metadata": {},
   "outputs": [],
   "source": [
    "InitialsSensitivity.create_boxplotp(x_axis_label=None, save_name='mode4_k6midp_boxplot',\n",
    "                                    out_dir='../figures/boxplots/rate_constants', \n",
    "                                   show=False, infile = '../mode4/mode4_params_k6_mid/mode4k6boxpnew.csv',\n",
    "                                  names = [i.name for i in model.parameters_rules()])"
   ]
  },
  {
   "cell_type": "code",
   "execution_count": null,
   "metadata": {},
   "outputs": [],
   "source": [
    "InitialsSensitivity.create_boxplot(x_axis_label=None, save_name='mode1_k12_boxplot',\n",
    "                                    out_dir='../figures/boxplots/initials', \n",
    "                                   show=False, infile = '../mode1/mode1_initials_k12/mode1k12boxinew.csv',\n",
    "                                  names = [i[1].name for i in model.initial_conditions])"
   ]
  },
  {
   "cell_type": "code",
   "execution_count": null,
   "metadata": {},
   "outputs": [],
   "source": [
    "InitialsSensitivity.create_boxplot(x_axis_label=None, save_name='mode2_k18_boxplot',\n",
    "                                    out_dir='../figures/boxplots/initials', \n",
    "                                   show=False, infile = '../mode2/mode2_initials_k18_test2/mode2k18boxinew.csv',\n",
    "                                  names = [i[1].name for i in model.initial_conditions])"
   ]
  },
  {
   "cell_type": "code",
   "execution_count": null,
   "metadata": {},
   "outputs": [],
   "source": [
    "InitialsSensitivity.create_boxplot(x_axis_label=None, save_name='mode3_k17_boxplot',\n",
    "                                    out_dir='../figures/boxplots/initials', \n",
    "                                   show=False, infile = '../mode3/mode3_initials_k17/mode3k17boxinew.csv',\n",
    "                                  names = [i[1].name for i in model.initial_conditions])"
   ]
  },
  {
   "cell_type": "code",
   "execution_count": null,
   "metadata": {},
   "outputs": [],
   "source": [
    "InitialsSensitivity.create_boxplot(x_axis_label=None, save_name='mode4_k6_boxplot',\n",
    "                                    out_dir='../figures/boxplots/initials', \n",
    "                                   show=False, infile = '../mode4/mode4_initials_k6_mid/mode4k6boxinew.csv',\n",
    "                                  names = [i[1].name for i in model.initial_conditions])"
   ]
  },
  {
   "cell_type": "code",
   "execution_count": null,
   "metadata": {},
   "outputs": [],
   "source": []
  }
 ],
 "metadata": {
  "kernelspec": {
   "display_name": "Python 3",
   "language": "python",
   "name": "python3"
  },
  "language_info": {
   "codemirror_mode": {
    "name": "ipython",
    "version": 3
   },
   "file_extension": ".py",
   "mimetype": "text/x-python",
   "name": "python",
   "nbconvert_exporter": "python",
   "pygments_lexer": "ipython3",
   "version": "3.7.5"
  }
 },
 "nbformat": 4,
 "nbformat_minor": 2
}
