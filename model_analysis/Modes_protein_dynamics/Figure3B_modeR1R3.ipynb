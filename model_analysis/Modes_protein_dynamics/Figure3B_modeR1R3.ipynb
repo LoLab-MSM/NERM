{
 "cells": [
  {
   "cell_type": "code",
   "execution_count": null,
   "metadata": {},
   "outputs": [],
   "source": [
    "import sys \n",
    "# sys.path.append('/Users/geenaildefonso/Projects/NERM')\n",
    "sys.path.append('../../')\n",
    "sys.path.append('/home/ildefog/main/NERM_new/')\n",
    "# print(sys.path)\n",
    "from model_files.nerm_pvals_inits_moder1r3 import model \n",
    "# from model_files.nerm import model \n",
    "# from model_files.nerm_pvals import model as model\n",
    "import seaborn as sns\n",
    "import numpy as np\n",
    "from matplotlib import pyplot as plt\n",
    "from pysb.simulator import ScipyOdeSimulator\n",
    "import numpy as np\n",
    "from scipy.stats import norm,uniform\n",
    "import seaborn as sns\n",
    "from matplotlib import pyplot as plt\n",
    "import random\n",
    "import os\n",
    "from pylab import *\n",
    "from pysb.core import *\n",
    "from pysb.bng import *\n",
    "from pysb.integrate import *\n",
    "# from pysb.util import alias_model_components\n",
    "from scipy import stats\n",
    "from pysb.simulator import SimulationResult\n",
    "import pandas as pd\n",
    "import seaborn as sns\n",
    "os.environ[\"OPENBLAS_NUM_THREADS\"] = \"1\""
   ]
  },
  {
   "cell_type": "code",
   "execution_count": null,
   "metadata": {},
   "outputs": [],
   "source": [
    "m1 = np.load('../../parameter_files/necro_pars10k_mode1_5720_modr1r3.npy')\n",
    "m2 = np.load('../../parameter_files/necro_pars10k_mode2_5720_modr1r3.npy')\n",
    "m3 = np.load('../../parameter_files/necro_pars10k_mode3_5720_modr1r3.npy')\n",
    "m4 = np.load('../../parameter_files/necro_pars10k_mode4_5720_modr1r3.npy')"
   ]
  },
  {
   "cell_type": "code",
   "execution_count": null,
   "metadata": {},
   "outputs": [],
   "source": [
    "tspan = np.linspace(0, 1800, 500)\n",
    "m = model.components"
   ]
  },
  {
   "cell_type": "code",
   "execution_count": null,
   "metadata": {},
   "outputs": [],
   "source": [
    "solverwt1 = ScipyOdeSimulator(model, tspan=tspan, verbose = True)\n",
    "wtclus1 = solverwt1.run(param_values=m1, num_processors = 20)\n",
    "m1df100wt1 = wtclus1.dataframe"
   ]
  },
  {
   "cell_type": "code",
   "execution_count": null,
   "metadata": {},
   "outputs": [],
   "source": [
    "#REMEMBER ME\n",
    "x = np.array([0, 30, 90, 270,480, 720, 960])\n",
    "y100 = np.array([0, 0.00885691708746097,0.0161886154261265,0.0373005242261882, 0.2798939020159581, .7797294067, 0.98])\n",
    "fig, ax = plt.subplots(figsize = (6, 4))\n",
    "for axis in ['top','bottom','left','right']:\n",
    "    ax.spines[axis].set_linewidth(1.5)\n",
    "for n in range(len(m1)):\n",
    "    plt.plot(tspan/60, m1df100wt1.loc[n]['MLKLa_obs'].iloc[:]/5544,\n",
    "             color = 'red', lw=2)\n",
    "plt.xlabel(\"Time (h)\", fontsize=20)\n",
    "plt.ylabel(r\"[pMLKL] / [pMLKL]$_\\mathrm{max}$\", fontsize=20)\n",
    "plt.xlim(xmin = 0, xmax = 16)\n",
    "plt.ylim(ymin = 0)\n",
    "plt.xticks(fontsize=20)\n",
    "plt.yticks(fontsize=20)\n",
    "right_side = ax.spines[\"right\"]\n",
    "right_side.set_visible(False)\n",
    "top = ax.spines[\"top\"]\n",
    "top.set_visible(False)\n",
    "ax.grid(False)\n",
    "ax.set_xticks([0, 5, 10, 15, 20, 24])\n",
    "ax.set_yticks([0, 0.5, 1.0])\n",
    "plt.plot(x/60, y100, 'o', color = 'black', ms = 10)\n",
    "# ax.legend(loc='center left', bbox_to_anchor=(1, 0.5))\n",
    "# ax.legend(loc='upper center', bbox_to_anchor=(0.5, 1.05),\n",
    "#           ncol=3, fancybox=True, shadow=True)\n",
    "plt.tight_layout()\n",
    "# plt.savefig('mode1_pmlkl_allpars_redcolor_nogridwdata.pdf')\n",
    "plt.show() "
   ]
  },
  {
   "cell_type": "code",
   "execution_count": null,
   "metadata": {},
   "outputs": [],
   "source": [
    "solverwt2 = ScipyOdeSimulator(model, tspan=tspan, verbose = True)\n",
    "wtclus2 = solverwt2.run(param_values=m2, num_processors = 20)\n",
    "m2df100wt2 = wtclus2.dataframe"
   ]
  },
  {
   "cell_type": "code",
   "execution_count": null,
   "metadata": {},
   "outputs": [],
   "source": [
    "x = np.array([0, 30, 90, 270,480, 720, 960])\n",
    "y100 = np.array([0, 0.00885691708746097,0.0161886154261265,0.0373005242261882, 0.2798939020159581, .7797294067, 0.98])\n",
    "fig, ax = plt.subplots(figsize = (6, 4))\n",
    "for n in range(len(m2)):\n",
    "    plt.plot(tspan/60, m2df100wt2.loc[n]['MLKLa_obs'].iloc[:]/5544, lw=1.5, color = 'darkorange',\n",
    "             zorder = 1)\n",
    "# colormap = plt.cm.Reds #nipy_spectral, Set1,Paired   \n",
    "# colors = [colormap(i) for i in np.linspace(0, 1,len(ax.lines))]\n",
    "# for i,j in enumerate(ax.lines):\n",
    "#     j.set_color(colors[i])\n",
    "# ax1.legend(loc=2)    \n",
    "plt.xlabel(\"Time (h)\", fontsize=20)\n",
    "plt.ylabel(r\"[pMLKL] / [pMLKL]$_\\mathrm{max}$\", fontsize=20)\n",
    "plt.xlim(xmin = 0, xmax = 16)\n",
    "plt.ylim(ymin = 0)\n",
    "plt.xticks(fontsize=20)\n",
    "plt.yticks(fontsize=20)\n",
    "right_side = ax.spines[\"right\"]\n",
    "right_side.set_visible(False)\n",
    "top = ax.spines[\"top\"]\n",
    "top.set_visible(False)\n",
    "ax.grid(False)\n",
    "plt.plot(x/60, y100, 'o', color = 'black', ms = 10)\n",
    "ax.set_xticks([0, 5, 10, 15, 20, 24])\n",
    "ax.set_yticks([0, 0.5, 1.0])\n",
    "plt.tight_layout()\n",
    "# plt.savefig('pmlkl_allpars_mode2was4_tnf100_nogridlightsalmonwdata.pdf')\n",
    "plt.show() "
   ]
  },
  {
   "cell_type": "code",
   "execution_count": null,
   "metadata": {},
   "outputs": [],
   "source": [
    "solverwt3 = ScipyOdeSimulator(model, tspan=tspan, verbose = True)\n",
    "wtclus3 = solverwt3.run(param_values=m3, num_processors = 20)\n",
    "m3df100wt3 = wtclus3.dataframe"
   ]
  },
  {
   "cell_type": "code",
   "execution_count": null,
   "metadata": {},
   "outputs": [],
   "source": [
    "x = np.array([0, 30, 90, 270,480, 720, 960])\n",
    "y100 = np.array([0, 0.00885691708746097,0.0161886154261265,0.0373005242261882, 0.2798939020159581, .7797294067, 0.98])\n",
    "fig, ax = plt.subplots(figsize = (6, 4))\n",
    "for axis in ['top','bottom','left','right']:\n",
    "    ax.spines[axis].set_linewidth(1.5)\n",
    "for n in range(len(m3)):\n",
    "    plt.plot(tspan/60, m3df100wt3.loc[n]['MLKLa_obs'].iloc[:]/5544, lw=1.5, \n",
    "             zorder = 1, color = 'blue')\n",
    "# colormap = plt.cm.Reds #nipy_spectral, Set1,Paired   \n",
    "# colors = [colormap(i) for i in np.linspace(0, 1,len(ax.lines))]\n",
    "# for i,j in enumerate(ax.lines):\n",
    "#     j.set_color(colors[i])\n",
    "# ax1.legend(loc=2)    \n",
    "plt.xlabel(\"Time (h)\", fontsize=20)\n",
    "plt.ylabel(r\"[pMLKL] / [pMLKL]$_\\mathrm{max}$\", fontsize=20)\n",
    "plt.xlim(xmin = 0, xmax = 16)\n",
    "plt.ylim(ymin = 0)\n",
    "plt.xticks(fontsize=20)\n",
    "plt.yticks(fontsize=20)\n",
    "right_side = ax.spines[\"right\"]\n",
    "right_side.set_visible(False)\n",
    "top = ax.spines[\"top\"]\n",
    "top.set_visible(False)\n",
    "ax.grid(False)\n",
    "ax.set_xticks([0, 5, 10, 15, 20, 24])\n",
    "ax.set_yticks([0, 0.5, 1.0])\n",
    "plt.plot(x/60, y100, 'o', color = 'black', ms = 10)\n",
    "plt.tight_layout()\n",
    "# plt.savefig('mode4_pmlkl_allpars_bluecolor_nogridwdata.pdf')\n",
    "plt.show() "
   ]
  },
  {
   "cell_type": "code",
   "execution_count": null,
   "metadata": {},
   "outputs": [],
   "source": [
    "solverwt4 = ScipyOdeSimulator(model, tspan=tspan, verbose = True)\n",
    "wtclus4 = solverwt4.run(param_values=m4, num_processors = 20)\n",
    "m4df100wt4 = wtclus4.dataframe"
   ]
  },
  {
   "cell_type": "code",
   "execution_count": null,
   "metadata": {},
   "outputs": [],
   "source": [
    "#NEED FOR FIGURE 3B\n",
    "x = np.array([0, 30, 90, 270,480, 720, 960])\n",
    "y100 = np.array([0, 0.00885691708746097,0.0161886154261265,0.0373005242261882, 0.2798939020159581, .7797294067, 0.98])\n",
    "fig, ax = plt.subplots(figsize = (6, 4))\n",
    "for axis in ['top','bottom','left','right']:\n",
    "    ax.spines[axis].set_linewidth(1.5)\n",
    "for n in range(len(m4)):\n",
    "    plt.plot(tspan/60, m4df100wt4.loc[n]['MLKLa_obs'].iloc[:]/5544,\n",
    "             color = 'darkgreen', lw=2)\n",
    "plt.xlabel(\"Time (h)\", fontsize=20)\n",
    "plt.ylabel(\"pMLKL/pMLKL_max\", fontsize=20)\n",
    "plt.xlim(xmin = 0, xmax = 16)\n",
    "plt.ylim(ymin = 0)\n",
    "plt.xticks(fontsize=20)\n",
    "plt.yticks(fontsize=20)\n",
    "right_side = ax.spines[\"right\"]\n",
    "right_side.set_visible(False)\n",
    "top = ax.spines[\"top\"]\n",
    "top.set_visible(False)\n",
    "ax.grid(False)\n",
    "ax.set_xticks([0, 5, 10, 15, 20, 24])\n",
    "ax.set_yticks([0, 0.5, 1.0])\n",
    "plt.plot(x/60, y100, 'o', color = 'black', ms = 10)\n",
    "# ax.legend(loc='center left', bbox_to_anchor=(1, 0.5))\n",
    "# ax.legend(loc='upper center', bbox_to_anchor=(0.5, 1.05),\n",
    "#           ncol=3, fancybox=True, shadow=True)\n",
    "plt.tight_layout()\n",
    "# plt.savefig('mode3_pmlkl_allpars_medaquacolor_nogridwdata.pdf')\n",
    "plt.show() "
   ]
  },
  {
   "cell_type": "code",
   "execution_count": null,
   "metadata": {},
   "outputs": [],
   "source": []
  }
 ],
 "metadata": {
  "kernelspec": {
   "display_name": "Python 3",
   "language": "python",
   "name": "python3"
  },
  "language_info": {
   "codemirror_mode": {
    "name": "ipython",
    "version": 3
   },
   "file_extension": ".py",
   "mimetype": "text/x-python",
   "name": "python",
   "nbconvert_exporter": "python",
   "pygments_lexer": "ipython3",
   "version": "3.7.5"
  }
 },
 "nbformat": 4,
 "nbformat_minor": 2
}
