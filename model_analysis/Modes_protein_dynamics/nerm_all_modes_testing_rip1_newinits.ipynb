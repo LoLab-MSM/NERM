{
 "cells": [
  {
   "cell_type": "code",
   "execution_count": 1,
   "metadata": {},
   "outputs": [],
   "source": [
    "import os\n",
    "from pylab import *\n",
    "from pysb.core import *\n",
    "from pysb.bng import *\n",
    "from pysb.integrate import *\n",
    "import matplotlib.pyplot as plt\n",
    "import numpy as np\n",
    "from pysb.util import alias_model_components\n",
    "from pysb.simulator import CupSodaSimulator\n",
    "from pysb.simulator import ScipyOdeSimulator\n",
    "from pysb.simulator.bng import BngSimulator\n",
    "import sys\n",
    "sys.path.append('../')\n",
    "sys.path.append('/home/ildefog/main/Projects/NERM/')\n",
    "sys.path.append('/home/ildefog/main/Projects/NERM/param_files/')\n",
    "from model_files.nerm_pvals_inits import model \n",
    "import pandas as pd\n",
    "from scipy import stats\n",
    "from pysb.simulator import SimulationResult\n",
    "import logging\n",
    "import os\n",
    "from pysb.logging import setup_logger\n",
    "from pysb.simulator.cupsoda import CupSodaSimulator\n",
    "from pysb.simulator.scipyode import ScipyOdeSimulator\n",
    "# from sensitivity_analysis4 import InitialsSensitivity\n",
    "from pysb.util import update_param_vals\n",
    "from scipy.stats import norm,uniform, halfnorm\n",
    "os.environ['OMP_NUM_THREADS'] = '1'\n",
    "from scipy.optimize import curve_fit\n",
    "import seaborn as sns"
   ]
  },
  {
   "cell_type": "code",
   "execution_count": 2,
   "metadata": {},
   "outputs": [
    {
     "data": {
      "text/plain": [
       "[(A20(brip=None), Parameter('A20_0', 9075.0)),\n",
       " (C8(bf=None, flip=None, state='I'), Parameter('C8_0', 3799.0)),\n",
       " (cIAP(btraf=None), Parameter('cIAP_0', 8986.0)),\n",
       " (CYLD(brip=None, btraf=None), Parameter('CYLD_0', 9075.0)),\n",
       " (FADD(bDD=None, bDED1=None, bDED2=None), Parameter('FADD_0', 3109.0)),\n",
       " (FLIP(bDED=None, state='A'), Parameter('FLIP_0', 3910.0)),\n",
       " (LUBAC(brip=None), Parameter('LUBAC_0', 7226.0)),\n",
       " (MLKL(bRHIM=None, state='unmod'), Parameter('MLKLa_0', 5544.0)),\n",
       " (RIP1(bscf=None, bub1=None, bub2=None, bub3=None, bDD=None, btraf=None, bRHIM=None, bMLKL=None, state='unmod'),\n",
       "  Parameter('RIP1_0', 22044.0)),\n",
       " (RIP3(bRHIM=None, bDD=None, state='unmod'), Parameter('RIP3_0', 10654.0)),\n",
       " (TNF(brec=None), Parameter('TNF_0', 2326.0)),\n",
       " (TNFR(blig=None, brip=None, bDD=None), Parameter('TNFR_0', 4809.0)),\n",
       " (TRADD(brec=None, brip=None, state='unmod', bDD1=None, bDD2=None),\n",
       "  Parameter('TRADD_0', 4696.0)),\n",
       " (TRAF(brip=None, bciap=None, bcyld=None, state='unmod'),\n",
       "  Parameter('TRAF_0', 11776.0))]"
      ]
     },
     "execution_count": 2,
     "metadata": {},
     "output_type": "execute_result"
    }
   ],
   "source": [
    "list(model.initial_conditions)"
   ]
  },
  {
   "cell_type": "code",
   "execution_count": 9,
   "metadata": {},
   "outputs": [],
   "source": [
    "c0old = np.load('../../sensitivity_analysis/NecroptosisSens/cluster0/necro_pars10k_cluster0_5720_mod.npy')[:,14:]\n",
    "c0 = np.load('../../param_files/necro_pars10k_cluster1_5720_modwo5.npy')[:,14:]\n",
    "c1 = np.load('../../sensitivity_analysis/NecroptosisSens/cluster1/necro_pars10k_cluster1_5720_mod.npy')[:,14:]\n",
    "c2 = np.load('../../sensitivity_analysis/NecroptosisSens/cluster2/necro_pars10k_cluster2_5720_mod.npy')[:,14:]\n",
    "c3 = np.load('../../sensitivity_analysis/NecroptosisSens/cluster3/necro_pars10k_cluster3_5720_mod.npy')[:,14:]"
   ]
  },
  {
   "cell_type": "code",
   "execution_count": 10,
   "metadata": {},
   "outputs": [
    {
     "name": "stdout",
     "output_type": "stream",
     "text": [
      "3644\n"
     ]
    }
   ],
   "source": [
    "print(len(c0old))"
   ]
  },
  {
   "cell_type": "code",
   "execution_count": null,
   "metadata": {},
   "outputs": [],
   "source": [
    "print(c3[0])"
   ]
  },
  {
   "cell_type": "code",
   "execution_count": 4,
   "metadata": {},
   "outputs": [],
   "source": [
    "c3extra = np.load('../../param_files/most_likely_par_10k_necropydream_may72020_667extra.npy')\n",
    "c3extra = 10**c3extra"
   ]
  },
  {
   "cell_type": "code",
   "execution_count": null,
   "metadata": {},
   "outputs": [],
   "source": [
    "print(c3all[0])"
   ]
  },
  {
   "cell_type": "code",
   "execution_count": null,
   "metadata": {},
   "outputs": [],
   "source": [
    "print(all_parsc3all[0])"
   ]
  },
  {
   "cell_type": "code",
   "execution_count": null,
   "metadata": {},
   "outputs": [],
   "source": [
    "print(list(model.initial_conditions))"
   ]
  },
  {
   "cell_type": "code",
   "execution_count": 5,
   "metadata": {},
   "outputs": [],
   "source": [
    "c3all = np.concatenate([c3,c3extra])"
   ]
  },
  {
   "cell_type": "code",
   "execution_count": null,
   "metadata": {},
   "outputs": [],
   "source": [
    "print(c3all[3400])"
   ]
  },
  {
   "cell_type": "code",
   "execution_count": null,
   "metadata": {},
   "outputs": [],
   "source": [
    "list(model.initial_conditions)"
   ]
  },
  {
   "cell_type": "code",
   "execution_count": 6,
   "metadata": {},
   "outputs": [
    {
     "name": "stdout",
     "output_type": "stream",
     "text": [
      "3489\n"
     ]
    }
   ],
   "source": [
    "n_pars = len(c3all)\n",
    "all_parsc3all = np.zeros((n_pars, len(model.parameters)))\n",
    "\n",
    "rate_params = model.parameters_rules()\n",
    "param_values = np.array([p.value for p in model.parameters])\n",
    "rate_mask = np.array([p in rate_params for p in model.parameters])\n",
    "\n",
    "for i in range(n_pars):\n",
    "    par = c3all[i]\n",
    "    param_values[rate_mask] = par\n",
    "    all_parsc3all[i] = param_values\n",
    "print(len(all_parsc3all))    "
   ]
  },
  {
   "cell_type": "code",
   "execution_count": 24,
   "metadata": {},
   "outputs": [],
   "source": [
    "np.save('../../params_testing/necro_pars10k_mode1_5720_mod.npy', all_pars0)\n",
    "np.save('../../params_testing/necro_pars10k_mode2_5720_mod.npy', all_parsc3all)\n",
    "np.save('../../params_testing/necro_pars10k_mode3_5720_mod.npy',all_pars2)\n",
    "np.save('../../params_testing/necro_pars10k_mode4_5720_mod.npy',all_pars1)"
   ]
  },
  {
   "cell_type": "code",
   "execution_count": 7,
   "metadata": {},
   "outputs": [
    {
     "name": "stdout",
     "output_type": "stream",
     "text": [
      "3605\n"
     ]
    }
   ],
   "source": [
    "n_pars = len(c0)\n",
    "all_pars0 = np.zeros((n_pars, len(model.parameters)))\n",
    "\n",
    "rate_params = model.parameters_rules()\n",
    "param_values = np.array([p.value for p in model.parameters])\n",
    "rate_mask = np.array([p in rate_params for p in model.parameters])\n",
    "\n",
    "for i in range(n_pars):\n",
    "    par = c0[i]\n",
    "    param_values[rate_mask] = par\n",
    "    all_pars0[i] = param_values\n",
    "print(len(all_pars0))    "
   ]
  },
  {
   "cell_type": "code",
   "execution_count": null,
   "metadata": {},
   "outputs": [],
   "source": [
    "all_pars0[0]"
   ]
  },
  {
   "cell_type": "code",
   "execution_count": 11,
   "metadata": {},
   "outputs": [
    {
     "name": "stdout",
     "output_type": "stream",
     "text": [
      "1492\n"
     ]
    }
   ],
   "source": [
    "n_pars = len(c1)\n",
    "all_pars1 = np.zeros((n_pars, len(model.parameters)))\n",
    "\n",
    "rate_params = model.parameters_rules()\n",
    "param_values = np.array([p.value for p in model.parameters])\n",
    "rate_mask = np.array([p in rate_params for p in model.parameters])\n",
    "\n",
    "for i in range(n_pars):\n",
    "    par = c1[i]\n",
    "    param_values[rate_mask] = par\n",
    "    all_pars1[i] = param_values\n",
    "print(len(all_pars1))        "
   ]
  },
  {
   "cell_type": "code",
   "execution_count": 12,
   "metadata": {},
   "outputs": [
    {
     "name": "stdout",
     "output_type": "stream",
     "text": [
      "2042\n"
     ]
    }
   ],
   "source": [
    "n_pars = len(c2)\n",
    "all_pars2 = np.zeros((n_pars, len(model.parameters)))\n",
    "\n",
    "rate_params = model.parameters_rules()\n",
    "param_values = np.array([p.value for p in model.parameters])\n",
    "rate_mask = np.array([p in rate_params for p in model.parameters])\n",
    "\n",
    "for i in range(n_pars):\n",
    "    par = c2[i]\n",
    "    param_values[rate_mask] = par\n",
    "    all_pars2[i] = param_values\n",
    "print(len(all_pars2))    "
   ]
  },
  {
   "cell_type": "code",
   "execution_count": 13,
   "metadata": {},
   "outputs": [
    {
     "name": "stdout",
     "output_type": "stream",
     "text": [
      "2822\n"
     ]
    }
   ],
   "source": [
    "n_pars = len(c3)\n",
    "all_pars3 = np.zeros((n_pars, len(model.parameters)))\n",
    "\n",
    "rate_params = model.parameters_rules()\n",
    "param_values = np.array([p.value for p in model.parameters])\n",
    "rate_mask = np.array([p in rate_params for p in model.parameters])\n",
    "\n",
    "for i in range(n_pars):\n",
    "    par = c3[i]\n",
    "    param_values[rate_mask] = par\n",
    "    all_pars3[i] = param_values\n",
    "print(len(all_pars3))    "
   ]
  },
  {
   "cell_type": "code",
   "execution_count": 14,
   "metadata": {},
   "outputs": [],
   "source": [
    "tspan = np.linspace(0,1800, 500)"
   ]
  },
  {
   "cell_type": "code",
   "execution_count": 15,
   "metadata": {},
   "outputs": [
    {
     "name": "stderr",
     "output_type": "stream",
     "text": [
      "2022-01-12 15:54:35.018 - pysb.simulator.scipyode - DEBUG - [model_files.nerm_pvals_inits] Simulator created\n",
      "2022-01-12 15:54:35.811 - pysb.simulator.scipyode - DEBUG - [model_files.nerm_pvals_inits] Equation mode set to \"cython\"\n",
      "2022-01-12 15:54:35.914 - pysb.simulator.scipyode - INFO - [model_files.nerm_pvals_inits] Simulation(s) started\n",
      "2022-01-12 15:54:36.125 - pysb.simulator.scipyode - DEBUG - [model_files.nerm_pvals_inits] Multi-processor (parallel) mode using 25 processes\n",
      "2022-01-12 15:58:55.428 - pysb.simulator.scipyode - INFO - [model_files.nerm_pvals_inits] All simulation(s) complete\n",
      "2022-01-12 15:58:55.431 - pysb.simulator.scipyode - DEBUG - [model_files.nerm_pvals_inits] SimulationResult constructor started\n",
      "2022-01-12 15:58:58.454 - pysb.simulator.scipyode - DEBUG - [model_files.nerm_pvals_inits] SimulationResult constructor finished\n"
     ]
    }
   ],
   "source": [
    "solverwtm0 = ScipyOdeSimulator(model, tspan=tspan, verbose = True)\n",
    "mode1wtm0  = solverwtm0.run(param_values=all_pars0, num_processors = 25)\n",
    "mode1df_wtm0 = mode1wtm0.dataframe"
   ]
  },
  {
   "cell_type": "code",
   "execution_count": 16,
   "metadata": {},
   "outputs": [
    {
     "name": "stderr",
     "output_type": "stream",
     "text": [
      "2022-01-12 15:59:01.695 - pysb.simulator.scipyode - DEBUG - [model_files.nerm_pvals_inits] Simulator created\n",
      "2022-01-12 15:59:01.701 - pysb.simulator.scipyode - DEBUG - [model_files.nerm_pvals_inits] Equation mode set to \"cython\"\n",
      "2022-01-12 15:59:01.734 - pysb.simulator.scipyode - INFO - [model_files.nerm_pvals_inits] Simulation(s) started\n",
      "2022-01-12 15:59:01.836 - pysb.simulator.scipyode - DEBUG - [model_files.nerm_pvals_inits] Multi-processor (parallel) mode using 25 processes\n",
      "2022-01-12 15:59:58.597 - pysb.simulator.scipyode - INFO - [model_files.nerm_pvals_inits] All simulation(s) complete\n",
      "2022-01-12 15:59:58.598 - pysb.simulator.scipyode - DEBUG - [model_files.nerm_pvals_inits] SimulationResult constructor started\n",
      "2022-01-12 15:59:59.630 - pysb.simulator.scipyode - DEBUG - [model_files.nerm_pvals_inits] SimulationResult constructor finished\n"
     ]
    }
   ],
   "source": [
    "solverwtm1 = ScipyOdeSimulator(model, tspan=tspan, verbose = True)\n",
    "mode1wtm1  = solverwtm1.run(param_values=all_pars1, num_processors = 25)\n",
    "mode1df_wtm1 = mode1wtm1.dataframe"
   ]
  },
  {
   "cell_type": "code",
   "execution_count": 17,
   "metadata": {},
   "outputs": [
    {
     "name": "stderr",
     "output_type": "stream",
     "text": [
      "2022-01-12 16:00:00.976 - pysb.simulator.scipyode - DEBUG - [model_files.nerm_pvals_inits] Simulator created\n",
      "2022-01-12 16:00:00.981 - pysb.simulator.scipyode - DEBUG - [model_files.nerm_pvals_inits] Equation mode set to \"cython\"\n",
      "2022-01-12 16:00:01.015 - pysb.simulator.scipyode - INFO - [model_files.nerm_pvals_inits] Simulation(s) started\n",
      "2022-01-12 16:00:01.142 - pysb.simulator.scipyode - DEBUG - [model_files.nerm_pvals_inits] Multi-processor (parallel) mode using 25 processes\n",
      "2022-01-12 16:01:40.345 - pysb.simulator.scipyode - INFO - [model_files.nerm_pvals_inits] All simulation(s) complete\n",
      "2022-01-12 16:01:40.348 - pysb.simulator.scipyode - DEBUG - [model_files.nerm_pvals_inits] SimulationResult constructor started\n",
      "2022-01-12 16:01:41.784 - pysb.simulator.scipyode - DEBUG - [model_files.nerm_pvals_inits] SimulationResult constructor finished\n"
     ]
    }
   ],
   "source": [
    "solverwtm2 = ScipyOdeSimulator(model, tspan=tspan, verbose = True)\n",
    "mode1wtm2  = solverwtm2.run(param_values=all_pars2, num_processors = 25)\n",
    "mode1df_wtm2 = mode1wtm2.dataframe"
   ]
  },
  {
   "cell_type": "code",
   "execution_count": 18,
   "metadata": {},
   "outputs": [
    {
     "name": "stderr",
     "output_type": "stream",
     "text": [
      "2022-01-12 16:01:43.648 - pysb.simulator.scipyode - DEBUG - [model_files.nerm_pvals_inits] Simulator created\n",
      "2022-01-12 16:01:43.654 - pysb.simulator.scipyode - DEBUG - [model_files.nerm_pvals_inits] Equation mode set to \"cython\"\n",
      "2022-01-12 16:01:43.688 - pysb.simulator.scipyode - INFO - [model_files.nerm_pvals_inits] Simulation(s) started\n",
      "2022-01-12 16:01:43.852 - pysb.simulator.scipyode - DEBUG - [model_files.nerm_pvals_inits] Multi-processor (parallel) mode using 25 processes\n",
      "2022-01-12 16:04:37.449 - pysb.simulator.scipyode - INFO - [model_files.nerm_pvals_inits] All simulation(s) complete\n",
      "2022-01-12 16:04:37.451 - pysb.simulator.scipyode - DEBUG - [model_files.nerm_pvals_inits] SimulationResult constructor started\n",
      "2022-01-12 16:04:39.620 - pysb.simulator.scipyode - DEBUG - [model_files.nerm_pvals_inits] SimulationResult constructor finished\n"
     ]
    }
   ],
   "source": [
    "solverwtm3 = ScipyOdeSimulator(model, tspan=tspan, verbose = True)\n",
    "mode1wtm3  = solverwtm3.run(param_values=all_pars3, num_processors = 25)\n",
    "mode1df_wtm3 = mode1wtm3.dataframe"
   ]
  },
  {
   "cell_type": "code",
   "execution_count": 19,
   "metadata": {},
   "outputs": [
    {
     "name": "stderr",
     "output_type": "stream",
     "text": [
      "2022-01-12 16:04:42.122 - pysb.simulator.scipyode - DEBUG - [model_files.nerm_pvals_inits] Simulator created\n",
      "2022-01-12 16:04:42.127 - pysb.simulator.scipyode - DEBUG - [model_files.nerm_pvals_inits] Equation mode set to \"cython\"\n",
      "2022-01-12 16:04:42.161 - pysb.simulator.scipyode - INFO - [model_files.nerm_pvals_inits] Simulation(s) started\n",
      "2022-01-12 16:04:42.357 - pysb.simulator.scipyode - DEBUG - [model_files.nerm_pvals_inits] Multi-processor (parallel) mode using 25 processes\n",
      "2022-01-12 16:08:54.491 - pysb.simulator.scipyode - INFO - [model_files.nerm_pvals_inits] All simulation(s) complete\n",
      "2022-01-12 16:08:54.494 - pysb.simulator.scipyode - DEBUG - [model_files.nerm_pvals_inits] SimulationResult constructor started\n",
      "2022-01-12 16:08:57.172 - pysb.simulator.scipyode - DEBUG - [model_files.nerm_pvals_inits] SimulationResult constructor finished\n"
     ]
    }
   ],
   "source": [
    "solverwtm31 = ScipyOdeSimulator(model, tspan=tspan, verbose = True)\n",
    "mode1wtm31  = solverwtm31.run(param_values=all_parsc3all, num_processors = 25)\n",
    "mode1df_wtm31 = mode1wtm31.dataframe"
   ]
  },
  {
   "cell_type": "code",
   "execution_count": null,
   "metadata": {},
   "outputs": [],
   "source": [
    "df_threshtimesc2100wt = m3alldf100wt.groupby('simulation').apply(lambda x: (x > threshold).idxmax()).apply(lambda x: [y[1] for y in x])\n",
    "df_threshtimesc2100a20   = c2df100a202.groupby('simulation').apply(lambda x: (x > threshold).idxmax()).apply(lambda x: [y[1] for y in x])\n",
    "df_threshtimesc2100cyld = c2df100cyld.groupby('simulation').apply(lambda x: (x > threshold).idxmax()).apply(lambda x: [y[1] for y in x])"
   ]
  },
  {
   "cell_type": "code",
   "execution_count": null,
   "metadata": {},
   "outputs": [],
   "source": [
    "thresh = 2772\n",
    "ttd0 = []\n",
    "for j in range(len(all_pars0)):\n",
    "    print(f\"this is output line {j}\")\n",
    "    i_range = range(len(mode1df_wtm0.loc[j]['MLKLa_obs']))\n",
    "    for i in i_range:\n",
    "#         print(m3alldf100wt.loc[j]['MLKLa_obs'].iloc[i])\n",
    "        if mode1df_wtm0.loc[j]['MLKLa_obs'].iloc[i] > thresh:\n",
    "            ttd0.append(mode1df_wtm0.loc[j].index[i])\n",
    "            break\n",
    "        if i == i_range[-1]:\n",
    "            ttd0.append(np.inf)\n",
    "for i in range(len(ttd0)):\n",
    "    if ttd0[i] == np.inf:\n",
    "        ttd0[i] = 2100            \n",
    "print()        \n",
    "# print(ttd0)\n",
    "print(len(ttd0))\n",
    "# print('TTD = ', m3alldf100wt['time'][idx])        "
   ]
  },
  {
   "cell_type": "code",
   "execution_count": null,
   "metadata": {},
   "outputs": [],
   "source": [
    "thresh = 2772\n",
    "ttd1 = []\n",
    "for j in range(len(all_pars1)):\n",
    "#     print(f\"this is output line {j}\")\n",
    "    i_range = range(len(mode1df_wtm1.loc[j]['MLKLa_obs']))\n",
    "    for i in i_range:\n",
    "#         print(m3alldf100wt.loc[j]['MLKLa_obs'].iloc[i])\n",
    "        if mode1df_wtm1.loc[j]['MLKLa_obs'].iloc[i] > thresh:\n",
    "            ttd1.append(mode1df_wtm1.loc[j].index[i])\n",
    "            break\n",
    "        if i == i_range[-1]:\n",
    "            ttd1.append(np.inf)\n",
    "for i in range(len(ttd1)):\n",
    "    if ttd1[i] == np.inf:\n",
    "        ttd1[i] = 2100            \n",
    "print()        \n",
    "# print(ttd1)\n",
    "print(len(ttd1))\n",
    "# print('TTD = ', m3alldf100wt['time'][idx])"
   ]
  },
  {
   "cell_type": "code",
   "execution_count": null,
   "metadata": {},
   "outputs": [],
   "source": [
    "m3occurrenceswt = ttd1.count(2100)\n",
    "m3occurrencesa20 = ttd2.count(2100)\n",
    "m3occurrencescyld = ttd3.count(2100)\n",
    "# m3occurrencescylda20 = ttd4.count(2100)\n",
    "print(m3occurrenceswt)\n",
    "print(m3occurrencesa20)\n",
    "print(m3occurrencescyld)\n",
    "# print(m3occurrencescylda20)"
   ]
  },
  {
   "cell_type": "code",
   "execution_count": null,
   "metadata": {},
   "outputs": [],
   "source": [
    "thresh = 2772\n",
    "ttd2 = []\n",
    "for j in range(len(all_pars2)):\n",
    "#     print(f\"this is output line {j}\")\n",
    "    i_range = range(len(mode1df_wtm2.loc[j]['MLKLa_obs']))\n",
    "    for i in i_range:\n",
    "#         print(m3alldf100wt.loc[j]['MLKLa_obs'].iloc[i])\n",
    "        if mode1df_wtm2.loc[j]['MLKLa_obs'].iloc[i] > thresh:\n",
    "            ttd2.append(mode1df_wtm2.loc[j].index[i])\n",
    "            break\n",
    "        if i == i_range[-1]:\n",
    "            ttd2.append(np.inf)\n",
    "for i in range(len(ttd2)):\n",
    "    if ttd2[i] == np.inf:\n",
    "        ttd2[i] = 2100            \n",
    "print()        \n",
    "# print(ttd2)\n",
    "print(len(ttd2))\n",
    "# print('TTD = ', m3alldf100wt['time'][idx])"
   ]
  },
  {
   "cell_type": "code",
   "execution_count": null,
   "metadata": {},
   "outputs": [],
   "source": [
    "thresh = 2772\n",
    "ttd3 = []\n",
    "for j in range(len(all_pars3)):\n",
    "    print(f\"this is output line {j}\")\n",
    "    i_range = range(len(mode1df_wtm3.loc[j]['MLKLa_obs']))\n",
    "    for i in i_range:\n",
    "#         print(m3alldf100wt.loc[j]['MLKLa_obs'].iloc[i])\n",
    "        if mode1df_wtm3.loc[j]['MLKLa_obs'].iloc[i] > thresh:\n",
    "            ttd3.append(mode1df_wtm3.loc[j].index[i])\n",
    "            break\n",
    "        if i == i_range[-1]:\n",
    "            ttd3.append(np.inf)\n",
    "for i in range(len(ttd3)):\n",
    "    if ttd3[i] == np.inf:\n",
    "        ttd3[i] = 2100            \n",
    "print()        \n",
    "print(ttd3)\n",
    "print(len(ttd3))\n",
    "# print('TTD = ', m3alldf100wt['time'][idx])"
   ]
  },
  {
   "cell_type": "code",
   "execution_count": 20,
   "metadata": {},
   "outputs": [],
   "source": [
    "threshold2 = 2772"
   ]
  },
  {
   "cell_type": "code",
   "execution_count": null,
   "metadata": {},
   "outputs": [],
   "source": [
    "df_threshtimesm11 = ttd0.groupby('simulation').apply(lambda x: (x > threshold2).idxmax()).apply(lambda x: [y[1] for y in x])\n",
    "df_threshtimesm22   = ttd1.groupby('simulation').apply(lambda x: (x > threshold2).idxmax()).apply(lambda x: [y[1] for y in x])\n",
    "df_threshtimesm33 = ttd2.groupby('simulation').apply(lambda x: (x > threshold2).idxmax()).apply(lambda x: [y[1] for y in x])\n",
    "df_threshtimesm44   = ttd3.groupby('simulation').apply(lambda x: (x > threshold2).idxmax()).apply(lambda x: [y[1] for y in x])"
   ]
  },
  {
   "cell_type": "code",
   "execution_count": 21,
   "metadata": {},
   "outputs": [],
   "source": [
    "df_threshtimesm1 = mode1df_wtm0.groupby('simulation').apply(lambda x: (x > threshold2).idxmax()).apply(lambda x: [y[1] for y in x])\n",
    "df_threshtimesm2   = mode1df_wtm1.groupby('simulation').apply(lambda x: (x > threshold2).idxmax()).apply(lambda x: [y[1] for y in x])\n",
    "df_threshtimesm3 = mode1df_wtm2.groupby('simulation').apply(lambda x: (x > threshold2).idxmax()).apply(lambda x: [y[1] for y in x])\n",
    "df_threshtimesm4   = mode1df_wtm3.groupby('simulation').apply(lambda x: (x > threshold2).idxmax()).apply(lambda x: [y[1] for y in x])\n",
    "df_threshtimesm41   = mode1df_wtm31.groupby('simulation').apply(lambda x: (x > threshold2).idxmax()).apply(lambda x: [y[1] for y in x])"
   ]
  },
  {
   "cell_type": "code",
   "execution_count": 22,
   "metadata": {},
   "outputs": [],
   "source": [
    "clus0n = pd.DataFrame({'WT1': df_threshtimesm1['MLKLa_obs'], \n",
    "                       'WT2': df_threshtimesm2['MLKLa_obs'],\n",
    "                      'WT3': df_threshtimesm3['MLKLa_obs'], \n",
    "                       'WT4': df_threshtimesm4['MLKLa_obs'], \n",
    "                      'WT41': df_threshtimesm41['MLKLa_obs']})\n",
    "dfclus0n = pd.DataFrame(data = clus0n, columns = ['WT1', 'WT2','WT3', 'WT4', 'WT41'])\n",
    "dfclus0n = pd.melt(dfclus0n)"
   ]
  },
  {
   "cell_type": "code",
   "execution_count": 23,
   "metadata": {},
   "outputs": [
    {
     "data": {
      "image/png": "[encoded data removed]",
      "text/plain": [
       "<Figure size 1080x720 with 1 Axes>"
      ]
     },
     "metadata": {},
     "output_type": "display_data"
    }
   ],
   "source": [
    "import seaborn as sns\n",
    "sns.set(style=\"whitegrid\")\n",
    "plt.figure(figsize = (15,10))\n",
    "my_pal = {\"WT1\": \"indianred\", \"WT2\": \"lightsalmon\", \"WT3\": \"mediumseagreen\",\n",
    "          \"WT4\":\"cornflowerblue\", \"WT41\":\"cornflowerblue\"}\n",
    "# my_pal1 = {\"wt0\": \"red\", \"a200\":\"blue\"}\n",
    "# b = sns.boxplot(x = \"value\", y =\"variable\", data = dfclus0, notch = True, width = 0.5, palette = my_pal)\n",
    "b = sns.swarmplot(x=\"value\", y=\"variable\", data=dfclus0n, zorder=2, palette=my_pal)\n",
    "# b = sns.boxplot(x = \"value\", y =\"variable\", data = dfclus0, notch = True, width = 0.5, palette = my_pal)\n",
    "# b = sns.swarmplot(x=\"value\", y=\"variable\", data=dfclus0, zorder=2, palette=my_pal1)\n",
    "b.set_xlabel(\"Time (m)\",fontsize=15)\n",
    "# b.set_ylabel(\"Mode 1 Degeneracy\",fontsize=15)\n",
    "b.tick_params(labelsize=15)\n",
    "plt.xlim(xmax = 2150, xmin = 0)\n",
    "# plt.savefig('figs/Cluster0/pmlkl_100tnf_clus0box_wswarm_5720_modnew.pdf')\n",
    "plt.show()"
   ]
  },
  {
   "cell_type": "code",
   "execution_count": null,
   "metadata": {},
   "outputs": [],
   "source": []
  },
  {
   "cell_type": "code",
   "execution_count": null,
   "metadata": {},
   "outputs": [],
   "source": []
  },
  {
   "cell_type": "code",
   "execution_count": null,
   "metadata": {},
   "outputs": [],
   "source": [
    "x = np.array([0, 30, 90, 270,480, 720, 960])\n",
    "y100 = np.array([0, 0.00885691708746097,0.0161886154261265,0.0373005242261882, 0.2798939020159581, .7797294067, 0.98])\n",
    "fig, ax = plt.subplots(figsize = (6, 4))\n",
    "for n in range(len(c3)):\n",
    "    plt.plot(tspan/60, mode1df_wtm3.loc[n]['MLKLa_obs'].iloc[:]/5544, lw=1.5, color = 'darkorange',\n",
    "             zorder = 1, alpha = 0.5)\n",
    "for n in range(len(all_parsc3all)):\n",
    "    plt.plot(tspan/60, mode1df_wtm31.loc[n]['MLKLa_obs'].iloc[:]/5544, lw=1.5, color = 'blue',\n",
    "             zorder = 1, alpha = 0.5)    \n",
    "# colormap = plt.cm.Reds #nipy_spectral, Set1,Paired   \n",
    "# colors = [colormap(i) for i in np.linspace(0, 1,len(ax.lines))]\n",
    "# for i,j in enumerate(ax.lines):\n",
    "#     j.set_color(colors[i])\n",
    "# ax1.legend(loc=2)    \n",
    "plt.xlabel(\"Time (h)\", fontsize=20)\n",
    "plt.ylabel(\"pMLKL\", fontsize=20)\n",
    "plt.xlim(xmin = 0, xmax = 16)\n",
    "plt.ylim(ymin = 0)\n",
    "plt.xticks(fontsize=20)\n",
    "plt.yticks(fontsize=20)\n",
    "right_side = ax.spines[\"right\"]\n",
    "right_side.set_visible(False)\n",
    "top = ax.spines[\"top\"]\n",
    "top.set_visible(False)\n",
    "ax.grid(False)\n",
    "plt.plot(x/60, y100, 'o', color = 'black', ms = 10)\n",
    "ax.set_xticks([0, 5, 10, 15, 20, 24])\n",
    "ax.set_yticks([0, 0.5, 1.0])\n",
    "plt.tight_layout()\n",
    "# plt.savefig('pmlkl_allpars_mode2was4_tnf100_nogridlightsalmonwdata.pdf')\n",
    "plt.show() "
   ]
  },
  {
   "cell_type": "code",
   "execution_count": null,
   "metadata": {},
   "outputs": [],
   "source": [
    "x = np.array([0, 30, 90, 270,480, 720, 960])\n",
    "y100 = np.array([0, 0.00885691708746097,0.0161886154261265,0.0373005242261882, 0.2798939020159581, .7797294067, 0.98])\n",
    "fig, ax = plt.subplots(figsize = (6, 4))\n",
    "for axis in ['top','bottom','left','right']:\n",
    "    ax.spines[axis].set_linewidth(1.5)\n",
    "for n in range(len(c2)):\n",
    "    plt.plot(tspan/60, mode1df_wtm2.loc[n]['MLKLa_obs'].iloc[:]/5544, lw=1.5, \n",
    "             zorder = 1, color = 'blue')\n",
    "# colormap = plt.cm.Reds #nipy_spectral, Set1,Paired   \n",
    "# colors = [colormap(i) for i in np.linspace(0, 1,len(ax.lines))]\n",
    "# for i,j in enumerate(ax.lines):\n",
    "#     j.set_color(colors[i])\n",
    "# ax1.legend(loc=2)    \n",
    "plt.xlabel(\"Time (h)\", fontsize=20)\n",
    "plt.ylabel(\"pMLKL\", fontsize=20)\n",
    "plt.xlim(xmin = 0, xmax = 16)\n",
    "plt.ylim(ymin = 0)\n",
    "plt.xticks(fontsize=20)\n",
    "plt.yticks(fontsize=20)\n",
    "right_side = ax.spines[\"right\"]\n",
    "right_side.set_visible(False)\n",
    "top = ax.spines[\"top\"]\n",
    "top.set_visible(False)\n",
    "ax.grid(False)\n",
    "ax.set_xticks([0, 5, 10, 15, 20, 24])\n",
    "ax.set_yticks([0, 0.5, 1.0])\n",
    "plt.plot(x/60, y100, 'o', color = 'black', ms = 10)\n",
    "plt.tight_layout()\n",
    "# plt.savefig('mode4_pmlkl_allpars_bluecolor_nogridwdata.pdf')\n",
    "plt.show() "
   ]
  },
  {
   "cell_type": "code",
   "execution_count": null,
   "metadata": {},
   "outputs": [],
   "source": [
    "x = np.array([0, 30, 90, 270,480, 720, 960])\n",
    "y100 = np.array([0, 0.00885691708746097,0.0161886154261265,0.0373005242261882, 0.2798939020159581, .7797294067, 0.98])\n",
    "fig, ax = plt.subplots(figsize = (6, 4))\n",
    "for axis in ['top','bottom','left','right']:\n",
    "    ax.spines[axis].set_linewidth(1.5)\n",
    "for n in range(len(c1)):\n",
    "    plt.plot(tspan/60, mode1df_wtm1.loc[n]['MLKLa_obs'].iloc[:]/5544,\n",
    "             color = 'darkgreen', lw=2)\n",
    "plt.xlabel(\"Time (h)\", fontsize=20)\n",
    "plt.ylabel(\"pMLKL\", fontsize=20)\n",
    "plt.xlim(xmin = 0, xmax = 16)\n",
    "plt.ylim(ymin = 0)\n",
    "plt.xticks(fontsize=20)\n",
    "plt.yticks(fontsize=20)\n",
    "right_side = ax.spines[\"right\"]\n",
    "right_side.set_visible(False)\n",
    "top = ax.spines[\"top\"]\n",
    "top.set_visible(False)\n",
    "ax.grid(False)\n",
    "ax.set_xticks([0, 5, 10, 15, 20, 24])\n",
    "ax.set_yticks([0, 0.5, 1.0])\n",
    "plt.plot(x/60, y100, 'o', color = 'black', ms = 10)\n",
    "# ax.legend(loc='center left', bbox_to_anchor=(1, 0.5))\n",
    "# ax.legend(loc='upper center', bbox_to_anchor=(0.5, 1.05),\n",
    "#           ncol=3, fancybox=True, shadow=True)\n",
    "plt.tight_layout()\n",
    "# plt.savefig('mode3_pmlkl_allpars_medaquacolor_nogridwdata.pdf')\n",
    "plt.show() "
   ]
  },
  {
   "cell_type": "code",
   "execution_count": null,
   "metadata": {},
   "outputs": [],
   "source": []
  },
  {
   "cell_type": "code",
   "execution_count": null,
   "metadata": {},
   "outputs": [],
   "source": []
  },
  {
   "cell_type": "code",
   "execution_count": null,
   "metadata": {},
   "outputs": [],
   "source": []
  },
  {
   "cell_type": "code",
   "execution_count": null,
   "metadata": {},
   "outputs": [],
   "source": []
  },
  {
   "cell_type": "code",
   "execution_count": null,
   "metadata": {},
   "outputs": [],
   "source": [
    "#['lightcoral', 'lightseagreen', 'mediumpurple', 'peru']\n",
    "mode0df = pd.DataFrame({'WT': ttd0,\n",
    "                       'species': 'pMLKL0'})\n",
    "dfclus0n = pd.DataFrame(data = mode0df, columns = ['WT0'])\n",
    "dfclus0n = pd.melt(dfclus0n)"
   ]
  },
  {
   "cell_type": "code",
   "execution_count": null,
   "metadata": {},
   "outputs": [],
   "source": [
    "#['lightcoral', 'lightseagreen', 'mediumpurple', 'peru']\n",
    "mode1df = pd.DataFrame({'WT': ttd1,\n",
    "                       'species': 'pMLKL1'})\n",
    "dfclus1n = pd.DataFrame(data = mode1df, columns = ['WT1'])\n",
    "dfclus1n = pd.melt(dfclus1n)"
   ]
  },
  {
   "cell_type": "code",
   "execution_count": null,
   "metadata": {},
   "outputs": [],
   "source": [
    "#['lightcoral', 'lightseagreen', 'mediumpurple', 'peru']\n",
    "mode2df = pd.DataFrame({'WT': ttd2,\n",
    "                       'species': 'pMLKL2'})\n",
    "dfclus2n = pd.DataFrame(data = mode2df, columns = ['WT2'])\n",
    "dfclus2n = pd.melt(dfclus2n)"
   ]
  },
  {
   "cell_type": "code",
   "execution_count": null,
   "metadata": {},
   "outputs": [],
   "source": [
    "#['lightcoral', 'lightseagreen', 'mediumpurple', 'peru']\n",
    "mode3df = pd.DataFrame({'WT': ttd3,\n",
    "                       'species': 'pMLKL3'})\n",
    "dfclus3n = pd.DataFrame(data = mode3df, columns = [ 'WT3'])\n",
    "dfclus3n = pd.melt(dfclus3n)"
   ]
  },
  {
   "cell_type": "code",
   "execution_count": null,
   "metadata": {},
   "outputs": [],
   "source": [
    "frame = [mode0df,mode1df,mode2df,mode3df]\n",
    "dfall = pd.DataFrame(data = pd.concat(frame), columns = ['species','WT'])\n",
    "dfmall = pd.melt(dfall, id_vars=[\"species\"])"
   ]
  },
  {
   "cell_type": "code",
   "execution_count": null,
   "metadata": {},
   "outputs": [],
   "source": [
    "plt.figure(figsize = (7,7))\n",
    "sns.stripplot(data=dfmall, y=\"species\", x=\"value\", hue=\"variable\", dodge=True, orient = 'h',linewidth=0.5,size=10)\n",
    "plt.xlim(xmin = 1)\n",
    "plt.legend(loc = 'lower right')"
   ]
  },
  {
   "cell_type": "code",
   "execution_count": null,
   "metadata": {},
   "outputs": [],
   "source": [
    "sns.catplot(x=\"day\", y=\"total_bill\", kind=\"swarm\", data=tips)"
   ]
  },
  {
   "cell_type": "code",
   "execution_count": null,
   "metadata": {},
   "outputs": [],
   "source": [
    "import seaborn as sns\n",
    "sns.set(style=\"whitegrid\")\n",
    "fig, ax = plt.subplots(figsize = (15,10))\n",
    "for axis in ['top','bottom','left','right']:\n",
    "    ax.spines[axis].set_linewidth(1.5)\n",
    "# my_pal = {\"WT\": \"mediumaquamarine\", \"CYLDKO\": \"limegreen\", \"A20KO\":\"darkgreen\"}\n",
    "# my_pal = {\"WT0\": \"blue\", \"CYLD KO\": \"cornflowerblue\", \"A20 KO\":\"darkblue\", 'CYLD;A20 DKO': 'skyblue'}\n",
    "# b = sns.boxplot(x = \"value\", y =\"variable\", data = dfclus0, notch = True, width = 0.5, palette = my_pal)\n",
    "a = sns.swarmplot(x=\"value\", y=\"variable\", data=dfclus0n, zorder=2) #, palette=my_pal)\n",
    "b = sns.swarmplot(x=\"value\", y=\"variable\", data=dfclus1n, zorder=2)\n",
    "c = sns.swarmplot(x=\"value\", y=\"variable\", data=dfclus2n, zorder=2)\n",
    "d = sns.swarmplot(x=\"value\", y=\"variable\", data=dfclus3n, zorder=2)\n",
    "# b = sns.boxplot(x = \"value\", y =\"variable\", data = dfclus0, notch = True, width = 0.5, palette = my_pal)\n",
    "# b.set_ylabel('')\n",
    "# b.set_xlabel(\"Time (m)\",fontsize=25)\n",
    "plt.xticks(fontsize = 25)\n",
    "# b.set_ylabel(\"Cluster 0 New\",fontsize=15)\n",
    "# b.tick_params(labelsize=25)\n",
    "plt.xlim(xmax = 2150, xmin = 0)\n",
    "ax.set_xticks([0, 200, 400, 600, 800, 1000, 1200, 1400, 1600, 1800, 2000])\n",
    "# ax.set_xticks([0, 300, 600, 900,1200,1500, 1800, 2100])\n",
    "# ax.set_xticklabels(['0', '300','600', '900','1200','1500', '1800', 'inf']) #$\\infty$\n",
    "# ax.set_yticklabels(['0', '600', '1200', '1800', 'inf']) #$\\infty$\n",
    "plt.tight_layout()\n",
    "# plt.savefig('pmlkl_cylda20dko_100tnf_mode4was2_swarm_bluecolors.pdf')\n",
    "plt.show()"
   ]
  },
  {
   "cell_type": "code",
   "execution_count": null,
   "metadata": {},
   "outputs": [],
   "source": [
    "plt.figure()\n",
    "sns.stripplot(data=dfclus0n, dodge=True, \n",
    "              orient = 'h',linewidth=0.5,size=7)\n",
    "plt.xlim(xmin = 1)\n",
    "plt.legend(loc = 'lower right')"
   ]
  },
  {
   "cell_type": "code",
   "execution_count": null,
   "metadata": {},
   "outputs": [],
   "source": []
  },
  {
   "cell_type": "code",
   "execution_count": null,
   "metadata": {},
   "outputs": [],
   "source": []
  },
  {
   "cell_type": "code",
   "execution_count": null,
   "metadata": {},
   "outputs": [],
   "source": []
  },
  {
   "cell_type": "code",
   "execution_count": null,
   "metadata": {},
   "outputs": [],
   "source": []
  },
  {
   "cell_type": "code",
   "execution_count": null,
   "metadata": {},
   "outputs": [],
   "source": []
  },
  {
   "cell_type": "code",
   "execution_count": null,
   "metadata": {},
   "outputs": [],
   "source": []
  }
 ],
 "metadata": {
  "kernelspec": {
   "display_name": "Python 3",
   "language": "python",
   "name": "python3"
  },
  "language_info": {
   "codemirror_mode": {
    "name": "ipython",
    "version": 3
   },
   "file_extension": ".py",
   "mimetype": "text/x-python",
   "name": "python",
   "nbconvert_exporter": "python",
   "pygments_lexer": "ipython3",
   "version": "3.7.5"
  }
 },
 "nbformat": 4,
 "nbformat_minor": 2
}
