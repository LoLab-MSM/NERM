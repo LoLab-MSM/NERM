{
 "cells": [
  {
   "cell_type": "code",
   "execution_count": 1,
   "metadata": {},
   "outputs": [],
   "source": [
    "import sys \n",
    "# sys.path.append('/Users/geenaildefonso/Projects/NERM')\n",
    "sys.path.append('../../')\n",
    "sys.path.append('/home/ildefog/main/Projects/NERM/')\n",
    "# print(sys.path)\n",
    "from model_files.nerm_pvals import model\n",
    "import seaborn as sns\n",
    "import numpy as np\n",
    "from matplotlib import pyplot as plt\n",
    "# from necro_pydream_model_file_8920 import model\n",
    "from pysb.simulator import ScipyOdeSimulator\n",
    "import numpy as np\n",
    "from scipy.stats import norm,uniform\n",
    "import seaborn as sns\n",
    "from matplotlib import pyplot as plt\n",
    "import random\n",
    "import os\n",
    "from pylab import *\n",
    "from pysb.core import *\n",
    "from pysb.bng import *\n",
    "from pysb.integrate import *\n",
    "import matplotlib.pyplot as plt\n",
    "import numpy as np\n",
    "from pysb.util import alias_model_components\n",
    "from scipy import stats\n",
    "from pysb.simulator import SimulationResult\n",
    "import pandas as pd\n",
    "import seaborn as sns\n",
    "os.environ[\"OPENBLAS_NUM_THREADS\"] = \"1\""
   ]
  },
  {
   "cell_type": "code",
   "execution_count": 2,
   "metadata": {},
   "outputs": [],
   "source": [
    "m1 = np.load('../../params_testing/necro_pars10k_mode1_5720_modcylda20.npy')\n",
    "# m2 = np.load('../../params_testing/necro_pars10k_mode2_5720_modcylda20.npy')\n",
    "# m3 = np.load('../../params_testing/necro_pars10k_mode3_5720_modcylda20.npy')\n",
    "# m4 = np.load('../../params_testing/necro_pars10k_mode4_5720_modcylda20.npy')"
   ]
  },
  {
   "cell_type": "code",
   "execution_count": null,
   "metadata": {},
   "outputs": [],
   "source": [
    "mode1_100 = np.load('../../param_files/necro_pars10k_cluster1_5720_modwo5.npy')\n",
    "mode2_100 = np.load('../../param_files/necro_pars10k_cluster2_5720_mod.npy')\n",
    "mode3_100 = np.load('../../param_files/necro_pars10k_cluster3_5720_mod.npy')\n",
    "mode4_100 = np.load('../../param_files/necro_pars10k_cluster4_5720_mod.npy')\n",
    "pars = np.load('../../param_files/necro_pars10k_allclusmod.npy')"
   ]
  },
  {
   "cell_type": "code",
   "execution_count": null,
   "metadata": {},
   "outputs": [],
   "source": [
    "mode1_100[0]"
   ]
  },
  {
   "cell_type": "code",
   "execution_count": null,
   "metadata": {},
   "outputs": [],
   "source": [
    "clus0_100e = np.load('../../param_files/necro_pars10k_cluster01_5720_modsplit.npy')\n",
    "clus0_100m = np.load('../../param_files/necro_pars10k_cluster02_5720_modsplit.npy')\n",
    "clus0_100d = np.load('../../param_files/necro_pars10k_cluster03_5720_modsplit.npy')"
   ]
  },
  {
   "cell_type": "code",
   "execution_count": 3,
   "metadata": {},
   "outputs": [],
   "source": [
    "tspan = np.linspace(0, 1800, 500)"
   ]
  },
  {
   "cell_type": "code",
   "execution_count": null,
   "metadata": {},
   "outputs": [],
   "source": [
    "list(model.initial_conditions)"
   ]
  },
  {
   "cell_type": "code",
   "execution_count": 4,
   "metadata": {
    "scrolled": true
   },
   "outputs": [
    {
     "name": "stderr",
     "output_type": "stream",
     "text": [
      "2022-01-24 20:58:57.270 - pysb.simulator.scipyode - DEBUG - [model_files.nerm_pvals] Simulator created\n",
      "2022-01-24 20:58:58.019 - pysb.simulator.scipyode - DEBUG - [model_files.nerm_pvals] Equation mode set to \"cython\"\n",
      "2022-01-24 20:58:58.083 - pysb.simulator.scipyode - INFO - [model_files.nerm_pvals] Simulation(s) started\n",
      "2022-01-24 20:58:58.293 - pysb.simulator.scipyode - DEBUG - [model_files.nerm_pvals] Multi-processor (parallel) mode using 20 processes\n",
      "2022-01-24 21:03:18.494 - pysb.simulator.scipyode - INFO - [model_files.nerm_pvals] All simulation(s) complete\n",
      "2022-01-24 21:03:18.495 - pysb.simulator.scipyode - DEBUG - [model_files.nerm_pvals] SimulationResult constructor started\n",
      "2022-01-24 21:03:21.090 - pysb.simulator.scipyode - DEBUG - [model_files.nerm_pvals] SimulationResult constructor finished\n"
     ]
    }
   ],
   "source": [
    "solverwtm1 = ScipyOdeSimulator(model, tspan=tspan, verbose = True)\n",
    "wtm1 = solverwtm1.run(param_values=m1, num_processors = 20)\n",
    "m1alldf100wt = wtm1.dataframe"
   ]
  },
  {
   "cell_type": "code",
   "execution_count": null,
   "metadata": {},
   "outputs": [],
   "source": [
    "wtm1.save('h5_files/mode1_allpars_wtpmlkl.h5', include_obs_exprs=True)"
   ]
  },
  {
   "cell_type": "code",
   "execution_count": 6,
   "metadata": {},
   "outputs": [],
   "source": [
    "m = model.components"
   ]
  },
  {
   "cell_type": "code",
   "execution_count": 7,
   "metadata": {},
   "outputs": [
    {
     "name": "stderr",
     "output_type": "stream",
     "text": [
      "2022-01-24 21:04:23.368 - pysb.simulator.scipyode - DEBUG - [model_files.nerm_pvals] Simulator created\n",
      "2022-01-24 21:04:23.379 - pysb.simulator.scipyode - DEBUG - [model_files.nerm_pvals] Equation mode set to \"cython\"\n",
      "2022-01-24 21:04:23.453 - pysb.simulator.scipyode - INFO - [model_files.nerm_pvals] Simulation(s) started\n",
      "2022-01-24 21:04:23.685 - pysb.simulator.scipyode - DEBUG - [model_files.nerm_pvals] Multi-processor (parallel) mode using 20 processes\n",
      "2022-01-24 21:08:30.399 - pysb.simulator.scipyode - INFO - [model_files.nerm_pvals] All simulation(s) complete\n",
      "2022-01-24 21:08:30.402 - pysb.simulator.scipyode - DEBUG - [model_files.nerm_pvals] SimulationResult constructor started\n",
      "2022-01-24 21:08:33.036 - pysb.simulator.scipyode - DEBUG - [model_files.nerm_pvals] SimulationResult constructor finished\n"
     ]
    }
   ],
   "source": [
    "solverwtm1kd = ScipyOdeSimulator(model, tspan=tspan, verbose = True)\n",
    "wtm1kd = solverwtm1kd.run(initials = {m.FADD(bDD=None, bDED1=None, bDED2=None):932},\n",
    "                          param_values=m1, num_processors = 20)\n",
    "m1alldf100wtkd = wtm1kd.dataframe"
   ]
  },
  {
   "cell_type": "code",
   "execution_count": 8,
   "metadata": {},
   "outputs": [
    {
     "name": "stderr",
     "output_type": "stream",
     "text": [
      "2022-01-24 21:08:36.283 - pysb.simulator.scipyode - DEBUG - [model_files.nerm_pvals] Simulator created\n",
      "2022-01-24 21:08:36.289 - pysb.simulator.scipyode - DEBUG - [model_files.nerm_pvals] Equation mode set to \"cython\"\n",
      "2022-01-24 21:08:36.322 - pysb.simulator.scipyode - INFO - [model_files.nerm_pvals] Simulation(s) started\n",
      "2022-01-24 21:08:36.515 - pysb.simulator.scipyode - DEBUG - [model_files.nerm_pvals] Multi-processor (parallel) mode using 20 processes\n",
      "2022-01-24 21:12:52.201 - pysb.simulator.scipyode - INFO - [model_files.nerm_pvals] All simulation(s) complete\n",
      "2022-01-24 21:12:52.204 - pysb.simulator.scipyode - DEBUG - [model_files.nerm_pvals] SimulationResult constructor started\n",
      "2022-01-24 21:12:55.189 - pysb.simulator.scipyode - DEBUG - [model_files.nerm_pvals] SimulationResult constructor finished\n"
     ]
    }
   ],
   "source": [
    "solverwtm1kd2 = ScipyOdeSimulator(model, tspan=tspan, verbose = True)\n",
    "wtm1kd2 = solverwtm1kd2.run(initials = {m.RIP3(bRHIM=None, bDD=None, state='unmod'):3196},\n",
    "                          param_values=m1, num_processors = 20)\n",
    "m1alldf100wtkd2 = wtm1kd2.dataframe"
   ]
  },
  {
   "cell_type": "code",
   "execution_count": 9,
   "metadata": {},
   "outputs": [
    {
     "name": "stderr",
     "output_type": "stream",
     "text": [
      "2022-01-24 21:12:59.069 - pysb.simulator.scipyode - DEBUG - [model_files.nerm_pvals] Simulator created\n",
      "2022-01-24 21:12:59.074 - pysb.simulator.scipyode - DEBUG - [model_files.nerm_pvals] Equation mode set to \"cython\"\n",
      "2022-01-24 21:12:59.109 - pysb.simulator.scipyode - INFO - [model_files.nerm_pvals] Simulation(s) started\n",
      "2022-01-24 21:12:59.310 - pysb.simulator.scipyode - DEBUG - [model_files.nerm_pvals] Multi-processor (parallel) mode using 20 processes\n",
      "2022-01-24 21:17:15.550 - pysb.simulator.scipyode - INFO - [model_files.nerm_pvals] All simulation(s) complete\n",
      "2022-01-24 21:17:15.553 - pysb.simulator.scipyode - DEBUG - [model_files.nerm_pvals] SimulationResult constructor started\n",
      "2022-01-24 21:17:18.052 - pysb.simulator.scipyode - DEBUG - [model_files.nerm_pvals] SimulationResult constructor finished\n"
     ]
    }
   ],
   "source": [
    "solverwtm1kd2 = ScipyOdeSimulator(model, tspan=tspan, verbose = True)\n",
    "wtm1kd2 = solverwtm1kd2.run(initials = {m.RIP1(bscf=None, bub1=None, bub2=None, bub3=None, bDD=None,\n",
    "                                               btraf=None, bRHIM=None, bMLKL=None, state='unmod'):6613},\n",
    "                          param_values=m1, num_processors = 20)\n",
    "m1alldf100wtkd3 = wtm1kd2.dataframe"
   ]
  },
  {
   "cell_type": "code",
   "execution_count": 10,
   "metadata": {},
   "outputs": [],
   "source": [
    "thresh = 2772\n",
    "ttd = []\n",
    "for j in range(len(m1)):\n",
    "#     print(f\"this is output line {j}\")\n",
    "    i_range = range(len(m1alldf100wt.loc[j]['MLKLa_obs']))\n",
    "    for i in i_range:\n",
    "#         print(m3alldf100wt.loc[j]['MLKLa_obs'].iloc[i])\n",
    "        if m1alldf100wt.loc[j]['MLKLa_obs'].iloc[i] > thresh:\n",
    "            ttd.append(m1alldf100wt.loc[j].index[i])\n",
    "            break\n",
    "        if i == i_range[-1]:\n",
    "            ttd.append(np.inf)\n",
    "for i in range(len(ttd)):\n",
    "    if ttd[i] == np.inf:\n",
    "        ttd[i] = 2100  "
   ]
  },
  {
   "cell_type": "code",
   "execution_count": 11,
   "metadata": {},
   "outputs": [],
   "source": [
    "thresh = 2772\n",
    "ttdfdkd = []\n",
    "for j in range(len(m1)):\n",
    "#     print(f\"this is output line {j}\")\n",
    "    i_range = range(len(m1alldf100wtkd.loc[j]['MLKLa_obs']))\n",
    "    for i in i_range:\n",
    "#         print(m3alldf100wt.loc[j]['MLKLa_obs'].iloc[i])\n",
    "        if m1alldf100wtkd.loc[j]['MLKLa_obs'].iloc[i] > thresh:\n",
    "            ttdfdkd.append(m1alldf100wtkd.loc[j].index[i])\n",
    "            break\n",
    "        if i == i_range[-1]:\n",
    "            ttdfdkd.append(np.inf)\n",
    "for i in range(len(ttdfdkd)):\n",
    "    if ttdfdkd[i] == np.inf:\n",
    "        ttdfdkd[i] = 2100  "
   ]
  },
  {
   "cell_type": "code",
   "execution_count": 12,
   "metadata": {},
   "outputs": [],
   "source": [
    "thresh = 2772\n",
    "ttdr3kd = []\n",
    "for j in range(len(m1)):\n",
    "#     print(f\"this is output line {j}\")\n",
    "    i_range = range(len(m1alldf100wtkd2.loc[j]['MLKLa_obs']))\n",
    "    for i in i_range:\n",
    "#         print(m3alldf100wt.loc[j]['MLKLa_obs'].iloc[i])\n",
    "        if m1alldf100wtkd2.loc[j]['MLKLa_obs'].iloc[i] > thresh:\n",
    "            ttdr3kd.append(m1alldf100wtkd2.loc[j].index[i])\n",
    "            break\n",
    "        if i == i_range[-1]:\n",
    "            ttdr3kd.append(np.inf)\n",
    "for i in range(len(ttdr3kd)):\n",
    "    if ttdr3kd[i] == np.inf:\n",
    "        ttdr3kd[i] = 2100  "
   ]
  },
  {
   "cell_type": "code",
   "execution_count": 13,
   "metadata": {},
   "outputs": [],
   "source": [
    "thresh = 2772\n",
    "ttdr1kd = []\n",
    "for j in range(len(m1)):\n",
    "#     print(f\"this is output line {j}\")\n",
    "    i_range = range(len(m1alldf100wtkd3.loc[j]['MLKLa_obs']))\n",
    "    for i in i_range:\n",
    "#         print(m3alldf100wt.loc[j]['MLKLa_obs'].iloc[i])\n",
    "        if m1alldf100wtkd3.loc[j]['MLKLa_obs'].iloc[i] > thresh:\n",
    "            ttdr1kd.append(m1alldf100wtkd3.loc[j].index[i])\n",
    "            break\n",
    "        if i == i_range[-1]:\n",
    "            ttdr1kd.append(np.inf)\n",
    "for i in range(len(ttdr1kd)):\n",
    "    if ttdr1kd[i] == np.inf:\n",
    "        ttdr1kd[i] = 2100  "
   ]
  },
  {
   "cell_type": "code",
   "execution_count": 18,
   "metadata": {},
   "outputs": [
    {
     "name": "stdout",
     "output_type": "stream",
     "text": [
      "20\n",
      "24\n",
      "24\n",
      "25\n"
     ]
    }
   ],
   "source": [
    "print(ttd.count(2100))\n",
    "print(ttdfdkd.count(2100))\n",
    "print(ttdr3kd.count(2100))\n",
    "print(ttdr1kd.count(2100))"
   ]
  },
  {
   "cell_type": "code",
   "execution_count": 15,
   "metadata": {},
   "outputs": [],
   "source": [
    "# dfm232 = pd.melt(dfmode3)\n",
    "#['lightcoral', 'lightseagreen', 'mediumpurple', 'peru']\n",
    "mode1df2 = pd.DataFrame({'WT': ttd,\n",
    "                         'FADD KD':  ttdfdkd,\n",
    "                          'RIP3 KD':  ttdr3kd,\n",
    "                        'RIP1 KD': ttdr1kd})\n",
    "dfclus2hr = pd.DataFrame(data = mode1df2,\n",
    "                        columns = ['WT','FADD KD','RIP3 KD','RIP1 KD'])"
   ]
  },
  {
   "cell_type": "code",
   "execution_count": 19,
   "metadata": {},
   "outputs": [
    {
     "data": {
      "image/png": "[encoded data removed]",
      "text/plain": [
       "<Figure size 648x720 with 1 Axes>"
      ]
     },
     "metadata": {},
     "output_type": "display_data"
    }
   ],
   "source": [
    "sns.set_style(\"whitegrid\", {'axes.grid' : False})\n",
    "fig, ax = plt.subplots(figsize = (9,10))\n",
    "b = sns.stripplot(x=\"value\", y=\"variable\", data=pd.melt(dfclus2hr), marker = 'o',\n",
    "                  linewidth=0.5,size=5, edgecolor = 'white')\n",
    "medianprops = dict(linestyle='-', linewidth=3, color='k')\n",
    "meanlineprops = dict(linestyle='--', linewidth=2.5, color='black')\n",
    "b = sns.boxplot(showmeans=True,\n",
    "            meanline=True,\n",
    "            meanprops = meanlineprops,\n",
    "            medianprops= medianprops,\n",
    "            whiskerprops={'visible': False},\n",
    "            zorder=10,\n",
    "            x=\"value\",\n",
    "            y=\"variable\",\n",
    "            data=pd.melt(dfclus2hr),\n",
    "            showfliers=False,\n",
    "            showbox=False,\n",
    "            showcaps=False,\n",
    "            ax=b)\n",
    "plt.show()"
   ]
  },
  {
   "cell_type": "code",
   "execution_count": null,
   "metadata": {},
   "outputs": [],
   "source": [
    "from scipy.stats import ks_2samp\n",
    "from scipy.stats import ttest_ind\n",
    "from scipy.stats import median_test\n",
    "print(ks_2samp(m1alldf100wt['MLKLa_obs'], m1alldf100wtkd['A20 KD']))\n",
    "print(ks_2samp(dfclus2hr['WT'], dfclus2hr['A20 KD']))"
   ]
  },
  {
   "cell_type": "code",
   "execution_count": null,
   "metadata": {},
   "outputs": [],
   "source": [
    "plt.figure()\n",
    "sns.stripplot(m1alldf100wt['MLKLa_obs'])\n",
    "plt.show()"
   ]
  },
  {
   "cell_type": "code",
   "execution_count": null,
   "metadata": {},
   "outputs": [],
   "source": [
    "fig, ax = plt.subplots(figsize = (6, 4))\n",
    "for axis in ['top','bottom','left','right']:\n",
    "    ax.spines[axis].set_linewidth(1.5)\n",
    "for n in range(len(m1)):\n",
    "    plt.plot(tspan/60, m1alldf100wt.loc[n]['MLKLa_obs'].iloc[:],\n",
    "             color = 'red', lw=2, alpha = 0.05)\n",
    "    plt.plot(tspan/60, m1alldf100wtkd.loc[n]['MLKLa_obs'].iloc[:],\n",
    "             color = 'blue', lw=2, alpha = 0.05)\n",
    "plt.xlabel(\"Time (h)\", fontsize=20)\n",
    "plt.ylabel(\"pMLKL\", fontsize=20)\n",
    "plt.xlim(xmin = 0, xmax = 16)\n",
    "plt.ylim(ymin = 0)\n",
    "plt.xticks(fontsize=20)\n",
    "plt.yticks(fontsize=20)\n",
    "right_side = ax.spines[\"right\"]\n",
    "right_side.set_visible(False)\n",
    "top = ax.spines[\"top\"]\n",
    "top.set_visible(False)\n",
    "ax.grid(False)\n",
    "ax.set_xticks([0, 5, 10, 15, 20, 25, 30])\n",
    "# ax.set_yticks([0, 0.5, 1.0])\n",
    "# plt.plot(x/60, y100, 'o', color = 'black', ms = 10)\n",
    "# ax.legend(loc='center left', bbox_to_anchor=(1, 0.5))\n",
    "# ax.legend(loc='upper center', bbox_to_anchor=(0.5, 1.05),\n",
    "#           ncol=3, fancybox=True, shadow=True)\n",
    "plt.tight_layout()\n",
    "# plt.savefig('mode1_pmlkl_allpars_redcolor_nogridwdata.pdf')\n",
    "plt.show() "
   ]
  },
  {
   "cell_type": "code",
   "execution_count": null,
   "metadata": {},
   "outputs": [],
   "source": [
    "fig, ax = plt.subplots(figsize = (6, 4))\n",
    "for axis in ['top','bottom','left','right']:\n",
    "    ax.spines[axis].set_linewidth(1.5)\n",
    "for n in range(len(m1)):\n",
    "    plt.plot(tspan/60, m1alldf100wt.loc[n]['MLKLa_obs'].iloc[:],\n",
    "             color = 'red', lw=2)\n",
    "    plt.plot(tspan/60, m1alldf100wtkd2.loc[n]['MLKLa_obs'].iloc[:],\n",
    "             color = 'blue', lw=2)\n",
    "plt.xlabel(\"Time (h)\", fontsize=20)\n",
    "plt.ylabel(\"pMLKL\", fontsize=20)\n",
    "plt.xlim(xmin = 0, xmax = 16)\n",
    "plt.ylim(ymin = 0)\n",
    "plt.xticks(fontsize=20)\n",
    "plt.yticks(fontsize=20)\n",
    "right_side = ax.spines[\"right\"]\n",
    "right_side.set_visible(False)\n",
    "top = ax.spines[\"top\"]\n",
    "top.set_visible(False)\n",
    "ax.grid(False)\n",
    "ax.set_xticks([0, 5, 10, 15, 20, 25, 30])\n",
    "# ax.set_yticks([0, 0.5, 1.0])\n",
    "# plt.plot(x/60, y100, 'o', color = 'black', ms = 10)\n",
    "# ax.legend(loc='center left', bbox_to_anchor=(1, 0.5))\n",
    "# ax.legend(loc='upper center', bbox_to_anchor=(0.5, 1.05),\n",
    "#           ncol=3, fancybox=True, shadow=True)\n",
    "plt.tight_layout()\n",
    "# plt.savefig('mode1_pmlkl_allpars_redcolor_nogridwdata.pdf')\n",
    "plt.show() "
   ]
  },
  {
   "cell_type": "code",
   "execution_count": null,
   "metadata": {},
   "outputs": [],
   "source": [
    "fig, ax = plt.subplots(figsize = (6, 4))\n",
    "for axis in ['top','bottom','left','right']:\n",
    "    ax.spines[axis].set_linewidth(1.5)\n",
    "for n in range(len(m1)):\n",
    "    plt.plot(tspan/60, m1alldf100wt.loc[n]['MLKLa_obs'].iloc[:],\n",
    "             color = 'red', lw=2)\n",
    "    plt.plot(tspan/60, m1alldf100wtkd3.loc[n]['MLKLa_obs'].iloc[:],\n",
    "             color = 'blue', lw=2)\n",
    "plt.xlabel(\"Time (h)\", fontsize=20)\n",
    "plt.ylabel(\"pMLKL\", fontsize=20)\n",
    "plt.xlim(xmin = 0, xmax = 16)\n",
    "plt.ylim(ymin = 0)\n",
    "plt.xticks(fontsize=20)\n",
    "plt.yticks(fontsize=20)\n",
    "right_side = ax.spines[\"right\"]\n",
    "right_side.set_visible(False)\n",
    "top = ax.spines[\"top\"]\n",
    "top.set_visible(False)\n",
    "ax.grid(False)\n",
    "ax.set_xticks([0, 5, 10, 15, 20, 25, 30])\n",
    "# ax.set_yticks([0, 0.5, 1.0])\n",
    "# plt.plot(x/60, y100, 'o', color = 'black', ms = 10)\n",
    "# ax.legend(loc='center left', bbox_to_anchor=(1, 0.5))\n",
    "# ax.legend(loc='upper center', bbox_to_anchor=(0.5, 1.05),\n",
    "#           ncol=3, fancybox=True, shadow=True)\n",
    "plt.tight_layout()\n",
    "# plt.savefig('mode1_pmlkl_allpars_redcolor_nogridwdata.pdf')\n",
    "plt.show() "
   ]
  },
  {
   "cell_type": "code",
   "execution_count": null,
   "metadata": {},
   "outputs": [],
   "source": [
    "print(m1alldf100wtkd.loc[n]['MLKLa_obs'].iloc[:].max()) #4989\n",
    "print(m1alldf100wtkd2.loc[n]['MLKLa_obs'].iloc[:].max()) #554\n",
    "print(m1alldf100wtoe.loc[n]['MLKLa_obs'].iloc[:].max()) #6098\n",
    "print(m1alldf100wtoe2.loc[n]['MLKLa_obs'].iloc[:].max()) #54440"
   ]
  },
  {
   "cell_type": "code",
   "execution_count": null,
   "metadata": {},
   "outputs": [],
   "source": [
    "fig, ax = plt.subplots(figsize = (6, 4))\n",
    "for axis in ['top','bottom','left','right']:\n",
    "    ax.spines[axis].set_linewidth(1.5)\n",
    "for n in range(len(mode1_100)):\n",
    "    plt.plot(tspan/60, m1alldf100wtkd2.loc[n]['MLKLa_obs'].iloc[:]/5544,\n",
    "             color = 'red', lw=2)\n",
    "plt.xlabel(\"Time (h)\", fontsize=20)\n",
    "plt.ylabel(r\"[pMLKL] / [pMLKL]$_\\mathrm{max}$\", fontsize=20)\n",
    "plt.xlim(xmin = 0, xmax = 16)\n",
    "plt.ylim(ymin = 0)\n",
    "plt.xticks(fontsize=20)\n",
    "plt.yticks(fontsize=20)\n",
    "right_side = ax.spines[\"right\"]\n",
    "right_side.set_visible(False)\n",
    "top = ax.spines[\"top\"]\n",
    "top.set_visible(False)\n",
    "ax.grid(False)\n",
    "ax.set_xticks([0, 5, 10, 15, 20, 24])\n",
    "ax.set_yticks([0, 0.5, 1.0])\n",
    "# plt.plot(x/60, y100, 'o', color = 'black', ms = 10)\n",
    "# ax.legend(loc='center left', bbox_to_anchor=(1, 0.5))\n",
    "# ax.legend(loc='upper center', bbox_to_anchor=(0.5, 1.05),\n",
    "#           ncol=3, fancybox=True, shadow=True)\n",
    "plt.tight_layout()\n",
    "# plt.savefig('mode1_pmlkl_allpars_redcolor_nogridwdata.pdf')\n",
    "plt.show() "
   ]
  },
  {
   "cell_type": "code",
   "execution_count": null,
   "metadata": {},
   "outputs": [],
   "source": [
    "fig, ax = plt.subplots(figsize = (6, 4))\n",
    "for axis in ['top','bottom','left','right']:\n",
    "    ax.spines[axis].set_linewidth(1.5)\n",
    "for n in range(len(mode1_100)):\n",
    "    plt.plot(tspan/60, m1alldf100wtkd.loc[n]['MLKLa_obs'].iloc[:],\n",
    "             color = 'red', lw=2)\n",
    "plt.xlabel(\"Time (h)\", fontsize=20)\n",
    "plt.ylabel(r\"[pMLKL] / [pMLKL]$_\\mathrm{max}$\", fontsize=20)\n",
    "plt.xlim(xmin = 0, xmax = 16)\n",
    "plt.ylim(ymin = 0)\n",
    "plt.xticks(fontsize=20)\n",
    "plt.yticks(fontsize=20)\n",
    "right_side = ax.spines[\"right\"]\n",
    "right_side.set_visible(False)\n",
    "top = ax.spines[\"top\"]\n",
    "top.set_visible(False)\n",
    "ax.grid(False)\n",
    "ax.set_xticks([0, 5, 10, 15, 20, 24])\n",
    "ax.set_yticks([0, 0.5, 1.0])\n",
    "# plt.plot(x/60, y100, 'o', color = 'black', ms = 10)\n",
    "# ax.legend(loc='center left', bbox_to_anchor=(1, 0.5))\n",
    "# ax.legend(loc='upper center', bbox_to_anchor=(0.5, 1.05),\n",
    "#           ncol=3, fancybox=True, shadow=True)\n",
    "plt.tight_layout()\n",
    "# plt.savefig('mode1_pmlkl_allpars_redcolor_nogridwdata.pdf')\n",
    "plt.show() "
   ]
  },
  {
   "cell_type": "code",
   "execution_count": null,
   "metadata": {},
   "outputs": [],
   "source": [
    "solverwtm1oe = ScipyOdeSimulator(model, tspan=tspan, verbose = True)\n",
    "wtm1oe = solverwtm1.run(initials = {m.MLKL(bRHIM=None, state='unmod'):6098},\n",
    "                        param_values=mode1_100, num_processors = 20)\n",
    "m1alldf100wtoe = wtm1oe.dataframe"
   ]
  },
  {
   "cell_type": "code",
   "execution_count": null,
   "metadata": {},
   "outputs": [],
   "source": [
    "solverwtm1oe2 = ScipyOdeSimulator(model, tspan=tspan, verbose = True)\n",
    "wtm1oe2 = solverwtm1oe2.run(initials = {m.MLKL(bRHIM=None, state='unmod'):55440},\n",
    "                        param_values=mode1_100, num_processors = 20)\n",
    "m1alldf100wtoe2 = wtm1oe2.dataframe"
   ]
  },
  {
   "cell_type": "code",
   "execution_count": null,
   "metadata": {},
   "outputs": [],
   "source": [
    "thresh = 2772\n",
    "ttd = []\n",
    "for j in range(len(mode1_100)):\n",
    "#     print(f\"this is output line {j}\")\n",
    "    i_range = range(len(m1alldf100wt.loc[j]['MLKLa_obs']))\n",
    "    for i in i_range:\n",
    "#         print(m3alldf100wt.loc[j]['MLKLa_obs'].iloc[i])\n",
    "        if m1alldf100wt.loc[j]['MLKLa_obs'].iloc[i] > thresh:\n",
    "            ttd.append(m1alldf100wt.loc[j].index[i])\n",
    "            break\n",
    "        if i == i_range[-1]:\n",
    "            ttd.append(np.inf)\n",
    "for i in range(len(ttd)):\n",
    "    if ttd[i] == np.inf:\n",
    "        ttd[i] = 2100            \n",
    "print()        \n",
    "# print(ttd)\n",
    "print(len(ttd))\n",
    "# print('TTD = ', m3alldf100wt['time'][idx])        "
   ]
  },
  {
   "cell_type": "code",
   "execution_count": null,
   "metadata": {},
   "outputs": [],
   "source": [
    "np.array(ttd).dump(open('mode1_allpars_wtpmlkl_ttds.npy', 'wb'))"
   ]
  },
  {
   "cell_type": "code",
   "execution_count": null,
   "metadata": {},
   "outputs": [],
   "source": [
    "thresh = 2772\n",
    "ttdkd = []\n",
    "for j in range(len(mode1_100)):\n",
    "#     print(f\"this is output line {j}\")\n",
    "    i_range = range(len(m1alldf100wtkd.loc[j]['MLKLa_obs']))\n",
    "    for i in i_range:\n",
    "#         print(m3alldf100wt.loc[j]['MLKLa_obs'].iloc[i])\n",
    "        if m1alldf100wtkd.loc[j]['MLKLa_obs'].iloc[i] > thresh:\n",
    "            ttdkd.append(m1alldf100wtkd.loc[j].index[i])\n",
    "            break\n",
    "        if i == i_range[-1]:\n",
    "            ttdkd.append(np.inf)\n",
    "for i in range(len(ttdkd)):\n",
    "    if ttdkd[i] == np.inf:\n",
    "        ttdkd[i] = 2100            \n",
    "print()        \n",
    "# print(ttdkd)\n",
    "print(len(ttdkd))\n",
    "# print('TTD = ', m3alldf100wt['time'][idx])        "
   ]
  },
  {
   "cell_type": "code",
   "execution_count": null,
   "metadata": {},
   "outputs": [],
   "source": [
    "thresh = 2772\n",
    "ttdkd2 = []\n",
    "for j in range(len(mode1_100)):\n",
    "#     print(f\"this is output line {j}\")\n",
    "    i_range = range(len(m1alldf100wtkd2.loc[j]['MLKLa_obs']))\n",
    "    for i in i_range:\n",
    "#         print(m3alldf100wt.loc[j]['MLKLa_obs'].iloc[i])\n",
    "        if m1alldf100wtkd2.loc[j]['MLKLa_obs'].iloc[i] > thresh:\n",
    "            ttdkd22.append(m1alldf100wtkd2.loc[j].index[i])\n",
    "            break\n",
    "        if i == i_range[-1]:\n",
    "            ttdkd2.append(np.inf)\n",
    "for i in range(len(ttdkd2)):\n",
    "    if ttdkd2[i] == np.inf:\n",
    "        ttdkd2[i] = 2100            \n",
    "print()        \n",
    "# print(ttdkd)\n",
    "print(len(ttdkd2))\n",
    "# print('TTD = ', m3alldf100wt['time'][idx])        "
   ]
  },
  {
   "cell_type": "code",
   "execution_count": null,
   "metadata": {},
   "outputs": [],
   "source": [
    "thresh = 2772\n",
    "ttdoe = []\n",
    "for j in range(len(mode1_100)):\n",
    "#     print(f\"this is output line {j}\")\n",
    "    i_range = range(len(m1alldf100wtoe.loc[j]['MLKLa_obs']))\n",
    "    for i in i_range:\n",
    "#         print(m3alldf100wt.loc[j]['MLKLa_obs'].iloc[i])\n",
    "        if m1alldf100wtoe.loc[j]['MLKLa_obs'].iloc[i] > thresh:\n",
    "            ttdoe.append(m1alldf100wtoe.loc[j].index[i])\n",
    "            break\n",
    "        if i == i_range[-1]:\n",
    "            ttdoe.append(np.inf)\n",
    "for i in range(len(ttdoe)):\n",
    "    if ttdoe[i] == np.inf:\n",
    "        ttdoe[i] = 2100            \n",
    "print()        \n",
    "print(len(ttdoe))\n",
    "# print('TTD = ', m3alldf100wt['time'][idx])        "
   ]
  },
  {
   "cell_type": "code",
   "execution_count": null,
   "metadata": {},
   "outputs": [],
   "source": [
    "thresh = 2772\n",
    "ttdoe2 = []\n",
    "for j in range(len(mode1_100)):\n",
    "#     print(f\"this is output line {j}\")\n",
    "    i_range = range(len(m1alldf100wtoe2.loc[j]['MLKLa_obs']))\n",
    "    for i in i_range:\n",
    "#         print(m3alldf100wt.loc[j]['MLKLa_obs'].iloc[i])\n",
    "        if m1alldf100wtoe2.loc[j]['MLKLa_obs'].iloc[i] > thresh:\n",
    "            ttdoe2.append(m1alldf100wtoe2.loc[j].index[i])\n",
    "            break\n",
    "        if i == i_range[-1]:\n",
    "            ttdoe2.append(np.inf)\n",
    "for i in range(len(ttdoe2)):\n",
    "    if ttdoe2[i] == np.inf:\n",
    "        ttdoe2[i] = 2100            \n",
    "print()        \n",
    "print(len(ttdoe2))\n",
    "# print('TTD = ', m3alldf100wt['time'][idx])        "
   ]
  },
  {
   "cell_type": "code",
   "execution_count": null,
   "metadata": {},
   "outputs": [],
   "source": [
    "mode2dfn = pd.DataFrame({'WT': ttd,\n",
    "                            'KD': ttdkd,\n",
    "                         'KD2': ttdkd2,\n",
    "                          'OE': ttdoe,\n",
    "                         'OE2': ttdoe2})\n",
    "framesm4 = [mode2dfn]\n",
    "dfclus4 = pd.DataFrame(data = pd.concat(framesm4), columns = ['WT','KD','KD2','OE','OE2'])\n",
    "dfm4fadd = pd.melt(dfclus4)"
   ]
  },
  {
   "cell_type": "code",
   "execution_count": null,
   "metadata": {},
   "outputs": [],
   "source": [
    "sim_idx_pmlklm1 = [idx for idx in range(len(mode1_100)) if m1alldf100wt ['MLKLa_obs'][idx].iloc[382] > 2772]\n",
    "print(len(sim_idx_pmlklm1))"
   ]
  },
  {
   "cell_type": "code",
   "execution_count": null,
   "metadata": {},
   "outputs": [],
   "source": [
    "np.save('../../param_files/necro_pars10k_cluster1_5720_modwo5.npy', mode1_100[sim_idx_pmlklm1])"
   ]
  },
  {
   "cell_type": "code",
   "execution_count": null,
   "metadata": {},
   "outputs": [],
   "source": [
    "x = np.array([0, 30, 90, 270,480, 720, 960])\n",
    "y100 = np.array([0, 0.00885691708746097,0.0161886154261265,0.0373005242261882, 0.2798939020159581, .7797294067, 0.98])\n",
    "fig, ax = plt.subplots(figsize = (6, 4))\n",
    "for axis in ['top','bottom','left','right']:\n",
    "    ax.spines[axis].set_linewidth(1.5)\n",
    "for n in range(len(mode1_100)):\n",
    "    plt.plot(tspan/60, m1alldf100wt.loc[n]['MLKLa_obs'].iloc[:]/m1alldf100wt['MLKLa_obs'].iloc[:].max(),\n",
    "             color = 'red', lw=2)\n",
    "plt.xlabel(\"Time (h)\", fontsize=20)\n",
    "plt.ylabel(r\"[pMLKL] / [pMLKL]$_\\mathrm{max}$\", fontsize=20)\n",
    "plt.xlim(xmin = 0, xmax = 16)\n",
    "plt.ylim(ymin = 0)\n",
    "plt.xticks(fontsize=20)\n",
    "plt.yticks(fontsize=20)\n",
    "right_side = ax.spines[\"right\"]\n",
    "right_side.set_visible(False)\n",
    "top = ax.spines[\"top\"]\n",
    "top.set_visible(False)\n",
    "ax.grid(False)\n",
    "ax.set_xticks([0, 5, 10, 15, 20, 24])\n",
    "ax.set_yticks([0, 0.5, 1.0])\n",
    "plt.plot(x/60, y100, 'o', color = 'black', ms = 10)\n",
    "# ax.legend(loc='center left', bbox_to_anchor=(1, 0.5))\n",
    "# ax.legend(loc='upper center', bbox_to_anchor=(0.5, 1.05),\n",
    "#           ncol=3, fancybox=True, shadow=True)\n",
    "plt.tight_layout()\n",
    "plt.savefig('mode1_pmlkl_allpars_redcolor_nogridwdata.pdf')\n",
    "plt.show() "
   ]
  },
  {
   "cell_type": "code",
   "execution_count": null,
   "metadata": {},
   "outputs": [],
   "source": [
    "m = model.components\n",
    "tspan = np.linspace(0,1800,500)"
   ]
  },
  {
   "cell_type": "code",
   "execution_count": null,
   "metadata": {},
   "outputs": [],
   "source": [
    "solvera201 = ScipyOdeSimulator(model, tspan=tspan, verbose = True)\n",
    "a20clus1 = solvera201.run(initials = {m.A20(brip = None):0},\n",
    "                         param_values=mode1_100, num_processors = 20)\n",
    "# a20clus1.save('h5mod/pydyno_s36prod_10k_5720_100tnf_c1parsmod_30hra20ko.h5',include_obs_exprs = True)\n",
    "c1df100a201 = a20clus1.dataframe"
   ]
  },
  {
   "cell_type": "code",
   "execution_count": null,
   "metadata": {},
   "outputs": [],
   "source": [
    "a20clus1.save('mode1_allpars_a20ko.h5', include_obs_exprs=True)\n",
    "# np.array(ttdm2ciapoe).dump(open('mode1_allpars_ciapoe_ttds.npy', 'wb'))"
   ]
  },
  {
   "cell_type": "code",
   "execution_count": null,
   "metadata": {},
   "outputs": [],
   "source": [
    "solvercyld0 = ScipyOdeSimulator(model, tspan=tspan, verbose = True)\n",
    "cyldclus0 = solvercyld0.run(initials = {m.CYLD(brip=None, btraf = None):0},\n",
    "                         param_values=mode1_100, num_processors = 20)\n",
    "# cyldclus0.save('h5mod/pydyno_s36prod_10k_5720_100tnf_c0parsmod_30hcyldko.h5',include_obs_exprs = True)\n",
    "c0df100cyld = cyldclus0.dataframe"
   ]
  },
  {
   "cell_type": "code",
   "execution_count": null,
   "metadata": {},
   "outputs": [],
   "source": [
    "cyldclus0.save('mode1_allpars_cyldko.h5', include_obs_exprs=True)"
   ]
  },
  {
   "cell_type": "code",
   "execution_count": null,
   "metadata": {},
   "outputs": [],
   "source": [
    "solvercylda200 = ScipyOdeSimulator(model, tspan=tspan, verbose = True)\n",
    "cyldclusa200 = solvercylda200.run(initials = {m.CYLD(brip=None, btraf = None):0,m.A20(brip = None):0},\n",
    "                         param_values=mode1_100, num_processors = 20)\n",
    "# cyldclus0.save('h5mod/pydyno_s36prod_10k_5720_100tnf_c0parsmod_30hcyldko.h5',include_obs_exprs = True)\n",
    "c0df100cylda20 = cyldclusa200.dataframe"
   ]
  },
  {
   "cell_type": "code",
   "execution_count": null,
   "metadata": {},
   "outputs": [],
   "source": [
    "cyldclusa200.save('mode1_allpars_cylda20dko.h5', include_obs_exprs=True)"
   ]
  },
  {
   "cell_type": "code",
   "execution_count": null,
   "metadata": {},
   "outputs": [],
   "source": [
    "threshold = 2772"
   ]
  },
  {
   "cell_type": "code",
   "execution_count": null,
   "metadata": {},
   "outputs": [],
   "source": [
    "df_threshtimesc2100wt = m1alldf100wt.groupby('simulation').apply(lambda x: (x > threshold).idxmax()).apply(lambda x: [y[1] for y in x])\n",
    "df_threshtimesc2100a20   = c1df100a201.groupby('simulation').apply(lambda x: (x > threshold).idxmax()).apply(lambda x: [y[1] for y in x])\n",
    "df_threshtimesc2100cyld = c0df100cyld.groupby('simulation').apply(lambda x: (x > threshold).idxmax()).apply(lambda x: [y[1] for y in x])\n",
    "df_threshtimesc2100cylda20 = c0df100cylda20.groupby('simulation').apply(lambda x: (x > threshold).idxmax()).apply(lambda x: [y[1] for y in x])"
   ]
  },
  {
   "cell_type": "code",
   "execution_count": null,
   "metadata": {},
   "outputs": [],
   "source": [
    "thresh = 2772\n",
    "ttdwt = []\n",
    "for j in range(len(mode1_100)):\n",
    "#     print(f\"this is output line {j}\")\n",
    "    i_range = range(len(m1alldf100wt.loc[j]['MLKLa_obs']))\n",
    "    for i in i_range:\n",
    "        if m1alldf100wt.loc[j]['MLKLa_obs'].iloc[i] > thresh:\n",
    "            ttdwt.append(m1alldf100wt.loc[j].index[i])\n",
    "            break\n",
    "        if i == i_range[-1]:\n",
    "            ttdwt.append(np.inf)"
   ]
  },
  {
   "cell_type": "code",
   "execution_count": null,
   "metadata": {},
   "outputs": [],
   "source": []
  },
  {
   "cell_type": "code",
   "execution_count": null,
   "metadata": {},
   "outputs": [],
   "source": [
    "thresh = 2772\n",
    "ttda20 = []\n",
    "for j in range(len(mode1_100)):\n",
    "#     print(f\"this is output line {j}\")\n",
    "    i_range = range(len(c1df100a201.loc[j]['MLKLa_obs']))\n",
    "    for i in i_range:\n",
    "#         print(m3alldf100wt.loc[j]['MLKLa_obs'].iloc[i])\n",
    "        if c1df100a201.loc[j]['MLKLa_obs'].iloc[i] > thresh:\n",
    "            ttda20.append(c1df100a201.loc[j].index[i])\n",
    "            break\n",
    "        if i == i_range[-1]:\n",
    "            ttda20.append(np.inf)\n",
    "print()        \n",
    "print(ttda20)\n",
    "print(len(ttda20))\n",
    "# print('TTD = ', m3alldf100wt['time'][idx])  "
   ]
  },
  {
   "cell_type": "code",
   "execution_count": null,
   "metadata": {},
   "outputs": [],
   "source": [
    "np.array(ttda20).dump(open('mode1_allpars_a20ko_ttds.npy', 'wb'))"
   ]
  },
  {
   "cell_type": "code",
   "execution_count": null,
   "metadata": {},
   "outputs": [],
   "source": [
    "thresh = 2772\n",
    "ttdcyld = []\n",
    "for j in range(len(mode1_100)):\n",
    "#     print(f\"this is output line {j}\")\n",
    "    i_range = range(len(c0df100cyld.loc[j]['MLKLa_obs']))\n",
    "    for i in i_range:\n",
    "#         print(m3alldf100wt.loc[j]['MLKLa_obs'].iloc[i])\n",
    "        if c0df100cyld.loc[j]['MLKLa_obs'].iloc[i] > thresh:\n",
    "            ttdcyld.append(c0df100cyld.loc[j].index[i])\n",
    "            break\n",
    "        if i == i_range[-1]:\n",
    "            ttdcyld.append(np.inf)\n",
    "print()        \n",
    "print(ttdcyld)\n",
    "print(len(ttdcyld))\n",
    "# print('TTD = ', m3alldf100wt['time'][idx])  "
   ]
  },
  {
   "cell_type": "code",
   "execution_count": null,
   "metadata": {},
   "outputs": [],
   "source": [
    "np.array(ttdcyld).dump(open('mode1_allpars_cyldko_ttds.npy', 'wb'))"
   ]
  },
  {
   "cell_type": "code",
   "execution_count": null,
   "metadata": {},
   "outputs": [],
   "source": [
    "thresh = 2772\n",
    "ttdcylda20 = []\n",
    "for j in range(len(mode1_100)):\n",
    "#     print(f\"this is output line {j}\")\n",
    "    i_range = range(len(c0df100cylda20.loc[j]['MLKLa_obs']))\n",
    "    for i in i_range:\n",
    "#         print(m3alldf100wt.loc[j]['MLKLa_obs'].iloc[i])\n",
    "        if c0df100cylda20.loc[j]['MLKLa_obs'].iloc[i] > thresh:\n",
    "            ttdcylda20.append(c0df100cylda20.loc[j].index[i])\n",
    "            break\n",
    "        if i == i_range[-1]:\n",
    "            ttdcylda20.append(np.inf)\n",
    "print()        \n",
    "print(ttdcylda20)\n",
    "print(len(ttdcylda20))\n",
    "# print('TTD = ', m3alldf100wt['time'][idx])  "
   ]
  },
  {
   "cell_type": "code",
   "execution_count": null,
   "metadata": {},
   "outputs": [],
   "source": [
    "np.array(ttdcylda20).dump(open('mode1_allpars_cylda20dko_ttds.npy', 'wb'))"
   ]
  },
  {
   "cell_type": "code",
   "execution_count": null,
   "metadata": {},
   "outputs": [],
   "source": [
    "m1occurrenceswt = ttdwt.count(2100)\n",
    "m1occurrencesa20 = ttda20.count(2100)\n",
    "m1occurrencescyld = ttdcyld.count(2100)\n",
    "m1occurrencescylda20 = ttdcylda20.count(2100)\n",
    "print(m1occurrenceswt)\n",
    "print(m1occurrencesa20)\n",
    "print(m1occurrencescyld)\n",
    "print(m1occurrencescylda20)"
   ]
  },
  {
   "cell_type": "code",
   "execution_count": null,
   "metadata": {},
   "outputs": [],
   "source": [
    "thresh = 2772\n",
    "ttda202 = []\n",
    "for j in range(len(mode1_100)):\n",
    "#     print(f\"this is output line {j}\")\n",
    "    i_range = range(len(c1df100a201.loc[j]['MLKLa_obs']))\n",
    "    for i in i_range:\n",
    "#         print(m3alldf100wt.loc[j]['MLKLa_obs'].iloc[i])\n",
    "        if c1df100a201.loc[j]['MLKLa_obs'].iloc[i] > thresh:\n",
    "            ttda202.append(c1df100a201.loc[j].index[i])\n",
    "            break\n",
    "        if i == i_range[-1]:\n",
    "            ttda202.append(np.inf)\n",
    "for i in range(0, 150):\n",
    "    if ttda202[i] == np.inf:\n",
    "        ttda202[i] = 2110\n",
    "for i in range(150, 300):\n",
    "    if ttda202[i] == np.inf:\n",
    "        ttda202[i] = 2120\n",
    "for i in range(300,465):\n",
    "    if ttda202[i] == np.inf:\n",
    "        ttda202[i] = 2130\n",
    "# for i in range(354,465):\n",
    "#     if ttda202[i] == np.inf:\n",
    "#         ttda202[i] = 2130\n",
    "        \n",
    "# for i in range(0, 118):\n",
    "#     if ttdcyld4[i] == np.inf:\n",
    "#         ttdcyld4[i] = 2100\n",
    "# for i in range(118, 236):\n",
    "#     if ttdcyld4[i] == np.inf:\n",
    "#         ttdcyld4[i] = 2110\n",
    "# for i in range(236,354):\n",
    "#     if ttdcyld4[i] == np.inf:\n",
    "#         ttdcyld4[i] = 2120\n",
    "# for i in range(354,473):\n",
    "#     if ttdcyld4[i] == np.inf:\n",
    "#         ttdcyld4[i] = 2130"
   ]
  },
  {
   "cell_type": "code",
   "execution_count": null,
   "metadata": {},
   "outputs": [],
   "source": [
    "np.array(ttda202).dump(open('mode1_allpars_a20ko_modttds.npy', 'wb'))"
   ]
  },
  {
   "cell_type": "code",
   "execution_count": null,
   "metadata": {},
   "outputs": [],
   "source": [
    "thresh = 2772\n",
    "ttdcylda20mod2 = []\n",
    "for j in range(len(mode1_100)):\n",
    "#     print(f\"this is output line {j}\")\n",
    "    i_range = range(len(c0df100cylda20.loc[j]['MLKLa_obs']))\n",
    "    for i in i_range:\n",
    "#         print(m3alldf100wt.loc[j]['MLKLa_obs'].iloc[i])\n",
    "        if c0df100cylda20.loc[j]['MLKLa_obs'].iloc[i] > thresh:\n",
    "            ttdcylda20mod2.append(c0df100cylda20.loc[j].index[i])\n",
    "            break\n",
    "        if i == i_range[-1]:\n",
    "            ttdcylda20mod2.append(np.inf)\n",
    "for i in range(0, 400):\n",
    "    if ttdcylda20mod2[i] == np.inf:\n",
    "        ttdcylda20mod2[i] = 2050\n",
    "for i in range(400, 800):\n",
    "    if ttdcylda20mod2[i] == np.inf:\n",
    "        ttdcylda20mod2[i] = 2060\n",
    "for i in range(800, 1200):\n",
    "    if ttdcylda20mod2[i] == np.inf:\n",
    "        ttdcylda20mod2[i] = 2070\n",
    "for i in range(1200, 1600):\n",
    "    if ttdcylda20mod2[i] == np.inf:\n",
    "        ttdcylda20mod2[i] = 2080\n",
    "for i in range(1600, 2000):\n",
    "    if ttdcylda20mod2[i] == np.inf:\n",
    "        ttdcylda20mod2[i] = 2090\n",
    "for i in range(2000,2400):\n",
    "    if ttdcylda20mod2[i] == np.inf:\n",
    "        ttdcylda20mod2[i] = 2100\n",
    "for i in range(2400,2800):\n",
    "    if ttdcylda20mod2[i] == np.inf:\n",
    "        ttdcylda20mod2[i] = 2110\n",
    "for i in range(2800, 3200):\n",
    "    if ttdcylda20mod2[i] == np.inf:\n",
    "        ttdcylda20mod2[i] = 2120\n",
    "for i in range(3200,3605):\n",
    "    if ttdcylda20mod2[i] == np.inf:\n",
    "        ttdcylda20mod2[i] = 2130"
   ]
  },
  {
   "cell_type": "code",
   "execution_count": null,
   "metadata": {},
   "outputs": [],
   "source": [
    "np.array(ttdcylda20mod2).dump(open('mode1_allpars_cylda20dko_modttds.npy', 'wb'))"
   ]
  },
  {
   "cell_type": "code",
   "execution_count": null,
   "metadata": {},
   "outputs": [],
   "source": [
    "ttdcyld4 = []\n",
    "for j in range(len(mode1_100)):\n",
    "#     print(f\"this is output line {j}\")\n",
    "    i_range = range(len(c1df100a201.loc[j]['MLKLa_obs']))\n",
    "    for i in i_range:\n",
    "#         print(m3alldf100wt.loc[j]['MLKLa_obs'].iloc[i])\n",
    "        if c1df100a201.loc[j]['MLKLa_obs'].iloc[i] > thresh:\n",
    "            ttdcyld4.append(c1df100a201.loc[j].index[i])\n",
    "            break\n",
    "        if i == i_range[-1]:\n",
    "            ttdcyld4.append(np.inf)\n",
    "for i in range(0, 155):\n",
    "    if ttdcyld4[i] == np.inf:\n",
    "        ttdcyld4[i] = 2100\n",
    "for i in range(155, 310):\n",
    "    if ttdcyld4[i] == np.inf:\n",
    "        ttdcyld4[i] = 2110\n",
    "for i in range(310,465):\n",
    "    if ttdcyld4[i] == np.inf:\n",
    "        ttdcyld4[i] = 2120\n",
    "# for i in range(0, 118):\n",
    "#     if ttdcyld4[i] == np.inf:\n",
    "#         ttdcyld4[i] = 2100\n",
    "# for i in range(118, 236):\n",
    "#     if ttdcyld4[i] == np.inf:\n",
    "#         ttdcyld4[i] = 2110\n",
    "# for i in range(236,354):\n",
    "#     if ttdcyld4[i] == np.inf:\n",
    "#         ttdcyld4[i] = 2120\n",
    "# for i in range(354,465):\n",
    "#     if ttdcyld4[i] == np.inf:\n",
    "#         ttdcyld4[i] = 2130"
   ]
  },
  {
   "cell_type": "code",
   "execution_count": null,
   "metadata": {},
   "outputs": [],
   "source": [
    "np.array(ttdcyld4).dump(open('mode1_allpars_a20ko_modttds.npy', 'wb'))"
   ]
  },
  {
   "cell_type": "code",
   "execution_count": null,
   "metadata": {},
   "outputs": [],
   "source": [
    "m1occurrenceswt = ttdcyld4.count(2100)\n",
    "m1occurrencesa20 = ttdcyld4.count(2100)\n",
    "m1occurrencescyld = ttdcyld4.count(2100)\n",
    "print(m1occurrenceswt)"
   ]
  },
  {
   "cell_type": "code",
   "execution_count": null,
   "metadata": {},
   "outputs": [],
   "source": [
    "#['lightcoral', 'lightseagreen', 'mediumpurple', 'peru']\n",
    "mode1df1 = pd.DataFrame({'WT': ttdwt, \n",
    "                         'A20 KO': ttdcyld4,\n",
    "                          'CYLD KO': ttdcyld,\n",
    "                          ,\n",
    "                       'A20;CYLD DKO': ttdcylda20mod2})\n",
    "dfclus0n1 = pd.DataFrame(data = mode1df1, columns = ['WT', 'CYLD KO','A20 KO', 'CYLD;A20 DKO'])\n",
    "dfclus1n1 = pd.melt(dfclus0n1)"
   ]
  },
  {
   "cell_type": "code",
   "execution_count": null,
   "metadata": {},
   "outputs": [],
   "source": [
    "#['lightcoral', 'lightseagreen', 'mediumpurple', 'peru']\n",
    "mode1df1 = pd.DataFrame({'WT': ttdwt, \n",
    "                         'A20 KO': ttdcyld4,\n",
    "                          'CYLD KO': ttdcyld,\n",
    "                       'A20;CYLD DKO': ttdcylda20mod2})\n",
    "dfclus0n1 = pd.DataFrame(data = mode1df1, columns = ['WT', 'A20 KO', 'CYLD KO','A20;CYLD DKO'])\n",
    "dfclus1n1 = pd.melt(dfclus0n1)"
   ]
  },
  {
   "cell_type": "code",
   "execution_count": null,
   "metadata": {},
   "outputs": [],
   "source": [
    "dfclus0n1.head()"
   ]
  },
  {
   "cell_type": "code",
   "execution_count": null,
   "metadata": {},
   "outputs": [],
   "source": [
    "dfclus0n1.to_csv(\"mode1_allparsdf_wmodttds.csv\")"
   ]
  },
  {
   "cell_type": "code",
   "execution_count": null,
   "metadata": {},
   "outputs": [],
   "source": [
    "sns.set_style(\"whitegrid\", {'axes.grid' : False})\n",
    "fig, ax = plt.subplots(figsize = (15,10))\n",
    "for axis in ['top','bottom','left','right']:\n",
    "    ax.spines[axis].set_linewidth(1.5)\n",
    "my_pal = {\"WT\": \"red\", \"A20 KO\":\"lightcoral\", \"CYLD KO\": \"darkred\", 'A20;CYLD DKO': 'rosybrown'}\n",
    "# b = sns.boxplot(x = \"value\", y =\"variable\", data = dfclus0, notch = True, width = 0.5, palette = my_pal)\n",
    "b = sns.swarmplot(x=\"value\", y=\"variable\", data=dfclus1n1, zorder=2, palette=my_pal)\n",
    "# b = sns.boxplot(x = \"value\", y =\"variable\", data = dfclus0, notch = True, width = 0.5, palette = my_pal)\n",
    "b.set_xlabel(\"Time (m)\",fontsize=25)\n",
    "b.set_ylabel(\"\",fontsize=25)\n",
    "plt.xticks(fontsize = 25)\n",
    "# b.set_ylabel(\"Cluster 0 New\",fontsize=15)\n",
    "b.tick_params(labelsize=25)\n",
    "plt.xlim(xmax = 2150, xmin = 0)\n",
    "ax.set_xticks([0,300, 600, 900, 1200, 1500,1800])\n",
    "plt.annotate(r'$\\infty$', xy = (0.95,-0.04), xycoords ='axes fraction', fontsize = 40)\n",
    "plt.tight_layout()\n",
    "plt.savefig('pmlkl_cylda20dko_100tnf_mode1_swarm_redcolors_ttdupdated_moda20cyldswap.pdf')\n",
    "plt.show()"
   ]
  },
  {
   "cell_type": "code",
   "execution_count": null,
   "metadata": {},
   "outputs": [],
   "source": []
  },
  {
   "cell_type": "code",
   "execution_count": null,
   "metadata": {},
   "outputs": [],
   "source": [
    "sns.set_style(\"whitegrid\", {'axes.grid' : False})\n",
    "fig, ax = plt.subplots(figsize = (15,10))\n",
    "for axis in ['top','bottom','left','right']:\n",
    "    ax.spines[axis].set_linewidth(1.5)\n",
    "my_pal = {\"WT\": \"red\", \"CYLD KO\": \"lightcoral\", \"A20 KO\":\"darkred\", 'CYLD;A20 DKO': 'rosybrown'}\n",
    "# b = sns.boxplot(x = \"value\", y =\"variable\", data = dfclus0, notch = True, width = 0.5, palette = my_pal)\n",
    "b = sns.swarmplot(x=\"value\", y=\"variable\", data=dfclus1n1, zorder=2, palette=my_pal)\n",
    "# b = sns.boxplot(x = \"value\", y =\"variable\", data = dfclus0, notch = True, width = 0.5, palette = my_pal)\n",
    "b.set_xlabel(\"Time (m)\",fontsize=25)\n",
    "plt.xticks(fontsize = 25)\n",
    "# b.set_ylabel(\"Cluster 0 New\",fontsize=15)\n",
    "b.tick_params(labelsize=25)\n",
    "plt.xlim(xmax = 2150, xmin = 0)\n",
    "ax.set_xticks([0,300, 600, 900, 1200, 1500,1800])\n",
    "plt.tight_layout()\n",
    "plt.savefig('pmlkl_cylda20dko_100tnf_mode1_swarm_redcolors_ttdupdated.pdf')\n",
    "plt.show()"
   ]
  },
  {
   "cell_type": "code",
   "execution_count": null,
   "metadata": {},
   "outputs": [],
   "source": []
  },
  {
   "cell_type": "code",
   "execution_count": null,
   "metadata": {},
   "outputs": [],
   "source": []
  },
  {
   "cell_type": "code",
   "execution_count": null,
   "metadata": {},
   "outputs": [],
   "source": []
  }
 ],
 "metadata": {
  "kernelspec": {
   "display_name": "Python 3",
   "language": "python",
   "name": "python3"
  },
  "language_info": {
   "codemirror_mode": {
    "name": "ipython",
    "version": 3
   },
   "file_extension": ".py",
   "mimetype": "text/x-python",
   "name": "python",
   "nbconvert_exporter": "python",
   "pygments_lexer": "ipython3",
   "version": "3.7.5"
  }
 },
 "nbformat": 4,
 "nbformat_minor": 2
}
