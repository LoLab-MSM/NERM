{
 "cells": [
  {
   "cell_type": "code",
   "execution_count": 1,
   "metadata": {},
   "outputs": [
    {
     "name": "stdout",
     "output_type": "stream",
     "text": [
      "rules: 25\n",
      "reactions: 40\n",
      "species: 37\n",
      "parameters: 54\n",
      "rate constants: 40\n",
      "\n",
      "ComponentSet([\n",
      " Parameter('TNF_0', 2326.0),\n",
      " Parameter('TNFR_0', 4800.0),\n",
      " Parameter('TRADD_0', 4696.0),\n",
      " Parameter('RIP1_0', 40000.0),\n",
      " Parameter('TRAF_0', 11776.0),\n",
      " Parameter('cIAP_0', 9000.0),\n",
      " Parameter('A20_0', 9000.0),\n",
      " Parameter('CYLD_0', 9000.0),\n",
      " Parameter('FADD_0', 3109.0),\n",
      " Parameter('flip_L_0', 3900.0),\n",
      " Parameter('Lubac_0', 7226.0),\n",
      " Parameter('C8_0', 3799.0),\n",
      " Parameter('RIP3_0', 10654.0),\n",
      " Parameter('MLKLa_0', 5544.0),\n",
      " Parameter('p1f', 1e-06),\n",
      " Parameter('p1r', 0.001),\n",
      " Parameter('p2f', 0.001),\n",
      " Parameter('p3f', 1e-06),\n",
      " Parameter('p3r', 0.001),\n",
      " Parameter('p4f', 1e-06),\n",
      " Parameter('p4r', 0.001),\n",
      " Parameter('p5f', 1e-06),\n",
      " Parameter('p5r', 0.001),\n",
      " Parameter('p6f', 1e-06),\n",
      " Parameter('p6r', 0.001),\n",
      " Parameter('p7f', 0.1),\n",
      " Parameter('p8f', 1e-06),\n",
      " Parameter('p8r', 0.001),\n",
      " Parameter('p9f', 1e-06),\n",
      " Parameter('p9r', 0.001),\n",
      " Parameter('p10f', 0.1),\n",
      " Parameter('p11f', 1e-06),\n",
      " Parameter('p11r', 0.001),\n",
      " Parameter('p12f', 0.1),\n",
      " Parameter('p13f', 0.1),\n",
      " Parameter('p13r', 3.11e-07),\n",
      " Parameter('p14f', 3.27e-06),\n",
      " Parameter('p14r', 0.018),\n",
      " Parameter('p15f', 3.27e-06),\n",
      " Parameter('p15r', 0.018),\n",
      " Parameter('p16f', 0.0327),\n",
      " Parameter('p16r', 0.018),\n",
      " Parameter('p17f', 1e-06),\n",
      " Parameter('p18f', 1e-06),\n",
      " Parameter('p18r', 0.001),\n",
      " Parameter('p19f', 0.1),\n",
      " Parameter('p20f', 0.01),\n",
      " Parameter('p20r', 0.001),\n",
      " Parameter('p21f', 0.001),\n",
      " Parameter('p22f', 1e-06),\n",
      " Parameter('p23f', 1.0),\n",
      " Parameter('p24f', 1e-06),\n",
      " Parameter('p24r', 0.001),\n",
      " Parameter('p25f', 1e-06),\n",
      " ])\n",
      "\n",
      "{'reactants': (0, 1), 'products': (14,), 'rate': __s0*__s1*p1f, 'rule': ('bind_TNF_TNFR',), 'reverse': (False,)}\n",
      "{'reactants': (0,), 'products': (), 'rate': __s0*p2f, 'rule': ('TNF_deg',), 'reverse': (False,)}\n",
      "{'reactants': (14,), 'products': (0, 1), 'rate': __s14*p1r, 'rule': ('bind_TNF_TNFR',), 'reverse': (True,)}\n",
      "{'reactants': (2, 14), 'products': (15,), 'rate': __s14*__s2*p3f, 'rule': ('bind_TNFRANY_TRADD',), 'reverse': (False,)}\n",
      "{'reactants': (15,), 'products': (2, 14), 'rate': __s15*p3r, 'rule': ('bind_TNFRANY_TRADD',), 'reverse': (True,)}\n",
      "{'reactants': (3, 15), 'products': (16,), 'rate': __s15*__s3*p4f, 'rule': ('bind_TNFRANY_RIP1unmod',), 'reverse': (False,)}\n",
      "{'reactants': (16,), 'products': (3, 15), 'rate': __s16*p4r, 'rule': ('bind_TNFRANY_RIP1unmod',), 'reverse': (True,)}\n",
      "{'reactants': (4, 16), 'products': (17,), 'rate': __s16*__s4*p5f, 'rule': ('ComplexI_b_traf2',), 'reverse': (False,)}\n",
      "{'reactants': (17,), 'products': (4, 16), 'rate': __s17*p5r, 'rule': ('ComplexI_b_traf2',), 'reverse': (True,)}\n",
      "{'reactants': (5, 17), 'products': (18,), 'rate': __s17*__s5*p6f, 'rule': ('ComplexI_b_ciap',), 'reverse': (False,)}\n",
      "{'reactants': (18,), 'products': (5, 17), 'rate': __s18*p6r, 'rule': ('ComplexI_b_ciap',), 'reverse': (True,)}\n",
      "{'reactants': (18,), 'products': (19,), 'rate': __s18*p7f, 'rule': ('Complex_I_RIP1ub',), 'reverse': (False,)}\n",
      "{'reactants': (12, 19), 'products': (20,), 'rate': __s12*__s19*p8f, 'rule': ('ComplexI_Lubac',), 'reverse': (False,)}\n",
      "{'reactants': (20,), 'products': (12, 19), 'rate': __s20*p8r, 'rule': ('ComplexI_Lubac',), 'reverse': (True,)}\n",
      "{'reactants': (7, 20), 'products': (21,), 'rate': __s20*__s7*p9f, 'rule': ('bind_RIP1K63ub_A20',), 'reverse': (False,)}\n",
      "{'reactants': (8, 20), 'products': (22,), 'rate': __s20*__s8*p11f, 'rule': ('bind_RIP1K63ub_CYLD',), 'reverse': (False,)}\n",
      "{'reactants': (21,), 'products': (7, 20), 'rate': __s21*p9r, 'rule': ('bind_RIP1K63ub_A20',), 'reverse': (True,)}\n",
      "{'reactants': (21,), 'products': (0, 1, 4, 5, 7, 12, 23), 'rate': __s21*p10f, 'rule': ('RIP1db_A20',), 'reverse': (False,)}\n",
      "{'reactants': (22,), 'products': (8, 20), 'rate': __s22*p11r, 'rule': ('bind_RIP1K63ub_CYLD',), 'reverse': (True,)}\n",
      "{'reactants': (22,), 'products': (0, 1, 4, 5, 8, 12, 23), 'rate': __s22*p12f, 'rule': ('RIP1db_CYLD',), 'reverse': (False,)}\n",
      "{'reactants': (9, 23), 'products': (24,), 'rate': __s23*__s9*p13f, 'rule': ('CII_b_FADD',), 'reverse': (False,)}\n",
      "{'reactants': (24,), 'products': (9, 23), 'rate': __s24*p13r, 'rule': ('CII_b_FADD',), 'reverse': (True,)}\n",
      "{'reactants': (13, 24), 'products': (25,), 'rate': __s13*__s24*p14f, 'rule': ('CII_b_C8i',), 'reverse': (False,)}\n",
      "{'reactants': (10, 24), 'products': (26,), 'rate': __s10*__s24*p20f, 'rule': ('CII_b_RIP3',), 'reverse': (False,)}\n",
      "{'reactants': (25,), 'products': (13, 24), 'rate': __s25*p14r, 'rule': ('CII_b_C8i',), 'reverse': (True,)}\n",
      "{'reactants': (11, 25), 'products': (27,), 'rate': __s11*__s25*p15f, 'rule': ('CII_b_FLIP',), 'reverse': (False,)}\n",
      "{'reactants': (26,), 'products': (10, 24), 'rate': __s26*p20r, 'rule': ('CII_b_RIP3',), 'reverse': (True,)}\n",
      "{'reactants': (26,), 'products': (2, 9, 28), 'rate': __s26*p21f, 'rule': ('CII_RIP1dbRIP3',), 'reverse': (False,)}\n",
      "{'reactants': (27,), 'products': (11, 25), 'rate': __s27*p15r, 'rule': ('CII_b_FLIP',), 'reverse': (True,)}\n",
      "{'reactants': (27,), 'products': (29,), 'rate': __s27*p16f, 'rule': ('CIIFLIP_cat_C8a',), 'reverse': (False,)}\n",
      "{'reactants': (28,), 'products': (30,), 'rate': __s28*p22f, 'rule': ('RIP1dbRIP3_RIP1dbRIP3p',), 'reverse': (False,)}\n",
      "{'reactants': (29,), 'products': (27,), 'rate': __s29*p16r, 'rule': ('CIIFLIP_cat_C8a',), 'reverse': (True,)}\n",
      "{'reactants': (29,), 'products': (2, 9, 31, 32), 'rate': __s29*p17f, 'rule': ('CIIC8FL_RIP1truc',), 'reverse': (False,)}\n",
      "{'reactants': (30,), 'products': (33,), 'rate': __s30*p23f, 'rule': ('RIP1dbRIP3p_RIP1pRIP3p',), 'reverse': (False,)}\n",
      "{'reactants': (26, 32), 'products': (34,), 'rate': __s26*__s32*p18f, 'rule': ('CIIRIP3_b_C8FL',), 'reverse': (False,)}\n",
      "{'reactants': (6, 33), 'products': (35,), 'rate': __s33*__s6*p24f, 'rule': ('RIP1pRIP3p_bind_MLKLp',), 'reverse': (False,)}\n",
      "{'reactants': (34,), 'products': (26, 32), 'rate': __s34*p18r, 'rule': ('CIIRIP3_b_C8FL',), 'reverse': (True,)}\n",
      "{'reactants': (34,), 'products': (2, 9, 10, 31, 32), 'rate': __s34*p19f, 'rule': ('CIIC8FLRIP3_RIP1truc',), 'reverse': (False,)}\n",
      "{'reactants': (35,), 'products': (6, 33), 'rate': __s35*p24r, 'rule': ('RIP1pRIP3p_bind_MLKLp',), 'reverse': (True,)}\n",
      "{'reactants': (35,), 'products': (33, 36), 'rate': __s35*p25f, 'rule': ('RIP1pRIP3p_cat_MLKLp',), 'reverse': (False,)}\n"
     ]
    }
   ],
   "source": [
    "import sys \n",
    "# sys.path.append('/Users/geenaildefonso/Projects/NERM')\n",
    "sys.path.append('../../')\n",
    "sys.path.append('/home/ildefog/main/Projects/NERM/')\n",
    "# print(sys.path)\n",
    "from model_files.nerm import model as model\n",
    "import seaborn as sns\n",
    "import numpy as np\n",
    "from matplotlib import pyplot as plt\n",
    "# from necro_pydream_model_file_8920 import model\n",
    "from pysb.simulator import ScipyOdeSimulator\n",
    "import numpy as np\n",
    "from scipy.stats import norm,uniform\n",
    "import seaborn as sns\n",
    "from matplotlib import pyplot as plt\n",
    "import random\n",
    "import os\n",
    "from pylab import *\n",
    "from pysb.core import *\n",
    "from pysb.bng import *\n",
    "from pysb.integrate import *\n",
    "import matplotlib.pyplot as plt\n",
    "import numpy as np\n",
    "from pysb.util import alias_model_components\n",
    "from scipy import stats\n",
    "from pysb.simulator import SimulationResult\n",
    "import pandas as pd\n",
    "import seaborn as sns\n",
    "os.environ[\"OPENBLAS_NUM_THREADS\"] = \"1\""
   ]
  },
  {
   "cell_type": "code",
   "execution_count": null,
   "metadata": {},
   "outputs": [],
   "source": [
    "print(len(model.species))\n",
    "print(len(model.parameters_rules()))\n",
    "print(len(model.reactions))"
   ]
  },
  {
   "cell_type": "code",
   "execution_count": null,
   "metadata": {},
   "outputs": [],
   "source": [
    "model.reactions"
   ]
  },
  {
   "cell_type": "code",
   "execution_count": null,
   "metadata": {},
   "outputs": [],
   "source": [
    "mode1_100 = np.load('../../param_files/necro_pars10k_cluster0_5720_mod.npy')\n",
    "mode2_100 = np.load('../../param_files/necro_pars10k_cluster1_5720_mod.npy')\n",
    "mode3_100 = np.load('../../param_files/necro_pars10k_cluster2_5720_mod.npy')\n",
    "mode4_100 = np.load('../../param_files/necro_pars10k_cluster3_5720_mod.npy')\n",
    "pars = np.load('../../param_files/necro_pars10k_allclusmod.npy')"
   ]
  },
  {
   "cell_type": "code",
   "execution_count": 2,
   "metadata": {},
   "outputs": [],
   "source": [
    "mode4_100e = np.load('../../param_files/necro_pars10k_cluster41_5720_modsplit.npy')\n",
    "mode4_100m = np.load('../../param_files/necro_pars10k_cluster42_5720_modsplit.npy')\n",
    "mode4_100d = np.load('../../param_files/necro_pars10k_cluster43_5720_modsplit.npy')"
   ]
  },
  {
   "cell_type": "code",
   "execution_count": 3,
   "metadata": {},
   "outputs": [],
   "source": [
    "tspan = np.linspace(0, 1440, 1441)"
   ]
  },
  {
   "cell_type": "code",
   "execution_count": null,
   "metadata": {},
   "outputs": [],
   "source": [
    "solverwtm4 = ScipyOdeSimulator(model, tspan=tspan, verbose = True)\n",
    "wtm4 = solverwtm4.run(param_values=mode4_100, num_processors = 20)\n",
    "m4df100wt = wtm4.dataframe"
   ]
  },
  {
   "cell_type": "code",
   "execution_count": null,
   "metadata": {},
   "outputs": [],
   "source": [
    "m4df100wt['MLKLa_obs'].iloc[:].max()"
   ]
  },
  {
   "cell_type": "code",
   "execution_count": null,
   "metadata": {},
   "outputs": [],
   "source": []
  },
  {
   "cell_type": "code",
   "execution_count": null,
   "metadata": {},
   "outputs": [],
   "source": [
    "plt.errorbar(x1001/60, y1001*5544,\n",
    "             yerr=[(0, 0.00885691708746097*5544,0.0161886154261265*5544,0.0373005242261882*5544),\n",
    "             (400,400,400,400)],\n",
    "                   fmt='.k', ecolor ='black', alpha = 0.75, label ='10 ng/ml', zorder = 2)\n",
    "plt.errorbar(x1002/60, y1002*5544,\n",
    "             yerr= 400, fmt='.k', ecolor ='black', alpha = 0.75, label ='10 ng/ml', zorder = 2)\n",
    "#10TNF\n",
    "plt.errorbar(x101/60, y101*5544,\n",
    "             yerr=[(0, 0.0106013664572332*5544,0.00519576571714913*5544,0.02967443048221*5544,\n",
    "                    0.050022163974868*5544),\n",
    "             (400,400,400,400,400)],\n",
    "                   fmt='.k', ecolor ='black', alpha = 0.75, label ='10 ng/ml', zorder = 2)\n",
    "plt.errorbar(x102/60, y102*5544,\n",
    "             yerr= 400, fmt='.k', ecolor ='black', alpha = 0.75, label ='10 ng/ml', zorder = 2)\n",
    "#1TNF\n",
    "plt.errorbar(x1/60, y1*5544,\n",
    "             yerr=[(0,0.085233734*5544,0.006063293*5544,0.009426917*5544,0.011334223*5544,\n",
    "                    0.02*5544),(400,400,400,400,400,400)],\n",
    "                   fmt='.k', ecolor ='black', alpha = 0.75, label ='10 ng/ml', zorder = 2)\n",
    "\n",
    "plt.errorbar(x2/60, y2*5544,\n",
    "             yerr= 400, fmt='.k', ecolor ='black', alpha = 0.75, label ='10 ng/ml', zorder = 2)\n",
    "#01 TNF\n",
    "plt.errorbar(x01/60, y01*5544,\n",
    "              yerr=[(0, 0.006714721*5544,0.007776423*5544,0.00919829*5544,0.001772636*5544,\n",
    "                    0.005*5544, 0.013633013*5544), (400,400,400,400,400,400,400)],\n",
    "                   fmt='.k', ecolor ='black', alpha = 0.75, label ='10 ng/ml', zorder = 2)"
   ]
  },
  {
   "cell_type": "code",
   "execution_count": null,
   "metadata": {},
   "outputs": [],
   "source": [
    "x1001 = np.array([0, 30, 90, 270])\n",
    "x1002 = np.array([480, 720, 960])\n",
    "y1001 = np.array([0, 0.00885691708746097,0.0161886154261265,0.0373005242261882])\n",
    "y1002 = np.array([0.2798939020159581, .7797294067, 0.98])\n",
    "\n",
    "x101 = np.array([0, 30, 90, 270, 480])\n",
    "x102 = np.array([720, 960])\n",
    "y101 = np.array([0, 0.0106013664572332,0.00519576571714913,0.02967443048221,0.050022163974868])\n",
    "y102 = np.array([0.17, 0.47])\n",
    "\n",
    "x1 = np.array([0, 30, 90, 270,480, 720])\n",
    "x2 = np.array([960])\n",
    "y2 = np.array([0.109561346])\n",
    "y1 = np.array([0,0.085233734,0.006063293,0.009426917,0.011334223, 0.02])\n",
    "\n",
    "x01 = np.array([0, 30, 90, 270,480, 720, 960])\n",
    "y01 = np.array([0, 0.006714721,0.007776423,0.00919829,0.001772636, 0.005, 0.013633013])"
   ]
  },
  {
   "cell_type": "code",
   "execution_count": null,
   "metadata": {},
   "outputs": [],
   "source": [
    "fig, ax = plt.subplots(figsize = (7, 4))\n",
    "for n in range(len(mode4_100)):\n",
    "    plt.plot(tspan/60, m4df100wt.loc[n]['MLKLa_obs'].iloc[:]/m4df100wt['MLKLa_obs'].iloc[:].max(),\n",
    "             label = 'pMLKL', zorder =1, lw=2)\n",
    "ax.errorbar(x1001/60, y1001,\n",
    "             yerr=[(0, 0.00885691708746097,0.0161886154261265,0.0373005242261882),\n",
    "             (.07,.07,.07,.07)],\n",
    "                   fmt='.k', ecolor ='black', alpha = 1, zorder = 2)\n",
    "ax.errorbar(x1002/60, y1002,\n",
    "             yerr= .07, fmt='.k', ecolor ='black', alpha = 1, zorder = 2)\n",
    "plt.xlabel(\"Time (in hr)\", fontsize=15)\n",
    "plt.ylabel(\"Amount (normalized)\", fontsize=15)\n",
    "plt.xlim(xmin = 0, xmax = 24)\n",
    "plt.ylim(ymin = 0, ymax = 1)\n",
    "plt.xticks(fontsize=14)\n",
    "plt.yticks(fontsize=14)\n",
    "right_side = ax.spines[\"right\"]\n",
    "right_side.set_visible(False)\n",
    "top = ax.spines[\"top\"]\n",
    "top.set_visible(False)\n",
    "# ax.set_xticks([0, 5, 10, 15, 20, 24])\n",
    "# ax.legend(loc='center left', bbox_to_anchor=(1, 0.5))\n",
    "# ax.legend(loc='upper center', bbox_to_anchor=(0.5, 1.05),\n",
    "#           ncol=3, fancybox=True, shadow=True)\n",
    "plt.tight_layout()\n",
    "# plt.savefig('nerm_mode3_dynamics_CI_CII_necro_pmlkl.pdf')\n",
    "plt.show() "
   ]
  },
  {
   "cell_type": "code",
   "execution_count": null,
   "metadata": {},
   "outputs": [],
   "source": [
    "df = pd.concat([m4df100wt],\n",
    "               keys=['wt100'],\n",
    "               names=['group', 'simulation', 'time'])\n",
    "\n",
    "# Add observable/group pairs as needed\n",
    "obs_to_plot = {\n",
    "    ('MLKLa_obs', 'wt100'): 'blue'}\n",
    "\n",
    "lower_quantile = 0.01  # 10%\n",
    "upper_quantile = 0.98  # 90%\n",
    "median = 0.5\n",
    "\n",
    "fig, ax = plt.subplots()\n",
    "# plt.figure()\n",
    "legend_keys = []\n",
    "for obs_pair, colour in obs_to_plot.items():\n",
    "    obs, group = obs_pair\n",
    "    # Calculate 10%, 50%, and 90% quantiles for observable\n",
    "    quantile_data = df[obs].loc[group].groupby(['time']).quantile(\n",
    "        q=[lower_quantile, median, upper_quantile]).unstack()\n",
    "    time_hrs = quantile_data.index / 60\n",
    "    # Plot the median line (50% quantile) for the observable\n",
    "#     ax.plot(time_hrs, quantile_data.loc[:, median], color=colour)\n",
    "    # Plot the 10% and 90% quantiles as an envelope\n",
    "    ax.fill_between(time_hrs,\n",
    "                    quantile_data.loc[:, lower_quantile]/5544,\n",
    "                    quantile_data.loc[:, upper_quantile]/5544,\n",
    "                    color=colour,\n",
    "                    alpha=.5)\n",
    "ax.errorbar(x1001/60, y1001,\n",
    "             yerr=[(0, 0.00885691708746097,0.0161886154261265,0.0373005242261882),\n",
    "             (.07,.07,.07,.07)],\n",
    "                   fmt='.k', ecolor ='black', alpha = 1, zorder = 2)\n",
    "ax.errorbar(x1002/60, y1002,\n",
    "             yerr= .07, fmt='.k', ecolor ='black', alpha = 1, zorder = 2)\n",
    "ax.set_xticks([0, 5, 10, 15, 20, 24])    \n",
    "right_side = ax.spines[\"right\"]\n",
    "right_side.set_visible(False)\n",
    "top = ax.spines[\"top\"]\n",
    "top.set_visible(False)    \n",
    "plt.ylabel('Amount [molecules/cell]', fontsize = 14) # Y label\n",
    "plt.xlabel('Time (hours)', fontsize = 14) # X label\n",
    "# plt.xlim(xmax =24)\n",
    "plt.ylim(ymin = 1e-3, ymax = 1)\n",
    "# fig.savefig(\"updatedkos/necro_10k_5720_wdata_alltnf.pdf\")\n",
    "plt.show()"
   ]
  },
  {
   "cell_type": "code",
   "execution_count": null,
   "metadata": {},
   "outputs": [],
   "source": [
    "df = pd.concat([m4df100wt],\n",
    "               keys=['wt100'],\n",
    "               names=['group', 'simulation', 'time'])\n",
    "\n",
    "# Add observable/group pairs as needed\n",
    "obs_to_plot = {\n",
    "    ('MLKLa_obs', 'wt100'): 'blue'}\n",
    "\n",
    "lower_quantile = 0.0  # 10%\n",
    "upper_quantile = 1.0  # 90%\n",
    "median = 0.5\n",
    "\n",
    "fig, ax = plt.subplots()\n",
    "# plt.figure()\n",
    "legend_keys = []\n",
    "for obs_pair, colour in obs_to_plot.items():\n",
    "    obs, group = obs_pair\n",
    "    # Calculate 10%, 50%, and 90% quantiles for observable\n",
    "    quantile_data = df[obs].loc[group].groupby(['time']).quantile(\n",
    "        q=[lower_quantile, median, upper_quantile]).unstack()\n",
    "    time_hrs = quantile_data.index / 60\n",
    "    # Plot the median line (50% quantile) for the observable\n",
    "#     ax.plot(time_hrs, quantile_data.loc[:, median], color=colour)\n",
    "    # Plot the 10% and 90% quantiles as an envelope\n",
    "    ax.fill_between(time_hrs,\n",
    "                    quantile_data.loc[:, lower_quantile]/5544,\n",
    "                    quantile_data.loc[:, upper_quantile]/5544,\n",
    "                    color=colour,\n",
    "                    alpha=.5)\n",
    "ax.errorbar(x1001/60, y1001,\n",
    "             yerr=[(0, 0.00885691708746097,0.0161886154261265,0.0373005242261882),\n",
    "             (.07,.07,.07,.07)],\n",
    "                   fmt='.k', ecolor ='black', alpha = 1, zorder = 2)\n",
    "ax.errorbar(x1002/60, y1002,\n",
    "             yerr= .07, fmt='.k', ecolor ='black', alpha = 1, zorder = 2)\n",
    "ax.set_xticks([0, 5, 10, 15, 20, 24])    \n",
    "right_side = ax.spines[\"right\"]\n",
    "right_side.set_visible(False)\n",
    "top = ax.spines[\"top\"]\n",
    "top.set_visible(False)    \n",
    "plt.ylabel('Amount [molecules/cell]', fontsize = 14) # Y label\n",
    "plt.xlabel('Time (hours)', fontsize = 14) # X label\n",
    "# plt.xlim(xmax =24)\n",
    "plt.ylim(ymin = 1e-3, ymax = 1)\n",
    "# fig.savefig(\"updatedkos/necro_10k_5720_wdata_alltnf.pdf\")\n",
    "plt.show()"
   ]
  },
  {
   "cell_type": "code",
   "execution_count": 4,
   "metadata": {},
   "outputs": [
    {
     "name": "stderr",
     "output_type": "stream",
     "text": [
      "2021-12-22 19:20:55.243 - pysb.simulator.scipyode - DEBUG - [model_files.nerm] Simulator created\n",
      "2021-12-22 19:20:55.956 - pysb.simulator.scipyode - DEBUG - [model_files.nerm] Equation mode set to \"cython\"\n",
      "2021-12-22 19:20:56.075 - pysb.simulator.scipyode - INFO - [model_files.nerm] Simulation(s) started\n",
      "2021-12-22 19:20:56.127 - pysb.simulator.scipyode - DEBUG - [model_files.nerm] Multi-processor (parallel) mode using 20 processes\n",
      "2021-12-22 19:20:58.883 - pysb.simulator.scipyode - INFO - [model_files.nerm] All simulation(s) complete\n",
      "2021-12-22 19:20:58.885 - pysb.simulator.scipyode - DEBUG - [model_files.nerm] SimulationResult constructor started\n",
      "2021-12-22 19:20:59.104 - pysb.simulator.scipyode - DEBUG - [model_files.nerm] SimulationResult constructor finished\n"
     ]
    }
   ],
   "source": [
    "solverwtm4e = ScipyOdeSimulator(model, tspan=tspan, verbose = True)\n",
    "wtm4e = solverwtm4e.run(param_values=mode4_100e, num_processors = 20)\n",
    "m4edf100wt = wtm4e.dataframe"
   ]
  },
  {
   "cell_type": "code",
   "execution_count": null,
   "metadata": {},
   "outputs": [],
   "source": [
    "solverwtm4e = ScipyOdeSimulator(model, tspan=tspan, verbose = True)\n",
    "wtm4e = solverwtm4e.run(param_values=mode4_100e, num_processors = 20)\n",
    "m4ealldf100wt = wtm4e.dataframe"
   ]
  },
  {
   "cell_type": "code",
   "execution_count": null,
   "metadata": {},
   "outputs": [],
   "source": [
    "for i,p in enumerate(np.linspace(0, 1440, 1441)):\n",
    "    print(i,\":\",p)"
   ]
  },
  {
   "cell_type": "code",
   "execution_count": null,
   "metadata": {},
   "outputs": [],
   "source": [
    "sim_idx_mode4e = [idx for idx in range(len(mode4_100e)) if m4ealldf100wt['MLKLa_obs'][idx].iloc[300] <= 2772]\n",
    "print(sim_idx_mode4e)"
   ]
  },
  {
   "cell_type": "code",
   "execution_count": null,
   "metadata": {},
   "outputs": [],
   "source": [
    "fig, ax = plt.subplots(figsize = (7, 4))\n",
    "for n in range(len(mode4_100e)):\n",
    "    plt.plot(tspan/60, m4ealldf100wt.loc[n]['MLKLa_obs'].iloc[:]/m4ealldf100wt['MLKLa_obs'].iloc[:].max(),\n",
    "             label = 'pMLKL', zorder =1, lw=2)\n",
    "plt.plot(tspan/60, m4edf100wt['MLKLa_obs'].iloc[:]/m4edf100wt['MLKLa_obs'].iloc[:].max(),label = 'pMLKL', color = 'black', linestyle = '--',lw=5)\n",
    "plt.xlabel(\"Time (in hr)\", fontsize=15)\n",
    "plt.ylabel(\"Amount (normalized)\", fontsize=15)\n",
    "plt.xlim(xmin = 0, xmax = 24)\n",
    "plt.ylim(ymin = 0, ymax = 1)\n",
    "plt.xticks(fontsize=14)\n",
    "plt.yticks(fontsize=14)\n",
    "right_side = ax.spines[\"right\"]\n",
    "right_side.set_visible(False)\n",
    "top = ax.spines[\"top\"]\n",
    "top.set_visible(False)\n",
    "# ax.set_xticks([0, 5, 10, 15, 20, 24])\n",
    "# ax.legend(loc='center left', bbox_to_anchor=(1, 0.5))\n",
    "# ax.legend(loc='upper center', bbox_to_anchor=(0.5, 1.05),\n",
    "#           ncol=3, fancybox=True, shadow=True)\n",
    "plt.tight_layout()\n",
    "# plt.savefig('nerm_mode3_dynamics_CI_CII_necro_pmlkl.pdf')\n",
    "plt.show() "
   ]
  },
  {
   "cell_type": "code",
   "execution_count": null,
   "metadata": {},
   "outputs": [],
   "source": [
    "m = model.monomers\n",
    "# rip1 = wtm4e.observable(m.RIP1())\n",
    "# rip1ub = wtm4e.observable(m.RIP1(state='K63ub'))\n",
    "# rip1db = wtm4e.observable(m.RIP1(state='deub'))\n",
    "# rip1all= rip1un+rip1ub+rip1db"
   ]
  },
  {
   "cell_type": "code",
   "execution_count": null,
   "metadata": {},
   "outputs": [],
   "source": [
    "rip1 = wtm4e.observable(m.RIP1())"
   ]
  },
  {
   "cell_type": "code",
   "execution_count": null,
   "metadata": {},
   "outputs": [],
   "source": [
    "rip1"
   ]
  },
  {
   "cell_type": "code",
   "execution_count": null,
   "metadata": {},
   "outputs": [],
   "source": [
    "m4edf100wt['RIP1unphos_obs']"
   ]
  },
  {
   "cell_type": "code",
   "execution_count": 8,
   "metadata": {},
   "outputs": [
    {
     "data": {
      "image/png": "[encoded data removed]",
      "text/plain": [
       "<Figure size 504x288 with 1 Axes>"
      ]
     },
     "metadata": {
      "needs_background": "light"
     },
     "output_type": "display_data"
    }
   ],
   "source": [
    "fig, ax = plt.subplots(figsize = (7, 4))\n",
    "for n in range(len(mode4_100e)):\n",
    "    plt.plot(tspan/60, m4edf100wt.loc[n]['RIP1unphos_obs'].iloc[:]/m4edf100wt.loc[n]['RIP1_obs'].iloc[:],label = 'RIP1_unphos', color = 'blue',zorder =1, lw=2)\n",
    "    plt.plot(tspan/60, m4edf100wt.loc[n]['RIP1phos_obs'].iloc[:]/m4edf100wt.loc[n]['RIP1_obs'].iloc[:],label = 'RIP1_phos', color = 'red',zorder =1, lw=2)\n",
    "plt.xlabel(\"Time (in hr)\", fontsize=15)\n",
    "plt.ylabel(\"Amount (normalized)\", fontsize=15)\n",
    "# plt.xlim(xmin = 0, xmax = 24)\n",
    "# plt.ylim(ymin = 0.8)\n",
    "plt.yscale('log')\n",
    "plt.xticks(fontsize=14)\n",
    "plt.yticks(fontsize=14)\n",
    "right_side = ax.spines[\"right\"]\n",
    "right_side.set_visible(False)\n",
    "top = ax.spines[\"top\"]\n",
    "top.set_visible(False)\n",
    "ax.set_xticks([0, 5, 10, 15, 20, 24])\n",
    "# ax.legend(loc='center left', bbox_to_anchor=(1, 0.5))\n",
    "# ax.legend(loc='upper center', bbox_to_anchor=(0.5, 1.05),\n",
    "#           ncol=3, fancybox=True, shadow=True)\n",
    "plt.tight_layout()\n",
    "# plt.savefig('nerm_mode4e_dynamics_CI_CII_necro_pmlkl.pdf')\n",
    "plt.show() "
   ]
  },
  {
   "cell_type": "code",
   "execution_count": null,
   "metadata": {},
   "outputs": [],
   "source": [
    "fig, ax = plt.subplots(figsize = (7, 4))\n",
    "plt.plot(tspan/60, m4edf100wt['CI_k63_obs'].iloc[:]/m4edf100wt['CI_k63_obs'].iloc[:].max(), label = 'CI_k63',color = 'blue', lw=4)\n",
    "plt.plot(tspan/60, m4edf100wt['CII_C8a_obs'].iloc[:]/m4edf100wt['CII_C8a_obs'].iloc[:].max(), label = 'CII_C8FL',color = 'orange',lw=4)\n",
    "plt.plot(tspan/60, m4edf100wt['CII_RIP3_obs'].iloc[:]/m4edf100wt['CII_RIP3_obs'].iloc[:].max(), label = 'CII_RIP3',color = 'green',lw=4)\n",
    "plt.plot(tspan/60, m4edf100wt['RIP1RIP3unmod_obs'].iloc[:]/m4edf100wt['RIP1RIP3unmod_obs'].iloc[:].max(), label = 'Necrosome',color = 'purple',lw=4)\n",
    "plt.plot(tspan/60, m4edf100wt['MLKLa_obs'].iloc[:]/m4edf100wt['MLKLa_obs'].iloc[:].max(),label = 'pMLKL', color = 'black', linestyle = '--',lw=2)\n",
    "plt.xlabel(\"Time (in hr)\", fontsize=15)\n",
    "plt.ylabel(\"Amount (normalized)\", fontsize=15)\n",
    "plt.xlim(xmin = 0, xmax = 24)\n",
    "plt.ylim(ymin = 0)\n",
    "plt.xticks(fontsize=14)\n",
    "plt.yticks(fontsize=14)\n",
    "right_side = ax.spines[\"right\"]\n",
    "right_side.set_visible(False)\n",
    "top = ax.spines[\"top\"]\n",
    "top.set_visible(False)\n",
    "ax.set_xticks([0, 5, 10, 15, 20, 24])\n",
    "ax.legend(loc='center left', bbox_to_anchor=(1, 0.5))\n",
    "# ax.legend(loc='upper center', bbox_to_anchor=(0.5, 1.05),\n",
    "#           ncol=3, fancybox=True, shadow=True)\n",
    "plt.tight_layout()\n",
    "# plt.savefig('nerm_mode4e_dynamics_CI_CII_necro_pmlkl.pdf')\n",
    "plt.show() "
   ]
  },
  {
   "cell_type": "code",
   "execution_count": null,
   "metadata": {},
   "outputs": [],
   "source": [
    "solverm4m = ScipyOdeSimulator(model, tspan=tspan, verbose = True)\n",
    "wtm4m = solverm4m.run(param_values=mode4_100m[7], num_processors = 20)\n",
    "m4mdf100wt = wtm4m.dataframe"
   ]
  },
  {
   "cell_type": "code",
   "execution_count": null,
   "metadata": {},
   "outputs": [],
   "source": [
    "fig, ax = plt.subplots(figsize = (7, 4))\n",
    "plt.plot(tspan/60, m4mdf100wt['CI_k63_obs'].iloc[:]/m4mdf100wt['CI_k63_obs'].iloc[:].max(), label = 'CI_k63',color = 'blue', lw=4)\n",
    "plt.plot(tspan/60, m4mdf100wt['CII_C8a_obs'].iloc[:]/m4mdf100wt['CII_C8a_obs'].iloc[:].max(), label = 'CII_C8FL',color = 'orange',lw=4)\n",
    "plt.plot(tspan/60, m4mdf100wt['CII_RIP3_obs'].iloc[:]/m4mdf100wt['CII_RIP3_obs'].iloc[:].max(), label = 'CII_RIP3',color = 'green',lw=4)\n",
    "plt.plot(tspan/60, m4mdf100wt['RIP1RIP3unmod_obs'].iloc[:]/m4mdf100wt['RIP1RIP3unmod_obs'].iloc[:].max(), label = 'Necrosome',color = 'purple',lw=4)\n",
    "plt.plot(tspan/60, m4mdf100wt['MLKLa_obs'].iloc[:]/m4mdf100wt['MLKLa_obs'].iloc[:].max(),label = 'pMLKL', linestyle = '--',color = 'black',lw=2)\n",
    "plt.xlabel(\"Time (in hr)\", fontsize=15)\n",
    "plt.ylabel(\"Amount (normalized)\", fontsize=15)\n",
    "plt.xlim(xmin = 0, xmax = 24)\n",
    "plt.ylim(ymin = 0)\n",
    "plt.xticks(fontsize=14)\n",
    "plt.yticks(fontsize=14)\n",
    "right_side = ax.spines[\"right\"]\n",
    "right_side.set_visible(False)\n",
    "top = ax.spines[\"top\"]\n",
    "top.set_visible(False)\n",
    "ax.set_xticks([0, 5, 10, 15, 20, 24])\n",
    "ax.legend(loc='center left', bbox_to_anchor=(1, 0.5))\n",
    "# ax.legend(loc='upper center', bbox_to_anchor=(0.5, 1.05),\n",
    "#           ncol=3, fancybox=True, shadow=True)\n",
    "plt.tight_layout()\n",
    "# plt.savefig('nerm_mode4m_dynamics_CI_CII_necro_pmlkl.pdf')\n",
    "plt.show() "
   ]
  },
  {
   "cell_type": "code",
   "execution_count": null,
   "metadata": {},
   "outputs": [],
   "source": [
    "solverm4d = ScipyOdeSimulator(model, tspan=tspan, verbose = True)\n",
    "wtm4d = solverm4d.run(param_values=mode4_100d[3], num_processors = 20)\n",
    "m4ddf100wt = wtm4d.dataframe"
   ]
  },
  {
   "cell_type": "code",
   "execution_count": null,
   "metadata": {},
   "outputs": [],
   "source": [
    "fig, ax = plt.subplots(figsize = (7, 4))\n",
    "plt.plot(tspan/60, m4ddf100wt['CI_k63_obs'].iloc[:]/m4ddf100wt['CI_k63_obs'].iloc[:].max(), label = 'CI_k63',color = 'blue', lw=4)\n",
    "plt.plot(tspan/60, m4ddf100wt['CII_C8a_obs'].iloc[:]/m4ddf100wt['CII_C8a_obs'].iloc[:].max(), label = 'CII_C8FL',color = 'orange',lw=4)\n",
    "plt.plot(tspan/60, m4ddf100wt['CII_RIP3_obs'].iloc[:]/m4ddf100wt['CII_RIP3_obs'].iloc[:].max(), label = 'CII_RIP3',color = 'green',lw=4)\n",
    "plt.plot(tspan/60, m4ddf100wt['RIP1RIP3unmod_obs'].iloc[:]/m4ddf100wt['RIP1RIP3unmod_obs'].iloc[:].max(), label = 'Necrosome',color = 'purple',lw=4)\n",
    "plt.plot(tspan/60, m4ddf100wt['MLKLa_obs'].iloc[:]/m4ddf100wt['MLKLa_obs'].iloc[:].max(),label = 'pMLKL', color = 'black',linestyle = '--',lw=2)\n",
    "plt.xlabel(\"Time (in hr)\", fontsize=15)\n",
    "plt.ylabel(\"Amount (normalized)\", fontsize=15)\n",
    "plt.xlim(xmin = 0, xmax = 24)\n",
    "plt.ylim(ymin = 0)\n",
    "plt.xticks(fontsize=14)\n",
    "plt.yticks(fontsize=14)\n",
    "right_side = ax.spines[\"right\"]\n",
    "right_side.set_visible(False)\n",
    "top = ax.spines[\"top\"]\n",
    "top.set_visible(False)\n",
    "ax.set_xticks([0, 5, 10, 15, 20, 24])\n",
    "ax.legend(loc='center left', bbox_to_anchor=(1, 0.5))\n",
    "# ax.legend(loc='upper center', bbox_to_anchor=(0.5, 1.05),\n",
    "#           ncol=3, fancybox=True, shadow=True)\n",
    "plt.tight_layout()\n",
    "# plt.savefig('nerm_mode4d_dynamics_CI_CII_necro_pmlkl.pdf')\n",
    "plt.show() "
   ]
  },
  {
   "cell_type": "code",
   "execution_count": null,
   "metadata": {},
   "outputs": [],
   "source": []
  }
 ],
 "metadata": {
  "kernelspec": {
   "display_name": "Python 3",
   "language": "python",
   "name": "python3"
  },
  "language_info": {
   "codemirror_mode": {
    "name": "ipython",
    "version": 3
   },
   "file_extension": ".py",
   "mimetype": "text/x-python",
   "name": "python",
   "nbconvert_exporter": "python",
   "pygments_lexer": "ipython3",
   "version": "3.7.5"
  }
 },
 "nbformat": 4,
 "nbformat_minor": 2
}
