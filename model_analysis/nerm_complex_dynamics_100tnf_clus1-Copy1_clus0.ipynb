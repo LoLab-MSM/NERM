{
 "cells": [
  {
   "cell_type": "code",
   "execution_count": 1,
   "metadata": {},
   "outputs": [],
   "source": [
    "import sys \n",
    "# sys.path.append('/Users/geenaildefonso/Projects/NERM')\n",
    "sys.path.append('../')\n",
    "from model_files.nerm import model as model\n",
    "import seaborn as sns\n",
    "import numpy as np\n",
    "from matplotlib import pyplot as plt\n",
    "# from necro_pydream_model_file_8920 import model\n",
    "from pysb.simulator import ScipyOdeSimulator\n",
    "import numpy as np\n",
    "from scipy.stats import norm,uniform\n",
    "import seaborn as sns\n",
    "from matplotlib import pyplot as plt\n",
    "import random\n",
    "import os\n",
    "from pylab import *\n",
    "from pysb.core import *\n",
    "from pysb.bng import *\n",
    "from pysb.integrate import *\n",
    "import matplotlib.pyplot as plt\n",
    "import numpy as np\n",
    "from pysb.util import alias_model_components\n",
    "from scipy import stats\n",
    "from pysb.simulator import SimulationResult\n",
    "import pandas as pd\n",
    "import seaborn as sns\n",
    "os.environ[\"OPENBLAS_NUM_THREADS\"] = \"1\""
   ]
  },
  {
   "cell_type": "code",
   "execution_count": null,
   "metadata": {},
   "outputs": [],
   "source": [
    "import pydyno\n",
    "print(pydyno.__file__)\n",
    "from pydyno.discretization.pysb_discretize import PysbDomPath\n",
    "from pydyno.seqanalysis import SeqAnalysis\n",
    "from pydyno.visualize_simulations import VisualizeSimulations\n",
    "from pydyno.visualize_discretization import visualization_path\n",
    "from pydyno.seqanalysis import SeqAnalysis\n",
    "from pydyno.visualize_discretization import visualization_path"
   ]
  },
  {
   "cell_type": "code",
   "execution_count": null,
   "metadata": {},
   "outputs": [],
   "source": [
    "# Observable('MLKLa_obs', MLKL(bRHIM=None, state='active'))\n",
    "# Observable('CII_C8a_obs', TRADD(brec = None, brip = 3, bDD1=None, bDD2=None) % RIP1(bscf=3, btraf=None, bub1=None, bub2=None, bub3=None,bDD = 1,bRHIM=None,bMLKL=None, state='deub') %\n",
    "#            FADD(bDD=1,bDED1 = 2, bDED2 = None) % C8(bf=2,flip = 4, state='A') % flip_L(bDED=4, state = 'A'))\n",
    "# Observable('CII_RIP3_obs', TRADD(brec = None, brip = 3, bDD1=None, bDD2=None) % RIP1(bscf=3, btraf=None, bub1=None, bub2=None, bub3=None,bDD = 1,bRHIM=5,bMLKL=None, state='deub')\n",
    "#            % FADD(bDD=1,bDED1 = None, bDED2 = None) % RIP3(bRHIM=5, bDD = None, state='unmod'))\n",
    "# Observable('RIP1RIP3unmod_obs', RIP1(bscf = None, bub1 = None, bub2 = None, bub3 = None, bDD=None, btraf=None, bMLKL = None, bRHIM = 5, state = 'po4')% RIP3(bRHIM=5, bDD = 1, state='po4') % MLKL(bRHIM=1, state='unmod'))\n",
    "# Observable('CI_k63_obs', TNF(brec = 1) % TNFR(blig=1, brip=2) % TRADD(brec = 2, brip = 3, bDD1=None, bDD2=None) % RIP1(bscf=3, btraf=4, bub1=None, bub2=None, bub3=None,bDD = None,bRHIM=None,bMLKL=None, state='K63ub')\n",
    "#            % TRAF(brip=4, bciap=5, bcyld =None, state='unmod') % cIAP(btraf = 5))\n",
    "# Observable('CII_RIP1deub_obs', TRADD(brec = None, brip = 3, bDD1=None, bDD2=None) % RIP1(bscf=3, btraf=None, bub1=None, bub2=None, bub3=None,bDD = 1,bRHIM=None,bMLKL=None, state='deub')\n",
    "#            % FADD(bDD=1,bDED1 = None, bDED2 = None))\n",
    "# Observable('A20_CI_obs', TNF(brec = 1) % TNFR(blig=1, brip=2) % TRADD(brec = 2, brip = 3, bDD1=None, bDD2=None) % RIP1(bscf=3, btraf=4, bub1=6, bub2=7, bub3=None,bDD = None,bRHIM=None,bMLKL=None, state='K63ub')\n",
    "#            % TRAF(brip=4, bciap=5, bcyld =None, state='unmod') % cIAP(btraf = 5) % LUBAC(brip = 6) % A20(brip=7))\n",
    "# Observable('CYLD_CI_obs', TNF(brec = 1) % TNFR(blig=1, brip=2) % TRADD(brec = 2, brip = 3, bDD1=None, bDD2=None) % RIP1(bscf=3, btraf=4, bub1=6, bub2=7, bub3=None,bDD = None,bRHIM=None,bMLKL=None, state='K63ub')\n",
    "#            % TRAF(brip=4, bciap=5, bcyld =None, state='unmod') % cIAP(btraf = 5) % LUBAC(brip = 6) % CYLD(brip=7))\n",
    "# # Observable('C8_obs', )\n",
    "# Observable('C8Flip_obs', C8(bf=None,flip = 4, state='A') % flip_L(bDED=4, state = 'A'))\n",
    "# Observable('RIP1TRADD_obs',  TRADD(brec = None, brip = 3, bDD1=None, bDD2=None) % RIP1(bscf=3, btraf=None, bub1=None, bub2=None, bub3=None,bDD = None,bRHIM=None,bMLKL=None, state='deub'))\n",
    "# Observable('RIP1k63_obs', RIP1(state='K63ub'))\n",
    "# Observable('RIP1deub_obs', RIP1(state='deub'))\n",
    "# Observable('RIP1trunc_obs', RIP1(state='trunc'))\n",
    "# Observable('Flip_obs', flip_L(bDED=None, state = 'A'))\n",
    "# Observable('FADDa_obs',FADD()) \n",
    "# Observable('FADDu_obs',FADD(bDD=None,bDED1 = None, bDED2 = None)) \n",
    "# Observable('R1dbR3_obs', RIP1(bscf = None, bub1 = None, bub2 = None, bub3 = None, bDD=None, btraf=None, bMLKL = None, bRHIM = 5, state = 'deub')% RIP3(bRHIM=5, bDD = None, state='unmod'))\n",
    "# Observable('R1dbR3p_obs', RIP1(bscf = None, bub1 = None, bub2 = None, bub3 = None, bDD=None, btraf=None, bMLKL = None, bRHIM = 5, state = 'deub')% RIP3(bRHIM=5, bDD = None, state='po4'))\n",
    "# Observable('R1pR3p_obs', RIP1(bscf = None, bub1 = None, bub2 = None, bub3 = None, bDD=None, btraf=None, bMLKL = None, bRHIM = 5, state = 'po4')% RIP3(bRHIM=5, bDD = None, state='po4'))\n",
    "# Observable('R1pR3pM_obs',RIP1(bscf = None, bub1 = None, bub2 = None, bub3 = None, bDD=None, btraf=None, bMLKL = None, bRHIM = 5, state = 'po4')% RIP3(bRHIM=5, bDD = 1, state='po4') % MLKL(bRHIM=1, state='unmod'))"
   ]
  },
  {
   "cell_type": "code",
   "execution_count": 2,
   "metadata": {},
   "outputs": [],
   "source": [
    "clus0_100 = np.load('../necro_pars10k_cluster0_5720_mod.npy')\n",
    "clus1_100 = np.load('../necro_pars10k_cluster1_5720_mod.npy')\n",
    "clus2_100 = np.load('../necro_pars10k_cluster2_5720_mod.npy')\n",
    "clus3_100 = np.load('../necro_pars10k_cluster3_5720_mod.npy')\n",
    "pars = np.load('../necro_pars10k_allclusmod.npy')"
   ]
  },
  {
   "cell_type": "code",
   "execution_count": 3,
   "metadata": {},
   "outputs": [],
   "source": [
    "tspan = np.linspace(0, 1800, 500)"
   ]
  },
  {
   "cell_type": "code",
   "execution_count": null,
   "metadata": {},
   "outputs": [],
   "source": [
    "for i,sp in enumerate(model.species):\n",
    "    print(i,\":\",sp)"
   ]
  },
  {
   "cell_type": "code",
   "execution_count": 4,
   "metadata": {},
   "outputs": [
    {
     "name": "stderr",
     "output_type": "stream",
     "text": [
      "2021-11-19 14:11:18.942 - pysb.simulator.scipyode - DEBUG - [model_files.nerm] Simulator created\n",
      "2021-11-19 14:11:19.614 - pysb.simulator.scipyode - DEBUG - [model_files.nerm] Equation mode set to \"cython\"\n",
      "2021-11-19 14:11:19.675 - pysb.simulator.scipyode - INFO - [model_files.nerm] Simulation(s) started\n",
      "2021-11-19 14:11:19.882 - pysb.simulator.scipyode - DEBUG - [model_files.nerm] Multi-processor (parallel) mode using 20 processes\n",
      "2021-11-19 14:15:44.351 - pysb.simulator.scipyode - INFO - [model_files.nerm] All simulation(s) complete\n",
      "2021-11-19 14:15:44.353 - pysb.simulator.scipyode - DEBUG - [model_files.nerm] SimulationResult constructor started\n",
      "2021-11-19 14:15:46.305 - pysb.simulator.scipyode - DEBUG - [model_files.nerm] SimulationResult constructor finished\n"
     ]
    }
   ],
   "source": [
    "solverwt0 = ScipyOdeSimulator(model, tspan=tspan, verbose = True)\n",
    "wtclus0 = solverwt0.run(param_values=clus0_100, num_processors = 20)\n",
    "# wtclus0.save('h5files5720/pydyno_s36prod_5k_5620_100tnf_cluster0pars_72hrwt.h5',include_obs_exprs = True)\n",
    "c0df100wt = wtclus0.dataframe"
   ]
  },
  {
   "cell_type": "code",
   "execution_count": null,
   "metadata": {},
   "outputs": [],
   "source": [
    "solverwt1 = ScipyOdeSimulator(model, tspan=tspan, verbose = True)\n",
    "wtclus1 = solverwt1.run(param_values=clus1_100, num_processors = 20)\n",
    "# wtclus0.save('h5files5720/pydyno_s36prod_5k_5620_100tnf_cluster0pars_72hrwt.h5',include_obs_exprs = True)\n",
    "c1df100wt = wtclus1.dataframe"
   ]
  },
  {
   "cell_type": "code",
   "execution_count": null,
   "metadata": {},
   "outputs": [],
   "source": [
    "solverwt2 = ScipyOdeSimulator(model, tspan=tspan, verbose = True)\n",
    "wtclus2 = solverwt2.run(param_values=clus2_100, num_processors = 20)\n",
    "# wtclus0.save('h5files5720/pydyno_s36prod_5k_5620_100tnf_cluster0pars_72hrwt.h5',include_obs_exprs = True)\n",
    "c2df100wt = wtclus2.dataframe"
   ]
  },
  {
   "cell_type": "code",
   "execution_count": null,
   "metadata": {},
   "outputs": [],
   "source": [
    "solverwt3 = ScipyOdeSimulator(model, tspan=tspan, verbose = True)\n",
    "wtclus3 = solverwt3.run(param_values=clus3_100, num_processors = 20)\n",
    "# wtclus0.save('h5files5720/pydyno_s36prod_5k_5620_100tnf_cluster0pars_72hrwt.h5',include_obs_exprs = True)\n",
    "c3df100wt = wtclus3.dataframe"
   ]
  },
  {
   "cell_type": "code",
   "execution_count": 24,
   "metadata": {},
   "outputs": [
    {
     "ename": "ValueError",
     "evalue": "cannot convert float NaN to integer",
     "output_type": "error",
     "traceback": [
      "\u001b[0;31m---------------------------------------------------------------------------\u001b[0m",
      "\u001b[0;31mValueError\u001b[0m                                Traceback (most recent call last)",
      "\u001b[0;32m<ipython-input-24-12db637966f2>\u001b[0m in \u001b[0;36m<module>\u001b[0;34m\u001b[0m\n\u001b[1;32m      1\u001b[0m \u001b[0mplt\u001b[0m\u001b[0;34m.\u001b[0m\u001b[0mfigure\u001b[0m\u001b[0;34m(\u001b[0m\u001b[0;34m)\u001b[0m\u001b[0;34m\u001b[0m\u001b[0;34m\u001b[0m\u001b[0m\n\u001b[1;32m      2\u001b[0m \u001b[0;31m# for n in range(len(clus0_100)):\u001b[0m\u001b[0;34m\u001b[0m\u001b[0;34m\u001b[0m\u001b[0;34m\u001b[0m\u001b[0m\n\u001b[0;32m----> 3\u001b[0;31m \u001b[0msns\u001b[0m\u001b[0;34m.\u001b[0m\u001b[0mdistplot\u001b[0m\u001b[0;34m(\u001b[0m\u001b[0mc0df100wt\u001b[0m\u001b[0;34m[\u001b[0m\u001b[0;34m'MLKLa_obs'\u001b[0m\u001b[0;34m]\u001b[0m\u001b[0;34m)\u001b[0m\u001b[0;34m\u001b[0m\u001b[0;34m\u001b[0m\u001b[0m\n\u001b[0m\u001b[1;32m      4\u001b[0m \u001b[0mplt\u001b[0m\u001b[0;34m.\u001b[0m\u001b[0mxlabel\u001b[0m\u001b[0;34m(\u001b[0m\u001b[0;34m\"Time (in hr)\"\u001b[0m\u001b[0;34m,\u001b[0m \u001b[0mfontsize\u001b[0m\u001b[0;34m=\u001b[0m\u001b[0;36m15\u001b[0m\u001b[0;34m)\u001b[0m\u001b[0;34m\u001b[0m\u001b[0;34m\u001b[0m\u001b[0m\n\u001b[1;32m      5\u001b[0m \u001b[0mplt\u001b[0m\u001b[0;34m.\u001b[0m\u001b[0mylabel\u001b[0m\u001b[0;34m(\u001b[0m\u001b[0;34m\"Amount (normalized)\"\u001b[0m\u001b[0;34m,\u001b[0m \u001b[0mfontsize\u001b[0m\u001b[0;34m=\u001b[0m\u001b[0;36m15\u001b[0m\u001b[0;34m)\u001b[0m\u001b[0;34m\u001b[0m\u001b[0;34m\u001b[0m\u001b[0m\n",
      "\u001b[0;32m/home/jupyterhub/miniconda3/lib/python3.7/site-packages/seaborn/distributions.py\u001b[0m in \u001b[0;36mdistplot\u001b[0;34m(a, bins, hist, kde, rug, fit, hist_kws, kde_kws, rug_kws, fit_kws, color, vertical, norm_hist, axlabel, label, ax)\u001b[0m\n\u001b[1;32m    213\u001b[0m     \u001b[0;32mif\u001b[0m \u001b[0mhist\u001b[0m\u001b[0;34m:\u001b[0m\u001b[0;34m\u001b[0m\u001b[0;34m\u001b[0m\u001b[0m\n\u001b[1;32m    214\u001b[0m         \u001b[0;32mif\u001b[0m \u001b[0mbins\u001b[0m \u001b[0;32mis\u001b[0m \u001b[0;32mNone\u001b[0m\u001b[0;34m:\u001b[0m\u001b[0;34m\u001b[0m\u001b[0;34m\u001b[0m\u001b[0m\n\u001b[0;32m--> 215\u001b[0;31m             \u001b[0mbins\u001b[0m \u001b[0;34m=\u001b[0m \u001b[0mmin\u001b[0m\u001b[0;34m(\u001b[0m\u001b[0m_freedman_diaconis_bins\u001b[0m\u001b[0;34m(\u001b[0m\u001b[0ma\u001b[0m\u001b[0;34m)\u001b[0m\u001b[0;34m,\u001b[0m \u001b[0;36m50\u001b[0m\u001b[0;34m)\u001b[0m\u001b[0;34m\u001b[0m\u001b[0;34m\u001b[0m\u001b[0m\n\u001b[0m\u001b[1;32m    216\u001b[0m         \u001b[0mhist_kws\u001b[0m\u001b[0;34m.\u001b[0m\u001b[0msetdefault\u001b[0m\u001b[0;34m(\u001b[0m\u001b[0;34m\"alpha\"\u001b[0m\u001b[0;34m,\u001b[0m \u001b[0;36m0.4\u001b[0m\u001b[0;34m)\u001b[0m\u001b[0;34m\u001b[0m\u001b[0;34m\u001b[0m\u001b[0m\n\u001b[1;32m    217\u001b[0m         \u001b[0;32mif\u001b[0m \u001b[0mLooseVersion\u001b[0m\u001b[0;34m(\u001b[0m\u001b[0mmpl\u001b[0m\u001b[0;34m.\u001b[0m\u001b[0m__version__\u001b[0m\u001b[0;34m)\u001b[0m \u001b[0;34m<\u001b[0m \u001b[0mLooseVersion\u001b[0m\u001b[0;34m(\u001b[0m\u001b[0;34m\"2.2\"\u001b[0m\u001b[0;34m)\u001b[0m\u001b[0;34m:\u001b[0m\u001b[0;34m\u001b[0m\u001b[0;34m\u001b[0m\u001b[0m\n",
      "\u001b[0;32m/home/jupyterhub/miniconda3/lib/python3.7/site-packages/seaborn/distributions.py\u001b[0m in \u001b[0;36m_freedman_diaconis_bins\u001b[0;34m(a)\u001b[0m\n\u001b[1;32m     37\u001b[0m         \u001b[0;32mreturn\u001b[0m \u001b[0mint\u001b[0m\u001b[0;34m(\u001b[0m\u001b[0mnp\u001b[0m\u001b[0;34m.\u001b[0m\u001b[0msqrt\u001b[0m\u001b[0;34m(\u001b[0m\u001b[0ma\u001b[0m\u001b[0;34m.\u001b[0m\u001b[0msize\u001b[0m\u001b[0;34m)\u001b[0m\u001b[0;34m)\u001b[0m\u001b[0;34m\u001b[0m\u001b[0;34m\u001b[0m\u001b[0m\n\u001b[1;32m     38\u001b[0m     \u001b[0;32melse\u001b[0m\u001b[0;34m:\u001b[0m\u001b[0;34m\u001b[0m\u001b[0;34m\u001b[0m\u001b[0m\n\u001b[0;32m---> 39\u001b[0;31m         \u001b[0;32mreturn\u001b[0m \u001b[0mint\u001b[0m\u001b[0;34m(\u001b[0m\u001b[0mnp\u001b[0m\u001b[0;34m.\u001b[0m\u001b[0mceil\u001b[0m\u001b[0;34m(\u001b[0m\u001b[0;34m(\u001b[0m\u001b[0ma\u001b[0m\u001b[0;34m.\u001b[0m\u001b[0mmax\u001b[0m\u001b[0;34m(\u001b[0m\u001b[0;34m)\u001b[0m \u001b[0;34m-\u001b[0m \u001b[0ma\u001b[0m\u001b[0;34m.\u001b[0m\u001b[0mmin\u001b[0m\u001b[0;34m(\u001b[0m\u001b[0;34m)\u001b[0m\u001b[0;34m)\u001b[0m \u001b[0;34m/\u001b[0m \u001b[0mh\u001b[0m\u001b[0;34m)\u001b[0m\u001b[0;34m)\u001b[0m\u001b[0;34m\u001b[0m\u001b[0;34m\u001b[0m\u001b[0m\n\u001b[0m\u001b[1;32m     40\u001b[0m \u001b[0;34m\u001b[0m\u001b[0m\n\u001b[1;32m     41\u001b[0m \u001b[0;34m\u001b[0m\u001b[0m\n",
      "\u001b[0;31mValueError\u001b[0m: cannot convert float NaN to integer"
     ]
    },
    {
     "data": {
      "image/png": "[encoded data removed]",
      "text/plain": [
       "<Figure size 432x288 with 1 Axes>"
      ]
     },
     "metadata": {},
     "output_type": "display_data"
    }
   ],
   "source": [
    "plt.figure()\n",
    "# for n in range(len(clus0_100)):\n",
    "sns.distplot(c0df100wt['MLKLa_obs'])\n",
    "plt.xlabel(\"Time (in hr)\", fontsize=15)\n",
    "plt.ylabel(\"Amount (normalized)\", fontsize=15)\n",
    "# plt.xlim(xmin = 0, xmax = 24)\n",
    "plt.xticks(fontsize=14)\n",
    "plt.yticks(fontsize=14)\n",
    "plt.show()   "
   ]
  },
  {
   "cell_type": "code",
   "execution_count": null,
   "metadata": {},
   "outputs": [],
   "source": [
    "CI_k63 = []\n",
    "clus_idxs = np.array(range(wtclus0.nsims))\n",
    "for idx in clus_idxs: \n",
    "    mlkl_traj = wtclus0.observables[idx]['CI_k63_obs']\n",
    "    ysim_mlkl_norm = mlkl_traj / np.nanmax(mlkl_traj)\n",
    "    st, sc, sk = scipy.interpolate.splrep(tspan, ysim_mlkl_norm)\n",
    "    try:\n",
    "        t10 = scipy.interpolate.sproot((st, sc - 0.10, sk))[0]\n",
    "        t90 = scipy.interpolate.sproot((st, sc - 0.90, sk))[0]\n",
    "    except IndexError:\n",
    "        t10 = 0\n",
    "        t90 = 0\n",
    "\n",
    "    # time of death  = halfway point between 10 and 90%\n",
    "    td = (t10 + t90) / 2\n",
    "    CI_k63.append(td)"
   ]
  },
  {
   "cell_type": "code",
   "execution_count": 5,
   "metadata": {},
   "outputs": [],
   "source": [
    "CII = []\n",
    "clus_idxs = np.array(range(wtclus0.nsims))\n",
    "for idx in clus_idxs: \n",
    "    mlkl_traj = wtclus0.observables[idx]['CII_RIP1deub_obs']\n",
    "    ysim_mlkl_norm = mlkl_traj / np.nanmax(mlkl_traj)\n",
    "    st, sc, sk = scipy.interpolate.splrep(tspan, ysim_mlkl_norm)\n",
    "    try:\n",
    "        t10 = scipy.interpolate.sproot((st, sc - 0.10, sk))[0]\n",
    "        t90 = scipy.interpolate.sproot((st, sc - 0.90, sk))[0]\n",
    "    except IndexError:\n",
    "        t10 = 0\n",
    "        t90 = 0\n",
    "\n",
    "    # time of death  = halfway point between 10 and 90%\n",
    "    td = (t10 + t90) / 2\n",
    "    CII.append(td)"
   ]
  },
  {
   "cell_type": "code",
   "execution_count": null,
   "metadata": {},
   "outputs": [],
   "source": [
    "plt.figure()\n",
    "for n in range(len(clus1_100)):\n",
    "    plt.plot(tspan/60, c1df100wt.loc[n]['CII_RIP1deub_obs'].iloc[:], lw=1.5, color ='blue', zorder = 1, alpha = 0.5)\n",
    "plt.xlabel(\"Time (in hr)\", fontsize=15)\n",
    "plt.ylabel(\"Amount (normalized)\", fontsize=15)\n",
    "# plt.xlim(xmin = 0, xmax = 24)\n",
    "plt.xticks(fontsize=14)\n",
    "plt.yticks(fontsize=14)\n",
    "plt.show()   "
   ]
  },
  {
   "cell_type": "code",
   "execution_count": 6,
   "metadata": {},
   "outputs": [],
   "source": [
    "CIIC8FL = []\n",
    "clus_idxs = np.array(range(wtclus0.nsims))\n",
    "for idx in clus_idxs: \n",
    "    mlkl_traj = wtclus0.observables[idx]['C8Flip_obs']\n",
    "    ysim_mlkl_norm = mlkl_traj / np.nanmax(mlkl_traj)\n",
    "    st, sc, sk = scipy.interpolate.splrep(tspan, ysim_mlkl_norm)\n",
    "    try:\n",
    "        t10 = scipy.interpolate.sproot((st, sc - 0.10, sk))[0]\n",
    "        t90 = scipy.interpolate.sproot((st, sc - 0.90, sk))[0]\n",
    "    except IndexError:\n",
    "        t10 = 0\n",
    "        t90 = 0\n",
    "\n",
    "    # time of death  = halfway point between 10 and 90%\n",
    "    td = (t10 + t90) / 2\n",
    "    CIIC8FL.append(td)"
   ]
  },
  {
   "cell_type": "code",
   "execution_count": null,
   "metadata": {},
   "outputs": [],
   "source": [
    "plt.figure()\n",
    "for n in range(len(clus1_100)): \n",
    "    plt.plot(tspan/60, c1df100wt.loc[n]['CII_C8a_obs'].iloc[:], lw=1.5, color ='blue', zorder = 1, alpha = 0.5)\n",
    "plt.xlabel(\"Time (in hr)\", fontsize=15)\n",
    "plt.ylabel(\"Amount (normalized)\", fontsize=15)\n",
    "# plt.xlim(xmin = 0, xmax = 24)\n",
    "plt.xticks(fontsize=14)\n",
    "plt.yticks(fontsize=14)\n",
    "plt.show()   "
   ]
  },
  {
   "cell_type": "code",
   "execution_count": 7,
   "metadata": {},
   "outputs": [],
   "source": [
    "necrosome = []\n",
    "clus_idxs = np.array(range(wtclus0.nsims))\n",
    "for idx in clus_idxs: \n",
    "    mlkl_traj = wtclus0.observables[idx]['R1pR3pM_obs']\n",
    "    ysim_mlkl_norm = mlkl_traj / np.nanmax(mlkl_traj)\n",
    "    st, sc, sk = scipy.interpolate.splrep(tspan, ysim_mlkl_norm)\n",
    "    try:\n",
    "        t10 = scipy.interpolate.sproot((st, sc - 0.10, sk))[0]\n",
    "        t90 = scipy.interpolate.sproot((st, sc - 0.90, sk))[0]\n",
    "    except IndexError:\n",
    "        t10 = 0\n",
    "        t90 = 0\n",
    "\n",
    "    # time of death  = halfway point between 10 and 90%\n",
    "    td = (t10 + t90) / 2\n",
    "    necrosome.append(td)"
   ]
  },
  {
   "cell_type": "code",
   "execution_count": 18,
   "metadata": {},
   "outputs": [],
   "source": [
    "CI_a20 = []\n",
    "clus_idxs = np.array(range(wtclus0.nsims))\n",
    "for idx in clus_idxs: \n",
    "    mlkl_traj = wtclus0.observables[idx]['A20_CI_obs']\n",
    "    ysim_mlkl_norm = mlkl_traj / np.nanmax(mlkl_traj)\n",
    "    st, sc, sk = scipy.interpolate.splrep(tspan, ysim_mlkl_norm)\n",
    "    try:\n",
    "        t10 = scipy.interpolate.sproot((st, sc - 0.10, sk))[0]\n",
    "        t90 = scipy.interpolate.sproot((st, sc - 0.90, sk))[0]\n",
    "    except IndexError:\n",
    "        t10 = 0\n",
    "        t90 = 0\n",
    "\n",
    "    # time of death  = halfway point between 10 and 90%\n",
    "    td = (t10 + t90) / 2\n",
    "    CI_a20.append(td)"
   ]
  },
  {
   "cell_type": "code",
   "execution_count": 8,
   "metadata": {},
   "outputs": [],
   "source": [
    "CI_cyld = []\n",
    "clus_idxs = np.array(range(wtclus0.nsims))\n",
    "for idx in clus_idxs: \n",
    "    mlkl_traj = wtclus0.observables[idx]['CYLD_CI_obs']\n",
    "    ysim_mlkl_norm = mlkl_traj / np.nanmax(mlkl_traj)\n",
    "    st, sc, sk = scipy.interpolate.splrep(tspan, ysim_mlkl_norm)\n",
    "    try:\n",
    "        t10 = scipy.interpolate.sproot((st, sc - 0.10, sk))[0]\n",
    "        t90 = scipy.interpolate.sproot((st, sc - 0.90, sk))[0]\n",
    "    except IndexError:\n",
    "        t10 = 0\n",
    "        t90 = 0\n",
    "\n",
    "    # time of death  = halfway point between 10 and 90%\n",
    "    td = (t10 + t90) / 2\n",
    "    CI_cyld.append(td)"
   ]
  },
  {
   "cell_type": "code",
   "execution_count": 15,
   "metadata": {},
   "outputs": [
    {
     "name": "stdout",
     "output_type": "stream",
     "text": [
      "clus 168.84520846529864\n",
      "clus 247.22403019885346\n"
     ]
    },
    {
     "data": {
      "image/png": "[encoded data removed]",
      "text/plain": [
       "<Figure size 432x288 with 1 Axes>"
      ]
     },
     "metadata": {},
     "output_type": "display_data"
    }
   ],
   "source": [
    "sns.set_style(\"white\")\n",
    "kwargs = dict(hist_kws={'alpha':.6}, kde_kws={'linewidth':2})\n",
    "print('clus', np.mean(CI_k63))\n",
    "print('clus', np.std(CI_k63))\n",
    "fig, ax = plt.subplots()\n",
    "sns.distplot(CI_k63, label ='CIk63',color=\"dodgerblue\", bins=50, **kwargs)\n",
    "sns.distplot(necrosome, label = 'necrosome',color=\"deeppink\", bins=50, **kwargs)\n",
    "sns.distplot(pmlkl, label = 'pMLKL',color=\"orange\", bins=50, **kwargs)\n",
    "# sns.distplot(CI_a20, label='uncluster',color=\"orange\", bins=25, **kwargs)\n",
    "# sns.distplot(CI_cyld, label='uncluster',color=\"deeppink\", bins=25, **kwargs)\n",
    "plt.xlabel('time (min)')\n",
    "plt.ylabel('Frequency')\n",
    "plt.legend(loc = 'best')\n",
    "# plt.xlim(xmax = 800)\n",
    "# plt.ylim(ymax = 0.04)\n",
    "right_side = ax.spines[\"right\"]\n",
    "right_side.set_visible(False)\n",
    "top = ax.spines[\"top\"]\n",
    "top.set_visible(False)\n",
    "# plt.savefig('k63_necrosome_pmlkl.pdf')\n",
    "plt.show()"
   ]
  },
  {
   "cell_type": "code",
   "execution_count": 21,
   "metadata": {},
   "outputs": [
    {
     "name": "stdout",
     "output_type": "stream",
     "text": [
      "clus 168.84520846529864\n",
      "clus 247.22403019885346\n"
     ]
    },
    {
     "data": {
      "image/png": "[encoded data removed]",
      "text/plain": [
       "<Figure size 432x288 with 1 Axes>"
      ]
     },
     "metadata": {},
     "output_type": "display_data"
    }
   ],
   "source": [
    "sns.set_style(\"white\")\n",
    "kwargs = dict(hist_kws={'alpha':0.5})\n",
    "print('clus', np.mean(CI_k63))\n",
    "print('clus', np.std(CI_k63))\n",
    "fig, ax = plt.subplots()\n",
    "sns.distplot(CI_a20, label ='ComplexI:A20',color=\"dodgerblue\", bins=40,  kde = False, **kwargs)\n",
    "sns.distplot(CI_cyld, label ='ComplexI:CYLD',color=\"red\", bins=40,  kde = False, **kwargs)\n",
    "# sns.distplot(CIIC8FL, label ='Complex II_C8Flip',color=\"green\", bins=40,  kde = False, **kwargs)\n",
    "# sns.distplot(necrosome, label = 'Necrosome',color=\"deeppink\", bins=30,  kde = False, **kwargs)\n",
    "# sns.distplot(pmlkl, label = 'pMLKL',color=\"orange\", bins=30,  kde = False, **kwargs)\n",
    "plt.xlabel('Time (min)', fontsize = 14)\n",
    "plt.ylabel('Frequency', fontsize = 14)\n",
    "plt.legend(loc=\"upper right\", ncol = 3)\n",
    "# plt.xlim(xmin = 0, xmax = 1000)\n",
    "ax.spines['left'].set_linewidth(1.5)\n",
    "ax.spines['bottom'].set_linewidth(1.5)\n",
    "# plt.ylim(ymax = 0.04)\n",
    "right_side = ax.spines[\"right\"]\n",
    "right_side.set_visible(False)\n",
    "top = ax.spines[\"top\"]\n",
    "plt.tight_layout()\n",
    "top.set_visible(False)\n",
    "# plt.savefig('CIk63_necrosome_pmlkl_tnf100freq.pdf')\n",
    "plt.show()"
   ]
  },
  {
   "cell_type": "code",
   "execution_count": 16,
   "metadata": {},
   "outputs": [
    {
     "name": "stdout",
     "output_type": "stream",
     "text": [
      "clus 168.84520846529864\n",
      "clus 247.22403019885346\n"
     ]
    },
    {
     "data": {
      "image/png": "[encoded data removed]",
      "text/plain": [
       "<Figure size 432x288 with 1 Axes>"
      ]
     },
     "metadata": {},
     "output_type": "display_data"
    }
   ],
   "source": [
    "sns.set_style(\"white\")\n",
    "kwargs = dict(hist_kws={'alpha':0.5})\n",
    "print('clus', np.mean(CI_k63))\n",
    "print('clus', np.std(CI_k63))\n",
    "fig, ax = plt.subplots()\n",
    "sns.distplot(CI_k63, label ='Complex I-Ub',color=\"dodgerblue\", bins=40,  kde = False, **kwargs)\n",
    "sns.distplot(CII, label ='Complex II',color=\"red\", bins=40,  kde = False, **kwargs)\n",
    "sns.distplot(CIIC8FL, label ='Complex II_C8Flip',color=\"green\", bins=40,  kde = False, **kwargs)\n",
    "sns.distplot(necrosome, label = 'Necrosome',color=\"deeppink\", bins=30,  kde = False, **kwargs)\n",
    "sns.distplot(pmlkl, label = 'pMLKL',color=\"orange\", bins=30,  kde = False, **kwargs)\n",
    "plt.xlabel('Time (min)', fontsize = 14)\n",
    "plt.ylabel('Frequency', fontsize = 14)\n",
    "plt.legend(loc=\"upper right\", ncol = 3)\n",
    "# plt.xlim(xmin = 0, xmax = 1000)\n",
    "ax.spines['left'].set_linewidth(1.5)\n",
    "ax.spines['bottom'].set_linewidth(1.5)\n",
    "# plt.ylim(ymax = 0.04)\n",
    "right_side = ax.spines[\"right\"]\n",
    "right_side.set_visible(False)\n",
    "top = ax.spines[\"top\"]\n",
    "plt.tight_layout()\n",
    "top.set_visible(False)\n",
    "# plt.savefig('CIk63_necrosome_pmlkl_tnf100freq.pdf')\n",
    "plt.show()"
   ]
  },
  {
   "cell_type": "code",
   "execution_count": null,
   "metadata": {},
   "outputs": [],
   "source": [
    "from brokenaxes import brokenaxes\n",
    "fig = plt.figure(figsize=(6,4))\n",
    "baxes = brokenaxes(xlims=((0,0.1),(0.4,0.7)), ylims=((-1,.7),(0.79,1)), hspace=.05)\n",
    "x = np.linspace(0,1,50)\n",
    "baxes.plot(x,np.sin(15*x),label=\"sin\")\n",
    "baxes.plot(x,np.cos(15*x),label=\"cos\")\n",
    "baxes.legend(loc=\"best\")\n",
    "plt.show()"
   ]
  },
  {
   "cell_type": "code",
   "execution_count": null,
   "metadata": {},
   "outputs": [],
   "source": [
    "sns.set_style(\"white\")\n",
    "kwargs = dict(hist_kws={'alpha':0.5})\n",
    "print('clus', np.mean(CI_k63))\n",
    "print('clus', np.std(CI_k63))\n",
    "fig, ax = plt.subplots()\n",
    "sns.distplot(CI_k63, label ='Complex I-Ub',color=\"dodgerblue\", bins=30,  kde = False, **kwargs)\n",
    "# sns.distplot(CII, label ='Complex II',color=\"red\", bins=40,  kde = False, **kwargs)\n",
    "# sns.distplot(CIIC8FL, label ='Complex II_C8Flip',color=\"green\", bins=40,  kde = False, **kwargs)\n",
    "# sns.distplot(necrosome, label = 'Necrosome',color=\"deeppink\", bins=30,  kde = False, **kwargs)\n",
    "# sns.distplot(clus1, label = 'pMLKL',color=\"orange\", bins=30,  kde = False, **kwargs)\n",
    "# sns.distplot(CI_a20, label='uncluster',color=\"orange\", bins=25, **kwargs)\n",
    "# sns.distplot(CI_cyld, label='uncluster',color=\"deeppink\", bins=25, **kwargs)\n",
    "plt.xlabel('Time (min)', fontsize = 14)\n",
    "plt.ylabel('Frequency', fontsize = 14)\n",
    "plt.legend(loc=\"upper right\", ncol = 3)\n",
    "plt.xlim(xmin = 0, xmax = 1400)\n",
    "ax.spines['left'].set_linewidth(1.5)\n",
    "ax.spines['bottom'].set_linewidth(1.5)\n",
    "plt.ylim(ymax = 200)\n",
    "right_side = ax.spines[\"right\"]\n",
    "right_side.set_visible(False)\n",
    "top = ax.spines[\"top\"]\n",
    "plt.tight_layout()\n",
    "top.set_visible(False)\n",
    "plt.savefig('CIk63_tnf100freq_clus1.pdf')\n",
    "plt.show()"
   ]
  },
  {
   "cell_type": "code",
   "execution_count": null,
   "metadata": {},
   "outputs": [],
   "source": [
    "sns.set_style(\"white\")\n",
    "kwargs = dict(hist_kws={'alpha':0.5})\n",
    "print('clus', np.mean(CI_k63))\n",
    "print('clus', np.std(CI_k63))\n",
    "fig, ax = plt.subplots()\n",
    "# sns.distplot(CI_k63, label ='Complex I-Ub',color=\"dodgerblue\", bins=40,  kde = False, **kwargs)\n",
    "sns.distplot(CII, label ='Complex II',color=\"red\", bins=30,  kde = False, **kwargs)\n",
    "# sns.distplot(CIIC8FL, label ='Complex II_C8Flip',color=\"green\", bins=40,  kde = False, **kwargs)\n",
    "# sns.distplot(necrosome, label = 'Necrosome',color=\"deeppink\", bins=30,  kde = False, **kwargs)\n",
    "# sns.distplot(clus1, label = 'pMLKL',color=\"orange\", bins=30,  kde = False, **kwargs)\n",
    "# sns.distplot(CI_a20, label='uncluster',color=\"orange\", bins=25, **kwargs)\n",
    "# sns.distplot(CI_cyld, label='uncluster',color=\"deeppink\", bins=25, **kwargs)\n",
    "plt.xlabel('Time (min)', fontsize = 14)\n",
    "plt.ylabel('Frequency', fontsize = 14)\n",
    "plt.legend(loc=\"upper right\", ncol = 3)\n",
    "plt.xlim(xmin = 0, xmax = 1400)\n",
    "plt.ylim(ymax = 400)\n",
    "ax.spines['left'].set_linewidth(1.5)\n",
    "ax.spines['bottom'].set_linewidth(1.5)\n",
    "# plt.ylim(ymax = 0.04)\n",
    "right_side = ax.spines[\"right\"]\n",
    "right_side.set_visible(False)\n",
    "top = ax.spines[\"top\"]\n",
    "plt.tight_layout()\n",
    "top.set_visible(False)\n",
    "# plt.savefig('CII_tnf100freq_clus1.pdf')\n",
    "plt.show()"
   ]
  },
  {
   "cell_type": "code",
   "execution_count": null,
   "metadata": {},
   "outputs": [],
   "source": []
  },
  {
   "cell_type": "code",
   "execution_count": null,
   "metadata": {},
   "outputs": [],
   "source": [
    "sns.set_style(\"white\")\n",
    "kwargs = dict(hist_kws={'alpha':0.5})\n",
    "print('clus', np.mean(CI_k63))\n",
    "print('clus', np.std(CI_k63))\n",
    "fig, ax = plt.subplots()\n",
    "# sns.distplot(CI_k63, label ='Complex I-Ub',color=\"dodgerblue\", bins=40,  kde = False, **kwargs)\n",
    "# sns.distplot(CII, label ='Complex II',color=\"red\", bins=40,  kde = False, **kwargs)\n",
    "sns.distplot(CIIC8FL, label ='Complex II_C8Flip',color=\"green\", bins=30,  kde = False, **kwargs)\n",
    "# sns.distplot(necrosome, label = 'Necrosome',color=\"deeppink\", bins=30,  kde = False, **kwargs)\n",
    "# sns.distplot(clus1, label = 'pMLKL',color=\"orange\", bins=30,  kde = False, **kwargs)\n",
    "# sns.distplot(CI_a20, label='uncluster',color=\"orange\", bins=25, **kwargs)\n",
    "# sns.distplot(CI_cyld, label='uncluster',color=\"deeppink\", bins=25, **kwargs)\n",
    "plt.xlabel('Time (min)', fontsize = 14)\n",
    "plt.ylabel('Frequency', fontsize = 14)\n",
    "plt.legend(loc=\"upper right\", ncol = 3)\n",
    "plt.xlim(xmin = 0, xmax = 1400)\n",
    "plt.ylim(ymax = 400)\n",
    "ax.spines['left'].set_linewidth(1.5)\n",
    "ax.spines['bottom'].set_linewidth(1.5)\n",
    "# plt.ylim(ymax = 0.04)\n",
    "right_side = ax.spines[\"right\"]\n",
    "right_side.set_visible(False)\n",
    "top = ax.spines[\"top\"]\n",
    "plt.tight_layout()\n",
    "top.set_visible(False)\n",
    "# plt.savefig('CII_C8bFlip_tnf100freq_clus1.pdf')\n",
    "plt.show()"
   ]
  },
  {
   "cell_type": "code",
   "execution_count": null,
   "metadata": {},
   "outputs": [],
   "source": [
    "sns.set_style(\"white\")\n",
    "kwargs = dict(hist_kws={'alpha':0.5})\n",
    "print('clus', np.mean(CI_k63))\n",
    "print('clus', np.std(CI_k63))\n",
    "fig, ax = plt.subplots()\n",
    "# sns.distplot(CI_k63, label ='Complex I-Ub',color=\"dodgerblue\", bins=40,  kde = False, **kwargs)\n",
    "# sns.distplot(CII, label ='Complex II',color=\"red\", bins=40,  kde = False, **kwargs)\n",
    "sns.distplot(CIIC8FL, label ='Complex II_C8Flip',color=\"green\", bins=30,  kde = False, **kwargs)\n",
    "# sns.distplot(necrosome, label = 'Necrosome',color=\"deeppink\", bins=30,  kde = False, **kwargs)\n",
    "# sns.distplot(clus1, label = 'pMLKL',color=\"orange\", bins=30,  kde = False, **kwargs)\n",
    "# sns.distplot(CI_a20, label='uncluster',color=\"orange\", bins=25, **kwargs)\n",
    "# sns.distplot(CI_cyld, label='uncluster',color=\"deeppink\", bins=25, **kwargs)\n",
    "plt.xlabel('Time (min)', fontsize = 14)\n",
    "plt.ylabel('Frequency', fontsize = 14)\n",
    "plt.legend(loc=\"upper right\", ncol = 3)\n",
    "plt.xlim(xmin = 0)\n",
    "plt.ylim(ymax = 400)\n",
    "ax.spines['left'].set_linewidth(1.5)\n",
    "ax.spines['bottom'].set_linewidth(1.5)\n",
    "# plt.ylim(ymax = 0.04)\n",
    "right_side = ax.spines[\"right\"]\n",
    "right_side.set_visible(False)\n",
    "top = ax.spines[\"top\"]\n",
    "plt.tight_layout()\n",
    "top.set_visible(False)\n",
    "# plt.savefig('CII_C8_Flip_tnf100freq_clus1.pdf')\n",
    "plt.show()"
   ]
  },
  {
   "cell_type": "code",
   "execution_count": null,
   "metadata": {},
   "outputs": [],
   "source": [
    "sns.set_style(\"white\")\n",
    "kwargs = dict(hist_kws={'alpha':0.5})\n",
    "print('clus', np.mean(CI_k63))\n",
    "print('clus', np.std(CI_k63))\n",
    "fig, ax = plt.subplots()\n",
    "# sns.distplot(CI_k63, label ='Complex I-Ub',color=\"dodgerblue\", bins=40,  kde = False, **kwargs)\n",
    "# sns.distplot(CII, label ='Complex II',color=\"red\", bins=40,  kde = False, **kwargs)\n",
    "# sns.distplot(CIIC8FL, label ='Complex II_C8Flip',color=\"green\", bins=40,  kde = False, **kwargs)\n",
    "sns.distplot(necrosome, label = 'Necrosome',color=\"deeppink\", bins=30,  kde = False, **kwargs)\n",
    "# sns.distplot(clus1, label = 'pMLKL',color=\"orange\", bins=30,  kde = False, **kwargs)\n",
    "# sns.distplot(CI_a20, label='uncluster',color=\"orange\", bins=25, **kwargs)\n",
    "# sns.distplot(CI_cyld, label='uncluster',color=\"deeppink\", bins=25, **kwargs)\n",
    "plt.xlabel('Time (min)', fontsize = 14)\n",
    "plt.ylabel('Frequency', fontsize = 14)\n",
    "plt.legend(loc=\"upper right\", ncol = 3)\n",
    "plt.xlim(xmin = 0, xmax = 1400)\n",
    "ax.spines['left'].set_linewidth(1.5)\n",
    "ax.spines['bottom'].set_linewidth(1.5)\n",
    "plt.ylim(ymax = 400)\n",
    "right_side = ax.spines[\"right\"]\n",
    "right_side.set_visible(False)\n",
    "top = ax.spines[\"top\"]\n",
    "plt.tight_layout()\n",
    "top.set_visible(False)\n",
    "# plt.savefig('Necrosome_tnf100freq_clus1.pdf')\n",
    "plt.show()"
   ]
  },
  {
   "cell_type": "code",
   "execution_count": null,
   "metadata": {},
   "outputs": [],
   "source": [
    "sns.set_style(\"white\")\n",
    "kwargs = dict(hist_kws={'alpha':0.5})\n",
    "print('clus', np.mean(CI_k63))\n",
    "print('clus', np.std(CI_k63))\n",
    "fig, ax = plt.subplots()\n",
    "# sns.distplot(CI_k63, label ='Complex I-Ub',color=\"dodgerblue\", bins=40,  kde = False, **kwargs)\n",
    "# sns.distplot(CII, label ='Complex II',color=\"red\", bins=40,  kde = False, **kwargs)\n",
    "# sns.distplot(CIIC8FL, label ='Complex II_C8Flip',color=\"green\", bins=40,  kde = False, **kwargs)\n",
    "# sns.distplot(necrosome, label = 'Necrosome',color=\"deeppink\", bins=30,  kde = False, **kwargs)\n",
    "sns.distplot(clus1, label = 'pMLKL',color=\"orange\", bins=30,  kde = False, **kwargs)\n",
    "# sns.distplot(CI_a20, label='uncluster',color=\"orange\", bins=25, **kwargs)\n",
    "# sns.distplot(CI_cyld, label='uncluster',color=\"deeppink\", bins=25, **kwargs)\n",
    "plt.xlabel('Time (min)', fontsize = 14)\n",
    "plt.ylabel('Frequency', fontsize = 14)\n",
    "plt.legend(loc=\"upper right\", ncol = 3)\n",
    "plt.xlim(xmin = 0, xmax = 1400)\n",
    "plt.ylim(ymax = 800)\n",
    "ax.spines['left'].set_linewidth(1.5)\n",
    "ax.spines['bottom'].set_linewidth(1.5)\n",
    "# plt.ylim(ymax = 0.04)\n",
    "right_side = ax.spines[\"right\"]\n",
    "right_side.set_visible(False)\n",
    "top = ax.spines[\"top\"]\n",
    "plt.tight_layout()\n",
    "top.set_visible(False)\n",
    "# plt.savefig('pmlkl_tnf100freq_clus1.pdf')\n",
    "plt.show()"
   ]
  },
  {
   "cell_type": "code",
   "execution_count": null,
   "metadata": {},
   "outputs": [],
   "source": [
    "c1df100wt.iloc[:, : 37]"
   ]
  },
  {
   "cell_type": "code",
   "execution_count": null,
   "metadata": {},
   "outputs": [],
   "source": [
    "vt = VisualizeSimulations(model, wtclus1, clusters=None)"
   ]
  },
  {
   "cell_type": "code",
   "execution_count": null,
   "metadata": {},
   "outputs": [],
   "source": [
    "rate_params = model.parameters_rules()\n",
    "rate_mask = np.array([p in rate_params for p in model.parameters])\n",
    "idx_calibrated_pars = [0, 1, 2, 3, 4, 5] \n",
    "\n",
    "kinetic_pars = vt.all_parameters[:,idx_calibrated_pars]\n",
    "M = len(kinetic_pars)"
   ]
  },
  {
   "cell_type": "code",
   "execution_count": null,
   "metadata": {},
   "outputs": [],
   "source": [
    "import seaborn as sns\n",
    "plt.figure(figsize=(8,6))\n",
    "all_pars_cov = np.corrcoef(kinetic_pars[:], rowvar=False)\n",
    "# less_50 = all_pars_cov <= 0.5\n",
    "sns.heatmap(all_pars_cov, annot=True)"
   ]
  },
  {
   "cell_type": "code",
   "execution_count": null,
   "metadata": {},
   "outputs": [],
   "source": [
    "# Plot\n",
    "plt.figure(figsize=(20,20), dpi= 80)\n",
    "sns.heatmap(df.corr(), xticklabels=df.corr().columns, \n",
    "            yticklabels=df.corr().columns, cmap='RdYlGn', center=0, annot=True, fmt=\".2\",\n",
    "           cbar_kws={\"orientation\": \"horizontal\"})\n",
    "\n",
    "# Decorations\n",
    "plt.title('Correlogram of NERM pars', fontsize=22)\n",
    "plt.xticks(fontsize=12)\n",
    "plt.yticks(fontsize=12)\n",
    "plt.show()"
   ]
  },
  {
   "cell_type": "code",
   "execution_count": null,
   "metadata": {},
   "outputs": [],
   "source": [
    "# Plot\n",
    "plt.figure(figsize=(25,20), dpi= 80)\n",
    "sns.heatmap(c1df100wt.iloc[:, : 37].corr(), xticklabels=c1df100wt.iloc[:, : 37].corr().columns, \n",
    "            yticklabels=c1df100wt.iloc[:, : 37].corr().columns, cmap='RdYlGn', center=0, annot=True, fmt=\".2\",\n",
    "           cbar_kws={\"orientation\": \"horizontal\"})\n",
    "\n",
    "# Decorations\n",
    "plt.title('Correlation of NERM species', fontsize=22)\n",
    "plt.xticks(fontsize=12)\n",
    "plt.yticks(fontsize=12)\n",
    "plt.savefig('correlation_nerm_species.pdf')\n",
    "plt.show()"
   ]
  },
  {
   "cell_type": "code",
   "execution_count": null,
   "metadata": {},
   "outputs": [],
   "source": [
    "plt.figure(figsize=(8,6))\n",
    "all_pars_cov1 = np.corrcoef(pars, rowvar=False)\n",
    "# less_501 = all_pars_cov1 <= 0.5\n",
    "sns.heatmap(all_pars_cov1,  annot=True)"
   ]
  },
  {
   "cell_type": "code",
   "execution_count": null,
   "metadata": {},
   "outputs": [],
   "source": [
    "fig, ax = plt.subplots(figsize = (5,4))\n",
    "\n",
    "c_op1 = 0 # Index for Mode 1\n",
    "c_op2 = 1 # Index for Mode 2\n",
    "my_pal = {\"CI_k63\": \"dodgerblue\", \"necrosome\": \"deeppink\", \"clus1\": \"orange\"}\n",
    "sns.violinplot(data=[CI_k63, necrosome, clus1],\n",
    "               scale='count', palette=['dodgerblue', 'deeppink', 'orange'], ax=ax)\n",
    "\n",
    "labels=['CI_k63ub', 'Necrosome', 'pMLKL']\n",
    "\n",
    "ax.set_ylabel('Time', fontsize=16)\n",
    "ax.set_xlabel('Execution mode', fontsize=16)\n",
    "ax.tick_params(axis='both', which='major', labelsize=16)\n",
    "ax.tick_params(axis='both', which='minor', labelsize=16)\n",
    "ax.set_xticklabels(labels)\n",
    "plt.xticks(rotation='vertical')\n",
    "plt.tight_layout()\n",
    "# plt.legend(loc='')\n",
    "fig.savefig('k63_necrosome_pmlkl_violin.pdf')"
   ]
  },
  {
   "cell_type": "code",
   "execution_count": 13,
   "metadata": {},
   "outputs": [],
   "source": [
    "pmlkl = []\n",
    "clus_idxs = np.array(range(wtclus0.nsims))\n",
    "for idx in clus_idxs: \n",
    "    mlkl_traj = wtclus0.observables[idx]['MLKLa_obs']\n",
    "    ysim_mlkl_norm = mlkl_traj / np.nanmax(mlkl_traj)\n",
    "    st, sc, sk = scipy.interpolate.splrep(tspan, ysim_mlkl_norm)\n",
    "    try:\n",
    "        t10 = scipy.interpolate.sproot((st, sc - 0.10, sk))[0]\n",
    "        t90 = scipy.interpolate.sproot((st, sc - 0.90, sk))[0]\n",
    "    except IndexError:\n",
    "        t10 = 0\n",
    "        t90 = 0\n",
    "\n",
    "    # time of death  = halfway point between 10 and 90%\n",
    "    td = (t10 + t90) / 2\n",
    "    pmlkl.append(td)"
   ]
  },
  {
   "cell_type": "code",
   "execution_count": null,
   "metadata": {},
   "outputs": [],
   "source": [
    "print('clus', np.mean(clus0))\n",
    "print('clus', np.std(clus0))\n",
    "plt.hist(clus0, label='uncluster', bins=25, alpha=0.5)"
   ]
  },
  {
   "cell_type": "code",
   "execution_count": null,
   "metadata": {},
   "outputs": [],
   "source": [
    "clus1 = []\n",
    "clus_idxs = np.array(range(wtclus1.nsims))\n",
    "for idx in clus_idxs: \n",
    "    mlkl_traj = wtclus1.observables[idx]['MLKLa_obs']\n",
    "    ysim_mlkl_norm = mlkl_traj / np.nanmax(mlkl_traj)\n",
    "    st, sc, sk = scipy.interpolate.splrep(tspan, ysim_mlkl_norm)\n",
    "    try:\n",
    "        t10 = scipy.interpolate.sproot((st, sc - 0.10, sk))[0]\n",
    "        t90 = scipy.interpolate.sproot((st, sc - 0.90, sk))[0]\n",
    "    except IndexError:\n",
    "        t10 = 0\n",
    "        t90 = 0\n",
    "\n",
    "    # time of death  = halfway point between 10 and 90%\n",
    "    td = (t10 + t90) / 2\n",
    "    clus1.append(td)"
   ]
  },
  {
   "cell_type": "code",
   "execution_count": null,
   "metadata": {},
   "outputs": [],
   "source": [
    "print('clus', np.mean(clus1))\n",
    "print('clus', np.std(clus1))\n",
    "plt.hist(clus1, label='uncluster', bins=25, alpha=0.5)"
   ]
  },
  {
   "cell_type": "code",
   "execution_count": null,
   "metadata": {},
   "outputs": [],
   "source": [
    "clus2 = []\n",
    "clus_idxs = np.array(range(wtclus2.nsims))\n",
    "for idx in clus_idxs: \n",
    "    mlkl_traj = wtclus2.observables[idx]['MLKLa_obs']\n",
    "    ysim_mlkl_norm = mlkl_traj / np.nanmax(mlkl_traj)\n",
    "    st, sc, sk = scipy.interpolate.splrep(tspan, ysim_mlkl_norm)\n",
    "    try:\n",
    "        t10 = scipy.interpolate.sproot((st, sc - 0.10, sk))[0]\n",
    "        t90 = scipy.interpolate.sproot((st, sc - 0.90, sk))[0]\n",
    "    except IndexError:\n",
    "        t10 = 0\n",
    "        t90 = 0\n",
    "\n",
    "    # time of death  = halfway point between 10 and 90%\n",
    "    td = (t10 + t90) / 2\n",
    "    clus2.append(td)"
   ]
  },
  {
   "cell_type": "code",
   "execution_count": null,
   "metadata": {},
   "outputs": [],
   "source": [
    "print('clus', np.mean(clus2))\n",
    "print('clus', np.std(clus2))\n",
    "plt.hist(clus2, label='uncluster', bins=25, alpha=0.5)"
   ]
  },
  {
   "cell_type": "code",
   "execution_count": null,
   "metadata": {},
   "outputs": [],
   "source": [
    "clus3 = []\n",
    "clus_idxs = np.array(range(wtclus3.nsims))\n",
    "for idx in clus_idxs: \n",
    "    mlkl_traj = wtclus3.observables[idx]['MLKLa_obs']\n",
    "    ysim_mlkl_norm = mlkl_traj / np.nanmax(mlkl_traj)\n",
    "    st, sc, sk = scipy.interpolate.splrep(tspan, ysim_mlkl_norm)\n",
    "    try:\n",
    "        t10 = scipy.interpolate.sproot((st, sc - 0.10, sk))[0]\n",
    "        t90 = scipy.interpolate.sproot((st, sc - 0.90, sk))[0]\n",
    "    except IndexError:\n",
    "        t10 = 0\n",
    "        t90 = 0\n",
    "\n",
    "    # time of death  = halfway point between 10 and 90%\n",
    "    td = (t10 + t90) / 2\n",
    "    clus3.append(td)"
   ]
  },
  {
   "cell_type": "code",
   "execution_count": null,
   "metadata": {},
   "outputs": [],
   "source": [
    "print('clus', np.mean(clus3))\n",
    "print('clus', np.std(clus3))\n",
    "plt.hist(clus3, label='uncluster', bins=25, alpha=0.5)"
   ]
  },
  {
   "cell_type": "code",
   "execution_count": null,
   "metadata": {},
   "outputs": [],
   "source": [
    "fig, ax = plt.subplots()\n",
    "\n",
    "c_op1 = 0 # Index for Mode 1\n",
    "c_op2 = 1 # Index for Mode 2\n",
    "sns.violinplot(data=[clus0, clus1, clus2, clus3],\n",
    "               scale='count', color='#b1cfe4', ax=ax)\n",
    "\n",
    "labels=[f'{c_op1+1} Clus0', f'{c_op1+1} Clus1', f'{c_op1+1} Clus2', \n",
    "        f'{c_op1+1} Clus3']\n",
    "\n",
    "ax.set_ylabel('Time', fontsize=16)\n",
    "ax.set_xlabel('Execution mode', fontsize=16)\n",
    "ax.tick_params(axis='both', which='major', labelsize=16)\n",
    "ax.tick_params(axis='both', which='minor', labelsize=16)\n",
    "ax.set_xticklabels(labels)\n",
    "plt.xticks(rotation='vertical')\n",
    "# plt.legend(loc=2)\n",
    "# fig.savefig('bcl2_mcl1_kd_mode1_mode2.png', bbox_inches='tight', dpi=150)"
   ]
  },
  {
   "cell_type": "code",
   "execution_count": null,
   "metadata": {},
   "outputs": [],
   "source": [
    "plt.figure(figsize=(4,8), dpi=150)\n",
    "plt.barh(y=[0, 2, 4, 6], \n",
    "         width=[np.mean(clus0), np.mean(clus1),\n",
    "                np.mean(clus2), np.mean(clus3)],\n",
    "        tick_label=['Clus0', 'Clus1', 'Clus2', 'Clus3'],\n",
    "        xerr=[np.std(clus0), np.std(clus1),\n",
    "              np.std(clus2), np.std(clus3)],\n",
    "        capsize=4)\n",
    "\n",
    "plt.xticks(fontsize=14, rotation=45)\n",
    "plt.yticks(fontsize=14)\n",
    "plt.xlabel('Time(s)', fontsize=14)\n",
    "plt.ylabel('Execution modes', fontsize=16)\n",
    "# plt.xlim(0, 13000)\n",
    "# plt.savefig('barplot_time_death_clusters.png', bbox_inches='tight', dpi=150)\n",
    "plt.show()"
   ]
  },
  {
   "cell_type": "code",
   "execution_count": null,
   "metadata": {},
   "outputs": [],
   "source": [
    "plt.figure()\n",
    "for n in range(len(clus1_100)):\n",
    "    plt.plot(tspan/60, c1df100wt.loc[n]['MLKLa_obs'].iloc[:], lw=1.5, color ='blue', zorder = 1, alpha = 0.5)\n",
    "plt.xlabel(\"Time (in hr)\", fontsize=15)\n",
    "plt.ylabel(\"Amount (normalized)\", fontsize=15)\n",
    "# plt.xlim(xmin = 0, xmax = 24)\n",
    "plt.xticks(fontsize=14)\n",
    "plt.yticks(fontsize=14)\n",
    "plt.show()      "
   ]
  },
  {
   "cell_type": "code",
   "execution_count": null,
   "metadata": {},
   "outputs": [],
   "source": [
    "for i,n in enumerate(np.linspace(0, 1800, 500)):\n",
    "    print(i,\":\",n)"
   ]
  },
  {
   "cell_type": "code",
   "execution_count": null,
   "metadata": {},
   "outputs": [],
   "source": [
    "sim_idx_0_120 = [idx for idx in range(len(clus0_100)) if c0df100wt['MLKLa_obs'][idx].iloc[0] <= 2772\n",
    "                  and c0df100wt['MLKLa_obs'][idx].iloc[33] >= 2772]\n",
    "\n",
    "sim_idx_120_240 = [idx for idx in range(len(clus0_100)) if c0df100wt['MLKLa_obs'][idx].iloc[33] <= 2772\n",
    "                  and c0df100wt['MLKLa_obs'][idx].iloc[67] >= 2772]\n",
    "\n",
    "sim_idx_240_360 = [idx for idx in range(len(clus0_100)) if c0df100wt['MLKLa_obs'][idx].iloc[67] <= 2772\n",
    "                  and c0df100wt['MLKLa_obs'][idx].iloc[100] >= 2772]\n",
    "\n",
    "sim_idx_360_480 = [idx for idx in range(len(clus0_100)) if c0df100wt['MLKLa_obs'][idx].iloc[100] <= 2772\n",
    "                  and c0df100wt['MLKLa_obs'][idx].iloc[133] >= 2772]\n",
    "\n",
    "sim_idx_480_600 = [idx for idx in range(len(clus0_100)) if c0df100wt['MLKLa_obs'][idx].iloc[133] <= 2772\n",
    "                  and c0df100wt['MLKLa_obs'][idx].iloc[167] >= 2772]\n",
    "\n",
    "sim_idx_600_720 = [idx for idx in range(len(clus0_100)) if c0df100wt['MLKLa_obs'][idx].iloc[167] <= 2772 \n",
    "                     and c0df100wt['MLKLa_obs'][idx].iloc[200] >= 2772]\n",
    "\n",
    "sim_idx_720_840 = [idx for idx in range(len(clus0_100)) if c0df100wt['MLKLa_obs'][idx].iloc[200] <= 2772 \n",
    "                     and c0df100wt['MLKLa_obs'][idx].iloc[233] >= 2772]\n",
    "\n",
    "sim_idx_840_960 = [idx for idx in range(len(clus0_100)) if c0df100wt['MLKLa_obs'][idx].iloc[233] <= 2772 \n",
    "                     and c0df100wt['MLKLa_obs'][idx].iloc[266] >= 2772]\n",
    "\n",
    "sim_idx_960_1080 = [idx for idx in range(len(clus0_100)) if c0df100wt['MLKLa_obs'][idx].iloc[266] <= 2772 \n",
    "                     and c0df100wt['MLKLa_obs'][idx].iloc[300] >= 2772]\n",
    "\n",
    "sim_idx_1080_1200 = [idx for idx in range(len(clus0_100)) if c0df100wt['MLKLa_obs'][idx].iloc[300] <= 2772\n",
    "                     and c0df100wt['MLKLa_obs'][idx].iloc[333] >= 2772]\n",
    "\n",
    "sim_idx_1200_1320 = [idx for idx in range(len(clus0_100)) if c0df100wt['MLKLa_obs'][idx].iloc[333] <= 2772\n",
    "                     and c0df100wt['MLKLa_obs'][idx].iloc[366] >= 2772]\n",
    "\n",
    "sim_idx_1320_1440 = [idx for idx in range(len(clus0_100)) if c0df100wt['MLKLa_obs'][idx].iloc[366] <= 2772\n",
    "                     and c0df100wt['MLKLa_obs'][idx].iloc[400] >= 2772]\n",
    "\n",
    "print(len(sim_idx_0_120))\n",
    "print(len(sim_idx_120_240))\n",
    "print(len(sim_idx_240_360))\n",
    "print(len(sim_idx_360_480))\n",
    "print(len(sim_idx_480_600))\n",
    "print(len(sim_idx_600_720))\n",
    "print(len(sim_idx_720_840))\n",
    "print(len(sim_idx_840_960))\n",
    "print(len(sim_idx_960_1080))\n",
    "print(len(sim_idx_1080_1200))\n",
    "print(len(sim_idx_1200_1320))\n",
    "print(len(sim_idx_1320_1440))"
   ]
  },
  {
   "cell_type": "code",
   "execution_count": null,
   "metadata": {},
   "outputs": [],
   "source": [
    "sim_idx_0_120 = [idx for idx in range(len(clus0_100)) if c0df100wt['MLKLa_obs'][idx].iloc[0] < 2772\n",
    "                  and c0df100wt['MLKLa_obs'][idx].iloc[33] > 2772]\n",
    "\n",
    "sim_idx_120_240 = [idx for idx in range(len(clus0_100)) if c0df100wt['MLKLa_obs'][idx].iloc[33] < 2772\n",
    "                  and c0df100wt['MLKLa_obs'][idx].iloc[67] > 2772]\n",
    "\n",
    "sim_idx_240_360 = [idx for idx in range(len(clus0_100)) if c0df100wt['MLKLa_obs'][idx].iloc[67] < 2772\n",
    "                  and c0df100wt['MLKLa_obs'][idx].iloc[100] > 2772]\n",
    "\n",
    "sim_idx_360_480 = [idx for idx in range(len(clus0_100)) if c0df100wt['MLKLa_obs'][idx].iloc[100] < 2772\n",
    "                  and c0df100wt['MLKLa_obs'][idx].iloc[133] > 2772]\n",
    "\n",
    "sim_idx_480_600 = [idx for idx in range(len(clus0_100)) if c0df100wt['MLKLa_obs'][idx].iloc[133] < 2772\n",
    "                  and c0df100wt['MLKLa_obs'][idx].iloc[167] > 2772]\n",
    "\n",
    "sim_idx_600_720 = [idx for idx in range(len(clus0_100)) if c0df100wt['MLKLa_obs'][idx].iloc[167] < 2772 \n",
    "                     and c0df100wt['MLKLa_obs'][idx].iloc[200] > 2772]\n",
    "\n",
    "sim_idx_720_840 = [idx for idx in range(len(clus0_100)) if c0df100wt['MLKLa_obs'][idx].iloc[200] < 2772 \n",
    "                     and c0df100wt['MLKLa_obs'][idx].iloc[233] > 2772]\n",
    "\n",
    "sim_idx_840_960 = [idx for idx in range(len(clus0_100)) if c0df100wt['MLKLa_obs'][idx].iloc[233] < 2772 \n",
    "                     and c0df100wt['MLKLa_obs'][idx].iloc[266] > 2772]\n",
    "\n",
    "sim_idx_960_1080 = [idx for idx in range(len(clus0_100)) if c0df100wt['MLKLa_obs'][idx].iloc[266] < 2772 \n",
    "                     and c0df100wt['MLKLa_obs'][idx].iloc[300] > 2772]\n",
    "\n",
    "sim_idx_1080_1200 = [idx for idx in range(len(clus0_100)) if c0df100wt['MLKLa_obs'][idx].iloc[300] < 2772\n",
    "                     and c0df100wt['MLKLa_obs'][idx].iloc[333] > 2772]\n",
    "\n",
    "sim_idx_1200_1320 = [idx for idx in range(len(clus0_100)) if c0df100wt['MLKLa_obs'][idx].iloc[333] < 2772\n",
    "                     and c0df100wt['MLKLa_obs'][idx].iloc[366] > 2772]\n",
    "\n",
    "sim_idx_1320_1440 = [idx for idx in range(len(clus0_100)) if c0df100wt['MLKLa_obs'][idx].iloc[366] < 2772\n",
    "                     and c0df100wt['MLKLa_obs'][idx].iloc[400] > 2772]\n",
    "\n",
    "print(len(sim_idx_0_120))\n",
    "print(len(sim_idx_120_240))\n",
    "print(len(sim_idx_240_360))\n",
    "print(len(sim_idx_360_480))\n",
    "print(len(sim_idx_480_600))\n",
    "print(len(sim_idx_600_720))\n",
    "print(len(sim_idx_720_840))\n",
    "print(len(sim_idx_840_960))\n",
    "print(len(sim_idx_960_1080))\n",
    "print(len(sim_idx_1080_1200))\n",
    "print(len(sim_idx_1200_1320))\n",
    "print(len(sim_idx_1320_1440))"
   ]
  },
  {
   "cell_type": "code",
   "execution_count": null,
   "metadata": {},
   "outputs": [],
   "source": [
    "list1 = [0, 2, [4]*6, [6]*44, [44]*808, [8]*2566, [10]*155, [12]*16, [14]*8, [16]*3, [18]*1, [20]*1, [22]*1, [24]*1]\n",
    "plt.figure()\n",
    "plt.hist(list1, 5)"
   ]
  },
  {
   "cell_type": "code",
   "execution_count": null,
   "metadata": {},
   "outputs": [],
   "source": [
    "bins = [0, 2, [4]*6, [6]*44,44, 8, 10, 12, 14, 16, 18, 20, 22, 24]\n",
    "freq = [0, 0, 6, 44, 808, 2566, 155, 16, 8, 3, 1, 1]\n",
    "plt.figure() \n",
    "plt.hist(freq, 5)\n",
    "plt.show()"
   ]
  },
  {
   "cell_type": "code",
   "execution_count": null,
   "metadata": {},
   "outputs": [],
   "source": [
    "x = (0, 2, 4, 6, 8, 10, 12, 14, 16, 18, 20, 22, 24)\n",
    "y = (0/3644, 0/3644, 6/3644, 44/3644, 808/3644, 2566/3644, 155/3644, 16/3644, 8/3644, 3/3644, 1/3644, 1/3644,1/3644)\n",
    "\n",
    "plt.bar(x,y,align='edge', width = 1) # A bar chart\n",
    "plt.xlabel('Bins')\n",
    "plt.ylabel('Frequency')\n",
    "plt.tight_layout()\n",
    "plt.show()"
   ]
  },
  {
   "cell_type": "code",
   "execution_count": null,
   "metadata": {},
   "outputs": [],
   "source": [
    "print(len(x))\n",
    "print(len(y))"
   ]
  },
  {
   "cell_type": "code",
   "execution_count": null,
   "metadata": {},
   "outputs": [],
   "source": [
    "print(len(clus0_100))"
   ]
  },
  {
   "cell_type": "code",
   "execution_count": null,
   "metadata": {},
   "outputs": [],
   "source": [
    "percent = 2566/3644\n",
    "percent"
   ]
  },
  {
   "cell_type": "code",
   "execution_count": null,
   "metadata": {},
   "outputs": [],
   "source": [
    "sim_idx_to_keep = [idx for idx in range(len(all_pars2)) if df10['Flip_obs'][idx].iloc[-1] < 3000]\n",
    "print(len(sim_idx_to_keep))"
   ]
  },
  {
   "cell_type": "code",
   "execution_count": null,
   "metadata": {},
   "outputs": [],
   "source": []
  },
  {
   "cell_type": "code",
   "execution_count": null,
   "metadata": {},
   "outputs": [],
   "source": [
    "print(c0df100wt['CI_k63_obs'].max())\n",
    "print(c0df100wt['A20_CI_obs'].max())\n",
    "print(c0df100wt['CYLD_CI_obs'].max())"
   ]
  },
  {
   "cell_type": "code",
   "execution_count": null,
   "metadata": {},
   "outputs": [],
   "source": [
    "print(range(len(clus0_100[0])))"
   ]
  },
  {
   "cell_type": "code",
   "execution_count": null,
   "metadata": {},
   "outputs": [],
   "source": [
    "plt.figure()\n",
    "for n in range(len(clus1_100)):\n",
    "    plt.plot(tspan/60,c1df100wt.loc[n]['CI_k63_obs'].iloc[:], lw=1.5, zorder = 1, alpha = 0.5)\n",
    "plt.xlabel(\"Time (in hr)\", fontsize=15)\n",
    "plt.ylabel(\"Amount (normalized)\", fontsize=15)\n",
    "# plt.xlim(xmin = 0, xmax = 24)\n",
    "plt.xticks(fontsize=14)\n",
    "plt.yticks(fontsize=14)\n",
    "plt.show()  "
   ]
  },
  {
   "cell_type": "code",
   "execution_count": null,
   "metadata": {},
   "outputs": [],
   "source": [
    "plt.figure()\n",
    "for n in range(len(clus1_100)):\n",
    "    plt.plot(tspan/60,c1df100wt.loc[n]['A20_CI_obs'].iloc[:], lw=1.5, zorder = 1, alpha = 0.5)\n",
    "plt.xlabel(\"Time (in hr)\", fontsize=15)\n",
    "plt.ylabel(\"Amount (normalized)\", fontsize=15)\n",
    "# plt.xlim(xmin = 0, xmax = 24)\n",
    "plt.xticks(fontsize=14)\n",
    "plt.yticks(fontsize=14)\n",
    "plt.show() "
   ]
  },
  {
   "cell_type": "code",
   "execution_count": null,
   "metadata": {},
   "outputs": [],
   "source": [
    "plt.figure()\n",
    "for n in range(len(clus1_100)):\n",
    "    plt.plot(tspan/60,c1df100wt.loc[n]['CYLD_CI_obs'].iloc[:], lw=1.5, zorder = 1, alpha = 0.5)\n",
    "plt.xlabel(\"Time (in hr)\", fontsize=15)\n",
    "plt.ylabel(\"Amount (normalized)\", fontsize=15)\n",
    "# plt.xlim(xmin = 0, xmax = 24)\n",
    "plt.xticks(fontsize=14)\n",
    "plt.yticks(fontsize=14)\n",
    "plt.show() "
   ]
  },
  {
   "cell_type": "code",
   "execution_count": null,
   "metadata": {},
   "outputs": [],
   "source": []
  },
  {
   "cell_type": "code",
   "execution_count": null,
   "metadata": {},
   "outputs": [],
   "source": [
    "plt.figure()\n",
    "for n in range(len(clus0_100[4:5])):\n",
    "    plt.plot(c0df100wt.loc[n]['CI_k63_obs'].iloc[:], c0df100wt.loc[n]['MLKLa_obs'].iloc[:], lw=1.5, zorder = 1, alpha = 0.5)\n",
    "plt.xlabel(\"CI_K63\", fontsize=15)\n",
    "plt.ylabel(\"pMLKL\", fontsize=15)\n",
    "# plt.xlim(xmin = 0, xmax = 24)\n",
    "plt.xticks(fontsize=14)\n",
    "plt.yticks(fontsize=14)\n",
    "plt.show()    "
   ]
  },
  {
   "cell_type": "code",
   "execution_count": null,
   "metadata": {},
   "outputs": [],
   "source": [
    "c0df100wt['R1pR3pM_obs'].max()"
   ]
  },
  {
   "cell_type": "code",
   "execution_count": null,
   "metadata": {},
   "outputs": [],
   "source": [
    "plt.figure()\n",
    "for n in range(len(clus0_100)):\n",
    "    plt.plot(c0df100wt.loc[n]['MLKLa_obs'].iloc[:], c0df100wt.loc[n]['R1pR3pM_obs'].iloc[:], lw=1.5, zorder = 1, alpha = 0.5)\n",
    "plt.xlabel(\"CI_K63\", fontsize=15)\n",
    "plt.ylabel(\"pMLKL\", fontsize=15)\n",
    "# plt.xlim(xmin = 0, xmax = 24)\n",
    "plt.xticks(fontsize=14)\n",
    "plt.yticks(fontsize=14)\n",
    "plt.show() "
   ]
  },
  {
   "cell_type": "code",
   "execution_count": null,
   "metadata": {},
   "outputs": [],
   "source": [
    "plt.figure()\n",
    "for n in range(len(clus0_100)):\n",
    "    plt.plot(tspan/60, c0df100wt.loc[n]['R1pR3pM_obs'].iloc[:], lw=1.5, zorder = 1, alpha = 0.5)\n",
    "plt.xlabel(\"CI_K63\", fontsize=15)\n",
    "plt.ylabel(\"pMLKL\", fontsize=15)\n",
    "# plt.xlim(xmin = 0, xmax = 24)\n",
    "plt.xticks(fontsize=14)\n",
    "plt.yticks(fontsize=14)\n",
    "plt.show() "
   ]
  },
  {
   "cell_type": "code",
   "execution_count": null,
   "metadata": {},
   "outputs": [],
   "source": [
    "plt.figure()\n",
    "for n in range(len(clus0_100[4:5])):\n",
    "    plt.plot(tspan/60, c0df100wt.loc[n]['CI_k63_obs'].iloc[:], lw=1.5, zorder = 1, alpha = 0.5)\n",
    "plt.xlabel(\"CI_K63\", fontsize=15)\n",
    "plt.ylabel(\"pMLKL\", fontsize=15)\n",
    "# plt.xlim(xmin = 0, xmax = 24)\n",
    "plt.xticks(fontsize=14)\n",
    "plt.yticks(fontsize=14)\n",
    "plt.show() "
   ]
  },
  {
   "cell_type": "code",
   "execution_count": null,
   "metadata": {},
   "outputs": [],
   "source": [
    "plt.figure()\n",
    "for n in range(len(clus0_100[4:5])):\n",
    "    plt.plot(tspan/60, c0df100wt.loc[n]['CI_k63_obs'].iloc[:], lw=1.5, zorder = 1, alpha = 0.5)\n",
    "plt.xlabel(\"CI_K63\", fontsize=15)\n",
    "plt.ylabel(\"pMLKL\", fontsize=15)\n",
    "# plt.xlim(xmin = 0, xmax = 24)\n",
    "plt.xticks(fontsize=14)\n",
    "plt.yticks(fontsize=14)\n",
    "plt.show() "
   ]
  },
  {
   "cell_type": "code",
   "execution_count": null,
   "metadata": {},
   "outputs": [],
   "source": []
  },
  {
   "cell_type": "code",
   "execution_count": null,
   "metadata": {},
   "outputs": [],
   "source": [
    "import matplotlib\n",
    "matplotlib.rc('xtick', labelsize=14) \n",
    "matplotlib.rc('ytick', labelsize=14) \n",
    "fig, ((ax1, ax2), (ax3, ax4)) = plt.subplots(2,2, figsize = (15,10))\n",
    "# tspan = np.linspace(0, 1440, 300)\n",
    "for n in range(len(clus0_100)):\n",
    "#     ax1.vlines(x = 600, ymin = 0, ymax = 5544, linestyle = 'dashed', colors= 'r', zorder = 2, label ='50% pMLKL')\n",
    "    ax1.plot(tspan/60, c0df100wt.loc[n]['MLKLa_obs'].iloc[:]/5544, lw=1.5, color ='blue', zorder = 1, alpha = 0.3)\n",
    "    plt.legend(['clus0'], loc = 'best', fontsize = 14)\n",
    "#     plt.ylim(ymax = 5544, ymin =0)\n",
    "#     plt.xlim(xmax = 1440, xmin = 0)\n",
    "    plt.xticks(fontsize=14)\n",
    "    plt.yticks(fontsize=14)\n",
    "    ax1.set_xlim(xmin = 0, xmax = 24)\n",
    "    ax1.set_ylim(ymin = 0)\n",
    "    plt.xticks(fontsize=14)\n",
    "    plt.yticks(fontsize=14)\n",
    "    ax1.grid(False)   \n",
    "    custom_lines = [Line2D([0], [0], color='blue', lw=4),\n",
    "                   Line2D([0], [0], color='red', lw=4)]\n",
    "    ax1.legend(custom_lines, ['pMLKL'], prop={'size': 12}, loc = 'best')\n",
    "    \n",
    "# tspan2 = np.linspace(0, 2160, 300)    \n",
    "for n in range(len(clus0_100)):\n",
    "#     ax2.vlines(x = 600, ymin = 0, ymax = 5544, linestyle = 'dashed', colors= 'r', zorder = 2, label= '50% pMLKL')\n",
    "    ax2.plot(tspan/60,c0df100wt.loc[n]['CI_k63_obs'].iloc[:]/5544,lw=1.5, color ='blue', zorder = 1, alpha = 0.3)\n",
    "    plt.xticks(fontsize=14)\n",
    "    plt.yticks(fontsize=14)\n",
    "    ax2.set_xlim(xmin = 0, xmax = 24)\n",
    "    ax2.set_ylim(ymin = 0)\n",
    "    ax2.grid(False)  \n",
    "    custom_lines = [Line2D([0], [0], color='blue', lw=4),\n",
    "                   Line2D([0], [0], color='red', lw=4)]\n",
    "    ax2.legend(custom_lines, ['Complex I'], prop={'size': 12}, loc = 'best')\n",
    "    \n",
    "for n in range(len(clus2_100)):\n",
    "#     ax3.vlines(x = 600, ymin = 0, ymax = 5544, linestyle = 'dashed', colors= 'r', zorder = 2, label ='50% pMLKL')\n",
    "    ax3.plot(tspan/60, c0df100wt.loc[n]['A20_CI_obs'].iloc[:]/5544,lw=1.5, color ='blue', zorder = 1, alpha = 0.3)  \n",
    "    plt.xticks(fontsize=14)\n",
    "    plt.yticks(fontsize=14)\n",
    "    ax3.set_xlim(xmin = 0, xmax = 24)\n",
    "    ax3.set_ylim(ymin = 0)\n",
    "    ax3.grid(False)  \n",
    "    custom_lines = [Line2D([0], [0], color='blue', lw=4),\n",
    "                   Line2D([0], [0], color='red', lw=4)]\n",
    "    ax3.legend(custom_lines, ['CI_A20'], prop={'size': 12}, loc = 'best')\n",
    "    \n",
    "for n in range(len(clus3_100)):\n",
    "    plt.plot(tspan/60, c0df100wt.loc[n]['CYLD_CI_obs'].iloc[:]/5544, lw=1.5, color ='blue', zorder = 1, alpha = 0.3)\n",
    "    plt.xticks(fontsize=14)\n",
    "    plt.yticks(fontsize=14)\n",
    "#     plt.xlabel(\"Time (in hr)\", fontsize=15)\n",
    "#     plt.ylabel(\"Amount (normalized)\", fontsize=15)\n",
    "    ax4.set_xlim(xmin = 0, xmax = 24)\n",
    "    ax4.set_ylim(ymin = 0)\n",
    "    plt.xticks(fontsize=14)\n",
    "    plt.yticks(fontsize=14)\n",
    "    ax4.grid(False)  \n",
    "    custom_lines = [Line2D([0], [0], color='blue', lw=4),\n",
    "                   Line2D([0], [0], color='red', lw=4)]\n",
    "    ax4.legend(custom_lines, ['CI_CYLD'], prop={'size': 12}, loc = 'best') \n",
    " \n",
    "# fig.text(0.5, 0.04, 'Time (Hours)', ha='center', va='center',fontsize = 16)\n",
    "# fig.text(0.06, 0.5, 'Amount of Flip pMLKL under 100 ng/ml TNF(Normalized)',\n",
    "#          ha='center', va='center', rotation='vertical', fontsize = 16)\n",
    "# plt.savefig('pmlkl_100tnf_4clus_5720_A20KO.pdf')\n",
    "plt.show()"
   ]
  },
  {
   "cell_type": "code",
   "execution_count": null,
   "metadata": {},
   "outputs": [],
   "source": [
    "threshold = 2772"
   ]
  },
  {
   "cell_type": "code",
   "execution_count": null,
   "metadata": {},
   "outputs": [],
   "source": [
    "df_threshtimesc0100wt = c0df100wt.groupby('simulation').apply(lambda x: (x > threshold).idxmax()).apply(lambda x: [y[1] for y in x])\n"
   ]
  },
  {
   "cell_type": "code",
   "execution_count": null,
   "metadata": {},
   "outputs": [],
   "source": [
    "clusallcomplex = pd.DataFrame({'CI_k63': df_threshtimesc0100wt['CI_k63_obs'], \n",
    "                        'CI_A20': df_threshtimesc0100wt['A20_CI_obs'],\n",
    "                        'CI_CYLD': df_threshtimesc0100wt['CYLD_CI_obs'],\n",
    "                              'pMLKL': df_threshtimesc0100wt['MLKLa_obs']})"
   ]
  },
  {
   "cell_type": "code",
   "execution_count": null,
   "metadata": {},
   "outputs": [],
   "source": [
    "dfwt = pd.DataFrame(data = clusallcomplex, columns = ['CI_k63', 'CI_A20','CI_CYLD','pMLKL'])"
   ]
  },
  {
   "cell_type": "code",
   "execution_count": null,
   "metadata": {},
   "outputs": [],
   "source": [
    "plt.figure(figsize = (15,10))\n",
    "my_pal = { 'CI_k63':\"blue\", 'CI_A20':\"blue\",'CI_CYLD':\"blue\",'pMLKL':\"blue\"}\n",
    "# my_pal2 = { \"c80\":\"cyan\", \"c81\":\"cyan\", \"c82\":\"cyan\", \"c83\":\"cyan\"}\n",
    "# my_pal3 = {\"WTc0\": \"red\", \"WTc1\": \"red\", \"WTc2\":\"red\", \"WTc3\":\"red\"}\n",
    "b = sns.swarmplot(x=\"value\", y=\"variable\", data=pd.melt(dfwt), zorder=2, alpha=0.5)\n",
    "# b2 = sns.swarmplot(x=\"value\", y=\"variable\", data=pd.melt(dffl), zorder=2, palette=my_pal, alpha=0.5)\n",
    "# b3 = sns.swarmplot(x=\"value\", y=\"variable\", data=pd.melt(dfc8), zorder=2, palette=my_pal2, alpha=0.5)\n",
    "b.set_xlabel(\"Time (minutes)\",fontsize=15)\n",
    "b.set_ylabel(\"All Clusters\",fontsize=15)\n",
    "b.tick_params(labelsize=15)\n",
    "plt.xlim(xmax = 1800, xmin = 0)\n",
    "# plt.savefig('figs/pmlkl_100tnf_allcluswkos_swarm_5720mod.pdf')\n",
    "# plt.savefig('pmlkl_100tnf_allclusbox_wswarm_5720.pdf')\n",
    "plt.show()"
   ]
  },
  {
   "cell_type": "code",
   "execution_count": null,
   "metadata": {},
   "outputs": [],
   "source": []
  },
  {
   "cell_type": "code",
   "execution_count": null,
   "metadata": {},
   "outputs": [],
   "source": []
  },
  {
   "cell_type": "code",
   "execution_count": null,
   "metadata": {},
   "outputs": [],
   "source": []
  },
  {
   "cell_type": "code",
   "execution_count": null,
   "metadata": {},
   "outputs": [],
   "source": []
  },
  {
   "cell_type": "code",
   "execution_count": null,
   "metadata": {},
   "outputs": [],
   "source": []
  },
  {
   "cell_type": "code",
   "execution_count": null,
   "metadata": {},
   "outputs": [],
   "source": []
  },
  {
   "cell_type": "code",
   "execution_count": null,
   "metadata": {},
   "outputs": [],
   "source": []
  },
  {
   "cell_type": "code",
   "execution_count": null,
   "metadata": {},
   "outputs": [],
   "source": []
  },
  {
   "cell_type": "code",
   "execution_count": null,
   "metadata": {},
   "outputs": [],
   "source": []
  },
  {
   "cell_type": "code",
   "execution_count": null,
   "metadata": {},
   "outputs": [],
   "source": []
  },
  {
   "cell_type": "code",
   "execution_count": null,
   "metadata": {},
   "outputs": [],
   "source": []
  },
  {
   "cell_type": "code",
   "execution_count": null,
   "metadata": {},
   "outputs": [],
   "source": []
  },
  {
   "cell_type": "code",
   "execution_count": null,
   "metadata": {},
   "outputs": [],
   "source": []
  },
  {
   "cell_type": "code",
   "execution_count": null,
   "metadata": {},
   "outputs": [],
   "source": []
  },
  {
   "cell_type": "code",
   "execution_count": null,
   "metadata": {},
   "outputs": [],
   "source": []
  },
  {
   "cell_type": "code",
   "execution_count": null,
   "metadata": {},
   "outputs": [],
   "source": []
  }
 ],
 "metadata": {
  "kernelspec": {
   "display_name": "Python 3",
   "language": "python",
   "name": "python3"
  },
  "language_info": {
   "codemirror_mode": {
    "name": "ipython",
    "version": 3
   },
   "file_extension": ".py",
   "mimetype": "text/x-python",
   "name": "python",
   "nbconvert_exporter": "python",
   "pygments_lexer": "ipython3",
   "version": "3.7.5"
  }
 },
 "nbformat": 4,
 "nbformat_minor": 2
}
