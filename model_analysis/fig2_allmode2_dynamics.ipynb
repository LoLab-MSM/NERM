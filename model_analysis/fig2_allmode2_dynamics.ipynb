{
 "cells": [
  {
   "cell_type": "code",
   "execution_count": 1,
   "metadata": {},
   "outputs": [
    {
     "name": "stdout",
     "output_type": "stream",
     "text": [
      "rules: 25\n",
      "reactions: 40\n",
      "species: 37\n",
      "parameters: 54\n",
      "rate constants: 40\n",
      "\n",
      "ComponentSet([\n",
      " Parameter('TNF_0', 2326.0),\n",
      " Parameter('TNFR_0', 4800.0),\n",
      " Parameter('TRADD_0', 4696.0),\n",
      " Parameter('RIP1_0', 40000.0),\n",
      " Parameter('TRAF_0', 11776.0),\n",
      " Parameter('cIAP_0', 9000.0),\n",
      " Parameter('A20_0', 9000.0),\n",
      " Parameter('CYLD_0', 9000.0),\n",
      " Parameter('FADD_0', 3109.0),\n",
      " Parameter('flip_L_0', 3900.0),\n",
      " Parameter('Lubac_0', 7226.0),\n",
      " Parameter('C8_0', 3799.0),\n",
      " Parameter('RIP3_0', 10654.0),\n",
      " Parameter('MLKLa_0', 5544.0),\n",
      " Parameter('p1f', 1e-06),\n",
      " Parameter('p1r', 0.001),\n",
      " Parameter('p2f', 0.001),\n",
      " Parameter('p3f', 1e-06),\n",
      " Parameter('p3r', 0.001),\n",
      " Parameter('p4f', 1e-06),\n",
      " Parameter('p4r', 0.001),\n",
      " Parameter('p5f', 1e-06),\n",
      " Parameter('p5r', 0.001),\n",
      " Parameter('p6f', 1e-06),\n",
      " Parameter('p6r', 0.001),\n",
      " Parameter('p7f', 0.1),\n",
      " Parameter('p8f', 1e-06),\n",
      " Parameter('p8r', 0.001),\n",
      " Parameter('p9f', 1e-06),\n",
      " Parameter('p9r', 0.001),\n",
      " Parameter('p10f', 0.1),\n",
      " Parameter('p11f', 1e-06),\n",
      " Parameter('p11r', 0.001),\n",
      " Parameter('p12f', 0.1),\n",
      " Parameter('p13f', 0.1),\n",
      " Parameter('p13r', 3.11e-07),\n",
      " Parameter('p14f', 3.27e-06),\n",
      " Parameter('p14r', 0.018),\n",
      " Parameter('p15f', 3.27e-06),\n",
      " Parameter('p15r', 0.018),\n",
      " Parameter('p16f', 0.0327),\n",
      " Parameter('p16r', 0.018),\n",
      " Parameter('p17f', 1e-06),\n",
      " Parameter('p18f', 1e-06),\n",
      " Parameter('p18r', 0.001),\n",
      " Parameter('p19f', 0.1),\n",
      " Parameter('p20f', 0.01),\n",
      " Parameter('p20r', 0.001),\n",
      " Parameter('p21f', 0.001),\n",
      " Parameter('p22f', 1e-06),\n",
      " Parameter('p23f', 1.0),\n",
      " Parameter('p24f', 1e-06),\n",
      " Parameter('p24r', 0.001),\n",
      " Parameter('p25f', 1e-06),\n",
      " ])\n",
      "\n",
      "{'reactants': (0, 1), 'products': (14,), 'rate': __s0*__s1*p1f, 'rule': ('bind_TNF_TNFR',), 'reverse': (False,)}\n",
      "{'reactants': (0,), 'products': (), 'rate': __s0*p2f, 'rule': ('TNF_deg',), 'reverse': (False,)}\n",
      "{'reactants': (14,), 'products': (0, 1), 'rate': __s14*p1r, 'rule': ('bind_TNF_TNFR',), 'reverse': (True,)}\n",
      "{'reactants': (2, 14), 'products': (15,), 'rate': __s14*__s2*p3f, 'rule': ('bind_TNFRANY_TRADD',), 'reverse': (False,)}\n",
      "{'reactants': (15,), 'products': (2, 14), 'rate': __s15*p3r, 'rule': ('bind_TNFRANY_TRADD',), 'reverse': (True,)}\n",
      "{'reactants': (3, 15), 'products': (16,), 'rate': __s15*__s3*p4f, 'rule': ('bind_TNFRANY_RIP1unmod',), 'reverse': (False,)}\n",
      "{'reactants': (16,), 'products': (3, 15), 'rate': __s16*p4r, 'rule': ('bind_TNFRANY_RIP1unmod',), 'reverse': (True,)}\n",
      "{'reactants': (4, 16), 'products': (17,), 'rate': __s16*__s4*p5f, 'rule': ('ComplexI_b_traf2',), 'reverse': (False,)}\n",
      "{'reactants': (17,), 'products': (4, 16), 'rate': __s17*p5r, 'rule': ('ComplexI_b_traf2',), 'reverse': (True,)}\n",
      "{'reactants': (5, 17), 'products': (18,), 'rate': __s17*__s5*p6f, 'rule': ('ComplexI_b_ciap',), 'reverse': (False,)}\n",
      "{'reactants': (18,), 'products': (5, 17), 'rate': __s18*p6r, 'rule': ('ComplexI_b_ciap',), 'reverse': (True,)}\n",
      "{'reactants': (18,), 'products': (19,), 'rate': __s18*p7f, 'rule': ('Complex_I_RIP1ub',), 'reverse': (False,)}\n",
      "{'reactants': (12, 19), 'products': (20,), 'rate': __s12*__s19*p8f, 'rule': ('ComplexI_Lubac',), 'reverse': (False,)}\n",
      "{'reactants': (20,), 'products': (12, 19), 'rate': __s20*p8r, 'rule': ('ComplexI_Lubac',), 'reverse': (True,)}\n",
      "{'reactants': (7, 20), 'products': (21,), 'rate': __s20*__s7*p9f, 'rule': ('bind_RIP1K63ub_A20',), 'reverse': (False,)}\n",
      "{'reactants': (8, 20), 'products': (22,), 'rate': __s20*__s8*p11f, 'rule': ('bind_RIP1K63ub_CYLD',), 'reverse': (False,)}\n",
      "{'reactants': (21,), 'products': (7, 20), 'rate': __s21*p9r, 'rule': ('bind_RIP1K63ub_A20',), 'reverse': (True,)}\n",
      "{'reactants': (21,), 'products': (0, 1, 4, 5, 7, 12, 23), 'rate': __s21*p10f, 'rule': ('RIP1db_A20',), 'reverse': (False,)}\n",
      "{'reactants': (22,), 'products': (8, 20), 'rate': __s22*p11r, 'rule': ('bind_RIP1K63ub_CYLD',), 'reverse': (True,)}\n",
      "{'reactants': (22,), 'products': (0, 1, 4, 5, 8, 12, 23), 'rate': __s22*p12f, 'rule': ('RIP1db_CYLD',), 'reverse': (False,)}\n",
      "{'reactants': (9, 23), 'products': (24,), 'rate': __s23*__s9*p13f, 'rule': ('CII_b_FADD',), 'reverse': (False,)}\n",
      "{'reactants': (24,), 'products': (9, 23), 'rate': __s24*p13r, 'rule': ('CII_b_FADD',), 'reverse': (True,)}\n",
      "{'reactants': (13, 24), 'products': (25,), 'rate': __s13*__s24*p14f, 'rule': ('CII_b_C8i',), 'reverse': (False,)}\n",
      "{'reactants': (10, 24), 'products': (26,), 'rate': __s10*__s24*p20f, 'rule': ('CII_b_RIP3',), 'reverse': (False,)}\n",
      "{'reactants': (25,), 'products': (13, 24), 'rate': __s25*p14r, 'rule': ('CII_b_C8i',), 'reverse': (True,)}\n",
      "{'reactants': (11, 25), 'products': (27,), 'rate': __s11*__s25*p15f, 'rule': ('CII_b_FLIP',), 'reverse': (False,)}\n",
      "{'reactants': (26,), 'products': (10, 24), 'rate': __s26*p20r, 'rule': ('CII_b_RIP3',), 'reverse': (True,)}\n",
      "{'reactants': (26,), 'products': (2, 9, 28), 'rate': __s26*p21f, 'rule': ('CII_RIP1dbRIP3',), 'reverse': (False,)}\n",
      "{'reactants': (27,), 'products': (11, 25), 'rate': __s27*p15r, 'rule': ('CII_b_FLIP',), 'reverse': (True,)}\n",
      "{'reactants': (27,), 'products': (29,), 'rate': __s27*p16f, 'rule': ('CIIFLIP_cat_C8a',), 'reverse': (False,)}\n",
      "{'reactants': (28,), 'products': (30,), 'rate': __s28*p22f, 'rule': ('RIP1dbRIP3_RIP1dbRIP3p',), 'reverse': (False,)}\n",
      "{'reactants': (29,), 'products': (27,), 'rate': __s29*p16r, 'rule': ('CIIFLIP_cat_C8a',), 'reverse': (True,)}\n",
      "{'reactants': (29,), 'products': (2, 9, 31, 32), 'rate': __s29*p17f, 'rule': ('CIIC8FL_RIP1truc',), 'reverse': (False,)}\n",
      "{'reactants': (30,), 'products': (33,), 'rate': __s30*p23f, 'rule': ('RIP1dbRIP3p_RIP1pRIP3p',), 'reverse': (False,)}\n",
      "{'reactants': (26, 32), 'products': (34,), 'rate': __s26*__s32*p18f, 'rule': ('CIIRIP3_b_C8FL',), 'reverse': (False,)}\n",
      "{'reactants': (6, 33), 'products': (35,), 'rate': __s33*__s6*p24f, 'rule': ('RIP1pRIP3p_bind_MLKLp',), 'reverse': (False,)}\n",
      "{'reactants': (34,), 'products': (26, 32), 'rate': __s34*p18r, 'rule': ('CIIRIP3_b_C8FL',), 'reverse': (True,)}\n",
      "{'reactants': (34,), 'products': (2, 9, 10, 31, 32), 'rate': __s34*p19f, 'rule': ('CIIC8FLRIP3_RIP1truc',), 'reverse': (False,)}\n",
      "{'reactants': (35,), 'products': (6, 33), 'rate': __s35*p24r, 'rule': ('RIP1pRIP3p_bind_MLKLp',), 'reverse': (True,)}\n",
      "{'reactants': (35,), 'products': (33, 36), 'rate': __s35*p25f, 'rule': ('RIP1pRIP3p_cat_MLKLp',), 'reverse': (False,)}\n"
     ]
    }
   ],
   "source": [
    "import sys \n",
    "# sys.path.append('/Users/geenaildefonso/Projects/NERM')\n",
    "sys.path.append('../')\n",
    "sys.path.append('/home/ildefog/main/Projects/NERM/')\n",
    "from model_files.nerm import model as model\n",
    "import seaborn as sns\n",
    "import numpy as np\n",
    "from matplotlib import pyplot as plt\n",
    "# from necro_pydream_model_file_8920 import model\n",
    "from pysb.simulator import ScipyOdeSimulator\n",
    "import numpy as np\n",
    "from scipy.stats import norm,uniform\n",
    "import seaborn as sns\n",
    "from matplotlib import pyplot as plt\n",
    "import random\n",
    "import os\n",
    "from pylab import *\n",
    "from pysb.core import *\n",
    "from pysb.bng import *\n",
    "from pysb.integrate import *\n",
    "import matplotlib.pyplot as plt\n",
    "import numpy as np\n",
    "from pysb.util import alias_model_components\n",
    "from scipy import stats\n",
    "from pysb.simulator import SimulationResult\n",
    "import pandas as pd\n",
    "import seaborn as sns"
   ]
  },
  {
   "cell_type": "code",
   "execution_count": 2,
   "metadata": {},
   "outputs": [],
   "source": [
    "mode1_100 = np.load('../param_files/necro_pars10k_cluster1_5720_mod.npy')\n",
    "mode2_100 = np.load('../param_files/necro_pars10k_cluster2_5720_mod.npy')\n",
    "mode3_100 = np.load('../param_files/necro_pars10k_cluster3_5720_mod.npy')\n",
    "mode4_100 = np.load('../param_files/necro_pars10k_cluster4_5720_mod.npy')"
   ]
  },
  {
   "cell_type": "code",
   "execution_count": null,
   "metadata": {},
   "outputs": [],
   "source": [
    "mode1_100[0]"
   ]
  },
  {
   "cell_type": "code",
   "execution_count": null,
   "metadata": {},
   "outputs": [],
   "source": [
    "extrapars = np.load('../param_files/most_likely_par_10k_necropydream_may72020_667extra.npy')"
   ]
  },
  {
   "cell_type": "code",
   "execution_count": null,
   "metadata": {},
   "outputs": [],
   "source": [
    "extrapars"
   ]
  },
  {
   "cell_type": "code",
   "execution_count": null,
   "metadata": {},
   "outputs": [],
   "source": [
    "extrapars[0]"
   ]
  },
  {
   "cell_type": "code",
   "execution_count": null,
   "metadata": {},
   "outputs": [],
   "source": [
    "initials = np.array([2326., 4800., 4696., 40000., 11776., 9000., 9000., 9000., 3109., \n",
    "                     3900., 7226., 3799., 10654., 5544.])"
   ]
  },
  {
   "cell_type": "code",
   "execution_count": null,
   "metadata": {},
   "outputs": [],
   "source": [
    "extrapars_w_mode4 = np.concatenate([mode4_100,all_pars])"
   ]
  },
  {
   "cell_type": "code",
   "execution_count": null,
   "metadata": {},
   "outputs": [],
   "source": [
    "extrapars_w_mode4.shape"
   ]
  },
  {
   "cell_type": "code",
   "execution_count": null,
   "metadata": {},
   "outputs": [],
   "source": [
    "np.save('../param_files/necro_pars10k_cluster4_5720_mod_wextra667.npy', extrapars_w_mode4)"
   ]
  },
  {
   "cell_type": "code",
   "execution_count": null,
   "metadata": {},
   "outputs": [],
   "source": [
    "extrapars_new[0]"
   ]
  },
  {
   "cell_type": "code",
   "execution_count": null,
   "metadata": {},
   "outputs": [],
   "source": [
    "tspan = np.linspace(0, 1440, 500)"
   ]
  },
  {
   "cell_type": "code",
   "execution_count": null,
   "metadata": {},
   "outputs": [],
   "source": [
    "mode4_100.shape"
   ]
  },
  {
   "cell_type": "code",
   "execution_count": null,
   "metadata": {},
   "outputs": [],
   "source": [
    "all_pars.shape"
   ]
  },
  {
   "cell_type": "code",
   "execution_count": null,
   "metadata": {},
   "outputs": [],
   "source": [
    "n_pars = len(extrapars)\n",
    "all_pars = np.zeros((n_pars, len(model.parameters)))\n",
    "\n",
    "rate_params = model.parameters_rules()\n",
    "param_values = np.array([p.value for p in model.parameters])\n",
    "rate_mask = np.array([p in rate_params for p in model.parameters])\n",
    "\n",
    "for i in range(n_pars):\n",
    "    par = extrapars[i]\n",
    "    param_values[rate_mask] = 10**par\n",
    "    all_pars[i] = param_values"
   ]
  },
  {
   "cell_type": "code",
   "execution_count": null,
   "metadata": {},
   "outputs": [],
   "source": [
    "m = model.components"
   ]
  },
  {
   "cell_type": "code",
   "execution_count": null,
   "metadata": {},
   "outputs": [],
   "source": [
    "solverwt100ep = ScipyOdeSimulator(model, tspan=tspan, verbose = True)\n",
    "wtclus100ep = solverwt100ep.run(initials = {m.CYLD(brip=None, btraf = None):0},param_values=all_pars[sim_idx_a20ko], num_processors = 20)\n",
    "epdf100wt100 = wtclus100ep.dataframe"
   ]
  },
  {
   "cell_type": "code",
   "execution_count": null,
   "metadata": {},
   "outputs": [],
   "source": [
    "fig, ax = plt.subplots()\n",
    "for n in range(len(all_pars)):\n",
    "    plt.plot(tspan/60, epdf100wt100.loc[n]['MLKLa_obs'].iloc[:]/5544, lw=1.5, \n",
    "             zorder = 1)\n",
    "# colormap = plt.cm.Reds #nipy_spectral, Set1,Paired   \n",
    "# colors = [colormap(i) for i in np.linspace(0, 1,len(ax.lines))]\n",
    "# for i,j in enumerate(ax.lines):\n",
    "#     j.set_color(colors[i])\n",
    "# ax1.legend(loc=2)    \n",
    "plt.xlabel(\"Time (hours)\", fontsize=15)\n",
    "plt.ylabel(\"pMLKL (normalized)\", fontsize=15)\n",
    "plt.xlim(xmin = 0, xmax = 16)\n",
    "plt.ylim(ymin = 0)\n",
    "plt.xticks(fontsize=14)\n",
    "plt.yticks(fontsize=14)\n",
    "right_side = ax.spines[\"right\"]\n",
    "right_side.set_visible(False)\n",
    "top = ax.spines[\"top\"]\n",
    "top.set_visible(False)\n",
    "ax.set_xticks([0, 5, 10, 15, 20, 24])\n",
    "ax.grid(False)\n",
    "plt.tight_layout()\n",
    "# plt.savefig('pmlkl_allpars_clus0_tnf100_noframe.pdf')\n",
    "plt.show() "
   ]
  },
  {
   "cell_type": "code",
   "execution_count": null,
   "metadata": {},
   "outputs": [],
   "source": [
    "for i,n in enumerate(np.linspace(0, 1400, 500)):\n",
    "    print(i,\":\",n)"
   ]
  },
  {
   "cell_type": "code",
   "execution_count": null,
   "metadata": {},
   "outputs": [],
   "source": [
    "sim_idx_a20ko = [idx for idx in range(len(all_pars)) if epdf100wt100['MLKLa_obs'][idx].iloc[193] < 2772]\n",
    "print(len(sim_idx_a20ko))"
   ]
  },
  {
   "cell_type": "code",
   "execution_count": null,
   "metadata": {},
   "outputs": [],
   "source": [
    "fig, ax = plt.subplots()\n",
    "for n in sim_idx_a20ko:\n",
    "    plt.plot(tspan/60, epdf100wt100.loc[n]['MLKLa_obs'].iloc[:]/5544, lw=1.5, \n",
    "             zorder = 1)\n",
    "# colormap = plt.cm.Reds #nipy_spectral, Set1,Paired   \n",
    "# colors = [colormap(i) for i in np.linspace(0, 1,len(ax.lines))]\n",
    "# for i,j in enumerate(ax.lines):\n",
    "#     j.set_color(colors[i])\n",
    "# ax1.legend(loc=2)    \n",
    "plt.xlabel(\"Time (hours)\", fontsize=15)\n",
    "plt.ylabel(\"pMLKL (normalized)\", fontsize=15)\n",
    "plt.xlim(xmin = 0, xmax = 16)\n",
    "plt.ylim(ymin = 0)\n",
    "plt.xticks(fontsize=14)\n",
    "plt.yticks(fontsize=14)\n",
    "right_side = ax.spines[\"right\"]\n",
    "right_side.set_visible(False)\n",
    "top = ax.spines[\"top\"]\n",
    "top.set_visible(False)\n",
    "ax.set_xticks([0, 5, 10, 15, 20, 24])\n",
    "ax.grid(False)\n",
    "plt.tight_layout()\n",
    "# plt.savefig('pmlkl_allpars_clus0_tnf100_noframe.pdf')\n",
    "plt.show() "
   ]
  },
  {
   "cell_type": "code",
   "execution_count": null,
   "metadata": {},
   "outputs": [],
   "source": [
    "fig, ax = plt.subplots()\n",
    "for n in sim_idx_a20ko:\n",
    "    plt.plot(tspan/60, epdf100wt100.loc[n]['MLKLa_obs'].iloc[:]/5544, lw=1.5, \n",
    "             zorder = 1)\n",
    "# colormap = plt.cm.Reds #nipy_spectral, Set1,Paired   \n",
    "# colors = [colormap(i) for i in np.linspace(0, 1,len(ax.lines))]\n",
    "# for i,j in enumerate(ax.lines):\n",
    "#     j.set_color(colors[i])\n",
    "# ax1.legend(loc=2)    \n",
    "plt.xlabel(\"Time (hours)\", fontsize=15)\n",
    "plt.ylabel(\"pMLKL (normalized)\", fontsize=15)\n",
    "plt.xlim(xmin = 0, xmax = 16)\n",
    "plt.ylim(ymin = 0)\n",
    "plt.xticks(fontsize=14)\n",
    "plt.yticks(fontsize=14)\n",
    "right_side = ax.spines[\"right\"]\n",
    "right_side.set_visible(False)\n",
    "top = ax.spines[\"top\"]\n",
    "top.set_visible(False)\n",
    "ax.set_xticks([0, 5, 10, 15, 20, 24])\n",
    "ax.grid(False)\n",
    "plt.tight_layout()\n",
    "# plt.savefig('pmlkl_allpars_clus0_tnf100_noframe.pdf')\n",
    "plt.show() "
   ]
  },
  {
   "cell_type": "code",
   "execution_count": null,
   "metadata": {},
   "outputs": [],
   "source": [
    "fig, ax = plt.subplots()\n",
    "for n in range(len(all_pars)):\n",
    "    plt.plot(tspan/60, epdf100wt100.loc[n]['MLKLa_obs'].iloc[:]/5544, lw=1.5, \n",
    "             zorder = 1)\n",
    "# colormap = plt.cm.Reds #nipy_spectral, Set1,Paired   \n",
    "# colors = [colormap(i) for i in np.linspace(0, 1,len(ax.lines))]\n",
    "# for i,j in enumerate(ax.lines):\n",
    "#     j.set_color(colors[i])\n",
    "# ax1.legend(loc=2)    \n",
    "plt.xlabel(\"Time (hours)\", fontsize=15)\n",
    "plt.ylabel(\"pMLKL (normalized)\", fontsize=15)\n",
    "plt.xlim(xmin = 0, xmax = 16)\n",
    "plt.ylim(ymin = 0)\n",
    "plt.xticks(fontsize=14)\n",
    "plt.yticks(fontsize=14)\n",
    "right_side = ax.spines[\"right\"]\n",
    "right_side.set_visible(False)\n",
    "top = ax.spines[\"top\"]\n",
    "top.set_visible(False)\n",
    "ax.set_xticks([0, 5, 10, 15, 20, 24])\n",
    "ax.grid(False)\n",
    "plt.tight_layout()\n",
    "# plt.savefig('pmlkl_allpars_clus0_tnf100_noframe.pdf')\n",
    "plt.show() "
   ]
  },
  {
   "cell_type": "code",
   "execution_count": null,
   "metadata": {},
   "outputs": [],
   "source": [
    "fig, ax = plt.subplots()\n",
    "for n in range(len(all_pars)):\n",
    "    plt.plot(tspan/60, epdf100wt100.loc[n]['MLKLa_obs'].iloc[:]/5544, lw=1.5, \n",
    "             zorder = 1)\n",
    "# colormap = plt.cm.Reds #nipy_spectral, Set1,Paired   \n",
    "# colors = [colormap(i) for i in np.linspace(0, 1,len(ax.lines))]\n",
    "# for i,j in enumerate(ax.lines):\n",
    "#     j.set_color(colors[i])\n",
    "# ax1.legend(loc=2)    \n",
    "plt.xlabel(\"Time (hours)\", fontsize=15)\n",
    "plt.ylabel(\"pMLKL (normalized)\", fontsize=15)\n",
    "plt.xlim(xmin = 0, xmax = 16)\n",
    "plt.ylim(ymin = 0)\n",
    "plt.xticks(fontsize=14)\n",
    "plt.yticks(fontsize=14)\n",
    "right_side = ax.spines[\"right\"]\n",
    "right_side.set_visible(False)\n",
    "top = ax.spines[\"top\"]\n",
    "top.set_visible(False)\n",
    "ax.set_xticks([0, 5, 10, 15, 20, 24])\n",
    "ax.grid(False)\n",
    "plt.tight_layout()\n",
    "# plt.savefig('pmlkl_allpars_clus0_tnf100_noframe.pdf')\n",
    "plt.show() "
   ]
  },
  {
   "cell_type": "code",
   "execution_count": null,
   "metadata": {},
   "outputs": [],
   "source": [
    "solverwt1001 = ScipyOdeSimulator(model, tspan=tspan, verbose = True)\n",
    "wtclus1001 = solverwt1001.run(param_values=mode1_100, num_processors = 20)\n",
    "# wtclus0.save('h5files5720/pydyno_s36prod_5k_5620_100tnf_cluster0pars_72hrwt.h5',include_obs_exprs = True)\n",
    "m1df100wt100 = wtclus1001.dataframe"
   ]
  },
  {
   "cell_type": "code",
   "execution_count": null,
   "metadata": {},
   "outputs": [],
   "source": [
    "df = pd.concat([m1df100wt100],\n",
    "               keys=[ 'pmlkl'],\n",
    "               names=['group', 'simulation', 'time'])\n",
    "\n",
    "# Add observable/group pairs as needed\n",
    "obs_to_plot = {\n",
    "    ('MLKLa_obs', 'pmlkl'): 'green'\n",
    "}\n",
    "\n",
    "lower_quantile = 0.01  # 10%\n",
    "upper_quantile = 0.99  # 90%\n",
    "median = 0.5\n",
    "\n",
    "# fig, (ax1, ax2) = plt.subplots(1, 2, figsize=(10,10))\n",
    "# ax1.plot(x, y)\n",
    "# ax2.plot(x, -y)\n",
    "fig, ax1 = plt.subplots(figsize = (15,7))\n",
    "# fig, ax = plt.subplots(2,figsize=(10,10))\n",
    "# plt.figure()\n",
    "legend_keys = []\n",
    "for obs_pair, colour in obs_to_plot.items():\n",
    "    obs, group = obs_pair\n",
    "    # Calculate 10%, 50%, and 90% quantiles for observable\n",
    "    quantile_data = df[obs].loc[group].groupby(['time']).quantile(\n",
    "        q=[lower_quantile, median, upper_quantile]).unstack()\n",
    "    time_hrs = quantile_data.index / 60\n",
    "    colormap = plt.cm.Reds #nipy_spectral, Set1,Paired   \n",
    "    colors = [colormap(i) for i in np.linspace(0, 1,len(ax1.lines))]\n",
    "    for i,j in enumerate(ax1.lines):\n",
    "        j.set_color(colors[i]) \n",
    "    # Plot the median line (50% quantile) for the observable\n",
    "#     ax1.plot(time_hrs, quantile_data.loc[:, median],alpha = 1.0)\n",
    "    # Plot the 10% and 90% quantiles as an envelope\n",
    "    ax1.fill_between(time_hrs,\n",
    "                    quantile_data.loc[:, lower_quantile],\n",
    "                    quantile_data.loc[:, upper_quantile],\n",
    "                    alpha=.75)\n",
    "    ax1.set_xlim(xmin = 0, xmax = 24)\n",
    "    ax1.set_ylim(ymin = 0)\n",
    "   \n",
    "\n",
    "plt.ylabel('pMLKL (normalized)', fontsize = 14) # Y label\n",
    "plt.xlabel('Time (hours)', fontsize = 14) # X label\n",
    "# plt.xlim(xmin = 0, xmax =30)\n",
    "# plt.ylim(ymin = 1e-3)\n",
    "plt.show()"
   ]
  },
  {
   "cell_type": "code",
   "execution_count": null,
   "metadata": {},
   "outputs": [],
   "source": [
    "fig, ax = plt.subplots()\n",
    "for n in range(len(mode1_100)):\n",
    "    plt.plot(tspan/60, m1df100wt100.loc[n]['MLKLa_obs'].iloc[:]/5544, lw=1.5, \n",
    "             zorder = 1)\n",
    "colormap = plt.cm.Reds #nipy_spectral, Set1,Paired   \n",
    "colors = [colormap(i) for i in np.linspace(0, 1,len(ax.lines))]\n",
    "for i,j in enumerate(ax.lines):\n",
    "    j.set_color(colors[i])\n",
    "# ax1.legend(loc=2)    \n",
    "plt.xlabel(\"Time (hours)\", fontsize=15)\n",
    "plt.ylabel(\"pMLKL (normalized)\", fontsize=15)\n",
    "plt.xlim(xmin = 0, xmax = 16)\n",
    "plt.ylim(ymin = 0)\n",
    "plt.xticks(fontsize=14)\n",
    "plt.yticks(fontsize=14)\n",
    "right_side = ax.spines[\"right\"]\n",
    "right_side.set_visible(False)\n",
    "top = ax.spines[\"top\"]\n",
    "top.set_visible(False)\n",
    "ax.set_xticks([0, 5, 10, 15, 20, 24])\n",
    "ax.grid(False)\n",
    "plt.tight_layout()\n",
    "# plt.savefig('pmlkl_allpars_clus0_tnf100_noframe.pdf')\n",
    "plt.show()  "
   ]
  },
  {
   "cell_type": "code",
   "execution_count": null,
   "metadata": {},
   "outputs": [],
   "source": [
    "for i,n in enumerate(np.linspace(0,1440,500)):\n",
    "    print(i,\":\",n)"
   ]
  },
  {
   "cell_type": "code",
   "execution_count": null,
   "metadata": {},
   "outputs": [],
   "source": [
    "print(len(mode1_100))"
   ]
  },
  {
   "cell_type": "code",
   "execution_count": null,
   "metadata": {},
   "outputs": [],
   "source": [
    "sim_idx_mode1 = [idx for idx in range(len(mode1_100)) if m1df100wt100['MLKLa_obs'][idx].iloc[333] >= 2772]\n",
    "print(len(sim_idx_mode1))"
   ]
  },
  {
   "cell_type": "code",
   "execution_count": null,
   "metadata": {},
   "outputs": [],
   "source": [
    "sim_idx_mode1mid = [idx for idx in range(len(mode1_100)) if m1df100wt100['MLKLa_obs'][idx].iloc[146] < 2772 \n",
    "                 and m1df100wt100['MLKLa_obs'][idx].iloc[270] > 2772]\n",
    "print(len(sim_idx_mode1mid))"
   ]
  },
  {
   "cell_type": "code",
   "execution_count": null,
   "metadata": {},
   "outputs": [],
   "source": [
    "fig, ax = plt.subplots()\n",
    "for n in sim_idx_mode1mid:\n",
    "    plt.plot(tspan/60, m1df100wt100.loc[n]['MLKLa_obs'].iloc[:]/5544, lw=1.5, \n",
    "             zorder = 1)\n",
    "colormap = plt.cm.Reds #nipy_spectral, Set1,Paired   \n",
    "colors = [colormap(i) for i in np.linspace(0, 1,len(ax.lines))]\n",
    "for i,j in enumerate(ax.lines):\n",
    "    j.set_color(colors[i])\n",
    "# ax1.legend(loc=2)    \n",
    "plt.xlabel(\"Time (hours)\", fontsize=15)\n",
    "plt.ylabel(\"pMLKL (normalized)\", fontsize=15)\n",
    "plt.xlim(xmin = 0, xmax = 16)\n",
    "plt.ylim(ymin = 0)\n",
    "plt.xticks(fontsize=14)\n",
    "plt.yticks(fontsize=14)\n",
    "right_side = ax.spines[\"right\"]\n",
    "right_side.set_visible(False)\n",
    "top = ax.spines[\"top\"]\n",
    "top.set_visible(False)\n",
    "ax.set_xticks([0, 5, 10, 15, 20, 24])\n",
    "ax.grid(False)\n",
    "plt.tight_layout()\n",
    "# plt.savefig('pmlkl_allpars_clus0_tnf100_noframe.pdf')\n",
    "plt.show()  "
   ]
  },
  {
   "cell_type": "code",
   "execution_count": null,
   "metadata": {},
   "outputs": [],
   "source": [
    "solverwt100 = ScipyOdeSimulator(model, tspan=tspan, verbose = True)\n",
    "wtclus100 = solverwt100.run(param_values=mode1_100[mode1_all], num_processors = 20)\n",
    "df100wt100 = wtclus100.dataframe"
   ]
  },
  {
   "cell_type": "code",
   "execution_count": null,
   "metadata": {},
   "outputs": [],
   "source": [
    "solverwt100a20 = ScipyOdeSimulator(model, tspan=tspan, verbose = True)\n",
    "wtclus100a20 = solverwt100a20.run(initials = {m.A20(brip = None):0},\n",
    "                                param_values=mode1_100[mode1_all], num_processors = 20)\n",
    "df100wt100a20 = wtclus100a20.dataframe"
   ]
  },
  {
   "cell_type": "code",
   "execution_count": null,
   "metadata": {},
   "outputs": [],
   "source": [
    "threshold2 = 2772"
   ]
  },
  {
   "cell_type": "code",
   "execution_count": null,
   "metadata": {},
   "outputs": [],
   "source": [
    "df_threshtimesc0100wtn = df100wt100.groupby('simulation').apply(lambda x: (x > threshold2).idxmax()).apply(lambda x: [y[1] for y in x])\n",
    "df_threshtimesc0100a20n   = df100wt100a20.groupby('simulation').apply(lambda x: (x > threshold2).idxmax()).apply(lambda x: [y[1] for y in x])"
   ]
  },
  {
   "cell_type": "code",
   "execution_count": null,
   "metadata": {},
   "outputs": [],
   "source": [
    "clus0n = pd.DataFrame({'wt0': df_threshtimesc0100wtn['MLKLa_obs'], 'a200': df_threshtimesc0100a20n['MLKLa_obs']})\n",
    "dfclus0n = pd.DataFrame(data = clus0n, columns = ['wt0', 'a200'])\n",
    "dfclus0n = pd.melt(dfclus0n)"
   ]
  },
  {
   "cell_type": "code",
   "execution_count": null,
   "metadata": {},
   "outputs": [],
   "source": [
    "sns.set(style=\"whitegrid\")\n",
    "plt.figure(figsize = (15,10))\n",
    "my_pal = {\"wt0\": \"indianred\", \"a200\":\"steelblue\"}\n",
    "# my_pal1 = {\"wt0\": \"red\", \"a200\":\"blue\"}\n",
    "# b = sns.boxplot(x = \"value\", y =\"variable\", data = dfclus0, notch = True, width = 0.5, palette = my_pal)\n",
    "b = sns.swarmplot(x=\"value\", y=\"variable\", data=dfclus0n, zorder=2, palette=my_pal)\n",
    "# b = sns.boxplot(x = \"value\", y =\"variable\", data = dfclus0, notch = True, width = 0.5, palette = my_pal)\n",
    "# b = sns.swarmplot(x=\"value\", y=\"variable\", data=dfclus0, zorder=2, palette=my_pal1)\n",
    "b.set_xlabel(\"Time (minutes)\",fontsize=15)\n",
    "b.set_ylabel(\"Mode 1 Degeneracy\",fontsize=15)\n",
    "b.tick_params(labelsize=15)\n",
    "plt.xlim(xmax = 1800, xmin = 0)\n",
    "# plt.savefig('figs/Cluster0/pmlkl_100tnf_clus0box_wswarm_5720_modnew.pdf')\n",
    "plt.show()"
   ]
  },
  {
   "cell_type": "code",
   "execution_count": null,
   "metadata": {},
   "outputs": [],
   "source": []
  },
  {
   "cell_type": "code",
   "execution_count": null,
   "metadata": {},
   "outputs": [],
   "source": [
    "fig, ax = plt.subplots()\n",
    "for n in range(len(mode1_100[lesslist])):\n",
    "    plt.plot(tspan/60, df100wt100a20.loc[n]['MLKLa_obs'].iloc[:]/5544, lw=1.5, \n",
    "             zorder = 1)\n",
    "colormap = plt.cm.Reds #nipy_spectral, Set1,Paired   \n",
    "colors = [colormap(i) for i in np.linspace(0, 1,len(ax.lines))]\n",
    "for i,j in enumerate(ax.lines):\n",
    "    j.set_color(colors[i])\n",
    "# ax1.legend(loc=2)    \n",
    "plt.xlabel(\"Time (hours)\", fontsize=15)\n",
    "plt.ylabel(\"pMLKL (normalized)\", fontsize=15)\n",
    "plt.xlim(xmin = 0, xmax = 16)\n",
    "plt.ylim(ymin = 0)\n",
    "plt.xticks(fontsize=14)\n",
    "plt.yticks(fontsize=14)\n",
    "right_side = ax.spines[\"right\"]\n",
    "right_side.set_visible(False)\n",
    "top = ax.spines[\"top\"]\n",
    "top.set_visible(False)\n",
    "ax.set_xticks([0, 5, 10, 15, 20, 24])\n",
    "ax.grid(False)\n",
    "plt.tight_layout()\n",
    "# plt.savefig('pmlkl_allpars_clus0_tnf100_noframe.pdf')\n",
    "plt.show()  "
   ]
  },
  {
   "cell_type": "code",
   "execution_count": null,
   "metadata": {},
   "outputs": [],
   "source": [
    "sim_idx_mode1a20 = [idx for idx in range(len(mode1_100[sim_idx_mode1mid])) if \n",
    "                    df100wt100a20['MLKLa_obs'][idx].iloc[312] > 2772]\n",
    "print(len(sim_idx_mode1a20))"
   ]
  },
  {
   "cell_type": "code",
   "execution_count": null,
   "metadata": {},
   "outputs": [],
   "source": [
    "sim_idx_mode1a20less = [idx for idx in range(len(mode1_100[sim_idx_mode1mid])) if \n",
    "                    df100wt100a20['MLKLa_obs'][idx].iloc[312] < 2772]\n",
    "print(len(sim_idx_mode1a20less))"
   ]
  },
  {
   "cell_type": "code",
   "execution_count": null,
   "metadata": {},
   "outputs": [],
   "source": [
    "oneless = np.repeat(sim_idx_mode1a20less[:413], 1, axis=0)\n",
    "twoless = np.repeat(sim_idx_mode1a20less[413:589], 1, axis=0)\n",
    "fourless= np.repeat(sim_idx_mode1a20less[589:729], 1, axis=0)\n",
    "fiveless= np.repeat(sim_idx_mode1a20less[729:862], 1, axis=0)\n",
    "sixless= np.repeat(sim_idx_mode1a20less[862:955], 1, axis=0)\n",
    "sevenless= np.repeat(sim_idx_mode1a20less[955:1042], 1, axis=0)\n",
    "a = np.repeat(sim_idx_mode1a20less[1042:1061], 1, axis=0)\n",
    "eightless= np.repeat(sim_idx_mode1a20less[1061:1129], 2, axis=0)\n",
    "nineless= np.repeat(sim_idx_mode1a20less[1129:1203], 2, axis=0)\n",
    "tenless = np.repeat(sim_idx_mode1a20less[1203:1271], 2, axis=0)\n",
    "elevenless= np.repeat(sim_idx_mode1a20less[1271:1332], 3, axis=0)"
   ]
  },
  {
   "cell_type": "code",
   "execution_count": null,
   "metadata": {},
   "outputs": [],
   "source": [
    "# ({1: 232, 3: 181, 2: 176, 4: 176, 6: 140, 5: 133, 7: 93, 8: 87, 10: 87, \n",
    "#  13: 79, 9: 74, 11: 68, 14: 59, 12: 56, 17: 44, 15: 38, 16: 38, 20: 36, \n",
    "#  18: 34, 19: 24, 21: 24, 23: 24, 25: 23, 24: 20, 22: 18, 29: 15, 27: 14, \n",
    "#  31: 14, 26: 12, 30: 12, 28: 10, 34: 10, 36: 10, 37: 9, 39: 8, 33: 7, 35: 7, \n",
    "#  47: 7, 32: 5, 42: 5, 43: 5, 44: 5, 45: 5, 62: 5, 38: 4, 41: 4, 48: 3, 50: 3,\n",
    "#  51: 3, 52: 3, 53: 3, 55: 3, 58: 3, 40: 2, 49: 2, 54: 2, 56: 2, 59: 2, 60: 2,\n",
    "#  61: 2, 65: 2, 67: 2, 70: 2, 46: 1, 57: 1, 64: 1, 66: 1, 68: 1, 72: 1, 77: 1,\n",
    "#  81: 1, 84: 1, 93: 1, 94: 1, 99: 1, 118: 1})"
   ]
  },
  {
   "cell_type": "code",
   "execution_count": null,
   "metadata": {},
   "outputs": [],
   "source": [
    "one = np.repeat(sim_idx_mode1a20[:232], 1, axis=0)\n",
    "two = np.repeat(sim_idx_mode1a20[232:413], 3, axis=0)\n",
    "three= np.repeat(sim_idx_mode1a20[413:589],2, axis=0)\n",
    "four= np.repeat(sim_idx_mode1a20[589:729], 4, axis=0)\n",
    "five= np.repeat(sim_idx_mode1a20[729:862], 6, axis=0)\n",
    "six= np.repeat(sim_idx_mode1a20[862:955], 5, axis=0)\n",
    "seven= np.repeat(sim_idx_mode1a20[955:1042], 7, axis=0)\n",
    "eight= np.repeat(sim_idx_mode1a20[1042:1129], 8, axis=0)\n",
    "nine= np.repeat(sim_idx_mode1a20[1129:1203], 10, axis=0)\n",
    "ten = np.repeat(sim_idx_mode1a20[1203:1271], 13, axis=0)\n",
    "eleven= np.repeat(sim_idx_mode1a20[1271:1332], 9, axis=0)\n",
    "twelve= np.repeat(sim_idx_mode1a20[1332:1400], 11, axis=0)\n",
    "thirteen= np.repeat(sim_idx_mode1a20[1400:1459], 14, axis=0)\n",
    "fourteen= np.repeat(sim_idx_mode1a20[1459:1515], 12, axis=0)\n",
    "fifteen= np.repeat(sim_idx_mode1a20[1515:1559], 17, axis=0)\n",
    "sixteen= np.repeat(sim_idx_mode1a20[1559:1597], 15, axis=0)\n",
    "seventeen= np.repeat(sim_idx_mode1a20[1597:1635], 16, axis=0)\n",
    "eighteen= np.repeat(sim_idx_mode1a20[1635:1671], 20, axis=0)\n",
    "ninteen= np.repeat(sim_idx_mode1a20[1671:1705], 18, axis=0)\n",
    "twenty= np.repeat(sim_idx_mode1a20[1705:1729], 19, axis=0)\n",
    "twentyone= np.repeat(sim_idx_mode1a20[1729:1753], 21, axis=0)\n",
    "twentytwo= np.repeat(sim_idx_mode1a20[1753:1777], 23, axis=0)\n",
    "twentythree= np.repeat(sim_idx_mode1a20[1777:1800], 25, axis=0)\n",
    "twentyfour= np.repeat(sim_idx_mode1a20[11800:1824], 24, axis=0)\n",
    "twentyfive= np.repeat(sim_idx_mode1a20[1824:1842], 22, axis=0)\n",
    "twentysix= np.repeat(sim_idx_mode1a20[1842:1857], 29, axis=0)\n",
    "twentyseven= np.repeat(sim_idx_mode1a20[1857:1871], 27, axis=0)\n",
    "twentyeight= np.repeat(sim_idx_mode1a20[1871:1885], 31, axis=0)\n",
    "twentynine= np.repeat(sim_idx_mode1a20[1885:1897], 26, axis=0)\n",
    "thirty= np.repeat(sim_idx_mode1a20[1897:1909], 30, axis=0)\n",
    "thirty1= np.repeat(sim_idx_mode1a20[1909:1919], 28, axis=0)\n",
    "thirty2=np.repeat(sim_idx_mode1a20[1919:1929], 34, axis=0)\n",
    "thirty3= np.repeat(sim_idx_mode1a20[1929:1939], 36, axis=0)\n",
    "thirty4= np.repeat(sim_idx_mode1a20[1939:1948], 37, axis=0)\n",
    "thirty5= np.repeat(sim_idx_mode1a20[1948:1956], 39, axis=0)\n",
    "thirty6= np.repeat(sim_idx_mode1a20[1956:1963], 33, axis=0)\n",
    "thirty7= np.repeat(sim_idx_mode1a20[1963:1970], 35, axis=0)\n",
    "thirty8= np.repeat(sim_idx_mode1a20[1970:1977], 47, axis=0)\n",
    "thirty9= np.repeat(sim_idx_mode1a20[1977:1982], 32, axis=0)\n",
    "forty= np.repeat(sim_idx_mode1a20[1982:1987], 42, axis=0)\n",
    "forty1= np.repeat(sim_idx_mode1a20[1987:1992], 43, axis=0)\n",
    "forty2= np.repeat(sim_idx_mode1a20[1992:1997], 44, axis=0)\n",
    "forty3= np.repeat(sim_idx_mode1a20[1997:2002], 45, axis=0)\n",
    "\n",
    "# ({1: 232, 3: 181, 2: 176, 4: 176, 6: 140, 5: 133, 7: 93, 8: 87, 10: 87, \n",
    "#  13: 79, 9: 74, 11: 68, 14: 59, 12: 56, 17: 44, 15: 38, 16: 38, 20: 36, \n",
    "#  18: 34, 19: 24, 21: 24, 23: 24, 25: 23, 24: 20, 22: 18, 29: 15, 27: 14, \n",
    "#  31: 14, 26: 12, 30: 12, 28: 10, 34: 10, 36: 10, 37: 9, 39: 8, 33: 7, 35: 7, \n",
    "#  47: 7, 32: 5, 42: 5, 43: 5, 44: 5, 45: 5,\n",
    "# 62: 5, 38: 4, 41: 4, 48: 3, 50: 3,\n",
    "#  51: 3, 52: 3, 53: 3, 55: 3, 58: 3, 40: 2, 49: 2, 54: 2, 56: 2, 59: 2, 60: 2,\n",
    "#  61: 2, 65: 2, 67: 2, 70: 2, 46: 1, 57: 1, 64: 1, 66: 1, 68: 1, 72: 1, 77: 1,\n",
    "#  81: 1, 84: 1, 93: 1, 94: 1, 99: 1, 118: 1})\n",
    "forty4= np.repeat(sim_idx_mode1a20[2002:2007], 62, axis=0)\n",
    "forty5= np.repeat(sim_idx_mode1a20[2007:2011], 38, axis=0)\n",
    "forty6= np.repeat(sim_idx_mode1a20[2011:2015], 41, axis=0)\n",
    "forty7= np.repeat(sim_idx_mode1a20[2015:2018], 48, axis=0)\n",
    "forty9= np.repeat(sim_idx_mode1a20[2018:2021], 50, axis=0)\n",
    "fifty= np.repeat(sim_idx_mode1a20[2021:2024], 51, axis=0)\n",
    "fifty1= np.repeat(sim_idx_mode1a20[2024:2027], 52, axis=0)\n",
    "fifty2= np.repeat(sim_idx_mode1a20[2027:2030], 53, axis=0)\n",
    "fifty3= np.repeat(sim_idx_mode1a20[2030:2033], 55, axis=0)\n",
    "fifty4= np.repeat(sim_idx_mode1a20[2033:2036], 58, axis=0)\n",
    "fifty5= np.repeat(sim_idx_mode1a20[2036:2038], 40, axis=0)\n",
    "fifty6= np.repeat(sim_idx_mode1a20[2038:2040], 49, axis=0)\n",
    "fifty7= np.repeat(sim_idx_mode1a20[2040:2042], 54, axis=0)\n",
    "fifty8= np.repeat(sim_idx_mode1a20[2042:2044], 56, axis=0)\n",
    "fifty9= np.repeat(sim_idx_mode1a20[2044:2046], 59, axis=0)\n",
    "sixty= np.repeat(sim_idx_mode1a20[2046:2048], 60, axis=0)\n",
    "sixty1= np.repeat(sim_idx_mode1a20[2048:2050], 61, axis=0)\n",
    "sixty4= np.repeat(sim_idx_mode1a20[2050:2052], 67, axis=0)\n",
    "sixty5= np.repeat(sim_idx_mode1a20[2052:2054], 70, axis=0)\n",
    "sixty6= np.repeat(sim_idx_mode1a20[2054:2056], 67, axis=0)\n",
    "sixty7= np.repeat(sim_idx_mode1a20[2056:2058], 70, axis=0)\n",
    "sixty8= np.repeat(sim_idx_mode1a20[2058:2059], 46, axis=0)\n",
    "seventy= np.repeat(sim_idx_mode1a20[2059:2060], 57, axis=0)\n",
    "seventy2= np.repeat(sim_idx_mode1a20[2060:2061], 64, axis=0)\n",
    "seventy7= np.repeat(sim_idx_mode1a20[2061:2062], 66, axis=0)\n",
    "eighty1= np.repeat(sim_idx_mode1a20[2062:2063], 68, axis=0)\n",
    "eighty4= np.repeat(sim_idx_mode1a20[2063:2064], 72, axis=0)\n",
    "ninety3= np.repeat(sim_idx_mode1a20[2064:2065], 77, axis=0)\n",
    "ninety4= np.repeat(sim_idx_mode1a20[2065:2066], 81, axis=0)\n",
    "ninety9= np.repeat(sim_idx_mode1a20[2066:2067], 84, axis=0)\n",
    "hundred18= np.repeat(sim_idx_mode1a20[2067:2068], 93, axis=0)\n",
    "# hundred181= np.repeat(sim_idx_mode1a20[2054:20], 94, axis=0)\n",
    "# hundred182= np.repeat(sim_idx_mode1a20[2054:2056], 99, axis=0)\n",
    "# hundred183= np.repeat(sim_idx_mode1a20[2054:2056], 118, axis=0)"
   ]
  },
  {
   "cell_type": "code",
   "execution_count": null,
   "metadata": {},
   "outputs": [],
   "source": [
    "mode1_dups_all = [oneless,twoless,fourless,fiveless,sixless,sevenless,a,eightless,nineless,tenless,elevenless,\n",
    "    one,\n",
    "two,\n",
    "three,\n",
    "four,\n",
    "five,\n",
    "six,\n",
    "seven,\n",
    "eight,\n",
    "nine,\n",
    "ten,\n",
    "eleven,\n",
    "twelve,\n",
    "thirteen,\n",
    "fourteen,\n",
    "fifteen,\n",
    "sixteen,\n",
    "seventeen,\n",
    "eighteen,\n",
    "ninteen,\n",
    "twenty,\n",
    "twentyone,\n",
    "twentytwo,\n",
    "twentythree,\n",
    "twentyfour,\n",
    "twentyfive,\n",
    "twentysix,\n",
    "twentyseven,\n",
    "twentyeight,\n",
    "twentynine,\n",
    "thirty,\n",
    "thirty1,\n",
    "thirty2,\n",
    "thirty3,\n",
    "thirty4,\n",
    "thirty5,\n",
    "thirty6,\n",
    "thirty7,\n",
    "thirty8,\n",
    "thirty9,\n",
    "forty,\n",
    "forty1,\n",
    "forty2,\n",
    "forty3,\n",
    "forty4,\n",
    "forty5,\n",
    "forty6,\n",
    "forty7,\n",
    "forty9,\n",
    "fifty,\n",
    "fifty1,\n",
    "fifty2,\n",
    "fifty3,\n",
    "fifty4,\n",
    "fifty5,\n",
    "fifty6,\n",
    "fifty7,\n",
    "fifty8,\n",
    "fifty9,\n",
    "sixty,\n",
    "sixty1,\n",
    "sixty4,\n",
    "sixty5,\n",
    "sixty6,\n",
    "sixty7,\n",
    "sixty8,\n",
    "seventy,\n",
    "seventy2,\n",
    "seventy7,\n",
    "eighty1,\n",
    "eighty4,\n",
    "ninety3,\n",
    "ninety4,\n",
    "ninety9,\n",
    "hundred18]"
   ]
  },
  {
   "cell_type": "code",
   "execution_count": null,
   "metadata": {},
   "outputs": [],
   "source": [
    "mode1_all = []\n",
    "# final_lessm1= [oneless,twoless,threeless,fourless,fiveless,sixless,sevenless,eightless,nineless,tenless,elevenless]\n",
    "for i in mode1_dups_all:\n",
    "    mode1_all.extend(i)\n",
    "# lesslist.extend(twoless)\n",
    "# lesslist.extend(threeless)\n",
    "# lesslist.extend(oneless,twoless,threeless)\n",
    "# lesslist.extend(oneless,twoless,threeless)"
   ]
  },
  {
   "cell_type": "code",
   "execution_count": null,
   "metadata": {},
   "outputs": [],
   "source": [
    "print(len(mode1_100(mode1_all)))"
   ]
  },
  {
   "cell_type": "code",
   "execution_count": null,
   "metadata": {},
   "outputs": [],
   "source": [
    "u, indices, counts = np.unique(mode1_all, return_index=True, return_counts=True, axis=0)\n",
    "\n",
    "max_idx = np.argsort(counts)\n",
    "\n",
    "print(len(max_idx[:]))"
   ]
  },
  {
   "cell_type": "code",
   "execution_count": null,
   "metadata": {},
   "outputs": [],
   "source": [
    "lesslist = []\n",
    "final_lessm1= [oneless,twoless,fourless,fiveless,sixless,sevenless,a,eightless,nineless,tenless,elevenless]\n",
    "for i in final_lessm1:\n",
    "    lesslist.extend(i)\n",
    "# lesslist.extend(twoless)\n",
    "# lesslist.extend(threeless)\n",
    "# lesslist.extend(oneless,twoless,threeless)\n",
    "# lesslist.extend(oneless,twoless,threeless)"
   ]
  },
  {
   "cell_type": "code",
   "execution_count": null,
   "metadata": {},
   "outputs": [],
   "source": [
    "print(len(lesslist))"
   ]
  },
  {
   "cell_type": "code",
   "execution_count": null,
   "metadata": {},
   "outputs": [],
   "source": [
    "result = [item for items, c in collections.Counter(lesslist).most_common()\n",
    "                                      for item in [items] * c]"
   ]
  },
  {
   "cell_type": "code",
   "execution_count": null,
   "metadata": {},
   "outputs": [],
   "source": [
    "result"
   ]
  },
  {
   "cell_type": "code",
   "execution_count": null,
   "metadata": {},
   "outputs": [],
   "source": [
    "lesslist_sort = np.argsort(lesslist)\n",
    "print(lesslist_sort)"
   ]
  },
  {
   "cell_type": "code",
   "execution_count": null,
   "metadata": {},
   "outputs": [],
   "source": [
    "plt.figure()\n",
    "plt.hist(mode1_all, bins = 50, histtype='bar',alpha=0.5, ec ='black')\n",
    "plt.xlabel('Parameter Indices Mode 1',fontsize = 16)\n",
    "plt.ylabel('Frequency (Degeneracy)',fontsize = 16)\n",
    "plt.xticks(fontsize = 12)\n",
    "plt.yticks(fontsize = 12)\n",
    "plt.tight_layout()\n",
    "# plt.savefig('nerm_paramdegeneracy_mode1_test.pdf')\n",
    "plt.show()"
   ]
  },
  {
   "cell_type": "code",
   "execution_count": null,
   "metadata": {},
   "outputs": [],
   "source": [
    "plt.figure()\n",
    "plt.hist(lesslist, bins = 50, histtype='bar',alpha=0.5, ec ='black')\n",
    "plt.xlabel('Parameter Indices Mode 1',fontsize = 16)\n",
    "plt.ylabel('Frequency (Degeneracy)',fontsize = 16)\n",
    "plt.xticks(fontsize = 12)\n",
    "plt.yticks(fontsize = 12)\n",
    "plt.tight_layout()\n",
    "# plt.savefig('nerm_paramdegeneracy_mode1_test.pdf')\n",
    "plt.show()"
   ]
  },
  {
   "cell_type": "code",
   "execution_count": null,
   "metadata": {},
   "outputs": [],
   "source": []
  },
  {
   "cell_type": "code",
   "execution_count": null,
   "metadata": {},
   "outputs": [],
   "source": [
    "print(len(mode1_100[lesslist]))"
   ]
  },
  {
   "cell_type": "code",
   "execution_count": null,
   "metadata": {},
   "outputs": [],
   "source": [
    "fig, ax = plt.subplots()\n",
    "for n in lesslist:\n",
    "    plt.plot(tspan/60, m1df100wt100.loc[n]['MLKLa_obs'].iloc[:]/5544, lw=1.5, \n",
    "             zorder = 1)\n",
    "colormap = plt.cm.Reds #nipy_spectral, Set1,Paired   \n",
    "colors = [colormap(i) for i in np.linspace(0, 1,len(ax.lines))]\n",
    "for i,j in enumerate(ax.lines):\n",
    "    j.set_color(colors[i])\n",
    "# ax1.legend(loc=2)    \n",
    "plt.xlabel(\"Time (hours)\", fontsize=15)\n",
    "plt.ylabel(\"pMLKL (normalized)\", fontsize=15)\n",
    "plt.xlim(xmin = 0, xmax = 16)\n",
    "plt.ylim(ymin = 0)\n",
    "plt.xticks(fontsize=14)\n",
    "plt.yticks(fontsize=14)\n",
    "right_side = ax.spines[\"right\"]\n",
    "right_side.set_visible(False)\n",
    "top = ax.spines[\"top\"]\n",
    "top.set_visible(False)\n",
    "ax.set_xticks([0, 5, 10, 15, 20, 24])\n",
    "ax.grid(False)\n",
    "plt.tight_layout()\n",
    "# plt.savefig('pmlkl_allpars_clus0_tnf100_noframe.pdf')\n",
    "plt.show()  "
   ]
  },
  {
   "cell_type": "code",
   "execution_count": null,
   "metadata": {},
   "outputs": [],
   "source": [
    "sim_idx_mode1a20lessm = [idx for idx in lesslist if \n",
    "                    m1df100wt100['MLKLa_obs'][idx].iloc[333] < 2772]\n",
    "print(len(sim_idx_mode1a20lessm))"
   ]
  },
  {
   "cell_type": "code",
   "execution_count": null,
   "metadata": {},
   "outputs": [],
   "source": [
    "final_lessm1= oneless+twoless+threeless+fourless+fiveless+sixless+sevenless+eightless+nineless+tenless+elevenless"
   ]
  },
  {
   "cell_type": "code",
   "execution_count": null,
   "metadata": {},
   "outputs": [],
   "source": [
    "sim_idx_mode1a20[:]"
   ]
  },
  {
   "cell_type": "code",
   "execution_count": null,
   "metadata": {},
   "outputs": [],
   "source": [
    "np.repeat(sim_idx_mode1a20[:,:], 2, axis=0)"
   ]
  },
  {
   "cell_type": "code",
   "execution_count": null,
   "metadata": {},
   "outputs": [],
   "source": [
    "sim_idx_mode1a20"
   ]
  },
  {
   "cell_type": "code",
   "execution_count": null,
   "metadata": {},
   "outputs": [],
   "source": [
    "np.repeat(sim_idx_mode1a20[:20], 2, axis=0)"
   ]
  },
  {
   "cell_type": "code",
   "execution_count": null,
   "metadata": {},
   "outputs": [],
   "source": [
    "one = np.repeat(sim_idx_mode1a20[:20], 1, axis=0)\n",
    "two = np.repeat(sim_idx_mode1a20[:20], 2, axis=0)\n",
    "three= np.repeat(sim_idx_mode1a20[:20], 3, axis=0)\n",
    "five = np.repeat(sim_idx_mode1a20[:20], 5, axis=0)\n",
    "six = np.repeat(sim_idx_mode1a20[:20], 6, axis=0)\n",
    "nine= np.repeat(sim_idx_mode1a20[:20], 9, axis=0)\n",
    "twelve = np.repeat(sim_idx_mode1a20[:20], 12, axis=0)\n",
    "nineteen = np.repeat(sim_idx_mode1a20[:20], 19, axis=0)\n",
    "twentytwo= np.repeat(sim_idx_mode1a20[:20], 22, axis=0)\n",
    "twentyfive = np.repeat(sim_idx_mode1a20[:20], 25, axis=0)\n",
    "thirty= np.repeat(sim_idx_mode1a20[:20], 30, axis=0)\n",
    "thirtyone= np.repeat(sim_idx_mode1a20[:20], 31, axis=0)\n",
    "thirtyseven= np.repeat(sim_idx_mode1a20[:20], 37, axis=0)\n",
    "forty= np.repeat(sim_idx_mode1a20[:20], 40, axis=0)\n",
    "fortysix= np.repeat(sim_idx_mode1a20[:20], 46, axis=0)"
   ]
  },
  {
   "cell_type": "code",
   "execution_count": null,
   "metadata": {},
   "outputs": [],
   "source": []
  },
  {
   "cell_type": "code",
   "execution_count": null,
   "metadata": {},
   "outputs": [],
   "source": []
  },
  {
   "cell_type": "code",
   "execution_count": null,
   "metadata": {},
   "outputs": [],
   "source": []
  },
  {
   "cell_type": "code",
   "execution_count": null,
   "metadata": {},
   "outputs": [],
   "source": [
    "solverwt1002 = ScipyOdeSimulator(model, tspan=tspan, verbose = True)\n",
    "wtclus1002 = solverwt1002.run(param_values=mode2_100, num_processors = 20)\n",
    "# wtclus0.save('h5files5720/pydyno_s36prod_5k_5620_100tnf_cluster0pars_72hrwt.h5',include_obs_exprs = True)\n",
    "m2df100wt100 = wtclus1002.dataframe"
   ]
  },
  {
   "cell_type": "code",
   "execution_count": null,
   "metadata": {},
   "outputs": [],
   "source": [
    "fig, ax = plt.subplots()\n",
    "for n in range(len(mode2_100)):\n",
    "    plt.plot(tspan/60, m2df100wt100.loc[n]['MLKLa_obs'].iloc[:]/5544, lw=1.5, \n",
    "             zorder = 1)\n",
    "colormap = plt.cm.Reds #nipy_spectral, Set1,Paired   \n",
    "colors = [colormap(i) for i in np.linspace(0, 1,len(ax.lines))]\n",
    "for i,j in enumerate(ax.lines):\n",
    "    j.set_color(colors[i])\n",
    "# ax1.legend(loc=2)    \n",
    "plt.xlabel(\"Time (hours)\", fontsize=15)\n",
    "plt.ylabel(\"pMLKL (normalized)\", fontsize=15)\n",
    "# plt.xlim(xmin = 0, xmax = 24)\n",
    "plt.xticks(fontsize=14)\n",
    "plt.yticks(fontsize=14)\n",
    "right_side = ax.spines[\"right\"]\n",
    "right_side.set_visible(False)\n",
    "top = ax.spines[\"top\"]\n",
    "top.set_visible(False)\n",
    "ax.set_xticks([0, 5, 10, 15, 20, 24])\n",
    "ax.grid(False)\n",
    "plt.tight_layout()\n",
    "# plt.savefig('pmlkl_allpars_clus0_tnf100_noframe.pdf')\n",
    "plt.show()  "
   ]
  },
  {
   "cell_type": "code",
   "execution_count": null,
   "metadata": {},
   "outputs": [],
   "source": [
    "solverwt1003 = ScipyOdeSimulator(model, tspan=tspan, verbose = True)\n",
    "wtclus1003 = solverwt1003.run(param_values=mode3_100, num_processors = 20)\n",
    "# wtclus0.save('h5files5720/pydyno_s36prod_5k_5620_100tnf_cluster0pars_72hrwt.h5',include_obs_exprs = True)\n",
    "m3df100wt100 = wtclus1003.dataframe"
   ]
  },
  {
   "cell_type": "code",
   "execution_count": null,
   "metadata": {},
   "outputs": [],
   "source": [
    "fig, ax = plt.subplots()\n",
    "for n in range(len(mode3_100)):\n",
    "    plt.plot(tspan/60, m3df100wt100.loc[n]['MLKLa_obs'].iloc[:]/5544, lw=1.5, \n",
    "             zorder = 1)\n",
    "colormap = plt.cm.Reds #nipy_spectral, Set1,Paired   \n",
    "colors = [colormap(i) for i in np.linspace(0, 1,len(ax.lines))]\n",
    "for i,j in enumerate(ax.lines):\n",
    "    j.set_color(colors[i])\n",
    "# ax1.legend(loc=2)    \n",
    "plt.xlabel(\"Time (hours)\", fontsize=15)\n",
    "plt.ylabel(\"pMLKL (normalized)\", fontsize=15)\n",
    "# plt.xlim(xmin = 0, xmax = 24)\n",
    "plt.xticks(fontsize=14)\n",
    "plt.yticks(fontsize=14)\n",
    "right_side = ax.spines[\"right\"]\n",
    "right_side.set_visible(False)\n",
    "top = ax.spines[\"top\"]\n",
    "top.set_visible(False)\n",
    "ax.set_xticks([0, 5, 10, 15, 20, 24])\n",
    "ax.grid(False)\n",
    "plt.tight_layout()\n",
    "# plt.savefig('pmlkl_allpars_clus0_tnf100_noframe.pdf')\n",
    "plt.show()  "
   ]
  },
  {
   "cell_type": "code",
   "execution_count": null,
   "metadata": {},
   "outputs": [],
   "source": [
    "solverwt1004 = ScipyOdeSimulator(model, tspan=tspan, verbose = True)\n",
    "wtclus1004 = solverwt1004.run(param_values=mode4_100, num_processors = 20)\n",
    "# wtclus0.save('h5files5720/pydyno_s36prod_5k_5620_100tnf_cluster0pars_72hrwt.h5',include_obs_exprs = True)\n",
    "m4df100wt100 = wtclus1004.dataframe"
   ]
  },
  {
   "cell_type": "code",
   "execution_count": null,
   "metadata": {},
   "outputs": [],
   "source": [
    "import matplotlib.cm\n",
    "print(matplotlib.cm.cmap_d.keys())"
   ]
  },
  {
   "cell_type": "code",
   "execution_count": null,
   "metadata": {},
   "outputs": [],
   "source": [
    "fig, ax = plt.subplots()\n",
    "for n in range(len(mode4_100)):\n",
    "    plt.plot(tspan/60, m4df100wt100.loc[n]['MLKLa_obs'].iloc[:]/5544, lw=1.5, \n",
    "             zorder = 1)\n",
    "colormap = plt.cm.Reds #nipy_spectral, Set1,Paired   \n",
    "colors = [colormap(i) for i in np.linspace(0, 1,len(ax.lines))]\n",
    "for i,j in enumerate(ax.lines):\n",
    "    j.set_color(colors[i])\n",
    "# ax1.legend(loc=2)    \n",
    "plt.xlabel(\"Time (hours)\", fontsize=15)\n",
    "plt.ylabel(\"pMLKL (normalized)\", fontsize=15)\n",
    "# plt.xlim(xmin = 0, xmax = 24)\n",
    "plt.xticks(fontsize=14)\n",
    "plt.yticks(fontsize=14)\n",
    "right_side = ax.spines[\"right\"]\n",
    "right_side.set_visible(False)\n",
    "top = ax.spines[\"top\"]\n",
    "top.set_visible(False)\n",
    "ax.set_xticks([0, 5, 10, 15, 20, 24])\n",
    "ax.grid(False)\n",
    "plt.tight_layout()\n",
    "# plt.savefig('pmlkl_allpars_clus0_tnf100_noframe.pdf')\n",
    "plt.show()  "
   ]
  },
  {
   "cell_type": "code",
   "execution_count": null,
   "metadata": {},
   "outputs": [],
   "source": [
    "CI_cyld = []\n",
    "clus_idxs = np.array(range(wtclus0.nsims))\n",
    "for idx in clus_idxs: \n",
    "    mlkl_traj = wtclus0.observables[idx]['CYLD_CI_obs']\n",
    "    ysim_mlkl_norm = mlkl_traj / np.nanmax(mlkl_traj)\n",
    "    st, sc, sk = scipy.interpolate.splrep(tspan, ysim_mlkl_norm)\n",
    "    try:\n",
    "        t10 = scipy.interpolate.sproot((st, sc - 0.10, sk))[0]\n",
    "        t90 = scipy.interpolate.sproot((st, sc - 0.90, sk))[0]\n",
    "    except IndexError:\n",
    "        t10 = 0\n",
    "        t90 = 0\n",
    "\n",
    "    # time of death  = halfway point between 10 and 90%\n",
    "    td = (t10 + t90) / 2\n",
    "    CI_cyld.append(td)"
   ]
  },
  {
   "cell_type": "code",
   "execution_count": null,
   "metadata": {},
   "outputs": [],
   "source": [
    "sns.set_style(\"white\")\n",
    "kwargs = dict(hist_kws={'alpha':.6}, kde_kws={'linewidth':2})\n",
    "print('clus', np.mean(CI_k63))\n",
    "print('clus', np.std(CI_k63))\n",
    "fig, ax = plt.subplots()\n",
    "sns.distplot(CI_k63, label ='CIk63',color=\"dodgerblue\", bins=50, **kwargs)\n",
    "sns.distplot(necrosome, label = 'necrosome',color=\"deeppink\", bins=50, **kwargs)\n",
    "sns.distplot(pmlkl, label = 'pMLKL',color=\"orange\", bins=50, **kwargs)\n",
    "# sns.distplot(CI_a20, label='uncluster',color=\"orange\", bins=25, **kwargs)\n",
    "# sns.distplot(CI_cyld, label='uncluster',color=\"deeppink\", bins=25, **kwargs)\n",
    "plt.xlabel('time (min)')\n",
    "plt.ylabel('Frequency')\n",
    "plt.legend(loc = 'best')\n",
    "# plt.xlim(xmax = 800)\n",
    "# plt.ylim(ymax = 0.04)\n",
    "right_side = ax.spines[\"right\"]\n",
    "right_side.set_visible(False)\n",
    "top = ax.spines[\"top\"]\n",
    "top.set_visible(False)\n",
    "# plt.savefig('k63_necrosome_pmlkl.pdf')\n",
    "plt.show()g"
   ]
  }
 ],
 "metadata": {
  "kernelspec": {
   "display_name": "Python 3",
   "language": "python",
   "name": "python3"
  },
  "language_info": {
   "codemirror_mode": {
    "name": "ipython",
    "version": 3
   },
   "file_extension": ".py",
   "mimetype": "text/x-python",
   "name": "python",
   "nbconvert_exporter": "python",
   "pygments_lexer": "ipython3",
   "version": "3.7.3"
  }
 },
 "nbformat": 4,
 "nbformat_minor": 2
}
