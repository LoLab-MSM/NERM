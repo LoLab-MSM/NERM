{
 "cells": [
  {
   "cell_type": "code",
   "execution_count": null,
   "metadata": {},
   "outputs": [],
   "source": [
    "import sys \n",
    "# sys.path.append('/Users/geenaildefonso/Projects/NERM')\n",
    "sys.path.append('../')\n",
    "from model_files.nerm import model as model\n",
    "import seaborn as sns\n",
    "import numpy as np\n",
    "from matplotlib import pyplot as plt\n",
    "# from necro_pydream_model_file_8920 import model\n",
    "from pysb.simulator import ScipyOdeSimulator\n",
    "import numpy as np\n",
    "from scipy.stats import norm,uniform\n",
    "import seaborn as sns\n",
    "from matplotlib import pyplot as plt\n",
    "import random\n",
    "import os\n",
    "from pylab import *\n",
    "from pysb.core import *\n",
    "from pysb.bng import *\n",
    "from pysb.integrate import *\n",
    "import matplotlib.pyplot as plt\n",
    "import numpy as np\n",
    "from pysb.util import alias_model_components\n",
    "from scipy import stats\n",
    "from pysb.simulator import SimulationResult\n",
    "import pandas as pd\n",
    "import seaborn as sns\n",
    "os.environ[\"OPENBLAS_NUM_THREADS\"] = \"1\""
   ]
  },
  {
   "cell_type": "code",
   "execution_count": null,
   "metadata": {},
   "outputs": [],
   "source": [
    "clus0_100 = np.load('../necro_pars10k_cluster0_5720_mod.npy')\n",
    "clus1_100 = np.load('../necro_pars10k_cluster1_5720_mod.npy')\n",
    "clus2_100 = np.load('../necro_pars10k_cluster2_5720_mod.npy')\n",
    "clus3_100 = np.load('../necro_pars10k_cluster3_5720_mod.npy')"
   ]
  },
  {
   "cell_type": "code",
   "execution_count": null,
   "metadata": {},
   "outputs": [],
   "source": [
    "tspan = np.linspace(0, 1800, 500)"
   ]
  },
  {
   "cell_type": "code",
   "execution_count": null,
   "metadata": {},
   "outputs": [],
   "source": [
    "for i,sp in enumerate(model.species):\n",
    "    print(i,\":\",sp)"
   ]
  },
  {
   "cell_type": "code",
   "execution_count": null,
   "metadata": {},
   "outputs": [],
   "source": [
    "solverwt0 = ScipyOdeSimulator(model, tspan=tspan, verbose = True)\n",
    "wtclus0 = solverwt0.run(param_values=clus0_100, num_processors = 20)\n",
    "# wtclus0.save('h5files5720/pydyno_s36prod_5k_5620_100tnf_cluster0pars_72hrwt.h5',include_obs_exprs = True)\n",
    "c0df100wt = wtclus0.dataframe"
   ]
  },
  {
   "cell_type": "code",
   "execution_count": null,
   "metadata": {},
   "outputs": [],
   "source": [
    "unclustered_times = []\n",
    "clus_idxs = np.array(range(wtclus0.nsims))\n",
    "for idx in clus_idxs: \n",
    "    mlkl_traj = wtclus0.observables[idx]['MLKLa_obs']\n",
    "    ysim_mlkl_norm = mlkl_traj / np.nanmax(mlkl_traj)\n",
    "    st, sc, sk = scipy.interpolate.splrep(tspan, ysim_mlkl_norm)\n",
    "    try:\n",
    "        t10 = scipy.interpolate.sproot((st, sc - 0.10, sk))[0]\n",
    "        t90 = scipy.interpolate.sproot((st, sc - 0.90, sk))[0]\n",
    "    except IndexError:\n",
    "        t10 = 0\n",
    "        t90 = 0\n",
    "\n",
    "    # time of death  = halfway point between 10 and 90%\n",
    "    td = (t10 + t90) / 2\n",
    "    unclustered_times.append(td)"
   ]
  },
  {
   "cell_type": "code",
   "execution_count": null,
   "metadata": {},
   "outputs": [],
   "source": [
    "print('clus', np.mean(unclustered_times))\n",
    "print('clus', np.std(unclustered_times))\n",
    "plt.hist(unclustered_times, label='uncluster', bins=25, alpha=0.5)"
   ]
  },
  {
   "cell_type": "code",
   "execution_count": null,
   "metadata": {},
   "outputs": [],
   "source": [
    "unclustered_times = []\n",
    "clus_idxs = np.array(range(wtclus0.nsims))\n",
    "for idx in clus_idxs:\n",
    "    momp_traj = wtclus0.observables[idx]['MLKLa_obs']\n",
    "    ysim_momp_norm = momp_traj / np.nanmax(momp_traj)\n",
    "#     print(idx)\n",
    "    st, sc, sk = scipy.interpolate.splrep(tspan, ysim_momp_norm)\n",
    "    t10 = scipy.interpolate.sproot((st, sc - 0.10, sk))[0]\n",
    "    t90 = scipy.interpolate.sproot((st, sc - 0.90, sk))[0]\n",
    "    td = (t10 + t90) / 2\n",
    "    unclustered_times.append(td)"
   ]
  },
  {
   "cell_type": "code",
   "execution_count": null,
   "metadata": {},
   "outputs": [],
   "source": [
    "plt.figure()\n",
    "for n in range(len(clus0_100)):\n",
    "    plt.plot(tspan/60, c0df100wt.loc[n]['MLKLa_obs'].iloc[:], lw=1.5, color ='blue', zorder = 1, alpha = 0.5)\n",
    "plt.xlabel(\"Time (in hr)\", fontsize=15)\n",
    "plt.ylabel(\"Amount (normalized)\", fontsize=15)\n",
    "# plt.xlim(xmin = 0, xmax = 24)\n",
    "plt.xticks(fontsize=14)\n",
    "plt.yticks(fontsize=14)\n",
    "plt.show()      "
   ]
  },
  {
   "cell_type": "code",
   "execution_count": null,
   "metadata": {},
   "outputs": [],
   "source": [
    "for i,n in enumerate(np.linspace(0, 1800, 500)):\n",
    "    print(i,\":\",n)"
   ]
  },
  {
   "cell_type": "code",
   "execution_count": null,
   "metadata": {},
   "outputs": [],
   "source": [
    "sim_idx_0_120 = [idx for idx in range(len(clus0_100)) if c0df100wt['MLKLa_obs'][idx].iloc[0] <= 2772\n",
    "                  and c0df100wt['MLKLa_obs'][idx].iloc[33] >= 2772]\n",
    "\n",
    "sim_idx_120_240 = [idx for idx in range(len(clus0_100)) if c0df100wt['MLKLa_obs'][idx].iloc[33] <= 2772\n",
    "                  and c0df100wt['MLKLa_obs'][idx].iloc[67] >= 2772]\n",
    "\n",
    "sim_idx_240_360 = [idx for idx in range(len(clus0_100)) if c0df100wt['MLKLa_obs'][idx].iloc[67] <= 2772\n",
    "                  and c0df100wt['MLKLa_obs'][idx].iloc[100] >= 2772]\n",
    "\n",
    "sim_idx_360_480 = [idx for idx in range(len(clus0_100)) if c0df100wt['MLKLa_obs'][idx].iloc[100] <= 2772\n",
    "                  and c0df100wt['MLKLa_obs'][idx].iloc[133] >= 2772]\n",
    "\n",
    "sim_idx_480_600 = [idx for idx in range(len(clus0_100)) if c0df100wt['MLKLa_obs'][idx].iloc[133] <= 2772\n",
    "                  and c0df100wt['MLKLa_obs'][idx].iloc[167] >= 2772]\n",
    "\n",
    "sim_idx_600_720 = [idx for idx in range(len(clus0_100)) if c0df100wt['MLKLa_obs'][idx].iloc[167] <= 2772 \n",
    "                     and c0df100wt['MLKLa_obs'][idx].iloc[200] >= 2772]\n",
    "\n",
    "sim_idx_720_840 = [idx for idx in range(len(clus0_100)) if c0df100wt['MLKLa_obs'][idx].iloc[200] <= 2772 \n",
    "                     and c0df100wt['MLKLa_obs'][idx].iloc[233] >= 2772]\n",
    "\n",
    "sim_idx_840_960 = [idx for idx in range(len(clus0_100)) if c0df100wt['MLKLa_obs'][idx].iloc[233] <= 2772 \n",
    "                     and c0df100wt['MLKLa_obs'][idx].iloc[266] >= 2772]\n",
    "\n",
    "sim_idx_960_1080 = [idx for idx in range(len(clus0_100)) if c0df100wt['MLKLa_obs'][idx].iloc[266] <= 2772 \n",
    "                     and c0df100wt['MLKLa_obs'][idx].iloc[300] >= 2772]\n",
    "\n",
    "sim_idx_1080_1200 = [idx for idx in range(len(clus0_100)) if c0df100wt['MLKLa_obs'][idx].iloc[300] <= 2772\n",
    "                     and c0df100wt['MLKLa_obs'][idx].iloc[333] >= 2772]\n",
    "\n",
    "sim_idx_1200_1320 = [idx for idx in range(len(clus0_100)) if c0df100wt['MLKLa_obs'][idx].iloc[333] <= 2772\n",
    "                     and c0df100wt['MLKLa_obs'][idx].iloc[366] >= 2772]\n",
    "\n",
    "sim_idx_1320_1440 = [idx for idx in range(len(clus0_100)) if c0df100wt['MLKLa_obs'][idx].iloc[366] <= 2772\n",
    "                     and c0df100wt['MLKLa_obs'][idx].iloc[400] >= 2772]\n",
    "\n",
    "print(len(sim_idx_0_120))\n",
    "print(len(sim_idx_120_240))\n",
    "print(len(sim_idx_240_360))\n",
    "print(len(sim_idx_360_480))\n",
    "print(len(sim_idx_480_600))\n",
    "print(len(sim_idx_600_720))\n",
    "print(len(sim_idx_720_840))\n",
    "print(len(sim_idx_840_960))\n",
    "print(len(sim_idx_960_1080))\n",
    "print(len(sim_idx_1080_1200))\n",
    "print(len(sim_idx_1200_1320))\n",
    "print(len(sim_idx_1320_1440))"
   ]
  },
  {
   "cell_type": "code",
   "execution_count": null,
   "metadata": {},
   "outputs": [],
   "source": [
    "sim_idx_0_120 = [idx for idx in range(len(clus0_100)) if c0df100wt['MLKLa_obs'][idx].iloc[0] < 2772\n",
    "                  and c0df100wt['MLKLa_obs'][idx].iloc[33] > 2772]\n",
    "\n",
    "sim_idx_120_240 = [idx for idx in range(len(clus0_100)) if c0df100wt['MLKLa_obs'][idx].iloc[33] < 2772\n",
    "                  and c0df100wt['MLKLa_obs'][idx].iloc[67] > 2772]\n",
    "\n",
    "sim_idx_240_360 = [idx for idx in range(len(clus0_100)) if c0df100wt['MLKLa_obs'][idx].iloc[67] < 2772\n",
    "                  and c0df100wt['MLKLa_obs'][idx].iloc[100] > 2772]\n",
    "\n",
    "sim_idx_360_480 = [idx for idx in range(len(clus0_100)) if c0df100wt['MLKLa_obs'][idx].iloc[100] < 2772\n",
    "                  and c0df100wt['MLKLa_obs'][idx].iloc[133] > 2772]\n",
    "\n",
    "sim_idx_480_600 = [idx for idx in range(len(clus0_100)) if c0df100wt['MLKLa_obs'][idx].iloc[133] < 2772\n",
    "                  and c0df100wt['MLKLa_obs'][idx].iloc[167] > 2772]\n",
    "\n",
    "sim_idx_600_720 = [idx for idx in range(len(clus0_100)) if c0df100wt['MLKLa_obs'][idx].iloc[167] < 2772 \n",
    "                     and c0df100wt['MLKLa_obs'][idx].iloc[200] > 2772]\n",
    "\n",
    "sim_idx_720_840 = [idx for idx in range(len(clus0_100)) if c0df100wt['MLKLa_obs'][idx].iloc[200] < 2772 \n",
    "                     and c0df100wt['MLKLa_obs'][idx].iloc[233] > 2772]\n",
    "\n",
    "sim_idx_840_960 = [idx for idx in range(len(clus0_100)) if c0df100wt['MLKLa_obs'][idx].iloc[233] < 2772 \n",
    "                     and c0df100wt['MLKLa_obs'][idx].iloc[266] > 2772]\n",
    "\n",
    "sim_idx_960_1080 = [idx for idx in range(len(clus0_100)) if c0df100wt['MLKLa_obs'][idx].iloc[266] < 2772 \n",
    "                     and c0df100wt['MLKLa_obs'][idx].iloc[300] > 2772]\n",
    "\n",
    "sim_idx_1080_1200 = [idx for idx in range(len(clus0_100)) if c0df100wt['MLKLa_obs'][idx].iloc[300] < 2772\n",
    "                     and c0df100wt['MLKLa_obs'][idx].iloc[333] > 2772]\n",
    "\n",
    "sim_idx_1200_1320 = [idx for idx in range(len(clus0_100)) if c0df100wt['MLKLa_obs'][idx].iloc[333] < 2772\n",
    "                     and c0df100wt['MLKLa_obs'][idx].iloc[366] > 2772]\n",
    "\n",
    "sim_idx_1320_1440 = [idx for idx in range(len(clus0_100)) if c0df100wt['MLKLa_obs'][idx].iloc[366] < 2772\n",
    "                     and c0df100wt['MLKLa_obs'][idx].iloc[400] > 2772]\n",
    "\n",
    "print(len(sim_idx_0_120))\n",
    "print(len(sim_idx_120_240))\n",
    "print(len(sim_idx_240_360))\n",
    "print(len(sim_idx_360_480))\n",
    "print(len(sim_idx_480_600))\n",
    "print(len(sim_idx_600_720))\n",
    "print(len(sim_idx_720_840))\n",
    "print(len(sim_idx_840_960))\n",
    "print(len(sim_idx_960_1080))\n",
    "print(len(sim_idx_1080_1200))\n",
    "print(len(sim_idx_1200_1320))\n",
    "print(len(sim_idx_1320_1440))"
   ]
  },
  {
   "cell_type": "code",
   "execution_count": null,
   "metadata": {},
   "outputs": [],
   "source": [
    "list1 = [0, 2, [4]*6, [6]*44, [44]*808, [8]*2566, [10]*155, [12]*16, [14]*8, [16]*3, [18]*1, [20]*1, [22]*1, [24]*1]\n",
    "plt.figure()\n",
    "plt.hist(list1, 5)"
   ]
  },
  {
   "cell_type": "code",
   "execution_count": null,
   "metadata": {},
   "outputs": [],
   "source": [
    "bins = [0, 2, [4]*6, [6]*44,44, 8, 10, 12, 14, 16, 18, 20, 22, 24]\n",
    "freq = [0, 0, 6, 44, 808, 2566, 155, 16, 8, 3, 1, 1]\n",
    "plt.figure() \n",
    "plt.hist(freq, 5)\n",
    "plt.show()"
   ]
  },
  {
   "cell_type": "code",
   "execution_count": null,
   "metadata": {},
   "outputs": [],
   "source": [
    "x = (0, 2, 4, 6, 8, 10, 12, 14, 16, 18, 20, 22, 24)\n",
    "y = (0/3644, 0/3644, 6/3644, 44/3644, 808/3644, 2566/3644, 155/3644, 16/3644, 8/3644, 3/3644, 1/3644, 1/3644,1/3644)\n",
    "\n",
    "plt.bar(x,y,align='edge', width = 1) # A bar chart\n",
    "plt.xlabel('Bins')\n",
    "plt.ylabel('Frequency')\n",
    "plt.tight_layout()\n",
    "plt.show()"
   ]
  },
  {
   "cell_type": "code",
   "execution_count": null,
   "metadata": {},
   "outputs": [],
   "source": [
    "print(len(x))\n",
    "print(len(y))"
   ]
  },
  {
   "cell_type": "code",
   "execution_count": null,
   "metadata": {},
   "outputs": [],
   "source": [
    "print(len(clus0_100))"
   ]
  },
  {
   "cell_type": "code",
   "execution_count": null,
   "metadata": {},
   "outputs": [],
   "source": [
    "percent = 2566/3644\n",
    "percent"
   ]
  },
  {
   "cell_type": "code",
   "execution_count": null,
   "metadata": {},
   "outputs": [],
   "source": [
    "sim_idx_to_keep = [idx for idx in range(len(all_pars2)) if df10['Flip_obs'][idx].iloc[-1] < 3000]\n",
    "print(len(sim_idx_to_keep))"
   ]
  },
  {
   "cell_type": "code",
   "execution_count": null,
   "metadata": {},
   "outputs": [],
   "source": []
  },
  {
   "cell_type": "code",
   "execution_count": null,
   "metadata": {},
   "outputs": [],
   "source": [
    "print(c0df100wt['CI_k63_obs'].max())\n",
    "print(c0df100wt['A20_CI_obs'].max())\n",
    "print(c0df100wt['CYLD_CI_obs'].max())"
   ]
  },
  {
   "cell_type": "code",
   "execution_count": null,
   "metadata": {},
   "outputs": [],
   "source": [
    "print(range(len(clus0_100[0])))"
   ]
  },
  {
   "cell_type": "code",
   "execution_count": null,
   "metadata": {},
   "outputs": [],
   "source": [
    "plt.figure()\n",
    "for n in range(len(clus0_100)):\n",
    "    plt.plot(tspan/60,c0df100wt.loc[n]['CI_k63_obs'].iloc[:], lw=1.5, zorder = 1, alpha = 0.5)\n",
    "plt.xlabel(\"Time (in hr)\", fontsize=15)\n",
    "plt.ylabel(\"Amount (normalized)\", fontsize=15)\n",
    "# plt.xlim(xmin = 0, xmax = 24)\n",
    "plt.xticks(fontsize=14)\n",
    "plt.yticks(fontsize=14)\n",
    "plt.show()  "
   ]
  },
  {
   "cell_type": "code",
   "execution_count": null,
   "metadata": {},
   "outputs": [],
   "source": [
    "plt.figure()\n",
    "for n in range(len(clus0_100)):\n",
    "    plt.plot(tspan/60,c0df100wt.loc[n]['A20_CI_obs'].iloc[:], lw=1.5, zorder = 1, alpha = 0.5)\n",
    "plt.xlabel(\"Time (in hr)\", fontsize=15)\n",
    "plt.ylabel(\"Amount (normalized)\", fontsize=15)\n",
    "# plt.xlim(xmin = 0, xmax = 24)\n",
    "plt.xticks(fontsize=14)\n",
    "plt.yticks(fontsize=14)\n",
    "plt.show() "
   ]
  },
  {
   "cell_type": "code",
   "execution_count": null,
   "metadata": {},
   "outputs": [],
   "source": [
    "plt.figure()\n",
    "for n in range(len(clus0_100[100:200])):\n",
    "    plt.plot(tspan/60,c0df100wt.loc[n]['CYLD_CI_obs'].iloc[:], lw=1.5, zorder = 1, alpha = 0.5)\n",
    "plt.xlabel(\"Time (in hr)\", fontsize=15)\n",
    "plt.ylabel(\"Amount (normalized)\", fontsize=15)\n",
    "# plt.xlim(xmin = 0, xmax = 24)\n",
    "plt.xticks(fontsize=14)\n",
    "plt.yticks(fontsize=14)\n",
    "plt.show() "
   ]
  },
  {
   "cell_type": "code",
   "execution_count": null,
   "metadata": {},
   "outputs": [],
   "source": []
  },
  {
   "cell_type": "code",
   "execution_count": null,
   "metadata": {},
   "outputs": [],
   "source": [
    "plt.figure()\n",
    "for n in range(len(clus0_100[4:5])):\n",
    "    plt.plot(c0df100wt.loc[n]['CI_k63_obs'].iloc[:], c0df100wt.loc[n]['MLKLa_obs'].iloc[:], lw=1.5, zorder = 1, alpha = 0.5)\n",
    "plt.xlabel(\"CI_K63\", fontsize=15)\n",
    "plt.ylabel(\"pMLKL\", fontsize=15)\n",
    "# plt.xlim(xmin = 0, xmax = 24)\n",
    "plt.xticks(fontsize=14)\n",
    "plt.yticks(fontsize=14)\n",
    "plt.show()    "
   ]
  },
  {
   "cell_type": "code",
   "execution_count": null,
   "metadata": {},
   "outputs": [],
   "source": [
    "c0df100wt['R1pR3pM_obs'].max()"
   ]
  },
  {
   "cell_type": "code",
   "execution_count": null,
   "metadata": {},
   "outputs": [],
   "source": [
    "plt.figure()\n",
    "for n in range(len(clus0_100)):\n",
    "    plt.plot(c0df100wt.loc[n]['MLKLa_obs'].iloc[:], c0df100wt.loc[n]['R1pR3pM_obs'].iloc[:], lw=1.5, zorder = 1, alpha = 0.5)\n",
    "plt.xlabel(\"CI_K63\", fontsize=15)\n",
    "plt.ylabel(\"pMLKL\", fontsize=15)\n",
    "# plt.xlim(xmin = 0, xmax = 24)\n",
    "plt.xticks(fontsize=14)\n",
    "plt.yticks(fontsize=14)\n",
    "plt.show() "
   ]
  },
  {
   "cell_type": "code",
   "execution_count": null,
   "metadata": {},
   "outputs": [],
   "source": [
    "plt.figure()\n",
    "for n in range(len(clus0_100)):\n",
    "    plt.plot(tspan/60, c0df100wt.loc[n]['R1pR3pM_obs'].iloc[:], lw=1.5, zorder = 1, alpha = 0.5)\n",
    "plt.xlabel(\"CI_K63\", fontsize=15)\n",
    "plt.ylabel(\"pMLKL\", fontsize=15)\n",
    "# plt.xlim(xmin = 0, xmax = 24)\n",
    "plt.xticks(fontsize=14)\n",
    "plt.yticks(fontsize=14)\n",
    "plt.show() "
   ]
  },
  {
   "cell_type": "code",
   "execution_count": null,
   "metadata": {},
   "outputs": [],
   "source": [
    "plt.figure()\n",
    "for n in range(len(clus0_100[4:5])):\n",
    "    plt.plot(tspan/60, c0df100wt.loc[n]['CI_k63_obs'].iloc[:], lw=1.5, zorder = 1, alpha = 0.5)\n",
    "plt.xlabel(\"CI_K63\", fontsize=15)\n",
    "plt.ylabel(\"pMLKL\", fontsize=15)\n",
    "# plt.xlim(xmin = 0, xmax = 24)\n",
    "plt.xticks(fontsize=14)\n",
    "plt.yticks(fontsize=14)\n",
    "plt.show() "
   ]
  },
  {
   "cell_type": "code",
   "execution_count": null,
   "metadata": {},
   "outputs": [],
   "source": [
    "plt.figure()\n",
    "for n in range(len(clus0_100[4:5])):\n",
    "    plt.plot(tspan/60, c0df100wt.loc[n]['CI_k63_obs'].iloc[:], lw=1.5, zorder = 1, alpha = 0.5)\n",
    "plt.xlabel(\"CI_K63\", fontsize=15)\n",
    "plt.ylabel(\"pMLKL\", fontsize=15)\n",
    "# plt.xlim(xmin = 0, xmax = 24)\n",
    "plt.xticks(fontsize=14)\n",
    "plt.yticks(fontsize=14)\n",
    "plt.show() "
   ]
  },
  {
   "cell_type": "code",
   "execution_count": null,
   "metadata": {},
   "outputs": [],
   "source": []
  },
  {
   "cell_type": "code",
   "execution_count": null,
   "metadata": {},
   "outputs": [],
   "source": [
    "import matplotlib\n",
    "matplotlib.rc('xtick', labelsize=14) \n",
    "matplotlib.rc('ytick', labelsize=14) \n",
    "fig, ((ax1, ax2), (ax3, ax4)) = plt.subplots(2,2, figsize = (15,10))\n",
    "# tspan = np.linspace(0, 1440, 300)\n",
    "for n in range(len(clus0_100)):\n",
    "#     ax1.vlines(x = 600, ymin = 0, ymax = 5544, linestyle = 'dashed', colors= 'r', zorder = 2, label ='50% pMLKL')\n",
    "    ax1.plot(tspan/60, c0df100wt.loc[n]['MLKLa_obs'].iloc[:]/5544, lw=1.5, color ='blue', zorder = 1, alpha = 0.3)\n",
    "    plt.legend(['clus0'], loc = 'best', fontsize = 14)\n",
    "#     plt.ylim(ymax = 5544, ymin =0)\n",
    "#     plt.xlim(xmax = 1440, xmin = 0)\n",
    "    plt.xticks(fontsize=14)\n",
    "    plt.yticks(fontsize=14)\n",
    "    ax1.set_xlim(xmin = 0, xmax = 24)\n",
    "    ax1.set_ylim(ymin = 0)\n",
    "    plt.xticks(fontsize=14)\n",
    "    plt.yticks(fontsize=14)\n",
    "    ax1.grid(False)   \n",
    "    custom_lines = [Line2D([0], [0], color='blue', lw=4),\n",
    "                   Line2D([0], [0], color='red', lw=4)]\n",
    "    ax1.legend(custom_lines, ['pMLKL'], prop={'size': 12}, loc = 'best')\n",
    "    \n",
    "# tspan2 = np.linspace(0, 2160, 300)    \n",
    "for n in range(len(clus0_100)):\n",
    "#     ax2.vlines(x = 600, ymin = 0, ymax = 5544, linestyle = 'dashed', colors= 'r', zorder = 2, label= '50% pMLKL')\n",
    "    ax2.plot(tspan/60,c0df100wt.loc[n]['CI_k63_obs'].iloc[:]/5544,lw=1.5, color ='blue', zorder = 1, alpha = 0.3)\n",
    "    plt.xticks(fontsize=14)\n",
    "    plt.yticks(fontsize=14)\n",
    "    ax2.set_xlim(xmin = 0, xmax = 24)\n",
    "    ax2.set_ylim(ymin = 0)\n",
    "    ax2.grid(False)  \n",
    "    custom_lines = [Line2D([0], [0], color='blue', lw=4),\n",
    "                   Line2D([0], [0], color='red', lw=4)]\n",
    "    ax2.legend(custom_lines, ['Complex I'], prop={'size': 12}, loc = 'best')\n",
    "    \n",
    "for n in range(len(clus2_100)):\n",
    "#     ax3.vlines(x = 600, ymin = 0, ymax = 5544, linestyle = 'dashed', colors= 'r', zorder = 2, label ='50% pMLKL')\n",
    "    ax3.plot(tspan/60, c0df100wt.loc[n]['A20_CI_obs'].iloc[:]/5544,lw=1.5, color ='blue', zorder = 1, alpha = 0.3)  \n",
    "    plt.xticks(fontsize=14)\n",
    "    plt.yticks(fontsize=14)\n",
    "    ax3.set_xlim(xmin = 0, xmax = 24)\n",
    "    ax3.set_ylim(ymin = 0)\n",
    "    ax3.grid(False)  \n",
    "    custom_lines = [Line2D([0], [0], color='blue', lw=4),\n",
    "                   Line2D([0], [0], color='red', lw=4)]\n",
    "    ax3.legend(custom_lines, ['CI_A20'], prop={'size': 12}, loc = 'best')\n",
    "    \n",
    "for n in range(len(clus3_100)):\n",
    "    plt.plot(tspan/60, c0df100wt.loc[n]['CYLD_CI_obs'].iloc[:]/5544, lw=1.5, color ='blue', zorder = 1, alpha = 0.3)\n",
    "    plt.xticks(fontsize=14)\n",
    "    plt.yticks(fontsize=14)\n",
    "#     plt.xlabel(\"Time (in hr)\", fontsize=15)\n",
    "#     plt.ylabel(\"Amount (normalized)\", fontsize=15)\n",
    "    ax4.set_xlim(xmin = 0, xmax = 24)\n",
    "    ax4.set_ylim(ymin = 0)\n",
    "    plt.xticks(fontsize=14)\n",
    "    plt.yticks(fontsize=14)\n",
    "    ax4.grid(False)  \n",
    "    custom_lines = [Line2D([0], [0], color='blue', lw=4),\n",
    "                   Line2D([0], [0], color='red', lw=4)]\n",
    "    ax4.legend(custom_lines, ['CI_CYLD'], prop={'size': 12}, loc = 'best') \n",
    " \n",
    "# fig.text(0.5, 0.04, 'Time (Hours)', ha='center', va='center',fontsize = 16)\n",
    "# fig.text(0.06, 0.5, 'Amount of Flip pMLKL under 100 ng/ml TNF(Normalized)',\n",
    "#          ha='center', va='center', rotation='vertical', fontsize = 16)\n",
    "# plt.savefig('pmlkl_100tnf_4clus_5720_A20KO.pdf')\n",
    "plt.show()"
   ]
  },
  {
   "cell_type": "code",
   "execution_count": null,
   "metadata": {},
   "outputs": [],
   "source": [
    "threshold = 2772"
   ]
  },
  {
   "cell_type": "code",
   "execution_count": null,
   "metadata": {},
   "outputs": [],
   "source": [
    "df_threshtimesc0100wt = c0df100wt.groupby('simulation').apply(lambda x: (x > threshold).idxmax()).apply(lambda x: [y[1] for y in x])\n"
   ]
  },
  {
   "cell_type": "code",
   "execution_count": null,
   "metadata": {},
   "outputs": [],
   "source": [
    "clusallcomplex = pd.DataFrame({'CI_k63': df_threshtimesc0100wt['CI_k63_obs'], \n",
    "                        'CI_A20': df_threshtimesc0100wt['A20_CI_obs'],\n",
    "                        'CI_CYLD': df_threshtimesc0100wt['CYLD_CI_obs'],\n",
    "                              'pMLKL': df_threshtimesc0100wt['MLKLa_obs']})"
   ]
  },
  {
   "cell_type": "code",
   "execution_count": null,
   "metadata": {},
   "outputs": [],
   "source": [
    "dfwt = pd.DataFrame(data = clusallcomplex, columns = ['CI_k63', 'CI_A20','CI_CYLD','pMLKL'])"
   ]
  },
  {
   "cell_type": "code",
   "execution_count": null,
   "metadata": {},
   "outputs": [],
   "source": [
    "plt.figure(figsize = (15,10))\n",
    "my_pal = { 'CI_k63':\"blue\", 'CI_A20':\"blue\",'CI_CYLD':\"blue\",'pMLKL':\"blue\"}\n",
    "# my_pal2 = { \"c80\":\"cyan\", \"c81\":\"cyan\", \"c82\":\"cyan\", \"c83\":\"cyan\"}\n",
    "# my_pal3 = {\"WTc0\": \"red\", \"WTc1\": \"red\", \"WTc2\":\"red\", \"WTc3\":\"red\"}\n",
    "b = sns.swarmplot(x=\"value\", y=\"variable\", data=pd.melt(dfwt), zorder=2, alpha=0.5)\n",
    "# b2 = sns.swarmplot(x=\"value\", y=\"variable\", data=pd.melt(dffl), zorder=2, palette=my_pal, alpha=0.5)\n",
    "# b3 = sns.swarmplot(x=\"value\", y=\"variable\", data=pd.melt(dfc8), zorder=2, palette=my_pal2, alpha=0.5)\n",
    "b.set_xlabel(\"Time (minutes)\",fontsize=15)\n",
    "b.set_ylabel(\"All Clusters\",fontsize=15)\n",
    "b.tick_params(labelsize=15)\n",
    "plt.xlim(xmax = 1800, xmin = 0)\n",
    "# plt.savefig('figs/pmlkl_100tnf_allcluswkos_swarm_5720mod.pdf')\n",
    "# plt.savefig('pmlkl_100tnf_allclusbox_wswarm_5720.pdf')\n",
    "plt.show()"
   ]
  },
  {
   "cell_type": "code",
   "execution_count": null,
   "metadata": {},
   "outputs": [],
   "source": []
  },
  {
   "cell_type": "code",
   "execution_count": null,
   "metadata": {},
   "outputs": [],
   "source": []
  },
  {
   "cell_type": "code",
   "execution_count": null,
   "metadata": {},
   "outputs": [],
   "source": []
  },
  {
   "cell_type": "code",
   "execution_count": null,
   "metadata": {},
   "outputs": [],
   "source": []
  },
  {
   "cell_type": "code",
   "execution_count": null,
   "metadata": {},
   "outputs": [],
   "source": []
  },
  {
   "cell_type": "code",
   "execution_count": null,
   "metadata": {},
   "outputs": [],
   "source": []
  },
  {
   "cell_type": "code",
   "execution_count": null,
   "metadata": {},
   "outputs": [],
   "source": []
  },
  {
   "cell_type": "code",
   "execution_count": null,
   "metadata": {},
   "outputs": [],
   "source": []
  },
  {
   "cell_type": "code",
   "execution_count": null,
   "metadata": {},
   "outputs": [],
   "source": []
  },
  {
   "cell_type": "code",
   "execution_count": null,
   "metadata": {},
   "outputs": [],
   "source": []
  },
  {
   "cell_type": "code",
   "execution_count": null,
   "metadata": {},
   "outputs": [],
   "source": []
  },
  {
   "cell_type": "code",
   "execution_count": null,
   "metadata": {},
   "outputs": [],
   "source": []
  },
  {
   "cell_type": "code",
   "execution_count": null,
   "metadata": {},
   "outputs": [],
   "source": []
  },
  {
   "cell_type": "code",
   "execution_count": null,
   "metadata": {},
   "outputs": [],
   "source": []
  },
  {
   "cell_type": "code",
   "execution_count": null,
   "metadata": {},
   "outputs": [],
   "source": []
  },
  {
   "cell_type": "code",
   "execution_count": null,
   "metadata": {},
   "outputs": [],
   "source": []
  }
 ],
 "metadata": {
  "kernelspec": {
   "display_name": "Python 3",
   "language": "python",
   "name": "python3"
  },
  "language_info": {
   "codemirror_mode": {
    "name": "ipython",
    "version": 3
   },
   "file_extension": ".py",
   "mimetype": "text/x-python",
   "name": "python",
   "nbconvert_exporter": "python",
   "pygments_lexer": "ipython3",
   "version": "3.7.5"
  }
 },
 "nbformat": 4,
 "nbformat_minor": 2
}
