{
 "cells": [
  {
   "cell_type": "code",
   "execution_count": 1,
   "metadata": {},
   "outputs": [],
   "source": [
    "import sys \n",
    "# sys.path.append('/Users/geenaildefonso/Projects/NERM')\n",
    "sys.path.append('../')\n",
    "from model_files.nerm import model as model\n",
    "import seaborn as sns\n",
    "import numpy as np\n",
    "from matplotlib import pyplot as plt\n",
    "# from necro_pydream_model_file_8920 import model\n",
    "from pysb.simulator import ScipyOdeSimulator\n",
    "import numpy as np\n",
    "from scipy.stats import norm,uniform\n",
    "import seaborn as sns\n",
    "from matplotlib import pyplot as plt\n",
    "import random\n",
    "import os\n",
    "from pylab import *\n",
    "from pysb.core import *\n",
    "from pysb.bng import *\n",
    "from pysb.integrate import *\n",
    "import matplotlib.pyplot as plt\n",
    "import numpy as np\n",
    "from pysb.util import alias_model_components\n",
    "from scipy import stats\n",
    "from pysb.simulator import SimulationResult\n",
    "import pandas as pd\n",
    "import seaborn as sns\n",
    "os.environ[\"OPENBLAS_NUM_THREADS\"] = \"1\""
   ]
  },
  {
   "cell_type": "code",
   "execution_count": null,
   "metadata": {},
   "outputs": [],
   "source": [
    "import pydyno\n",
    "print(pydyno.__file__)\n",
    "from pydyno.discretization.pysb_discretize import PysbDomPath\n",
    "from pydyno.seqanalysis import SeqAnalysis\n",
    "from pydyno.visualize_simulations import VisualizeSimulations\n",
    "from pydyno.visualize_discretization import visualization_path\n",
    "from pydyno.seqanalysis import SeqAnalysis\n",
    "from pydyno.visualize_discretization import visualization_path"
   ]
  },
  {
   "cell_type": "code",
   "execution_count": null,
   "metadata": {},
   "outputs": [],
   "source": [
    "# Observable('MLKLa_obs', MLKL(bRHIM=None, state='active'))\n",
    "# Observable('CII_C8a_obs', TRADD(brec = None, brip = 3, bDD1=None, bDD2=None) % RIP1(bscf=3, btraf=None, bub1=None, bub2=None, bub3=None,bDD = 1,bRHIM=None,bMLKL=None, state='deub') %\n",
    "#            FADD(bDD=1,bDED1 = 2, bDED2 = None) % C8(bf=2,flip = 4, state='A') % flip_L(bDED=4, state = 'A'))\n",
    "# Observable('CII_RIP3_obs', TRADD(brec = None, brip = 3, bDD1=None, bDD2=None) % RIP1(bscf=3, btraf=None, bub1=None, bub2=None, bub3=None,bDD = 1,bRHIM=5,bMLKL=None, state='deub')\n",
    "#            % FADD(bDD=1,bDED1 = None, bDED2 = None) % RIP3(bRHIM=5, bDD = None, state='unmod'))\n",
    "# Observable('RIP1RIP3unmod_obs', RIP1(bscf = None, bub1 = None, bub2 = None, bub3 = None, bDD=None, btraf=None, bMLKL = None, bRHIM = 5, state = 'po4')% RIP3(bRHIM=5, bDD = 1, state='po4') % MLKL(bRHIM=1, state='unmod'))\n",
    "# Observable('CI_k63_obs', TNF(brec = 1) % TNFR(blig=1, brip=2) % TRADD(brec = 2, brip = 3, bDD1=None, bDD2=None) % RIP1(bscf=3, btraf=4, bub1=None, bub2=None, bub3=None,bDD = None,bRHIM=None,bMLKL=None, state='K63ub')\n",
    "#            % TRAF(brip=4, bciap=5, bcyld =None, state='unmod') % cIAP(btraf = 5))\n",
    "# Observable('CII_RIP1deub_obs', TRADD(brec = None, brip = 3, bDD1=None, bDD2=None) % RIP1(bscf=3, btraf=None, bub1=None, bub2=None, bub3=None,bDD = 1,bRHIM=None,bMLKL=None, state='deub')\n",
    "#            % FADD(bDD=1,bDED1 = None, bDED2 = None))\n",
    "# Observable('A20_CI_obs', TNF(brec = 1) % TNFR(blig=1, brip=2) % TRADD(brec = 2, brip = 3, bDD1=None, bDD2=None) % RIP1(bscf=3, btraf=4, bub1=6, bub2=7, bub3=None,bDD = None,bRHIM=None,bMLKL=None, state='K63ub')\n",
    "#            % TRAF(brip=4, bciap=5, bcyld =None, state='unmod') % cIAP(btraf = 5) % LUBAC(brip = 6) % A20(brip=7))\n",
    "# Observable('CYLD_CI_obs', TNF(brec = 1) % TNFR(blig=1, brip=2) % TRADD(brec = 2, brip = 3, bDD1=None, bDD2=None) % RIP1(bscf=3, btraf=4, bub1=6, bub2=7, bub3=None,bDD = None,bRHIM=None,bMLKL=None, state='K63ub')\n",
    "#            % TRAF(brip=4, bciap=5, bcyld =None, state='unmod') % cIAP(btraf = 5) % LUBAC(brip = 6) % CYLD(brip=7))\n",
    "# # Observable('C8_obs', )\n",
    "# Observable('C8Flip_obs', C8(bf=None,flip = 4, state='A') % flip_L(bDED=4, state = 'A'))\n",
    "# Observable('RIP1TRADD_obs',  TRADD(brec = None, brip = 3, bDD1=None, bDD2=None) % RIP1(bscf=3, btraf=None, bub1=None, bub2=None, bub3=None,bDD = None,bRHIM=None,bMLKL=None, state='deub'))\n",
    "# Observable('RIP1k63_obs', RIP1(state='K63ub'))\n",
    "# Observable('RIP1deub_obs', RIP1(state='deub'))\n",
    "# Observable('RIP1trunc_obs', RIP1(state='trunc'))\n",
    "# Observable('Flip_obs', flip_L(bDED=None, state = 'A'))\n",
    "# Observable('FADDa_obs',FADD()) \n",
    "# Observable('FADDu_obs',FADD(bDD=None,bDED1 = None, bDED2 = None)) \n",
    "# Observable('R1dbR3_obs', RIP1(bscf = None, bub1 = None, bub2 = None, bub3 = None, bDD=None, btraf=None, bMLKL = None, bRHIM = 5, state = 'deub')% RIP3(bRHIM=5, bDD = None, state='unmod'))\n",
    "# Observable('R1dbR3p_obs', RIP1(bscf = None, bub1 = None, bub2 = None, bub3 = None, bDD=None, btraf=None, bMLKL = None, bRHIM = 5, state = 'deub')% RIP3(bRHIM=5, bDD = None, state='po4'))\n",
    "# Observable('R1pR3p_obs', RIP1(bscf = None, bub1 = None, bub2 = None, bub3 = None, bDD=None, btraf=None, bMLKL = None, bRHIM = 5, state = 'po4')% RIP3(bRHIM=5, bDD = None, state='po4'))\n",
    "# Observable('R1pR3pM_obs',RIP1(bscf = None, bub1 = None, bub2 = None, bub3 = None, bDD=None, btraf=None, bMLKL = None, bRHIM = 5, state = 'po4')% RIP3(bRHIM=5, bDD = 1, state='po4') % MLKL(bRHIM=1, state='unmod'))"
   ]
  },
  {
   "cell_type": "code",
   "execution_count": 2,
   "metadata": {},
   "outputs": [],
   "source": [
    "clus0_100 = np.load('../necro_pars10k_cluster0_5720_mod.npy')\n",
    "clus1_100 = np.load('../necro_pars10k_cluster1_5720_mod.npy')\n",
    "clus2_100 = np.load('../necro_pars10k_cluster2_5720_mod.npy')\n",
    "clus3_100 = np.load('../necro_pars10k_cluster3_5720_mod.npy')\n",
    "pars = np.load('../necro_pars10k_allclusmod.npy')"
   ]
  },
  {
   "cell_type": "code",
   "execution_count": 3,
   "metadata": {},
   "outputs": [],
   "source": [
    "tspan = np.linspace(0, 1800, 500)"
   ]
  },
  {
   "cell_type": "code",
   "execution_count": 19,
   "metadata": {},
   "outputs": [
    {
     "name": "stdout",
     "output_type": "stream",
     "text": [
      "0 : TNF(brec=None)\n",
      "1 : TNFR(blig=None, brip=None, bDD=None)\n",
      "2 : TRADD(brec=None, brip=None, state='unmod', bDD1=None, bDD2=None)\n",
      "3 : RIP1(bscf=None, bub1=None, bub2=None, bub3=None, bDD=None, btraf=None, bRHIM=None, bMLKL=None, state='unmod')\n",
      "4 : TRAF(brip=None, bciap=None, bcyld=None, state='unmod')\n",
      "5 : cIAP(btraf=None)\n",
      "6 : MLKL(bRHIM=None, state='unmod')\n",
      "7 : A20(brip=None)\n",
      "8 : CYLD(brip=None, btraf=None)\n",
      "9 : FADD(bDD=None, bDED1=None, bDED2=None)\n",
      "10 : RIP3(bRHIM=None, bDD=None, state='unmod')\n",
      "11 : flip_L(bDED=None, state='A')\n",
      "12 : LUBAC(brip=None)\n",
      "13 : C8(bf=None, flip=None, state='I')\n",
      "14 : TNF(brec=1) % TNFR(blig=1, brip=None, bDD=None)\n",
      "15 : TNF(brec=1) % TNFR(blig=1, brip=2, bDD=None) % TRADD(brec=2, brip=None, state='unmod', bDD1=None, bDD2=None)\n",
      "16 : RIP1(bscf=1, bub1=None, bub2=None, bub3=None, bDD=None, btraf=None, bRHIM=None, bMLKL=None, state='unmod') % TNF(brec=2) % TNFR(blig=2, brip=3, bDD=None) % TRADD(brec=3, brip=1, state='unmod', bDD1=None, bDD2=None)\n",
      "17 : RIP1(bscf=1, bub1=None, bub2=None, bub3=None, bDD=None, btraf=2, bRHIM=None, bMLKL=None, state='unmod') % TNF(brec=3) % TNFR(blig=3, brip=4, bDD=None) % TRADD(brec=4, brip=1, state='unmod', bDD1=None, bDD2=None) % TRAF(brip=2, bciap=None, bcyld=None, state='unmod')\n",
      "18 : RIP1(bscf=1, bub1=None, bub2=None, bub3=None, bDD=None, btraf=2, bRHIM=None, bMLKL=None, state='unmod') % TNF(brec=3) % TNFR(blig=3, brip=4, bDD=None) % TRADD(brec=4, brip=1, state='unmod', bDD1=None, bDD2=None) % TRAF(brip=2, bciap=5, bcyld=None, state='unmod') % cIAP(btraf=5)\n",
      "19 : RIP1(bscf=1, bub1=None, bub2=None, bub3=None, bDD=None, btraf=2, bRHIM=None, bMLKL=None, state='K63ub') % TNF(brec=3) % TNFR(blig=3, brip=4, bDD=None) % TRADD(brec=4, brip=1, state='unmod', bDD1=None, bDD2=None) % TRAF(brip=2, bciap=5, bcyld=None, state='unmod') % cIAP(btraf=5)\n",
      "20 : LUBAC(brip=1) % RIP1(bscf=2, bub1=1, bub2=None, bub3=None, bDD=None, btraf=3, bRHIM=None, bMLKL=None, state='K63ub') % TNF(brec=4) % TNFR(blig=4, brip=5, bDD=None) % TRADD(brec=5, brip=2, state='unmod', bDD1=None, bDD2=None) % TRAF(brip=3, bciap=6, bcyld=None, state='unmod') % cIAP(btraf=6)\n",
      "21 : A20(brip=1) % LUBAC(brip=2) % RIP1(bscf=3, bub1=2, bub2=1, bub3=None, bDD=None, btraf=4, bRHIM=None, bMLKL=None, state='K63ub') % TNF(brec=5) % TNFR(blig=5, brip=6, bDD=None) % TRADD(brec=6, brip=3, state='unmod', bDD1=None, bDD2=None) % TRAF(brip=4, bciap=7, bcyld=None, state='unmod') % cIAP(btraf=7)\n",
      "22 : CYLD(brip=1, btraf=None) % LUBAC(brip=2) % RIP1(bscf=3, bub1=2, bub2=1, bub3=None, bDD=None, btraf=4, bRHIM=None, bMLKL=None, state='K63ub') % TNF(brec=5) % TNFR(blig=5, brip=6, bDD=None) % TRADD(brec=6, brip=3, state='unmod', bDD1=None, bDD2=None) % TRAF(brip=4, bciap=7, bcyld=None, state='unmod') % cIAP(btraf=7)\n",
      "23 : RIP1(bscf=1, bub1=None, bub2=None, bub3=None, bDD=None, btraf=None, bRHIM=None, bMLKL=None, state='deub') % TRADD(brec=None, brip=1, state='unmod', bDD1=None, bDD2=None)\n",
      "24 : FADD(bDD=1, bDED1=None, bDED2=None) % RIP1(bscf=2, bub1=None, bub2=None, bub3=None, bDD=1, btraf=None, bRHIM=None, bMLKL=None, state='deub') % TRADD(brec=None, brip=2, state='unmod', bDD1=None, bDD2=None)\n",
      "25 : C8(bf=1, flip=None, state='I') % FADD(bDD=2, bDED1=1, bDED2=None) % RIP1(bscf=3, bub1=None, bub2=None, bub3=None, bDD=2, btraf=None, bRHIM=None, bMLKL=None, state='deub') % TRADD(brec=None, brip=3, state='unmod', bDD1=None, bDD2=None)\n",
      "26 : FADD(bDD=1, bDED1=None, bDED2=None) % RIP1(bscf=3, bub1=None, bub2=None, bub3=None, bDD=1, btraf=None, bRHIM=2, bMLKL=None, state='deub') % RIP3(bRHIM=2, bDD=None, state='unmod') % TRADD(brec=None, brip=3, state='unmod', bDD1=None, bDD2=None)\n",
      "27 : C8(bf=1, flip=2, state='I') % FADD(bDD=3, bDED1=1, bDED2=None) % RIP1(bscf=4, bub1=None, bub2=None, bub3=None, bDD=3, btraf=None, bRHIM=None, bMLKL=None, state='deub') % TRADD(brec=None, brip=4, state='unmod', bDD1=None, bDD2=None) % flip_L(bDED=2, state='A')\n",
      "28 : RIP1(bscf=None, bub1=None, bub2=None, bub3=None, bDD=None, btraf=None, bRHIM=1, bMLKL=None, state='deub') % RIP3(bRHIM=1, bDD=None, state='unmod')\n",
      "29 : C8(bf=1, flip=2, state='A') % FADD(bDD=3, bDED1=1, bDED2=None) % RIP1(bscf=4, bub1=None, bub2=None, bub3=None, bDD=3, btraf=None, bRHIM=None, bMLKL=None, state='deub') % TRADD(brec=None, brip=4, state='unmod', bDD1=None, bDD2=None) % flip_L(bDED=2, state='A')\n",
      "30 : RIP1(bscf=None, bub1=None, bub2=None, bub3=None, bDD=None, btraf=None, bRHIM=1, bMLKL=None, state='deub') % RIP3(bRHIM=1, bDD=None, state='po4')\n",
      "31 : RIP1(bscf=None, bub1=None, bub2=None, bub3=None, bDD=None, btraf=None, bRHIM=None, bMLKL=None, state='trunc')\n",
      "32 : C8(bf=None, flip=1, state='A') % flip_L(bDED=1, state='A')\n",
      "33 : RIP1(bscf=None, bub1=None, bub2=None, bub3=None, bDD=None, btraf=None, bRHIM=1, bMLKL=None, state='po4') % RIP3(bRHIM=1, bDD=None, state='po4')\n",
      "34 : C8(bf=1, flip=2, state='A') % FADD(bDD=3, bDED1=None, bDED2=None) % RIP1(bscf=5, bub1=None, bub2=None, bub3=1, bDD=3, btraf=None, bRHIM=4, bMLKL=None, state='deub') % RIP3(bRHIM=4, bDD=None, state='unmod') % TRADD(brec=None, brip=5, state='unmod', bDD1=None, bDD2=None) % flip_L(bDED=2, state='A')\n",
      "35 : MLKL(bRHIM=1, state='unmod') % RIP1(bscf=None, bub1=None, bub2=None, bub3=None, bDD=None, btraf=None, bRHIM=2, bMLKL=None, state='po4') % RIP3(bRHIM=2, bDD=1, state='po4')\n",
      "36 : MLKL(bRHIM=None, state='active')\n"
     ]
    }
   ],
   "source": [
    "for i,sp in enumerate(model.species):\n",
    "    print(i,\":\",sp)"
   ]
  },
  {
   "cell_type": "code",
   "execution_count": null,
   "metadata": {},
   "outputs": [],
   "source": [
    "solverwt0 = ScipyOdeSimulator(model, tspan=tspan, verbose = True)\n",
    "wtclus0 = solverwt0.run(param_values=clus0_100, num_processors = 20)\n",
    "# wtclus0.save('h5files5720/pydyno_s36prod_5k_5620_100tnf_cluster0pars_72hrwt.h5',include_obs_exprs = True)\n",
    "c0df100wt = wtclus0.dataframe"
   ]
  },
  {
   "cell_type": "code",
   "execution_count": 4,
   "metadata": {},
   "outputs": [
    {
     "name": "stderr",
     "output_type": "stream",
     "text": [
      "2021-11-21 14:34:35.830 - pysb.simulator.scipyode - DEBUG - [model_files.nerm] Simulator created\n",
      "2021-11-21 14:34:36.513 - pysb.simulator.scipyode - DEBUG - [model_files.nerm] Equation mode set to \"cython\"\n",
      "2021-11-21 14:34:36.576 - pysb.simulator.scipyode - INFO - [model_files.nerm] Simulation(s) started\n",
      "2021-11-21 14:34:36.675 - pysb.simulator.scipyode - DEBUG - [model_files.nerm] Multi-processor (parallel) mode using 5 processes\n",
      "2021-11-21 14:36:06.905 - pysb.simulator.scipyode - INFO - [model_files.nerm] All simulation(s) complete\n",
      "2021-11-21 14:36:06.907 - pysb.simulator.scipyode - DEBUG - [model_files.nerm] SimulationResult constructor started\n",
      "2021-11-21 14:36:07.793 - pysb.simulator.scipyode - DEBUG - [model_files.nerm] SimulationResult constructor finished\n"
     ]
    }
   ],
   "source": [
    "solverwt1 = ScipyOdeSimulator(model, tspan=tspan, verbose = True)\n",
    "wtclus1 = solverwt1.run(param_values=clus1_100, num_processors = 5)\n",
    "# wtclus0.save('h5files5720/pydyno_s36prod_5k_5620_100tnf_cluster0pars_72hrwt.h5',include_obs_exprs = True)\n",
    "c1df100wt = wtclus1.dataframe"
   ]
  },
  {
   "cell_type": "code",
   "execution_count": null,
   "metadata": {},
   "outputs": [],
   "source": [
    "solverwt2 = ScipyOdeSimulator(model, tspan=tspan, verbose = True)\n",
    "wtclus2 = solverwt2.run(param_values=clus2_100, num_processors = 20)\n",
    "# wtclus0.save('h5files5720/pydyno_s36prod_5k_5620_100tnf_cluster0pars_72hrwt.h5',include_obs_exprs = True)\n",
    "c2df100wt = wtclus2.dataframe"
   ]
  },
  {
   "cell_type": "code",
   "execution_count": null,
   "metadata": {},
   "outputs": [],
   "source": [
    "solverwt3 = ScipyOdeSimulator(model, tspan=tspan, verbose = True)\n",
    "wtclus3 = solverwt3.run(param_values=clus3_100, num_processors = 20)\n",
    "# wtclus0.save('h5files5720/pydyno_s36prod_5k_5620_100tnf_cluster0pars_72hrwt.h5',include_obs_exprs = True)\n",
    "c3df100wt = wtclus3.dataframe"
   ]
  },
  {
   "cell_type": "code",
   "execution_count": 5,
   "metadata": {},
   "outputs": [
    {
     "data": {
      "image/png": "[encoded data removed]",
      "text/plain": [
       "<Figure size 432x288 with 1 Axes>"
      ]
     },
     "metadata": {
      "needs_background": "light"
     },
     "output_type": "display_data"
    }
   ],
   "source": [
    "fig, ax = plt.subplots()\n",
    "for n in range(len(clus1_100)):\n",
    "    plt.plot(tspan/60, c1df100wt.loc[n]['MLKLa_obs'].iloc[:]/5544, lw=1.5)\n",
    "plt.xlabel(\"Time (in hr)\", fontsize=15)\n",
    "plt.ylabel(\"Amount (normalized)\", fontsize=15)\n",
    "plt.xlim(xmin = 0, xmax = 30)\n",
    "plt.ylim(ymin = 0)\n",
    "plt.xticks(fontsize=14)\n",
    "plt.yticks(fontsize=14)\n",
    "right_side = ax.spines[\"right\"]\n",
    "right_side.set_visible(False)\n",
    "top = ax.spines[\"top\"]\n",
    "top.set_visible(False)\n",
    "plt.show()   "
   ]
  },
  {
   "cell_type": "code",
   "execution_count": 38,
   "metadata": {},
   "outputs": [
    {
     "name": "stdout",
     "output_type": "stream",
     "text": [
      "2934.672077089329\n",
      "3108.9999813123127\n",
      "2841.6971039146442\n",
      "2951.8344555539884\n",
      "5544.000000000067\n"
     ]
    }
   ],
   "source": [
    "print(c1df100wt['__s24'].max())\n",
    "print(c1df100wt['__s26'].max())\n",
    "print(c1df100wt['__s29'].max())\n",
    "print(c1df100wt['__s34'].max())\n",
    "print(c1df100wt['__s36'].max())"
   ]
  },
  {
   "cell_type": "code",
   "execution_count": 34,
   "metadata": {},
   "outputs": [
    {
     "data": {
      "image/png": "[encoded data removed]",
      "text/plain": [
       "<Figure size 432x288 with 1 Axes>"
      ]
     },
     "metadata": {
      "needs_background": "light"
     },
     "output_type": "display_data"
    }
   ],
   "source": [
    "fig, ax = plt.subplots()\n",
    "for n in range(len(clus1_100)):\n",
    "    plt.plot(tspan/60, c1df100wt.loc[n]['CII_RIP1deub_obs'].iloc[:]/2934.67, lw=1.5)\n",
    "plt.xlabel(\"Time (in hr)\", fontsize=15)\n",
    "plt.ylabel(\"Amount (normalized)\", fontsize=15)\n",
    "plt.xlim(xmin = 0, xmax = 30)\n",
    "plt.ylim(ymin = 0)\n",
    "plt.xticks(fontsize=14)\n",
    "plt.yticks(fontsize=14)\n",
    "right_side = ax.spines[\"right\"]\n",
    "right_side.set_visible(False)\n",
    "top = ax.spines[\"top\"]\n",
    "top.set_visible(False)\n",
    "plt.show()  "
   ]
  },
  {
   "cell_type": "code",
   "execution_count": 17,
   "metadata": {},
   "outputs": [
    {
     "data": {
      "text/plain": [
       "Index(['__s0', '__s1', '__s2', '__s3', '__s4', '__s5', '__s6', '__s7', '__s8',\n",
       "       '__s9', '__s10', '__s11', '__s12', '__s13', '__s14', '__s15', '__s16',\n",
       "       '__s17', '__s18', '__s19', '__s20', '__s21', '__s22', '__s23', '__s24',\n",
       "       '__s25', '__s26', '__s27', '__s28', '__s29', '__s30', '__s31', '__s32',\n",
       "       '__s33', '__s34', '__s35', '__s36', 'MLKLa_obs', 'CII_C8a_obs',\n",
       "       'CII_RIP3_obs', 'RIP1RIP3unmod_obs', 'CI_k63_obs', 'CII_RIP1deub_obs',\n",
       "       'A20_CI_obs', 'CYLD_CI_obs', 'C8Flip_obs', 'RIP1TRADD_obs',\n",
       "       'RIP1k63_obs', 'RIP1deub_obs', 'RIP1trunc_obs', 'Flip_obs', 'FADDa_obs',\n",
       "       'FADDu_obs', 'R1dbR3_obs', 'R1dbR3p_obs', 'R1pR3p_obs', 'R1pR3pM_obs'],\n",
       "      dtype='object')"
      ]
     },
     "execution_count": 17,
     "metadata": {},
     "output_type": "execute_result"
    }
   ],
   "source": [
    "c1df100wt.columns"
   ]
  },
  {
   "cell_type": "code",
   "execution_count": 20,
   "metadata": {},
   "outputs": [],
   "source": [
    "dfCI_CII_pmlkl = c1df100wt[['__s20','__s24','__s36']]"
   ]
  },
  {
   "cell_type": "code",
   "execution_count": 39,
   "metadata": {},
   "outputs": [],
   "source": [
    "dfcomplexes_pmlkl = c1df100wt[['__s24','__s26','__s29', '__s34', '__s36']]\n"
   ]
  },
  {
   "cell_type": "code",
   "execution_count": 51,
   "metadata": {},
   "outputs": [],
   "source": [
    "dfcomplexes_pmlkl['ComplexII'] = dfcomplexes_pmlkl['__s24']\n",
    "dfcomplexes_pmlkl['ComplexII:RIP3'] = dfcomplexes_pmlkl['__s26']\n",
    "dfcomplexes_pmlkl['ComplexII:C8:FL'] = dfcomplexes_pmlkl['__s29']\n",
    "dfcomplexes_pmlkl['ComplexII:C8:FL:RIP3'] = dfcomplexes_pmlkl['__s34']\n",
    "dfcomplexes_pmlkl['pMLKL'] = dfcomplexes_pmlkl['__s36']"
   ]
  },
  {
   "cell_type": "code",
   "execution_count": 54,
   "metadata": {},
   "outputs": [],
   "source": [
    "dfcomplexes_pmlkl['ComplexII:RI3'] = dfcomplexes_pmlkl['ComplexII:RIP3']"
   ]
  },
  {
   "cell_type": "code",
   "execution_count": 61,
   "metadata": {},
   "outputs": [
    {
     "data": {
      "text/html": [
       "<div>\n",
       "<style scoped>\n",
       "    .dataframe tbody tr th:only-of-type {\n",
       "        vertical-align: middle;\n",
       "    }\n",
       "\n",
       "    .dataframe tbody tr th {\n",
       "        vertical-align: top;\n",
       "    }\n",
       "\n",
       "    .dataframe thead th {\n",
       "        text-align: right;\n",
       "    }\n",
       "</style>\n",
       "<table border=\"1\" class=\"dataframe\">\n",
       "  <thead>\n",
       "    <tr style=\"text-align: right;\">\n",
       "      <th></th>\n",
       "      <th></th>\n",
       "      <th>ComplexII</th>\n",
       "      <th>ComplexII:RI3</th>\n",
       "      <th>ComplexII:C8:FL</th>\n",
       "      <th>ComplexII:C8:FL:RIP3</th>\n",
       "      <th>pMLKL</th>\n",
       "      <th>ComplexII:RIP3</th>\n",
       "    </tr>\n",
       "    <tr>\n",
       "      <th>simulation</th>\n",
       "      <th>time</th>\n",
       "      <th></th>\n",
       "      <th></th>\n",
       "      <th></th>\n",
       "      <th></th>\n",
       "      <th></th>\n",
       "      <th></th>\n",
       "    </tr>\n",
       "  </thead>\n",
       "  <tbody>\n",
       "    <tr>\n",
       "      <th rowspan=\"5\" valign=\"top\">0</th>\n",
       "      <th>0.000000</th>\n",
       "      <td>0.000000e+00</td>\n",
       "      <td>0.000000</td>\n",
       "      <td>0.000000e+00</td>\n",
       "      <td>0.000000e+00</td>\n",
       "      <td>0.000000e+00</td>\n",
       "      <td>0.000000</td>\n",
       "    </tr>\n",
       "    <tr>\n",
       "      <th>3.607214</th>\n",
       "      <td>6.245810e-09</td>\n",
       "      <td>0.000408</td>\n",
       "      <td>1.419491e-10</td>\n",
       "      <td>2.558552e-11</td>\n",
       "      <td>2.061861e-12</td>\n",
       "      <td>0.000408</td>\n",
       "    </tr>\n",
       "    <tr>\n",
       "      <th>7.214429</th>\n",
       "      <td>2.945628e-08</td>\n",
       "      <td>0.004048</td>\n",
       "      <td>7.466359e-10</td>\n",
       "      <td>6.166655e-09</td>\n",
       "      <td>3.831691e-10</td>\n",
       "      <td>0.004048</td>\n",
       "    </tr>\n",
       "    <tr>\n",
       "      <th>10.821643</th>\n",
       "      <td>6.924307e-08</td>\n",
       "      <td>0.014549</td>\n",
       "      <td>1.814057e-09</td>\n",
       "      <td>1.114778e-07</td>\n",
       "      <td>7.583302e-09</td>\n",
       "      <td>0.014549</td>\n",
       "    </tr>\n",
       "    <tr>\n",
       "      <th>14.428858</th>\n",
       "      <td>1.246183e-07</td>\n",
       "      <td>0.035198</td>\n",
       "      <td>3.316716e-09</td>\n",
       "      <td>6.228883e-07</td>\n",
       "      <td>6.124701e-08</td>\n",
       "      <td>0.035198</td>\n",
       "    </tr>\n",
       "    <tr>\n",
       "      <th>...</th>\n",
       "      <th>...</th>\n",
       "      <td>...</td>\n",
       "      <td>...</td>\n",
       "      <td>...</td>\n",
       "      <td>...</td>\n",
       "      <td>...</td>\n",
       "      <td>...</td>\n",
       "    </tr>\n",
       "    <tr>\n",
       "      <th rowspan=\"5\" valign=\"top\">1491</th>\n",
       "      <th>1785.571142</th>\n",
       "      <td>1.623120e-03</td>\n",
       "      <td>3107.663433</td>\n",
       "      <td>4.530295e-01</td>\n",
       "      <td>8.791799e-01</td>\n",
       "      <td>5.544000e+03</td>\n",
       "      <td>3107.663433</td>\n",
       "    </tr>\n",
       "    <tr>\n",
       "      <th>1789.178357</th>\n",
       "      <td>1.623496e-03</td>\n",
       "      <td>3107.660459</td>\n",
       "      <td>4.532898e-01</td>\n",
       "      <td>8.818937e-01</td>\n",
       "      <td>5.544000e+03</td>\n",
       "      <td>3107.660459</td>\n",
       "    </tr>\n",
       "    <tr>\n",
       "      <th>1792.785571</th>\n",
       "      <td>1.623873e-03</td>\n",
       "      <td>3107.657483</td>\n",
       "      <td>4.535492e-01</td>\n",
       "      <td>8.846091e-01</td>\n",
       "      <td>5.544000e+03</td>\n",
       "      <td>3107.657483</td>\n",
       "    </tr>\n",
       "    <tr>\n",
       "      <th>1796.392786</th>\n",
       "      <td>1.624249e-03</td>\n",
       "      <td>3107.654507</td>\n",
       "      <td>4.538078e-01</td>\n",
       "      <td>8.873260e-01</td>\n",
       "      <td>5.544000e+03</td>\n",
       "      <td>3107.654507</td>\n",
       "    </tr>\n",
       "    <tr>\n",
       "      <th>1800.000000</th>\n",
       "      <td>1.624626e-03</td>\n",
       "      <td>3107.651530</td>\n",
       "      <td>4.540655e-01</td>\n",
       "      <td>8.900445e-01</td>\n",
       "      <td>5.544000e+03</td>\n",
       "      <td>3107.651530</td>\n",
       "    </tr>\n",
       "  </tbody>\n",
       "</table>\n",
       "<p>746000 rows × 6 columns</p>\n",
       "</div>"
      ],
      "text/plain": [
       "                           ComplexII  ComplexII:RI3  ComplexII:C8:FL  \\\n",
       "simulation time                                                        \n",
       "0          0.000000     0.000000e+00       0.000000     0.000000e+00   \n",
       "           3.607214     6.245810e-09       0.000408     1.419491e-10   \n",
       "           7.214429     2.945628e-08       0.004048     7.466359e-10   \n",
       "           10.821643    6.924307e-08       0.014549     1.814057e-09   \n",
       "           14.428858    1.246183e-07       0.035198     3.316716e-09   \n",
       "...                              ...            ...              ...   \n",
       "1491       1785.571142  1.623120e-03    3107.663433     4.530295e-01   \n",
       "           1789.178357  1.623496e-03    3107.660459     4.532898e-01   \n",
       "           1792.785571  1.623873e-03    3107.657483     4.535492e-01   \n",
       "           1796.392786  1.624249e-03    3107.654507     4.538078e-01   \n",
       "           1800.000000  1.624626e-03    3107.651530     4.540655e-01   \n",
       "\n",
       "                        ComplexII:C8:FL:RIP3         pMLKL  ComplexII:RIP3  \n",
       "simulation time                                                             \n",
       "0          0.000000             0.000000e+00  0.000000e+00        0.000000  \n",
       "           3.607214             2.558552e-11  2.061861e-12        0.000408  \n",
       "           7.214429             6.166655e-09  3.831691e-10        0.004048  \n",
       "           10.821643            1.114778e-07  7.583302e-09        0.014549  \n",
       "           14.428858            6.228883e-07  6.124701e-08        0.035198  \n",
       "...                                      ...           ...             ...  \n",
       "1491       1785.571142          8.791799e-01  5.544000e+03     3107.663433  \n",
       "           1789.178357          8.818937e-01  5.544000e+03     3107.660459  \n",
       "           1792.785571          8.846091e-01  5.544000e+03     3107.657483  \n",
       "           1796.392786          8.873260e-01  5.544000e+03     3107.654507  \n",
       "           1800.000000          8.900445e-01  5.544000e+03     3107.651530  \n",
       "\n",
       "[746000 rows x 6 columns]"
      ]
     },
     "execution_count": 61,
     "metadata": {},
     "output_type": "execute_result"
    }
   ],
   "source": [
    "dfnew = dfcomplexes_pmlkl.iloc[:, 5:]\n",
    "dfnew"
   ]
  },
  {
   "cell_type": "code",
   "execution_count": 64,
   "metadata": {},
   "outputs": [
    {
     "data": {
      "text/plain": [
       "<seaborn.axisgrid.PairGrid at 0x7fc49c484b70>"
      ]
     },
     "execution_count": 64,
     "metadata": {},
     "output_type": "execute_result"
    },
    {
     "data": {
      "image/png": "[encoded data removed]",
      "text/plain": [
       "<Figure size 720x720 with 20 Axes>"
      ]
     },
     "metadata": {
      "needs_background": "light"
     },
     "output_type": "display_data"
    }
   ],
   "source": [
    "sns.pairplot(dfnew, vars = ['ComplexII', 'ComplexII:RI3', 'ComplexII:C8:FL', 'ComplexII:C8:FL:RIP3'], kind = 'reg')"
   ]
  },
  {
   "cell_type": "code",
   "execution_count": 41,
   "metadata": {},
   "outputs": [
    {
     "name": "stdout",
     "output_type": "stream",
     "text": [
      "72.93297965439265\n"
     ]
    }
   ],
   "source": [
    "print(c1df100wt['__s20'].max())"
   ]
  },
  {
   "cell_type": "code",
   "execution_count": 25,
   "metadata": {},
   "outputs": [],
   "source": [
    "dfCI_CII_pmlkl['log_CIk63'] = np.log10(dfCI_CII_pmlkl['__s20'])\n",
    "dfCI_CII_pmlkl['log_CII'] = np.log10(dfCI_CII_pmlkl['__s24'])\n",
    "dfCI_CII_pmlkl['log_pMLKL'] = np.log10(dfCI_CII_pmlkl['__s36'])"
   ]
  },
  {
   "cell_type": "code",
   "execution_count": 31,
   "metadata": {},
   "outputs": [
    {
     "data": {
      "text/html": [
       "<div>\n",
       "<style scoped>\n",
       "    .dataframe tbody tr th:only-of-type {\n",
       "        vertical-align: middle;\n",
       "    }\n",
       "\n",
       "    .dataframe tbody tr th {\n",
       "        vertical-align: top;\n",
       "    }\n",
       "\n",
       "    .dataframe thead th {\n",
       "        text-align: right;\n",
       "    }\n",
       "</style>\n",
       "<table border=\"1\" class=\"dataframe\">\n",
       "  <thead>\n",
       "    <tr style=\"text-align: right;\">\n",
       "      <th></th>\n",
       "      <th></th>\n",
       "    </tr>\n",
       "    <tr>\n",
       "      <th>simulation</th>\n",
       "      <th>time</th>\n",
       "    </tr>\n",
       "  </thead>\n",
       "  <tbody>\n",
       "    <tr>\n",
       "      <th rowspan=\"5\" valign=\"top\">0</th>\n",
       "      <th>0.000000</th>\n",
       "    </tr>\n",
       "    <tr>\n",
       "      <th>3.607214</th>\n",
       "    </tr>\n",
       "    <tr>\n",
       "      <th>7.214429</th>\n",
       "    </tr>\n",
       "    <tr>\n",
       "      <th>10.821643</th>\n",
       "    </tr>\n",
       "    <tr>\n",
       "      <th>14.428858</th>\n",
       "    </tr>\n",
       "    <tr>\n",
       "      <th>...</th>\n",
       "      <th>...</th>\n",
       "    </tr>\n",
       "    <tr>\n",
       "      <th rowspan=\"5\" valign=\"top\">1491</th>\n",
       "      <th>1785.571142</th>\n",
       "    </tr>\n",
       "    <tr>\n",
       "      <th>1789.178357</th>\n",
       "    </tr>\n",
       "    <tr>\n",
       "      <th>1792.785571</th>\n",
       "    </tr>\n",
       "    <tr>\n",
       "      <th>1796.392786</th>\n",
       "    </tr>\n",
       "    <tr>\n",
       "      <th>1800.000000</th>\n",
       "    </tr>\n",
       "  </tbody>\n",
       "</table>\n",
       "<p>746000 rows × 0 columns</p>\n",
       "</div>"
      ],
      "text/plain": [
       "Empty DataFrame\n",
       "Columns: []\n",
       "Index: [(0, 0.0), (0, 3.6072144288577155), (0, 7.214428857715431), (0, 10.821643286573146), (0, 14.428857715430862), (0, 18.03607214428858), (0, 21.64328657314629), (0, 25.250501002004007), (0, 28.857715430861724), (0, 32.46492985971944), (0, 36.07214428857716), (0, 39.67935871743487), (0, 43.28657314629258), (0, 46.8937875751503), (0, 50.501002004008015), (0, 54.10821643286573), (0, 57.71543086172345), (0, 61.322645290581164), (0, 64.92985971943888), (0, 68.5370741482966), (0, 72.14428857715431), (0, 75.75150300601203), (0, 79.35871743486975), (0, 82.96593186372746), (0, 86.57314629258516), (0, 90.18036072144288), (0, 93.7875751503006), (0, 97.39478957915831), (0, 101.00200400801603), (0, 104.60921843687375), (0, 108.21643286573146), (0, 111.82364729458918), (0, 115.4308617234469), (0, 119.03807615230461), (0, 122.64529058116233), (0, 126.25250501002004), (0, 129.85971943887776), (0, 133.46693386773546), (0, 137.0741482965932), (0, 140.6813627254509), (0, 144.28857715430863), (0, 147.89579158316633), (0, 151.50300601202406), (0, 155.11022044088176), (0, 158.7174348697395), (0, 162.3246492985972), (0, 165.93186372745492), (0, 169.53907815631263), (0, 173.14629258517033), (0, 176.75350701402806), (0, 180.36072144288576), (0, 183.9679358717435), (0, 187.5751503006012), (0, 191.18236472945893), (0, 194.78957915831663), (0, 198.39679358717436), (0, 202.00400801603206), (0, 205.6112224448898), (0, 209.2184368737475), (0, 212.82565130260522), (0, 216.43286573146293), (0, 220.04008016032066), (0, 223.64729458917836), (0, 227.2545090180361), (0, 230.8617234468938), (0, 234.4689378757515), (0, 238.07615230460922), (0, 241.68336673346693), (0, 245.29058116232466), (0, 248.89779559118236), (0, 252.5050100200401), (0, 256.1122244488978), (0, 259.7194388777555), (0, 263.32665330661325), (0, 266.9338677354709), (0, 270.54108216432866), (0, 274.1482965931864), (0, 277.7555110220441), (0, 281.3627254509018), (0, 284.9699398797595), (0, 288.57715430861725), (0, 292.1843687374749), (0, 295.79158316633266), (0, 299.3987975951904), (0, 303.0060120240481), (0, 306.6132264529058), (0, 310.2204408817635), (0, 313.82765531062125), (0, 317.434869739479), (0, 321.04208416833666), (0, 324.6492985971944), (0, 328.2565130260521), (0, 331.86372745490985), (0, 335.4709418837675), (0, 339.07815631262525), (0, 342.685370741483), (0, 346.29258517034066), (0, 349.8997995991984), (0, 353.5070140280561), (0, 357.11422845691385), ...]\n",
       "\n",
       "[746000 rows x 0 columns]"
      ]
     },
     "execution_count": 31,
     "metadata": {},
     "output_type": "execute_result"
    }
   ],
   "source": [
    "# dfCI_CII_pmlkl_log = dfCI_CII_pmlkl.iloc[:, 3:]\n",
    "dfCI_CII_pmlkl_log.replace([np.inf, -np.inf], np.nan).dropna(axis=1)"
   ]
  },
  {
   "cell_type": "code",
   "execution_count": 11,
   "metadata": {},
   "outputs": [
    {
     "ename": "IndexingError",
     "evalue": "Too many indexers",
     "output_type": "error",
     "traceback": [
      "\u001b[0;31m---------------------------------------------------------------------------\u001b[0m",
      "\u001b[0;31mIndexingError\u001b[0m                             Traceback (most recent call last)",
      "\u001b[0;32m<ipython-input-11-934afcf6a526>\u001b[0m in \u001b[0;36m<module>\u001b[0;34m\u001b[0m\n\u001b[0;32m----> 1\u001b[0;31m \u001b[0mdf012\u001b[0m \u001b[0;34m=\u001b[0m \u001b[0mc1df100wt\u001b[0m\u001b[0;34m.\u001b[0m\u001b[0miloc\u001b[0m\u001b[0;34m[\u001b[0m\u001b[0;34m:\u001b[0m\u001b[0;34m,\u001b[0m \u001b[0;34m:\u001b[0m\u001b[0;36m2\u001b[0m\u001b[0;34m,\u001b[0m\u001b[0;36m6\u001b[0m\u001b[0;34m]\u001b[0m\u001b[0;34m\u001b[0m\u001b[0;34m\u001b[0m\u001b[0m\n\u001b[0m",
      "\u001b[0;32m~/anaconda/envs/sens3/lib/python3.7/site-packages/pandas/core/indexing.py\u001b[0m in \u001b[0;36m__getitem__\u001b[0;34m(self, key)\u001b[0m\n\u001b[1;32m    871\u001b[0m                     \u001b[0;31m# AttributeError for IntervalTree get_value\u001b[0m\u001b[0;34m\u001b[0m\u001b[0;34m\u001b[0m\u001b[0;34m\u001b[0m\u001b[0m\n\u001b[1;32m    872\u001b[0m                     \u001b[0;32mpass\u001b[0m\u001b[0;34m\u001b[0m\u001b[0;34m\u001b[0m\u001b[0m\n\u001b[0;32m--> 873\u001b[0;31m             \u001b[0;32mreturn\u001b[0m \u001b[0mself\u001b[0m\u001b[0;34m.\u001b[0m\u001b[0m_getitem_tuple\u001b[0m\u001b[0;34m(\u001b[0m\u001b[0mkey\u001b[0m\u001b[0;34m)\u001b[0m\u001b[0;34m\u001b[0m\u001b[0;34m\u001b[0m\u001b[0m\n\u001b[0m\u001b[1;32m    874\u001b[0m         \u001b[0;32melse\u001b[0m\u001b[0;34m:\u001b[0m\u001b[0;34m\u001b[0m\u001b[0;34m\u001b[0m\u001b[0m\n\u001b[1;32m    875\u001b[0m             \u001b[0;31m# we by definition only have the 0th axis\u001b[0m\u001b[0;34m\u001b[0m\u001b[0;34m\u001b[0m\u001b[0;34m\u001b[0m\u001b[0m\n",
      "\u001b[0;32m~/anaconda/envs/sens3/lib/python3.7/site-packages/pandas/core/indexing.py\u001b[0m in \u001b[0;36m_getitem_tuple\u001b[0;34m(self, tup)\u001b[0m\n\u001b[1;32m   1441\u001b[0m     \u001b[0;32mdef\u001b[0m \u001b[0m_getitem_tuple\u001b[0m\u001b[0;34m(\u001b[0m\u001b[0mself\u001b[0m\u001b[0;34m,\u001b[0m \u001b[0mtup\u001b[0m\u001b[0;34m:\u001b[0m \u001b[0mTuple\u001b[0m\u001b[0;34m)\u001b[0m\u001b[0;34m:\u001b[0m\u001b[0;34m\u001b[0m\u001b[0;34m\u001b[0m\u001b[0m\n\u001b[1;32m   1442\u001b[0m \u001b[0;34m\u001b[0m\u001b[0m\n\u001b[0;32m-> 1443\u001b[0;31m         \u001b[0mself\u001b[0m\u001b[0;34m.\u001b[0m\u001b[0m_has_valid_tuple\u001b[0m\u001b[0;34m(\u001b[0m\u001b[0mtup\u001b[0m\u001b[0;34m)\u001b[0m\u001b[0;34m\u001b[0m\u001b[0;34m\u001b[0m\u001b[0m\n\u001b[0m\u001b[1;32m   1444\u001b[0m         \u001b[0;32mtry\u001b[0m\u001b[0;34m:\u001b[0m\u001b[0;34m\u001b[0m\u001b[0;34m\u001b[0m\u001b[0m\n\u001b[1;32m   1445\u001b[0m             \u001b[0;32mreturn\u001b[0m \u001b[0mself\u001b[0m\u001b[0;34m.\u001b[0m\u001b[0m_getitem_lowerdim\u001b[0m\u001b[0;34m(\u001b[0m\u001b[0mtup\u001b[0m\u001b[0;34m)\u001b[0m\u001b[0;34m\u001b[0m\u001b[0;34m\u001b[0m\u001b[0m\n",
      "\u001b[0;32m~/anaconda/envs/sens3/lib/python3.7/site-packages/pandas/core/indexing.py\u001b[0m in \u001b[0;36m_has_valid_tuple\u001b[0;34m(self, key)\u001b[0m\n\u001b[1;32m    698\u001b[0m         \u001b[0;32mfor\u001b[0m \u001b[0mi\u001b[0m\u001b[0;34m,\u001b[0m \u001b[0mk\u001b[0m \u001b[0;32min\u001b[0m \u001b[0menumerate\u001b[0m\u001b[0;34m(\u001b[0m\u001b[0mkey\u001b[0m\u001b[0;34m)\u001b[0m\u001b[0;34m:\u001b[0m\u001b[0;34m\u001b[0m\u001b[0;34m\u001b[0m\u001b[0m\n\u001b[1;32m    699\u001b[0m             \u001b[0;32mif\u001b[0m \u001b[0mi\u001b[0m \u001b[0;34m>=\u001b[0m \u001b[0mself\u001b[0m\u001b[0;34m.\u001b[0m\u001b[0mndim\u001b[0m\u001b[0;34m:\u001b[0m\u001b[0;34m\u001b[0m\u001b[0;34m\u001b[0m\u001b[0m\n\u001b[0;32m--> 700\u001b[0;31m                 \u001b[0;32mraise\u001b[0m \u001b[0mIndexingError\u001b[0m\u001b[0;34m(\u001b[0m\u001b[0;34m\"Too many indexers\"\u001b[0m\u001b[0;34m)\u001b[0m\u001b[0;34m\u001b[0m\u001b[0;34m\u001b[0m\u001b[0m\n\u001b[0m\u001b[1;32m    701\u001b[0m             \u001b[0;32mtry\u001b[0m\u001b[0;34m:\u001b[0m\u001b[0;34m\u001b[0m\u001b[0;34m\u001b[0m\u001b[0m\n\u001b[1;32m    702\u001b[0m                 \u001b[0mself\u001b[0m\u001b[0;34m.\u001b[0m\u001b[0m_validate_key\u001b[0m\u001b[0;34m(\u001b[0m\u001b[0mk\u001b[0m\u001b[0;34m,\u001b[0m \u001b[0mi\u001b[0m\u001b[0;34m)\u001b[0m\u001b[0;34m\u001b[0m\u001b[0;34m\u001b[0m\u001b[0m\n",
      "\u001b[0;31mIndexingError\u001b[0m: Too many indexers"
     ]
    }
   ],
   "source": [
    "df012 = c1df100wt.iloc[:, :3]"
   ]
  },
  {
   "cell_type": "code",
   "execution_count": null,
   "metadata": {},
   "outputs": [
    {
     "ename": "KeyboardInterrupt",
     "evalue": "",
     "output_type": "error",
     "traceback": [
      "\u001b[0;31m---------------------------------------------------------------------------\u001b[0m",
      "\u001b[0;31mKeyboardInterrupt\u001b[0m                         Traceback (most recent call last)",
      "\u001b[0;32m<ipython-input-65-bec68ab4bca4>\u001b[0m in \u001b[0;36m<module>\u001b[0;34m\u001b[0m\n\u001b[0;32m----> 1\u001b[0;31m \u001b[0msns\u001b[0m\u001b[0;34m.\u001b[0m\u001b[0mpairplot\u001b[0m\u001b[0;34m(\u001b[0m\u001b[0mdfnew\u001b[0m\u001b[0;34m,\u001b[0m \u001b[0mheight\u001b[0m \u001b[0;34m=\u001b[0m \u001b[0;36m2.5\u001b[0m\u001b[0;34m,\u001b[0m \u001b[0mkind\u001b[0m \u001b[0;34m=\u001b[0m \u001b[0;34m'reg'\u001b[0m\u001b[0;34m)\u001b[0m\u001b[0;34m\u001b[0m\u001b[0;34m\u001b[0m\u001b[0m\n\u001b[0m",
      "\u001b[0;32m~/anaconda/envs/sens3/lib/python3.7/site-packages/seaborn/axisgrid.py\u001b[0m in \u001b[0;36mpairplot\u001b[0;34m(data, hue, hue_order, palette, vars, x_vars, y_vars, kind, diag_kind, markers, height, aspect, dropna, plot_kws, diag_kws, grid_kws, size)\u001b[0m\n\u001b[1;32m   2122\u001b[0m     \u001b[0;32melif\u001b[0m \u001b[0mkind\u001b[0m \u001b[0;34m==\u001b[0m \u001b[0;34m\"reg\"\u001b[0m\u001b[0;34m:\u001b[0m\u001b[0;34m\u001b[0m\u001b[0;34m\u001b[0m\u001b[0m\n\u001b[1;32m   2123\u001b[0m         \u001b[0;32mfrom\u001b[0m \u001b[0;34m.\u001b[0m\u001b[0mregression\u001b[0m \u001b[0;32mimport\u001b[0m \u001b[0mregplot\u001b[0m  \u001b[0;31m# Avoid circular import\u001b[0m\u001b[0;34m\u001b[0m\u001b[0;34m\u001b[0m\u001b[0m\n\u001b[0;32m-> 2124\u001b[0;31m         \u001b[0mplotter\u001b[0m\u001b[0;34m(\u001b[0m\u001b[0mregplot\u001b[0m\u001b[0;34m,\u001b[0m \u001b[0;34m**\u001b[0m\u001b[0mplot_kws\u001b[0m\u001b[0;34m)\u001b[0m\u001b[0;34m\u001b[0m\u001b[0;34m\u001b[0m\u001b[0m\n\u001b[0m\u001b[1;32m   2125\u001b[0m \u001b[0;34m\u001b[0m\u001b[0m\n\u001b[1;32m   2126\u001b[0m     \u001b[0;31m# Add a legend\u001b[0m\u001b[0;34m\u001b[0m\u001b[0;34m\u001b[0m\u001b[0;34m\u001b[0m\u001b[0m\n",
      "\u001b[0;32m~/anaconda/envs/sens3/lib/python3.7/site-packages/seaborn/axisgrid.py\u001b[0m in \u001b[0;36mmap_offdiag\u001b[0;34m(self, func, **kwargs)\u001b[0m\n\u001b[1;32m   1511\u001b[0m \u001b[0;34m\u001b[0m\u001b[0m\n\u001b[1;32m   1512\u001b[0m         \u001b[0mself\u001b[0m\u001b[0;34m.\u001b[0m\u001b[0mmap_lower\u001b[0m\u001b[0;34m(\u001b[0m\u001b[0mfunc\u001b[0m\u001b[0;34m,\u001b[0m \u001b[0;34m**\u001b[0m\u001b[0mkwargs\u001b[0m\u001b[0;34m)\u001b[0m\u001b[0;34m\u001b[0m\u001b[0;34m\u001b[0m\u001b[0m\n\u001b[0;32m-> 1513\u001b[0;31m         \u001b[0mself\u001b[0m\u001b[0;34m.\u001b[0m\u001b[0mmap_upper\u001b[0m\u001b[0;34m(\u001b[0m\u001b[0mfunc\u001b[0m\u001b[0;34m,\u001b[0m \u001b[0;34m**\u001b[0m\u001b[0mkwargs\u001b[0m\u001b[0;34m)\u001b[0m\u001b[0;34m\u001b[0m\u001b[0;34m\u001b[0m\u001b[0m\n\u001b[0m\u001b[1;32m   1514\u001b[0m         \u001b[0;32mreturn\u001b[0m \u001b[0mself\u001b[0m\u001b[0;34m\u001b[0m\u001b[0;34m\u001b[0m\u001b[0m\n\u001b[1;32m   1515\u001b[0m \u001b[0;34m\u001b[0m\u001b[0m\n",
      "\u001b[0;32m~/anaconda/envs/sens3/lib/python3.7/site-packages/seaborn/axisgrid.py\u001b[0m in \u001b[0;36mmap_upper\u001b[0;34m(self, func, **kwargs)\u001b[0m\n\u001b[1;32m   1488\u001b[0m                 \u001b[0mcolor\u001b[0m \u001b[0;34m=\u001b[0m \u001b[0mself\u001b[0m\u001b[0;34m.\u001b[0m\u001b[0mpalette\u001b[0m\u001b[0;34m[\u001b[0m\u001b[0mk\u001b[0m\u001b[0;34m]\u001b[0m \u001b[0;32mif\u001b[0m \u001b[0mkw_color\u001b[0m \u001b[0;32mis\u001b[0m \u001b[0;32mNone\u001b[0m \u001b[0;32melse\u001b[0m \u001b[0mkw_color\u001b[0m\u001b[0;34m\u001b[0m\u001b[0;34m\u001b[0m\u001b[0m\n\u001b[1;32m   1489\u001b[0m                 func(data_k[x_var], data_k[y_var], label=label_k,\n\u001b[0;32m-> 1490\u001b[0;31m                      color=color, **kwargs)\n\u001b[0m\u001b[1;32m   1491\u001b[0m \u001b[0;34m\u001b[0m\u001b[0m\n\u001b[1;32m   1492\u001b[0m             \u001b[0mself\u001b[0m\u001b[0;34m.\u001b[0m\u001b[0m_clean_axis\u001b[0m\u001b[0;34m(\u001b[0m\u001b[0max\u001b[0m\u001b[0;34m)\u001b[0m\u001b[0;34m\u001b[0m\u001b[0;34m\u001b[0m\u001b[0m\n",
      "\u001b[0;32m~/anaconda/envs/sens3/lib/python3.7/site-packages/seaborn/regression.py\u001b[0m in \u001b[0;36mregplot\u001b[0;34m(x, y, data, x_estimator, x_bins, x_ci, scatter, fit_reg, ci, n_boot, units, order, logistic, lowess, robust, logx, x_partial, y_partial, truncate, dropna, x_jitter, y_jitter, label, color, marker, scatter_kws, line_kws, ax)\u001b[0m\n\u001b[1;32m    787\u001b[0m     \u001b[0mscatter_kws\u001b[0m\u001b[0;34m[\u001b[0m\u001b[0;34m\"marker\"\u001b[0m\u001b[0;34m]\u001b[0m \u001b[0;34m=\u001b[0m \u001b[0mmarker\u001b[0m\u001b[0;34m\u001b[0m\u001b[0;34m\u001b[0m\u001b[0m\n\u001b[1;32m    788\u001b[0m     \u001b[0mline_kws\u001b[0m \u001b[0;34m=\u001b[0m \u001b[0;34m{\u001b[0m\u001b[0;34m}\u001b[0m \u001b[0;32mif\u001b[0m \u001b[0mline_kws\u001b[0m \u001b[0;32mis\u001b[0m \u001b[0;32mNone\u001b[0m \u001b[0;32melse\u001b[0m \u001b[0mcopy\u001b[0m\u001b[0;34m.\u001b[0m\u001b[0mcopy\u001b[0m\u001b[0;34m(\u001b[0m\u001b[0mline_kws\u001b[0m\u001b[0;34m)\u001b[0m\u001b[0;34m\u001b[0m\u001b[0;34m\u001b[0m\u001b[0m\n\u001b[0;32m--> 789\u001b[0;31m     \u001b[0mplotter\u001b[0m\u001b[0;34m.\u001b[0m\u001b[0mplot\u001b[0m\u001b[0;34m(\u001b[0m\u001b[0max\u001b[0m\u001b[0;34m,\u001b[0m \u001b[0mscatter_kws\u001b[0m\u001b[0;34m,\u001b[0m \u001b[0mline_kws\u001b[0m\u001b[0;34m)\u001b[0m\u001b[0;34m\u001b[0m\u001b[0;34m\u001b[0m\u001b[0m\n\u001b[0m\u001b[1;32m    790\u001b[0m     \u001b[0;32mreturn\u001b[0m \u001b[0max\u001b[0m\u001b[0;34m\u001b[0m\u001b[0;34m\u001b[0m\u001b[0m\n\u001b[1;32m    791\u001b[0m \u001b[0;34m\u001b[0m\u001b[0m\n",
      "\u001b[0;32m~/anaconda/envs/sens3/lib/python3.7/site-packages/seaborn/regression.py\u001b[0m in \u001b[0;36mplot\u001b[0;34m(self, ax, scatter_kws, line_kws)\u001b[0m\n\u001b[1;32m    342\u001b[0m             \u001b[0mself\u001b[0m\u001b[0;34m.\u001b[0m\u001b[0mscatterplot\u001b[0m\u001b[0;34m(\u001b[0m\u001b[0max\u001b[0m\u001b[0;34m,\u001b[0m \u001b[0mscatter_kws\u001b[0m\u001b[0;34m)\u001b[0m\u001b[0;34m\u001b[0m\u001b[0;34m\u001b[0m\u001b[0m\n\u001b[1;32m    343\u001b[0m         \u001b[0;32mif\u001b[0m \u001b[0mself\u001b[0m\u001b[0;34m.\u001b[0m\u001b[0mfit_reg\u001b[0m\u001b[0;34m:\u001b[0m\u001b[0;34m\u001b[0m\u001b[0;34m\u001b[0m\u001b[0m\n\u001b[0;32m--> 344\u001b[0;31m             \u001b[0mself\u001b[0m\u001b[0;34m.\u001b[0m\u001b[0mlineplot\u001b[0m\u001b[0;34m(\u001b[0m\u001b[0max\u001b[0m\u001b[0;34m,\u001b[0m \u001b[0mline_kws\u001b[0m\u001b[0;34m)\u001b[0m\u001b[0;34m\u001b[0m\u001b[0;34m\u001b[0m\u001b[0m\n\u001b[0m\u001b[1;32m    345\u001b[0m \u001b[0;34m\u001b[0m\u001b[0m\n\u001b[1;32m    346\u001b[0m         \u001b[0;31m# Label the axes\u001b[0m\u001b[0;34m\u001b[0m\u001b[0;34m\u001b[0m\u001b[0;34m\u001b[0m\u001b[0m\n",
      "\u001b[0;32m~/anaconda/envs/sens3/lib/python3.7/site-packages/seaborn/regression.py\u001b[0m in \u001b[0;36mlineplot\u001b[0;34m(self, ax, kws)\u001b[0m\n\u001b[1;32m    387\u001b[0m \u001b[0;34m\u001b[0m\u001b[0m\n\u001b[1;32m    388\u001b[0m         \u001b[0;31m# Fit the regression model\u001b[0m\u001b[0;34m\u001b[0m\u001b[0;34m\u001b[0m\u001b[0;34m\u001b[0m\u001b[0m\n\u001b[0;32m--> 389\u001b[0;31m         \u001b[0mgrid\u001b[0m\u001b[0;34m,\u001b[0m \u001b[0myhat\u001b[0m\u001b[0;34m,\u001b[0m \u001b[0merr_bands\u001b[0m \u001b[0;34m=\u001b[0m \u001b[0mself\u001b[0m\u001b[0;34m.\u001b[0m\u001b[0mfit_regression\u001b[0m\u001b[0;34m(\u001b[0m\u001b[0max\u001b[0m\u001b[0;34m)\u001b[0m\u001b[0;34m\u001b[0m\u001b[0;34m\u001b[0m\u001b[0m\n\u001b[0m\u001b[1;32m    390\u001b[0m \u001b[0;34m\u001b[0m\u001b[0m\n\u001b[1;32m    391\u001b[0m         \u001b[0;31m# Get set default aesthetics\u001b[0m\u001b[0;34m\u001b[0m\u001b[0;34m\u001b[0m\u001b[0;34m\u001b[0m\u001b[0m\n",
      "\u001b[0;32m~/anaconda/envs/sens3/lib/python3.7/site-packages/seaborn/regression.py\u001b[0m in \u001b[0;36mfit_regression\u001b[0;34m(self, ax, x_range, grid)\u001b[0m\n\u001b[1;32m    206\u001b[0m             \u001b[0myhat\u001b[0m\u001b[0;34m,\u001b[0m \u001b[0myhat_boots\u001b[0m \u001b[0;34m=\u001b[0m \u001b[0mself\u001b[0m\u001b[0;34m.\u001b[0m\u001b[0mfit_logx\u001b[0m\u001b[0;34m(\u001b[0m\u001b[0mgrid\u001b[0m\u001b[0;34m)\u001b[0m\u001b[0;34m\u001b[0m\u001b[0;34m\u001b[0m\u001b[0m\n\u001b[1;32m    207\u001b[0m         \u001b[0;32melse\u001b[0m\u001b[0;34m:\u001b[0m\u001b[0;34m\u001b[0m\u001b[0;34m\u001b[0m\u001b[0m\n\u001b[0;32m--> 208\u001b[0;31m             \u001b[0myhat\u001b[0m\u001b[0;34m,\u001b[0m \u001b[0myhat_boots\u001b[0m \u001b[0;34m=\u001b[0m \u001b[0mself\u001b[0m\u001b[0;34m.\u001b[0m\u001b[0mfit_fast\u001b[0m\u001b[0;34m(\u001b[0m\u001b[0mgrid\u001b[0m\u001b[0;34m)\u001b[0m\u001b[0;34m\u001b[0m\u001b[0;34m\u001b[0m\u001b[0m\n\u001b[0m\u001b[1;32m    209\u001b[0m \u001b[0;34m\u001b[0m\u001b[0m\n\u001b[1;32m    210\u001b[0m         \u001b[0;31m# Compute the confidence interval at each grid point\u001b[0m\u001b[0;34m\u001b[0m\u001b[0;34m\u001b[0m\u001b[0;34m\u001b[0m\u001b[0m\n",
      "\u001b[0;32m~/anaconda/envs/sens3/lib/python3.7/site-packages/seaborn/regression.py\u001b[0m in \u001b[0;36mfit_fast\u001b[0;34m(self, grid)\u001b[0m\n\u001b[1;32m    228\u001b[0m \u001b[0;34m\u001b[0m\u001b[0m\n\u001b[1;32m    229\u001b[0m         beta_boots = algo.bootstrap(X, y, func=reg_func,\n\u001b[0;32m--> 230\u001b[0;31m                                     n_boot=self.n_boot, units=self.units).T\n\u001b[0m\u001b[1;32m    231\u001b[0m         \u001b[0myhat_boots\u001b[0m \u001b[0;34m=\u001b[0m \u001b[0mgrid\u001b[0m\u001b[0;34m.\u001b[0m\u001b[0mdot\u001b[0m\u001b[0;34m(\u001b[0m\u001b[0mbeta_boots\u001b[0m\u001b[0;34m)\u001b[0m\u001b[0;34m.\u001b[0m\u001b[0mT\u001b[0m\u001b[0;34m\u001b[0m\u001b[0;34m\u001b[0m\u001b[0m\n\u001b[1;32m    232\u001b[0m         \u001b[0;32mreturn\u001b[0m \u001b[0myhat\u001b[0m\u001b[0;34m,\u001b[0m \u001b[0myhat_boots\u001b[0m\u001b[0;34m\u001b[0m\u001b[0;34m\u001b[0m\u001b[0m\n",
      "\u001b[0;32m~/anaconda/envs/sens3/lib/python3.7/site-packages/seaborn/algorithms.py\u001b[0m in \u001b[0;36mbootstrap\u001b[0;34m(*args, **kwargs)\u001b[0m\n\u001b[1;32m     86\u001b[0m         \u001b[0mresampler\u001b[0m \u001b[0;34m=\u001b[0m \u001b[0mrs\u001b[0m\u001b[0;34m.\u001b[0m\u001b[0mrandint\u001b[0m\u001b[0;34m(\u001b[0m\u001b[0;36m0\u001b[0m\u001b[0;34m,\u001b[0m \u001b[0mn\u001b[0m\u001b[0;34m,\u001b[0m \u001b[0mn\u001b[0m\u001b[0;34m)\u001b[0m\u001b[0;34m\u001b[0m\u001b[0;34m\u001b[0m\u001b[0m\n\u001b[1;32m     87\u001b[0m         \u001b[0msample\u001b[0m \u001b[0;34m=\u001b[0m \u001b[0;34m[\u001b[0m\u001b[0ma\u001b[0m\u001b[0;34m.\u001b[0m\u001b[0mtake\u001b[0m\u001b[0;34m(\u001b[0m\u001b[0mresampler\u001b[0m\u001b[0;34m,\u001b[0m \u001b[0maxis\u001b[0m\u001b[0;34m=\u001b[0m\u001b[0;36m0\u001b[0m\u001b[0;34m)\u001b[0m \u001b[0;32mfor\u001b[0m \u001b[0ma\u001b[0m \u001b[0;32min\u001b[0m \u001b[0margs\u001b[0m\u001b[0;34m]\u001b[0m\u001b[0;34m\u001b[0m\u001b[0;34m\u001b[0m\u001b[0m\n\u001b[0;32m---> 88\u001b[0;31m         \u001b[0mboot_dist\u001b[0m\u001b[0;34m.\u001b[0m\u001b[0mappend\u001b[0m\u001b[0;34m(\u001b[0m\u001b[0mf\u001b[0m\u001b[0;34m(\u001b[0m\u001b[0;34m*\u001b[0m\u001b[0msample\u001b[0m\u001b[0;34m,\u001b[0m \u001b[0;34m**\u001b[0m\u001b[0mfunc_kwargs\u001b[0m\u001b[0;34m)\u001b[0m\u001b[0;34m)\u001b[0m\u001b[0;34m\u001b[0m\u001b[0;34m\u001b[0m\u001b[0m\n\u001b[0m\u001b[1;32m     89\u001b[0m     \u001b[0;32mreturn\u001b[0m \u001b[0mnp\u001b[0m\u001b[0;34m.\u001b[0m\u001b[0marray\u001b[0m\u001b[0;34m(\u001b[0m\u001b[0mboot_dist\u001b[0m\u001b[0;34m)\u001b[0m\u001b[0;34m\u001b[0m\u001b[0;34m\u001b[0m\u001b[0m\n\u001b[1;32m     90\u001b[0m \u001b[0;34m\u001b[0m\u001b[0m\n",
      "\u001b[0;32m~/anaconda/envs/sens3/lib/python3.7/site-packages/seaborn/regression.py\u001b[0m in \u001b[0;36mreg_func\u001b[0;34m(_x, _y)\u001b[0m\n\u001b[1;32m    219\u001b[0m         \u001b[0;34m\"\"\"Low-level regression and prediction using linear algebra.\"\"\"\u001b[0m\u001b[0;34m\u001b[0m\u001b[0;34m\u001b[0m\u001b[0m\n\u001b[1;32m    220\u001b[0m         \u001b[0;32mdef\u001b[0m \u001b[0mreg_func\u001b[0m\u001b[0;34m(\u001b[0m\u001b[0m_x\u001b[0m\u001b[0;34m,\u001b[0m \u001b[0m_y\u001b[0m\u001b[0;34m)\u001b[0m\u001b[0;34m:\u001b[0m\u001b[0;34m\u001b[0m\u001b[0;34m\u001b[0m\u001b[0m\n\u001b[0;32m--> 221\u001b[0;31m             \u001b[0;32mreturn\u001b[0m \u001b[0mnp\u001b[0m\u001b[0;34m.\u001b[0m\u001b[0mlinalg\u001b[0m\u001b[0;34m.\u001b[0m\u001b[0mpinv\u001b[0m\u001b[0;34m(\u001b[0m\u001b[0m_x\u001b[0m\u001b[0;34m)\u001b[0m\u001b[0;34m.\u001b[0m\u001b[0mdot\u001b[0m\u001b[0;34m(\u001b[0m\u001b[0m_y\u001b[0m\u001b[0;34m)\u001b[0m\u001b[0;34m\u001b[0m\u001b[0;34m\u001b[0m\u001b[0m\n\u001b[0m\u001b[1;32m    222\u001b[0m \u001b[0;34m\u001b[0m\u001b[0m\n\u001b[1;32m    223\u001b[0m         \u001b[0mX\u001b[0m\u001b[0;34m,\u001b[0m \u001b[0my\u001b[0m \u001b[0;34m=\u001b[0m \u001b[0mnp\u001b[0m\u001b[0;34m.\u001b[0m\u001b[0mc_\u001b[0m\u001b[0;34m[\u001b[0m\u001b[0mnp\u001b[0m\u001b[0;34m.\u001b[0m\u001b[0mones\u001b[0m\u001b[0;34m(\u001b[0m\u001b[0mlen\u001b[0m\u001b[0;34m(\u001b[0m\u001b[0mself\u001b[0m\u001b[0;34m.\u001b[0m\u001b[0mx\u001b[0m\u001b[0;34m)\u001b[0m\u001b[0;34m)\u001b[0m\u001b[0;34m,\u001b[0m \u001b[0mself\u001b[0m\u001b[0;34m.\u001b[0m\u001b[0mx\u001b[0m\u001b[0;34m]\u001b[0m\u001b[0;34m,\u001b[0m \u001b[0mself\u001b[0m\u001b[0;34m.\u001b[0m\u001b[0my\u001b[0m\u001b[0;34m\u001b[0m\u001b[0;34m\u001b[0m\u001b[0m\n",
      "\u001b[0;32m<__array_function__ internals>\u001b[0m in \u001b[0;36mpinv\u001b[0;34m(*args, **kwargs)\u001b[0m\n",
      "\u001b[0;32m~/anaconda/envs/sens3/lib/python3.7/site-packages/numpy/linalg/linalg.py\u001b[0m in \u001b[0;36mpinv\u001b[0;34m(a, rcond, hermitian)\u001b[0m\n\u001b[1;32m   2009\u001b[0m     \u001b[0ms\u001b[0m\u001b[0;34m[\u001b[0m\u001b[0;34m~\u001b[0m\u001b[0mlarge\u001b[0m\u001b[0;34m]\u001b[0m \u001b[0;34m=\u001b[0m \u001b[0;36m0\u001b[0m\u001b[0;34m\u001b[0m\u001b[0;34m\u001b[0m\u001b[0m\n\u001b[1;32m   2010\u001b[0m \u001b[0;34m\u001b[0m\u001b[0m\n\u001b[0;32m-> 2011\u001b[0;31m     \u001b[0mres\u001b[0m \u001b[0;34m=\u001b[0m \u001b[0mmatmul\u001b[0m\u001b[0;34m(\u001b[0m\u001b[0mtranspose\u001b[0m\u001b[0;34m(\u001b[0m\u001b[0mvt\u001b[0m\u001b[0;34m)\u001b[0m\u001b[0;34m,\u001b[0m \u001b[0mmultiply\u001b[0m\u001b[0;34m(\u001b[0m\u001b[0ms\u001b[0m\u001b[0;34m[\u001b[0m\u001b[0;34m...\u001b[0m\u001b[0;34m,\u001b[0m \u001b[0mnewaxis\u001b[0m\u001b[0;34m]\u001b[0m\u001b[0;34m,\u001b[0m \u001b[0mtranspose\u001b[0m\u001b[0;34m(\u001b[0m\u001b[0mu\u001b[0m\u001b[0;34m)\u001b[0m\u001b[0;34m)\u001b[0m\u001b[0;34m)\u001b[0m\u001b[0;34m\u001b[0m\u001b[0;34m\u001b[0m\u001b[0m\n\u001b[0m\u001b[1;32m   2012\u001b[0m     \u001b[0;32mreturn\u001b[0m \u001b[0mwrap\u001b[0m\u001b[0;34m(\u001b[0m\u001b[0mres\u001b[0m\u001b[0;34m)\u001b[0m\u001b[0;34m\u001b[0m\u001b[0;34m\u001b[0m\u001b[0m\n\u001b[1;32m   2013\u001b[0m \u001b[0;34m\u001b[0m\u001b[0m\n",
      "\u001b[0;31mKeyboardInterrupt\u001b[0m: "
     ]
    }
   ],
   "source": [
    "sns.pairplot(dfnew, height = 2.5, kind = 'reg')"
   ]
  },
  {
   "cell_type": "code",
   "execution_count": 23,
   "metadata": {},
   "outputs": [
    {
     "data": {
      "text/plain": [
       "<seaborn.axisgrid.PairGrid at 0x7fc571293860>"
      ]
     },
     "execution_count": 23,
     "metadata": {},
     "output_type": "execute_result"
    },
    {
     "data": {
      "image/png": "[encoded data removed]",
      "text/plain": [
       "<Figure size 540x540 with 12 Axes>"
      ]
     },
     "metadata": {
      "needs_background": "light"
     },
     "output_type": "display_data"
    }
   ],
   "source": [
    "sns.pairplot(dfCI_CII_pmlkl, height=2.5)"
   ]
  },
  {
   "cell_type": "code",
   "execution_count": null,
   "metadata": {},
   "outputs": [],
   "source": [
    "CIk63 = []\n",
    "clus_idxs = np.array(range(wtclus1.nsims))\n",
    "for idx in clus_idxs: \n",
    "    mlkl_traj = wtclus1.observables[idx]['CI_k63_obs']\n",
    "    ysim_mlkl_norm = mlkl_traj / np.nanmax(mlkl_traj)\n",
    "    st, sc, sk = scipy.interpolate.splrep(tspan/60, ysim_mlkl_norm)\n",
    "    try:\n",
    "        t10 = scipy.interpolate.sproot((st, sc - 0.10, sk))[0]\n",
    "        t90 = scipy.interpolate.sproot((st, sc - 0.90, sk))[0]\n",
    "    except IndexError:\n",
    "        t10 = 0\n",
    "        t90 = 0\n",
    "\n",
    "    # time of death  = halfway point between 10 and 90%\n",
    "    td = (t10 + t90) / 2\n",
    "    CIk63.append(td)"
   ]
  },
  {
   "cell_type": "code",
   "execution_count": null,
   "metadata": {},
   "outputs": [],
   "source": [
    "CII = []\n",
    "clus_idxs = np.array(range(wtclus1.nsims))\n",
    "for idx in clus_idxs: \n",
    "    mlkl_traj = wtclus1.observables[idx]['CII_RIP1deub_obs']\n",
    "    ysim_mlkl_norm = mlkl_traj / np.nanmax(mlkl_traj)\n",
    "    st, sc, sk = scipy.interpolate.splrep(tspan/60, ysim_mlkl_norm)\n",
    "    try:\n",
    "        t10 = scipy.interpolate.sproot((st, sc - 0.10, sk))[0]\n",
    "        t90 = scipy.interpolate.sproot((st, sc - 0.90, sk))[0]\n",
    "    except IndexError:\n",
    "        t10 = 0\n",
    "        t90 = 0\n",
    "\n",
    "    # time of death  = halfway point between 10 and 90%\n",
    "    td = (t10 + t90) / 2\n",
    "    CII.append(td)"
   ]
  },
  {
   "cell_type": "code",
   "execution_count": null,
   "metadata": {},
   "outputs": [],
   "source": [
    "sns.set_style(\"white\")\n",
    "kwargs = dict(hist_kws={'alpha':0.5})\n",
    "fig, ax = plt.subplots()\n",
    "sns.distplot(CII, label ='Complex II',color=\"red\", bins=40,  kde = False, **kwargs)\n",
    "plt.xlabel('Time (min)', fontsize = 14)\n",
    "plt.ylabel('Frequency', fontsize = 14)\n",
    "plt.legend(loc=\"upper right\", ncol = 3)\n",
    "plt.xlim(xmin = 0)\n",
    "ax.spines['left'].set_linewidth(1.5)\n",
    "ax.spines['bottom'].set_linewidth(1.5)\n",
    "plt.ylim(ymin = 0)\n",
    "right_side = ax.spines[\"right\"]\n",
    "right_side.set_visible(False)\n",
    "top = ax.spines[\"top\"]\n",
    "plt.tight_layout()\n",
    "top.set_visible(False)\n",
    "# plt.savefig('CIk63_necrosome_pmlkl_tnf100freq.pdf')\n",
    "plt.show()"
   ]
  },
  {
   "cell_type": "code",
   "execution_count": null,
   "metadata": {},
   "outputs": [],
   "source": [
    "CIIC8FL = []\n",
    "clus_idxs = np.array(range(wtclus1.nsims))\n",
    "for idx in clus_idxs: \n",
    "    mlkl_traj = wtclus1.observables[idx]['C8Flip_obs']\n",
    "    ysim_mlkl_norm = mlkl_traj / np.nanmax(mlkl_traj)\n",
    "    st, sc, sk = scipy.interpolate.splrep(tspan/60, ysim_mlkl_norm)\n",
    "    try:\n",
    "        t10 = scipy.interpolate.sproot((st, sc - 0.10, sk))[0]\n",
    "        t90 = scipy.interpolate.sproot((st, sc - 0.90, sk))[0]\n",
    "    except IndexError:\n",
    "        t10 = 0\n",
    "        t90 = 0\n",
    "\n",
    "    # time of death  = halfway point between 10 and 90%\n",
    "    td = (t10 + t90) / 2\n",
    "    CIIC8FL.append(td)"
   ]
  },
  {
   "cell_type": "code",
   "execution_count": null,
   "metadata": {},
   "outputs": [],
   "source": [
    "necrosome = []\n",
    "clus_idxs = np.array(range(wtclus1.nsims))\n",
    "for idx in clus_idxs: \n",
    "    mlkl_traj = wtclus1.observables[idx]['R1pR3pM_obs']\n",
    "    ysim_mlkl_norm = mlkl_traj / np.nanmax(mlkl_traj)\n",
    "    st, sc, sk = scipy.interpolate.splrep(tspan/60, ysim_mlkl_norm)\n",
    "    try:\n",
    "        t10 = scipy.interpolate.sproot((st, sc - 0.10, sk))[0]\n",
    "        t90 = scipy.interpolate.sproot((st, sc - 0.90, sk))[0]\n",
    "    except IndexError:\n",
    "        t10 = 0\n",
    "        t90 = 0\n",
    "\n",
    "    # time of death  = halfway point between 10 and 90%\n",
    "    td = (t10 + t90) / 2\n",
    "    necrosome.append(td)"
   ]
  },
  {
   "cell_type": "code",
   "execution_count": null,
   "metadata": {},
   "outputs": [],
   "source": [
    "CI_a20 = []\n",
    "clus_idxs = np.array(range(wtclus1.nsims))\n",
    "for idx in clus_idxs: \n",
    "    mlkl_traj = wtclus1.observables[idx]['A20_CI_obs']\n",
    "    ysim_mlkl_norm = mlkl_traj / np.nanmax(mlkl_traj)\n",
    "    st, sc, sk = scipy.interpolate.splrep(tspan/60, ysim_mlkl_norm)\n",
    "    try:\n",
    "        t10 = scipy.interpolate.sproot((st, sc - 0.10, sk))[0]\n",
    "        t90 = scipy.interpolate.sproot((st, sc - 0.90, sk))[0]\n",
    "    except IndexError:\n",
    "        t10 = 0\n",
    "        t90 = 0\n",
    "\n",
    "    # time of death  = halfway point between 10 and 90%\n",
    "    td = (t10 + t90) / 2\n",
    "    CI_a20.append(td)"
   ]
  },
  {
   "cell_type": "code",
   "execution_count": null,
   "metadata": {},
   "outputs": [],
   "source": [
    "CI_cyld = []\n",
    "clus_idxs = np.array(range(wtclus1.nsims))\n",
    "for idx in clus_idxs: \n",
    "    mlkl_traj = wtclus1.observables[idx]['CYLD_CI_obs']\n",
    "    ysim_mlkl_norm = mlkl_traj / np.nanmax(mlkl_traj)\n",
    "    st, sc, sk = scipy.interpolate.splrep(tspan/60, ysim_mlkl_norm)\n",
    "    try:\n",
    "        t10 = scipy.interpolate.sproot((st, sc - 0.10, sk))[0]\n",
    "        t90 = scipy.interpolate.sproot((st, sc - 0.90, sk))[0]\n",
    "    except IndexError:\n",
    "        t10 = 0\n",
    "        t90 = 0\n",
    "\n",
    "    # time of death  = halfway point between 10 and 90%\n",
    "    td = (t10 + t90) / 2\n",
    "    CI_cyld.append(td)"
   ]
  },
  {
   "cell_type": "code",
   "execution_count": null,
   "metadata": {},
   "outputs": [],
   "source": [
    "pmlkl = []\n",
    "clus_idxs = np.array(range(wtclus1.nsims))\n",
    "for idx in clus_idxs: \n",
    "    mlkl_traj = wtclus1.observables[idx]['MLKLa_obs']\n",
    "    ysim_mlkl_norm = mlkl_traj / np.nanmax(mlkl_traj)\n",
    "    st, sc, sk = scipy.interpolate.splrep(tspan/60, ysim_mlkl_norm)\n",
    "    try:\n",
    "        t10 = scipy.interpolate.sproot((st, sc - 0.10, sk))[0]\n",
    "        t90 = scipy.interpolate.sproot((st, sc - 0.90, sk))[0]\n",
    "    except IndexError:\n",
    "        t10 = 0\n",
    "        t90 = 0\n",
    "\n",
    "    # time of death  = halfway point between 10 and 90%\n",
    "    td = (t10 + t90) / 2\n",
    "    pmlkl.append(td)"
   ]
  },
  {
   "cell_type": "code",
   "execution_count": null,
   "metadata": {},
   "outputs": [],
   "source": [
    "from brokenaxes import brokenaxes\n",
    "fig = plt.figure(figsize=(6,4))\n",
    "baxes = brokenaxes(xlims=((0,0.1),(0.4,0.7)), ylims=((-1,.7),(0.79,1)), hspace=.05)\n",
    "x = np.linspace(0,1,50)\n",
    "baxes.plot(x,np.sin(15*x),label=\"sin\")\n",
    "baxes.plot(x,np.cos(15*x),label=\"cos\")\n",
    "baxes.legend(loc=\"best\")\n",
    "plt.show()"
   ]
  },
  {
   "cell_type": "code",
   "execution_count": null,
   "metadata": {},
   "outputs": [],
   "source": [
    "sns.catplot(x=tspan/60, y=CIk63, kind=\"box\")"
   ]
  },
  {
   "cell_type": "code",
   "execution_count": null,
   "metadata": {},
   "outputs": [],
   "source": [
    "sns.set_style(\"white\")\n",
    "kwargs = dict(hist_kws={'alpha':.6}, kde_kws={'linewidth':2})\n",
    "plt.figure()\n",
    "# baxes = brokenaxes(ylims=((0,800),(1000,1100)), hspace=.05)\n",
    "sns.distplot(CIk63, label ='CIk63',color=\"dodgerblue\", bins=30,  kde = False, **kwargs)\n",
    "sns.distplot(necrosome, label = 'necrosome',color=\"deeppink\", bins=30,  kde = False, **kwargs)\n",
    "sns.distplot(pmlkl, label = 'pMLKL',color=\"orange\", bins=30,  kde = False, **kwargs)\n",
    "# sns.distplot(CI_a20, label='uncluster',color=\"orange\", bins=25, **kwargs)\n",
    "# sns.distplot(CI_cyld, label='uncluster',color=\"deeppink\", bins=25, **kwargs)\n",
    "plt.xlabel('time (min)')\n",
    "plt.ylabel('Frequency')\n",
    "plt.legend(loc = 'best')\n",
    "plt.xlim(xmin = 0)\n",
    "plt.ylim(ymin = 0)\n",
    "right_side = ax.spines[\"right\"]\n",
    "right_side.set_visible(False)\n",
    "top = ax.spines[\"top\"]\n",
    "top.set_visible(False)\n",
    "# plt.savefig('k63_necrosome_pmlkl.pdf')\n",
    "plt.show()"
   ]
  },
  {
   "cell_type": "code",
   "execution_count": null,
   "metadata": {},
   "outputs": [],
   "source": [
    "sns.set_style(\"white\")\n",
    "kwargs = dict(hist_kws={'alpha':0.5})\n",
    "print('clus', np.mean(CI_k63))\n",
    "print('clus', np.std(CI_k63))\n",
    "fig, ax = plt.subplots()\n",
    "sns.distplot(CI_k63, label ='Complex I-Ub',color=\"dodgerblue\", bins=40,  kde = False, **kwargs)\n",
    "sns.distplot(CII, label ='Complex II',color=\"red\", bins=40,  kde = False, **kwargs)\n",
    "sns.distplot(CIIC8FL, label ='Complex II_C8Flip',color=\"green\", bins=40,  kde = False, **kwargs)\n",
    "sns.distplot(necrosome, label = 'Necrosome',color=\"deeppink\", bins=30,  kde = False, **kwargs)\n",
    "sns.distplot(clus1, label = 'pMLKL',color=\"orange\", bins=30,  kde = False, **kwargs)\n",
    "# sns.distplot(CI_a20, label='uncluster',color=\"orange\", bins=25, **kwargs)\n",
    "# sns.distplot(CI_cyld, label='uncluster',color=\"deeppink\", bins=25, **kwargs)\n",
    "plt.xlabel('Time (min)', fontsize = 14)\n",
    "plt.ylabel('Frequency', fontsize = 14)\n",
    "plt.legend(loc=\"upper right\", ncol = 3)\n",
    "# plt.xlim(xmin = 0, xmax = 1000)\n",
    "ax.spines['left'].set_linewidth(1.5)\n",
    "ax.spines['bottom'].set_linewidth(1.5)\n",
    "# plt.ylim(ymax = 0.04)\n",
    "right_side = ax.spines[\"right\"]\n",
    "right_side.set_visible(False)\n",
    "top = ax.spines[\"top\"]\n",
    "plt.tight_layout()\n",
    "top.set_visible(False)\n",
    "# plt.savefig('CIk63_necrosome_pmlkl_tnf100freq.pdf')\n",
    "plt.show()"
   ]
  },
  {
   "cell_type": "code",
   "execution_count": null,
   "metadata": {},
   "outputs": [],
   "source": [
    "import matplotlib.pyplot as plt\n",
    "import numpy as np\n",
    "\n",
    "\n",
    "# 30 points between [0, 0.2) originally made using np.random.rand(30)*.2\n",
    "pts = np.array([\n",
    "    0.015, 0.166, 0.133, 0.159, 0.041, 0.024, 0.195, 0.039, 0.161, 0.018,\n",
    "    0.143, 0.056, 0.125, 0.096, 0.094, 0.051, 0.043, 0.021, 0.138, 0.075,\n",
    "    0.109, 0.195, 0.050, 0.074, 0.079, 0.155, 0.020, 0.010, 0.061, 0.008])\n",
    "\n",
    "# Now let's make two outlier points which are far away from everything.\n",
    "pts[[3, 14]] += .8\n",
    "\n",
    "# If we were to simply plot pts, we'd lose most of the interesting\n",
    "# details due to the outliers. So let's 'break' or 'cut-out' the y-axis\n",
    "# into two portions - use the top (ax) for the outliers, and the bottom\n",
    "# (ax2) for the details of the majority of our data\n",
    "f, (ax, ax2) = plt.subplots(2, 1, sharex=True)\n",
    "\n",
    "# plot the same data on both axes\n",
    "ax.plot(pts)\n",
    "ax2.plot(pts)\n",
    "\n",
    "# zoom-in / limit the view to different portions of the data\n",
    "ax.set_ylim(.78, 1.)  # outliers only\n",
    "ax2.set_ylim(0, .22)  # most of the data\n",
    "\n",
    "# hide the spines between ax and ax2\n",
    "ax.spines['bottom'].set_visible(False)\n",
    "ax2.spines['top'].set_visible(False)\n",
    "ax.xaxis.tick_top()\n",
    "ax.tick_params(labeltop=False)  # don't put tick labels at the top\n",
    "ax2.xaxis.tick_bottom()\n",
    "\n",
    "# This looks pretty good, and was fairly painless, but you can get that\n",
    "# cut-out diagonal lines look with just a bit more work. The important\n",
    "# thing to know here is that in axes coordinates, which are always\n",
    "# between 0-1, spine endpoints are at these locations (0,0), (0,1),\n",
    "# (1,0), and (1,1).  Thus, we just need to put the diagonals in the\n",
    "# appropriate corners of each of our axes, and so long as we use the\n",
    "# right transform and disable clipping.\n",
    "\n",
    "d = .015  # how big to make the diagonal lines in axes coordinates\n",
    "# arguments to pass to plot, just so we don't keep repeating them\n",
    "kwargs = dict(transform=ax.transAxes, color='k', clip_on=False)\n",
    "ax.plot((-d, +d), (-d, +d), **kwargs)        # top-left diagonal\n",
    "ax.plot((1 - d, 1 + d), (-d, +d), **kwargs)  # top-right diagonal\n",
    "\n",
    "kwargs.update(transform=ax2.transAxes)  # switch to the bottom axes\n",
    "ax2.plot((-d, +d), (1 - d, 1 + d), **kwargs)  # bottom-left diagonal\n",
    "ax2.plot((1 - d, 1 + d), (1 - d, 1 + d), **kwargs)  # bottom-right diagonal\n",
    "\n",
    "# What's cool about this is that now if we vary the distance between\n",
    "# ax and ax2 via f.subplots_adjust(hspace=...) or plt.subplot_tool(),\n",
    "# the diagonal lines will move accordingly, and stay right at the tips\n",
    "# of the spines they are 'breaking'\n",
    "\n",
    "plt.show()"
   ]
  },
  {
   "cell_type": "code",
   "execution_count": null,
   "metadata": {},
   "outputs": [],
   "source": [
    "from brokenaxes import brokenaxes\n",
    "fig = plt.figure(figsize=(6,4))\n",
    "baxes = brokenaxes(xlims=((0,0.1),(0.4,0.7)), ylims=((-1,.7),(0.79,1)), hspace=.05)\n",
    "x = np.linspace(0,1,50)\n",
    "baxes.plot(x,np.sin(15*x),label=\"sin\")\n",
    "baxes.plot(x,np.cos(15*x),label=\"cos\")\n",
    "baxes.legend(loc=\"best\")\n",
    "plt.show()"
   ]
  },
  {
   "cell_type": "code",
   "execution_count": null,
   "metadata": {},
   "outputs": [],
   "source": [
    "sns.set_style(\"white\")\n",
    "kwargs = dict(hist_kws={'alpha':0.5})\n",
    "print('clus', np.mean(CI_k63))\n",
    "print('clus', np.std(CI_k63))\n",
    "fig, ax = plt.subplots()\n",
    "sns.distplot(CI_k63, label ='Complex I-Ub',color=\"dodgerblue\", bins=30,  kde = False, **kwargs)\n",
    "# sns.distplot(CII, label ='Complex II',color=\"red\", bins=40,  kde = False, **kwargs)\n",
    "# sns.distplot(CIIC8FL, label ='Complex II_C8Flip',color=\"green\", bins=40,  kde = False, **kwargs)\n",
    "# sns.distplot(necrosome, label = 'Necrosome',color=\"deeppink\", bins=30,  kde = False, **kwargs)\n",
    "# sns.distplot(clus1, label = 'pMLKL',color=\"orange\", bins=30,  kde = False, **kwargs)\n",
    "# sns.distplot(CI_a20, label='uncluster',color=\"orange\", bins=25, **kwargs)\n",
    "# sns.distplot(CI_cyld, label='uncluster',color=\"deeppink\", bins=25, **kwargs)\n",
    "plt.xlabel('Time (min)', fontsize = 14)\n",
    "plt.ylabel('Frequency', fontsize = 14)\n",
    "plt.legend(loc=\"upper right\", ncol = 3)\n",
    "plt.xlim(xmin = 0, xmax = 1400)\n",
    "ax.spines['left'].set_linewidth(1.5)\n",
    "ax.spines['bottom'].set_linewidth(1.5)\n",
    "plt.ylim(ymax = 200)\n",
    "right_side = ax.spines[\"right\"]\n",
    "right_side.set_visible(False)\n",
    "top = ax.spines[\"top\"]\n",
    "plt.tight_layout()\n",
    "top.set_visible(False)\n",
    "plt.savefig('CIk63_tnf100freq_clus1.pdf')\n",
    "plt.show()"
   ]
  },
  {
   "cell_type": "code",
   "execution_count": null,
   "metadata": {},
   "outputs": [],
   "source": [
    "sns.set_style(\"white\")\n",
    "kwargs = dict(hist_kws={'alpha':0.5})\n",
    "print('clus', np.mean(CI_k63))\n",
    "print('clus', np.std(CI_k63))\n",
    "fig, ax = plt.subplots()\n",
    "# sns.distplot(CI_k63, label ='Complex I-Ub',color=\"dodgerblue\", bins=40,  kde = False, **kwargs)\n",
    "sns.distplot(CII, label ='Complex II',color=\"red\", bins=30,  kde = False, **kwargs)\n",
    "# sns.distplot(CIIC8FL, label ='Complex II_C8Flip',color=\"green\", bins=40,  kde = False, **kwargs)\n",
    "# sns.distplot(necrosome, label = 'Necrosome',color=\"deeppink\", bins=30,  kde = False, **kwargs)\n",
    "# sns.distplot(clus1, label = 'pMLKL',color=\"orange\", bins=30,  kde = False, **kwargs)\n",
    "# sns.distplot(CI_a20, label='uncluster',color=\"orange\", bins=25, **kwargs)\n",
    "# sns.distplot(CI_cyld, label='uncluster',color=\"deeppink\", bins=25, **kwargs)\n",
    "plt.xlabel('Time (min)', fontsize = 14)\n",
    "plt.ylabel('Frequency', fontsize = 14)\n",
    "plt.legend(loc=\"upper right\", ncol = 3)\n",
    "plt.xlim(xmin = 0, xmax = 1400)\n",
    "plt.ylim(ymax = 400)\n",
    "ax.spines['left'].set_linewidth(1.5)\n",
    "ax.spines['bottom'].set_linewidth(1.5)\n",
    "# plt.ylim(ymax = 0.04)\n",
    "right_side = ax.spines[\"right\"]\n",
    "right_side.set_visible(False)\n",
    "top = ax.spines[\"top\"]\n",
    "plt.tight_layout()\n",
    "top.set_visible(False)\n",
    "# plt.savefig('CII_tnf100freq_clus1.pdf')\n",
    "plt.show()"
   ]
  },
  {
   "cell_type": "code",
   "execution_count": null,
   "metadata": {},
   "outputs": [],
   "source": []
  },
  {
   "cell_type": "code",
   "execution_count": null,
   "metadata": {},
   "outputs": [],
   "source": [
    "sns.set_style(\"white\")\n",
    "kwargs = dict(hist_kws={'alpha':0.5})\n",
    "print('clus', np.mean(CI_k63))\n",
    "print('clus', np.std(CI_k63))\n",
    "fig, ax = plt.subplots()\n",
    "# sns.distplot(CI_k63, label ='Complex I-Ub',color=\"dodgerblue\", bins=40,  kde = False, **kwargs)\n",
    "# sns.distplot(CII, label ='Complex II',color=\"red\", bins=40,  kde = False, **kwargs)\n",
    "sns.distplot(CIIC8FL, label ='Complex II_C8Flip',color=\"green\", bins=30,  kde = False, **kwargs)\n",
    "# sns.distplot(necrosome, label = 'Necrosome',color=\"deeppink\", bins=30,  kde = False, **kwargs)\n",
    "# sns.distplot(clus1, label = 'pMLKL',color=\"orange\", bins=30,  kde = False, **kwargs)\n",
    "# sns.distplot(CI_a20, label='uncluster',color=\"orange\", bins=25, **kwargs)\n",
    "# sns.distplot(CI_cyld, label='uncluster',color=\"deeppink\", bins=25, **kwargs)\n",
    "plt.xlabel('Time (min)', fontsize = 14)\n",
    "plt.ylabel('Frequency', fontsize = 14)\n",
    "plt.legend(loc=\"upper right\", ncol = 3)\n",
    "plt.xlim(xmin = 0, xmax = 1400)\n",
    "plt.ylim(ymax = 400)\n",
    "ax.spines['left'].set_linewidth(1.5)\n",
    "ax.spines['bottom'].set_linewidth(1.5)\n",
    "# plt.ylim(ymax = 0.04)\n",
    "right_side = ax.spines[\"right\"]\n",
    "right_side.set_visible(False)\n",
    "top = ax.spines[\"top\"]\n",
    "plt.tight_layout()\n",
    "top.set_visible(False)\n",
    "# plt.savefig('CII_C8bFlip_tnf100freq_clus1.pdf')\n",
    "plt.show()"
   ]
  },
  {
   "cell_type": "code",
   "execution_count": null,
   "metadata": {},
   "outputs": [],
   "source": [
    "sns.set_style(\"white\")\n",
    "kwargs = dict(hist_kws={'alpha':0.5})\n",
    "print('clus', np.mean(CI_k63))\n",
    "print('clus', np.std(CI_k63))\n",
    "fig, ax = plt.subplots()\n",
    "# sns.distplot(CI_k63, label ='Complex I-Ub',color=\"dodgerblue\", bins=40,  kde = False, **kwargs)\n",
    "# sns.distplot(CII, label ='Complex II',color=\"red\", bins=40,  kde = False, **kwargs)\n",
    "sns.distplot(CIIC8FL, label ='Complex II_C8Flip',color=\"green\", bins=30,  kde = False, **kwargs)\n",
    "# sns.distplot(necrosome, label = 'Necrosome',color=\"deeppink\", bins=30,  kde = False, **kwargs)\n",
    "# sns.distplot(clus1, label = 'pMLKL',color=\"orange\", bins=30,  kde = False, **kwargs)\n",
    "# sns.distplot(CI_a20, label='uncluster',color=\"orange\", bins=25, **kwargs)\n",
    "# sns.distplot(CI_cyld, label='uncluster',color=\"deeppink\", bins=25, **kwargs)\n",
    "plt.xlabel('Time (min)', fontsize = 14)\n",
    "plt.ylabel('Frequency', fontsize = 14)\n",
    "plt.legend(loc=\"upper right\", ncol = 3)\n",
    "plt.xlim(xmin = 0)\n",
    "plt.ylim(ymax = 400)\n",
    "ax.spines['left'].set_linewidth(1.5)\n",
    "ax.spines['bottom'].set_linewidth(1.5)\n",
    "# plt.ylim(ymax = 0.04)\n",
    "right_side = ax.spines[\"right\"]\n",
    "right_side.set_visible(False)\n",
    "top = ax.spines[\"top\"]\n",
    "plt.tight_layout()\n",
    "top.set_visible(False)\n",
    "# plt.savefig('CII_C8_Flip_tnf100freq_clus1.pdf')\n",
    "plt.show()"
   ]
  },
  {
   "cell_type": "code",
   "execution_count": null,
   "metadata": {},
   "outputs": [],
   "source": [
    "sns.set_style(\"white\")\n",
    "kwargs = dict(hist_kws={'alpha':0.5})\n",
    "print('clus', np.mean(CI_k63))\n",
    "print('clus', np.std(CI_k63))\n",
    "fig, ax = plt.subplots()\n",
    "# sns.distplot(CI_k63, label ='Complex I-Ub',color=\"dodgerblue\", bins=40,  kde = False, **kwargs)\n",
    "# sns.distplot(CII, label ='Complex II',color=\"red\", bins=40,  kde = False, **kwargs)\n",
    "# sns.distplot(CIIC8FL, label ='Complex II_C8Flip',color=\"green\", bins=40,  kde = False, **kwargs)\n",
    "sns.distplot(necrosome, label = 'Necrosome',color=\"deeppink\", bins=30,  kde = False, **kwargs)\n",
    "# sns.distplot(clus1, label = 'pMLKL',color=\"orange\", bins=30,  kde = False, **kwargs)\n",
    "# sns.distplot(CI_a20, label='uncluster',color=\"orange\", bins=25, **kwargs)\n",
    "# sns.distplot(CI_cyld, label='uncluster',color=\"deeppink\", bins=25, **kwargs)\n",
    "plt.xlabel('Time (min)', fontsize = 14)\n",
    "plt.ylabel('Frequency', fontsize = 14)\n",
    "plt.legend(loc=\"upper right\", ncol = 3)\n",
    "plt.xlim(xmin = 0, xmax = 1400)\n",
    "ax.spines['left'].set_linewidth(1.5)\n",
    "ax.spines['bottom'].set_linewidth(1.5)\n",
    "plt.ylim(ymax = 400)\n",
    "right_side = ax.spines[\"right\"]\n",
    "right_side.set_visible(False)\n",
    "top = ax.spines[\"top\"]\n",
    "plt.tight_layout()\n",
    "top.set_visible(False)\n",
    "# plt.savefig('Necrosome_tnf100freq_clus1.pdf')\n",
    "plt.show()"
   ]
  },
  {
   "cell_type": "code",
   "execution_count": null,
   "metadata": {},
   "outputs": [],
   "source": [
    "sns.set_style(\"white\")\n",
    "kwargs = dict(hist_kws={'alpha':0.5})\n",
    "print('clus', np.mean(CI_k63))\n",
    "print('clus', np.std(CI_k63))\n",
    "fig, ax = plt.subplots()\n",
    "# sns.distplot(CI_k63, label ='Complex I-Ub',color=\"dodgerblue\", bins=40,  kde = False, **kwargs)\n",
    "# sns.distplot(CII, label ='Complex II',color=\"red\", bins=40,  kde = False, **kwargs)\n",
    "# sns.distplot(CIIC8FL, label ='Complex II_C8Flip',color=\"green\", bins=40,  kde = False, **kwargs)\n",
    "# sns.distplot(necrosome, label = 'Necrosome',color=\"deeppink\", bins=30,  kde = False, **kwargs)\n",
    "sns.distplot(clus1, label = 'pMLKL',color=\"orange\", bins=30,  kde = False, **kwargs)\n",
    "# sns.distplot(CI_a20, label='uncluster',color=\"orange\", bins=25, **kwargs)\n",
    "# sns.distplot(CI_cyld, label='uncluster',color=\"deeppink\", bins=25, **kwargs)\n",
    "plt.xlabel('Time (min)', fontsize = 14)\n",
    "plt.ylabel('Frequency', fontsize = 14)\n",
    "plt.legend(loc=\"upper right\", ncol = 3)\n",
    "plt.xlim(xmin = 0, xmax = 1400)\n",
    "plt.ylim(ymax = 800)\n",
    "ax.spines['left'].set_linewidth(1.5)\n",
    "ax.spines['bottom'].set_linewidth(1.5)\n",
    "# plt.ylim(ymax = 0.04)\n",
    "right_side = ax.spines[\"right\"]\n",
    "right_side.set_visible(False)\n",
    "top = ax.spines[\"top\"]\n",
    "plt.tight_layout()\n",
    "top.set_visible(False)\n",
    "# plt.savefig('pmlkl_tnf100freq_clus1.pdf')\n",
    "plt.show()"
   ]
  },
  {
   "cell_type": "code",
   "execution_count": null,
   "metadata": {},
   "outputs": [],
   "source": [
    "c1df100wt.iloc[:, : 37]"
   ]
  },
  {
   "cell_type": "code",
   "execution_count": null,
   "metadata": {},
   "outputs": [],
   "source": [
    "vt = VisualizeSimulations(model, wtclus1, clusters=None)"
   ]
  },
  {
   "cell_type": "code",
   "execution_count": null,
   "metadata": {},
   "outputs": [],
   "source": [
    "rate_params = model.parameters_rules()\n",
    "rate_mask = np.array([p in rate_params for p in model.parameters])\n",
    "idx_calibrated_pars = [0, 1, 2, 3, 4, 5] \n",
    "\n",
    "kinetic_pars = vt.all_parameters[:,idx_calibrated_pars]\n",
    "M = len(kinetic_pars)"
   ]
  },
  {
   "cell_type": "code",
   "execution_count": null,
   "metadata": {},
   "outputs": [],
   "source": [
    "import seaborn as sns\n",
    "plt.figure(figsize=(8,6))\n",
    "all_pars_cov = np.corrcoef(kinetic_pars[:], rowvar=False)\n",
    "# less_50 = all_pars_cov <= 0.5\n",
    "sns.heatmap(all_pars_cov, annot=True)"
   ]
  },
  {
   "cell_type": "code",
   "execution_count": null,
   "metadata": {},
   "outputs": [],
   "source": [
    "# Plot\n",
    "plt.figure(figsize=(20,20), dpi= 80)\n",
    "sns.heatmap(df.corr(), xticklabels=df.corr().columns, \n",
    "            yticklabels=df.corr().columns, cmap='RdYlGn', center=0, annot=True, fmt=\".2\",\n",
    "           cbar_kws={\"orientation\": \"horizontal\"})\n",
    "\n",
    "# Decorations\n",
    "plt.title('Correlogram of NERM pars', fontsize=22)\n",
    "plt.xticks(fontsize=12)\n",
    "plt.yticks(fontsize=12)\n",
    "plt.show()"
   ]
  },
  {
   "cell_type": "code",
   "execution_count": null,
   "metadata": {},
   "outputs": [],
   "source": [
    "# Plot\n",
    "plt.figure(figsize=(25,20), dpi= 80)\n",
    "sns.heatmap(c1df100wt.iloc[:, : 37].corr(), xticklabels=c1df100wt.iloc[:, : 37].corr().columns, \n",
    "            yticklabels=c1df100wt.iloc[:, : 37].corr().columns, cmap='RdYlGn', center=0, annot=True, fmt=\".2\",\n",
    "           cbar_kws={\"orientation\": \"horizontal\"})\n",
    "\n",
    "# Decorations\n",
    "plt.title('Correlation of NERM species', fontsize=22)\n",
    "plt.xticks(fontsize=12)\n",
    "plt.yticks(fontsize=12)\n",
    "plt.savefig('correlation_nerm_species.pdf')\n",
    "plt.show()"
   ]
  },
  {
   "cell_type": "code",
   "execution_count": null,
   "metadata": {},
   "outputs": [],
   "source": [
    "plt.figure(figsize=(8,6))\n",
    "all_pars_cov1 = np.corrcoef(pars, rowvar=False)\n",
    "# less_501 = all_pars_cov1 <= 0.5\n",
    "sns.heatmap(all_pars_cov1,  annot=True)"
   ]
  },
  {
   "cell_type": "code",
   "execution_count": null,
   "metadata": {},
   "outputs": [],
   "source": [
    "fig, ax = plt.subplots(figsize = (5,4))\n",
    "\n",
    "c_op1 = 0 # Index for Mode 1\n",
    "c_op2 = 1 # Index for Mode 2\n",
    "my_pal = {\"CI_k63\": \"dodgerblue\", \"necrosome\": \"deeppink\", \"clus1\": \"orange\"}\n",
    "sns.violinplot(data=[CI_k63, necrosome, clus1],\n",
    "               scale='count', palette=['dodgerblue', 'deeppink', 'orange'], ax=ax)\n",
    "\n",
    "labels=['CI_k63ub', 'Necrosome', 'pMLKL']\n",
    "\n",
    "ax.set_ylabel('Time', fontsize=16)\n",
    "ax.set_xlabel('Execution mode', fontsize=16)\n",
    "ax.tick_params(axis='both', which='major', labelsize=16)\n",
    "ax.tick_params(axis='both', which='minor', labelsize=16)\n",
    "ax.set_xticklabels(labels)\n",
    "plt.xticks(rotation='vertical')\n",
    "plt.tight_layout()\n",
    "# plt.legend(loc='')\n",
    "fig.savefig('k63_necrosome_pmlkl_violin.pdf')"
   ]
  },
  {
   "cell_type": "code",
   "execution_count": null,
   "metadata": {},
   "outputs": [],
   "source": [
    "clus0 = []\n",
    "clus_idxs = np.array(range(wtclus0.nsims))\n",
    "for idx in clus_idxs: \n",
    "    mlkl_traj = wtclus0.observables[idx]['MLKLa_obs']\n",
    "    ysim_mlkl_norm = mlkl_traj / np.nanmax(mlkl_traj)\n",
    "    st, sc, sk = scipy.interpolate.splrep(tspan, ysim_mlkl_norm)\n",
    "    try:\n",
    "        t10 = scipy.interpolate.sproot((st, sc - 0.10, sk))[0]\n",
    "        t90 = scipy.interpolate.sproot((st, sc - 0.90, sk))[0]\n",
    "    except IndexError:\n",
    "        t10 = 0\n",
    "        t90 = 0\n",
    "\n",
    "    # time of death  = halfway point between 10 and 90%\n",
    "    td = (t10 + t90) / 2\n",
    "    clus0.append(td)"
   ]
  },
  {
   "cell_type": "code",
   "execution_count": null,
   "metadata": {},
   "outputs": [],
   "source": [
    "print('clus', np.mean(clus0))\n",
    "print('clus', np.std(clus0))\n",
    "plt.hist(clus0, label='uncluster', bins=25, alpha=0.5)"
   ]
  },
  {
   "cell_type": "code",
   "execution_count": null,
   "metadata": {},
   "outputs": [],
   "source": [
    "clus1 = []\n",
    "clus_idxs = np.array(range(wtclus1.nsims))\n",
    "for idx in clus_idxs: \n",
    "    mlkl_traj = wtclus1.observables[idx]['MLKLa_obs']\n",
    "    ysim_mlkl_norm = mlkl_traj / np.nanmax(mlkl_traj)\n",
    "    st, sc, sk = scipy.interpolate.splrep(tspan, ysim_mlkl_norm)\n",
    "    try:\n",
    "        t10 = scipy.interpolate.sproot((st, sc - 0.10, sk))[0]\n",
    "        t90 = scipy.interpolate.sproot((st, sc - 0.90, sk))[0]\n",
    "    except IndexError:\n",
    "        t10 = 0\n",
    "        t90 = 0\n",
    "\n",
    "    # time of death  = halfway point between 10 and 90%\n",
    "    td = (t10 + t90) / 2\n",
    "    clus1.append(td)"
   ]
  },
  {
   "cell_type": "code",
   "execution_count": null,
   "metadata": {},
   "outputs": [],
   "source": [
    "print('clus', np.mean(clus1))\n",
    "print('clus', np.std(clus1))\n",
    "plt.hist(clus1, label='uncluster', bins=25, alpha=0.5)"
   ]
  },
  {
   "cell_type": "code",
   "execution_count": null,
   "metadata": {},
   "outputs": [],
   "source": [
    "clus2 = []\n",
    "clus_idxs = np.array(range(wtclus2.nsims))\n",
    "for idx in clus_idxs: \n",
    "    mlkl_traj = wtclus2.observables[idx]['MLKLa_obs']\n",
    "    ysim_mlkl_norm = mlkl_traj / np.nanmax(mlkl_traj)\n",
    "    st, sc, sk = scipy.interpolate.splrep(tspan, ysim_mlkl_norm)\n",
    "    try:\n",
    "        t10 = scipy.interpolate.sproot((st, sc - 0.10, sk))[0]\n",
    "        t90 = scipy.interpolate.sproot((st, sc - 0.90, sk))[0]\n",
    "    except IndexError:\n",
    "        t10 = 0\n",
    "        t90 = 0\n",
    "\n",
    "    # time of death  = halfway point between 10 and 90%\n",
    "    td = (t10 + t90) / 2\n",
    "    clus2.append(td)"
   ]
  },
  {
   "cell_type": "code",
   "execution_count": null,
   "metadata": {},
   "outputs": [],
   "source": [
    "print('clus', np.mean(clus2))\n",
    "print('clus', np.std(clus2))\n",
    "plt.hist(clus2, label='uncluster', bins=25, alpha=0.5)"
   ]
  },
  {
   "cell_type": "code",
   "execution_count": null,
   "metadata": {},
   "outputs": [],
   "source": [
    "clus3 = []\n",
    "clus_idxs = np.array(range(wtclus3.nsims))\n",
    "for idx in clus_idxs: \n",
    "    mlkl_traj = wtclus3.observables[idx]['MLKLa_obs']\n",
    "    ysim_mlkl_norm = mlkl_traj / np.nanmax(mlkl_traj)\n",
    "    st, sc, sk = scipy.interpolate.splrep(tspan, ysim_mlkl_norm)\n",
    "    try:\n",
    "        t10 = scipy.interpolate.sproot((st, sc - 0.10, sk))[0]\n",
    "        t90 = scipy.interpolate.sproot((st, sc - 0.90, sk))[0]\n",
    "    except IndexError:\n",
    "        t10 = 0\n",
    "        t90 = 0\n",
    "\n",
    "    # time of death  = halfway point between 10 and 90%\n",
    "    td = (t10 + t90) / 2\n",
    "    clus3.append(td)"
   ]
  },
  {
   "cell_type": "code",
   "execution_count": null,
   "metadata": {},
   "outputs": [],
   "source": [
    "print('clus', np.mean(clus3))\n",
    "print('clus', np.std(clus3))\n",
    "plt.hist(clus3, label='uncluster', bins=25, alpha=0.5)"
   ]
  },
  {
   "cell_type": "code",
   "execution_count": null,
   "metadata": {},
   "outputs": [],
   "source": [
    "fig, ax = plt.subplots()\n",
    "\n",
    "c_op1 = 0 # Index for Mode 1\n",
    "c_op2 = 1 # Index for Mode 2\n",
    "sns.violinplot(data=[clus0, clus1, clus2, clus3],\n",
    "               scale='count', color='#b1cfe4', ax=ax)\n",
    "\n",
    "labels=[f'{c_op1+1} Clus0', f'{c_op1+1} Clus1', f'{c_op1+1} Clus2', \n",
    "        f'{c_op1+1} Clus3']\n",
    "\n",
    "ax.set_ylabel('Time', fontsize=16)\n",
    "ax.set_xlabel('Execution mode', fontsize=16)\n",
    "ax.tick_params(axis='both', which='major', labelsize=16)\n",
    "ax.tick_params(axis='both', which='minor', labelsize=16)\n",
    "ax.set_xticklabels(labels)\n",
    "plt.xticks(rotation='vertical')\n",
    "# plt.legend(loc=2)\n",
    "# fig.savefig('bcl2_mcl1_kd_mode1_mode2.png', bbox_inches='tight', dpi=150)"
   ]
  },
  {
   "cell_type": "code",
   "execution_count": null,
   "metadata": {},
   "outputs": [],
   "source": [
    "plt.figure(figsize=(4,8), dpi=150)\n",
    "plt.barh(y=[0, 2, 4, 6], \n",
    "         width=[np.mean(clus0), np.mean(clus1),\n",
    "                np.mean(clus2), np.mean(clus3)],\n",
    "        tick_label=['Clus0', 'Clus1', 'Clus2', 'Clus3'],\n",
    "        xerr=[np.std(clus0), np.std(clus1),\n",
    "              np.std(clus2), np.std(clus3)],\n",
    "        capsize=4)\n",
    "\n",
    "plt.xticks(fontsize=14, rotation=45)\n",
    "plt.yticks(fontsize=14)\n",
    "plt.xlabel('Time(s)', fontsize=14)\n",
    "plt.ylabel('Execution modes', fontsize=16)\n",
    "# plt.xlim(0, 13000)\n",
    "# plt.savefig('barplot_time_death_clusters.png', bbox_inches='tight', dpi=150)\n",
    "plt.show()"
   ]
  },
  {
   "cell_type": "code",
   "execution_count": null,
   "metadata": {},
   "outputs": [],
   "source": [
    "plt.figure()\n",
    "for n in range(len(clus1_100)):\n",
    "    plt.plot(tspan/60, c1df100wt.loc[n]['MLKLa_obs'].iloc[:], lw=1.5, color ='blue', zorder = 1, alpha = 0.5)\n",
    "plt.xlabel(\"Time (in hr)\", fontsize=15)\n",
    "plt.ylabel(\"Amount (normalized)\", fontsize=15)\n",
    "# plt.xlim(xmin = 0, xmax = 24)\n",
    "plt.xticks(fontsize=14)\n",
    "plt.yticks(fontsize=14)\n",
    "plt.show()      "
   ]
  },
  {
   "cell_type": "code",
   "execution_count": null,
   "metadata": {},
   "outputs": [],
   "source": [
    "for i,n in enumerate(np.linspace(0, 1800, 500)):\n",
    "    print(i,\":\",n)"
   ]
  },
  {
   "cell_type": "code",
   "execution_count": null,
   "metadata": {},
   "outputs": [],
   "source": [
    "sim_idx_0_120 = [idx for idx in range(len(clus0_100)) if c0df100wt['MLKLa_obs'][idx].iloc[0] <= 2772\n",
    "                  and c0df100wt['MLKLa_obs'][idx].iloc[33] >= 2772]\n",
    "\n",
    "sim_idx_120_240 = [idx for idx in range(len(clus0_100)) if c0df100wt['MLKLa_obs'][idx].iloc[33] <= 2772\n",
    "                  and c0df100wt['MLKLa_obs'][idx].iloc[67] >= 2772]\n",
    "\n",
    "sim_idx_240_360 = [idx for idx in range(len(clus0_100)) if c0df100wt['MLKLa_obs'][idx].iloc[67] <= 2772\n",
    "                  and c0df100wt['MLKLa_obs'][idx].iloc[100] >= 2772]\n",
    "\n",
    "sim_idx_360_480 = [idx for idx in range(len(clus0_100)) if c0df100wt['MLKLa_obs'][idx].iloc[100] <= 2772\n",
    "                  and c0df100wt['MLKLa_obs'][idx].iloc[133] >= 2772]\n",
    "\n",
    "sim_idx_480_600 = [idx for idx in range(len(clus0_100)) if c0df100wt['MLKLa_obs'][idx].iloc[133] <= 2772\n",
    "                  and c0df100wt['MLKLa_obs'][idx].iloc[167] >= 2772]\n",
    "\n",
    "sim_idx_600_720 = [idx for idx in range(len(clus0_100)) if c0df100wt['MLKLa_obs'][idx].iloc[167] <= 2772 \n",
    "                     and c0df100wt['MLKLa_obs'][idx].iloc[200] >= 2772]\n",
    "\n",
    "sim_idx_720_840 = [idx for idx in range(len(clus0_100)) if c0df100wt['MLKLa_obs'][idx].iloc[200] <= 2772 \n",
    "                     and c0df100wt['MLKLa_obs'][idx].iloc[233] >= 2772]\n",
    "\n",
    "sim_idx_840_960 = [idx for idx in range(len(clus0_100)) if c0df100wt['MLKLa_obs'][idx].iloc[233] <= 2772 \n",
    "                     and c0df100wt['MLKLa_obs'][idx].iloc[266] >= 2772]\n",
    "\n",
    "sim_idx_960_1080 = [idx for idx in range(len(clus0_100)) if c0df100wt['MLKLa_obs'][idx].iloc[266] <= 2772 \n",
    "                     and c0df100wt['MLKLa_obs'][idx].iloc[300] >= 2772]\n",
    "\n",
    "sim_idx_1080_1200 = [idx for idx in range(len(clus0_100)) if c0df100wt['MLKLa_obs'][idx].iloc[300] <= 2772\n",
    "                     and c0df100wt['MLKLa_obs'][idx].iloc[333] >= 2772]\n",
    "\n",
    "sim_idx_1200_1320 = [idx for idx in range(len(clus0_100)) if c0df100wt['MLKLa_obs'][idx].iloc[333] <= 2772\n",
    "                     and c0df100wt['MLKLa_obs'][idx].iloc[366] >= 2772]\n",
    "\n",
    "sim_idx_1320_1440 = [idx for idx in range(len(clus0_100)) if c0df100wt['MLKLa_obs'][idx].iloc[366] <= 2772\n",
    "                     and c0df100wt['MLKLa_obs'][idx].iloc[400] >= 2772]\n",
    "\n",
    "print(len(sim_idx_0_120))\n",
    "print(len(sim_idx_120_240))\n",
    "print(len(sim_idx_240_360))\n",
    "print(len(sim_idx_360_480))\n",
    "print(len(sim_idx_480_600))\n",
    "print(len(sim_idx_600_720))\n",
    "print(len(sim_idx_720_840))\n",
    "print(len(sim_idx_840_960))\n",
    "print(len(sim_idx_960_1080))\n",
    "print(len(sim_idx_1080_1200))\n",
    "print(len(sim_idx_1200_1320))\n",
    "print(len(sim_idx_1320_1440))"
   ]
  },
  {
   "cell_type": "code",
   "execution_count": null,
   "metadata": {},
   "outputs": [],
   "source": [
    "sim_idx_0_120 = [idx for idx in range(len(clus0_100)) if c0df100wt['MLKLa_obs'][idx].iloc[0] < 2772\n",
    "                  and c0df100wt['MLKLa_obs'][idx].iloc[33] > 2772]\n",
    "\n",
    "sim_idx_120_240 = [idx for idx in range(len(clus0_100)) if c0df100wt['MLKLa_obs'][idx].iloc[33] < 2772\n",
    "                  and c0df100wt['MLKLa_obs'][idx].iloc[67] > 2772]\n",
    "\n",
    "sim_idx_240_360 = [idx for idx in range(len(clus0_100)) if c0df100wt['MLKLa_obs'][idx].iloc[67] < 2772\n",
    "                  and c0df100wt['MLKLa_obs'][idx].iloc[100] > 2772]\n",
    "\n",
    "sim_idx_360_480 = [idx for idx in range(len(clus0_100)) if c0df100wt['MLKLa_obs'][idx].iloc[100] < 2772\n",
    "                  and c0df100wt['MLKLa_obs'][idx].iloc[133] > 2772]\n",
    "\n",
    "sim_idx_480_600 = [idx for idx in range(len(clus0_100)) if c0df100wt['MLKLa_obs'][idx].iloc[133] < 2772\n",
    "                  and c0df100wt['MLKLa_obs'][idx].iloc[167] > 2772]\n",
    "\n",
    "sim_idx_600_720 = [idx for idx in range(len(clus0_100)) if c0df100wt['MLKLa_obs'][idx].iloc[167] < 2772 \n",
    "                     and c0df100wt['MLKLa_obs'][idx].iloc[200] > 2772]\n",
    "\n",
    "sim_idx_720_840 = [idx for idx in range(len(clus0_100)) if c0df100wt['MLKLa_obs'][idx].iloc[200] < 2772 \n",
    "                     and c0df100wt['MLKLa_obs'][idx].iloc[233] > 2772]\n",
    "\n",
    "sim_idx_840_960 = [idx for idx in range(len(clus0_100)) if c0df100wt['MLKLa_obs'][idx].iloc[233] < 2772 \n",
    "                     and c0df100wt['MLKLa_obs'][idx].iloc[266] > 2772]\n",
    "\n",
    "sim_idx_960_1080 = [idx for idx in range(len(clus0_100)) if c0df100wt['MLKLa_obs'][idx].iloc[266] < 2772 \n",
    "                     and c0df100wt['MLKLa_obs'][idx].iloc[300] > 2772]\n",
    "\n",
    "sim_idx_1080_1200 = [idx for idx in range(len(clus0_100)) if c0df100wt['MLKLa_obs'][idx].iloc[300] < 2772\n",
    "                     and c0df100wt['MLKLa_obs'][idx].iloc[333] > 2772]\n",
    "\n",
    "sim_idx_1200_1320 = [idx for idx in range(len(clus0_100)) if c0df100wt['MLKLa_obs'][idx].iloc[333] < 2772\n",
    "                     and c0df100wt['MLKLa_obs'][idx].iloc[366] > 2772]\n",
    "\n",
    "sim_idx_1320_1440 = [idx for idx in range(len(clus0_100)) if c0df100wt['MLKLa_obs'][idx].iloc[366] < 2772\n",
    "                     and c0df100wt['MLKLa_obs'][idx].iloc[400] > 2772]\n",
    "\n",
    "print(len(sim_idx_0_120))\n",
    "print(len(sim_idx_120_240))\n",
    "print(len(sim_idx_240_360))\n",
    "print(len(sim_idx_360_480))\n",
    "print(len(sim_idx_480_600))\n",
    "print(len(sim_idx_600_720))\n",
    "print(len(sim_idx_720_840))\n",
    "print(len(sim_idx_840_960))\n",
    "print(len(sim_idx_960_1080))\n",
    "print(len(sim_idx_1080_1200))\n",
    "print(len(sim_idx_1200_1320))\n",
    "print(len(sim_idx_1320_1440))"
   ]
  },
  {
   "cell_type": "code",
   "execution_count": null,
   "metadata": {},
   "outputs": [],
   "source": [
    "list1 = [0, 2, [4]*6, [6]*44, [44]*808, [8]*2566, [10]*155, [12]*16, [14]*8, [16]*3, [18]*1, [20]*1, [22]*1, [24]*1]\n",
    "plt.figure()\n",
    "plt.hist(list1, 5)"
   ]
  },
  {
   "cell_type": "code",
   "execution_count": null,
   "metadata": {},
   "outputs": [],
   "source": [
    "bins = [0, 2, [4]*6, [6]*44,44, 8, 10, 12, 14, 16, 18, 20, 22, 24]\n",
    "freq = [0, 0, 6, 44, 808, 2566, 155, 16, 8, 3, 1, 1]\n",
    "plt.figure() \n",
    "plt.hist(freq, 5)\n",
    "plt.show()"
   ]
  },
  {
   "cell_type": "code",
   "execution_count": null,
   "metadata": {},
   "outputs": [],
   "source": [
    "x = (0, 2, 4, 6, 8, 10, 12, 14, 16, 18, 20, 22, 24)\n",
    "y = (0/3644, 0/3644, 6/3644, 44/3644, 808/3644, 2566/3644, 155/3644, 16/3644, 8/3644, 3/3644, 1/3644, 1/3644,1/3644)\n",
    "\n",
    "plt.bar(x,y,align='edge', width = 1) # A bar chart\n",
    "plt.xlabel('Bins')\n",
    "plt.ylabel('Frequency')\n",
    "plt.tight_layout()\n",
    "plt.show()"
   ]
  },
  {
   "cell_type": "code",
   "execution_count": null,
   "metadata": {},
   "outputs": [],
   "source": [
    "print(len(x))\n",
    "print(len(y))"
   ]
  },
  {
   "cell_type": "code",
   "execution_count": null,
   "metadata": {},
   "outputs": [],
   "source": [
    "print(len(clus0_100))"
   ]
  },
  {
   "cell_type": "code",
   "execution_count": null,
   "metadata": {},
   "outputs": [],
   "source": [
    "percent = 2566/3644\n",
    "percent"
   ]
  },
  {
   "cell_type": "code",
   "execution_count": null,
   "metadata": {},
   "outputs": [],
   "source": [
    "sim_idx_to_keep = [idx for idx in range(len(all_pars2)) if df10['Flip_obs'][idx].iloc[-1] < 3000]\n",
    "print(len(sim_idx_to_keep))"
   ]
  },
  {
   "cell_type": "code",
   "execution_count": null,
   "metadata": {},
   "outputs": [],
   "source": []
  },
  {
   "cell_type": "code",
   "execution_count": null,
   "metadata": {},
   "outputs": [],
   "source": [
    "print(c0df100wt['CI_k63_obs'].max())\n",
    "print(c0df100wt['A20_CI_obs'].max())\n",
    "print(c0df100wt['CYLD_CI_obs'].max())"
   ]
  },
  {
   "cell_type": "code",
   "execution_count": null,
   "metadata": {},
   "outputs": [],
   "source": [
    "print(range(len(clus0_100[0])))"
   ]
  },
  {
   "cell_type": "code",
   "execution_count": null,
   "metadata": {},
   "outputs": [],
   "source": [
    "plt.figure()\n",
    "for n in range(len(clus1_100)):\n",
    "    plt.plot(tspan/60,c1df100wt.loc[n]['CI_k63_obs'].iloc[:], lw=1.5, zorder = 1, alpha = 0.5)\n",
    "plt.xlabel(\"Time (in hr)\", fontsize=15)\n",
    "plt.ylabel(\"Amount (normalized)\", fontsize=15)\n",
    "# plt.xlim(xmin = 0, xmax = 24)\n",
    "plt.xticks(fontsize=14)\n",
    "plt.yticks(fontsize=14)\n",
    "plt.show()  "
   ]
  },
  {
   "cell_type": "code",
   "execution_count": null,
   "metadata": {},
   "outputs": [],
   "source": [
    "plt.figure()\n",
    "for n in range(len(clus1_100)):\n",
    "    plt.plot(tspan/60,c1df100wt.loc[n]['A20_CI_obs'].iloc[:], lw=1.5, zorder = 1, alpha = 0.5)\n",
    "plt.xlabel(\"Time (in hr)\", fontsize=15)\n",
    "plt.ylabel(\"Amount (normalized)\", fontsize=15)\n",
    "# plt.xlim(xmin = 0, xmax = 24)\n",
    "plt.xticks(fontsize=14)\n",
    "plt.yticks(fontsize=14)\n",
    "plt.show() "
   ]
  },
  {
   "cell_type": "code",
   "execution_count": null,
   "metadata": {},
   "outputs": [],
   "source": [
    "plt.figure()\n",
    "for n in range(len(clus1_100)):\n",
    "    plt.plot(tspan/60,c1df100wt.loc[n]['CYLD_CI_obs'].iloc[:], lw=1.5, zorder = 1, alpha = 0.5)\n",
    "plt.xlabel(\"Time (in hr)\", fontsize=15)\n",
    "plt.ylabel(\"Amount (normalized)\", fontsize=15)\n",
    "# plt.xlim(xmin = 0, xmax = 24)\n",
    "plt.xticks(fontsize=14)\n",
    "plt.yticks(fontsize=14)\n",
    "plt.show() "
   ]
  },
  {
   "cell_type": "code",
   "execution_count": null,
   "metadata": {},
   "outputs": [],
   "source": []
  },
  {
   "cell_type": "code",
   "execution_count": null,
   "metadata": {},
   "outputs": [],
   "source": [
    "plt.figure()\n",
    "for n in range(len(clus0_100[4:5])):\n",
    "    plt.plot(c0df100wt.loc[n]['CI_k63_obs'].iloc[:], c0df100wt.loc[n]['MLKLa_obs'].iloc[:], lw=1.5, zorder = 1, alpha = 0.5)\n",
    "plt.xlabel(\"CI_K63\", fontsize=15)\n",
    "plt.ylabel(\"pMLKL\", fontsize=15)\n",
    "# plt.xlim(xmin = 0, xmax = 24)\n",
    "plt.xticks(fontsize=14)\n",
    "plt.yticks(fontsize=14)\n",
    "plt.show()    "
   ]
  },
  {
   "cell_type": "code",
   "execution_count": null,
   "metadata": {},
   "outputs": [],
   "source": [
    "c0df100wt['R1pR3pM_obs'].max()"
   ]
  },
  {
   "cell_type": "code",
   "execution_count": null,
   "metadata": {},
   "outputs": [],
   "source": [
    "plt.figure()\n",
    "for n in range(len(clus0_100)):\n",
    "    plt.plot(c0df100wt.loc[n]['MLKLa_obs'].iloc[:], c0df100wt.loc[n]['R1pR3pM_obs'].iloc[:], lw=1.5, zorder = 1, alpha = 0.5)\n",
    "plt.xlabel(\"CI_K63\", fontsize=15)\n",
    "plt.ylabel(\"pMLKL\", fontsize=15)\n",
    "# plt.xlim(xmin = 0, xmax = 24)\n",
    "plt.xticks(fontsize=14)\n",
    "plt.yticks(fontsize=14)\n",
    "plt.show() "
   ]
  },
  {
   "cell_type": "code",
   "execution_count": null,
   "metadata": {},
   "outputs": [],
   "source": [
    "plt.figure()\n",
    "for n in range(len(clus0_100)):\n",
    "    plt.plot(tspan/60, c0df100wt.loc[n]['R1pR3pM_obs'].iloc[:], lw=1.5, zorder = 1, alpha = 0.5)\n",
    "plt.xlabel(\"CI_K63\", fontsize=15)\n",
    "plt.ylabel(\"pMLKL\", fontsize=15)\n",
    "# plt.xlim(xmin = 0, xmax = 24)\n",
    "plt.xticks(fontsize=14)\n",
    "plt.yticks(fontsize=14)\n",
    "plt.show() "
   ]
  },
  {
   "cell_type": "code",
   "execution_count": null,
   "metadata": {},
   "outputs": [],
   "source": [
    "plt.figure()\n",
    "for n in range(len(clus0_100[4:5])):\n",
    "    plt.plot(tspan/60, c0df100wt.loc[n]['CI_k63_obs'].iloc[:], lw=1.5, zorder = 1, alpha = 0.5)\n",
    "plt.xlabel(\"CI_K63\", fontsize=15)\n",
    "plt.ylabel(\"pMLKL\", fontsize=15)\n",
    "# plt.xlim(xmin = 0, xmax = 24)\n",
    "plt.xticks(fontsize=14)\n",
    "plt.yticks(fontsize=14)\n",
    "plt.show() "
   ]
  },
  {
   "cell_type": "code",
   "execution_count": null,
   "metadata": {},
   "outputs": [],
   "source": [
    "plt.figure()\n",
    "for n in range(len(clus0_100[4:5])):\n",
    "    plt.plot(tspan/60, c0df100wt.loc[n]['CI_k63_obs'].iloc[:], lw=1.5, zorder = 1, alpha = 0.5)\n",
    "plt.xlabel(\"CI_K63\", fontsize=15)\n",
    "plt.ylabel(\"pMLKL\", fontsize=15)\n",
    "# plt.xlim(xmin = 0, xmax = 24)\n",
    "plt.xticks(fontsize=14)\n",
    "plt.yticks(fontsize=14)\n",
    "plt.show() "
   ]
  },
  {
   "cell_type": "code",
   "execution_count": null,
   "metadata": {},
   "outputs": [],
   "source": []
  },
  {
   "cell_type": "code",
   "execution_count": null,
   "metadata": {},
   "outputs": [],
   "source": [
    "import matplotlib\n",
    "matplotlib.rc('xtick', labelsize=14) \n",
    "matplotlib.rc('ytick', labelsize=14) \n",
    "fig, ((ax1, ax2), (ax3, ax4)) = plt.subplots(2,2, figsize = (15,10))\n",
    "# tspan = np.linspace(0, 1440, 300)\n",
    "for n in range(len(clus0_100)):\n",
    "#     ax1.vlines(x = 600, ymin = 0, ymax = 5544, linestyle = 'dashed', colors= 'r', zorder = 2, label ='50% pMLKL')\n",
    "    ax1.plot(tspan/60, c0df100wt.loc[n]['MLKLa_obs'].iloc[:]/5544, lw=1.5, color ='blue', zorder = 1, alpha = 0.3)\n",
    "    plt.legend(['clus0'], loc = 'best', fontsize = 14)\n",
    "#     plt.ylim(ymax = 5544, ymin =0)\n",
    "#     plt.xlim(xmax = 1440, xmin = 0)\n",
    "    plt.xticks(fontsize=14)\n",
    "    plt.yticks(fontsize=14)\n",
    "    ax1.set_xlim(xmin = 0, xmax = 24)\n",
    "    ax1.set_ylim(ymin = 0)\n",
    "    plt.xticks(fontsize=14)\n",
    "    plt.yticks(fontsize=14)\n",
    "    ax1.grid(False)   \n",
    "    custom_lines = [Line2D([0], [0], color='blue', lw=4),\n",
    "                   Line2D([0], [0], color='red', lw=4)]\n",
    "    ax1.legend(custom_lines, ['pMLKL'], prop={'size': 12}, loc = 'best')\n",
    "    \n",
    "# tspan2 = np.linspace(0, 2160, 300)    \n",
    "for n in range(len(clus0_100)):\n",
    "#     ax2.vlines(x = 600, ymin = 0, ymax = 5544, linestyle = 'dashed', colors= 'r', zorder = 2, label= '50% pMLKL')\n",
    "    ax2.plot(tspan/60,c0df100wt.loc[n]['CI_k63_obs'].iloc[:]/5544,lw=1.5, color ='blue', zorder = 1, alpha = 0.3)\n",
    "    plt.xticks(fontsize=14)\n",
    "    plt.yticks(fontsize=14)\n",
    "    ax2.set_xlim(xmin = 0, xmax = 24)\n",
    "    ax2.set_ylim(ymin = 0)\n",
    "    ax2.grid(False)  \n",
    "    custom_lines = [Line2D([0], [0], color='blue', lw=4),\n",
    "                   Line2D([0], [0], color='red', lw=4)]\n",
    "    ax2.legend(custom_lines, ['Complex I'], prop={'size': 12}, loc = 'best')\n",
    "    \n",
    "for n in range(len(clus2_100)):\n",
    "#     ax3.vlines(x = 600, ymin = 0, ymax = 5544, linestyle = 'dashed', colors= 'r', zorder = 2, label ='50% pMLKL')\n",
    "    ax3.plot(tspan/60, c0df100wt.loc[n]['A20_CI_obs'].iloc[:]/5544,lw=1.5, color ='blue', zorder = 1, alpha = 0.3)  \n",
    "    plt.xticks(fontsize=14)\n",
    "    plt.yticks(fontsize=14)\n",
    "    ax3.set_xlim(xmin = 0, xmax = 24)\n",
    "    ax3.set_ylim(ymin = 0)\n",
    "    ax3.grid(False)  \n",
    "    custom_lines = [Line2D([0], [0], color='blue', lw=4),\n",
    "                   Line2D([0], [0], color='red', lw=4)]\n",
    "    ax3.legend(custom_lines, ['CI_A20'], prop={'size': 12}, loc = 'best')\n",
    "    \n",
    "for n in range(len(clus3_100)):\n",
    "    plt.plot(tspan/60, c0df100wt.loc[n]['CYLD_CI_obs'].iloc[:]/5544, lw=1.5, color ='blue', zorder = 1, alpha = 0.3)\n",
    "    plt.xticks(fontsize=14)\n",
    "    plt.yticks(fontsize=14)\n",
    "#     plt.xlabel(\"Time (in hr)\", fontsize=15)\n",
    "#     plt.ylabel(\"Amount (normalized)\", fontsize=15)\n",
    "    ax4.set_xlim(xmin = 0, xmax = 24)\n",
    "    ax4.set_ylim(ymin = 0)\n",
    "    plt.xticks(fontsize=14)\n",
    "    plt.yticks(fontsize=14)\n",
    "    ax4.grid(False)  \n",
    "    custom_lines = [Line2D([0], [0], color='blue', lw=4),\n",
    "                   Line2D([0], [0], color='red', lw=4)]\n",
    "    ax4.legend(custom_lines, ['CI_CYLD'], prop={'size': 12}, loc = 'best') \n",
    " \n",
    "# fig.text(0.5, 0.04, 'Time (Hours)', ha='center', va='center',fontsize = 16)\n",
    "# fig.text(0.06, 0.5, 'Amount of Flip pMLKL under 100 ng/ml TNF(Normalized)',\n",
    "#          ha='center', va='center', rotation='vertical', fontsize = 16)\n",
    "# plt.savefig('pmlkl_100tnf_4clus_5720_A20KO.pdf')\n",
    "plt.show()"
   ]
  },
  {
   "cell_type": "code",
   "execution_count": null,
   "metadata": {},
   "outputs": [],
   "source": [
    "threshold = 2772"
   ]
  },
  {
   "cell_type": "code",
   "execution_count": null,
   "metadata": {},
   "outputs": [],
   "source": [
    "df_threshtimesc0100wt = c0df100wt.groupby('simulation').apply(lambda x: (x > threshold).idxmax()).apply(lambda x: [y[1] for y in x])\n"
   ]
  },
  {
   "cell_type": "code",
   "execution_count": null,
   "metadata": {},
   "outputs": [],
   "source": [
    "clusallcomplex = pd.DataFrame({'CI_k63': df_threshtimesc0100wt['CI_k63_obs'], \n",
    "                        'CI_A20': df_threshtimesc0100wt['A20_CI_obs'],\n",
    "                        'CI_CYLD': df_threshtimesc0100wt['CYLD_CI_obs'],\n",
    "                              'pMLKL': df_threshtimesc0100wt['MLKLa_obs']})"
   ]
  },
  {
   "cell_type": "code",
   "execution_count": null,
   "metadata": {},
   "outputs": [],
   "source": [
    "dfwt = pd.DataFrame(data = clusallcomplex, columns = ['CI_k63', 'CI_A20','CI_CYLD','pMLKL'])"
   ]
  },
  {
   "cell_type": "code",
   "execution_count": null,
   "metadata": {},
   "outputs": [],
   "source": [
    "plt.figure(figsize = (15,10))\n",
    "my_pal = { 'CI_k63':\"blue\", 'CI_A20':\"blue\",'CI_CYLD':\"blue\",'pMLKL':\"blue\"}\n",
    "# my_pal2 = { \"c80\":\"cyan\", \"c81\":\"cyan\", \"c82\":\"cyan\", \"c83\":\"cyan\"}\n",
    "# my_pal3 = {\"WTc0\": \"red\", \"WTc1\": \"red\", \"WTc2\":\"red\", \"WTc3\":\"red\"}\n",
    "b = sns.swarmplot(x=\"value\", y=\"variable\", data=pd.melt(dfwt), zorder=2, alpha=0.5)\n",
    "# b2 = sns.swarmplot(x=\"value\", y=\"variable\", data=pd.melt(dffl), zorder=2, palette=my_pal, alpha=0.5)\n",
    "# b3 = sns.swarmplot(x=\"value\", y=\"variable\", data=pd.melt(dfc8), zorder=2, palette=my_pal2, alpha=0.5)\n",
    "b.set_xlabel(\"Time (minutes)\",fontsize=15)\n",
    "b.set_ylabel(\"All Clusters\",fontsize=15)\n",
    "b.tick_params(labelsize=15)\n",
    "plt.xlim(xmax = 1800, xmin = 0)\n",
    "# plt.savefig('figs/pmlkl_100tnf_allcluswkos_swarm_5720mod.pdf')\n",
    "# plt.savefig('pmlkl_100tnf_allclusbox_wswarm_5720.pdf')\n",
    "plt.show()"
   ]
  },
  {
   "cell_type": "code",
   "execution_count": null,
   "metadata": {},
   "outputs": [],
   "source": []
  },
  {
   "cell_type": "code",
   "execution_count": null,
   "metadata": {},
   "outputs": [],
   "source": []
  },
  {
   "cell_type": "code",
   "execution_count": null,
   "metadata": {},
   "outputs": [],
   "source": []
  },
  {
   "cell_type": "code",
   "execution_count": null,
   "metadata": {},
   "outputs": [],
   "source": []
  },
  {
   "cell_type": "code",
   "execution_count": null,
   "metadata": {},
   "outputs": [],
   "source": []
  },
  {
   "cell_type": "code",
   "execution_count": null,
   "metadata": {},
   "outputs": [],
   "source": []
  },
  {
   "cell_type": "code",
   "execution_count": null,
   "metadata": {},
   "outputs": [],
   "source": []
  },
  {
   "cell_type": "code",
   "execution_count": null,
   "metadata": {},
   "outputs": [],
   "source": []
  },
  {
   "cell_type": "code",
   "execution_count": null,
   "metadata": {},
   "outputs": [],
   "source": []
  },
  {
   "cell_type": "code",
   "execution_count": null,
   "metadata": {},
   "outputs": [],
   "source": []
  },
  {
   "cell_type": "code",
   "execution_count": null,
   "metadata": {},
   "outputs": [],
   "source": []
  },
  {
   "cell_type": "code",
   "execution_count": null,
   "metadata": {},
   "outputs": [],
   "source": []
  },
  {
   "cell_type": "code",
   "execution_count": null,
   "metadata": {},
   "outputs": [],
   "source": []
  },
  {
   "cell_type": "code",
   "execution_count": null,
   "metadata": {},
   "outputs": [],
   "source": []
  },
  {
   "cell_type": "code",
   "execution_count": null,
   "metadata": {},
   "outputs": [],
   "source": []
  },
  {
   "cell_type": "code",
   "execution_count": null,
   "metadata": {},
   "outputs": [],
   "source": []
  }
 ],
 "metadata": {
  "kernelspec": {
   "display_name": "Python 3",
   "language": "python",
   "name": "python3"
  },
  "language_info": {
   "codemirror_mode": {
    "name": "ipython",
    "version": 3
   },
   "file_extension": ".py",
   "mimetype": "text/x-python",
   "name": "python",
   "nbconvert_exporter": "python",
   "pygments_lexer": "ipython3",
   "version": "3.7.3"
  }
 },
 "nbformat": 4,
 "nbformat_minor": 2
}
