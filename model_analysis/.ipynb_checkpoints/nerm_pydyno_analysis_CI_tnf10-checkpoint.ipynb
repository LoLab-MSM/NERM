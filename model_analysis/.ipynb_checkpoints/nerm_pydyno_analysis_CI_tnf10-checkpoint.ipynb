{
 "cells": [
  {
   "cell_type": "code",
   "execution_count": 1,
   "metadata": {},
   "outputs": [
    {
     "name": "stdout",
     "output_type": "stream",
     "text": [
      "/home/ildefog/.local/lib/python3.7/site-packages/pydyno-0.1.1+94.g9b93be5-py3.7-linux-x86_64.egg/pydyno/__init__.py\n"
     ]
    }
   ],
   "source": [
    "import sys \n",
    "sys.path.append('..')\n",
    "# sys.path.insert(0,'/home/ildefog/pydyno')\n",
    "import pydyno\n",
    "print(pydyno.__file__)\n",
    "from pydyno.discretization.pysb_discretize import PysbDomPath\n",
    "from pydyno.seqanalysis import SeqAnalysis\n",
    "from pydyno.visualize_simulations import VisualizeSimulations\n",
    "from pydyno.visualize_discretization import visualization_path\n",
    "%matplotlib inline\n",
    "import random\n",
    "import h5py\n",
    "from pydyno.dominant_path_frequency_analysis import FreqAnalysis\n",
    "import sys \n",
    "# sys.path.append('/Users/geenaildefonso/Projects/NERM')\n",
    "sys.path.append('../')\n",
    "from model_files.nerm import model as model\n",
    "import seaborn as sns\n",
    "import numpy as np\n",
    "from matplotlib import pyplot as plt\n",
    "# from necro_pydream_model_file_8920 import model\n",
    "from pysb.simulator import ScipyOdeSimulator\n",
    "import numpy as np\n",
    "from scipy.stats import norm,uniform\n",
    "import seaborn as sns\n",
    "from matplotlib import pyplot as plt\n",
    "import random\n",
    "import os\n",
    "from pylab import *\n",
    "from pysb.core import *\n",
    "from pysb.bng import *\n",
    "from pysb.integrate import *\n",
    "import matplotlib.pyplot as plt\n",
    "import numpy as np\n",
    "from pysb.util import alias_model_components\n",
    "from scipy import stats\n",
    "from pysb.simulator import SimulationResult\n",
    "import pandas as pd\n",
    "import seaborn as sns"
   ]
  },
  {
   "cell_type": "code",
   "execution_count": 2,
   "metadata": {},
   "outputs": [],
   "source": [
    "pars = np.load('../necro_pars10k_allclusmod.npy')"
   ]
  },
  {
   "cell_type": "code",
   "execution_count": 4,
   "metadata": {},
   "outputs": [],
   "source": [
    "m = model.components"
   ]
  },
  {
   "cell_type": "code",
   "execution_count": null,
   "metadata": {},
   "outputs": [],
   "source": [
    "solverwt0 = ScipyOdeSimulator(model, tspan=tspan, verbose = True)\n",
    "wtclus100 = solverwt0.run(param_values=pars, num_processors = 20)\n",
    "wtclus100.save('sim_nerm_allpars_tnf100.h5')"
   ]
  },
  {
   "cell_type": "code",
   "execution_count": null,
   "metadata": {},
   "outputs": [],
   "source": [
    "solverwt0 = ScipyOdeSimulator(model, tspan=tspan, verbose = True)\n",
    "wtclus10 = solverwt0.run(initials = {m.TNF(brec=None):233}, param_values=clus0_100, num_processors = 20)\n",
    "# wtclus0.save('h5files5720/pydyno_s36prod_5k_5620_100tnf_cluster0pars_72hrwt.h5',include_obs_exprs = True)\n",
    "wtclus10.save('sim_nerm_allpars_tnf10.h5')"
   ]
  }
 ],
 "metadata": {
  "kernelspec": {
   "display_name": "Python 3",
   "language": "python",
   "name": "python3"
  },
  "language_info": {
   "codemirror_mode": {
    "name": "ipython",
    "version": 3
   },
   "file_extension": ".py",
   "mimetype": "text/x-python",
   "name": "python",
   "nbconvert_exporter": "python",
   "pygments_lexer": "ipython3",
   "version": "3.7.5"
  }
 },
 "nbformat": 4,
 "nbformat_minor": 2
}
