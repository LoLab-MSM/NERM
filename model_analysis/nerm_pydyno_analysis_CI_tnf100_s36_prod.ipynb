{
 "cells": [
  {
   "cell_type": "code",
   "execution_count": 1,
   "metadata": {},
   "outputs": [
    {
     "name": "stdout",
     "output_type": "stream",
     "text": [
      "/home/ildefog/.local/lib/python3.7/site-packages/pydyno-0.1.1+94.g9b93be5-py3.7-linux-x86_64.egg/pydyno/__init__.py\n"
     ]
    }
   ],
   "source": [
    "import sys \n",
    "sys.path.append('..')\n",
    "# sys.path.insert(0,'/home/ildefog/pydyno')\n",
    "import pydyno\n",
    "print(pydyno.__file__)\n",
    "from pydyno.discretization.pysb_discretize import PysbDomPath\n",
    "from pydyno.seqanalysis import SeqAnalysis\n",
    "from pydyno.visualize_simulations import VisualizeSimulations\n",
    "from pydyno.visualize_discretization import visualization_path\n",
    "%matplotlib inline\n",
    "import random\n",
    "import h5py\n",
    "from pydyno.dominant_path_frequency_analysis import FreqAnalysis\n",
    "import sys \n",
    "# sys.path.append('/Users/geenaildefonso/Projects/NERM')\n",
    "sys.path.append('../')\n",
    "from model_files.nerm import model as model\n",
    "import seaborn as sns\n",
    "import numpy as np\n",
    "from matplotlib import pyplot as plt\n",
    "# from necro_pydream_model_file_8920 import model\n",
    "from pysb.simulator import ScipyOdeSimulator\n",
    "import numpy as np\n",
    "from scipy.stats import norm,uniform\n",
    "import seaborn as sns\n",
    "from matplotlib import pyplot as plt\n",
    "import random\n",
    "import os\n",
    "from pylab import *\n",
    "from pysb.core import *\n",
    "from pysb.bng import *\n",
    "from pysb.integrate import *\n",
    "import matplotlib.pyplot as plt\n",
    "import numpy as np\n",
    "from pysb.util import alias_model_components\n",
    "from scipy import stats\n",
    "from pysb.simulator import SimulationResult\n",
    "import pandas as pd\n",
    "import seaborn as sns"
   ]
  },
  {
   "cell_type": "code",
   "execution_count": 2,
   "metadata": {},
   "outputs": [],
   "source": [
    "pars = np.load('../necro_pars10k_allclusmod.npy')"
   ]
  },
  {
   "cell_type": "code",
   "execution_count": null,
   "metadata": {},
   "outputs": [],
   "source": [
    "for i,sp in enumerate(model.species):\n",
    "    print(i,\":\",sp)"
   ]
  },
  {
   "cell_type": "code",
   "execution_count": 3,
   "metadata": {},
   "outputs": [],
   "source": [
    "m = model.components\n",
    "tspan = np.linspace(0, 1800, 500)"
   ]
  },
  {
   "cell_type": "code",
   "execution_count": 4,
   "metadata": {},
   "outputs": [
    {
     "name": "stderr",
     "output_type": "stream",
     "text": [
      "2021-11-20 18:21:27.898 - pysb.simulator.scipyode - DEBUG - [model_files.nerm] Simulator created\n",
      "2021-11-20 18:21:28.671 - pysb.simulator.scipyode - DEBUG - [model_files.nerm] Equation mode set to \"cython\"\n",
      "2021-11-20 18:21:28.781 - pysb.simulator.scipyode - INFO - [model_files.nerm] Simulation(s) started\n",
      "2021-11-20 18:21:29.323 - pysb.simulator.scipyode - DEBUG - [model_files.nerm] Multi-processor (parallel) mode using 20 processes\n",
      "2021-11-20 18:50:15.168 - pysb.simulator.scipyode - INFO - [model_files.nerm] All simulation(s) complete\n",
      "2021-11-20 18:50:15.169 - pysb.simulator.scipyode - DEBUG - [model_files.nerm] SimulationResult constructor started\n",
      "2021-11-20 18:50:20.608 - pysb.simulator.scipyode - DEBUG - [model_files.nerm] SimulationResult constructor finished\n"
     ]
    }
   ],
   "source": [
    "solverwt0 = ScipyOdeSimulator(model, tspan=tspan, verbose = True)\n",
    "result100 = solverwt0.run(param_values=pars, num_processors = 20)\n",
    "# result100.save('sim_nerm_allpars_tnf100.h5')"
   ]
  },
  {
   "cell_type": "code",
   "execution_count": null,
   "metadata": {},
   "outputs": [],
   "source": [
    "for i,sp in enumerate(model.species):\n",
    "    print(i,\":\",sp)"
   ]
  },
  {
   "cell_type": "code",
   "execution_count": 5,
   "metadata": {},
   "outputs": [],
   "source": [
    "dp_nerm_100mlkl = PysbDomPath(model, result100)"
   ]
  },
  {
   "cell_type": "code",
   "execution_count": null,
   "metadata": {},
   "outputs": [],
   "source": [
    "signs_nerm_100mlkl, paths_nerm_100mlkl = dp_nerm_100mlkl.get_path_signatures('s36', 'production', \n",
    "                                                                 depth=30, dom_om=0.5, num_processors = 20)"
   ]
  },
  {
   "cell_type": "code",
   "execution_count": null,
   "metadata": {},
   "outputs": [],
   "source": [
    "signs_nerm_100mlkl.dissimilarity_matrix()"
   ]
  },
  {
   "cell_type": "code",
   "execution_count": null,
   "metadata": {},
   "outputs": [],
   "source": [
    "signs_nerm_100mlkl.silhouette_score_spectral_range(range(2,10),num_processors = 20)"
   ]
  },
  {
   "cell_type": "code",
   "execution_count": null,
   "metadata": {},
   "outputs": [],
   "source": [
    "signs_nerm_100mlkl.silhouette_score_agglomerative_range(10 ,num_processors=20) # n_clusters best silhouette score: 3"
   ]
  },
  {
   "cell_type": "code",
   "execution_count": null,
   "metadata": {},
   "outputs": [],
   "source": [
    "signs_nerm_100mlkl.agglomerative_clustering(2)"
   ]
  },
  {
   "cell_type": "code",
   "execution_count": null,
   "metadata": {},
   "outputs": [],
   "source": [
    "signs_nerm_100mlkl.spectral_clustering(8)"
   ]
  },
  {
   "cell_type": "code",
   "execution_count": null,
   "metadata": {},
   "outputs": [],
   "source": [
    "sorted_label_idxs = np.argsort(signs_nerm_100.labels)\n",
    "sorted_diss = signs_nerm_100.diss[sorted_label_idxs, :]\n",
    "sorted_diss = sorted_diss[:, sorted_label_idxs]\n",
    "def heatmap(data, row_labels, col_labels, ax=None,\n",
    "            cbar_kw={}, cbarlabel=\"\", **kwargs):\n",
    "    if not ax:\n",
    "        ax = plt.gca()\n",
    "    # Plot the heatmap\n",
    "    im = ax.imshow(data, **kwargs)\n",
    "    # Create colorbar\n",
    "    cbar = ax.figure.colorbar(im, ax=ax, **cbar_kw)\n",
    "    cbar.ax.set_ylabel(cbarlabel, rotation=-90, va=\"bottom\")\n",
    "    ax.set_xticks(np.arange(data.shape[1]+1)-.5, minor=True)\n",
    "    ax.set_yticks(np.arange(data.shape[0]+1)-.5, minor=True)\n",
    "#     ax.grid(which=\"minor\", color=\"w\", linestyle='-', linewidth=3)\n",
    "    ax.tick_params(which=\"minor\", bottom=False, left=False)\n",
    "    return im, cbar\n",
    "import matplotlib.pyplot as plt\n",
    "fig, ax = plt.subplots()\n",
    "im, cbar = heatmap(sorted_diss, range(10000), range(10000), ax=ax,\n",
    "                   cmap=\"YlGn\", cbarlabel=\"distance\")\n",
    "ax.figure.axes[-1].yaxis.label.set_size(14)\n",
    "plt.xlabel('signatures', fontsize = 14)\n",
    "plt.ylabel('signatures', fontsize = 14)\n",
    "fig.tight_layout()\n",
    "# plt.savefig('heatmap_clusters_necro_pydream_5chns_10k_5720_10tnf_aug.pdf')\n",
    "plt.show()"
   ]
  },
  {
   "cell_type": "code",
   "execution_count": null,
   "metadata": {},
   "outputs": [],
   "source": [
    "plt.figure(figsize = (20,10))\n",
    "signs_nerm_100.plot_sequences(type_fig='modal')\n",
    "plt.show()"
   ]
  },
  {
   "cell_type": "code",
   "execution_count": null,
   "metadata": {},
   "outputs": [],
   "source": [
    "    def plot_sequences(self, type_fig='modal', plot_all=False, title='', dir_path='', sort_seq=None):\n",
    "    if plot_all:\n",
    "            cluster_labels = np.zeros(len(self.seq_analysis.sequences), dtype=np.int)\n",
    "        else:\n",
    "            # Check that the sequences has been clustered\n",
    "            if self.seq_analysis.labels is None:\n",
    "                raise Exception('Cluster the sequences first')\n",
    "            cluster_labels = self.seq_analysis.labels\n",
    "\n",
    "        clusters = set(cluster_labels)\n",
    "        if -1 in clusters:\n",
    "            clusters = list(clusters)[:-1]  # this is to not plot the signatures that can't be clustered :( from hdbscan\n",
    "        else:\n",
    "            clusters = list(clusters)\n",
    "        n_rows = int(math.ceil(len(clusters) / 3.))\n",
    "        if len(clusters) == 1:\n",
    "            f, axs = plt.subplots(n_rows, 1, sharex=True, figsize=(8, 6))\n",
    "            axs = [axs]\n",
    "        elif len(clusters) == 2:\n",
    "            f, axs = plt.subplots(n_rows, 2, sharex=True, figsize=(8, 6))\n",
    "        else:\n",
    "            f, axs = plt.subplots(n_rows, 3, sharex=True, figsize=(8, 6))\n",
    "            f.subplots_adjust(hspace=.6, wspace=.4)\n",
    "            axs = axs.reshape(n_rows * 3)\n",
    "\n",
    "            plots_off = (n_rows * 3) - len(clusters)\n",
    "            for i in range(1, plots_off + 1):\n",
    "                axs[-i].axis('off')\n",
    "\n",
    "        if type_fig == 'modal':\n",
    "            self.__modal(cluster_labels, clusters, axs, n_rows)\n",
    "\n",
    "        elif type_fig == 'trajectories':\n",
    "            self.__trajectories(cluster_labels, clusters, axs, n_rows, sort_seq)\n",
    "\n",
    "        elif type_fig == 'entropy':\n",
    "            self.__entropy(cluster_labels, clusters, f, axs, n_rows)\n",
    "\n",
    "        else:\n",
    "            raise NotImplementedError('Type of visualization not implemented')\n",
    "\n",
    "        plt.setp([a.get_xticklabels() for a in f.axes[:-3]], visible=False)\n",
    "        plt.suptitle(title)\n",
    "        f.text(0.5, 0.04, 'Time', ha='center')\n",
    "        final_path = os.path.join(dir_path, type_fig + '.png')\n",
    "        plt.savefig(final_path, bbox_inches='tight', format='png')\n",
    "        # plt.close('all')\n",
    "\n",
    "        return"
   ]
  },
  {
   "cell_type": "code",
   "execution_count": null,
   "metadata": {},
   "outputs": [],
   "source": [
    "signs_nerm_100.plot_sequences(type_fig='trajectories')"
   ]
  },
  {
   "cell_type": "code",
   "execution_count": null,
   "metadata": {},
   "outputs": [],
   "source": [
    "vt = VisualizeSimulations(model, sim_results=result100, \n",
    "                          clusters=signs_nerm_100.labels)"
   ]
  },
  {
   "cell_type": "code",
   "execution_count": null,
   "metadata": {},
   "outputs": [],
   "source": [
    "vt.plot_cluster_dynamics(components=['MLKLa_obs'])"
   ]
  },
  {
   "cell_type": "code",
   "execution_count": null,
   "metadata": {},
   "outputs": [],
   "source": [
    "cluster_label_idxs = VisualizeSimulations.check_clusters_arg(signs_nerm_100.labels, nsims=10000)"
   ]
  },
  {
   "cell_type": "code",
   "execution_count": null,
   "metadata": {},
   "outputs": [],
   "source": [
    "pars_cluster_0 = result100.param_values[cluster_label_idxs[0]]\n",
    "pars_cluster_1 = result100.param_values[cluster_label_idxs[1]]\n",
    "pars_cluster_2 = result100.param_values[cluster_label_idxs[2]]\n",
    "pars_cluster_3 = result100.param_values[cluster_label_idxs[3]]\n",
    "pars_cluster_4 = result100.param_values[cluster_label_idxs[4]]\n",
    "pars_cluster_5 = result100.param_values[cluster_label_idxs[5]]\n",
    "pars_cluster_6 = result100.param_values[cluster_label_idxs[6]]\n",
    "pars_cluster_7 = result100.param_values[cluster_label_idxs[7]]\n",
    "print(len(pars_cluster_0))\n",
    "print(len(pars_cluster_1))\n",
    "print(len(pars_cluster_2))\n",
    "print(len(pars_cluster_3))\n",
    "print(len(pars_cluster_4))\n",
    "print(len(pars_cluster_5))\n",
    "print(len(pars_cluster_6))\n",
    "print(len(pars_cluster_7))"
   ]
  },
  {
   "cell_type": "code",
   "execution_count": null,
   "metadata": {},
   "outputs": [],
   "source": [
    "rep_signatures=signs_nerm_100.seq_representativeness(method='centrality', clus_labels=signs_nerm_100.labels)"
   ]
  },
  {
   "cell_type": "code",
   "execution_count": null,
   "metadata": {},
   "outputs": [],
   "source": [
    "print(rep_signatures[0])"
   ]
  },
  {
   "cell_type": "code",
   "execution_count": null,
   "metadata": {},
   "outputs": [],
   "source": [
    "from pydyno.visualize_discretization import visualization_seq_paths\n",
    "visualization_seq_paths(result100, 3528, signs_nerm_100)\n",
    "# plt.savefig('visualization_seq_paths_clus0_sigs100n_3528.pdf')"
   ]
  },
  {
   "cell_type": "code",
   "execution_count": null,
   "metadata": {},
   "outputs": [],
   "source": [
    "from IPython.display import Image\n",
    "path_to_show = '57'\n",
    "visualization_path(model, paths_prod[path_to_show], 's24', 'production', f'path_{path_to_show}.png')\n",
    "Image(filename=f'path_{path_to_show}.pdf') "
   ]
  },
  {
   "cell_type": "code",
   "execution_count": null,
   "metadata": {},
   "outputs": [],
   "source": [
    "visualization_path(model, paths_nerm_100[57], type_analysis='production', \n",
    "                   filename='cluster0100tnf_CII_s24_prod_1om_depth15_path57_10k_5720_112021.pdf')"
   ]
  },
  {
   "cell_type": "code",
   "execution_count": null,
   "metadata": {},
   "outputs": [],
   "source": [
    "import numpy as np\n",
    "from sklearn.manifold import TSNE\n",
    "import matplotlib.pyplot as plt\n",
    "\n",
    "X_embedded = TSNE(n_components=3, metric='precomputed', perplexity=50,\n",
    "                  early_exaggeration=30).fit_transform(signs_nerm_100.diss)"
   ]
  },
  {
   "cell_type": "code",
   "execution_count": null,
   "metadata": {},
   "outputs": [],
   "source": [
    "colors = ['red', 'blue', 'black', 'green', 'cyan', 'yellow', 'orange', 'purple']"
   ]
  },
  {
   "cell_type": "code",
   "execution_count": null,
   "metadata": {},
   "outputs": [],
   "source": [
    "cluster0 = signs_nerm_100.labels == 0\n",
    "cluster1 = signs_nerm_100.labels == 1\n",
    "cluster2 = signs_nerm_100.labels == 2\n",
    "cluster3 = signs_nerm_100.labels == 3\n",
    "cluster4 = signs_nerm_100.labels == 4\n",
    "cluster5 = signs_nerm_100.labels == 5\n",
    "cluster6 = signs_nerm_100.labels == 6\n",
    "cluster7 = signs_nerm_100.labels == 7\n",
    "\n",
    "plt.scatter(X_embedded[cluster0, 0], X_embedded[cluster0, 1], c=colors[0], label='clus_0')\n",
    "plt.scatter(X_embedded[cluster1, 0], X_embedded[cluster1, 1], c=colors[1], label='clus_1')\n",
    "plt.scatter(X_embedded[cluster2, 0], X_embedded[cluster2, 1], c=colors[2], label='clus_2')\n",
    "plt.scatter(X_embedded[cluster3, 0], X_embedded[cluster3, 1], c=colors[3], label='clus_3')\n",
    "plt.scatter(X_embedded[cluster4, 0], X_embedded[cluster4, 1], c=colors[4], label='clus_4')\n",
    "plt.scatter(X_embedded[cluster5, 0], X_embedded[cluster5, 1], c=colors[5], label='clus_5')\n",
    "plt.scatter(X_embedded[cluster6, 0], X_embedded[cluster6, 1], c=colors[6], label='clus_6')\n",
    "plt.scatter(X_embedded[cluster7, 0], X_embedded[cluster7, 1], c=colors[7], label='clus_7')\n",
    "\n",
    "plt.legend(bbox_to_anchor=(1.25,1), borderaxespad=0)\n",
    "plt.xlabel('tSNE_1')\n",
    "plt.ylabel('tSNE_2')\n",
    "plt.tight_layout()\n",
    "plt.title('TSNE plot for Cluster Dynamics')\n",
    "# plt.savefig('necro_5720_10k_100tnf_sequences_cluster.pdf')\n",
    "plt.show()"
   ]
  },
  {
   "cell_type": "code",
   "execution_count": null,
   "metadata": {},
   "outputs": [],
   "source": []
  },
  {
   "cell_type": "code",
   "execution_count": null,
   "metadata": {},
   "outputs": [],
   "source": []
  },
  {
   "cell_type": "code",
   "execution_count": null,
   "metadata": {},
   "outputs": [],
   "source": []
  },
  {
   "cell_type": "code",
   "execution_count": null,
   "metadata": {},
   "outputs": [],
   "source": []
  },
  {
   "cell_type": "code",
   "execution_count": null,
   "metadata": {},
   "outputs": [],
   "source": []
  },
  {
   "cell_type": "code",
   "execution_count": null,
   "metadata": {},
   "outputs": [],
   "source": []
  }
 ],
 "metadata": {
  "kernelspec": {
   "display_name": "Python 3",
   "language": "python",
   "name": "python3"
  },
  "language_info": {
   "codemirror_mode": {
    "name": "ipython",
    "version": 3
   },
   "file_extension": ".py",
   "mimetype": "text/x-python",
   "name": "python",
   "nbconvert_exporter": "python",
   "pygments_lexer": "ipython3",
   "version": "3.7.5"
  }
 },
 "nbformat": 4,
 "nbformat_minor": 2
}
