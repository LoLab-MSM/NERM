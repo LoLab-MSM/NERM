{
 "cells": [
  {
   "cell_type": "code",
   "execution_count": 1,
   "metadata": {},
   "outputs": [],
   "source": [
    "import os\n",
    "from pylab import *\n",
    "from pysb.core import *\n",
    "from pysb.bng import *\n",
    "from pysb.integrate import *\n",
    "import matplotlib.pyplot as plt\n",
    "import numpy as np\n",
    "from pysb.util import alias_model_components\n",
    "from pysb.simulator import CupSodaSimulator\n",
    "from pysb.simulator import ScipyOdeSimulator\n",
    "from pysb.simulator.bng import BngSimulator\n",
    "import sys\n",
    "sys.path.append('../')\n",
    "sys.path.append('/home/ildefog/main/Projects/NERM/')\n",
    "sys.path.append('/home/ildefog/main/Projects/NERM/param_files/')\n",
    "from model_files.nerm_pvals_inits import model as model2\n",
    "from model_files.nerm_pvals import model as model1\n",
    "import pandas as pd\n",
    "from scipy import stats\n",
    "from pysb.simulator import SimulationResult\n",
    "import logging\n",
    "import os\n",
    "from pysb.logging import setup_logger\n",
    "from pysb.simulator.cupsoda import CupSodaSimulator\n",
    "from pysb.simulator.scipyode import ScipyOdeSimulator\n",
    "# from sensitivity_analysis4 import InitialsSensitivity\n",
    "from pysb.util import update_param_vals\n",
    "from scipy.stats import norm,uniform, halfnorm\n",
    "os.environ['OMP_NUM_THREADS'] = '1'\n",
    "from scipy.optimize import curve_fit\n",
    "import seaborn as sns"
   ]
  },
  {
   "cell_type": "code",
   "execution_count": 7,
   "metadata": {},
   "outputs": [
    {
     "name": "stdout",
     "output_type": "stream",
     "text": [
      "0 : Parameter('A20_0', 9000.0)\n",
      "1 : Parameter('C8_0', 3799.0)\n",
      "2 : Parameter('cIAP_0', 9000.0)\n",
      "3 : Parameter('CYLD_0', 9000.0)\n",
      "4 : Parameter('FADD_0', 3109.0)\n",
      "5 : Parameter('FLIP_0', 3900.0)\n",
      "6 : Parameter('LUBAC_0', 7226.0)\n",
      "7 : Parameter('MLKLa_0', 5544.0)\n",
      "8 : Parameter('RIP1_0', 40000.0)\n",
      "9 : Parameter('RIP3_0', 10654.0)\n",
      "10 : Parameter('TNF_0', 2326.0)\n",
      "11 : Parameter('TNFR_0', 4800.0)\n",
      "12 : Parameter('TRADD_0', 4696.0)\n",
      "13 : Parameter('TRAF_0', 11776.0)\n",
      "14 : Parameter('p1', 1e-06)\n",
      "15 : Parameter('p2', 0.001)\n",
      "16 : Parameter('p3', 0.001)\n",
      "17 : Parameter('p4', 1e-06)\n",
      "18 : Parameter('p5', 0.001)\n",
      "19 : Parameter('p6', 1e-06)\n",
      "20 : Parameter('p7', 0.001)\n",
      "21 : Parameter('p8', 1e-06)\n",
      "22 : Parameter('p9', 0.001)\n",
      "23 : Parameter('p10', 1e-06)\n",
      "24 : Parameter('p11', 0.001)\n",
      "25 : Parameter('p12', 0.1)\n",
      "26 : Parameter('p13', 1e-06)\n",
      "27 : Parameter('p14', 0.001)\n",
      "28 : Parameter('p15', 1e-06)\n",
      "29 : Parameter('p16', 0.001)\n",
      "30 : Parameter('p17', 0.1)\n",
      "31 : Parameter('p18', 1e-06)\n",
      "32 : Parameter('p19', 0.001)\n",
      "33 : Parameter('p20', 0.1)\n",
      "34 : Parameter('p21', 0.1)\n",
      "35 : Parameter('p22', 3.11e-07)\n",
      "36 : Parameter('p23', 3.27e-06)\n",
      "37 : Parameter('p24', 0.018)\n",
      "38 : Parameter('p25', 3.27e-06)\n",
      "39 : Parameter('p26', 0.018)\n",
      "40 : Parameter('p27', 0.0327)\n",
      "41 : Parameter('p28', 0.018)\n",
      "42 : Parameter('p29', 1e-06)\n",
      "43 : Parameter('p30', 1e-06)\n",
      "44 : Parameter('p31', 0.001)\n",
      "45 : Parameter('p32', 0.1)\n",
      "46 : Parameter('p33', 0.01)\n",
      "47 : Parameter('p34', 0.001)\n",
      "48 : Parameter('p35', 0.001)\n",
      "49 : Parameter('p36', 1e-06)\n",
      "50 : Parameter('p37', 1.0)\n",
      "51 : Parameter('p38', 1e-06)\n",
      "52 : Parameter('p39', 0.001)\n",
      "53 : Parameter('p40', 1e-06)\n"
     ]
    }
   ],
   "source": [
    "for i,p in enumerate(model1.parameters):\n",
    "    print(i,\":\",p)"
   ]
  },
  {
   "cell_type": "code",
   "execution_count": 8,
   "metadata": {},
   "outputs": [
    {
     "name": "stdout",
     "output_type": "stream",
     "text": [
      "0 : Parameter('A20_0', 9075.0)\n",
      "1 : Parameter('C8_0', 3799.0)\n",
      "2 : Parameter('cIAP_0', 8986.0)\n",
      "3 : Parameter('CYLD_0', 9075.0)\n",
      "4 : Parameter('FADD_0', 3109.0)\n",
      "5 : Parameter('FLIP_0', 3910.0)\n",
      "6 : Parameter('LUBAC_0', 7226.0)\n",
      "7 : Parameter('MLKLa_0', 5544.0)\n",
      "8 : Parameter('RIP1_0', 22044.0)\n",
      "9 : Parameter('RIP3_0', 10654.0)\n",
      "10 : Parameter('TNF_0', 2326.0)\n",
      "11 : Parameter('TNFR_0', 4809.0)\n",
      "12 : Parameter('TRADD_0', 4696.0)\n",
      "13 : Parameter('TRAF_0', 11776.0)\n",
      "14 : Parameter('p1', 1e-06)\n",
      "15 : Parameter('p2', 0.001)\n",
      "16 : Parameter('p3', 0.001)\n",
      "17 : Parameter('p4', 1e-06)\n",
      "18 : Parameter('p5', 0.001)\n",
      "19 : Parameter('p6', 1e-06)\n",
      "20 : Parameter('p7', 0.001)\n",
      "21 : Parameter('p8', 1e-06)\n",
      "22 : Parameter('p9', 0.001)\n",
      "23 : Parameter('p10', 1e-06)\n",
      "24 : Parameter('p11', 0.001)\n",
      "25 : Parameter('p12', 0.1)\n",
      "26 : Parameter('p13', 1e-06)\n",
      "27 : Parameter('p14', 0.001)\n",
      "28 : Parameter('p15', 1e-06)\n",
      "29 : Parameter('p16', 0.001)\n",
      "30 : Parameter('p19', 0.1)\n",
      "31 : Parameter('p17', 1e-06)\n",
      "32 : Parameter('p18', 0.001)\n",
      "33 : Parameter('p20', 0.1)\n",
      "34 : Parameter('p21', 0.1)\n",
      "35 : Parameter('p22', 3.11e-07)\n",
      "36 : Parameter('p23', 3.27e-06)\n",
      "37 : Parameter('p24', 0.018)\n",
      "38 : Parameter('p25', 3.27e-06)\n",
      "39 : Parameter('p26', 0.018)\n",
      "40 : Parameter('p27', 0.0327)\n",
      "41 : Parameter('p28', 0.018)\n",
      "42 : Parameter('p29', 1e-06)\n",
      "43 : Parameter('p30', 1e-06)\n",
      "44 : Parameter('p31', 0.001)\n",
      "45 : Parameter('p32', 0.1)\n",
      "46 : Parameter('p33', 0.01)\n",
      "47 : Parameter('p34', 0.001)\n",
      "48 : Parameter('p35', 0.001)\n",
      "49 : Parameter('p36', 1e-06)\n",
      "50 : Parameter('p37', 1.0)\n",
      "51 : Parameter('p38', 1e-06)\n",
      "52 : Parameter('p39', 0.001)\n",
      "53 : Parameter('p40', 1e-06)\n"
     ]
    }
   ],
   "source": [
    "for i,p in enumerate(model2.parameters):\n",
    "    print(i,\":\",p)"
   ]
  },
  {
   "cell_type": "code",
   "execution_count": 14,
   "metadata": {},
   "outputs": [],
   "source": [
    "mode1_100 = np.load('params_testing/necro_pars10k_mode1_5720_mod.npy')[:, 14:]\n",
    "mode2_100 = np.load('params_testing/necro_pars10k_mode2_5720_mod.npy')[:, 14:]\n",
    "mode3_100 = np.load('params_testing/necro_pars10k_mode3_5720_mod.npy')\n",
    "mode4_100 = np.load('params_testing/necro_pars10k_mode4_5720_mod.npy')[:, 14:]"
   ]
  },
  {
   "cell_type": "code",
   "execution_count": 4,
   "metadata": {},
   "outputs": [
    {
     "name": "stdout",
     "output_type": "stream",
     "text": [
      "0.17578076748543345\n"
     ]
    }
   ],
   "source": [
    "print(mode3_100[0,30])"
   ]
  },
  {
   "cell_type": "code",
   "execution_count": 9,
   "metadata": {},
   "outputs": [
    {
     "name": "stdout",
     "output_type": "stream",
     "text": [
      "2042\n"
     ]
    }
   ],
   "source": [
    "print(len(mode3_100))"
   ]
  },
  {
   "cell_type": "code",
   "execution_count": 6,
   "metadata": {},
   "outputs": [
    {
     "name": "stdout",
     "output_type": "stream",
     "text": [
      "2042\n"
     ]
    }
   ],
   "source": [
    "n_pars = len(mode3_100)\n",
    "all_pars3 = np.zeros((n_pars, len(model2.parameters)))\n",
    "\n",
    "rate_params = model2.parameters_rules()\n",
    "param_values = np.array([p.value for p in model2.parameters])\n",
    "rate_mask = np.array([p in rate_params for p in model2.parameters])\n",
    "\n",
    "for i in range(n_pars):\n",
    "    par = mode3_100[i]\n",
    "    param_values[rate_mask] = par\n",
    "    all_pars3[i] = param_values\n",
    "print(len(all_pars3))    "
   ]
  },
  {
   "cell_type": "code",
   "execution_count": 10,
   "metadata": {},
   "outputs": [],
   "source": [
    "tspan = np.linspace(0,1800, 500)"
   ]
  },
  {
   "cell_type": "code",
   "execution_count": 15,
   "metadata": {},
   "outputs": [
    {
     "name": "stderr",
     "output_type": "stream",
     "text": [
      "2022-01-12 17:07:26.479 - pysb.simulator.scipyode - DEBUG - [model_files.nerm_pvals] Simulator created\n",
      "2022-01-12 17:07:26.490 - pysb.simulator.scipyode - DEBUG - [model_files.nerm_pvals] Equation mode set to \"cython\"\n",
      "2022-01-12 17:07:26.561 - pysb.simulator.scipyode - INFO - [model_files.nerm_pvals] Simulation(s) started\n",
      "2022-01-12 17:07:26.710 - pysb.simulator.scipyode - DEBUG - [model_files.nerm_pvals] Multi-processor (parallel) mode using 25 processes\n",
      "2022-01-12 17:09:03.873 - pysb.simulator.scipyode - INFO - [model_files.nerm_pvals] All simulation(s) complete\n",
      "2022-01-12 17:09:03.877 - pysb.simulator.scipyode - DEBUG - [model_files.nerm_pvals] SimulationResult constructor started\n",
      "2022-01-12 17:09:05.279 - pysb.simulator.scipyode - DEBUG - [model_files.nerm_pvals] SimulationResult constructor finished\n"
     ]
    }
   ],
   "source": [
    "solverwtm3 = ScipyOdeSimulator(model1, tspan=tspan, verbose = True)\n",
    "mode1wtm3  = solverwtm3.run(param_values=mode3_100, num_processors = 25)\n",
    "mode1df_wtm3 = mode1wtm3.dataframe"
   ]
  },
  {
   "cell_type": "code",
   "execution_count": 16,
   "metadata": {},
   "outputs": [
    {
     "name": "stderr",
     "output_type": "stream",
     "text": [
      "2022-01-12 17:09:07.176 - pysb.simulator.scipyode - DEBUG - [model_files.nerm_pvals_inits] Simulator created\n",
      "2022-01-12 17:09:07.182 - pysb.simulator.scipyode - DEBUG - [model_files.nerm_pvals_inits] Equation mode set to \"cython\"\n",
      "2022-01-12 17:09:07.217 - pysb.simulator.scipyode - INFO - [model_files.nerm_pvals_inits] Simulation(s) started\n",
      "2022-01-12 17:09:07.345 - pysb.simulator.scipyode - DEBUG - [model_files.nerm_pvals_inits] Multi-processor (parallel) mode using 25 processes\n",
      "2022-01-12 17:10:43.701 - pysb.simulator.scipyode - INFO - [model_files.nerm_pvals_inits] All simulation(s) complete\n",
      "2022-01-12 17:10:43.703 - pysb.simulator.scipyode - DEBUG - [model_files.nerm_pvals_inits] SimulationResult constructor started\n",
      "2022-01-12 17:10:45.071 - pysb.simulator.scipyode - DEBUG - [model_files.nerm_pvals_inits] SimulationResult constructor finished\n"
     ]
    }
   ],
   "source": [
    "solverwtm31 = ScipyOdeSimulator(model2, tspan=tspan, verbose = True)\n",
    "mode1wtm31  = solverwtm31.run(param_values=all_pars3, num_processors = 25)\n",
    "mode1df_wtm31 = mode1wtm31.dataframe"
   ]
  },
  {
   "cell_type": "code",
   "execution_count": 17,
   "metadata": {},
   "outputs": [
    {
     "data": {
      "image/png": "[encoded data removed]",
      "text/plain": [
       "<Figure size 432x288 with 1 Axes>"
      ]
     },
     "metadata": {
      "needs_background": "light"
     },
     "output_type": "display_data"
    }
   ],
   "source": [
    "# x = np.array([0, 30, 90, 270,480, 720, 960])\n",
    "# y100 = np.array([0, 0.00885691708746097,0.0161886154261265,0.0373005242261882, 0.2798939020159581, .7797294067, 0.98])\n",
    "fig, ax = plt.subplots(figsize = (6, 4))\n",
    "for axis in ['top','bottom','left','right']:\n",
    "    ax.spines[axis].set_linewidth(1.5)\n",
    "for n in range(len(mode3_100)):\n",
    "    plt.plot(tspan/60, mode1df_wtm3.loc[n]['MLKLa_obs'].iloc[:]/5544, lw=1.5, \n",
    "             zorder = 1, color = 'blue')\n",
    "# colormap = plt.cm.Reds #nipy_spectral, Set1,Paired   \n",
    "# colors = [colormap(i) for i in np.linspace(0, 1,len(ax.lines))]\n",
    "# for i,j in enumerate(ax.lines):\n",
    "#     j.set_color(colors[i])\n",
    "# ax1.legend(loc=2)    \n",
    "plt.xlabel(\"Time (h)\", fontsize=20)\n",
    "plt.ylabel(\"pMLKL\", fontsize=20)\n",
    "plt.xlim(xmin = 0, xmax = 16)\n",
    "plt.ylim(ymin = 0)\n",
    "plt.xticks(fontsize=20)\n",
    "plt.yticks(fontsize=20)\n",
    "right_side = ax.spines[\"right\"]\n",
    "right_side.set_visible(False)\n",
    "top = ax.spines[\"top\"]\n",
    "top.set_visible(False)\n",
    "ax.grid(False)\n",
    "ax.set_xticks([0, 5, 10, 15, 20, 24])\n",
    "ax.set_yticks([0, 0.5, 1.0])\n",
    "# plt.plot(x/60, y100, 'o', color = 'black', ms = 10)\n",
    "plt.tight_layout()\n",
    "# plt.savefig('mode4_pmlkl_allpars_bluecolor_nogridwdata.pdf')\n",
    "plt.show() "
   ]
  },
  {
   "cell_type": "code",
   "execution_count": 18,
   "metadata": {},
   "outputs": [
    {
     "data": {
      "image/png": "[encoded data removed]",
      "text/plain": [
       "<Figure size 432x288 with 1 Axes>"
      ]
     },
     "metadata": {
      "needs_background": "light"
     },
     "output_type": "display_data"
    }
   ],
   "source": [
    "# x = np.array([0, 30, 90, 270,480, 720, 960])\n",
    "# y100 = np.array([0, 0.00885691708746097,0.0161886154261265,0.0373005242261882, 0.2798939020159581, .7797294067, 0.98])\n",
    "fig, ax = plt.subplots(figsize = (6, 4))\n",
    "for axis in ['top','bottom','left','right']:\n",
    "    ax.spines[axis].set_linewidth(1.5)\n",
    "for n in range(len(all_pars3)):\n",
    "    plt.plot(tspan/60, mode1df_wtm3.loc[n]['MLKLa_obs'].iloc[:]/5544, lw=1.5, \n",
    "             zorder = 1, color = 'blue')\n",
    "# colormap = plt.cm.Reds #nipy_spectral, Set1,Paired   \n",
    "# colors = [colormap(i) for i in np.linspace(0, 1,len(ax.lines))]\n",
    "# for i,j in enumerate(ax.lines):\n",
    "#     j.set_color(colors[i])\n",
    "# ax1.legend(loc=2)    \n",
    "plt.xlabel(\"Time (h)\", fontsize=20)\n",
    "plt.ylabel(\"pMLKL\", fontsize=20)\n",
    "plt.xlim(xmin = 0, xmax = 16)\n",
    "plt.ylim(ymin = 0)\n",
    "plt.xticks(fontsize=20)\n",
    "plt.yticks(fontsize=20)\n",
    "right_side = ax.spines[\"right\"]\n",
    "right_side.set_visible(False)\n",
    "top = ax.spines[\"top\"]\n",
    "top.set_visible(False)\n",
    "ax.grid(False)\n",
    "ax.set_xticks([0, 5, 10, 15, 20, 24])\n",
    "ax.set_yticks([0, 0.5, 1.0])\n",
    "# plt.plot(x/60, y100, 'o', color = 'black', ms = 10)\n",
    "plt.tight_layout()\n",
    "# plt.savefig('mode4_pmlkl_allpars_bluecolor_nogridwdata.pdf')\n",
    "plt.show() "
   ]
  },
  {
   "cell_type": "code",
   "execution_count": null,
   "metadata": {},
   "outputs": [],
   "source": []
  }
 ],
 "metadata": {
  "kernelspec": {
   "display_name": "Python 3",
   "language": "python",
   "name": "python3"
  },
  "language_info": {
   "codemirror_mode": {
    "name": "ipython",
    "version": 3
   },
   "file_extension": ".py",
   "mimetype": "text/x-python",
   "name": "python",
   "nbconvert_exporter": "python",
   "pygments_lexer": "ipython3",
   "version": "3.7.5"
  }
 },
 "nbformat": 4,
 "nbformat_minor": 2
}
