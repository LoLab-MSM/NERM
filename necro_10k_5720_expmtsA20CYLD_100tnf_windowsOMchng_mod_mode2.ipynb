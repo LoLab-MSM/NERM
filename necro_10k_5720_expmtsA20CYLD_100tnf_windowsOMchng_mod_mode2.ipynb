{
 "cells": [
  {
   "cell_type": "code",
   "execution_count": 1,
   "metadata": {},
   "outputs": [],
   "source": [
    "from necro_uncal_new_updated import model as model100\n",
    "import seaborn as sns\n",
    "import numpy as np\n",
    "from matplotlib import pyplot as plt\n",
    "# from necro_pydream_model_file_8920 import model\n",
    "from pysb.simulator import ScipyOdeSimulator\n",
    "import numpy as np\n",
    "from scipy.stats import norm,uniform\n",
    "import seaborn as sns\n",
    "from matplotlib import pyplot as plt\n",
    "import random\n",
    "import os\n",
    "from pylab import *\n",
    "from pysb.core import *\n",
    "from pysb.bng import *\n",
    "from pysb.integrate import *\n",
    "import matplotlib.pyplot as plt\n",
    "import numpy as np\n",
    "from pysb.util import alias_model_components\n",
    "from scipy import stats\n",
    "from pysb.simulator import SimulationResult\n",
    "import pandas as pd\n",
    "import seaborn as sns"
   ]
  },
  {
   "cell_type": "code",
   "execution_count": 2,
   "metadata": {},
   "outputs": [],
   "source": [
    "clus0_100 = np.load('necro_pars10k_cluster0_5720_mod.npy')\n",
    "clus1_100 = np.load('necro_pars10k_cluster1_5720_mod.npy')\n",
    "clus2_100 = np.load('necro_pars10k_cluster2_5720_mod.npy')\n",
    "clus3_100 = np.load('necro_pars10k_cluster3_5720_mod.npy')"
   ]
  },
  {
   "cell_type": "code",
   "execution_count": null,
   "metadata": {},
   "outputs": [],
   "source": []
  },
  {
   "cell_type": "code",
   "execution_count": null,
   "metadata": {},
   "outputs": [],
   "source": [
    "plt.figure()\n",
    "# sns.distplot(clus0_100[:, 30])\n",
    "sns.distplot(clus0_100[:, 33])\n",
    "plt.show()"
   ]
  },
  {
   "cell_type": "code",
   "execution_count": null,
   "metadata": {},
   "outputs": [],
   "source": [
    "# fig = plt.figure(figsize=(20, 15))\n",
    "# for i in range(1,41):\n",
    "#     ax = fig.add_subplot(8, 5, i)\n",
    "    # plt.plot(samples[:, counter])\n",
    "# fig = plt.figure(figsize=(20, 5))\n",
    "fig, axes = plt.subplots(1, 3, figsize=(20, 5), sharex=True)\n",
    "plt.subplot(131)\n",
    "sns.distplot(clus2_100[:, 28])\n",
    "sns.distplot(clus2_100[:, 31])\n",
    "# plt.ylim(ymax=0.3)\n",
    "# plt.xlim(xmin = -10,xmax=10)\n",
    "plt.xticks(fontsize=14)\n",
    "plt.yticks(fontsize=14)\n",
    "# plt.xticks(np.arange(-10, 11, 5))\n",
    "plt.xticks(fontsize=16)\n",
    "plt.yticks(fontsize=16)\n",
    "plt.title('RIP1ub + A20/CYLD -> RIP1ub:A20/CYLD',fontsize=15)\n",
    "# plt.xlabel(\"Log(10) Value\", fontsize=20)\n",
    "plt.ylabel(\"Probability\", fontsize=20, labelpad=15)\n",
    "custom_lines = [Line2D([0], [0], color='blue', lw=4),\n",
    "                Line2D([0], [0], color='orange', lw=4)]\n",
    "plt.legend(custom_lines, [r'$A20_{F}$',r'$CYLD_{F}$'], prop={'size': 15}, loc = 'best')\n",
    "plt.subplots_adjust(wspace=0.3)\n",
    "plt.subplots_adjust(hspace=0.6)\n",
    "plt.subplot(132)\n",
    "sns.distplot(clus2_100[:, 29])\n",
    "sns.distplot(clus2_100[:, 32])\n",
    "# plt.ylim(ymax=0.3)\n",
    "# plt.xlim(xmin = -10,xmax=10)\n",
    "plt.xticks(fontsize=14)\n",
    "plt.yticks(fontsize=14)\n",
    "# plt.xticks(np.arange(-10, 11, 5))\n",
    "plt.xticks(fontsize=16)\n",
    "plt.yticks(fontsize=16)\n",
    "plt.title('RIP1ub:A20 -> RIP1ub + A20/CYLD', fontsize=15)\n",
    "plt.xlabel(\"Log(10) Value\", fontsize=20)\n",
    "# plt.ylabel(\"Probability\", fontsize=20, labelpad=15)\n",
    "custom_lines = [Line2D([0], [0], color='blue', lw=4),\n",
    "                Line2D([0], [0], color='orange', lw=4)]\n",
    "plt.legend(custom_lines, [r'$A20_{R}$',r'$CYLD_{R}$'], prop={'size': 15}, loc = 'best')\n",
    "plt.subplots_adjust(wspace=0.3)\n",
    "plt.subplots_adjust(hspace=0.6)\n",
    "plt.subplot(133)\n",
    "sns.distplot(clus2_100[:, 30])\n",
    "sns.distplot(clus2_100[:, 33])\n",
    "# plt.ylim(ymax=0.3)\n",
    "# plt.xlim(xmin = -10,xmax=10)\n",
    "plt.xticks(fontsize=14)\n",
    "plt.yticks(fontsize=14)\n",
    "# plt.xticks(np.arange(-10, 11, 5))\n",
    "plt.xticks(fontsize=16)\n",
    "plt.yticks(fontsize=16)\n",
    "plt.title('RIP1ub:A20/CYLD -> RIP1deub + A20/CYLD',fontsize=15)\n",
    "# plt.xlabel(\"Log(10) Value\", fontsize=17)\n",
    "# plt.ylabel(\"Probability\", fontsize=20, labelpad=15)\n",
    "custom_lines = [Line2D([0], [0], color='blue', lw=4),\n",
    "                Line2D([0], [0], color='orange', lw=4)]\n",
    "plt.legend(custom_lines, [r'$A20_{CAT}$',r'$CYLD_{CAT}$'], prop={'size': 15}, loc = 'best')\n",
    "plt.subplots_adjust(wspace=0.3)\n",
    "plt.subplots_adjust(hspace=0.6)\n",
    "plt.ylim(ymax = 0.001)\n",
    "# plt.text(0.5, 0.04, 'common X', ha='center')\n",
    "# plt.text(0.04, 0.5, 'common Y', va='center', rotation='vertical')\n",
    "# plt.xlabel(\"Log(10) Value\", fontsize=14)\n",
    "# plt.ylabel(\"Probability\", fontsize=14, labelpad=15)\n",
    "# plt.savefig('updatedkos/necro_5720_pydream_posta20cyldpardists_allchains5.pdf', format='pdf')\n",
    "# plt.savefig(\"updatedkos/necro_5720_pydream_posta20cyldpardists_allchains5.pdf\")\n",
    "# fig.savefig(\"updatedkos/necro_5720_pydream_posta20cyldpardists_allchains5.pdf\")\n",
    "plt.show()"
   ]
  },
  {
   "cell_type": "code",
   "execution_count": null,
   "metadata": {},
   "outputs": [],
   "source": [
    "from scipy.stats import norm,uniform\n",
    "from matplotlib.lines import Line2D\n",
    "idx = list(range(14, 54,1)) #index for parameter values after initial conditions 14-50\n",
    "counter = 0\n",
    "\n",
    "scaling = [2] * 40\n",
    "# idx = list(range(14, 51,1))\n",
    "row = 8\n",
    "col = 5\n",
    "# counter = 0\n",
    "n = 50000\n",
    "\n",
    "ndims = len(idx)\n",
    "\n",
    "fig = plt.figure(figsize=(20, 15))\n",
    "for i in range(1,41):\n",
    "    ax = fig.add_subplot(8, 5, i)\n",
    "    # plt.plot(samples[:, counter])\n",
    "#     sns.distplot(norm.rvs(size=n, loc=ppriors[counter], scale=scaling[counter]), color = 'red')\n",
    "    sns.distplot(clus0_100[:, 14:][:, counter], color = 'cyan')\n",
    "    plt.title(model100.parameters[idx[counter]].name, fontdict={'fontsize': 14})\n",
    "    counter += 1\n",
    "    plt.ylim(ymax=0.65)\n",
    "    plt.xlim(xmin = -10,xmax=10)\n",
    "    plt.xticks(fontsize=14)\n",
    "    plt.yticks(fontsize=14)   \n",
    "plt.subplots_adjust(wspace=0.3)\n",
    "plt.subplots_adjust(hspace=0.6)\n",
    "# plt.savefig('pydream_priorpost_traceplot_forpapermay2020_all_chains5.pdf', format='pdf')\n",
    "plt.show()"
   ]
  },
  {
   "cell_type": "code",
   "execution_count": 3,
   "metadata": {},
   "outputs": [],
   "source": [
    "tspan = np.linspace(0, 1800, 500)\n",
    "m = model100.components"
   ]
  },
  {
   "cell_type": "code",
   "execution_count": 4,
   "metadata": {},
   "outputs": [
    {
     "name": "stderr",
     "output_type": "stream",
     "text": [
      "2021-08-01 12:56:31.636 - pysb.simulator.scipyode - DEBUG - [necro_uncal_new_updated] Simulator created\n",
      "2021-08-01 12:56:32.276 - pysb.simulator.scipyode - DEBUG - [necro_uncal_new_updated] Equation mode set to \"cython\"\n",
      "2021-08-01 12:56:32.386 - pysb.simulator.scipyode - INFO - [necro_uncal_new_updated] Simulation(s) started\n",
      "2021-08-01 12:56:32.505 - pysb.simulator.scipyode - DEBUG - [necro_uncal_new_updated] Multi-processor (parallel) mode using 20 processes\n",
      "2021-08-01 12:57:29.224 - pysb.simulator.scipyode - INFO - [necro_uncal_new_updated] All simulation(s) complete\n",
      "2021-08-01 12:57:29.225 - pysb.simulator.scipyode - DEBUG - [necro_uncal_new_updated] SimulationResult constructor started\n",
      "2021-08-01 12:57:30.097 - pysb.simulator.scipyode - DEBUG - [necro_uncal_new_updated] SimulationResult constructor finished\n"
     ]
    }
   ],
   "source": [
    "solverwt1 = ScipyOdeSimulator(model100, tspan=tspan, verbose = True)\n",
    "wtclus1 = solverwt1.run(initials = {m.TNF(brec=None): 2326},\n",
    "                        param_values=clus1_100, num_processors = 20)\n",
    "# wtclus3.save('h5mod/pydyno_s36prod_10k_5720_100tnf_c3parsmod_30hrwt.h5',include_obs_exprs = True)\n",
    "c1df100wt = wtclus1.dataframe"
   ]
  },
  {
   "cell_type": "code",
   "execution_count": 5,
   "metadata": {},
   "outputs": [
    {
     "data": {
      "image/png": "[encoded data removed]",
      "text/plain": [
       "<Figure size 432x288 with 1 Axes>"
      ]
     },
     "metadata": {
      "needs_background": "light"
     },
     "output_type": "display_data"
    }
   ],
   "source": [
    "plt.figure()\n",
    "for n in range(len(clus1_100)):\n",
    "    plt.plot(tspan/60, c1df100wt.loc[n]['MLKLa_obs'].iloc[:], lw=1.5, color ='blue', zorder = 1, alpha = 0.5)\n",
    "plt.show()"
   ]
  },
  {
   "cell_type": "code",
   "execution_count": 6,
   "metadata": {},
   "outputs": [
    {
     "name": "stderr",
     "output_type": "stream",
     "text": [
      "2021-08-01 12:57:36.270 - pysb.simulator.scipyode - DEBUG - [necro_uncal_new_updated] Simulator created\n",
      "2021-08-01 12:57:36.275 - pysb.simulator.scipyode - DEBUG - [necro_uncal_new_updated] Equation mode set to \"cython\"\n",
      "2021-08-01 12:57:36.310 - pysb.simulator.scipyode - INFO - [necro_uncal_new_updated] Simulation(s) started\n",
      "2021-08-01 12:57:36.413 - pysb.simulator.scipyode - DEBUG - [necro_uncal_new_updated] Multi-processor (parallel) mode using 20 processes\n",
      "2021-08-01 12:58:30.707 - pysb.simulator.scipyode - INFO - [necro_uncal_new_updated] All simulation(s) complete\n",
      "2021-08-01 12:58:30.708 - pysb.simulator.scipyode - DEBUG - [necro_uncal_new_updated] SimulationResult constructor started\n",
      "2021-08-01 12:58:31.544 - pysb.simulator.scipyode - DEBUG - [necro_uncal_new_updated] SimulationResult constructor finished\n"
     ]
    }
   ],
   "source": [
    "solvera201 = ScipyOdeSimulator(model100, tspan=tspan, verbose = True)\n",
    "a20clus1 = solvera201.run(initials = {m.TNF(brec=None): 2326, m.A20(brip = None):0},\n",
    "                         param_values=clus1_100, num_processors = 20)\n",
    "# a20clus3.save('h5mod/pydyno_s36prod_10k_5720_100tnf_c3parsmod_30hra20ko.h5',include_obs_exprs = True)\n",
    "c1df100a20ko = a20clus1.dataframe"
   ]
  },
  {
   "cell_type": "code",
   "execution_count": 7,
   "metadata": {},
   "outputs": [
    {
     "data": {
      "image/png": "[encoded data removed]",
      "text/plain": [
       "<Figure size 432x288 with 1 Axes>"
      ]
     },
     "metadata": {
      "needs_background": "light"
     },
     "output_type": "display_data"
    }
   ],
   "source": [
    "plt.figure()\n",
    "for n in range(len(clus1_100)):\n",
    "    plt.plot(tspan/60, c1df100a20ko.loc[n]['MLKLa_obs'].iloc[:], lw=1.5, color ='blue', zorder = 1, alpha = 0.3)\n",
    "#     plt.plot(tspan/60, c3df100wt.loc[n]['MLKLa_obs'].iloc[:], lw=1.5, color ='red', zorder = 2, alpha = 0.2)\n",
    "plt.show()   "
   ]
  },
  {
   "cell_type": "code",
   "execution_count": 8,
   "metadata": {},
   "outputs": [
    {
     "name": "stderr",
     "output_type": "stream",
     "text": [
      "2021-08-01 12:58:37.268 - pysb.simulator.scipyode - DEBUG - [necro_uncal_new_updated] Simulator created\n",
      "2021-08-01 12:58:37.273 - pysb.simulator.scipyode - DEBUG - [necro_uncal_new_updated] Equation mode set to \"cython\"\n",
      "2021-08-01 12:58:37.307 - pysb.simulator.scipyode - INFO - [necro_uncal_new_updated] Simulation(s) started\n",
      "2021-08-01 12:58:37.409 - pysb.simulator.scipyode - DEBUG - [necro_uncal_new_updated] Multi-processor (parallel) mode using 20 processes\n",
      "2021-08-01 12:59:33.802 - pysb.simulator.scipyode - INFO - [necro_uncal_new_updated] All simulation(s) complete\n",
      "2021-08-01 12:59:33.803 - pysb.simulator.scipyode - DEBUG - [necro_uncal_new_updated] SimulationResult constructor started\n",
      "2021-08-01 12:59:34.698 - pysb.simulator.scipyode - DEBUG - [necro_uncal_new_updated] SimulationResult constructor finished\n"
     ]
    }
   ],
   "source": [
    "solvera201 = ScipyOdeSimulator(model100, tspan=tspan, verbose = True)\n",
    "a20clus1 = solvera201.run(initials = {m.TNF(brec=None): 2326, m.A20(brip = None):900000},\n",
    "                         param_values=clus1_100, num_processors = 20)\n",
    "# a20clus3.save('h5mod/pydyno_s36prod_10k_5720_100tnf_c3parsmod_30hra20ko.h5',include_obs_exprs = True)\n",
    "c1df100a20oe = a20clus1.dataframe"
   ]
  },
  {
   "cell_type": "code",
   "execution_count": 9,
   "metadata": {},
   "outputs": [
    {
     "data": {
      "image/png": "[encoded data removed]",
      "text/plain": [
       "<Figure size 432x288 with 1 Axes>"
      ]
     },
     "metadata": {
      "needs_background": "light"
     },
     "output_type": "display_data"
    }
   ],
   "source": [
    "plt.figure()\n",
    "for n in range(len(clus1_100)):\n",
    "    plt.plot(tspan/60, c1df100a20oe.loc[n]['MLKLa_obs'].iloc[:], lw=1.5, color ='blue', zorder = 1, alpha = 0.5)\n",
    "plt.show() "
   ]
  },
  {
   "cell_type": "code",
   "execution_count": 10,
   "metadata": {},
   "outputs": [
    {
     "name": "stderr",
     "output_type": "stream",
     "text": [
      "2021-08-01 12:59:40.380 - pysb.simulator.scipyode - DEBUG - [necro_uncal_new_updated] Simulator created\n",
      "2021-08-01 12:59:40.385 - pysb.simulator.scipyode - DEBUG - [necro_uncal_new_updated] Equation mode set to \"cython\"\n",
      "2021-08-01 12:59:40.419 - pysb.simulator.scipyode - INFO - [necro_uncal_new_updated] Simulation(s) started\n",
      "2021-08-01 12:59:40.625 - pysb.simulator.scipyode - DEBUG - [necro_uncal_new_updated] Multi-processor (parallel) mode using 20 processes\n",
      "2021-08-01 13:00:38.524 - pysb.simulator.scipyode - INFO - [necro_uncal_new_updated] All simulation(s) complete\n",
      "2021-08-01 13:00:38.525 - pysb.simulator.scipyode - DEBUG - [necro_uncal_new_updated] SimulationResult constructor started\n",
      "2021-08-01 13:00:39.384 - pysb.simulator.scipyode - DEBUG - [necro_uncal_new_updated] SimulationResult constructor finished\n"
     ]
    }
   ],
   "source": [
    "solvercyld1 = ScipyOdeSimulator(model100, tspan=tspan, verbose = True)\n",
    "cyldclus1 = solvercyld1.run(initials = {m.TNF(brec=None): 2326, m.CYLD(brip=None, btraf = None):0},\n",
    "                         param_values=clus1_100, num_processors = 20)\n",
    "# cyldclus3.save('h5mod/pydyno_s36prod_10k_5720_100tnf_c3parsmod_30hrcyldko.h5',include_obs_exprs = True)\n",
    "c1df100cyldko = cyldclus1.dataframe"
   ]
  },
  {
   "cell_type": "code",
   "execution_count": 11,
   "metadata": {},
   "outputs": [
    {
     "data": {
      "image/png": "[encoded data removed]",
      "text/plain": [
       "<Figure size 432x288 with 1 Axes>"
      ]
     },
     "metadata": {
      "needs_background": "light"
     },
     "output_type": "display_data"
    }
   ],
   "source": [
    "plt.figure()\n",
    "for n in range(len(clus1_100)):\n",
    "    plt.plot(tspan/60, c1df100cyldko.loc[n]['MLKLa_obs'].iloc[:], lw=1.5, color ='blue', zorder = 1, alpha = 0.5)\n",
    "plt.show() "
   ]
  },
  {
   "cell_type": "code",
   "execution_count": 12,
   "metadata": {},
   "outputs": [
    {
     "name": "stderr",
     "output_type": "stream",
     "text": [
      "2021-08-01 13:00:45.161 - pysb.simulator.scipyode - DEBUG - [necro_uncal_new_updated] Simulator created\n",
      "2021-08-01 13:00:45.165 - pysb.simulator.scipyode - DEBUG - [necro_uncal_new_updated] Equation mode set to \"cython\"\n",
      "2021-08-01 13:00:45.200 - pysb.simulator.scipyode - INFO - [necro_uncal_new_updated] Simulation(s) started\n",
      "2021-08-01 13:00:45.304 - pysb.simulator.scipyode - DEBUG - [necro_uncal_new_updated] Multi-processor (parallel) mode using 20 processes\n",
      "2021-08-01 13:01:41.640 - pysb.simulator.scipyode - INFO - [necro_uncal_new_updated] All simulation(s) complete\n",
      "2021-08-01 13:01:41.642 - pysb.simulator.scipyode - DEBUG - [necro_uncal_new_updated] SimulationResult constructor started\n",
      "2021-08-01 13:01:42.489 - pysb.simulator.scipyode - DEBUG - [necro_uncal_new_updated] SimulationResult constructor finished\n"
     ]
    }
   ],
   "source": [
    "solvercyld1 = ScipyOdeSimulator(model100, tspan=tspan, verbose = True)\n",
    "cyldclus1 = solvercyld1.run(initials = {m.TNF(brec=None): 2326, m.CYLD(brip=None, btraf = None):900000},\n",
    "                         param_values=clus1_100, num_processors = 20)\n",
    "# cyldclus3.save('h5mod/pydyno_s36prod_10k_5720_100tnf_c3parsmod_30hrcyldko.h5',include_obs_exprs = True)\n",
    "c1f100cyldoe = cyldclus1.dataframe"
   ]
  },
  {
   "cell_type": "code",
   "execution_count": 13,
   "metadata": {},
   "outputs": [
    {
     "ename": "NameError",
     "evalue": "name 'c1df100cyldoe' is not defined",
     "output_type": "error",
     "traceback": [
      "\u001b[0;31m---------------------------------------------------------------------------\u001b[0m",
      "\u001b[0;31mNameError\u001b[0m                                 Traceback (most recent call last)",
      "\u001b[0;32m<ipython-input-13-20ca4ca22077>\u001b[0m in \u001b[0;36m<module>\u001b[0;34m\u001b[0m\n\u001b[1;32m      1\u001b[0m \u001b[0mplt\u001b[0m\u001b[0;34m.\u001b[0m\u001b[0mfigure\u001b[0m\u001b[0;34m(\u001b[0m\u001b[0;34m)\u001b[0m\u001b[0;34m\u001b[0m\u001b[0;34m\u001b[0m\u001b[0m\n\u001b[1;32m      2\u001b[0m \u001b[0;32mfor\u001b[0m \u001b[0mn\u001b[0m \u001b[0;32min\u001b[0m \u001b[0mrange\u001b[0m\u001b[0;34m(\u001b[0m\u001b[0mlen\u001b[0m\u001b[0;34m(\u001b[0m\u001b[0mclus1_100\u001b[0m\u001b[0;34m)\u001b[0m\u001b[0;34m)\u001b[0m\u001b[0;34m:\u001b[0m\u001b[0;34m\u001b[0m\u001b[0;34m\u001b[0m\u001b[0m\n\u001b[0;32m----> 3\u001b[0;31m     \u001b[0mplt\u001b[0m\u001b[0;34m.\u001b[0m\u001b[0mplot\u001b[0m\u001b[0;34m(\u001b[0m\u001b[0mtspan\u001b[0m\u001b[0;34m/\u001b[0m\u001b[0;36m60\u001b[0m\u001b[0;34m,\u001b[0m \u001b[0mc1df100cyldoe\u001b[0m\u001b[0;34m.\u001b[0m\u001b[0mloc\u001b[0m\u001b[0;34m[\u001b[0m\u001b[0mn\u001b[0m\u001b[0;34m]\u001b[0m\u001b[0;34m[\u001b[0m\u001b[0;34m'MLKLa_obs'\u001b[0m\u001b[0;34m]\u001b[0m\u001b[0;34m.\u001b[0m\u001b[0miloc\u001b[0m\u001b[0;34m[\u001b[0m\u001b[0;34m:\u001b[0m\u001b[0;34m]\u001b[0m\u001b[0;34m,\u001b[0m \u001b[0mlw\u001b[0m\u001b[0;34m=\u001b[0m\u001b[0;36m1.5\u001b[0m\u001b[0;34m,\u001b[0m \u001b[0mcolor\u001b[0m \u001b[0;34m=\u001b[0m\u001b[0;34m'blue'\u001b[0m\u001b[0;34m,\u001b[0m \u001b[0mzorder\u001b[0m \u001b[0;34m=\u001b[0m \u001b[0;36m1\u001b[0m\u001b[0;34m,\u001b[0m \u001b[0malpha\u001b[0m \u001b[0;34m=\u001b[0m \u001b[0;36m0.5\u001b[0m\u001b[0;34m)\u001b[0m\u001b[0;34m\u001b[0m\u001b[0;34m\u001b[0m\u001b[0m\n\u001b[0m\u001b[1;32m      4\u001b[0m \u001b[0mplt\u001b[0m\u001b[0;34m.\u001b[0m\u001b[0mshow\u001b[0m\u001b[0;34m(\u001b[0m\u001b[0;34m)\u001b[0m\u001b[0;34m\u001b[0m\u001b[0;34m\u001b[0m\u001b[0m\n",
      "\u001b[0;31mNameError\u001b[0m: name 'c1df100cyldoe' is not defined"
     ]
    },
    {
     "data": {
      "text/plain": [
       "<Figure size 432x288 with 0 Axes>"
      ]
     },
     "metadata": {},
     "output_type": "display_data"
    }
   ],
   "source": [
    "plt.figure()\n",
    "for n in range(len(clus1_100)):\n",
    "    plt.plot(tspan/60, c1df100cyldoe.loc[n]['MLKLa_obs'].iloc[:], lw=1.5, color ='blue', zorder = 1, alpha = 0.5)\n",
    "plt.show() "
   ]
  },
  {
   "cell_type": "code",
   "execution_count": null,
   "metadata": {},
   "outputs": [],
   "source": [
    "x1001 = np.array([0, 30, 90, 270])\n",
    "x1002 = np.array([480, 720, 960])\n",
    "y1001 = np.array([0, 0.00885691708746097,0.0161886154261265,0.0373005242261882])\n",
    "y1002 = np.array([0.2798939020159581, .7797294067, .98])"
   ]
  },
  {
   "cell_type": "code",
   "execution_count": null,
   "metadata": {},
   "outputs": [],
   "source": [
    "import matplotlib\n",
    "matplotlib.rc('xtick', labelsize=14) \n",
    "matplotlib.rc('ytick', labelsize=14) \n",
    "fig, ((ax1, ax2), (ax3, ax4)) = plt.subplots(2,2, figsize = (15,10))\n",
    "# tspan = np.linspace(0, 1440, 300)\n",
    "for n in range(len(clus2_100)):\n",
    "#     ax1.vlines(x = 600, ymin = 0, ymax = 5544, linestyle = 'dashed', colors= 'r', zorder = 2, label ='50% pMLKL')\n",
    "    ax1.plot(tspan/60, c2df100a20ko.loc[n]['MLKLa_obs'].iloc[:]/5544, lw=1.5, color ='blue', zorder = 1, alpha = 0.2)\n",
    "    ax1.plot(tspan/60, c2df100wt.loc[n]['MLKLa_obs'].iloc[:], lw=1.5, color ='red', zorder = 2, alpha = 0.5)\n",
    "\n",
    "    ax1.errorbar(x1001/60, y1001,\n",
    "                 yerr=[(0, 0.00885691708746097,0.0161886154261265,0.0373005242261882),\n",
    "                 (.07,.07,.07,.07)],\n",
    "                       fmt='.k', ecolor ='red', alpha = 0.75, zorder = 2)\n",
    "    ax1.errorbar(x1002/60, y1002,\n",
    "                 yerr= .07, fmt='.k', ecolor ='red', alpha = 0.75, zorder = 2)\n",
    "    plt.legend(['A20KO'], loc = 'best', fontsize = 14)\n",
    "#     plt.ylim(ymax = 5544, ymin =0)\n",
    "#     plt.xlim(xmax = 1440, xmin = 0)\n",
    "    plt.xticks(fontsize=14)\n",
    "    plt.yticks(fontsize=14)\n",
    "    ax1.set_xlim(xmin = 0, xmax = 24)\n",
    "    ax1.set_ylim(ymin = 0)\n",
    "    plt.xticks(fontsize=14)\n",
    "    plt.yticks(fontsize=14)\n",
    "    ax1.grid(False)   \n",
    "    custom_lines = [Line2D([0], [0], color='blue', lw=4),\n",
    "                   Line2D([0], [0], color='red', lw=4)]\n",
    "    ax1.legend(custom_lines, ['A20KO', 'pMLKL Data'], prop={'size': 12}, loc = 'best')\n",
    "    \n",
    "# tspan2 = np.linspace(0, 2160, 300)    \n",
    "for n in range(len(clus2_100)):\n",
    "#     ax2.vlines(x = 600, ymin = 0, ymax = 5544, linestyle = 'dashed', colors= 'r', zorder = 2, label= '50% pMLKL')\n",
    "    ax2.plot(tspan/60, c2df100cyldko.loc[n]['MLKLa_obs'].iloc[:]/5544,lw=1.5, color ='blue', zorder = 1, alpha = 0.2)\n",
    "    ax2.errorbar(x1001/60, y1001,\n",
    "                 yerr=[(0, 0.00885691708746097,0.0161886154261265,0.0373005242261882),\n",
    "                 (.07,.07,.07,.07)],\n",
    "                       fmt='.k', ecolor ='red', alpha = 0.75, zorder = 2)\n",
    "    ax2.errorbar(x1002/60, y1002,\n",
    "                 yerr= .07, fmt='.k', ecolor ='red', alpha = 0.75, zorder = 2)\n",
    "    plt.xticks(fontsize=14)\n",
    "    plt.yticks(fontsize=14)\n",
    "    ax2.set_xlim(xmin = 0, xmax = 24)\n",
    "    ax2.set_ylim(ymin = 0)\n",
    "    ax2.grid(False)  \n",
    "    custom_lines = [Line2D([0], [0], color='blue', lw=4),\n",
    "                   Line2D([0], [0], color='red', lw=4)]\n",
    "    ax2.legend(custom_lines, ['CYLDKO', 'pMLKL Data'], prop={'size': 12}, loc = 'best')\n",
    "    \n",
    "for n in range(len(clus2_100)):\n",
    "#     ax3.vlines(x = 600, ymin = 0, ymax = 5544, linestyle = 'dashed', colors= 'r', zorder = 2, label ='50% pMLKL')\n",
    "    ax3.plot(tspan/60, c2df100a20oe.loc[n]['MLKLa_obs'].iloc[:]/5544,lw=1.5, color ='blue', zorder = 1, alpha = 0.2)  \n",
    "    ax3.errorbar(x1001/60, y1001,\n",
    "                 yerr=[(0, 0.00885691708746097,0.0161886154261265,0.0373005242261882),\n",
    "                 (.07,.07,.07,.07)],\n",
    "                       fmt='.k', ecolor ='red', alpha = 0.75, zorder = 2)\n",
    "    ax3.errorbar(x1002/60, y1002,\n",
    "                 yerr= .07, fmt='.k', ecolor ='red', alpha = 0.75, zorder = 2)\n",
    "    plt.xticks(fontsize=14)\n",
    "    plt.yticks(fontsize=14)\n",
    "    ax3.set_xlim(xmin = 0, xmax = 24)\n",
    "    ax3.set_ylim(ymin = 0)\n",
    "    ax3.grid(False)  \n",
    "    custom_lines = [Line2D([0], [0], color='blue', lw=4),\n",
    "                   Line2D([0], [0], color='red', lw=4)]\n",
    "    ax3.legend(custom_lines, ['A20OE', 'pMLKL Data'], prop={'size': 12}, loc = 'best')\n",
    "    \n",
    "for n in range(len(clus2_100)):\n",
    "    plt.plot(tspan/60, c3df100cyldoe.loc[n]['MLKLa_obs'].iloc[:]/5544, lw=1.5, color ='blue', zorder = 1, alpha = 0.2)\n",
    "    ax4.errorbar(x1001/60, y1001,\n",
    "                 yerr=[(0, 0.00885691708746097,0.0161886154261265,0.0373005242261882),\n",
    "                 (.07,.07,.07,.07)],\n",
    "                       fmt='.k', ecolor ='red', alpha = 0.75, zorder = 2)\n",
    "    ax4.errorbar(x1002/60, y1002,\n",
    "                 yerr= .07, fmt='.k', ecolor ='red', alpha = 0.75, zorder = 2)\n",
    "    plt.xticks(fontsize=14)\n",
    "    plt.yticks(fontsize=14)\n",
    "#     plt.xlabel(\"Time (in hr)\", fontsize=15)\n",
    "#     plt.ylabel(\"Amount (normalized)\", fontsize=15)\n",
    "    ax4.set_xlim(xmin = 0, xmax = 24)\n",
    "    ax4.set_ylim(ymin = 0)\n",
    "    plt.xticks(fontsize=14)\n",
    "    plt.yticks(fontsize=14)\n",
    "    ax4.grid(False)  \n",
    "    custom_lines = [Line2D([0], [0], color='blue', lw=4),\n",
    "                   Line2D([0], [0], color='red', lw=4)]\n",
    "    ax4.legend(custom_lines, ['CYLDOE', 'pMLKL Data'], prop={'size': 12}, loc = 'best')\n",
    " \n",
    "fig.text(0.5, 0.04, 'Time (Hours)', ha='center', va='center',fontsize = 16)\n",
    "fig.text(0.06, 0.5, 'Amount of A20 and CYLD pMLKL under 100 ng/ml TNF(Normalized)',\n",
    "         ha='center', va='center', rotation='vertical', fontsize = 16)\n",
    "# plt.savefig('pmlkl_100tnf_4clus_5720_A20KO.pdf')\n",
    "plt.show()"
   ]
  },
  {
   "cell_type": "code",
   "execution_count": null,
   "metadata": {},
   "outputs": [],
   "source": []
  },
  {
   "cell_type": "code",
   "execution_count": null,
   "metadata": {},
   "outputs": [],
   "source": [
    "for i,sp in enumerate(np.linspace(0, 1800, 500)):\n",
    "    print(i,\":\",sp)"
   ]
  },
  {
   "cell_type": "code",
   "execution_count": null,
   "metadata": {},
   "outputs": [],
   "source": [
    "sim_idx_to_keep = [idx for idx in range(len(clus3_100)) if c3df100a20ko['MLKLa_obs'][idx].iloc[-200] < 2772]\n",
    "print(sim_idx_to_keep)"
   ]
  },
  {
   "cell_type": "code",
   "execution_count": null,
   "metadata": {},
   "outputs": [],
   "source": []
  },
  {
   "cell_type": "code",
   "execution_count": null,
   "metadata": {},
   "outputs": [],
   "source": []
  },
  {
   "cell_type": "code",
   "execution_count": null,
   "metadata": {},
   "outputs": [],
   "source": [
    "c0df100wt['MLKLa_obs']/5544"
   ]
  },
  {
   "cell_type": "code",
   "execution_count": null,
   "metadata": {},
   "outputs": [],
   "source": [
    "import matplotlib.pyplot as plt\n",
    "x1001 = np.array([0, 30, 90, 270])\n",
    "x1002 = np.array([480, 720, 960])\n",
    "y1001 = np.array([0, 0.00885691708746097,0.0161886154261265,0.0373005242261882])\n",
    "y1002 = np.array([0.2798939020159581, .7797294067, 0.98])\n",
    "\n",
    "x101 = np.array([0, 30, 90, 270, 480])\n",
    "x102 = np.array([720, 960])\n",
    "y101 = np.array([0, 0.0106013664572332,0.00519576571714913,0.02967443048221,0.050022163974868])\n",
    "y102 = np.array([0.17, 0.47])\n",
    "\n",
    "x1 = np.array([0, 30, 90, 270,480, 720])\n",
    "x2 = np.array([960])\n",
    "y2 = np.array([0.109561346])\n",
    "y1 = np.array([0,0.085233734,0.006063293,0.009426917,0.011334223, 0.02])\n",
    "\n",
    "x01 = np.array([0, 30, 90, 270,480, 720, 960])\n",
    "y01 = np.array([0, 0.006714721,0.007776423,0.00919829,0.001772636, 0.005, 0.013633013])\n",
    "\n",
    "# Combine the results dataframes into a single dataframe with a 'group' index,\n",
    "# in addition to \"simulation\" and \"time\" indexes\n",
    "df1 = pd.concat([wtclus3.dataframe/5544],\n",
    "               keys=['wt'],\n",
    "               names=['group', 'simulation', 'time'])\n",
    "\n",
    "# Add observable/group pairs as needed\n",
    "obs_to_plot1 = {\n",
    "    ('MLKLa_obs', 'wt'): 'blue'\n",
    "}\n",
    "\n",
    "lower_quantile = 0.02  # 10%\n",
    "upper_quantile = .97  # 90%\n",
    "median = 0.5\n",
    "plt.figure()\n",
    "# plt.style.use('classic')\n",
    "matplotlib.rc('xtick', labelsize=14) \n",
    "matplotlib.rc('ytick', labelsize=14) \n",
    "# fig, ((ax1, ax2), (ax3, ax4)) = plt.subplots(2,2, figsize = (15,10))\n",
    "# plt.subplot(211)\n",
    "# legend_keys = []\n",
    "for obs_pair, colour in obs_to_plot1.items():\n",
    "    obs, group = obs_pair\n",
    "    # Calculate 10%, 50%, and 90% quantiles for observable\n",
    "    quantile_data = df1[obs].loc[group].groupby(['time']).quantile(\n",
    "        q=[lower_quantile, median, upper_quantile]).unstack()\n",
    "    time_hrs = quantile_data.index / 60\n",
    "    # Plot the median line (50% quantile) for the observable\n",
    "#     ax.plot(time_hrs, quantile_data.loc[:, median], color=colour)\n",
    "    # Plot the 10% and 90% quantiles as an envelope\n",
    "    plt.fill_between(time_hrs,\n",
    "                    quantile_data.loc[:, lower_quantile],\n",
    "                    quantile_data.loc[:, upper_quantile],\n",
    "                    color=colour)\n",
    "# ax.edgecolor: .15\n",
    "# ax.linewidth: 1.25\n",
    "# plt.title('Model fitting across all TNF doses with Exp. Data',fontsize=14) # Title\n",
    "plt.ylabel('Amount [molecules/cell]', fontsize = 14) # Y label\n",
    "plt.xlabel('Time (hours)', fontsize = 14) # X label\n",
    "plt.xlim(xmax =24)\n",
    "plt.ylim(ymin = 1e-3, ymax = 1.009)\n",
    "plt.tight_layout()\n",
    "# custom_lines = [Line2D([0], [0], color='blue', lw=4)]\n",
    "# plt.legend(custom_lines, ['pMLKL'], prop={'size': 10}, loc = 'best')\n",
    "plt.savefig(\"necro_10k_5720_wdatac3_tnf100.pdf\")\n",
    "plt.show()"
   ]
  },
  {
   "cell_type": "code",
   "execution_count": null,
   "metadata": {},
   "outputs": [],
   "source": [
    "import matplotlib.pyplot as plt\n",
    "x1001 = np.array([0, 30, 90, 270])\n",
    "x1002 = np.array([480, 720, 960])\n",
    "y1001 = np.array([0, 0.00885691708746097,0.0161886154261265,0.0373005242261882])\n",
    "y1002 = np.array([0.2798939020159581, .7797294067, 0.98])\n",
    "\n",
    "x101 = np.array([0, 30, 90, 270, 480])\n",
    "x102 = np.array([720, 960])\n",
    "y101 = np.array([0, 0.0106013664572332,0.00519576571714913,0.02967443048221,0.050022163974868])\n",
    "y102 = np.array([0.17, 0.47])\n",
    "\n",
    "x1 = np.array([0, 30, 90, 270,480, 720])\n",
    "x2 = np.array([960])\n",
    "y2 = np.array([0.109561346])\n",
    "y1 = np.array([0,0.085233734,0.006063293,0.009426917,0.011334223, 0.02])\n",
    "\n",
    "x01 = np.array([0, 30, 90, 270,480, 720, 960])\n",
    "y01 = np.array([0, 0.006714721,0.007776423,0.00919829,0.001772636, 0.005, 0.013633013])\n",
    "\n",
    "# Combine the results dataframes into a single dataframe with a 'group' index,\n",
    "# in addition to \"simulation\" and \"time\" indexes\n",
    "df1 = pd.concat([wtclus0.dataframe/5544],\n",
    "               keys=['wt100'],\n",
    "               names=['group', 'simulation', 'time'])\n",
    "# df2 = pd.concat([wtclus1.dataframe],\n",
    "#                keys=['wt10'],\n",
    "#                names=['group', 'simulation', 'time'])\n",
    "# df3 = pd.concat([wtclus2.dataframe],\n",
    "#                keys=['wt1'],\n",
    "#                names=['group', 'simulation', 'time'])\n",
    "# df4 = pd.concat([wtclus3.dataframe],\n",
    "#                keys=['wt01'],\n",
    "#                names=['group', 'simulation', 'time'])\n",
    "\n",
    "# Add observable/group pairs as needed\n",
    "obs_to_plot1 = {\n",
    "    ('MLKLa_obs', 'wt100'): 'blue'\n",
    "}\n",
    "# obs_to_plot2 = {\n",
    "#     ('MLKLa_obs', 'wt10'): 'orange'\n",
    "# }\n",
    "# obs_to_plot3 = {\n",
    "#     ('MLKLa_obs', 'wt1'): 'green'\n",
    "# }\n",
    "# obs_to_plot4 = {\n",
    "#     ('MLKLa_obs', 'wt01'): 'red'\n",
    "# }\n",
    "\n",
    "lower_quantile = 0.02  # 10%\n",
    "upper_quantile = .97  # 90%\n",
    "median = 0.5\n",
    "plt.figure()\n",
    "# plt.style.use('classic')\n",
    "# matplotlib.rc('xtick', labelsize=14) \n",
    "# matplotlib.rc('ytick', labelsize=14) \n",
    "# fig, ((ax1, ax2), (ax3, ax4)) = plt.subplots(2,2, figsize = (15,10))\n",
    "# plt.subplot(211)\n",
    "# legend_keys = []\n",
    "for obs_pair, colour in obs_to_plot1.items():\n",
    "    obs, group = obs_pair\n",
    "    # Calculate 10%, 50%, and 90% quantiles for observable\n",
    "    quantile_data = df1[obs].loc[group].groupby(['time']).quantile(\n",
    "        q=[lower_quantile, median, upper_quantile]).unstack()\n",
    "    time_hrs = quantile_data.index / 60\n",
    "    # Plot the median line (50% quantile) for the observable\n",
    "#     ax.plot(time_hrs, quantile_data.loc[:, median], color=colour)\n",
    "    # Plot the 10% and 90% quantiles as an envelope\n",
    "    plt.fill_between(time_hrs,\n",
    "                    quantile_data.loc[:, lower_quantile],\n",
    "                    quantile_data.loc[:, upper_quantile],\n",
    "                    color=colour)\n",
    "# ax.edgecolor: .15\n",
    "# ax.linewidth: 1.25\n",
    "# plt.title('Model fitting across all TNF doses with Exp. Data',fontsize=14) # Title\n",
    "plt.ylabel('Amount [molecules/cell]', fontsize = 14) # Y label\n",
    "plt.xlabel('Time (hours)', fontsize = 14) # X label\n",
    "plt.xlim(xmax =24)\n",
    "plt.ylim(ymin = 1e-3, ymax = 1.001)\n",
    "    #100 TNF\n",
    "plt.grid(False)\n",
    "locs, labels = xticks()            # Get locations and labels\n",
    "# xticks(xticks, [labels])\n",
    "# plt.errorbar(x1001/60, y1001*5544,\n",
    "#              yerr=[(0, 0.00885691708746097*5544,0.0161886154261265*5544,0.0373005242261882*5544),\n",
    "#              (400,400,400,400)],\n",
    "#                    fmt='.k', ecolor ='black', alpha = 0.75, label ='10 ng/ml', zorder = 2)\n",
    "# plt.errorbar(x1002/60, y1002*5544,\n",
    "#              yerr= 400, fmt='.k', ecolor ='black', alpha = 0.75, label ='10 ng/ml', zorder = 2)\n",
    "plt.tight_layout()\n",
    "\n",
    "# custom_lines = [Line2D([0], [0], color='blue', lw=4),\n",
    "#                 Line2D([0], [0], color='orange', lw=4),\n",
    "#                 Line2D([0], [0], color='green', lw=4),\n",
    "#                 Line2D([0], [0], color='red', lw=4),\n",
    "#                 Line2D([0], [0], color='black', lw=4)]\n",
    "# plt.legend(custom_lines, ['100','10','1','0.1','Data'], prop={'size': 10}, loc = 'best')\n",
    "fig.savefig(\"necro_10k_5720_wdatac0_tnf100.pdf\")\n",
    "plt.show()"
   ]
  },
  {
   "cell_type": "code",
   "execution_count": null,
   "metadata": {},
   "outputs": [],
   "source": [
    "import matplotlib.pyplot as plt\n",
    "x1001 = np.array([0, 30, 90, 270])\n",
    "x1002 = np.array([480, 720, 960])\n",
    "y1001 = np.array([0, 0.00885691708746097,0.0161886154261265,0.0373005242261882])\n",
    "y1002 = np.array([0.2798939020159581, .7797294067, 0.98])\n",
    "\n",
    "x101 = np.array([0, 30, 90, 270, 480])\n",
    "x102 = np.array([720, 960])\n",
    "y101 = np.array([0, 0.0106013664572332,0.00519576571714913,0.02967443048221,0.050022163974868])\n",
    "y102 = np.array([0.17, 0.47])\n",
    "\n",
    "x1 = np.array([0, 30, 90, 270,480, 720])\n",
    "x2 = np.array([960])\n",
    "y2 = np.array([0.109561346])\n",
    "y1 = np.array([0,0.085233734,0.006063293,0.009426917,0.011334223, 0.02])\n",
    "\n",
    "x01 = np.array([0, 30, 90, 270,480, 720, 960])\n",
    "y01 = np.array([0, 0.006714721,0.007776423,0.00919829,0.001772636, 0.005, 0.013633013])\n",
    "\n",
    "# Combine the results dataframes into a single dataframe with a 'group' index,\n",
    "# in addition to \"simulation\" and \"time\" indexes\n",
    "df1 = pd.concat([wtclus0.dataframe],\n",
    "               keys=['wt100'],\n",
    "               names=['group', 'simulation', 'time'])\n",
    "# df2 = pd.concat([wtclus1.dataframe],\n",
    "#                keys=['wt10'],\n",
    "#                names=['group', 'simulation', 'time'])\n",
    "# df3 = pd.concat([wtclus2.dataframe],\n",
    "#                keys=['wt1'],\n",
    "#                names=['group', 'simulation', 'time'])\n",
    "# df4 = pd.concat([wtclus3.dataframe],\n",
    "#                keys=['wt01'],\n",
    "#                names=['group', 'simulation', 'time'])\n",
    "\n",
    "# Add observable/group pairs as needed\n",
    "obs_to_plot1 = {\n",
    "    ('MLKLa_obs', 'wt100'): 'blue'\n",
    "}\n",
    "# obs_to_plot2 = {\n",
    "#     ('MLKLa_obs', 'wt10'): 'orange'\n",
    "# }\n",
    "# obs_to_plot3 = {\n",
    "#     ('MLKLa_obs', 'wt1'): 'green'\n",
    "# }\n",
    "# obs_to_plot4 = {\n",
    "#     ('MLKLa_obs', 'wt01'): 'red'\n",
    "# }\n",
    "\n",
    "lower_quantile = 0.02  # 10%\n",
    "upper_quantile = .97  # 90%\n",
    "median = 0.5\n",
    "plt.figure()\n",
    "# plt.style.use('classic')\n",
    "# matplotlib.rc('xtick', labelsize=14) \n",
    "# matplotlib.rc('ytick', labelsize=14) \n",
    "# fig, ((ax1, ax2), (ax3, ax4)) = plt.subplots(2,2, figsize = (15,10))\n",
    "# plt.subplot(211)\n",
    "# legend_keys = []\n",
    "for obs_pair, colour in obs_to_plot1.items():\n",
    "    obs, group = obs_pair\n",
    "    # Calculate 10%, 50%, and 90% quantiles for observable\n",
    "    quantile_data = df1[obs].loc[group].groupby(['time']).quantile(\n",
    "        q=[lower_quantile, median, upper_quantile]).unstack()\n",
    "    time_hrs = quantile_data.index / 60\n",
    "    # Plot the median line (50% quantile) for the observable\n",
    "#     ax.plot(time_hrs, quantile_data.loc[:, median], color=colour)\n",
    "    # Plot the 10% and 90% quantiles as an envelope\n",
    "    plt.fill_between(time_hrs,\n",
    "                    quantile_data.loc[:, lower_quantile],\n",
    "                    quantile_data.loc[:, upper_quantile],\n",
    "                    color=colour)\n",
    "# ax.edgecolor: .15\n",
    "# ax.linewidth: 1.25\n",
    "# plt.title('Model fitting across all TNF doses with Exp. Data',fontsize=14) # Title\n",
    "plt.ylabel('Amount [molecules/cell]', fontsize = 14) # Y label\n",
    "plt.xlabel('Time (hours)', fontsize = 14) # X label\n",
    "# plt.xlim(xmax =24)\n",
    "plt.ylim(ymin = 1e-3)\n",
    "    #100 TNF\n",
    "plt.grid(False)\n",
    "locs, labels = xticks()            # Get locations and labels\n",
    "# xticks(xticks, [labels])\n",
    "plt.errorbar(x1001/60, y1001*5544,\n",
    "             yerr=[(0, 0.00885691708746097*5544,0.0161886154261265*5544,0.0373005242261882*5544),\n",
    "             (400,400,400,400)],\n",
    "                   fmt='.k', ecolor ='black', alpha = 0.75, label ='10 ng/ml', zorder = 2)\n",
    "plt.errorbar(x1002/60, y1002*5544,\n",
    "             yerr= 400, fmt='.k', ecolor ='black', alpha = 0.75, label ='10 ng/ml', zorder = 2)\n",
    "plt.tight_layout()\n",
    "\n",
    "# custom_lines = [Line2D([0], [0], color='blue', lw=4),\n",
    "#                 Line2D([0], [0], color='orange', lw=4),\n",
    "#                 Line2D([0], [0], color='green', lw=4),\n",
    "#                 Line2D([0], [0], color='red', lw=4),\n",
    "#                 Line2D([0], [0], color='black', lw=4)]\n",
    "# plt.legend(custom_lines, ['100','10','1','0.1','Data'], prop={'size': 10}, loc = 'best')\n",
    "fig.savefig(\"necro_10k_5720_wdatac0_tnf100.pdf\")\n",
    "plt.show()"
   ]
  },
  {
   "cell_type": "code",
   "execution_count": null,
   "metadata": {},
   "outputs": [],
   "source": [
    "import matplotlib.pyplot as plt\n",
    "x1001 = np.array([0, 30, 90, 270])\n",
    "x1002 = np.array([480, 720, 960])\n",
    "y1001 = np.array([0, 0.00885691708746097,0.0161886154261265,0.0373005242261882])\n",
    "y1002 = np.array([0.2798939020159581, .7797294067, 0.98])\n",
    "\n",
    "x101 = np.array([0, 30, 90, 270, 480])\n",
    "x102 = np.array([720, 960])\n",
    "y101 = np.array([0, 0.0106013664572332,0.00519576571714913,0.02967443048221,0.050022163974868])\n",
    "y102 = np.array([0.17, 0.47])\n",
    "\n",
    "x1 = np.array([0, 30, 90, 270,480, 720])\n",
    "x2 = np.array([960])\n",
    "y2 = np.array([0.109561346])\n",
    "y1 = np.array([0,0.085233734,0.006063293,0.009426917,0.011334223, 0.02])\n",
    "\n",
    "x01 = np.array([0, 30, 90, 270,480, 720, 960])\n",
    "y01 = np.array([0, 0.006714721,0.007776423,0.00919829,0.001772636, 0.005, 0.013633013])\n",
    "\n",
    "# Combine the results dataframes into a single dataframe with a 'group' index,\n",
    "# in addition to \"simulation\" and \"time\" indexes\n",
    "df1 = pd.concat([wtclus0.dataframe],\n",
    "               keys=['wt100'],\n",
    "               names=['group', 'simulation', 'time'])\n",
    "df2 = pd.concat([wtclus1.dataframe],\n",
    "               keys=['wt10'],\n",
    "               names=['group', 'simulation', 'time'])\n",
    "df3 = pd.concat([wtclus2.dataframe],\n",
    "               keys=['wt1'],\n",
    "               names=['group', 'simulation', 'time'])\n",
    "df4 = pd.concat([wtclus3.dataframe],\n",
    "               keys=['wt01'],\n",
    "               names=['group', 'simulation', 'time'])\n",
    "\n",
    "# Add observable/group pairs as needed\n",
    "obs_to_plot1 = {\n",
    "    ('MLKLa_obs', 'wt100'): 'blue'\n",
    "}\n",
    "obs_to_plot2 = {\n",
    "    ('MLKLa_obs', 'wt10'): 'orange'\n",
    "}\n",
    "obs_to_plot3 = {\n",
    "    ('MLKLa_obs', 'wt1'): 'green'\n",
    "}\n",
    "obs_to_plot4 = {\n",
    "    ('MLKLa_obs', 'wt01'): 'red'\n",
    "}\n",
    "\n",
    "lower_quantile = 0.1  # 10%\n",
    "upper_quantile = 0.9  # 90%\n",
    "median = 0.5\n",
    "\n",
    "matplotlib.rc('xtick', labelsize=14) \n",
    "matplotlib.rc('ytick', labelsize=14) \n",
    "fig, ((ax1, ax2), (ax3, ax4)) = plt.subplots(2,2, figsize = (15,10))\n",
    "plt.subplot(211)\n",
    "# legend_keys = []\n",
    "for obs_pair, colour in obs_to_plot1.items():\n",
    "    obs, group = obs_pair\n",
    "    # Calculate 10%, 50%, and 90% quantiles for observable\n",
    "    quantile_data = df1[obs].loc[group].groupby(['time']).quantile(\n",
    "        q=[lower_quantile, median, upper_quantile]).unstack()\n",
    "    time_hrs = quantile_data.index / 60\n",
    "    # Plot the median line (50% quantile) for the observable\n",
    "    ax1.plot(time_hrs, quantile_data.loc[:, median], color=colour)\n",
    "    # Plot the 10% and 90% quantiles as an envelope\n",
    "    ax1.fill_between(time_hrs,\n",
    "                    quantile_data.loc[:, lower_quantile],\n",
    "                    quantile_data.loc[:, upper_quantile],\n",
    "                    color=colour,\n",
    "                    alpha=.1)\n",
    "    plt.title('Model fitting across all TNF doses with Exp. Data',fontsize=14) # Title\n",
    "    plt.ylabel('Amount [molecules/cell]', fontsize = 14) # Y label\n",
    "    plt.xlabel('Time (hours)', fontsize = 14) # X label\n",
    "    # plt.xlim(xmax =24)\n",
    "    plt.ylim(ymin = 1e-3)\n",
    "    #100 TNF\n",
    "    plt.errorbar(x1001/60, y1001*5544,\n",
    "                 yerr=[(0, 0.00885691708746097*5544,0.0161886154261265*5544,0.0373005242261882*5544),\n",
    "                 (400,400,400,400)],\n",
    "                       fmt='.k', ecolor ='black', alpha = 0.75, label ='10 ng/ml', zorder = 2)\n",
    "    plt.errorbar(x1002/60, y1002*5544,\n",
    "                 yerr= 400, fmt='.k', ecolor ='black', alpha = 0.75, label ='10 ng/ml', zorder = 2)\n",
    "plt.subplot(212)\n",
    "legend_keys = []\n",
    "for obs_pair, colour in obs_to_plot2.items():\n",
    "    obs, group = obs_pair\n",
    "    # Calculate 10%, 50%, and 90% quantiles for observable\n",
    "    quantile_data = df2[obs].loc[group].groupby(['time']).quantile(\n",
    "        q=[lower_quantile, median, upper_quantile]).unstack()\n",
    "    time_hrs = quantile_data.index / 60\n",
    "    # Plot the median line (50% quantile) for the observable\n",
    "    ax2.plot(time_hrs, quantile_data.loc[:, median], color=colour)\n",
    "    # Plot the 10% and 90% quantiles as an envelope\n",
    "    ax2.fill_between(time_hrs,\n",
    "                    quantile_data.loc[:, lower_quantile],\n",
    "                    quantile_data.loc[:, upper_quantile],\n",
    "                    color=colour,\n",
    "                    alpha=.1)\n",
    "    plt.title('Model fitting across all TNF doses with Exp. Data',fontsize=14) # Title\n",
    "    plt.ylabel('Amount [molecules/cell]', fontsize = 14) # Y label\n",
    "    plt.xlabel('Time (hours)', fontsize = 14) # X label\n",
    "    # plt.xlim(xmax =24)\n",
    "    plt.ylim(ymin = 1e-3)\n",
    "    #10TNF\n",
    "    plt.errorbar(x101/60, y101*5544,\n",
    "                 yerr=[(0, 0.0106013664572332*5544,0.00519576571714913*5544,0.02967443048221*5544,\n",
    "                        0.050022163974868*5544),\n",
    "                 (400,400,400,400,400)],\n",
    "                       fmt='.k', ecolor ='black', alpha = 0.75, label ='10 ng/ml', zorder = 2)\n",
    "    plt.errorbar(x102/60, y102*5544,\n",
    "                 yerr= 400, fmt='.k', ecolor ='black', alpha = 0.75, label ='10 ng/ml', zorder = 2)\n",
    "plt.subplot(221)\n",
    "legend_keys = []\n",
    "for obs_pair, colour in obs_to_plot3.items():\n",
    "    obs, group = obs_pair\n",
    "    # Calculate 10%, 50%, and 90% quantiles for observable\n",
    "    quantile_data = df3[obs].loc[group].groupby(['time']).quantile(\n",
    "        q=[lower_quantile, median, upper_quantile]).unstack()\n",
    "    time_hrs = quantile_data.index / 60\n",
    "    # Plot the median line (50% quantile) for the observable\n",
    "    ax3.plot(time_hrs, quantile_data.loc[:, median], color=colour)\n",
    "    # Plot the 10% and 90% quantiles as an envelope\n",
    "    ax3.fill_between(time_hrs,\n",
    "                    quantile_data.loc[:, lower_quantile],\n",
    "                    quantile_data.loc[:, upper_quantile],\n",
    "                    color=colour,\n",
    "                    alpha=.1)\n",
    "    plt.title('Model fitting across all TNF doses with Exp. Data',fontsize=14) # Title\n",
    "    plt.ylabel('Amount [molecules/cell]', fontsize = 14) # Y label\n",
    "    plt.xlabel('Time (hours)', fontsize = 14) # X label\n",
    "    # plt.xlim(xmax =24)\n",
    "    plt.ylim(ymin = 1e-3)\n",
    "    #1TNF\n",
    "    plt.errorbar(x1/60, y1*5544,\n",
    "                 yerr=[(0,0.085233734*5544,0.006063293*5544,0.009426917*5544,0.011334223*5544,\n",
    "                        0.02*5544),(400,400,400,400,400,400)],\n",
    "                       fmt='.k', ecolor ='black', alpha = 0.75, label ='10 ng/ml', zorder = 2)\n",
    "\n",
    "    plt.errorbar(x2/60, y2*5544,\n",
    "                 yerr= 400, fmt='.k', ecolor ='black', alpha = 0.75, label ='10 ng/ml', zorder = 2)\n",
    "plt.subplot(222)\n",
    "legend_keys = []\n",
    "for obs_pair, colour in obs_to_plot4.items():\n",
    "    obs, group = obs_pair\n",
    "    # Calculate 10%, 50%, and 90% quantiles for observable\n",
    "    quantile_data = df4[obs].loc[group].groupby(['time']).quantile(\n",
    "        q=[lower_quantile, median, upper_quantile]).unstack()\n",
    "    time_hrs = quantile_data.index / 60\n",
    "    # Plot the median line (50% quantile) for the observable\n",
    "    ax4.plot(time_hrs, quantile_data.loc[:, median], color=colour)\n",
    "    # Plot the 10% and 90% quantiles as an envelope\n",
    "    ax4.fill_between(time_hrs,\n",
    "                    quantile_data.loc[:, lower_quantile],\n",
    "                    quantile_data.loc[:, upper_quantile],\n",
    "                    color=colour,\n",
    "                    alpha=.1)\n",
    "    plt.title('Model fitting across all TNF doses with Exp. Data',fontsize=14) # Title\n",
    "    plt.ylabel('Amount [molecules/cell]', fontsize = 14) # Y label\n",
    "    plt.xlabel('Time (hours)', fontsize = 14) # X label\n",
    "    # plt.xlim(xmax =24)\n",
    "    plt.ylim(ymin = 1e-3)\n",
    "    #01 TNF\n",
    "    plt.errorbar(x01/60, y01*5544,\n",
    "                  yerr=[(0, 0.006714721*5544,0.007776423*5544,0.00919829*5544,0.001772636*5544,\n",
    "                        0.005*5544, 0.013633013*5544), (400,400,400,400,400,400,400)],\n",
    "                       fmt='.k', ecolor ='black', alpha = 0.75, label ='10 ng/ml', zorder = 2)\n",
    "# custom_lines = [Line2D([0], [0], color='blue', lw=4),\n",
    "#                 Line2D([0], [0], color='orange', lw=4),\n",
    "#                 Line2D([0], [0], color='green', lw=4),\n",
    "#                 Line2D([0], [0], color='red', lw=4),\n",
    "#                 Line2D([0], [0], color='black', lw=4)]\n",
    "# plt.legend(custom_lines, ['100','10','1','0.1','Data'], prop={'size': 10}, loc = 'best')\n",
    "# fig.savefig(\"updatedkos/necro_10k_5720_wdata_alltnf.pdf\")\n",
    "plt.show()"
   ]
  },
  {
   "cell_type": "code",
   "execution_count": null,
   "metadata": {},
   "outputs": [],
   "source": [
    "m = model100.components"
   ]
  },
  {
   "cell_type": "code",
   "execution_count": null,
   "metadata": {},
   "outputs": [],
   "source": [
    "tspan = np.linspace(0, 1800, 500)"
   ]
  },
  {
   "cell_type": "code",
   "execution_count": null,
   "metadata": {},
   "outputs": [],
   "source": [
    "solvera200 = ScipyOdeSimulator(model100, tspan=tspan, verbose = True)\n",
    "a20clus0 = solvera200.run(initials = {m.TNF(brec=None): 233, m.A20(brip = None):0},\n",
    "                         param_values=clus0_100, num_processors = 20)\n",
    "# a20clus0.save('h5mod/pydyno_s36prod_10k_5720_100tnf_c0parsmod_30hra20ko.h5',include_obs_exprs = True)\n",
    "c0df100a20 = a20clus0.dataframe"
   ]
  },
  {
   "cell_type": "code",
   "execution_count": null,
   "metadata": {},
   "outputs": [],
   "source": [
    "print(len(clus0_100))"
   ]
  },
  {
   "cell_type": "code",
   "execution_count": null,
   "metadata": {},
   "outputs": [],
   "source": [
    "sim_idx_to_keep = [idx for idx in range(len(clus0_100)) if c0df100a20['MLKLa_obs'][idx].iloc[-200] < 2772]\n",
    "print(sim_idx_to_keep)"
   ]
  },
  {
   "cell_type": "code",
   "execution_count": null,
   "metadata": {},
   "outputs": [],
   "source": [
    "solvera201 = ScipyOdeSimulator(model100, tspan=tspan, verbose = True)\n",
    "a20clus1 = solvera201.run(initials = {m.TNF(brec=None): 233, m.A20(brip = None):0},\n",
    "                         param_values=clus1_100, num_processors = 20)\n",
    "# a20clus1.save('h5mod/pydyno_s36prod_10k_5720_100tnf_c1parsmod_30hra20ko.h5',include_obs_exprs = True)\n",
    "c1df100a201 = a20clus1.dataframe"
   ]
  },
  {
   "cell_type": "code",
   "execution_count": null,
   "metadata": {},
   "outputs": [],
   "source": [
    "solvera202 = ScipyOdeSimulator(model100, tspan=tspan, verbose = True)\n",
    "a20clus2 = solvera202.run(initials = {m.TNF(brec=None): 233, m.A20(brip = None):0},\n",
    "                         param_values=clus2_100, num_processors = 20)\n",
    "# a20clus2.save('h5mod/pydyno_s36prod_10k_5720_100tnf_c2parsmod_30hras20ko.h5',include_obs_exprs = True)\n",
    "c2df100a20 = a20clus2.dataframe"
   ]
  },
  {
   "cell_type": "code",
   "execution_count": null,
   "metadata": {},
   "outputs": [],
   "source": [
    "solvera203 = ScipyOdeSimulator(model100, tspan=tspan, verbose = True)\n",
    "a20clus3 = solvera203.run(initials = {m.TNF(brec=None): 233, m.A20(brip = None):0},\n",
    "                         param_values=clus3_100, num_processors = 20)\n",
    "# a20clus3.save('h5mod/pydyno_s36prod_10k_5720_100tnf_c3parsmod_30hra20ko.h5',include_obs_exprs = True)\n",
    "c3df100a20 = a20clus3.dataframe"
   ]
  },
  {
   "cell_type": "code",
   "execution_count": null,
   "metadata": {},
   "outputs": [],
   "source": []
  },
  {
   "cell_type": "code",
   "execution_count": null,
   "metadata": {},
   "outputs": [],
   "source": [
    "solvercyld0 = ScipyOdeSimulator(model100, tspan=tspan, verbose = True)\n",
    "cyldclus0 = solvercyld0.run(initials = {m.TNF(brec=None): 233,  m.CYLD(brip=None, btraf = None):0},\n",
    "                         param_values=clus0_100, num_processors = 20)\n",
    "# cyldclus0.save('h5mod/pydyno_s36prod_10k_5720_100tnf_c0parsmod_30hcyldko.h5',include_obs_exprs = True)\n",
    "c0df100cyld = cyldclus0.dataframe"
   ]
  },
  {
   "cell_type": "code",
   "execution_count": null,
   "metadata": {},
   "outputs": [],
   "source": [
    "solvercyld1 = ScipyOdeSimulator(model100, tspan=tspan, verbose = True)\n",
    "cyldclus1 = solvercyld1.run(initials = {m.TNF(brec=None): 233,  m.CYLD(brip=None, btraf = None):0},\n",
    "                         param_values=clus1_100, num_processors = 20)\n",
    "# cyldclus1.save('h5mod/pydyno_s36prod_10k_5720_100tnf_c1parsmod_30hrcyldko.h5',include_obs_exprs = True)\n",
    "c1f100cyld = cyldclus1.dataframe"
   ]
  },
  {
   "cell_type": "code",
   "execution_count": null,
   "metadata": {},
   "outputs": [],
   "source": [
    "solvercyld2 = ScipyOdeSimulator(model100, tspan=tspan, verbose = True)\n",
    "cyldclus2 = solvercyld2.run(initials = {m.TNF(brec=None): 233,  m.CYLD(brip=None, btraf = None):0},\n",
    "                         param_values=clus2_100, num_processors = 20)\n",
    "# cyldclus2.save('h5mod/pydyno_s36prod_10k_5720_100tnf_c2parsmod_30hcyldko.h5',include_obs_exprs = True)\n",
    "c2df100cyld = cyldclus2.dataframe"
   ]
  },
  {
   "cell_type": "code",
   "execution_count": null,
   "metadata": {},
   "outputs": [],
   "source": [
    "solvercyld3 = ScipyOdeSimulator(model100, tspan=tspan, verbose = True)\n",
    "cyldclus3 = solvercyld3.run(initials = {m.TNF(brec=None): 233, m.CYLD(brip=None, btraf = None):0},\n",
    "                         param_values=clus3_100, num_processors = 20)\n",
    "# cyldclus3.save('h5mod/pydyno_s36prod_10k_5720_100tnf_c3parsmod_30hrcyldko.h5',include_obs_exprs = True)\n",
    "c3df100cyld = cyldclus3.dataframe"
   ]
  },
  {
   "cell_type": "code",
   "execution_count": null,
   "metadata": {},
   "outputs": [],
   "source": [
    "x1001 = np.array([0, 30, 90, 270])\n",
    "x1002 = np.array([480, 720, 960])\n",
    "y1001 = np.array([0, 0.00885691708746097,0.0161886154261265,0.0373005242261882])\n",
    "y1002 = np.array([0.2798939020159581, .7797294067, .98])"
   ]
  },
  {
   "cell_type": "code",
   "execution_count": null,
   "metadata": {},
   "outputs": [],
   "source": [
    "import matplotlib\n",
    "matplotlib.rc('xtick', labelsize=14) \n",
    "matplotlib.rc('ytick', labelsize=14) \n",
    "fig, ((ax1, ax2), (ax3, ax4)) = plt.subplots(2,2, figsize = (15,10))\n",
    "# tspan = np.linspace(0, 1440, 300)\n",
    "for n in range(len(clus0_100)):\n",
    "#     ax1.vlines(x = 600, ymin = 0, ymax = 5544, linestyle = 'dashed', colors= 'r', zorder = 2, label ='50% pMLKL')\n",
    "    ax1.plot(tspan/60, c0df100a20.loc[n]['MLKLa_obs'].iloc[:]/5544, lw=1.5, color ='blue', zorder = 1, alpha = 0.3)\n",
    "    ax1.errorbar(x1001/60, y1001,\n",
    "                 yerr=[(0, 0.00885691708746097,0.0161886154261265,0.0373005242261882),\n",
    "                 (.07,.07,.07,.07)],\n",
    "                       fmt='.k', ecolor ='red', alpha = 0.75, zorder = 2)\n",
    "    ax1.errorbar(x1002/60, y1002,\n",
    "                 yerr= .07, fmt='.k', ecolor ='red', alpha = 0.75, zorder = 2)\n",
    "# for obs_pair, colour in obs_to_plot2.items():\n",
    "#     obs, group = obs_pair\n",
    "#     # Calculate 10%, 50%, and 90% quantiles for observable\n",
    "#     quantile_data = df2[obs].loc[group].groupby(['time']).quantile(\n",
    "#         q=[lower_quantile, median, upper_quantile]).unstack()\n",
    "#     time_hrs = quantile_data.index / 60\n",
    "#     # Plot the median line (50% quantile) for the observable\n",
    "#     ax2.plot(time_hrs, quantile_data.loc[:, median], color=colour)\n",
    "#     # Plot the 10% and 90% quantiles as an envelope\n",
    "#     ax2.fill_between(time_hrs,\n",
    "#                     quantile_data.loc[:, lower_quantile],\n",
    "#                     quantile_data.loc[:, upper_quantile],\n",
    "#                     color=colour,\n",
    "#                     alpha=.1)\n",
    "#     plt.legend(['clus0'], loc = 'best', fontsize = 14)\n",
    "#     plt.ylim(ymax = 5544, ymin =0)\n",
    "#     plt.xlim(xmax = 1440, xmin = 0)\n",
    "    plt.xticks(fontsize=14)\n",
    "    plt.yticks(fontsize=14)\n",
    "    ax1.set_xlim(xmin = 0, xmax = 24)\n",
    "    ax1.set_ylim(ymin = 0)\n",
    "    plt.xticks(fontsize=14)\n",
    "    plt.yticks(fontsize=14)\n",
    "    ax1.grid(False)   \n",
    "    custom_lines = [Line2D([0], [0], color='blue', lw=4),\n",
    "                   Line2D([0], [0], color='red', lw=4)]\n",
    "    ax1.legend(custom_lines, ['Clus0', 'pMLKL Data'], prop={'size': 12}, loc = 'best')\n",
    "    \n",
    "# tspan2 = np.linspace(0, 2160, 300)    \n",
    "for n in range(len(clus1_100)):\n",
    "#     ax2.vlines(x = 600, ymin = 0, ymax = 5544, linestyle = 'dashed', colors= 'r', zorder = 2, label= '50% pMLKL')\n",
    "    ax2.plot(tspan/60, c1df100a201.loc[n]['MLKLa_obs'].iloc[:]/5544,lw=1.5, color ='blue', zorder = 1, alpha = 0.3)\n",
    "    ax2.errorbar(x1001/60, y1001,\n",
    "                 yerr=[(0, 0.00885691708746097,0.0161886154261265,0.0373005242261882),\n",
    "                 (.07,.07,.07,.07)],\n",
    "                       fmt='.k', ecolor ='red', alpha = 0.75, zorder = 2)\n",
    "    ax2.errorbar(x1002/60, y1002,\n",
    "                 yerr= .07, fmt='.k', ecolor ='red', alpha = 0.75, zorder = 2)\n",
    "    plt.xticks(fontsize=14)\n",
    "    plt.yticks(fontsize=14)\n",
    "    ax2.set_xlim(xmin = 0, xmax = 24)\n",
    "    ax2.set_ylim(ymin = 0)\n",
    "    ax2.grid(False)  \n",
    "    custom_lines = [Line2D([0], [0], color='blue', lw=4),\n",
    "                   Line2D([0], [0], color='red', lw=4)]\n",
    "    ax2.legend(custom_lines, ['Clus1', 'pMLKL Data'], prop={'size': 12}, loc = 'best')\n",
    "    \n",
    "for n in range(len(clus2_100)):\n",
    "#     ax3.vlines(x = 600, ymin = 0, ymax = 5544, linestyle = 'dashed', colors= 'r', zorder = 2, label ='50% pMLKL')\n",
    "    ax3.plot(tspan/60, c2df100a20.loc[n]['MLKLa_obs'].iloc[:]/5544,lw=1.5, color ='blue', zorder = 1, alpha = 0.3)  \n",
    "    ax3.errorbar(x1001/60, y1001,\n",
    "                 yerr=[(0, 0.00885691708746097,0.0161886154261265,0.0373005242261882),\n",
    "                 (.07,.07,.07,.07)],\n",
    "                       fmt='.k', ecolor ='red', alpha = 0.75, zorder = 2)\n",
    "    ax3.errorbar(x1002/60, y1002,\n",
    "                 yerr= .07, fmt='.k', ecolor ='red', alpha = 0.75, zorder = 2)\n",
    "    plt.xticks(fontsize=14)\n",
    "    plt.yticks(fontsize=14)\n",
    "    ax3.set_xlim(xmin = 0, xmax = 24)\n",
    "    ax3.set_ylim(ymin = 0)\n",
    "    ax3.grid(False)  \n",
    "    custom_lines = [Line2D([0], [0], color='blue', lw=4),\n",
    "                   Line2D([0], [0], color='red', lw=4)]\n",
    "    ax3.legend(custom_lines, ['Clus2', 'pMLKL Data'], prop={'size': 12}, loc = 'best')\n",
    "    \n",
    "for n in range(len(clus3_100)):\n",
    "    plt.plot(tspan/60, c3df100a20.loc[n]['MLKLa_obs'].iloc[:]/5544, lw=1.5, color ='blue', zorder = 1, alpha = 0.3)\n",
    "    ax4.errorbar(x1001/60, y1001,\n",
    "                 yerr=[(0, 0.00885691708746097,0.0161886154261265,0.0373005242261882),\n",
    "                 (.07,.07,.07,.07)],\n",
    "                       fmt='.k', ecolor ='red', alpha = 0.75, zorder = 2)\n",
    "    ax4.errorbar(x1002/60, y1002,\n",
    "                 yerr= .07, fmt='.k', ecolor ='red', alpha = 0.75, zorder = 2)\n",
    "    plt.xticks(fontsize=14)\n",
    "    plt.yticks(fontsize=14)\n",
    "#     plt.xlabel(\"Time (in hr)\", fontsize=15)\n",
    "#     plt.ylabel(\"Amount (normalized)\", fontsize=15)\n",
    "    ax4.set_xlim(xmin = 0, xmax = 24)\n",
    "    ax4.set_ylim(ymin = 0)\n",
    "    plt.xticks(fontsize=14)\n",
    "    plt.yticks(fontsize=14)\n",
    "    ax4.grid(False)  \n",
    "    custom_lines = [Line2D([0], [0], color='blue', lw=4),\n",
    "                   Line2D([0], [0], color='red', lw=4)]\n",
    "    ax4.legend(custom_lines, ['Clus3', 'pMLKL Data'], prop={'size': 12}, loc = 'best')\n",
    " \n",
    "fig.text(0.5, 0.04, 'Time (Hours)', ha='center', va='center',fontsize = 16)\n",
    "fig.text(0.06, 0.5, 'Amount of A20 pMLKL under 100 ng/ml TNF(Normalized)',\n",
    "         ha='center', va='center', rotation='vertical', fontsize = 16)\n",
    "# plt.savefig('pmlkl_100tnf_4clus_5720_A20KO.pdf')\n",
    "plt.show()"
   ]
  },
  {
   "cell_type": "code",
   "execution_count": null,
   "metadata": {},
   "outputs": [],
   "source": [
    "import matplotlib\n",
    "matplotlib.rc('xtick', labelsize=14) \n",
    "matplotlib.rc('ytick', labelsize=14) \n",
    "fig, ((ax1, ax2), (ax3, ax4)) = plt.subplots(2,2, figsize = (15,10))\n",
    "# tspan = np.linspace(0, 1440, 300)\n",
    "for n in range(len(clus0_100)):\n",
    "#     ax1.vlines(x = 600, ymin = 0, ymax = 5544, linestyle = 'dashed', colors= 'r', zorder = 2, label ='50% pMLKL')\n",
    "    ax1.plot(tspan/60, c0df100cyld.loc[n]['MLKLa_obs'].iloc[:]/5544, lw=1.5, color ='blue', zorder = 1, alpha = 0.3)\n",
    "    ax1.errorbar(x1001/60, y1001,\n",
    "                 yerr=[(0, 0.00885691708746097,0.0161886154261265,0.0373005242261882),\n",
    "                 (.07,.07,.07,.07)],\n",
    "                       fmt='.k', ecolor ='black', alpha = 0.75, zorder = 2)\n",
    "    ax1.errorbar(x1002/60, y1002,\n",
    "                 yerr= .07, fmt='.k', ecolor ='black', alpha = 0.75, zorder = 2)\n",
    "    plt.legend(['clus0'], loc = 'best', fontsize = 14)\n",
    "#     plt.ylim(ymax = 5544, ymin =0)\n",
    "#     plt.xlim(xmax = 1440, xmin = 0)\n",
    "    plt.xticks(fontsize=14)\n",
    "    plt.yticks(fontsize=14)\n",
    "    ax1.set_xlim(xmin = 0, xmax = 24)\n",
    "    ax1.set_ylim(ymin = 0)\n",
    "    plt.xticks(fontsize=14)\n",
    "    plt.yticks(fontsize=14)\n",
    "    ax1.grid(False)  \n",
    "    custom_lines = [Line2D([0], [0], color='blue', lw=4),\n",
    "                   Line2D([0], [0], color='black', lw=4)]\n",
    "    ax1.legend(custom_lines, ['Clus0', 'pMLKL Data'], prop={'size': 12}, loc = 'best')\n",
    "    \n",
    "# tspan2 = np.linspace(0, 2160, 300)    \n",
    "for n in range(len(clus1_100)):\n",
    "#     ax2.vlines(x = 600, ymin = 0, ymax = 5544, linestyle = 'dashed', colors= 'r', zorder = 2, label= '50% pMLKL')\n",
    "    ax2.plot(tspan/60, c1f100cyld.loc[n]['MLKLa_obs'].iloc[:]/5544,lw=1.5, color ='blue', zorder = 1, alpha = 0.3)\n",
    "    ax2.errorbar(x1001/60, y1001,\n",
    "                 yerr=[(0, 0.00885691708746097,0.0161886154261265,0.0373005242261882),\n",
    "                 (.07,.07,.07,.07)],\n",
    "                       fmt='.k', ecolor ='black', alpha = 0.75, zorder = 2)\n",
    "    ax2.errorbar(x1002/60, y1002,\n",
    "                 yerr= .07, fmt='.k', ecolor ='black', alpha = 0.75, zorder = 2)\n",
    "    plt.xticks(fontsize=14)\n",
    "    plt.yticks(fontsize=14)\n",
    "    ax2.set_xlim(xmin = 0, xmax = 24)\n",
    "    ax2.set_ylim(ymin = 0)\n",
    "    ax2.grid(False)  \n",
    "    custom_lines = [Line2D([0], [0], color='blue', lw=4),\n",
    "                   Line2D([0], [0], color='black', lw=4)]\n",
    "    ax2.legend(custom_lines, ['Clus1', 'pMLKL Data'], prop={'size': 12}, loc = 'best')\n",
    "    \n",
    "for n in range(len(clus2_100)):\n",
    "#     ax3.vlines(x = 600, ymin = 0, ymax = 5544, linestyle = 'dashed', colors= 'r', zorder = 2, label ='50% pMLKL')\n",
    "    ax3.plot(tspan/60, c2df100cyld.loc[n]['MLKLa_obs'].iloc[:]/5544,lw=1.5, color ='blue', zorder = 1, alpha = 0.3)  \n",
    "    ax3.errorbar(x1001/60, y1001,\n",
    "                 yerr=[(0, 0.00885691708746097,0.0161886154261265,0.0373005242261882),\n",
    "                 (.07,.07,.07,.07)],\n",
    "                       fmt='.k', ecolor ='black', alpha = 0.75, zorder = 2)\n",
    "    ax3.errorbar(x1002/60, y1002,\n",
    "                 yerr= .07, fmt='.k', ecolor ='black', alpha = 0.75, zorder = 2)\n",
    "    plt.xticks(fontsize=14)\n",
    "    plt.yticks(fontsize=14)\n",
    "    ax3.set_xlim(xmin = 0, xmax = 24)\n",
    "    ax3.set_ylim(ymin = 0)\n",
    "    ax3.grid(False)  \n",
    "    custom_lines = [Line2D([0], [0], color='blue', lw=4),\n",
    "                   Line2D([0], [0], color='black', lw=4)]\n",
    "    ax3.legend(custom_lines, ['Clus2', 'pMLKL Data'], prop={'size': 12}, loc = 'best')\n",
    "    \n",
    "for n in range(len(clus3_100)):\n",
    "    plt.plot(tspan/60, c3df100cyld.loc[n]['MLKLa_obs'].iloc[:]/5544, lw=1.5, color ='blue', zorder = 1, alpha = 0.3)\n",
    "    ax4.errorbar(x1001/60, y1001,\n",
    "                 yerr=[(0, 0.00885691708746097,0.0161886154261265,0.0373005242261882),\n",
    "                 (.07,.07,.07,.07)],\n",
    "                       fmt='.k', ecolor ='black', alpha = 0.75, zorder = 2)\n",
    "    ax4.errorbar(x1002/60, y1002,\n",
    "                 yerr= .07, fmt='.k', ecolor ='black', alpha = 0.75, zorder = 2)\n",
    "    plt.xticks(fontsize=14)\n",
    "    plt.yticks(fontsize=14)\n",
    "#     plt.xlabel(\"Time (in hr)\", fontsize=15)\n",
    "#     plt.ylabel(\"Amount (normalized)\", fontsize=15)\n",
    "    ax4.set_xlim(xmin = 0, xmax = 24)\n",
    "    ax4.set_ylim(ymin = 0)\n",
    "    plt.xticks(fontsize=14)\n",
    "    plt.yticks(fontsize=14)\n",
    "    ax4.grid(False)  \n",
    "    custom_lines = [Line2D([0], [0], color='blue', lw=4),\n",
    "                   Line2D([0], [0], color='black', lw=4)]\n",
    "    ax4.legend(custom_lines, ['Clus3', 'pMLKL Data'], prop={'size': 12}, loc = 'best')\n",
    "    \n",
    "fig.text(0.5, 0.04, 'Time (Hours)', ha='center', va='center',fontsize = 16)\n",
    "fig.text(0.06, 0.5, 'Amount of CYLD KO of pMLKL under 100 ng/ml TNF(Normalized)',\n",
    "         ha='center', va='center', rotation='vertical', fontsize = 16)\n",
    "# plt.savefig('pmlkl_100tnf_4clus_5720_CYLDKO.pdf')\n",
    "plt.show()"
   ]
  },
  {
   "cell_type": "code",
   "execution_count": null,
   "metadata": {},
   "outputs": [],
   "source": []
  },
  {
   "cell_type": "code",
   "execution_count": null,
   "metadata": {},
   "outputs": [],
   "source": []
  },
  {
   "cell_type": "code",
   "execution_count": null,
   "metadata": {},
   "outputs": [],
   "source": [
    "# threshold = 5000\n",
    "threshold = 2772"
   ]
  },
  {
   "cell_type": "code",
   "execution_count": null,
   "metadata": {},
   "outputs": [],
   "source": [
    "threshold2 = 2772"
   ]
  },
  {
   "cell_type": "code",
   "execution_count": null,
   "metadata": {},
   "outputs": [],
   "source": [
    "df_threshtimesc1100a201   = c1df100a201.groupby('simulation').apply(lambda x: (x > threshold).idxmax()).apply(lambda x: [y[1] for y in x])"
   ]
  },
  {
   "cell_type": "code",
   "execution_count": null,
   "metadata": {},
   "outputs": [],
   "source": [
    "df_threshtimesc0100wt = c0df100wt.groupby('simulation').apply(lambda x: (x > threshold).idxmax()).apply(lambda x: [y[1] for y in x])\n",
    "# df_threshtimesc0100a20   = c0df100a20.groupby('simulation').apply(lambda x: (x > threshold).idxmax()).apply(lambda x: [y[1] for y in x])\n",
    "# df_threshtimesc0100cyld = c0df100cyld.groupby('simulation').apply(lambda x: (x > threshold).idxmax()).apply(lambda x: [y[1] for y in x])"
   ]
  },
  {
   "cell_type": "code",
   "execution_count": null,
   "metadata": {},
   "outputs": [],
   "source": [
    "df_threshtimesc1100wt = c1df100wt.groupby('simulation').apply(lambda x: (x > threshold).idxmax()).apply(lambda x: [y[1] for y in x])\n",
    "# df_threshtimesc1100a20   = c1df100a20.groupby('simulation').apply(lambda x: (x > threshold2).idxmax()).apply(lambda x: [y[1] for y in x])\n",
    "# df_threshtimesc1100cyld = c1f100cyld.groupby('simulation').apply(lambda x: (x > threshold).idxmax()).apply(lambda x: [y[1] for y in x])"
   ]
  },
  {
   "cell_type": "code",
   "execution_count": null,
   "metadata": {},
   "outputs": [],
   "source": [
    "df_threshtimesc2100wt = c2df100wt.groupby('simulation').apply(lambda x: (x > threshold).idxmax()).apply(lambda x: [y[1] for y in x])\n",
    "df_threshtimesc2100a20   = c2df100a20.groupby('simulation').apply(lambda x: (x > threshold).idxmax()).apply(lambda x: [y[1] for y in x])\n",
    "df_threshtimesc2100cyld = c2df100cyld.groupby('simulation').apply(lambda x: (x > threshold).idxmax()).apply(lambda x: [y[1] for y in x])"
   ]
  },
  {
   "cell_type": "code",
   "execution_count": null,
   "metadata": {},
   "outputs": [],
   "source": [
    "df_threshtimesc3100wt = c3df100wt.groupby('simulation').apply(lambda x: (x > threshold).idxmax()).apply(lambda x: [y[1] for y in x])\n",
    "df_threshtimesc3100a20   = c3df100a20.groupby('simulation').apply(lambda x: (x > threshold).idxmax()).apply(lambda x: [y[1] for y in x])\n",
    "df_threshtimesc3100cyld = c3df100cyld.groupby('simulation').apply(lambda x: (x > threshold).idxmax()).apply(lambda x: [y[1] for y in x])"
   ]
  },
  {
   "cell_type": "code",
   "execution_count": null,
   "metadata": {},
   "outputs": [],
   "source": []
  },
  {
   "cell_type": "code",
   "execution_count": null,
   "metadata": {},
   "outputs": [],
   "source": [
    "plt.figure()\n",
    "sns.distplot(df_threshtimesc0100wt['MLKLa_obs'], bins=10) # kde=False, norm_hist=True, color='b')\n",
    "sns.distplot(df_threshtimesc1100wt['MLKLa_obs'], bins=10, color = 'red')\n",
    "plt.xlabel(\" time [minutes]\", labelpad=14)\n",
    "plt.ylabel(\"frequency\", labelpad=14)\n",
    "plt.xlim(xmin = 600, xmax = 1440)\n",
    "plt.show()"
   ]
  },
  {
   "cell_type": "code",
   "execution_count": null,
   "metadata": {},
   "outputs": [],
   "source": []
  },
  {
   "cell_type": "code",
   "execution_count": null,
   "metadata": {},
   "outputs": [],
   "source": [
    "df_threshtimesc0100wtn = c0df100wt.groupby('simulation').apply(lambda x: (x > threshold2).idxmax()).apply(lambda x: [y[1] for y in x])\n",
    "df_threshtimesc0100a20n   = c0df100a20.groupby('simulation').apply(lambda x: (x > threshold2).idxmax()).apply(lambda x: [y[1] for y in x])\n",
    "df_threshtimesc0100cyldn = c0df100cyld.groupby('simulation').apply(lambda x: (x > threshold2).idxmax()).apply(lambda x: [y[1] for y in x])"
   ]
  },
  {
   "cell_type": "code",
   "execution_count": null,
   "metadata": {},
   "outputs": [],
   "source": [
    "df_threshtimesc1100wtn = c1df100wt.groupby('simulation').apply(lambda x: (x > threshold2).idxmax()).apply(lambda x: [y[1] for y in x])\n",
    "df_threshtimesc1100a20n   = c1df100a201.groupby('simulation').apply(lambda x: (x > threshold2).idxmax()).apply(lambda x: [y[1] for y in x])\n",
    "df_threshtimesc1100cyldn = c1f100cyld.groupby('simulation').apply(lambda x: (x > threshold2).idxmax()).apply(lambda x: [y[1] for y in x])"
   ]
  },
  {
   "cell_type": "code",
   "execution_count": null,
   "metadata": {},
   "outputs": [],
   "source": [
    "df_threshtimesc2100wtn = c2df100wt.groupby('simulation').apply(lambda x: (x > threshold2).idxmax()).apply(lambda x: [y[1] for y in x])\n",
    "df_threshtimesc2100a20n   = c2df100a20.groupby('simulation').apply(lambda x: (x > threshold2).idxmax()).apply(lambda x: [y[1] for y in x])\n",
    "df_threshtimesc2100cyldn = c2df100cyld.groupby('simulation').apply(lambda x: (x > threshold2).idxmax()).apply(lambda x: [y[1] for y in x])"
   ]
  },
  {
   "cell_type": "code",
   "execution_count": null,
   "metadata": {},
   "outputs": [],
   "source": [
    "clus2n = pd.DataFrame({'wt2n': df_threshtimesc2100wtn['MLKLa_obs'], \n",
    "                        'cyld2n': df_threshtimesc2100cyldn['MLKLa_obs'],\n",
    "                        'a202n': df_threshtimesc2100a20n['MLKLa_obs']})"
   ]
  },
  {
   "cell_type": "code",
   "execution_count": null,
   "metadata": {},
   "outputs": [],
   "source": [
    "df_threshtimesc3100wn = c3df100wt.groupby('simulation').apply(lambda x: (x > threshold2).idxmax()).apply(lambda x: [y[1] for y in x])\n",
    "df_threshtimesc3100a20n   = c3df100a20.groupby('simulation').apply(lambda x: (x > threshold2).idxmax()).apply(lambda x: [y[1] for y in x])\n",
    "df_threshtimesc3100cyldn = c3df100cyld.groupby('simulation').apply(lambda x: (x > threshold2).idxmax()).apply(lambda x: [y[1] for y in x])"
   ]
  },
  {
   "cell_type": "code",
   "execution_count": null,
   "metadata": {},
   "outputs": [],
   "source": []
  },
  {
   "cell_type": "code",
   "execution_count": null,
   "metadata": {},
   "outputs": [],
   "source": []
  },
  {
   "cell_type": "code",
   "execution_count": null,
   "metadata": {},
   "outputs": [],
   "source": [
    "clus0n = pd.DataFrame({'wt0': df_threshtimesc0100wtn['MLKLa_obs'], \n",
    "                          'cyld0': df_threshtimesc0100cyldn['MLKLa_obs'],\n",
    "                          'a200': df_threshtimesc0100a20n['MLKLa_obs']})\n",
    "dfclus0n = pd.DataFrame(data = clus0n, columns = ['wt0', 'cyld0','a200'])\n",
    "dfclus0n = pd.melt(dfclus0n)"
   ]
  },
  {
   "cell_type": "code",
   "execution_count": null,
   "metadata": {},
   "outputs": [],
   "source": [
    "sns.set(style=\"whitegrid\")\n",
    "plt.figure(figsize = (15,10))\n",
    "my_pal = {\"wt0\": \"indianred\", \"cyld0\": \"mediumseagreen\", \"a200\":\"steelblue\"}\n",
    "my_pal1 = {\"wt0\": \"red\", \"cyld0\": \"green\", \"a200\":\"blue\"}\n",
    "# b = sns.boxplot(x = \"value\", y =\"variable\", data = dfclus0, notch = True, width = 0.5, palette = my_pal)\n",
    "b = sns.swarmplot(x=\"value\", y=\"variable\", data=dfclus0n, zorder=2, palette=my_pal)\n",
    "# b = sns.boxplot(x = \"value\", y =\"variable\", data = dfclus0, notch = True, width = 0.5, palette = my_pal)\n",
    "b = sns.swarmplot(x=\"value\", y=\"variable\", data=dfclus0, zorder=2, palette=my_pal1)\n",
    "b.set_xlabel(\"Time (minutes)\",fontsize=15)\n",
    "b.set_ylabel(\"Cluster 0 New\",fontsize=15)\n",
    "b.tick_params(labelsize=15)\n",
    "plt.xlim(xmax = 1800, xmin = 0)\n",
    "# plt.savefig('figs/Cluster0/pmlkl_100tnf_clus0box_wswarm_5720_modnew.pdf')\n",
    "plt.show()"
   ]
  },
  {
   "cell_type": "code",
   "execution_count": null,
   "metadata": {},
   "outputs": [],
   "source": []
  },
  {
   "cell_type": "code",
   "execution_count": null,
   "metadata": {},
   "outputs": [],
   "source": [
    "clus0 = pd.DataFrame({'wt0': df_threshtimesc0100wtn['MLKLa_obs'], \n",
    "                          'cyld0': df_threshtimesc0100cyldn['MLKLa_obs'],\n",
    "                          'a200': df_threshtimesc0100a20n['MLKLa_obs']})"
   ]
  },
  {
   "cell_type": "code",
   "execution_count": null,
   "metadata": {},
   "outputs": [],
   "source": [
    "dfclus0 = pd.DataFrame(data = clus0, columns = ['wt0', 'cyld0','a200'])\n",
    "dfclus0 = pd.melt(dfclus0)"
   ]
  },
  {
   "cell_type": "code",
   "execution_count": null,
   "metadata": {},
   "outputs": [],
   "source": [
    "sns.set(style=\"whitegrid\")\n",
    "plt.figure(figsize = (15,10))\n",
    "my_pal = {\"wt0\": \"indianred\", \"cyld0\": \"mediumseagreen\", \"a200\":\"steelblue\"}\n",
    "# b = sns.boxplot(x = \"value\", y =\"variable\", data = dfclus0, notch = True, width = 0.5, palette = my_pal)\n",
    "b = sns.swarmplot(x=\"value\", y=\"variable\", data=dfclus0, zorder=2, palette=my_pal)\n",
    "b.set_xlabel(\"Time (minutes)\",fontsize=15)\n",
    "b.set_ylabel(\"Cluster 0\",fontsize=15)\n",
    "b.tick_params(labelsize=15)\n",
    "plt.xlim(xmax = 1800, xmin = 0)\n",
    "plt.savefig('figs/Cluster0/pmlkl_100tnf_clus0box_wswarm_5720_modnewhalfmax.pdf')\n",
    "plt.show()"
   ]
  },
  {
   "cell_type": "code",
   "execution_count": null,
   "metadata": {},
   "outputs": [],
   "source": [
    "sns.set(style=\"whitegrid\")\n",
    "plt.figure(figsize = (15,10))\n",
    "my_pal = {\"wt0\": \"indianred\", \"cyld0\": \"mediumseagreen\", \"a200\":\"steelblue\"}\n",
    "# b = sns.boxplot(x = \"value\", y =\"variable\", data = dfclus0, notch = True, width = 0.5, palette = my_pal)\n",
    "b = sns.swarmplot(x=\"value\", y=\"variable\", data=dfclus0, zorder=2, palette=my_pal)\n",
    "b.set_xlabel(\"Time (minutes)\",fontsize=20)\n",
    "b.set_ylabel(\"Cluster 0\",fontsize=20)\n",
    "b.tick_params(labelsize=20)\n",
    "plt.xlim(xmax = 1800, xmin = 0)\n",
    "# plt.savefig('figs/Cluster0/pmlkl_100tnf_clus0box_wswarm_5720_modnew.pdf')\n",
    "plt.show()"
   ]
  },
  {
   "cell_type": "code",
   "execution_count": null,
   "metadata": {},
   "outputs": [],
   "source": [
    "clus1n = pd.DataFrame({'wt1': df_threshtimesc1100wtn['MLKLa_obs'],\n",
    "                        'cyld1': df_threshtimesc1100cyldn['MLKLa_obs'],\n",
    "                        'a201': df_threshtimesc1100a20n['MLKLa_obs']})"
   ]
  },
  {
   "cell_type": "code",
   "execution_count": null,
   "metadata": {},
   "outputs": [],
   "source": [
    "dfclus1n = pd.DataFrame(data = clus1n, columns = ['wt1','cyld1','a201'])\n",
    "dfclus1n = pd.melt(dfclus1n)"
   ]
  },
  {
   "cell_type": "code",
   "execution_count": null,
   "metadata": {},
   "outputs": [],
   "source": [
    "sns.set(style=\"whitegrid\")\n",
    "plt.figure(figsize = (15,10))\n",
    "# my_pal = {\"wt1\": \"indianred\", \"cyld1\": \"mediumseagreen\", \"a201\":\"steelblue\"}\n",
    "\n",
    "my_pal1 = {\"wt1\": \"indianred\", \"cyld1\": \"mediumseagreen\", \"a201\":\"steelblue\"}\n",
    "# b = sns.boxplot(x = \"value\", y =\"variable\", data = dfclus1, notch = True, width = 0.5, palette = my_pal)\n",
    "# b = sns.swarmplot(x=\"value\", y=\"variable\", data=dfclus1, zorder=2, palette=my_pal)\n",
    "b = sns.swarmplot(x=\"value\", y=\"variable\", data=dfclus1n, zorder=2, palette=my_pal1)\n",
    "\n",
    "b.set_xlabel(\"Time (minutes)\",fontsize=20)\n",
    "b.set_ylabel(\"Cluster 1\",fontsize=20)\n",
    "b.tick_params(labelsize=20)\n",
    "plt.xlim(xmax = 1800, xmin = 0)\n",
    "plt.savefig('figs/Cluster1/pmlkl_100tnf_clus1box_wswarm_5720_modhalfmax.pdf')\n",
    "plt.show()"
   ]
  },
  {
   "cell_type": "code",
   "execution_count": null,
   "metadata": {},
   "outputs": [],
   "source": [
    "clus20c = pd.DataFrame({'wtc': df_threshtimesc2100wtn['MLKLa_obs'], \n",
    "                        'cyldc': df_threshtimesc2100cyldn['MLKLa_obs'],\n",
    "                        'a20c': df_threshtimesc2100a20n['MLKLa_obs']})"
   ]
  },
  {
   "cell_type": "code",
   "execution_count": null,
   "metadata": {},
   "outputs": [],
   "source": [
    "dfclus20c = pd.DataFrame(data = clus20c, columns = ['wtc','cyldc','a20c'])\n",
    "dfclus20c = pd.melt(dfclus20c)"
   ]
  },
  {
   "cell_type": "code",
   "execution_count": null,
   "metadata": {},
   "outputs": [],
   "source": [
    "sns.set(style=\"whitegrid\")\n",
    "plt.figure(figsize = (15,10))\n",
    "# my_pal = {\"wt2\": \"indianred\", \"cyld2\": \"mediumseagreen\", \"a202\":\"steelblue\"}\n",
    "my_pal1 = {\"wtc\": \"indianred\", \"cyldc\": \"mediumseagreen\", \"a20c\":\"steelblue\"}\n",
    "# b = sns.boxplot(x = \"value\", y =\"variable\", data = dfclus2, notch = True, width = 0.5, palette = my_pal)\n",
    "# b = sns.swarmplot(x=\"value\", y=\"variable\", data=dfclus2, zorder=2, palette=my_pal)\n",
    "b = sns.swarmplot(x=\"value\", y=\"variable\", data=dfclus20c, zorder=2, palette=my_pal1)\n",
    "b.set_xlabel(\"Time (minutes)\",fontsize=20)\n",
    "b.set_ylabel(\"Cluster 2\",fontsize=20)\n",
    "b.tick_params(labelsize=20)\n",
    "plt.xlim(xmax = 1800, xmin = 0)\n",
    "# plt.savefig('pmlkl_100tnf_clus0box_5720.pdf')\n",
    "plt.savefig('figs/Cluster2/pmlkl_100tnf_clus2box_wswarm_5720_modnewhalfmax.pdf')\n",
    "plt.show()"
   ]
  },
  {
   "cell_type": "code",
   "execution_count": null,
   "metadata": {},
   "outputs": [],
   "source": [
    "clus3 = pd.DataFrame({'wt3': df_threshtimesc3100wn['MLKLa_obs'],\n",
    "                        'cyld3': df_threshtimesc3100cyldn['MLKLa_obs'],\n",
    "                        'a203': df_threshtimesc3100a20n['MLKLa_obs']})\n"
   ]
  },
  {
   "cell_type": "code",
   "execution_count": null,
   "metadata": {},
   "outputs": [],
   "source": [
    "dfclus3 = pd.DataFrame(data = clus3, columns = ['wt3','cyld3','a203'])\n",
    "dfclus3 = pd.melt(dfclus3)"
   ]
  },
  {
   "cell_type": "code",
   "execution_count": null,
   "metadata": {},
   "outputs": [],
   "source": [
    "sns.set(style=\"whitegrid\")\n",
    "plt.figure(figsize = (15,10))\n",
    "my_pal = {\"wt3\": \"indianred\", \"cyld3\": \"mediumseagreen\", \"a203\":\"steelblue\"}\n",
    "# b = sns.boxplot(x = \"value\", y =\"variable\", data = dfclus3, notch = True, width = 0.5, palette=my_pal)\n",
    "b = sns.swarmplot(x=\"value\", y=\"variable\", data=dfclus3, zorder=2, palette=my_pal)\n",
    "b.set_xlabel(\"Time (minutes)\",fontsize=20)\n",
    "b.set_ylabel(\"Cluster 3\",fontsize=20)\n",
    "b.tick_params(labelsize=20)\n",
    "plt.xlim(xmax = 1800, xmin = 0)\n",
    "# plt.savefig('pmlkl_100tnf_clus3box_5720.pdf')\n",
    "plt.savefig('figs/Cluster3/pmlkl_100tnf_clus3box_wswarm_5720_modnewhalfmax.pdf')\n",
    "plt.show()"
   ]
  },
  {
   "cell_type": "code",
   "execution_count": null,
   "metadata": {},
   "outputs": [],
   "source": [
    "cluswtall = pd.DataFrame({'Cluster0': df_threshtimesc0100wtn['MLKLa_obs'], \n",
    "                        'Cluster1': df_threshtimesc1100wtn['MLKLa_obs'],\n",
    "                        'Cluster2': df_threshtimesc2100wtn['MLKLa_obs'],\n",
    "                     'Cluster3': df_threshtimesc3100wn['MLKLa_obs']})"
   ]
  },
  {
   "cell_type": "code",
   "execution_count": null,
   "metadata": {},
   "outputs": [],
   "source": [
    "dfwt = pd.DataFrame(data = cluswtall, columns = ['Cluster0', 'Cluster1','Cluster2','Cluster3'])"
   ]
  },
  {
   "cell_type": "code",
   "execution_count": null,
   "metadata": {},
   "outputs": [],
   "source": [
    "plt.figure(figsize = (15,10))\n",
    "my_pal = { \"A20c0\":\"steelblue\", \"A20c1\":\"steelblue\", \"A20c2\":\"steelblue\", \"A20c3\":\"steelblue\"}\n",
    "my_pal2 = { \"CYLDc0\":\"mediumseagreen\", \"CYLDc1\":\"mediumseagreen\", \"CYLDc2\":\"mediumseagreen\", \"CYLDc3\":\"mediumseagreen\"}\n",
    "my_pal3 = {\"Cluster0\": \"indianred\", \"Cluster1\": \"indianred\", \"Cluster2\":\"indianred\", \"Cluster3\":\"indianred\"}\n",
    "b = sns.swarmplot(x=\"value\", y=\"variable\", data=pd.melt(dfa20), zorder=1, palette=my_pal, alpha=1)\n",
    "b2 = sns.swarmplot(x=\"value\", y=\"variable\", data=pd.melt(dfcyld), zorder=2, palette=my_pal2, alpha=0.8)\n",
    "b3 = sns.swarmplot(x=\"value\", y=\"variable\", data=pd.melt(dfwt), zorder=3, palette=my_pal3, alpha=0.6)\n",
    "b.set_xlabel(\"Time (minutes)\",fontsize=20)\n",
    "b.set_ylabel(\"All Clusters\",fontsize=20)\n",
    "b.tick_params(labelsize=20)\n",
    "plt.xlim(xmax = 1800, xmin = 0)\n",
    "plt.savefig('pmlkl_100tnf_allwta20cyldclusbox_wswarm_5720new1228.pdf')\n",
    "# plt.savefig('figs/pmlkl_100tnf_allclusbox_wswarmtrans_5720newhalfmax1228.pdf')\n",
    "plt.show()"
   ]
  },
  {
   "cell_type": "code",
   "execution_count": null,
   "metadata": {},
   "outputs": [],
   "source": []
  },
  {
   "cell_type": "code",
   "execution_count": null,
   "metadata": {},
   "outputs": [],
   "source": [
    "cluswtall1 = pd.DataFrame({'WT0': df_threshtimesc0100wtn['MLKLa_obs'], \n",
    "                        'WT1': df_threshtimesc1100wtn['MLKLa_obs'],\n",
    "                        'WT2': df_threshtimesc2100wtn['MLKLa_obs'],\n",
    "                     'WT3': df_threshtimesc3100wn['MLKLa_obs']})"
   ]
  },
  {
   "cell_type": "code",
   "execution_count": null,
   "metadata": {},
   "outputs": [],
   "source": [
    "dfwtall = pd.DataFrame(data = cluswtall1, columns = ['WT0','WT1', 'WT2','WT3'])"
   ]
  },
  {
   "cell_type": "code",
   "execution_count": null,
   "metadata": {},
   "outputs": [],
   "source": [
    "plt.figure(figsize = (15,10))\n",
    "my_pal = { \"WT0\":\"indianred\", \"WT1\":\"indianred\",\"WT2\":\"indianred\", \"WT3\":\"indianred\"}\n",
    "# b = sns.boxplot(x = \"value\", y =\"variable\", data = pd.melt(df), notch = True, width = 0.8, palette = my_pal)\n",
    "b = sns.swarmplot(x=\"value\", y=\"variable\", data=pd.melt(dfwtall), zorder=2, palette=my_pal)\n",
    "b.set_xlabel(\"Time (minutes)\",fontsize=20)\n",
    "b.set_ylabel(\"All Clusters\",fontsize=20)\n",
    "b.tick_params(labelsize=20)\n",
    "plt.xlim(xmax = 1800, xmin = 0)\n",
    "# plt.savefig('figs/pmlkl_100tnf_allcluskoa20_swarm_5720modnew.pdf')\n",
    "plt.savefig('pmlkl_100tnf_wtallclusbox_wswarm_5720new1228.pdf')\n",
    "plt.show()"
   ]
  },
  {
   "cell_type": "code",
   "execution_count": null,
   "metadata": {},
   "outputs": [],
   "source": [
    "clusa20 = pd.DataFrame({'A20c0': df_threshtimesc0100a20n['MLKLa_obs'], \n",
    "                        'A20c1': df_threshtimesc1100a20n['MLKLa_obs'],\n",
    "                        'A20c2': df_threshtimesc2100a20n['MLKLa_obs'],\n",
    "                     'A20c3': df_threshtimesc3100a20n['MLKLa_obs']})"
   ]
  },
  {
   "cell_type": "code",
   "execution_count": null,
   "metadata": {},
   "outputs": [],
   "source": [
    "dfa20 = pd.DataFrame(data = clusa20, columns = ['A20c0', 'A20c1','A20c2','A20c3'])"
   ]
  },
  {
   "cell_type": "code",
   "execution_count": null,
   "metadata": {},
   "outputs": [],
   "source": [
    "plt.figure(figsize = (15,10))\n",
    "my_pal = { \"A20c0\":\"steelblue\", \"A20c1\":\"steelblue\", \"A20c2\":\"steelblue\", \"A20c3\":\"steelblue\"}\n",
    "# b = sns.boxplot(x = \"value\", y =\"variable\", data = pd.melt(df), notch = True, width = 0.8, palette = my_pal)\n",
    "b = sns.swarmplot(x=\"value\", y=\"variable\", data=pd.melt(dfa20), zorder=2, palette=my_pal)\n",
    "b.set_xlabel(\"Time (minutes)\",fontsize=15)\n",
    "b.set_ylabel(\"All Clusters\",fontsize=15)\n",
    "b.tick_params(labelsize=15)\n",
    "plt.xlim(xmax = 1800, xmin = 0)\n",
    "# plt.savefig('figs/pmlkl_100tnf_allcluskoa20_swarm_5720modnew.pdf')\n",
    "# plt.savefig('pmlkl_100tnf_a20koallclusbox_wswarm_5720new.pdf')\n",
    "plt.show()"
   ]
  },
  {
   "cell_type": "code",
   "execution_count": null,
   "metadata": {},
   "outputs": [],
   "source": [
    "plt.figure(figsize = (15,10))\n",
    "my_pal = { \"A20c0\":\"steelblue\", \"A20c1\":\"steelblue\", \"A20c2\":\"steelblue\", \"A20c3\":\"steelblue\"}\n",
    "# b = sns.boxplot(x = \"value\", y =\"variable\", data = pd.melt(df), notch = True, width = 0.8, palette = my_pal)\n",
    "b = sns.swarmplot(x=\"value\", y=\"variable\", data=pd.melt(dfa20), zorder=2, palette=my_pal)\n",
    "b.set_xlabel(\"Time (minutes)\",fontsize=15)\n",
    "b.set_ylabel(\"All Clusters\",fontsize=15)\n",
    "b.tick_params(labelsize=15)\n",
    "plt.xlim(xmax = 1800, xmin = 0)\n",
    "# plt.savefig('figs/pmlkl_100tnf_allcluskoa20_swarm_5720modnew.pdf')\n",
    "plt.savefig('pmlkl_100tnf_a20koallclusbox_wswarm_5720new.pdf')\n",
    "plt.show()"
   ]
  },
  {
   "cell_type": "code",
   "execution_count": null,
   "metadata": {},
   "outputs": [],
   "source": []
  },
  {
   "cell_type": "code",
   "execution_count": null,
   "metadata": {},
   "outputs": [],
   "source": [
    "cluscyld = pd.DataFrame({'CYLDc0': df_threshtimesc0100cyldn['MLKLa_obs'], \n",
    "                        'CYLDc1': df_threshtimesc1100cyldn['MLKLa_obs'],\n",
    "                        'CYLDc2': df_threshtimesc2100cyldn['MLKLa_obs'],\n",
    "                     'CYLDc3': df_threshtimesc3100cyldn['MLKLa_obs']})"
   ]
  },
  {
   "cell_type": "code",
   "execution_count": null,
   "metadata": {},
   "outputs": [],
   "source": [
    "dfcyld = pd.DataFrame(data = cluscyld, columns = ['CYLDc0', 'CYLDc1','CYLDc2','CYLDc3'])"
   ]
  },
  {
   "cell_type": "code",
   "execution_count": null,
   "metadata": {},
   "outputs": [],
   "source": [
    "plt.figure(figsize = (15,10))\n",
    "my_pal = { \"CYLDc0\":\"mediumseagreen\", \"CYLDc1\":\"mediumseagreen\", \"CYLDc2\":\"mediumseagreen\", \"CYLDc3\":\"mediumseagreen\"}\n",
    "# b = sns.boxplot(x = \"value\", y =\"variable\", data = pd.melt(dfcyld), notch = True, width = 0.8, palette = my_pal)\n",
    "b = sns.swarmplot(x=\"value\", y=\"variable\", data=pd.melt(dfcyld), zorder=2, palette=my_pal)\n",
    "b.set_xlabel(\"Time (minutes)\",fontsize=15)\n",
    "b.set_ylabel(\"All Clusters\",fontsize=15)\n",
    "b.tick_params(labelsize=15)\n",
    "plt.xlim(xmax = 1800, xmin = 0)\n",
    "# plt.savefig('figs/pmlkl_100tnf_allcluskocyld_swarm_5720modnew.pdf')\n",
    "# plt.savefig('pmlkl_100tnf_cyldkoallclusbox_wswarm_5720new.pdf')\n",
    "plt.show()"
   ]
  },
  {
   "cell_type": "code",
   "execution_count": null,
   "metadata": {},
   "outputs": [],
   "source": [
    "plt.figure(figsize = (15,10))\n",
    "my_pal = { \"CYLDc0\":\"mediumseagreen\", \"CYLDc1\":\"mediumseagreen\", \"CYLDc2\":\"mediumseagreen\", \"CYLDc3\":\"mediumseagreen\"}\n",
    "# b = sns.boxplot(x = \"value\", y =\"variable\", data = pd.melt(dfcyld), notch = True, width = 0.8, palette = my_pal)\n",
    "b = sns.swarmplot(x=\"value\", y=\"variable\", data=pd.melt(dfcyld), zorder=2, palette=my_pal)\n",
    "b.set_xlabel(\"Time (minutes)\",fontsize=15)\n",
    "b.set_ylabel(\"All Clusters\",fontsize=15)\n",
    "b.tick_params(labelsize=15)\n",
    "plt.xlim(xmax = 1800, xmin = 0)\n",
    "# plt.savefig('figs/pmlkl_100tnf_allcluskocyld_swarm_5720modnew.pdf')\n",
    "plt.savefig('pmlkl_100tnf_cyldkoallclusbox_wswarm_5720new.pdf')\n",
    "plt.show()"
   ]
  },
  {
   "cell_type": "code",
   "execution_count": null,
   "metadata": {},
   "outputs": [],
   "source": []
  },
  {
   "cell_type": "code",
   "execution_count": null,
   "metadata": {},
   "outputs": [],
   "source": []
  },
  {
   "cell_type": "code",
   "execution_count": null,
   "metadata": {},
   "outputs": [],
   "source": []
  },
  {
   "cell_type": "code",
   "execution_count": null,
   "metadata": {},
   "outputs": [],
   "source": []
  },
  {
   "cell_type": "code",
   "execution_count": null,
   "metadata": {},
   "outputs": [],
   "source": []
  },
  {
   "cell_type": "code",
   "execution_count": null,
   "metadata": {},
   "outputs": [],
   "source": [
    "solvercp0 = ScipyOdeSimulator(model100, tspan=tspan, verbose = True)\n",
    "cpclus0 = solvercp0.run(initials = {m.cIAP(btraf=None):2700},\n",
    "                         param_values=clus0_100, num_processors = 20)\n",
    "# a20clus0.save('h5files5720/pydyno_s36prod_5k_5620_100tnf_cluster0pars_72hra20ko.h5',include_obs_exprs = True)\n",
    "c0df100cp = cpclus0.dataframe"
   ]
  },
  {
   "cell_type": "code",
   "execution_count": null,
   "metadata": {},
   "outputs": [],
   "source": [
    "solvercp1 = ScipyOdeSimulator(model100, tspan=tspan, verbose = True)\n",
    "cpclus1 = solvercp1.run(initials = {m.cIAP(btraf=None):2700},\n",
    "                         param_values=clus1_100, num_processors = 20)\n",
    "# a20clus1.save('h5files5720/pydyno_s36prod_5k_5620_100tnf_cluster1pars_72hra20ko.h5',include_obs_exprs = True)\n",
    "c1df100cp = cpclus1.dataframe"
   ]
  },
  {
   "cell_type": "code",
   "execution_count": null,
   "metadata": {},
   "outputs": [],
   "source": [
    "solvercp2 = ScipyOdeSimulator(model100, tspan=tspan, verbose = True)\n",
    "cpclus2 = solvercp2.run(initials = {m.cIAP(btraf=None):2700},\n",
    "                         param_values=clus2_100, num_processors = 20)\n",
    "# a20clus2.save('h5files5720/pydyno_s36prod_5k_5620_100tnf_cluster2pars_72hra20ko.h5',include_obs_exprs = True)\n",
    "c2df100cp = cpclus2.dataframe"
   ]
  },
  {
   "cell_type": "code",
   "execution_count": null,
   "metadata": {},
   "outputs": [],
   "source": [
    "solvercp3 = ScipyOdeSimulator(model100, tspan=tspan, verbose = True)\n",
    "cpclus3 = solvercp3.run(initials = {m.cIAP(btraf=None):2700},\n",
    "                         param_values=clus3_100, num_processors = 20)\n",
    "# a20clus3.save('h5files5720/pydyno_s36prod_5k_5620_100tnf_cluster3pars_72hra20ko.h5',include_obs_exprs = True)\n",
    "c3df100cp = cpclus3.dataframe"
   ]
  },
  {
   "cell_type": "code",
   "execution_count": null,
   "metadata": {},
   "outputs": [],
   "source": [
    "import matplotlib\n",
    "matplotlib.rc('xtick', labelsize=14) \n",
    "matplotlib.rc('ytick', labelsize=14) \n",
    "fig, ((ax1, ax2), (ax3, ax4)) = plt.subplots(2,2, figsize = (15,10))\n",
    "# tspan = np.linspace(0, 1440, 300)\n",
    "for n in range(len(clus0_100)):\n",
    "#     ax1.vlines(x = 600, ymin = 0, ymax = 5544, linestyle = 'dashed', colors= 'r', zorder = 2, label ='50% pMLKL')\n",
    "    ax1.plot(tspan/60, c0df100cp.loc[n]['MLKLa_obs'].iloc[:]/5544, lw=1.5, color ='blue', zorder = 1, alpha = 0.3)\n",
    "    ax1.errorbar(x1001/60, y1001,\n",
    "                 yerr=[(0, 0.00885691708746097,0.0161886154261265,0.0373005242261882),\n",
    "                 (.07,.07,.07,.07)],\n",
    "                       fmt='.k', ecolor ='black', alpha = 0.75, zorder = 2)\n",
    "    ax1.errorbar(x1002/60, y1002,\n",
    "                 yerr= .07, fmt='.k', ecolor ='black', alpha = 0.75, zorder = 2)\n",
    "    plt.legend(['clus0'], loc = 'best', fontsize = 14)\n",
    "#     plt.ylim(ymax = 5544, ymin =0)\n",
    "#     plt.xlim(xmax = 1440, xmin = 0)\n",
    "    plt.xticks(fontsize=14)\n",
    "    plt.yticks(fontsize=14)\n",
    "    ax1.set_xlim(xmin = 0, xmax = 24)\n",
    "    ax1.set_ylim(ymin = 0)\n",
    "    plt.xticks(fontsize=14)\n",
    "    plt.yticks(fontsize=14)\n",
    "    ax1.grid(False)  \n",
    "    custom_lines = [Line2D([0], [0], color='blue', lw=4),\n",
    "                   Line2D([0], [0], color='black', lw=4)]\n",
    "    ax1.legend(custom_lines, ['Clus0', 'pMLKL Data'], prop={'size': 12}, loc = 'best')\n",
    "    \n",
    "# tspan2 = np.linspace(0, 2160, 300)    \n",
    "for n in range(len(clus1_100)):\n",
    "#     ax2.vlines(x = 600, ymin = 0, ymax = 5544, linestyle = 'dashed', colors= 'r', zorder = 2, label= '50% pMLKL')\n",
    "    ax2.plot(tspan/60, c1df100cp.loc[n]['MLKLa_obs'].iloc[:]/5544,lw=1.5, color ='blue', zorder = 1, alpha = 0.3)\n",
    "    ax2.errorbar(x1001/60, y1001,\n",
    "                 yerr=[(0, 0.00885691708746097,0.0161886154261265,0.0373005242261882),\n",
    "                 (.07,.07,.07,.07)],\n",
    "                       fmt='.k', ecolor ='black', alpha = 0.75, zorder = 2)\n",
    "    ax2.errorbar(x1002/60, y1002,\n",
    "                 yerr= .07, fmt='.k', ecolor ='black', alpha = 0.75, zorder = 2)\n",
    "    plt.xticks(fontsize=14)\n",
    "    plt.yticks(fontsize=14)\n",
    "    ax2.set_xlim(xmin = 0, xmax = 24)\n",
    "    ax2.set_ylim(ymin = 0)\n",
    "    ax2.grid(False)  \n",
    "    custom_lines = [Line2D([0], [0], color='blue', lw=4),\n",
    "                   Line2D([0], [0], color='black', lw=4)]\n",
    "    ax2.legend(custom_lines, ['Clus1', 'pMLKL Data'], prop={'size': 12}, loc = 'best')\n",
    "    \n",
    "for n in range(len(clus2_100)):\n",
    "#     ax3.vlines(x = 600, ymin = 0, ymax = 5544, linestyle = 'dashed', colors= 'r', zorder = 2, label ='50% pMLKL')\n",
    "    ax3.plot(tspan/60, c2df100cp.loc[n]['MLKLa_obs'].iloc[:]/5544,lw=1.5, color ='blue', zorder = 1, alpha = 0.3)  \n",
    "    ax3.errorbar(x1001/60, y1001,\n",
    "                 yerr=[(0, 0.00885691708746097,0.0161886154261265,0.0373005242261882),\n",
    "                 (.07,.07,.07,.07)],\n",
    "                       fmt='.k', ecolor ='black', alpha = 0.75, zorder = 2)\n",
    "    ax3.errorbar(x1002/60, y1002,\n",
    "                 yerr= .07, fmt='.k', ecolor ='black', alpha = 0.75, zorder = 2)\n",
    "    plt.xticks(fontsize=14)\n",
    "    plt.yticks(fontsize=14)\n",
    "    ax3.set_xlim(xmin = 0, xmax = 24)\n",
    "    ax3.set_ylim(ymin = 0)\n",
    "    ax3.grid(False)  \n",
    "    custom_lines = [Line2D([0], [0], color='blue', lw=4),\n",
    "                   Line2D([0], [0], color='black', lw=4)]\n",
    "    ax3.legend(custom_lines, ['Clus2', 'pMLKL Data'], prop={'size': 12}, loc = 'best')\n",
    "    \n",
    "for n in range(len(clus3_100)):\n",
    "    plt.plot(tspan/60, c3df100cp.loc[n]['MLKLa_obs'].iloc[:]/5544, lw=1.5, color ='blue', zorder = 1, alpha = 0.3)\n",
    "    ax4.errorbar(x1001/60, y1001,\n",
    "                 yerr=[(0, 0.00885691708746097,0.0161886154261265,0.0373005242261882),\n",
    "                 (.07,.07,.07,.07)],\n",
    "                       fmt='.k', ecolor ='black', alpha = 0.75, zorder = 2)\n",
    "    ax4.errorbar(x1002/60, y1002,\n",
    "                 yerr= .07, fmt='.k', ecolor ='black', alpha = 0.75, zorder = 2)\n",
    "    plt.xticks(fontsize=14)\n",
    "    plt.yticks(fontsize=14)\n",
    "#     plt.xlabel(\"Time (in hr)\", fontsize=15)\n",
    "#     plt.ylabel(\"Amount (normalized)\", fontsize=15)\n",
    "    ax4.set_xlim(xmin = 0, xmax = 24)\n",
    "    ax4.set_ylim(ymin = 0)\n",
    "    plt.xticks(fontsize=14)\n",
    "    plt.yticks(fontsize=14)\n",
    "    ax4.grid(False)  \n",
    "    custom_lines = [Line2D([0], [0], color='blue', lw=4),\n",
    "                   Line2D([0], [0], color='black', lw=4)]\n",
    "    ax4.legend(custom_lines, ['Clus3', 'pMLKL Data'], prop={'size': 12}, loc = 'best')\n",
    "    \n",
    "fig.text(0.5, 0.04, 'Time (Hours)', ha='center', va='center',fontsize = 16)\n",
    "fig.text(0.06, 0.5, 'Amount of cIAP OE of pMLKL under 100 ng/ml TNF(Normalized)',\n",
    "         ha='center', va='center', rotation='vertical', fontsize = 16)\n",
    "# plt.savefig('pmlkl_100tnf_4clus_5720_CYLDKO.pdf')\n",
    "plt.show()"
   ]
  },
  {
   "cell_type": "code",
   "execution_count": null,
   "metadata": {},
   "outputs": [],
   "source": [
    "import matplotlib\n",
    "matplotlib.rc('xtick', labelsize=14) \n",
    "matplotlib.rc('ytick', labelsize=14) \n",
    "fig, ((ax1, ax2), (ax3, ax4)) = plt.subplots(2,2, figsize = (15,10))\n",
    "# tspan = np.linspace(0, 1440, 300)\n",
    "for n in range(len(clus0_100)):\n",
    "#     ax1.vlines(x = 600, ymin = 0, ymax = 5544, linestyle = 'dashed', colors= 'r', zorder = 2, label ='50% pMLKL')\n",
    "    ax1.plot(tspan/60, c0df100cp.loc[n]['MLKLa_obs'].iloc[:]/5544, lw=1.5, color ='blue', zorder = 1, alpha = 0.3)\n",
    "    ax1.errorbar(x1001/60, y1001,\n",
    "                 yerr=[(0, 0.00885691708746097,0.0161886154261265,0.0373005242261882),\n",
    "                 (.07,.07,.07,.07)],\n",
    "                       fmt='.k', ecolor ='black', alpha = 0.75, zorder = 2)\n",
    "    ax1.errorbar(x1002/60, y1002,\n",
    "                 yerr= .07, fmt='.k', ecolor ='black', alpha = 0.75, zorder = 2)\n",
    "    plt.legend(['clus0'], loc = 'best', fontsize = 14)\n",
    "#     plt.ylim(ymax = 5544, ymin =0)\n",
    "#     plt.xlim(xmax = 1440, xmin = 0)\n",
    "    plt.xticks(fontsize=14)\n",
    "    plt.yticks(fontsize=14)\n",
    "    ax1.set_xlim(xmin = 0, xmax = 24)\n",
    "    ax1.set_ylim(ymin = 0)\n",
    "    plt.xticks(fontsize=14)\n",
    "    plt.yticks(fontsize=14)\n",
    "    ax1.grid(False)  \n",
    "    custom_lines = [Line2D([0], [0], color='blue', lw=4),\n",
    "                   Line2D([0], [0], color='black', lw=4)]\n",
    "    ax1.legend(custom_lines, ['Clus0', 'pMLKL Data'], prop={'size': 12}, loc = 'best')\n",
    "    \n",
    "# tspan2 = np.linspace(0, 2160, 300)    \n",
    "for n in range(len(clus1_100)):\n",
    "#     ax2.vlines(x = 600, ymin = 0, ymax = 5544, linestyle = 'dashed', colors= 'r', zorder = 2, label= '50% pMLKL')\n",
    "    ax2.plot(tspan/60, c1df100cp.loc[n]['MLKLa_obs'].iloc[:]/5544,lw=1.5, color ='blue', zorder = 1, alpha = 0.3)\n",
    "    ax2.errorbar(x1001/60, y1001,\n",
    "                 yerr=[(0, 0.00885691708746097,0.0161886154261265,0.0373005242261882),\n",
    "                 (.07,.07,.07,.07)],\n",
    "                       fmt='.k', ecolor ='black', alpha = 0.75, zorder = 2)\n",
    "    ax2.errorbar(x1002/60, y1002,\n",
    "                 yerr= .07, fmt='.k', ecolor ='black', alpha = 0.75, zorder = 2)\n",
    "    plt.xticks(fontsize=14)\n",
    "    plt.yticks(fontsize=14)\n",
    "    ax2.set_xlim(xmin = 0, xmax = 24)\n",
    "    ax2.set_ylim(ymin = 0)\n",
    "    ax2.grid(False)  \n",
    "    custom_lines = [Line2D([0], [0], color='blue', lw=4),\n",
    "                   Line2D([0], [0], color='black', lw=4)]\n",
    "    ax2.legend(custom_lines, ['Clus1', 'pMLKL Data'], prop={'size': 12}, loc = 'best')\n",
    "    \n",
    "for n in range(len(clus2_100)):\n",
    "#     ax3.vlines(x = 600, ymin = 0, ymax = 5544, linestyle = 'dashed', colors= 'r', zorder = 2, label ='50% pMLKL')\n",
    "    ax3.plot(tspan/60, c2df100cp.loc[n]['MLKLa_obs'].iloc[:]/5544,lw=1.5, color ='blue', zorder = 1, alpha = 0.3)  \n",
    "    ax3.errorbar(x1001/60, y1001,\n",
    "                 yerr=[(0, 0.00885691708746097,0.0161886154261265,0.0373005242261882),\n",
    "                 (.07,.07,.07,.07)],\n",
    "                       fmt='.k', ecolor ='black', alpha = 0.75, zorder = 2)\n",
    "    ax3.errorbar(x1002/60, y1002,\n",
    "                 yerr= .07, fmt='.k', ecolor ='black', alpha = 0.75, zorder = 2)\n",
    "    plt.xticks(fontsize=14)\n",
    "    plt.yticks(fontsize=14)\n",
    "    ax3.set_xlim(xmin = 0, xmax = 24)\n",
    "    ax3.set_ylim(ymin = 0)\n",
    "    ax3.grid(False)  \n",
    "    custom_lines = [Line2D([0], [0], color='blue', lw=4),\n",
    "                   Line2D([0], [0], color='black', lw=4)]\n",
    "    ax3.legend(custom_lines, ['Clus2', 'pMLKL Data'], prop={'size': 12}, loc = 'best')\n",
    "    \n",
    "for n in range(len(clus3_100)):\n",
    "    plt.plot(tspan/60, c3df100cp.loc[n]['MLKLa_obs'].iloc[:]/5544, lw=1.5, color ='blue', zorder = 1, alpha = 0.3)\n",
    "    ax4.errorbar(x1001/60, y1001,\n",
    "                 yerr=[(0, 0.00885691708746097,0.0161886154261265,0.0373005242261882),\n",
    "                 (.07,.07,.07,.07)],\n",
    "                       fmt='.k', ecolor ='black', alpha = 0.75, zorder = 2)\n",
    "    ax4.errorbar(x1002/60, y1002,\n",
    "                 yerr= .07, fmt='.k', ecolor ='black', alpha = 0.75, zorder = 2)\n",
    "    plt.xticks(fontsize=14)\n",
    "    plt.yticks(fontsize=14)\n",
    "#     plt.xlabel(\"Time (in hr)\", fontsize=15)\n",
    "#     plt.ylabel(\"Amount (normalized)\", fontsize=15)\n",
    "    ax4.set_xlim(xmin = 0, xmax = 24)\n",
    "    ax4.set_ylim(ymin = 0)\n",
    "    plt.xticks(fontsize=14)\n",
    "    plt.yticks(fontsize=14)\n",
    "    ax4.grid(False)  \n",
    "    custom_lines = [Line2D([0], [0], color='blue', lw=4),\n",
    "                   Line2D([0], [0], color='black', lw=4)]\n",
    "    ax4.legend(custom_lines, ['Clus3', 'pMLKL Data'], prop={'size': 12}, loc = 'best')\n",
    "    \n",
    "fig.text(0.5, 0.04, 'Time (Hours)', ha='center', va='center',fontsize = 16)\n",
    "fig.text(0.06, 0.5, 'Amount of cIAP OE of pMLKL under 100 ng/ml TNF(Normalized)',\n",
    "         ha='center', va='center', rotation='vertical', fontsize = 16)\n",
    "# plt.savefig('pmlkl_100tnf_4clus_5720_CYLDKO.pdf')\n",
    "plt.show()"
   ]
  },
  {
   "cell_type": "code",
   "execution_count": null,
   "metadata": {},
   "outputs": [],
   "source": []
  },
  {
   "cell_type": "code",
   "execution_count": null,
   "metadata": {},
   "outputs": [],
   "source": []
  },
  {
   "cell_type": "code",
   "execution_count": null,
   "metadata": {},
   "outputs": [],
   "source": []
  }
 ],
 "metadata": {
  "kernelspec": {
   "display_name": "Python 3",
   "language": "python",
   "name": "python3"
  },
  "language_info": {
   "codemirror_mode": {
    "name": "ipython",
    "version": 3
   },
   "file_extension": ".py",
   "mimetype": "text/x-python",
   "name": "python",
   "nbconvert_exporter": "python",
   "pygments_lexer": "ipython3",
   "version": "3.7.5"
  }
 },
 "nbformat": 4,
 "nbformat_minor": 2
}
