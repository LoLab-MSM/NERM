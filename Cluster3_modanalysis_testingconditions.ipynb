{
 "cells": [
  {
   "cell_type": "code",
   "execution_count": 1,
   "metadata": {},
   "outputs": [],
   "source": [
    "from necro_uncal_new_updated import model as model100\n",
    "import seaborn as sns\n",
    "import numpy as np\n",
    "from matplotlib import pyplot as plt\n",
    "# from necro_pydream_model_file_8920 import model\n",
    "from pysb.simulator import ScipyOdeSimulator\n",
    "import numpy as np\n",
    "from scipy.stats import norm,uniform\n",
    "import seaborn as sns\n",
    "from matplotlib import pyplot as plt\n",
    "import random\n",
    "import os\n",
    "from pylab import *\n",
    "from pysb.core import *\n",
    "from pysb.bng import *\n",
    "from pysb.integrate import *\n",
    "import matplotlib.pyplot as plt\n",
    "import numpy as np\n",
    "from pysb.util import alias_model_components\n",
    "from scipy import stats\n",
    "from pysb.simulator import SimulationResult\n",
    "import pandas as pd\n",
    "import seaborn as sns"
   ]
  },
  {
   "cell_type": "code",
   "execution_count": null,
   "metadata": {
    "scrolled": false
   },
   "outputs": [],
   "source": [
    "for i,pr in enumerate(model100.parameters):\n",
    "    print(i,\":\",pr)"
   ]
  },
  {
   "cell_type": "code",
   "execution_count": null,
   "metadata": {},
   "outputs": [],
   "source": [
    "par_files = np.load('necro_pars10k_allclusmod.npy')"
   ]
  },
  {
   "cell_type": "code",
   "execution_count": 2,
   "metadata": {},
   "outputs": [],
   "source": [
    "clus3_100 = np.load('necro_pars10k_cluster3_5720_mod.npy')\n",
    "clus3_100n = np.load('necro_pars10k_cluster3_5720_mod.npy')\n",
    "clus3_100nn = np.load('necro_pars10k_cluster3_5720_mod.npy')\n",
    "clus3_100nnn = np.load('necro_pars10k_cluster3_5720_mod.npy')\n",
    "clus3_100nnnn = np.load('necro_pars10k_cluster3_5720_mod.npy')\n",
    "# clus3_100 = np.load('necro_pars10k_cluster3_5720_mod.npy')"
   ]
  },
  {
   "cell_type": "code",
   "execution_count": null,
   "metadata": {},
   "outputs": [],
   "source": [
    "print(clus3_100[:][:,48])"
   ]
  },
  {
   "cell_type": "code",
   "execution_count": null,
   "metadata": {},
   "outputs": [],
   "source": [
    "clus3_100n[:][:,42] = clus3_100n[:][:,42]*10"
   ]
  },
  {
   "cell_type": "code",
   "execution_count": null,
   "metadata": {},
   "outputs": [],
   "source": [
    "clus1_100n[:][:,42]"
   ]
  },
  {
   "cell_type": "code",
   "execution_count": null,
   "metadata": {},
   "outputs": [],
   "source": [
    "clus1_100n[:][:,48] = clus1_100n[:][:,48]*10"
   ]
  },
  {
   "cell_type": "code",
   "execution_count": null,
   "metadata": {},
   "outputs": [],
   "source": [
    "clus1_100n[:][:,48] "
   ]
  },
  {
   "cell_type": "code",
   "execution_count": null,
   "metadata": {},
   "outputs": [],
   "source": [
    "clus1_100nn[:][:,48] = clus1_100nn[:][:,48]*100"
   ]
  },
  {
   "cell_type": "code",
   "execution_count": null,
   "metadata": {},
   "outputs": [],
   "source": [
    "clus1_100nn[:][:,45] = clus1_100nn[:][:,45]*100"
   ]
  },
  {
   "cell_type": "code",
   "execution_count": null,
   "metadata": {},
   "outputs": [],
   "source": [
    "clus1_100nn[:][:,42] = clus1_100nn[:][:,42]*100"
   ]
  },
  {
   "cell_type": "code",
   "execution_count": null,
   "metadata": {},
   "outputs": [],
   "source": [
    "clus1_100nn[:][:,42]"
   ]
  },
  {
   "cell_type": "code",
   "execution_count": null,
   "metadata": {},
   "outputs": [],
   "source": [
    "clus1_100nn[:][:,48]"
   ]
  },
  {
   "cell_type": "code",
   "execution_count": null,
   "metadata": {},
   "outputs": [],
   "source": [
    "clus1_100nnnn = np.load('necro_pars10k_cluster1_5720_mod.npy')\n",
    "clus1_100nnn = np.load('necro_pars10k_cluster1_5720_mod.npy')"
   ]
  },
  {
   "cell_type": "code",
   "execution_count": null,
   "metadata": {},
   "outputs": [],
   "source": [
    "clus1_100nnn[:][:,48] = clus1_100nnn[:][:,48]*1000"
   ]
  },
  {
   "cell_type": "code",
   "execution_count": null,
   "metadata": {},
   "outputs": [],
   "source": [
    "clus1_100nnn[:][:,45] = clus1_100nnn[:][:,45]*1000"
   ]
  },
  {
   "cell_type": "code",
   "execution_count": null,
   "metadata": {},
   "outputs": [],
   "source": [
    "clus1_100nnn[:][:,48]"
   ]
  },
  {
   "cell_type": "code",
   "execution_count": null,
   "metadata": {},
   "outputs": [],
   "source": [
    "clus1_100nnnn[:][:,48] = clus1_100nnnn[:][:,48]*10000"
   ]
  },
  {
   "cell_type": "code",
   "execution_count": null,
   "metadata": {},
   "outputs": [],
   "source": [
    "# fig = plt.figure(figsize=(20, 15))\n",
    "# for i in range(1,41):\n",
    "#     ax = fig.add_subplot(8, 5, i)\n",
    "    # plt.plot(samples[:, counter])\n",
    "# fig = plt.figure(figsize=(20, 5))\n",
    "fig, axes = plt.subplots(1, 3, figsize=(20, 5), sharex=True)\n",
    "plt.subplot(131)\n",
    "# sns.distplot(clus1_100[:, 42])\n",
    "sns.distplot(clus1_100[:, 28])\n",
    "# sns.distplot(clus1_100[:, 31])\n",
    "# sns.distplot(clus1_100n[:, 31])\n",
    "# sns.distplot(clus1_100nn[:, 45])\n",
    "# plt.ylim(ymax=0.50)\n",
    "plt.xlim(xmin = -10,xmax=10)\n",
    "plt.xticks(fontsize=14)\n",
    "plt.yticks(fontsize=14)\n",
    "# plt.xticks(np.arange(-10, 11, 5))\n",
    "plt.xticks(fontsize=16)\n",
    "plt.yticks(fontsize=16)\n",
    "# plt.title('RIP1ub + A20/CYLD -> RIP1ub:A20/CYLD',fontsize=15)\n",
    "# plt.xlabel(\"Log(10) Value\", fontsize=20)\n",
    "plt.ylabel(\"Probability\", fontsize=20, labelpad=15)\n",
    "custom_lines = [Line2D([0], [0], color='blue', lw=4),\n",
    "                Line2D([0], [0], color='orange', lw=4)]\n",
    "#                Line2D([0], [0], color='red', lw=4)]\n",
    "# plt.legend(custom_lines, [r'$RIP1trunc$',r'$Necro$', 'c8rip3trunc'], prop={'size': 15}, loc = 'best')\n",
    "plt.subplots_adjust(wspace=0.3)\n",
    "plt.subplots_adjust(hspace=0.6)\n",
    "\n",
    "plt.subplot(132)\n",
    "sns.distplot(clus1_100[:, 29])\n",
    "# sns.distplot(clus1_100[:, 32])\n",
    "# plt.ylim(ymax=0.3)\n",
    "plt.xlim(xmin = -10,xmax=10)\n",
    "plt.xticks(fontsize=14)\n",
    "plt.yticks(fontsize=14)\n",
    "plt.xticks(np.arange(-10, 11, 5))\n",
    "plt.xticks(fontsize=16)\n",
    "plt.yticks(fontsize=16)\n",
    "# plt.title('RIP1ub:A20 -> RIP1ub + A20/CYLD', fontsize=15)\n",
    "plt.xlabel(\"Log(10) Value\", fontsize=20)\n",
    "# plt.ylabel(\"Probability\", fontsize=20, labelpad=15)\n",
    "custom_lines = [Line2D([0], [0], color='blue', lw=4),\n",
    "                Line2D([0], [0], color='orange', lw=4)]\n",
    "# plt.legend(custom_lines, [r'$c8af$',r'$rip3f$'], prop={'size': 15}, loc = 'best')\n",
    "plt.subplots_adjust(wspace=0.3)\n",
    "plt.subplots_adjust(hspace=0.6)\n",
    "plt.subplot(133)\n",
    "sns.distplot(clus1_100[:, 30])\n",
    "# sns.distplot(clus1_100[:, 33])\n",
    "# plt.ylim(ymax=0.3)\n",
    "plt.xlim(xmin = -10,xmax=10)\n",
    "plt.xticks(fontsize=14)\n",
    "plt.yticks(fontsize=14)\n",
    "plt.xticks(np.arange(-10, 11, 5))\n",
    "plt.xticks(fontsize=16)\n",
    "plt.yticks(fontsize=16)\n",
    "# plt.title('RIP1ub:A20/CYLD -> RIP1deub + A20/CYLD',fontsize=15)\n",
    "# plt.xlabel(\"Log(10) Value\", fontsize=17)\n",
    "# plt.ylabel(\"Probability\", fontsize=20, labelpad=15)\n",
    "custom_lines = [Line2D([0], [0], color='blue', lw=4),\n",
    "                Line2D([0], [0], color='orange', lw=4)]\n",
    "# plt.legend(custom_lines, [r'$c8ar$',r'$rip3r$'], prop={'size': 15}, loc = 'best')\n",
    "plt.subplots_adjust(wspace=0.3)\n",
    "plt.subplots_adjust(hspace=0.6)\n",
    "# plt.text(0.5, 0.04, 'common X', ha='center')\n",
    "# plt.text(0.04, 0.5, 'common Y', va='center', rotation='vertical')\n",
    "# plt.xlabel(\"Log(10) Value\", fontsize=14)\n",
    "# plt.ylabel(\"Probability\", fontsize=14, labelpad=15)\n",
    "# plt.savefig('updatedkos/necro_5720_pydream_posta20cyldpardists_allchains5.pdf', format='pdf')\n",
    "# plt.savefig(\"updatedkos/necro_5720_pydream_posta20cyldpardists_allchains5.pdf\")\n",
    "# fig.savefig(\"updatedkos/necro_5720_pydream_posta20cyldpardists_allchains5.pdf\")\n",
    "plt.show()"
   ]
  },
  {
   "cell_type": "code",
   "execution_count": null,
   "metadata": {},
   "outputs": [],
   "source": [
    "x1001 = np.array([0, 30, 90, 270])\n",
    "x1002 = np.array([480, 720, 960])\n",
    "y1001 = np.array([0, 0.00885691708746097,0.0161886154261265,0.0373005242261882])\n",
    "y1002 = np.array([0.2798939020159581, .7797294067, .98])"
   ]
  },
  {
   "cell_type": "code",
   "execution_count": null,
   "metadata": {},
   "outputs": [],
   "source": [
    "m = model100.components"
   ]
  },
  {
   "cell_type": "code",
   "execution_count": null,
   "metadata": {},
   "outputs": [],
   "source": [
    "k = 27"
   ]
  },
  {
   "cell_type": "code",
   "execution_count": null,
   "metadata": {},
   "outputs": [],
   "source": [
    "tspan = np.linspace(0, 1800, 500)\n",
    "solver6785nnn = ScipyOdeSimulator(model100, tspan=tspan, verbose = True)\n",
    "result6785nnn = solver6785nnn.run(param_values=clus1_100[k], num_processors = 10)\n",
    "df1 = result6785nnn.dataframe"
   ]
  },
  {
   "cell_type": "code",
   "execution_count": null,
   "metadata": {},
   "outputs": [],
   "source": [
    "tspan = np.linspace(0, 1800, 500)\n",
    "solver3528 = ScipyOdeSimulator(model100, tspan=tspan, verbose = True)\n",
    "result3528 = solver3528.run(initials = {m.CYLD(brip=None, btraf = None):0},\n",
    "                            param_values=clus1_100[k], num_processors = 10)\n",
    "df2 = result3528.dataframe"
   ]
  },
  {
   "cell_type": "code",
   "execution_count": null,
   "metadata": {},
   "outputs": [],
   "source": [
    "tspan = np.linspace(0, 1800, 500)\n",
    "solver3528 = ScipyOdeSimulator(model100, tspan=tspan, verbose = True)\n",
    "result3528 = solver3528.run(initials = {m.CYLD(brip=None, btraf = None):0}\n",
    "                            , param_values=clus1_100n[k], num_processors = 10)\n",
    "df3 = result3528.dataframe"
   ]
  },
  {
   "cell_type": "code",
   "execution_count": null,
   "metadata": {},
   "outputs": [],
   "source": [
    "solver6785n = ScipyOdeSimulator(model100, tspan=tspan, verbose = True)\n",
    "result6785n = solver6785n.run(initials = {m.CYLD(brip=None, btraf = None):0},param_values=clus1_100nn[k], num_processors = 10)\n",
    "df4 = result6785n.dataframe"
   ]
  },
  {
   "cell_type": "code",
   "execution_count": null,
   "metadata": {},
   "outputs": [],
   "source": [
    "solver6785nn = ScipyOdeSimulator(model100, tspan=tspan, verbose = True)\n",
    "result6785nn = solver6785nn.run(initials = {m.CYLD(brip=None, btraf = None):0},param_values=clus1_100nnn[k], num_processors = 10)\n",
    "df5 = result6785nn.dataframe"
   ]
  },
  {
   "cell_type": "code",
   "execution_count": null,
   "metadata": {},
   "outputs": [],
   "source": [
    "plt.figure(figsize = (8, 6))\n",
    "plt.plot(tspan/60, df1['MLKLa_obs'].iloc[:]/5544, lw=1, color ='red', label = 'WT', zorder = 1, alpha = 0.7,marker = 's')\n",
    "plt.plot(tspan/60, df2['MLKLa_obs'].iloc[:]/5544, lw=1.5, color ='green', label = 'CYLDKO', zorder = 1, alpha = 1, marker = 's')\n",
    "plt.plot(tspan/60, df3['MLKLa_obs'].iloc[:]/5544, lw=1.5, color ='green', label = 'CYLDx10', zorder = 1, alpha = 0.7,linestyle = '--')\n",
    "plt.plot(tspan/60, df4['MLKLa_obs'].iloc[:]/5544, lw=1.5, color ='green',  label = 'CYLDx100',zorder = 1, alpha = 0.7, linestyle = '--')\n",
    "plt.plot(tspan/60, df5['MLKLa_obs'].iloc[:]/5544, lw=1.5, color ='green',  label = 'CYLDx1000',zorder = 1, alpha = 0.7, linestyle = '--')\n",
    "# plt.plot(tspan/60, df6['MLKLa_obs'].iloc[:]/5544, lw=1.5, color ='cyan',  label = 'CYLDx10000',zorder = 1, alpha = 0.7, marker = 'x')\n",
    "# plt.errorbar(x1001/60, y1001,\n",
    "#              yerr=[(0, 0.00885691708746097,0.0161886154261265,0.0373005242261882),\n",
    "#              (.07,.07,.07,.07)],\n",
    "#                    fmt='.k', ecolor ='black', alpha = 0.75, zorder = 2)\n",
    "# plt.errorbar(x1002/60, y1002,\n",
    "#              yerr= .07, fmt='.k', ecolor ='black', alpha = 0.75, zorder = 2)\n",
    "plt.xlim(xmin = 0, xmax = 30)\n",
    "plt.ylim(ymax = 1.01)\n",
    "# custom_lines = [Line2D([0], [0], color='blue', lw=4),\n",
    "#                Line2D([0], [0], color='blue', lw=4),\n",
    "#                Line2D([0], [0], color='blue', lw=4),\n",
    "#                Line2D([0], [0], color='purple', lw=4),\n",
    "#                 Line2D([0], [0], color='blue', lw=4)]\n",
    "# plt.legend( prop={'size': 12}, loc = 'best')\n",
    "plt.legend(['WT', 'CYLDKO'], prop={'size': 14}, loc = 'upper left')\n",
    "plt.xticks(fontsize=14)\n",
    "plt.yticks(fontsize=14)\n",
    "plt.xlabel('Time (hours)', fontsize=18)\n",
    "plt.ylabel('Amount pMLKL (normalized) Cluster 1', fontsize=17)\n",
    "plt.show()   \n"
   ]
  },
  {
   "cell_type": "code",
   "execution_count": null,
   "metadata": {},
   "outputs": [],
   "source": []
  },
  {
   "cell_type": "code",
   "execution_count": null,
   "metadata": {},
   "outputs": [],
   "source": [
    "tspan = np.linspace(0, 1800, 500)\n",
    "solver3528 = ScipyOdeSimulator(model100, tspan=tspan, verbose = True)\n",
    "result3528 = solver3528.run(initials = {m.CYLD(brip=None, btraf = None):0}\n",
    "                            ,param_values=clus1_100n[k], num_processors = 10)\n",
    "df7 = result3528.dataframe"
   ]
  },
  {
   "cell_type": "code",
   "execution_count": null,
   "metadata": {},
   "outputs": [],
   "source": [
    "solver6785n = ScipyOdeSimulator(model100, tspan=tspan, verbose = True)\n",
    "result6785n = solver6785n.run(initials = {m.CYLD(brip=None, btraf = None):0},param_values=clus1_100nn[k], num_processors = 10)\n",
    "df8 = result6785n.dataframe"
   ]
  },
  {
   "cell_type": "code",
   "execution_count": null,
   "metadata": {},
   "outputs": [],
   "source": [
    "plt.figure(figsize = (8, 6))\n",
    "plt.plot(tspan/60, df1['MLKLa_obs'].iloc[:]/5544, lw=1, color ='red', label = 'WT', zorder = 1, alpha = 0.7,marker = 's')\n",
    "plt.plot(tspan/60, df2['MLKLa_obs'].iloc[:]/5544, lw=1.5, color ='green', label = 'CYLDKO', zorder = 1, alpha = 1, marker = 's')\n",
    "plt.plot(tspan/60, df7['MLKLa_obs'].iloc[:]/5544, lw=1.5, color ='green', label = 'CYLDx10m', zorder = 1, alpha = 0.7,linestyle = '--')\n",
    "plt.plot(tspan/60, df8['MLKLa_obs'].iloc[:]/5544, lw=1.5, color ='green',  label = 'CYLDx100m',zorder = 1, alpha = 0.7, linestyle = '--')\n",
    "# plt.plot(tspan/60, df5['MLKLa_obs'].iloc[:]/5544, lw=1.5, color ='green',  label = 'CYLDx1000',zorder = 1, alpha = 0.7, linestyle = '--')\n",
    "plt.xlim(xmin = 0, xmax = 30)\n",
    "plt.ylim(ymax = 1.01)\n",
    "\n",
    "plt.legend(['WT', 'CYLDKO'], prop={'size': 14}, loc = 'upper left')\n",
    "plt.xticks(fontsize=14)\n",
    "plt.yticks(fontsize=14)\n",
    "plt.xlabel('Time (hours)', fontsize=18)\n",
    "plt.ylabel('Amount pMLKL (normalized) Cluster 1', fontsize=17)\n",
    "plt.show()   \n"
   ]
  },
  {
   "cell_type": "code",
   "execution_count": null,
   "metadata": {},
   "outputs": [],
   "source": []
  },
  {
   "cell_type": "code",
   "execution_count": null,
   "metadata": {},
   "outputs": [],
   "source": [
    "solvercyld = ScipyOdeSimulator(model100, tspan=tspan, verbose = True)\n",
    "resultcyld = solvercyld.run(initials = {m.CYLD(brip=None, btraf = None):0},param_values=clus1_100nn, num_processors = 10)\n",
    "dfcyld = resultcyld.dataframe"
   ]
  },
  {
   "cell_type": "code",
   "execution_count": null,
   "metadata": {},
   "outputs": [],
   "source": [
    "solvercyld1 = ScipyOdeSimulator(model100, tspan=tspan, verbose = True)\n",
    "resultcyld1 = solvercyld1.run(initials = {m.CYLD(brip=None, btraf = None):0},param_values=clus1_100nnn, num_processors = 10)\n",
    "dfcyld1 = resultcyld1.dataframe"
   ]
  },
  {
   "cell_type": "code",
   "execution_count": null,
   "metadata": {},
   "outputs": [],
   "source": [
    "plt.figure(figsize = (11,7))\n",
    "for n in range(len(clus1_100)):\n",
    "    plt.plot(tspan/60, dfcyld.loc[n]['MLKLa_obs'].iloc[:]/5544, color = 'green')\n",
    "#     plt.plot(tspan/60, dfcyld1.loc[n]['MLKLa_obs'].iloc[:]/5544, color = 'blue')\n",
    "plt.show()    "
   ]
  },
  {
   "cell_type": "code",
   "execution_count": null,
   "metadata": {},
   "outputs": [],
   "source": [
    "plt.figure(figsize = (11,7))\n",
    "for n in range(len(clus1_100)):\n",
    "    plt.plot(tspan/60, dfcyld.loc[n]['MLKLa_obs'].iloc[:]/5544, color = 'green')\n",
    "#     plt.plot(tspan/60, dfcyld1.loc[n]['MLKLa_obs'].iloc[:]/5544, color = 'blue')\n",
    "plt.show()   "
   ]
  },
  {
   "cell_type": "code",
   "execution_count": null,
   "metadata": {},
   "outputs": [],
   "source": [
    "plt.figure(figsize = (11,7))\n",
    "for n in range(len(clus1_100)):\n",
    "#     plt.plot(tspan/60, dfcyld.loc[n]['MLKLa_obs'].iloc[:]/5544, color = 'green')\n",
    "    plt.plot(tspan/60, dfcyld1.loc[n]['MLKLa_obs'].iloc[:]/5544, color = 'blue')\n",
    "plt.show() "
   ]
  },
  {
   "cell_type": "code",
   "execution_count": null,
   "metadata": {},
   "outputs": [],
   "source": [
    "plt.figure(figsize = (11,7))\n",
    "for n in range(len(clus1_100)):\n",
    "#     plt.plot(tspan/60, dfcyld.loc[n]['MLKLa_obs'].iloc[:]/5544, color = 'green')\n",
    "    plt.plot(tspan/60, dfcyld1.loc[n]['MLKLa_obs'].iloc[:]/5544, color = 'blue')\n",
    "plt.show() "
   ]
  },
  {
   "cell_type": "code",
   "execution_count": null,
   "metadata": {},
   "outputs": [],
   "source": [
    "threshold = 4000\n",
    "threshold2 = 2000"
   ]
  },
  {
   "cell_type": "code",
   "execution_count": null,
   "metadata": {},
   "outputs": [],
   "source": [
    "# df_threshtimesc0100wt = c0df100wt.groupby('simulation').apply(lambda x: (x > threshold).idxmax()).apply(lambda x: [y[1] for y in x])\n",
    "df_threshtimesc0cyld   = dfcyld.groupby('simulation').apply(lambda x: (x > threshold2).idxmax()).apply(lambda x: [y[1] for y in x])\n",
    "df_threshtimesc0cyld1 = dfcyld1.groupby('simulation').apply(lambda x: (x > threshold).idxmax()).apply(lambda x: [y[1] for y in x])"
   ]
  },
  {
   "cell_type": "code",
   "execution_count": null,
   "metadata": {},
   "outputs": [],
   "source": [
    "cluscyld = pd.DataFrame({'CYLDko': df_threshtimesc0cyld['MLKLa_obs'], \n",
    "                          'CYLDkox2': df_threshtimesc0cyld1['MLKLa_obs']})"
   ]
  },
  {
   "cell_type": "code",
   "execution_count": null,
   "metadata": {},
   "outputs": [],
   "source": [
    "dfclus0c = pd.DataFrame(data = cluscyld, columns = ['CYLDko', 'CYLDkox2'])\n",
    "dfclus0c = pd.melt(dfclus0c)"
   ]
  },
  {
   "cell_type": "code",
   "execution_count": null,
   "metadata": {},
   "outputs": [],
   "source": [
    "sns.set(style=\"whitegrid\")\n",
    "plt.figure(figsize = (15,10))\n",
    "my_pal = {\"CYLDko\": \"green\", \"CYLDkox2\":\"green\"}\n",
    "# b = sns.boxplot(x = \"value\", y =\"variable\", data = dfclus0, notch = True, width = 0.5, palette = my_pal)\n",
    "b = sns.swarmplot(x=\"value\", y=\"variable\", data=dfclus0c, zorder=2, palette=my_pal)\n",
    "b.set_xlabel(\"Time (minutes)\",fontsize=15)\n",
    "b.set_ylabel(\"Cluster 0\",fontsize=15)\n",
    "b.tick_params(labelsize=15)\n",
    "plt.xlim(xmax = 1800, xmin = 0)\n",
    "# plt.savefig('figs/pmlkl_100tnf_clus0box_wswarm_5720_mod.pdf')\n",
    "plt.show()"
   ]
  },
  {
   "cell_type": "code",
   "execution_count": null,
   "metadata": {},
   "outputs": [],
   "source": []
  },
  {
   "cell_type": "code",
   "execution_count": null,
   "metadata": {},
   "outputs": [],
   "source": [
    "plt.figure(figsize = (8, 6))\n",
    "plt.plot(tspan/60, df4['MLKLa_obs'].iloc[:]/5544, lw=1, color ='red', label = 'WT', zorder = 1, alpha = 0.7,marker = 's')\n",
    "# plt.plot(tspan/60, df5['MLKLa_obs'].iloc[:]/5544, lw=1.5, color ='blue', label = 'A20KO', zorder = 1, alpha = 1, marker = 'x')\n",
    "# plt.plot(tspan/60, df6['MLKLa_obs'].iloc[:]/5544, lw=1.5, color ='blue', label = 'A20KOx10', zorder = 1, alpha = 1, marker = 'x')\n",
    "# plt.plot(tspan/60, df7['MLKLa_obs'].iloc[:]/5544, lw=1.5, color ='blue',  label = 'A20KOx100',zorder = 1, alpha = 1, marker = 'x')\n",
    "plt.plot(tspan/60, df8['MLKLa_obs'].iloc[:]/5544, lw=1.5, color ='green',  label = 'A20KOx1000',zorder = 1, alpha = 0.7, marker = 'x')\n",
    "# plt.errorbar(x1001/60, y1001,\n",
    "#              yerr=[(0, 0.00885691708746097,0.0161886154261265,0.0373005242261882),\n",
    "#              (.07,.07,.07,.07)],\n",
    "#                    fmt='.k', ecolor ='black', alpha = 0.75, zorder = 2)\n",
    "# plt.errorbar(x1002/60, y1002,\n",
    "#              yerr= .07, fmt='.k', ecolor ='black', alpha = 0.75, zorder = 2)\n",
    "plt.xlim(xmin = 0, xmax = 30)\n",
    "plt.ylim(ymax = 1.01)\n",
    "# custom_lines = [Line2D([0], [0], color='blue', lw=4),\n",
    "#                Line2D([0], [0], color='blue', lw=4),\n",
    "#                Line2D([0], [0], color='blue', lw=4),\n",
    "#                Line2D([0], [0], color='purple', lw=4),\n",
    "#                 Line2D([0], [0], color='blue', lw=4)]\n",
    "# plt.legend( prop={'size': 12}, loc = 'best')\n",
    "plt.xticks(fontsize=14)\n",
    "plt.yticks(fontsize=14)\n",
    "plt.xlabel('Time (hours)', fontsize=18)\n",
    "plt.ylabel('Amount pMLKL (normalized) Cluster 0', fontsize=17)\n",
    "plt.show()   "
   ]
  },
  {
   "cell_type": "code",
   "execution_count": null,
   "metadata": {},
   "outputs": [],
   "source": []
  },
  {
   "cell_type": "code",
   "execution_count": null,
   "metadata": {},
   "outputs": [],
   "source": [
    "solver6785n = ScipyOdeSimulator(model100, tspan=tspan, verbose = True)\n",
    "result6785n = solver6785n.run(initials = {m.A20(brip = None):0},param_values=clus0_100[21], num_processors = 10)\n",
    "df2n = result6785n.dataframe"
   ]
  },
  {
   "cell_type": "code",
   "execution_count": null,
   "metadata": {},
   "outputs": [],
   "source": [
    "plt.figure()\n",
    "plt.plot(tspan/60, df2n['MLKLa_obs'].iloc[:], lw=1.5, color ='blue', zorder = 1, alpha = 0.5)\n",
    "plt.show()   "
   ]
  },
  {
   "cell_type": "code",
   "execution_count": null,
   "metadata": {},
   "outputs": [],
   "source": []
  },
  {
   "cell_type": "code",
   "execution_count": null,
   "metadata": {},
   "outputs": [],
   "source": [
    "solvercyld2 = ScipyOdeSimulator(model100, tspan=tspan, verbose = True)\n",
    "cyldclus2 = solvercyld2.run(initials = { m.CYLD(brip=None, btraf = None):0},\n",
    "                         param_values=clus2_100, num_processors = 20)"
   ]
  },
  {
   "cell_type": "code",
   "execution_count": null,
   "metadata": {},
   "outputs": [],
   "source": [
    "import matplotlib\n",
    "matplotlib.rc('xtick', labelsize=14) \n",
    "matplotlib.rc('ytick', labelsize=14) \n",
    "fig, (ax1, ax2, ax3) = plt.subplots(1,3, figsize = (20,5))\n",
    "# tspan = np.linspace(0, 1440, 300)\n",
    "ax1.plot(tspan/60, df1['MLKLa_obs'].iloc[:]/5544, lw=1.5, color ='blue', zorder = 1, alpha = 0.3)\n",
    "ax1.errorbar(x1001/60, y1001,\n",
    "             yerr=[(0, 0.00885691708746097,0.0161886154261265,0.0373005242261882),\n",
    "             (.07,.07,.07,.07)],\n",
    "                   fmt='.k', ecolor ='red', alpha = 0.75, zorder = 2)\n",
    "ax1.errorbar(x1002/60, y1002,\n",
    "             yerr= .07, fmt='.k', ecolor ='red', alpha = 0.75, zorder = 2)\n",
    "plt.legend(['clus0'], loc = 'best', fontsize = 14)\n",
    "#     plt.ylim(ymax = 5544, ymin =0)\n",
    "#     plt.xlim(xmax = 1440, xmin = 0)\n",
    "plt.xticks(fontsize=14)\n",
    "plt.yticks(fontsize=14)\n",
    "ax1.set_xlim(xmin = 0, xmax = 24)\n",
    "ax1.set_ylim(ymin = 0)\n",
    "plt.xticks(fontsize=14)\n",
    "plt.yticks(fontsize=14)\n",
    "ax1.grid(False)   \n",
    "custom_lines = [Line2D([0], [0], color='blue', lw=4),\n",
    "               Line2D([0], [0], color='red', lw=4)]\n",
    "ax1.legend(custom_lines, ['Clus0', 'pMLKL Data'], prop={'size': 12}, loc = 'best')\n",
    "    \n",
    "\n",
    "ax2.plot(tspan/60,df1n['MLKLa_obs'].iloc[:]/5544,lw=1.5, color ='blue', zorder = 1, alpha = 0.3)\n",
    "ax2.errorbar(x1001/60, y1001,\n",
    "             yerr=[(0, 0.00885691708746097,0.0161886154261265,0.0373005242261882),\n",
    "             (.07,.07,.07,.07)],\n",
    "                   fmt='.k', ecolor ='red', alpha = 0.75, zorder = 2)\n",
    "ax2.errorbar(x1002/60, y1002,\n",
    "             yerr= .07, fmt='.k', ecolor ='red', alpha = 0.75, zorder = 2)\n",
    "plt.xticks(fontsize=14)\n",
    "plt.yticks(fontsize=14)\n",
    "ax2.set_xlim(xmin = 0, xmax = 24)\n",
    "ax2.set_ylim(ymin = 0)\n",
    "ax2.grid(False)  \n",
    "custom_lines = [Line2D([0], [0], color='blue', lw=4),\n",
    "               Line2D([0], [0], color='red', lw=4)]\n",
    "ax2.legend(custom_lines, ['Clus1', 'pMLKL Data'], prop={'size': 12}, loc = 'best')\n",
    "    \n",
    "\n",
    "ax3.plot(tspan/60, df1nn['MLKLa_obs'].iloc[:]/5544,lw=1.5, color ='blue', zorder = 1, alpha = 0.3)  \n",
    "ax3.errorbar(x1001/60, y1001,\n",
    "             yerr=[(0, 0.00885691708746097,0.0161886154261265,0.0373005242261882),\n",
    "             (.07,.07,.07,.07)],\n",
    "                   fmt='.k', ecolor ='red', alpha = 0.75, zorder = 2)\n",
    "ax3.errorbar(x1002/60, y1002,\n",
    "             yerr= .07, fmt='.k', ecolor ='red', alpha = 0.75, zorder = 2)\n",
    "plt.xticks(fontsize=14)\n",
    "plt.yticks(fontsize=14)\n",
    "ax3.set_xlim(xmin = 0, xmax = 24)\n",
    "ax3.set_ylim(ymin = 0)\n",
    "ax3.grid(False)  \n",
    "custom_lines = [Line2D([0], [0], color='blue', lw=4),\n",
    "               Line2D([0], [0], color='red', lw=4)]\n",
    "ax3.legend(custom_lines, ['Clus2', 'pMLKL Data'], prop={'size': 12}, loc = 'best')\n",
    "\n",
    " \n",
    "fig.text(0.5, 0.04, 'Time (Hours)', ha='center', va='center',fontsize = 16)\n",
    "fig.text(0.06, 0.5, 'Amount of Flip pMLKL under 100 ng/ml TNF(Normalized)',\n",
    "         ha='center', va='center', rotation='vertical', fontsize = 13)\n",
    "# plt.savefig('pmlkl_100tnf_4clus_5720_A20KO.pdf')\n",
    "plt.show()"
   ]
  },
  {
   "cell_type": "code",
   "execution_count": null,
   "metadata": {},
   "outputs": [],
   "source": [
    "k = 2211"
   ]
  },
  {
   "cell_type": "code",
   "execution_count": null,
   "metadata": {},
   "outputs": [],
   "source": [
    "tspan = np.linspace(0, 1800, 500)\n",
    "solver3528 = ScipyOdeSimulator(model100, tspan=tspan, verbose = True)\n",
    "result3528 = solver3528.run(param_values=clus0_100[k], num_processors = 10)\n",
    "df11 = result3528.dataframe"
   ]
  },
  {
   "cell_type": "code",
   "execution_count": null,
   "metadata": {},
   "outputs": [],
   "source": [
    "print('running simulations 10')\n",
    "tspan = np.linspace(0, 1800, 500)\n",
    "solver3528n = ScipyOdeSimulator(model100, tspan=tspan, verbose = True)\n",
    "result3528n = solver3528n.run(initials = {m.A20(brip = None):0},param_values=clus0_100[k], num_processors = 10)\n",
    "df1n = result3528n.dataframe"
   ]
  },
  {
   "cell_type": "code",
   "execution_count": null,
   "metadata": {},
   "outputs": [],
   "source": [
    "print('running simulations 10')\n",
    "tspan = np.linspace(0, 1800, 500)\n",
    "solver3528n = ScipyOdeSimulator(model100, tspan=tspan, verbose = True)\n",
    "result3528n = solver3528n.run(initials = {m.CYLD(brip=None, btraf = None):0},param_values=clus0_100[k],\n",
    "                              num_processors = 10)\n",
    "df1nn = result3528n.dataframe"
   ]
  },
  {
   "cell_type": "code",
   "execution_count": null,
   "metadata": {},
   "outputs": [],
   "source": [
    "import matplotlib\n",
    "matplotlib.rc('xtick', labelsize=14) \n",
    "matplotlib.rc('ytick', labelsize=14) \n",
    "fig, (ax1, ax2, ax3) = plt.subplots(1,3, figsize = (20,5))\n",
    "# tspan = np.linspace(0, 1440, 300)\n",
    "ax1.plot(tspan/60, df11['MLKLa_obs'].iloc[:]/5544, lw=1.5, color ='blue', zorder = 1, alpha = 0.3)\n",
    "ax1.errorbar(x1001/60, y1001,\n",
    "             yerr=[(0, 0.00885691708746097,0.0161886154261265,0.0373005242261882),\n",
    "             (.07,.07,.07,.07)],\n",
    "                   fmt='.k', ecolor ='red', alpha = 0.75, zorder = 2)\n",
    "ax1.errorbar(x1002/60, y1002,\n",
    "             yerr= .07, fmt='.k', ecolor ='red', alpha = 0.75, zorder = 2)\n",
    "plt.legend(['clus0'], loc = 'best', fontsize = 14)\n",
    "#     plt.ylim(ymax = 5544, ymin =0)\n",
    "#     plt.xlim(xmax = 1440, xmin = 0)\n",
    "plt.xticks(fontsize=14)\n",
    "plt.yticks(fontsize=14)\n",
    "ax1.set_xlim(xmin = 0, xmax = 24)\n",
    "ax1.set_ylim(ymin = 0)\n",
    "plt.xticks(fontsize=14)\n",
    "plt.yticks(fontsize=14)\n",
    "ax1.grid(False)   \n",
    "custom_lines = [Line2D([0], [0], color='blue', lw=4),\n",
    "               Line2D([0], [0], color='red', lw=4)]\n",
    "ax1.legend(custom_lines, ['Clus0', 'pMLKL Data'], prop={'size': 12}, loc = 'best')\n",
    "    \n",
    "\n",
    "ax2.plot(tspan/60,df1n['MLKLa_obs'].iloc[:]/5544,lw=1.5, color ='blue', zorder = 1, alpha = 0.3)\n",
    "ax2.errorbar(x1001/60, y1001,\n",
    "             yerr=[(0, 0.00885691708746097,0.0161886154261265,0.0373005242261882),\n",
    "             (.07,.07,.07,.07)],\n",
    "                   fmt='.k', ecolor ='red', alpha = 0.75, zorder = 2)\n",
    "ax2.errorbar(x1002/60, y1002,\n",
    "             yerr= .07, fmt='.k', ecolor ='red', alpha = 0.75, zorder = 2)\n",
    "plt.xticks(fontsize=14)\n",
    "plt.yticks(fontsize=14)\n",
    "ax2.set_xlim(xmin = 0, xmax = 24)\n",
    "ax2.set_ylim(ymin = 0)\n",
    "ax2.grid(False)  \n",
    "custom_lines = [Line2D([0], [0], color='blue', lw=4),\n",
    "               Line2D([0], [0], color='red', lw=4)]\n",
    "ax2.legend(custom_lines, ['Clus1', 'pMLKL Data'], prop={'size': 12}, loc = 'best')\n",
    "    \n",
    "\n",
    "ax3.plot(tspan/60, df1nn['MLKLa_obs'].iloc[:]/5544,lw=1.5, color ='blue', zorder = 1, alpha = 0.3)  \n",
    "ax3.errorbar(x1001/60, y1001,\n",
    "             yerr=[(0, 0.00885691708746097,0.0161886154261265,0.0373005242261882),\n",
    "             (.07,.07,.07,.07)],\n",
    "                   fmt='.k', ecolor ='red', alpha = 0.75, zorder = 2)\n",
    "ax3.errorbar(x1002/60, y1002,\n",
    "             yerr= .07, fmt='.k', ecolor ='red', alpha = 0.75, zorder = 2)\n",
    "plt.xticks(fontsize=14)\n",
    "plt.yticks(fontsize=14)\n",
    "ax3.set_xlim(xmin = 0, xmax = 24)\n",
    "ax3.set_ylim(ymin = 0)\n",
    "ax3.grid(False)  \n",
    "custom_lines = [Line2D([0], [0], color='blue', lw=4),\n",
    "               Line2D([0], [0], color='red', lw=4)]\n",
    "ax3.legend(custom_lines, ['Clus2', 'pMLKL Data'], prop={'size': 12}, loc = 'best')\n",
    "\n",
    " \n",
    "fig.text(0.5, 0.04, 'Time (Hours)', ha='center', va='center',fontsize = 16)\n",
    "fig.text(0.06, 0.5, 'Amount of Flip pMLKL under 100 ng/ml TNF(Normalized)',\n",
    "         ha='center', va='center', rotation='vertical', fontsize = 13)\n",
    "# plt.savefig('pmlkl_100tnf_4clus_5720_A20KO.pdf')\n",
    "plt.show()"
   ]
  },
  {
   "cell_type": "code",
   "execution_count": null,
   "metadata": {},
   "outputs": [],
   "source": []
  },
  {
   "cell_type": "code",
   "execution_count": null,
   "metadata": {},
   "outputs": [],
   "source": []
  },
  {
   "cell_type": "code",
   "execution_count": null,
   "metadata": {},
   "outputs": [],
   "source": []
  },
  {
   "cell_type": "code",
   "execution_count": null,
   "metadata": {},
   "outputs": [],
   "source": [
    "solver6785 = ScipyOdeSimulator(model100, tspan=tspan, verbose = True)\n",
    "result6785 = solver6785.run(param_values=par_files[6785], num_processors = 10)\n",
    "df2 = result6785.dataframe"
   ]
  },
  {
   "cell_type": "code",
   "execution_count": null,
   "metadata": {},
   "outputs": [],
   "source": [
    "solver5420 = ScipyOdeSimulator(model100, tspan=tspan, verbose = True)\n",
    "result5420 = solver5420.run(param_values=par_files[5420], num_processors = 10)\n",
    "df3 = result5420.dataframe"
   ]
  },
  {
   "cell_type": "code",
   "execution_count": null,
   "metadata": {},
   "outputs": [],
   "source": [
    "solver4230 = ScipyOdeSimulator(model100, tspan=tspan, verbose = True)\n",
    "result4230 = solver4230.run(param_values=par_files[4230], num_processors = 10)\n",
    "df4 = result4230.dataframe"
   ]
  },
  {
   "cell_type": "code",
   "execution_count": null,
   "metadata": {},
   "outputs": [],
   "source": [
    "import matplotlib\n",
    "matplotlib.rc('xtick', labelsize=14) \n",
    "matplotlib.rc('ytick', labelsize=14) \n",
    "fig, ((ax1, ax2), (ax3, ax4)) = plt.subplots(2,2, figsize = (15,10))\n",
    "# tspan = np.linspace(0, 1440, 300)\n",
    "ax1.plot(tspan/60, df1['MLKLa_obs'].iloc[:]/5544, lw=1.5, color ='blue', zorder = 1, alpha = 0.3)\n",
    "ax1.errorbar(x1001/60, y1001,\n",
    "             yerr=[(0, 0.00885691708746097,0.0161886154261265,0.0373005242261882),\n",
    "             (.07,.07,.07,.07)],\n",
    "                   fmt='.k', ecolor ='red', alpha = 0.75, zorder = 2)\n",
    "ax1.errorbar(x1002/60, y1002,\n",
    "             yerr= .07, fmt='.k', ecolor ='red', alpha = 0.75, zorder = 2)\n",
    "plt.legend(['clus0'], loc = 'best', fontsize = 14)\n",
    "#     plt.ylim(ymax = 5544, ymin =0)\n",
    "#     plt.xlim(xmax = 1440, xmin = 0)\n",
    "plt.xticks(fontsize=14)\n",
    "plt.yticks(fontsize=14)\n",
    "ax1.set_xlim(xmin = 0, xmax = 24)\n",
    "ax1.set_ylim(ymin = 0)\n",
    "plt.xticks(fontsize=14)\n",
    "plt.yticks(fontsize=14)\n",
    "ax1.grid(False)   \n",
    "custom_lines = [Line2D([0], [0], color='blue', lw=4),\n",
    "               Line2D([0], [0], color='red', lw=4)]\n",
    "ax1.legend(custom_lines, ['Clus0', 'pMLKL Data'], prop={'size': 12}, loc = 'best')\n",
    "    \n",
    "\n",
    "ax2.plot(tspan/60,df2['MLKLa_obs'].iloc[:]/5544,lw=1.5, color ='blue', zorder = 1, alpha = 0.3)\n",
    "ax2.errorbar(x1001/60, y1001,\n",
    "             yerr=[(0, 0.00885691708746097,0.0161886154261265,0.0373005242261882),\n",
    "             (.07,.07,.07,.07)],\n",
    "                   fmt='.k', ecolor ='red', alpha = 0.75, zorder = 2)\n",
    "ax2.errorbar(x1002/60, y1002,\n",
    "             yerr= .07, fmt='.k', ecolor ='red', alpha = 0.75, zorder = 2)\n",
    "plt.xticks(fontsize=14)\n",
    "plt.yticks(fontsize=14)\n",
    "ax2.set_xlim(xmin = 0, xmax = 24)\n",
    "ax2.set_ylim(ymin = 0)\n",
    "ax2.grid(False)  \n",
    "custom_lines = [Line2D([0], [0], color='blue', lw=4),\n",
    "               Line2D([0], [0], color='red', lw=4)]\n",
    "ax2.legend(custom_lines, ['Clus1', 'pMLKL Data'], prop={'size': 12}, loc = 'best')\n",
    "    \n",
    "\n",
    "ax3.plot(tspan/60, df3['MLKLa_obs'].iloc[:]/5544,lw=1.5, color ='blue', zorder = 1, alpha = 0.3)  \n",
    "ax3.errorbar(x1001/60, y1001,\n",
    "             yerr=[(0, 0.00885691708746097,0.0161886154261265,0.0373005242261882),\n",
    "             (.07,.07,.07,.07)],\n",
    "                   fmt='.k', ecolor ='red', alpha = 0.75, zorder = 2)\n",
    "ax3.errorbar(x1002/60, y1002,\n",
    "             yerr= .07, fmt='.k', ecolor ='red', alpha = 0.75, zorder = 2)\n",
    "plt.xticks(fontsize=14)\n",
    "plt.yticks(fontsize=14)\n",
    "ax3.set_xlim(xmin = 0, xmax = 24)\n",
    "ax3.set_ylim(ymin = 0)\n",
    "ax3.grid(False)  \n",
    "custom_lines = [Line2D([0], [0], color='blue', lw=4),\n",
    "               Line2D([0], [0], color='red', lw=4)]\n",
    "ax3.legend(custom_lines, ['Clus2', 'pMLKL Data'], prop={'size': 12}, loc = 'best')\n",
    "    \n",
    "ax4.plot(tspan/60, df4['MLKLa_obs'].iloc[:]/5544, lw=1.5, color ='blue', zorder = 1, alpha = 0.3)\n",
    "ax4.errorbar(x1001/60, y1001,\n",
    "             yerr=[(0, 0.00885691708746097,0.0161886154261265,0.0373005242261882),\n",
    "             (.07,.07,.07,.07)],\n",
    "                   fmt='.k', ecolor ='red', alpha = 0.75, zorder = 2)\n",
    "ax4.errorbar(x1002/60, y1002,\n",
    "             yerr= .07, fmt='.k', ecolor ='red', alpha = 0.75, zorder = 2)\n",
    "plt.xticks(fontsize=14)\n",
    "plt.yticks(fontsize=14)\n",
    "#     plt.xlabel(\"Time (in hr)\", fontsize=15)\n",
    "#     plt.ylabel(\"Amount (normalized)\", fontsize=15)\n",
    "ax4.set_xlim(xmin = 0, xmax = 24)\n",
    "ax4.set_ylim(ymin = 0)\n",
    "plt.xticks(fontsize=14)\n",
    "plt.yticks(fontsize=14)\n",
    "ax4.grid(False)  \n",
    "custom_lines = [Line2D([0], [0], color='blue', lw=4),\n",
    "               Line2D([0], [0], color='red', lw=4)]\n",
    "ax4.legend(custom_lines, ['Clus3', 'pMLKL Data'], prop={'size': 12}, loc = 'best')\n",
    " \n",
    "fig.text(0.5, 0.04, 'Time (Hours)', ha='center', va='center',fontsize = 16)\n",
    "fig.text(0.06, 0.5, 'Amount of Flip pMLKL under 100 ng/ml TNF(Normalized)',\n",
    "         ha='center', va='center', rotation='vertical', fontsize = 16)\n",
    "# plt.savefig('pmlkl_100tnf_4clus_5720_A20KO.pdf')\n",
    "plt.show()"
   ]
  },
  {
   "cell_type": "code",
   "execution_count": null,
   "metadata": {},
   "outputs": [],
   "source": []
  },
  {
   "cell_type": "code",
   "execution_count": null,
   "metadata": {},
   "outputs": [],
   "source": [
    "m = model100.components"
   ]
  },
  {
   "cell_type": "code",
   "execution_count": null,
   "metadata": {},
   "outputs": [],
   "source": [
    "solver6785n = ScipyOdeSimulator(model100, tspan=tspan, verbose = True)\n",
    "result6785n = solver6785n.run(initials = {m.A20(brip = None):0},param_values=par_files[6785], num_processors = 10)\n",
    "df2n = result6785n.dataframe"
   ]
  },
  {
   "cell_type": "code",
   "execution_count": null,
   "metadata": {},
   "outputs": [],
   "source": [
    "solver5420n = ScipyOdeSimulator(model100, tspan=tspan, verbose = True)\n",
    "result5420n = solver5420n.run(initials = {m.A20(brip = None):0},param_values=par_files[5420], num_processors = 10)\n",
    "df3n = result5420n.dataframe"
   ]
  },
  {
   "cell_type": "code",
   "execution_count": null,
   "metadata": {
    "scrolled": true
   },
   "outputs": [],
   "source": [
    "solver4230n = ScipyOdeSimulator(model100, tspan=tspan, verbose = True)\n",
    "result4230n = solver4230n.run(initials = {m.A20(brip = None):0},param_values=par_files[4230], num_processors = 10)\n",
    "df4n = result4230n.dataframe"
   ]
  },
  {
   "cell_type": "code",
   "execution_count": null,
   "metadata": {
    "scrolled": false
   },
   "outputs": [],
   "source": [
    "import matplotlib\n",
    "matplotlib.rc('xtick', labelsize=14) \n",
    "matplotlib.rc('ytick', labelsize=14) \n",
    "fig, ((ax1, ax2), (ax3, ax4)) = plt.subplots(2,2, figsize = (15,10))\n",
    "# tspan = np.linspace(0, 1440, 300)\n",
    "ax1.plot(tspan/60, df1n['MLKLa_obs'].iloc[:]/5544, lw=1.5, color ='blue', zorder = 1, alpha = 0.3)\n",
    "ax1.errorbar(x1001/60, y1001,\n",
    "             yerr=[(0, 0.00885691708746097,0.0161886154261265,0.0373005242261882),\n",
    "             (.07,.07,.07,.07)],\n",
    "                   fmt='.k', ecolor ='red', alpha = 0.75, zorder = 2)\n",
    "ax1.errorbar(x1002/60, y1002,\n",
    "             yerr= .07, fmt='.k', ecolor ='red', alpha = 0.75, zorder = 2)\n",
    "plt.legend(['clus0'], loc = 'best', fontsize = 14)\n",
    "#     plt.ylim(ymax = 5544, ymin =0)\n",
    "#     plt.xlim(xmax = 1440, xmin = 0)\n",
    "plt.xticks(fontsize=14)\n",
    "plt.yticks(fontsize=14)\n",
    "ax1.set_xlim(xmin = 0, xmax = 24)\n",
    "ax1.set_ylim(ymin = 0)\n",
    "plt.xticks(fontsize=14)\n",
    "plt.yticks(fontsize=14)\n",
    "ax1.grid(False)   \n",
    "custom_lines = [Line2D([0], [0], color='blue', lw=4),\n",
    "               Line2D([0], [0], color='red', lw=4)]\n",
    "ax1.legend(custom_lines, ['Clus0', 'pMLKL Data'], prop={'size': 12}, loc = 'best')\n",
    "    \n",
    "\n",
    "ax2.plot(tspan/60,df2n['MLKLa_obs'].iloc[:]/5544,lw=1.5, color ='blue', zorder = 1, alpha = 0.3)\n",
    "ax2.errorbar(x1001/60, y1001,\n",
    "             yerr=[(0, 0.00885691708746097,0.0161886154261265,0.0373005242261882),\n",
    "             (.07,.07,.07,.07)],\n",
    "                   fmt='.k', ecolor ='red', alpha = 0.75, zorder = 2)\n",
    "ax2.errorbar(x1002/60, y1002,\n",
    "             yerr= .07, fmt='.k', ecolor ='red', alpha = 0.75, zorder = 2)\n",
    "plt.xticks(fontsize=14)\n",
    "plt.yticks(fontsize=14)\n",
    "ax2.set_xlim(xmin = 0, xmax = 24)\n",
    "ax2.set_ylim(ymin = 0)\n",
    "ax2.grid(False)  \n",
    "custom_lines = [Line2D([0], [0], color='blue', lw=4),\n",
    "               Line2D([0], [0], color='red', lw=4)]\n",
    "ax2.legend(custom_lines, ['Clus1', 'pMLKL Data'], prop={'size': 12}, loc = 'best')\n",
    "    \n",
    "\n",
    "ax3.plot(tspan/60, df3n['MLKLa_obs'].iloc[:]/5544,lw=1.5, color ='blue', zorder = 1, alpha = 0.3)  \n",
    "ax3.errorbar(x1001/60, y1001,\n",
    "             yerr=[(0, 0.00885691708746097,0.0161886154261265,0.0373005242261882),\n",
    "             (.07,.07,.07,.07)],\n",
    "                   fmt='.k', ecolor ='red', alpha = 0.75, zorder = 2)\n",
    "ax3.errorbar(x1002/60, y1002,\n",
    "             yerr= .07, fmt='.k', ecolor ='red', alpha = 0.75, zorder = 2)\n",
    "plt.xticks(fontsize=14)\n",
    "plt.yticks(fontsize=14)\n",
    "ax3.set_xlim(xmin = 0, xmax = 24)\n",
    "ax3.set_ylim(ymin = 0)\n",
    "ax3.grid(False)  \n",
    "custom_lines = [Line2D([0], [0], color='blue', lw=4),\n",
    "               Line2D([0], [0], color='red', lw=4)]\n",
    "ax3.legend(custom_lines, ['Clus2', 'pMLKL Data'], prop={'size': 12}, loc = 'best')\n",
    "    \n",
    "ax4.plot(tspan/60, df4n['MLKLa_obs'].iloc[:]/5544, lw=1.5, color ='blue', zorder = 1, alpha = 0.3)\n",
    "ax4.errorbar(x1001/60, y1001,\n",
    "             yerr=[(0, 0.00885691708746097,0.0161886154261265,0.0373005242261882),\n",
    "             (.07,.07,.07,.07)],\n",
    "                   fmt='.k', ecolor ='red', alpha = 0.75, zorder = 2)\n",
    "ax4.errorbar(x1002/60, y1002,\n",
    "             yerr= .07, fmt='.k', ecolor ='red', alpha = 0.75, zorder = 2)\n",
    "plt.xticks(fontsize=14)\n",
    "plt.yticks(fontsize=14)\n",
    "#     plt.xlabel(\"Time (in hr)\", fontsize=15)\n",
    "#     plt.ylabel(\"Amount (normalized)\", fontsize=15)\n",
    "ax4.set_xlim(xmin = 0, xmax = 24)\n",
    "ax4.set_ylim(ymin = 0)\n",
    "plt.xticks(fontsize=14)\n",
    "plt.yticks(fontsize=14)\n",
    "ax4.grid(False)  \n",
    "custom_lines = [Line2D([0], [0], color='blue', lw=4),\n",
    "               Line2D([0], [0], color='red', lw=4)]\n",
    "ax4.legend(custom_lines, ['Clus3', 'pMLKL Data'], prop={'size': 12}, loc = 'best')\n",
    " \n",
    "fig.text(0.5, 0.04, 'Time (Hours)', ha='center', va='center',fontsize = 16)\n",
    "fig.text(0.06, 0.5, 'Amount of Flip pMLKL under 100 ng/ml TNF(Normalized)',\n",
    "         ha='center', va='center', rotation='vertical', fontsize = 16)\n",
    "# plt.savefig('pmlkl_100tnf_4clus_5720_A20KO.pdf')\n",
    "plt.show()"
   ]
  },
  {
   "cell_type": "code",
   "execution_count": null,
   "metadata": {},
   "outputs": [],
   "source": []
  }
 ],
 "metadata": {
  "kernelspec": {
   "display_name": "Python 3",
   "language": "python",
   "name": "python3"
  },
  "language_info": {
   "codemirror_mode": {
    "name": "ipython",
    "version": 3
   },
   "file_extension": ".py",
   "mimetype": "text/x-python",
   "name": "python",
   "nbconvert_exporter": "python",
   "pygments_lexer": "ipython3",
   "version": "3.7.5"
  }
 },
 "nbformat": 4,
 "nbformat_minor": 2
}
